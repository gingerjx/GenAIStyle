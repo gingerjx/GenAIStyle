{
 "cells": [
  {
   "cell_type": "code",
   "execution_count": 1,
   "metadata": {},
   "outputs": [
    {
     "name": "stdout",
     "output_type": "stream",
     "text": [
      "The autoreload extension is already loaded. To reload it, use:\n",
      "  %reload_ext autoreload\n"
     ]
    }
   ],
   "source": [
    "%load_ext autoreload   \n",
    "%autoreload 2\n",
    "\n",
    "from src import *"
   ]
  },
  {
   "cell_type": "code",
   "execution_count": 2,
   "metadata": {},
   "outputs": [],
   "source": [
    "settings = Settings()"
   ]
  },
  {
   "cell_type": "code",
   "execution_count": 3,
   "metadata": {},
   "outputs": [],
   "source": [
    "dataset = DaigtDataset(settings)\n",
    "dataset.load()"
   ]
  },
  {
   "cell_type": "code",
   "execution_count": 4,
   "metadata": {},
   "outputs": [],
   "source": [
    "dataset.clean()"
   ]
  },
  {
   "cell_type": "code",
   "execution_count": 5,
   "metadata": {},
   "outputs": [
    {
     "name": "stdout",
     "output_type": "stream",
     "text": [
      "Text removed while cleaning: 0.012379704917830402%.\n"
     ]
    }
   ],
   "source": [
    "print(f\"Text removed while cleaning: {DaigtMetadataAnalysis.get_percentage_of_removed_text(dataset)}%.\")"
   ]
  },
  {
   "cell_type": "code",
   "execution_count": 6,
   "metadata": {},
   "outputs": [
    {
     "data": {
      "text/html": [
       "<div>\n",
       "<style scoped>\n",
       "    .dataframe tbody tr th:only-of-type {\n",
       "        vertical-align: middle;\n",
       "    }\n",
       "\n",
       "    .dataframe tbody tr th {\n",
       "        vertical-align: top;\n",
       "    }\n",
       "\n",
       "    .dataframe thead th {\n",
       "        text-align: right;\n",
       "    }\n",
       "</style>\n",
       "<table border=\"1\" class=\"dataframe\">\n",
       "  <thead>\n",
       "    <tr style=\"text-align: right;\">\n",
       "      <th></th>\n",
       "      <th>collection</th>\n",
       "      <th>num_of_syllabes</th>\n",
       "      <th>num_of_complex_words</th>\n",
       "      <th>num_of_sentences</th>\n",
       "      <th>num_of_words</th>\n",
       "      <th>num_of_splits</th>\n",
       "    </tr>\n",
       "  </thead>\n",
       "  <tbody>\n",
       "    <tr>\n",
       "      <th>0</th>\n",
       "      <td>human</td>\n",
       "      <td>13541</td>\n",
       "      <td>982</td>\n",
       "      <td>501</td>\n",
       "      <td>9360</td>\n",
       "      <td>10326</td>\n",
       "    </tr>\n",
       "    <tr>\n",
       "      <th>1</th>\n",
       "      <td>mistral</td>\n",
       "      <td>15878</td>\n",
       "      <td>1904</td>\n",
       "      <td>427</td>\n",
       "      <td>9150</td>\n",
       "      <td>10268</td>\n",
       "    </tr>\n",
       "    <tr>\n",
       "      <th>2</th>\n",
       "      <td>llama</td>\n",
       "      <td>14343</td>\n",
       "      <td>1370</td>\n",
       "      <td>510</td>\n",
       "      <td>9136</td>\n",
       "      <td>10217</td>\n",
       "    </tr>\n",
       "    <tr>\n",
       "      <th>3</th>\n",
       "      <td>gpt</td>\n",
       "      <td>15901</td>\n",
       "      <td>1858</td>\n",
       "      <td>453</td>\n",
       "      <td>9172</td>\n",
       "      <td>10260</td>\n",
       "    </tr>\n",
       "    <tr>\n",
       "      <th>4</th>\n",
       "      <td>claude</td>\n",
       "      <td>16900</td>\n",
       "      <td>2154</td>\n",
       "      <td>512</td>\n",
       "      <td>9196</td>\n",
       "      <td>10119</td>\n",
       "    </tr>\n",
       "    <tr>\n",
       "      <th>5</th>\n",
       "      <td>falcon</td>\n",
       "      <td>16472</td>\n",
       "      <td>2113</td>\n",
       "      <td>429</td>\n",
       "      <td>9226</td>\n",
       "      <td>10266</td>\n",
       "    </tr>\n",
       "    <tr>\n",
       "      <th>6</th>\n",
       "      <td>palm</td>\n",
       "      <td>14543</td>\n",
       "      <td>1536</td>\n",
       "      <td>527</td>\n",
       "      <td>8989</td>\n",
       "      <td>10184</td>\n",
       "    </tr>\n",
       "    <tr>\n",
       "      <th>7</th>\n",
       "      <td>cohere</td>\n",
       "      <td>14837</td>\n",
       "      <td>1565</td>\n",
       "      <td>464</td>\n",
       "      <td>9221</td>\n",
       "      <td>10242</td>\n",
       "    </tr>\n",
       "    <tr>\n",
       "      <th>8</th>\n",
       "      <td>ada</td>\n",
       "      <td>13995</td>\n",
       "      <td>1190</td>\n",
       "      <td>573</td>\n",
       "      <td>9290</td>\n",
       "      <td>10275</td>\n",
       "    </tr>\n",
       "    <tr>\n",
       "      <th>9</th>\n",
       "      <td>babbage</td>\n",
       "      <td>14469</td>\n",
       "      <td>1430</td>\n",
       "      <td>547</td>\n",
       "      <td>9387</td>\n",
       "      <td>10269</td>\n",
       "    </tr>\n",
       "    <tr>\n",
       "      <th>10</th>\n",
       "      <td>curie</td>\n",
       "      <td>14364</td>\n",
       "      <td>1437</td>\n",
       "      <td>581</td>\n",
       "      <td>9203</td>\n",
       "      <td>10221</td>\n",
       "    </tr>\n",
       "    <tr>\n",
       "      <th>11</th>\n",
       "      <td>davinci</td>\n",
       "      <td>14555</td>\n",
       "      <td>1452</td>\n",
       "      <td>521</td>\n",
       "      <td>9234</td>\n",
       "      <td>10223</td>\n",
       "    </tr>\n",
       "  </tbody>\n",
       "</table>\n",
       "</div>"
      ],
      "text/plain": [
       "   collection num_of_syllabes num_of_complex_words num_of_sentences  \\\n",
       "0       human           13541                  982              501   \n",
       "1     mistral           15878                 1904              427   \n",
       "2       llama           14343                 1370              510   \n",
       "3         gpt           15901                 1858              453   \n",
       "4      claude           16900                 2154              512   \n",
       "5      falcon           16472                 2113              429   \n",
       "6        palm           14543                 1536              527   \n",
       "7      cohere           14837                 1565              464   \n",
       "8         ada           13995                 1190              573   \n",
       "9     babbage           14469                 1430              547   \n",
       "10      curie           14364                 1437              581   \n",
       "11    davinci           14555                 1452              521   \n",
       "\n",
       "   num_of_words num_of_splits  \n",
       "0          9360         10326  \n",
       "1          9150         10268  \n",
       "2          9136         10217  \n",
       "3          9172         10260  \n",
       "4          9196         10119  \n",
       "5          9226         10266  \n",
       "6          8989         10184  \n",
       "7          9221         10242  \n",
       "8          9290         10275  \n",
       "9          9387         10269  \n",
       "10         9203         10221  \n",
       "11         9234         10223  "
      ]
     },
     "execution_count": 6,
     "metadata": {},
     "output_type": "execute_result"
    }
   ],
   "source": [
    "preprocessing_results = DaigtPreprocessing(settings).preprocess(dataset)\n",
    "preprocessing_results.info()"
   ]
  },
  {
   "cell_type": "code",
   "execution_count": 8,
   "metadata": {},
   "outputs": [],
   "source": [
    "metrics_analysis_results = DaigtMetricsAnalysis().analyze(preprocessing_results)"
   ]
  }
 ],
 "metadata": {
  "kernelspec": {
   "display_name": ".venv",
   "language": "python",
   "name": "python3"
  },
  "language_info": {
   "codemirror_mode": {
    "name": "ipython",
    "version": 3
   },
   "file_extension": ".py",
   "mimetype": "text/x-python",
   "name": "python",
   "nbconvert_exporter": "python",
   "pygments_lexer": "ipython3",
   "version": "3.12.1"
  }
 },
 "nbformat": 4,
 "nbformat_minor": 2
}
