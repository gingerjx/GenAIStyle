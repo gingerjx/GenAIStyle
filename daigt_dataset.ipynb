{
 "cells": [
  {
   "cell_type": "code",
   "execution_count": 1,
   "metadata": {},
   "outputs": [
    {
     "name": "stdout",
     "output_type": "stream",
     "text": [
      "The autoreload extension is already loaded. To reload it, use:\n",
      "  %reload_ext autoreload\n"
     ]
    }
   ],
   "source": [
    "%load_ext autoreload   \n",
    "%autoreload 2\n",
    "\n",
    "from src import *"
   ]
  },
  {
   "cell_type": "code",
   "execution_count": 2,
   "metadata": {},
   "outputs": [],
   "source": [
    "settings = Settings()"
   ]
  },
  {
   "cell_type": "code",
   "execution_count": 3,
   "metadata": {},
   "outputs": [],
   "source": [
    "dataset = DaigtDataset(settings)\n",
    "dataset.load()"
   ]
  },
  {
   "cell_type": "code",
   "execution_count": 4,
   "metadata": {},
   "outputs": [],
   "source": [
    "dataset.clean()"
   ]
  },
  {
   "cell_type": "code",
   "execution_count": 5,
   "metadata": {},
   "outputs": [
    {
     "name": "stdout",
     "output_type": "stream",
     "text": [
      "Text removed while cleaning: 0.012379704917830402%.\n"
     ]
    }
   ],
   "source": [
    "print(f\"Text removed while cleaning: {DaigtMetadataAnalysis.get_percentage_of_removed_text(dataset)}%.\")"
   ]
  },
  {
   "cell_type": "code",
   "execution_count": 6,
   "metadata": {},
   "outputs": [
    {
     "data": {
      "text/html": [
       "<div>\n",
       "<style scoped>\n",
       "    .dataframe tbody tr th:only-of-type {\n",
       "        vertical-align: middle;\n",
       "    }\n",
       "\n",
       "    .dataframe tbody tr th {\n",
       "        vertical-align: top;\n",
       "    }\n",
       "\n",
       "    .dataframe thead th {\n",
       "        text-align: right;\n",
       "    }\n",
       "</style>\n",
       "<table border=\"1\" class=\"dataframe\">\n",
       "  <thead>\n",
       "    <tr style=\"text-align: right;\">\n",
       "      <th></th>\n",
       "      <th>collection</th>\n",
       "      <th>num_of_syllabes</th>\n",
       "      <th>num_of_complex_words</th>\n",
       "      <th>num_of_sentences</th>\n",
       "      <th>num_of_words</th>\n",
       "      <th>num_of_splits</th>\n",
       "    </tr>\n",
       "  </thead>\n",
       "  <tbody>\n",
       "    <tr>\n",
       "      <th>0</th>\n",
       "      <td>human</td>\n",
       "      <td>16534054</td>\n",
       "      <td>1132449</td>\n",
       "      <td>571895</td>\n",
       "      <td>11498133</td>\n",
       "      <td>12626085</td>\n",
       "    </tr>\n",
       "    <tr>\n",
       "      <th>1</th>\n",
       "      <td>mistral</td>\n",
       "      <td>10679300</td>\n",
       "      <td>1303559</td>\n",
       "      <td>285237</td>\n",
       "      <td>6069118</td>\n",
       "      <td>6776800</td>\n",
       "    </tr>\n",
       "    <tr>\n",
       "      <th>2</th>\n",
       "      <td>llama</td>\n",
       "      <td>8925648</td>\n",
       "      <td>901248</td>\n",
       "      <td>295540</td>\n",
       "      <td>5576315</td>\n",
       "      <td>6250480</td>\n",
       "    </tr>\n",
       "    <tr>\n",
       "      <th>3</th>\n",
       "      <td>gpt</td>\n",
       "      <td>2102310</td>\n",
       "      <td>245189</td>\n",
       "      <td>61041</td>\n",
       "      <td>1220047</td>\n",
       "      <td>1368602</td>\n",
       "    </tr>\n",
       "    <tr>\n",
       "      <th>4</th>\n",
       "      <td>claude</td>\n",
       "      <td>1130777</td>\n",
       "      <td>140499</td>\n",
       "      <td>34997</td>\n",
       "      <td>621079</td>\n",
       "      <td>686557</td>\n",
       "    </tr>\n",
       "    <tr>\n",
       "      <th>5</th>\n",
       "      <td>falcon</td>\n",
       "      <td>3025621</td>\n",
       "      <td>377694</td>\n",
       "      <td>84050</td>\n",
       "      <td>1708179</td>\n",
       "      <td>1909399</td>\n",
       "    </tr>\n",
       "    <tr>\n",
       "      <th>6</th>\n",
       "      <td>palm</td>\n",
       "      <td>1081158</td>\n",
       "      <td>109939</td>\n",
       "      <td>42875</td>\n",
       "      <td>678377</td>\n",
       "      <td>771497</td>\n",
       "    </tr>\n",
       "    <tr>\n",
       "      <th>7</th>\n",
       "      <td>cohere</td>\n",
       "      <td>182736</td>\n",
       "      <td>19642</td>\n",
       "      <td>5791</td>\n",
       "      <td>112957</td>\n",
       "      <td>125297</td>\n",
       "    </tr>\n",
       "    <tr>\n",
       "      <th>8</th>\n",
       "      <td>ada</td>\n",
       "      <td>236731</td>\n",
       "      <td>21785</td>\n",
       "      <td>8902</td>\n",
       "      <td>154673</td>\n",
       "      <td>170596</td>\n",
       "    </tr>\n",
       "    <tr>\n",
       "      <th>9</th>\n",
       "      <td>babbage</td>\n",
       "      <td>212813</td>\n",
       "      <td>20728</td>\n",
       "      <td>7751</td>\n",
       "      <td>136981</td>\n",
       "      <td>150379</td>\n",
       "    </tr>\n",
       "    <tr>\n",
       "      <th>10</th>\n",
       "      <td>curie</td>\n",
       "      <td>245991</td>\n",
       "      <td>24193</td>\n",
       "      <td>9696</td>\n",
       "      <td>157883</td>\n",
       "      <td>175347</td>\n",
       "    </tr>\n",
       "    <tr>\n",
       "      <th>11</th>\n",
       "      <td>davinci</td>\n",
       "      <td>881346</td>\n",
       "      <td>88326</td>\n",
       "      <td>32198</td>\n",
       "      <td>559496</td>\n",
       "      <td>621339</td>\n",
       "    </tr>\n",
       "  </tbody>\n",
       "</table>\n",
       "</div>"
      ],
      "text/plain": [
       "   collection num_of_syllabes num_of_complex_words num_of_sentences  \\\n",
       "0       human        16534054              1132449           571895   \n",
       "1     mistral        10679300              1303559           285237   \n",
       "2       llama         8925648               901248           295540   \n",
       "3         gpt         2102310               245189            61041   \n",
       "4      claude         1130777               140499            34997   \n",
       "5      falcon         3025621               377694            84050   \n",
       "6        palm         1081158               109939            42875   \n",
       "7      cohere          182736                19642             5791   \n",
       "8         ada          236731                21785             8902   \n",
       "9     babbage          212813                20728             7751   \n",
       "10      curie          245991                24193             9696   \n",
       "11    davinci          881346                88326            32198   \n",
       "\n",
       "   num_of_words num_of_splits  \n",
       "0      11498133      12626085  \n",
       "1       6069118       6776800  \n",
       "2       5576315       6250480  \n",
       "3       1220047       1368602  \n",
       "4        621079        686557  \n",
       "5       1708179       1909399  \n",
       "6        678377        771497  \n",
       "7        112957        125297  \n",
       "8        154673        170596  \n",
       "9        136981        150379  \n",
       "10       157883        175347  \n",
       "11       559496        621339  "
      ]
     },
     "execution_count": 6,
     "metadata": {},
     "output_type": "execute_result"
    }
   ],
   "source": [
    "preprocessing_results = DaigtPreprocessing(settings).preprocess(dataset)\n",
    "preprocessing_results.info()"
   ]
  }
 ],
 "metadata": {
  "kernelspec": {
   "display_name": ".venv",
   "language": "python",
   "name": "python3"
  },
  "language_info": {
   "codemirror_mode": {
    "name": "ipython",
    "version": 3
   },
   "file_extension": ".py",
   "mimetype": "text/x-python",
   "name": "python",
   "nbconvert_exporter": "python",
   "pygments_lexer": "ipython3",
   "version": "3.12.1"
  }
 },
 "nbformat": 4,
 "nbformat_minor": 2
}
