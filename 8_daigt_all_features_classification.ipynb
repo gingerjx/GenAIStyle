{
 "cells": [
  {
   "cell_type": "code",
   "execution_count": 1,
   "metadata": {},
   "outputs": [],
   "source": [
    "from src import *\n",
    "import dill\n",
    "import os"
   ]
  },
  {
   "cell_type": "code",
   "execution_count": 2,
   "metadata": {},
   "outputs": [],
   "source": [
    "settings = Settings()"
   ]
  },
  {
   "cell_type": "code",
   "execution_count": 3,
   "metadata": {},
   "outputs": [],
   "source": [
    "dump_dict = None\n",
    "with open(settings.paths.daigt_dataset_dump_file, 'rb') as file:\n",
    "    dump_dict = dill.load(file)\n",
    "\n",
    "metrics_analysis_results = dump_dict['metrics_analysis_results']\n",
    "feature_extractor = dump_dict['feature_extractor']\n",
    "\n",
    "dump_dict = None\n",
    "with open(settings.paths.ws_all_features_classification_dump_file, 'rb') as file:\n",
    "    dump_dict = dill.load(file)\n",
    "\n",
    "ws_xgboost_results = dump_dict['xgboost_results']"
   ]
  },
  {
   "cell_type": "markdown",
   "metadata": {},
   "source": [
    "### XGBoost"
   ]
  },
  {
   "cell_type": "code",
   "execution_count": 4,
   "metadata": {},
   "outputs": [
    {
     "data": {
      "text/plain": [
       "0.6653880115223716"
      ]
     },
     "execution_count": 4,
     "metadata": {},
     "output_type": "execute_result"
    }
   ],
   "source": [
    "xgboost_results = DaigtAllFeaturesXGBoostClassification(\n",
    "    settings=settings, \n",
    "    feature_extractor=feature_extractor,\n",
    "    ws_xgboost_results=ws_xgboost_results\n",
    ").predict(metrics_analysis_results)\n",
    "xgboost_results.all_chunks_binary_classification.accuracy"
   ]
  }
 ],
 "metadata": {
  "kernelspec": {
   "display_name": ".venv",
   "language": "python",
   "name": "python3"
  },
  "language_info": {
   "codemirror_mode": {
    "name": "ipython",
    "version": 3
   },
   "file_extension": ".py",
   "mimetype": "text/x-python",
   "name": "python",
   "nbconvert_exporter": "python",
   "pygments_lexer": "ipython3",
   "version": "3.12.1"
  }
 },
 "nbformat": 4,
 "nbformat_minor": 2
}
