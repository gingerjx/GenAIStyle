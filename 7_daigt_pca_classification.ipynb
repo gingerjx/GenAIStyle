{
 "cells": [
  {
   "cell_type": "markdown",
   "metadata": {},
   "source": [
    "# Daigt Dataset PCA classification\n",
    "\n",
    "Notebook uses various classification algorithms to invesitgate the efficiency of transformed features. In order to run the notebook `daigt_dataset.ipynb` and `writing_style_pca_classification.ipynb` has to be run beforehand.\n",
    "\n",
    "For the classification model trained in `writing_style_pca_classification.ipynb` are used."
   ]
  },
  {
   "cell_type": "code",
   "execution_count": 1,
   "metadata": {},
   "outputs": [],
   "source": [
    "from src import *\n",
    "import dill\n",
    "import os"
   ]
  },
  {
   "cell_type": "code",
   "execution_count": 2,
   "metadata": {},
   "outputs": [],
   "source": [
    "settings = Settings()"
   ]
  },
  {
   "cell_type": "markdown",
   "metadata": {},
   "source": [
    "Load the necessary variables from the notebooks."
   ]
  },
  {
   "cell_type": "code",
   "execution_count": 3,
   "metadata": {},
   "outputs": [],
   "source": [
    "dump_dict = None\n",
    "with open(settings.paths.daigt_dataset_dump_file, 'rb') as file:\n",
    "    dump_dict = dill.load(file)\n",
    "\n",
    "pca_results = dump_dict['pca_results']\n",
    "\n",
    "with open(settings.paths.ws_pca_classificaiton_dump_file, 'rb') as file:\n",
    "    dump_dict = dill.load(file)\n",
    "\n",
    "writing_style_logistic_regression_results = dump_dict['logistic_regression_results']\n",
    "writing_style_svm_results = dump_dict['svm_results']\n",
    "writing_style_decision_tree_results = dump_dict['decision_tree_results']"
   ]
  },
  {
   "cell_type": "markdown",
   "metadata": {},
   "source": [
    "## Human-LLM classification - all chunks\n",
    "\n",
    "Below chunks are labeled either as `human` or `llm`. Classification is performed using models trained in `writing_style_pca_classification.ipynb`. Overall accuracy reaches **66%**."
   ]
  },
  {
   "cell_type": "markdown",
   "metadata": {},
   "source": [
    "### Logistic Regression"
   ]
  },
  {
   "cell_type": "code",
   "execution_count": 4,
   "metadata": {},
   "outputs": [
    {
     "name": "stdout",
     "output_type": "stream",
     "text": [
      "Performing Logistic Regression classification...\n"
     ]
    },
    {
     "data": {
      "text/plain": [
       "0.6611322611930577"
      ]
     },
     "execution_count": 4,
     "metadata": {},
     "output_type": "execute_result"
    }
   ],
   "source": [
    "print(\"Performing Logistic Regression classification...\")\n",
    "logistic_regression_results = DaigtLogisticRegressionClassification(\n",
    "    settings=settings,\n",
    "    writing_style_results=writing_style_logistic_regression_results\n",
    ").classify(\n",
    "    pca_results=pca_results\n",
    ")\n",
    "logistic_regression_results.accuracy"
   ]
  },
  {
   "cell_type": "markdown",
   "metadata": {},
   "source": [
    "### SVM"
   ]
  },
  {
   "cell_type": "code",
   "execution_count": 5,
   "metadata": {},
   "outputs": [
    {
     "name": "stdout",
     "output_type": "stream",
     "text": [
      "Performing SVM classification...\n"
     ]
    },
    {
     "data": {
      "text/plain": [
       "0.6626232213424431"
      ]
     },
     "execution_count": 5,
     "metadata": {},
     "output_type": "execute_result"
    }
   ],
   "source": [
    "print(\"Performing SVM classification...\")\n",
    "svm_results = DaigtSVMClassification(\n",
    "    settings=settings,\n",
    "    writing_style_results=writing_style_svm_results\n",
    ").classify(\n",
    "    pca_results=pca_results\n",
    ")\n",
    "svm_results.accuracy"
   ]
  },
  {
   "cell_type": "markdown",
   "metadata": {},
   "source": [
    "### Decision Tree"
   ]
  },
  {
   "cell_type": "code",
   "execution_count": 6,
   "metadata": {},
   "outputs": [
    {
     "name": "stdout",
     "output_type": "stream",
     "text": [
      "Performing Decision Tree classification...\n"
     ]
    },
    {
     "data": {
      "text/plain": [
       "0.6692384522965129"
      ]
     },
     "execution_count": 6,
     "metadata": {},
     "output_type": "execute_result"
    }
   ],
   "source": [
    "print(\"Performing Decision Tree classification...\")\n",
    "decision_tree_results = DaigtDecisionTreeClassification(\n",
    "    settings=settings,\n",
    "    writing_style_results=writing_style_decision_tree_results\n",
    ").classify(\n",
    "    pca_results=pca_results\n",
    ")\n",
    "decision_tree_results.accuracy"
   ]
  }
 ],
 "metadata": {
  "kernelspec": {
   "display_name": ".venv",
   "language": "python",
   "name": "python3"
  },
  "language_info": {
   "codemirror_mode": {
    "name": "ipython",
    "version": 3
   },
   "file_extension": ".py",
   "mimetype": "text/x-python",
   "name": "python",
   "nbconvert_exporter": "python",
   "pygments_lexer": "ipython3",
   "version": "3.12.1"
  }
 },
 "nbformat": 4,
 "nbformat_minor": 2
}
