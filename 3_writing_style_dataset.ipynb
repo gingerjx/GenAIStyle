{
 "cells": [
  {
   "cell_type": "code",
   "execution_count": 1,
   "metadata": {},
   "outputs": [
    {
     "name": "stdout",
     "output_type": "stream",
     "text": [
      "The autoreload extension is already loaded. To reload it, use:\n",
      "  %reload_ext autoreload\n"
     ]
    },
    {
     "name": "stderr",
     "output_type": "stream",
     "text": [
      "[nltk_data] Downloading collection 'all'\n",
      "[nltk_data]    | \n",
      "[nltk_data]    | Downloading package abc to\n",
      "[nltk_data]    |     C:\\Users\\piotr\\AppData\\Roaming\\nltk_data...\n",
      "[nltk_data]    |   Package abc is already up-to-date!\n",
      "[nltk_data]    | Downloading package alpino to\n",
      "[nltk_data]    |     C:\\Users\\piotr\\AppData\\Roaming\\nltk_data...\n",
      "[nltk_data]    |   Package alpino is already up-to-date!\n",
      "[nltk_data]    | Downloading package averaged_perceptron_tagger to\n",
      "[nltk_data]    |     C:\\Users\\piotr\\AppData\\Roaming\\nltk_data...\n",
      "[nltk_data]    |   Package averaged_perceptron_tagger is already up-\n",
      "[nltk_data]    |       to-date!\n",
      "[nltk_data]    | Downloading package averaged_perceptron_tagger_eng to\n",
      "[nltk_data]    |     C:\\Users\\piotr\\AppData\\Roaming\\nltk_data...\n",
      "[nltk_data]    |   Package averaged_perceptron_tagger_eng is already\n",
      "[nltk_data]    |       up-to-date!\n",
      "[nltk_data]    | Downloading package averaged_perceptron_tagger_ru to\n",
      "[nltk_data]    |     C:\\Users\\piotr\\AppData\\Roaming\\nltk_data...\n",
      "[nltk_data]    |   Package averaged_perceptron_tagger_ru is already\n",
      "[nltk_data]    |       up-to-date!\n",
      "[nltk_data]    | Downloading package averaged_perceptron_tagger_rus to\n",
      "[nltk_data]    |     C:\\Users\\piotr\\AppData\\Roaming\\nltk_data...\n",
      "[nltk_data]    |   Package averaged_perceptron_tagger_rus is already\n",
      "[nltk_data]    |       up-to-date!\n",
      "[nltk_data]    | Downloading package basque_grammars to\n",
      "[nltk_data]    |     C:\\Users\\piotr\\AppData\\Roaming\\nltk_data...\n",
      "[nltk_data]    |   Package basque_grammars is already up-to-date!\n",
      "[nltk_data]    | Downloading package bcp47 to\n",
      "[nltk_data]    |     C:\\Users\\piotr\\AppData\\Roaming\\nltk_data...\n",
      "[nltk_data]    |   Package bcp47 is already up-to-date!\n",
      "[nltk_data]    | Downloading package biocreative_ppi to\n",
      "[nltk_data]    |     C:\\Users\\piotr\\AppData\\Roaming\\nltk_data...\n",
      "[nltk_data]    |   Package biocreative_ppi is already up-to-date!\n",
      "[nltk_data]    | Downloading package bllip_wsj_no_aux to\n",
      "[nltk_data]    |     C:\\Users\\piotr\\AppData\\Roaming\\nltk_data...\n",
      "[nltk_data]    |   Package bllip_wsj_no_aux is already up-to-date!\n",
      "[nltk_data]    | Downloading package book_grammars to\n",
      "[nltk_data]    |     C:\\Users\\piotr\\AppData\\Roaming\\nltk_data...\n",
      "[nltk_data]    |   Package book_grammars is already up-to-date!\n",
      "[nltk_data]    | Downloading package brown to\n",
      "[nltk_data]    |     C:\\Users\\piotr\\AppData\\Roaming\\nltk_data...\n",
      "[nltk_data]    |   Package brown is already up-to-date!\n",
      "[nltk_data]    | Downloading package brown_tei to\n",
      "[nltk_data]    |     C:\\Users\\piotr\\AppData\\Roaming\\nltk_data...\n",
      "[nltk_data]    |   Package brown_tei is already up-to-date!\n",
      "[nltk_data]    | Downloading package cess_cat to\n",
      "[nltk_data]    |     C:\\Users\\piotr\\AppData\\Roaming\\nltk_data...\n",
      "[nltk_data]    |   Package cess_cat is already up-to-date!\n",
      "[nltk_data]    | Downloading package cess_esp to\n",
      "[nltk_data]    |     C:\\Users\\piotr\\AppData\\Roaming\\nltk_data...\n",
      "[nltk_data]    |   Package cess_esp is already up-to-date!\n",
      "[nltk_data]    | Downloading package chat80 to\n",
      "[nltk_data]    |     C:\\Users\\piotr\\AppData\\Roaming\\nltk_data...\n",
      "[nltk_data]    |   Package chat80 is already up-to-date!\n",
      "[nltk_data]    | Downloading package city_database to\n",
      "[nltk_data]    |     C:\\Users\\piotr\\AppData\\Roaming\\nltk_data...\n",
      "[nltk_data]    |   Package city_database is already up-to-date!\n",
      "[nltk_data]    | Downloading package cmudict to\n",
      "[nltk_data]    |     C:\\Users\\piotr\\AppData\\Roaming\\nltk_data...\n",
      "[nltk_data]    |   Package cmudict is already up-to-date!\n",
      "[nltk_data]    | Downloading package comparative_sentences to\n",
      "[nltk_data]    |     C:\\Users\\piotr\\AppData\\Roaming\\nltk_data...\n",
      "[nltk_data]    |   Package comparative_sentences is already up-to-\n",
      "[nltk_data]    |       date!\n",
      "[nltk_data]    | Downloading package comtrans to\n",
      "[nltk_data]    |     C:\\Users\\piotr\\AppData\\Roaming\\nltk_data...\n",
      "[nltk_data]    |   Package comtrans is already up-to-date!\n",
      "[nltk_data]    | Downloading package conll2000 to\n",
      "[nltk_data]    |     C:\\Users\\piotr\\AppData\\Roaming\\nltk_data...\n",
      "[nltk_data]    |   Package conll2000 is already up-to-date!\n",
      "[nltk_data]    | Downloading package conll2002 to\n",
      "[nltk_data]    |     C:\\Users\\piotr\\AppData\\Roaming\\nltk_data...\n",
      "[nltk_data]    |   Package conll2002 is already up-to-date!\n",
      "[nltk_data]    | Downloading package conll2007 to\n",
      "[nltk_data]    |     C:\\Users\\piotr\\AppData\\Roaming\\nltk_data...\n",
      "[nltk_data]    |   Package conll2007 is already up-to-date!\n",
      "[nltk_data]    | Downloading package crubadan to\n",
      "[nltk_data]    |     C:\\Users\\piotr\\AppData\\Roaming\\nltk_data...\n",
      "[nltk_data]    |   Package crubadan is already up-to-date!\n",
      "[nltk_data]    | Downloading package dependency_treebank to\n",
      "[nltk_data]    |     C:\\Users\\piotr\\AppData\\Roaming\\nltk_data...\n",
      "[nltk_data]    |   Package dependency_treebank is already up-to-date!\n",
      "[nltk_data]    | Downloading package dolch to\n",
      "[nltk_data]    |     C:\\Users\\piotr\\AppData\\Roaming\\nltk_data...\n",
      "[nltk_data]    |   Package dolch is already up-to-date!\n",
      "[nltk_data]    | Downloading package europarl_raw to\n",
      "[nltk_data]    |     C:\\Users\\piotr\\AppData\\Roaming\\nltk_data...\n",
      "[nltk_data]    |   Package europarl_raw is already up-to-date!\n",
      "[nltk_data]    | Downloading package extended_omw to\n",
      "[nltk_data]    |     C:\\Users\\piotr\\AppData\\Roaming\\nltk_data...\n",
      "[nltk_data]    |   Package extended_omw is already up-to-date!\n",
      "[nltk_data]    | Downloading package floresta to\n",
      "[nltk_data]    |     C:\\Users\\piotr\\AppData\\Roaming\\nltk_data...\n",
      "[nltk_data]    |   Package floresta is already up-to-date!\n",
      "[nltk_data]    | Downloading package framenet_v15 to\n",
      "[nltk_data]    |     C:\\Users\\piotr\\AppData\\Roaming\\nltk_data...\n",
      "[nltk_data]    |   Package framenet_v15 is already up-to-date!\n",
      "[nltk_data]    | Downloading package framenet_v17 to\n",
      "[nltk_data]    |     C:\\Users\\piotr\\AppData\\Roaming\\nltk_data...\n",
      "[nltk_data]    |   Package framenet_v17 is already up-to-date!\n",
      "[nltk_data]    | Downloading package gazetteers to\n",
      "[nltk_data]    |     C:\\Users\\piotr\\AppData\\Roaming\\nltk_data...\n",
      "[nltk_data]    |   Package gazetteers is already up-to-date!\n",
      "[nltk_data]    | Downloading package genesis to\n",
      "[nltk_data]    |     C:\\Users\\piotr\\AppData\\Roaming\\nltk_data...\n",
      "[nltk_data]    |   Package genesis is already up-to-date!\n",
      "[nltk_data]    | Downloading package gutenberg to\n",
      "[nltk_data]    |     C:\\Users\\piotr\\AppData\\Roaming\\nltk_data...\n",
      "[nltk_data]    |   Package gutenberg is already up-to-date!\n",
      "[nltk_data]    | Downloading package ieer to\n",
      "[nltk_data]    |     C:\\Users\\piotr\\AppData\\Roaming\\nltk_data...\n",
      "[nltk_data]    |   Package ieer is already up-to-date!\n",
      "[nltk_data]    | Downloading package inaugural to\n",
      "[nltk_data]    |     C:\\Users\\piotr\\AppData\\Roaming\\nltk_data...\n",
      "[nltk_data]    |   Package inaugural is already up-to-date!\n",
      "[nltk_data]    | Downloading package indian to\n",
      "[nltk_data]    |     C:\\Users\\piotr\\AppData\\Roaming\\nltk_data...\n",
      "[nltk_data]    |   Package indian is already up-to-date!\n",
      "[nltk_data]    | Downloading package jeita to\n",
      "[nltk_data]    |     C:\\Users\\piotr\\AppData\\Roaming\\nltk_data...\n",
      "[nltk_data]    |   Package jeita is already up-to-date!\n",
      "[nltk_data]    | Downloading package kimmo to\n",
      "[nltk_data]    |     C:\\Users\\piotr\\AppData\\Roaming\\nltk_data...\n",
      "[nltk_data]    |   Package kimmo is already up-to-date!\n",
      "[nltk_data]    | Downloading package knbc to\n",
      "[nltk_data]    |     C:\\Users\\piotr\\AppData\\Roaming\\nltk_data...\n",
      "[nltk_data]    |   Package knbc is already up-to-date!\n",
      "[nltk_data]    | Downloading package large_grammars to\n",
      "[nltk_data]    |     C:\\Users\\piotr\\AppData\\Roaming\\nltk_data...\n",
      "[nltk_data]    |   Package large_grammars is already up-to-date!\n",
      "[nltk_data]    | Downloading package lin_thesaurus to\n",
      "[nltk_data]    |     C:\\Users\\piotr\\AppData\\Roaming\\nltk_data...\n",
      "[nltk_data]    |   Package lin_thesaurus is already up-to-date!\n",
      "[nltk_data]    | Downloading package mac_morpho to\n",
      "[nltk_data]    |     C:\\Users\\piotr\\AppData\\Roaming\\nltk_data...\n",
      "[nltk_data]    |   Package mac_morpho is already up-to-date!\n",
      "[nltk_data]    | Downloading package machado to\n",
      "[nltk_data]    |     C:\\Users\\piotr\\AppData\\Roaming\\nltk_data...\n",
      "[nltk_data]    |   Package machado is already up-to-date!\n",
      "[nltk_data]    | Downloading package masc_tagged to\n",
      "[nltk_data]    |     C:\\Users\\piotr\\AppData\\Roaming\\nltk_data...\n",
      "[nltk_data]    |   Package masc_tagged is already up-to-date!\n",
      "[nltk_data]    | Downloading package maxent_ne_chunker to\n",
      "[nltk_data]    |     C:\\Users\\piotr\\AppData\\Roaming\\nltk_data...\n",
      "[nltk_data]    |   Package maxent_ne_chunker is already up-to-date!\n",
      "[nltk_data]    | Downloading package maxent_ne_chunker_tab to\n",
      "[nltk_data]    |     C:\\Users\\piotr\\AppData\\Roaming\\nltk_data...\n",
      "[nltk_data]    |   Package maxent_ne_chunker_tab is already up-to-\n",
      "[nltk_data]    |       date!\n",
      "[nltk_data]    | Downloading package maxent_treebank_pos_tagger to\n",
      "[nltk_data]    |     C:\\Users\\piotr\\AppData\\Roaming\\nltk_data...\n",
      "[nltk_data]    |   Package maxent_treebank_pos_tagger is already up-\n",
      "[nltk_data]    |       to-date!\n",
      "[nltk_data]    | Downloading package maxent_treebank_pos_tagger_tab to\n",
      "[nltk_data]    |     C:\\Users\\piotr\\AppData\\Roaming\\nltk_data...\n",
      "[nltk_data]    |   Package maxent_treebank_pos_tagger_tab is already\n",
      "[nltk_data]    |       up-to-date!\n",
      "[nltk_data]    | Downloading package moses_sample to\n",
      "[nltk_data]    |     C:\\Users\\piotr\\AppData\\Roaming\\nltk_data...\n",
      "[nltk_data]    |   Package moses_sample is already up-to-date!\n",
      "[nltk_data]    | Downloading package movie_reviews to\n",
      "[nltk_data]    |     C:\\Users\\piotr\\AppData\\Roaming\\nltk_data...\n",
      "[nltk_data]    |   Package movie_reviews is already up-to-date!\n",
      "[nltk_data]    | Downloading package mte_teip5 to\n",
      "[nltk_data]    |     C:\\Users\\piotr\\AppData\\Roaming\\nltk_data...\n",
      "[nltk_data]    |   Package mte_teip5 is already up-to-date!\n",
      "[nltk_data]    | Downloading package mwa_ppdb to\n",
      "[nltk_data]    |     C:\\Users\\piotr\\AppData\\Roaming\\nltk_data...\n",
      "[nltk_data]    |   Package mwa_ppdb is already up-to-date!\n",
      "[nltk_data]    | Downloading package names to\n",
      "[nltk_data]    |     C:\\Users\\piotr\\AppData\\Roaming\\nltk_data...\n",
      "[nltk_data]    |   Package names is already up-to-date!\n",
      "[nltk_data]    | Downloading package nombank.1.0 to\n",
      "[nltk_data]    |     C:\\Users\\piotr\\AppData\\Roaming\\nltk_data...\n",
      "[nltk_data]    |   Package nombank.1.0 is already up-to-date!\n",
      "[nltk_data]    | Downloading package nonbreaking_prefixes to\n",
      "[nltk_data]    |     C:\\Users\\piotr\\AppData\\Roaming\\nltk_data...\n",
      "[nltk_data]    |   Package nonbreaking_prefixes is already up-to-date!\n",
      "[nltk_data]    | Downloading package nps_chat to\n",
      "[nltk_data]    |     C:\\Users\\piotr\\AppData\\Roaming\\nltk_data...\n",
      "[nltk_data]    |   Package nps_chat is already up-to-date!\n",
      "[nltk_data]    | Downloading package omw to\n",
      "[nltk_data]    |     C:\\Users\\piotr\\AppData\\Roaming\\nltk_data...\n",
      "[nltk_data]    |   Package omw is already up-to-date!\n",
      "[nltk_data]    | Downloading package omw-1.4 to\n",
      "[nltk_data]    |     C:\\Users\\piotr\\AppData\\Roaming\\nltk_data...\n",
      "[nltk_data]    |   Package omw-1.4 is already up-to-date!\n",
      "[nltk_data]    | Downloading package opinion_lexicon to\n",
      "[nltk_data]    |     C:\\Users\\piotr\\AppData\\Roaming\\nltk_data...\n",
      "[nltk_data]    |   Package opinion_lexicon is already up-to-date!\n",
      "[nltk_data]    | Downloading package panlex_swadesh to\n",
      "[nltk_data]    |     C:\\Users\\piotr\\AppData\\Roaming\\nltk_data...\n",
      "[nltk_data]    |   Package panlex_swadesh is already up-to-date!\n",
      "[nltk_data]    | Downloading package paradigms to\n",
      "[nltk_data]    |     C:\\Users\\piotr\\AppData\\Roaming\\nltk_data...\n",
      "[nltk_data]    |   Package paradigms is already up-to-date!\n",
      "[nltk_data]    | Downloading package pe08 to\n",
      "[nltk_data]    |     C:\\Users\\piotr\\AppData\\Roaming\\nltk_data...\n",
      "[nltk_data]    |   Package pe08 is already up-to-date!\n",
      "[nltk_data]    | Downloading package perluniprops to\n",
      "[nltk_data]    |     C:\\Users\\piotr\\AppData\\Roaming\\nltk_data...\n",
      "[nltk_data]    |   Package perluniprops is already up-to-date!\n",
      "[nltk_data]    | Downloading package pil to\n",
      "[nltk_data]    |     C:\\Users\\piotr\\AppData\\Roaming\\nltk_data...\n",
      "[nltk_data]    |   Package pil is already up-to-date!\n",
      "[nltk_data]    | Downloading package pl196x to\n",
      "[nltk_data]    |     C:\\Users\\piotr\\AppData\\Roaming\\nltk_data...\n",
      "[nltk_data]    |   Package pl196x is already up-to-date!\n",
      "[nltk_data]    | Downloading package porter_test to\n",
      "[nltk_data]    |     C:\\Users\\piotr\\AppData\\Roaming\\nltk_data...\n",
      "[nltk_data]    |   Package porter_test is already up-to-date!\n",
      "[nltk_data]    | Downloading package ppattach to\n",
      "[nltk_data]    |     C:\\Users\\piotr\\AppData\\Roaming\\nltk_data...\n",
      "[nltk_data]    |   Package ppattach is already up-to-date!\n",
      "[nltk_data]    | Downloading package problem_reports to\n",
      "[nltk_data]    |     C:\\Users\\piotr\\AppData\\Roaming\\nltk_data...\n",
      "[nltk_data]    |   Package problem_reports is already up-to-date!\n",
      "[nltk_data]    | Downloading package product_reviews_1 to\n",
      "[nltk_data]    |     C:\\Users\\piotr\\AppData\\Roaming\\nltk_data...\n",
      "[nltk_data]    |   Package product_reviews_1 is already up-to-date!\n",
      "[nltk_data]    | Downloading package product_reviews_2 to\n",
      "[nltk_data]    |     C:\\Users\\piotr\\AppData\\Roaming\\nltk_data...\n",
      "[nltk_data]    |   Package product_reviews_2 is already up-to-date!\n",
      "[nltk_data]    | Downloading package propbank to\n",
      "[nltk_data]    |     C:\\Users\\piotr\\AppData\\Roaming\\nltk_data...\n",
      "[nltk_data]    |   Package propbank is already up-to-date!\n",
      "[nltk_data]    | Downloading package pros_cons to\n",
      "[nltk_data]    |     C:\\Users\\piotr\\AppData\\Roaming\\nltk_data...\n",
      "[nltk_data]    |   Package pros_cons is already up-to-date!\n",
      "[nltk_data]    | Downloading package ptb to\n",
      "[nltk_data]    |     C:\\Users\\piotr\\AppData\\Roaming\\nltk_data...\n",
      "[nltk_data]    |   Package ptb is already up-to-date!\n",
      "[nltk_data]    | Downloading package punkt to\n",
      "[nltk_data]    |     C:\\Users\\piotr\\AppData\\Roaming\\nltk_data...\n",
      "[nltk_data]    |   Package punkt is already up-to-date!\n",
      "[nltk_data]    | Downloading package punkt_tab to\n",
      "[nltk_data]    |     C:\\Users\\piotr\\AppData\\Roaming\\nltk_data...\n",
      "[nltk_data]    |   Package punkt_tab is already up-to-date!\n",
      "[nltk_data]    | Downloading package qc to\n",
      "[nltk_data]    |     C:\\Users\\piotr\\AppData\\Roaming\\nltk_data...\n",
      "[nltk_data]    |   Package qc is already up-to-date!\n",
      "[nltk_data]    | Downloading package reuters to\n",
      "[nltk_data]    |     C:\\Users\\piotr\\AppData\\Roaming\\nltk_data...\n",
      "[nltk_data]    |   Package reuters is already up-to-date!\n",
      "[nltk_data]    | Downloading package rslp to\n",
      "[nltk_data]    |     C:\\Users\\piotr\\AppData\\Roaming\\nltk_data...\n",
      "[nltk_data]    |   Package rslp is already up-to-date!\n",
      "[nltk_data]    | Downloading package rte to\n",
      "[nltk_data]    |     C:\\Users\\piotr\\AppData\\Roaming\\nltk_data...\n",
      "[nltk_data]    |   Package rte is already up-to-date!\n",
      "[nltk_data]    | Downloading package sample_grammars to\n",
      "[nltk_data]    |     C:\\Users\\piotr\\AppData\\Roaming\\nltk_data...\n",
      "[nltk_data]    |   Package sample_grammars is already up-to-date!\n",
      "[nltk_data]    | Downloading package semcor to\n",
      "[nltk_data]    |     C:\\Users\\piotr\\AppData\\Roaming\\nltk_data...\n",
      "[nltk_data]    |   Package semcor is already up-to-date!\n",
      "[nltk_data]    | Downloading package senseval to\n",
      "[nltk_data]    |     C:\\Users\\piotr\\AppData\\Roaming\\nltk_data...\n",
      "[nltk_data]    |   Package senseval is already up-to-date!\n",
      "[nltk_data]    | Downloading package sentence_polarity to\n",
      "[nltk_data]    |     C:\\Users\\piotr\\AppData\\Roaming\\nltk_data...\n",
      "[nltk_data]    |   Package sentence_polarity is already up-to-date!\n",
      "[nltk_data]    | Downloading package sentiwordnet to\n",
      "[nltk_data]    |     C:\\Users\\piotr\\AppData\\Roaming\\nltk_data...\n",
      "[nltk_data]    |   Package sentiwordnet is already up-to-date!\n",
      "[nltk_data]    | Downloading package shakespeare to\n",
      "[nltk_data]    |     C:\\Users\\piotr\\AppData\\Roaming\\nltk_data...\n",
      "[nltk_data]    |   Package shakespeare is already up-to-date!\n",
      "[nltk_data]    | Downloading package sinica_treebank to\n",
      "[nltk_data]    |     C:\\Users\\piotr\\AppData\\Roaming\\nltk_data...\n",
      "[nltk_data]    |   Package sinica_treebank is already up-to-date!\n",
      "[nltk_data]    | Downloading package smultron to\n",
      "[nltk_data]    |     C:\\Users\\piotr\\AppData\\Roaming\\nltk_data...\n",
      "[nltk_data]    |   Package smultron is already up-to-date!\n",
      "[nltk_data]    | Downloading package snowball_data to\n",
      "[nltk_data]    |     C:\\Users\\piotr\\AppData\\Roaming\\nltk_data...\n",
      "[nltk_data]    |   Package snowball_data is already up-to-date!\n",
      "[nltk_data]    | Downloading package spanish_grammars to\n",
      "[nltk_data]    |     C:\\Users\\piotr\\AppData\\Roaming\\nltk_data...\n",
      "[nltk_data]    |   Package spanish_grammars is already up-to-date!\n",
      "[nltk_data]    | Downloading package state_union to\n",
      "[nltk_data]    |     C:\\Users\\piotr\\AppData\\Roaming\\nltk_data...\n",
      "[nltk_data]    |   Package state_union is already up-to-date!\n",
      "[nltk_data]    | Downloading package stopwords to\n",
      "[nltk_data]    |     C:\\Users\\piotr\\AppData\\Roaming\\nltk_data...\n",
      "[nltk_data]    |   Package stopwords is already up-to-date!\n",
      "[nltk_data]    | Downloading package subjectivity to\n",
      "[nltk_data]    |     C:\\Users\\piotr\\AppData\\Roaming\\nltk_data...\n",
      "[nltk_data]    |   Package subjectivity is already up-to-date!\n",
      "[nltk_data]    | Downloading package swadesh to\n",
      "[nltk_data]    |     C:\\Users\\piotr\\AppData\\Roaming\\nltk_data...\n",
      "[nltk_data]    |   Package swadesh is already up-to-date!\n",
      "[nltk_data]    | Downloading package switchboard to\n",
      "[nltk_data]    |     C:\\Users\\piotr\\AppData\\Roaming\\nltk_data...\n",
      "[nltk_data]    |   Package switchboard is already up-to-date!\n",
      "[nltk_data]    | Downloading package tagsets to\n",
      "[nltk_data]    |     C:\\Users\\piotr\\AppData\\Roaming\\nltk_data...\n",
      "[nltk_data]    |   Package tagsets is already up-to-date!\n",
      "[nltk_data]    | Downloading package tagsets_json to\n",
      "[nltk_data]    |     C:\\Users\\piotr\\AppData\\Roaming\\nltk_data...\n",
      "[nltk_data]    |   Package tagsets_json is already up-to-date!\n",
      "[nltk_data]    | Downloading package timit to\n",
      "[nltk_data]    |     C:\\Users\\piotr\\AppData\\Roaming\\nltk_data...\n",
      "[nltk_data]    |   Package timit is already up-to-date!\n",
      "[nltk_data]    | Downloading package toolbox to\n",
      "[nltk_data]    |     C:\\Users\\piotr\\AppData\\Roaming\\nltk_data...\n",
      "[nltk_data]    |   Package toolbox is already up-to-date!\n",
      "[nltk_data]    | Downloading package treebank to\n",
      "[nltk_data]    |     C:\\Users\\piotr\\AppData\\Roaming\\nltk_data...\n",
      "[nltk_data]    |   Package treebank is already up-to-date!\n",
      "[nltk_data]    | Downloading package twitter_samples to\n",
      "[nltk_data]    |     C:\\Users\\piotr\\AppData\\Roaming\\nltk_data...\n",
      "[nltk_data]    |   Package twitter_samples is already up-to-date!\n",
      "[nltk_data]    | Downloading package udhr to\n",
      "[nltk_data]    |     C:\\Users\\piotr\\AppData\\Roaming\\nltk_data...\n",
      "[nltk_data]    |   Package udhr is already up-to-date!\n",
      "[nltk_data]    | Downloading package udhr2 to\n",
      "[nltk_data]    |     C:\\Users\\piotr\\AppData\\Roaming\\nltk_data...\n",
      "[nltk_data]    |   Package udhr2 is already up-to-date!\n",
      "[nltk_data]    | Downloading package unicode_samples to\n",
      "[nltk_data]    |     C:\\Users\\piotr\\AppData\\Roaming\\nltk_data...\n",
      "[nltk_data]    |   Package unicode_samples is already up-to-date!\n",
      "[nltk_data]    | Downloading package universal_tagset to\n",
      "[nltk_data]    |     C:\\Users\\piotr\\AppData\\Roaming\\nltk_data...\n",
      "[nltk_data]    |   Package universal_tagset is already up-to-date!\n",
      "[nltk_data]    | Downloading package universal_treebanks_v20 to\n",
      "[nltk_data]    |     C:\\Users\\piotr\\AppData\\Roaming\\nltk_data...\n",
      "[nltk_data]    |   Package universal_treebanks_v20 is already up-to-\n",
      "[nltk_data]    |       date!\n",
      "[nltk_data]    | Downloading package vader_lexicon to\n",
      "[nltk_data]    |     C:\\Users\\piotr\\AppData\\Roaming\\nltk_data...\n",
      "[nltk_data]    |   Package vader_lexicon is already up-to-date!\n",
      "[nltk_data]    | Downloading package verbnet to\n",
      "[nltk_data]    |     C:\\Users\\piotr\\AppData\\Roaming\\nltk_data...\n",
      "[nltk_data]    |   Package verbnet is already up-to-date!\n",
      "[nltk_data]    | Downloading package verbnet3 to\n",
      "[nltk_data]    |     C:\\Users\\piotr\\AppData\\Roaming\\nltk_data...\n",
      "[nltk_data]    |   Package verbnet3 is already up-to-date!\n",
      "[nltk_data]    | Downloading package webtext to\n",
      "[nltk_data]    |     C:\\Users\\piotr\\AppData\\Roaming\\nltk_data...\n",
      "[nltk_data]    |   Package webtext is already up-to-date!\n",
      "[nltk_data]    | Downloading package wmt15_eval to\n",
      "[nltk_data]    |     C:\\Users\\piotr\\AppData\\Roaming\\nltk_data...\n",
      "[nltk_data]    |   Package wmt15_eval is already up-to-date!\n",
      "[nltk_data]    | Downloading package word2vec_sample to\n",
      "[nltk_data]    |     C:\\Users\\piotr\\AppData\\Roaming\\nltk_data...\n",
      "[nltk_data]    |   Package word2vec_sample is already up-to-date!\n",
      "[nltk_data]    | Downloading package wordnet to\n",
      "[nltk_data]    |     C:\\Users\\piotr\\AppData\\Roaming\\nltk_data...\n",
      "[nltk_data]    |   Package wordnet is already up-to-date!\n",
      "[nltk_data]    | Downloading package wordnet2021 to\n",
      "[nltk_data]    |     C:\\Users\\piotr\\AppData\\Roaming\\nltk_data...\n",
      "[nltk_data]    |   Package wordnet2021 is already up-to-date!\n",
      "[nltk_data]    | Downloading package wordnet2022 to\n",
      "[nltk_data]    |     C:\\Users\\piotr\\AppData\\Roaming\\nltk_data...\n",
      "[nltk_data]    |   Package wordnet2022 is already up-to-date!\n",
      "[nltk_data]    | Downloading package wordnet31 to\n",
      "[nltk_data]    |     C:\\Users\\piotr\\AppData\\Roaming\\nltk_data...\n",
      "[nltk_data]    |   Package wordnet31 is already up-to-date!\n",
      "[nltk_data]    | Downloading package wordnet_ic to\n",
      "[nltk_data]    |     C:\\Users\\piotr\\AppData\\Roaming\\nltk_data...\n",
      "[nltk_data]    |   Package wordnet_ic is already up-to-date!\n",
      "[nltk_data]    | Downloading package words to\n",
      "[nltk_data]    |     C:\\Users\\piotr\\AppData\\Roaming\\nltk_data...\n",
      "[nltk_data]    |   Package words is already up-to-date!\n",
      "[nltk_data]    | Downloading package ycoe to\n",
      "[nltk_data]    |     C:\\Users\\piotr\\AppData\\Roaming\\nltk_data...\n",
      "[nltk_data]    |   Package ycoe is already up-to-date!\n",
      "[nltk_data]    | \n",
      "[nltk_data]  Done downloading collection all\n"
     ]
    },
    {
     "data": {
      "text/plain": [
       "True"
      ]
     },
     "execution_count": 1,
     "metadata": {},
     "output_type": "execute_result"
    }
   ],
   "source": [
    "%load_ext autoreload   \n",
    "%autoreload 2\n",
    "\n",
    "from src import *\n",
    "import dill\n",
    "import nltk\n",
    "import os\n",
    "nltk.download('all')"
   ]
  },
  {
   "cell_type": "code",
   "execution_count": 2,
   "metadata": {},
   "outputs": [],
   "source": [
    "settings = Settings()"
   ]
  },
  {
   "cell_type": "code",
   "execution_count": 4,
   "metadata": {},
   "outputs": [],
   "source": [
    "dataset = WritingStyleDataset(settings)\n",
    "dataset.load()"
   ]
  },
  {
   "cell_type": "code",
   "execution_count": 5,
   "metadata": {},
   "outputs": [],
   "source": [
    "dataset.clean()"
   ]
  },
  {
   "cell_type": "code",
   "execution_count": 6,
   "metadata": {},
   "outputs": [
    {
     "name": "stdout",
     "output_type": "stream",
     "text": [
      "Text removed while cleaning: 1.0128367970170837%.\n"
     ]
    }
   ],
   "source": [
    "print(f\"Text removed while cleaning: {WritingStyleMetadataAnalysis.get_percentage_of_removed_text(dataset)}%.\")"
   ]
  },
  {
   "cell_type": "code",
   "execution_count": 7,
   "metadata": {},
   "outputs": [
    {
     "data": {
      "text/html": [
       "<div>\n",
       "<style scoped>\n",
       "    .dataframe tbody tr th:only-of-type {\n",
       "        vertical-align: middle;\n",
       "    }\n",
       "\n",
       "    .dataframe tbody tr th {\n",
       "        vertical-align: top;\n",
       "    }\n",
       "\n",
       "    .dataframe thead th {\n",
       "        text-align: right;\n",
       "    }\n",
       "</style>\n",
       "<table border=\"1\" class=\"dataframe\">\n",
       "  <thead>\n",
       "    <tr style=\"text-align: right;\">\n",
       "      <th></th>\n",
       "      <th>author</th>\n",
       "      <th>collection</th>\n",
       "      <th>num_of_syllabes</th>\n",
       "      <th>num_of_complex_words</th>\n",
       "      <th>num_of_sentences</th>\n",
       "      <th>num_of_words</th>\n",
       "      <th>num_of_splits</th>\n",
       "    </tr>\n",
       "  </thead>\n",
       "  <tbody>\n",
       "    <tr>\n",
       "      <th>0</th>\n",
       "      <td>Mark Twain</td>\n",
       "      <td>books</td>\n",
       "      <td>238684</td>\n",
       "      <td>14989</td>\n",
       "      <td>8724</td>\n",
       "      <td>172208</td>\n",
       "      <td>200602</td>\n",
       "    </tr>\n",
       "    <tr>\n",
       "      <th>1</th>\n",
       "      <td>Mark Twain</td>\n",
       "      <td>gpt-3.5-turbo-0125</td>\n",
       "      <td>257498</td>\n",
       "      <td>18111</td>\n",
       "      <td>8422</td>\n",
       "      <td>178001</td>\n",
       "      <td>200458</td>\n",
       "    </tr>\n",
       "    <tr>\n",
       "      <th>2</th>\n",
       "      <td>Mark Twain</td>\n",
       "      <td>gpt-4o</td>\n",
       "      <td>245783</td>\n",
       "      <td>16405</td>\n",
       "      <td>9122</td>\n",
       "      <td>172094</td>\n",
       "      <td>200429</td>\n",
       "    </tr>\n",
       "    <tr>\n",
       "      <th>3</th>\n",
       "      <td>Mark Twain</td>\n",
       "      <td>gemini-1.5-flash</td>\n",
       "      <td>230849</td>\n",
       "      <td>13251</td>\n",
       "      <td>9804</td>\n",
       "      <td>168488</td>\n",
       "      <td>200452</td>\n",
       "    </tr>\n",
       "    <tr>\n",
       "      <th>4</th>\n",
       "      <td>Mark Twain</td>\n",
       "      <td>open-mixtral-8x7b</td>\n",
       "      <td>250336</td>\n",
       "      <td>17633</td>\n",
       "      <td>7647</td>\n",
       "      <td>174313</td>\n",
       "      <td>200581</td>\n",
       "    </tr>\n",
       "    <tr>\n",
       "      <th>5</th>\n",
       "      <td>Mark Twain</td>\n",
       "      <td>claude-3-haiku-20240307</td>\n",
       "      <td>241909</td>\n",
       "      <td>15650</td>\n",
       "      <td>8275</td>\n",
       "      <td>171942</td>\n",
       "      <td>200537</td>\n",
       "    </tr>\n",
       "    <tr>\n",
       "      <th>6</th>\n",
       "      <td>Zane Grey</td>\n",
       "      <td>books</td>\n",
       "      <td>221191</td>\n",
       "      <td>10626</td>\n",
       "      <td>13441</td>\n",
       "      <td>167105</td>\n",
       "      <td>200384</td>\n",
       "    </tr>\n",
       "    <tr>\n",
       "      <th>7</th>\n",
       "      <td>Zane Grey</td>\n",
       "      <td>gpt-3.5-turbo-0125</td>\n",
       "      <td>264254</td>\n",
       "      <td>19734</td>\n",
       "      <td>7862</td>\n",
       "      <td>178574</td>\n",
       "      <td>200477</td>\n",
       "    </tr>\n",
       "    <tr>\n",
       "      <th>8</th>\n",
       "      <td>Zane Grey</td>\n",
       "      <td>gpt-4o</td>\n",
       "      <td>253609</td>\n",
       "      <td>18200</td>\n",
       "      <td>9001</td>\n",
       "      <td>173092</td>\n",
       "      <td>200510</td>\n",
       "    </tr>\n",
       "    <tr>\n",
       "      <th>9</th>\n",
       "      <td>Zane Grey</td>\n",
       "      <td>gemini-1.5-flash</td>\n",
       "      <td>239766</td>\n",
       "      <td>15285</td>\n",
       "      <td>9325</td>\n",
       "      <td>168982</td>\n",
       "      <td>200442</td>\n",
       "    </tr>\n",
       "    <tr>\n",
       "      <th>10</th>\n",
       "      <td>Zane Grey</td>\n",
       "      <td>open-mixtral-8x7b</td>\n",
       "      <td>254392</td>\n",
       "      <td>18292</td>\n",
       "      <td>7823</td>\n",
       "      <td>175920</td>\n",
       "      <td>200480</td>\n",
       "    </tr>\n",
       "    <tr>\n",
       "      <th>11</th>\n",
       "      <td>Zane Grey</td>\n",
       "      <td>claude-3-haiku-20240307</td>\n",
       "      <td>259228</td>\n",
       "      <td>19855</td>\n",
       "      <td>7913</td>\n",
       "      <td>174606</td>\n",
       "      <td>200498</td>\n",
       "    </tr>\n",
       "    <tr>\n",
       "      <th>12</th>\n",
       "      <td>Joseph Conrad</td>\n",
       "      <td>books</td>\n",
       "      <td>238913</td>\n",
       "      <td>14650</td>\n",
       "      <td>10614</td>\n",
       "      <td>171855</td>\n",
       "      <td>200689</td>\n",
       "    </tr>\n",
       "    <tr>\n",
       "      <th>13</th>\n",
       "      <td>Joseph Conrad</td>\n",
       "      <td>gpt-3.5-turbo-0125</td>\n",
       "      <td>275878</td>\n",
       "      <td>23920</td>\n",
       "      <td>7722</td>\n",
       "      <td>179340</td>\n",
       "      <td>200549</td>\n",
       "    </tr>\n",
       "    <tr>\n",
       "      <th>14</th>\n",
       "      <td>Joseph Conrad</td>\n",
       "      <td>gpt-4o</td>\n",
       "      <td>264521</td>\n",
       "      <td>22202</td>\n",
       "      <td>8318</td>\n",
       "      <td>173647</td>\n",
       "      <td>200490</td>\n",
       "    </tr>\n",
       "    <tr>\n",
       "      <th>15</th>\n",
       "      <td>Joseph Conrad</td>\n",
       "      <td>gemini-1.5-flash</td>\n",
       "      <td>248736</td>\n",
       "      <td>18470</td>\n",
       "      <td>8233</td>\n",
       "      <td>169259</td>\n",
       "      <td>200530</td>\n",
       "    </tr>\n",
       "    <tr>\n",
       "      <th>16</th>\n",
       "      <td>Joseph Conrad</td>\n",
       "      <td>open-mixtral-8x7b</td>\n",
       "      <td>265253</td>\n",
       "      <td>21823</td>\n",
       "      <td>6181</td>\n",
       "      <td>176801</td>\n",
       "      <td>200622</td>\n",
       "    </tr>\n",
       "    <tr>\n",
       "      <th>17</th>\n",
       "      <td>Joseph Conrad</td>\n",
       "      <td>claude-3-haiku-20240307</td>\n",
       "      <td>271577</td>\n",
       "      <td>23533</td>\n",
       "      <td>6521</td>\n",
       "      <td>177076</td>\n",
       "      <td>200724</td>\n",
       "    </tr>\n",
       "    <tr>\n",
       "      <th>18</th>\n",
       "      <td>Benjamin Disraeli</td>\n",
       "      <td>books</td>\n",
       "      <td>245338</td>\n",
       "      <td>18088</td>\n",
       "      <td>9604</td>\n",
       "      <td>169137</td>\n",
       "      <td>200795</td>\n",
       "    </tr>\n",
       "    <tr>\n",
       "      <th>19</th>\n",
       "      <td>Benjamin Disraeli</td>\n",
       "      <td>gpt-3.5-turbo-0125</td>\n",
       "      <td>280363</td>\n",
       "      <td>25457</td>\n",
       "      <td>7664</td>\n",
       "      <td>179622</td>\n",
       "      <td>200582</td>\n",
       "    </tr>\n",
       "    <tr>\n",
       "      <th>20</th>\n",
       "      <td>Benjamin Disraeli</td>\n",
       "      <td>gpt-4o</td>\n",
       "      <td>279661</td>\n",
       "      <td>27286</td>\n",
       "      <td>8175</td>\n",
       "      <td>174502</td>\n",
       "      <td>200469</td>\n",
       "    </tr>\n",
       "    <tr>\n",
       "      <th>21</th>\n",
       "      <td>Benjamin Disraeli</td>\n",
       "      <td>gemini-1.5-flash</td>\n",
       "      <td>262811</td>\n",
       "      <td>22792</td>\n",
       "      <td>8139</td>\n",
       "      <td>170965</td>\n",
       "      <td>200574</td>\n",
       "    </tr>\n",
       "    <tr>\n",
       "      <th>22</th>\n",
       "      <td>Benjamin Disraeli</td>\n",
       "      <td>open-mixtral-8x7b</td>\n",
       "      <td>269660</td>\n",
       "      <td>23568</td>\n",
       "      <td>6587</td>\n",
       "      <td>176510</td>\n",
       "      <td>201012</td>\n",
       "    </tr>\n",
       "    <tr>\n",
       "      <th>23</th>\n",
       "      <td>Benjamin Disraeli</td>\n",
       "      <td>claude-3-haiku-20240307</td>\n",
       "      <td>277408</td>\n",
       "      <td>25339</td>\n",
       "      <td>6564</td>\n",
       "      <td>177441</td>\n",
       "      <td>200725</td>\n",
       "    </tr>\n",
       "    <tr>\n",
       "      <th>24</th>\n",
       "      <td>George Eliot</td>\n",
       "      <td>books</td>\n",
       "      <td>241001</td>\n",
       "      <td>14689</td>\n",
       "      <td>7599</td>\n",
       "      <td>173076</td>\n",
       "      <td>200867</td>\n",
       "    </tr>\n",
       "    <tr>\n",
       "      <th>25</th>\n",
       "      <td>George Eliot</td>\n",
       "      <td>gpt-3.5-turbo-0125</td>\n",
       "      <td>278991</td>\n",
       "      <td>24779</td>\n",
       "      <td>7590</td>\n",
       "      <td>179809</td>\n",
       "      <td>200615</td>\n",
       "    </tr>\n",
       "    <tr>\n",
       "      <th>26</th>\n",
       "      <td>George Eliot</td>\n",
       "      <td>gpt-4o</td>\n",
       "      <td>270322</td>\n",
       "      <td>24086</td>\n",
       "      <td>8278</td>\n",
       "      <td>173799</td>\n",
       "      <td>200494</td>\n",
       "    </tr>\n",
       "    <tr>\n",
       "      <th>27</th>\n",
       "      <td>George Eliot</td>\n",
       "      <td>gemini-1.5-flash</td>\n",
       "      <td>263804</td>\n",
       "      <td>23014</td>\n",
       "      <td>7867</td>\n",
       "      <td>171358</td>\n",
       "      <td>200506</td>\n",
       "    </tr>\n",
       "    <tr>\n",
       "      <th>28</th>\n",
       "      <td>George Eliot</td>\n",
       "      <td>open-mixtral-8x7b</td>\n",
       "      <td>273435</td>\n",
       "      <td>24562</td>\n",
       "      <td>6044</td>\n",
       "      <td>177382</td>\n",
       "      <td>200623</td>\n",
       "    </tr>\n",
       "    <tr>\n",
       "      <th>29</th>\n",
       "      <td>George Eliot</td>\n",
       "      <td>claude-3-haiku-20240307</td>\n",
       "      <td>278063</td>\n",
       "      <td>25575</td>\n",
       "      <td>6560</td>\n",
       "      <td>177253</td>\n",
       "      <td>200649</td>\n",
       "    </tr>\n",
       "    <tr>\n",
       "      <th>30</th>\n",
       "      <td>William Henry Hudson</td>\n",
       "      <td>books</td>\n",
       "      <td>239319</td>\n",
       "      <td>13479</td>\n",
       "      <td>6373</td>\n",
       "      <td>174900</td>\n",
       "      <td>200752</td>\n",
       "    </tr>\n",
       "    <tr>\n",
       "      <th>31</th>\n",
       "      <td>William Henry Hudson</td>\n",
       "      <td>gpt-3.5-turbo-0125</td>\n",
       "      <td>281976</td>\n",
       "      <td>25738</td>\n",
       "      <td>7561</td>\n",
       "      <td>180235</td>\n",
       "      <td>200661</td>\n",
       "    </tr>\n",
       "    <tr>\n",
       "      <th>32</th>\n",
       "      <td>William Henry Hudson</td>\n",
       "      <td>gpt-4o</td>\n",
       "      <td>265625</td>\n",
       "      <td>22369</td>\n",
       "      <td>8499</td>\n",
       "      <td>173724</td>\n",
       "      <td>200530</td>\n",
       "    </tr>\n",
       "    <tr>\n",
       "      <th>33</th>\n",
       "      <td>William Henry Hudson</td>\n",
       "      <td>gemini-1.5-flash</td>\n",
       "      <td>251979</td>\n",
       "      <td>18576</td>\n",
       "      <td>8093</td>\n",
       "      <td>171242</td>\n",
       "      <td>200512</td>\n",
       "    </tr>\n",
       "    <tr>\n",
       "      <th>34</th>\n",
       "      <td>William Henry Hudson</td>\n",
       "      <td>open-mixtral-8x7b</td>\n",
       "      <td>268929</td>\n",
       "      <td>22835</td>\n",
       "      <td>6546</td>\n",
       "      <td>176958</td>\n",
       "      <td>200708</td>\n",
       "    </tr>\n",
       "    <tr>\n",
       "      <th>35</th>\n",
       "      <td>William Henry Hudson</td>\n",
       "      <td>claude-3-haiku-20240307</td>\n",
       "      <td>277955</td>\n",
       "      <td>25636</td>\n",
       "      <td>6564</td>\n",
       "      <td>177186</td>\n",
       "      <td>200575</td>\n",
       "    </tr>\n",
       "    <tr>\n",
       "      <th>36</th>\n",
       "      <td>Lucy Maud Montgomery</td>\n",
       "      <td>books</td>\n",
       "      <td>224966</td>\n",
       "      <td>10831</td>\n",
       "      <td>12379</td>\n",
       "      <td>169082</td>\n",
       "      <td>200447</td>\n",
       "    </tr>\n",
       "    <tr>\n",
       "      <th>37</th>\n",
       "      <td>Lucy Maud Montgomery</td>\n",
       "      <td>gpt-3.5-turbo-0125</td>\n",
       "      <td>265714</td>\n",
       "      <td>20349</td>\n",
       "      <td>8172</td>\n",
       "      <td>178410</td>\n",
       "      <td>200507</td>\n",
       "    </tr>\n",
       "    <tr>\n",
       "      <th>38</th>\n",
       "      <td>Lucy Maud Montgomery</td>\n",
       "      <td>gpt-4o</td>\n",
       "      <td>258281</td>\n",
       "      <td>19853</td>\n",
       "      <td>8675</td>\n",
       "      <td>173355</td>\n",
       "      <td>200520</td>\n",
       "    </tr>\n",
       "    <tr>\n",
       "      <th>39</th>\n",
       "      <td>Lucy Maud Montgomery</td>\n",
       "      <td>gemini-1.5-flash</td>\n",
       "      <td>244913</td>\n",
       "      <td>17162</td>\n",
       "      <td>9046</td>\n",
       "      <td>168939</td>\n",
       "      <td>200476</td>\n",
       "    </tr>\n",
       "    <tr>\n",
       "      <th>40</th>\n",
       "      <td>Lucy Maud Montgomery</td>\n",
       "      <td>open-mixtral-8x7b</td>\n",
       "      <td>256886</td>\n",
       "      <td>19320</td>\n",
       "      <td>7408</td>\n",
       "      <td>175390</td>\n",
       "      <td>200582</td>\n",
       "    </tr>\n",
       "    <tr>\n",
       "      <th>41</th>\n",
       "      <td>Lucy Maud Montgomery</td>\n",
       "      <td>claude-3-haiku-20240307</td>\n",
       "      <td>263965</td>\n",
       "      <td>21338</td>\n",
       "      <td>7903</td>\n",
       "      <td>175286</td>\n",
       "      <td>200572</td>\n",
       "    </tr>\n",
       "    <tr>\n",
       "      <th>42</th>\n",
       "      <td>Howard Pyle</td>\n",
       "      <td>books</td>\n",
       "      <td>221740</td>\n",
       "      <td>7906</td>\n",
       "      <td>7723</td>\n",
       "      <td>171436</td>\n",
       "      <td>200763</td>\n",
       "    </tr>\n",
       "    <tr>\n",
       "      <th>43</th>\n",
       "      <td>Howard Pyle</td>\n",
       "      <td>gpt-3.5-turbo-0125</td>\n",
       "      <td>266870</td>\n",
       "      <td>20916</td>\n",
       "      <td>8102</td>\n",
       "      <td>178148</td>\n",
       "      <td>200447</td>\n",
       "    </tr>\n",
       "    <tr>\n",
       "      <th>44</th>\n",
       "      <td>Howard Pyle</td>\n",
       "      <td>gpt-4o</td>\n",
       "      <td>251500</td>\n",
       "      <td>17353</td>\n",
       "      <td>8491</td>\n",
       "      <td>173365</td>\n",
       "      <td>200451</td>\n",
       "    </tr>\n",
       "    <tr>\n",
       "      <th>45</th>\n",
       "      <td>Howard Pyle</td>\n",
       "      <td>gemini-1.5-flash</td>\n",
       "      <td>243736</td>\n",
       "      <td>16407</td>\n",
       "      <td>8886</td>\n",
       "      <td>170009</td>\n",
       "      <td>200433</td>\n",
       "    </tr>\n",
       "    <tr>\n",
       "      <th>46</th>\n",
       "      <td>Howard Pyle</td>\n",
       "      <td>open-mixtral-8x7b</td>\n",
       "      <td>254064</td>\n",
       "      <td>17992</td>\n",
       "      <td>7213</td>\n",
       "      <td>176419</td>\n",
       "      <td>200812</td>\n",
       "    </tr>\n",
       "    <tr>\n",
       "      <th>47</th>\n",
       "      <td>Howard Pyle</td>\n",
       "      <td>claude-3-haiku-20240307</td>\n",
       "      <td>266577</td>\n",
       "      <td>21915</td>\n",
       "      <td>7268</td>\n",
       "      <td>175988</td>\n",
       "      <td>200428</td>\n",
       "    </tr>\n",
       "    <tr>\n",
       "      <th>48</th>\n",
       "      <td>Virginia Woolf</td>\n",
       "      <td>books</td>\n",
       "      <td>234169</td>\n",
       "      <td>13256</td>\n",
       "      <td>9515</td>\n",
       "      <td>168793</td>\n",
       "      <td>200693</td>\n",
       "    </tr>\n",
       "    <tr>\n",
       "      <th>49</th>\n",
       "      <td>Virginia Woolf</td>\n",
       "      <td>gpt-3.5-turbo-0125</td>\n",
       "      <td>276439</td>\n",
       "      <td>24022</td>\n",
       "      <td>7684</td>\n",
       "      <td>179571</td>\n",
       "      <td>200440</td>\n",
       "    </tr>\n",
       "    <tr>\n",
       "      <th>50</th>\n",
       "      <td>Virginia Woolf</td>\n",
       "      <td>gpt-4o</td>\n",
       "      <td>260258</td>\n",
       "      <td>20928</td>\n",
       "      <td>8303</td>\n",
       "      <td>172599</td>\n",
       "      <td>200634</td>\n",
       "    </tr>\n",
       "    <tr>\n",
       "      <th>51</th>\n",
       "      <td>Virginia Woolf</td>\n",
       "      <td>gemini-1.5-flash</td>\n",
       "      <td>250451</td>\n",
       "      <td>19208</td>\n",
       "      <td>8343</td>\n",
       "      <td>169043</td>\n",
       "      <td>200429</td>\n",
       "    </tr>\n",
       "    <tr>\n",
       "      <th>52</th>\n",
       "      <td>Virginia Woolf</td>\n",
       "      <td>open-mixtral-8x7b</td>\n",
       "      <td>264476</td>\n",
       "      <td>21689</td>\n",
       "      <td>6475</td>\n",
       "      <td>176507</td>\n",
       "      <td>200678</td>\n",
       "    </tr>\n",
       "    <tr>\n",
       "      <th>53</th>\n",
       "      <td>Virginia Woolf</td>\n",
       "      <td>claude-3-haiku-20240307</td>\n",
       "      <td>268586</td>\n",
       "      <td>22883</td>\n",
       "      <td>6889</td>\n",
       "      <td>175783</td>\n",
       "      <td>200710</td>\n",
       "    </tr>\n",
       "    <tr>\n",
       "      <th>54</th>\n",
       "      <td>Lewis Carroll</td>\n",
       "      <td>books</td>\n",
       "      <td>211604</td>\n",
       "      <td>10008</td>\n",
       "      <td>9801</td>\n",
       "      <td>159282</td>\n",
       "      <td>200635</td>\n",
       "    </tr>\n",
       "    <tr>\n",
       "      <th>55</th>\n",
       "      <td>Lewis Carroll</td>\n",
       "      <td>gpt-3.5-turbo-0125</td>\n",
       "      <td>265596</td>\n",
       "      <td>20551</td>\n",
       "      <td>8068</td>\n",
       "      <td>178360</td>\n",
       "      <td>200541</td>\n",
       "    </tr>\n",
       "    <tr>\n",
       "      <th>56</th>\n",
       "      <td>Lewis Carroll</td>\n",
       "      <td>gpt-4o</td>\n",
       "      <td>254691</td>\n",
       "      <td>19774</td>\n",
       "      <td>9195</td>\n",
       "      <td>171006</td>\n",
       "      <td>200467</td>\n",
       "    </tr>\n",
       "    <tr>\n",
       "      <th>57</th>\n",
       "      <td>Lewis Carroll</td>\n",
       "      <td>gemini-1.5-flash</td>\n",
       "      <td>243889</td>\n",
       "      <td>18201</td>\n",
       "      <td>9081</td>\n",
       "      <td>165422</td>\n",
       "      <td>200596</td>\n",
       "    </tr>\n",
       "    <tr>\n",
       "      <th>58</th>\n",
       "      <td>Lewis Carroll</td>\n",
       "      <td>open-mixtral-8x7b</td>\n",
       "      <td>258855</td>\n",
       "      <td>20783</td>\n",
       "      <td>7999</td>\n",
       "      <td>173400</td>\n",
       "      <td>200626</td>\n",
       "    </tr>\n",
       "    <tr>\n",
       "      <th>59</th>\n",
       "      <td>Lewis Carroll</td>\n",
       "      <td>claude-3-haiku-20240307</td>\n",
       "      <td>266637</td>\n",
       "      <td>22811</td>\n",
       "      <td>7040</td>\n",
       "      <td>174680</td>\n",
       "      <td>200655</td>\n",
       "    </tr>\n",
       "  </tbody>\n",
       "</table>\n",
       "</div>"
      ],
      "text/plain": [
       "                  author               collection num_of_syllabes  \\\n",
       "0             Mark Twain                    books          238684   \n",
       "1             Mark Twain       gpt-3.5-turbo-0125          257498   \n",
       "2             Mark Twain                   gpt-4o          245783   \n",
       "3             Mark Twain         gemini-1.5-flash          230849   \n",
       "4             Mark Twain        open-mixtral-8x7b          250336   \n",
       "5             Mark Twain  claude-3-haiku-20240307          241909   \n",
       "6              Zane Grey                    books          221191   \n",
       "7              Zane Grey       gpt-3.5-turbo-0125          264254   \n",
       "8              Zane Grey                   gpt-4o          253609   \n",
       "9              Zane Grey         gemini-1.5-flash          239766   \n",
       "10             Zane Grey        open-mixtral-8x7b          254392   \n",
       "11             Zane Grey  claude-3-haiku-20240307          259228   \n",
       "12         Joseph Conrad                    books          238913   \n",
       "13         Joseph Conrad       gpt-3.5-turbo-0125          275878   \n",
       "14         Joseph Conrad                   gpt-4o          264521   \n",
       "15         Joseph Conrad         gemini-1.5-flash          248736   \n",
       "16         Joseph Conrad        open-mixtral-8x7b          265253   \n",
       "17         Joseph Conrad  claude-3-haiku-20240307          271577   \n",
       "18     Benjamin Disraeli                    books          245338   \n",
       "19     Benjamin Disraeli       gpt-3.5-turbo-0125          280363   \n",
       "20     Benjamin Disraeli                   gpt-4o          279661   \n",
       "21     Benjamin Disraeli         gemini-1.5-flash          262811   \n",
       "22     Benjamin Disraeli        open-mixtral-8x7b          269660   \n",
       "23     Benjamin Disraeli  claude-3-haiku-20240307          277408   \n",
       "24          George Eliot                    books          241001   \n",
       "25          George Eliot       gpt-3.5-turbo-0125          278991   \n",
       "26          George Eliot                   gpt-4o          270322   \n",
       "27          George Eliot         gemini-1.5-flash          263804   \n",
       "28          George Eliot        open-mixtral-8x7b          273435   \n",
       "29          George Eliot  claude-3-haiku-20240307          278063   \n",
       "30  William Henry Hudson                    books          239319   \n",
       "31  William Henry Hudson       gpt-3.5-turbo-0125          281976   \n",
       "32  William Henry Hudson                   gpt-4o          265625   \n",
       "33  William Henry Hudson         gemini-1.5-flash          251979   \n",
       "34  William Henry Hudson        open-mixtral-8x7b          268929   \n",
       "35  William Henry Hudson  claude-3-haiku-20240307          277955   \n",
       "36  Lucy Maud Montgomery                    books          224966   \n",
       "37  Lucy Maud Montgomery       gpt-3.5-turbo-0125          265714   \n",
       "38  Lucy Maud Montgomery                   gpt-4o          258281   \n",
       "39  Lucy Maud Montgomery         gemini-1.5-flash          244913   \n",
       "40  Lucy Maud Montgomery        open-mixtral-8x7b          256886   \n",
       "41  Lucy Maud Montgomery  claude-3-haiku-20240307          263965   \n",
       "42           Howard Pyle                    books          221740   \n",
       "43           Howard Pyle       gpt-3.5-turbo-0125          266870   \n",
       "44           Howard Pyle                   gpt-4o          251500   \n",
       "45           Howard Pyle         gemini-1.5-flash          243736   \n",
       "46           Howard Pyle        open-mixtral-8x7b          254064   \n",
       "47           Howard Pyle  claude-3-haiku-20240307          266577   \n",
       "48        Virginia Woolf                    books          234169   \n",
       "49        Virginia Woolf       gpt-3.5-turbo-0125          276439   \n",
       "50        Virginia Woolf                   gpt-4o          260258   \n",
       "51        Virginia Woolf         gemini-1.5-flash          250451   \n",
       "52        Virginia Woolf        open-mixtral-8x7b          264476   \n",
       "53        Virginia Woolf  claude-3-haiku-20240307          268586   \n",
       "54         Lewis Carroll                    books          211604   \n",
       "55         Lewis Carroll       gpt-3.5-turbo-0125          265596   \n",
       "56         Lewis Carroll                   gpt-4o          254691   \n",
       "57         Lewis Carroll         gemini-1.5-flash          243889   \n",
       "58         Lewis Carroll        open-mixtral-8x7b          258855   \n",
       "59         Lewis Carroll  claude-3-haiku-20240307          266637   \n",
       "\n",
       "   num_of_complex_words num_of_sentences num_of_words num_of_splits  \n",
       "0                 14989             8724       172208        200602  \n",
       "1                 18111             8422       178001        200458  \n",
       "2                 16405             9122       172094        200429  \n",
       "3                 13251             9804       168488        200452  \n",
       "4                 17633             7647       174313        200581  \n",
       "5                 15650             8275       171942        200537  \n",
       "6                 10626            13441       167105        200384  \n",
       "7                 19734             7862       178574        200477  \n",
       "8                 18200             9001       173092        200510  \n",
       "9                 15285             9325       168982        200442  \n",
       "10                18292             7823       175920        200480  \n",
       "11                19855             7913       174606        200498  \n",
       "12                14650            10614       171855        200689  \n",
       "13                23920             7722       179340        200549  \n",
       "14                22202             8318       173647        200490  \n",
       "15                18470             8233       169259        200530  \n",
       "16                21823             6181       176801        200622  \n",
       "17                23533             6521       177076        200724  \n",
       "18                18088             9604       169137        200795  \n",
       "19                25457             7664       179622        200582  \n",
       "20                27286             8175       174502        200469  \n",
       "21                22792             8139       170965        200574  \n",
       "22                23568             6587       176510        201012  \n",
       "23                25339             6564       177441        200725  \n",
       "24                14689             7599       173076        200867  \n",
       "25                24779             7590       179809        200615  \n",
       "26                24086             8278       173799        200494  \n",
       "27                23014             7867       171358        200506  \n",
       "28                24562             6044       177382        200623  \n",
       "29                25575             6560       177253        200649  \n",
       "30                13479             6373       174900        200752  \n",
       "31                25738             7561       180235        200661  \n",
       "32                22369             8499       173724        200530  \n",
       "33                18576             8093       171242        200512  \n",
       "34                22835             6546       176958        200708  \n",
       "35                25636             6564       177186        200575  \n",
       "36                10831            12379       169082        200447  \n",
       "37                20349             8172       178410        200507  \n",
       "38                19853             8675       173355        200520  \n",
       "39                17162             9046       168939        200476  \n",
       "40                19320             7408       175390        200582  \n",
       "41                21338             7903       175286        200572  \n",
       "42                 7906             7723       171436        200763  \n",
       "43                20916             8102       178148        200447  \n",
       "44                17353             8491       173365        200451  \n",
       "45                16407             8886       170009        200433  \n",
       "46                17992             7213       176419        200812  \n",
       "47                21915             7268       175988        200428  \n",
       "48                13256             9515       168793        200693  \n",
       "49                24022             7684       179571        200440  \n",
       "50                20928             8303       172599        200634  \n",
       "51                19208             8343       169043        200429  \n",
       "52                21689             6475       176507        200678  \n",
       "53                22883             6889       175783        200710  \n",
       "54                10008             9801       159282        200635  \n",
       "55                20551             8068       178360        200541  \n",
       "56                19774             9195       171006        200467  \n",
       "57                18201             9081       165422        200596  \n",
       "58                20783             7999       173400        200626  \n",
       "59                22811             7040       174680        200655  "
      ]
     },
     "execution_count": 7,
     "metadata": {},
     "output_type": "execute_result"
    }
   ],
   "source": [
    "preprocessing_results = WritingStylePreprocessing(settings).preprocess(dataset)\n",
    "preprocessing_results.info()"
   ]
  },
  {
   "cell_type": "code",
   "execution_count": 8,
   "metadata": {},
   "outputs": [],
   "source": [
    "metrics_analysis_results = WritingStyleMetricsAnalysis().analyze(preprocessing_results)"
   ]
  },
  {
   "cell_type": "code",
   "execution_count": 9,
   "metadata": {},
   "outputs": [
    {
     "data": {
      "text/plain": [
       "['source_name',\n",
       " 'author_name',\n",
       " 'collection_name',\n",
       " 'unique_word_count',\n",
       " 'average_word_length',\n",
       " 'average_sentence_length',\n",
       " 'average_syllables_per_word',\n",
       " 'flesch_reading_ease',\n",
       " 'flesch_kincaid_grade_level',\n",
       " 'gunning_fog_index',\n",
       " 'yules_characteristic_k',\n",
       " 'herdans_c',\n",
       " 'maas',\n",
       " 'simpsons_index',\n",
       " '/',\n",
       " '#',\n",
       " '-',\n",
       " ';',\n",
       " '[',\n",
       " '(',\n",
       " ':',\n",
       " '\"',\n",
       " '*',\n",
       " '_',\n",
       " \"'\",\n",
       " '!',\n",
       " '?',\n",
       " ',',\n",
       " '.',\n",
       " '%',\n",
       " ')',\n",
       " 'his',\n",
       " 'it',\n",
       " 'was',\n",
       " 'our',\n",
       " 'her',\n",
       " 'of',\n",
       " 'the',\n",
       " 'said',\n",
       " 'he',\n",
       " 'their',\n",
       " 'and',\n",
       " 'its',\n",
       " 'she',\n",
       " 'my',\n",
       " 'in',\n",
       " 'you',\n",
       " 'with',\n",
       " 'a',\n",
       " 'as',\n",
       " 'to',\n",
       " 'that',\n",
       " 'is']"
      ]
     },
     "execution_count": 9,
     "metadata": {},
     "output_type": "execute_result"
    }
   ],
   "source": [
    "feature_extractor = FeatureExtractor(\n",
    "    settings=settings, \n",
    "    metrics_analysis_results=metrics_analysis_results\n",
    ")\n",
    "feature_extractor.get_feature_names()"
   ]
  },
  {
   "cell_type": "code",
   "execution_count": 10,
   "metadata": {},
   "outputs": [
    {
     "data": {
      "application/vnd.plotly.v1+json": {
       "config": {
        "plotlyServerURL": "https://plot.ly"
       },
       "data": [
        {
         "marker": {
          "color": "#3498db"
         },
         "name": "books",
         "showlegend": true,
         "type": "bar",
         "x": [
          "Mark Twain",
          "Zane Grey",
          "Joseph Conrad",
          "Benjamin Disraeli",
          "George Eliot",
          "William Henry Hudson",
          "Lucy Maud Montgomery",
          "Howard Pyle",
          "Virginia Woolf",
          "Lewis Carroll"
         ],
         "xaxis": "x",
         "y": [
          16628,
          13556,
          14436,
          14306,
          14069,
          13761,
          12153,
          11637,
          12852,
          12323
         ],
         "yaxis": "y"
        },
        {
         "marker": {
          "color": "#3498db"
         },
         "name": "books",
         "showlegend": false,
         "type": "bar",
         "x": [
          "Mark Twain",
          "Zane Grey",
          "Joseph Conrad",
          "Benjamin Disraeli",
          "George Eliot",
          "William Henry Hudson",
          "Lucy Maud Montgomery",
          "Howard Pyle",
          "Virginia Woolf",
          "Lewis Carroll"
         ],
         "xaxis": "x2",
         "y": [
          4.2829020719130355,
          4.1978097603303315,
          4.313845974804341,
          4.507488012676115,
          4.30256072476831,
          4.284110920526015,
          4.11735725860825,
          4.140093095965842,
          4.362325451884853,
          4.120836001556987
         ],
         "yaxis": "y2"
        },
        {
         "marker": {
          "color": "#3498db"
         },
         "name": "books",
         "showlegend": false,
         "type": "bar",
         "x": [
          "Mark Twain",
          "Zane Grey",
          "Joseph Conrad",
          "Benjamin Disraeli",
          "George Eliot",
          "William Henry Hudson",
          "Lucy Maud Montgomery",
          "Howard Pyle",
          "Virginia Woolf",
          "Lewis Carroll"
         ],
         "xaxis": "x3",
         "y": [
          19.73956900504356,
          12.432482702179897,
          16.191351045788583,
          17.61109954185756,
          22.776154757204896,
          27.443903969872903,
          13.658776960982308,
          22.198109542923735,
          17.739674198633736,
          16.251606978879707
         ],
         "yaxis": "y3"
        },
        {
         "marker": {
          "color": "#3498db"
         },
         "name": "books",
         "showlegend": false,
         "type": "bar",
         "x": [
          "Mark Twain",
          "Zane Grey",
          "Joseph Conrad",
          "Benjamin Disraeli",
          "George Eliot",
          "William Henry Hudson",
          "Lucy Maud Montgomery",
          "Howard Pyle",
          "Virginia Woolf",
          "Lewis Carroll"
         ],
         "xaxis": "x4",
         "y": [
          1.38602155532844,
          1.32366476167679,
          1.390201041575747,
          1.450528269982322,
          1.3924576486630151,
          1.3683190394511149,
          1.3305141883819684,
          1.293427284817658,
          1.3873146398251113,
          1.3284865835436521
         ],
         "yaxis": "y4"
        },
        {
         "marker": {
          "color": "#3498db"
         },
         "name": "books",
         "showlegend": false,
         "type": "bar",
         "x": [
          "Mark Twain",
          "Zane Grey",
          "Joseph Conrad",
          "Benjamin Disraeli",
          "George Eliot",
          "William Henry Hudson",
          "Lucy Maud Montgomery",
          "Howard Pyle",
          "Virginia Woolf",
          "Lewis Carroll"
         ],
         "xaxis": "x5",
         "y": [
          69.54191387909478,
          82.23399121943098,
          72.78977057121641,
          66.24504232451014,
          65.91528584454596,
          63.219646733014685,
          80.40984104748844,
          74.87997051835856,
          71.46241215918235,
          77.94965394864414
         ],
         "yaxis": "y5"
        },
        {
         "marker": {
          "color": "#3498db"
         },
         "name": "books",
         "showlegend": false,
         "type": "bar",
         "x": [
          "Mark Twain",
          "Zane Grey",
          "Joseph Conrad",
          "Benjamin Disraeli",
          "George Eliot",
          "William Henry Hudson",
          "Lucy Maud Montgomery",
          "Howard Pyle",
          "Virginia Woolf",
          "Lewis Carroll"
         ],
         "xaxis": "x6",
         "y": [
          8.463486264842583,
          4.877912441636283,
          7.128999198451364,
          8.394562407115853,
          9.723700609533491,
          11.259287213773586,
          5.43699043769033,
          8.329704682588623,
          7.698785687403472,
          6.424268407578182
         ],
         "yaxis": "y6"
        },
        {
         "marker": {
          "color": "#3498db"
         },
         "name": "books",
         "showlegend": false,
         "type": "bar",
         "x": [
          "Mark Twain",
          "Zane Grey",
          "Joseph Conrad",
          "Benjamin Disraeli",
          "George Eliot",
          "William Henry Hudson",
          "Lucy Maud Montgomery",
          "Howard Pyle",
          "Virginia Woolf",
          "Lewis Carroll"
         ],
         "xaxis": "x7",
         "y": [
          11.377431244124644,
          7.5165435431561525,
          9.886391746469982,
          11.322155514668374,
          12.505271119642225,
          14.06023740270045,
          8.025817830678157,
          10.723897215522232,
          10.237232176713453,
          9.013921128087086
         ],
         "yaxis": "y7"
        },
        {
         "marker": {
          "color": "#3498db"
         },
         "name": "books",
         "showlegend": false,
         "type": "bar",
         "x": [
          "Mark Twain",
          "Zane Grey",
          "Joseph Conrad",
          "Benjamin Disraeli",
          "George Eliot",
          "William Henry Hudson",
          "Lucy Maud Montgomery",
          "Howard Pyle",
          "Virginia Woolf",
          "Lewis Carroll"
         ],
         "xaxis": "x8",
         "y": [
          86.95696523042895,
          72.84213763934291,
          86.99880366767603,
          82.0929149084919,
          74.36250084300472,
          84.5591087939207,
          65.52262979843017,
          89.19352042575925,
          77.44515266371141,
          73.0665259799927
         ],
         "yaxis": "y8"
        },
        {
         "marker": {
          "color": "#3498db"
         },
         "name": "books",
         "showlegend": false,
         "type": "bar",
         "x": [
          "Mark Twain",
          "Zane Grey",
          "Joseph Conrad",
          "Benjamin Disraeli",
          "George Eliot",
          "William Henry Hudson",
          "Lucy Maud Montgomery",
          "Howard Pyle",
          "Virginia Woolf",
          "Lewis Carroll"
         ],
         "xaxis": "x9",
         "y": [
          0.09655765121248723,
          0.08112264743724006,
          0.08400104739460591,
          0.08458232084050207,
          0.08128798909149737,
          0.07867924528301887,
          0.07187636767958742,
          0.06787955855246272,
          0.07614059824755766,
          0.07736592960912093
         ],
         "yaxis": "y9"
        },
        {
         "marker": {
          "color": "#3498db"
         },
         "name": "books",
         "showlegend": false,
         "type": "bar",
         "x": [
          "Mark Twain",
          "Zane Grey",
          "Joseph Conrad",
          "Benjamin Disraeli",
          "George Eliot",
          "William Henry Hudson",
          "Lucy Maud Montgomery",
          "Howard Pyle",
          "Virginia Woolf",
          "Lewis Carroll"
         ],
         "xaxis": "x10",
         "y": [
          0.09694451569574176,
          0.10442849790537467,
          0.10273944372574112,
          0.10258908207922508,
          0.10404012373128538,
          0.10530078972752324,
          0.10935277177125015,
          0.11160089974761116,
          0.10697416156940633,
          0.10682570511250633
         ],
         "yaxis": "y10"
        },
        {
         "marker": {
          "color": "#3498db"
         },
         "name": "books",
         "showlegend": false,
         "type": "bar",
         "x": [
          "Mark Twain",
          "Zane Grey",
          "Joseph Conrad",
          "Benjamin Disraeli",
          "George Eliot",
          "William Henry Hudson",
          "Lucy Maud Montgomery",
          "Howard Pyle",
          "Virginia Woolf",
          "Lewis Carroll"
         ],
         "xaxis": "x11",
         "y": [
          0.9912441639532621,
          0.9926420181628878,
          0.9912308483669536,
          0.9917208077682029,
          0.9924926716585384,
          0.9914714199831905,
          0.9933654528104968,
          0.9909947151568741,
          0.9921776758322906,
          0.9926121983311575
         ],
         "yaxis": "y11"
        },
        {
         "marker": {
          "color": "#e74c3c"
         },
         "name": "gpt-3.5-turbo-0125",
         "showlegend": true,
         "type": "bar",
         "x": [
          "Mark Twain",
          "Zane Grey",
          "Joseph Conrad",
          "Benjamin Disraeli",
          "George Eliot",
          "William Henry Hudson",
          "Lucy Maud Montgomery",
          "Howard Pyle",
          "Virginia Woolf",
          "Lewis Carroll"
         ],
         "xaxis": "x",
         "y": [
          12139,
          11762,
          11861,
          12414,
          12079,
          12080,
          11388,
          12068,
          11825,
          11635
         ],
         "yaxis": "y"
        },
        {
         "marker": {
          "color": "#e74c3c"
         },
         "name": "gpt-3.5-turbo-0125",
         "showlegend": false,
         "type": "bar",
         "x": [
          "Mark Twain",
          "Zane Grey",
          "Joseph Conrad",
          "Benjamin Disraeli",
          "George Eliot",
          "William Henry Hudson",
          "Lucy Maud Montgomery",
          "Howard Pyle",
          "Virginia Woolf",
          "Lewis Carroll"
         ],
         "xaxis": "x2",
         "y": [
          4.48124448739052,
          4.598071387772016,
          4.7149269543883126,
          4.7537606751956885,
          4.756330328292799,
          4.7938580186978115,
          4.639554957681744,
          4.656572063677392,
          4.709942028501262,
          4.636583314644539
         ],
         "yaxis": "y2"
        },
        {
         "marker": {
          "color": "#e74c3c"
         },
         "name": "gpt-3.5-turbo-0125",
         "showlegend": false,
         "type": "bar",
         "x": [
          "Mark Twain",
          "Zane Grey",
          "Joseph Conrad",
          "Benjamin Disraeli",
          "George Eliot",
          "William Henry Hudson",
          "Lucy Maud Montgomery",
          "Howard Pyle",
          "Virginia Woolf",
          "Lewis Carroll"
         ],
         "xaxis": "x3",
         "y": [
          21.13524103538352,
          22.713558890867464,
          23.224553224553226,
          23.437108559498956,
          23.690250329380763,
          23.837455363047216,
          21.83186490455213,
          21.988151073808936,
          23.36946902654867,
          22.107089737233515
         ],
         "yaxis": "y3"
        },
        {
         "marker": {
          "color": "#e74c3c"
         },
         "name": "gpt-3.5-turbo-0125",
         "showlegend": false,
         "type": "bar",
         "x": [
          "Mark Twain",
          "Zane Grey",
          "Joseph Conrad",
          "Benjamin Disraeli",
          "George Eliot",
          "William Henry Hudson",
          "Lucy Maud Montgomery",
          "Howard Pyle",
          "Virginia Woolf",
          "Lewis Carroll"
         ],
         "xaxis": "x4",
         "y": [
          1.4466098505064577,
          1.4798010908642916,
          1.5382959741273559,
          1.5608500072374207,
          1.551596416197187,
          1.5644908036729825,
          1.4893447676699736,
          1.4980241147809685,
          1.5394412238056256,
          1.4891006952231443
         ],
         "yaxis": "y4"
        },
        {
         "marker": {
          "color": "#e74c3c"
         },
         "name": "gpt-3.5-turbo-0125",
         "showlegend": false,
         "type": "bar",
         "x": [
          "Mark Twain",
          "Zane Grey",
          "Joseph Conrad",
          "Benjamin Disraeli",
          "George Eliot",
          "William Henry Hudson",
          "Lucy Maud Montgomery",
          "Howard Pyle",
          "Virginia Woolf",
          "Lewis Carroll"
         ],
         "xaxis": "x5",
         "y": [
          62.999536996239414,
          58.58956543865048,
          53.12223906590418,
          50.99842419982278,
          51.524339105396535,
          50.28406081577276,
          58.677089776999836,
          57.784186549614006,
          52.878261404097174,
          58.41838510083001
         ],
         "yaxis": "y5"
        },
        {
         "marker": {
          "color": "#e74c3c"
         },
         "name": "gpt-3.5-turbo-0125",
         "showlegend": false,
         "type": "bar",
         "x": [
          "Mark Twain",
          "Zane Grey",
          "Joseph Conrad",
          "Benjamin Disraeli",
          "George Eliot",
          "William Henry Hudson",
          "Lucy Maud Montgomery",
          "Howard Pyle",
          "Virginia Woolf",
          "Lewis Carroll"
         ],
         "xaxis": "x6",
         "y": [
          9.722740239775774,
          10.729940839636953,
          11.619468252278558,
          11.968502423606157,
          11.958035339585305,
          12.167599074929608,
          10.498695571281022,
          10.662063473200917,
          11.689499361260367,
          10.603153201154175
         ],
         "yaxis": "y6"
        },
        {
         "marker": {
          "color": "#e74c3c"
         },
         "name": "gpt-3.5-turbo-0125",
         "showlegend": false,
         "type": "bar",
         "x": [
          "Mark Twain",
          "Zane Grey",
          "Joseph Conrad",
          "Benjamin Disraeli",
          "George Eliot",
          "William Henry Hudson",
          "Lucy Maud Montgomery",
          "Howard Pyle",
          "Virginia Woolf",
          "Lewis Carroll"
         ],
         "xaxis": "x7",
         "y": [
          12.523961190193994,
          13.50577590327319,
          14.624938943440117,
          15.043859468604786,
          14.988393732183875,
          15.247080239373743,
          13.29504628130967,
          13.491580343303127,
          14.698762990831197,
          13.451716809896773
         ],
         "yaxis": "y7"
        },
        {
         "marker": {
          "color": "#e74c3c"
         },
         "name": "gpt-3.5-turbo-0125",
         "showlegend": false,
         "type": "bar",
         "x": [
          "Mark Twain",
          "Zane Grey",
          "Joseph Conrad",
          "Benjamin Disraeli",
          "George Eliot",
          "William Henry Hudson",
          "Lucy Maud Montgomery",
          "Howard Pyle",
          "Virginia Woolf",
          "Lewis Carroll"
         ],
         "xaxis": "x8",
         "y": [
          104.11323871749899,
          125.0106623242195,
          129.578063632599,
          119.12053146823696,
          126.06884280926273,
          127.7673587843467,
          111.0592939564645,
          117.81523593303007,
          134.54106738336543,
          119.05980541234626
         ],
         "yaxis": "y8"
        },
        {
         "marker": {
          "color": "#e74c3c"
         },
         "name": "gpt-3.5-turbo-0125",
         "showlegend": false,
         "type": "bar",
         "x": [
          "Mark Twain",
          "Zane Grey",
          "Joseph Conrad",
          "Benjamin Disraeli",
          "George Eliot",
          "William Henry Hudson",
          "Lucy Maud Montgomery",
          "Howard Pyle",
          "Virginia Woolf",
          "Lewis Carroll"
         ],
         "xaxis": "x9",
         "y": [
          0.06819624608850512,
          0.06586625152597803,
          0.06613694658191145,
          0.06911180144971106,
          0.06717683764438932,
          0.06702360806724554,
          0.06383050277450815,
          0.0677414284752004,
          0.06585139025789243,
          0.0652332361516035
         ],
         "yaxis": "y9"
        },
        {
         "marker": {
          "color": "#e74c3c"
         },
         "name": "gpt-3.5-turbo-0125",
         "showlegend": false,
         "type": "bar",
         "x": [
          "Mark Twain",
          "Zane Grey",
          "Joseph Conrad",
          "Benjamin Disraeli",
          "George Eliot",
          "William Henry Hudson",
          "Lucy Maud Montgomery",
          "Howard Pyle",
          "Virginia Woolf",
          "Lewis Carroll"
         ],
         "xaxis": "x10",
         "y": [
          0.11106149491646558,
          0.11246933925638747,
          0.1122600249668816,
          0.11042713965000923,
          0.11159110664958581,
          0.11166363423263047,
          0.11377607564513861,
          0.11133064399850595,
          0.11242690721589704,
          0.11287982486756461
         ],
         "yaxis": "y10"
        },
        {
         "marker": {
          "color": "#e74c3c"
         },
         "name": "gpt-3.5-turbo-0125",
         "showlegend": false,
         "type": "bar",
         "x": [
          "Mark Twain",
          "Zane Grey",
          "Joseph Conrad",
          "Benjamin Disraeli",
          "George Eliot",
          "William Henry Hudson",
          "Lucy Maud Montgomery",
          "Howard Pyle",
          "Virginia Woolf",
          "Lewis Carroll"
         ],
         "xaxis": "x11",
         "y": [
          0.989506297019592,
          0.9874139142130806,
          0.9869578837134622,
          0.988007392640191,
          0.9873103274087831,
          0.9871404826646117,
          0.9888062588727062,
          0.9881356126347381,
          0.9864613266654689,
          0.9880080718867843
         ],
         "yaxis": "y11"
        },
        {
         "marker": {
          "color": "#2ecc71"
         },
         "name": "gpt-4o",
         "showlegend": true,
         "type": "bar",
         "x": [
          "Mark Twain",
          "Zane Grey",
          "Joseph Conrad",
          "Benjamin Disraeli",
          "George Eliot",
          "William Henry Hudson",
          "Lucy Maud Montgomery",
          "Howard Pyle",
          "Virginia Woolf",
          "Lewis Carroll"
         ],
         "xaxis": "x",
         "y": [
          14806,
          12358,
          13014,
          14126,
          13825,
          13286,
          12492,
          12851,
          12746,
          13373
         ],
         "yaxis": "y"
        },
        {
         "marker": {
          "color": "#2ecc71"
         },
         "name": "gpt-4o",
         "showlegend": false,
         "type": "bar",
         "x": [
          "Mark Twain",
          "Zane Grey",
          "Joseph Conrad",
          "Benjamin Disraeli",
          "George Eliot",
          "William Henry Hudson",
          "Lucy Maud Montgomery",
          "Howard Pyle",
          "Virginia Woolf",
          "Lewis Carroll"
         ],
         "xaxis": "x2",
         "y": [
          4.434274291956721,
          4.588808263813464,
          4.6734582227162,
          4.857720828414574,
          4.775211595003423,
          4.712567060394649,
          4.652181938796112,
          4.568240417616012,
          4.638613201698735,
          4.658824836555443
         ],
         "yaxis": "y2"
        },
        {
         "marker": {
          "color": "#2ecc71"
         },
         "name": "gpt-4o",
         "showlegend": false,
         "type": "bar",
         "x": [
          "Mark Twain",
          "Zane Grey",
          "Joseph Conrad",
          "Benjamin Disraeli",
          "George Eliot",
          "William Henry Hudson",
          "Lucy Maud Montgomery",
          "Howard Pyle",
          "Virginia Woolf",
          "Lewis Carroll"
         ],
         "xaxis": "x3",
         "y": [
          18.865818899364175,
          19.230307743584046,
          20.87605193556143,
          21.345810397553517,
          20.995288717081422,
          20.440522414401695,
          19.98328530259366,
          20.417500883288188,
          20.787546669878356,
          18.597716150081567
         ],
         "yaxis": "y3"
        },
        {
         "marker": {
          "color": "#2ecc71"
         },
         "name": "gpt-4o",
         "showlegend": false,
         "type": "bar",
         "x": [
          "Mark Twain",
          "Zane Grey",
          "Joseph Conrad",
          "Benjamin Disraeli",
          "George Eliot",
          "William Henry Hudson",
          "Lucy Maud Montgomery",
          "Howard Pyle",
          "Virginia Woolf",
          "Lewis Carroll"
         ],
         "xaxis": "x4",
         "y": [
          1.428190407567957,
          1.4651688119612691,
          1.5233260580372825,
          1.6026234656336318,
          1.5553714348183822,
          1.5290057792820797,
          1.489896455250786,
          1.450696507368846,
          1.507876638914478,
          1.4893687940774007
         ],
         "yaxis": "y4"
        },
        {
         "marker": {
          "color": "#2ecc71"
         },
         "name": "gpt-4o",
         "showlegend": false,
         "type": "bar",
         "x": [
          "Mark Twain",
          "Zane Grey",
          "Joseph Conrad",
          "Benjamin Disraeli",
          "George Eliot",
          "William Henry Hudson",
          "Lucy Maud Montgomery",
          "Howard Pyle",
          "Virginia Woolf",
          "Lewis Carroll"
         ],
         "xaxis": "x5",
         "y": [
          66.86128533689623,
          63.36295614833885,
          56.772422775451076,
          49.58705725387796,
          53.94035856652724,
          56.733980822118355,
          60.50672530365095,
          63.38231208005813,
          58.16927647790865,
          61.95771812871914
         ],
         "yaxis": "y5"
        },
        {
         "marker": {
          "color": "#2ecc71"
         },
         "name": "gpt-4o",
         "showlegend": false,
         "type": "bar",
         "x": [
          "Mark Twain",
          "Zane Grey",
          "Joseph Conrad",
          "Benjamin Disraeli",
          "George Eliot",
          "William Henry Hudson",
          "Lucy Maud Montgomery",
          "Howard Pyle",
          "Virginia Woolf",
          "Lewis Carroll"
         ],
         "xaxis": "x6",
         "y": [
          8.620316180053923,
          9.198812001140755,
          10.526907739708893,
          11.645822949522728,
          10.951545530518668,
          10.424071937145204,
          9.784259439970807,
          9.491044131434776,
          10.310087540443401,
          9.237661068645142
         ],
         "yaxis": "y6"
        },
        {
         "marker": {
          "color": "#2ecc71"
         },
         "name": "gpt-4o",
         "showlegend": false,
         "type": "bar",
         "x": [
          "Mark Twain",
          "Zane Grey",
          "Joseph Conrad",
          "Benjamin Disraeli",
          "George Eliot",
          "William Henry Hudson",
          "Lucy Maud Montgomery",
          "Howard Pyle",
          "Virginia Woolf",
          "Lewis Carroll"
         ],
         "xaxis": "x7",
         "y": [
          11.35935997226441,
          11.897978942879972,
          13.464704349523888,
          14.79292296018128,
          13.941530581280754,
          13.326677525084662,
          12.574203048383085,
          12.170807350113938,
          13.165104705529778,
          12.064421243607473
         ],
         "yaxis": "y7"
        },
        {
         "marker": {
          "color": "#2ecc71"
         },
         "name": "gpt-4o",
         "showlegend": false,
         "type": "bar",
         "x": [
          "Mark Twain",
          "Zane Grey",
          "Joseph Conrad",
          "Benjamin Disraeli",
          "George Eliot",
          "William Henry Hudson",
          "Lucy Maud Montgomery",
          "Howard Pyle",
          "Virginia Woolf",
          "Lewis Carroll"
         ],
         "xaxis": "x8",
         "y": [
          100.70733583113208,
          130.34279660857675,
          143.57653905318577,
          138.21164097438646,
          128.3816710579328,
          131.23577801754712,
          121.62595292246984,
          128.8447188596017,
          138.8838683151998,
          109.66952703999789
         ],
         "yaxis": "y8"
        },
        {
         "marker": {
          "color": "#2ecc71"
         },
         "name": "gpt-4o",
         "showlegend": false,
         "type": "bar",
         "x": [
          "Mark Twain",
          "Zane Grey",
          "Joseph Conrad",
          "Benjamin Disraeli",
          "George Eliot",
          "William Henry Hudson",
          "Lucy Maud Montgomery",
          "Howard Pyle",
          "Virginia Woolf",
          "Lewis Carroll"
         ],
         "xaxis": "x9",
         "y": [
          0.08603437656164654,
          0.07139555843135442,
          0.07494514733914205,
          0.08095036160044011,
          0.0795459122319461,
          0.0764776311850982,
          0.0720602232413256,
          0.07412684221151905,
          0.07384747304445564,
          0.07820193443504907
         ],
         "yaxis": "y9"
        },
        {
         "marker": {
          "color": "#2ecc71"
         },
         "name": "gpt-4o",
         "showlegend": false,
         "type": "bar",
         "x": [
          "Mark Twain",
          "Zane Grey",
          "Joseph Conrad",
          "Benjamin Disraeli",
          "George Eliot",
          "William Henry Hudson",
          "Lucy Maud Montgomery",
          "Howard Pyle",
          "Virginia Woolf",
          "Lewis Carroll"
         ],
         "xaxis": "x10",
         "y": [
          0.10173564280198429,
          0.1094184982983481,
          0.10737861977914236,
          0.10414181405062628,
          0.10490192893063302,
          0.10653582448766934,
          0.10902064041158978,
          0.10784814096738295,
          0.10804430878427645,
          0.10575005768262496
         ],
         "yaxis": "y10"
        },
        {
         "marker": {
          "color": "#2ecc71"
         },
         "name": "gpt-4o",
         "showlegend": false,
         "type": "bar",
         "x": [
          "Mark Twain",
          "Zane Grey",
          "Joseph Conrad",
          "Benjamin Disraeli",
          "George Eliot",
          "William Henry Hudson",
          "Lucy Maud Montgomery",
          "Howard Pyle",
          "Virginia Woolf",
          "Lewis Carroll"
         ],
         "xaxis": "x11",
         "y": [
          0.9898617262304759,
          0.9868848010965464,
          0.9855655057688785,
          0.9861080444541683,
          0.9870895001636462,
          0.9868011549996905,
          0.9877573534749641,
          0.9870377131580053,
          0.9860331571822882,
          0.9889582697591722
         ],
         "yaxis": "y11"
        },
        {
         "marker": {
          "color": "#f1c40f"
         },
         "name": "gemini-1.5-flash",
         "showlegend": true,
         "type": "bar",
         "x": [
          "Mark Twain",
          "Zane Grey",
          "Joseph Conrad",
          "Benjamin Disraeli",
          "George Eliot",
          "William Henry Hudson",
          "Lucy Maud Montgomery",
          "Howard Pyle",
          "Virginia Woolf",
          "Lewis Carroll"
         ],
         "xaxis": "x",
         "y": [
          11133,
          10053,
          9821,
          11091,
          11088,
          10279,
          10810,
          10947,
          9790,
          10909
         ],
         "yaxis": "y"
        },
        {
         "marker": {
          "color": "#f1c40f"
         },
         "name": "gemini-1.5-flash",
         "showlegend": false,
         "type": "bar",
         "x": [
          "Mark Twain",
          "Zane Grey",
          "Joseph Conrad",
          "Benjamin Disraeli",
          "George Eliot",
          "William Henry Hudson",
          "Lucy Maud Montgomery",
          "Howard Pyle",
          "Virginia Woolf",
          "Lewis Carroll"
         ],
         "xaxis": "x2",
         "y": [
          4.235150277764588,
          4.433016534305429,
          4.530860988189698,
          4.64457052613108,
          4.66397833774904,
          4.521145513367048,
          4.505300729849235,
          4.448205683228535,
          4.536265920505434,
          4.555693922211073
         ],
         "yaxis": "y2"
        },
        {
         "marker": {
          "color": "#f1c40f"
         },
         "name": "gemini-1.5-flash",
         "showlegend": false,
         "type": "bar",
         "x": [
          "Mark Twain",
          "Zane Grey",
          "Joseph Conrad",
          "Benjamin Disraeli",
          "George Eliot",
          "William Henry Hudson",
          "Lucy Maud Montgomery",
          "Howard Pyle",
          "Virginia Woolf",
          "Lewis Carroll"
         ],
         "xaxis": "x3",
         "y": [
          17.18563851489188,
          18.121394101876675,
          20.55860561156322,
          21.00565179997543,
          21.781873649421634,
          21.159273446188063,
          18.67554720318373,
          19.132230474904343,
          20.26165647848496,
          18.216275740557208
         ],
         "yaxis": "y3"
        },
        {
         "marker": {
          "color": "#f1c40f"
         },
         "name": "gemini-1.5-flash",
         "showlegend": false,
         "type": "bar",
         "x": [
          "Mark Twain",
          "Zane Grey",
          "Joseph Conrad",
          "Benjamin Disraeli",
          "George Eliot",
          "William Henry Hudson",
          "Lucy Maud Montgomery",
          "Howard Pyle",
          "Virginia Woolf",
          "Lewis Carroll"
         ],
         "xaxis": "x4",
         "y": [
          1.3701213142775746,
          1.418884851641003,
          1.4695584872887113,
          1.53722106863978,
          1.5394904235576978,
          1.4714789596010325,
          1.4497126181639526,
          1.4336652765441829,
          1.4815816094129897,
          1.4743444040091402
         ],
         "yaxis": "y4"
        },
        {
         "marker": {
          "color": "#f1c40f"
         },
         "name": "gemini-1.5-flash",
         "showlegend": false,
         "type": "bar",
         "x": [
          "Mark Twain",
          "Zane Grey",
          "Joseph Conrad",
          "Benjamin Disraeli",
          "George Eliot",
          "William Henry Hudson",
          "Lucy Maud Montgomery",
          "Howard Pyle",
          "Virginia Woolf",
          "Lewis Carroll"
         ],
         "xaxis": "x5",
         "y": [
          73.47931371950195,
          68.40412653776634,
          61.64336727963837,
          55.465361016099564,
          54.485508412855836,
          60.87121746987178,
          65.23363209209813,
          66.12770367233425,
          60.92761451799885,
          63.6159435441612
         ],
         "yaxis": "y5"
        },
        {
         "marker": {
          "color": "#f1c40f"
         },
         "name": "gemini-1.5-flash",
         "showlegend": false,
         "type": "bar",
         "x": [
          "Mark Twain",
          "Zane Grey",
          "Joseph Conrad",
          "Benjamin Disraeli",
          "George Eliot",
          "William Henry Hudson",
          "Lucy Maud Montgomery",
          "Howard Pyle",
          "Virginia Woolf",
          "Lewis Carroll"
         ],
         "xaxis": "x6",
         "y": [
          7.279830529283213,
          8.220184949095742,
          9.76864633851645,
          10.741412811939824,
          11.070917721255274,
          10.025568367305528,
          8.800072303576297,
          8.788820148434052,
          9.794709017682415,
          8.911611506125169
         ],
         "yaxis": "y6"
        },
        {
         "marker": {
          "color": "#f1c40f"
         },
         "name": "gemini-1.5-flash",
         "showlegend": false,
         "type": "bar",
         "x": [
          "Mark Twain",
          "Zane Grey",
          "Joseph Conrad",
          "Benjamin Disraeli",
          "George Eliot",
          "William Henry Hudson",
          "Lucy Maud Montgomery",
          "Howard Pyle",
          "Virginia Woolf",
          "Lewis Carroll"
         ],
         "xaxis": "x7",
         "y": [
          10.020117425803864,
          10.866694483728029,
          12.588350462208991,
          13.734814166602053,
          14.084894326071947,
          12.802831790033139,
          11.533697414945408,
          11.513158411161792,
          12.64977833117617,
          11.687617766813254
         ],
         "yaxis": "y7"
        },
        {
         "marker": {
          "color": "#f1c40f"
         },
         "name": "gemini-1.5-flash",
         "showlegend": false,
         "type": "bar",
         "x": [
          "Mark Twain",
          "Zane Grey",
          "Joseph Conrad",
          "Benjamin Disraeli",
          "George Eliot",
          "William Henry Hudson",
          "Lucy Maud Montgomery",
          "Howard Pyle",
          "Virginia Woolf",
          "Lewis Carroll"
         ],
         "xaxis": "x8",
         "y": [
          110.57317436253973,
          140.22664263555333,
          158.68263102610288,
          154.700410241457,
          153.30468889761923,
          164.97020861210132,
          130.06076334627215,
          136.01344136925024,
          167.2748997964807,
          128.14658981691406
         ],
         "yaxis": "y8"
        },
        {
         "marker": {
          "color": "#f1c40f"
         },
         "name": "gemini-1.5-flash",
         "showlegend": false,
         "type": "bar",
         "x": [
          "Mark Twain",
          "Zane Grey",
          "Joseph Conrad",
          "Benjamin Disraeli",
          "George Eliot",
          "William Henry Hudson",
          "Lucy Maud Montgomery",
          "Howard Pyle",
          "Virginia Woolf",
          "Lewis Carroll"
         ],
         "xaxis": "x9",
         "y": [
          0.06607592232087744,
          0.059491543478003575,
          0.05802350244300156,
          0.06487292720732314,
          0.06470663756579792,
          0.060026161806098974,
          0.06398759315492575,
          0.06439070872718503,
          0.05791425850227457,
          0.0659464883751859
         ],
         "yaxis": "y9"
        },
        {
         "marker": {
          "color": "#f1c40f"
         },
         "name": "gemini-1.5-flash",
         "showlegend": false,
         "type": "bar",
         "x": [
          "Mark Twain",
          "Zane Grey",
          "Joseph Conrad",
          "Benjamin Disraeli",
          "George Eliot",
          "William Henry Hudson",
          "Lucy Maud Montgomery",
          "Howard Pyle",
          "Virginia Woolf",
          "Lewis Carroll"
         ],
         "xaxis": "x10",
         "y": [
          0.11288062701077146,
          0.11721329065537835,
          0.1182350403966155,
          0.11350636056655068,
          0.11359121986242064,
          0.11671287671249622,
          0.11418954724619762,
          0.11386896006689082,
          0.11832585734021665,
          0.11313473430859616
         ],
         "yaxis": "y10"
        },
        {
         "marker": {
          "color": "#f1c40f"
         },
         "name": "gemini-1.5-flash",
         "showlegend": false,
         "type": "bar",
         "x": [
          "Mark Twain",
          "Zane Grey",
          "Joseph Conrad",
          "Benjamin Disraeli",
          "George Eliot",
          "William Henry Hudson",
          "Lucy Maud Montgomery",
          "Howard Pyle",
          "Virginia Woolf",
          "Lewis Carroll"
         ],
         "xaxis": "x11",
         "y": [
          0.9888528595151518,
          0.9858778629422539,
          0.9840299142724024,
          0.9844397957804707,
          0.9845793435200505,
          0.9834056934106062,
          0.9869014167273524,
          0.9863073066349759,
          0.9831703649743867,
          0.9870936735877467
         ],
         "yaxis": "y11"
        },
        {
         "marker": {
          "color": "#9b59b6"
         },
         "name": "open-mixtral-8x7b",
         "showlegend": true,
         "type": "bar",
         "x": [
          "Mark Twain",
          "Zane Grey",
          "Joseph Conrad",
          "Benjamin Disraeli",
          "George Eliot",
          "William Henry Hudson",
          "Lucy Maud Montgomery",
          "Howard Pyle",
          "Virginia Woolf",
          "Lewis Carroll"
         ],
         "xaxis": "x",
         "y": [
          12631,
          10895,
          10959,
          12295,
          11576,
          12088,
          11277,
          11890,
          10510,
          12428
         ],
         "yaxis": "y"
        },
        {
         "marker": {
          "color": "#9b59b6"
         },
         "name": "open-mixtral-8x7b",
         "showlegend": false,
         "type": "bar",
         "x": [
          "Mark Twain",
          "Zane Grey",
          "Joseph Conrad",
          "Benjamin Disraeli",
          "George Eliot",
          "William Henry Hudson",
          "Lucy Maud Montgomery",
          "Howard Pyle",
          "Virginia Woolf",
          "Lewis Carroll"
         ],
         "xaxis": "x2",
         "y": [
          4.381612386913196,
          4.466888358344702,
          4.531026408221673,
          4.6092346042717125,
          4.652563394256464,
          4.617259462697363,
          4.547938879069502,
          4.463816255618726,
          4.526018798121321,
          4.605824682814302
         ],
         "yaxis": "y2"
        },
        {
         "marker": {
          "color": "#9b59b6"
         },
         "name": "open-mixtral-8x7b",
         "showlegend": false,
         "type": "bar",
         "x": [
          "Mark Twain",
          "Zane Grey",
          "Joseph Conrad",
          "Benjamin Disraeli",
          "George Eliot",
          "William Henry Hudson",
          "Lucy Maud Montgomery",
          "Howard Pyle",
          "Virginia Woolf",
          "Lewis Carroll"
         ],
         "xaxis": "x3",
         "y": [
          22.794952268863607,
          22.487536750607184,
          28.603947581297525,
          26.796720813724,
          29.34844473858372,
          27.032997250229148,
          23.675755939524837,
          24.458477748509637,
          27.25976833976834,
          21.677709713714215
         ],
         "yaxis": "y3"
        },
        {
         "marker": {
          "color": "#9b59b6"
         },
         "name": "open-mixtral-8x7b",
         "showlegend": false,
         "type": "bar",
         "x": [
          "Mark Twain",
          "Zane Grey",
          "Joseph Conrad",
          "Benjamin Disraeli",
          "George Eliot",
          "William Henry Hudson",
          "Lucy Maud Montgomery",
          "Howard Pyle",
          "Virginia Woolf",
          "Lewis Carroll"
         ],
         "xaxis": "x4",
         "y": [
          1.4361292617303356,
          1.4460663938153706,
          1.500291287945204,
          1.5277321398221064,
          1.5415036474952362,
          1.5197334960838165,
          1.4646559096869833,
          1.4401169942013048,
          1.4983881659084342,
          1.4928200692041522
         ],
         "yaxis": "y4"
        },
        {
         "marker": {
          "color": "#9b59b6"
         },
         "name": "open-mixtral-8x7b",
         "showlegend": false,
         "type": "bar",
         "x": [
          "Mark Twain",
          "Zane Grey",
          "Joseph Conrad",
          "Benjamin Disraeli",
          "George Eliot",
          "William Henry Hudson",
          "Lucy Maud Montgomery",
          "Howard Pyle",
          "Virginia Woolf",
          "Lewis Carroll"
         ],
         "xaxis": "x5",
         "y": [
          62.20158790471707,
          61.672933281353366,
          50.877350244818786,
          50.39018934511998,
          46.63512001224058,
          50.827054022326564,
          58.89421776186353,
          60.175747375832344,
          52.402696299281615,
          58.53954678590881
         ],
         "yaxis": "y5"
        },
        {
         "marker": {
          "color": "#9b59b6"
         },
         "name": "open-mixtral-8x7b",
         "showlegend": false,
         "type": "bar",
         "x": [
          "Mark Twain",
          "Zane Grey",
          "Joseph Conrad",
          "Benjamin Disraeli",
          "George Eliot",
          "William Henry Hudson",
          "Lucy Maud Montgomery",
          "Howard Pyle",
          "Virginia Woolf",
          "Lewis Carroll"
         ],
         "xaxis": "x6",
         "y": [
          10.246356673274764,
          10.243722779758176,
          13.268976754459445,
          12.887960367253218,
          14.045636488491436,
          12.885724181378404,
          10.926484550721089,
          10.942186853494157,
          12.722290010229177,
          10.479583604957543
         ],
         "yaxis": "y6"
        },
        {
         "marker": {
          "color": "#9b59b6"
         },
         "name": "open-mixtral-8x7b",
         "showlegend": false,
         "type": "bar",
         "x": [
          "Mark Twain",
          "Zane Grey",
          "Joseph Conrad",
          "Benjamin Disraeli",
          "George Eliot",
          "William Henry Hudson",
          "Lucy Maud Montgomery",
          "Howard Pyle",
          "Virginia Woolf",
          "Lewis Carroll"
         ],
         "xaxis": "x7",
         "y": [
          13.164265464635276,
          13.15417795626834,
          16.37888142334259,
          16.059575527347853,
          17.278158605990367,
          15.97487568215294,
          13.87648288781176,
          13.862770304591505,
          15.819066508064815,
          13.465316872798258
         ],
         "yaxis": "y7"
        },
        {
         "marker": {
          "color": "#9b59b6"
         },
         "name": "open-mixtral-8x7b",
         "showlegend": false,
         "type": "bar",
         "x": [
          "Mark Twain",
          "Zane Grey",
          "Joseph Conrad",
          "Benjamin Disraeli",
          "George Eliot",
          "William Henry Hudson",
          "Lucy Maud Montgomery",
          "Howard Pyle",
          "Virginia Woolf",
          "Lewis Carroll"
         ],
         "xaxis": "x8",
         "y": [
          114.88912537039319,
          132.5834120172673,
          160.51859904396719,
          141.8077673678271,
          155.40063678393733,
          141.4417921613338,
          124.64306027892738,
          135.57477337724075,
          162.92450285387764,
          112.31475111397485
         ],
         "yaxis": "y8"
        },
        {
         "marker": {
          "color": "#9b59b6"
         },
         "name": "open-mixtral-8x7b",
         "showlegend": false,
         "type": "bar",
         "x": [
          "Mark Twain",
          "Zane Grey",
          "Joseph Conrad",
          "Benjamin Disraeli",
          "George Eliot",
          "William Henry Hudson",
          "Lucy Maud Montgomery",
          "Howard Pyle",
          "Virginia Woolf",
          "Lewis Carroll"
         ],
         "xaxis": "x9",
         "y": [
          0.07246160642063415,
          0.06193155979990905,
          0.06198494352407509,
          0.0696561101354031,
          0.06526028571106425,
          0.06830999446196273,
          0.06429671018872228,
          0.06739636887183353,
          0.059544380676120494,
          0.0716724336793541
         ],
         "yaxis": "y9"
        },
        {
         "marker": {
          "color": "#9b59b6"
         },
         "name": "open-mixtral-8x7b",
         "showlegend": false,
         "type": "bar",
         "x": [
          "Mark Twain",
          "Zane Grey",
          "Joseph Conrad",
          "Benjamin Disraeli",
          "George Eliot",
          "William Henry Hudson",
          "Lucy Maud Montgomery",
          "Howard Pyle",
          "Virginia Woolf",
          "Lewis Carroll"
         ],
         "xaxis": "x10",
         "y": [
          0.10874072903523044,
          0.11515875900118823,
          0.11507549380970308,
          0.11026221207931447,
          0.11291402704791105,
          0.11104654890346531,
          0.11363559786154276,
          0.11163188554757923,
          0.11675384103757594,
          0.10924194717472797
         ],
         "yaxis": "y10"
        },
        {
         "marker": {
          "color": "#9b59b6"
         },
         "name": "open-mixtral-8x7b",
         "showlegend": false,
         "type": "bar",
         "x": [
          "Mark Twain",
          "Zane Grey",
          "Joseph Conrad",
          "Benjamin Disraeli",
          "George Eliot",
          "William Henry Hudson",
          "Lucy Maud Montgomery",
          "Howard Pyle",
          "Virginia Woolf",
          "Lewis Carroll"
         ],
         "xaxis": "x11",
         "y": [
          0.9884319171676554,
          0.9866498735756941,
          0.9838568908940338,
          0.9857378893876582,
          0.9843735506961744,
          0.9857730941127879,
          0.9874470179057776,
          0.9863584183729571,
          0.9836124022360204,
          0.9886880614190177
         ],
         "yaxis": "y11"
        },
        {
         "marker": {
          "color": "#e67e22"
         },
         "name": "claude-3-haiku-20240307",
         "showlegend": true,
         "type": "bar",
         "x": [
          "Mark Twain",
          "Zane Grey",
          "Joseph Conrad",
          "Benjamin Disraeli",
          "George Eliot",
          "William Henry Hudson",
          "Lucy Maud Montgomery",
          "Howard Pyle",
          "Virginia Woolf",
          "Lewis Carroll"
         ],
         "xaxis": "x",
         "y": [
          12773,
          12421,
          11231,
          11569,
          11947,
          11999,
          12389,
          11932,
          11433,
          12020
         ],
         "yaxis": "y"
        },
        {
         "marker": {
          "color": "#e67e22"
         },
         "name": "claude-3-haiku-20240307",
         "showlegend": false,
         "type": "bar",
         "x": [
          "Mark Twain",
          "Zane Grey",
          "Joseph Conrad",
          "Benjamin Disraeli",
          "George Eliot",
          "William Henry Hudson",
          "Lucy Maud Montgomery",
          "Howard Pyle",
          "Virginia Woolf",
          "Lewis Carroll"
         ],
         "xaxis": "x2",
         "y": [
          4.327546498237778,
          4.618747351179226,
          4.661258442702568,
          4.719309516966203,
          4.784872470423632,
          4.755488582619394,
          4.63042114030784,
          4.646254290065232,
          4.661116262664763,
          4.684920998397069
         ],
         "yaxis": "y2"
        },
        {
         "marker": {
          "color": "#e67e22"
         },
         "name": "claude-3-haiku-20240307",
         "showlegend": false,
         "type": "bar",
         "x": [
          "Mark Twain",
          "Zane Grey",
          "Joseph Conrad",
          "Benjamin Disraeli",
          "George Eliot",
          "William Henry Hudson",
          "Lucy Maud Montgomery",
          "Howard Pyle",
          "Virginia Woolf",
          "Lewis Carroll"
         ],
         "xaxis": "x3",
         "y": [
          20.778489425981874,
          22.065714646783775,
          27.154730869498543,
          27.032449725776964,
          27.0202743902439,
          26.99360146252285,
          22.17967860306213,
          24.21408915795267,
          25.516475540717085,
          24.8125
         ],
         "yaxis": "y3"
        },
        {
         "marker": {
          "color": "#e67e22"
         },
         "name": "claude-3-haiku-20240307",
         "showlegend": false,
         "type": "bar",
         "x": [
          "Mark Twain",
          "Zane Grey",
          "Joseph Conrad",
          "Benjamin Disraeli",
          "George Eliot",
          "William Henry Hudson",
          "Lucy Maud Montgomery",
          "Howard Pyle",
          "Virginia Woolf",
          "Lewis Carroll"
         ],
         "xaxis": "x4",
         "y": [
          1.4069221016389248,
          1.4846454302830372,
          1.533674806297861,
          1.5633816310773723,
          1.5687350848786763,
          1.5687187475308433,
          1.5059103408144403,
          1.5147453235447872,
          1.5279406996125906,
          1.5264311884588964
         ],
         "yaxis": "y4"
        },
        {
         "marker": {
          "color": "#e67e22"
         },
         "name": "claude-3-haiku-20240307",
         "showlegend": false,
         "type": "bar",
         "x": [
          "Mark Twain",
          "Zane Grey",
          "Joseph Conrad",
          "Benjamin Disraeli",
          "George Eliot",
          "William Henry Hudson",
          "Lucy Maud Montgomery",
          "Howard Pyle",
          "Virginia Woolf",
          "Lewis Carroll"
         ],
         "xaxis": "x5",
         "y": [
          66.71922343397539,
          58.83729623156954,
          49.52405955465997,
          47.134977539190714,
          46.69443331316643,
          46.72288847442999,
          56.922611384990304,
          54.11024513278906,
          51.671994138947014,
          52.51423395637738
         ],
         "yaxis": "y5"
        },
        {
         "marker": {
          "color": "#e67e22"
         },
         "name": "claude-3-haiku-20240307",
         "showlegend": false,
         "type": "bar",
         "x": [
          "Mark Twain",
          "Zane Grey",
          "Joseph Conrad",
          "Benjamin Disraeli",
          "George Eliot",
          "William Henry Hudson",
          "Lucy Maud Montgomery",
          "Howard Pyle",
          "Virginia Woolf",
          "Lewis Carroll"
         ],
         "xaxis": "x6",
         "y": [
          9.115291675472246,
          10.53444478958551,
          13.09770775341919,
          13.400558639766007,
          13.458981013763502,
          13.448385791247862,
          10.82981667680463,
          11.727489589430032,
          12.391125716308235,
          12.098763023814978
         ],
         "yaxis": "y6"
        },
        {
         "marker": {
          "color": "#e67e22"
         },
         "name": "claude-3-haiku-20240307",
         "showlegend": false,
         "type": "bar",
         "x": [
          "Mark Twain",
          "Zane Grey",
          "Joseph Conrad",
          "Benjamin Disraeli",
          "George Eliot",
          "William Henry Hudson",
          "Lucy Maud Montgomery",
          "Howard Pyle",
          "Virginia Woolf",
          "Lewis Carroll"
         ],
         "xaxis": "x7",
         "y": [
          11.952158353124137,
          13.374812255286367,
          16.17780190075973,
          16.52507574188962,
          16.579521241375666,
          16.584805275221687,
          13.741170757770384,
          14.66665709646061,
          15.413692154471983,
          15.148494389741243
         ],
         "yaxis": "y7"
        },
        {
         "marker": {
          "color": "#e67e22"
         },
         "name": "claude-3-haiku-20240307",
         "showlegend": false,
         "type": "bar",
         "x": [
          "Mark Twain",
          "Zane Grey",
          "Joseph Conrad",
          "Benjamin Disraeli",
          "George Eliot",
          "William Henry Hudson",
          "Lucy Maud Montgomery",
          "Howard Pyle",
          "Virginia Woolf",
          "Lewis Carroll"
         ],
         "xaxis": "x8",
         "y": [
          96.92648908463802,
          121.76384929142101,
          158.6804453620712,
          157.32998313487965,
          155.58280394757463,
          147.56325133165677,
          114.89925855256632,
          135.47365956424028,
          157.7523192928011,
          138.2971534045289
         ],
         "yaxis": "y8"
        },
        {
         "marker": {
          "color": "#e67e22"
         },
         "name": "claude-3-haiku-20240307",
         "showlegend": false,
         "type": "bar",
         "x": [
          "Mark Twain",
          "Zane Grey",
          "Joseph Conrad",
          "Benjamin Disraeli",
          "George Eliot",
          "William Henry Hudson",
          "Lucy Maud Montgomery",
          "Howard Pyle",
          "Virginia Woolf",
          "Lewis Carroll"
         ],
         "xaxis": "x9",
         "y": [
          0.07428667806585942,
          0.07113730341454474,
          0.06342474417764124,
          0.06519913661442395,
          0.06740083383638076,
          0.06771979727517975,
          0.07067877639971247,
          0.06780007727799622,
          0.06504041915316043,
          0.06881154110373254
         ],
         "yaxis": "y9"
        },
        {
         "marker": {
          "color": "#e67e22"
         },
         "name": "claude-3-haiku-20240307",
         "showlegend": false,
         "type": "bar",
         "x": [
          "Mark Twain",
          "Zane Grey",
          "Joseph Conrad",
          "Benjamin Disraeli",
          "George Eliot",
          "William Henry Hudson",
          "Lucy Maud Montgomery",
          "Howard Pyle",
          "Virginia Woolf",
          "Lewis Carroll"
         ],
         "xaxis": "x10",
         "y": [
          0.1078325390093076,
          0.10948966482210847,
          0.11411059719854551,
          0.11294970109117533,
          0.11158558093597648,
          0.11139373902682549,
          0.10972220122916865,
          0.11140726208533325,
          0.11313840818913268,
          0.11086272373786836
         ],
         "yaxis": "y10"
        },
        {
         "marker": {
          "color": "#e67e22"
         },
         "name": "claude-3-haiku-20240307",
         "showlegend": false,
         "type": "bar",
         "x": [
          "Mark Twain",
          "Zane Grey",
          "Joseph Conrad",
          "Benjamin Disraeli",
          "George Eliot",
          "William Henry Hudson",
          "Lucy Maud Montgomery",
          "Howard Pyle",
          "Virginia Woolf",
          "Lewis Carroll"
         ],
         "xaxis": "x11",
         "y": [
          0.9902290609482652,
          0.9877431062551426,
          0.9840429161974764,
          0.9841805637921391,
          0.9843580165835635,
          0.9851603345884778,
          0.9884293573798713,
          0.9863688257968445,
          0.9841373019638363,
          0.9860870899840063
         ],
         "yaxis": "y11"
        }
       ],
       "layout": {
        "annotations": [
         {
          "font": {
           "size": 16
          },
          "showarrow": false,
          "text": "Unique word count",
          "x": 0.5,
          "xanchor": "center",
          "xref": "paper",
          "y": 0.9999999999999999,
          "yanchor": "bottom",
          "yref": "paper"
         },
         {
          "font": {
           "size": 16
          },
          "showarrow": false,
          "text": "Average word length",
          "x": 0.5,
          "xanchor": "center",
          "xref": "paper",
          "y": 0.9049586776859503,
          "yanchor": "bottom",
          "yref": "paper"
         },
         {
          "font": {
           "size": 16
          },
          "showarrow": false,
          "text": "Average sentence length",
          "x": 0.5,
          "xanchor": "center",
          "xref": "paper",
          "y": 0.8099173553719007,
          "yanchor": "bottom",
          "yref": "paper"
         },
         {
          "font": {
           "size": 16
          },
          "showarrow": false,
          "text": "Average syllables per word",
          "x": 0.5,
          "xanchor": "center",
          "xref": "paper",
          "y": 0.7148760330578511,
          "yanchor": "bottom",
          "yref": "paper"
         },
         {
          "font": {
           "size": 16
          },
          "showarrow": false,
          "text": "Flesch reading ease",
          "x": 0.5,
          "xanchor": "center",
          "xref": "paper",
          "y": 0.6198347107438015,
          "yanchor": "bottom",
          "yref": "paper"
         },
         {
          "font": {
           "size": 16
          },
          "showarrow": false,
          "text": "Flesch Kincaid Grade Level",
          "x": 0.5,
          "xanchor": "center",
          "xref": "paper",
          "y": 0.524793388429752,
          "yanchor": "bottom",
          "yref": "paper"
         },
         {
          "font": {
           "size": 16
          },
          "showarrow": false,
          "text": "Gunning Fog Index",
          "x": 0.5,
          "xanchor": "center",
          "xref": "paper",
          "y": 0.42975206611570244,
          "yanchor": "bottom",
          "yref": "paper"
         },
         {
          "font": {
           "size": 16
          },
          "showarrow": false,
          "text": "Yules Characteristic K",
          "x": 0.5,
          "xanchor": "center",
          "xref": "paper",
          "y": 0.33471074380165283,
          "yanchor": "bottom",
          "yref": "paper"
         },
         {
          "font": {
           "size": 16
          },
          "showarrow": false,
          "text": "Herdan's C",
          "x": 0.5,
          "xanchor": "center",
          "xref": "paper",
          "y": 0.23966942148760328,
          "yanchor": "bottom",
          "yref": "paper"
         },
         {
          "font": {
           "size": 16
          },
          "showarrow": false,
          "text": "Maas",
          "x": 0.5,
          "xanchor": "center",
          "xref": "paper",
          "y": 0.1446280991735537,
          "yanchor": "bottom",
          "yref": "paper"
         },
         {
          "font": {
           "size": 16
          },
          "showarrow": false,
          "text": "Simpsons_index",
          "x": 0.5,
          "xanchor": "center",
          "xref": "paper",
          "y": 0.04958677685950413,
          "yanchor": "bottom",
          "yref": "paper"
         }
        ],
        "height": 1500,
        "legend": {
         "title": {
          "text": "Collection"
         }
        },
        "template": {
         "data": {
          "bar": [
           {
            "error_x": {
             "color": "#2a3f5f"
            },
            "error_y": {
             "color": "#2a3f5f"
            },
            "marker": {
             "line": {
              "color": "#E5ECF6",
              "width": 0.5
             },
             "pattern": {
              "fillmode": "overlay",
              "size": 10,
              "solidity": 0.2
             }
            },
            "type": "bar"
           }
          ],
          "barpolar": [
           {
            "marker": {
             "line": {
              "color": "#E5ECF6",
              "width": 0.5
             },
             "pattern": {
              "fillmode": "overlay",
              "size": 10,
              "solidity": 0.2
             }
            },
            "type": "barpolar"
           }
          ],
          "carpet": [
           {
            "aaxis": {
             "endlinecolor": "#2a3f5f",
             "gridcolor": "white",
             "linecolor": "white",
             "minorgridcolor": "white",
             "startlinecolor": "#2a3f5f"
            },
            "baxis": {
             "endlinecolor": "#2a3f5f",
             "gridcolor": "white",
             "linecolor": "white",
             "minorgridcolor": "white",
             "startlinecolor": "#2a3f5f"
            },
            "type": "carpet"
           }
          ],
          "choropleth": [
           {
            "colorbar": {
             "outlinewidth": 0,
             "ticks": ""
            },
            "type": "choropleth"
           }
          ],
          "contour": [
           {
            "colorbar": {
             "outlinewidth": 0,
             "ticks": ""
            },
            "colorscale": [
             [
              0,
              "#0d0887"
             ],
             [
              0.1111111111111111,
              "#46039f"
             ],
             [
              0.2222222222222222,
              "#7201a8"
             ],
             [
              0.3333333333333333,
              "#9c179e"
             ],
             [
              0.4444444444444444,
              "#bd3786"
             ],
             [
              0.5555555555555556,
              "#d8576b"
             ],
             [
              0.6666666666666666,
              "#ed7953"
             ],
             [
              0.7777777777777778,
              "#fb9f3a"
             ],
             [
              0.8888888888888888,
              "#fdca26"
             ],
             [
              1,
              "#f0f921"
             ]
            ],
            "type": "contour"
           }
          ],
          "contourcarpet": [
           {
            "colorbar": {
             "outlinewidth": 0,
             "ticks": ""
            },
            "type": "contourcarpet"
           }
          ],
          "heatmap": [
           {
            "colorbar": {
             "outlinewidth": 0,
             "ticks": ""
            },
            "colorscale": [
             [
              0,
              "#0d0887"
             ],
             [
              0.1111111111111111,
              "#46039f"
             ],
             [
              0.2222222222222222,
              "#7201a8"
             ],
             [
              0.3333333333333333,
              "#9c179e"
             ],
             [
              0.4444444444444444,
              "#bd3786"
             ],
             [
              0.5555555555555556,
              "#d8576b"
             ],
             [
              0.6666666666666666,
              "#ed7953"
             ],
             [
              0.7777777777777778,
              "#fb9f3a"
             ],
             [
              0.8888888888888888,
              "#fdca26"
             ],
             [
              1,
              "#f0f921"
             ]
            ],
            "type": "heatmap"
           }
          ],
          "heatmapgl": [
           {
            "colorbar": {
             "outlinewidth": 0,
             "ticks": ""
            },
            "colorscale": [
             [
              0,
              "#0d0887"
             ],
             [
              0.1111111111111111,
              "#46039f"
             ],
             [
              0.2222222222222222,
              "#7201a8"
             ],
             [
              0.3333333333333333,
              "#9c179e"
             ],
             [
              0.4444444444444444,
              "#bd3786"
             ],
             [
              0.5555555555555556,
              "#d8576b"
             ],
             [
              0.6666666666666666,
              "#ed7953"
             ],
             [
              0.7777777777777778,
              "#fb9f3a"
             ],
             [
              0.8888888888888888,
              "#fdca26"
             ],
             [
              1,
              "#f0f921"
             ]
            ],
            "type": "heatmapgl"
           }
          ],
          "histogram": [
           {
            "marker": {
             "pattern": {
              "fillmode": "overlay",
              "size": 10,
              "solidity": 0.2
             }
            },
            "type": "histogram"
           }
          ],
          "histogram2d": [
           {
            "colorbar": {
             "outlinewidth": 0,
             "ticks": ""
            },
            "colorscale": [
             [
              0,
              "#0d0887"
             ],
             [
              0.1111111111111111,
              "#46039f"
             ],
             [
              0.2222222222222222,
              "#7201a8"
             ],
             [
              0.3333333333333333,
              "#9c179e"
             ],
             [
              0.4444444444444444,
              "#bd3786"
             ],
             [
              0.5555555555555556,
              "#d8576b"
             ],
             [
              0.6666666666666666,
              "#ed7953"
             ],
             [
              0.7777777777777778,
              "#fb9f3a"
             ],
             [
              0.8888888888888888,
              "#fdca26"
             ],
             [
              1,
              "#f0f921"
             ]
            ],
            "type": "histogram2d"
           }
          ],
          "histogram2dcontour": [
           {
            "colorbar": {
             "outlinewidth": 0,
             "ticks": ""
            },
            "colorscale": [
             [
              0,
              "#0d0887"
             ],
             [
              0.1111111111111111,
              "#46039f"
             ],
             [
              0.2222222222222222,
              "#7201a8"
             ],
             [
              0.3333333333333333,
              "#9c179e"
             ],
             [
              0.4444444444444444,
              "#bd3786"
             ],
             [
              0.5555555555555556,
              "#d8576b"
             ],
             [
              0.6666666666666666,
              "#ed7953"
             ],
             [
              0.7777777777777778,
              "#fb9f3a"
             ],
             [
              0.8888888888888888,
              "#fdca26"
             ],
             [
              1,
              "#f0f921"
             ]
            ],
            "type": "histogram2dcontour"
           }
          ],
          "mesh3d": [
           {
            "colorbar": {
             "outlinewidth": 0,
             "ticks": ""
            },
            "type": "mesh3d"
           }
          ],
          "parcoords": [
           {
            "line": {
             "colorbar": {
              "outlinewidth": 0,
              "ticks": ""
             }
            },
            "type": "parcoords"
           }
          ],
          "pie": [
           {
            "automargin": true,
            "type": "pie"
           }
          ],
          "scatter": [
           {
            "fillpattern": {
             "fillmode": "overlay",
             "size": 10,
             "solidity": 0.2
            },
            "type": "scatter"
           }
          ],
          "scatter3d": [
           {
            "line": {
             "colorbar": {
              "outlinewidth": 0,
              "ticks": ""
             }
            },
            "marker": {
             "colorbar": {
              "outlinewidth": 0,
              "ticks": ""
             }
            },
            "type": "scatter3d"
           }
          ],
          "scattercarpet": [
           {
            "marker": {
             "colorbar": {
              "outlinewidth": 0,
              "ticks": ""
             }
            },
            "type": "scattercarpet"
           }
          ],
          "scattergeo": [
           {
            "marker": {
             "colorbar": {
              "outlinewidth": 0,
              "ticks": ""
             }
            },
            "type": "scattergeo"
           }
          ],
          "scattergl": [
           {
            "marker": {
             "colorbar": {
              "outlinewidth": 0,
              "ticks": ""
             }
            },
            "type": "scattergl"
           }
          ],
          "scattermapbox": [
           {
            "marker": {
             "colorbar": {
              "outlinewidth": 0,
              "ticks": ""
             }
            },
            "type": "scattermapbox"
           }
          ],
          "scatterpolar": [
           {
            "marker": {
             "colorbar": {
              "outlinewidth": 0,
              "ticks": ""
             }
            },
            "type": "scatterpolar"
           }
          ],
          "scatterpolargl": [
           {
            "marker": {
             "colorbar": {
              "outlinewidth": 0,
              "ticks": ""
             }
            },
            "type": "scatterpolargl"
           }
          ],
          "scatterternary": [
           {
            "marker": {
             "colorbar": {
              "outlinewidth": 0,
              "ticks": ""
             }
            },
            "type": "scatterternary"
           }
          ],
          "surface": [
           {
            "colorbar": {
             "outlinewidth": 0,
             "ticks": ""
            },
            "colorscale": [
             [
              0,
              "#0d0887"
             ],
             [
              0.1111111111111111,
              "#46039f"
             ],
             [
              0.2222222222222222,
              "#7201a8"
             ],
             [
              0.3333333333333333,
              "#9c179e"
             ],
             [
              0.4444444444444444,
              "#bd3786"
             ],
             [
              0.5555555555555556,
              "#d8576b"
             ],
             [
              0.6666666666666666,
              "#ed7953"
             ],
             [
              0.7777777777777778,
              "#fb9f3a"
             ],
             [
              0.8888888888888888,
              "#fdca26"
             ],
             [
              1,
              "#f0f921"
             ]
            ],
            "type": "surface"
           }
          ],
          "table": [
           {
            "cells": {
             "fill": {
              "color": "#EBF0F8"
             },
             "line": {
              "color": "white"
             }
            },
            "header": {
             "fill": {
              "color": "#C8D4E3"
             },
             "line": {
              "color": "white"
             }
            },
            "type": "table"
           }
          ]
         },
         "layout": {
          "annotationdefaults": {
           "arrowcolor": "#2a3f5f",
           "arrowhead": 0,
           "arrowwidth": 1
          },
          "autotypenumbers": "strict",
          "coloraxis": {
           "colorbar": {
            "outlinewidth": 0,
            "ticks": ""
           }
          },
          "colorscale": {
           "diverging": [
            [
             0,
             "#8e0152"
            ],
            [
             0.1,
             "#c51b7d"
            ],
            [
             0.2,
             "#de77ae"
            ],
            [
             0.3,
             "#f1b6da"
            ],
            [
             0.4,
             "#fde0ef"
            ],
            [
             0.5,
             "#f7f7f7"
            ],
            [
             0.6,
             "#e6f5d0"
            ],
            [
             0.7,
             "#b8e186"
            ],
            [
             0.8,
             "#7fbc41"
            ],
            [
             0.9,
             "#4d9221"
            ],
            [
             1,
             "#276419"
            ]
           ],
           "sequential": [
            [
             0,
             "#0d0887"
            ],
            [
             0.1111111111111111,
             "#46039f"
            ],
            [
             0.2222222222222222,
             "#7201a8"
            ],
            [
             0.3333333333333333,
             "#9c179e"
            ],
            [
             0.4444444444444444,
             "#bd3786"
            ],
            [
             0.5555555555555556,
             "#d8576b"
            ],
            [
             0.6666666666666666,
             "#ed7953"
            ],
            [
             0.7777777777777778,
             "#fb9f3a"
            ],
            [
             0.8888888888888888,
             "#fdca26"
            ],
            [
             1,
             "#f0f921"
            ]
           ],
           "sequentialminus": [
            [
             0,
             "#0d0887"
            ],
            [
             0.1111111111111111,
             "#46039f"
            ],
            [
             0.2222222222222222,
             "#7201a8"
            ],
            [
             0.3333333333333333,
             "#9c179e"
            ],
            [
             0.4444444444444444,
             "#bd3786"
            ],
            [
             0.5555555555555556,
             "#d8576b"
            ],
            [
             0.6666666666666666,
             "#ed7953"
            ],
            [
             0.7777777777777778,
             "#fb9f3a"
            ],
            [
             0.8888888888888888,
             "#fdca26"
            ],
            [
             1,
             "#f0f921"
            ]
           ]
          },
          "colorway": [
           "#636efa",
           "#EF553B",
           "#00cc96",
           "#ab63fa",
           "#FFA15A",
           "#19d3f3",
           "#FF6692",
           "#B6E880",
           "#FF97FF",
           "#FECB52"
          ],
          "font": {
           "color": "#2a3f5f"
          },
          "geo": {
           "bgcolor": "white",
           "lakecolor": "white",
           "landcolor": "#E5ECF6",
           "showlakes": true,
           "showland": true,
           "subunitcolor": "white"
          },
          "hoverlabel": {
           "align": "left"
          },
          "hovermode": "closest",
          "mapbox": {
           "style": "light"
          },
          "paper_bgcolor": "white",
          "plot_bgcolor": "#E5ECF6",
          "polar": {
           "angularaxis": {
            "gridcolor": "white",
            "linecolor": "white",
            "ticks": ""
           },
           "bgcolor": "#E5ECF6",
           "radialaxis": {
            "gridcolor": "white",
            "linecolor": "white",
            "ticks": ""
           }
          },
          "scene": {
           "xaxis": {
            "backgroundcolor": "#E5ECF6",
            "gridcolor": "white",
            "gridwidth": 2,
            "linecolor": "white",
            "showbackground": true,
            "ticks": "",
            "zerolinecolor": "white"
           },
           "yaxis": {
            "backgroundcolor": "#E5ECF6",
            "gridcolor": "white",
            "gridwidth": 2,
            "linecolor": "white",
            "showbackground": true,
            "ticks": "",
            "zerolinecolor": "white"
           },
           "zaxis": {
            "backgroundcolor": "#E5ECF6",
            "gridcolor": "white",
            "gridwidth": 2,
            "linecolor": "white",
            "showbackground": true,
            "ticks": "",
            "zerolinecolor": "white"
           }
          },
          "shapedefaults": {
           "line": {
            "color": "#2a3f5f"
           }
          },
          "ternary": {
           "aaxis": {
            "gridcolor": "white",
            "linecolor": "white",
            "ticks": ""
           },
           "baxis": {
            "gridcolor": "white",
            "linecolor": "white",
            "ticks": ""
           },
           "bgcolor": "#E5ECF6",
           "caxis": {
            "gridcolor": "white",
            "linecolor": "white",
            "ticks": ""
           }
          },
          "title": {
           "x": 0.05
          },
          "xaxis": {
           "automargin": true,
           "gridcolor": "white",
           "linecolor": "white",
           "ticks": "",
           "title": {
            "standoff": 15
           },
           "zerolinecolor": "white",
           "zerolinewidth": 2
          },
          "yaxis": {
           "automargin": true,
           "gridcolor": "white",
           "linecolor": "white",
           "ticks": "",
           "title": {
            "standoff": 15
           },
           "zerolinecolor": "white",
           "zerolinewidth": 2
          }
         }
        },
        "xaxis": {
         "anchor": "y",
         "domain": [
          0,
          1
         ],
         "tickfont": {
          "size": 10
         }
        },
        "xaxis10": {
         "anchor": "y10",
         "domain": [
          0,
          1
         ],
         "tickfont": {
          "size": 10
         }
        },
        "xaxis11": {
         "anchor": "y11",
         "domain": [
          0,
          1
         ],
         "tickfont": {
          "size": 10
         }
        },
        "xaxis2": {
         "anchor": "y2",
         "domain": [
          0,
          1
         ],
         "tickfont": {
          "size": 10
         }
        },
        "xaxis3": {
         "anchor": "y3",
         "domain": [
          0,
          1
         ],
         "tickfont": {
          "size": 10
         }
        },
        "xaxis4": {
         "anchor": "y4",
         "domain": [
          0,
          1
         ],
         "tickfont": {
          "size": 10
         }
        },
        "xaxis5": {
         "anchor": "y5",
         "domain": [
          0,
          1
         ],
         "tickfont": {
          "size": 10
         }
        },
        "xaxis6": {
         "anchor": "y6",
         "domain": [
          0,
          1
         ],
         "tickfont": {
          "size": 10
         }
        },
        "xaxis7": {
         "anchor": "y7",
         "domain": [
          0,
          1
         ],
         "tickfont": {
          "size": 10
         }
        },
        "xaxis8": {
         "anchor": "y8",
         "domain": [
          0,
          1
         ],
         "tickfont": {
          "size": 10
         }
        },
        "xaxis9": {
         "anchor": "y9",
         "domain": [
          0,
          1
         ],
         "tickfont": {
          "size": 10
         }
        },
        "yaxis": {
         "anchor": "x",
         "domain": [
          0.9504132231404958,
          0.9999999999999999
         ]
        },
        "yaxis10": {
         "anchor": "x10",
         "domain": [
          0.09504132231404958,
          0.1446280991735537
         ]
        },
        "yaxis11": {
         "anchor": "x11",
         "domain": [
          0,
          0.04958677685950413
         ]
        },
        "yaxis2": {
         "anchor": "x2",
         "domain": [
          0.8553719008264462,
          0.9049586776859503
         ]
        },
        "yaxis3": {
         "anchor": "x3",
         "domain": [
          0.7603305785123966,
          0.8099173553719007
         ]
        },
        "yaxis4": {
         "anchor": "x4",
         "domain": [
          0.665289256198347,
          0.7148760330578511
         ]
        },
        "yaxis5": {
         "anchor": "x5",
         "domain": [
          0.5702479338842974,
          0.6198347107438015
         ]
        },
        "yaxis6": {
         "anchor": "x6",
         "domain": [
          0.4752066115702479,
          0.524793388429752
         ]
        },
        "yaxis7": {
         "anchor": "x7",
         "domain": [
          0.3801652892561983,
          0.42975206611570244
         ]
        },
        "yaxis8": {
         "anchor": "x8",
         "domain": [
          0.2851239669421487,
          0.33471074380165283
         ]
        },
        "yaxis9": {
         "anchor": "x9",
         "domain": [
          0.19008264462809915,
          0.23966942148760328
         ]
        }
       }
      }
     },
     "metadata": {},
     "output_type": "display_data"
    },
    {
     "data": {
      "application/vnd.plotly.v1+json": {
       "config": {
        "plotlyServerURL": "https://plot.ly"
       },
       "data": [
        {
         "marker": {
          "color": "#3498db"
         },
         "name": "books",
         "showlegend": true,
         "type": "bar",
         "x": [
          "the",
          "and",
          "of",
          "a",
          "to",
          "in",
          "it",
          "was",
          "that",
          "is"
         ],
         "xaxis": "x",
         "y": [
          8628,
          7251,
          4860,
          4330,
          4263,
          2853,
          2570,
          2548,
          2415,
          1689
         ],
         "yaxis": "y"
        },
        {
         "marker": {
          "color": "#3498db"
         },
         "name": "books",
         "showlegend": false,
         "type": "bar",
         "x": [
          "the",
          "and",
          "of",
          "to",
          "a",
          "he",
          "was",
          "in",
          "his",
          "that"
         ],
         "xaxis": "x2",
         "y": [
          8356,
          4818,
          4229,
          4077,
          3883,
          2199,
          2183,
          2100,
          1736,
          1651
         ],
         "yaxis": "y2"
        },
        {
         "marker": {
          "color": "#3498db"
         },
         "name": "books",
         "showlegend": false,
         "type": "bar",
         "x": [
          "the",
          "of",
          "a",
          "to",
          "and",
          "in",
          "his",
          "was",
          "he",
          "that"
         ],
         "xaxis": "x3",
         "y": [
          9605,
          6667,
          4350,
          4115,
          3835,
          2905,
          2314,
          2283,
          2060,
          2056
         ],
         "yaxis": "y3"
        },
        {
         "marker": {
          "color": "#3498db"
         },
         "name": "books",
         "showlegend": false,
         "type": "bar",
         "x": [
          "the",
          "of",
          "and",
          "to",
          "a",
          "in",
          "his",
          "was",
          "that",
          "he"
         ],
         "xaxis": "x4",
         "y": [
          9024,
          5682,
          5354,
          3892,
          3797,
          2413,
          2311,
          2200,
          1855,
          1734
         ],
         "yaxis": "y4"
        },
        {
         "marker": {
          "color": "#3498db"
         },
         "name": "books",
         "showlegend": false,
         "type": "bar",
         "x": [
          "the",
          "to",
          "and",
          "of",
          "a",
          "in",
          "was",
          "that",
          "her",
          "he"
         ],
         "xaxis": "x5",
         "y": [
          7403,
          5029,
          4915,
          4813,
          3889,
          2631,
          2415,
          2377,
          2198,
          1900
         ],
         "yaxis": "y5"
        },
        {
         "marker": {
          "color": "#3498db"
         },
         "name": "books",
         "showlegend": false,
         "type": "bar",
         "x": [
          "the",
          "and",
          "to",
          "of",
          "a",
          "in",
          "that",
          "was",
          "it",
          "with"
         ],
         "xaxis": "x6",
         "y": [
          8662,
          6772,
          5011,
          4522,
          4110,
          3273,
          2432,
          2044,
          1855,
          1677
         ],
         "yaxis": "y6"
        },
        {
         "marker": {
          "color": "#3498db"
         },
         "name": "books",
         "showlegend": false,
         "type": "bar",
         "x": [
          "the",
          "and",
          "to",
          "a",
          "of",
          "was",
          "it",
          "in",
          "her",
          "that"
         ],
         "xaxis": "x7",
         "y": [
          5914,
          5060,
          4319,
          3437,
          3251,
          2435,
          2292,
          2256,
          2133,
          1929
         ],
         "yaxis": "y7"
        },
        {
         "marker": {
          "color": "#3498db"
         },
         "name": "books",
         "showlegend": false,
         "type": "bar",
         "x": [
          "the",
          "and",
          "of",
          "to",
          "a",
          "he",
          "his",
          "that",
          "in",
          "was"
         ],
         "xaxis": "x8",
         "y": [
          9918,
          6194,
          4809,
          3910,
          3864,
          2997,
          2571,
          2496,
          2473,
          1933
         ],
         "yaxis": "y8"
        },
        {
         "marker": {
          "color": "#3498db"
         },
         "name": "books",
         "showlegend": false,
         "type": "bar",
         "x": [
          "the",
          "and",
          "of",
          "to",
          "a",
          "in",
          "her",
          "was",
          "she",
          "that"
         ],
         "xaxis": "x9",
         "y": [
          8615,
          5057,
          4782,
          4385,
          3284,
          2771,
          2556,
          2216,
          2190,
          1937
         ],
         "yaxis": "y9"
        },
        {
         "marker": {
          "color": "#3498db"
         },
         "name": "books",
         "showlegend": false,
         "type": "bar",
         "x": [
          "the",
          "to",
          "and",
          "a",
          "of",
          "it",
          "in",
          "you",
          "said",
          "was"
         ],
         "xaxis": "x10",
         "y": [
          7921,
          4117,
          3762,
          3631,
          3204,
          2489,
          2031,
          1803,
          1792,
          1742
         ],
         "yaxis": "y10"
        },
        {
         "marker": {
          "color": "#e74c3c"
         },
         "name": "gpt-3.5-turbo-0125",
         "showlegend": true,
         "type": "bar",
         "x": [
          "the",
          "a",
          "of",
          "and",
          "to",
          "in",
          "that",
          "you",
          "with",
          "is"
         ],
         "xaxis": "x11",
         "y": [
          11012,
          6871,
          6736,
          6325,
          4723,
          2940,
          2722,
          2010,
          1799,
          1453
         ],
         "yaxis": "y11"
        },
        {
         "marker": {
          "color": "#e74c3c"
         },
         "name": "gpt-3.5-turbo-0125",
         "showlegend": false,
         "type": "bar",
         "x": [
          "the",
          "of",
          "a",
          "and",
          "to",
          "in",
          "that",
          "with",
          "as",
          "their"
         ],
         "xaxis": "x12",
         "y": [
          13071,
          8112,
          7151,
          6581,
          4404,
          3036,
          2686,
          2010,
          1452,
          1417
         ],
         "yaxis": "y12"
        },
        {
         "marker": {
          "color": "#e74c3c"
         },
         "name": "gpt-3.5-turbo-0125",
         "showlegend": false,
         "type": "bar",
         "x": [
          "the",
          "of",
          "and",
          "a",
          "to",
          "in",
          "that",
          "with",
          "is",
          "their"
         ],
         "xaxis": "x13",
         "y": [
          12840,
          9051,
          7154,
          7101,
          4514,
          3009,
          2978,
          1937,
          1501,
          1359
         ],
         "yaxis": "y13"
        },
        {
         "marker": {
          "color": "#e74c3c"
         },
         "name": "gpt-3.5-turbo-0125",
         "showlegend": false,
         "type": "bar",
         "x": [
          "the",
          "of",
          "and",
          "a",
          "to",
          "that",
          "in",
          "with",
          "is",
          "you"
         ],
         "xaxis": "x14",
         "y": [
          11798,
          8244,
          7779,
          6726,
          4971,
          2810,
          2792,
          1768,
          1752,
          1258
         ],
         "yaxis": "y14"
        },
        {
         "marker": {
          "color": "#e74c3c"
         },
         "name": "gpt-3.5-turbo-0125",
         "showlegend": false,
         "type": "bar",
         "x": [
          "the",
          "of",
          "and",
          "a",
          "to",
          "in",
          "that",
          "with",
          "is",
          "as"
         ],
         "xaxis": "x15",
         "y": [
          12638,
          8704,
          7681,
          6638,
          4715,
          3002,
          2819,
          1944,
          1443,
          1386
         ],
         "yaxis": "y15"
        },
        {
         "marker": {
          "color": "#e74c3c"
         },
         "name": "gpt-3.5-turbo-0125",
         "showlegend": false,
         "type": "bar",
         "x": [
          "the",
          "of",
          "and",
          "a",
          "to",
          "that",
          "in",
          "with",
          "is",
          "as"
         ],
         "xaxis": "x16",
         "y": [
          12816,
          8646,
          7676,
          6790,
          4944,
          2924,
          2851,
          1848,
          1557,
          1350
         ],
         "yaxis": "y16"
        },
        {
         "marker": {
          "color": "#e74c3c"
         },
         "name": "gpt-3.5-turbo-0125",
         "showlegend": false,
         "type": "bar",
         "x": [
          "the",
          "of",
          "and",
          "a",
          "to",
          "in",
          "that",
          "with",
          "their",
          "as"
         ],
         "xaxis": "x17",
         "y": [
          12008,
          6958,
          6883,
          6537,
          4755,
          3027,
          2599,
          2026,
          1555,
          1385
         ],
         "yaxis": "y17"
        },
        {
         "marker": {
          "color": "#e74c3c"
         },
         "name": "gpt-3.5-turbo-0125",
         "showlegend": false,
         "type": "bar",
         "x": [
          "the",
          "of",
          "and",
          "a",
          "to",
          "in",
          "that",
          "with",
          "their",
          "as"
         ],
         "xaxis": "x18",
         "y": [
          12722,
          7455,
          6759,
          6471,
          4762,
          2889,
          2581,
          2058,
          1410,
          1361
         ],
         "yaxis": "y18"
        },
        {
         "marker": {
          "color": "#e74c3c"
         },
         "name": "gpt-3.5-turbo-0125",
         "showlegend": false,
         "type": "bar",
         "x": [
          "the",
          "of",
          "a",
          "and",
          "to",
          "in",
          "that",
          "with",
          "is",
          "their"
         ],
         "xaxis": "x19",
         "y": [
          13130,
          9306,
          7522,
          7113,
          4541,
          3000,
          2864,
          1865,
          1580,
          1339
         ],
         "yaxis": "y19"
        },
        {
         "marker": {
          "color": "#e74c3c"
         },
         "name": "gpt-3.5-turbo-0125",
         "showlegend": false,
         "type": "bar",
         "x": [
          "the",
          "of",
          "and",
          "a",
          "to",
          "in",
          "that",
          "with",
          "their",
          "as"
         ],
         "xaxis": "x20",
         "y": [
          12556,
          7443,
          6918,
          6897,
          4743,
          3110,
          2548,
          2058,
          1538,
          1323
         ],
         "yaxis": "y20"
        },
        {
         "marker": {
          "color": "#2ecc71"
         },
         "name": "gpt-4o",
         "showlegend": true,
         "type": "bar",
         "x": [
          "the",
          "a",
          "of",
          "and",
          "to",
          "in",
          "you",
          "that",
          "with",
          "is"
         ],
         "xaxis": "x21",
         "y": [
          10373,
          7615,
          6381,
          5454,
          3903,
          2336,
          2188,
          2184,
          1898,
          1752
         ],
         "yaxis": "y21"
        },
        {
         "marker": {
          "color": "#2ecc71"
         },
         "name": "gpt-4o",
         "showlegend": false,
         "type": "bar",
         "x": [
          "the",
          "of",
          "a",
          "and",
          "to",
          "in",
          "that",
          "with",
          "is",
          "was"
         ],
         "xaxis": "x22",
         "y": [
          13859,
          8065,
          6712,
          5643,
          3729,
          2350,
          2326,
          2153,
          1349,
          1256
         ],
         "yaxis": "y22"
        },
        {
         "marker": {
          "color": "#2ecc71"
         },
         "name": "gpt-4o",
         "showlegend": false,
         "type": "bar",
         "x": [
          "the",
          "of",
          "a",
          "and",
          "to",
          "that",
          "in",
          "is",
          "with",
          "its"
         ],
         "xaxis": "x23",
         "y": [
          14117,
          9747,
          7189,
          5113,
          3885,
          2616,
          2463,
          2155,
          2043,
          1055
         ],
         "yaxis": "y23"
        },
        {
         "marker": {
          "color": "#2ecc71"
         },
         "name": "gpt-4o",
         "showlegend": false,
         "type": "bar",
         "x": [
          "the",
          "of",
          "a",
          "and",
          "to",
          "that",
          "in",
          "is",
          "with",
          "as"
         ],
         "xaxis": "x24",
         "y": [
          13576,
          10026,
          6793,
          5665,
          3731,
          2500,
          2302,
          2282,
          2215,
          1123
         ],
         "yaxis": "y24"
        },
        {
         "marker": {
          "color": "#2ecc71"
         },
         "name": "gpt-4o",
         "showlegend": false,
         "type": "bar",
         "x": [
          "the",
          "of",
          "a",
          "and",
          "to",
          "that",
          "in",
          "with",
          "is",
          "as"
         ],
         "xaxis": "x25",
         "y": [
          13136,
          9075,
          6694,
          5517,
          3903,
          2447,
          2374,
          2198,
          1805,
          1014
         ],
         "yaxis": "y25"
        },
        {
         "marker": {
          "color": "#2ecc71"
         },
         "name": "gpt-4o",
         "showlegend": false,
         "type": "bar",
         "x": [
          "the",
          "of",
          "a",
          "and",
          "to",
          "that",
          "in",
          "with",
          "is",
          "as"
         ],
         "xaxis": "x26",
         "y": [
          13395,
          8774,
          6862,
          5860,
          3899,
          2416,
          2372,
          2143,
          1894,
          1100
         ],
         "yaxis": "y26"
        },
        {
         "marker": {
          "color": "#2ecc71"
         },
         "name": "gpt-4o",
         "showlegend": false,
         "type": "bar",
         "x": [
          "the",
          "of",
          "a",
          "and",
          "to",
          "with",
          "in",
          "that",
          "is",
          "was"
         ],
         "xaxis": "x27",
         "y": [
          12836,
          8132,
          6733,
          5658,
          3785,
          2473,
          2377,
          2278,
          1368,
          1233
         ],
         "yaxis": "y27"
        },
        {
         "marker": {
          "color": "#2ecc71"
         },
         "name": "gpt-4o",
         "showlegend": false,
         "type": "bar",
         "x": [
          "the",
          "of",
          "a",
          "and",
          "to",
          "with",
          "in",
          "that",
          "is",
          "as"
         ],
         "xaxis": "x28",
         "y": [
          13517,
          8442,
          6306,
          6167,
          3734,
          2382,
          2334,
          2168,
          1389,
          1091
         ],
         "yaxis": "y28"
        },
        {
         "marker": {
          "color": "#2ecc71"
         },
         "name": "gpt-4o",
         "showlegend": false,
         "type": "bar",
         "x": [
          "the",
          "of",
          "a",
          "and",
          "to",
          "that",
          "in",
          "with",
          "is",
          "its"
         ],
         "xaxis": "x29",
         "y": [
          13664,
          9384,
          7350,
          5073,
          3662,
          2509,
          2482,
          2187,
          2149,
          1065
         ],
         "yaxis": "y29"
        },
        {
         "marker": {
          "color": "#2ecc71"
         },
         "name": "gpt-4o",
         "showlegend": false,
         "type": "bar",
         "x": [
          "the",
          "of",
          "a",
          "and",
          "to",
          "with",
          "in",
          "that",
          "is",
          "as"
         ],
         "xaxis": "x30",
         "y": [
          11636,
          7104,
          7039,
          5531,
          3664,
          2422,
          2365,
          1996,
          1404,
          1226
         ],
         "yaxis": "y30"
        },
        {
         "marker": {
          "color": "#f1c40f"
         },
         "name": "gemini-1.5-flash",
         "showlegend": true,
         "type": "bar",
         "x": [
          "the",
          "a",
          "of",
          "and",
          "to",
          "you",
          "that",
          "in",
          "with",
          "it"
         ],
         "xaxis": "x31",
         "y": [
          9813,
          9729,
          6068,
          4050,
          3638,
          2758,
          2167,
          1965,
          1557,
          1555
         ],
         "yaxis": "y31"
        },
        {
         "marker": {
          "color": "#f1c40f"
         },
         "name": "gemini-1.5-flash",
         "showlegend": false,
         "type": "bar",
         "x": [
          "the",
          "a",
          "of",
          "and",
          "to",
          "that",
          "in",
          "with",
          "was",
          "his"
         ],
         "xaxis": "x32",
         "y": [
          13128,
          9073,
          8468,
          3763,
          3649,
          2130,
          2069,
          2028,
          1679,
          1587
         ],
         "yaxis": "y32"
        },
        {
         "marker": {
          "color": "#f1c40f"
         },
         "name": "gemini-1.5-flash",
         "showlegend": false,
         "type": "bar",
         "x": [
          "the",
          "of",
          "a",
          "and",
          "to",
          "that",
          "in",
          "with",
          "its",
          "his"
         ],
         "xaxis": "x33",
         "y": [
          13428,
          10420,
          9820,
          3491,
          3320,
          2333,
          2232,
          2068,
          1536,
          1342
         ],
         "yaxis": "y33"
        },
        {
         "marker": {
          "color": "#f1c40f"
         },
         "name": "gemini-1.5-flash",
         "showlegend": false,
         "type": "bar",
         "x": [
          "the",
          "of",
          "a",
          "and",
          "to",
          "that",
          "in",
          "is",
          "with",
          "its"
         ],
         "xaxis": "x34",
         "y": [
          13178,
          10757,
          9528,
          4090,
          3668,
          2234,
          2048,
          2032,
          1804,
          1268
         ],
         "yaxis": "y34"
        },
        {
         "marker": {
          "color": "#f1c40f"
         },
         "name": "gemini-1.5-flash",
         "showlegend": false,
         "type": "bar",
         "x": [
          "the",
          "of",
          "a",
          "and",
          "to",
          "that",
          "in",
          "with",
          "is",
          "its"
         ],
         "xaxis": "x35",
         "y": [
          13254,
          10504,
          9343,
          4192,
          4009,
          2323,
          2257,
          1851,
          1747,
          1465
         ],
         "yaxis": "y35"
        },
        {
         "marker": {
          "color": "#f1c40f"
         },
         "name": "gemini-1.5-flash",
         "showlegend": false,
         "type": "bar",
         "x": [
          "the",
          "of",
          "a",
          "and",
          "to",
          "that",
          "in",
          "is",
          "with",
          "its"
         ],
         "xaxis": "x36",
         "y": [
          14541,
          10440,
          9387,
          4074,
          3802,
          2388,
          2072,
          1909,
          1852,
          1503
         ],
         "yaxis": "y36"
        },
        {
         "marker": {
          "color": "#f1c40f"
         },
         "name": "gemini-1.5-flash",
         "showlegend": false,
         "type": "bar",
         "x": [
          "the",
          "a",
          "of",
          "and",
          "to",
          "with",
          "in",
          "that",
          "is",
          "their"
         ],
         "xaxis": "x37",
         "y": [
          11927,
          9077,
          8520,
          4340,
          3355,
          2254,
          2188,
          2063,
          1441,
          1193
         ],
         "yaxis": "y37"
        },
        {
         "marker": {
          "color": "#f1c40f"
         },
         "name": "gemini-1.5-flash",
         "showlegend": false,
         "type": "bar",
         "x": [
          "the",
          "of",
          "a",
          "and",
          "to",
          "that",
          "in",
          "with",
          "is",
          "its"
         ],
         "xaxis": "x38",
         "y": [
          12550,
          8783,
          8781,
          4827,
          3789,
          2130,
          2096,
          2009,
          1830,
          1246
         ],
         "yaxis": "y38"
        },
        {
         "marker": {
          "color": "#f1c40f"
         },
         "name": "gemini-1.5-flash",
         "showlegend": false,
         "type": "bar",
         "x": [
          "the",
          "of",
          "a",
          "to",
          "and",
          "in",
          "that",
          "with",
          "its",
          "is"
         ],
         "xaxis": "x39",
         "y": [
          13704,
          10665,
          10282,
          3712,
          3489,
          2114,
          2085,
          1939,
          1687,
          1673
         ],
         "yaxis": "y39"
        },
        {
         "marker": {
          "color": "#f1c40f"
         },
         "name": "gemini-1.5-flash",
         "showlegend": false,
         "type": "bar",
         "x": [
          "the",
          "a",
          "of",
          "and",
          "to",
          "with",
          "in",
          "that",
          "is",
          "you"
         ],
         "xaxis": "x40",
         "y": [
          11187,
          9549,
          8334,
          3624,
          3280,
          2292,
          1887,
          1851,
          1576,
          1188
         ],
         "yaxis": "y40"
        },
        {
         "marker": {
          "color": "#9b59b6"
         },
         "name": "open-mixtral-8x7b",
         "showlegend": true,
         "type": "bar",
         "x": [
          "the",
          "of",
          "and",
          "a",
          "to",
          "that",
          "in",
          "you",
          "is",
          "with"
         ],
         "xaxis": "x41",
         "y": [
          11425,
          7327,
          6595,
          6388,
          4450,
          3099,
          2436,
          1929,
          1773,
          1611
         ],
         "yaxis": "y41"
        },
        {
         "marker": {
          "color": "#9b59b6"
         },
         "name": "open-mixtral-8x7b",
         "showlegend": false,
         "type": "bar",
         "x": [
          "the",
          "of",
          "and",
          "a",
          "to",
          "that",
          "in",
          "with",
          "their",
          "as"
         ],
         "xaxis": "x42",
         "y": [
          13330,
          7711,
          7524,
          5917,
          4909,
          3548,
          2436,
          1702,
          1469,
          1444
         ],
         "yaxis": "y42"
        },
        {
         "marker": {
          "color": "#9b59b6"
         },
         "name": "open-mixtral-8x7b",
         "showlegend": false,
         "type": "bar",
         "x": [
          "the",
          "of",
          "and",
          "a",
          "to",
          "that",
          "in",
          "is",
          "as",
          "with"
         ],
         "xaxis": "x43",
         "y": [
          14553,
          9794,
          8111,
          6586,
          4697,
          4145,
          2632,
          2535,
          1469,
          1424
         ],
         "yaxis": "y43"
        },
        {
         "marker": {
          "color": "#9b59b6"
         },
         "name": "open-mixtral-8x7b",
         "showlegend": false,
         "type": "bar",
         "x": [
          "the",
          "of",
          "and",
          "a",
          "to",
          "that",
          "in",
          "is",
          "with",
          "as"
         ],
         "xaxis": "x44",
         "y": [
          13529,
          9203,
          7736,
          5884,
          4886,
          3522,
          2620,
          2385,
          1482,
          1341
         ],
         "yaxis": "y44"
        },
        {
         "marker": {
          "color": "#9b59b6"
         },
         "name": "open-mixtral-8x7b",
         "showlegend": false,
         "type": "bar",
         "x": [
          "the",
          "of",
          "and",
          "a",
          "to",
          "that",
          "in",
          "is",
          "as",
          "with"
         ],
         "xaxis": "x45",
         "y": [
          14314,
          9999,
          8396,
          5975,
          4718,
          3729,
          2772,
          2239,
          1467,
          1443
         ],
         "yaxis": "y45"
        },
        {
         "marker": {
          "color": "#9b59b6"
         },
         "name": "open-mixtral-8x7b",
         "showlegend": false,
         "type": "bar",
         "x": [
          "the",
          "of",
          "and",
          "a",
          "to",
          "that",
          "in",
          "is",
          "with",
          "as"
         ],
         "xaxis": "x46",
         "y": [
          13642,
          8899,
          7981,
          5987,
          4885,
          3345,
          2621,
          2043,
          1651,
          1495
         ],
         "yaxis": "y46"
        },
        {
         "marker": {
          "color": "#9b59b6"
         },
         "name": "open-mixtral-8x7b",
         "showlegend": false,
         "type": "bar",
         "x": [
          "the",
          "of",
          "and",
          "a",
          "to",
          "that",
          "in",
          "with",
          "as",
          "their"
         ],
         "xaxis": "x47",
         "y": [
          12721,
          7641,
          7521,
          5866,
          4549,
          3050,
          2447,
          1975,
          1460,
          1441
         ],
         "yaxis": "y47"
        },
        {
         "marker": {
          "color": "#9b59b6"
         },
         "name": "open-mixtral-8x7b",
         "showlegend": false,
         "type": "bar",
         "x": [
          "the",
          "and",
          "of",
          "a",
          "to",
          "that",
          "in",
          "with",
          "is",
          "as"
         ],
         "xaxis": "x48",
         "y": [
          13364,
          8377,
          7884,
          6027,
          4701,
          3233,
          2435,
          1769,
          1493,
          1460
         ],
         "yaxis": "y48"
        },
        {
         "marker": {
          "color": "#9b59b6"
         },
         "name": "open-mixtral-8x7b",
         "showlegend": false,
         "type": "bar",
         "x": [
          "the",
          "of",
          "and",
          "a",
          "to",
          "that",
          "in",
          "is",
          "our",
          "with"
         ],
         "xaxis": "x49",
         "y": [
          14996,
          9751,
          7756,
          6500,
          4835,
          4040,
          2856,
          2510,
          1570,
          1441
         ],
         "yaxis": "y49"
        },
        {
         "marker": {
          "color": "#9b59b6"
         },
         "name": "open-mixtral-8x7b",
         "showlegend": false,
         "type": "bar",
         "x": [
          "the",
          "of",
          "and",
          "a",
          "to",
          "in",
          "that",
          "with",
          "as",
          "is"
         ],
         "xaxis": "x50",
         "y": [
          11856,
          7191,
          6545,
          5940,
          4345,
          2462,
          2457,
          1843,
          1560,
          1414
         ],
         "yaxis": "y50"
        },
        {
         "marker": {
          "color": "#e67e22"
         },
         "name": "claude-3-haiku-20240307",
         "showlegend": true,
         "type": "bar",
         "x": [
          "the",
          "of",
          "a",
          "to",
          "and",
          "you",
          "that",
          "in",
          "it",
          "my"
         ],
         "xaxis": "x51",
         "y": [
          10673,
          6103,
          5841,
          4564,
          4430,
          2715,
          2687,
          2117,
          1576,
          1400
         ],
         "yaxis": "y51"
        },
        {
         "marker": {
          "color": "#e67e22"
         },
         "name": "claude-3-haiku-20240307",
         "showlegend": false,
         "type": "bar",
         "x": [
          "the",
          "of",
          "a",
          "and",
          "to",
          "that",
          "in",
          "with",
          "his",
          "you"
         ],
         "xaxis": "x52",
         "y": [
          13816,
          7493,
          5595,
          5285,
          4414,
          2673,
          2352,
          1771,
          1518,
          1295
         ],
         "yaxis": "y52"
        },
        {
         "marker": {
          "color": "#e67e22"
         },
         "name": "claude-3-haiku-20240307",
         "showlegend": false,
         "type": "bar",
         "x": [
          "the",
          "of",
          "a",
          "and",
          "to",
          "that",
          "in",
          "with",
          "is",
          "its"
         ],
         "xaxis": "x53",
         "y": [
          16020,
          9939,
          6171,
          5261,
          4898,
          3584,
          2472,
          1546,
          1468,
          1317
         ],
         "yaxis": "y53"
        },
        {
         "marker": {
          "color": "#e67e22"
         },
         "name": "claude-3-haiku-20240307",
         "showlegend": false,
         "type": "bar",
         "x": [
          "the",
          "of",
          "a",
          "and",
          "to",
          "that",
          "in",
          "with",
          "is",
          "our"
         ],
         "xaxis": "x54",
         "y": [
          15882,
          10339,
          5904,
          5447,
          4600,
          3212,
          2398,
          1606,
          1574,
          1551
         ],
         "yaxis": "y54"
        },
        {
         "marker": {
          "color": "#e67e22"
         },
         "name": "claude-3-haiku-20240307",
         "showlegend": false,
         "type": "bar",
         "x": [
          "the",
          "of",
          "a",
          "and",
          "to",
          "that",
          "in",
          "with",
          "their",
          "is"
         ],
         "xaxis": "x55",
         "y": [
          16050,
          9908,
          5872,
          5432,
          4609,
          3335,
          2541,
          1677,
          1431,
          1408
         ],
         "yaxis": "y55"
        },
        {
         "marker": {
          "color": "#e67e22"
         },
         "name": "claude-3-haiku-20240307",
         "showlegend": false,
         "type": "bar",
         "x": [
          "the",
          "of",
          "a",
          "and",
          "to",
          "that",
          "in",
          "with",
          "is",
          "our"
         ],
         "xaxis": "x56",
         "y": [
          15197,
          9639,
          5843,
          5683,
          4833,
          3329,
          2486,
          1709,
          1538,
          1381
         ],
         "yaxis": "y56"
        },
        {
         "marker": {
          "color": "#e67e22"
         },
         "name": "claude-3-haiku-20240307",
         "showlegend": false,
         "type": "bar",
         "x": [
          "the",
          "of",
          "a",
          "and",
          "to",
          "that",
          "in",
          "with",
          "you",
          "is"
         ],
         "xaxis": "x57",
         "y": [
          12922,
          7550,
          5575,
          5316,
          4632,
          2649,
          2446,
          1806,
          1539,
          1306
         ],
         "yaxis": "y57"
        },
        {
         "marker": {
          "color": "#e67e22"
         },
         "name": "claude-3-haiku-20240307",
         "showlegend": false,
         "type": "bar",
         "x": [
          "the",
          "of",
          "a",
          "and",
          "to",
          "that",
          "in",
          "with",
          "is",
          "you"
         ],
         "xaxis": "x58",
         "y": [
          14397,
          8693,
          5941,
          5763,
          4598,
          3000,
          2480,
          1655,
          1306,
          1273
         ],
         "yaxis": "y58"
        },
        {
         "marker": {
          "color": "#e67e22"
         },
         "name": "claude-3-haiku-20240307",
         "showlegend": false,
         "type": "bar",
         "x": [
          "the",
          "of",
          "a",
          "and",
          "to",
          "that",
          "in",
          "with",
          "is",
          "our"
         ],
         "xaxis": "x59",
         "y": [
          16248,
          9555,
          6156,
          4742,
          4700,
          3191,
          2652,
          1606,
          1541,
          1420
         ],
         "yaxis": "y59"
        },
        {
         "marker": {
          "color": "#e67e22"
         },
         "name": "claude-3-haiku-20240307",
         "showlegend": false,
         "type": "bar",
         "x": [
          "the",
          "of",
          "a",
          "and",
          "to",
          "that",
          "in",
          "with",
          "you",
          "is"
         ],
         "xaxis": "x60",
         "y": [
          14594,
          8891,
          6163,
          5245,
          4333,
          2656,
          2372,
          1866,
          1533,
          1321
         ],
         "yaxis": "y60"
        }
       ],
       "layout": {
        "annotations": [
         {
          "font": {
           "size": 10
          },
          "showarrow": false,
          "text": "Mark Twain",
          "x": 0.041,
          "xanchor": "center",
          "xref": "paper",
          "y": 0.9999999999999999,
          "yanchor": "bottom",
          "yref": "paper"
         },
         {
          "font": {
           "size": 10
          },
          "showarrow": false,
          "text": "Zane Grey",
          "x": 0.14300000000000002,
          "xanchor": "center",
          "xref": "paper",
          "y": 0.9999999999999999,
          "yanchor": "bottom",
          "yref": "paper"
         },
         {
          "font": {
           "size": 10
          },
          "showarrow": false,
          "text": "Joseph Conrad",
          "x": 0.24500000000000002,
          "xanchor": "center",
          "xref": "paper",
          "y": 0.9999999999999999,
          "yanchor": "bottom",
          "yref": "paper"
         },
         {
          "font": {
           "size": 10
          },
          "showarrow": false,
          "text": "Benjamin Disraeli",
          "x": 0.347,
          "xanchor": "center",
          "xref": "paper",
          "y": 0.9999999999999999,
          "yanchor": "bottom",
          "yref": "paper"
         },
         {
          "font": {
           "size": 10
          },
          "showarrow": false,
          "text": "George Eliot",
          "x": 0.44900000000000007,
          "xanchor": "center",
          "xref": "paper",
          "y": 0.9999999999999999,
          "yanchor": "bottom",
          "yref": "paper"
         },
         {
          "font": {
           "size": 10
          },
          "showarrow": false,
          "text": "William Henry Hudson",
          "x": 0.5509999999999999,
          "xanchor": "center",
          "xref": "paper",
          "y": 0.9999999999999999,
          "yanchor": "bottom",
          "yref": "paper"
         },
         {
          "font": {
           "size": 10
          },
          "showarrow": false,
          "text": "Lucy Maud Montgomery",
          "x": 0.653,
          "xanchor": "center",
          "xref": "paper",
          "y": 0.9999999999999999,
          "yanchor": "bottom",
          "yref": "paper"
         },
         {
          "font": {
           "size": 10
          },
          "showarrow": false,
          "text": "Howard Pyle",
          "x": 0.7550000000000001,
          "xanchor": "center",
          "xref": "paper",
          "y": 0.9999999999999999,
          "yanchor": "bottom",
          "yref": "paper"
         },
         {
          "font": {
           "size": 10
          },
          "showarrow": false,
          "text": "Virginia Woolf",
          "x": 0.857,
          "xanchor": "center",
          "xref": "paper",
          "y": 0.9999999999999999,
          "yanchor": "bottom",
          "yref": "paper"
         },
         {
          "font": {
           "size": 10
          },
          "showarrow": false,
          "text": "Lewis Carroll",
          "x": 0.9589999999999999,
          "xanchor": "center",
          "xref": "paper",
          "y": 0.9999999999999999,
          "yanchor": "bottom",
          "yref": "paper"
         }
        ],
        "height": 800,
        "legend": {
         "title": {
          "text": "Collection"
         }
        },
        "template": {
         "data": {
          "bar": [
           {
            "error_x": {
             "color": "#2a3f5f"
            },
            "error_y": {
             "color": "#2a3f5f"
            },
            "marker": {
             "line": {
              "color": "#E5ECF6",
              "width": 0.5
             },
             "pattern": {
              "fillmode": "overlay",
              "size": 10,
              "solidity": 0.2
             }
            },
            "type": "bar"
           }
          ],
          "barpolar": [
           {
            "marker": {
             "line": {
              "color": "#E5ECF6",
              "width": 0.5
             },
             "pattern": {
              "fillmode": "overlay",
              "size": 10,
              "solidity": 0.2
             }
            },
            "type": "barpolar"
           }
          ],
          "carpet": [
           {
            "aaxis": {
             "endlinecolor": "#2a3f5f",
             "gridcolor": "white",
             "linecolor": "white",
             "minorgridcolor": "white",
             "startlinecolor": "#2a3f5f"
            },
            "baxis": {
             "endlinecolor": "#2a3f5f",
             "gridcolor": "white",
             "linecolor": "white",
             "minorgridcolor": "white",
             "startlinecolor": "#2a3f5f"
            },
            "type": "carpet"
           }
          ],
          "choropleth": [
           {
            "colorbar": {
             "outlinewidth": 0,
             "ticks": ""
            },
            "type": "choropleth"
           }
          ],
          "contour": [
           {
            "colorbar": {
             "outlinewidth": 0,
             "ticks": ""
            },
            "colorscale": [
             [
              0,
              "#0d0887"
             ],
             [
              0.1111111111111111,
              "#46039f"
             ],
             [
              0.2222222222222222,
              "#7201a8"
             ],
             [
              0.3333333333333333,
              "#9c179e"
             ],
             [
              0.4444444444444444,
              "#bd3786"
             ],
             [
              0.5555555555555556,
              "#d8576b"
             ],
             [
              0.6666666666666666,
              "#ed7953"
             ],
             [
              0.7777777777777778,
              "#fb9f3a"
             ],
             [
              0.8888888888888888,
              "#fdca26"
             ],
             [
              1,
              "#f0f921"
             ]
            ],
            "type": "contour"
           }
          ],
          "contourcarpet": [
           {
            "colorbar": {
             "outlinewidth": 0,
             "ticks": ""
            },
            "type": "contourcarpet"
           }
          ],
          "heatmap": [
           {
            "colorbar": {
             "outlinewidth": 0,
             "ticks": ""
            },
            "colorscale": [
             [
              0,
              "#0d0887"
             ],
             [
              0.1111111111111111,
              "#46039f"
             ],
             [
              0.2222222222222222,
              "#7201a8"
             ],
             [
              0.3333333333333333,
              "#9c179e"
             ],
             [
              0.4444444444444444,
              "#bd3786"
             ],
             [
              0.5555555555555556,
              "#d8576b"
             ],
             [
              0.6666666666666666,
              "#ed7953"
             ],
             [
              0.7777777777777778,
              "#fb9f3a"
             ],
             [
              0.8888888888888888,
              "#fdca26"
             ],
             [
              1,
              "#f0f921"
             ]
            ],
            "type": "heatmap"
           }
          ],
          "heatmapgl": [
           {
            "colorbar": {
             "outlinewidth": 0,
             "ticks": ""
            },
            "colorscale": [
             [
              0,
              "#0d0887"
             ],
             [
              0.1111111111111111,
              "#46039f"
             ],
             [
              0.2222222222222222,
              "#7201a8"
             ],
             [
              0.3333333333333333,
              "#9c179e"
             ],
             [
              0.4444444444444444,
              "#bd3786"
             ],
             [
              0.5555555555555556,
              "#d8576b"
             ],
             [
              0.6666666666666666,
              "#ed7953"
             ],
             [
              0.7777777777777778,
              "#fb9f3a"
             ],
             [
              0.8888888888888888,
              "#fdca26"
             ],
             [
              1,
              "#f0f921"
             ]
            ],
            "type": "heatmapgl"
           }
          ],
          "histogram": [
           {
            "marker": {
             "pattern": {
              "fillmode": "overlay",
              "size": 10,
              "solidity": 0.2
             }
            },
            "type": "histogram"
           }
          ],
          "histogram2d": [
           {
            "colorbar": {
             "outlinewidth": 0,
             "ticks": ""
            },
            "colorscale": [
             [
              0,
              "#0d0887"
             ],
             [
              0.1111111111111111,
              "#46039f"
             ],
             [
              0.2222222222222222,
              "#7201a8"
             ],
             [
              0.3333333333333333,
              "#9c179e"
             ],
             [
              0.4444444444444444,
              "#bd3786"
             ],
             [
              0.5555555555555556,
              "#d8576b"
             ],
             [
              0.6666666666666666,
              "#ed7953"
             ],
             [
              0.7777777777777778,
              "#fb9f3a"
             ],
             [
              0.8888888888888888,
              "#fdca26"
             ],
             [
              1,
              "#f0f921"
             ]
            ],
            "type": "histogram2d"
           }
          ],
          "histogram2dcontour": [
           {
            "colorbar": {
             "outlinewidth": 0,
             "ticks": ""
            },
            "colorscale": [
             [
              0,
              "#0d0887"
             ],
             [
              0.1111111111111111,
              "#46039f"
             ],
             [
              0.2222222222222222,
              "#7201a8"
             ],
             [
              0.3333333333333333,
              "#9c179e"
             ],
             [
              0.4444444444444444,
              "#bd3786"
             ],
             [
              0.5555555555555556,
              "#d8576b"
             ],
             [
              0.6666666666666666,
              "#ed7953"
             ],
             [
              0.7777777777777778,
              "#fb9f3a"
             ],
             [
              0.8888888888888888,
              "#fdca26"
             ],
             [
              1,
              "#f0f921"
             ]
            ],
            "type": "histogram2dcontour"
           }
          ],
          "mesh3d": [
           {
            "colorbar": {
             "outlinewidth": 0,
             "ticks": ""
            },
            "type": "mesh3d"
           }
          ],
          "parcoords": [
           {
            "line": {
             "colorbar": {
              "outlinewidth": 0,
              "ticks": ""
             }
            },
            "type": "parcoords"
           }
          ],
          "pie": [
           {
            "automargin": true,
            "type": "pie"
           }
          ],
          "scatter": [
           {
            "fillpattern": {
             "fillmode": "overlay",
             "size": 10,
             "solidity": 0.2
            },
            "type": "scatter"
           }
          ],
          "scatter3d": [
           {
            "line": {
             "colorbar": {
              "outlinewidth": 0,
              "ticks": ""
             }
            },
            "marker": {
             "colorbar": {
              "outlinewidth": 0,
              "ticks": ""
             }
            },
            "type": "scatter3d"
           }
          ],
          "scattercarpet": [
           {
            "marker": {
             "colorbar": {
              "outlinewidth": 0,
              "ticks": ""
             }
            },
            "type": "scattercarpet"
           }
          ],
          "scattergeo": [
           {
            "marker": {
             "colorbar": {
              "outlinewidth": 0,
              "ticks": ""
             }
            },
            "type": "scattergeo"
           }
          ],
          "scattergl": [
           {
            "marker": {
             "colorbar": {
              "outlinewidth": 0,
              "ticks": ""
             }
            },
            "type": "scattergl"
           }
          ],
          "scattermapbox": [
           {
            "marker": {
             "colorbar": {
              "outlinewidth": 0,
              "ticks": ""
             }
            },
            "type": "scattermapbox"
           }
          ],
          "scatterpolar": [
           {
            "marker": {
             "colorbar": {
              "outlinewidth": 0,
              "ticks": ""
             }
            },
            "type": "scatterpolar"
           }
          ],
          "scatterpolargl": [
           {
            "marker": {
             "colorbar": {
              "outlinewidth": 0,
              "ticks": ""
             }
            },
            "type": "scatterpolargl"
           }
          ],
          "scatterternary": [
           {
            "marker": {
             "colorbar": {
              "outlinewidth": 0,
              "ticks": ""
             }
            },
            "type": "scatterternary"
           }
          ],
          "surface": [
           {
            "colorbar": {
             "outlinewidth": 0,
             "ticks": ""
            },
            "colorscale": [
             [
              0,
              "#0d0887"
             ],
             [
              0.1111111111111111,
              "#46039f"
             ],
             [
              0.2222222222222222,
              "#7201a8"
             ],
             [
              0.3333333333333333,
              "#9c179e"
             ],
             [
              0.4444444444444444,
              "#bd3786"
             ],
             [
              0.5555555555555556,
              "#d8576b"
             ],
             [
              0.6666666666666666,
              "#ed7953"
             ],
             [
              0.7777777777777778,
              "#fb9f3a"
             ],
             [
              0.8888888888888888,
              "#fdca26"
             ],
             [
              1,
              "#f0f921"
             ]
            ],
            "type": "surface"
           }
          ],
          "table": [
           {
            "cells": {
             "fill": {
              "color": "#EBF0F8"
             },
             "line": {
              "color": "white"
             }
            },
            "header": {
             "fill": {
              "color": "#C8D4E3"
             },
             "line": {
              "color": "white"
             }
            },
            "type": "table"
           }
          ]
         },
         "layout": {
          "annotationdefaults": {
           "arrowcolor": "#2a3f5f",
           "arrowhead": 0,
           "arrowwidth": 1
          },
          "autotypenumbers": "strict",
          "coloraxis": {
           "colorbar": {
            "outlinewidth": 0,
            "ticks": ""
           }
          },
          "colorscale": {
           "diverging": [
            [
             0,
             "#8e0152"
            ],
            [
             0.1,
             "#c51b7d"
            ],
            [
             0.2,
             "#de77ae"
            ],
            [
             0.3,
             "#f1b6da"
            ],
            [
             0.4,
             "#fde0ef"
            ],
            [
             0.5,
             "#f7f7f7"
            ],
            [
             0.6,
             "#e6f5d0"
            ],
            [
             0.7,
             "#b8e186"
            ],
            [
             0.8,
             "#7fbc41"
            ],
            [
             0.9,
             "#4d9221"
            ],
            [
             1,
             "#276419"
            ]
           ],
           "sequential": [
            [
             0,
             "#0d0887"
            ],
            [
             0.1111111111111111,
             "#46039f"
            ],
            [
             0.2222222222222222,
             "#7201a8"
            ],
            [
             0.3333333333333333,
             "#9c179e"
            ],
            [
             0.4444444444444444,
             "#bd3786"
            ],
            [
             0.5555555555555556,
             "#d8576b"
            ],
            [
             0.6666666666666666,
             "#ed7953"
            ],
            [
             0.7777777777777778,
             "#fb9f3a"
            ],
            [
             0.8888888888888888,
             "#fdca26"
            ],
            [
             1,
             "#f0f921"
            ]
           ],
           "sequentialminus": [
            [
             0,
             "#0d0887"
            ],
            [
             0.1111111111111111,
             "#46039f"
            ],
            [
             0.2222222222222222,
             "#7201a8"
            ],
            [
             0.3333333333333333,
             "#9c179e"
            ],
            [
             0.4444444444444444,
             "#bd3786"
            ],
            [
             0.5555555555555556,
             "#d8576b"
            ],
            [
             0.6666666666666666,
             "#ed7953"
            ],
            [
             0.7777777777777778,
             "#fb9f3a"
            ],
            [
             0.8888888888888888,
             "#fdca26"
            ],
            [
             1,
             "#f0f921"
            ]
           ]
          },
          "colorway": [
           "#636efa",
           "#EF553B",
           "#00cc96",
           "#ab63fa",
           "#FFA15A",
           "#19d3f3",
           "#FF6692",
           "#B6E880",
           "#FF97FF",
           "#FECB52"
          ],
          "font": {
           "color": "#2a3f5f"
          },
          "geo": {
           "bgcolor": "white",
           "lakecolor": "white",
           "landcolor": "#E5ECF6",
           "showlakes": true,
           "showland": true,
           "subunitcolor": "white"
          },
          "hoverlabel": {
           "align": "left"
          },
          "hovermode": "closest",
          "mapbox": {
           "style": "light"
          },
          "paper_bgcolor": "white",
          "plot_bgcolor": "#E5ECF6",
          "polar": {
           "angularaxis": {
            "gridcolor": "white",
            "linecolor": "white",
            "ticks": ""
           },
           "bgcolor": "#E5ECF6",
           "radialaxis": {
            "gridcolor": "white",
            "linecolor": "white",
            "ticks": ""
           }
          },
          "scene": {
           "xaxis": {
            "backgroundcolor": "#E5ECF6",
            "gridcolor": "white",
            "gridwidth": 2,
            "linecolor": "white",
            "showbackground": true,
            "ticks": "",
            "zerolinecolor": "white"
           },
           "yaxis": {
            "backgroundcolor": "#E5ECF6",
            "gridcolor": "white",
            "gridwidth": 2,
            "linecolor": "white",
            "showbackground": true,
            "ticks": "",
            "zerolinecolor": "white"
           },
           "zaxis": {
            "backgroundcolor": "#E5ECF6",
            "gridcolor": "white",
            "gridwidth": 2,
            "linecolor": "white",
            "showbackground": true,
            "ticks": "",
            "zerolinecolor": "white"
           }
          },
          "shapedefaults": {
           "line": {
            "color": "#2a3f5f"
           }
          },
          "ternary": {
           "aaxis": {
            "gridcolor": "white",
            "linecolor": "white",
            "ticks": ""
           },
           "baxis": {
            "gridcolor": "white",
            "linecolor": "white",
            "ticks": ""
           },
           "bgcolor": "#E5ECF6",
           "caxis": {
            "gridcolor": "white",
            "linecolor": "white",
            "ticks": ""
           }
          },
          "title": {
           "x": 0.05
          },
          "xaxis": {
           "automargin": true,
           "gridcolor": "white",
           "linecolor": "white",
           "ticks": "",
           "title": {
            "standoff": 15
           },
           "zerolinecolor": "white",
           "zerolinewidth": 2
          },
          "yaxis": {
           "automargin": true,
           "gridcolor": "white",
           "linecolor": "white",
           "ticks": "",
           "title": {
            "standoff": 15
           },
           "zerolinecolor": "white",
           "zerolinewidth": 2
          }
         }
        },
        "title": {
         "text": "Top 10 function words",
         "x": 0.5
        },
        "xaxis": {
         "anchor": "y",
         "domain": [
          0,
          0.082
         ],
         "tickfont": {
          "size": 10
         }
        },
        "xaxis10": {
         "anchor": "y10",
         "domain": [
          0.9179999999999999,
          0.9999999999999999
         ],
         "tickfont": {
          "size": 10
         }
        },
        "xaxis11": {
         "anchor": "y11",
         "domain": [
          0,
          0.082
         ],
         "tickfont": {
          "size": 10
         }
        },
        "xaxis12": {
         "anchor": "y12",
         "domain": [
          0.10200000000000001,
          0.184
         ],
         "tickfont": {
          "size": 10
         }
        },
        "xaxis13": {
         "anchor": "y13",
         "domain": [
          0.20400000000000001,
          0.28600000000000003
         ],
         "tickfont": {
          "size": 10
         }
        },
        "xaxis14": {
         "anchor": "y14",
         "domain": [
          0.306,
          0.388
         ],
         "tickfont": {
          "size": 10
         }
        },
        "xaxis15": {
         "anchor": "y15",
         "domain": [
          0.40800000000000003,
          0.49000000000000005
         ],
         "tickfont": {
          "size": 10
         }
        },
        "xaxis16": {
         "anchor": "y16",
         "domain": [
          0.51,
          0.592
         ],
         "tickfont": {
          "size": 10
         }
        },
        "xaxis17": {
         "anchor": "y17",
         "domain": [
          0.612,
          0.694
         ],
         "tickfont": {
          "size": 10
         }
        },
        "xaxis18": {
         "anchor": "y18",
         "domain": [
          0.7140000000000001,
          0.796
         ],
         "tickfont": {
          "size": 10
         }
        },
        "xaxis19": {
         "anchor": "y19",
         "domain": [
          0.8160000000000001,
          0.898
         ],
         "tickfont": {
          "size": 10
         }
        },
        "xaxis2": {
         "anchor": "y2",
         "domain": [
          0.10200000000000001,
          0.184
         ],
         "tickfont": {
          "size": 10
         }
        },
        "xaxis20": {
         "anchor": "y20",
         "domain": [
          0.9179999999999999,
          0.9999999999999999
         ],
         "tickfont": {
          "size": 10
         }
        },
        "xaxis21": {
         "anchor": "y21",
         "domain": [
          0,
          0.082
         ],
         "tickfont": {
          "size": 10
         }
        },
        "xaxis22": {
         "anchor": "y22",
         "domain": [
          0.10200000000000001,
          0.184
         ],
         "tickfont": {
          "size": 10
         }
        },
        "xaxis23": {
         "anchor": "y23",
         "domain": [
          0.20400000000000001,
          0.28600000000000003
         ],
         "tickfont": {
          "size": 10
         }
        },
        "xaxis24": {
         "anchor": "y24",
         "domain": [
          0.306,
          0.388
         ],
         "tickfont": {
          "size": 10
         }
        },
        "xaxis25": {
         "anchor": "y25",
         "domain": [
          0.40800000000000003,
          0.49000000000000005
         ],
         "tickfont": {
          "size": 10
         }
        },
        "xaxis26": {
         "anchor": "y26",
         "domain": [
          0.51,
          0.592
         ],
         "tickfont": {
          "size": 10
         }
        },
        "xaxis27": {
         "anchor": "y27",
         "domain": [
          0.612,
          0.694
         ],
         "tickfont": {
          "size": 10
         }
        },
        "xaxis28": {
         "anchor": "y28",
         "domain": [
          0.7140000000000001,
          0.796
         ],
         "tickfont": {
          "size": 10
         }
        },
        "xaxis29": {
         "anchor": "y29",
         "domain": [
          0.8160000000000001,
          0.898
         ],
         "tickfont": {
          "size": 10
         }
        },
        "xaxis3": {
         "anchor": "y3",
         "domain": [
          0.20400000000000001,
          0.28600000000000003
         ],
         "tickfont": {
          "size": 10
         }
        },
        "xaxis30": {
         "anchor": "y30",
         "domain": [
          0.9179999999999999,
          0.9999999999999999
         ],
         "tickfont": {
          "size": 10
         }
        },
        "xaxis31": {
         "anchor": "y31",
         "domain": [
          0,
          0.082
         ],
         "tickfont": {
          "size": 10
         }
        },
        "xaxis32": {
         "anchor": "y32",
         "domain": [
          0.10200000000000001,
          0.184
         ],
         "tickfont": {
          "size": 10
         }
        },
        "xaxis33": {
         "anchor": "y33",
         "domain": [
          0.20400000000000001,
          0.28600000000000003
         ],
         "tickfont": {
          "size": 10
         }
        },
        "xaxis34": {
         "anchor": "y34",
         "domain": [
          0.306,
          0.388
         ],
         "tickfont": {
          "size": 10
         }
        },
        "xaxis35": {
         "anchor": "y35",
         "domain": [
          0.40800000000000003,
          0.49000000000000005
         ],
         "tickfont": {
          "size": 10
         }
        },
        "xaxis36": {
         "anchor": "y36",
         "domain": [
          0.51,
          0.592
         ],
         "tickfont": {
          "size": 10
         }
        },
        "xaxis37": {
         "anchor": "y37",
         "domain": [
          0.612,
          0.694
         ],
         "tickfont": {
          "size": 10
         }
        },
        "xaxis38": {
         "anchor": "y38",
         "domain": [
          0.7140000000000001,
          0.796
         ],
         "tickfont": {
          "size": 10
         }
        },
        "xaxis39": {
         "anchor": "y39",
         "domain": [
          0.8160000000000001,
          0.898
         ],
         "tickfont": {
          "size": 10
         }
        },
        "xaxis4": {
         "anchor": "y4",
         "domain": [
          0.306,
          0.388
         ],
         "tickfont": {
          "size": 10
         }
        },
        "xaxis40": {
         "anchor": "y40",
         "domain": [
          0.9179999999999999,
          0.9999999999999999
         ],
         "tickfont": {
          "size": 10
         }
        },
        "xaxis41": {
         "anchor": "y41",
         "domain": [
          0,
          0.082
         ],
         "tickfont": {
          "size": 10
         }
        },
        "xaxis42": {
         "anchor": "y42",
         "domain": [
          0.10200000000000001,
          0.184
         ],
         "tickfont": {
          "size": 10
         }
        },
        "xaxis43": {
         "anchor": "y43",
         "domain": [
          0.20400000000000001,
          0.28600000000000003
         ],
         "tickfont": {
          "size": 10
         }
        },
        "xaxis44": {
         "anchor": "y44",
         "domain": [
          0.306,
          0.388
         ],
         "tickfont": {
          "size": 10
         }
        },
        "xaxis45": {
         "anchor": "y45",
         "domain": [
          0.40800000000000003,
          0.49000000000000005
         ],
         "tickfont": {
          "size": 10
         }
        },
        "xaxis46": {
         "anchor": "y46",
         "domain": [
          0.51,
          0.592
         ],
         "tickfont": {
          "size": 10
         }
        },
        "xaxis47": {
         "anchor": "y47",
         "domain": [
          0.612,
          0.694
         ],
         "tickfont": {
          "size": 10
         }
        },
        "xaxis48": {
         "anchor": "y48",
         "domain": [
          0.7140000000000001,
          0.796
         ],
         "tickfont": {
          "size": 10
         }
        },
        "xaxis49": {
         "anchor": "y49",
         "domain": [
          0.8160000000000001,
          0.898
         ],
         "tickfont": {
          "size": 10
         }
        },
        "xaxis5": {
         "anchor": "y5",
         "domain": [
          0.40800000000000003,
          0.49000000000000005
         ],
         "tickfont": {
          "size": 10
         }
        },
        "xaxis50": {
         "anchor": "y50",
         "domain": [
          0.9179999999999999,
          0.9999999999999999
         ],
         "tickfont": {
          "size": 10
         }
        },
        "xaxis51": {
         "anchor": "y51",
         "domain": [
          0,
          0.082
         ],
         "tickfont": {
          "size": 10
         }
        },
        "xaxis52": {
         "anchor": "y52",
         "domain": [
          0.10200000000000001,
          0.184
         ],
         "tickfont": {
          "size": 10
         }
        },
        "xaxis53": {
         "anchor": "y53",
         "domain": [
          0.20400000000000001,
          0.28600000000000003
         ],
         "tickfont": {
          "size": 10
         }
        },
        "xaxis54": {
         "anchor": "y54",
         "domain": [
          0.306,
          0.388
         ],
         "tickfont": {
          "size": 10
         }
        },
        "xaxis55": {
         "anchor": "y55",
         "domain": [
          0.40800000000000003,
          0.49000000000000005
         ],
         "tickfont": {
          "size": 10
         }
        },
        "xaxis56": {
         "anchor": "y56",
         "domain": [
          0.51,
          0.592
         ],
         "tickfont": {
          "size": 10
         }
        },
        "xaxis57": {
         "anchor": "y57",
         "domain": [
          0.612,
          0.694
         ],
         "tickfont": {
          "size": 10
         }
        },
        "xaxis58": {
         "anchor": "y58",
         "domain": [
          0.7140000000000001,
          0.796
         ],
         "tickfont": {
          "size": 10
         }
        },
        "xaxis59": {
         "anchor": "y59",
         "domain": [
          0.8160000000000001,
          0.898
         ],
         "tickfont": {
          "size": 10
         }
        },
        "xaxis6": {
         "anchor": "y6",
         "domain": [
          0.51,
          0.592
         ],
         "tickfont": {
          "size": 10
         }
        },
        "xaxis60": {
         "anchor": "y60",
         "domain": [
          0.9179999999999999,
          0.9999999999999999
         ],
         "tickfont": {
          "size": 10
         }
        },
        "xaxis7": {
         "anchor": "y7",
         "domain": [
          0.612,
          0.694
         ],
         "tickfont": {
          "size": 10
         }
        },
        "xaxis8": {
         "anchor": "y8",
         "domain": [
          0.7140000000000001,
          0.796
         ],
         "tickfont": {
          "size": 10
         }
        },
        "xaxis9": {
         "anchor": "y9",
         "domain": [
          0.8160000000000001,
          0.898
         ],
         "tickfont": {
          "size": 10
         }
        },
        "yaxis": {
         "anchor": "x",
         "domain": [
          0.9027777777777777,
          0.9999999999999999
         ],
         "range": [
          0,
          16248
         ]
        },
        "yaxis10": {
         "anchor": "x10",
         "domain": [
          0.9027777777777777,
          0.9999999999999999
         ],
         "range": [
          0,
          16248
         ]
        },
        "yaxis11": {
         "anchor": "x11",
         "domain": [
          0.7222222222222222,
          0.8194444444444444
         ],
         "range": [
          0,
          16248
         ]
        },
        "yaxis12": {
         "anchor": "x12",
         "domain": [
          0.7222222222222222,
          0.8194444444444444
         ],
         "range": [
          0,
          16248
         ]
        },
        "yaxis13": {
         "anchor": "x13",
         "domain": [
          0.7222222222222222,
          0.8194444444444444
         ],
         "range": [
          0,
          16248
         ]
        },
        "yaxis14": {
         "anchor": "x14",
         "domain": [
          0.7222222222222222,
          0.8194444444444444
         ],
         "range": [
          0,
          16248
         ]
        },
        "yaxis15": {
         "anchor": "x15",
         "domain": [
          0.7222222222222222,
          0.8194444444444444
         ],
         "range": [
          0,
          16248
         ]
        },
        "yaxis16": {
         "anchor": "x16",
         "domain": [
          0.7222222222222222,
          0.8194444444444444
         ],
         "range": [
          0,
          16248
         ]
        },
        "yaxis17": {
         "anchor": "x17",
         "domain": [
          0.7222222222222222,
          0.8194444444444444
         ],
         "range": [
          0,
          16248
         ]
        },
        "yaxis18": {
         "anchor": "x18",
         "domain": [
          0.7222222222222222,
          0.8194444444444444
         ],
         "range": [
          0,
          16248
         ]
        },
        "yaxis19": {
         "anchor": "x19",
         "domain": [
          0.7222222222222222,
          0.8194444444444444
         ],
         "range": [
          0,
          16248
         ]
        },
        "yaxis2": {
         "anchor": "x2",
         "domain": [
          0.9027777777777777,
          0.9999999999999999
         ],
         "range": [
          0,
          16248
         ]
        },
        "yaxis20": {
         "anchor": "x20",
         "domain": [
          0.7222222222222222,
          0.8194444444444444
         ],
         "range": [
          0,
          16248
         ]
        },
        "yaxis21": {
         "anchor": "x21",
         "domain": [
          0.5416666666666667,
          0.638888888888889
         ],
         "range": [
          0,
          16248
         ]
        },
        "yaxis22": {
         "anchor": "x22",
         "domain": [
          0.5416666666666667,
          0.638888888888889
         ],
         "range": [
          0,
          16248
         ]
        },
        "yaxis23": {
         "anchor": "x23",
         "domain": [
          0.5416666666666667,
          0.638888888888889
         ],
         "range": [
          0,
          16248
         ]
        },
        "yaxis24": {
         "anchor": "x24",
         "domain": [
          0.5416666666666667,
          0.638888888888889
         ],
         "range": [
          0,
          16248
         ]
        },
        "yaxis25": {
         "anchor": "x25",
         "domain": [
          0.5416666666666667,
          0.638888888888889
         ],
         "range": [
          0,
          16248
         ]
        },
        "yaxis26": {
         "anchor": "x26",
         "domain": [
          0.5416666666666667,
          0.638888888888889
         ],
         "range": [
          0,
          16248
         ]
        },
        "yaxis27": {
         "anchor": "x27",
         "domain": [
          0.5416666666666667,
          0.638888888888889
         ],
         "range": [
          0,
          16248
         ]
        },
        "yaxis28": {
         "anchor": "x28",
         "domain": [
          0.5416666666666667,
          0.638888888888889
         ],
         "range": [
          0,
          16248
         ]
        },
        "yaxis29": {
         "anchor": "x29",
         "domain": [
          0.5416666666666667,
          0.638888888888889
         ],
         "range": [
          0,
          16248
         ]
        },
        "yaxis3": {
         "anchor": "x3",
         "domain": [
          0.9027777777777777,
          0.9999999999999999
         ],
         "range": [
          0,
          16248
         ]
        },
        "yaxis30": {
         "anchor": "x30",
         "domain": [
          0.5416666666666667,
          0.638888888888889
         ],
         "range": [
          0,
          16248
         ]
        },
        "yaxis31": {
         "anchor": "x31",
         "domain": [
          0.3611111111111111,
          0.4583333333333333
         ],
         "range": [
          0,
          16248
         ]
        },
        "yaxis32": {
         "anchor": "x32",
         "domain": [
          0.3611111111111111,
          0.4583333333333333
         ],
         "range": [
          0,
          16248
         ]
        },
        "yaxis33": {
         "anchor": "x33",
         "domain": [
          0.3611111111111111,
          0.4583333333333333
         ],
         "range": [
          0,
          16248
         ]
        },
        "yaxis34": {
         "anchor": "x34",
         "domain": [
          0.3611111111111111,
          0.4583333333333333
         ],
         "range": [
          0,
          16248
         ]
        },
        "yaxis35": {
         "anchor": "x35",
         "domain": [
          0.3611111111111111,
          0.4583333333333333
         ],
         "range": [
          0,
          16248
         ]
        },
        "yaxis36": {
         "anchor": "x36",
         "domain": [
          0.3611111111111111,
          0.4583333333333333
         ],
         "range": [
          0,
          16248
         ]
        },
        "yaxis37": {
         "anchor": "x37",
         "domain": [
          0.3611111111111111,
          0.4583333333333333
         ],
         "range": [
          0,
          16248
         ]
        },
        "yaxis38": {
         "anchor": "x38",
         "domain": [
          0.3611111111111111,
          0.4583333333333333
         ],
         "range": [
          0,
          16248
         ]
        },
        "yaxis39": {
         "anchor": "x39",
         "domain": [
          0.3611111111111111,
          0.4583333333333333
         ],
         "range": [
          0,
          16248
         ]
        },
        "yaxis4": {
         "anchor": "x4",
         "domain": [
          0.9027777777777777,
          0.9999999999999999
         ],
         "range": [
          0,
          16248
         ]
        },
        "yaxis40": {
         "anchor": "x40",
         "domain": [
          0.3611111111111111,
          0.4583333333333333
         ],
         "range": [
          0,
          16248
         ]
        },
        "yaxis41": {
         "anchor": "x41",
         "domain": [
          0.18055555555555555,
          0.2777777777777778
         ],
         "range": [
          0,
          16248
         ]
        },
        "yaxis42": {
         "anchor": "x42",
         "domain": [
          0.18055555555555555,
          0.2777777777777778
         ],
         "range": [
          0,
          16248
         ]
        },
        "yaxis43": {
         "anchor": "x43",
         "domain": [
          0.18055555555555555,
          0.2777777777777778
         ],
         "range": [
          0,
          16248
         ]
        },
        "yaxis44": {
         "anchor": "x44",
         "domain": [
          0.18055555555555555,
          0.2777777777777778
         ],
         "range": [
          0,
          16248
         ]
        },
        "yaxis45": {
         "anchor": "x45",
         "domain": [
          0.18055555555555555,
          0.2777777777777778
         ],
         "range": [
          0,
          16248
         ]
        },
        "yaxis46": {
         "anchor": "x46",
         "domain": [
          0.18055555555555555,
          0.2777777777777778
         ],
         "range": [
          0,
          16248
         ]
        },
        "yaxis47": {
         "anchor": "x47",
         "domain": [
          0.18055555555555555,
          0.2777777777777778
         ],
         "range": [
          0,
          16248
         ]
        },
        "yaxis48": {
         "anchor": "x48",
         "domain": [
          0.18055555555555555,
          0.2777777777777778
         ],
         "range": [
          0,
          16248
         ]
        },
        "yaxis49": {
         "anchor": "x49",
         "domain": [
          0.18055555555555555,
          0.2777777777777778
         ],
         "range": [
          0,
          16248
         ]
        },
        "yaxis5": {
         "anchor": "x5",
         "domain": [
          0.9027777777777777,
          0.9999999999999999
         ],
         "range": [
          0,
          16248
         ]
        },
        "yaxis50": {
         "anchor": "x50",
         "domain": [
          0.18055555555555555,
          0.2777777777777778
         ],
         "range": [
          0,
          16248
         ]
        },
        "yaxis51": {
         "anchor": "x51",
         "domain": [
          0,
          0.09722222222222222
         ],
         "range": [
          0,
          16248
         ]
        },
        "yaxis52": {
         "anchor": "x52",
         "domain": [
          0,
          0.09722222222222222
         ],
         "range": [
          0,
          16248
         ]
        },
        "yaxis53": {
         "anchor": "x53",
         "domain": [
          0,
          0.09722222222222222
         ],
         "range": [
          0,
          16248
         ]
        },
        "yaxis54": {
         "anchor": "x54",
         "domain": [
          0,
          0.09722222222222222
         ],
         "range": [
          0,
          16248
         ]
        },
        "yaxis55": {
         "anchor": "x55",
         "domain": [
          0,
          0.09722222222222222
         ],
         "range": [
          0,
          16248
         ]
        },
        "yaxis56": {
         "anchor": "x56",
         "domain": [
          0,
          0.09722222222222222
         ],
         "range": [
          0,
          16248
         ]
        },
        "yaxis57": {
         "anchor": "x57",
         "domain": [
          0,
          0.09722222222222222
         ],
         "range": [
          0,
          16248
         ]
        },
        "yaxis58": {
         "anchor": "x58",
         "domain": [
          0,
          0.09722222222222222
         ],
         "range": [
          0,
          16248
         ]
        },
        "yaxis59": {
         "anchor": "x59",
         "domain": [
          0,
          0.09722222222222222
         ],
         "range": [
          0,
          16248
         ]
        },
        "yaxis6": {
         "anchor": "x6",
         "domain": [
          0.9027777777777777,
          0.9999999999999999
         ],
         "range": [
          0,
          16248
         ]
        },
        "yaxis60": {
         "anchor": "x60",
         "domain": [
          0,
          0.09722222222222222
         ],
         "range": [
          0,
          16248
         ]
        },
        "yaxis7": {
         "anchor": "x7",
         "domain": [
          0.9027777777777777,
          0.9999999999999999
         ],
         "range": [
          0,
          16248
         ]
        },
        "yaxis8": {
         "anchor": "x8",
         "domain": [
          0.9027777777777777,
          0.9999999999999999
         ],
         "range": [
          0,
          16248
         ]
        },
        "yaxis9": {
         "anchor": "x9",
         "domain": [
          0.9027777777777777,
          0.9999999999999999
         ],
         "range": [
          0,
          16248
         ]
        }
       }
      }
     },
     "metadata": {},
     "output_type": "display_data"
    },
    {
     "data": {
      "application/vnd.plotly.v1+json": {
       "config": {
        "plotlyServerURL": "https://plot.ly"
       },
       "data": [
        {
         "marker": {
          "color": "#3498db"
         },
         "mode": "markers",
         "name": "books",
         "showlegend": true,
         "type": "scatter",
         "x": [
          "!",
          "\"",
          "#",
          "$",
          "%",
          "&",
          "'",
          "(",
          ")",
          "*",
          "+",
          ",",
          "-",
          ".",
          "/",
          ":",
          ";",
          "<",
          "=",
          ">",
          "?",
          "@",
          "[",
          "\\",
          "]",
          "^",
          "_",
          "`",
          "{",
          "|",
          "}",
          "~"
         ],
         "xaxis": "x",
         "y": [
          594,
          2918,
          0,
          23,
          0,
          10,
          2241,
          192,
          192,
          0,
          0,
          11119,
          5665,
          8380,
          1,
          426,
          1820,
          0,
          0,
          0,
          593,
          0,
          32,
          0,
          32,
          0,
          0,
          0,
          0,
          0,
          0,
          0
         ],
         "yaxis": "y"
        },
        {
         "marker": {
          "color": "#3498db"
         },
         "mode": "markers",
         "name": "books",
         "showlegend": false,
         "type": "scatter",
         "x": [
          "!",
          "\"",
          "#",
          "$",
          "%",
          "&",
          "'",
          "(",
          ")",
          "*",
          "+",
          ",",
          "-",
          ".",
          "/",
          ":",
          ";",
          "<",
          "=",
          ">",
          "?",
          "@",
          "[",
          "\\",
          "]",
          "^",
          "_",
          "`",
          "{",
          "|",
          "}",
          "~"
         ],
         "xaxis": "x2",
         "y": [
          1023,
          5476,
          0,
          1,
          0,
          3,
          4290,
          6,
          6,
          0,
          0,
          11203,
          3576,
          13077,
          0,
          65,
          484,
          0,
          0,
          0,
          778,
          0,
          0,
          0,
          0,
          0,
          0,
          0,
          1,
          0,
          1,
          0
         ],
         "yaxis": "y2"
        },
        {
         "marker": {
          "color": "#3498db"
         },
         "mode": "markers",
         "name": "books",
         "showlegend": false,
         "type": "scatter",
         "x": [
          "!",
          "\"",
          "#",
          "$",
          "%",
          "&",
          "'",
          "(",
          ")",
          "*",
          "+",
          ",",
          "-",
          ".",
          "/",
          ":",
          ";",
          "<",
          "=",
          ">",
          "?",
          "@",
          "[",
          "\\",
          "]",
          "^",
          "_",
          "`",
          "{",
          "|",
          "}",
          "~"
         ],
         "xaxis": "x3",
         "y": [
          663,
          3233,
          0,
          0,
          0,
          3,
          1914,
          148,
          148,
          0,
          0,
          10812,
          3518,
          10035,
          0,
          277,
          875,
          0,
          0,
          0,
          747,
          0,
          0,
          0,
          0,
          0,
          0,
          28,
          0,
          0,
          0,
          0
         ],
         "yaxis": "y3"
        },
        {
         "marker": {
          "color": "#3498db"
         },
         "mode": "markers",
         "name": "books",
         "showlegend": false,
         "type": "scatter",
         "x": [
          "!",
          "\"",
          "#",
          "$",
          "%",
          "&",
          "'",
          "(",
          ")",
          "*",
          "+",
          ",",
          "-",
          ".",
          "/",
          ":",
          ";",
          "<",
          "=",
          ">",
          "?",
          "@",
          "[",
          "\\",
          "]",
          "^",
          "_",
          "`",
          "{",
          "|",
          "}",
          "~"
         ],
         "xaxis": "x4",
         "y": [
          1086,
          2282,
          0,
          0,
          0,
          0,
          4830,
          15,
          15,
          0,
          0,
          14308,
          1357,
          8139,
          0,
          250,
          2370,
          0,
          0,
          0,
          823,
          0,
          20,
          0,
          20,
          0,
          0,
          0,
          0,
          0,
          0,
          0
         ],
         "yaxis": "y4"
        },
        {
         "marker": {
          "color": "#3498db"
         },
         "mode": "markers",
         "name": "books",
         "showlegend": false,
         "type": "scatter",
         "x": [
          "!",
          "\"",
          "#",
          "$",
          "%",
          "&",
          "'",
          "(",
          ")",
          "*",
          "+",
          ",",
          "-",
          ".",
          "/",
          ":",
          ";",
          "<",
          "=",
          ">",
          "?",
          "@",
          "[",
          "\\",
          "]",
          "^",
          "_",
          "`",
          "{",
          "|",
          "}",
          "~"
         ],
         "xaxis": "x5",
         "y": [
          350,
          4326,
          0,
          0,
          0,
          1,
          3349,
          53,
          53,
          0,
          0,
          11874,
          3820,
          7467,
          0,
          384,
          1483,
          0,
          0,
          0,
          703,
          0,
          5,
          0,
          5,
          0,
          0,
          9,
          0,
          0,
          0,
          0
         ],
         "yaxis": "y5"
        },
        {
         "marker": {
          "color": "#3498db"
         },
         "mode": "markers",
         "name": "books",
         "showlegend": false,
         "type": "scatter",
         "x": [
          "!",
          "\"",
          "#",
          "$",
          "%",
          "&",
          "'",
          "(",
          ")",
          "*",
          "+",
          ",",
          "-",
          ".",
          "/",
          ":",
          ";",
          "<",
          "=",
          ">",
          "?",
          "@",
          "[",
          "\\",
          "]",
          "^",
          "_",
          "`",
          "{",
          "|",
          "}",
          "~"
         ],
         "xaxis": "x6",
         "y": [
          401,
          2576,
          0,
          0,
          0,
          4,
          1035,
          48,
          48,
          0,
          0,
          13822,
          3509,
          5688,
          0,
          227,
          1490,
          0,
          0,
          0,
          440,
          0,
          5,
          0,
          4,
          0,
          1,
          0,
          0,
          1,
          0,
          0
         ],
         "yaxis": "y6"
        },
        {
         "marker": {
          "color": "#3498db"
         },
         "mode": "markers",
         "name": "books",
         "showlegend": false,
         "type": "scatter",
         "x": [
          "!",
          "\"",
          "#",
          "$",
          "%",
          "&",
          "'",
          "(",
          ")",
          "*",
          "+",
          ",",
          "-",
          ".",
          "/",
          ":",
          ";",
          "<",
          "=",
          ">",
          "?",
          "@",
          "[",
          "\\",
          "]",
          "^",
          "_",
          "`",
          "{",
          "|",
          "}",
          "~"
         ],
         "xaxis": "x7",
         "y": [
          453,
          6728,
          0,
          0,
          0,
          1,
          5038,
          0,
          0,
          0,
          0,
          9866,
          3833,
          11972,
          0,
          25,
          558,
          0,
          0,
          0,
          784,
          0,
          1,
          0,
          1,
          0,
          0,
          0,
          0,
          0,
          0,
          0
         ],
         "yaxis": "y7"
        },
        {
         "marker": {
          "color": "#3498db"
         },
         "mode": "markers",
         "name": "books",
         "showlegend": false,
         "type": "scatter",
         "x": [
          "!",
          "\"",
          "#",
          "$",
          "%",
          "&",
          "'",
          "(",
          ")",
          "*",
          "+",
          ",",
          "-",
          ".",
          "/",
          ":",
          ";",
          "<",
          "=",
          ">",
          "?",
          "@",
          "[",
          "\\",
          "]",
          "^",
          "_",
          "`",
          "{",
          "|",
          "}",
          "~"
         ],
         "xaxis": "x8",
         "y": [
          768,
          5754,
          0,
          0,
          0,
          8,
          1287,
          56,
          56,
          0,
          0,
          13906,
          1918,
          6496,
          0,
          98,
          939,
          0,
          0,
          0,
          639,
          0,
          19,
          0,
          19,
          0,
          0,
          0,
          0,
          0,
          0,
          0
         ],
         "yaxis": "y8"
        },
        {
         "marker": {
          "color": "#3498db"
         },
         "mode": "markers",
         "name": "books",
         "showlegend": false,
         "type": "scatter",
         "x": [
          "!",
          "\"",
          "#",
          "$",
          "%",
          "&",
          "'",
          "(",
          ")",
          "*",
          "+",
          ",",
          "-",
          ".",
          "/",
          ":",
          ";",
          "<",
          "=",
          ">",
          "?",
          "@",
          "[",
          "\\",
          "]",
          "^",
          "_",
          "`",
          "{",
          "|",
          "}",
          "~"
         ],
         "xaxis": "x9",
         "y": [
          461,
          5919,
          0,
          0,
          0,
          1,
          2884,
          78,
          78,
          0,
          0,
          13432,
          3367,
          9491,
          0,
          135,
          1228,
          0,
          0,
          0,
          994,
          0,
          4,
          0,
          4,
          0,
          0,
          0,
          0,
          0,
          0,
          0
         ],
         "yaxis": "y9"
        },
        {
         "marker": {
          "color": "#3498db"
         },
         "mode": "markers",
         "name": "books",
         "showlegend": false,
         "type": "scatter",
         "x": [
          "!",
          "\"",
          "#",
          "$",
          "%",
          "&",
          "'",
          "(",
          ")",
          "*",
          "+",
          ",",
          "-",
          ".",
          "/",
          ":",
          ";",
          "<",
          "=",
          ">",
          "?",
          "@",
          "[",
          "\\",
          "]",
          "^",
          "_",
          "`",
          "{",
          "|",
          "}",
          "~"
         ],
         "xaxis": "x10",
         "y": [
          3156,
          4456,
          0,
          0,
          0,
          12,
          6394,
          341,
          341,
          0,
          0,
          13391,
          3465,
          7131,
          0,
          1227,
          500,
          0,
          0,
          0,
          1399,
          0,
          63,
          0,
          62,
          0,
          1,
          0,
          0,
          0,
          0,
          0
         ],
         "yaxis": "y10"
        },
        {
         "marker": {
          "color": "#e74c3c"
         },
         "mode": "markers",
         "name": "gpt-3.5-turbo-0125",
         "showlegend": true,
         "type": "scatter",
         "x": [
          "!",
          "\"",
          "#",
          "$",
          "%",
          "&",
          "'",
          "(",
          ")",
          "*",
          "+",
          ",",
          "-",
          ".",
          "/",
          ":",
          ";",
          "<",
          "=",
          ">",
          "?",
          "@",
          "[",
          "\\",
          "]",
          "^",
          "_",
          "`",
          "{",
          "|",
          "}",
          "~"
         ],
         "xaxis": "x",
         "y": [
          100,
          314,
          0,
          0,
          0,
          0,
          1921,
          7,
          7,
          32,
          0,
          12832,
          807,
          8092,
          0,
          91,
          60,
          0,
          0,
          0,
          229,
          0,
          0,
          0,
          0,
          0,
          0,
          0,
          0,
          0,
          0,
          0
         ],
         "yaxis": "y"
        },
        {
         "marker": {
          "color": "#e74c3c"
         },
         "mode": "markers",
         "name": "gpt-3.5-turbo-0125",
         "showlegend": false,
         "type": "scatter",
         "x": [
          "!",
          "\"",
          "#",
          "$",
          "%",
          "&",
          "'",
          "(",
          ")",
          "*",
          "+",
          ",",
          "-",
          ".",
          "/",
          ":",
          ";",
          "<",
          "=",
          ">",
          "?",
          "@",
          "[",
          "\\",
          "]",
          "^",
          "_",
          "`",
          "{",
          "|",
          "}",
          "~"
         ],
         "xaxis": "x2",
         "y": [
          22,
          800,
          0,
          0,
          0,
          0,
          780,
          1,
          1,
          44,
          0,
          12666,
          774,
          7730,
          0,
          35,
          35,
          0,
          0,
          0,
          126,
          0,
          0,
          0,
          0,
          0,
          0,
          0,
          0,
          0,
          0,
          0
         ],
         "yaxis": "y2"
        },
        {
         "marker": {
          "color": "#e74c3c"
         },
         "mode": "markers",
         "name": "gpt-3.5-turbo-0125",
         "showlegend": false,
         "type": "scatter",
         "x": [
          "!",
          "\"",
          "#",
          "$",
          "%",
          "&",
          "'",
          "(",
          ")",
          "*",
          "+",
          ",",
          "-",
          ".",
          "/",
          ":",
          ";",
          "<",
          "=",
          ">",
          "?",
          "@",
          "[",
          "\\",
          "]",
          "^",
          "_",
          "`",
          "{",
          "|",
          "}",
          "~"
         ],
         "xaxis": "x3",
         "y": [
          9,
          536,
          0,
          0,
          0,
          0,
          475,
          2,
          2,
          96,
          0,
          12514,
          694,
          7583,
          0,
          55,
          82,
          0,
          0,
          0,
          116,
          0,
          0,
          0,
          0,
          0,
          0,
          0,
          0,
          0,
          0,
          0
         ],
         "yaxis": "y3"
        },
        {
         "marker": {
          "color": "#e74c3c"
         },
         "mode": "markers",
         "name": "gpt-3.5-turbo-0125",
         "showlegend": false,
         "type": "scatter",
         "x": [
          "!",
          "\"",
          "#",
          "$",
          "%",
          "&",
          "'",
          "(",
          ")",
          "*",
          "+",
          ",",
          "-",
          ".",
          "/",
          ":",
          ";",
          "<",
          "=",
          ">",
          "?",
          "@",
          "[",
          "\\",
          "]",
          "^",
          "_",
          "`",
          "{",
          "|",
          "}",
          "~"
         ],
         "xaxis": "x4",
         "y": [
          28,
          142,
          0,
          0,
          0,
          1,
          493,
          13,
          13,
          36,
          0,
          12701,
          889,
          7572,
          0,
          43,
          64,
          0,
          0,
          0,
          71,
          0,
          5,
          0,
          5,
          0,
          0,
          0,
          0,
          0,
          0,
          0
         ],
         "yaxis": "y4"
        },
        {
         "marker": {
          "color": "#e74c3c"
         },
         "mode": "markers",
         "name": "gpt-3.5-turbo-0125",
         "showlegend": false,
         "type": "scatter",
         "x": [
          "!",
          "\"",
          "#",
          "$",
          "%",
          "&",
          "'",
          "(",
          ")",
          "*",
          "+",
          ",",
          "-",
          ".",
          "/",
          ":",
          ";",
          "<",
          "=",
          ">",
          "?",
          "@",
          "[",
          "\\",
          "]",
          "^",
          "_",
          "`",
          "{",
          "|",
          "}",
          "~"
         ],
         "xaxis": "x5",
         "y": [
          28,
          400,
          0,
          0,
          0,
          0,
          598,
          4,
          4,
          44,
          0,
          12448,
          751,
          7495,
          0,
          32,
          59,
          0,
          0,
          0,
          98,
          0,
          3,
          0,
          3,
          0,
          0,
          0,
          0,
          0,
          0,
          0
         ],
         "yaxis": "y5"
        },
        {
         "marker": {
          "color": "#e74c3c"
         },
         "mode": "markers",
         "name": "gpt-3.5-turbo-0125",
         "showlegend": false,
         "type": "scatter",
         "x": [
          "!",
          "\"",
          "#",
          "$",
          "%",
          "&",
          "'",
          "(",
          ")",
          "*",
          "+",
          ",",
          "-",
          ".",
          "/",
          ":",
          ";",
          "<",
          "=",
          ">",
          "?",
          "@",
          "[",
          "\\",
          "]",
          "^",
          "_",
          "`",
          "{",
          "|",
          "}",
          "~"
         ],
         "xaxis": "x6",
         "y": [
          19,
          312,
          0,
          0,
          0,
          0,
          559,
          3,
          3,
          36,
          0,
          12244,
          777,
          7471,
          0,
          24,
          57,
          0,
          0,
          0,
          72,
          0,
          1,
          0,
          1,
          0,
          0,
          0,
          0,
          0,
          0,
          0
         ],
         "yaxis": "y6"
        },
        {
         "marker": {
          "color": "#e74c3c"
         },
         "mode": "markers",
         "name": "gpt-3.5-turbo-0125",
         "showlegend": false,
         "type": "scatter",
         "x": [
          "!",
          "\"",
          "#",
          "$",
          "%",
          "&",
          "'",
          "(",
          ")",
          "*",
          "+",
          ",",
          "-",
          ".",
          "/",
          ":",
          ";",
          "<",
          "=",
          ">",
          "?",
          "@",
          "[",
          "\\",
          "]",
          "^",
          "_",
          "`",
          "{",
          "|",
          "}",
          "~"
         ],
         "xaxis": "x7",
         "y": [
          45,
          973,
          0,
          0,
          0,
          0,
          768,
          8,
          8,
          32,
          0,
          12501,
          749,
          8125,
          0,
          22,
          37,
          0,
          0,
          0,
          145,
          0,
          0,
          0,
          0,
          0,
          0,
          0,
          0,
          0,
          0,
          0
         ],
         "yaxis": "y7"
        },
        {
         "marker": {
          "color": "#e74c3c"
         },
         "mode": "markers",
         "name": "gpt-3.5-turbo-0125",
         "showlegend": false,
         "type": "scatter",
         "x": [
          "!",
          "\"",
          "#",
          "$",
          "%",
          "&",
          "'",
          "(",
          ")",
          "*",
          "+",
          ",",
          "-",
          ".",
          "/",
          ":",
          ";",
          "<",
          "=",
          ">",
          "?",
          "@",
          "[",
          "\\",
          "]",
          "^",
          "_",
          "`",
          "{",
          "|",
          "}",
          "~"
         ],
         "xaxis": "x8",
         "y": [
          71,
          889,
          0,
          0,
          0,
          0,
          817,
          10,
          10,
          220,
          0,
          12621,
          733,
          7943,
          0,
          86,
          63,
          0,
          0,
          0,
          119,
          0,
          0,
          0,
          0,
          0,
          0,
          0,
          0,
          0,
          0,
          0
         ],
         "yaxis": "y8"
        },
        {
         "marker": {
          "color": "#e74c3c"
         },
         "mode": "markers",
         "name": "gpt-3.5-turbo-0125",
         "showlegend": false,
         "type": "scatter",
         "x": [
          "!",
          "\"",
          "#",
          "$",
          "%",
          "&",
          "'",
          "(",
          ")",
          "*",
          "+",
          ",",
          "-",
          ".",
          "/",
          ":",
          ";",
          "<",
          "=",
          ">",
          "?",
          "@",
          "[",
          "\\",
          "]",
          "^",
          "_",
          "`",
          "{",
          "|",
          "}",
          "~"
         ],
         "xaxis": "x9",
         "y": [
          8,
          244,
          0,
          0,
          0,
          0,
          507,
          7,
          7,
          0,
          0,
          12528,
          770,
          7550,
          0,
          27,
          98,
          0,
          0,
          0,
          115,
          0,
          0,
          0,
          0,
          0,
          0,
          0,
          0,
          0,
          0,
          0
         ],
         "yaxis": "y9"
        },
        {
         "marker": {
          "color": "#e74c3c"
         },
         "mode": "markers",
         "name": "gpt-3.5-turbo-0125",
         "showlegend": false,
         "type": "scatter",
         "x": [
          "!",
          "\"",
          "#",
          "$",
          "%",
          "&",
          "'",
          "(",
          ")",
          "*",
          "+",
          ",",
          "-",
          ".",
          "/",
          ":",
          ";",
          "<",
          "=",
          ">",
          "?",
          "@",
          "[",
          "\\",
          "]",
          "^",
          "_",
          "`",
          "{",
          "|",
          "}",
          "~"
         ],
         "xaxis": "x10",
         "y": [
          81,
          845,
          0,
          0,
          0,
          0,
          778,
          5,
          5,
          32,
          0,
          12779,
          654,
          7992,
          0,
          32,
          55,
          0,
          0,
          0,
          170,
          0,
          0,
          0,
          0,
          0,
          0,
          0,
          0,
          0,
          0,
          0
         ],
         "yaxis": "y10"
        },
        {
         "marker": {
          "color": "#2ecc71"
         },
         "mode": "markers",
         "name": "gpt-4o",
         "showlegend": true,
         "type": "scatter",
         "x": [
          "!",
          "\"",
          "#",
          "$",
          "%",
          "&",
          "'",
          "(",
          ")",
          "*",
          "+",
          ",",
          "-",
          ".",
          "/",
          ":",
          ";",
          "<",
          "=",
          ">",
          "?",
          "@",
          "[",
          "\\",
          "]",
          "^",
          "_",
          "`",
          "{",
          "|",
          "}",
          "~"
         ],
         "xaxis": "x",
         "y": [
          173,
          642,
          147,
          0,
          0,
          1,
          1765,
          103,
          103,
          846,
          0,
          14751,
          783,
          8774,
          0,
          310,
          133,
          0,
          0,
          0,
          325,
          0,
          0,
          0,
          0,
          0,
          0,
          0,
          0,
          0,
          0,
          0
         ],
         "yaxis": "y"
        },
        {
         "marker": {
          "color": "#2ecc71"
         },
         "mode": "markers",
         "name": "gpt-4o",
         "showlegend": false,
         "type": "scatter",
         "x": [
          "!",
          "\"",
          "#",
          "$",
          "%",
          "&",
          "'",
          "(",
          ")",
          "*",
          "+",
          ",",
          "-",
          ".",
          "/",
          ":",
          ";",
          "<",
          "=",
          ">",
          "?",
          "@",
          "[",
          "\\",
          "]",
          "^",
          "_",
          "`",
          "{",
          "|",
          "}",
          "~"
         ],
         "xaxis": "x2",
         "y": [
          60,
          1384,
          390,
          0,
          0,
          0,
          1011,
          100,
          100,
          368,
          0,
          15249,
          583,
          8758,
          0,
          155,
          105,
          0,
          0,
          0,
          248,
          0,
          0,
          0,
          0,
          0,
          0,
          0,
          0,
          0,
          0,
          0
         ],
         "yaxis": "y2"
        },
        {
         "marker": {
          "color": "#2ecc71"
         },
         "mode": "markers",
         "name": "gpt-4o",
         "showlegend": false,
         "type": "scatter",
         "x": [
          "!",
          "\"",
          "#",
          "$",
          "%",
          "&",
          "'",
          "(",
          ")",
          "*",
          "+",
          ",",
          "-",
          ".",
          "/",
          ":",
          ";",
          "<",
          "=",
          ">",
          "?",
          "@",
          "[",
          "\\",
          "]",
          "^",
          "_",
          "`",
          "{",
          "|",
          "}",
          "~"
         ],
         "xaxis": "x3",
         "y": [
          20,
          876,
          251,
          0,
          0,
          0,
          779,
          79,
          79,
          572,
          1,
          15865,
          508,
          8150,
          0,
          204,
          129,
          0,
          0,
          0,
          161,
          0,
          1,
          0,
          1,
          0,
          0,
          0,
          0,
          0,
          0,
          0
         ],
         "yaxis": "y3"
        },
        {
         "marker": {
          "color": "#2ecc71"
         },
         "mode": "markers",
         "name": "gpt-4o",
         "showlegend": false,
         "type": "scatter",
         "x": [
          "!",
          "\"",
          "#",
          "$",
          "%",
          "&",
          "'",
          "(",
          ")",
          "*",
          "+",
          ",",
          "-",
          ".",
          "/",
          ":",
          ";",
          "<",
          "=",
          ">",
          "?",
          "@",
          "[",
          "\\",
          "]",
          "^",
          "_",
          "`",
          "{",
          "|",
          "}",
          "~"
         ],
         "xaxis": "x4",
         "y": [
          32,
          522,
          35,
          0,
          0,
          0,
          652,
          85,
          85,
          608,
          1,
          15688,
          527,
          8048,
          3,
          221,
          101,
          0,
          0,
          0,
          104,
          0,
          11,
          0,
          11,
          0,
          0,
          0,
          0,
          0,
          0,
          0
         ],
         "yaxis": "y4"
        },
        {
         "marker": {
          "color": "#2ecc71"
         },
         "mode": "markers",
         "name": "gpt-4o",
         "showlegend": false,
         "type": "scatter",
         "x": [
          "!",
          "\"",
          "#",
          "$",
          "%",
          "&",
          "'",
          "(",
          ")",
          "*",
          "+",
          ",",
          "-",
          ".",
          "/",
          ":",
          ";",
          "<",
          "=",
          ">",
          "?",
          "@",
          "[",
          "\\",
          "]",
          "^",
          "_",
          "`",
          "{",
          "|",
          "}",
          "~"
         ],
         "xaxis": "x5",
         "y": [
          49,
          992,
          194,
          2,
          0,
          0,
          794,
          70,
          70,
          630,
          0,
          15531,
          618,
          8194,
          1,
          241,
          119,
          0,
          0,
          0,
          164,
          0,
          4,
          0,
          4,
          0,
          0,
          0,
          0,
          0,
          0,
          0
         ],
         "yaxis": "y5"
        },
        {
         "marker": {
          "color": "#2ecc71"
         },
         "mode": "markers",
         "name": "gpt-4o",
         "showlegend": false,
         "type": "scatter",
         "x": [
          "!",
          "\"",
          "#",
          "$",
          "%",
          "&",
          "'",
          "(",
          ")",
          "*",
          "+",
          ",",
          "-",
          ".",
          "/",
          ":",
          ";",
          "<",
          "=",
          ">",
          "?",
          "@",
          "[",
          "\\",
          "]",
          "^",
          "_",
          "`",
          "{",
          "|",
          "}",
          "~"
         ],
         "xaxis": "x6",
         "y": [
          52,
          804,
          65,
          0,
          0,
          0,
          801,
          81,
          81,
          760,
          3,
          15557,
          671,
          8349,
          1,
          242,
          107,
          0,
          0,
          0,
          163,
          0,
          1,
          0,
          1,
          0,
          1,
          0,
          0,
          0,
          0,
          0
         ],
         "yaxis": "y6"
        },
        {
         "marker": {
          "color": "#2ecc71"
         },
         "mode": "markers",
         "name": "gpt-4o",
         "showlegend": false,
         "type": "scatter",
         "x": [
          "!",
          "\"",
          "#",
          "$",
          "%",
          "&",
          "'",
          "(",
          ")",
          "*",
          "+",
          ",",
          "-",
          ".",
          "/",
          ":",
          ";",
          "<",
          "=",
          ">",
          "?",
          "@",
          "[",
          "\\",
          "]",
          "^",
          "_",
          "`",
          "{",
          "|",
          "}",
          "~"
         ],
         "xaxis": "x7",
         "y": [
          110,
          1578,
          65,
          1,
          0,
          0,
          974,
          75,
          75,
          657,
          1,
          14972,
          798,
          8584,
          0,
          208,
          87,
          0,
          0,
          0,
          255,
          0,
          4,
          0,
          4,
          0,
          0,
          0,
          0,
          0,
          0,
          0
         ],
         "yaxis": "y7"
        },
        {
         "marker": {
          "color": "#2ecc71"
         },
         "mode": "markers",
         "name": "gpt-4o",
         "showlegend": false,
         "type": "scatter",
         "x": [
          "!",
          "\"",
          "#",
          "$",
          "%",
          "&",
          "'",
          "(",
          ")",
          "*",
          "+",
          ",",
          "-",
          ".",
          "/",
          ":",
          ";",
          "<",
          "=",
          ">",
          "?",
          "@",
          "[",
          "\\",
          "]",
          "^",
          "_",
          "`",
          "{",
          "|",
          "}",
          "~"
         ],
         "xaxis": "x8",
         "y": [
          112,
          1110,
          372,
          1,
          1,
          0,
          897,
          29,
          29,
          664,
          1,
          15583,
          535,
          8269,
          0,
          180,
          81,
          0,
          0,
          0,
          195,
          0,
          0,
          0,
          0,
          0,
          1,
          0,
          0,
          0,
          0,
          0
         ],
         "yaxis": "y8"
        },
        {
         "marker": {
          "color": "#2ecc71"
         },
         "mode": "markers",
         "name": "gpt-4o",
         "showlegend": false,
         "type": "scatter",
         "x": [
          "!",
          "\"",
          "#",
          "$",
          "%",
          "&",
          "'",
          "(",
          ")",
          "*",
          "+",
          ",",
          "-",
          ".",
          "/",
          ":",
          ";",
          "<",
          "=",
          ">",
          "?",
          "@",
          "[",
          "\\",
          "]",
          "^",
          "_",
          "`",
          "{",
          "|",
          "}",
          "~"
         ],
         "xaxis": "x9",
         "y": [
          46,
          692,
          38,
          0,
          0,
          0,
          704,
          66,
          66,
          698,
          1,
          17254,
          651,
          8128,
          0,
          220,
          117,
          0,
          0,
          0,
          217,
          0,
          4,
          0,
          4,
          0,
          0,
          0,
          0,
          0,
          0,
          0
         ],
         "yaxis": "y9"
        },
        {
         "marker": {
          "color": "#2ecc71"
         },
         "mode": "markers",
         "name": "gpt-4o",
         "showlegend": false,
         "type": "scatter",
         "x": [
          "!",
          "\"",
          "#",
          "$",
          "%",
          "&",
          "'",
          "(",
          ")",
          "*",
          "+",
          ",",
          "-",
          ".",
          "/",
          ":",
          ";",
          "<",
          "=",
          ">",
          "?",
          "@",
          "[",
          "\\",
          "]",
          "^",
          "_",
          "`",
          "{",
          "|",
          "}",
          "~"
         ],
         "xaxis": "x10",
         "y": [
          257,
          2225,
          268,
          0,
          0,
          1,
          874,
          81,
          81,
          970,
          0,
          15396,
          688,
          8689,
          0,
          268,
          96,
          0,
          0,
          0,
          407,
          0,
          0,
          0,
          0,
          0,
          0,
          0,
          0,
          0,
          0,
          0
         ],
         "yaxis": "y10"
        },
        {
         "marker": {
          "color": "#f1c40f"
         },
         "mode": "markers",
         "name": "gemini-1.5-flash",
         "showlegend": true,
         "type": "scatter",
         "x": [
          "!",
          "\"",
          "#",
          "$",
          "%",
          "&",
          "'",
          "(",
          ")",
          "*",
          "+",
          ",",
          "-",
          ".",
          "/",
          ":",
          ";",
          "<",
          "=",
          ">",
          "?",
          "@",
          "[",
          "\\",
          "]",
          "^",
          "_",
          "`",
          "{",
          "|",
          "}",
          "~"
         ],
         "xaxis": "x",
         "y": [
          452,
          1371,
          30,
          0,
          0,
          0,
          6169,
          9,
          9,
          1054,
          0,
          18741,
          639,
          8940,
          0,
          255,
          18,
          0,
          0,
          0,
          576,
          0,
          2,
          0,
          2,
          0,
          0,
          0,
          0,
          0,
          0,
          0
         ],
         "yaxis": "y"
        },
        {
         "marker": {
          "color": "#f1c40f"
         },
         "mode": "markers",
         "name": "gemini-1.5-flash",
         "showlegend": false,
         "type": "scatter",
         "x": [
          "!",
          "\"",
          "#",
          "$",
          "%",
          "&",
          "'",
          "(",
          ")",
          "*",
          "+",
          ",",
          "-",
          ".",
          "/",
          ":",
          ";",
          "<",
          "=",
          ">",
          "?",
          "@",
          "[",
          "\\",
          "]",
          "^",
          "_",
          "`",
          "{",
          "|",
          "}",
          "~"
         ],
         "xaxis": "x2",
         "y": [
          65,
          1505,
          28,
          1,
          0,
          0,
          1097,
          1,
          1,
          979,
          0,
          18931,
          428,
          9120,
          0,
          161,
          24,
          0,
          0,
          0,
          296,
          0,
          5,
          0,
          5,
          0,
          0,
          0,
          0,
          0,
          0,
          0
         ],
         "yaxis": "y2"
        },
        {
         "marker": {
          "color": "#f1c40f"
         },
         "mode": "markers",
         "name": "gemini-1.5-flash",
         "showlegend": false,
         "type": "scatter",
         "x": [
          "!",
          "\"",
          "#",
          "$",
          "%",
          "&",
          "'",
          "(",
          ")",
          "*",
          "+",
          ",",
          "-",
          ".",
          "/",
          ":",
          ";",
          "<",
          "=",
          ">",
          "?",
          "@",
          "[",
          "\\",
          "]",
          "^",
          "_",
          "`",
          "{",
          "|",
          "}",
          "~"
         ],
         "xaxis": "x3",
         "y": [
          26,
          1480,
          26,
          0,
          0,
          0,
          525,
          1,
          1,
          658,
          0,
          20536,
          275,
          8032,
          2,
          103,
          16,
          0,
          0,
          0,
          263,
          0,
          3,
          0,
          3,
          0,
          0,
          0,
          0,
          0,
          0,
          0
         ],
         "yaxis": "y3"
        },
        {
         "marker": {
          "color": "#f1c40f"
         },
         "mode": "markers",
         "name": "gemini-1.5-flash",
         "showlegend": false,
         "type": "scatter",
         "x": [
          "!",
          "\"",
          "#",
          "$",
          "%",
          "&",
          "'",
          "(",
          ")",
          "*",
          "+",
          ",",
          "-",
          ".",
          "/",
          ":",
          ";",
          "<",
          "=",
          ">",
          "?",
          "@",
          "[",
          "\\",
          "]",
          "^",
          "_",
          "`",
          "{",
          "|",
          "}",
          "~"
         ],
         "xaxis": "x4",
         "y": [
          63,
          624,
          41,
          0,
          0,
          0,
          639,
          41,
          41,
          1071,
          0,
          19279,
          444,
          7884,
          0,
          204,
          45,
          0,
          0,
          0,
          221,
          0,
          3,
          0,
          3,
          0,
          0,
          0,
          0,
          0,
          0,
          0
         ],
         "yaxis": "y4"
        },
        {
         "marker": {
          "color": "#f1c40f"
         },
         "mode": "markers",
         "name": "gemini-1.5-flash",
         "showlegend": false,
         "type": "scatter",
         "x": [
          "!",
          "\"",
          "#",
          "$",
          "%",
          "&",
          "'",
          "(",
          ")",
          "*",
          "+",
          ",",
          "-",
          ".",
          "/",
          ":",
          ";",
          "<",
          "=",
          ">",
          "?",
          "@",
          "[",
          "\\",
          "]",
          "^",
          "_",
          "`",
          "{",
          "|",
          "}",
          "~"
         ],
         "xaxis": "x5",
         "y": [
          39,
          986,
          28,
          0,
          0,
          0,
          665,
          0,
          0,
          904,
          0,
          19020,
          404,
          7623,
          0,
          191,
          31,
          0,
          0,
          0,
          263,
          0,
          0,
          0,
          0,
          0,
          0,
          0,
          0,
          0,
          0,
          0
         ],
         "yaxis": "y5"
        },
        {
         "marker": {
          "color": "#f1c40f"
         },
         "mode": "markers",
         "name": "gemini-1.5-flash",
         "showlegend": false,
         "type": "scatter",
         "x": [
          "!",
          "\"",
          "#",
          "$",
          "%",
          "&",
          "'",
          "(",
          ")",
          "*",
          "+",
          ",",
          "-",
          ".",
          "/",
          ":",
          ";",
          "<",
          "=",
          ">",
          "?",
          "@",
          "[",
          "\\",
          "]",
          "^",
          "_",
          "`",
          "{",
          "|",
          "}",
          "~"
         ],
         "xaxis": "x6",
         "y": [
          31,
          552,
          36,
          0,
          0,
          0,
          605,
          3,
          3,
          1055,
          0,
          19062,
          385,
          7937,
          0,
          183,
          48,
          0,
          0,
          0,
          191,
          0,
          4,
          0,
          4,
          0,
          0,
          0,
          0,
          0,
          0,
          0
         ],
         "yaxis": "y6"
        },
        {
         "marker": {
          "color": "#f1c40f"
         },
         "mode": "markers",
         "name": "gemini-1.5-flash",
         "showlegend": false,
         "type": "scatter",
         "x": [
          "!",
          "\"",
          "#",
          "$",
          "%",
          "&",
          "'",
          "(",
          ")",
          "*",
          "+",
          ",",
          "-",
          ".",
          "/",
          ":",
          ";",
          "<",
          "=",
          ">",
          "?",
          "@",
          "[",
          "\\",
          "]",
          "^",
          "_",
          "`",
          "{",
          "|",
          "}",
          "~"
         ],
         "xaxis": "x7",
         "y": [
          252,
          2097,
          37,
          0,
          0,
          0,
          1376,
          1,
          1,
          1299,
          0,
          18425,
          443,
          8630,
          0,
          175,
          31,
          1,
          0,
          0,
          455,
          0,
          6,
          0,
          6,
          0,
          0,
          0,
          0,
          0,
          0,
          0
         ],
         "yaxis": "y7"
        },
        {
         "marker": {
          "color": "#f1c40f"
         },
         "mode": "markers",
         "name": "gemini-1.5-flash",
         "showlegend": false,
         "type": "scatter",
         "x": [
          "!",
          "\"",
          "#",
          "$",
          "%",
          "&",
          "'",
          "(",
          ")",
          "*",
          "+",
          ",",
          "-",
          ".",
          "/",
          ":",
          ";",
          "<",
          "=",
          ">",
          "?",
          "@",
          "[",
          "\\",
          "]",
          "^",
          "_",
          "`",
          "{",
          "|",
          "}",
          "~"
         ],
         "xaxis": "x8",
         "y": [
          191,
          1352,
          32,
          0,
          0,
          0,
          930,
          1,
          1,
          1390,
          0,
          18309,
          458,
          8477,
          0,
          212,
          19,
          0,
          0,
          0,
          307,
          0,
          0,
          0,
          0,
          0,
          0,
          0,
          0,
          0,
          0,
          0
         ],
         "yaxis": "y8"
        },
        {
         "marker": {
          "color": "#f1c40f"
         },
         "mode": "markers",
         "name": "gemini-1.5-flash",
         "showlegend": false,
         "type": "scatter",
         "x": [
          "!",
          "\"",
          "#",
          "$",
          "%",
          "&",
          "'",
          "(",
          ")",
          "*",
          "+",
          ",",
          "-",
          ".",
          "/",
          ":",
          ";",
          "<",
          "=",
          ">",
          "?",
          "@",
          "[",
          "\\",
          "]",
          "^",
          "_",
          "`",
          "{",
          "|",
          "}",
          "~"
         ],
         "xaxis": "x9",
         "y": [
          20,
          1124,
          32,
          0,
          0,
          0,
          589,
          0,
          0,
          665,
          0,
          20877,
          371,
          8113,
          1,
          113,
          25,
          0,
          0,
          0,
          288,
          0,
          3,
          0,
          3,
          0,
          0,
          0,
          0,
          0,
          0,
          0
         ],
         "yaxis": "y9"
        },
        {
         "marker": {
          "color": "#f1c40f"
         },
         "mode": "markers",
         "name": "gemini-1.5-flash",
         "showlegend": false,
         "type": "scatter",
         "x": [
          "!",
          "\"",
          "#",
          "$",
          "%",
          "&",
          "'",
          "(",
          ")",
          "*",
          "+",
          ",",
          "-",
          ".",
          "/",
          ":",
          ";",
          "<",
          "=",
          ">",
          "?",
          "@",
          "[",
          "\\",
          "]",
          "^",
          "_",
          "`",
          "{",
          "|",
          "}",
          "~"
         ],
         "xaxis": "x10",
         "y": [
          536,
          4194,
          29,
          0,
          0,
          0,
          1462,
          7,
          7,
          1282,
          2,
          20091,
          651,
          7964,
          0,
          215,
          22,
          0,
          0,
          0,
          784,
          0,
          1,
          0,
          1,
          0,
          0,
          0,
          0,
          0,
          0,
          0
         ],
         "yaxis": "y10"
        },
        {
         "marker": {
          "color": "#9b59b6"
         },
         "mode": "markers",
         "name": "open-mixtral-8x7b",
         "showlegend": true,
         "type": "scatter",
         "x": [
          "!",
          "\"",
          "#",
          "$",
          "%",
          "&",
          "'",
          "(",
          ")",
          "*",
          "+",
          ",",
          "-",
          ".",
          "/",
          ":",
          ";",
          "<",
          "=",
          ">",
          "?",
          "@",
          "[",
          "\\",
          "]",
          "^",
          "_",
          "`",
          "{",
          "|",
          "}",
          "~"
         ],
         "xaxis": "x",
         "y": [
          118,
          823,
          0,
          3,
          1,
          0,
          2039,
          103,
          103,
          57,
          0,
          16656,
          837,
          7303,
          2,
          265,
          47,
          0,
          0,
          0,
          343,
          0,
          4,
          0,
          4,
          0,
          0,
          0,
          0,
          0,
          0,
          0
         ],
         "yaxis": "y"
        },
        {
         "marker": {
          "color": "#9b59b6"
         },
         "mode": "markers",
         "name": "open-mixtral-8x7b",
         "showlegend": false,
         "type": "scatter",
         "x": [
          "!",
          "\"",
          "#",
          "$",
          "%",
          "&",
          "'",
          "(",
          ")",
          "*",
          "+",
          ",",
          "-",
          ".",
          "/",
          ":",
          ";",
          "<",
          "=",
          ">",
          "?",
          "@",
          "[",
          "\\",
          "]",
          "^",
          "_",
          "`",
          "{",
          "|",
          "}",
          "~"
         ],
         "xaxis": "x2",
         "y": [
          31,
          1111,
          0,
          1,
          1,
          0,
          922,
          19,
          19,
          5,
          0,
          15236,
          595,
          7594,
          0,
          101,
          24,
          0,
          0,
          0,
          229,
          0,
          2,
          0,
          2,
          0,
          0,
          3,
          0,
          0,
          0,
          0
         ],
         "yaxis": "y2"
        },
        {
         "marker": {
          "color": "#9b59b6"
         },
         "mode": "markers",
         "name": "open-mixtral-8x7b",
         "showlegend": false,
         "type": "scatter",
         "x": [
          "!",
          "\"",
          "#",
          "$",
          "%",
          "&",
          "'",
          "(",
          ")",
          "*",
          "+",
          ",",
          "-",
          ".",
          "/",
          ":",
          ";",
          "<",
          "=",
          ">",
          "?",
          "@",
          "[",
          "\\",
          "]",
          "^",
          "_",
          "`",
          "{",
          "|",
          "}",
          "~"
         ],
         "xaxis": "x3",
         "y": [
          6,
          589,
          0,
          0,
          1,
          1,
          621,
          2,
          2,
          0,
          0,
          16778,
          668,
          6072,
          0,
          127,
          30,
          0,
          0,
          0,
          126,
          0,
          0,
          0,
          0,
          0,
          0,
          0,
          0,
          0,
          0,
          0
         ],
         "yaxis": "y3"
        },
        {
         "marker": {
          "color": "#9b59b6"
         },
         "mode": "markers",
         "name": "open-mixtral-8x7b",
         "showlegend": false,
         "type": "scatter",
         "x": [
          "!",
          "\"",
          "#",
          "$",
          "%",
          "&",
          "'",
          "(",
          ")",
          "*",
          "+",
          ",",
          "-",
          ".",
          "/",
          ":",
          ";",
          "<",
          "=",
          ">",
          "?",
          "@",
          "[",
          "\\",
          "]",
          "^",
          "_",
          "`",
          "{",
          "|",
          "}",
          "~"
         ],
         "xaxis": "x4",
         "y": [
          34,
          549,
          0,
          1,
          4,
          0,
          778,
          39,
          39,
          20,
          0,
          16758,
          692,
          6353,
          0,
          173,
          70,
          0,
          0,
          0,
          212,
          0,
          1,
          0,
          1,
          0,
          0,
          0,
          0,
          0,
          0,
          0
         ],
         "yaxis": "y4"
        },
        {
         "marker": {
          "color": "#9b59b6"
         },
         "mode": "markers",
         "name": "open-mixtral-8x7b",
         "showlegend": false,
         "type": "scatter",
         "x": [
          "!",
          "\"",
          "#",
          "$",
          "%",
          "&",
          "'",
          "(",
          ")",
          "*",
          "+",
          ",",
          "-",
          ".",
          "/",
          ":",
          ";",
          "<",
          "=",
          ">",
          "?",
          "@",
          "[",
          "\\",
          "]",
          "^",
          "_",
          "`",
          "{",
          "|",
          "}",
          "~"
         ],
         "xaxis": "x5",
         "y": [
          34,
          681,
          0,
          0,
          0,
          0,
          726,
          2,
          2,
          0,
          0,
          16126,
          868,
          5915,
          3,
          106,
          63,
          0,
          0,
          0,
          129,
          0,
          1,
          0,
          1,
          0,
          0,
          3,
          0,
          0,
          0,
          0
         ],
         "yaxis": "y5"
        },
        {
         "marker": {
          "color": "#9b59b6"
         },
         "mode": "markers",
         "name": "open-mixtral-8x7b",
         "showlegend": false,
         "type": "scatter",
         "x": [
          "!",
          "\"",
          "#",
          "$",
          "%",
          "&",
          "'",
          "(",
          ")",
          "*",
          "+",
          ",",
          "-",
          ".",
          "/",
          ":",
          ";",
          "<",
          "=",
          ">",
          "?",
          "@",
          "[",
          "\\",
          "]",
          "^",
          "_",
          "`",
          "{",
          "|",
          "}",
          "~"
         ],
         "xaxis": "x6",
         "y": [
          35,
          672,
          0,
          0,
          1,
          0,
          707,
          6,
          6,
          5,
          0,
          16067,
          746,
          6414,
          3,
          169,
          58,
          0,
          0,
          0,
          166,
          0,
          0,
          0,
          0,
          0,
          0,
          0,
          0,
          0,
          0,
          0
         ],
         "yaxis": "y6"
        },
        {
         "marker": {
          "color": "#9b59b6"
         },
         "mode": "markers",
         "name": "open-mixtral-8x7b",
         "showlegend": false,
         "type": "scatter",
         "x": [
          "!",
          "\"",
          "#",
          "$",
          "%",
          "&",
          "'",
          "(",
          ")",
          "*",
          "+",
          ",",
          "-",
          ".",
          "/",
          ":",
          ";",
          "<",
          "=",
          ">",
          "?",
          "@",
          "[",
          "\\",
          "]",
          "^",
          "_",
          "`",
          "{",
          "|",
          "}",
          "~"
         ],
         "xaxis": "x7",
         "y": [
          55,
          1511,
          0,
          1,
          2,
          0,
          1061,
          19,
          19,
          8,
          0,
          15820,
          687,
          7248,
          0,
          131,
          33,
          0,
          0,
          0,
          222,
          0,
          2,
          0,
          2,
          0,
          0,
          0,
          0,
          0,
          0,
          0
         ],
         "yaxis": "y7"
        },
        {
         "marker": {
          "color": "#9b59b6"
         },
         "mode": "markers",
         "name": "open-mixtral-8x7b",
         "showlegend": false,
         "type": "scatter",
         "x": [
          "!",
          "\"",
          "#",
          "$",
          "%",
          "&",
          "'",
          "(",
          ")",
          "*",
          "+",
          ",",
          "-",
          ".",
          "/",
          ":",
          ";",
          "<",
          "=",
          ">",
          "?",
          "@",
          "[",
          "\\",
          "]",
          "^",
          "_",
          "`",
          "{",
          "|",
          "}",
          "~"
         ],
         "xaxis": "x8",
         "y": [
          63,
          1154,
          0,
          0,
          0,
          0,
          798,
          14,
          14,
          13,
          0,
          15616,
          635,
          6988,
          2,
          104,
          54,
          0,
          0,
          0,
          198,
          0,
          2,
          0,
          2,
          0,
          0,
          0,
          0,
          0,
          0,
          0
         ],
         "yaxis": "y8"
        },
        {
         "marker": {
          "color": "#9b59b6"
         },
         "mode": "markers",
         "name": "open-mixtral-8x7b",
         "showlegend": false,
         "type": "scatter",
         "x": [
          "!",
          "\"",
          "#",
          "$",
          "%",
          "&",
          "'",
          "(",
          ")",
          "*",
          "+",
          ",",
          "-",
          ".",
          "/",
          ":",
          ";",
          "<",
          "=",
          ">",
          "?",
          "@",
          "[",
          "\\",
          "]",
          "^",
          "_",
          "`",
          "{",
          "|",
          "}",
          "~"
         ],
         "xaxis": "x9",
         "y": [
          9,
          429,
          0,
          0,
          2,
          0,
          636,
          1,
          1,
          0,
          0,
          16954,
          546,
          6296,
          0,
          128,
          48,
          0,
          0,
          1,
          180,
          0,
          0,
          0,
          0,
          0,
          0,
          0,
          0,
          0,
          0,
          0
         ],
         "yaxis": "y9"
        },
        {
         "marker": {
          "color": "#9b59b6"
         },
         "mode": "markers",
         "name": "open-mixtral-8x7b",
         "showlegend": false,
         "type": "scatter",
         "x": [
          "!",
          "\"",
          "#",
          "$",
          "%",
          "&",
          "'",
          "(",
          ")",
          "*",
          "+",
          ",",
          "-",
          ".",
          "/",
          ":",
          ";",
          "<",
          "=",
          ">",
          "?",
          "@",
          "[",
          "\\",
          "]",
          "^",
          "_",
          "`",
          "{",
          "|",
          "}",
          "~"
         ],
         "xaxis": "x10",
         "y": [
          224,
          2039,
          0,
          0,
          1,
          0,
          1290,
          94,
          94,
          20,
          0,
          16437,
          843,
          7460,
          1,
          198,
          53,
          0,
          0,
          0,
          425,
          0,
          3,
          0,
          3,
          0,
          0,
          0,
          0,
          0,
          0,
          0
         ],
         "yaxis": "y10"
        },
        {
         "marker": {
          "color": "#e67e22"
         },
         "mode": "markers",
         "name": "claude-3-haiku-20240307",
         "showlegend": true,
         "type": "scatter",
         "x": [
          "!",
          "\"",
          "#",
          "$",
          "%",
          "&",
          "'",
          "(",
          ")",
          "*",
          "+",
          ",",
          "-",
          ".",
          "/",
          ":",
          ";",
          "<",
          "=",
          ">",
          "?",
          "@",
          "[",
          "\\",
          "]",
          "^",
          "_",
          "`",
          "{",
          "|",
          "}",
          "~"
         ],
         "xaxis": "x",
         "y": [
          444,
          2137,
          0,
          0,
          0,
          1,
          6021,
          30,
          30,
          16,
          0,
          15472,
          1386,
          7002,
          0,
          82,
          8,
          0,
          0,
          0,
          881,
          0,
          0,
          0,
          0,
          0,
          16,
          0,
          0,
          0,
          0,
          0
         ],
         "yaxis": "y"
        },
        {
         "marker": {
          "color": "#e67e22"
         },
         "mode": "markers",
         "name": "claude-3-haiku-20240307",
         "showlegend": false,
         "type": "scatter",
         "x": [
          "!",
          "\"",
          "#",
          "$",
          "%",
          "&",
          "'",
          "(",
          ")",
          "*",
          "+",
          ",",
          "-",
          ".",
          "/",
          ":",
          ";",
          "<",
          "=",
          ">",
          "?",
          "@",
          "[",
          "\\",
          "]",
          "^",
          "_",
          "`",
          "{",
          "|",
          "}",
          "~"
         ],
         "xaxis": "x2",
         "y": [
          189,
          1936,
          0,
          0,
          0,
          0,
          2499,
          1,
          1,
          4,
          0,
          14693,
          980,
          7398,
          0,
          117,
          10,
          0,
          0,
          0,
          404,
          0,
          1,
          0,
          1,
          0,
          0,
          0,
          0,
          0,
          0,
          0
         ],
         "yaxis": "y2"
        },
        {
         "marker": {
          "color": "#e67e22"
         },
         "mode": "markers",
         "name": "claude-3-haiku-20240307",
         "showlegend": false,
         "type": "scatter",
         "x": [
          "!",
          "\"",
          "#",
          "$",
          "%",
          "&",
          "'",
          "(",
          ")",
          "*",
          "+",
          ",",
          "-",
          ".",
          "/",
          ":",
          ";",
          "<",
          "=",
          ">",
          "?",
          "@",
          "[",
          "\\",
          "]",
          "^",
          "_",
          "`",
          "{",
          "|",
          "}",
          "~"
         ],
         "xaxis": "x3",
         "y": [
          47,
          818,
          0,
          0,
          0,
          0,
          773,
          3,
          3,
          2,
          0,
          15798,
          738,
          6148,
          0,
          49,
          31,
          0,
          0,
          0,
          361,
          0,
          4,
          0,
          4,
          0,
          2,
          0,
          0,
          0,
          0,
          0
         ],
         "yaxis": "y3"
        },
        {
         "marker": {
          "color": "#e67e22"
         },
         "mode": "markers",
         "name": "claude-3-haiku-20240307",
         "showlegend": false,
         "type": "scatter",
         "x": [
          "!",
          "\"",
          "#",
          "$",
          "%",
          "&",
          "'",
          "(",
          ")",
          "*",
          "+",
          ",",
          "-",
          ".",
          "/",
          ":",
          ";",
          "<",
          "=",
          ">",
          "?",
          "@",
          "[",
          "\\",
          "]",
          "^",
          "_",
          "`",
          "{",
          "|",
          "}",
          "~"
         ],
         "xaxis": "x4",
         "y": [
          149,
          620,
          0,
          0,
          0,
          0,
          612,
          8,
          8,
          4,
          0,
          15583,
          845,
          5968,
          0,
          25,
          21,
          0,
          0,
          0,
          458,
          0,
          0,
          0,
          0,
          0,
          0,
          0,
          0,
          0,
          0,
          0
         ],
         "yaxis": "y4"
        },
        {
         "marker": {
          "color": "#e67e22"
         },
         "mode": "markers",
         "name": "claude-3-haiku-20240307",
         "showlegend": false,
         "type": "scatter",
         "x": [
          "!",
          "\"",
          "#",
          "$",
          "%",
          "&",
          "'",
          "(",
          ")",
          "*",
          "+",
          ",",
          "-",
          ".",
          "/",
          ":",
          ";",
          "<",
          "=",
          ">",
          "?",
          "@",
          "[",
          "\\",
          "]",
          "^",
          "_",
          "`",
          "{",
          "|",
          "}",
          "~"
         ],
         "xaxis": "x5",
         "y": [
          97,
          1200,
          0,
          0,
          0,
          0,
          898,
          6,
          6,
          0,
          0,
          15050,
          884,
          6090,
          0,
          71,
          28,
          0,
          0,
          0,
          398,
          0,
          0,
          0,
          0,
          0,
          0,
          0,
          0,
          0,
          0,
          0
         ],
         "yaxis": "y5"
        },
        {
         "marker": {
          "color": "#e67e22"
         },
         "mode": "markers",
         "name": "claude-3-haiku-20240307",
         "showlegend": false,
         "type": "scatter",
         "x": [
          "!",
          "\"",
          "#",
          "$",
          "%",
          "&",
          "'",
          "(",
          ")",
          "*",
          "+",
          ",",
          "-",
          ".",
          "/",
          ":",
          ";",
          "<",
          "=",
          ">",
          "?",
          "@",
          "[",
          "\\",
          "]",
          "^",
          "_",
          "`",
          "{",
          "|",
          "}",
          "~"
         ],
         "xaxis": "x6",
         "y": [
          116,
          925,
          0,
          0,
          0,
          0,
          766,
          2,
          2,
          6,
          0,
          15187,
          959,
          6129,
          1,
          78,
          19,
          0,
          0,
          0,
          334,
          0,
          0,
          0,
          0,
          0,
          0,
          0,
          0,
          0,
          0,
          0
         ],
         "yaxis": "y6"
        },
        {
         "marker": {
          "color": "#e67e22"
         },
         "mode": "markers",
         "name": "claude-3-haiku-20240307",
         "showlegend": false,
         "type": "scatter",
         "x": [
          "!",
          "\"",
          "#",
          "$",
          "%",
          "&",
          "'",
          "(",
          ")",
          "*",
          "+",
          ",",
          "-",
          ".",
          "/",
          ":",
          ";",
          "<",
          "=",
          ">",
          "?",
          "@",
          "[",
          "\\",
          "]",
          "^",
          "_",
          "`",
          "{",
          "|",
          "}",
          "~"
         ],
         "xaxis": "x7",
         "y": [
          375,
          1786,
          0,
          0,
          0,
          0,
          1350,
          6,
          6,
          2,
          0,
          14864,
          1058,
          7172,
          0,
          94,
          20,
          0,
          0,
          0,
          489,
          0,
          0,
          0,
          0,
          0,
          46,
          0,
          0,
          0,
          0,
          0
         ],
         "yaxis": "y7"
        },
        {
         "marker": {
          "color": "#e67e22"
         },
         "mode": "markers",
         "name": "claude-3-haiku-20240307",
         "showlegend": false,
         "type": "scatter",
         "x": [
          "!",
          "\"",
          "#",
          "$",
          "%",
          "&",
          "'",
          "(",
          ")",
          "*",
          "+",
          ",",
          "-",
          ".",
          "/",
          ":",
          ";",
          "<",
          "=",
          ">",
          "?",
          "@",
          "[",
          "\\",
          "]",
          "^",
          "_",
          "`",
          "{",
          "|",
          "}",
          "~"
         ],
         "xaxis": "x8",
         "y": [
          230,
          1430,
          0,
          0,
          0,
          1,
          992,
          3,
          3,
          6,
          0,
          15140,
          853,
          6636,
          0,
          54,
          28,
          0,
          0,
          0,
          451,
          0,
          1,
          0,
          1,
          0,
          0,
          0,
          0,
          0,
          0,
          0
         ],
         "yaxis": "y8"
        },
        {
         "marker": {
          "color": "#e67e22"
         },
         "mode": "markers",
         "name": "claude-3-haiku-20240307",
         "showlegend": false,
         "type": "scatter",
         "x": [
          "!",
          "\"",
          "#",
          "$",
          "%",
          "&",
          "'",
          "(",
          ")",
          "*",
          "+",
          ",",
          "-",
          ".",
          "/",
          ":",
          ";",
          "<",
          "=",
          ">",
          "?",
          "@",
          "[",
          "\\",
          "]",
          "^",
          "_",
          "`",
          "{",
          "|",
          "}",
          "~"
         ],
         "xaxis": "x9",
         "y": [
          106,
          757,
          0,
          0,
          0,
          0,
          793,
          1,
          1,
          4,
          0,
          16584,
          822,
          6222,
          1,
          85,
          24,
          0,
          0,
          0,
          576,
          0,
          1,
          0,
          1,
          0,
          2,
          0,
          0,
          0,
          0,
          0
         ],
         "yaxis": "y9"
        },
        {
         "marker": {
          "color": "#e67e22"
         },
         "mode": "markers",
         "name": "claude-3-haiku-20240307",
         "showlegend": false,
         "type": "scatter",
         "x": [
          "!",
          "\"",
          "#",
          "$",
          "%",
          "&",
          "'",
          "(",
          ")",
          "*",
          "+",
          ",",
          "-",
          ".",
          "/",
          ":",
          ";",
          "<",
          "=",
          ">",
          "?",
          "@",
          "[",
          "\\",
          "]",
          "^",
          "_",
          "`",
          "{",
          "|",
          "}",
          "~"
         ],
         "xaxis": "x10",
         "y": [
          402,
          1619,
          0,
          0,
          0,
          0,
          913,
          16,
          16,
          18,
          0,
          16741,
          923,
          6103,
          1,
          48,
          30,
          0,
          0,
          0,
          543,
          0,
          0,
          0,
          0,
          0,
          26,
          0,
          0,
          0,
          0,
          0
         ],
         "yaxis": "y10"
        }
       ],
       "layout": {
        "annotations": [
         {
          "font": {
           "size": 16
          },
          "showarrow": false,
          "text": "Mark Twain",
          "x": 0.14444444444444446,
          "xanchor": "center",
          "xref": "paper",
          "y": 1,
          "yanchor": "bottom",
          "yref": "paper"
         },
         {
          "font": {
           "size": 16
          },
          "showarrow": false,
          "text": "Zane Grey",
          "x": 0.5,
          "xanchor": "center",
          "xref": "paper",
          "y": 1,
          "yanchor": "bottom",
          "yref": "paper"
         },
         {
          "font": {
           "size": 16
          },
          "showarrow": false,
          "text": "Joseph Conrad",
          "x": 0.8555555555555556,
          "xanchor": "center",
          "xref": "paper",
          "y": 1,
          "yanchor": "bottom",
          "yref": "paper"
         },
         {
          "font": {
           "size": 16
          },
          "showarrow": false,
          "text": "Benjamin Disraeli",
          "x": 0.14444444444444446,
          "xanchor": "center",
          "xref": "paper",
          "y": 0.71875,
          "yanchor": "bottom",
          "yref": "paper"
         },
         {
          "font": {
           "size": 16
          },
          "showarrow": false,
          "text": "George Eliot",
          "x": 0.5,
          "xanchor": "center",
          "xref": "paper",
          "y": 0.71875,
          "yanchor": "bottom",
          "yref": "paper"
         },
         {
          "font": {
           "size": 16
          },
          "showarrow": false,
          "text": "William Henry Hudson",
          "x": 0.8555555555555556,
          "xanchor": "center",
          "xref": "paper",
          "y": 0.71875,
          "yanchor": "bottom",
          "yref": "paper"
         },
         {
          "font": {
           "size": 16
          },
          "showarrow": false,
          "text": "Lucy Maud Montgomery",
          "x": 0.14444444444444446,
          "xanchor": "center",
          "xref": "paper",
          "y": 0.4375,
          "yanchor": "bottom",
          "yref": "paper"
         },
         {
          "font": {
           "size": 16
          },
          "showarrow": false,
          "text": "Howard Pyle",
          "x": 0.5,
          "xanchor": "center",
          "xref": "paper",
          "y": 0.4375,
          "yanchor": "bottom",
          "yref": "paper"
         },
         {
          "font": {
           "size": 16
          },
          "showarrow": false,
          "text": "Virginia Woolf",
          "x": 0.8555555555555556,
          "xanchor": "center",
          "xref": "paper",
          "y": 0.4375,
          "yanchor": "bottom",
          "yref": "paper"
         },
         {
          "font": {
           "size": 16
          },
          "showarrow": false,
          "text": "Lewis Carroll",
          "x": 0.14444444444444446,
          "xanchor": "center",
          "xref": "paper",
          "y": 0.15625,
          "yanchor": "bottom",
          "yref": "paper"
         }
        ],
        "height": 1500,
        "legend": {
         "title": {
          "text": "Collection"
         }
        },
        "template": {
         "data": {
          "bar": [
           {
            "error_x": {
             "color": "#2a3f5f"
            },
            "error_y": {
             "color": "#2a3f5f"
            },
            "marker": {
             "line": {
              "color": "#E5ECF6",
              "width": 0.5
             },
             "pattern": {
              "fillmode": "overlay",
              "size": 10,
              "solidity": 0.2
             }
            },
            "type": "bar"
           }
          ],
          "barpolar": [
           {
            "marker": {
             "line": {
              "color": "#E5ECF6",
              "width": 0.5
             },
             "pattern": {
              "fillmode": "overlay",
              "size": 10,
              "solidity": 0.2
             }
            },
            "type": "barpolar"
           }
          ],
          "carpet": [
           {
            "aaxis": {
             "endlinecolor": "#2a3f5f",
             "gridcolor": "white",
             "linecolor": "white",
             "minorgridcolor": "white",
             "startlinecolor": "#2a3f5f"
            },
            "baxis": {
             "endlinecolor": "#2a3f5f",
             "gridcolor": "white",
             "linecolor": "white",
             "minorgridcolor": "white",
             "startlinecolor": "#2a3f5f"
            },
            "type": "carpet"
           }
          ],
          "choropleth": [
           {
            "colorbar": {
             "outlinewidth": 0,
             "ticks": ""
            },
            "type": "choropleth"
           }
          ],
          "contour": [
           {
            "colorbar": {
             "outlinewidth": 0,
             "ticks": ""
            },
            "colorscale": [
             [
              0,
              "#0d0887"
             ],
             [
              0.1111111111111111,
              "#46039f"
             ],
             [
              0.2222222222222222,
              "#7201a8"
             ],
             [
              0.3333333333333333,
              "#9c179e"
             ],
             [
              0.4444444444444444,
              "#bd3786"
             ],
             [
              0.5555555555555556,
              "#d8576b"
             ],
             [
              0.6666666666666666,
              "#ed7953"
             ],
             [
              0.7777777777777778,
              "#fb9f3a"
             ],
             [
              0.8888888888888888,
              "#fdca26"
             ],
             [
              1,
              "#f0f921"
             ]
            ],
            "type": "contour"
           }
          ],
          "contourcarpet": [
           {
            "colorbar": {
             "outlinewidth": 0,
             "ticks": ""
            },
            "type": "contourcarpet"
           }
          ],
          "heatmap": [
           {
            "colorbar": {
             "outlinewidth": 0,
             "ticks": ""
            },
            "colorscale": [
             [
              0,
              "#0d0887"
             ],
             [
              0.1111111111111111,
              "#46039f"
             ],
             [
              0.2222222222222222,
              "#7201a8"
             ],
             [
              0.3333333333333333,
              "#9c179e"
             ],
             [
              0.4444444444444444,
              "#bd3786"
             ],
             [
              0.5555555555555556,
              "#d8576b"
             ],
             [
              0.6666666666666666,
              "#ed7953"
             ],
             [
              0.7777777777777778,
              "#fb9f3a"
             ],
             [
              0.8888888888888888,
              "#fdca26"
             ],
             [
              1,
              "#f0f921"
             ]
            ],
            "type": "heatmap"
           }
          ],
          "heatmapgl": [
           {
            "colorbar": {
             "outlinewidth": 0,
             "ticks": ""
            },
            "colorscale": [
             [
              0,
              "#0d0887"
             ],
             [
              0.1111111111111111,
              "#46039f"
             ],
             [
              0.2222222222222222,
              "#7201a8"
             ],
             [
              0.3333333333333333,
              "#9c179e"
             ],
             [
              0.4444444444444444,
              "#bd3786"
             ],
             [
              0.5555555555555556,
              "#d8576b"
             ],
             [
              0.6666666666666666,
              "#ed7953"
             ],
             [
              0.7777777777777778,
              "#fb9f3a"
             ],
             [
              0.8888888888888888,
              "#fdca26"
             ],
             [
              1,
              "#f0f921"
             ]
            ],
            "type": "heatmapgl"
           }
          ],
          "histogram": [
           {
            "marker": {
             "pattern": {
              "fillmode": "overlay",
              "size": 10,
              "solidity": 0.2
             }
            },
            "type": "histogram"
           }
          ],
          "histogram2d": [
           {
            "colorbar": {
             "outlinewidth": 0,
             "ticks": ""
            },
            "colorscale": [
             [
              0,
              "#0d0887"
             ],
             [
              0.1111111111111111,
              "#46039f"
             ],
             [
              0.2222222222222222,
              "#7201a8"
             ],
             [
              0.3333333333333333,
              "#9c179e"
             ],
             [
              0.4444444444444444,
              "#bd3786"
             ],
             [
              0.5555555555555556,
              "#d8576b"
             ],
             [
              0.6666666666666666,
              "#ed7953"
             ],
             [
              0.7777777777777778,
              "#fb9f3a"
             ],
             [
              0.8888888888888888,
              "#fdca26"
             ],
             [
              1,
              "#f0f921"
             ]
            ],
            "type": "histogram2d"
           }
          ],
          "histogram2dcontour": [
           {
            "colorbar": {
             "outlinewidth": 0,
             "ticks": ""
            },
            "colorscale": [
             [
              0,
              "#0d0887"
             ],
             [
              0.1111111111111111,
              "#46039f"
             ],
             [
              0.2222222222222222,
              "#7201a8"
             ],
             [
              0.3333333333333333,
              "#9c179e"
             ],
             [
              0.4444444444444444,
              "#bd3786"
             ],
             [
              0.5555555555555556,
              "#d8576b"
             ],
             [
              0.6666666666666666,
              "#ed7953"
             ],
             [
              0.7777777777777778,
              "#fb9f3a"
             ],
             [
              0.8888888888888888,
              "#fdca26"
             ],
             [
              1,
              "#f0f921"
             ]
            ],
            "type": "histogram2dcontour"
           }
          ],
          "mesh3d": [
           {
            "colorbar": {
             "outlinewidth": 0,
             "ticks": ""
            },
            "type": "mesh3d"
           }
          ],
          "parcoords": [
           {
            "line": {
             "colorbar": {
              "outlinewidth": 0,
              "ticks": ""
             }
            },
            "type": "parcoords"
           }
          ],
          "pie": [
           {
            "automargin": true,
            "type": "pie"
           }
          ],
          "scatter": [
           {
            "fillpattern": {
             "fillmode": "overlay",
             "size": 10,
             "solidity": 0.2
            },
            "type": "scatter"
           }
          ],
          "scatter3d": [
           {
            "line": {
             "colorbar": {
              "outlinewidth": 0,
              "ticks": ""
             }
            },
            "marker": {
             "colorbar": {
              "outlinewidth": 0,
              "ticks": ""
             }
            },
            "type": "scatter3d"
           }
          ],
          "scattercarpet": [
           {
            "marker": {
             "colorbar": {
              "outlinewidth": 0,
              "ticks": ""
             }
            },
            "type": "scattercarpet"
           }
          ],
          "scattergeo": [
           {
            "marker": {
             "colorbar": {
              "outlinewidth": 0,
              "ticks": ""
             }
            },
            "type": "scattergeo"
           }
          ],
          "scattergl": [
           {
            "marker": {
             "colorbar": {
              "outlinewidth": 0,
              "ticks": ""
             }
            },
            "type": "scattergl"
           }
          ],
          "scattermapbox": [
           {
            "marker": {
             "colorbar": {
              "outlinewidth": 0,
              "ticks": ""
             }
            },
            "type": "scattermapbox"
           }
          ],
          "scatterpolar": [
           {
            "marker": {
             "colorbar": {
              "outlinewidth": 0,
              "ticks": ""
             }
            },
            "type": "scatterpolar"
           }
          ],
          "scatterpolargl": [
           {
            "marker": {
             "colorbar": {
              "outlinewidth": 0,
              "ticks": ""
             }
            },
            "type": "scatterpolargl"
           }
          ],
          "scatterternary": [
           {
            "marker": {
             "colorbar": {
              "outlinewidth": 0,
              "ticks": ""
             }
            },
            "type": "scatterternary"
           }
          ],
          "surface": [
           {
            "colorbar": {
             "outlinewidth": 0,
             "ticks": ""
            },
            "colorscale": [
             [
              0,
              "#0d0887"
             ],
             [
              0.1111111111111111,
              "#46039f"
             ],
             [
              0.2222222222222222,
              "#7201a8"
             ],
             [
              0.3333333333333333,
              "#9c179e"
             ],
             [
              0.4444444444444444,
              "#bd3786"
             ],
             [
              0.5555555555555556,
              "#d8576b"
             ],
             [
              0.6666666666666666,
              "#ed7953"
             ],
             [
              0.7777777777777778,
              "#fb9f3a"
             ],
             [
              0.8888888888888888,
              "#fdca26"
             ],
             [
              1,
              "#f0f921"
             ]
            ],
            "type": "surface"
           }
          ],
          "table": [
           {
            "cells": {
             "fill": {
              "color": "#EBF0F8"
             },
             "line": {
              "color": "white"
             }
            },
            "header": {
             "fill": {
              "color": "#C8D4E3"
             },
             "line": {
              "color": "white"
             }
            },
            "type": "table"
           }
          ]
         },
         "layout": {
          "annotationdefaults": {
           "arrowcolor": "#2a3f5f",
           "arrowhead": 0,
           "arrowwidth": 1
          },
          "autotypenumbers": "strict",
          "coloraxis": {
           "colorbar": {
            "outlinewidth": 0,
            "ticks": ""
           }
          },
          "colorscale": {
           "diverging": [
            [
             0,
             "#8e0152"
            ],
            [
             0.1,
             "#c51b7d"
            ],
            [
             0.2,
             "#de77ae"
            ],
            [
             0.3,
             "#f1b6da"
            ],
            [
             0.4,
             "#fde0ef"
            ],
            [
             0.5,
             "#f7f7f7"
            ],
            [
             0.6,
             "#e6f5d0"
            ],
            [
             0.7,
             "#b8e186"
            ],
            [
             0.8,
             "#7fbc41"
            ],
            [
             0.9,
             "#4d9221"
            ],
            [
             1,
             "#276419"
            ]
           ],
           "sequential": [
            [
             0,
             "#0d0887"
            ],
            [
             0.1111111111111111,
             "#46039f"
            ],
            [
             0.2222222222222222,
             "#7201a8"
            ],
            [
             0.3333333333333333,
             "#9c179e"
            ],
            [
             0.4444444444444444,
             "#bd3786"
            ],
            [
             0.5555555555555556,
             "#d8576b"
            ],
            [
             0.6666666666666666,
             "#ed7953"
            ],
            [
             0.7777777777777778,
             "#fb9f3a"
            ],
            [
             0.8888888888888888,
             "#fdca26"
            ],
            [
             1,
             "#f0f921"
            ]
           ],
           "sequentialminus": [
            [
             0,
             "#0d0887"
            ],
            [
             0.1111111111111111,
             "#46039f"
            ],
            [
             0.2222222222222222,
             "#7201a8"
            ],
            [
             0.3333333333333333,
             "#9c179e"
            ],
            [
             0.4444444444444444,
             "#bd3786"
            ],
            [
             0.5555555555555556,
             "#d8576b"
            ],
            [
             0.6666666666666666,
             "#ed7953"
            ],
            [
             0.7777777777777778,
             "#fb9f3a"
            ],
            [
             0.8888888888888888,
             "#fdca26"
            ],
            [
             1,
             "#f0f921"
            ]
           ]
          },
          "colorway": [
           "#636efa",
           "#EF553B",
           "#00cc96",
           "#ab63fa",
           "#FFA15A",
           "#19d3f3",
           "#FF6692",
           "#B6E880",
           "#FF97FF",
           "#FECB52"
          ],
          "font": {
           "color": "#2a3f5f"
          },
          "geo": {
           "bgcolor": "white",
           "lakecolor": "white",
           "landcolor": "#E5ECF6",
           "showlakes": true,
           "showland": true,
           "subunitcolor": "white"
          },
          "hoverlabel": {
           "align": "left"
          },
          "hovermode": "closest",
          "mapbox": {
           "style": "light"
          },
          "paper_bgcolor": "white",
          "plot_bgcolor": "#E5ECF6",
          "polar": {
           "angularaxis": {
            "gridcolor": "white",
            "linecolor": "white",
            "ticks": ""
           },
           "bgcolor": "#E5ECF6",
           "radialaxis": {
            "gridcolor": "white",
            "linecolor": "white",
            "ticks": ""
           }
          },
          "scene": {
           "xaxis": {
            "backgroundcolor": "#E5ECF6",
            "gridcolor": "white",
            "gridwidth": 2,
            "linecolor": "white",
            "showbackground": true,
            "ticks": "",
            "zerolinecolor": "white"
           },
           "yaxis": {
            "backgroundcolor": "#E5ECF6",
            "gridcolor": "white",
            "gridwidth": 2,
            "linecolor": "white",
            "showbackground": true,
            "ticks": "",
            "zerolinecolor": "white"
           },
           "zaxis": {
            "backgroundcolor": "#E5ECF6",
            "gridcolor": "white",
            "gridwidth": 2,
            "linecolor": "white",
            "showbackground": true,
            "ticks": "",
            "zerolinecolor": "white"
           }
          },
          "shapedefaults": {
           "line": {
            "color": "#2a3f5f"
           }
          },
          "ternary": {
           "aaxis": {
            "gridcolor": "white",
            "linecolor": "white",
            "ticks": ""
           },
           "baxis": {
            "gridcolor": "white",
            "linecolor": "white",
            "ticks": ""
           },
           "bgcolor": "#E5ECF6",
           "caxis": {
            "gridcolor": "white",
            "linecolor": "white",
            "ticks": ""
           }
          },
          "title": {
           "x": 0.05
          },
          "xaxis": {
           "automargin": true,
           "gridcolor": "white",
           "linecolor": "white",
           "ticks": "",
           "title": {
            "standoff": 15
           },
           "zerolinecolor": "white",
           "zerolinewidth": 2
          },
          "yaxis": {
           "automargin": true,
           "gridcolor": "white",
           "linecolor": "white",
           "ticks": "",
           "title": {
            "standoff": 15
           },
           "zerolinecolor": "white",
           "zerolinewidth": 2
          }
         }
        },
        "title": {
         "text": "Punctuation frequency",
         "x": 0.5
        },
        "xaxis": {
         "anchor": "y",
         "domain": [
          0,
          0.2888888888888889
         ]
        },
        "xaxis10": {
         "anchor": "y10",
         "domain": [
          0,
          0.2888888888888889
         ]
        },
        "xaxis11": {
         "anchor": "y11",
         "domain": [
          0.35555555555555557,
          0.6444444444444445
         ]
        },
        "xaxis12": {
         "anchor": "y12",
         "domain": [
          0.7111111111111111,
          1
         ]
        },
        "xaxis2": {
         "anchor": "y2",
         "domain": [
          0.35555555555555557,
          0.6444444444444445
         ]
        },
        "xaxis3": {
         "anchor": "y3",
         "domain": [
          0.7111111111111111,
          1
         ]
        },
        "xaxis4": {
         "anchor": "y4",
         "domain": [
          0,
          0.2888888888888889
         ]
        },
        "xaxis5": {
         "anchor": "y5",
         "domain": [
          0.35555555555555557,
          0.6444444444444445
         ]
        },
        "xaxis6": {
         "anchor": "y6",
         "domain": [
          0.7111111111111111,
          1
         ]
        },
        "xaxis7": {
         "anchor": "y7",
         "domain": [
          0,
          0.2888888888888889
         ]
        },
        "xaxis8": {
         "anchor": "y8",
         "domain": [
          0.35555555555555557,
          0.6444444444444445
         ]
        },
        "xaxis9": {
         "anchor": "y9",
         "domain": [
          0.7111111111111111,
          1
         ]
        },
        "yaxis": {
         "anchor": "x",
         "domain": [
          0.84375,
          1
         ]
        },
        "yaxis10": {
         "anchor": "x10",
         "domain": [
          0,
          0.15625
         ]
        },
        "yaxis11": {
         "anchor": "x11",
         "domain": [
          0,
          0.15625
         ]
        },
        "yaxis12": {
         "anchor": "x12",
         "domain": [
          0,
          0.15625
         ]
        },
        "yaxis2": {
         "anchor": "x2",
         "domain": [
          0.84375,
          1
         ]
        },
        "yaxis3": {
         "anchor": "x3",
         "domain": [
          0.84375,
          1
         ]
        },
        "yaxis4": {
         "anchor": "x4",
         "domain": [
          0.5625,
          0.71875
         ]
        },
        "yaxis5": {
         "anchor": "x5",
         "domain": [
          0.5625,
          0.71875
         ]
        },
        "yaxis6": {
         "anchor": "x6",
         "domain": [
          0.5625,
          0.71875
         ]
        },
        "yaxis7": {
         "anchor": "x7",
         "domain": [
          0.28125,
          0.4375
         ]
        },
        "yaxis8": {
         "anchor": "x8",
         "domain": [
          0.28125,
          0.4375
         ]
        },
        "yaxis9": {
         "anchor": "x9",
         "domain": [
          0.28125,
          0.4375
         ]
        }
       }
      }
     },
     "metadata": {},
     "output_type": "display_data"
    },
    {
     "data": {
      "application/vnd.plotly.v1+json": {
       "config": {
        "plotlyServerURL": "https://plot.ly"
       },
       "data": [
        {
         "marker": {
          "color": "#3498db"
         },
         "mode": "markers",
         "name": "books",
         "type": "scatter",
         "visible": true,
         "x": [
          "Mark Twain",
          "Zane Grey",
          "Joseph Conrad",
          "Benjamin Disraeli",
          "George Eliot",
          "William Henry Hudson",
          "Lucy Maud Montgomery",
          "Howard Pyle",
          "Virginia Woolf",
          "Lewis Carroll"
         ],
         "y": [
          16628,
          13556,
          14436,
          14306,
          14069,
          13761,
          12153,
          11637,
          12852,
          12323
         ]
        },
        {
         "marker": {
          "color": "#3498db"
         },
         "mode": "markers",
         "name": "books",
         "type": "scatter",
         "visible": false,
         "x": [
          "Mark Twain",
          "Zane Grey",
          "Joseph Conrad",
          "Benjamin Disraeli",
          "George Eliot",
          "William Henry Hudson",
          "Lucy Maud Montgomery",
          "Howard Pyle",
          "Virginia Woolf",
          "Lewis Carroll"
         ],
         "y": [
          4.2829020719130355,
          4.1978097603303315,
          4.313845974804341,
          4.507488012676115,
          4.30256072476831,
          4.284110920526015,
          4.11735725860825,
          4.140093095965842,
          4.362325451884853,
          4.120836001556987
         ]
        },
        {
         "marker": {
          "color": "#3498db"
         },
         "mode": "markers",
         "name": "books",
         "type": "scatter",
         "visible": false,
         "x": [
          "Mark Twain",
          "Zane Grey",
          "Joseph Conrad",
          "Benjamin Disraeli",
          "George Eliot",
          "William Henry Hudson",
          "Lucy Maud Montgomery",
          "Howard Pyle",
          "Virginia Woolf",
          "Lewis Carroll"
         ],
         "y": [
          19.73956900504356,
          12.432482702179897,
          16.191351045788583,
          17.61109954185756,
          22.776154757204896,
          27.443903969872903,
          13.658776960982308,
          22.198109542923735,
          17.739674198633736,
          16.251606978879707
         ]
        },
        {
         "marker": {
          "color": "#3498db"
         },
         "mode": "markers",
         "name": "books",
         "type": "scatter",
         "visible": false,
         "x": [
          "Mark Twain",
          "Zane Grey",
          "Joseph Conrad",
          "Benjamin Disraeli",
          "George Eliot",
          "William Henry Hudson",
          "Lucy Maud Montgomery",
          "Howard Pyle",
          "Virginia Woolf",
          "Lewis Carroll"
         ],
         "y": [
          1.38602155532844,
          1.32366476167679,
          1.390201041575747,
          1.450528269982322,
          1.3924576486630151,
          1.3683190394511149,
          1.3305141883819684,
          1.293427284817658,
          1.3873146398251113,
          1.3284865835436521
         ]
        },
        {
         "marker": {
          "color": "#3498db"
         },
         "mode": "markers",
         "name": "books",
         "type": "scatter",
         "visible": false,
         "x": [
          "Mark Twain",
          "Zane Grey",
          "Joseph Conrad",
          "Benjamin Disraeli",
          "George Eliot",
          "William Henry Hudson",
          "Lucy Maud Montgomery",
          "Howard Pyle",
          "Virginia Woolf",
          "Lewis Carroll"
         ],
         "y": [
          69.54191387909478,
          82.23399121943098,
          72.78977057121641,
          66.24504232451014,
          65.91528584454596,
          63.219646733014685,
          80.40984104748844,
          74.87997051835856,
          71.46241215918235,
          77.94965394864414
         ]
        },
        {
         "marker": {
          "color": "#3498db"
         },
         "mode": "markers",
         "name": "books",
         "type": "scatter",
         "visible": false,
         "x": [
          "Mark Twain",
          "Zane Grey",
          "Joseph Conrad",
          "Benjamin Disraeli",
          "George Eliot",
          "William Henry Hudson",
          "Lucy Maud Montgomery",
          "Howard Pyle",
          "Virginia Woolf",
          "Lewis Carroll"
         ],
         "y": [
          8.463486264842583,
          4.877912441636283,
          7.128999198451364,
          8.394562407115853,
          9.723700609533491,
          11.259287213773586,
          5.43699043769033,
          8.329704682588623,
          7.698785687403472,
          6.424268407578182
         ]
        },
        {
         "marker": {
          "color": "#3498db"
         },
         "mode": "markers",
         "name": "books",
         "type": "scatter",
         "visible": false,
         "x": [
          "Mark Twain",
          "Zane Grey",
          "Joseph Conrad",
          "Benjamin Disraeli",
          "George Eliot",
          "William Henry Hudson",
          "Lucy Maud Montgomery",
          "Howard Pyle",
          "Virginia Woolf",
          "Lewis Carroll"
         ],
         "y": [
          11.377431244124644,
          7.5165435431561525,
          9.886391746469982,
          11.322155514668374,
          12.505271119642225,
          14.06023740270045,
          8.025817830678157,
          10.723897215522232,
          10.237232176713453,
          9.013921128087086
         ]
        },
        {
         "marker": {
          "color": "#3498db"
         },
         "mode": "markers",
         "name": "books",
         "type": "scatter",
         "visible": false,
         "x": [
          "Mark Twain",
          "Zane Grey",
          "Joseph Conrad",
          "Benjamin Disraeli",
          "George Eliot",
          "William Henry Hudson",
          "Lucy Maud Montgomery",
          "Howard Pyle",
          "Virginia Woolf",
          "Lewis Carroll"
         ],
         "y": [
          86.95696523042895,
          72.84213763934291,
          86.99880366767603,
          82.0929149084919,
          74.36250084300472,
          84.5591087939207,
          65.52262979843017,
          89.19352042575925,
          77.44515266371141,
          73.0665259799927
         ]
        },
        {
         "marker": {
          "color": "#3498db"
         },
         "mode": "markers",
         "name": "books",
         "type": "scatter",
         "visible": false,
         "x": [
          "Mark Twain",
          "Zane Grey",
          "Joseph Conrad",
          "Benjamin Disraeli",
          "George Eliot",
          "William Henry Hudson",
          "Lucy Maud Montgomery",
          "Howard Pyle",
          "Virginia Woolf",
          "Lewis Carroll"
         ],
         "y": [
          0.09655765121248723,
          0.08112264743724006,
          0.08400104739460591,
          0.08458232084050207,
          0.08128798909149737,
          0.07867924528301887,
          0.07187636767958742,
          0.06787955855246272,
          0.07614059824755766,
          0.07736592960912093
         ]
        },
        {
         "marker": {
          "color": "#3498db"
         },
         "mode": "markers",
         "name": "books",
         "type": "scatter",
         "visible": false,
         "x": [
          "Mark Twain",
          "Zane Grey",
          "Joseph Conrad",
          "Benjamin Disraeli",
          "George Eliot",
          "William Henry Hudson",
          "Lucy Maud Montgomery",
          "Howard Pyle",
          "Virginia Woolf",
          "Lewis Carroll"
         ],
         "y": [
          0.09694451569574176,
          0.10442849790537467,
          0.10273944372574112,
          0.10258908207922508,
          0.10404012373128538,
          0.10530078972752324,
          0.10935277177125015,
          0.11160089974761116,
          0.10697416156940633,
          0.10682570511250633
         ]
        },
        {
         "marker": {
          "color": "#3498db"
         },
         "mode": "markers",
         "name": "books",
         "type": "scatter",
         "visible": false,
         "x": [
          "Mark Twain",
          "Zane Grey",
          "Joseph Conrad",
          "Benjamin Disraeli",
          "George Eliot",
          "William Henry Hudson",
          "Lucy Maud Montgomery",
          "Howard Pyle",
          "Virginia Woolf",
          "Lewis Carroll"
         ],
         "y": [
          0.9912441639532621,
          0.9926420181628878,
          0.9912308483669536,
          0.9917208077682029,
          0.9924926716585384,
          0.9914714199831905,
          0.9933654528104968,
          0.9909947151568741,
          0.9921776758322906,
          0.9926121983311575
         ]
        },
        {
         "marker": {
          "color": "#e74c3c"
         },
         "mode": "markers",
         "name": "gpt-3.5-turbo-0125",
         "type": "scatter",
         "visible": true,
         "x": [
          "Mark Twain",
          "Zane Grey",
          "Joseph Conrad",
          "Benjamin Disraeli",
          "George Eliot",
          "William Henry Hudson",
          "Lucy Maud Montgomery",
          "Howard Pyle",
          "Virginia Woolf",
          "Lewis Carroll"
         ],
         "y": [
          12139,
          11762,
          11861,
          12414,
          12079,
          12080,
          11388,
          12068,
          11825,
          11635
         ]
        },
        {
         "marker": {
          "color": "#e74c3c"
         },
         "mode": "markers",
         "name": "gpt-3.5-turbo-0125",
         "type": "scatter",
         "visible": false,
         "x": [
          "Mark Twain",
          "Zane Grey",
          "Joseph Conrad",
          "Benjamin Disraeli",
          "George Eliot",
          "William Henry Hudson",
          "Lucy Maud Montgomery",
          "Howard Pyle",
          "Virginia Woolf",
          "Lewis Carroll"
         ],
         "y": [
          4.48124448739052,
          4.598071387772016,
          4.7149269543883126,
          4.7537606751956885,
          4.756330328292799,
          4.7938580186978115,
          4.639554957681744,
          4.656572063677392,
          4.709942028501262,
          4.636583314644539
         ]
        },
        {
         "marker": {
          "color": "#e74c3c"
         },
         "mode": "markers",
         "name": "gpt-3.5-turbo-0125",
         "type": "scatter",
         "visible": false,
         "x": [
          "Mark Twain",
          "Zane Grey",
          "Joseph Conrad",
          "Benjamin Disraeli",
          "George Eliot",
          "William Henry Hudson",
          "Lucy Maud Montgomery",
          "Howard Pyle",
          "Virginia Woolf",
          "Lewis Carroll"
         ],
         "y": [
          21.13524103538352,
          22.713558890867464,
          23.224553224553226,
          23.437108559498956,
          23.690250329380763,
          23.837455363047216,
          21.83186490455213,
          21.988151073808936,
          23.36946902654867,
          22.107089737233515
         ]
        },
        {
         "marker": {
          "color": "#e74c3c"
         },
         "mode": "markers",
         "name": "gpt-3.5-turbo-0125",
         "type": "scatter",
         "visible": false,
         "x": [
          "Mark Twain",
          "Zane Grey",
          "Joseph Conrad",
          "Benjamin Disraeli",
          "George Eliot",
          "William Henry Hudson",
          "Lucy Maud Montgomery",
          "Howard Pyle",
          "Virginia Woolf",
          "Lewis Carroll"
         ],
         "y": [
          1.4466098505064577,
          1.4798010908642916,
          1.5382959741273559,
          1.5608500072374207,
          1.551596416197187,
          1.5644908036729825,
          1.4893447676699736,
          1.4980241147809685,
          1.5394412238056256,
          1.4891006952231443
         ]
        },
        {
         "marker": {
          "color": "#e74c3c"
         },
         "mode": "markers",
         "name": "gpt-3.5-turbo-0125",
         "type": "scatter",
         "visible": false,
         "x": [
          "Mark Twain",
          "Zane Grey",
          "Joseph Conrad",
          "Benjamin Disraeli",
          "George Eliot",
          "William Henry Hudson",
          "Lucy Maud Montgomery",
          "Howard Pyle",
          "Virginia Woolf",
          "Lewis Carroll"
         ],
         "y": [
          62.999536996239414,
          58.58956543865048,
          53.12223906590418,
          50.99842419982278,
          51.524339105396535,
          50.28406081577276,
          58.677089776999836,
          57.784186549614006,
          52.878261404097174,
          58.41838510083001
         ]
        },
        {
         "marker": {
          "color": "#e74c3c"
         },
         "mode": "markers",
         "name": "gpt-3.5-turbo-0125",
         "type": "scatter",
         "visible": false,
         "x": [
          "Mark Twain",
          "Zane Grey",
          "Joseph Conrad",
          "Benjamin Disraeli",
          "George Eliot",
          "William Henry Hudson",
          "Lucy Maud Montgomery",
          "Howard Pyle",
          "Virginia Woolf",
          "Lewis Carroll"
         ],
         "y": [
          9.722740239775774,
          10.729940839636953,
          11.619468252278558,
          11.968502423606157,
          11.958035339585305,
          12.167599074929608,
          10.498695571281022,
          10.662063473200917,
          11.689499361260367,
          10.603153201154175
         ]
        },
        {
         "marker": {
          "color": "#e74c3c"
         },
         "mode": "markers",
         "name": "gpt-3.5-turbo-0125",
         "type": "scatter",
         "visible": false,
         "x": [
          "Mark Twain",
          "Zane Grey",
          "Joseph Conrad",
          "Benjamin Disraeli",
          "George Eliot",
          "William Henry Hudson",
          "Lucy Maud Montgomery",
          "Howard Pyle",
          "Virginia Woolf",
          "Lewis Carroll"
         ],
         "y": [
          12.523961190193994,
          13.50577590327319,
          14.624938943440117,
          15.043859468604786,
          14.988393732183875,
          15.247080239373743,
          13.29504628130967,
          13.491580343303127,
          14.698762990831197,
          13.451716809896773
         ]
        },
        {
         "marker": {
          "color": "#e74c3c"
         },
         "mode": "markers",
         "name": "gpt-3.5-turbo-0125",
         "type": "scatter",
         "visible": false,
         "x": [
          "Mark Twain",
          "Zane Grey",
          "Joseph Conrad",
          "Benjamin Disraeli",
          "George Eliot",
          "William Henry Hudson",
          "Lucy Maud Montgomery",
          "Howard Pyle",
          "Virginia Woolf",
          "Lewis Carroll"
         ],
         "y": [
          104.11323871749899,
          125.0106623242195,
          129.578063632599,
          119.12053146823696,
          126.06884280926273,
          127.7673587843467,
          111.0592939564645,
          117.81523593303007,
          134.54106738336543,
          119.05980541234626
         ]
        },
        {
         "marker": {
          "color": "#e74c3c"
         },
         "mode": "markers",
         "name": "gpt-3.5-turbo-0125",
         "type": "scatter",
         "visible": false,
         "x": [
          "Mark Twain",
          "Zane Grey",
          "Joseph Conrad",
          "Benjamin Disraeli",
          "George Eliot",
          "William Henry Hudson",
          "Lucy Maud Montgomery",
          "Howard Pyle",
          "Virginia Woolf",
          "Lewis Carroll"
         ],
         "y": [
          0.06819624608850512,
          0.06586625152597803,
          0.06613694658191145,
          0.06911180144971106,
          0.06717683764438932,
          0.06702360806724554,
          0.06383050277450815,
          0.0677414284752004,
          0.06585139025789243,
          0.0652332361516035
         ]
        },
        {
         "marker": {
          "color": "#e74c3c"
         },
         "mode": "markers",
         "name": "gpt-3.5-turbo-0125",
         "type": "scatter",
         "visible": false,
         "x": [
          "Mark Twain",
          "Zane Grey",
          "Joseph Conrad",
          "Benjamin Disraeli",
          "George Eliot",
          "William Henry Hudson",
          "Lucy Maud Montgomery",
          "Howard Pyle",
          "Virginia Woolf",
          "Lewis Carroll"
         ],
         "y": [
          0.11106149491646558,
          0.11246933925638747,
          0.1122600249668816,
          0.11042713965000923,
          0.11159110664958581,
          0.11166363423263047,
          0.11377607564513861,
          0.11133064399850595,
          0.11242690721589704,
          0.11287982486756461
         ]
        },
        {
         "marker": {
          "color": "#e74c3c"
         },
         "mode": "markers",
         "name": "gpt-3.5-turbo-0125",
         "type": "scatter",
         "visible": false,
         "x": [
          "Mark Twain",
          "Zane Grey",
          "Joseph Conrad",
          "Benjamin Disraeli",
          "George Eliot",
          "William Henry Hudson",
          "Lucy Maud Montgomery",
          "Howard Pyle",
          "Virginia Woolf",
          "Lewis Carroll"
         ],
         "y": [
          0.989506297019592,
          0.9874139142130806,
          0.9869578837134622,
          0.988007392640191,
          0.9873103274087831,
          0.9871404826646117,
          0.9888062588727062,
          0.9881356126347381,
          0.9864613266654689,
          0.9880080718867843
         ]
        },
        {
         "marker": {
          "color": "#2ecc71"
         },
         "mode": "markers",
         "name": "gpt-4o",
         "type": "scatter",
         "visible": true,
         "x": [
          "Mark Twain",
          "Zane Grey",
          "Joseph Conrad",
          "Benjamin Disraeli",
          "George Eliot",
          "William Henry Hudson",
          "Lucy Maud Montgomery",
          "Howard Pyle",
          "Virginia Woolf",
          "Lewis Carroll"
         ],
         "y": [
          14806,
          12358,
          13014,
          14126,
          13825,
          13286,
          12492,
          12851,
          12746,
          13373
         ]
        },
        {
         "marker": {
          "color": "#2ecc71"
         },
         "mode": "markers",
         "name": "gpt-4o",
         "type": "scatter",
         "visible": false,
         "x": [
          "Mark Twain",
          "Zane Grey",
          "Joseph Conrad",
          "Benjamin Disraeli",
          "George Eliot",
          "William Henry Hudson",
          "Lucy Maud Montgomery",
          "Howard Pyle",
          "Virginia Woolf",
          "Lewis Carroll"
         ],
         "y": [
          4.434274291956721,
          4.588808263813464,
          4.6734582227162,
          4.857720828414574,
          4.775211595003423,
          4.712567060394649,
          4.652181938796112,
          4.568240417616012,
          4.638613201698735,
          4.658824836555443
         ]
        },
        {
         "marker": {
          "color": "#2ecc71"
         },
         "mode": "markers",
         "name": "gpt-4o",
         "type": "scatter",
         "visible": false,
         "x": [
          "Mark Twain",
          "Zane Grey",
          "Joseph Conrad",
          "Benjamin Disraeli",
          "George Eliot",
          "William Henry Hudson",
          "Lucy Maud Montgomery",
          "Howard Pyle",
          "Virginia Woolf",
          "Lewis Carroll"
         ],
         "y": [
          18.865818899364175,
          19.230307743584046,
          20.87605193556143,
          21.345810397553517,
          20.995288717081422,
          20.440522414401695,
          19.98328530259366,
          20.417500883288188,
          20.787546669878356,
          18.597716150081567
         ]
        },
        {
         "marker": {
          "color": "#2ecc71"
         },
         "mode": "markers",
         "name": "gpt-4o",
         "type": "scatter",
         "visible": false,
         "x": [
          "Mark Twain",
          "Zane Grey",
          "Joseph Conrad",
          "Benjamin Disraeli",
          "George Eliot",
          "William Henry Hudson",
          "Lucy Maud Montgomery",
          "Howard Pyle",
          "Virginia Woolf",
          "Lewis Carroll"
         ],
         "y": [
          1.428190407567957,
          1.4651688119612691,
          1.5233260580372825,
          1.6026234656336318,
          1.5553714348183822,
          1.5290057792820797,
          1.489896455250786,
          1.450696507368846,
          1.507876638914478,
          1.4893687940774007
         ]
        },
        {
         "marker": {
          "color": "#2ecc71"
         },
         "mode": "markers",
         "name": "gpt-4o",
         "type": "scatter",
         "visible": false,
         "x": [
          "Mark Twain",
          "Zane Grey",
          "Joseph Conrad",
          "Benjamin Disraeli",
          "George Eliot",
          "William Henry Hudson",
          "Lucy Maud Montgomery",
          "Howard Pyle",
          "Virginia Woolf",
          "Lewis Carroll"
         ],
         "y": [
          66.86128533689623,
          63.36295614833885,
          56.772422775451076,
          49.58705725387796,
          53.94035856652724,
          56.733980822118355,
          60.50672530365095,
          63.38231208005813,
          58.16927647790865,
          61.95771812871914
         ]
        },
        {
         "marker": {
          "color": "#2ecc71"
         },
         "mode": "markers",
         "name": "gpt-4o",
         "type": "scatter",
         "visible": false,
         "x": [
          "Mark Twain",
          "Zane Grey",
          "Joseph Conrad",
          "Benjamin Disraeli",
          "George Eliot",
          "William Henry Hudson",
          "Lucy Maud Montgomery",
          "Howard Pyle",
          "Virginia Woolf",
          "Lewis Carroll"
         ],
         "y": [
          8.620316180053923,
          9.198812001140755,
          10.526907739708893,
          11.645822949522728,
          10.951545530518668,
          10.424071937145204,
          9.784259439970807,
          9.491044131434776,
          10.310087540443401,
          9.237661068645142
         ]
        },
        {
         "marker": {
          "color": "#2ecc71"
         },
         "mode": "markers",
         "name": "gpt-4o",
         "type": "scatter",
         "visible": false,
         "x": [
          "Mark Twain",
          "Zane Grey",
          "Joseph Conrad",
          "Benjamin Disraeli",
          "George Eliot",
          "William Henry Hudson",
          "Lucy Maud Montgomery",
          "Howard Pyle",
          "Virginia Woolf",
          "Lewis Carroll"
         ],
         "y": [
          11.35935997226441,
          11.897978942879972,
          13.464704349523888,
          14.79292296018128,
          13.941530581280754,
          13.326677525084662,
          12.574203048383085,
          12.170807350113938,
          13.165104705529778,
          12.064421243607473
         ]
        },
        {
         "marker": {
          "color": "#2ecc71"
         },
         "mode": "markers",
         "name": "gpt-4o",
         "type": "scatter",
         "visible": false,
         "x": [
          "Mark Twain",
          "Zane Grey",
          "Joseph Conrad",
          "Benjamin Disraeli",
          "George Eliot",
          "William Henry Hudson",
          "Lucy Maud Montgomery",
          "Howard Pyle",
          "Virginia Woolf",
          "Lewis Carroll"
         ],
         "y": [
          100.70733583113208,
          130.34279660857675,
          143.57653905318577,
          138.21164097438646,
          128.3816710579328,
          131.23577801754712,
          121.62595292246984,
          128.8447188596017,
          138.8838683151998,
          109.66952703999789
         ]
        },
        {
         "marker": {
          "color": "#2ecc71"
         },
         "mode": "markers",
         "name": "gpt-4o",
         "type": "scatter",
         "visible": false,
         "x": [
          "Mark Twain",
          "Zane Grey",
          "Joseph Conrad",
          "Benjamin Disraeli",
          "George Eliot",
          "William Henry Hudson",
          "Lucy Maud Montgomery",
          "Howard Pyle",
          "Virginia Woolf",
          "Lewis Carroll"
         ],
         "y": [
          0.08603437656164654,
          0.07139555843135442,
          0.07494514733914205,
          0.08095036160044011,
          0.0795459122319461,
          0.0764776311850982,
          0.0720602232413256,
          0.07412684221151905,
          0.07384747304445564,
          0.07820193443504907
         ]
        },
        {
         "marker": {
          "color": "#2ecc71"
         },
         "mode": "markers",
         "name": "gpt-4o",
         "type": "scatter",
         "visible": false,
         "x": [
          "Mark Twain",
          "Zane Grey",
          "Joseph Conrad",
          "Benjamin Disraeli",
          "George Eliot",
          "William Henry Hudson",
          "Lucy Maud Montgomery",
          "Howard Pyle",
          "Virginia Woolf",
          "Lewis Carroll"
         ],
         "y": [
          0.10173564280198429,
          0.1094184982983481,
          0.10737861977914236,
          0.10414181405062628,
          0.10490192893063302,
          0.10653582448766934,
          0.10902064041158978,
          0.10784814096738295,
          0.10804430878427645,
          0.10575005768262496
         ]
        },
        {
         "marker": {
          "color": "#2ecc71"
         },
         "mode": "markers",
         "name": "gpt-4o",
         "type": "scatter",
         "visible": false,
         "x": [
          "Mark Twain",
          "Zane Grey",
          "Joseph Conrad",
          "Benjamin Disraeli",
          "George Eliot",
          "William Henry Hudson",
          "Lucy Maud Montgomery",
          "Howard Pyle",
          "Virginia Woolf",
          "Lewis Carroll"
         ],
         "y": [
          0.9898617262304759,
          0.9868848010965464,
          0.9855655057688785,
          0.9861080444541683,
          0.9870895001636462,
          0.9868011549996905,
          0.9877573534749641,
          0.9870377131580053,
          0.9860331571822882,
          0.9889582697591722
         ]
        },
        {
         "marker": {
          "color": "#f1c40f"
         },
         "mode": "markers",
         "name": "gemini-1.5-flash",
         "type": "scatter",
         "visible": true,
         "x": [
          "Mark Twain",
          "Zane Grey",
          "Joseph Conrad",
          "Benjamin Disraeli",
          "George Eliot",
          "William Henry Hudson",
          "Lucy Maud Montgomery",
          "Howard Pyle",
          "Virginia Woolf",
          "Lewis Carroll"
         ],
         "y": [
          11133,
          10053,
          9821,
          11091,
          11088,
          10279,
          10810,
          10947,
          9790,
          10909
         ]
        },
        {
         "marker": {
          "color": "#f1c40f"
         },
         "mode": "markers",
         "name": "gemini-1.5-flash",
         "type": "scatter",
         "visible": false,
         "x": [
          "Mark Twain",
          "Zane Grey",
          "Joseph Conrad",
          "Benjamin Disraeli",
          "George Eliot",
          "William Henry Hudson",
          "Lucy Maud Montgomery",
          "Howard Pyle",
          "Virginia Woolf",
          "Lewis Carroll"
         ],
         "y": [
          4.235150277764588,
          4.433016534305429,
          4.530860988189698,
          4.64457052613108,
          4.66397833774904,
          4.521145513367048,
          4.505300729849235,
          4.448205683228535,
          4.536265920505434,
          4.555693922211073
         ]
        },
        {
         "marker": {
          "color": "#f1c40f"
         },
         "mode": "markers",
         "name": "gemini-1.5-flash",
         "type": "scatter",
         "visible": false,
         "x": [
          "Mark Twain",
          "Zane Grey",
          "Joseph Conrad",
          "Benjamin Disraeli",
          "George Eliot",
          "William Henry Hudson",
          "Lucy Maud Montgomery",
          "Howard Pyle",
          "Virginia Woolf",
          "Lewis Carroll"
         ],
         "y": [
          17.18563851489188,
          18.121394101876675,
          20.55860561156322,
          21.00565179997543,
          21.781873649421634,
          21.159273446188063,
          18.67554720318373,
          19.132230474904343,
          20.26165647848496,
          18.216275740557208
         ]
        },
        {
         "marker": {
          "color": "#f1c40f"
         },
         "mode": "markers",
         "name": "gemini-1.5-flash",
         "type": "scatter",
         "visible": false,
         "x": [
          "Mark Twain",
          "Zane Grey",
          "Joseph Conrad",
          "Benjamin Disraeli",
          "George Eliot",
          "William Henry Hudson",
          "Lucy Maud Montgomery",
          "Howard Pyle",
          "Virginia Woolf",
          "Lewis Carroll"
         ],
         "y": [
          1.3701213142775746,
          1.418884851641003,
          1.4695584872887113,
          1.53722106863978,
          1.5394904235576978,
          1.4714789596010325,
          1.4497126181639526,
          1.4336652765441829,
          1.4815816094129897,
          1.4743444040091402
         ]
        },
        {
         "marker": {
          "color": "#f1c40f"
         },
         "mode": "markers",
         "name": "gemini-1.5-flash",
         "type": "scatter",
         "visible": false,
         "x": [
          "Mark Twain",
          "Zane Grey",
          "Joseph Conrad",
          "Benjamin Disraeli",
          "George Eliot",
          "William Henry Hudson",
          "Lucy Maud Montgomery",
          "Howard Pyle",
          "Virginia Woolf",
          "Lewis Carroll"
         ],
         "y": [
          73.47931371950195,
          68.40412653776634,
          61.64336727963837,
          55.465361016099564,
          54.485508412855836,
          60.87121746987178,
          65.23363209209813,
          66.12770367233425,
          60.92761451799885,
          63.6159435441612
         ]
        },
        {
         "marker": {
          "color": "#f1c40f"
         },
         "mode": "markers",
         "name": "gemini-1.5-flash",
         "type": "scatter",
         "visible": false,
         "x": [
          "Mark Twain",
          "Zane Grey",
          "Joseph Conrad",
          "Benjamin Disraeli",
          "George Eliot",
          "William Henry Hudson",
          "Lucy Maud Montgomery",
          "Howard Pyle",
          "Virginia Woolf",
          "Lewis Carroll"
         ],
         "y": [
          7.279830529283213,
          8.220184949095742,
          9.76864633851645,
          10.741412811939824,
          11.070917721255274,
          10.025568367305528,
          8.800072303576297,
          8.788820148434052,
          9.794709017682415,
          8.911611506125169
         ]
        },
        {
         "marker": {
          "color": "#f1c40f"
         },
         "mode": "markers",
         "name": "gemini-1.5-flash",
         "type": "scatter",
         "visible": false,
         "x": [
          "Mark Twain",
          "Zane Grey",
          "Joseph Conrad",
          "Benjamin Disraeli",
          "George Eliot",
          "William Henry Hudson",
          "Lucy Maud Montgomery",
          "Howard Pyle",
          "Virginia Woolf",
          "Lewis Carroll"
         ],
         "y": [
          10.020117425803864,
          10.866694483728029,
          12.588350462208991,
          13.734814166602053,
          14.084894326071947,
          12.802831790033139,
          11.533697414945408,
          11.513158411161792,
          12.64977833117617,
          11.687617766813254
         ]
        },
        {
         "marker": {
          "color": "#f1c40f"
         },
         "mode": "markers",
         "name": "gemini-1.5-flash",
         "type": "scatter",
         "visible": false,
         "x": [
          "Mark Twain",
          "Zane Grey",
          "Joseph Conrad",
          "Benjamin Disraeli",
          "George Eliot",
          "William Henry Hudson",
          "Lucy Maud Montgomery",
          "Howard Pyle",
          "Virginia Woolf",
          "Lewis Carroll"
         ],
         "y": [
          110.57317436253973,
          140.22664263555333,
          158.68263102610288,
          154.700410241457,
          153.30468889761923,
          164.97020861210132,
          130.06076334627215,
          136.01344136925024,
          167.2748997964807,
          128.14658981691406
         ]
        },
        {
         "marker": {
          "color": "#f1c40f"
         },
         "mode": "markers",
         "name": "gemini-1.5-flash",
         "type": "scatter",
         "visible": false,
         "x": [
          "Mark Twain",
          "Zane Grey",
          "Joseph Conrad",
          "Benjamin Disraeli",
          "George Eliot",
          "William Henry Hudson",
          "Lucy Maud Montgomery",
          "Howard Pyle",
          "Virginia Woolf",
          "Lewis Carroll"
         ],
         "y": [
          0.06607592232087744,
          0.059491543478003575,
          0.05802350244300156,
          0.06487292720732314,
          0.06470663756579792,
          0.060026161806098974,
          0.06398759315492575,
          0.06439070872718503,
          0.05791425850227457,
          0.0659464883751859
         ]
        },
        {
         "marker": {
          "color": "#f1c40f"
         },
         "mode": "markers",
         "name": "gemini-1.5-flash",
         "type": "scatter",
         "visible": false,
         "x": [
          "Mark Twain",
          "Zane Grey",
          "Joseph Conrad",
          "Benjamin Disraeli",
          "George Eliot",
          "William Henry Hudson",
          "Lucy Maud Montgomery",
          "Howard Pyle",
          "Virginia Woolf",
          "Lewis Carroll"
         ],
         "y": [
          0.11288062701077146,
          0.11721329065537835,
          0.1182350403966155,
          0.11350636056655068,
          0.11359121986242064,
          0.11671287671249622,
          0.11418954724619762,
          0.11386896006689082,
          0.11832585734021665,
          0.11313473430859616
         ]
        },
        {
         "marker": {
          "color": "#f1c40f"
         },
         "mode": "markers",
         "name": "gemini-1.5-flash",
         "type": "scatter",
         "visible": false,
         "x": [
          "Mark Twain",
          "Zane Grey",
          "Joseph Conrad",
          "Benjamin Disraeli",
          "George Eliot",
          "William Henry Hudson",
          "Lucy Maud Montgomery",
          "Howard Pyle",
          "Virginia Woolf",
          "Lewis Carroll"
         ],
         "y": [
          0.9888528595151518,
          0.9858778629422539,
          0.9840299142724024,
          0.9844397957804707,
          0.9845793435200505,
          0.9834056934106062,
          0.9869014167273524,
          0.9863073066349759,
          0.9831703649743867,
          0.9870936735877467
         ]
        },
        {
         "marker": {
          "color": "#9b59b6"
         },
         "mode": "markers",
         "name": "open-mixtral-8x7b",
         "type": "scatter",
         "visible": true,
         "x": [
          "Mark Twain",
          "Zane Grey",
          "Joseph Conrad",
          "Benjamin Disraeli",
          "George Eliot",
          "William Henry Hudson",
          "Lucy Maud Montgomery",
          "Howard Pyle",
          "Virginia Woolf",
          "Lewis Carroll"
         ],
         "y": [
          12631,
          10895,
          10959,
          12295,
          11576,
          12088,
          11277,
          11890,
          10510,
          12428
         ]
        },
        {
         "marker": {
          "color": "#9b59b6"
         },
         "mode": "markers",
         "name": "open-mixtral-8x7b",
         "type": "scatter",
         "visible": false,
         "x": [
          "Mark Twain",
          "Zane Grey",
          "Joseph Conrad",
          "Benjamin Disraeli",
          "George Eliot",
          "William Henry Hudson",
          "Lucy Maud Montgomery",
          "Howard Pyle",
          "Virginia Woolf",
          "Lewis Carroll"
         ],
         "y": [
          4.381612386913196,
          4.466888358344702,
          4.531026408221673,
          4.6092346042717125,
          4.652563394256464,
          4.617259462697363,
          4.547938879069502,
          4.463816255618726,
          4.526018798121321,
          4.605824682814302
         ]
        },
        {
         "marker": {
          "color": "#9b59b6"
         },
         "mode": "markers",
         "name": "open-mixtral-8x7b",
         "type": "scatter",
         "visible": false,
         "x": [
          "Mark Twain",
          "Zane Grey",
          "Joseph Conrad",
          "Benjamin Disraeli",
          "George Eliot",
          "William Henry Hudson",
          "Lucy Maud Montgomery",
          "Howard Pyle",
          "Virginia Woolf",
          "Lewis Carroll"
         ],
         "y": [
          22.794952268863607,
          22.487536750607184,
          28.603947581297525,
          26.796720813724,
          29.34844473858372,
          27.032997250229148,
          23.675755939524837,
          24.458477748509637,
          27.25976833976834,
          21.677709713714215
         ]
        },
        {
         "marker": {
          "color": "#9b59b6"
         },
         "mode": "markers",
         "name": "open-mixtral-8x7b",
         "type": "scatter",
         "visible": false,
         "x": [
          "Mark Twain",
          "Zane Grey",
          "Joseph Conrad",
          "Benjamin Disraeli",
          "George Eliot",
          "William Henry Hudson",
          "Lucy Maud Montgomery",
          "Howard Pyle",
          "Virginia Woolf",
          "Lewis Carroll"
         ],
         "y": [
          1.4361292617303356,
          1.4460663938153706,
          1.500291287945204,
          1.5277321398221064,
          1.5415036474952362,
          1.5197334960838165,
          1.4646559096869833,
          1.4401169942013048,
          1.4983881659084342,
          1.4928200692041522
         ]
        },
        {
         "marker": {
          "color": "#9b59b6"
         },
         "mode": "markers",
         "name": "open-mixtral-8x7b",
         "type": "scatter",
         "visible": false,
         "x": [
          "Mark Twain",
          "Zane Grey",
          "Joseph Conrad",
          "Benjamin Disraeli",
          "George Eliot",
          "William Henry Hudson",
          "Lucy Maud Montgomery",
          "Howard Pyle",
          "Virginia Woolf",
          "Lewis Carroll"
         ],
         "y": [
          62.20158790471707,
          61.672933281353366,
          50.877350244818786,
          50.39018934511998,
          46.63512001224058,
          50.827054022326564,
          58.89421776186353,
          60.175747375832344,
          52.402696299281615,
          58.53954678590881
         ]
        },
        {
         "marker": {
          "color": "#9b59b6"
         },
         "mode": "markers",
         "name": "open-mixtral-8x7b",
         "type": "scatter",
         "visible": false,
         "x": [
          "Mark Twain",
          "Zane Grey",
          "Joseph Conrad",
          "Benjamin Disraeli",
          "George Eliot",
          "William Henry Hudson",
          "Lucy Maud Montgomery",
          "Howard Pyle",
          "Virginia Woolf",
          "Lewis Carroll"
         ],
         "y": [
          10.246356673274764,
          10.243722779758176,
          13.268976754459445,
          12.887960367253218,
          14.045636488491436,
          12.885724181378404,
          10.926484550721089,
          10.942186853494157,
          12.722290010229177,
          10.479583604957543
         ]
        },
        {
         "marker": {
          "color": "#9b59b6"
         },
         "mode": "markers",
         "name": "open-mixtral-8x7b",
         "type": "scatter",
         "visible": false,
         "x": [
          "Mark Twain",
          "Zane Grey",
          "Joseph Conrad",
          "Benjamin Disraeli",
          "George Eliot",
          "William Henry Hudson",
          "Lucy Maud Montgomery",
          "Howard Pyle",
          "Virginia Woolf",
          "Lewis Carroll"
         ],
         "y": [
          13.164265464635276,
          13.15417795626834,
          16.37888142334259,
          16.059575527347853,
          17.278158605990367,
          15.97487568215294,
          13.87648288781176,
          13.862770304591505,
          15.819066508064815,
          13.465316872798258
         ]
        },
        {
         "marker": {
          "color": "#9b59b6"
         },
         "mode": "markers",
         "name": "open-mixtral-8x7b",
         "type": "scatter",
         "visible": false,
         "x": [
          "Mark Twain",
          "Zane Grey",
          "Joseph Conrad",
          "Benjamin Disraeli",
          "George Eliot",
          "William Henry Hudson",
          "Lucy Maud Montgomery",
          "Howard Pyle",
          "Virginia Woolf",
          "Lewis Carroll"
         ],
         "y": [
          114.88912537039319,
          132.5834120172673,
          160.51859904396719,
          141.8077673678271,
          155.40063678393733,
          141.4417921613338,
          124.64306027892738,
          135.57477337724075,
          162.92450285387764,
          112.31475111397485
         ]
        },
        {
         "marker": {
          "color": "#9b59b6"
         },
         "mode": "markers",
         "name": "open-mixtral-8x7b",
         "type": "scatter",
         "visible": false,
         "x": [
          "Mark Twain",
          "Zane Grey",
          "Joseph Conrad",
          "Benjamin Disraeli",
          "George Eliot",
          "William Henry Hudson",
          "Lucy Maud Montgomery",
          "Howard Pyle",
          "Virginia Woolf",
          "Lewis Carroll"
         ],
         "y": [
          0.07246160642063415,
          0.06193155979990905,
          0.06198494352407509,
          0.0696561101354031,
          0.06526028571106425,
          0.06830999446196273,
          0.06429671018872228,
          0.06739636887183353,
          0.059544380676120494,
          0.0716724336793541
         ]
        },
        {
         "marker": {
          "color": "#9b59b6"
         },
         "mode": "markers",
         "name": "open-mixtral-8x7b",
         "type": "scatter",
         "visible": false,
         "x": [
          "Mark Twain",
          "Zane Grey",
          "Joseph Conrad",
          "Benjamin Disraeli",
          "George Eliot",
          "William Henry Hudson",
          "Lucy Maud Montgomery",
          "Howard Pyle",
          "Virginia Woolf",
          "Lewis Carroll"
         ],
         "y": [
          0.10874072903523044,
          0.11515875900118823,
          0.11507549380970308,
          0.11026221207931447,
          0.11291402704791105,
          0.11104654890346531,
          0.11363559786154276,
          0.11163188554757923,
          0.11675384103757594,
          0.10924194717472797
         ]
        },
        {
         "marker": {
          "color": "#9b59b6"
         },
         "mode": "markers",
         "name": "open-mixtral-8x7b",
         "type": "scatter",
         "visible": false,
         "x": [
          "Mark Twain",
          "Zane Grey",
          "Joseph Conrad",
          "Benjamin Disraeli",
          "George Eliot",
          "William Henry Hudson",
          "Lucy Maud Montgomery",
          "Howard Pyle",
          "Virginia Woolf",
          "Lewis Carroll"
         ],
         "y": [
          0.9884319171676554,
          0.9866498735756941,
          0.9838568908940338,
          0.9857378893876582,
          0.9843735506961744,
          0.9857730941127879,
          0.9874470179057776,
          0.9863584183729571,
          0.9836124022360204,
          0.9886880614190177
         ]
        },
        {
         "marker": {
          "color": "#e67e22"
         },
         "mode": "markers",
         "name": "claude-3-haiku-20240307",
         "type": "scatter",
         "visible": true,
         "x": [
          "Mark Twain",
          "Zane Grey",
          "Joseph Conrad",
          "Benjamin Disraeli",
          "George Eliot",
          "William Henry Hudson",
          "Lucy Maud Montgomery",
          "Howard Pyle",
          "Virginia Woolf",
          "Lewis Carroll"
         ],
         "y": [
          12773,
          12421,
          11231,
          11569,
          11947,
          11999,
          12389,
          11932,
          11433,
          12020
         ]
        },
        {
         "marker": {
          "color": "#e67e22"
         },
         "mode": "markers",
         "name": "claude-3-haiku-20240307",
         "type": "scatter",
         "visible": false,
         "x": [
          "Mark Twain",
          "Zane Grey",
          "Joseph Conrad",
          "Benjamin Disraeli",
          "George Eliot",
          "William Henry Hudson",
          "Lucy Maud Montgomery",
          "Howard Pyle",
          "Virginia Woolf",
          "Lewis Carroll"
         ],
         "y": [
          4.327546498237778,
          4.618747351179226,
          4.661258442702568,
          4.719309516966203,
          4.784872470423632,
          4.755488582619394,
          4.63042114030784,
          4.646254290065232,
          4.661116262664763,
          4.684920998397069
         ]
        },
        {
         "marker": {
          "color": "#e67e22"
         },
         "mode": "markers",
         "name": "claude-3-haiku-20240307",
         "type": "scatter",
         "visible": false,
         "x": [
          "Mark Twain",
          "Zane Grey",
          "Joseph Conrad",
          "Benjamin Disraeli",
          "George Eliot",
          "William Henry Hudson",
          "Lucy Maud Montgomery",
          "Howard Pyle",
          "Virginia Woolf",
          "Lewis Carroll"
         ],
         "y": [
          20.778489425981874,
          22.065714646783775,
          27.154730869498543,
          27.032449725776964,
          27.0202743902439,
          26.99360146252285,
          22.17967860306213,
          24.21408915795267,
          25.516475540717085,
          24.8125
         ]
        },
        {
         "marker": {
          "color": "#e67e22"
         },
         "mode": "markers",
         "name": "claude-3-haiku-20240307",
         "type": "scatter",
         "visible": false,
         "x": [
          "Mark Twain",
          "Zane Grey",
          "Joseph Conrad",
          "Benjamin Disraeli",
          "George Eliot",
          "William Henry Hudson",
          "Lucy Maud Montgomery",
          "Howard Pyle",
          "Virginia Woolf",
          "Lewis Carroll"
         ],
         "y": [
          1.4069221016389248,
          1.4846454302830372,
          1.533674806297861,
          1.5633816310773723,
          1.5687350848786763,
          1.5687187475308433,
          1.5059103408144403,
          1.5147453235447872,
          1.5279406996125906,
          1.5264311884588964
         ]
        },
        {
         "marker": {
          "color": "#e67e22"
         },
         "mode": "markers",
         "name": "claude-3-haiku-20240307",
         "type": "scatter",
         "visible": false,
         "x": [
          "Mark Twain",
          "Zane Grey",
          "Joseph Conrad",
          "Benjamin Disraeli",
          "George Eliot",
          "William Henry Hudson",
          "Lucy Maud Montgomery",
          "Howard Pyle",
          "Virginia Woolf",
          "Lewis Carroll"
         ],
         "y": [
          66.71922343397539,
          58.83729623156954,
          49.52405955465997,
          47.134977539190714,
          46.69443331316643,
          46.72288847442999,
          56.922611384990304,
          54.11024513278906,
          51.671994138947014,
          52.51423395637738
         ]
        },
        {
         "marker": {
          "color": "#e67e22"
         },
         "mode": "markers",
         "name": "claude-3-haiku-20240307",
         "type": "scatter",
         "visible": false,
         "x": [
          "Mark Twain",
          "Zane Grey",
          "Joseph Conrad",
          "Benjamin Disraeli",
          "George Eliot",
          "William Henry Hudson",
          "Lucy Maud Montgomery",
          "Howard Pyle",
          "Virginia Woolf",
          "Lewis Carroll"
         ],
         "y": [
          9.115291675472246,
          10.53444478958551,
          13.09770775341919,
          13.400558639766007,
          13.458981013763502,
          13.448385791247862,
          10.82981667680463,
          11.727489589430032,
          12.391125716308235,
          12.098763023814978
         ]
        },
        {
         "marker": {
          "color": "#e67e22"
         },
         "mode": "markers",
         "name": "claude-3-haiku-20240307",
         "type": "scatter",
         "visible": false,
         "x": [
          "Mark Twain",
          "Zane Grey",
          "Joseph Conrad",
          "Benjamin Disraeli",
          "George Eliot",
          "William Henry Hudson",
          "Lucy Maud Montgomery",
          "Howard Pyle",
          "Virginia Woolf",
          "Lewis Carroll"
         ],
         "y": [
          11.952158353124137,
          13.374812255286367,
          16.17780190075973,
          16.52507574188962,
          16.579521241375666,
          16.584805275221687,
          13.741170757770384,
          14.66665709646061,
          15.413692154471983,
          15.148494389741243
         ]
        },
        {
         "marker": {
          "color": "#e67e22"
         },
         "mode": "markers",
         "name": "claude-3-haiku-20240307",
         "type": "scatter",
         "visible": false,
         "x": [
          "Mark Twain",
          "Zane Grey",
          "Joseph Conrad",
          "Benjamin Disraeli",
          "George Eliot",
          "William Henry Hudson",
          "Lucy Maud Montgomery",
          "Howard Pyle",
          "Virginia Woolf",
          "Lewis Carroll"
         ],
         "y": [
          96.92648908463802,
          121.76384929142101,
          158.6804453620712,
          157.32998313487965,
          155.58280394757463,
          147.56325133165677,
          114.89925855256632,
          135.47365956424028,
          157.7523192928011,
          138.2971534045289
         ]
        },
        {
         "marker": {
          "color": "#e67e22"
         },
         "mode": "markers",
         "name": "claude-3-haiku-20240307",
         "type": "scatter",
         "visible": false,
         "x": [
          "Mark Twain",
          "Zane Grey",
          "Joseph Conrad",
          "Benjamin Disraeli",
          "George Eliot",
          "William Henry Hudson",
          "Lucy Maud Montgomery",
          "Howard Pyle",
          "Virginia Woolf",
          "Lewis Carroll"
         ],
         "y": [
          0.07428667806585942,
          0.07113730341454474,
          0.06342474417764124,
          0.06519913661442395,
          0.06740083383638076,
          0.06771979727517975,
          0.07067877639971247,
          0.06780007727799622,
          0.06504041915316043,
          0.06881154110373254
         ]
        },
        {
         "marker": {
          "color": "#e67e22"
         },
         "mode": "markers",
         "name": "claude-3-haiku-20240307",
         "type": "scatter",
         "visible": false,
         "x": [
          "Mark Twain",
          "Zane Grey",
          "Joseph Conrad",
          "Benjamin Disraeli",
          "George Eliot",
          "William Henry Hudson",
          "Lucy Maud Montgomery",
          "Howard Pyle",
          "Virginia Woolf",
          "Lewis Carroll"
         ],
         "y": [
          0.1078325390093076,
          0.10948966482210847,
          0.11411059719854551,
          0.11294970109117533,
          0.11158558093597648,
          0.11139373902682549,
          0.10972220122916865,
          0.11140726208533325,
          0.11313840818913268,
          0.11086272373786836
         ]
        },
        {
         "marker": {
          "color": "#e67e22"
         },
         "mode": "markers",
         "name": "claude-3-haiku-20240307",
         "type": "scatter",
         "visible": false,
         "x": [
          "Mark Twain",
          "Zane Grey",
          "Joseph Conrad",
          "Benjamin Disraeli",
          "George Eliot",
          "William Henry Hudson",
          "Lucy Maud Montgomery",
          "Howard Pyle",
          "Virginia Woolf",
          "Lewis Carroll"
         ],
         "y": [
          0.9902290609482652,
          0.9877431062551426,
          0.9840429161974764,
          0.9841805637921391,
          0.9843580165835635,
          0.9851603345884778,
          0.9884293573798713,
          0.9863688257968445,
          0.9841373019638363,
          0.9860870899840063
         ]
        }
       ],
       "layout": {
        "legend": {
         "title": {
          "text": "Collection"
         }
        },
        "template": {
         "data": {
          "bar": [
           {
            "error_x": {
             "color": "#2a3f5f"
            },
            "error_y": {
             "color": "#2a3f5f"
            },
            "marker": {
             "line": {
              "color": "#E5ECF6",
              "width": 0.5
             },
             "pattern": {
              "fillmode": "overlay",
              "size": 10,
              "solidity": 0.2
             }
            },
            "type": "bar"
           }
          ],
          "barpolar": [
           {
            "marker": {
             "line": {
              "color": "#E5ECF6",
              "width": 0.5
             },
             "pattern": {
              "fillmode": "overlay",
              "size": 10,
              "solidity": 0.2
             }
            },
            "type": "barpolar"
           }
          ],
          "carpet": [
           {
            "aaxis": {
             "endlinecolor": "#2a3f5f",
             "gridcolor": "white",
             "linecolor": "white",
             "minorgridcolor": "white",
             "startlinecolor": "#2a3f5f"
            },
            "baxis": {
             "endlinecolor": "#2a3f5f",
             "gridcolor": "white",
             "linecolor": "white",
             "minorgridcolor": "white",
             "startlinecolor": "#2a3f5f"
            },
            "type": "carpet"
           }
          ],
          "choropleth": [
           {
            "colorbar": {
             "outlinewidth": 0,
             "ticks": ""
            },
            "type": "choropleth"
           }
          ],
          "contour": [
           {
            "colorbar": {
             "outlinewidth": 0,
             "ticks": ""
            },
            "colorscale": [
             [
              0,
              "#0d0887"
             ],
             [
              0.1111111111111111,
              "#46039f"
             ],
             [
              0.2222222222222222,
              "#7201a8"
             ],
             [
              0.3333333333333333,
              "#9c179e"
             ],
             [
              0.4444444444444444,
              "#bd3786"
             ],
             [
              0.5555555555555556,
              "#d8576b"
             ],
             [
              0.6666666666666666,
              "#ed7953"
             ],
             [
              0.7777777777777778,
              "#fb9f3a"
             ],
             [
              0.8888888888888888,
              "#fdca26"
             ],
             [
              1,
              "#f0f921"
             ]
            ],
            "type": "contour"
           }
          ],
          "contourcarpet": [
           {
            "colorbar": {
             "outlinewidth": 0,
             "ticks": ""
            },
            "type": "contourcarpet"
           }
          ],
          "heatmap": [
           {
            "colorbar": {
             "outlinewidth": 0,
             "ticks": ""
            },
            "colorscale": [
             [
              0,
              "#0d0887"
             ],
             [
              0.1111111111111111,
              "#46039f"
             ],
             [
              0.2222222222222222,
              "#7201a8"
             ],
             [
              0.3333333333333333,
              "#9c179e"
             ],
             [
              0.4444444444444444,
              "#bd3786"
             ],
             [
              0.5555555555555556,
              "#d8576b"
             ],
             [
              0.6666666666666666,
              "#ed7953"
             ],
             [
              0.7777777777777778,
              "#fb9f3a"
             ],
             [
              0.8888888888888888,
              "#fdca26"
             ],
             [
              1,
              "#f0f921"
             ]
            ],
            "type": "heatmap"
           }
          ],
          "heatmapgl": [
           {
            "colorbar": {
             "outlinewidth": 0,
             "ticks": ""
            },
            "colorscale": [
             [
              0,
              "#0d0887"
             ],
             [
              0.1111111111111111,
              "#46039f"
             ],
             [
              0.2222222222222222,
              "#7201a8"
             ],
             [
              0.3333333333333333,
              "#9c179e"
             ],
             [
              0.4444444444444444,
              "#bd3786"
             ],
             [
              0.5555555555555556,
              "#d8576b"
             ],
             [
              0.6666666666666666,
              "#ed7953"
             ],
             [
              0.7777777777777778,
              "#fb9f3a"
             ],
             [
              0.8888888888888888,
              "#fdca26"
             ],
             [
              1,
              "#f0f921"
             ]
            ],
            "type": "heatmapgl"
           }
          ],
          "histogram": [
           {
            "marker": {
             "pattern": {
              "fillmode": "overlay",
              "size": 10,
              "solidity": 0.2
             }
            },
            "type": "histogram"
           }
          ],
          "histogram2d": [
           {
            "colorbar": {
             "outlinewidth": 0,
             "ticks": ""
            },
            "colorscale": [
             [
              0,
              "#0d0887"
             ],
             [
              0.1111111111111111,
              "#46039f"
             ],
             [
              0.2222222222222222,
              "#7201a8"
             ],
             [
              0.3333333333333333,
              "#9c179e"
             ],
             [
              0.4444444444444444,
              "#bd3786"
             ],
             [
              0.5555555555555556,
              "#d8576b"
             ],
             [
              0.6666666666666666,
              "#ed7953"
             ],
             [
              0.7777777777777778,
              "#fb9f3a"
             ],
             [
              0.8888888888888888,
              "#fdca26"
             ],
             [
              1,
              "#f0f921"
             ]
            ],
            "type": "histogram2d"
           }
          ],
          "histogram2dcontour": [
           {
            "colorbar": {
             "outlinewidth": 0,
             "ticks": ""
            },
            "colorscale": [
             [
              0,
              "#0d0887"
             ],
             [
              0.1111111111111111,
              "#46039f"
             ],
             [
              0.2222222222222222,
              "#7201a8"
             ],
             [
              0.3333333333333333,
              "#9c179e"
             ],
             [
              0.4444444444444444,
              "#bd3786"
             ],
             [
              0.5555555555555556,
              "#d8576b"
             ],
             [
              0.6666666666666666,
              "#ed7953"
             ],
             [
              0.7777777777777778,
              "#fb9f3a"
             ],
             [
              0.8888888888888888,
              "#fdca26"
             ],
             [
              1,
              "#f0f921"
             ]
            ],
            "type": "histogram2dcontour"
           }
          ],
          "mesh3d": [
           {
            "colorbar": {
             "outlinewidth": 0,
             "ticks": ""
            },
            "type": "mesh3d"
           }
          ],
          "parcoords": [
           {
            "line": {
             "colorbar": {
              "outlinewidth": 0,
              "ticks": ""
             }
            },
            "type": "parcoords"
           }
          ],
          "pie": [
           {
            "automargin": true,
            "type": "pie"
           }
          ],
          "scatter": [
           {
            "fillpattern": {
             "fillmode": "overlay",
             "size": 10,
             "solidity": 0.2
            },
            "type": "scatter"
           }
          ],
          "scatter3d": [
           {
            "line": {
             "colorbar": {
              "outlinewidth": 0,
              "ticks": ""
             }
            },
            "marker": {
             "colorbar": {
              "outlinewidth": 0,
              "ticks": ""
             }
            },
            "type": "scatter3d"
           }
          ],
          "scattercarpet": [
           {
            "marker": {
             "colorbar": {
              "outlinewidth": 0,
              "ticks": ""
             }
            },
            "type": "scattercarpet"
           }
          ],
          "scattergeo": [
           {
            "marker": {
             "colorbar": {
              "outlinewidth": 0,
              "ticks": ""
             }
            },
            "type": "scattergeo"
           }
          ],
          "scattergl": [
           {
            "marker": {
             "colorbar": {
              "outlinewidth": 0,
              "ticks": ""
             }
            },
            "type": "scattergl"
           }
          ],
          "scattermapbox": [
           {
            "marker": {
             "colorbar": {
              "outlinewidth": 0,
              "ticks": ""
             }
            },
            "type": "scattermapbox"
           }
          ],
          "scatterpolar": [
           {
            "marker": {
             "colorbar": {
              "outlinewidth": 0,
              "ticks": ""
             }
            },
            "type": "scatterpolar"
           }
          ],
          "scatterpolargl": [
           {
            "marker": {
             "colorbar": {
              "outlinewidth": 0,
              "ticks": ""
             }
            },
            "type": "scatterpolargl"
           }
          ],
          "scatterternary": [
           {
            "marker": {
             "colorbar": {
              "outlinewidth": 0,
              "ticks": ""
             }
            },
            "type": "scatterternary"
           }
          ],
          "surface": [
           {
            "colorbar": {
             "outlinewidth": 0,
             "ticks": ""
            },
            "colorscale": [
             [
              0,
              "#0d0887"
             ],
             [
              0.1111111111111111,
              "#46039f"
             ],
             [
              0.2222222222222222,
              "#7201a8"
             ],
             [
              0.3333333333333333,
              "#9c179e"
             ],
             [
              0.4444444444444444,
              "#bd3786"
             ],
             [
              0.5555555555555556,
              "#d8576b"
             ],
             [
              0.6666666666666666,
              "#ed7953"
             ],
             [
              0.7777777777777778,
              "#fb9f3a"
             ],
             [
              0.8888888888888888,
              "#fdca26"
             ],
             [
              1,
              "#f0f921"
             ]
            ],
            "type": "surface"
           }
          ],
          "table": [
           {
            "cells": {
             "fill": {
              "color": "#EBF0F8"
             },
             "line": {
              "color": "white"
             }
            },
            "header": {
             "fill": {
              "color": "#C8D4E3"
             },
             "line": {
              "color": "white"
             }
            },
            "type": "table"
           }
          ]
         },
         "layout": {
          "annotationdefaults": {
           "arrowcolor": "#2a3f5f",
           "arrowhead": 0,
           "arrowwidth": 1
          },
          "autotypenumbers": "strict",
          "coloraxis": {
           "colorbar": {
            "outlinewidth": 0,
            "ticks": ""
           }
          },
          "colorscale": {
           "diverging": [
            [
             0,
             "#8e0152"
            ],
            [
             0.1,
             "#c51b7d"
            ],
            [
             0.2,
             "#de77ae"
            ],
            [
             0.3,
             "#f1b6da"
            ],
            [
             0.4,
             "#fde0ef"
            ],
            [
             0.5,
             "#f7f7f7"
            ],
            [
             0.6,
             "#e6f5d0"
            ],
            [
             0.7,
             "#b8e186"
            ],
            [
             0.8,
             "#7fbc41"
            ],
            [
             0.9,
             "#4d9221"
            ],
            [
             1,
             "#276419"
            ]
           ],
           "sequential": [
            [
             0,
             "#0d0887"
            ],
            [
             0.1111111111111111,
             "#46039f"
            ],
            [
             0.2222222222222222,
             "#7201a8"
            ],
            [
             0.3333333333333333,
             "#9c179e"
            ],
            [
             0.4444444444444444,
             "#bd3786"
            ],
            [
             0.5555555555555556,
             "#d8576b"
            ],
            [
             0.6666666666666666,
             "#ed7953"
            ],
            [
             0.7777777777777778,
             "#fb9f3a"
            ],
            [
             0.8888888888888888,
             "#fdca26"
            ],
            [
             1,
             "#f0f921"
            ]
           ],
           "sequentialminus": [
            [
             0,
             "#0d0887"
            ],
            [
             0.1111111111111111,
             "#46039f"
            ],
            [
             0.2222222222222222,
             "#7201a8"
            ],
            [
             0.3333333333333333,
             "#9c179e"
            ],
            [
             0.4444444444444444,
             "#bd3786"
            ],
            [
             0.5555555555555556,
             "#d8576b"
            ],
            [
             0.6666666666666666,
             "#ed7953"
            ],
            [
             0.7777777777777778,
             "#fb9f3a"
            ],
            [
             0.8888888888888888,
             "#fdca26"
            ],
            [
             1,
             "#f0f921"
            ]
           ]
          },
          "colorway": [
           "#636efa",
           "#EF553B",
           "#00cc96",
           "#ab63fa",
           "#FFA15A",
           "#19d3f3",
           "#FF6692",
           "#B6E880",
           "#FF97FF",
           "#FECB52"
          ],
          "font": {
           "color": "#2a3f5f"
          },
          "geo": {
           "bgcolor": "white",
           "lakecolor": "white",
           "landcolor": "#E5ECF6",
           "showlakes": true,
           "showland": true,
           "subunitcolor": "white"
          },
          "hoverlabel": {
           "align": "left"
          },
          "hovermode": "closest",
          "mapbox": {
           "style": "light"
          },
          "paper_bgcolor": "white",
          "plot_bgcolor": "#E5ECF6",
          "polar": {
           "angularaxis": {
            "gridcolor": "white",
            "linecolor": "white",
            "ticks": ""
           },
           "bgcolor": "#E5ECF6",
           "radialaxis": {
            "gridcolor": "white",
            "linecolor": "white",
            "ticks": ""
           }
          },
          "scene": {
           "xaxis": {
            "backgroundcolor": "#E5ECF6",
            "gridcolor": "white",
            "gridwidth": 2,
            "linecolor": "white",
            "showbackground": true,
            "ticks": "",
            "zerolinecolor": "white"
           },
           "yaxis": {
            "backgroundcolor": "#E5ECF6",
            "gridcolor": "white",
            "gridwidth": 2,
            "linecolor": "white",
            "showbackground": true,
            "ticks": "",
            "zerolinecolor": "white"
           },
           "zaxis": {
            "backgroundcolor": "#E5ECF6",
            "gridcolor": "white",
            "gridwidth": 2,
            "linecolor": "white",
            "showbackground": true,
            "ticks": "",
            "zerolinecolor": "white"
           }
          },
          "shapedefaults": {
           "line": {
            "color": "#2a3f5f"
           }
          },
          "ternary": {
           "aaxis": {
            "gridcolor": "white",
            "linecolor": "white",
            "ticks": ""
           },
           "baxis": {
            "gridcolor": "white",
            "linecolor": "white",
            "ticks": ""
           },
           "bgcolor": "#E5ECF6",
           "caxis": {
            "gridcolor": "white",
            "linecolor": "white",
            "ticks": ""
           }
          },
          "title": {
           "x": 0.05
          },
          "xaxis": {
           "automargin": true,
           "gridcolor": "white",
           "linecolor": "white",
           "ticks": "",
           "title": {
            "standoff": 15
           },
           "zerolinecolor": "white",
           "zerolinewidth": 2
          },
          "yaxis": {
           "automargin": true,
           "gridcolor": "white",
           "linecolor": "white",
           "ticks": "",
           "title": {
            "standoff": 15
           },
           "zerolinecolor": "white",
           "zerolinewidth": 2
          }
         }
        },
        "title": {
         "text": "unique_word_count"
        },
        "updatemenus": [
         {
          "buttons": [
           {
            "args": [
             {
              "visible": [
               true,
               false,
               false,
               false,
               false,
               false,
               false,
               false,
               false,
               false,
               false
              ]
             },
             {
              "title": "unique_word_count"
             }
            ],
            "label": "unique_word_count",
            "method": "update"
           },
           {
            "args": [
             {
              "visible": [
               false,
               true,
               false,
               false,
               false,
               false,
               false,
               false,
               false,
               false,
               false
              ]
             },
             {
              "title": "average_word_length"
             }
            ],
            "label": "average_word_length",
            "method": "update"
           },
           {
            "args": [
             {
              "visible": [
               false,
               false,
               true,
               false,
               false,
               false,
               false,
               false,
               false,
               false,
               false
              ]
             },
             {
              "title": "average_sentence_length"
             }
            ],
            "label": "average_sentence_length",
            "method": "update"
           },
           {
            "args": [
             {
              "visible": [
               false,
               false,
               false,
               true,
               false,
               false,
               false,
               false,
               false,
               false,
               false
              ]
             },
             {
              "title": "average_syllables_per_word"
             }
            ],
            "label": "average_syllables_per_word",
            "method": "update"
           },
           {
            "args": [
             {
              "visible": [
               false,
               false,
               false,
               false,
               true,
               false,
               false,
               false,
               false,
               false,
               false
              ]
             },
             {
              "title": "flesch_reading_ease"
             }
            ],
            "label": "flesch_reading_ease",
            "method": "update"
           },
           {
            "args": [
             {
              "visible": [
               false,
               false,
               false,
               false,
               false,
               true,
               false,
               false,
               false,
               false,
               false
              ]
             },
             {
              "title": "flesch_kincaid_grade_level"
             }
            ],
            "label": "flesch_kincaid_grade_level",
            "method": "update"
           },
           {
            "args": [
             {
              "visible": [
               false,
               false,
               false,
               false,
               false,
               false,
               true,
               false,
               false,
               false,
               false
              ]
             },
             {
              "title": "gunning_fog_index"
             }
            ],
            "label": "gunning_fog_index",
            "method": "update"
           },
           {
            "args": [
             {
              "visible": [
               false,
               false,
               false,
               false,
               false,
               false,
               false,
               true,
               false,
               false,
               false
              ]
             },
             {
              "title": "yules_characteristic_k"
             }
            ],
            "label": "yules_characteristic_k",
            "method": "update"
           },
           {
            "args": [
             {
              "visible": [
               false,
               false,
               false,
               false,
               false,
               false,
               false,
               false,
               true,
               false,
               false
              ]
             },
             {
              "title": "herdans_c"
             }
            ],
            "label": "herdans_c",
            "method": "update"
           },
           {
            "args": [
             {
              "visible": [
               false,
               false,
               false,
               false,
               false,
               false,
               false,
               false,
               false,
               true,
               false
              ]
             },
             {
              "title": "maas"
             }
            ],
            "label": "maas",
            "method": "update"
           },
           {
            "args": [
             {
              "visible": [
               false,
               false,
               false,
               false,
               false,
               false,
               false,
               false,
               false,
               false,
               true
              ]
             },
             {
              "title": "simpsons_index"
             }
            ],
            "label": "simpsons_index",
            "method": "update"
           }
          ],
          "direction": "down",
          "type": "dropdown"
         }
        ]
       }
      }
     },
     "metadata": {},
     "output_type": "display_data"
    }
   ],
   "source": [
    "metrics_analysis_visualization = WritingStyleMetricsAnalysisVisualization(\n",
    "    settings=settings, \n",
    "    metrics_analysis_results=metrics_analysis_results,\n",
    "    feature_extractor=feature_extractor\n",
    ")\n",
    "metrics_analysis_visualization.visualize()"
   ]
  },
  {
   "cell_type": "code",
   "execution_count": 11,
   "metadata": {},
   "outputs": [
    {
     "data": {
      "text/html": [
       "\n",
       "        <iframe\n",
       "            width=\"100%\"\n",
       "            height=\"800\"\n",
       "            src=\"http://127.0.0.1:8000/\"\n",
       "            frameborder=\"0\"\n",
       "            allowfullscreen\n",
       "            \n",
       "        ></iframe>\n",
       "        "
      ],
      "text/plain": [
       "<IPython.lib.display.IFrame at 0x16a8d7879e0>"
      ]
     },
     "metadata": {},
     "output_type": "display_data"
    },
    {
     "name": "stderr",
     "output_type": "stream",
     "text": [
      "c:\\Projects\\Thesis\\src\\analysis\\metrics\\writing_style\\visualization\\writing_style_metrics_analysis_visualization.py:171: RuntimeWarning:\n",
      "\n",
      "invalid value encountered in scalar divide\n",
      "\n",
      "[2024-10-30 23:05:20,276] ERROR in app: Exception on /_dash-update-component [POST]\n",
      "Traceback (most recent call last):\n",
      "  File \"c:\\Projects\\Thesis\\.venv\\Lib\\site-packages\\flask\\app.py\", line 1473, in wsgi_app\n",
      "    response = self.full_dispatch_request()\n",
      "               ^^^^^^^^^^^^^^^^^^^^^^^^^^^^\n",
      "  File \"c:\\Projects\\Thesis\\.venv\\Lib\\site-packages\\flask\\app.py\", line 882, in full_dispatch_request\n",
      "    rv = self.handle_user_exception(e)\n",
      "         ^^^^^^^^^^^^^^^^^^^^^^^^^^^^^\n",
      "  File \"c:\\Projects\\Thesis\\.venv\\Lib\\site-packages\\flask\\app.py\", line 880, in full_dispatch_request\n",
      "    rv = self.dispatch_request()\n",
      "         ^^^^^^^^^^^^^^^^^^^^^^^\n",
      "  File \"c:\\Projects\\Thesis\\.venv\\Lib\\site-packages\\flask\\app.py\", line 865, in dispatch_request\n",
      "    return self.ensure_sync(self.view_functions[rule.endpoint])(**view_args)  # type: ignore[no-any-return]\n",
      "           ^^^^^^^^^^^^^^^^^^^^^^^^^^^^^^^^^^^^^^^^^^^^^^^^^^^^^^^^^^^^^^^^^\n",
      "  File \"c:\\Projects\\Thesis\\.venv\\Lib\\site-packages\\dash\\dash.py\", line 1376, in dispatch\n",
      "    ctx.run(\n",
      "  File \"c:\\Projects\\Thesis\\.venv\\Lib\\site-packages\\dash\\_callback.py\", line 514, in add_context\n",
      "    raise err\n",
      "  File \"c:\\Projects\\Thesis\\.venv\\Lib\\site-packages\\dash\\_callback.py\", line 503, in add_context\n",
      "    output_value = _invoke_callback(func, *func_args, **func_kwargs)\n",
      "                   ^^^^^^^^^^^^^^^^^^^^^^^^^^^^^^^^^^^^^^^^^^^^^^^^^\n",
      "  File \"c:\\Projects\\Thesis\\.venv\\Lib\\site-packages\\dash\\_callback.py\", line 43, in _invoke_callback\n",
      "    return func(*args, **kwargs)  # %% callback invoked %%\n",
      "           ^^^^^^^^^^^^^^^^^^^^^\n",
      "  File \"c:\\Projects\\Thesis\\src\\analysis\\metrics\\writing_style\\visualization\\writing_style_metrics_analysis_visualization.py\", line 147, in update_relative_bars\n",
      "    else AnalysisVisualization.COLORS[\"positive\"]\n",
      "        ~~~~~~~~~~~~~~~~~~~~~~~~~~~~^^^^^^^^^^^^\n",
      "TypeError: list indices must be integers or slices, not str\n"
     ]
    }
   ],
   "source": [
    "metrics_analysis_visualization.dash_app.run(port=8000)"
   ]
  },
  {
   "cell_type": "code",
   "execution_count": 12,
   "metadata": {},
   "outputs": [],
   "source": [
    "pca_analysis_results = WritingStylePCAAnalysis(\n",
    "    settings=settings,\n",
    "    feature_extractor=feature_extractor\n",
    ").get_pca_analysis(metrics_analysis_results=metrics_analysis_results)"
   ]
  },
  {
   "cell_type": "code",
   "execution_count": 13,
   "metadata": {},
   "outputs": [
    {
     "data": {
      "application/vnd.plotly.v1+json": {
       "config": {
        "plotlyServerURL": "https://plot.ly"
       },
       "data": [
        {
         "marker": {
          "color": "skyblue"
         },
         "name": "Top Features for PC1[0.29]",
         "orientation": "h",
         "type": "bar",
         "x": [
          0.22866375347615517,
          0.22836417848689333,
          0.21917796479976526,
          0.21681749741442385,
          0.21616388714505738,
          0.21593311201331258,
          0.21592279981777723,
          0.21394795088420193,
          0.2050279088116419,
          0.20041326822371122
         ],
         "xaxis": "x",
         "y": [
          "of",
          "flesch_reading_ease",
          "yules_characteristic_k",
          "simpsons_index",
          "flesch_kincaid_grade_level",
          "the",
          "gunning_fog_index",
          "average_syllables_per_word",
          "average_word_length",
          "said"
         ],
         "yaxis": "y"
        },
        {
         "marker": {
          "color": "skyblue"
         },
         "name": "Top Features for PC2[0.09]",
         "orientation": "h",
         "type": "bar",
         "x": [
          0.3193324664128446,
          0.29260509585517036,
          0.27978621277435883,
          0.26327571235860847,
          0.2584187872918645,
          0.24019709512703102,
          0.22488090970145833,
          0.21572403275271018,
          0.20610514188397203,
          0.20580189190728757
         ],
         "xaxis": "x2",
         "y": [
          ",",
          "a",
          "and",
          "to",
          "in",
          "as",
          "average_sentence_length",
          "unique_word_count",
          "gunning_fog_index",
          "flesch_kincaid_grade_level"
         ],
         "yaxis": "y2"
        }
       ],
       "layout": {
        "annotations": [
         {
          "font": {
           "size": 16
          },
          "showarrow": false,
          "text": "Top Features for PC1[0.29]",
          "x": 0.1875,
          "xanchor": "center",
          "xref": "paper",
          "y": 1,
          "yanchor": "bottom",
          "yref": "paper"
         },
         {
          "font": {
           "size": 16
          },
          "showarrow": false,
          "text": "Top Features for PC2[0.09]",
          "x": 0.8125,
          "xanchor": "center",
          "xref": "paper",
          "y": 1,
          "yanchor": "bottom",
          "yref": "paper"
         }
        ],
        "showlegend": false,
        "template": {
         "data": {
          "bar": [
           {
            "error_x": {
             "color": "#2a3f5f"
            },
            "error_y": {
             "color": "#2a3f5f"
            },
            "marker": {
             "line": {
              "color": "#E5ECF6",
              "width": 0.5
             },
             "pattern": {
              "fillmode": "overlay",
              "size": 10,
              "solidity": 0.2
             }
            },
            "type": "bar"
           }
          ],
          "barpolar": [
           {
            "marker": {
             "line": {
              "color": "#E5ECF6",
              "width": 0.5
             },
             "pattern": {
              "fillmode": "overlay",
              "size": 10,
              "solidity": 0.2
             }
            },
            "type": "barpolar"
           }
          ],
          "carpet": [
           {
            "aaxis": {
             "endlinecolor": "#2a3f5f",
             "gridcolor": "white",
             "linecolor": "white",
             "minorgridcolor": "white",
             "startlinecolor": "#2a3f5f"
            },
            "baxis": {
             "endlinecolor": "#2a3f5f",
             "gridcolor": "white",
             "linecolor": "white",
             "minorgridcolor": "white",
             "startlinecolor": "#2a3f5f"
            },
            "type": "carpet"
           }
          ],
          "choropleth": [
           {
            "colorbar": {
             "outlinewidth": 0,
             "ticks": ""
            },
            "type": "choropleth"
           }
          ],
          "contour": [
           {
            "colorbar": {
             "outlinewidth": 0,
             "ticks": ""
            },
            "colorscale": [
             [
              0,
              "#0d0887"
             ],
             [
              0.1111111111111111,
              "#46039f"
             ],
             [
              0.2222222222222222,
              "#7201a8"
             ],
             [
              0.3333333333333333,
              "#9c179e"
             ],
             [
              0.4444444444444444,
              "#bd3786"
             ],
             [
              0.5555555555555556,
              "#d8576b"
             ],
             [
              0.6666666666666666,
              "#ed7953"
             ],
             [
              0.7777777777777778,
              "#fb9f3a"
             ],
             [
              0.8888888888888888,
              "#fdca26"
             ],
             [
              1,
              "#f0f921"
             ]
            ],
            "type": "contour"
           }
          ],
          "contourcarpet": [
           {
            "colorbar": {
             "outlinewidth": 0,
             "ticks": ""
            },
            "type": "contourcarpet"
           }
          ],
          "heatmap": [
           {
            "colorbar": {
             "outlinewidth": 0,
             "ticks": ""
            },
            "colorscale": [
             [
              0,
              "#0d0887"
             ],
             [
              0.1111111111111111,
              "#46039f"
             ],
             [
              0.2222222222222222,
              "#7201a8"
             ],
             [
              0.3333333333333333,
              "#9c179e"
             ],
             [
              0.4444444444444444,
              "#bd3786"
             ],
             [
              0.5555555555555556,
              "#d8576b"
             ],
             [
              0.6666666666666666,
              "#ed7953"
             ],
             [
              0.7777777777777778,
              "#fb9f3a"
             ],
             [
              0.8888888888888888,
              "#fdca26"
             ],
             [
              1,
              "#f0f921"
             ]
            ],
            "type": "heatmap"
           }
          ],
          "heatmapgl": [
           {
            "colorbar": {
             "outlinewidth": 0,
             "ticks": ""
            },
            "colorscale": [
             [
              0,
              "#0d0887"
             ],
             [
              0.1111111111111111,
              "#46039f"
             ],
             [
              0.2222222222222222,
              "#7201a8"
             ],
             [
              0.3333333333333333,
              "#9c179e"
             ],
             [
              0.4444444444444444,
              "#bd3786"
             ],
             [
              0.5555555555555556,
              "#d8576b"
             ],
             [
              0.6666666666666666,
              "#ed7953"
             ],
             [
              0.7777777777777778,
              "#fb9f3a"
             ],
             [
              0.8888888888888888,
              "#fdca26"
             ],
             [
              1,
              "#f0f921"
             ]
            ],
            "type": "heatmapgl"
           }
          ],
          "histogram": [
           {
            "marker": {
             "pattern": {
              "fillmode": "overlay",
              "size": 10,
              "solidity": 0.2
             }
            },
            "type": "histogram"
           }
          ],
          "histogram2d": [
           {
            "colorbar": {
             "outlinewidth": 0,
             "ticks": ""
            },
            "colorscale": [
             [
              0,
              "#0d0887"
             ],
             [
              0.1111111111111111,
              "#46039f"
             ],
             [
              0.2222222222222222,
              "#7201a8"
             ],
             [
              0.3333333333333333,
              "#9c179e"
             ],
             [
              0.4444444444444444,
              "#bd3786"
             ],
             [
              0.5555555555555556,
              "#d8576b"
             ],
             [
              0.6666666666666666,
              "#ed7953"
             ],
             [
              0.7777777777777778,
              "#fb9f3a"
             ],
             [
              0.8888888888888888,
              "#fdca26"
             ],
             [
              1,
              "#f0f921"
             ]
            ],
            "type": "histogram2d"
           }
          ],
          "histogram2dcontour": [
           {
            "colorbar": {
             "outlinewidth": 0,
             "ticks": ""
            },
            "colorscale": [
             [
              0,
              "#0d0887"
             ],
             [
              0.1111111111111111,
              "#46039f"
             ],
             [
              0.2222222222222222,
              "#7201a8"
             ],
             [
              0.3333333333333333,
              "#9c179e"
             ],
             [
              0.4444444444444444,
              "#bd3786"
             ],
             [
              0.5555555555555556,
              "#d8576b"
             ],
             [
              0.6666666666666666,
              "#ed7953"
             ],
             [
              0.7777777777777778,
              "#fb9f3a"
             ],
             [
              0.8888888888888888,
              "#fdca26"
             ],
             [
              1,
              "#f0f921"
             ]
            ],
            "type": "histogram2dcontour"
           }
          ],
          "mesh3d": [
           {
            "colorbar": {
             "outlinewidth": 0,
             "ticks": ""
            },
            "type": "mesh3d"
           }
          ],
          "parcoords": [
           {
            "line": {
             "colorbar": {
              "outlinewidth": 0,
              "ticks": ""
             }
            },
            "type": "parcoords"
           }
          ],
          "pie": [
           {
            "automargin": true,
            "type": "pie"
           }
          ],
          "scatter": [
           {
            "fillpattern": {
             "fillmode": "overlay",
             "size": 10,
             "solidity": 0.2
            },
            "type": "scatter"
           }
          ],
          "scatter3d": [
           {
            "line": {
             "colorbar": {
              "outlinewidth": 0,
              "ticks": ""
             }
            },
            "marker": {
             "colorbar": {
              "outlinewidth": 0,
              "ticks": ""
             }
            },
            "type": "scatter3d"
           }
          ],
          "scattercarpet": [
           {
            "marker": {
             "colorbar": {
              "outlinewidth": 0,
              "ticks": ""
             }
            },
            "type": "scattercarpet"
           }
          ],
          "scattergeo": [
           {
            "marker": {
             "colorbar": {
              "outlinewidth": 0,
              "ticks": ""
             }
            },
            "type": "scattergeo"
           }
          ],
          "scattergl": [
           {
            "marker": {
             "colorbar": {
              "outlinewidth": 0,
              "ticks": ""
             }
            },
            "type": "scattergl"
           }
          ],
          "scattermapbox": [
           {
            "marker": {
             "colorbar": {
              "outlinewidth": 0,
              "ticks": ""
             }
            },
            "type": "scattermapbox"
           }
          ],
          "scatterpolar": [
           {
            "marker": {
             "colorbar": {
              "outlinewidth": 0,
              "ticks": ""
             }
            },
            "type": "scatterpolar"
           }
          ],
          "scatterpolargl": [
           {
            "marker": {
             "colorbar": {
              "outlinewidth": 0,
              "ticks": ""
             }
            },
            "type": "scatterpolargl"
           }
          ],
          "scatterternary": [
           {
            "marker": {
             "colorbar": {
              "outlinewidth": 0,
              "ticks": ""
             }
            },
            "type": "scatterternary"
           }
          ],
          "surface": [
           {
            "colorbar": {
             "outlinewidth": 0,
             "ticks": ""
            },
            "colorscale": [
             [
              0,
              "#0d0887"
             ],
             [
              0.1111111111111111,
              "#46039f"
             ],
             [
              0.2222222222222222,
              "#7201a8"
             ],
             [
              0.3333333333333333,
              "#9c179e"
             ],
             [
              0.4444444444444444,
              "#bd3786"
             ],
             [
              0.5555555555555556,
              "#d8576b"
             ],
             [
              0.6666666666666666,
              "#ed7953"
             ],
             [
              0.7777777777777778,
              "#fb9f3a"
             ],
             [
              0.8888888888888888,
              "#fdca26"
             ],
             [
              1,
              "#f0f921"
             ]
            ],
            "type": "surface"
           }
          ],
          "table": [
           {
            "cells": {
             "fill": {
              "color": "#EBF0F8"
             },
             "line": {
              "color": "white"
             }
            },
            "header": {
             "fill": {
              "color": "#C8D4E3"
             },
             "line": {
              "color": "white"
             }
            },
            "type": "table"
           }
          ]
         },
         "layout": {
          "annotationdefaults": {
           "arrowcolor": "#2a3f5f",
           "arrowhead": 0,
           "arrowwidth": 1
          },
          "autotypenumbers": "strict",
          "coloraxis": {
           "colorbar": {
            "outlinewidth": 0,
            "ticks": ""
           }
          },
          "colorscale": {
           "diverging": [
            [
             0,
             "#8e0152"
            ],
            [
             0.1,
             "#c51b7d"
            ],
            [
             0.2,
             "#de77ae"
            ],
            [
             0.3,
             "#f1b6da"
            ],
            [
             0.4,
             "#fde0ef"
            ],
            [
             0.5,
             "#f7f7f7"
            ],
            [
             0.6,
             "#e6f5d0"
            ],
            [
             0.7,
             "#b8e186"
            ],
            [
             0.8,
             "#7fbc41"
            ],
            [
             0.9,
             "#4d9221"
            ],
            [
             1,
             "#276419"
            ]
           ],
           "sequential": [
            [
             0,
             "#0d0887"
            ],
            [
             0.1111111111111111,
             "#46039f"
            ],
            [
             0.2222222222222222,
             "#7201a8"
            ],
            [
             0.3333333333333333,
             "#9c179e"
            ],
            [
             0.4444444444444444,
             "#bd3786"
            ],
            [
             0.5555555555555556,
             "#d8576b"
            ],
            [
             0.6666666666666666,
             "#ed7953"
            ],
            [
             0.7777777777777778,
             "#fb9f3a"
            ],
            [
             0.8888888888888888,
             "#fdca26"
            ],
            [
             1,
             "#f0f921"
            ]
           ],
           "sequentialminus": [
            [
             0,
             "#0d0887"
            ],
            [
             0.1111111111111111,
             "#46039f"
            ],
            [
             0.2222222222222222,
             "#7201a8"
            ],
            [
             0.3333333333333333,
             "#9c179e"
            ],
            [
             0.4444444444444444,
             "#bd3786"
            ],
            [
             0.5555555555555556,
             "#d8576b"
            ],
            [
             0.6666666666666666,
             "#ed7953"
            ],
            [
             0.7777777777777778,
             "#fb9f3a"
            ],
            [
             0.8888888888888888,
             "#fdca26"
            ],
            [
             1,
             "#f0f921"
            ]
           ]
          },
          "colorway": [
           "#636efa",
           "#EF553B",
           "#00cc96",
           "#ab63fa",
           "#FFA15A",
           "#19d3f3",
           "#FF6692",
           "#B6E880",
           "#FF97FF",
           "#FECB52"
          ],
          "font": {
           "color": "#2a3f5f"
          },
          "geo": {
           "bgcolor": "white",
           "lakecolor": "white",
           "landcolor": "#E5ECF6",
           "showlakes": true,
           "showland": true,
           "subunitcolor": "white"
          },
          "hoverlabel": {
           "align": "left"
          },
          "hovermode": "closest",
          "mapbox": {
           "style": "light"
          },
          "paper_bgcolor": "white",
          "plot_bgcolor": "#E5ECF6",
          "polar": {
           "angularaxis": {
            "gridcolor": "white",
            "linecolor": "white",
            "ticks": ""
           },
           "bgcolor": "#E5ECF6",
           "radialaxis": {
            "gridcolor": "white",
            "linecolor": "white",
            "ticks": ""
           }
          },
          "scene": {
           "xaxis": {
            "backgroundcolor": "#E5ECF6",
            "gridcolor": "white",
            "gridwidth": 2,
            "linecolor": "white",
            "showbackground": true,
            "ticks": "",
            "zerolinecolor": "white"
           },
           "yaxis": {
            "backgroundcolor": "#E5ECF6",
            "gridcolor": "white",
            "gridwidth": 2,
            "linecolor": "white",
            "showbackground": true,
            "ticks": "",
            "zerolinecolor": "white"
           },
           "zaxis": {
            "backgroundcolor": "#E5ECF6",
            "gridcolor": "white",
            "gridwidth": 2,
            "linecolor": "white",
            "showbackground": true,
            "ticks": "",
            "zerolinecolor": "white"
           }
          },
          "shapedefaults": {
           "line": {
            "color": "#2a3f5f"
           }
          },
          "ternary": {
           "aaxis": {
            "gridcolor": "white",
            "linecolor": "white",
            "ticks": ""
           },
           "baxis": {
            "gridcolor": "white",
            "linecolor": "white",
            "ticks": ""
           },
           "bgcolor": "#E5ECF6",
           "caxis": {
            "gridcolor": "white",
            "linecolor": "white",
            "ticks": ""
           }
          },
          "title": {
           "x": 0.05
          },
          "xaxis": {
           "automargin": true,
           "gridcolor": "white",
           "linecolor": "white",
           "ticks": "",
           "title": {
            "standoff": 15
           },
           "zerolinecolor": "white",
           "zerolinewidth": 2
          },
          "yaxis": {
           "automargin": true,
           "gridcolor": "white",
           "linecolor": "white",
           "ticks": "",
           "title": {
            "standoff": 15
           },
           "zerolinecolor": "white",
           "zerolinewidth": 2
          }
         }
        },
        "title": {
         "text": "Top Features for Principal Components"
        },
        "xaxis": {
         "anchor": "y",
         "domain": [
          0,
          0.375
         ],
         "range": [
          0.20041326822371122,
          0.22866375347615517
         ],
         "title": {
          "text": "Importance"
         }
        },
        "xaxis2": {
         "anchor": "y2",
         "domain": [
          0.625,
          1
         ],
         "range": [
          0.20580189190728757,
          0.3193324664128446
         ]
        },
        "yaxis": {
         "anchor": "x",
         "autorange": "reversed",
         "domain": [
          0,
          1
         ],
         "title": {
          "text": "Features"
         }
        },
        "yaxis2": {
         "anchor": "x2",
         "autorange": "reversed",
         "domain": [
          0,
          1
         ]
        }
       }
      }
     },
     "metadata": {},
     "output_type": "display_data"
    }
   ],
   "source": [
    "pca_analysis_visualization = WritingStylePCAAnalysisVisualization(pca_analysis_results=pca_analysis_results)\n",
    "pca_analysis_visualization.visualize_top_features(pca_analysis_results)"
   ]
  },
  {
   "cell_type": "code",
   "execution_count": 14,
   "metadata": {},
   "outputs": [
    {
     "data": {
      "text/html": [
       "\n",
       "        <iframe\n",
       "            width=\"100%\"\n",
       "            height=\"800\"\n",
       "            src=\"http://127.0.0.1:8001/\"\n",
       "            frameborder=\"0\"\n",
       "            allowfullscreen\n",
       "            \n",
       "        ></iframe>\n",
       "        "
      ],
      "text/plain": [
       "<IPython.lib.display.IFrame at 0x16a88cf1730>"
      ]
     },
     "metadata": {},
     "output_type": "display_data"
    }
   ],
   "source": [
    "pca_analysis_visualization.dash_app.run(port=8001)"
   ]
  },
  {
   "cell_type": "code",
   "execution_count": null,
   "metadata": {},
   "outputs": [],
   "source": [
    "if os.path.exists(settings.paths.ws_dataset_dump_file):\n",
    "    os.remove(settings.paths.ws_dataset_dump_file)\n",
    "with open(settings.paths.ws_dataset_dump_file, 'wb') as file:\n",
    "    dill.dump(\n",
    "        obj={\n",
    "            \"preprocessing_results\": preprocessing_results,\n",
    "            \"metrics_analysis_results\": metrics_analysis_results,\n",
    "            \"feature_extractor\": feature_extractor,\n",
    "            \"pca_analysis_results\": pca_analysis_results,\n",
    "        },  \n",
    "        file=file\n",
    "    )"
   ]
  }
 ],
 "metadata": {
  "kernelspec": {
   "display_name": ".venv",
   "language": "python",
   "name": "python3"
  },
  "language_info": {
   "codemirror_mode": {
    "name": "ipython",
    "version": 3
   },
   "file_extension": ".py",
   "mimetype": "text/x-python",
   "name": "python",
   "nbconvert_exporter": "python",
   "pygments_lexer": "ipython3",
   "version": "3.12.1"
  }
 },
 "nbformat": 4,
 "nbformat_minor": 2
}
