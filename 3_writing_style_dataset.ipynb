{
 "cells": [
  {
   "cell_type": "code",
   "execution_count": null,
   "metadata": {},
   "outputs": [],
   "source": [
    "%load_ext autoreload   \n",
    "%autoreload 2\n",
    "\n",
    "from src import *\n",
    "import dill\n",
    "import nltk\n",
    "import os\n",
    "nltk.download('all')"
   ]
  },
  {
   "cell_type": "code",
   "execution_count": null,
   "metadata": {},
   "outputs": [],
   "source": [
    "settings = Settings()"
   ]
  },
  {
   "cell_type": "code",
   "execution_count": null,
   "metadata": {},
   "outputs": [],
   "source": [
    "dump_dict = None\n",
    "with open(settings.paths.ws_dataset_dump_file, 'rb') as file:\n",
    "    dump_dict = dill.load(file)\n",
    "    \n",
    "dataset = dump_dict['dataset']\n",
    "preprocessing_results = dump_dict['preprocessing_results']\n",
    "metrics_analysis_results = dump_dict['metrics_analysis_results']\n",
    "feature_extractor = dump_dict['feature_extractor']\n",
    "entropy_analysis_results = dump_dict['entropy_analysis_results']\n",
    "pca_analysis_results = dump_dict['pca_analysis_results']"
   ]
  },
  {
   "cell_type": "code",
   "execution_count": null,
   "metadata": {},
   "outputs": [],
   "source": [
    "dataset = WritingStyleDataset(settings)\n",
    "dataset.load()"
   ]
  },
  {
   "cell_type": "code",
   "execution_count": null,
   "metadata": {},
   "outputs": [],
   "source": [
    "dataset.clean()"
   ]
  },
  {
   "cell_type": "code",
   "execution_count": null,
   "metadata": {},
   "outputs": [],
   "source": [
    "print(f\"Text removed while cleaning: {WritingStyleMetadataAnalysis.get_percentage_of_removed_text(dataset)}%.\")"
   ]
  },
  {
   "cell_type": "code",
   "execution_count": null,
   "metadata": {},
   "outputs": [],
   "source": [
    "preprocessing_results = WritingStylePreprocessing(settings).preprocess(dataset)\n",
    "preprocessing_results.info()"
   ]
  },
  {
   "cell_type": "code",
   "execution_count": null,
   "metadata": {},
   "outputs": [],
   "source": [
    "metrics_analysis_results = WritingStyleMetricsAnalysis().analyze(preprocessing_results)"
   ]
  },
  {
   "cell_type": "code",
   "execution_count": null,
   "metadata": {},
   "outputs": [],
   "source": [
    "feature_extractor = FeatureExtractor(\n",
    "    settings=settings, \n",
    "    metrics_analysis_results=metrics_analysis_results\n",
    ")\n",
    "feature_extractor.get_feature_names()"
   ]
  },
  {
   "cell_type": "code",
   "execution_count": null,
   "metadata": {},
   "outputs": [],
   "source": [
    "metrics_analysis_visualization = WritingStyleMetricsAnalysisVisualization(\n",
    "    settings=settings, \n",
    "    metrics_analysis_results=metrics_analysis_results,\n",
    "    feature_extractor=feature_extractor\n",
    ")\n",
    "metrics_analysis_visualization.visualize()"
   ]
  },
  {
   "cell_type": "code",
   "execution_count": null,
   "metadata": {},
   "outputs": [],
   "source": [
    "metrics_analysis_visualization.dash_app.run(port=8000)"
   ]
  },
  {
   "cell_type": "code",
   "execution_count": null,
   "metadata": {},
   "outputs": [],
   "source": [
    "entropy_analysis = WritingStyleEntropyAnalysis(\n",
    "    settings=settings,\n",
    "    feature_extractor=feature_extractor,\n",
    ")\n",
    "entropy_analysis_results = entropy_analysis.analyze(\n",
    "    preprocessing_results=preprocessing_results,\n",
    "    metrics_analysis_results=metrics_analysis_results\n",
    ")"
   ]
  },
  {
   "cell_type": "code",
   "execution_count": null,
   "metadata": {},
   "outputs": [],
   "source": [
    "entropy_analysis = WritingStyleEntropyAnalysis(\n",
    "    settings=settings,\n",
    "    feature_extractor=feature_extractor,\n",
    ")\n",
    "entropy_analysis._calculate_entropies_average_data(entropy_results=entropy_analysis_results)"
   ]
  },
  {
   "cell_type": "code",
   "execution_count": 15,
   "metadata": {},
   "outputs": [
    {
     "data": {
      "application/vnd.plotly.v1+json": {
       "config": {
        "plotlyServerURL": "https://plot.ly"
       },
       "data": [
        {
         "colorscale": [
          [
           0,
           "#440154"
          ],
          [
           0.1111111111111111,
           "#482878"
          ],
          [
           0.2222222222222222,
           "#3e4989"
          ],
          [
           0.3333333333333333,
           "#31688e"
          ],
          [
           0.4444444444444444,
           "#26828e"
          ],
          [
           0.5555555555555556,
           "#1f9e89"
          ],
          [
           0.6666666666666666,
           "#35b779"
          ],
          [
           0.7777777777777778,
           "#6ece58"
          ],
          [
           0.8888888888888888,
           "#b5de2b"
          ],
          [
           1,
           "#fde725"
          ]
         ],
         "type": "heatmap",
         "x": [
          "unique_word_count",
          "average_word_length",
          "average_sentence_length",
          "average_syllables_per_word",
          "flesch_reading_ease",
          "flesch_kincaid_grade_level",
          "gunning_fog_index",
          "yules_characteristic_k",
          "herdans_c",
          "maas",
          "simpsons_index",
          ")",
          "*",
          "\"",
          "-",
          ":",
          "%",
          "!",
          ",",
          "(",
          "_",
          "?",
          "'",
          "/",
          "#",
          "[",
          ".",
          ";",
          "said",
          "to",
          "with",
          "as",
          "is",
          "you",
          "the",
          "she",
          "a",
          "their",
          "my",
          "was",
          "our",
          "her",
          "in",
          "of",
          "his",
          "he",
          "its",
          "it",
          "that",
          "and",
          "sequence"
         ],
         "y": [
          "books",
          "gpt-3.5-turbo-0125",
          "gpt-4o",
          "gemini-1.5-flash",
          "open-mixtral-8x7b",
          "claude-3-haiku-20240307"
         ],
         "z": [
          [
           5,
           6.473931188332412,
           7.769387071858584,
           7.22881869049588,
           7.058893689053568,
           7.421463768438277,
           7.643856189774724,
           6.906890595608519,
           4.8025539357937825,
           4.130786607535354,
           6.584962500721156,
           4.943416471633633,
           0.22741049610307254,
           8.421463768438276,
           6.528378972354789,
           3.753085259529483,
           0.0072315692310758635,
           6.980891177052295,
           4.980891177052295,
           4.925037942318778,
           0.006627552039548712,
           7.058893689053568,
           7.906890595608519,
           0.008440362800652882,
           0.1137750403341709,
           0.078436721678033,
           6.184424571137427,
           7.906890595608519,
           7.058893689053568,
           4.599462070416271,
           5.370837695368309,
           4.6289058483087535,
           5.643856189774724,
           5.980891177052295,
           7.769387071858584,
           8.906890595608518,
           6.584962500721156,
           5.500898235932682,
           4.906890595608519,
           7.421463768438277,
           4.853779259148956,
           7.643856189774724,
           4.819427754358179,
           7.22881869049588,
           5.528378972354789,
           7.906890595608519,
           4.19539568895843,
           6.141355849245541,
           5.500898235932682,
           5.500898235932682,
           7.531574911877513
          ],
          [
           4.556393348524385,
           5.674229838818244,
           4.6896598793878495,
           5.7369655941662066,
           5.705256734438868,
           5.206450877467426,
           4.836501267717121,
           4.962032149800979,
           4.298081352932995,
           3.606766871039505,
           4.447458976971221,
           0.3592248472550969,
           0.22741049610307254,
           4.8712666858777975,
           3.043943347587597,
           2.263034405833794,
           0.0072315692310758635,
           1.0816137655536522,
           4.980891177052295,
           0.3592248472550969,
           0.006627552039548712,
           3.651389862460132,
           5.019365324866931,
           0.008440362800652882,
           0.1137750403341709,
           0.078436721678033,
           3.1098776177723737,
           0.864684035487829,
           3.043943347587597,
           4.853779259148956,
           5.141355849245541,
           5.058893689053568,
           4.769387071858584,
           5.298081352932995,
           4.836501267717121,
           4.34617564113404,
           5.22881869049588,
           6.421463768438277,
           5.528378972354789,
           5.34617564113404,
           6.370837695368309,
           5.019365324866931,
           6.370837695368309,
           5.8712666858777975,
           4.2746223801090055,
           3.934197941604254,
           4.556393348524385,
           5.643856189774724,
           5.370837695368309,
           5.206450877467426,
           7.1475070672145335
          ],
          [
           5.8712666858777975,
           6.141355849245541,
           4.514573172829758,
           6.019365324866931,
           5.395928676331139,
           5.058893689053568,
           5.120294233717712,
           4.962032149800979,
           6.421463768438277,
           5.705256734438868,
           4.434402824145775,
           0.3592248472550969,
           0.22741049610307254,
           4.206450877467426,
           3.173536254994691,
           3.2458251158015705,
           0.0072315692310758635,
           2.6742298388182433,
           4.943416471633633,
           0.3592248472550969,
           0.006627552039548712,
           3.862496476250065,
           2.79002683791762,
           0.008440362800652882,
           0.1137750403341709,
           0.078436721678033,
           3.3646325458416007,
           3.802553935793783,
           1.5741826619679136,
           6.2746223801090055,
           5.614108846380673,
           5.058893689053568,
           6.141355849245541,
           4.514573172829758,
           4.925037942318778,
           4.130786607535354,
           5.22881869049588,
           5.251538766995965,
           6.705256734438868,
           5.206450877467426,
           5.298081352932995,
           4.888968687611256,
           5.206450877467426,
           5.674229838818244,
           4.2746223801090055,
           4.819427754358179,
           4.15200309344505,
           4.6896598793878495,
           4.819427754358179,
           5.298081352932995,
           7.34004321479097
          ],
          [
           5.120294233717712,
           5.500898235932682,
           5.019365324866931,
           5.8712666858777975,
           5.7369655941662066,
           5.8025539357937825,
           5.473931188332412,
           5.395928676331139,
           4.473931188332412,
           3.9159357352115256,
           4.705256734438868,
           0.3592248472550969,
           0.22741049610307254,
           5.7369655941662066,
           2.330973234490369,
           2.263034405833794,
           0.0072315692310758635,
           4.500898235932682,
           6.22881869049588,
           0.3592248472550969,
           0.006627552039548712,
           3.651389862460132,
           3.819427754358179,
           0.008440362800652882,
           0.1137750403341709,
           0.078436721678033,
           3.934197941604254,
           0.864684035487829,
           2.599462070416271,
           6.836501267717121,
           6.141355849245541,
           5.705256734438868,
           4.184424571137427,
           5.298081352932995,
           4.943416471633633,
           3.3461756411340398,
           7.22881869049588,
           6.584962500721156,
           5.079071570991199,
           5.528378972354789,
           5.321928094887363,
           3.810966175609983,
           6.019365324866931,
           5.769387071858584,
           5.038994131615864,
           5.038994131615864,
           5.038994131615864,
           5.8712666858777975,
           4.556393348524385,
           5.447458976971221,
           5.937779488588758
          ],
          [
           5.556393348524385,
           5.556393348524385,
           6.370837695368309,
           5.321928094887363,
           5.395928676331139,
           5.141355849245541,
           5.370837695368309,
           5.120294233717712,
           6.421463768438277,
           5.643856189774724,
           4.6589630821649335,
           0.3592248472550969,
           0.22741049610307254,
           3.402270203204966,
           2.7052567344388683,
           2.6326289343514704,
           0.0072315692310758635,
           1.0816137655536522,
           4.395928676331139,
           0.3592248472550969,
           0.006627552039548712,
           5.019365324866931,
           2.79002683791762,
           0.008440362800652882,
           0.1137750403341709,
           0.078436721678033,
           3.971430847803229,
           0.864684035487829,
           2.599462070416271,
           5.058893689053568,
           5.395928676331139,
           4.8025539357937825,
           7.141355849245541,
           5.019365324866931,
           4.8025539357937825,
           4.130786607535354,
           5.058893689053568,
           5.836501267717121,
           5.447458976971221,
           5.395928676331139,
           7.643856189774724,
           1.3943476405116588,
           5.321928094887363,
           5.2746223801090055,
           4.542318163312663,
           3.934197941604254,
           3.971430847803229,
           5,
           6.058893689053568,
           5.370837695368309,
           6.2433348467980885
          ],
          [
           4.434402824145775,
           5.906890595608519,
           6.643856189774724,
           5.8025539357937825,
           6.22881869049588,
           6.184424571137427,
           6.019365324866931,
           5.8025539357937825,
           4.298081352932995,
           3.606766871039505,
           5.206450877467426,
           0.3592248472550969,
           0.22741049610307254,
           4.643856189774724,
           3.2980813529329946,
           2.6326289343514704,
           0.0072315692310758635,
           1.0816137655536522,
           4.542318163312663,
           0.3592248472550969,
           0.006627552039548712,
           4.473931188332412,
           2.545824106814198,
           0.008440362800652882,
           0.1137750403341709,
           0.078436721678033,
           3.971430847803229,
           0.864684035487829,
           2.599462070416271,
           4.8025539357937825,
           5.058893689053568,
           4.8025539357937825,
           4.321928094887363,
           5.500898235932682,
           6.370837695368309,
           1.1830590291131977,
           5.058893689053568,
           5.2746223801090055,
           5,
           5.019365324866931,
           6.836501267717121,
           1.3943476405116588,
           5.321928094887363,
           6.370837695368309,
           5.038994131615864,
           4.643856189774724,
           5.038994131615864,
           4.980891177052295,
           6.058893689053568,
           5.019365324866931,
           6.388554111857142
          ]
         ]
        }
       ],
       "layout": {
        "template": {
         "data": {
          "bar": [
           {
            "error_x": {
             "color": "#2a3f5f"
            },
            "error_y": {
             "color": "#2a3f5f"
            },
            "marker": {
             "line": {
              "color": "#E5ECF6",
              "width": 0.5
             },
             "pattern": {
              "fillmode": "overlay",
              "size": 10,
              "solidity": 0.2
             }
            },
            "type": "bar"
           }
          ],
          "barpolar": [
           {
            "marker": {
             "line": {
              "color": "#E5ECF6",
              "width": 0.5
             },
             "pattern": {
              "fillmode": "overlay",
              "size": 10,
              "solidity": 0.2
             }
            },
            "type": "barpolar"
           }
          ],
          "carpet": [
           {
            "aaxis": {
             "endlinecolor": "#2a3f5f",
             "gridcolor": "white",
             "linecolor": "white",
             "minorgridcolor": "white",
             "startlinecolor": "#2a3f5f"
            },
            "baxis": {
             "endlinecolor": "#2a3f5f",
             "gridcolor": "white",
             "linecolor": "white",
             "minorgridcolor": "white",
             "startlinecolor": "#2a3f5f"
            },
            "type": "carpet"
           }
          ],
          "choropleth": [
           {
            "colorbar": {
             "outlinewidth": 0,
             "ticks": ""
            },
            "type": "choropleth"
           }
          ],
          "contour": [
           {
            "colorbar": {
             "outlinewidth": 0,
             "ticks": ""
            },
            "colorscale": [
             [
              0,
              "#0d0887"
             ],
             [
              0.1111111111111111,
              "#46039f"
             ],
             [
              0.2222222222222222,
              "#7201a8"
             ],
             [
              0.3333333333333333,
              "#9c179e"
             ],
             [
              0.4444444444444444,
              "#bd3786"
             ],
             [
              0.5555555555555556,
              "#d8576b"
             ],
             [
              0.6666666666666666,
              "#ed7953"
             ],
             [
              0.7777777777777778,
              "#fb9f3a"
             ],
             [
              0.8888888888888888,
              "#fdca26"
             ],
             [
              1,
              "#f0f921"
             ]
            ],
            "type": "contour"
           }
          ],
          "contourcarpet": [
           {
            "colorbar": {
             "outlinewidth": 0,
             "ticks": ""
            },
            "type": "contourcarpet"
           }
          ],
          "heatmap": [
           {
            "colorbar": {
             "outlinewidth": 0,
             "ticks": ""
            },
            "colorscale": [
             [
              0,
              "#0d0887"
             ],
             [
              0.1111111111111111,
              "#46039f"
             ],
             [
              0.2222222222222222,
              "#7201a8"
             ],
             [
              0.3333333333333333,
              "#9c179e"
             ],
             [
              0.4444444444444444,
              "#bd3786"
             ],
             [
              0.5555555555555556,
              "#d8576b"
             ],
             [
              0.6666666666666666,
              "#ed7953"
             ],
             [
              0.7777777777777778,
              "#fb9f3a"
             ],
             [
              0.8888888888888888,
              "#fdca26"
             ],
             [
              1,
              "#f0f921"
             ]
            ],
            "type": "heatmap"
           }
          ],
          "heatmapgl": [
           {
            "colorbar": {
             "outlinewidth": 0,
             "ticks": ""
            },
            "colorscale": [
             [
              0,
              "#0d0887"
             ],
             [
              0.1111111111111111,
              "#46039f"
             ],
             [
              0.2222222222222222,
              "#7201a8"
             ],
             [
              0.3333333333333333,
              "#9c179e"
             ],
             [
              0.4444444444444444,
              "#bd3786"
             ],
             [
              0.5555555555555556,
              "#d8576b"
             ],
             [
              0.6666666666666666,
              "#ed7953"
             ],
             [
              0.7777777777777778,
              "#fb9f3a"
             ],
             [
              0.8888888888888888,
              "#fdca26"
             ],
             [
              1,
              "#f0f921"
             ]
            ],
            "type": "heatmapgl"
           }
          ],
          "histogram": [
           {
            "marker": {
             "pattern": {
              "fillmode": "overlay",
              "size": 10,
              "solidity": 0.2
             }
            },
            "type": "histogram"
           }
          ],
          "histogram2d": [
           {
            "colorbar": {
             "outlinewidth": 0,
             "ticks": ""
            },
            "colorscale": [
             [
              0,
              "#0d0887"
             ],
             [
              0.1111111111111111,
              "#46039f"
             ],
             [
              0.2222222222222222,
              "#7201a8"
             ],
             [
              0.3333333333333333,
              "#9c179e"
             ],
             [
              0.4444444444444444,
              "#bd3786"
             ],
             [
              0.5555555555555556,
              "#d8576b"
             ],
             [
              0.6666666666666666,
              "#ed7953"
             ],
             [
              0.7777777777777778,
              "#fb9f3a"
             ],
             [
              0.8888888888888888,
              "#fdca26"
             ],
             [
              1,
              "#f0f921"
             ]
            ],
            "type": "histogram2d"
           }
          ],
          "histogram2dcontour": [
           {
            "colorbar": {
             "outlinewidth": 0,
             "ticks": ""
            },
            "colorscale": [
             [
              0,
              "#0d0887"
             ],
             [
              0.1111111111111111,
              "#46039f"
             ],
             [
              0.2222222222222222,
              "#7201a8"
             ],
             [
              0.3333333333333333,
              "#9c179e"
             ],
             [
              0.4444444444444444,
              "#bd3786"
             ],
             [
              0.5555555555555556,
              "#d8576b"
             ],
             [
              0.6666666666666666,
              "#ed7953"
             ],
             [
              0.7777777777777778,
              "#fb9f3a"
             ],
             [
              0.8888888888888888,
              "#fdca26"
             ],
             [
              1,
              "#f0f921"
             ]
            ],
            "type": "histogram2dcontour"
           }
          ],
          "mesh3d": [
           {
            "colorbar": {
             "outlinewidth": 0,
             "ticks": ""
            },
            "type": "mesh3d"
           }
          ],
          "parcoords": [
           {
            "line": {
             "colorbar": {
              "outlinewidth": 0,
              "ticks": ""
             }
            },
            "type": "parcoords"
           }
          ],
          "pie": [
           {
            "automargin": true,
            "type": "pie"
           }
          ],
          "scatter": [
           {
            "fillpattern": {
             "fillmode": "overlay",
             "size": 10,
             "solidity": 0.2
            },
            "type": "scatter"
           }
          ],
          "scatter3d": [
           {
            "line": {
             "colorbar": {
              "outlinewidth": 0,
              "ticks": ""
             }
            },
            "marker": {
             "colorbar": {
              "outlinewidth": 0,
              "ticks": ""
             }
            },
            "type": "scatter3d"
           }
          ],
          "scattercarpet": [
           {
            "marker": {
             "colorbar": {
              "outlinewidth": 0,
              "ticks": ""
             }
            },
            "type": "scattercarpet"
           }
          ],
          "scattergeo": [
           {
            "marker": {
             "colorbar": {
              "outlinewidth": 0,
              "ticks": ""
             }
            },
            "type": "scattergeo"
           }
          ],
          "scattergl": [
           {
            "marker": {
             "colorbar": {
              "outlinewidth": 0,
              "ticks": ""
             }
            },
            "type": "scattergl"
           }
          ],
          "scattermapbox": [
           {
            "marker": {
             "colorbar": {
              "outlinewidth": 0,
              "ticks": ""
             }
            },
            "type": "scattermapbox"
           }
          ],
          "scatterpolar": [
           {
            "marker": {
             "colorbar": {
              "outlinewidth": 0,
              "ticks": ""
             }
            },
            "type": "scatterpolar"
           }
          ],
          "scatterpolargl": [
           {
            "marker": {
             "colorbar": {
              "outlinewidth": 0,
              "ticks": ""
             }
            },
            "type": "scatterpolargl"
           }
          ],
          "scatterternary": [
           {
            "marker": {
             "colorbar": {
              "outlinewidth": 0,
              "ticks": ""
             }
            },
            "type": "scatterternary"
           }
          ],
          "surface": [
           {
            "colorbar": {
             "outlinewidth": 0,
             "ticks": ""
            },
            "colorscale": [
             [
              0,
              "#0d0887"
             ],
             [
              0.1111111111111111,
              "#46039f"
             ],
             [
              0.2222222222222222,
              "#7201a8"
             ],
             [
              0.3333333333333333,
              "#9c179e"
             ],
             [
              0.4444444444444444,
              "#bd3786"
             ],
             [
              0.5555555555555556,
              "#d8576b"
             ],
             [
              0.6666666666666666,
              "#ed7953"
             ],
             [
              0.7777777777777778,
              "#fb9f3a"
             ],
             [
              0.8888888888888888,
              "#fdca26"
             ],
             [
              1,
              "#f0f921"
             ]
            ],
            "type": "surface"
           }
          ],
          "table": [
           {
            "cells": {
             "fill": {
              "color": "#EBF0F8"
             },
             "line": {
              "color": "white"
             }
            },
            "header": {
             "fill": {
              "color": "#C8D4E3"
             },
             "line": {
              "color": "white"
             }
            },
            "type": "table"
           }
          ]
         },
         "layout": {
          "annotationdefaults": {
           "arrowcolor": "#2a3f5f",
           "arrowhead": 0,
           "arrowwidth": 1
          },
          "autotypenumbers": "strict",
          "coloraxis": {
           "colorbar": {
            "outlinewidth": 0,
            "ticks": ""
           }
          },
          "colorscale": {
           "diverging": [
            [
             0,
             "#8e0152"
            ],
            [
             0.1,
             "#c51b7d"
            ],
            [
             0.2,
             "#de77ae"
            ],
            [
             0.3,
             "#f1b6da"
            ],
            [
             0.4,
             "#fde0ef"
            ],
            [
             0.5,
             "#f7f7f7"
            ],
            [
             0.6,
             "#e6f5d0"
            ],
            [
             0.7,
             "#b8e186"
            ],
            [
             0.8,
             "#7fbc41"
            ],
            [
             0.9,
             "#4d9221"
            ],
            [
             1,
             "#276419"
            ]
           ],
           "sequential": [
            [
             0,
             "#0d0887"
            ],
            [
             0.1111111111111111,
             "#46039f"
            ],
            [
             0.2222222222222222,
             "#7201a8"
            ],
            [
             0.3333333333333333,
             "#9c179e"
            ],
            [
             0.4444444444444444,
             "#bd3786"
            ],
            [
             0.5555555555555556,
             "#d8576b"
            ],
            [
             0.6666666666666666,
             "#ed7953"
            ],
            [
             0.7777777777777778,
             "#fb9f3a"
            ],
            [
             0.8888888888888888,
             "#fdca26"
            ],
            [
             1,
             "#f0f921"
            ]
           ],
           "sequentialminus": [
            [
             0,
             "#0d0887"
            ],
            [
             0.1111111111111111,
             "#46039f"
            ],
            [
             0.2222222222222222,
             "#7201a8"
            ],
            [
             0.3333333333333333,
             "#9c179e"
            ],
            [
             0.4444444444444444,
             "#bd3786"
            ],
            [
             0.5555555555555556,
             "#d8576b"
            ],
            [
             0.6666666666666666,
             "#ed7953"
            ],
            [
             0.7777777777777778,
             "#fb9f3a"
            ],
            [
             0.8888888888888888,
             "#fdca26"
            ],
            [
             1,
             "#f0f921"
            ]
           ]
          },
          "colorway": [
           "#636efa",
           "#EF553B",
           "#00cc96",
           "#ab63fa",
           "#FFA15A",
           "#19d3f3",
           "#FF6692",
           "#B6E880",
           "#FF97FF",
           "#FECB52"
          ],
          "font": {
           "color": "#2a3f5f"
          },
          "geo": {
           "bgcolor": "white",
           "lakecolor": "white",
           "landcolor": "#E5ECF6",
           "showlakes": true,
           "showland": true,
           "subunitcolor": "white"
          },
          "hoverlabel": {
           "align": "left"
          },
          "hovermode": "closest",
          "mapbox": {
           "style": "light"
          },
          "paper_bgcolor": "white",
          "plot_bgcolor": "#E5ECF6",
          "polar": {
           "angularaxis": {
            "gridcolor": "white",
            "linecolor": "white",
            "ticks": ""
           },
           "bgcolor": "#E5ECF6",
           "radialaxis": {
            "gridcolor": "white",
            "linecolor": "white",
            "ticks": ""
           }
          },
          "scene": {
           "xaxis": {
            "backgroundcolor": "#E5ECF6",
            "gridcolor": "white",
            "gridwidth": 2,
            "linecolor": "white",
            "showbackground": true,
            "ticks": "",
            "zerolinecolor": "white"
           },
           "yaxis": {
            "backgroundcolor": "#E5ECF6",
            "gridcolor": "white",
            "gridwidth": 2,
            "linecolor": "white",
            "showbackground": true,
            "ticks": "",
            "zerolinecolor": "white"
           },
           "zaxis": {
            "backgroundcolor": "#E5ECF6",
            "gridcolor": "white",
            "gridwidth": 2,
            "linecolor": "white",
            "showbackground": true,
            "ticks": "",
            "zerolinecolor": "white"
           }
          },
          "shapedefaults": {
           "line": {
            "color": "#2a3f5f"
           }
          },
          "ternary": {
           "aaxis": {
            "gridcolor": "white",
            "linecolor": "white",
            "ticks": ""
           },
           "baxis": {
            "gridcolor": "white",
            "linecolor": "white",
            "ticks": ""
           },
           "bgcolor": "#E5ECF6",
           "caxis": {
            "gridcolor": "white",
            "linecolor": "white",
            "ticks": ""
           }
          },
          "title": {
           "x": 0.05
          },
          "xaxis": {
           "automargin": true,
           "gridcolor": "white",
           "linecolor": "white",
           "ticks": "",
           "title": {
            "standoff": 15
           },
           "zerolinecolor": "white",
           "zerolinewidth": 2
          },
          "yaxis": {
           "automargin": true,
           "gridcolor": "white",
           "linecolor": "white",
           "ticks": "",
           "title": {
            "standoff": 15
           },
           "zerolinecolor": "white",
           "zerolinewidth": 2
          }
         }
        },
        "title": {
         "text": "Heatmap of average chunks entropies"
        },
        "xaxis": {
         "title": {
          "text": "Feature"
         }
        },
        "yaxis": {
         "title": {
          "text": "Collection"
         }
        }
       }
      }
     },
     "metadata": {},
     "output_type": "display_data"
    }
   ],
   "source": [
    "WritingStyleEntropyAnalysisVisualization(\n",
    "    entropy_analysis_results=entropy_analysis_results,\n",
    "    feature_extractor=feature_extractor\n",
    ").visualize()"
   ]
  },
  {
   "cell_type": "code",
   "execution_count": null,
   "metadata": {},
   "outputs": [],
   "source": [
    "# WritingStyleEntropyAnalysisVisualization(\n",
    "#     preprocessing_results=preprocessing_results,\n",
    "#     entropy_analysis_results=entropy_analysis_results\n",
    "# ).run(port=8001)"
   ]
  },
  {
   "cell_type": "code",
   "execution_count": null,
   "metadata": {},
   "outputs": [],
   "source": [
    "pca_analysis_results = WritingStylePCAAnalysis(\n",
    "    settings=settings,\n",
    "    feature_extractor=feature_extractor\n",
    ").get_pca_analysis(metrics_analysis_results=metrics_analysis_results)"
   ]
  },
  {
   "cell_type": "code",
   "execution_count": null,
   "metadata": {},
   "outputs": [],
   "source": [
    "pca_analysis_visualization = WritingStylePCAAnalysisVisualization(pca_analysis_results=pca_analysis_results)\n",
    "pca_analysis_visualization.visualize_top_features(pca_analysis_results)"
   ]
  },
  {
   "cell_type": "code",
   "execution_count": null,
   "metadata": {},
   "outputs": [],
   "source": [
    "pca_analysis_visualization.dash_app.run(port=8002)"
   ]
  },
  {
   "cell_type": "code",
   "execution_count": null,
   "metadata": {},
   "outputs": [],
   "source": [
    "if os.path.exists(settings.paths.ws_dataset_dump_file):\n",
    "    os.remove(settings.paths.ws_dataset_dump_file)\n",
    "with open(settings.paths.ws_dataset_dump_file, 'wb') as file:\n",
    "    dill.dump(\n",
    "        obj={\n",
    "            \"dataset\": dataset,\n",
    "            \"preprocessing_results\": preprocessing_results,\n",
    "            \"metrics_analysis_results\": metrics_analysis_results,\n",
    "            \"feature_extractor\": feature_extractor,\n",
    "            \"entropy_analysis_results\": entropy_analysis_results,\n",
    "            \"pca_analysis_results\": pca_analysis_results,\n",
    "        },  \n",
    "        file=file\n",
    "    )"
   ]
  }
 ],
 "metadata": {
  "kernelspec": {
   "display_name": ".venv",
   "language": "python",
   "name": "python3"
  },
  "language_info": {
   "codemirror_mode": {
    "name": "ipython",
    "version": 3
   },
   "file_extension": ".py",
   "mimetype": "text/x-python",
   "name": "python",
   "nbconvert_exporter": "python",
   "pygments_lexer": "ipython3",
   "version": "3.12.1"
  }
 },
 "nbformat": 4,
 "nbformat_minor": 2
}
