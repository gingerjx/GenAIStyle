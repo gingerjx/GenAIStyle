{
 "cells": [
  {
   "cell_type": "code",
   "execution_count": 1,
   "metadata": {},
   "outputs": [
    {
     "name": "stdout",
     "output_type": "stream",
     "text": [
      "The autoreload extension is already loaded. To reload it, use:\n",
      "  %reload_ext autoreload\n"
     ]
    },
    {
     "name": "stderr",
     "output_type": "stream",
     "text": [
      "[nltk_data] Downloading collection 'all'\n",
      "[nltk_data]    | \n",
      "[nltk_data]    | Downloading package abc to\n",
      "[nltk_data]    |     C:\\Users\\piotr\\AppData\\Roaming\\nltk_data...\n",
      "[nltk_data]    |   Package abc is already up-to-date!\n",
      "[nltk_data]    | Downloading package alpino to\n",
      "[nltk_data]    |     C:\\Users\\piotr\\AppData\\Roaming\\nltk_data...\n",
      "[nltk_data]    |   Package alpino is already up-to-date!\n",
      "[nltk_data]    | Downloading package averaged_perceptron_tagger to\n",
      "[nltk_data]    |     C:\\Users\\piotr\\AppData\\Roaming\\nltk_data...\n",
      "[nltk_data]    |   Package averaged_perceptron_tagger is already up-\n",
      "[nltk_data]    |       to-date!\n",
      "[nltk_data]    | Downloading package averaged_perceptron_tagger_eng to\n",
      "[nltk_data]    |     C:\\Users\\piotr\\AppData\\Roaming\\nltk_data...\n",
      "[nltk_data]    |   Package averaged_perceptron_tagger_eng is already\n",
      "[nltk_data]    |       up-to-date!\n",
      "[nltk_data]    | Downloading package averaged_perceptron_tagger_ru to\n",
      "[nltk_data]    |     C:\\Users\\piotr\\AppData\\Roaming\\nltk_data...\n",
      "[nltk_data]    |   Package averaged_perceptron_tagger_ru is already\n",
      "[nltk_data]    |       up-to-date!\n",
      "[nltk_data]    | Downloading package averaged_perceptron_tagger_rus to\n",
      "[nltk_data]    |     C:\\Users\\piotr\\AppData\\Roaming\\nltk_data...\n",
      "[nltk_data]    |   Package averaged_perceptron_tagger_rus is already\n",
      "[nltk_data]    |       up-to-date!\n",
      "[nltk_data]    | Downloading package basque_grammars to\n",
      "[nltk_data]    |     C:\\Users\\piotr\\AppData\\Roaming\\nltk_data...\n",
      "[nltk_data]    |   Package basque_grammars is already up-to-date!\n",
      "[nltk_data]    | Downloading package bcp47 to\n",
      "[nltk_data]    |     C:\\Users\\piotr\\AppData\\Roaming\\nltk_data...\n",
      "[nltk_data]    |   Package bcp47 is already up-to-date!\n",
      "[nltk_data]    | Downloading package biocreative_ppi to\n",
      "[nltk_data]    |     C:\\Users\\piotr\\AppData\\Roaming\\nltk_data...\n",
      "[nltk_data]    |   Package biocreative_ppi is already up-to-date!\n",
      "[nltk_data]    | Downloading package bllip_wsj_no_aux to\n",
      "[nltk_data]    |     C:\\Users\\piotr\\AppData\\Roaming\\nltk_data...\n",
      "[nltk_data]    |   Package bllip_wsj_no_aux is already up-to-date!\n",
      "[nltk_data]    | Downloading package book_grammars to\n",
      "[nltk_data]    |     C:\\Users\\piotr\\AppData\\Roaming\\nltk_data...\n",
      "[nltk_data]    |   Package book_grammars is already up-to-date!\n",
      "[nltk_data]    | Downloading package brown to\n",
      "[nltk_data]    |     C:\\Users\\piotr\\AppData\\Roaming\\nltk_data...\n",
      "[nltk_data]    |   Package brown is already up-to-date!\n",
      "[nltk_data]    | Downloading package brown_tei to\n",
      "[nltk_data]    |     C:\\Users\\piotr\\AppData\\Roaming\\nltk_data...\n",
      "[nltk_data]    |   Package brown_tei is already up-to-date!\n",
      "[nltk_data]    | Downloading package cess_cat to\n",
      "[nltk_data]    |     C:\\Users\\piotr\\AppData\\Roaming\\nltk_data...\n",
      "[nltk_data]    |   Package cess_cat is already up-to-date!\n",
      "[nltk_data]    | Downloading package cess_esp to\n",
      "[nltk_data]    |     C:\\Users\\piotr\\AppData\\Roaming\\nltk_data...\n",
      "[nltk_data]    |   Package cess_esp is already up-to-date!\n",
      "[nltk_data]    | Downloading package chat80 to\n",
      "[nltk_data]    |     C:\\Users\\piotr\\AppData\\Roaming\\nltk_data...\n",
      "[nltk_data]    |   Package chat80 is already up-to-date!\n",
      "[nltk_data]    | Downloading package city_database to\n",
      "[nltk_data]    |     C:\\Users\\piotr\\AppData\\Roaming\\nltk_data...\n",
      "[nltk_data]    |   Package city_database is already up-to-date!\n",
      "[nltk_data]    | Downloading package cmudict to\n",
      "[nltk_data]    |     C:\\Users\\piotr\\AppData\\Roaming\\nltk_data...\n",
      "[nltk_data]    |   Package cmudict is already up-to-date!\n",
      "[nltk_data]    | Downloading package comparative_sentences to\n",
      "[nltk_data]    |     C:\\Users\\piotr\\AppData\\Roaming\\nltk_data...\n",
      "[nltk_data]    |   Package comparative_sentences is already up-to-\n",
      "[nltk_data]    |       date!\n",
      "[nltk_data]    | Downloading package comtrans to\n",
      "[nltk_data]    |     C:\\Users\\piotr\\AppData\\Roaming\\nltk_data...\n",
      "[nltk_data]    |   Package comtrans is already up-to-date!\n",
      "[nltk_data]    | Downloading package conll2000 to\n",
      "[nltk_data]    |     C:\\Users\\piotr\\AppData\\Roaming\\nltk_data...\n",
      "[nltk_data]    |   Package conll2000 is already up-to-date!\n",
      "[nltk_data]    | Downloading package conll2002 to\n",
      "[nltk_data]    |     C:\\Users\\piotr\\AppData\\Roaming\\nltk_data...\n",
      "[nltk_data]    |   Package conll2002 is already up-to-date!\n",
      "[nltk_data]    | Downloading package conll2007 to\n",
      "[nltk_data]    |     C:\\Users\\piotr\\AppData\\Roaming\\nltk_data...\n",
      "[nltk_data]    |   Package conll2007 is already up-to-date!\n",
      "[nltk_data]    | Downloading package crubadan to\n",
      "[nltk_data]    |     C:\\Users\\piotr\\AppData\\Roaming\\nltk_data...\n",
      "[nltk_data]    |   Package crubadan is already up-to-date!\n",
      "[nltk_data]    | Downloading package dependency_treebank to\n",
      "[nltk_data]    |     C:\\Users\\piotr\\AppData\\Roaming\\nltk_data...\n",
      "[nltk_data]    |   Package dependency_treebank is already up-to-date!\n",
      "[nltk_data]    | Downloading package dolch to\n",
      "[nltk_data]    |     C:\\Users\\piotr\\AppData\\Roaming\\nltk_data...\n",
      "[nltk_data]    |   Package dolch is already up-to-date!\n",
      "[nltk_data]    | Downloading package europarl_raw to\n",
      "[nltk_data]    |     C:\\Users\\piotr\\AppData\\Roaming\\nltk_data...\n",
      "[nltk_data]    |   Package europarl_raw is already up-to-date!\n",
      "[nltk_data]    | Downloading package extended_omw to\n",
      "[nltk_data]    |     C:\\Users\\piotr\\AppData\\Roaming\\nltk_data...\n",
      "[nltk_data]    |   Package extended_omw is already up-to-date!\n",
      "[nltk_data]    | Downloading package floresta to\n",
      "[nltk_data]    |     C:\\Users\\piotr\\AppData\\Roaming\\nltk_data...\n",
      "[nltk_data]    |   Package floresta is already up-to-date!\n",
      "[nltk_data]    | Downloading package framenet_v15 to\n",
      "[nltk_data]    |     C:\\Users\\piotr\\AppData\\Roaming\\nltk_data...\n",
      "[nltk_data]    |   Package framenet_v15 is already up-to-date!\n",
      "[nltk_data]    | Downloading package framenet_v17 to\n",
      "[nltk_data]    |     C:\\Users\\piotr\\AppData\\Roaming\\nltk_data...\n",
      "[nltk_data]    |   Package framenet_v17 is already up-to-date!\n",
      "[nltk_data]    | Downloading package gazetteers to\n",
      "[nltk_data]    |     C:\\Users\\piotr\\AppData\\Roaming\\nltk_data...\n",
      "[nltk_data]    |   Package gazetteers is already up-to-date!\n",
      "[nltk_data]    | Downloading package genesis to\n",
      "[nltk_data]    |     C:\\Users\\piotr\\AppData\\Roaming\\nltk_data...\n",
      "[nltk_data]    |   Package genesis is already up-to-date!\n",
      "[nltk_data]    | Downloading package gutenberg to\n",
      "[nltk_data]    |     C:\\Users\\piotr\\AppData\\Roaming\\nltk_data...\n",
      "[nltk_data]    |   Package gutenberg is already up-to-date!\n",
      "[nltk_data]    | Downloading package ieer to\n",
      "[nltk_data]    |     C:\\Users\\piotr\\AppData\\Roaming\\nltk_data...\n",
      "[nltk_data]    |   Package ieer is already up-to-date!\n",
      "[nltk_data]    | Downloading package inaugural to\n",
      "[nltk_data]    |     C:\\Users\\piotr\\AppData\\Roaming\\nltk_data...\n",
      "[nltk_data]    |   Package inaugural is already up-to-date!\n",
      "[nltk_data]    | Downloading package indian to\n",
      "[nltk_data]    |     C:\\Users\\piotr\\AppData\\Roaming\\nltk_data...\n",
      "[nltk_data]    |   Package indian is already up-to-date!\n",
      "[nltk_data]    | Downloading package jeita to\n",
      "[nltk_data]    |     C:\\Users\\piotr\\AppData\\Roaming\\nltk_data...\n",
      "[nltk_data]    |   Package jeita is already up-to-date!\n",
      "[nltk_data]    | Downloading package kimmo to\n",
      "[nltk_data]    |     C:\\Users\\piotr\\AppData\\Roaming\\nltk_data...\n",
      "[nltk_data]    |   Package kimmo is already up-to-date!\n",
      "[nltk_data]    | Downloading package knbc to\n",
      "[nltk_data]    |     C:\\Users\\piotr\\AppData\\Roaming\\nltk_data...\n",
      "[nltk_data]    |   Package knbc is already up-to-date!\n",
      "[nltk_data]    | Downloading package large_grammars to\n",
      "[nltk_data]    |     C:\\Users\\piotr\\AppData\\Roaming\\nltk_data...\n",
      "[nltk_data]    |   Package large_grammars is already up-to-date!\n",
      "[nltk_data]    | Downloading package lin_thesaurus to\n",
      "[nltk_data]    |     C:\\Users\\piotr\\AppData\\Roaming\\nltk_data...\n",
      "[nltk_data]    |   Package lin_thesaurus is already up-to-date!\n",
      "[nltk_data]    | Downloading package mac_morpho to\n",
      "[nltk_data]    |     C:\\Users\\piotr\\AppData\\Roaming\\nltk_data...\n",
      "[nltk_data]    |   Package mac_morpho is already up-to-date!\n",
      "[nltk_data]    | Downloading package machado to\n",
      "[nltk_data]    |     C:\\Users\\piotr\\AppData\\Roaming\\nltk_data...\n",
      "[nltk_data]    |   Package machado is already up-to-date!\n",
      "[nltk_data]    | Downloading package masc_tagged to\n",
      "[nltk_data]    |     C:\\Users\\piotr\\AppData\\Roaming\\nltk_data...\n",
      "[nltk_data]    |   Package masc_tagged is already up-to-date!\n",
      "[nltk_data]    | Downloading package maxent_ne_chunker to\n",
      "[nltk_data]    |     C:\\Users\\piotr\\AppData\\Roaming\\nltk_data...\n",
      "[nltk_data]    |   Package maxent_ne_chunker is already up-to-date!\n",
      "[nltk_data]    | Downloading package maxent_ne_chunker_tab to\n",
      "[nltk_data]    |     C:\\Users\\piotr\\AppData\\Roaming\\nltk_data...\n",
      "[nltk_data]    |   Package maxent_ne_chunker_tab is already up-to-\n",
      "[nltk_data]    |       date!\n",
      "[nltk_data]    | Downloading package maxent_treebank_pos_tagger to\n",
      "[nltk_data]    |     C:\\Users\\piotr\\AppData\\Roaming\\nltk_data...\n",
      "[nltk_data]    |   Package maxent_treebank_pos_tagger is already up-\n",
      "[nltk_data]    |       to-date!\n",
      "[nltk_data]    | Downloading package maxent_treebank_pos_tagger_tab to\n",
      "[nltk_data]    |     C:\\Users\\piotr\\AppData\\Roaming\\nltk_data...\n",
      "[nltk_data]    |   Package maxent_treebank_pos_tagger_tab is already\n",
      "[nltk_data]    |       up-to-date!\n",
      "[nltk_data]    | Downloading package moses_sample to\n",
      "[nltk_data]    |     C:\\Users\\piotr\\AppData\\Roaming\\nltk_data...\n",
      "[nltk_data]    |   Package moses_sample is already up-to-date!\n",
      "[nltk_data]    | Downloading package movie_reviews to\n",
      "[nltk_data]    |     C:\\Users\\piotr\\AppData\\Roaming\\nltk_data...\n",
      "[nltk_data]    |   Package movie_reviews is already up-to-date!\n",
      "[nltk_data]    | Downloading package mte_teip5 to\n",
      "[nltk_data]    |     C:\\Users\\piotr\\AppData\\Roaming\\nltk_data...\n",
      "[nltk_data]    |   Package mte_teip5 is already up-to-date!\n",
      "[nltk_data]    | Downloading package mwa_ppdb to\n",
      "[nltk_data]    |     C:\\Users\\piotr\\AppData\\Roaming\\nltk_data...\n",
      "[nltk_data]    |   Package mwa_ppdb is already up-to-date!\n",
      "[nltk_data]    | Downloading package names to\n",
      "[nltk_data]    |     C:\\Users\\piotr\\AppData\\Roaming\\nltk_data...\n",
      "[nltk_data]    |   Package names is already up-to-date!\n",
      "[nltk_data]    | Downloading package nombank.1.0 to\n",
      "[nltk_data]    |     C:\\Users\\piotr\\AppData\\Roaming\\nltk_data...\n",
      "[nltk_data]    |   Package nombank.1.0 is already up-to-date!\n",
      "[nltk_data]    | Downloading package nonbreaking_prefixes to\n",
      "[nltk_data]    |     C:\\Users\\piotr\\AppData\\Roaming\\nltk_data...\n",
      "[nltk_data]    |   Package nonbreaking_prefixes is already up-to-date!\n",
      "[nltk_data]    | Downloading package nps_chat to\n",
      "[nltk_data]    |     C:\\Users\\piotr\\AppData\\Roaming\\nltk_data...\n",
      "[nltk_data]    |   Package nps_chat is already up-to-date!\n",
      "[nltk_data]    | Downloading package omw to\n",
      "[nltk_data]    |     C:\\Users\\piotr\\AppData\\Roaming\\nltk_data...\n",
      "[nltk_data]    |   Package omw is already up-to-date!\n",
      "[nltk_data]    | Downloading package omw-1.4 to\n",
      "[nltk_data]    |     C:\\Users\\piotr\\AppData\\Roaming\\nltk_data...\n",
      "[nltk_data]    |   Package omw-1.4 is already up-to-date!\n",
      "[nltk_data]    | Downloading package opinion_lexicon to\n",
      "[nltk_data]    |     C:\\Users\\piotr\\AppData\\Roaming\\nltk_data...\n",
      "[nltk_data]    |   Package opinion_lexicon is already up-to-date!\n",
      "[nltk_data]    | Downloading package panlex_swadesh to\n",
      "[nltk_data]    |     C:\\Users\\piotr\\AppData\\Roaming\\nltk_data...\n",
      "[nltk_data]    |   Package panlex_swadesh is already up-to-date!\n",
      "[nltk_data]    | Downloading package paradigms to\n",
      "[nltk_data]    |     C:\\Users\\piotr\\AppData\\Roaming\\nltk_data...\n",
      "[nltk_data]    |   Package paradigms is already up-to-date!\n",
      "[nltk_data]    | Downloading package pe08 to\n",
      "[nltk_data]    |     C:\\Users\\piotr\\AppData\\Roaming\\nltk_data...\n",
      "[nltk_data]    |   Package pe08 is already up-to-date!\n",
      "[nltk_data]    | Downloading package perluniprops to\n",
      "[nltk_data]    |     C:\\Users\\piotr\\AppData\\Roaming\\nltk_data...\n",
      "[nltk_data]    |   Package perluniprops is already up-to-date!\n",
      "[nltk_data]    | Downloading package pil to\n",
      "[nltk_data]    |     C:\\Users\\piotr\\AppData\\Roaming\\nltk_data...\n",
      "[nltk_data]    |   Package pil is already up-to-date!\n",
      "[nltk_data]    | Downloading package pl196x to\n",
      "[nltk_data]    |     C:\\Users\\piotr\\AppData\\Roaming\\nltk_data...\n",
      "[nltk_data]    |   Package pl196x is already up-to-date!\n",
      "[nltk_data]    | Downloading package porter_test to\n",
      "[nltk_data]    |     C:\\Users\\piotr\\AppData\\Roaming\\nltk_data...\n",
      "[nltk_data]    |   Package porter_test is already up-to-date!\n",
      "[nltk_data]    | Downloading package ppattach to\n",
      "[nltk_data]    |     C:\\Users\\piotr\\AppData\\Roaming\\nltk_data...\n",
      "[nltk_data]    |   Package ppattach is already up-to-date!\n",
      "[nltk_data]    | Downloading package problem_reports to\n",
      "[nltk_data]    |     C:\\Users\\piotr\\AppData\\Roaming\\nltk_data...\n",
      "[nltk_data]    |   Package problem_reports is already up-to-date!\n",
      "[nltk_data]    | Downloading package product_reviews_1 to\n",
      "[nltk_data]    |     C:\\Users\\piotr\\AppData\\Roaming\\nltk_data...\n",
      "[nltk_data]    |   Package product_reviews_1 is already up-to-date!\n",
      "[nltk_data]    | Downloading package product_reviews_2 to\n",
      "[nltk_data]    |     C:\\Users\\piotr\\AppData\\Roaming\\nltk_data...\n",
      "[nltk_data]    |   Package product_reviews_2 is already up-to-date!\n",
      "[nltk_data]    | Downloading package propbank to\n",
      "[nltk_data]    |     C:\\Users\\piotr\\AppData\\Roaming\\nltk_data...\n",
      "[nltk_data]    |   Package propbank is already up-to-date!\n",
      "[nltk_data]    | Downloading package pros_cons to\n",
      "[nltk_data]    |     C:\\Users\\piotr\\AppData\\Roaming\\nltk_data...\n",
      "[nltk_data]    |   Package pros_cons is already up-to-date!\n",
      "[nltk_data]    | Downloading package ptb to\n",
      "[nltk_data]    |     C:\\Users\\piotr\\AppData\\Roaming\\nltk_data...\n",
      "[nltk_data]    |   Package ptb is already up-to-date!\n",
      "[nltk_data]    | Downloading package punkt to\n",
      "[nltk_data]    |     C:\\Users\\piotr\\AppData\\Roaming\\nltk_data...\n",
      "[nltk_data]    |   Package punkt is already up-to-date!\n",
      "[nltk_data]    | Downloading package punkt_tab to\n",
      "[nltk_data]    |     C:\\Users\\piotr\\AppData\\Roaming\\nltk_data...\n",
      "[nltk_data]    |   Package punkt_tab is already up-to-date!\n",
      "[nltk_data]    | Downloading package qc to\n",
      "[nltk_data]    |     C:\\Users\\piotr\\AppData\\Roaming\\nltk_data...\n",
      "[nltk_data]    |   Package qc is already up-to-date!\n",
      "[nltk_data]    | Downloading package reuters to\n",
      "[nltk_data]    |     C:\\Users\\piotr\\AppData\\Roaming\\nltk_data...\n",
      "[nltk_data]    |   Package reuters is already up-to-date!\n",
      "[nltk_data]    | Downloading package rslp to\n",
      "[nltk_data]    |     C:\\Users\\piotr\\AppData\\Roaming\\nltk_data...\n",
      "[nltk_data]    |   Package rslp is already up-to-date!\n",
      "[nltk_data]    | Downloading package rte to\n",
      "[nltk_data]    |     C:\\Users\\piotr\\AppData\\Roaming\\nltk_data...\n",
      "[nltk_data]    |   Package rte is already up-to-date!\n",
      "[nltk_data]    | Downloading package sample_grammars to\n",
      "[nltk_data]    |     C:\\Users\\piotr\\AppData\\Roaming\\nltk_data...\n",
      "[nltk_data]    |   Package sample_grammars is already up-to-date!\n",
      "[nltk_data]    | Downloading package semcor to\n",
      "[nltk_data]    |     C:\\Users\\piotr\\AppData\\Roaming\\nltk_data...\n",
      "[nltk_data]    |   Package semcor is already up-to-date!\n",
      "[nltk_data]    | Downloading package senseval to\n",
      "[nltk_data]    |     C:\\Users\\piotr\\AppData\\Roaming\\nltk_data...\n",
      "[nltk_data]    |   Package senseval is already up-to-date!\n",
      "[nltk_data]    | Downloading package sentence_polarity to\n",
      "[nltk_data]    |     C:\\Users\\piotr\\AppData\\Roaming\\nltk_data...\n",
      "[nltk_data]    |   Package sentence_polarity is already up-to-date!\n",
      "[nltk_data]    | Downloading package sentiwordnet to\n",
      "[nltk_data]    |     C:\\Users\\piotr\\AppData\\Roaming\\nltk_data...\n",
      "[nltk_data]    |   Package sentiwordnet is already up-to-date!\n",
      "[nltk_data]    | Downloading package shakespeare to\n",
      "[nltk_data]    |     C:\\Users\\piotr\\AppData\\Roaming\\nltk_data...\n",
      "[nltk_data]    |   Package shakespeare is already up-to-date!\n",
      "[nltk_data]    | Downloading package sinica_treebank to\n",
      "[nltk_data]    |     C:\\Users\\piotr\\AppData\\Roaming\\nltk_data...\n",
      "[nltk_data]    |   Package sinica_treebank is already up-to-date!\n",
      "[nltk_data]    | Downloading package smultron to\n",
      "[nltk_data]    |     C:\\Users\\piotr\\AppData\\Roaming\\nltk_data...\n",
      "[nltk_data]    |   Package smultron is already up-to-date!\n",
      "[nltk_data]    | Downloading package snowball_data to\n",
      "[nltk_data]    |     C:\\Users\\piotr\\AppData\\Roaming\\nltk_data...\n",
      "[nltk_data]    |   Package snowball_data is already up-to-date!\n",
      "[nltk_data]    | Downloading package spanish_grammars to\n",
      "[nltk_data]    |     C:\\Users\\piotr\\AppData\\Roaming\\nltk_data...\n",
      "[nltk_data]    |   Package spanish_grammars is already up-to-date!\n",
      "[nltk_data]    | Downloading package state_union to\n",
      "[nltk_data]    |     C:\\Users\\piotr\\AppData\\Roaming\\nltk_data...\n",
      "[nltk_data]    |   Package state_union is already up-to-date!\n",
      "[nltk_data]    | Downloading package stopwords to\n",
      "[nltk_data]    |     C:\\Users\\piotr\\AppData\\Roaming\\nltk_data...\n",
      "[nltk_data]    |   Package stopwords is already up-to-date!\n",
      "[nltk_data]    | Downloading package subjectivity to\n",
      "[nltk_data]    |     C:\\Users\\piotr\\AppData\\Roaming\\nltk_data...\n",
      "[nltk_data]    |   Package subjectivity is already up-to-date!\n",
      "[nltk_data]    | Downloading package swadesh to\n",
      "[nltk_data]    |     C:\\Users\\piotr\\AppData\\Roaming\\nltk_data...\n",
      "[nltk_data]    |   Package swadesh is already up-to-date!\n",
      "[nltk_data]    | Downloading package switchboard to\n",
      "[nltk_data]    |     C:\\Users\\piotr\\AppData\\Roaming\\nltk_data...\n",
      "[nltk_data]    |   Package switchboard is already up-to-date!\n",
      "[nltk_data]    | Downloading package tagsets to\n",
      "[nltk_data]    |     C:\\Users\\piotr\\AppData\\Roaming\\nltk_data...\n",
      "[nltk_data]    |   Package tagsets is already up-to-date!\n",
      "[nltk_data]    | Downloading package tagsets_json to\n",
      "[nltk_data]    |     C:\\Users\\piotr\\AppData\\Roaming\\nltk_data...\n",
      "[nltk_data]    |   Package tagsets_json is already up-to-date!\n",
      "[nltk_data]    | Downloading package timit to\n",
      "[nltk_data]    |     C:\\Users\\piotr\\AppData\\Roaming\\nltk_data...\n",
      "[nltk_data]    |   Package timit is already up-to-date!\n",
      "[nltk_data]    | Downloading package toolbox to\n",
      "[nltk_data]    |     C:\\Users\\piotr\\AppData\\Roaming\\nltk_data...\n",
      "[nltk_data]    |   Package toolbox is already up-to-date!\n",
      "[nltk_data]    | Downloading package treebank to\n",
      "[nltk_data]    |     C:\\Users\\piotr\\AppData\\Roaming\\nltk_data...\n",
      "[nltk_data]    |   Package treebank is already up-to-date!\n",
      "[nltk_data]    | Downloading package twitter_samples to\n",
      "[nltk_data]    |     C:\\Users\\piotr\\AppData\\Roaming\\nltk_data...\n",
      "[nltk_data]    |   Package twitter_samples is already up-to-date!\n",
      "[nltk_data]    | Downloading package udhr to\n",
      "[nltk_data]    |     C:\\Users\\piotr\\AppData\\Roaming\\nltk_data...\n",
      "[nltk_data]    |   Package udhr is already up-to-date!\n",
      "[nltk_data]    | Downloading package udhr2 to\n",
      "[nltk_data]    |     C:\\Users\\piotr\\AppData\\Roaming\\nltk_data...\n",
      "[nltk_data]    |   Package udhr2 is already up-to-date!\n",
      "[nltk_data]    | Downloading package unicode_samples to\n",
      "[nltk_data]    |     C:\\Users\\piotr\\AppData\\Roaming\\nltk_data...\n",
      "[nltk_data]    |   Package unicode_samples is already up-to-date!\n",
      "[nltk_data]    | Downloading package universal_tagset to\n",
      "[nltk_data]    |     C:\\Users\\piotr\\AppData\\Roaming\\nltk_data...\n",
      "[nltk_data]    |   Package universal_tagset is already up-to-date!\n",
      "[nltk_data]    | Downloading package universal_treebanks_v20 to\n",
      "[nltk_data]    |     C:\\Users\\piotr\\AppData\\Roaming\\nltk_data...\n",
      "[nltk_data]    |   Package universal_treebanks_v20 is already up-to-\n",
      "[nltk_data]    |       date!\n",
      "[nltk_data]    | Downloading package vader_lexicon to\n",
      "[nltk_data]    |     C:\\Users\\piotr\\AppData\\Roaming\\nltk_data...\n",
      "[nltk_data]    |   Package vader_lexicon is already up-to-date!\n",
      "[nltk_data]    | Downloading package verbnet to\n",
      "[nltk_data]    |     C:\\Users\\piotr\\AppData\\Roaming\\nltk_data...\n",
      "[nltk_data]    |   Package verbnet is already up-to-date!\n",
      "[nltk_data]    | Downloading package verbnet3 to\n",
      "[nltk_data]    |     C:\\Users\\piotr\\AppData\\Roaming\\nltk_data...\n",
      "[nltk_data]    |   Package verbnet3 is already up-to-date!\n",
      "[nltk_data]    | Downloading package webtext to\n",
      "[nltk_data]    |     C:\\Users\\piotr\\AppData\\Roaming\\nltk_data...\n",
      "[nltk_data]    |   Package webtext is already up-to-date!\n",
      "[nltk_data]    | Downloading package wmt15_eval to\n",
      "[nltk_data]    |     C:\\Users\\piotr\\AppData\\Roaming\\nltk_data...\n",
      "[nltk_data]    |   Package wmt15_eval is already up-to-date!\n",
      "[nltk_data]    | Downloading package word2vec_sample to\n",
      "[nltk_data]    |     C:\\Users\\piotr\\AppData\\Roaming\\nltk_data...\n",
      "[nltk_data]    |   Package word2vec_sample is already up-to-date!\n",
      "[nltk_data]    | Downloading package wordnet to\n",
      "[nltk_data]    |     C:\\Users\\piotr\\AppData\\Roaming\\nltk_data...\n",
      "[nltk_data]    |   Package wordnet is already up-to-date!\n",
      "[nltk_data]    | Downloading package wordnet2021 to\n",
      "[nltk_data]    |     C:\\Users\\piotr\\AppData\\Roaming\\nltk_data...\n",
      "[nltk_data]    |   Package wordnet2021 is already up-to-date!\n",
      "[nltk_data]    | Downloading package wordnet2022 to\n",
      "[nltk_data]    |     C:\\Users\\piotr\\AppData\\Roaming\\nltk_data...\n",
      "[nltk_data]    |   Package wordnet2022 is already up-to-date!\n",
      "[nltk_data]    | Downloading package wordnet31 to\n",
      "[nltk_data]    |     C:\\Users\\piotr\\AppData\\Roaming\\nltk_data...\n",
      "[nltk_data]    |   Package wordnet31 is already up-to-date!\n",
      "[nltk_data]    | Downloading package wordnet_ic to\n",
      "[nltk_data]    |     C:\\Users\\piotr\\AppData\\Roaming\\nltk_data...\n",
      "[nltk_data]    |   Package wordnet_ic is already up-to-date!\n",
      "[nltk_data]    | Downloading package words to\n",
      "[nltk_data]    |     C:\\Users\\piotr\\AppData\\Roaming\\nltk_data...\n",
      "[nltk_data]    |   Package words is already up-to-date!\n",
      "[nltk_data]    | Downloading package ycoe to\n",
      "[nltk_data]    |     C:\\Users\\piotr\\AppData\\Roaming\\nltk_data...\n",
      "[nltk_data]    |   Package ycoe is already up-to-date!\n",
      "[nltk_data]    | \n",
      "[nltk_data]  Done downloading collection all\n"
     ]
    },
    {
     "data": {
      "text/plain": [
       "True"
      ]
     },
     "execution_count": 1,
     "metadata": {},
     "output_type": "execute_result"
    }
   ],
   "source": [
    "%load_ext autoreload   \n",
    "%autoreload 2\n",
    "\n",
    "from src import *\n",
    "import dill\n",
    "import nltk\n",
    "import os\n",
    "nltk.download('all')"
   ]
  },
  {
   "cell_type": "code",
   "execution_count": 2,
   "metadata": {},
   "outputs": [],
   "source": [
    "settings = Settings()"
   ]
  },
  {
   "cell_type": "code",
   "execution_count": 3,
   "metadata": {},
   "outputs": [],
   "source": [
    "dump_dict = None\n",
    "with open(settings.paths.ws_dataset_dump_file, 'rb') as file:\n",
    "    dump_dict = dill.load(file)\n",
    "    \n",
    "dataset = dump_dict['dataset']\n",
    "preprocessing_results = dump_dict['preprocessing_results']\n",
    "metrics_analysis_results = dump_dict['metrics_analysis_results']\n",
    "feature_extractor = dump_dict['feature_extractor']\n",
    "entropy_analysis_results = dump_dict['entropy_analysis_results']\n",
    "pca_analysis_results = dump_dict['pca_analysis_results']"
   ]
  },
  {
   "cell_type": "code",
   "execution_count": 4,
   "metadata": {},
   "outputs": [],
   "source": [
    "dump_dict = None\n",
    "with open(settings.paths.all_word_distribution_dump_file, 'rb') as file:\n",
    "    dump_dict = dill.load(file)\n",
    "\n",
    "all_words_distribution = dump_dict['word_distribution']"
   ]
  },
  {
   "cell_type": "code",
   "execution_count": 5,
   "metadata": {},
   "outputs": [],
   "source": [
    "dataset = WritingStyleDataset(settings)\n",
    "dataset.load()"
   ]
  },
  {
   "cell_type": "code",
   "execution_count": 6,
   "metadata": {},
   "outputs": [],
   "source": [
    "dataset.clean()"
   ]
  },
  {
   "cell_type": "code",
   "execution_count": 7,
   "metadata": {},
   "outputs": [
    {
     "name": "stdout",
     "output_type": "stream",
     "text": [
      "Text removed while cleaning: 1.0289801080424685%.\n"
     ]
    }
   ],
   "source": [
    "print(f\"Text removed while cleaning: {WritingStyleMetadataAnalysis.get_percentage_of_removed_text(dataset)}%.\")"
   ]
  },
  {
   "cell_type": "code",
   "execution_count": 8,
   "metadata": {},
   "outputs": [
    {
     "data": {
      "text/html": [
       "<div>\n",
       "<style scoped>\n",
       "    .dataframe tbody tr th:only-of-type {\n",
       "        vertical-align: middle;\n",
       "    }\n",
       "\n",
       "    .dataframe tbody tr th {\n",
       "        vertical-align: top;\n",
       "    }\n",
       "\n",
       "    .dataframe thead th {\n",
       "        text-align: right;\n",
       "    }\n",
       "</style>\n",
       "<table border=\"1\" class=\"dataframe\">\n",
       "  <thead>\n",
       "    <tr style=\"text-align: right;\">\n",
       "      <th></th>\n",
       "      <th>author</th>\n",
       "      <th>collection</th>\n",
       "      <th>num_of_syllabes</th>\n",
       "      <th>num_of_complex_words</th>\n",
       "      <th>num_of_sentences</th>\n",
       "      <th>num_of_words</th>\n",
       "      <th>num_of_splits</th>\n",
       "    </tr>\n",
       "  </thead>\n",
       "  <tbody>\n",
       "    <tr>\n",
       "      <th>0</th>\n",
       "      <td>Mark Twain</td>\n",
       "      <td>books</td>\n",
       "      <td>237421</td>\n",
       "      <td>14378</td>\n",
       "      <td>8342</td>\n",
       "      <td>173078</td>\n",
       "      <td>200708</td>\n",
       "    </tr>\n",
       "    <tr>\n",
       "      <th>1</th>\n",
       "      <td>Mark Twain</td>\n",
       "      <td>gpt-3.5-turbo-0125</td>\n",
       "      <td>257498</td>\n",
       "      <td>18111</td>\n",
       "      <td>8422</td>\n",
       "      <td>178001</td>\n",
       "      <td>200426</td>\n",
       "    </tr>\n",
       "    <tr>\n",
       "      <th>2</th>\n",
       "      <td>Mark Twain</td>\n",
       "      <td>gpt-4o</td>\n",
       "      <td>246977</td>\n",
       "      <td>16457</td>\n",
       "      <td>9188</td>\n",
       "      <td>172958</td>\n",
       "      <td>200624</td>\n",
       "    </tr>\n",
       "    <tr>\n",
       "      <th>3</th>\n",
       "      <td>Mark Twain</td>\n",
       "      <td>gemini-1.5-flash</td>\n",
       "      <td>231999</td>\n",
       "      <td>13291</td>\n",
       "      <td>9861</td>\n",
       "      <td>169394</td>\n",
       "      <td>200452</td>\n",
       "    </tr>\n",
       "    <tr>\n",
       "      <th>4</th>\n",
       "      <td>Mark Twain</td>\n",
       "      <td>open-mixtral-8x7b</td>\n",
       "      <td>250402</td>\n",
       "      <td>17640</td>\n",
       "      <td>7649</td>\n",
       "      <td>174355</td>\n",
       "      <td>200574</td>\n",
       "    </tr>\n",
       "    <tr>\n",
       "      <th>5</th>\n",
       "      <td>Mark Twain</td>\n",
       "      <td>claude-3-haiku-20240307</td>\n",
       "      <td>241999</td>\n",
       "      <td>15654</td>\n",
       "      <td>8279</td>\n",
       "      <td>172013</td>\n",
       "      <td>200602</td>\n",
       "    </tr>\n",
       "    <tr>\n",
       "      <th>6</th>\n",
       "      <td>Zane Grey</td>\n",
       "      <td>books</td>\n",
       "      <td>220523</td>\n",
       "      <td>9946</td>\n",
       "      <td>13729</td>\n",
       "      <td>167355</td>\n",
       "      <td>200474</td>\n",
       "    </tr>\n",
       "    <tr>\n",
       "      <th>7</th>\n",
       "      <td>Zane Grey</td>\n",
       "      <td>gpt-3.5-turbo-0125</td>\n",
       "      <td>264370</td>\n",
       "      <td>19744</td>\n",
       "      <td>7865</td>\n",
       "      <td>178652</td>\n",
       "      <td>200521</td>\n",
       "    </tr>\n",
       "    <tr>\n",
       "      <th>8</th>\n",
       "      <td>Zane Grey</td>\n",
       "      <td>gpt-4o</td>\n",
       "      <td>254061</td>\n",
       "      <td>18227</td>\n",
       "      <td>9010</td>\n",
       "      <td>173408</td>\n",
       "      <td>200501</td>\n",
       "    </tr>\n",
       "    <tr>\n",
       "      <th>9</th>\n",
       "      <td>Zane Grey</td>\n",
       "      <td>gemini-1.5-flash</td>\n",
       "      <td>240935</td>\n",
       "      <td>15350</td>\n",
       "      <td>9368</td>\n",
       "      <td>169816</td>\n",
       "      <td>200447</td>\n",
       "    </tr>\n",
       "    <tr>\n",
       "      <th>10</th>\n",
       "      <td>Zane Grey</td>\n",
       "      <td>open-mixtral-8x7b</td>\n",
       "      <td>254392</td>\n",
       "      <td>18292</td>\n",
       "      <td>7823</td>\n",
       "      <td>175920</td>\n",
       "      <td>200476</td>\n",
       "    </tr>\n",
       "    <tr>\n",
       "      <th>11</th>\n",
       "      <td>Zane Grey</td>\n",
       "      <td>claude-3-haiku-20240307</td>\n",
       "      <td>259228</td>\n",
       "      <td>19855</td>\n",
       "      <td>7913</td>\n",
       "      <td>174606</td>\n",
       "      <td>200494</td>\n",
       "    </tr>\n",
       "    <tr>\n",
       "      <th>12</th>\n",
       "      <td>Joseph Conrad</td>\n",
       "      <td>books</td>\n",
       "      <td>240832</td>\n",
       "      <td>15488</td>\n",
       "      <td>11007</td>\n",
       "      <td>171924</td>\n",
       "      <td>200555</td>\n",
       "    </tr>\n",
       "    <tr>\n",
       "      <th>13</th>\n",
       "      <td>Joseph Conrad</td>\n",
       "      <td>gpt-3.5-turbo-0125</td>\n",
       "      <td>276012</td>\n",
       "      <td>23941</td>\n",
       "      <td>7724</td>\n",
       "      <td>179406</td>\n",
       "      <td>200529</td>\n",
       "    </tr>\n",
       "    <tr>\n",
       "      <th>14</th>\n",
       "      <td>Joseph Conrad</td>\n",
       "      <td>gpt-4o</td>\n",
       "      <td>265372</td>\n",
       "      <td>22271</td>\n",
       "      <td>8342</td>\n",
       "      <td>174208</td>\n",
       "      <td>200564</td>\n",
       "    </tr>\n",
       "    <tr>\n",
       "      <th>15</th>\n",
       "      <td>Joseph Conrad</td>\n",
       "      <td>gemini-1.5-flash</td>\n",
       "      <td>249708</td>\n",
       "      <td>18547</td>\n",
       "      <td>8263</td>\n",
       "      <td>169893</td>\n",
       "      <td>200636</td>\n",
       "    </tr>\n",
       "    <tr>\n",
       "      <th>16</th>\n",
       "      <td>Joseph Conrad</td>\n",
       "      <td>open-mixtral-8x7b</td>\n",
       "      <td>265253</td>\n",
       "      <td>21823</td>\n",
       "      <td>6181</td>\n",
       "      <td>176801</td>\n",
       "      <td>200622</td>\n",
       "    </tr>\n",
       "    <tr>\n",
       "      <th>17</th>\n",
       "      <td>Joseph Conrad</td>\n",
       "      <td>claude-3-haiku-20240307</td>\n",
       "      <td>271612</td>\n",
       "      <td>23537</td>\n",
       "      <td>6522</td>\n",
       "      <td>177099</td>\n",
       "      <td>200750</td>\n",
       "    </tr>\n",
       "    <tr>\n",
       "      <th>18</th>\n",
       "      <td>Benjamin Disraeli</td>\n",
       "      <td>books</td>\n",
       "      <td>245155</td>\n",
       "      <td>18317</td>\n",
       "      <td>9888</td>\n",
       "      <td>168731</td>\n",
       "      <td>200681</td>\n",
       "    </tr>\n",
       "    <tr>\n",
       "      <th>19</th>\n",
       "      <td>Benjamin Disraeli</td>\n",
       "      <td>gpt-3.5-turbo-0125</td>\n",
       "      <td>280424</td>\n",
       "      <td>25464</td>\n",
       "      <td>7666</td>\n",
       "      <td>179659</td>\n",
       "      <td>200590</td>\n",
       "    </tr>\n",
       "    <tr>\n",
       "      <th>20</th>\n",
       "      <td>Benjamin Disraeli</td>\n",
       "      <td>gpt-4o</td>\n",
       "      <td>280760</td>\n",
       "      <td>27399</td>\n",
       "      <td>8201</td>\n",
       "      <td>175179</td>\n",
       "      <td>200634</td>\n",
       "    </tr>\n",
       "    <tr>\n",
       "      <th>21</th>\n",
       "      <td>Benjamin Disraeli</td>\n",
       "      <td>gemini-1.5-flash</td>\n",
       "      <td>264154</td>\n",
       "      <td>22896</td>\n",
       "      <td>8177</td>\n",
       "      <td>171893</td>\n",
       "      <td>200582</td>\n",
       "    </tr>\n",
       "    <tr>\n",
       "      <th>22</th>\n",
       "      <td>Benjamin Disraeli</td>\n",
       "      <td>open-mixtral-8x7b</td>\n",
       "      <td>269659</td>\n",
       "      <td>23568</td>\n",
       "      <td>6588</td>\n",
       "      <td>176510</td>\n",
       "      <td>200995</td>\n",
       "    </tr>\n",
       "    <tr>\n",
       "      <th>23</th>\n",
       "      <td>Benjamin Disraeli</td>\n",
       "      <td>claude-3-haiku-20240307</td>\n",
       "      <td>277408</td>\n",
       "      <td>25339</td>\n",
       "      <td>6564</td>\n",
       "      <td>177441</td>\n",
       "      <td>200721</td>\n",
       "    </tr>\n",
       "    <tr>\n",
       "      <th>24</th>\n",
       "      <td>George Eliot</td>\n",
       "      <td>books</td>\n",
       "      <td>236554</td>\n",
       "      <td>13635</td>\n",
       "      <td>7678</td>\n",
       "      <td>171909</td>\n",
       "      <td>200670</td>\n",
       "    </tr>\n",
       "    <tr>\n",
       "      <th>25</th>\n",
       "      <td>George Eliot</td>\n",
       "      <td>gpt-3.5-turbo-0125</td>\n",
       "      <td>278991</td>\n",
       "      <td>24779</td>\n",
       "      <td>7590</td>\n",
       "      <td>179809</td>\n",
       "      <td>200571</td>\n",
       "    </tr>\n",
       "    <tr>\n",
       "      <th>26</th>\n",
       "      <td>George Eliot</td>\n",
       "      <td>gpt-4o</td>\n",
       "      <td>271276</td>\n",
       "      <td>24182</td>\n",
       "      <td>8306</td>\n",
       "      <td>174380</td>\n",
       "      <td>200529</td>\n",
       "    </tr>\n",
       "    <tr>\n",
       "      <th>27</th>\n",
       "      <td>George Eliot</td>\n",
       "      <td>gemini-1.5-flash</td>\n",
       "      <td>264899</td>\n",
       "      <td>23115</td>\n",
       "      <td>7892</td>\n",
       "      <td>172061</td>\n",
       "      <td>200434</td>\n",
       "    </tr>\n",
       "    <tr>\n",
       "      <th>28</th>\n",
       "      <td>George Eliot</td>\n",
       "      <td>open-mixtral-8x7b</td>\n",
       "      <td>273435</td>\n",
       "      <td>24562</td>\n",
       "      <td>6044</td>\n",
       "      <td>177382</td>\n",
       "      <td>200623</td>\n",
       "    </tr>\n",
       "    <tr>\n",
       "      <th>29</th>\n",
       "      <td>George Eliot</td>\n",
       "      <td>claude-3-haiku-20240307</td>\n",
       "      <td>278063</td>\n",
       "      <td>25575</td>\n",
       "      <td>6560</td>\n",
       "      <td>177253</td>\n",
       "      <td>200649</td>\n",
       "    </tr>\n",
       "    <tr>\n",
       "      <th>30</th>\n",
       "      <td>William Henry Hudson</td>\n",
       "      <td>books</td>\n",
       "      <td>239854</td>\n",
       "      <td>13542</td>\n",
       "      <td>6083</td>\n",
       "      <td>175767</td>\n",
       "      <td>200737</td>\n",
       "    </tr>\n",
       "    <tr>\n",
       "      <th>31</th>\n",
       "      <td>William Henry Hudson</td>\n",
       "      <td>gpt-3.5-turbo-0125</td>\n",
       "      <td>282240</td>\n",
       "      <td>25759</td>\n",
       "      <td>7568</td>\n",
       "      <td>180417</td>\n",
       "      <td>200824</td>\n",
       "    </tr>\n",
       "    <tr>\n",
       "      <th>32</th>\n",
       "      <td>William Henry Hudson</td>\n",
       "      <td>gpt-4o</td>\n",
       "      <td>266610</td>\n",
       "      <td>22438</td>\n",
       "      <td>8528</td>\n",
       "      <td>174414</td>\n",
       "      <td>200554</td>\n",
       "    </tr>\n",
       "    <tr>\n",
       "      <th>33</th>\n",
       "      <td>William Henry Hudson</td>\n",
       "      <td>gemini-1.5-flash</td>\n",
       "      <td>253585</td>\n",
       "      <td>18728</td>\n",
       "      <td>8123</td>\n",
       "      <td>172271</td>\n",
       "      <td>200644</td>\n",
       "    </tr>\n",
       "    <tr>\n",
       "      <th>34</th>\n",
       "      <td>William Henry Hudson</td>\n",
       "      <td>open-mixtral-8x7b</td>\n",
       "      <td>268929</td>\n",
       "      <td>22835</td>\n",
       "      <td>6546</td>\n",
       "      <td>176958</td>\n",
       "      <td>200704</td>\n",
       "    </tr>\n",
       "    <tr>\n",
       "      <th>35</th>\n",
       "      <td>William Henry Hudson</td>\n",
       "      <td>claude-3-haiku-20240307</td>\n",
       "      <td>277955</td>\n",
       "      <td>25636</td>\n",
       "      <td>6564</td>\n",
       "      <td>177186</td>\n",
       "      <td>200569</td>\n",
       "    </tr>\n",
       "    <tr>\n",
       "      <th>36</th>\n",
       "      <td>Lucy Maud Montgomery</td>\n",
       "      <td>books</td>\n",
       "      <td>226478</td>\n",
       "      <td>10952</td>\n",
       "      <td>12034</td>\n",
       "      <td>169969</td>\n",
       "      <td>200441</td>\n",
       "    </tr>\n",
       "    <tr>\n",
       "      <th>37</th>\n",
       "      <td>Lucy Maud Montgomery</td>\n",
       "      <td>gpt-3.5-turbo-0125</td>\n",
       "      <td>265786</td>\n",
       "      <td>20356</td>\n",
       "      <td>8173</td>\n",
       "      <td>178455</td>\n",
       "      <td>200526</td>\n",
       "    </tr>\n",
       "    <tr>\n",
       "      <th>38</th>\n",
       "      <td>Lucy Maud Montgomery</td>\n",
       "      <td>gpt-4o</td>\n",
       "      <td>259056</td>\n",
       "      <td>19903</td>\n",
       "      <td>8707</td>\n",
       "      <td>173892</td>\n",
       "      <td>200495</td>\n",
       "    </tr>\n",
       "    <tr>\n",
       "      <th>39</th>\n",
       "      <td>Lucy Maud Montgomery</td>\n",
       "      <td>gemini-1.5-flash</td>\n",
       "      <td>246524</td>\n",
       "      <td>17250</td>\n",
       "      <td>9090</td>\n",
       "      <td>170134</td>\n",
       "      <td>200548</td>\n",
       "    </tr>\n",
       "    <tr>\n",
       "      <th>40</th>\n",
       "      <td>Lucy Maud Montgomery</td>\n",
       "      <td>open-mixtral-8x7b</td>\n",
       "      <td>256886</td>\n",
       "      <td>19320</td>\n",
       "      <td>7408</td>\n",
       "      <td>175390</td>\n",
       "      <td>200576</td>\n",
       "    </tr>\n",
       "    <tr>\n",
       "      <th>41</th>\n",
       "      <td>Lucy Maud Montgomery</td>\n",
       "      <td>claude-3-haiku-20240307</td>\n",
       "      <td>263965</td>\n",
       "      <td>21338</td>\n",
       "      <td>7903</td>\n",
       "      <td>175286</td>\n",
       "      <td>200570</td>\n",
       "    </tr>\n",
       "    <tr>\n",
       "      <th>42</th>\n",
       "      <td>Howard Pyle</td>\n",
       "      <td>books</td>\n",
       "      <td>222879</td>\n",
       "      <td>7795</td>\n",
       "      <td>7415</td>\n",
       "      <td>172705</td>\n",
       "      <td>200830</td>\n",
       "    </tr>\n",
       "    <tr>\n",
       "      <th>43</th>\n",
       "      <td>Howard Pyle</td>\n",
       "      <td>gpt-3.5-turbo-0125</td>\n",
       "      <td>267422</td>\n",
       "      <td>20989</td>\n",
       "      <td>8114</td>\n",
       "      <td>178462</td>\n",
       "      <td>200568</td>\n",
       "    </tr>\n",
       "    <tr>\n",
       "      <th>44</th>\n",
       "      <td>Howard Pyle</td>\n",
       "      <td>gpt-4o</td>\n",
       "      <td>252287</td>\n",
       "      <td>17403</td>\n",
       "      <td>8515</td>\n",
       "      <td>173931</td>\n",
       "      <td>200430</td>\n",
       "    </tr>\n",
       "    <tr>\n",
       "      <th>45</th>\n",
       "      <td>Howard Pyle</td>\n",
       "      <td>gemini-1.5-flash</td>\n",
       "      <td>245374</td>\n",
       "      <td>16515</td>\n",
       "      <td>8958</td>\n",
       "      <td>171175</td>\n",
       "      <td>200449</td>\n",
       "    </tr>\n",
       "    <tr>\n",
       "      <th>46</th>\n",
       "      <td>Howard Pyle</td>\n",
       "      <td>open-mixtral-8x7b</td>\n",
       "      <td>254064</td>\n",
       "      <td>17992</td>\n",
       "      <td>7213</td>\n",
       "      <td>176419</td>\n",
       "      <td>200800</td>\n",
       "    </tr>\n",
       "    <tr>\n",
       "      <th>47</th>\n",
       "      <td>Howard Pyle</td>\n",
       "      <td>claude-3-haiku-20240307</td>\n",
       "      <td>266577</td>\n",
       "      <td>21915</td>\n",
       "      <td>7268</td>\n",
       "      <td>175988</td>\n",
       "      <td>200422</td>\n",
       "    </tr>\n",
       "    <tr>\n",
       "      <th>48</th>\n",
       "      <td>Virginia Woolf</td>\n",
       "      <td>books</td>\n",
       "      <td>233425</td>\n",
       "      <td>13261</td>\n",
       "      <td>9708</td>\n",
       "      <td>168364</td>\n",
       "      <td>200828</td>\n",
       "    </tr>\n",
       "    <tr>\n",
       "      <th>49</th>\n",
       "      <td>Virginia Woolf</td>\n",
       "      <td>gpt-3.5-turbo-0125</td>\n",
       "      <td>276439</td>\n",
       "      <td>24022</td>\n",
       "      <td>7684</td>\n",
       "      <td>179571</td>\n",
       "      <td>200440</td>\n",
       "    </tr>\n",
       "    <tr>\n",
       "      <th>50</th>\n",
       "      <td>Virginia Woolf</td>\n",
       "      <td>gpt-4o</td>\n",
       "      <td>260937</td>\n",
       "      <td>20982</td>\n",
       "      <td>8320</td>\n",
       "      <td>173069</td>\n",
       "      <td>200481</td>\n",
       "    </tr>\n",
       "    <tr>\n",
       "      <th>51</th>\n",
       "      <td>Virginia Woolf</td>\n",
       "      <td>gemini-1.5-flash</td>\n",
       "      <td>251443</td>\n",
       "      <td>19294</td>\n",
       "      <td>8373</td>\n",
       "      <td>169698</td>\n",
       "      <td>200532</td>\n",
       "    </tr>\n",
       "    <tr>\n",
       "      <th>52</th>\n",
       "      <td>Virginia Woolf</td>\n",
       "      <td>open-mixtral-8x7b</td>\n",
       "      <td>264476</td>\n",
       "      <td>21689</td>\n",
       "      <td>6475</td>\n",
       "      <td>176507</td>\n",
       "      <td>200678</td>\n",
       "    </tr>\n",
       "    <tr>\n",
       "      <th>53</th>\n",
       "      <td>Virginia Woolf</td>\n",
       "      <td>claude-3-haiku-20240307</td>\n",
       "      <td>268586</td>\n",
       "      <td>22883</td>\n",
       "      <td>6889</td>\n",
       "      <td>175783</td>\n",
       "      <td>200706</td>\n",
       "    </tr>\n",
       "    <tr>\n",
       "      <th>54</th>\n",
       "      <td>Lewis Carroll</td>\n",
       "      <td>books</td>\n",
       "      <td>210383</td>\n",
       "      <td>9785</td>\n",
       "      <td>9623</td>\n",
       "      <td>158585</td>\n",
       "      <td>200691</td>\n",
       "    </tr>\n",
       "    <tr>\n",
       "      <th>55</th>\n",
       "      <td>Lewis Carroll</td>\n",
       "      <td>gpt-3.5-turbo-0125</td>\n",
       "      <td>265695</td>\n",
       "      <td>20555</td>\n",
       "      <td>8070</td>\n",
       "      <td>178430</td>\n",
       "      <td>200587</td>\n",
       "    </tr>\n",
       "    <tr>\n",
       "      <th>56</th>\n",
       "      <td>Lewis Carroll</td>\n",
       "      <td>gpt-4o</td>\n",
       "      <td>256114</td>\n",
       "      <td>19906</td>\n",
       "      <td>9248</td>\n",
       "      <td>171905</td>\n",
       "      <td>200534</td>\n",
       "    </tr>\n",
       "    <tr>\n",
       "      <th>57</th>\n",
       "      <td>Lewis Carroll</td>\n",
       "      <td>gemini-1.5-flash</td>\n",
       "      <td>245689</td>\n",
       "      <td>18351</td>\n",
       "      <td>9140</td>\n",
       "      <td>166589</td>\n",
       "      <td>200671</td>\n",
       "    </tr>\n",
       "    <tr>\n",
       "      <th>58</th>\n",
       "      <td>Lewis Carroll</td>\n",
       "      <td>open-mixtral-8x7b</td>\n",
       "      <td>258855</td>\n",
       "      <td>20783</td>\n",
       "      <td>7999</td>\n",
       "      <td>173400</td>\n",
       "      <td>200606</td>\n",
       "    </tr>\n",
       "    <tr>\n",
       "      <th>59</th>\n",
       "      <td>Lewis Carroll</td>\n",
       "      <td>claude-3-haiku-20240307</td>\n",
       "      <td>266834</td>\n",
       "      <td>22828</td>\n",
       "      <td>7045</td>\n",
       "      <td>174809</td>\n",
       "      <td>200787</td>\n",
       "    </tr>\n",
       "  </tbody>\n",
       "</table>\n",
       "</div>"
      ],
      "text/plain": [
       "                  author               collection num_of_syllabes  \\\n",
       "0             Mark Twain                    books          237421   \n",
       "1             Mark Twain       gpt-3.5-turbo-0125          257498   \n",
       "2             Mark Twain                   gpt-4o          246977   \n",
       "3             Mark Twain         gemini-1.5-flash          231999   \n",
       "4             Mark Twain        open-mixtral-8x7b          250402   \n",
       "5             Mark Twain  claude-3-haiku-20240307          241999   \n",
       "6              Zane Grey                    books          220523   \n",
       "7              Zane Grey       gpt-3.5-turbo-0125          264370   \n",
       "8              Zane Grey                   gpt-4o          254061   \n",
       "9              Zane Grey         gemini-1.5-flash          240935   \n",
       "10             Zane Grey        open-mixtral-8x7b          254392   \n",
       "11             Zane Grey  claude-3-haiku-20240307          259228   \n",
       "12         Joseph Conrad                    books          240832   \n",
       "13         Joseph Conrad       gpt-3.5-turbo-0125          276012   \n",
       "14         Joseph Conrad                   gpt-4o          265372   \n",
       "15         Joseph Conrad         gemini-1.5-flash          249708   \n",
       "16         Joseph Conrad        open-mixtral-8x7b          265253   \n",
       "17         Joseph Conrad  claude-3-haiku-20240307          271612   \n",
       "18     Benjamin Disraeli                    books          245155   \n",
       "19     Benjamin Disraeli       gpt-3.5-turbo-0125          280424   \n",
       "20     Benjamin Disraeli                   gpt-4o          280760   \n",
       "21     Benjamin Disraeli         gemini-1.5-flash          264154   \n",
       "22     Benjamin Disraeli        open-mixtral-8x7b          269659   \n",
       "23     Benjamin Disraeli  claude-3-haiku-20240307          277408   \n",
       "24          George Eliot                    books          236554   \n",
       "25          George Eliot       gpt-3.5-turbo-0125          278991   \n",
       "26          George Eliot                   gpt-4o          271276   \n",
       "27          George Eliot         gemini-1.5-flash          264899   \n",
       "28          George Eliot        open-mixtral-8x7b          273435   \n",
       "29          George Eliot  claude-3-haiku-20240307          278063   \n",
       "30  William Henry Hudson                    books          239854   \n",
       "31  William Henry Hudson       gpt-3.5-turbo-0125          282240   \n",
       "32  William Henry Hudson                   gpt-4o          266610   \n",
       "33  William Henry Hudson         gemini-1.5-flash          253585   \n",
       "34  William Henry Hudson        open-mixtral-8x7b          268929   \n",
       "35  William Henry Hudson  claude-3-haiku-20240307          277955   \n",
       "36  Lucy Maud Montgomery                    books          226478   \n",
       "37  Lucy Maud Montgomery       gpt-3.5-turbo-0125          265786   \n",
       "38  Lucy Maud Montgomery                   gpt-4o          259056   \n",
       "39  Lucy Maud Montgomery         gemini-1.5-flash          246524   \n",
       "40  Lucy Maud Montgomery        open-mixtral-8x7b          256886   \n",
       "41  Lucy Maud Montgomery  claude-3-haiku-20240307          263965   \n",
       "42           Howard Pyle                    books          222879   \n",
       "43           Howard Pyle       gpt-3.5-turbo-0125          267422   \n",
       "44           Howard Pyle                   gpt-4o          252287   \n",
       "45           Howard Pyle         gemini-1.5-flash          245374   \n",
       "46           Howard Pyle        open-mixtral-8x7b          254064   \n",
       "47           Howard Pyle  claude-3-haiku-20240307          266577   \n",
       "48        Virginia Woolf                    books          233425   \n",
       "49        Virginia Woolf       gpt-3.5-turbo-0125          276439   \n",
       "50        Virginia Woolf                   gpt-4o          260937   \n",
       "51        Virginia Woolf         gemini-1.5-flash          251443   \n",
       "52        Virginia Woolf        open-mixtral-8x7b          264476   \n",
       "53        Virginia Woolf  claude-3-haiku-20240307          268586   \n",
       "54         Lewis Carroll                    books          210383   \n",
       "55         Lewis Carroll       gpt-3.5-turbo-0125          265695   \n",
       "56         Lewis Carroll                   gpt-4o          256114   \n",
       "57         Lewis Carroll         gemini-1.5-flash          245689   \n",
       "58         Lewis Carroll        open-mixtral-8x7b          258855   \n",
       "59         Lewis Carroll  claude-3-haiku-20240307          266834   \n",
       "\n",
       "   num_of_complex_words num_of_sentences num_of_words num_of_splits  \n",
       "0                 14378             8342       173078        200708  \n",
       "1                 18111             8422       178001        200426  \n",
       "2                 16457             9188       172958        200624  \n",
       "3                 13291             9861       169394        200452  \n",
       "4                 17640             7649       174355        200574  \n",
       "5                 15654             8279       172013        200602  \n",
       "6                  9946            13729       167355        200474  \n",
       "7                 19744             7865       178652        200521  \n",
       "8                 18227             9010       173408        200501  \n",
       "9                 15350             9368       169816        200447  \n",
       "10                18292             7823       175920        200476  \n",
       "11                19855             7913       174606        200494  \n",
       "12                15488            11007       171924        200555  \n",
       "13                23941             7724       179406        200529  \n",
       "14                22271             8342       174208        200564  \n",
       "15                18547             8263       169893        200636  \n",
       "16                21823             6181       176801        200622  \n",
       "17                23537             6522       177099        200750  \n",
       "18                18317             9888       168731        200681  \n",
       "19                25464             7666       179659        200590  \n",
       "20                27399             8201       175179        200634  \n",
       "21                22896             8177       171893        200582  \n",
       "22                23568             6588       176510        200995  \n",
       "23                25339             6564       177441        200721  \n",
       "24                13635             7678       171909        200670  \n",
       "25                24779             7590       179809        200571  \n",
       "26                24182             8306       174380        200529  \n",
       "27                23115             7892       172061        200434  \n",
       "28                24562             6044       177382        200623  \n",
       "29                25575             6560       177253        200649  \n",
       "30                13542             6083       175767        200737  \n",
       "31                25759             7568       180417        200824  \n",
       "32                22438             8528       174414        200554  \n",
       "33                18728             8123       172271        200644  \n",
       "34                22835             6546       176958        200704  \n",
       "35                25636             6564       177186        200569  \n",
       "36                10952            12034       169969        200441  \n",
       "37                20356             8173       178455        200526  \n",
       "38                19903             8707       173892        200495  \n",
       "39                17250             9090       170134        200548  \n",
       "40                19320             7408       175390        200576  \n",
       "41                21338             7903       175286        200570  \n",
       "42                 7795             7415       172705        200830  \n",
       "43                20989             8114       178462        200568  \n",
       "44                17403             8515       173931        200430  \n",
       "45                16515             8958       171175        200449  \n",
       "46                17992             7213       176419        200800  \n",
       "47                21915             7268       175988        200422  \n",
       "48                13261             9708       168364        200828  \n",
       "49                24022             7684       179571        200440  \n",
       "50                20982             8320       173069        200481  \n",
       "51                19294             8373       169698        200532  \n",
       "52                21689             6475       176507        200678  \n",
       "53                22883             6889       175783        200706  \n",
       "54                 9785             9623       158585        200691  \n",
       "55                20555             8070       178430        200587  \n",
       "56                19906             9248       171905        200534  \n",
       "57                18351             9140       166589        200671  \n",
       "58                20783             7999       173400        200606  \n",
       "59                22828             7045       174809        200787  "
      ]
     },
     "execution_count": 8,
     "metadata": {},
     "output_type": "execute_result"
    }
   ],
   "source": [
    "preprocessing_results = WritingStylePreprocessing(settings).preprocess(dataset)\n",
    "preprocessing_results.info()"
   ]
  },
  {
   "cell_type": "code",
   "execution_count": 9,
   "metadata": {},
   "outputs": [],
   "source": [
    "metrics_analysis_results = WritingStyleMetricsAnalysis().analyze(preprocessing_results)"
   ]
  },
  {
   "cell_type": "code",
   "execution_count": 10,
   "metadata": {},
   "outputs": [
    {
     "data": {
      "text/plain": [
       "['chunk_id',\n",
       " 'source_name',\n",
       " 'author_name',\n",
       " 'collection_name',\n",
       " 'unique_word_count',\n",
       " 'average_word_length',\n",
       " 'average_sentence_length',\n",
       " 'average_syllables_per_word',\n",
       " 'flesch_reading_ease',\n",
       " 'flesch_kincaid_grade_level',\n",
       " 'gunning_fog_index',\n",
       " 'yules_characteristic_k',\n",
       " 'herdans_c',\n",
       " 'maas',\n",
       " 'simpsons_index',\n",
       " '-',\n",
       " \"'\",\n",
       " ';',\n",
       " '\"',\n",
       " '?',\n",
       " ',',\n",
       " '.',\n",
       " 'of',\n",
       " 'that',\n",
       " 'in',\n",
       " 'she',\n",
       " 'their',\n",
       " 'and',\n",
       " 'had',\n",
       " 'its',\n",
       " 'a',\n",
       " 'the',\n",
       " 'it',\n",
       " 'you',\n",
       " 'her',\n",
       " 'to',\n",
       " 'said',\n",
       " 'with',\n",
       " 'our',\n",
       " 'his',\n",
       " 'he',\n",
       " 'as',\n",
       " 'is',\n",
       " 'my',\n",
       " 'was']"
      ]
     },
     "execution_count": 10,
     "metadata": {},
     "output_type": "execute_result"
    }
   ],
   "source": [
    "feature_extractor = FeatureExtractor(\n",
    "    settings=settings, \n",
    "    metrics_analysis_results=metrics_analysis_results\n",
    ")\n",
    "feature_extractor.get_feature_names()"
   ]
  },
  {
   "cell_type": "code",
   "execution_count": 11,
   "metadata": {},
   "outputs": [
    {
     "data": {
      "application/vnd.plotly.v1+json": {
       "config": {
        "plotlyServerURL": "https://plot.ly"
       },
       "data": [
        {
         "marker": {
          "color": "#3498db"
         },
         "name": "books",
         "showlegend": true,
         "type": "bar",
         "x": [
          "Mark Twain",
          "Zane Grey",
          "Joseph Conrad",
          "Benjamin Disraeli",
          "George Eliot",
          "William Henry Hudson",
          "Lucy Maud Montgomery",
          "Howard Pyle",
          "Virginia Woolf",
          "Lewis Carroll"
         ],
         "xaxis": "x",
         "y": [
          16308,
          12751,
          14772,
          13783,
          14381,
          13477,
          12323,
          11052,
          12950,
          12281
         ],
         "yaxis": "y"
        },
        {
         "marker": {
          "color": "#3498db"
         },
         "name": "books",
         "showlegend": false,
         "type": "bar",
         "x": [
          "Mark Twain",
          "Zane Grey",
          "Joseph Conrad",
          "Benjamin Disraeli",
          "George Eliot",
          "William Henry Hudson",
          "Lucy Maud Montgomery",
          "Howard Pyle",
          "Virginia Woolf",
          "Lewis Carroll"
         ],
         "xaxis": "x2",
         "y": [
          4.244358035105559,
          4.2048818380090225,
          4.3320536981456925,
          4.498053114128406,
          4.27152737785689,
          4.257630840829052,
          4.1149856738581745,
          4.129382473003098,
          4.352878287519897,
          4.121474288236592
         ],
         "yaxis": "y2"
        },
        {
         "marker": {
          "color": "#3498db"
         },
         "name": "books",
         "showlegend": false,
         "type": "bar",
         "x": [
          "Mark Twain",
          "Zane Grey",
          "Joseph Conrad",
          "Benjamin Disraeli",
          "George Eliot",
          "William Henry Hudson",
          "Lucy Maud Montgomery",
          "Howard Pyle",
          "Virginia Woolf",
          "Lewis Carroll"
         ],
         "xaxis": "x3",
         "y": [
          20.747782306401344,
          12.189890013839317,
          15.619514854183702,
          17.06421925566343,
          22.389815056004167,
          28.894788755548248,
          14.124065148745222,
          23.29130141604855,
          17.342810053564072,
          16.479788007897746
         ],
         "yaxis": "y3"
        },
        {
         "marker": {
          "color": "#3498db"
         },
         "name": "books",
         "showlegend": false,
         "type": "bar",
         "x": [
          "Mark Twain",
          "Zane Grey",
          "Joseph Conrad",
          "Benjamin Disraeli",
          "George Eliot",
          "William Henry Hudson",
          "Lucy Maud Montgomery",
          "Howard Pyle",
          "Virginia Woolf",
          "Lewis Carroll"
         ],
         "xaxis": "x4",
         "y": [
          1.3717572423993807,
          1.3176959158674673,
          1.4008050068634978,
          1.4529339599717894,
          1.3760419756964442,
          1.3646133802135783,
          1.3324665085986267,
          1.2905185142294664,
          1.3864305908626546,
          1.326626099568055
         ],
         "yaxis": "y4"
        },
        {
         "marker": {
          "color": "#3498db"
         },
         "name": "books",
         "showlegend": false,
         "type": "bar",
         "x": [
          "Mark Twain",
          "Zane Grey",
          "Joseph Conrad",
          "Benjamin Disraeli",
          "George Eliot",
          "William Henry Hudson",
          "Lucy Maud Montgomery",
          "Howard Pyle",
          "Virginia Woolf",
          "Lewis Carroll"
         ],
         "xaxis": "x5",
         "y": [
          69.72533825201506,
          82.98518715356538,
          72.47308884235166,
          66.59660444188825,
          67.69618657423662,
          62.06049744704984,
          79.77240724657982,
          74.01646275889787,
          71.9400198086519,
          77.87544714852635
         ],
         "yaxis": "y5"
        },
        {
         "marker": {
          "color": "#3498db"
         },
         "name": "books",
         "showlegend": false,
         "type": "bar",
         "x": [
          "Mark Twain",
          "Zane Grey",
          "Joseph Conrad",
          "Benjamin Disraeli",
          "George Eliot",
          "William Henry Hudson",
          "Lucy Maud Montgomery",
          "Howard Pyle",
          "Virginia Woolf",
          "Lewis Carroll"
         ],
         "xaxis": "x6",
         "y": [
          8.688370559809218,
          4.71286891263345,
          7.031109874120919,
          8.209666237375856,
          9.379323185059665,
          11.781405501184043,
          5.6414902094744335,
          8.721726020166638,
          7.533576893069313,
          6.491305297983171
         ],
         "yaxis": "y6"
        },
        {
         "marker": {
          "color": "#3498db"
         },
         "name": "books",
         "showlegend": false,
         "type": "bar",
         "x": [
          "Mark Twain",
          "Zane Grey",
          "Joseph Conrad",
          "Benjamin Disraeli",
          "George Eliot",
          "William Henry Hudson",
          "Lucy Maud Montgomery",
          "Howard Pyle",
          "Virginia Woolf",
          "Lewis Carroll"
         ],
         "xaxis": "x7",
         "y": [
          11.622007802325731,
          7.253178078374901,
          9.851258630070681,
          11.167984020073007,
          12.12853478634073,
          14.63972266738682,
          8.227037234477056,
          11.12191126153537,
          10.087678771847335,
          9.059992259627238
         ],
         "yaxis": "y7"
        },
        {
         "marker": {
          "color": "#3498db"
         },
         "name": "books",
         "showlegend": false,
         "type": "bar",
         "x": [
          "Mark Twain",
          "Zane Grey",
          "Joseph Conrad",
          "Benjamin Disraeli",
          "George Eliot",
          "William Henry Hudson",
          "Lucy Maud Montgomery",
          "Howard Pyle",
          "Virginia Woolf",
          "Lewis Carroll"
         ],
         "xaxis": "x8",
         "y": [
          87.72459486935324,
          73.91967588097933,
          85.13191567277481,
          80.8938341130368,
          72.72827501347436,
          87.39910130996599,
          66.9727588019207,
          92.27154820044903,
          76.50133236869664,
          72.38557926975066
         ],
         "yaxis": "y8"
        },
        {
         "marker": {
          "color": "#3498db"
         },
         "name": "books",
         "showlegend": false,
         "type": "bar",
         "x": [
          "Mark Twain",
          "Zane Grey",
          "Joseph Conrad",
          "Benjamin Disraeli",
          "George Eliot",
          "William Henry Hudson",
          "Lucy Maud Montgomery",
          "Howard Pyle",
          "Virginia Woolf",
          "Lewis Carroll"
         ],
         "xaxis": "x9",
         "y": [
          0.8041630777789621,
          0.7859548655094859,
          0.7964033053948,
          0.7918862508200524,
          0.7941837501198777,
          0.7873484391686847,
          0.7821084680498966,
          0.7720461086218114,
          0.7868491500041455,
          0.7863514660599408
         ],
         "yaxis": "y9"
        },
        {
         "marker": {
          "color": "#3498db"
         },
         "name": "books",
         "showlegend": false,
         "type": "bar",
         "x": [
          "Mark Twain",
          "Zane Grey",
          "Joseph Conrad",
          "Benjamin Disraeli",
          "George Eliot",
          "William Henry Hudson",
          "Lucy Maud Montgomery",
          "Howard Pyle",
          "Virginia Woolf",
          "Lewis Carroll"
         ],
         "xaxis": "x10",
         "y": [
          0.09791846111051895,
          0.10702256724525706,
          0.1017983473026,
          0.1040568745899738,
          0.10290812494006112,
          0.10632578041565766,
          0.10894576597505166,
          0.11397694568909429,
          0.10657542499792728,
          0.10682426697002961
         ],
         "yaxis": "y10"
        },
        {
         "marker": {
          "color": "#3498db"
         },
         "name": "books",
         "showlegend": false,
         "type": "bar",
         "x": [
          "Mark Twain",
          "Zane Grey",
          "Joseph Conrad",
          "Benjamin Disraeli",
          "George Eliot",
          "William Henry Hudson",
          "Lucy Maud Montgomery",
          "Howard Pyle",
          "Virginia Woolf",
          "Lewis Carroll"
         ],
         "xaxis": "x11",
         "y": [
          0.9911662209153212,
          0.9925296071903508,
          0.9914191127923218,
          0.9918380634435174,
          0.9926576363050638,
          0.9911858893792802,
          0.9932215750489648,
          0.9906823638191155,
          0.9922726466859103,
          0.9926800154790993
         ],
         "yaxis": "y11"
        },
        {
         "marker": {
          "color": "#e74c3c"
         },
         "name": "gpt-3.5-turbo-0125",
         "showlegend": true,
         "type": "bar",
         "x": [
          "Mark Twain",
          "Zane Grey",
          "Joseph Conrad",
          "Benjamin Disraeli",
          "George Eliot",
          "William Henry Hudson",
          "Lucy Maud Montgomery",
          "Howard Pyle",
          "Virginia Woolf",
          "Lewis Carroll"
         ],
         "xaxis": "x",
         "y": [
          12139,
          11762,
          11866,
          12415,
          12079,
          12083,
          11388,
          12076,
          11825,
          11638
         ],
         "yaxis": "y"
        },
        {
         "marker": {
          "color": "#e74c3c"
         },
         "name": "gpt-3.5-turbo-0125",
         "showlegend": false,
         "type": "bar",
         "x": [
          "Mark Twain",
          "Zane Grey",
          "Joseph Conrad",
          "Benjamin Disraeli",
          "George Eliot",
          "William Henry Hudson",
          "Lucy Maud Montgomery",
          "Howard Pyle",
          "Virginia Woolf",
          "Lewis Carroll"
         ],
         "xaxis": "x2",
         "y": [
          4.48124448739052,
          4.598028569509437,
          4.715382986076274,
          4.753828085428506,
          4.756330328292799,
          4.793450728035606,
          4.639561794289877,
          4.6573220069258445,
          4.709942028501262,
          4.636580171495825
         ],
         "yaxis": "y2"
        },
        {
         "marker": {
          "color": "#e74c3c"
         },
         "name": "gpt-3.5-turbo-0125",
         "showlegend": false,
         "type": "bar",
         "x": [
          "Mark Twain",
          "Zane Grey",
          "Joseph Conrad",
          "Benjamin Disraeli",
          "George Eliot",
          "William Henry Hudson",
          "Lucy Maud Montgomery",
          "Howard Pyle",
          "Virginia Woolf",
          "Lewis Carroll"
         ],
         "xaxis": "x3",
         "y": [
          21.13524103538352,
          22.714812460267005,
          23.227084412221647,
          23.43582050613097,
          23.690250329380763,
          23.839455602536997,
          21.834699620702313,
          21.994330786295293,
          23.36946902654867,
          22.110285006195788
         ],
         "yaxis": "y3"
        },
        {
         "marker": {
          "color": "#e74c3c"
         },
         "name": "gpt-3.5-turbo-0125",
         "showlegend": false,
         "type": "bar",
         "x": [
          "Mark Twain",
          "Zane Grey",
          "Joseph Conrad",
          "Benjamin Disraeli",
          "George Eliot",
          "William Henry Hudson",
          "Lucy Maud Montgomery",
          "Howard Pyle",
          "Virginia Woolf",
          "Lewis Carroll"
         ],
         "xaxis": "x4",
         "y": [
          1.4466098505064577,
          1.4798043122942928,
          1.538476974014247,
          1.5608680889908104,
          1.551596416197187,
          1.5643758625850115,
          1.4893726709814799,
          1.4984814694444755,
          1.5394412238056256,
          1.4890713445048478
         ],
         "yaxis": "y4"
        },
        {
         "marker": {
          "color": "#e74c3c"
         },
         "name": "gpt-3.5-turbo-0125",
         "showlegend": false,
         "type": "bar",
         "x": [
          "Mark Twain",
          "Zane Grey",
          "Joseph Conrad",
          "Benjamin Disraeli",
          "George Eliot",
          "William Henry Hudson",
          "Lucy Maud Montgomery",
          "Howard Pyle",
          "Virginia Woolf",
          "Lewis Carroll"
         ],
         "xaxis": "x5",
         "y": [
          62.999536996239414,
          58.58802053273183,
          53.10435731998976,
          50.99820185765452,
          51.524339105396535,
          50.291754588733,
          58.67185191995398,
          57.73922193690768,
          52.878261404097174,
          58.41762497360118
         ],
         "yaxis": "y5"
        },
        {
         "marker": {
          "color": "#e74c3c"
         },
         "name": "gpt-3.5-turbo-0125",
         "showlegend": false,
         "type": "bar",
         "x": [
          "Mark Twain",
          "Zane Grey",
          "Joseph Conrad",
          "Benjamin Disraeli",
          "George Eliot",
          "William Henry Hudson",
          "Lucy Maud Montgomery",
          "Howard Pyle",
          "Virginia Woolf",
          "Lewis Carroll"
         ],
         "xaxis": "x6",
         "y": [
          9.722740239775774,
          10.730467744576789,
          11.622591214134555,
          11.968213447482643,
          11.958035339585305,
          12.167022863492566,
          10.500130369655366,
          10.669870346099973,
          11.689499361260367,
          10.604053017573563
         ],
         "yaxis": "y6"
        },
        {
         "marker": {
          "color": "#e74c3c"
         },
         "name": "gpt-3.5-turbo-0125",
         "showlegend": false,
         "type": "bar",
         "x": [
          "Mark Twain",
          "Zane Grey",
          "Joseph Conrad",
          "Benjamin Disraeli",
          "George Eliot",
          "William Henry Hudson",
          "Lucy Maud Montgomery",
          "Howard Pyle",
          "Virginia Woolf",
          "Lewis Carroll"
         ],
         "xaxis": "x7",
         "y": [
          12.523961190193994,
          13.506586381684215,
          14.628670849490067,
          15.04373524579561,
          14.988393732183875,
          15.246773998997694,
          13.29659874099898,
          13.502151182400357,
          14.698762990831197,
          13.452083514331704
         ],
         "yaxis": "y7"
        },
        {
         "marker": {
          "color": "#e74c3c"
         },
         "name": "gpt-3.5-turbo-0125",
         "showlegend": false,
         "type": "bar",
         "x": [
          "Mark Twain",
          "Zane Grey",
          "Joseph Conrad",
          "Benjamin Disraeli",
          "George Eliot",
          "William Henry Hudson",
          "Lucy Maud Montgomery",
          "Howard Pyle",
          "Virginia Woolf",
          "Lewis Carroll"
         ],
         "xaxis": "x8",
         "y": [
          104.11323871749899,
          124.98873512951327,
          129.58098789708657,
          119.11965715238969,
          126.06884280926273,
          127.79307636328929,
          111.06836303300564,
          117.83460538136644,
          134.54106738336543,
          119.07154051592565
         ],
         "yaxis": "y8"
        },
        {
         "marker": {
          "color": "#e74c3c"
         },
         "name": "gpt-3.5-turbo-0125",
         "showlegend": false,
         "type": "bar",
         "x": [
          "Mark Twain",
          "Zane Grey",
          "Joseph Conrad",
          "Benjamin Disraeli",
          "George Eliot",
          "William Henry Hudson",
          "Lucy Maud Montgomery",
          "Howard Pyle",
          "Virginia Woolf",
          "Lewis Carroll"
         ],
         "xaxis": "x9",
         "y": [
          0.7778770101670688,
          0.7750333331852404,
          0.7754912024130437,
          0.7791391144936536,
          0.7768177867008283,
          0.7766284806794006,
          0.7724317383109659,
          0.7772803083502575,
          0.7751461855682059,
          0.7742365466689692
         ],
         "yaxis": "y9"
        },
        {
         "marker": {
          "color": "#e74c3c"
         },
         "name": "gpt-3.5-turbo-0125",
         "showlegend": false,
         "type": "bar",
         "x": [
          "Mark Twain",
          "Zane Grey",
          "Joseph Conrad",
          "Benjamin Disraeli",
          "George Eliot",
          "William Henry Hudson",
          "Lucy Maud Montgomery",
          "Howard Pyle",
          "Virginia Woolf",
          "Lewis Carroll"
         ],
         "xaxis": "x10",
         "y": [
          0.11106149491646561,
          0.11248333340737982,
          0.11225439879347814,
          0.11043044275317322,
          0.11159110664958585,
          0.1116857596602997,
          0.11378413084451708,
          0.11135984582487123,
          0.11242690721589703,
          0.1128817266655154
         ],
         "yaxis": "y10"
        },
        {
         "marker": {
          "color": "#e74c3c"
         },
         "name": "gpt-3.5-turbo-0125",
         "showlegend": false,
         "type": "bar",
         "x": [
          "Mark Twain",
          "Zane Grey",
          "Joseph Conrad",
          "Benjamin Disraeli",
          "George Eliot",
          "William Henry Hudson",
          "Lucy Maud Montgomery",
          "Howard Pyle",
          "Virginia Woolf",
          "Lewis Carroll"
         ],
         "xaxis": "x11",
         "y": [
          0.989506297019592,
          0.9874161069325511,
          0.9869576268128533,
          0.9880074865602343,
          0.9873103274087831,
          0.987137931459922,
          0.988805351965052,
          0.9881337305847517,
          0.9864613266654689,
          0.9880069205316692
         ],
         "yaxis": "y11"
        },
        {
         "marker": {
          "color": "#2ecc71"
         },
         "name": "gpt-4o",
         "showlegend": true,
         "type": "bar",
         "x": [
          "Mark Twain",
          "Zane Grey",
          "Joseph Conrad",
          "Benjamin Disraeli",
          "George Eliot",
          "William Henry Hudson",
          "Lucy Maud Montgomery",
          "Howard Pyle",
          "Virginia Woolf",
          "Lewis Carroll"
         ],
         "xaxis": "x",
         "y": [
          14839,
          12360,
          13034,
          14154,
          13840,
          13300,
          12501,
          12878,
          12751,
          13421
         ],
         "yaxis": "y"
        },
        {
         "marker": {
          "color": "#2ecc71"
         },
         "name": "gpt-4o",
         "showlegend": false,
         "type": "bar",
         "x": [
          "Mark Twain",
          "Zane Grey",
          "Joseph Conrad",
          "Benjamin Disraeli",
          "George Eliot",
          "William Henry Hudson",
          "Lucy Maud Montgomery",
          "Howard Pyle",
          "Virginia Woolf",
          "Lewis Carroll"
         ],
         "xaxis": "x2",
         "y": [
          4.434116953248766,
          4.588681029710279,
          4.673574118295371,
          4.857956718556448,
          4.775088886340177,
          4.712058665015423,
          4.652117406206151,
          4.567512404344251,
          4.6380460972213395,
          4.659311829207993
         ],
         "yaxis": "y2"
        },
        {
         "marker": {
          "color": "#2ecc71"
         },
         "name": "gpt-4o",
         "showlegend": false,
         "type": "bar",
         "x": [
          "Mark Twain",
          "Zane Grey",
          "Joseph Conrad",
          "Benjamin Disraeli",
          "George Eliot",
          "William Henry Hudson",
          "Lucy Maud Montgomery",
          "Howard Pyle",
          "Virginia Woolf",
          "Lewis Carroll"
         ],
         "xaxis": "x3",
         "y": [
          18.824336090552894,
          19.24617092119867,
          20.88324142891393,
          21.360687721009633,
          20.994461834818203,
          20.451923076923077,
          19.97151717009303,
          20.426423957721667,
          20.8015625,
          18.588343425605537
         ],
         "yaxis": "y3"
        },
        {
         "marker": {
          "color": "#2ecc71"
         },
         "name": "gpt-4o",
         "showlegend": false,
         "type": "bar",
         "x": [
          "Mark Twain",
          "Zane Grey",
          "Joseph Conrad",
          "Benjamin Disraeli",
          "George Eliot",
          "William Henry Hudson",
          "Lucy Maud Montgomery",
          "Howard Pyle",
          "Virginia Woolf",
          "Lewis Carroll"
         ],
         "xaxis": "x4",
         "y": [
          1.427959388984609,
          1.465105416128437,
          1.5233054739162382,
          1.6027035203991347,
          1.5556600527583437,
          1.5286043551549762,
          1.489752260023463,
          1.4505004858248385,
          1.5077050193853319,
          1.4898577702800966
         ],
         "yaxis": "y4"
        },
        {
         "marker": {
          "color": "#2ecc71"
         },
         "name": "gpt-4o",
         "showlegend": false,
         "type": "bar",
         "x": [
          "Mark Twain",
          "Zane Grey",
          "Joseph Conrad",
          "Benjamin Disraeli",
          "George Eliot",
          "William Henry Hudson",
          "Lucy Maud Montgomery",
          "Howard Pyle",
          "Virginia Woolf",
          "Lewis Carroll"
         ],
         "xaxis": "x5",
         "y": [
          66.9229345599909,
          63.352218310517614,
          56.76686685633862,
          49.56518413740844,
          53.916780774303646,
          56.75636963081212,
          60.530868874370626,
          63.38983858213119,
          58.16956942250094,
          61.925864057314215
         ],
         "yaxis": "y5"
        },
        {
         "marker": {
          "color": "#2ecc71"
         },
         "name": "gpt-4o",
         "showlegend": false,
         "type": "bar",
         "x": [
          "Mark Twain",
          "Zane Grey",
          "Joseph Conrad",
          "Benjamin Disraeli",
          "George Eliot",
          "William Henry Hudson",
          "Lucy Maud Montgomery",
          "Howard Pyle",
          "Virginia Woolf",
          "Lewis Carroll"
         ],
         "xaxis": "x6",
         "y": [
          8.601411865334018,
          9.204250569583039,
          10.529468749488043,
          11.652569751903549,
          10.954628738127557,
          10.423781390828719,
          9.777968364613148,
          9.492211076244544,
          10.313528603746914,
          9.239775625291301
         ],
         "yaxis": "y6"
        },
        {
         "marker": {
          "color": "#2ecc71"
         },
         "name": "gpt-4o",
         "showlegend": false,
         "type": "bar",
         "x": [
          "Mark Twain",
          "Zane Grey",
          "Joseph Conrad",
          "Benjamin Disraeli",
          "George Eliot",
          "William Henry Hudson",
          "Lucy Maud Montgomery",
          "Howard Pyle",
          "Virginia Woolf",
          "Lewis Carroll"
         ],
         "xaxis": "x7",
         "y": [
          11.33574514402305,
          11.9028880030984,
          13.46695380889107,
          14.800504430962036,
          13.944751129156092,
          13.326686416316264,
          12.566850835557283,
          12.17284634801269,
          13.170020327875012,
          12.067197990933877
         ],
         "yaxis": "y7"
        },
        {
         "marker": {
          "color": "#2ecc71"
         },
         "name": "gpt-4o",
         "showlegend": false,
         "type": "bar",
         "x": [
          "Mark Twain",
          "Zane Grey",
          "Joseph Conrad",
          "Benjamin Disraeli",
          "George Eliot",
          "William Henry Hudson",
          "Lucy Maud Montgomery",
          "Howard Pyle",
          "Virginia Woolf",
          "Lewis Carroll"
         ],
         "xaxis": "x8",
         "y": [
          100.65050548490495,
          130.42512563766,
          143.63484587752401,
          138.28429222874925,
          128.30562625972462,
          131.30202689533934,
          121.61040957004974,
          128.83151668937634,
          138.88505915121672,
          109.57955236462732
         ],
         "yaxis": "y8"
        },
        {
         "marker": {
          "color": "#2ecc71"
         },
         "name": "gpt-4o",
         "showlegend": false,
         "type": "bar",
         "x": [
          "Mark Twain",
          "Zane Grey",
          "Joseph Conrad",
          "Benjamin Disraeli",
          "George Eliot",
          "William Henry Hudson",
          "Lucy Maud Montgomery",
          "Howard Pyle",
          "Virginia Woolf",
          "Lewis Carroll"
         ],
         "xaxis": "x9",
         "y": [
          0.7963825689983999,
          0.7810583082102435,
          0.7851601319017798,
          0.7916264721295713,
          0.7900674841966048,
          0.7867571581304906,
          0.781817968877754,
          0.784265793384606,
          0.7837671588208214,
          0.7884541357200644
         ],
         "yaxis": "y9"
        },
        {
         "marker": {
          "color": "#2ecc71"
         },
         "name": "gpt-4o",
         "showlegend": false,
         "type": "bar",
         "x": [
          "Mark Twain",
          "Zane Grey",
          "Joseph Conrad",
          "Benjamin Disraeli",
          "George Eliot",
          "William Henry Hudson",
          "Lucy Maud Montgomery",
          "Howard Pyle",
          "Virginia Woolf",
          "Lewis Carroll"
         ],
         "xaxis": "x10",
         "y": [
          0.10180871550080006,
          0.10947084589487824,
          0.10741993404911011,
          0.10418676393521438,
          0.10496625790169763,
          0.10662142093475467,
          0.10909101556112301,
          0.10786710330769698,
          0.10811642058958933,
          0.1057729321399678
         ],
         "yaxis": "y10"
        },
        {
         "marker": {
          "color": "#2ecc71"
         },
         "name": "gpt-4o",
         "showlegend": false,
         "type": "bar",
         "x": [
          "Mark Twain",
          "Zane Grey",
          "Joseph Conrad",
          "Benjamin Disraeli",
          "George Eliot",
          "William Henry Hudson",
          "Lucy Maud Montgomery",
          "Howard Pyle",
          "Virginia Woolf",
          "Lewis Carroll"
         ],
         "xaxis": "x11",
         "y": [
          0.9898675594656614,
          0.9868765812873667,
          0.985559792993957,
          0.9861009193711621,
          0.9870971830387675,
          0.9867946093405413,
          0.9877589654424831,
          0.9870391965217752,
          0.9860330688633271,
          0.9889675346674193
         ],
         "yaxis": "y11"
        },
        {
         "marker": {
          "color": "#f1c40f"
         },
         "name": "gemini-1.5-flash",
         "showlegend": true,
         "type": "bar",
         "x": [
          "Mark Twain",
          "Zane Grey",
          "Joseph Conrad",
          "Benjamin Disraeli",
          "George Eliot",
          "William Henry Hudson",
          "Lucy Maud Montgomery",
          "Howard Pyle",
          "Virginia Woolf",
          "Lewis Carroll"
         ],
         "xaxis": "x",
         "y": [
          11133,
          10069,
          9837,
          11106,
          11119,
          10303,
          10847,
          10988,
          9790,
          10932
         ],
         "yaxis": "y"
        },
        {
         "marker": {
          "color": "#f1c40f"
         },
         "name": "gemini-1.5-flash",
         "showlegend": false,
         "type": "bar",
         "x": [
          "Mark Twain",
          "Zane Grey",
          "Joseph Conrad",
          "Benjamin Disraeli",
          "George Eliot",
          "William Henry Hudson",
          "Lucy Maud Montgomery",
          "Howard Pyle",
          "Virginia Woolf",
          "Lewis Carroll"
         ],
         "xaxis": "x2",
         "y": [
          4.232487573349705,
          4.432497526734819,
          4.531381516601626,
          4.643592234704148,
          4.6643690319131,
          4.5222875585559965,
          4.504214325178976,
          4.447226522564627,
          4.537160131527773,
          4.55630924010589
         ],
         "yaxis": "y2"
        },
        {
         "marker": {
          "color": "#f1c40f"
         },
         "name": "gemini-1.5-flash",
         "showlegend": false,
         "type": "bar",
         "x": [
          "Mark Twain",
          "Zane Grey",
          "Joseph Conrad",
          "Benjamin Disraeli",
          "George Eliot",
          "William Henry Hudson",
          "Lucy Maud Montgomery",
          "Howard Pyle",
          "Virginia Woolf",
          "Lewis Carroll"
         ],
         "xaxis": "x3",
         "y": [
          17.17817665551161,
          18.127241673783093,
          20.560692242526926,
          21.021523786229668,
          21.801951343132284,
          21.207804998153392,
          18.716611661166116,
          19.10861799508819,
          20.267287710498028,
          18.22636761487965
         ],
         "yaxis": "y3"
        },
        {
         "marker": {
          "color": "#f1c40f"
         },
         "name": "gemini-1.5-flash",
         "showlegend": false,
         "type": "bar",
         "x": [
          "Mark Twain",
          "Zane Grey",
          "Joseph Conrad",
          "Benjamin Disraeli",
          "George Eliot",
          "William Henry Hudson",
          "Lucy Maud Montgomery",
          "Howard Pyle",
          "Virginia Woolf",
          "Lewis Carroll"
         ],
         "xaxis": "x4",
         "y": [
          1.3695821575734677,
          1.418800348612616,
          1.4697956949374018,
          1.53673506192806,
          1.5395644567914868,
          1.4720121204381469,
          1.448999024298494,
          1.433468672411275,
          1.4817086824829993,
          1.474821266710287
         ],
         "yaxis": "y4"
        },
        {
         "marker": {
          "color": "#f1c40f"
         },
         "name": "gemini-1.5-flash",
         "showlegend": false,
         "type": "bar",
         "x": [
          "Mark Twain",
          "Zane Grey",
          "Joseph Conrad",
          "Benjamin Disraeli",
          "George Eliot",
          "William Henry Hudson",
          "Lucy Maud Montgomery",
          "Howard Pyle",
          "Virginia Woolf",
          "Lewis Carroll"
         ],
         "xaxis": "x5",
         "y": [
          73.53250016394037,
          68.40534020848285,
          61.621181582131,
          55.49036711786303,
          54.458866342160974,
          60.7768525378071,
          65.25232170826382,
          66.16830304899163,
          60.91114843578279,
          63.565357707206914
         ],
         "yaxis": "y5"
        },
        {
         "marker": {
          "color": "#f1c40f"
         },
         "name": "gemini-1.5-flash",
         "showlegend": false,
         "type": "bar",
         "x": [
          "Mark Twain",
          "Zane Grey",
          "Joseph Conrad",
          "Benjamin Disraeli",
          "George Eliot",
          "William Henry Hudson",
          "Lucy Maud Montgomery",
          "Howard Pyle",
          "Virginia Woolf",
          "Lewis Carroll"
         ],
         "xaxis": "x6",
         "y": [
          7.270558355016451,
          8.221468366404277,
          9.772259174846841,
          10.741868007380681,
          11.079621613961137,
          10.050786970449959,
          8.807667034577015,
          8.77729135253744,
          9.798404660393622,
          8.921174316984452
         ],
         "yaxis": "y6"
        },
        {
         "marker": {
          "color": "#f1c40f"
         },
         "name": "gemini-1.5-flash",
         "showlegend": false,
         "type": "bar",
         "x": [
          "Mark Twain",
          "Zane Grey",
          "Joseph Conrad",
          "Benjamin Disraeli",
          "George Eliot",
          "William Henry Hudson",
          "Lucy Maud Montgomery",
          "Howard Pyle",
          "Virginia Woolf",
          "Lewis Carroll"
         ],
         "xaxis": "x7",
         "y": [
          10.00975254467982,
          10.866574815271,
          12.591025379879401,
          13.736575167543476,
          14.094456152296415,
          12.831619424829212,
          11.542271405740971,
          11.502655610478682,
          12.654758900861754,
          11.696840378644895
         ],
         "yaxis": "y7"
        },
        {
         "marker": {
          "color": "#f1c40f"
         },
         "name": "gemini-1.5-flash",
         "showlegend": false,
         "type": "bar",
         "x": [
          "Mark Twain",
          "Zane Grey",
          "Joseph Conrad",
          "Benjamin Disraeli",
          "George Eliot",
          "William Henry Hudson",
          "Lucy Maud Montgomery",
          "Howard Pyle",
          "Virginia Woolf",
          "Lewis Carroll"
         ],
         "xaxis": "x8",
         "y": [
          110.6643481962906,
          140.1650401610659,
          158.71665953060432,
          154.69813570051454,
          153.19172728449638,
          165.2448933154615,
          130.07494945368623,
          135.80906479447563,
          166.883990961706,
          128.26692856714678
         ],
         "yaxis": "y8"
        },
        {
         "marker": {
          "color": "#f1c40f"
         },
         "name": "gemini-1.5-flash",
         "showlegend": false,
         "type": "bar",
         "x": [
          "Mark Twain",
          "Zane Grey",
          "Joseph Conrad",
          "Benjamin Disraeli",
          "George Eliot",
          "William Henry Hudson",
          "Lucy Maud Montgomery",
          "Howard Pyle",
          "Virginia Woolf",
          "Lewis Carroll"
         ],
         "xaxis": "x9",
         "y": [
          0.7738938856650441,
          0.765392488523003,
          0.7634280499079177,
          0.7727522733994364,
          0.7727866948681549,
          0.7663867631643798,
          0.7714530274979973,
          0.7721342732304092,
          0.7631031328492428,
          0.7734533085110058
         ],
         "yaxis": "y9"
        },
        {
         "marker": {
          "color": "#f1c40f"
         },
         "name": "gemini-1.5-flash",
         "showlegend": false,
         "type": "bar",
         "x": [
          "Mark Twain",
          "Zane Grey",
          "Joseph Conrad",
          "Benjamin Disraeli",
          "George Eliot",
          "William Henry Hudson",
          "Lucy Maud Montgomery",
          "Howard Pyle",
          "Virginia Woolf",
          "Lewis Carroll"
         ],
         "xaxis": "x10",
         "y": [
          0.11305305716747793,
          0.11730375573849851,
          0.11828597504604113,
          0.11362386330028178,
          0.11360665256592253,
          0.11680661841781009,
          0.11427348625100134,
          0.1139328633847954,
          0.11844843357537861,
          0.1132733457444971
         ],
         "yaxis": "y10"
        },
        {
         "marker": {
          "color": "#f1c40f"
         },
         "name": "gemini-1.5-flash",
         "showlegend": false,
         "type": "bar",
         "x": [
          "Mark Twain",
          "Zane Grey",
          "Joseph Conrad",
          "Benjamin Disraeli",
          "George Eliot",
          "William Henry Hudson",
          "Lucy Maud Montgomery",
          "Howard Pyle",
          "Virginia Woolf",
          "Lewis Carroll"
         ],
         "xaxis": "x11",
         "y": [
          0.9888437421317766,
          0.9858841812555192,
          0.9840266770376888,
          0.9844401450108958,
          0.9845908911262136,
          0.9833784515594565,
          0.9869003136653072,
          0.9863280851477821,
          0.9832094558578641,
          0.9870818325732158
         ],
         "yaxis": "y11"
        },
        {
         "marker": {
          "color": "#9b59b6"
         },
         "name": "open-mixtral-8x7b",
         "showlegend": true,
         "type": "bar",
         "x": [
          "Mark Twain",
          "Zane Grey",
          "Joseph Conrad",
          "Benjamin Disraeli",
          "George Eliot",
          "William Henry Hudson",
          "Lucy Maud Montgomery",
          "Howard Pyle",
          "Virginia Woolf",
          "Lewis Carroll"
         ],
         "xaxis": "x",
         "y": [
          12632,
          10895,
          10959,
          12295,
          11576,
          12088,
          11277,
          11890,
          10510,
          12428
         ],
         "yaxis": "y"
        },
        {
         "marker": {
          "color": "#9b59b6"
         },
         "name": "open-mixtral-8x7b",
         "showlegend": false,
         "type": "bar",
         "x": [
          "Mark Twain",
          "Zane Grey",
          "Joseph Conrad",
          "Benjamin Disraeli",
          "George Eliot",
          "William Henry Hudson",
          "Lucy Maud Montgomery",
          "Howard Pyle",
          "Virginia Woolf",
          "Lewis Carroll"
         ],
         "xaxis": "x2",
         "y": [
          4.381703994723409,
          4.466888358344702,
          4.531026408221673,
          4.609228938870319,
          4.652563394256464,
          4.617259462697363,
          4.547938879069502,
          4.463816255618726,
          4.526018798121321,
          4.605824682814302
         ],
         "yaxis": "y2"
        },
        {
         "marker": {
          "color": "#9b59b6"
         },
         "name": "open-mixtral-8x7b",
         "showlegend": false,
         "type": "bar",
         "x": [
          "Mark Twain",
          "Zane Grey",
          "Joseph Conrad",
          "Benjamin Disraeli",
          "George Eliot",
          "William Henry Hudson",
          "Lucy Maud Montgomery",
          "Howard Pyle",
          "Virginia Woolf",
          "Lewis Carroll"
         ],
         "xaxis": "x3",
         "y": [
          22.794482938946267,
          22.487536750607184,
          28.603947581297525,
          26.792653309046752,
          29.34844473858372,
          27.032997250229148,
          23.675755939524837,
          24.458477748509637,
          27.25976833976834,
          21.677709713714215
         ],
         "yaxis": "y3"
        },
        {
         "marker": {
          "color": "#9b59b6"
         },
         "name": "open-mixtral-8x7b",
         "showlegend": false,
         "type": "bar",
         "x": [
          "Mark Twain",
          "Zane Grey",
          "Joseph Conrad",
          "Benjamin Disraeli",
          "George Eliot",
          "William Henry Hudson",
          "Lucy Maud Montgomery",
          "Howard Pyle",
          "Virginia Woolf",
          "Lewis Carroll"
         ],
         "xaxis": "x4",
         "y": [
          1.436161853689312,
          1.4460663938153706,
          1.500291287945204,
          1.5277264744207126,
          1.5415036474952362,
          1.5197334960838165,
          1.4646559096869833,
          1.4401169942013048,
          1.4983881659084342,
          1.4928200692041522
         ],
         "yaxis": "y4"
        },
        {
         "marker": {
          "color": "#9b59b6"
         },
         "name": "open-mixtral-8x7b",
         "showlegend": false,
         "type": "bar",
         "x": [
          "Mark Twain",
          "Zane Grey",
          "Joseph Conrad",
          "Benjamin Disraeli",
          "George Eliot",
          "William Henry Hudson",
          "Lucy Maud Montgomery",
          "Howard Pyle",
          "Virginia Woolf",
          "Lewis Carroll"
         ],
         "xaxis": "x5",
         "y": [
          62.19930699485376,
          61.672933281353366,
          50.877350244818786,
          50.39479715532528,
          46.63512001224058,
          50.827054022326564,
          58.89421776186353,
          60.175747375832344,
          52.402696299281615,
          58.53954678590881
         ],
         "yaxis": "y5"
        },
        {
         "marker": {
          "color": "#9b59b6"
         },
         "name": "open-mixtral-8x7b",
         "showlegend": false,
         "type": "bar",
         "x": [
          "Mark Twain",
          "Zane Grey",
          "Joseph Conrad",
          "Benjamin Disraeli",
          "George Eliot",
          "William Henry Hudson",
          "Lucy Maud Montgomery",
          "Howard Pyle",
          "Virginia Woolf",
          "Lewis Carroll"
         ],
         "xaxis": "x6",
         "y": [
          10.246558219722925,
          10.243722779758176,
          13.268976754459445,
          12.886307188692644,
          14.045636488491436,
          12.885724181378404,
          10.926484550721089,
          10.942186853494157,
          12.722290010229177,
          10.479583604957543
         ],
         "yaxis": "y6"
        },
        {
         "marker": {
          "color": "#9b59b6"
         },
         "name": "open-mixtral-8x7b",
         "showlegend": false,
         "type": "bar",
         "x": [
          "Mark Twain",
          "Zane Grey",
          "Joseph Conrad",
          "Benjamin Disraeli",
          "George Eliot",
          "William Henry Hudson",
          "Lucy Maud Montgomery",
          "Howard Pyle",
          "Virginia Woolf",
          "Lewis Carroll"
         ],
         "xaxis": "x7",
         "y": [
          13.16470895086456,
          13.15417795626834,
          16.37888142334259,
          16.057948525476956,
          17.278158605990367,
          15.97487568215294,
          13.87648288781176,
          13.862770304591505,
          15.819066508064815,
          13.465316872798258
         ],
         "yaxis": "y7"
        },
        {
         "marker": {
          "color": "#9b59b6"
         },
         "name": "open-mixtral-8x7b",
         "showlegend": false,
         "type": "bar",
         "x": [
          "Mark Twain",
          "Zane Grey",
          "Joseph Conrad",
          "Benjamin Disraeli",
          "George Eliot",
          "William Henry Hudson",
          "Lucy Maud Montgomery",
          "Howard Pyle",
          "Virginia Woolf",
          "Lewis Carroll"
         ],
         "xaxis": "x8",
         "y": [
          114.88320454062875,
          132.5834120172673,
          160.51859904396719,
          141.8077673678271,
          155.40063678393733,
          141.4417921613338,
          124.64306027892738,
          135.57477337724075,
          162.92450285387764,
          112.31475111397485
         ],
         "yaxis": "y8"
        },
        {
         "marker": {
          "color": "#9b59b6"
         },
         "name": "open-mixtral-8x7b",
         "showlegend": false,
         "type": "bar",
         "x": [
          "Mark Twain",
          "Zane Grey",
          "Joseph Conrad",
          "Benjamin Disraeli",
          "George Eliot",
          "William Henry Hudson",
          "Lucy Maud Montgomery",
          "Howard Pyle",
          "Virginia Woolf",
          "Lewis Carroll"
         ],
         "xaxis": "x9",
         "y": [
          0.7825094810197166,
          0.7696824819976236,
          0.7698490123805937,
          0.779475575841371,
          0.7741719459041779,
          0.7779069021930693,
          0.7727288042769145,
          0.7767362289048415,
          0.7664923179248482,
          0.7815161056505441
         ],
         "yaxis": "y9"
        },
        {
         "marker": {
          "color": "#9b59b6"
         },
         "name": "open-mixtral-8x7b",
         "showlegend": false,
         "type": "bar",
         "x": [
          "Mark Twain",
          "Zane Grey",
          "Joseph Conrad",
          "Benjamin Disraeli",
          "George Eliot",
          "William Henry Hudson",
          "Lucy Maud Montgomery",
          "Howard Pyle",
          "Virginia Woolf",
          "Lewis Carroll"
         ],
         "xaxis": "x10",
         "y": [
          0.10874525949014167,
          0.11515875900118819,
          0.11507549380970315,
          0.1102622120793145,
          0.11291402704791104,
          0.11104654890346531,
          0.11363559786154277,
          0.11163188554757922,
          0.11675384103757594,
          0.10924194717472799
         ],
         "yaxis": "y10"
        },
        {
         "marker": {
          "color": "#9b59b6"
         },
         "name": "open-mixtral-8x7b",
         "showlegend": false,
         "type": "bar",
         "x": [
          "Mark Twain",
          "Zane Grey",
          "Joseph Conrad",
          "Benjamin Disraeli",
          "George Eliot",
          "William Henry Hudson",
          "Lucy Maud Montgomery",
          "Howard Pyle",
          "Virginia Woolf",
          "Lewis Carroll"
         ],
         "xaxis": "x11",
         "y": [
          0.9884325155180714,
          0.9866498735756941,
          0.9838568908940338,
          0.9857378893876582,
          0.9843735506961744,
          0.9857730941127879,
          0.9874470179057776,
          0.9863584183729571,
          0.9836124022360204,
          0.9886880614190177
         ],
         "yaxis": "y11"
        },
        {
         "marker": {
          "color": "#e67e22"
         },
         "name": "claude-3-haiku-20240307",
         "showlegend": true,
         "type": "bar",
         "x": [
          "Mark Twain",
          "Zane Grey",
          "Joseph Conrad",
          "Benjamin Disraeli",
          "George Eliot",
          "William Henry Hudson",
          "Lucy Maud Montgomery",
          "Howard Pyle",
          "Virginia Woolf",
          "Lewis Carroll"
         ],
         "xaxis": "x",
         "y": [
          12774,
          12421,
          11231,
          11569,
          11947,
          11999,
          12389,
          11932,
          11433,
          12023
         ],
         "yaxis": "y"
        },
        {
         "marker": {
          "color": "#e67e22"
         },
         "name": "claude-3-haiku-20240307",
         "showlegend": false,
         "type": "bar",
         "x": [
          "Mark Twain",
          "Zane Grey",
          "Joseph Conrad",
          "Benjamin Disraeli",
          "George Eliot",
          "William Henry Hudson",
          "Lucy Maud Montgomery",
          "Howard Pyle",
          "Virginia Woolf",
          "Lewis Carroll"
         ],
         "xaxis": "x2",
         "y": [
          4.327376419224128,
          4.618747351179226,
          4.6612233835312455,
          4.719309516966203,
          4.784872470423632,
          4.755488582619394,
          4.63042114030784,
          4.646254290065232,
          4.661116262664763,
          4.684964732937091
         ],
         "yaxis": "y2"
        },
        {
         "marker": {
          "color": "#e67e22"
         },
         "name": "claude-3-haiku-20240307",
         "showlegend": false,
         "type": "bar",
         "x": [
          "Mark Twain",
          "Zane Grey",
          "Joseph Conrad",
          "Benjamin Disraeli",
          "George Eliot",
          "William Henry Hudson",
          "Lucy Maud Montgomery",
          "Howard Pyle",
          "Virginia Woolf",
          "Lewis Carroll"
         ],
         "xaxis": "x3",
         "y": [
          20.777026210895034,
          22.065714646783775,
          27.15409383624655,
          27.032449725776964,
          27.0202743902439,
          26.99360146252285,
          22.17967860306213,
          24.21408915795267,
          25.516475540717085,
          24.81320085166785
         ],
         "yaxis": "y3"
        },
        {
         "marker": {
          "color": "#e67e22"
         },
         "name": "claude-3-haiku-20240307",
         "showlegend": false,
         "type": "bar",
         "x": [
          "Mark Twain",
          "Zane Grey",
          "Joseph Conrad",
          "Benjamin Disraeli",
          "George Eliot",
          "William Henry Hudson",
          "Lucy Maud Montgomery",
          "Howard Pyle",
          "Virginia Woolf",
          "Lewis Carroll"
         ],
         "xaxis": "x4",
         "y": [
          1.4068645974432166,
          1.4846454302830372,
          1.5336732562013338,
          1.5633816310773723,
          1.5687350848786763,
          1.5687187475308433,
          1.5059103408144403,
          1.5147453235447872,
          1.5279406996125906,
          1.5264317054613894
         ],
         "yaxis": "y4"
        },
        {
         "marker": {
          "color": "#e67e22"
         },
         "name": "claude-3-haiku-20240307",
         "showlegend": false,
         "type": "bar",
         "x": [
          "Mark Twain",
          "Zane Grey",
          "Joseph Conrad",
          "Benjamin Disraeli",
          "George Eliot",
          "William Henry Hudson",
          "Lucy Maud Montgomery",
          "Howard Pyle",
          "Virginia Woolf",
          "Lewis Carroll"
         ],
         "xaxis": "x5",
         "y": [
          66.72557345224544,
          58.83729623156954,
          49.524837281576936,
          47.134977539190714,
          46.69443331316643,
          46.72288847442999,
          56.922611384990304,
          54.11024513278906,
          51.671994138947014,
          52.513478853523594
         ],
         "yaxis": "y5"
        },
        {
         "marker": {
          "color": "#e67e22"
         },
         "name": "claude-3-haiku-20240307",
         "showlegend": false,
         "type": "bar",
         "x": [
          "Mark Twain",
          "Zane Grey",
          "Joseph Conrad",
          "Benjamin Disraeli",
          "George Eliot",
          "William Henry Hudson",
          "Lucy Maud Montgomery",
          "Howard Pyle",
          "Virginia Woolf",
          "Lewis Carroll"
         ],
         "xaxis": "x6",
         "y": [
          9.11404247207902,
          10.53444478958551,
          13.097441019311898,
          13.400558639766007,
          13.458981013763502,
          13.448385791247862,
          10.82981667680463,
          11.727489589430032,
          12.391125716308235,
          12.099042456594859
         ],
         "yaxis": "y6"
        },
        {
         "marker": {
          "color": "#e67e22"
         },
         "name": "claude-3-haiku-20240307",
         "showlegend": false,
         "type": "bar",
         "x": [
          "Mark Twain",
          "Zane Grey",
          "Joseph Conrad",
          "Benjamin Disraeli",
          "George Eliot",
          "William Henry Hudson",
          "Lucy Maud Montgomery",
          "Howard Pyle",
          "Virginia Woolf",
          "Lewis Carroll"
         ],
         "xaxis": "x7",
         "y": [
          11.951000469998634,
          13.374812255286367,
          16.17776015517971,
          16.52507574188962,
          16.579521241375666,
          16.584805275221687,
          13.741170757770384,
          14.66665709646061,
          15.413692154471983,
          15.148810021633222
         ],
         "yaxis": "y7"
        },
        {
         "marker": {
          "color": "#e67e22"
         },
         "name": "claude-3-haiku-20240307",
         "showlegend": false,
         "type": "bar",
         "x": [
          "Mark Twain",
          "Zane Grey",
          "Joseph Conrad",
          "Benjamin Disraeli",
          "George Eliot",
          "William Henry Hudson",
          "Lucy Maud Montgomery",
          "Howard Pyle",
          "Virginia Woolf",
          "Lewis Carroll"
         ],
         "xaxis": "x8",
         "y": [
          96.894588872654,
          121.76384929142101,
          158.66660155186443,
          157.32998313487965,
          155.58280394757463,
          147.56325133165677,
          114.89925855256632,
          135.47365956424028,
          157.7523192928011,
          138.26628200173548
         ],
         "yaxis": "y8"
        },
        {
         "marker": {
          "color": "#e67e22"
         },
         "name": "claude-3-haiku-20240307",
         "showlegend": false,
         "type": "bar",
         "x": [
          "Mark Twain",
          "Zane Grey",
          "Joseph Conrad",
          "Benjamin Disraeli",
          "George Eliot",
          "William Henry Hudson",
          "Lucy Maud Montgomery",
          "Howard Pyle",
          "Virginia Woolf",
          "Lewis Carroll"
         ],
         "xaxis": "x9",
         "y": [
          0.7843145557583787,
          0.781020670355783,
          0.771770510813223,
          0.7741005978176494,
          0.776828838128047,
          0.7772125219463489,
          0.7805555975416627,
          0.7771854758293335,
          0.7737231836217346,
          0.7782476306951174
         ],
         "yaxis": "y9"
        },
        {
         "marker": {
          "color": "#e67e22"
         },
         "name": "claude-3-haiku-20240307",
         "showlegend": false,
         "type": "bar",
         "x": [
          "Mark Twain",
          "Zane Grey",
          "Joseph Conrad",
          "Benjamin Disraeli",
          "George Eliot",
          "William Henry Hudson",
          "Lucy Maud Montgomery",
          "Howard Pyle",
          "Virginia Woolf",
          "Lewis Carroll"
         ],
         "xaxis": "x10",
         "y": [
          0.10784272212081064,
          0.10948966482210848,
          0.11411474459338851,
          0.11294970109117532,
          0.11158558093597645,
          0.11139373902682552,
          0.10972220122916863,
          0.11140726208533325,
          0.11313840818913268,
          0.11087618465244131
         ],
         "yaxis": "y10"
        },
        {
         "marker": {
          "color": "#e67e22"
         },
         "name": "claude-3-haiku-20240307",
         "showlegend": false,
         "type": "bar",
         "x": [
          "Mark Twain",
          "Zane Grey",
          "Joseph Conrad",
          "Benjamin Disraeli",
          "George Eliot",
          "William Henry Hudson",
          "Lucy Maud Montgomery",
          "Howard Pyle",
          "Virginia Woolf",
          "Lewis Carroll"
         ],
         "xaxis": "x11",
         "y": [
          0.9902322570983303,
          0.9877431062551426,
          0.9840443005784971,
          0.9841805637921391,
          0.9843580165835635,
          0.9851603345884778,
          0.9884293573798713,
          0.9863688257968445,
          0.9841373019638363,
          0.9860901978831668
         ],
         "yaxis": "y11"
        }
       ],
       "layout": {
        "annotations": [
         {
          "font": {
           "size": 16
          },
          "showarrow": false,
          "text": "Unique word count",
          "x": 0.5,
          "xanchor": "center",
          "xref": "paper",
          "y": 0.9999999999999999,
          "yanchor": "bottom",
          "yref": "paper"
         },
         {
          "font": {
           "size": 16
          },
          "showarrow": false,
          "text": "Average word length",
          "x": 0.5,
          "xanchor": "center",
          "xref": "paper",
          "y": 0.9049586776859503,
          "yanchor": "bottom",
          "yref": "paper"
         },
         {
          "font": {
           "size": 16
          },
          "showarrow": false,
          "text": "Average sentence length",
          "x": 0.5,
          "xanchor": "center",
          "xref": "paper",
          "y": 0.8099173553719007,
          "yanchor": "bottom",
          "yref": "paper"
         },
         {
          "font": {
           "size": 16
          },
          "showarrow": false,
          "text": "Average syllables per word",
          "x": 0.5,
          "xanchor": "center",
          "xref": "paper",
          "y": 0.7148760330578511,
          "yanchor": "bottom",
          "yref": "paper"
         },
         {
          "font": {
           "size": 16
          },
          "showarrow": false,
          "text": "Flesch reading ease",
          "x": 0.5,
          "xanchor": "center",
          "xref": "paper",
          "y": 0.6198347107438015,
          "yanchor": "bottom",
          "yref": "paper"
         },
         {
          "font": {
           "size": 16
          },
          "showarrow": false,
          "text": "Flesch Kincaid Grade Level",
          "x": 0.5,
          "xanchor": "center",
          "xref": "paper",
          "y": 0.524793388429752,
          "yanchor": "bottom",
          "yref": "paper"
         },
         {
          "font": {
           "size": 16
          },
          "showarrow": false,
          "text": "Gunning Fog Index",
          "x": 0.5,
          "xanchor": "center",
          "xref": "paper",
          "y": 0.42975206611570244,
          "yanchor": "bottom",
          "yref": "paper"
         },
         {
          "font": {
           "size": 16
          },
          "showarrow": false,
          "text": "Yules Characteristic K",
          "x": 0.5,
          "xanchor": "center",
          "xref": "paper",
          "y": 0.33471074380165283,
          "yanchor": "bottom",
          "yref": "paper"
         },
         {
          "font": {
           "size": 16
          },
          "showarrow": false,
          "text": "Herdan's C",
          "x": 0.5,
          "xanchor": "center",
          "xref": "paper",
          "y": 0.23966942148760328,
          "yanchor": "bottom",
          "yref": "paper"
         },
         {
          "font": {
           "size": 16
          },
          "showarrow": false,
          "text": "Maas",
          "x": 0.5,
          "xanchor": "center",
          "xref": "paper",
          "y": 0.1446280991735537,
          "yanchor": "bottom",
          "yref": "paper"
         },
         {
          "font": {
           "size": 16
          },
          "showarrow": false,
          "text": "Simpsons_index",
          "x": 0.5,
          "xanchor": "center",
          "xref": "paper",
          "y": 0.04958677685950413,
          "yanchor": "bottom",
          "yref": "paper"
         }
        ],
        "height": 1500,
        "legend": {
         "title": {
          "text": "Collection"
         }
        },
        "template": {
         "data": {
          "bar": [
           {
            "error_x": {
             "color": "#2a3f5f"
            },
            "error_y": {
             "color": "#2a3f5f"
            },
            "marker": {
             "line": {
              "color": "#E5ECF6",
              "width": 0.5
             },
             "pattern": {
              "fillmode": "overlay",
              "size": 10,
              "solidity": 0.2
             }
            },
            "type": "bar"
           }
          ],
          "barpolar": [
           {
            "marker": {
             "line": {
              "color": "#E5ECF6",
              "width": 0.5
             },
             "pattern": {
              "fillmode": "overlay",
              "size": 10,
              "solidity": 0.2
             }
            },
            "type": "barpolar"
           }
          ],
          "carpet": [
           {
            "aaxis": {
             "endlinecolor": "#2a3f5f",
             "gridcolor": "white",
             "linecolor": "white",
             "minorgridcolor": "white",
             "startlinecolor": "#2a3f5f"
            },
            "baxis": {
             "endlinecolor": "#2a3f5f",
             "gridcolor": "white",
             "linecolor": "white",
             "minorgridcolor": "white",
             "startlinecolor": "#2a3f5f"
            },
            "type": "carpet"
           }
          ],
          "choropleth": [
           {
            "colorbar": {
             "outlinewidth": 0,
             "ticks": ""
            },
            "type": "choropleth"
           }
          ],
          "contour": [
           {
            "colorbar": {
             "outlinewidth": 0,
             "ticks": ""
            },
            "colorscale": [
             [
              0,
              "#0d0887"
             ],
             [
              0.1111111111111111,
              "#46039f"
             ],
             [
              0.2222222222222222,
              "#7201a8"
             ],
             [
              0.3333333333333333,
              "#9c179e"
             ],
             [
              0.4444444444444444,
              "#bd3786"
             ],
             [
              0.5555555555555556,
              "#d8576b"
             ],
             [
              0.6666666666666666,
              "#ed7953"
             ],
             [
              0.7777777777777778,
              "#fb9f3a"
             ],
             [
              0.8888888888888888,
              "#fdca26"
             ],
             [
              1,
              "#f0f921"
             ]
            ],
            "type": "contour"
           }
          ],
          "contourcarpet": [
           {
            "colorbar": {
             "outlinewidth": 0,
             "ticks": ""
            },
            "type": "contourcarpet"
           }
          ],
          "heatmap": [
           {
            "colorbar": {
             "outlinewidth": 0,
             "ticks": ""
            },
            "colorscale": [
             [
              0,
              "#0d0887"
             ],
             [
              0.1111111111111111,
              "#46039f"
             ],
             [
              0.2222222222222222,
              "#7201a8"
             ],
             [
              0.3333333333333333,
              "#9c179e"
             ],
             [
              0.4444444444444444,
              "#bd3786"
             ],
             [
              0.5555555555555556,
              "#d8576b"
             ],
             [
              0.6666666666666666,
              "#ed7953"
             ],
             [
              0.7777777777777778,
              "#fb9f3a"
             ],
             [
              0.8888888888888888,
              "#fdca26"
             ],
             [
              1,
              "#f0f921"
             ]
            ],
            "type": "heatmap"
           }
          ],
          "heatmapgl": [
           {
            "colorbar": {
             "outlinewidth": 0,
             "ticks": ""
            },
            "colorscale": [
             [
              0,
              "#0d0887"
             ],
             [
              0.1111111111111111,
              "#46039f"
             ],
             [
              0.2222222222222222,
              "#7201a8"
             ],
             [
              0.3333333333333333,
              "#9c179e"
             ],
             [
              0.4444444444444444,
              "#bd3786"
             ],
             [
              0.5555555555555556,
              "#d8576b"
             ],
             [
              0.6666666666666666,
              "#ed7953"
             ],
             [
              0.7777777777777778,
              "#fb9f3a"
             ],
             [
              0.8888888888888888,
              "#fdca26"
             ],
             [
              1,
              "#f0f921"
             ]
            ],
            "type": "heatmapgl"
           }
          ],
          "histogram": [
           {
            "marker": {
             "pattern": {
              "fillmode": "overlay",
              "size": 10,
              "solidity": 0.2
             }
            },
            "type": "histogram"
           }
          ],
          "histogram2d": [
           {
            "colorbar": {
             "outlinewidth": 0,
             "ticks": ""
            },
            "colorscale": [
             [
              0,
              "#0d0887"
             ],
             [
              0.1111111111111111,
              "#46039f"
             ],
             [
              0.2222222222222222,
              "#7201a8"
             ],
             [
              0.3333333333333333,
              "#9c179e"
             ],
             [
              0.4444444444444444,
              "#bd3786"
             ],
             [
              0.5555555555555556,
              "#d8576b"
             ],
             [
              0.6666666666666666,
              "#ed7953"
             ],
             [
              0.7777777777777778,
              "#fb9f3a"
             ],
             [
              0.8888888888888888,
              "#fdca26"
             ],
             [
              1,
              "#f0f921"
             ]
            ],
            "type": "histogram2d"
           }
          ],
          "histogram2dcontour": [
           {
            "colorbar": {
             "outlinewidth": 0,
             "ticks": ""
            },
            "colorscale": [
             [
              0,
              "#0d0887"
             ],
             [
              0.1111111111111111,
              "#46039f"
             ],
             [
              0.2222222222222222,
              "#7201a8"
             ],
             [
              0.3333333333333333,
              "#9c179e"
             ],
             [
              0.4444444444444444,
              "#bd3786"
             ],
             [
              0.5555555555555556,
              "#d8576b"
             ],
             [
              0.6666666666666666,
              "#ed7953"
             ],
             [
              0.7777777777777778,
              "#fb9f3a"
             ],
             [
              0.8888888888888888,
              "#fdca26"
             ],
             [
              1,
              "#f0f921"
             ]
            ],
            "type": "histogram2dcontour"
           }
          ],
          "mesh3d": [
           {
            "colorbar": {
             "outlinewidth": 0,
             "ticks": ""
            },
            "type": "mesh3d"
           }
          ],
          "parcoords": [
           {
            "line": {
             "colorbar": {
              "outlinewidth": 0,
              "ticks": ""
             }
            },
            "type": "parcoords"
           }
          ],
          "pie": [
           {
            "automargin": true,
            "type": "pie"
           }
          ],
          "scatter": [
           {
            "fillpattern": {
             "fillmode": "overlay",
             "size": 10,
             "solidity": 0.2
            },
            "type": "scatter"
           }
          ],
          "scatter3d": [
           {
            "line": {
             "colorbar": {
              "outlinewidth": 0,
              "ticks": ""
             }
            },
            "marker": {
             "colorbar": {
              "outlinewidth": 0,
              "ticks": ""
             }
            },
            "type": "scatter3d"
           }
          ],
          "scattercarpet": [
           {
            "marker": {
             "colorbar": {
              "outlinewidth": 0,
              "ticks": ""
             }
            },
            "type": "scattercarpet"
           }
          ],
          "scattergeo": [
           {
            "marker": {
             "colorbar": {
              "outlinewidth": 0,
              "ticks": ""
             }
            },
            "type": "scattergeo"
           }
          ],
          "scattergl": [
           {
            "marker": {
             "colorbar": {
              "outlinewidth": 0,
              "ticks": ""
             }
            },
            "type": "scattergl"
           }
          ],
          "scattermapbox": [
           {
            "marker": {
             "colorbar": {
              "outlinewidth": 0,
              "ticks": ""
             }
            },
            "type": "scattermapbox"
           }
          ],
          "scatterpolar": [
           {
            "marker": {
             "colorbar": {
              "outlinewidth": 0,
              "ticks": ""
             }
            },
            "type": "scatterpolar"
           }
          ],
          "scatterpolargl": [
           {
            "marker": {
             "colorbar": {
              "outlinewidth": 0,
              "ticks": ""
             }
            },
            "type": "scatterpolargl"
           }
          ],
          "scatterternary": [
           {
            "marker": {
             "colorbar": {
              "outlinewidth": 0,
              "ticks": ""
             }
            },
            "type": "scatterternary"
           }
          ],
          "surface": [
           {
            "colorbar": {
             "outlinewidth": 0,
             "ticks": ""
            },
            "colorscale": [
             [
              0,
              "#0d0887"
             ],
             [
              0.1111111111111111,
              "#46039f"
             ],
             [
              0.2222222222222222,
              "#7201a8"
             ],
             [
              0.3333333333333333,
              "#9c179e"
             ],
             [
              0.4444444444444444,
              "#bd3786"
             ],
             [
              0.5555555555555556,
              "#d8576b"
             ],
             [
              0.6666666666666666,
              "#ed7953"
             ],
             [
              0.7777777777777778,
              "#fb9f3a"
             ],
             [
              0.8888888888888888,
              "#fdca26"
             ],
             [
              1,
              "#f0f921"
             ]
            ],
            "type": "surface"
           }
          ],
          "table": [
           {
            "cells": {
             "fill": {
              "color": "#EBF0F8"
             },
             "line": {
              "color": "white"
             }
            },
            "header": {
             "fill": {
              "color": "#C8D4E3"
             },
             "line": {
              "color": "white"
             }
            },
            "type": "table"
           }
          ]
         },
         "layout": {
          "annotationdefaults": {
           "arrowcolor": "#2a3f5f",
           "arrowhead": 0,
           "arrowwidth": 1
          },
          "autotypenumbers": "strict",
          "coloraxis": {
           "colorbar": {
            "outlinewidth": 0,
            "ticks": ""
           }
          },
          "colorscale": {
           "diverging": [
            [
             0,
             "#8e0152"
            ],
            [
             0.1,
             "#c51b7d"
            ],
            [
             0.2,
             "#de77ae"
            ],
            [
             0.3,
             "#f1b6da"
            ],
            [
             0.4,
             "#fde0ef"
            ],
            [
             0.5,
             "#f7f7f7"
            ],
            [
             0.6,
             "#e6f5d0"
            ],
            [
             0.7,
             "#b8e186"
            ],
            [
             0.8,
             "#7fbc41"
            ],
            [
             0.9,
             "#4d9221"
            ],
            [
             1,
             "#276419"
            ]
           ],
           "sequential": [
            [
             0,
             "#0d0887"
            ],
            [
             0.1111111111111111,
             "#46039f"
            ],
            [
             0.2222222222222222,
             "#7201a8"
            ],
            [
             0.3333333333333333,
             "#9c179e"
            ],
            [
             0.4444444444444444,
             "#bd3786"
            ],
            [
             0.5555555555555556,
             "#d8576b"
            ],
            [
             0.6666666666666666,
             "#ed7953"
            ],
            [
             0.7777777777777778,
             "#fb9f3a"
            ],
            [
             0.8888888888888888,
             "#fdca26"
            ],
            [
             1,
             "#f0f921"
            ]
           ],
           "sequentialminus": [
            [
             0,
             "#0d0887"
            ],
            [
             0.1111111111111111,
             "#46039f"
            ],
            [
             0.2222222222222222,
             "#7201a8"
            ],
            [
             0.3333333333333333,
             "#9c179e"
            ],
            [
             0.4444444444444444,
             "#bd3786"
            ],
            [
             0.5555555555555556,
             "#d8576b"
            ],
            [
             0.6666666666666666,
             "#ed7953"
            ],
            [
             0.7777777777777778,
             "#fb9f3a"
            ],
            [
             0.8888888888888888,
             "#fdca26"
            ],
            [
             1,
             "#f0f921"
            ]
           ]
          },
          "colorway": [
           "#636efa",
           "#EF553B",
           "#00cc96",
           "#ab63fa",
           "#FFA15A",
           "#19d3f3",
           "#FF6692",
           "#B6E880",
           "#FF97FF",
           "#FECB52"
          ],
          "font": {
           "color": "#2a3f5f"
          },
          "geo": {
           "bgcolor": "white",
           "lakecolor": "white",
           "landcolor": "#E5ECF6",
           "showlakes": true,
           "showland": true,
           "subunitcolor": "white"
          },
          "hoverlabel": {
           "align": "left"
          },
          "hovermode": "closest",
          "mapbox": {
           "style": "light"
          },
          "paper_bgcolor": "white",
          "plot_bgcolor": "#E5ECF6",
          "polar": {
           "angularaxis": {
            "gridcolor": "white",
            "linecolor": "white",
            "ticks": ""
           },
           "bgcolor": "#E5ECF6",
           "radialaxis": {
            "gridcolor": "white",
            "linecolor": "white",
            "ticks": ""
           }
          },
          "scene": {
           "xaxis": {
            "backgroundcolor": "#E5ECF6",
            "gridcolor": "white",
            "gridwidth": 2,
            "linecolor": "white",
            "showbackground": true,
            "ticks": "",
            "zerolinecolor": "white"
           },
           "yaxis": {
            "backgroundcolor": "#E5ECF6",
            "gridcolor": "white",
            "gridwidth": 2,
            "linecolor": "white",
            "showbackground": true,
            "ticks": "",
            "zerolinecolor": "white"
           },
           "zaxis": {
            "backgroundcolor": "#E5ECF6",
            "gridcolor": "white",
            "gridwidth": 2,
            "linecolor": "white",
            "showbackground": true,
            "ticks": "",
            "zerolinecolor": "white"
           }
          },
          "shapedefaults": {
           "line": {
            "color": "#2a3f5f"
           }
          },
          "ternary": {
           "aaxis": {
            "gridcolor": "white",
            "linecolor": "white",
            "ticks": ""
           },
           "baxis": {
            "gridcolor": "white",
            "linecolor": "white",
            "ticks": ""
           },
           "bgcolor": "#E5ECF6",
           "caxis": {
            "gridcolor": "white",
            "linecolor": "white",
            "ticks": ""
           }
          },
          "title": {
           "x": 0.05
          },
          "xaxis": {
           "automargin": true,
           "gridcolor": "white",
           "linecolor": "white",
           "ticks": "",
           "title": {
            "standoff": 15
           },
           "zerolinecolor": "white",
           "zerolinewidth": 2
          },
          "yaxis": {
           "automargin": true,
           "gridcolor": "white",
           "linecolor": "white",
           "ticks": "",
           "title": {
            "standoff": 15
           },
           "zerolinecolor": "white",
           "zerolinewidth": 2
          }
         }
        },
        "xaxis": {
         "anchor": "y",
         "domain": [
          0,
          1
         ],
         "tickfont": {
          "size": 10
         }
        },
        "xaxis10": {
         "anchor": "y10",
         "domain": [
          0,
          1
         ],
         "tickfont": {
          "size": 10
         }
        },
        "xaxis11": {
         "anchor": "y11",
         "domain": [
          0,
          1
         ],
         "tickfont": {
          "size": 10
         }
        },
        "xaxis2": {
         "anchor": "y2",
         "domain": [
          0,
          1
         ],
         "tickfont": {
          "size": 10
         }
        },
        "xaxis3": {
         "anchor": "y3",
         "domain": [
          0,
          1
         ],
         "tickfont": {
          "size": 10
         }
        },
        "xaxis4": {
         "anchor": "y4",
         "domain": [
          0,
          1
         ],
         "tickfont": {
          "size": 10
         }
        },
        "xaxis5": {
         "anchor": "y5",
         "domain": [
          0,
          1
         ],
         "tickfont": {
          "size": 10
         }
        },
        "xaxis6": {
         "anchor": "y6",
         "domain": [
          0,
          1
         ],
         "tickfont": {
          "size": 10
         }
        },
        "xaxis7": {
         "anchor": "y7",
         "domain": [
          0,
          1
         ],
         "tickfont": {
          "size": 10
         }
        },
        "xaxis8": {
         "anchor": "y8",
         "domain": [
          0,
          1
         ],
         "tickfont": {
          "size": 10
         }
        },
        "xaxis9": {
         "anchor": "y9",
         "domain": [
          0,
          1
         ],
         "tickfont": {
          "size": 10
         }
        },
        "yaxis": {
         "anchor": "x",
         "domain": [
          0.9504132231404958,
          0.9999999999999999
         ]
        },
        "yaxis10": {
         "anchor": "x10",
         "domain": [
          0.09504132231404958,
          0.1446280991735537
         ]
        },
        "yaxis11": {
         "anchor": "x11",
         "domain": [
          0,
          0.04958677685950413
         ]
        },
        "yaxis2": {
         "anchor": "x2",
         "domain": [
          0.8553719008264462,
          0.9049586776859503
         ]
        },
        "yaxis3": {
         "anchor": "x3",
         "domain": [
          0.7603305785123966,
          0.8099173553719007
         ]
        },
        "yaxis4": {
         "anchor": "x4",
         "domain": [
          0.665289256198347,
          0.7148760330578511
         ]
        },
        "yaxis5": {
         "anchor": "x5",
         "domain": [
          0.5702479338842974,
          0.6198347107438015
         ]
        },
        "yaxis6": {
         "anchor": "x6",
         "domain": [
          0.4752066115702479,
          0.524793388429752
         ]
        },
        "yaxis7": {
         "anchor": "x7",
         "domain": [
          0.3801652892561983,
          0.42975206611570244
         ]
        },
        "yaxis8": {
         "anchor": "x8",
         "domain": [
          0.2851239669421487,
          0.33471074380165283
         ]
        },
        "yaxis9": {
         "anchor": "x9",
         "domain": [
          0.19008264462809915,
          0.23966942148760328
         ]
        }
       }
      }
     },
     "metadata": {},
     "output_type": "display_data"
    },
    {
     "data": {
      "application/vnd.plotly.v1+json": {
       "config": {
        "plotlyServerURL": "https://plot.ly"
       },
       "data": [
        {
         "marker": {
          "color": "#3498db"
         },
         "name": "books",
         "showlegend": true,
         "type": "bar",
         "x": [
          "the",
          "and",
          "of",
          "a",
          "to",
          "in",
          "it",
          "was",
          "that",
          "is"
         ],
         "xaxis": "x",
         "y": [
          8905,
          7448,
          4963,
          4374,
          4130,
          2850,
          2487,
          2457,
          2165,
          1552
         ],
         "yaxis": "y"
        },
        {
         "marker": {
          "color": "#3498db"
         },
         "name": "books",
         "showlegend": false,
         "type": "bar",
         "x": [
          "the",
          "and",
          "of",
          "to",
          "a",
          "he",
          "was",
          "in",
          "his",
          "had"
         ],
         "xaxis": "x2",
         "y": [
          8449,
          5067,
          4218,
          4155,
          3649,
          2386,
          2366,
          2210,
          1955,
          1722
         ],
         "yaxis": "y2"
        },
        {
         "marker": {
          "color": "#3498db"
         },
         "name": "books",
         "showlegend": false,
         "type": "bar",
         "x": [
          "the",
          "of",
          "a",
          "to",
          "and",
          "in",
          "his",
          "was",
          "that",
          "he"
         ],
         "xaxis": "x3",
         "y": [
          9478,
          6348,
          4424,
          4202,
          3517,
          3104,
          2459,
          2366,
          2109,
          2098
         ],
         "yaxis": "y3"
        },
        {
         "marker": {
          "color": "#3498db"
         },
         "name": "books",
         "showlegend": false,
         "type": "bar",
         "x": [
          "the",
          "of",
          "and",
          "to",
          "a",
          "in",
          "was",
          "his",
          "that",
          "he"
         ],
         "xaxis": "x4",
         "y": [
          8577,
          5518,
          5441,
          4021,
          3815,
          2465,
          2287,
          2208,
          1975,
          1789
         ],
         "yaxis": "y4"
        },
        {
         "marker": {
          "color": "#3498db"
         },
         "name": "books",
         "showlegend": false,
         "type": "bar",
         "x": [
          "the",
          "to",
          "and",
          "of",
          "a",
          "in",
          "was",
          "her",
          "that",
          "he"
         ],
         "xaxis": "x5",
         "y": [
          7433,
          4926,
          4760,
          4440,
          3828,
          2575,
          2422,
          2337,
          2318,
          1823
         ],
         "yaxis": "y5"
        },
        {
         "marker": {
          "color": "#3498db"
         },
         "name": "books",
         "showlegend": false,
         "type": "bar",
         "x": [
          "the",
          "and",
          "to",
          "of",
          "a",
          "in",
          "that",
          "was",
          "it",
          "with"
         ],
         "xaxis": "x6",
         "y": [
          8979,
          6947,
          5053,
          4612,
          4341,
          3351,
          2424,
          2209,
          2058,
          1622
         ],
         "yaxis": "y6"
        },
        {
         "marker": {
          "color": "#3498db"
         },
         "name": "books",
         "showlegend": false,
         "type": "bar",
         "x": [
          "the",
          "and",
          "to",
          "a",
          "of",
          "was",
          "it",
          "in",
          "her",
          "that"
         ],
         "xaxis": "x7",
         "y": [
          6232,
          5010,
          4422,
          3446,
          3352,
          2450,
          2393,
          2251,
          2079,
          2023
         ],
         "yaxis": "y7"
        },
        {
         "marker": {
          "color": "#3498db"
         },
         "name": "books",
         "showlegend": false,
         "type": "bar",
         "x": [
          "the",
          "and",
          "of",
          "to",
          "a",
          "he",
          "that",
          "in",
          "his",
          "was"
         ],
         "xaxis": "x8",
         "y": [
          10323,
          6338,
          4914,
          3873,
          3851,
          3141,
          2581,
          2449,
          2427,
          2095
         ],
         "yaxis": "y8"
        },
        {
         "marker": {
          "color": "#3498db"
         },
         "name": "books",
         "showlegend": false,
         "type": "bar",
         "x": [
          "the",
          "and",
          "of",
          "to",
          "a",
          "in",
          "her",
          "she",
          "was",
          "that"
         ],
         "xaxis": "x9",
         "y": [
          8388,
          4918,
          4865,
          4286,
          3305,
          2765,
          2550,
          2325,
          2214,
          2012
         ],
         "yaxis": "y9"
        },
        {
         "marker": {
          "color": "#3498db"
         },
         "name": "books",
         "showlegend": false,
         "type": "bar",
         "x": [
          "the",
          "to",
          "and",
          "a",
          "of",
          "it",
          "in",
          "you",
          "said",
          "that"
         ],
         "xaxis": "x10",
         "y": [
          7821,
          4060,
          3774,
          3603,
          3030,
          2497,
          2054,
          1873,
          1861,
          1713
         ],
         "yaxis": "y10"
        },
        {
         "marker": {
          "color": "#e74c3c"
         },
         "name": "gpt-3.5-turbo-0125",
         "showlegend": true,
         "type": "bar",
         "x": [
          "the",
          "a",
          "of",
          "and",
          "to",
          "in",
          "that",
          "you",
          "with",
          "is"
         ],
         "xaxis": "x11",
         "y": [
          11012,
          6871,
          6736,
          6325,
          4723,
          2940,
          2722,
          2010,
          1799,
          1453
         ],
         "yaxis": "y11"
        },
        {
         "marker": {
          "color": "#e74c3c"
         },
         "name": "gpt-3.5-turbo-0125",
         "showlegend": false,
         "type": "bar",
         "x": [
          "the",
          "of",
          "a",
          "and",
          "to",
          "in",
          "that",
          "with",
          "as",
          "their"
         ],
         "xaxis": "x12",
         "y": [
          13074,
          8114,
          7155,
          6584,
          4405,
          3038,
          2689,
          2011,
          1453,
          1417
         ],
         "yaxis": "y12"
        },
        {
         "marker": {
          "color": "#e74c3c"
         },
         "name": "gpt-3.5-turbo-0125",
         "showlegend": false,
         "type": "bar",
         "x": [
          "the",
          "of",
          "and",
          "a",
          "to",
          "in",
          "that",
          "with",
          "is",
          "their"
         ],
         "xaxis": "x13",
         "y": [
          12846,
          9054,
          7158,
          7102,
          4515,
          3009,
          2979,
          1939,
          1501,
          1360
         ],
         "yaxis": "y13"
        },
        {
         "marker": {
          "color": "#e74c3c"
         },
         "name": "gpt-3.5-turbo-0125",
         "showlegend": false,
         "type": "bar",
         "x": [
          "the",
          "of",
          "and",
          "a",
          "to",
          "that",
          "in",
          "with",
          "is",
          "you"
         ],
         "xaxis": "x14",
         "y": [
          11800,
          8247,
          7781,
          6726,
          4971,
          2810,
          2794,
          1768,
          1753,
          1259
         ],
         "yaxis": "y14"
        },
        {
         "marker": {
          "color": "#e74c3c"
         },
         "name": "gpt-3.5-turbo-0125",
         "showlegend": false,
         "type": "bar",
         "x": [
          "the",
          "of",
          "and",
          "a",
          "to",
          "in",
          "that",
          "with",
          "is",
          "as"
         ],
         "xaxis": "x15",
         "y": [
          12638,
          8704,
          7681,
          6638,
          4715,
          3002,
          2819,
          1944,
          1443,
          1386
         ],
         "yaxis": "y15"
        },
        {
         "marker": {
          "color": "#e74c3c"
         },
         "name": "gpt-3.5-turbo-0125",
         "showlegend": false,
         "type": "bar",
         "x": [
          "the",
          "of",
          "and",
          "a",
          "to",
          "that",
          "in",
          "with",
          "is",
          "as"
         ],
         "xaxis": "x16",
         "y": [
          12832,
          8655,
          7683,
          6798,
          4948,
          2926,
          2853,
          1850,
          1557,
          1352
         ],
         "yaxis": "y16"
        },
        {
         "marker": {
          "color": "#e74c3c"
         },
         "name": "gpt-3.5-turbo-0125",
         "showlegend": false,
         "type": "bar",
         "x": [
          "the",
          "of",
          "and",
          "a",
          "to",
          "in",
          "that",
          "with",
          "their",
          "as"
         ],
         "xaxis": "x17",
         "y": [
          12013,
          6960,
          6884,
          6538,
          4755,
          3030,
          2600,
          2026,
          1555,
          1385
         ],
         "yaxis": "y17"
        },
        {
         "marker": {
          "color": "#e74c3c"
         },
         "name": "gpt-3.5-turbo-0125",
         "showlegend": false,
         "type": "bar",
         "x": [
          "the",
          "of",
          "and",
          "a",
          "to",
          "in",
          "that",
          "with",
          "their",
          "as"
         ],
         "xaxis": "x18",
         "y": [
          12745,
          7476,
          6770,
          6476,
          4771,
          2894,
          2589,
          2060,
          1413,
          1367
         ],
         "yaxis": "y18"
        },
        {
         "marker": {
          "color": "#e74c3c"
         },
         "name": "gpt-3.5-turbo-0125",
         "showlegend": false,
         "type": "bar",
         "x": [
          "the",
          "of",
          "a",
          "and",
          "to",
          "in",
          "that",
          "with",
          "is",
          "their"
         ],
         "xaxis": "x19",
         "y": [
          13130,
          9306,
          7522,
          7113,
          4541,
          3000,
          2864,
          1865,
          1580,
          1339
         ],
         "yaxis": "y19"
        },
        {
         "marker": {
          "color": "#e74c3c"
         },
         "name": "gpt-3.5-turbo-0125",
         "showlegend": false,
         "type": "bar",
         "x": [
          "the",
          "of",
          "and",
          "a",
          "to",
          "in",
          "that",
          "with",
          "their",
          "as"
         ],
         "xaxis": "x20",
         "y": [
          12562,
          7445,
          6923,
          6901,
          4743,
          3112,
          2548,
          2058,
          1539,
          1323
         ],
         "yaxis": "y20"
        },
        {
         "marker": {
          "color": "#2ecc71"
         },
         "name": "gpt-4o",
         "showlegend": true,
         "type": "bar",
         "x": [
          "the",
          "a",
          "of",
          "and",
          "to",
          "in",
          "you",
          "that",
          "with",
          "is"
         ],
         "xaxis": "x21",
         "y": [
          10432,
          7639,
          6405,
          5490,
          3919,
          2351,
          2191,
          2191,
          1909,
          1755
         ],
         "yaxis": "y21"
        },
        {
         "marker": {
          "color": "#2ecc71"
         },
         "name": "gpt-4o",
         "showlegend": false,
         "type": "bar",
         "x": [
          "the",
          "of",
          "a",
          "and",
          "to",
          "in",
          "that",
          "with",
          "is",
          "was"
         ],
         "xaxis": "x22",
         "y": [
          13890,
          8085,
          6724,
          5650,
          3735,
          2357,
          2333,
          2162,
          1349,
          1261
         ],
         "yaxis": "y22"
        },
        {
         "marker": {
          "color": "#2ecc71"
         },
         "name": "gpt-4o",
         "showlegend": false,
         "type": "bar",
         "x": [
          "the",
          "of",
          "a",
          "and",
          "to",
          "that",
          "in",
          "is",
          "with",
          "its"
         ],
         "xaxis": "x23",
         "y": [
          14163,
          9787,
          7208,
          5134,
          3897,
          2627,
          2476,
          2165,
          2048,
          1057
         ],
         "yaxis": "y23"
        },
        {
         "marker": {
          "color": "#2ecc71"
         },
         "name": "gpt-4o",
         "showlegend": false,
         "type": "bar",
         "x": [
          "the",
          "of",
          "a",
          "and",
          "to",
          "that",
          "in",
          "is",
          "with",
          "as"
         ],
         "xaxis": "x24",
         "y": [
          13641,
          10066,
          6815,
          5686,
          3741,
          2511,
          2314,
          2286,
          2223,
          1127
         ],
         "yaxis": "y24"
        },
        {
         "marker": {
          "color": "#2ecc71"
         },
         "name": "gpt-4o",
         "showlegend": false,
         "type": "bar",
         "x": [
          "the",
          "of",
          "a",
          "and",
          "to",
          "that",
          "in",
          "with",
          "is",
          "as"
         ],
         "xaxis": "x25",
         "y": [
          13170,
          9106,
          6710,
          5542,
          3916,
          2455,
          2382,
          2205,
          1812,
          1018
         ],
         "yaxis": "y25"
        },
        {
         "marker": {
          "color": "#2ecc71"
         },
         "name": "gpt-4o",
         "showlegend": false,
         "type": "bar",
         "x": [
          "the",
          "of",
          "a",
          "and",
          "to",
          "that",
          "in",
          "with",
          "is",
          "as"
         ],
         "xaxis": "x26",
         "y": [
          13457,
          8810,
          6887,
          5878,
          3913,
          2425,
          2384,
          2153,
          1902,
          1105
         ],
         "yaxis": "y26"
        },
        {
         "marker": {
          "color": "#2ecc71"
         },
         "name": "gpt-4o",
         "showlegend": false,
         "type": "bar",
         "x": [
          "the",
          "of",
          "a",
          "and",
          "to",
          "with",
          "in",
          "that",
          "is",
          "was"
         ],
         "xaxis": "x27",
         "y": [
          12881,
          8154,
          6748,
          5671,
          3802,
          2477,
          2382,
          2284,
          1369,
          1240
         ],
         "yaxis": "y27"
        },
        {
         "marker": {
          "color": "#2ecc71"
         },
         "name": "gpt-4o",
         "showlegend": false,
         "type": "bar",
         "x": [
          "the",
          "of",
          "a",
          "and",
          "to",
          "with",
          "in",
          "that",
          "is",
          "as"
         ],
         "xaxis": "x28",
         "y": [
          13567,
          8466,
          6319,
          6187,
          3742,
          2385,
          2343,
          2174,
          1395,
          1095
         ],
         "yaxis": "y28"
        },
        {
         "marker": {
          "color": "#2ecc71"
         },
         "name": "gpt-4o",
         "showlegend": false,
         "type": "bar",
         "x": [
          "the",
          "of",
          "a",
          "and",
          "to",
          "that",
          "in",
          "with",
          "is",
          "its"
         ],
         "xaxis": "x29",
         "y": [
          13706,
          9407,
          7361,
          5082,
          3677,
          2519,
          2493,
          2193,
          2158,
          1067
         ],
         "yaxis": "y29"
        },
        {
         "marker": {
          "color": "#2ecc71"
         },
         "name": "gpt-4o",
         "showlegend": false,
         "type": "bar",
         "x": [
          "the",
          "of",
          "a",
          "and",
          "to",
          "with",
          "in",
          "that",
          "is",
          "as"
         ],
         "xaxis": "x30",
         "y": [
          11682,
          7135,
          7080,
          5562,
          3687,
          2441,
          2381,
          2006,
          1420,
          1229
         ],
         "yaxis": "y30"
        },
        {
         "marker": {
          "color": "#f1c40f"
         },
         "name": "gemini-1.5-flash",
         "showlegend": true,
         "type": "bar",
         "x": [
          "the",
          "a",
          "of",
          "and",
          "to",
          "you",
          "that",
          "in",
          "with",
          "it"
         ],
         "xaxis": "x31",
         "y": [
          9860,
          9792,
          6098,
          4064,
          3645,
          2795,
          2192,
          1972,
          1564,
          1561
         ],
         "yaxis": "y31"
        },
        {
         "marker": {
          "color": "#f1c40f"
         },
         "name": "gemini-1.5-flash",
         "showlegend": false,
         "type": "bar",
         "x": [
          "the",
          "a",
          "of",
          "and",
          "to",
          "that",
          "in",
          "with",
          "was",
          "his"
         ],
         "xaxis": "x32",
         "y": [
          13196,
          9109,
          8505,
          3780,
          3654,
          2146,
          2074,
          2038,
          1692,
          1587
         ],
         "yaxis": "y32"
        },
        {
         "marker": {
          "color": "#f1c40f"
         },
         "name": "gemini-1.5-flash",
         "showlegend": false,
         "type": "bar",
         "x": [
          "the",
          "of",
          "a",
          "and",
          "to",
          "that",
          "in",
          "with",
          "its",
          "his"
         ],
         "xaxis": "x33",
         "y": [
          13476,
          10453,
          9874,
          3500,
          3332,
          2339,
          2234,
          2077,
          1538,
          1354
         ],
         "yaxis": "y33"
        },
        {
         "marker": {
          "color": "#f1c40f"
         },
         "name": "gemini-1.5-flash",
         "showlegend": false,
         "type": "bar",
         "x": [
          "the",
          "of",
          "a",
          "and",
          "to",
          "that",
          "in",
          "is",
          "with",
          "its"
         ],
         "xaxis": "x34",
         "y": [
          13250,
          10811,
          9578,
          4100,
          3704,
          2257,
          2058,
          2056,
          1808,
          1269
         ],
         "yaxis": "y34"
        },
        {
         "marker": {
          "color": "#f1c40f"
         },
         "name": "gemini-1.5-flash",
         "showlegend": false,
         "type": "bar",
         "x": [
          "the",
          "of",
          "a",
          "and",
          "to",
          "that",
          "in",
          "with",
          "is",
          "its"
         ],
         "xaxis": "x35",
         "y": [
          13291,
          10550,
          9389,
          4205,
          4025,
          2330,
          2266,
          1862,
          1747,
          1470
         ],
         "yaxis": "y35"
        },
        {
         "marker": {
          "color": "#f1c40f"
         },
         "name": "gemini-1.5-flash",
         "showlegend": false,
         "type": "bar",
         "x": [
          "the",
          "of",
          "a",
          "and",
          "to",
          "that",
          "in",
          "is",
          "with",
          "its"
         ],
         "xaxis": "x36",
         "y": [
          14634,
          10521,
          9458,
          4103,
          3824,
          2398,
          2078,
          1923,
          1865,
          1524
         ],
         "yaxis": "y36"
        },
        {
         "marker": {
          "color": "#f1c40f"
         },
         "name": "gemini-1.5-flash",
         "showlegend": false,
         "type": "bar",
         "x": [
          "the",
          "a",
          "of",
          "and",
          "to",
          "with",
          "in",
          "that",
          "is",
          "their"
         ],
         "xaxis": "x37",
         "y": [
          12025,
          9138,
          8568,
          4366,
          3379,
          2266,
          2198,
          2092,
          1453,
          1199
         ],
         "yaxis": "y37"
        },
        {
         "marker": {
          "color": "#f1c40f"
         },
         "name": "gemini-1.5-flash",
         "showlegend": false,
         "type": "bar",
         "x": [
          "the",
          "a",
          "of",
          "and",
          "to",
          "that",
          "in",
          "with",
          "is",
          "its"
         ],
         "xaxis": "x38",
         "y": [
          12625,
          8838,
          8833,
          4846,
          3814,
          2135,
          2123,
          2028,
          1840,
          1252
         ],
         "yaxis": "y38"
        },
        {
         "marker": {
          "color": "#f1c40f"
         },
         "name": "gemini-1.5-flash",
         "showlegend": false,
         "type": "bar",
         "x": [
          "the",
          "of",
          "a",
          "to",
          "and",
          "in",
          "that",
          "with",
          "its",
          "is"
         ],
         "xaxis": "x39",
         "y": [
          13748,
          10695,
          10285,
          3712,
          3508,
          2128,
          2088,
          1939,
          1748,
          1673
         ],
         "yaxis": "y39"
        },
        {
         "marker": {
          "color": "#f1c40f"
         },
         "name": "gemini-1.5-flash",
         "showlegend": false,
         "type": "bar",
         "x": [
          "the",
          "a",
          "of",
          "and",
          "to",
          "with",
          "in",
          "that",
          "is",
          "you"
         ],
         "xaxis": "x40",
         "y": [
          11285,
          9606,
          8402,
          3646,
          3303,
          2302,
          1900,
          1863,
          1593,
          1205
         ],
         "yaxis": "y40"
        },
        {
         "marker": {
          "color": "#9b59b6"
         },
         "name": "open-mixtral-8x7b",
         "showlegend": true,
         "type": "bar",
         "x": [
          "the",
          "of",
          "and",
          "a",
          "to",
          "that",
          "in",
          "you",
          "is",
          "with"
         ],
         "xaxis": "x41",
         "y": [
          11428,
          7329,
          6596,
          6389,
          4450,
          3100,
          2437,
          1930,
          1773,
          1611
         ],
         "yaxis": "y41"
        },
        {
         "marker": {
          "color": "#9b59b6"
         },
         "name": "open-mixtral-8x7b",
         "showlegend": false,
         "type": "bar",
         "x": [
          "the",
          "of",
          "and",
          "a",
          "to",
          "that",
          "in",
          "with",
          "their",
          "as"
         ],
         "xaxis": "x42",
         "y": [
          13330,
          7711,
          7524,
          5917,
          4909,
          3548,
          2436,
          1702,
          1469,
          1444
         ],
         "yaxis": "y42"
        },
        {
         "marker": {
          "color": "#9b59b6"
         },
         "name": "open-mixtral-8x7b",
         "showlegend": false,
         "type": "bar",
         "x": [
          "the",
          "of",
          "and",
          "a",
          "to",
          "that",
          "in",
          "is",
          "as",
          "with"
         ],
         "xaxis": "x43",
         "y": [
          14553,
          9794,
          8111,
          6586,
          4697,
          4145,
          2632,
          2535,
          1469,
          1424
         ],
         "yaxis": "y43"
        },
        {
         "marker": {
          "color": "#9b59b6"
         },
         "name": "open-mixtral-8x7b",
         "showlegend": false,
         "type": "bar",
         "x": [
          "the",
          "of",
          "and",
          "a",
          "to",
          "that",
          "in",
          "is",
          "with",
          "as"
         ],
         "xaxis": "x44",
         "y": [
          13529,
          9203,
          7736,
          5884,
          4886,
          3522,
          2620,
          2385,
          1482,
          1341
         ],
         "yaxis": "y44"
        },
        {
         "marker": {
          "color": "#9b59b6"
         },
         "name": "open-mixtral-8x7b",
         "showlegend": false,
         "type": "bar",
         "x": [
          "the",
          "of",
          "and",
          "a",
          "to",
          "that",
          "in",
          "is",
          "as",
          "with"
         ],
         "xaxis": "x45",
         "y": [
          14314,
          9999,
          8396,
          5975,
          4718,
          3729,
          2772,
          2239,
          1467,
          1443
         ],
         "yaxis": "y45"
        },
        {
         "marker": {
          "color": "#9b59b6"
         },
         "name": "open-mixtral-8x7b",
         "showlegend": false,
         "type": "bar",
         "x": [
          "the",
          "of",
          "and",
          "a",
          "to",
          "that",
          "in",
          "is",
          "with",
          "as"
         ],
         "xaxis": "x46",
         "y": [
          13642,
          8899,
          7981,
          5987,
          4885,
          3345,
          2621,
          2043,
          1651,
          1495
         ],
         "yaxis": "y46"
        },
        {
         "marker": {
          "color": "#9b59b6"
         },
         "name": "open-mixtral-8x7b",
         "showlegend": false,
         "type": "bar",
         "x": [
          "the",
          "of",
          "and",
          "a",
          "to",
          "that",
          "in",
          "with",
          "as",
          "their"
         ],
         "xaxis": "x47",
         "y": [
          12721,
          7641,
          7521,
          5866,
          4549,
          3050,
          2447,
          1975,
          1460,
          1441
         ],
         "yaxis": "y47"
        },
        {
         "marker": {
          "color": "#9b59b6"
         },
         "name": "open-mixtral-8x7b",
         "showlegend": false,
         "type": "bar",
         "x": [
          "the",
          "and",
          "of",
          "a",
          "to",
          "that",
          "in",
          "with",
          "is",
          "as"
         ],
         "xaxis": "x48",
         "y": [
          13364,
          8377,
          7884,
          6027,
          4701,
          3233,
          2435,
          1769,
          1493,
          1460
         ],
         "yaxis": "y48"
        },
        {
         "marker": {
          "color": "#9b59b6"
         },
         "name": "open-mixtral-8x7b",
         "showlegend": false,
         "type": "bar",
         "x": [
          "the",
          "of",
          "and",
          "a",
          "to",
          "that",
          "in",
          "is",
          "our",
          "with"
         ],
         "xaxis": "x49",
         "y": [
          14996,
          9751,
          7756,
          6500,
          4835,
          4040,
          2856,
          2510,
          1570,
          1441
         ],
         "yaxis": "y49"
        },
        {
         "marker": {
          "color": "#9b59b6"
         },
         "name": "open-mixtral-8x7b",
         "showlegend": false,
         "type": "bar",
         "x": [
          "the",
          "of",
          "and",
          "a",
          "to",
          "in",
          "that",
          "with",
          "as",
          "is"
         ],
         "xaxis": "x50",
         "y": [
          11856,
          7191,
          6545,
          5940,
          4345,
          2462,
          2457,
          1843,
          1560,
          1414
         ],
         "yaxis": "y50"
        },
        {
         "marker": {
          "color": "#e67e22"
         },
         "name": "claude-3-haiku-20240307",
         "showlegend": true,
         "type": "bar",
         "x": [
          "the",
          "of",
          "a",
          "to",
          "and",
          "you",
          "that",
          "in",
          "it",
          "my"
         ],
         "xaxis": "x51",
         "y": [
          10674,
          6105,
          5841,
          4565,
          4432,
          2716,
          2688,
          2118,
          1577,
          1401
         ],
         "yaxis": "y51"
        },
        {
         "marker": {
          "color": "#e67e22"
         },
         "name": "claude-3-haiku-20240307",
         "showlegend": false,
         "type": "bar",
         "x": [
          "the",
          "of",
          "a",
          "and",
          "to",
          "that",
          "in",
          "with",
          "his",
          "you"
         ],
         "xaxis": "x52",
         "y": [
          13816,
          7493,
          5595,
          5285,
          4414,
          2673,
          2352,
          1771,
          1518,
          1295
         ],
         "yaxis": "y52"
        },
        {
         "marker": {
          "color": "#e67e22"
         },
         "name": "claude-3-haiku-20240307",
         "showlegend": false,
         "type": "bar",
         "x": [
          "the",
          "of",
          "a",
          "and",
          "to",
          "that",
          "in",
          "with",
          "is",
          "its"
         ],
         "xaxis": "x53",
         "y": [
          16021,
          9940,
          6173,
          5261,
          4898,
          3584,
          2472,
          1546,
          1468,
          1317
         ],
         "yaxis": "y53"
        },
        {
         "marker": {
          "color": "#e67e22"
         },
         "name": "claude-3-haiku-20240307",
         "showlegend": false,
         "type": "bar",
         "x": [
          "the",
          "of",
          "a",
          "and",
          "to",
          "that",
          "in",
          "with",
          "is",
          "our"
         ],
         "xaxis": "x54",
         "y": [
          15882,
          10339,
          5904,
          5447,
          4600,
          3212,
          2398,
          1606,
          1574,
          1551
         ],
         "yaxis": "y54"
        },
        {
         "marker": {
          "color": "#e67e22"
         },
         "name": "claude-3-haiku-20240307",
         "showlegend": false,
         "type": "bar",
         "x": [
          "the",
          "of",
          "a",
          "and",
          "to",
          "that",
          "in",
          "with",
          "their",
          "is"
         ],
         "xaxis": "x55",
         "y": [
          16050,
          9908,
          5872,
          5432,
          4609,
          3335,
          2541,
          1677,
          1431,
          1408
         ],
         "yaxis": "y55"
        },
        {
         "marker": {
          "color": "#e67e22"
         },
         "name": "claude-3-haiku-20240307",
         "showlegend": false,
         "type": "bar",
         "x": [
          "the",
          "of",
          "a",
          "and",
          "to",
          "that",
          "in",
          "with",
          "is",
          "our"
         ],
         "xaxis": "x56",
         "y": [
          15197,
          9639,
          5843,
          5683,
          4833,
          3329,
          2486,
          1709,
          1538,
          1381
         ],
         "yaxis": "y56"
        },
        {
         "marker": {
          "color": "#e67e22"
         },
         "name": "claude-3-haiku-20240307",
         "showlegend": false,
         "type": "bar",
         "x": [
          "the",
          "of",
          "a",
          "and",
          "to",
          "that",
          "in",
          "with",
          "you",
          "is"
         ],
         "xaxis": "x57",
         "y": [
          12922,
          7550,
          5575,
          5316,
          4632,
          2649,
          2446,
          1806,
          1539,
          1306
         ],
         "yaxis": "y57"
        },
        {
         "marker": {
          "color": "#e67e22"
         },
         "name": "claude-3-haiku-20240307",
         "showlegend": false,
         "type": "bar",
         "x": [
          "the",
          "of",
          "a",
          "and",
          "to",
          "that",
          "in",
          "with",
          "is",
          "you"
         ],
         "xaxis": "x58",
         "y": [
          14397,
          8693,
          5941,
          5763,
          4598,
          3000,
          2480,
          1655,
          1306,
          1273
         ],
         "yaxis": "y58"
        },
        {
         "marker": {
          "color": "#e67e22"
         },
         "name": "claude-3-haiku-20240307",
         "showlegend": false,
         "type": "bar",
         "x": [
          "the",
          "of",
          "a",
          "and",
          "to",
          "that",
          "in",
          "with",
          "is",
          "our"
         ],
         "xaxis": "x59",
         "y": [
          16248,
          9555,
          6156,
          4742,
          4700,
          3191,
          2652,
          1606,
          1541,
          1420
         ],
         "yaxis": "y59"
        },
        {
         "marker": {
          "color": "#e67e22"
         },
         "name": "claude-3-haiku-20240307",
         "showlegend": false,
         "type": "bar",
         "x": [
          "the",
          "of",
          "a",
          "and",
          "to",
          "that",
          "in",
          "with",
          "you",
          "is"
         ],
         "xaxis": "x60",
         "y": [
          14603,
          8896,
          6167,
          5247,
          4335,
          2660,
          2372,
          1869,
          1536,
          1322
         ],
         "yaxis": "y60"
        }
       ],
       "layout": {
        "annotations": [
         {
          "font": {
           "size": 10
          },
          "showarrow": false,
          "text": "Mark Twain",
          "x": 0.041,
          "xanchor": "center",
          "xref": "paper",
          "y": 0.9999999999999999,
          "yanchor": "bottom",
          "yref": "paper"
         },
         {
          "font": {
           "size": 10
          },
          "showarrow": false,
          "text": "Zane Grey",
          "x": 0.14300000000000002,
          "xanchor": "center",
          "xref": "paper",
          "y": 0.9999999999999999,
          "yanchor": "bottom",
          "yref": "paper"
         },
         {
          "font": {
           "size": 10
          },
          "showarrow": false,
          "text": "Joseph Conrad",
          "x": 0.24500000000000002,
          "xanchor": "center",
          "xref": "paper",
          "y": 0.9999999999999999,
          "yanchor": "bottom",
          "yref": "paper"
         },
         {
          "font": {
           "size": 10
          },
          "showarrow": false,
          "text": "Benjamin Disraeli",
          "x": 0.347,
          "xanchor": "center",
          "xref": "paper",
          "y": 0.9999999999999999,
          "yanchor": "bottom",
          "yref": "paper"
         },
         {
          "font": {
           "size": 10
          },
          "showarrow": false,
          "text": "George Eliot",
          "x": 0.44900000000000007,
          "xanchor": "center",
          "xref": "paper",
          "y": 0.9999999999999999,
          "yanchor": "bottom",
          "yref": "paper"
         },
         {
          "font": {
           "size": 10
          },
          "showarrow": false,
          "text": "William Henry Hudson",
          "x": 0.5509999999999999,
          "xanchor": "center",
          "xref": "paper",
          "y": 0.9999999999999999,
          "yanchor": "bottom",
          "yref": "paper"
         },
         {
          "font": {
           "size": 10
          },
          "showarrow": false,
          "text": "Lucy Maud Montgomery",
          "x": 0.653,
          "xanchor": "center",
          "xref": "paper",
          "y": 0.9999999999999999,
          "yanchor": "bottom",
          "yref": "paper"
         },
         {
          "font": {
           "size": 10
          },
          "showarrow": false,
          "text": "Howard Pyle",
          "x": 0.7550000000000001,
          "xanchor": "center",
          "xref": "paper",
          "y": 0.9999999999999999,
          "yanchor": "bottom",
          "yref": "paper"
         },
         {
          "font": {
           "size": 10
          },
          "showarrow": false,
          "text": "Virginia Woolf",
          "x": 0.857,
          "xanchor": "center",
          "xref": "paper",
          "y": 0.9999999999999999,
          "yanchor": "bottom",
          "yref": "paper"
         },
         {
          "font": {
           "size": 10
          },
          "showarrow": false,
          "text": "Lewis Carroll",
          "x": 0.9589999999999999,
          "xanchor": "center",
          "xref": "paper",
          "y": 0.9999999999999999,
          "yanchor": "bottom",
          "yref": "paper"
         }
        ],
        "height": 800,
        "legend": {
         "title": {
          "text": "Collection"
         }
        },
        "template": {
         "data": {
          "bar": [
           {
            "error_x": {
             "color": "#2a3f5f"
            },
            "error_y": {
             "color": "#2a3f5f"
            },
            "marker": {
             "line": {
              "color": "#E5ECF6",
              "width": 0.5
             },
             "pattern": {
              "fillmode": "overlay",
              "size": 10,
              "solidity": 0.2
             }
            },
            "type": "bar"
           }
          ],
          "barpolar": [
           {
            "marker": {
             "line": {
              "color": "#E5ECF6",
              "width": 0.5
             },
             "pattern": {
              "fillmode": "overlay",
              "size": 10,
              "solidity": 0.2
             }
            },
            "type": "barpolar"
           }
          ],
          "carpet": [
           {
            "aaxis": {
             "endlinecolor": "#2a3f5f",
             "gridcolor": "white",
             "linecolor": "white",
             "minorgridcolor": "white",
             "startlinecolor": "#2a3f5f"
            },
            "baxis": {
             "endlinecolor": "#2a3f5f",
             "gridcolor": "white",
             "linecolor": "white",
             "minorgridcolor": "white",
             "startlinecolor": "#2a3f5f"
            },
            "type": "carpet"
           }
          ],
          "choropleth": [
           {
            "colorbar": {
             "outlinewidth": 0,
             "ticks": ""
            },
            "type": "choropleth"
           }
          ],
          "contour": [
           {
            "colorbar": {
             "outlinewidth": 0,
             "ticks": ""
            },
            "colorscale": [
             [
              0,
              "#0d0887"
             ],
             [
              0.1111111111111111,
              "#46039f"
             ],
             [
              0.2222222222222222,
              "#7201a8"
             ],
             [
              0.3333333333333333,
              "#9c179e"
             ],
             [
              0.4444444444444444,
              "#bd3786"
             ],
             [
              0.5555555555555556,
              "#d8576b"
             ],
             [
              0.6666666666666666,
              "#ed7953"
             ],
             [
              0.7777777777777778,
              "#fb9f3a"
             ],
             [
              0.8888888888888888,
              "#fdca26"
             ],
             [
              1,
              "#f0f921"
             ]
            ],
            "type": "contour"
           }
          ],
          "contourcarpet": [
           {
            "colorbar": {
             "outlinewidth": 0,
             "ticks": ""
            },
            "type": "contourcarpet"
           }
          ],
          "heatmap": [
           {
            "colorbar": {
             "outlinewidth": 0,
             "ticks": ""
            },
            "colorscale": [
             [
              0,
              "#0d0887"
             ],
             [
              0.1111111111111111,
              "#46039f"
             ],
             [
              0.2222222222222222,
              "#7201a8"
             ],
             [
              0.3333333333333333,
              "#9c179e"
             ],
             [
              0.4444444444444444,
              "#bd3786"
             ],
             [
              0.5555555555555556,
              "#d8576b"
             ],
             [
              0.6666666666666666,
              "#ed7953"
             ],
             [
              0.7777777777777778,
              "#fb9f3a"
             ],
             [
              0.8888888888888888,
              "#fdca26"
             ],
             [
              1,
              "#f0f921"
             ]
            ],
            "type": "heatmap"
           }
          ],
          "heatmapgl": [
           {
            "colorbar": {
             "outlinewidth": 0,
             "ticks": ""
            },
            "colorscale": [
             [
              0,
              "#0d0887"
             ],
             [
              0.1111111111111111,
              "#46039f"
             ],
             [
              0.2222222222222222,
              "#7201a8"
             ],
             [
              0.3333333333333333,
              "#9c179e"
             ],
             [
              0.4444444444444444,
              "#bd3786"
             ],
             [
              0.5555555555555556,
              "#d8576b"
             ],
             [
              0.6666666666666666,
              "#ed7953"
             ],
             [
              0.7777777777777778,
              "#fb9f3a"
             ],
             [
              0.8888888888888888,
              "#fdca26"
             ],
             [
              1,
              "#f0f921"
             ]
            ],
            "type": "heatmapgl"
           }
          ],
          "histogram": [
           {
            "marker": {
             "pattern": {
              "fillmode": "overlay",
              "size": 10,
              "solidity": 0.2
             }
            },
            "type": "histogram"
           }
          ],
          "histogram2d": [
           {
            "colorbar": {
             "outlinewidth": 0,
             "ticks": ""
            },
            "colorscale": [
             [
              0,
              "#0d0887"
             ],
             [
              0.1111111111111111,
              "#46039f"
             ],
             [
              0.2222222222222222,
              "#7201a8"
             ],
             [
              0.3333333333333333,
              "#9c179e"
             ],
             [
              0.4444444444444444,
              "#bd3786"
             ],
             [
              0.5555555555555556,
              "#d8576b"
             ],
             [
              0.6666666666666666,
              "#ed7953"
             ],
             [
              0.7777777777777778,
              "#fb9f3a"
             ],
             [
              0.8888888888888888,
              "#fdca26"
             ],
             [
              1,
              "#f0f921"
             ]
            ],
            "type": "histogram2d"
           }
          ],
          "histogram2dcontour": [
           {
            "colorbar": {
             "outlinewidth": 0,
             "ticks": ""
            },
            "colorscale": [
             [
              0,
              "#0d0887"
             ],
             [
              0.1111111111111111,
              "#46039f"
             ],
             [
              0.2222222222222222,
              "#7201a8"
             ],
             [
              0.3333333333333333,
              "#9c179e"
             ],
             [
              0.4444444444444444,
              "#bd3786"
             ],
             [
              0.5555555555555556,
              "#d8576b"
             ],
             [
              0.6666666666666666,
              "#ed7953"
             ],
             [
              0.7777777777777778,
              "#fb9f3a"
             ],
             [
              0.8888888888888888,
              "#fdca26"
             ],
             [
              1,
              "#f0f921"
             ]
            ],
            "type": "histogram2dcontour"
           }
          ],
          "mesh3d": [
           {
            "colorbar": {
             "outlinewidth": 0,
             "ticks": ""
            },
            "type": "mesh3d"
           }
          ],
          "parcoords": [
           {
            "line": {
             "colorbar": {
              "outlinewidth": 0,
              "ticks": ""
             }
            },
            "type": "parcoords"
           }
          ],
          "pie": [
           {
            "automargin": true,
            "type": "pie"
           }
          ],
          "scatter": [
           {
            "fillpattern": {
             "fillmode": "overlay",
             "size": 10,
             "solidity": 0.2
            },
            "type": "scatter"
           }
          ],
          "scatter3d": [
           {
            "line": {
             "colorbar": {
              "outlinewidth": 0,
              "ticks": ""
             }
            },
            "marker": {
             "colorbar": {
              "outlinewidth": 0,
              "ticks": ""
             }
            },
            "type": "scatter3d"
           }
          ],
          "scattercarpet": [
           {
            "marker": {
             "colorbar": {
              "outlinewidth": 0,
              "ticks": ""
             }
            },
            "type": "scattercarpet"
           }
          ],
          "scattergeo": [
           {
            "marker": {
             "colorbar": {
              "outlinewidth": 0,
              "ticks": ""
             }
            },
            "type": "scattergeo"
           }
          ],
          "scattergl": [
           {
            "marker": {
             "colorbar": {
              "outlinewidth": 0,
              "ticks": ""
             }
            },
            "type": "scattergl"
           }
          ],
          "scattermapbox": [
           {
            "marker": {
             "colorbar": {
              "outlinewidth": 0,
              "ticks": ""
             }
            },
            "type": "scattermapbox"
           }
          ],
          "scatterpolar": [
           {
            "marker": {
             "colorbar": {
              "outlinewidth": 0,
              "ticks": ""
             }
            },
            "type": "scatterpolar"
           }
          ],
          "scatterpolargl": [
           {
            "marker": {
             "colorbar": {
              "outlinewidth": 0,
              "ticks": ""
             }
            },
            "type": "scatterpolargl"
           }
          ],
          "scatterternary": [
           {
            "marker": {
             "colorbar": {
              "outlinewidth": 0,
              "ticks": ""
             }
            },
            "type": "scatterternary"
           }
          ],
          "surface": [
           {
            "colorbar": {
             "outlinewidth": 0,
             "ticks": ""
            },
            "colorscale": [
             [
              0,
              "#0d0887"
             ],
             [
              0.1111111111111111,
              "#46039f"
             ],
             [
              0.2222222222222222,
              "#7201a8"
             ],
             [
              0.3333333333333333,
              "#9c179e"
             ],
             [
              0.4444444444444444,
              "#bd3786"
             ],
             [
              0.5555555555555556,
              "#d8576b"
             ],
             [
              0.6666666666666666,
              "#ed7953"
             ],
             [
              0.7777777777777778,
              "#fb9f3a"
             ],
             [
              0.8888888888888888,
              "#fdca26"
             ],
             [
              1,
              "#f0f921"
             ]
            ],
            "type": "surface"
           }
          ],
          "table": [
           {
            "cells": {
             "fill": {
              "color": "#EBF0F8"
             },
             "line": {
              "color": "white"
             }
            },
            "header": {
             "fill": {
              "color": "#C8D4E3"
             },
             "line": {
              "color": "white"
             }
            },
            "type": "table"
           }
          ]
         },
         "layout": {
          "annotationdefaults": {
           "arrowcolor": "#2a3f5f",
           "arrowhead": 0,
           "arrowwidth": 1
          },
          "autotypenumbers": "strict",
          "coloraxis": {
           "colorbar": {
            "outlinewidth": 0,
            "ticks": ""
           }
          },
          "colorscale": {
           "diverging": [
            [
             0,
             "#8e0152"
            ],
            [
             0.1,
             "#c51b7d"
            ],
            [
             0.2,
             "#de77ae"
            ],
            [
             0.3,
             "#f1b6da"
            ],
            [
             0.4,
             "#fde0ef"
            ],
            [
             0.5,
             "#f7f7f7"
            ],
            [
             0.6,
             "#e6f5d0"
            ],
            [
             0.7,
             "#b8e186"
            ],
            [
             0.8,
             "#7fbc41"
            ],
            [
             0.9,
             "#4d9221"
            ],
            [
             1,
             "#276419"
            ]
           ],
           "sequential": [
            [
             0,
             "#0d0887"
            ],
            [
             0.1111111111111111,
             "#46039f"
            ],
            [
             0.2222222222222222,
             "#7201a8"
            ],
            [
             0.3333333333333333,
             "#9c179e"
            ],
            [
             0.4444444444444444,
             "#bd3786"
            ],
            [
             0.5555555555555556,
             "#d8576b"
            ],
            [
             0.6666666666666666,
             "#ed7953"
            ],
            [
             0.7777777777777778,
             "#fb9f3a"
            ],
            [
             0.8888888888888888,
             "#fdca26"
            ],
            [
             1,
             "#f0f921"
            ]
           ],
           "sequentialminus": [
            [
             0,
             "#0d0887"
            ],
            [
             0.1111111111111111,
             "#46039f"
            ],
            [
             0.2222222222222222,
             "#7201a8"
            ],
            [
             0.3333333333333333,
             "#9c179e"
            ],
            [
             0.4444444444444444,
             "#bd3786"
            ],
            [
             0.5555555555555556,
             "#d8576b"
            ],
            [
             0.6666666666666666,
             "#ed7953"
            ],
            [
             0.7777777777777778,
             "#fb9f3a"
            ],
            [
             0.8888888888888888,
             "#fdca26"
            ],
            [
             1,
             "#f0f921"
            ]
           ]
          },
          "colorway": [
           "#636efa",
           "#EF553B",
           "#00cc96",
           "#ab63fa",
           "#FFA15A",
           "#19d3f3",
           "#FF6692",
           "#B6E880",
           "#FF97FF",
           "#FECB52"
          ],
          "font": {
           "color": "#2a3f5f"
          },
          "geo": {
           "bgcolor": "white",
           "lakecolor": "white",
           "landcolor": "#E5ECF6",
           "showlakes": true,
           "showland": true,
           "subunitcolor": "white"
          },
          "hoverlabel": {
           "align": "left"
          },
          "hovermode": "closest",
          "mapbox": {
           "style": "light"
          },
          "paper_bgcolor": "white",
          "plot_bgcolor": "#E5ECF6",
          "polar": {
           "angularaxis": {
            "gridcolor": "white",
            "linecolor": "white",
            "ticks": ""
           },
           "bgcolor": "#E5ECF6",
           "radialaxis": {
            "gridcolor": "white",
            "linecolor": "white",
            "ticks": ""
           }
          },
          "scene": {
           "xaxis": {
            "backgroundcolor": "#E5ECF6",
            "gridcolor": "white",
            "gridwidth": 2,
            "linecolor": "white",
            "showbackground": true,
            "ticks": "",
            "zerolinecolor": "white"
           },
           "yaxis": {
            "backgroundcolor": "#E5ECF6",
            "gridcolor": "white",
            "gridwidth": 2,
            "linecolor": "white",
            "showbackground": true,
            "ticks": "",
            "zerolinecolor": "white"
           },
           "zaxis": {
            "backgroundcolor": "#E5ECF6",
            "gridcolor": "white",
            "gridwidth": 2,
            "linecolor": "white",
            "showbackground": true,
            "ticks": "",
            "zerolinecolor": "white"
           }
          },
          "shapedefaults": {
           "line": {
            "color": "#2a3f5f"
           }
          },
          "ternary": {
           "aaxis": {
            "gridcolor": "white",
            "linecolor": "white",
            "ticks": ""
           },
           "baxis": {
            "gridcolor": "white",
            "linecolor": "white",
            "ticks": ""
           },
           "bgcolor": "#E5ECF6",
           "caxis": {
            "gridcolor": "white",
            "linecolor": "white",
            "ticks": ""
           }
          },
          "title": {
           "x": 0.05
          },
          "xaxis": {
           "automargin": true,
           "gridcolor": "white",
           "linecolor": "white",
           "ticks": "",
           "title": {
            "standoff": 15
           },
           "zerolinecolor": "white",
           "zerolinewidth": 2
          },
          "yaxis": {
           "automargin": true,
           "gridcolor": "white",
           "linecolor": "white",
           "ticks": "",
           "title": {
            "standoff": 15
           },
           "zerolinecolor": "white",
           "zerolinewidth": 2
          }
         }
        },
        "title": {
         "text": "Top 10 function words",
         "x": 0.5
        },
        "xaxis": {
         "anchor": "y",
         "domain": [
          0,
          0.082
         ],
         "tickfont": {
          "size": 10
         }
        },
        "xaxis10": {
         "anchor": "y10",
         "domain": [
          0.9179999999999999,
          0.9999999999999999
         ],
         "tickfont": {
          "size": 10
         }
        },
        "xaxis11": {
         "anchor": "y11",
         "domain": [
          0,
          0.082
         ],
         "tickfont": {
          "size": 10
         }
        },
        "xaxis12": {
         "anchor": "y12",
         "domain": [
          0.10200000000000001,
          0.184
         ],
         "tickfont": {
          "size": 10
         }
        },
        "xaxis13": {
         "anchor": "y13",
         "domain": [
          0.20400000000000001,
          0.28600000000000003
         ],
         "tickfont": {
          "size": 10
         }
        },
        "xaxis14": {
         "anchor": "y14",
         "domain": [
          0.306,
          0.388
         ],
         "tickfont": {
          "size": 10
         }
        },
        "xaxis15": {
         "anchor": "y15",
         "domain": [
          0.40800000000000003,
          0.49000000000000005
         ],
         "tickfont": {
          "size": 10
         }
        },
        "xaxis16": {
         "anchor": "y16",
         "domain": [
          0.51,
          0.592
         ],
         "tickfont": {
          "size": 10
         }
        },
        "xaxis17": {
         "anchor": "y17",
         "domain": [
          0.612,
          0.694
         ],
         "tickfont": {
          "size": 10
         }
        },
        "xaxis18": {
         "anchor": "y18",
         "domain": [
          0.7140000000000001,
          0.796
         ],
         "tickfont": {
          "size": 10
         }
        },
        "xaxis19": {
         "anchor": "y19",
         "domain": [
          0.8160000000000001,
          0.898
         ],
         "tickfont": {
          "size": 10
         }
        },
        "xaxis2": {
         "anchor": "y2",
         "domain": [
          0.10200000000000001,
          0.184
         ],
         "tickfont": {
          "size": 10
         }
        },
        "xaxis20": {
         "anchor": "y20",
         "domain": [
          0.9179999999999999,
          0.9999999999999999
         ],
         "tickfont": {
          "size": 10
         }
        },
        "xaxis21": {
         "anchor": "y21",
         "domain": [
          0,
          0.082
         ],
         "tickfont": {
          "size": 10
         }
        },
        "xaxis22": {
         "anchor": "y22",
         "domain": [
          0.10200000000000001,
          0.184
         ],
         "tickfont": {
          "size": 10
         }
        },
        "xaxis23": {
         "anchor": "y23",
         "domain": [
          0.20400000000000001,
          0.28600000000000003
         ],
         "tickfont": {
          "size": 10
         }
        },
        "xaxis24": {
         "anchor": "y24",
         "domain": [
          0.306,
          0.388
         ],
         "tickfont": {
          "size": 10
         }
        },
        "xaxis25": {
         "anchor": "y25",
         "domain": [
          0.40800000000000003,
          0.49000000000000005
         ],
         "tickfont": {
          "size": 10
         }
        },
        "xaxis26": {
         "anchor": "y26",
         "domain": [
          0.51,
          0.592
         ],
         "tickfont": {
          "size": 10
         }
        },
        "xaxis27": {
         "anchor": "y27",
         "domain": [
          0.612,
          0.694
         ],
         "tickfont": {
          "size": 10
         }
        },
        "xaxis28": {
         "anchor": "y28",
         "domain": [
          0.7140000000000001,
          0.796
         ],
         "tickfont": {
          "size": 10
         }
        },
        "xaxis29": {
         "anchor": "y29",
         "domain": [
          0.8160000000000001,
          0.898
         ],
         "tickfont": {
          "size": 10
         }
        },
        "xaxis3": {
         "anchor": "y3",
         "domain": [
          0.20400000000000001,
          0.28600000000000003
         ],
         "tickfont": {
          "size": 10
         }
        },
        "xaxis30": {
         "anchor": "y30",
         "domain": [
          0.9179999999999999,
          0.9999999999999999
         ],
         "tickfont": {
          "size": 10
         }
        },
        "xaxis31": {
         "anchor": "y31",
         "domain": [
          0,
          0.082
         ],
         "tickfont": {
          "size": 10
         }
        },
        "xaxis32": {
         "anchor": "y32",
         "domain": [
          0.10200000000000001,
          0.184
         ],
         "tickfont": {
          "size": 10
         }
        },
        "xaxis33": {
         "anchor": "y33",
         "domain": [
          0.20400000000000001,
          0.28600000000000003
         ],
         "tickfont": {
          "size": 10
         }
        },
        "xaxis34": {
         "anchor": "y34",
         "domain": [
          0.306,
          0.388
         ],
         "tickfont": {
          "size": 10
         }
        },
        "xaxis35": {
         "anchor": "y35",
         "domain": [
          0.40800000000000003,
          0.49000000000000005
         ],
         "tickfont": {
          "size": 10
         }
        },
        "xaxis36": {
         "anchor": "y36",
         "domain": [
          0.51,
          0.592
         ],
         "tickfont": {
          "size": 10
         }
        },
        "xaxis37": {
         "anchor": "y37",
         "domain": [
          0.612,
          0.694
         ],
         "tickfont": {
          "size": 10
         }
        },
        "xaxis38": {
         "anchor": "y38",
         "domain": [
          0.7140000000000001,
          0.796
         ],
         "tickfont": {
          "size": 10
         }
        },
        "xaxis39": {
         "anchor": "y39",
         "domain": [
          0.8160000000000001,
          0.898
         ],
         "tickfont": {
          "size": 10
         }
        },
        "xaxis4": {
         "anchor": "y4",
         "domain": [
          0.306,
          0.388
         ],
         "tickfont": {
          "size": 10
         }
        },
        "xaxis40": {
         "anchor": "y40",
         "domain": [
          0.9179999999999999,
          0.9999999999999999
         ],
         "tickfont": {
          "size": 10
         }
        },
        "xaxis41": {
         "anchor": "y41",
         "domain": [
          0,
          0.082
         ],
         "tickfont": {
          "size": 10
         }
        },
        "xaxis42": {
         "anchor": "y42",
         "domain": [
          0.10200000000000001,
          0.184
         ],
         "tickfont": {
          "size": 10
         }
        },
        "xaxis43": {
         "anchor": "y43",
         "domain": [
          0.20400000000000001,
          0.28600000000000003
         ],
         "tickfont": {
          "size": 10
         }
        },
        "xaxis44": {
         "anchor": "y44",
         "domain": [
          0.306,
          0.388
         ],
         "tickfont": {
          "size": 10
         }
        },
        "xaxis45": {
         "anchor": "y45",
         "domain": [
          0.40800000000000003,
          0.49000000000000005
         ],
         "tickfont": {
          "size": 10
         }
        },
        "xaxis46": {
         "anchor": "y46",
         "domain": [
          0.51,
          0.592
         ],
         "tickfont": {
          "size": 10
         }
        },
        "xaxis47": {
         "anchor": "y47",
         "domain": [
          0.612,
          0.694
         ],
         "tickfont": {
          "size": 10
         }
        },
        "xaxis48": {
         "anchor": "y48",
         "domain": [
          0.7140000000000001,
          0.796
         ],
         "tickfont": {
          "size": 10
         }
        },
        "xaxis49": {
         "anchor": "y49",
         "domain": [
          0.8160000000000001,
          0.898
         ],
         "tickfont": {
          "size": 10
         }
        },
        "xaxis5": {
         "anchor": "y5",
         "domain": [
          0.40800000000000003,
          0.49000000000000005
         ],
         "tickfont": {
          "size": 10
         }
        },
        "xaxis50": {
         "anchor": "y50",
         "domain": [
          0.9179999999999999,
          0.9999999999999999
         ],
         "tickfont": {
          "size": 10
         }
        },
        "xaxis51": {
         "anchor": "y51",
         "domain": [
          0,
          0.082
         ],
         "tickfont": {
          "size": 10
         }
        },
        "xaxis52": {
         "anchor": "y52",
         "domain": [
          0.10200000000000001,
          0.184
         ],
         "tickfont": {
          "size": 10
         }
        },
        "xaxis53": {
         "anchor": "y53",
         "domain": [
          0.20400000000000001,
          0.28600000000000003
         ],
         "tickfont": {
          "size": 10
         }
        },
        "xaxis54": {
         "anchor": "y54",
         "domain": [
          0.306,
          0.388
         ],
         "tickfont": {
          "size": 10
         }
        },
        "xaxis55": {
         "anchor": "y55",
         "domain": [
          0.40800000000000003,
          0.49000000000000005
         ],
         "tickfont": {
          "size": 10
         }
        },
        "xaxis56": {
         "anchor": "y56",
         "domain": [
          0.51,
          0.592
         ],
         "tickfont": {
          "size": 10
         }
        },
        "xaxis57": {
         "anchor": "y57",
         "domain": [
          0.612,
          0.694
         ],
         "tickfont": {
          "size": 10
         }
        },
        "xaxis58": {
         "anchor": "y58",
         "domain": [
          0.7140000000000001,
          0.796
         ],
         "tickfont": {
          "size": 10
         }
        },
        "xaxis59": {
         "anchor": "y59",
         "domain": [
          0.8160000000000001,
          0.898
         ],
         "tickfont": {
          "size": 10
         }
        },
        "xaxis6": {
         "anchor": "y6",
         "domain": [
          0.51,
          0.592
         ],
         "tickfont": {
          "size": 10
         }
        },
        "xaxis60": {
         "anchor": "y60",
         "domain": [
          0.9179999999999999,
          0.9999999999999999
         ],
         "tickfont": {
          "size": 10
         }
        },
        "xaxis7": {
         "anchor": "y7",
         "domain": [
          0.612,
          0.694
         ],
         "tickfont": {
          "size": 10
         }
        },
        "xaxis8": {
         "anchor": "y8",
         "domain": [
          0.7140000000000001,
          0.796
         ],
         "tickfont": {
          "size": 10
         }
        },
        "xaxis9": {
         "anchor": "y9",
         "domain": [
          0.8160000000000001,
          0.898
         ],
         "tickfont": {
          "size": 10
         }
        },
        "yaxis": {
         "anchor": "x",
         "domain": [
          0.9027777777777777,
          0.9999999999999999
         ],
         "range": [
          0,
          16248
         ]
        },
        "yaxis10": {
         "anchor": "x10",
         "domain": [
          0.9027777777777777,
          0.9999999999999999
         ],
         "range": [
          0,
          16248
         ]
        },
        "yaxis11": {
         "anchor": "x11",
         "domain": [
          0.7222222222222222,
          0.8194444444444444
         ],
         "range": [
          0,
          16248
         ]
        },
        "yaxis12": {
         "anchor": "x12",
         "domain": [
          0.7222222222222222,
          0.8194444444444444
         ],
         "range": [
          0,
          16248
         ]
        },
        "yaxis13": {
         "anchor": "x13",
         "domain": [
          0.7222222222222222,
          0.8194444444444444
         ],
         "range": [
          0,
          16248
         ]
        },
        "yaxis14": {
         "anchor": "x14",
         "domain": [
          0.7222222222222222,
          0.8194444444444444
         ],
         "range": [
          0,
          16248
         ]
        },
        "yaxis15": {
         "anchor": "x15",
         "domain": [
          0.7222222222222222,
          0.8194444444444444
         ],
         "range": [
          0,
          16248
         ]
        },
        "yaxis16": {
         "anchor": "x16",
         "domain": [
          0.7222222222222222,
          0.8194444444444444
         ],
         "range": [
          0,
          16248
         ]
        },
        "yaxis17": {
         "anchor": "x17",
         "domain": [
          0.7222222222222222,
          0.8194444444444444
         ],
         "range": [
          0,
          16248
         ]
        },
        "yaxis18": {
         "anchor": "x18",
         "domain": [
          0.7222222222222222,
          0.8194444444444444
         ],
         "range": [
          0,
          16248
         ]
        },
        "yaxis19": {
         "anchor": "x19",
         "domain": [
          0.7222222222222222,
          0.8194444444444444
         ],
         "range": [
          0,
          16248
         ]
        },
        "yaxis2": {
         "anchor": "x2",
         "domain": [
          0.9027777777777777,
          0.9999999999999999
         ],
         "range": [
          0,
          16248
         ]
        },
        "yaxis20": {
         "anchor": "x20",
         "domain": [
          0.7222222222222222,
          0.8194444444444444
         ],
         "range": [
          0,
          16248
         ]
        },
        "yaxis21": {
         "anchor": "x21",
         "domain": [
          0.5416666666666667,
          0.638888888888889
         ],
         "range": [
          0,
          16248
         ]
        },
        "yaxis22": {
         "anchor": "x22",
         "domain": [
          0.5416666666666667,
          0.638888888888889
         ],
         "range": [
          0,
          16248
         ]
        },
        "yaxis23": {
         "anchor": "x23",
         "domain": [
          0.5416666666666667,
          0.638888888888889
         ],
         "range": [
          0,
          16248
         ]
        },
        "yaxis24": {
         "anchor": "x24",
         "domain": [
          0.5416666666666667,
          0.638888888888889
         ],
         "range": [
          0,
          16248
         ]
        },
        "yaxis25": {
         "anchor": "x25",
         "domain": [
          0.5416666666666667,
          0.638888888888889
         ],
         "range": [
          0,
          16248
         ]
        },
        "yaxis26": {
         "anchor": "x26",
         "domain": [
          0.5416666666666667,
          0.638888888888889
         ],
         "range": [
          0,
          16248
         ]
        },
        "yaxis27": {
         "anchor": "x27",
         "domain": [
          0.5416666666666667,
          0.638888888888889
         ],
         "range": [
          0,
          16248
         ]
        },
        "yaxis28": {
         "anchor": "x28",
         "domain": [
          0.5416666666666667,
          0.638888888888889
         ],
         "range": [
          0,
          16248
         ]
        },
        "yaxis29": {
         "anchor": "x29",
         "domain": [
          0.5416666666666667,
          0.638888888888889
         ],
         "range": [
          0,
          16248
         ]
        },
        "yaxis3": {
         "anchor": "x3",
         "domain": [
          0.9027777777777777,
          0.9999999999999999
         ],
         "range": [
          0,
          16248
         ]
        },
        "yaxis30": {
         "anchor": "x30",
         "domain": [
          0.5416666666666667,
          0.638888888888889
         ],
         "range": [
          0,
          16248
         ]
        },
        "yaxis31": {
         "anchor": "x31",
         "domain": [
          0.3611111111111111,
          0.4583333333333333
         ],
         "range": [
          0,
          16248
         ]
        },
        "yaxis32": {
         "anchor": "x32",
         "domain": [
          0.3611111111111111,
          0.4583333333333333
         ],
         "range": [
          0,
          16248
         ]
        },
        "yaxis33": {
         "anchor": "x33",
         "domain": [
          0.3611111111111111,
          0.4583333333333333
         ],
         "range": [
          0,
          16248
         ]
        },
        "yaxis34": {
         "anchor": "x34",
         "domain": [
          0.3611111111111111,
          0.4583333333333333
         ],
         "range": [
          0,
          16248
         ]
        },
        "yaxis35": {
         "anchor": "x35",
         "domain": [
          0.3611111111111111,
          0.4583333333333333
         ],
         "range": [
          0,
          16248
         ]
        },
        "yaxis36": {
         "anchor": "x36",
         "domain": [
          0.3611111111111111,
          0.4583333333333333
         ],
         "range": [
          0,
          16248
         ]
        },
        "yaxis37": {
         "anchor": "x37",
         "domain": [
          0.3611111111111111,
          0.4583333333333333
         ],
         "range": [
          0,
          16248
         ]
        },
        "yaxis38": {
         "anchor": "x38",
         "domain": [
          0.3611111111111111,
          0.4583333333333333
         ],
         "range": [
          0,
          16248
         ]
        },
        "yaxis39": {
         "anchor": "x39",
         "domain": [
          0.3611111111111111,
          0.4583333333333333
         ],
         "range": [
          0,
          16248
         ]
        },
        "yaxis4": {
         "anchor": "x4",
         "domain": [
          0.9027777777777777,
          0.9999999999999999
         ],
         "range": [
          0,
          16248
         ]
        },
        "yaxis40": {
         "anchor": "x40",
         "domain": [
          0.3611111111111111,
          0.4583333333333333
         ],
         "range": [
          0,
          16248
         ]
        },
        "yaxis41": {
         "anchor": "x41",
         "domain": [
          0.18055555555555555,
          0.2777777777777778
         ],
         "range": [
          0,
          16248
         ]
        },
        "yaxis42": {
         "anchor": "x42",
         "domain": [
          0.18055555555555555,
          0.2777777777777778
         ],
         "range": [
          0,
          16248
         ]
        },
        "yaxis43": {
         "anchor": "x43",
         "domain": [
          0.18055555555555555,
          0.2777777777777778
         ],
         "range": [
          0,
          16248
         ]
        },
        "yaxis44": {
         "anchor": "x44",
         "domain": [
          0.18055555555555555,
          0.2777777777777778
         ],
         "range": [
          0,
          16248
         ]
        },
        "yaxis45": {
         "anchor": "x45",
         "domain": [
          0.18055555555555555,
          0.2777777777777778
         ],
         "range": [
          0,
          16248
         ]
        },
        "yaxis46": {
         "anchor": "x46",
         "domain": [
          0.18055555555555555,
          0.2777777777777778
         ],
         "range": [
          0,
          16248
         ]
        },
        "yaxis47": {
         "anchor": "x47",
         "domain": [
          0.18055555555555555,
          0.2777777777777778
         ],
         "range": [
          0,
          16248
         ]
        },
        "yaxis48": {
         "anchor": "x48",
         "domain": [
          0.18055555555555555,
          0.2777777777777778
         ],
         "range": [
          0,
          16248
         ]
        },
        "yaxis49": {
         "anchor": "x49",
         "domain": [
          0.18055555555555555,
          0.2777777777777778
         ],
         "range": [
          0,
          16248
         ]
        },
        "yaxis5": {
         "anchor": "x5",
         "domain": [
          0.9027777777777777,
          0.9999999999999999
         ],
         "range": [
          0,
          16248
         ]
        },
        "yaxis50": {
         "anchor": "x50",
         "domain": [
          0.18055555555555555,
          0.2777777777777778
         ],
         "range": [
          0,
          16248
         ]
        },
        "yaxis51": {
         "anchor": "x51",
         "domain": [
          0,
          0.09722222222222222
         ],
         "range": [
          0,
          16248
         ]
        },
        "yaxis52": {
         "anchor": "x52",
         "domain": [
          0,
          0.09722222222222222
         ],
         "range": [
          0,
          16248
         ]
        },
        "yaxis53": {
         "anchor": "x53",
         "domain": [
          0,
          0.09722222222222222
         ],
         "range": [
          0,
          16248
         ]
        },
        "yaxis54": {
         "anchor": "x54",
         "domain": [
          0,
          0.09722222222222222
         ],
         "range": [
          0,
          16248
         ]
        },
        "yaxis55": {
         "anchor": "x55",
         "domain": [
          0,
          0.09722222222222222
         ],
         "range": [
          0,
          16248
         ]
        },
        "yaxis56": {
         "anchor": "x56",
         "domain": [
          0,
          0.09722222222222222
         ],
         "range": [
          0,
          16248
         ]
        },
        "yaxis57": {
         "anchor": "x57",
         "domain": [
          0,
          0.09722222222222222
         ],
         "range": [
          0,
          16248
         ]
        },
        "yaxis58": {
         "anchor": "x58",
         "domain": [
          0,
          0.09722222222222222
         ],
         "range": [
          0,
          16248
         ]
        },
        "yaxis59": {
         "anchor": "x59",
         "domain": [
          0,
          0.09722222222222222
         ],
         "range": [
          0,
          16248
         ]
        },
        "yaxis6": {
         "anchor": "x6",
         "domain": [
          0.9027777777777777,
          0.9999999999999999
         ],
         "range": [
          0,
          16248
         ]
        },
        "yaxis60": {
         "anchor": "x60",
         "domain": [
          0,
          0.09722222222222222
         ],
         "range": [
          0,
          16248
         ]
        },
        "yaxis7": {
         "anchor": "x7",
         "domain": [
          0.9027777777777777,
          0.9999999999999999
         ],
         "range": [
          0,
          16248
         ]
        },
        "yaxis8": {
         "anchor": "x8",
         "domain": [
          0.9027777777777777,
          0.9999999999999999
         ],
         "range": [
          0,
          16248
         ]
        },
        "yaxis9": {
         "anchor": "x9",
         "domain": [
          0.9027777777777777,
          0.9999999999999999
         ],
         "range": [
          0,
          16248
         ]
        }
       }
      }
     },
     "metadata": {},
     "output_type": "display_data"
    },
    {
     "data": {
      "application/vnd.plotly.v1+json": {
       "config": {
        "plotlyServerURL": "https://plot.ly"
       },
       "data": [
        {
         "marker": {
          "color": "#3498db"
         },
         "mode": "markers",
         "name": "books",
         "showlegend": true,
         "type": "scatter",
         "x": [
          "!",
          "\"",
          "#",
          "$",
          "%",
          "&",
          "'",
          "(",
          ")",
          "*",
          "+",
          ",",
          "-",
          ".",
          "/",
          ":",
          ";",
          "<",
          "=",
          ">",
          "?",
          "@",
          "[",
          "\\",
          "]",
          "^",
          "_",
          "`",
          "{",
          "|",
          "}",
          "~"
         ],
         "xaxis": "x",
         "y": [
          654,
          2575,
          0,
          90,
          0,
          97,
          2602,
          150,
          150,
          0,
          0,
          11540,
          4822,
          7948,
          1,
          419,
          1731,
          0,
          0,
          0,
          485,
          0,
          45,
          0,
          45,
          0,
          0,
          0,
          0,
          0,
          0,
          0
         ],
         "yaxis": "y"
        },
        {
         "marker": {
          "color": "#3498db"
         },
         "mode": "markers",
         "name": "books",
         "showlegend": false,
         "type": "scatter",
         "x": [
          "!",
          "\"",
          "#",
          "$",
          "%",
          "&",
          "'",
          "(",
          ")",
          "*",
          "+",
          ",",
          "-",
          ".",
          "/",
          ":",
          ";",
          "<",
          "=",
          ">",
          "?",
          "@",
          "[",
          "\\",
          "]",
          "^",
          "_",
          "`",
          "{",
          "|",
          "}",
          "~"
         ],
         "xaxis": "x2",
         "y": [
          1031,
          5471,
          0,
          0,
          0,
          1,
          3932,
          1,
          1,
          0,
          0,
          11007,
          3575,
          13037,
          0,
          54,
          564,
          0,
          0,
          0,
          813,
          0,
          0,
          0,
          0,
          0,
          0,
          0,
          0,
          0,
          0,
          0
         ],
         "yaxis": "y2"
        },
        {
         "marker": {
          "color": "#3498db"
         },
         "mode": "markers",
         "name": "books",
         "showlegend": false,
         "type": "scatter",
         "x": [
          "!",
          "\"",
          "#",
          "$",
          "%",
          "&",
          "'",
          "(",
          ")",
          "*",
          "+",
          ",",
          "-",
          ".",
          "/",
          ":",
          ";",
          "<",
          "=",
          ">",
          "?",
          "@",
          "[",
          "\\",
          "]",
          "^",
          "_",
          "`",
          "{",
          "|",
          "}",
          "~"
         ],
         "xaxis": "x3",
         "y": [
          630,
          3249,
          0,
          0,
          0,
          2,
          2077,
          113,
          113,
          0,
          0,
          10178,
          3009,
          10278,
          0,
          335,
          857,
          0,
          0,
          0,
          779,
          0,
          1,
          0,
          1,
          0,
          0,
          70,
          0,
          0,
          0,
          0
         ],
         "yaxis": "y3"
        },
        {
         "marker": {
          "color": "#3498db"
         },
         "mode": "markers",
         "name": "books",
         "showlegend": false,
         "type": "scatter",
         "x": [
          "!",
          "\"",
          "#",
          "$",
          "%",
          "&",
          "'",
          "(",
          ")",
          "*",
          "+",
          ",",
          "-",
          ".",
          "/",
          ":",
          ";",
          "<",
          "=",
          ">",
          "?",
          "@",
          "[",
          "\\",
          "]",
          "^",
          "_",
          "`",
          "{",
          "|",
          "}",
          "~"
         ],
         "xaxis": "x4",
         "y": [
          1045,
          2700,
          0,
          0,
          0,
          7,
          4106,
          11,
          11,
          0,
          0,
          14636,
          1347,
          8606,
          0,
          230,
          2018,
          0,
          0,
          0,
          832,
          0,
          8,
          0,
          8,
          0,
          0,
          0,
          0,
          0,
          0,
          0
         ],
         "yaxis": "y4"
        },
        {
         "marker": {
          "color": "#3498db"
         },
         "mode": "markers",
         "name": "books",
         "showlegend": false,
         "type": "scatter",
         "x": [
          "!",
          "\"",
          "#",
          "$",
          "%",
          "&",
          "'",
          "(",
          ")",
          "*",
          "+",
          ",",
          "-",
          ".",
          "/",
          ":",
          ";",
          "<",
          "=",
          ">",
          "?",
          "@",
          "[",
          "\\",
          "]",
          "^",
          "_",
          "`",
          "{",
          "|",
          "}",
          "~"
         ],
         "xaxis": "x5",
         "y": [
          414,
          4642,
          0,
          0,
          0,
          4,
          4236,
          27,
          27,
          0,
          0,
          12116,
          3826,
          7459,
          0,
          371,
          1395,
          0,
          0,
          0,
          686,
          0,
          8,
          0,
          8,
          0,
          0,
          17,
          0,
          0,
          0,
          0
         ],
         "yaxis": "y5"
        },
        {
         "marker": {
          "color": "#3498db"
         },
         "mode": "markers",
         "name": "books",
         "showlegend": false,
         "type": "scatter",
         "x": [
          "!",
          "\"",
          "#",
          "$",
          "%",
          "&",
          "'",
          "(",
          ")",
          "*",
          "+",
          ",",
          "-",
          ".",
          "/",
          ":",
          ";",
          "<",
          "=",
          ">",
          "?",
          "@",
          "[",
          "\\",
          "]",
          "^",
          "_",
          "`",
          "{",
          "|",
          "}",
          "~"
         ],
         "xaxis": "x6",
         "y": [
          356,
          2314,
          0,
          0,
          0,
          3,
          1300,
          64,
          64,
          0,
          0,
          13431,
          3508,
          5575,
          0,
          267,
          1434,
          0,
          0,
          0,
          378,
          0,
          1,
          0,
          1,
          0,
          0,
          0,
          0,
          0,
          0,
          0
         ],
         "yaxis": "y6"
        },
        {
         "marker": {
          "color": "#3498db"
         },
         "mode": "markers",
         "name": "books",
         "showlegend": false,
         "type": "scatter",
         "x": [
          "!",
          "\"",
          "#",
          "$",
          "%",
          "&",
          "'",
          "(",
          ")",
          "*",
          "+",
          ",",
          "-",
          ".",
          "/",
          ":",
          ";",
          "<",
          "=",
          ">",
          "?",
          "@",
          "[",
          "\\",
          "]",
          "^",
          "_",
          "`",
          "{",
          "|",
          "}",
          "~"
         ],
         "xaxis": "x7",
         "y": [
          377,
          6479,
          0,
          0,
          0,
          3,
          5140,
          28,
          28,
          0,
          0,
          9730,
          3255,
          11633,
          0,
          96,
          513,
          0,
          0,
          0,
          807,
          0,
          0,
          0,
          0,
          0,
          0,
          0,
          0,
          0,
          0,
          0
         ],
         "yaxis": "y7"
        },
        {
         "marker": {
          "color": "#3498db"
         },
         "mode": "markers",
         "name": "books",
         "showlegend": false,
         "type": "scatter",
         "x": [
          "!",
          "\"",
          "#",
          "$",
          "%",
          "&",
          "'",
          "(",
          ")",
          "*",
          "+",
          ",",
          "-",
          ".",
          "/",
          ":",
          ";",
          "<",
          "=",
          ">",
          "?",
          "@",
          "[",
          "\\",
          "]",
          "^",
          "_",
          "`",
          "{",
          "|",
          "}",
          "~"
         ],
         "xaxis": "x8",
         "y": [
          688,
          5093,
          0,
          6,
          0,
          3,
          1256,
          67,
          67,
          0,
          0,
          13765,
          1937,
          6341,
          0,
          120,
          929,
          0,
          0,
          0,
          579,
          0,
          11,
          0,
          11,
          0,
          0,
          0,
          0,
          0,
          0,
          0
         ],
         "yaxis": "y8"
        },
        {
         "marker": {
          "color": "#3498db"
         },
         "mode": "markers",
         "name": "books",
         "showlegend": false,
         "type": "scatter",
         "x": [
          "!",
          "\"",
          "#",
          "$",
          "%",
          "&",
          "'",
          "(",
          ")",
          "*",
          "+",
          ",",
          "-",
          ".",
          "/",
          ":",
          ";",
          "<",
          "=",
          ">",
          "?",
          "@",
          "[",
          "\\",
          "]",
          "^",
          "_",
          "`",
          "{",
          "|",
          "}",
          "~"
         ],
         "xaxis": "x9",
         "y": [
          515,
          5978,
          0,
          0,
          0,
          1,
          3113,
          78,
          78,
          0,
          0,
          13427,
          3649,
          9393,
          6,
          134,
          1407,
          0,
          0,
          0,
          1047,
          0,
          5,
          0,
          5,
          0,
          0,
          1,
          0,
          0,
          0,
          0
         ],
         "yaxis": "y9"
        },
        {
         "marker": {
          "color": "#3498db"
         },
         "mode": "markers",
         "name": "books",
         "showlegend": false,
         "type": "scatter",
         "x": [
          "!",
          "\"",
          "#",
          "$",
          "%",
          "&",
          "'",
          "(",
          ")",
          "*",
          "+",
          ",",
          "-",
          ".",
          "/",
          ":",
          ";",
          "<",
          "=",
          ">",
          "?",
          "@",
          "[",
          "\\",
          "]",
          "^",
          "_",
          "`",
          "{",
          "|",
          "}",
          "~"
         ],
         "xaxis": "x10",
         "y": [
          3323,
          4181,
          0,
          0,
          0,
          5,
          6222,
          295,
          295,
          0,
          0,
          13296,
          3429,
          6971,
          0,
          1231,
          494,
          0,
          0,
          0,
          1456,
          0,
          71,
          0,
          70,
          0,
          1,
          0,
          0,
          0,
          0,
          0
         ],
         "yaxis": "y10"
        },
        {
         "marker": {
          "color": "#e74c3c"
         },
         "mode": "markers",
         "name": "gpt-3.5-turbo-0125",
         "showlegend": true,
         "type": "scatter",
         "x": [
          "!",
          "\"",
          "#",
          "$",
          "%",
          "&",
          "'",
          "(",
          ")",
          "*",
          "+",
          ",",
          "-",
          ".",
          "/",
          ":",
          ";",
          "<",
          "=",
          ">",
          "?",
          "@",
          "[",
          "\\",
          "]",
          "^",
          "_",
          "`",
          "{",
          "|",
          "}",
          "~"
         ],
         "xaxis": "x",
         "y": [
          100,
          314,
          0,
          0,
          0,
          0,
          1921,
          7,
          7,
          0,
          0,
          12832,
          807,
          8092,
          0,
          91,
          60,
          0,
          0,
          0,
          229,
          0,
          0,
          0,
          0,
          0,
          0,
          0,
          0,
          0,
          0,
          0
         ],
         "yaxis": "y"
        },
        {
         "marker": {
          "color": "#e74c3c"
         },
         "mode": "markers",
         "name": "gpt-3.5-turbo-0125",
         "showlegend": false,
         "type": "scatter",
         "x": [
          "!",
          "\"",
          "#",
          "$",
          "%",
          "&",
          "'",
          "(",
          ")",
          "*",
          "+",
          ",",
          "-",
          ".",
          "/",
          ":",
          ";",
          "<",
          "=",
          ">",
          "?",
          "@",
          "[",
          "\\",
          "]",
          "^",
          "_",
          "`",
          "{",
          "|",
          "}",
          "~"
         ],
         "xaxis": "x2",
         "y": [
          22,
          800,
          0,
          0,
          0,
          0,
          780,
          1,
          1,
          0,
          0,
          12672,
          776,
          7733,
          0,
          35,
          35,
          0,
          0,
          0,
          126,
          0,
          0,
          0,
          0,
          0,
          0,
          0,
          0,
          0,
          0,
          0
         ],
         "yaxis": "y2"
        },
        {
         "marker": {
          "color": "#e74c3c"
         },
         "mode": "markers",
         "name": "gpt-3.5-turbo-0125",
         "showlegend": false,
         "type": "scatter",
         "x": [
          "!",
          "\"",
          "#",
          "$",
          "%",
          "&",
          "'",
          "(",
          ")",
          "*",
          "+",
          ",",
          "-",
          ".",
          "/",
          ":",
          ";",
          "<",
          "=",
          ">",
          "?",
          "@",
          "[",
          "\\",
          "]",
          "^",
          "_",
          "`",
          "{",
          "|",
          "}",
          "~"
         ],
         "xaxis": "x3",
         "y": [
          9,
          538,
          0,
          0,
          0,
          0,
          475,
          2,
          2,
          0,
          0,
          12519,
          694,
          7586,
          0,
          55,
          82,
          0,
          0,
          0,
          116,
          0,
          0,
          0,
          0,
          0,
          0,
          0,
          0,
          0,
          0,
          0
         ],
         "yaxis": "y3"
        },
        {
         "marker": {
          "color": "#e74c3c"
         },
         "mode": "markers",
         "name": "gpt-3.5-turbo-0125",
         "showlegend": false,
         "type": "scatter",
         "x": [
          "!",
          "\"",
          "#",
          "$",
          "%",
          "&",
          "'",
          "(",
          ")",
          "*",
          "+",
          ",",
          "-",
          ".",
          "/",
          ":",
          ";",
          "<",
          "=",
          ">",
          "?",
          "@",
          "[",
          "\\",
          "]",
          "^",
          "_",
          "`",
          "{",
          "|",
          "}",
          "~"
         ],
         "xaxis": "x4",
         "y": [
          28,
          142,
          0,
          0,
          0,
          1,
          493,
          13,
          13,
          0,
          0,
          12706,
          890,
          7574,
          0,
          43,
          64,
          0,
          0,
          0,
          71,
          0,
          5,
          0,
          5,
          0,
          0,
          0,
          0,
          0,
          0,
          0
         ],
         "yaxis": "y4"
        },
        {
         "marker": {
          "color": "#e74c3c"
         },
         "mode": "markers",
         "name": "gpt-3.5-turbo-0125",
         "showlegend": false,
         "type": "scatter",
         "x": [
          "!",
          "\"",
          "#",
          "$",
          "%",
          "&",
          "'",
          "(",
          ")",
          "*",
          "+",
          ",",
          "-",
          ".",
          "/",
          ":",
          ";",
          "<",
          "=",
          ">",
          "?",
          "@",
          "[",
          "\\",
          "]",
          "^",
          "_",
          "`",
          "{",
          "|",
          "}",
          "~"
         ],
         "xaxis": "x5",
         "y": [
          28,
          400,
          0,
          0,
          0,
          0,
          598,
          4,
          4,
          0,
          0,
          12448,
          751,
          7495,
          0,
          32,
          59,
          0,
          0,
          0,
          98,
          0,
          3,
          0,
          3,
          0,
          0,
          0,
          0,
          0,
          0,
          0
         ],
         "yaxis": "y5"
        },
        {
         "marker": {
          "color": "#e74c3c"
         },
         "mode": "markers",
         "name": "gpt-3.5-turbo-0125",
         "showlegend": false,
         "type": "scatter",
         "x": [
          "!",
          "\"",
          "#",
          "$",
          "%",
          "&",
          "'",
          "(",
          ")",
          "*",
          "+",
          ",",
          "-",
          ".",
          "/",
          ":",
          ";",
          "<",
          "=",
          ">",
          "?",
          "@",
          "[",
          "\\",
          "]",
          "^",
          "_",
          "`",
          "{",
          "|",
          "}",
          "~"
         ],
         "xaxis": "x6",
         "y": [
          19,
          312,
          0,
          0,
          0,
          0,
          561,
          3,
          3,
          0,
          0,
          12253,
          777,
          7478,
          0,
          24,
          57,
          0,
          0,
          0,
          72,
          0,
          1,
          0,
          1,
          0,
          0,
          0,
          0,
          0,
          0,
          0
         ],
         "yaxis": "y6"
        },
        {
         "marker": {
          "color": "#e74c3c"
         },
         "mode": "markers",
         "name": "gpt-3.5-turbo-0125",
         "showlegend": false,
         "type": "scatter",
         "x": [
          "!",
          "\"",
          "#",
          "$",
          "%",
          "&",
          "'",
          "(",
          ")",
          "*",
          "+",
          ",",
          "-",
          ".",
          "/",
          ":",
          ";",
          "<",
          "=",
          ">",
          "?",
          "@",
          "[",
          "\\",
          "]",
          "^",
          "_",
          "`",
          "{",
          "|",
          "}",
          "~"
         ],
         "xaxis": "x7",
         "y": [
          45,
          973,
          0,
          0,
          0,
          0,
          768,
          8,
          8,
          0,
          0,
          12505,
          750,
          8126,
          0,
          22,
          37,
          0,
          0,
          0,
          145,
          0,
          0,
          0,
          0,
          0,
          0,
          0,
          0,
          0,
          0,
          0
         ],
         "yaxis": "y7"
        },
        {
         "marker": {
          "color": "#e74c3c"
         },
         "mode": "markers",
         "name": "gpt-3.5-turbo-0125",
         "showlegend": false,
         "type": "scatter",
         "x": [
          "!",
          "\"",
          "#",
          "$",
          "%",
          "&",
          "'",
          "(",
          ")",
          "*",
          "+",
          ",",
          "-",
          ".",
          "/",
          ":",
          ";",
          "<",
          "=",
          ">",
          "?",
          "@",
          "[",
          "\\",
          "]",
          "^",
          "_",
          "`",
          "{",
          "|",
          "}",
          "~"
         ],
         "xaxis": "x8",
         "y": [
          71,
          890,
          0,
          0,
          0,
          0,
          817,
          10,
          10,
          0,
          0,
          12633,
          735,
          7955,
          0,
          86,
          63,
          0,
          0,
          0,
          119,
          0,
          0,
          0,
          0,
          0,
          0,
          0,
          0,
          0,
          0,
          0
         ],
         "yaxis": "y8"
        },
        {
         "marker": {
          "color": "#e74c3c"
         },
         "mode": "markers",
         "name": "gpt-3.5-turbo-0125",
         "showlegend": false,
         "type": "scatter",
         "x": [
          "!",
          "\"",
          "#",
          "$",
          "%",
          "&",
          "'",
          "(",
          ")",
          "*",
          "+",
          ",",
          "-",
          ".",
          "/",
          ":",
          ";",
          "<",
          "=",
          ">",
          "?",
          "@",
          "[",
          "\\",
          "]",
          "^",
          "_",
          "`",
          "{",
          "|",
          "}",
          "~"
         ],
         "xaxis": "x9",
         "y": [
          8,
          244,
          0,
          0,
          0,
          0,
          507,
          7,
          7,
          0,
          0,
          12528,
          770,
          7550,
          0,
          27,
          98,
          0,
          0,
          0,
          115,
          0,
          0,
          0,
          0,
          0,
          0,
          0,
          0,
          0,
          0,
          0
         ],
         "yaxis": "y9"
        },
        {
         "marker": {
          "color": "#e74c3c"
         },
         "mode": "markers",
         "name": "gpt-3.5-turbo-0125",
         "showlegend": false,
         "type": "scatter",
         "x": [
          "!",
          "\"",
          "#",
          "$",
          "%",
          "&",
          "'",
          "(",
          ")",
          "*",
          "+",
          ",",
          "-",
          ".",
          "/",
          ":",
          ";",
          "<",
          "=",
          ">",
          "?",
          "@",
          "[",
          "\\",
          "]",
          "^",
          "_",
          "`",
          "{",
          "|",
          "}",
          "~"
         ],
         "xaxis": "x10",
         "y": [
          81,
          845,
          0,
          0,
          0,
          0,
          778,
          5,
          5,
          0,
          0,
          12785,
          654,
          7994,
          0,
          32,
          55,
          0,
          0,
          0,
          170,
          0,
          0,
          0,
          0,
          0,
          0,
          0,
          0,
          0,
          0,
          0
         ],
         "yaxis": "y10"
        },
        {
         "marker": {
          "color": "#2ecc71"
         },
         "mode": "markers",
         "name": "gpt-4o",
         "showlegend": true,
         "type": "scatter",
         "x": [
          "!",
          "\"",
          "#",
          "$",
          "%",
          "&",
          "'",
          "(",
          ")",
          "*",
          "+",
          ",",
          "-",
          ".",
          "/",
          ":",
          ";",
          "<",
          "=",
          ">",
          "?",
          "@",
          "[",
          "\\",
          "]",
          "^",
          "_",
          "`",
          "{",
          "|",
          "}",
          "~"
         ],
         "xaxis": "x",
         "y": [
          181,
          676,
          147,
          0,
          0,
          1,
          1778,
          103,
          103,
          0,
          0,
          14825,
          787,
          8827,
          0,
          311,
          133,
          0,
          0,
          0,
          331,
          0,
          0,
          0,
          0,
          0,
          0,
          0,
          0,
          0,
          0,
          0
         ],
         "yaxis": "y"
        },
        {
         "marker": {
          "color": "#2ecc71"
         },
         "mode": "markers",
         "name": "gpt-4o",
         "showlegend": false,
         "type": "scatter",
         "x": [
          "!",
          "\"",
          "#",
          "$",
          "%",
          "&",
          "'",
          "(",
          ")",
          "*",
          "+",
          ",",
          "-",
          ".",
          "/",
          ":",
          ";",
          "<",
          "=",
          ">",
          "?",
          "@",
          "[",
          "\\",
          "]",
          "^",
          "_",
          "`",
          "{",
          "|",
          "}",
          "~"
         ],
         "xaxis": "x2",
         "y": [
          60,
          1384,
          390,
          0,
          0,
          0,
          1011,
          100,
          100,
          0,
          0,
          15278,
          583,
          8772,
          0,
          155,
          105,
          0,
          0,
          0,
          248,
          0,
          0,
          0,
          0,
          0,
          0,
          0,
          0,
          0,
          0,
          0
         ],
         "yaxis": "y2"
        },
        {
         "marker": {
          "color": "#2ecc71"
         },
         "mode": "markers",
         "name": "gpt-4o",
         "showlegend": false,
         "type": "scatter",
         "x": [
          "!",
          "\"",
          "#",
          "$",
          "%",
          "&",
          "'",
          "(",
          ")",
          "*",
          "+",
          ",",
          "-",
          ".",
          "/",
          ":",
          ";",
          "<",
          "=",
          ">",
          "?",
          "@",
          "[",
          "\\",
          "]",
          "^",
          "_",
          "`",
          "{",
          "|",
          "}",
          "~"
         ],
         "xaxis": "x3",
         "y": [
          20,
          876,
          251,
          0,
          0,
          0,
          781,
          79,
          79,
          0,
          1,
          15924,
          512,
          8176,
          0,
          204,
          129,
          0,
          0,
          0,
          161,
          0,
          1,
          0,
          1,
          0,
          0,
          0,
          0,
          0,
          0,
          0
         ],
         "yaxis": "y3"
        },
        {
         "marker": {
          "color": "#2ecc71"
         },
         "mode": "markers",
         "name": "gpt-4o",
         "showlegend": false,
         "type": "scatter",
         "x": [
          "!",
          "\"",
          "#",
          "$",
          "%",
          "&",
          "'",
          "(",
          ")",
          "*",
          "+",
          ",",
          "-",
          ".",
          "/",
          ":",
          ";",
          "<",
          "=",
          ">",
          "?",
          "@",
          "[",
          "\\",
          "]",
          "^",
          "_",
          "`",
          "{",
          "|",
          "}",
          "~"
         ],
         "xaxis": "x4",
         "y": [
          32,
          524,
          35,
          0,
          0,
          0,
          658,
          85,
          85,
          0,
          1,
          15753,
          527,
          8075,
          3,
          222,
          101,
          0,
          0,
          0,
          104,
          0,
          11,
          0,
          11,
          0,
          0,
          0,
          0,
          0,
          0,
          0
         ],
         "yaxis": "y4"
        },
        {
         "marker": {
          "color": "#2ecc71"
         },
         "mode": "markers",
         "name": "gpt-4o",
         "showlegend": false,
         "type": "scatter",
         "x": [
          "!",
          "\"",
          "#",
          "$",
          "%",
          "&",
          "'",
          "(",
          ")",
          "*",
          "+",
          ",",
          "-",
          ".",
          "/",
          ":",
          ";",
          "<",
          "=",
          ">",
          "?",
          "@",
          "[",
          "\\",
          "]",
          "^",
          "_",
          "`",
          "{",
          "|",
          "}",
          "~"
         ],
         "xaxis": "x5",
         "y": [
          49,
          992,
          194,
          2,
          0,
          0,
          795,
          70,
          70,
          0,
          0,
          15583,
          619,
          8225,
          1,
          241,
          120,
          0,
          0,
          0,
          164,
          0,
          4,
          0,
          4,
          0,
          0,
          0,
          0,
          0,
          0,
          0
         ],
         "yaxis": "y5"
        },
        {
         "marker": {
          "color": "#2ecc71"
         },
         "mode": "markers",
         "name": "gpt-4o",
         "showlegend": false,
         "type": "scatter",
         "x": [
          "!",
          "\"",
          "#",
          "$",
          "%",
          "&",
          "'",
          "(",
          ")",
          "*",
          "+",
          ",",
          "-",
          ".",
          "/",
          ":",
          ";",
          "<",
          "=",
          ">",
          "?",
          "@",
          "[",
          "\\",
          "]",
          "^",
          "_",
          "`",
          "{",
          "|",
          "}",
          "~"
         ],
         "xaxis": "x6",
         "y": [
          52,
          804,
          65,
          0,
          0,
          0,
          801,
          81,
          81,
          0,
          3,
          15619,
          674,
          8378,
          1,
          242,
          110,
          0,
          0,
          0,
          163,
          0,
          1,
          0,
          1,
          0,
          1,
          0,
          0,
          0,
          0,
          0
         ],
         "yaxis": "y6"
        },
        {
         "marker": {
          "color": "#2ecc71"
         },
         "mode": "markers",
         "name": "gpt-4o",
         "showlegend": false,
         "type": "scatter",
         "x": [
          "!",
          "\"",
          "#",
          "$",
          "%",
          "&",
          "'",
          "(",
          ")",
          "*",
          "+",
          ",",
          "-",
          ".",
          "/",
          ":",
          ";",
          "<",
          "=",
          ">",
          "?",
          "@",
          "[",
          "\\",
          "]",
          "^",
          "_",
          "`",
          "{",
          "|",
          "}",
          "~"
         ],
         "xaxis": "x7",
         "y": [
          110,
          1590,
          65,
          1,
          0,
          0,
          980,
          75,
          75,
          0,
          1,
          15018,
          798,
          8615,
          0,
          208,
          87,
          0,
          0,
          0,
          257,
          0,
          4,
          0,
          4,
          0,
          0,
          0,
          0,
          0,
          0,
          0
         ],
         "yaxis": "y7"
        },
        {
         "marker": {
          "color": "#2ecc71"
         },
         "mode": "markers",
         "name": "gpt-4o",
         "showlegend": false,
         "type": "scatter",
         "x": [
          "!",
          "\"",
          "#",
          "$",
          "%",
          "&",
          "'",
          "(",
          ")",
          "*",
          "+",
          ",",
          "-",
          ".",
          "/",
          ":",
          ";",
          "<",
          "=",
          ">",
          "?",
          "@",
          "[",
          "\\",
          "]",
          "^",
          "_",
          "`",
          "{",
          "|",
          "}",
          "~"
         ],
         "xaxis": "x8",
         "y": [
          114,
          1110,
          372,
          1,
          1,
          0,
          898,
          29,
          29,
          0,
          1,
          15631,
          536,
          8294,
          0,
          180,
          83,
          0,
          0,
          0,
          195,
          0,
          0,
          0,
          0,
          0,
          1,
          0,
          0,
          0,
          0,
          0
         ],
         "yaxis": "y8"
        },
        {
         "marker": {
          "color": "#2ecc71"
         },
         "mode": "markers",
         "name": "gpt-4o",
         "showlegend": false,
         "type": "scatter",
         "x": [
          "!",
          "\"",
          "#",
          "$",
          "%",
          "&",
          "'",
          "(",
          ")",
          "*",
          "+",
          ",",
          "-",
          ".",
          "/",
          ":",
          ";",
          "<",
          "=",
          ">",
          "?",
          "@",
          "[",
          "\\",
          "]",
          "^",
          "_",
          "`",
          "{",
          "|",
          "}",
          "~"
         ],
         "xaxis": "x9",
         "y": [
          46,
          692,
          38,
          0,
          0,
          0,
          704,
          66,
          66,
          0,
          1,
          17308,
          652,
          8146,
          0,
          220,
          118,
          0,
          0,
          0,
          219,
          0,
          4,
          0,
          4,
          0,
          0,
          0,
          0,
          0,
          0,
          0
         ],
         "yaxis": "y9"
        },
        {
         "marker": {
          "color": "#2ecc71"
         },
         "mode": "markers",
         "name": "gpt-4o",
         "showlegend": false,
         "type": "scatter",
         "x": [
          "!",
          "\"",
          "#",
          "$",
          "%",
          "&",
          "'",
          "(",
          ")",
          "*",
          "+",
          ",",
          "-",
          ".",
          "/",
          ":",
          ";",
          "<",
          "=",
          ">",
          "?",
          "@",
          "[",
          "\\",
          "]",
          "^",
          "_",
          "`",
          "{",
          "|",
          "}",
          "~"
         ],
         "xaxis": "x10",
         "y": [
          257,
          2227,
          268,
          0,
          0,
          1,
          875,
          81,
          81,
          0,
          0,
          15473,
          693,
          8737,
          0,
          268,
          99,
          0,
          0,
          0,
          415,
          0,
          0,
          0,
          0,
          0,
          0,
          0,
          0,
          0,
          0,
          0
         ],
         "yaxis": "y10"
        },
        {
         "marker": {
          "color": "#f1c40f"
         },
         "mode": "markers",
         "name": "gemini-1.5-flash",
         "showlegend": true,
         "type": "scatter",
         "x": [
          "!",
          "\"",
          "#",
          "$",
          "%",
          "&",
          "'",
          "(",
          ")",
          "*",
          "+",
          ",",
          "-",
          ".",
          "/",
          ":",
          ";",
          "<",
          "=",
          ">",
          "?",
          "@",
          "[",
          "\\",
          "]",
          "^",
          "_",
          "`",
          "{",
          "|",
          "}",
          "~"
         ],
         "xaxis": "x",
         "y": [
          452,
          1379,
          30,
          0,
          0,
          0,
          6258,
          9,
          9,
          0,
          0,
          18816,
          639,
          8992,
          0,
          255,
          18,
          0,
          0,
          0,
          589,
          0,
          2,
          0,
          2,
          0,
          0,
          0,
          0,
          0,
          0,
          0
         ],
         "yaxis": "y"
        },
        {
         "marker": {
          "color": "#f1c40f"
         },
         "mode": "markers",
         "name": "gemini-1.5-flash",
         "showlegend": false,
         "type": "scatter",
         "x": [
          "!",
          "\"",
          "#",
          "$",
          "%",
          "&",
          "'",
          "(",
          ")",
          "*",
          "+",
          ",",
          "-",
          ".",
          "/",
          ":",
          ";",
          "<",
          "=",
          ">",
          "?",
          "@",
          "[",
          "\\",
          "]",
          "^",
          "_",
          "`",
          "{",
          "|",
          "}",
          "~"
         ],
         "xaxis": "x2",
         "y": [
          65,
          1509,
          28,
          1,
          0,
          0,
          1098,
          1,
          1,
          0,
          0,
          19022,
          429,
          9173,
          0,
          161,
          24,
          0,
          0,
          0,
          298,
          0,
          5,
          0,
          5,
          0,
          0,
          0,
          0,
          0,
          0,
          0
         ],
         "yaxis": "y2"
        },
        {
         "marker": {
          "color": "#f1c40f"
         },
         "mode": "markers",
         "name": "gemini-1.5-flash",
         "showlegend": false,
         "type": "scatter",
         "x": [
          "!",
          "\"",
          "#",
          "$",
          "%",
          "&",
          "'",
          "(",
          ")",
          "*",
          "+",
          ",",
          "-",
          ".",
          "/",
          ":",
          ";",
          "<",
          "=",
          ">",
          "?",
          "@",
          "[",
          "\\",
          "]",
          "^",
          "_",
          "`",
          "{",
          "|",
          "}",
          "~"
         ],
         "xaxis": "x3",
         "y": [
          26,
          1498,
          26,
          0,
          0,
          0,
          531,
          1,
          1,
          0,
          0,
          20610,
          275,
          8064,
          2,
          103,
          16,
          0,
          0,
          0,
          267,
          0,
          3,
          0,
          3,
          0,
          0,
          0,
          0,
          0,
          0,
          0
         ],
         "yaxis": "y3"
        },
        {
         "marker": {
          "color": "#f1c40f"
         },
         "mode": "markers",
         "name": "gemini-1.5-flash",
         "showlegend": false,
         "type": "scatter",
         "x": [
          "!",
          "\"",
          "#",
          "$",
          "%",
          "&",
          "'",
          "(",
          ")",
          "*",
          "+",
          ",",
          "-",
          ".",
          "/",
          ":",
          ";",
          "<",
          "=",
          ">",
          "?",
          "@",
          "[",
          "\\",
          "]",
          "^",
          "_",
          "`",
          "{",
          "|",
          "}",
          "~"
         ],
         "xaxis": "x4",
         "y": [
          63,
          624,
          41,
          0,
          0,
          0,
          640,
          41,
          41,
          0,
          0,
          19380,
          447,
          7930,
          0,
          204,
          45,
          0,
          0,
          0,
          225,
          0,
          3,
          0,
          3,
          0,
          0,
          0,
          0,
          0,
          0,
          0
         ],
         "yaxis": "y4"
        },
        {
         "marker": {
          "color": "#f1c40f"
         },
         "mode": "markers",
         "name": "gemini-1.5-flash",
         "showlegend": false,
         "type": "scatter",
         "x": [
          "!",
          "\"",
          "#",
          "$",
          "%",
          "&",
          "'",
          "(",
          ")",
          "*",
          "+",
          ",",
          "-",
          ".",
          "/",
          ":",
          ";",
          "<",
          "=",
          ">",
          "?",
          "@",
          "[",
          "\\",
          "]",
          "^",
          "_",
          "`",
          "{",
          "|",
          "}",
          "~"
         ],
         "xaxis": "x5",
         "y": [
          39,
          1000,
          28,
          0,
          0,
          0,
          669,
          0,
          0,
          0,
          0,
          19100,
          404,
          7658,
          0,
          191,
          31,
          0,
          0,
          0,
          264,
          0,
          0,
          0,
          0,
          0,
          0,
          0,
          0,
          0,
          0,
          0
         ],
         "yaxis": "y5"
        },
        {
         "marker": {
          "color": "#f1c40f"
         },
         "mode": "markers",
         "name": "gemini-1.5-flash",
         "showlegend": false,
         "type": "scatter",
         "x": [
          "!",
          "\"",
          "#",
          "$",
          "%",
          "&",
          "'",
          "(",
          ")",
          "*",
          "+",
          ",",
          "-",
          ".",
          "/",
          ":",
          ";",
          "<",
          "=",
          ">",
          "?",
          "@",
          "[",
          "\\",
          "]",
          "^",
          "_",
          "`",
          "{",
          "|",
          "}",
          "~"
         ],
         "xaxis": "x6",
         "y": [
          31,
          552,
          38,
          0,
          0,
          0,
          606,
          3,
          3,
          0,
          0,
          19177,
          385,
          7975,
          0,
          186,
          48,
          0,
          0,
          0,
          191,
          0,
          4,
          0,
          4,
          0,
          0,
          0,
          0,
          0,
          0,
          0
         ],
         "yaxis": "y6"
        },
        {
         "marker": {
          "color": "#f1c40f"
         },
         "mode": "markers",
         "name": "gemini-1.5-flash",
         "showlegend": false,
         "type": "scatter",
         "x": [
          "!",
          "\"",
          "#",
          "$",
          "%",
          "&",
          "'",
          "(",
          ")",
          "*",
          "+",
          ",",
          "-",
          ".",
          "/",
          ":",
          ";",
          "<",
          "=",
          ">",
          "?",
          "@",
          "[",
          "\\",
          "]",
          "^",
          "_",
          "`",
          "{",
          "|",
          "}",
          "~"
         ],
         "xaxis": "x7",
         "y": [
          253,
          2099,
          37,
          0,
          0,
          0,
          1391,
          1,
          1,
          1,
          0,
          18546,
          445,
          8681,
          0,
          175,
          31,
          1,
          0,
          0,
          455,
          0,
          6,
          0,
          6,
          0,
          0,
          0,
          0,
          0,
          0,
          0
         ],
         "yaxis": "y7"
        },
        {
         "marker": {
          "color": "#f1c40f"
         },
         "mode": "markers",
         "name": "gemini-1.5-flash",
         "showlegend": false,
         "type": "scatter",
         "x": [
          "!",
          "\"",
          "#",
          "$",
          "%",
          "&",
          "'",
          "(",
          ")",
          "*",
          "+",
          ",",
          "-",
          ".",
          "/",
          ":",
          ";",
          "<",
          "=",
          ">",
          "?",
          "@",
          "[",
          "\\",
          "]",
          "^",
          "_",
          "`",
          "{",
          "|",
          "}",
          "~"
         ],
         "xaxis": "x8",
         "y": [
          200,
          1388,
          32,
          0,
          0,
          0,
          954,
          1,
          1,
          0,
          0,
          18426,
          462,
          8557,
          0,
          212,
          19,
          0,
          0,
          0,
          310,
          0,
          0,
          0,
          0,
          0,
          0,
          0,
          0,
          0,
          0,
          0
         ],
         "yaxis": "y8"
        },
        {
         "marker": {
          "color": "#f1c40f"
         },
         "mode": "markers",
         "name": "gemini-1.5-flash",
         "showlegend": false,
         "type": "scatter",
         "x": [
          "!",
          "\"",
          "#",
          "$",
          "%",
          "&",
          "'",
          "(",
          ")",
          "*",
          "+",
          ",",
          "-",
          ".",
          "/",
          ":",
          ";",
          "<",
          "=",
          ">",
          "?",
          "@",
          "[",
          "\\",
          "]",
          "^",
          "_",
          "`",
          "{",
          "|",
          "}",
          "~"
         ],
         "xaxis": "x9",
         "y": [
          20,
          1124,
          32,
          0,
          0,
          0,
          589,
          0,
          0,
          0,
          0,
          20952,
          371,
          8151,
          1,
          113,
          25,
          0,
          0,
          0,
          288,
          0,
          3,
          0,
          3,
          0,
          0,
          0,
          0,
          0,
          0,
          0
         ],
         "yaxis": "y9"
        },
        {
         "marker": {
          "color": "#f1c40f"
         },
         "mode": "markers",
         "name": "gemini-1.5-flash",
         "showlegend": false,
         "type": "scatter",
         "x": [
          "!",
          "\"",
          "#",
          "$",
          "%",
          "&",
          "'",
          "(",
          ")",
          "*",
          "+",
          ",",
          "-",
          ".",
          "/",
          ":",
          ";",
          "<",
          "=",
          ">",
          "?",
          "@",
          "[",
          "\\",
          "]",
          "^",
          "_",
          "`",
          "{",
          "|",
          "}",
          "~"
         ],
         "xaxis": "x10",
         "y": [
          538,
          4196,
          31,
          0,
          0,
          0,
          1469,
          7,
          7,
          0,
          2,
          20206,
          653,
          8018,
          0,
          216,
          24,
          0,
          0,
          0,
          795,
          0,
          1,
          0,
          1,
          0,
          0,
          0,
          0,
          0,
          0,
          0
         ],
         "yaxis": "y10"
        },
        {
         "marker": {
          "color": "#9b59b6"
         },
         "mode": "markers",
         "name": "open-mixtral-8x7b",
         "showlegend": true,
         "type": "scatter",
         "x": [
          "!",
          "\"",
          "#",
          "$",
          "%",
          "&",
          "'",
          "(",
          ")",
          "*",
          "+",
          ",",
          "-",
          ".",
          "/",
          ":",
          ";",
          "<",
          "=",
          ">",
          "?",
          "@",
          "[",
          "\\",
          "]",
          "^",
          "_",
          "`",
          "{",
          "|",
          "}",
          "~"
         ],
         "xaxis": "x",
         "y": [
          118,
          823,
          0,
          3,
          1,
          0,
          2039,
          103,
          103,
          1,
          0,
          16661,
          837,
          7304,
          2,
          265,
          47,
          0,
          0,
          0,
          344,
          0,
          4,
          0,
          4,
          0,
          0,
          0,
          0,
          0,
          0,
          0
         ],
         "yaxis": "y"
        },
        {
         "marker": {
          "color": "#9b59b6"
         },
         "mode": "markers",
         "name": "open-mixtral-8x7b",
         "showlegend": false,
         "type": "scatter",
         "x": [
          "!",
          "\"",
          "#",
          "$",
          "%",
          "&",
          "'",
          "(",
          ")",
          "*",
          "+",
          ",",
          "-",
          ".",
          "/",
          ":",
          ";",
          "<",
          "=",
          ">",
          "?",
          "@",
          "[",
          "\\",
          "]",
          "^",
          "_",
          "`",
          "{",
          "|",
          "}",
          "~"
         ],
         "xaxis": "x2",
         "y": [
          31,
          1111,
          0,
          1,
          1,
          0,
          922,
          19,
          19,
          1,
          0,
          15236,
          595,
          7594,
          0,
          101,
          24,
          0,
          0,
          0,
          229,
          0,
          2,
          0,
          2,
          0,
          0,
          3,
          0,
          0,
          0,
          0
         ],
         "yaxis": "y2"
        },
        {
         "marker": {
          "color": "#9b59b6"
         },
         "mode": "markers",
         "name": "open-mixtral-8x7b",
         "showlegend": false,
         "type": "scatter",
         "x": [
          "!",
          "\"",
          "#",
          "$",
          "%",
          "&",
          "'",
          "(",
          ")",
          "*",
          "+",
          ",",
          "-",
          ".",
          "/",
          ":",
          ";",
          "<",
          "=",
          ">",
          "?",
          "@",
          "[",
          "\\",
          "]",
          "^",
          "_",
          "`",
          "{",
          "|",
          "}",
          "~"
         ],
         "xaxis": "x3",
         "y": [
          6,
          589,
          0,
          0,
          1,
          1,
          621,
          2,
          2,
          0,
          0,
          16778,
          668,
          6072,
          0,
          127,
          30,
          0,
          0,
          0,
          126,
          0,
          0,
          0,
          0,
          0,
          0,
          0,
          0,
          0,
          0,
          0
         ],
         "yaxis": "y3"
        },
        {
         "marker": {
          "color": "#9b59b6"
         },
         "mode": "markers",
         "name": "open-mixtral-8x7b",
         "showlegend": false,
         "type": "scatter",
         "x": [
          "!",
          "\"",
          "#",
          "$",
          "%",
          "&",
          "'",
          "(",
          ")",
          "*",
          "+",
          ",",
          "-",
          ".",
          "/",
          ":",
          ";",
          "<",
          "=",
          ">",
          "?",
          "@",
          "[",
          "\\",
          "]",
          "^",
          "_",
          "`",
          "{",
          "|",
          "}",
          "~"
         ],
         "xaxis": "x4",
         "y": [
          34,
          549,
          0,
          1,
          4,
          0,
          778,
          39,
          39,
          2,
          0,
          16758,
          692,
          6353,
          0,
          173,
          70,
          0,
          0,
          0,
          212,
          0,
          1,
          0,
          1,
          0,
          0,
          0,
          0,
          0,
          0,
          0
         ],
         "yaxis": "y4"
        },
        {
         "marker": {
          "color": "#9b59b6"
         },
         "mode": "markers",
         "name": "open-mixtral-8x7b",
         "showlegend": false,
         "type": "scatter",
         "x": [
          "!",
          "\"",
          "#",
          "$",
          "%",
          "&",
          "'",
          "(",
          ")",
          "*",
          "+",
          ",",
          "-",
          ".",
          "/",
          ":",
          ";",
          "<",
          "=",
          ">",
          "?",
          "@",
          "[",
          "\\",
          "]",
          "^",
          "_",
          "`",
          "{",
          "|",
          "}",
          "~"
         ],
         "xaxis": "x5",
         "y": [
          34,
          681,
          0,
          0,
          0,
          0,
          726,
          2,
          2,
          0,
          0,
          16126,
          868,
          5915,
          3,
          106,
          63,
          0,
          0,
          0,
          129,
          0,
          1,
          0,
          1,
          0,
          0,
          3,
          0,
          0,
          0,
          0
         ],
         "yaxis": "y5"
        },
        {
         "marker": {
          "color": "#9b59b6"
         },
         "mode": "markers",
         "name": "open-mixtral-8x7b",
         "showlegend": false,
         "type": "scatter",
         "x": [
          "!",
          "\"",
          "#",
          "$",
          "%",
          "&",
          "'",
          "(",
          ")",
          "*",
          "+",
          ",",
          "-",
          ".",
          "/",
          ":",
          ";",
          "<",
          "=",
          ">",
          "?",
          "@",
          "[",
          "\\",
          "]",
          "^",
          "_",
          "`",
          "{",
          "|",
          "}",
          "~"
         ],
         "xaxis": "x6",
         "y": [
          35,
          672,
          0,
          0,
          1,
          0,
          707,
          6,
          6,
          1,
          0,
          16067,
          746,
          6414,
          3,
          169,
          58,
          0,
          0,
          0,
          166,
          0,
          0,
          0,
          0,
          0,
          0,
          0,
          0,
          0,
          0,
          0
         ],
         "yaxis": "y6"
        },
        {
         "marker": {
          "color": "#9b59b6"
         },
         "mode": "markers",
         "name": "open-mixtral-8x7b",
         "showlegend": false,
         "type": "scatter",
         "x": [
          "!",
          "\"",
          "#",
          "$",
          "%",
          "&",
          "'",
          "(",
          ")",
          "*",
          "+",
          ",",
          "-",
          ".",
          "/",
          ":",
          ";",
          "<",
          "=",
          ">",
          "?",
          "@",
          "[",
          "\\",
          "]",
          "^",
          "_",
          "`",
          "{",
          "|",
          "}",
          "~"
         ],
         "xaxis": "x7",
         "y": [
          55,
          1511,
          0,
          1,
          2,
          0,
          1061,
          19,
          19,
          2,
          0,
          15820,
          687,
          7248,
          0,
          131,
          33,
          0,
          0,
          0,
          222,
          0,
          2,
          0,
          2,
          0,
          0,
          0,
          0,
          0,
          0,
          0
         ],
         "yaxis": "y7"
        },
        {
         "marker": {
          "color": "#9b59b6"
         },
         "mode": "markers",
         "name": "open-mixtral-8x7b",
         "showlegend": false,
         "type": "scatter",
         "x": [
          "!",
          "\"",
          "#",
          "$",
          "%",
          "&",
          "'",
          "(",
          ")",
          "*",
          "+",
          ",",
          "-",
          ".",
          "/",
          ":",
          ";",
          "<",
          "=",
          ">",
          "?",
          "@",
          "[",
          "\\",
          "]",
          "^",
          "_",
          "`",
          "{",
          "|",
          "}",
          "~"
         ],
         "xaxis": "x8",
         "y": [
          63,
          1154,
          0,
          0,
          0,
          0,
          798,
          14,
          14,
          1,
          0,
          15616,
          635,
          6988,
          2,
          104,
          54,
          0,
          0,
          0,
          198,
          0,
          2,
          0,
          2,
          0,
          0,
          0,
          0,
          0,
          0,
          0
         ],
         "yaxis": "y8"
        },
        {
         "marker": {
          "color": "#9b59b6"
         },
         "mode": "markers",
         "name": "open-mixtral-8x7b",
         "showlegend": false,
         "type": "scatter",
         "x": [
          "!",
          "\"",
          "#",
          "$",
          "%",
          "&",
          "'",
          "(",
          ")",
          "*",
          "+",
          ",",
          "-",
          ".",
          "/",
          ":",
          ";",
          "<",
          "=",
          ">",
          "?",
          "@",
          "[",
          "\\",
          "]",
          "^",
          "_",
          "`",
          "{",
          "|",
          "}",
          "~"
         ],
         "xaxis": "x9",
         "y": [
          9,
          429,
          0,
          0,
          2,
          0,
          636,
          1,
          1,
          0,
          0,
          16954,
          546,
          6296,
          0,
          128,
          48,
          0,
          0,
          1,
          180,
          0,
          0,
          0,
          0,
          0,
          0,
          0,
          0,
          0,
          0,
          0
         ],
         "yaxis": "y9"
        },
        {
         "marker": {
          "color": "#9b59b6"
         },
         "mode": "markers",
         "name": "open-mixtral-8x7b",
         "showlegend": false,
         "type": "scatter",
         "x": [
          "!",
          "\"",
          "#",
          "$",
          "%",
          "&",
          "'",
          "(",
          ")",
          "*",
          "+",
          ",",
          "-",
          ".",
          "/",
          ":",
          ";",
          "<",
          "=",
          ">",
          "?",
          "@",
          "[",
          "\\",
          "]",
          "^",
          "_",
          "`",
          "{",
          "|",
          "}",
          "~"
         ],
         "xaxis": "x10",
         "y": [
          224,
          2039,
          0,
          0,
          1,
          0,
          1290,
          94,
          94,
          0,
          0,
          16437,
          843,
          7460,
          1,
          198,
          53,
          0,
          0,
          0,
          425,
          0,
          3,
          0,
          3,
          0,
          0,
          0,
          0,
          0,
          0,
          0
         ],
         "yaxis": "y10"
        },
        {
         "marker": {
          "color": "#e67e22"
         },
         "mode": "markers",
         "name": "claude-3-haiku-20240307",
         "showlegend": true,
         "type": "scatter",
         "x": [
          "!",
          "\"",
          "#",
          "$",
          "%",
          "&",
          "'",
          "(",
          ")",
          "*",
          "+",
          ",",
          "-",
          ".",
          "/",
          ":",
          ";",
          "<",
          "=",
          ">",
          "?",
          "@",
          "[",
          "\\",
          "]",
          "^",
          "_",
          "`",
          "{",
          "|",
          "}",
          "~"
         ],
         "xaxis": "x",
         "y": [
          444,
          2137,
          0,
          0,
          0,
          1,
          6025,
          30,
          30,
          0,
          0,
          15478,
          1386,
          7006,
          0,
          82,
          8,
          0,
          0,
          0,
          881,
          0,
          0,
          0,
          0,
          0,
          16,
          0,
          0,
          0,
          0,
          0
         ],
         "yaxis": "y"
        },
        {
         "marker": {
          "color": "#e67e22"
         },
         "mode": "markers",
         "name": "claude-3-haiku-20240307",
         "showlegend": false,
         "type": "scatter",
         "x": [
          "!",
          "\"",
          "#",
          "$",
          "%",
          "&",
          "'",
          "(",
          ")",
          "*",
          "+",
          ",",
          "-",
          ".",
          "/",
          ":",
          ";",
          "<",
          "=",
          ">",
          "?",
          "@",
          "[",
          "\\",
          "]",
          "^",
          "_",
          "`",
          "{",
          "|",
          "}",
          "~"
         ],
         "xaxis": "x2",
         "y": [
          189,
          1936,
          0,
          0,
          0,
          0,
          2499,
          1,
          1,
          0,
          0,
          14693,
          980,
          7398,
          0,
          117,
          10,
          0,
          0,
          0,
          404,
          0,
          1,
          0,
          1,
          0,
          0,
          0,
          0,
          0,
          0,
          0
         ],
         "yaxis": "y2"
        },
        {
         "marker": {
          "color": "#e67e22"
         },
         "mode": "markers",
         "name": "claude-3-haiku-20240307",
         "showlegend": false,
         "type": "scatter",
         "x": [
          "!",
          "\"",
          "#",
          "$",
          "%",
          "&",
          "'",
          "(",
          ")",
          "*",
          "+",
          ",",
          "-",
          ".",
          "/",
          ":",
          ";",
          "<",
          "=",
          ">",
          "?",
          "@",
          "[",
          "\\",
          "]",
          "^",
          "_",
          "`",
          "{",
          "|",
          "}",
          "~"
         ],
         "xaxis": "x3",
         "y": [
          47,
          818,
          0,
          0,
          0,
          0,
          773,
          3,
          3,
          0,
          0,
          15801,
          738,
          6149,
          0,
          49,
          31,
          0,
          0,
          0,
          361,
          0,
          4,
          0,
          4,
          0,
          2,
          0,
          0,
          0,
          0,
          0
         ],
         "yaxis": "y3"
        },
        {
         "marker": {
          "color": "#e67e22"
         },
         "mode": "markers",
         "name": "claude-3-haiku-20240307",
         "showlegend": false,
         "type": "scatter",
         "x": [
          "!",
          "\"",
          "#",
          "$",
          "%",
          "&",
          "'",
          "(",
          ")",
          "*",
          "+",
          ",",
          "-",
          ".",
          "/",
          ":",
          ";",
          "<",
          "=",
          ">",
          "?",
          "@",
          "[",
          "\\",
          "]",
          "^",
          "_",
          "`",
          "{",
          "|",
          "}",
          "~"
         ],
         "xaxis": "x4",
         "y": [
          149,
          620,
          0,
          0,
          0,
          0,
          612,
          8,
          8,
          0,
          0,
          15583,
          845,
          5968,
          0,
          25,
          21,
          0,
          0,
          0,
          458,
          0,
          0,
          0,
          0,
          0,
          0,
          0,
          0,
          0,
          0,
          0
         ],
         "yaxis": "y4"
        },
        {
         "marker": {
          "color": "#e67e22"
         },
         "mode": "markers",
         "name": "claude-3-haiku-20240307",
         "showlegend": false,
         "type": "scatter",
         "x": [
          "!",
          "\"",
          "#",
          "$",
          "%",
          "&",
          "'",
          "(",
          ")",
          "*",
          "+",
          ",",
          "-",
          ".",
          "/",
          ":",
          ";",
          "<",
          "=",
          ">",
          "?",
          "@",
          "[",
          "\\",
          "]",
          "^",
          "_",
          "`",
          "{",
          "|",
          "}",
          "~"
         ],
         "xaxis": "x5",
         "y": [
          97,
          1200,
          0,
          0,
          0,
          0,
          898,
          6,
          6,
          0,
          0,
          15050,
          884,
          6090,
          0,
          71,
          28,
          0,
          0,
          0,
          398,
          0,
          0,
          0,
          0,
          0,
          0,
          0,
          0,
          0,
          0,
          0
         ],
         "yaxis": "y5"
        },
        {
         "marker": {
          "color": "#e67e22"
         },
         "mode": "markers",
         "name": "claude-3-haiku-20240307",
         "showlegend": false,
         "type": "scatter",
         "x": [
          "!",
          "\"",
          "#",
          "$",
          "%",
          "&",
          "'",
          "(",
          ")",
          "*",
          "+",
          ",",
          "-",
          ".",
          "/",
          ":",
          ";",
          "<",
          "=",
          ">",
          "?",
          "@",
          "[",
          "\\",
          "]",
          "^",
          "_",
          "`",
          "{",
          "|",
          "}",
          "~"
         ],
         "xaxis": "x6",
         "y": [
          116,
          925,
          0,
          0,
          0,
          0,
          766,
          2,
          2,
          0,
          0,
          15187,
          959,
          6129,
          1,
          78,
          19,
          0,
          0,
          0,
          334,
          0,
          0,
          0,
          0,
          0,
          0,
          0,
          0,
          0,
          0,
          0
         ],
         "yaxis": "y6"
        },
        {
         "marker": {
          "color": "#e67e22"
         },
         "mode": "markers",
         "name": "claude-3-haiku-20240307",
         "showlegend": false,
         "type": "scatter",
         "x": [
          "!",
          "\"",
          "#",
          "$",
          "%",
          "&",
          "'",
          "(",
          ")",
          "*",
          "+",
          ",",
          "-",
          ".",
          "/",
          ":",
          ";",
          "<",
          "=",
          ">",
          "?",
          "@",
          "[",
          "\\",
          "]",
          "^",
          "_",
          "`",
          "{",
          "|",
          "}",
          "~"
         ],
         "xaxis": "x7",
         "y": [
          375,
          1786,
          0,
          0,
          0,
          0,
          1350,
          6,
          6,
          0,
          0,
          14864,
          1058,
          7172,
          0,
          94,
          20,
          0,
          0,
          0,
          489,
          0,
          0,
          0,
          0,
          0,
          46,
          0,
          0,
          0,
          0,
          0
         ],
         "yaxis": "y7"
        },
        {
         "marker": {
          "color": "#e67e22"
         },
         "mode": "markers",
         "name": "claude-3-haiku-20240307",
         "showlegend": false,
         "type": "scatter",
         "x": [
          "!",
          "\"",
          "#",
          "$",
          "%",
          "&",
          "'",
          "(",
          ")",
          "*",
          "+",
          ",",
          "-",
          ".",
          "/",
          ":",
          ";",
          "<",
          "=",
          ">",
          "?",
          "@",
          "[",
          "\\",
          "]",
          "^",
          "_",
          "`",
          "{",
          "|",
          "}",
          "~"
         ],
         "xaxis": "x8",
         "y": [
          230,
          1430,
          0,
          0,
          0,
          1,
          992,
          3,
          3,
          0,
          0,
          15140,
          853,
          6636,
          0,
          54,
          28,
          0,
          0,
          0,
          451,
          0,
          1,
          0,
          1,
          0,
          0,
          0,
          0,
          0,
          0,
          0
         ],
         "yaxis": "y8"
        },
        {
         "marker": {
          "color": "#e67e22"
         },
         "mode": "markers",
         "name": "claude-3-haiku-20240307",
         "showlegend": false,
         "type": "scatter",
         "x": [
          "!",
          "\"",
          "#",
          "$",
          "%",
          "&",
          "'",
          "(",
          ")",
          "*",
          "+",
          ",",
          "-",
          ".",
          "/",
          ":",
          ";",
          "<",
          "=",
          ">",
          "?",
          "@",
          "[",
          "\\",
          "]",
          "^",
          "_",
          "`",
          "{",
          "|",
          "}",
          "~"
         ],
         "xaxis": "x9",
         "y": [
          106,
          757,
          0,
          0,
          0,
          0,
          793,
          1,
          1,
          0,
          0,
          16584,
          822,
          6222,
          1,
          85,
          24,
          0,
          0,
          0,
          576,
          0,
          1,
          0,
          1,
          0,
          2,
          0,
          0,
          0,
          0,
          0
         ],
         "yaxis": "y9"
        },
        {
         "marker": {
          "color": "#e67e22"
         },
         "mode": "markers",
         "name": "claude-3-haiku-20240307",
         "showlegend": false,
         "type": "scatter",
         "x": [
          "!",
          "\"",
          "#",
          "$",
          "%",
          "&",
          "'",
          "(",
          ")",
          "*",
          "+",
          ",",
          "-",
          ".",
          "/",
          ":",
          ";",
          "<",
          "=",
          ">",
          "?",
          "@",
          "[",
          "\\",
          "]",
          "^",
          "_",
          "`",
          "{",
          "|",
          "}",
          "~"
         ],
         "xaxis": "x10",
         "y": [
          402,
          1623,
          0,
          0,
          0,
          0,
          914,
          16,
          16,
          0,
          0,
          16753,
          923,
          6108,
          1,
          48,
          30,
          0,
          0,
          0,
          543,
          0,
          0,
          0,
          0,
          0,
          26,
          0,
          0,
          0,
          0,
          0
         ],
         "yaxis": "y10"
        }
       ],
       "layout": {
        "annotations": [
         {
          "font": {
           "size": 16
          },
          "showarrow": false,
          "text": "Mark Twain",
          "x": 0.14444444444444446,
          "xanchor": "center",
          "xref": "paper",
          "y": 1,
          "yanchor": "bottom",
          "yref": "paper"
         },
         {
          "font": {
           "size": 16
          },
          "showarrow": false,
          "text": "Zane Grey",
          "x": 0.5,
          "xanchor": "center",
          "xref": "paper",
          "y": 1,
          "yanchor": "bottom",
          "yref": "paper"
         },
         {
          "font": {
           "size": 16
          },
          "showarrow": false,
          "text": "Joseph Conrad",
          "x": 0.8555555555555556,
          "xanchor": "center",
          "xref": "paper",
          "y": 1,
          "yanchor": "bottom",
          "yref": "paper"
         },
         {
          "font": {
           "size": 16
          },
          "showarrow": false,
          "text": "Benjamin Disraeli",
          "x": 0.14444444444444446,
          "xanchor": "center",
          "xref": "paper",
          "y": 0.71875,
          "yanchor": "bottom",
          "yref": "paper"
         },
         {
          "font": {
           "size": 16
          },
          "showarrow": false,
          "text": "George Eliot",
          "x": 0.5,
          "xanchor": "center",
          "xref": "paper",
          "y": 0.71875,
          "yanchor": "bottom",
          "yref": "paper"
         },
         {
          "font": {
           "size": 16
          },
          "showarrow": false,
          "text": "William Henry Hudson",
          "x": 0.8555555555555556,
          "xanchor": "center",
          "xref": "paper",
          "y": 0.71875,
          "yanchor": "bottom",
          "yref": "paper"
         },
         {
          "font": {
           "size": 16
          },
          "showarrow": false,
          "text": "Lucy Maud Montgomery",
          "x": 0.14444444444444446,
          "xanchor": "center",
          "xref": "paper",
          "y": 0.4375,
          "yanchor": "bottom",
          "yref": "paper"
         },
         {
          "font": {
           "size": 16
          },
          "showarrow": false,
          "text": "Howard Pyle",
          "x": 0.5,
          "xanchor": "center",
          "xref": "paper",
          "y": 0.4375,
          "yanchor": "bottom",
          "yref": "paper"
         },
         {
          "font": {
           "size": 16
          },
          "showarrow": false,
          "text": "Virginia Woolf",
          "x": 0.8555555555555556,
          "xanchor": "center",
          "xref": "paper",
          "y": 0.4375,
          "yanchor": "bottom",
          "yref": "paper"
         },
         {
          "font": {
           "size": 16
          },
          "showarrow": false,
          "text": "Lewis Carroll",
          "x": 0.14444444444444446,
          "xanchor": "center",
          "xref": "paper",
          "y": 0.15625,
          "yanchor": "bottom",
          "yref": "paper"
         }
        ],
        "height": 1500,
        "legend": {
         "title": {
          "text": "Collection"
         }
        },
        "template": {
         "data": {
          "bar": [
           {
            "error_x": {
             "color": "#2a3f5f"
            },
            "error_y": {
             "color": "#2a3f5f"
            },
            "marker": {
             "line": {
              "color": "#E5ECF6",
              "width": 0.5
             },
             "pattern": {
              "fillmode": "overlay",
              "size": 10,
              "solidity": 0.2
             }
            },
            "type": "bar"
           }
          ],
          "barpolar": [
           {
            "marker": {
             "line": {
              "color": "#E5ECF6",
              "width": 0.5
             },
             "pattern": {
              "fillmode": "overlay",
              "size": 10,
              "solidity": 0.2
             }
            },
            "type": "barpolar"
           }
          ],
          "carpet": [
           {
            "aaxis": {
             "endlinecolor": "#2a3f5f",
             "gridcolor": "white",
             "linecolor": "white",
             "minorgridcolor": "white",
             "startlinecolor": "#2a3f5f"
            },
            "baxis": {
             "endlinecolor": "#2a3f5f",
             "gridcolor": "white",
             "linecolor": "white",
             "minorgridcolor": "white",
             "startlinecolor": "#2a3f5f"
            },
            "type": "carpet"
           }
          ],
          "choropleth": [
           {
            "colorbar": {
             "outlinewidth": 0,
             "ticks": ""
            },
            "type": "choropleth"
           }
          ],
          "contour": [
           {
            "colorbar": {
             "outlinewidth": 0,
             "ticks": ""
            },
            "colorscale": [
             [
              0,
              "#0d0887"
             ],
             [
              0.1111111111111111,
              "#46039f"
             ],
             [
              0.2222222222222222,
              "#7201a8"
             ],
             [
              0.3333333333333333,
              "#9c179e"
             ],
             [
              0.4444444444444444,
              "#bd3786"
             ],
             [
              0.5555555555555556,
              "#d8576b"
             ],
             [
              0.6666666666666666,
              "#ed7953"
             ],
             [
              0.7777777777777778,
              "#fb9f3a"
             ],
             [
              0.8888888888888888,
              "#fdca26"
             ],
             [
              1,
              "#f0f921"
             ]
            ],
            "type": "contour"
           }
          ],
          "contourcarpet": [
           {
            "colorbar": {
             "outlinewidth": 0,
             "ticks": ""
            },
            "type": "contourcarpet"
           }
          ],
          "heatmap": [
           {
            "colorbar": {
             "outlinewidth": 0,
             "ticks": ""
            },
            "colorscale": [
             [
              0,
              "#0d0887"
             ],
             [
              0.1111111111111111,
              "#46039f"
             ],
             [
              0.2222222222222222,
              "#7201a8"
             ],
             [
              0.3333333333333333,
              "#9c179e"
             ],
             [
              0.4444444444444444,
              "#bd3786"
             ],
             [
              0.5555555555555556,
              "#d8576b"
             ],
             [
              0.6666666666666666,
              "#ed7953"
             ],
             [
              0.7777777777777778,
              "#fb9f3a"
             ],
             [
              0.8888888888888888,
              "#fdca26"
             ],
             [
              1,
              "#f0f921"
             ]
            ],
            "type": "heatmap"
           }
          ],
          "heatmapgl": [
           {
            "colorbar": {
             "outlinewidth": 0,
             "ticks": ""
            },
            "colorscale": [
             [
              0,
              "#0d0887"
             ],
             [
              0.1111111111111111,
              "#46039f"
             ],
             [
              0.2222222222222222,
              "#7201a8"
             ],
             [
              0.3333333333333333,
              "#9c179e"
             ],
             [
              0.4444444444444444,
              "#bd3786"
             ],
             [
              0.5555555555555556,
              "#d8576b"
             ],
             [
              0.6666666666666666,
              "#ed7953"
             ],
             [
              0.7777777777777778,
              "#fb9f3a"
             ],
             [
              0.8888888888888888,
              "#fdca26"
             ],
             [
              1,
              "#f0f921"
             ]
            ],
            "type": "heatmapgl"
           }
          ],
          "histogram": [
           {
            "marker": {
             "pattern": {
              "fillmode": "overlay",
              "size": 10,
              "solidity": 0.2
             }
            },
            "type": "histogram"
           }
          ],
          "histogram2d": [
           {
            "colorbar": {
             "outlinewidth": 0,
             "ticks": ""
            },
            "colorscale": [
             [
              0,
              "#0d0887"
             ],
             [
              0.1111111111111111,
              "#46039f"
             ],
             [
              0.2222222222222222,
              "#7201a8"
             ],
             [
              0.3333333333333333,
              "#9c179e"
             ],
             [
              0.4444444444444444,
              "#bd3786"
             ],
             [
              0.5555555555555556,
              "#d8576b"
             ],
             [
              0.6666666666666666,
              "#ed7953"
             ],
             [
              0.7777777777777778,
              "#fb9f3a"
             ],
             [
              0.8888888888888888,
              "#fdca26"
             ],
             [
              1,
              "#f0f921"
             ]
            ],
            "type": "histogram2d"
           }
          ],
          "histogram2dcontour": [
           {
            "colorbar": {
             "outlinewidth": 0,
             "ticks": ""
            },
            "colorscale": [
             [
              0,
              "#0d0887"
             ],
             [
              0.1111111111111111,
              "#46039f"
             ],
             [
              0.2222222222222222,
              "#7201a8"
             ],
             [
              0.3333333333333333,
              "#9c179e"
             ],
             [
              0.4444444444444444,
              "#bd3786"
             ],
             [
              0.5555555555555556,
              "#d8576b"
             ],
             [
              0.6666666666666666,
              "#ed7953"
             ],
             [
              0.7777777777777778,
              "#fb9f3a"
             ],
             [
              0.8888888888888888,
              "#fdca26"
             ],
             [
              1,
              "#f0f921"
             ]
            ],
            "type": "histogram2dcontour"
           }
          ],
          "mesh3d": [
           {
            "colorbar": {
             "outlinewidth": 0,
             "ticks": ""
            },
            "type": "mesh3d"
           }
          ],
          "parcoords": [
           {
            "line": {
             "colorbar": {
              "outlinewidth": 0,
              "ticks": ""
             }
            },
            "type": "parcoords"
           }
          ],
          "pie": [
           {
            "automargin": true,
            "type": "pie"
           }
          ],
          "scatter": [
           {
            "fillpattern": {
             "fillmode": "overlay",
             "size": 10,
             "solidity": 0.2
            },
            "type": "scatter"
           }
          ],
          "scatter3d": [
           {
            "line": {
             "colorbar": {
              "outlinewidth": 0,
              "ticks": ""
             }
            },
            "marker": {
             "colorbar": {
              "outlinewidth": 0,
              "ticks": ""
             }
            },
            "type": "scatter3d"
           }
          ],
          "scattercarpet": [
           {
            "marker": {
             "colorbar": {
              "outlinewidth": 0,
              "ticks": ""
             }
            },
            "type": "scattercarpet"
           }
          ],
          "scattergeo": [
           {
            "marker": {
             "colorbar": {
              "outlinewidth": 0,
              "ticks": ""
             }
            },
            "type": "scattergeo"
           }
          ],
          "scattergl": [
           {
            "marker": {
             "colorbar": {
              "outlinewidth": 0,
              "ticks": ""
             }
            },
            "type": "scattergl"
           }
          ],
          "scattermapbox": [
           {
            "marker": {
             "colorbar": {
              "outlinewidth": 0,
              "ticks": ""
             }
            },
            "type": "scattermapbox"
           }
          ],
          "scatterpolar": [
           {
            "marker": {
             "colorbar": {
              "outlinewidth": 0,
              "ticks": ""
             }
            },
            "type": "scatterpolar"
           }
          ],
          "scatterpolargl": [
           {
            "marker": {
             "colorbar": {
              "outlinewidth": 0,
              "ticks": ""
             }
            },
            "type": "scatterpolargl"
           }
          ],
          "scatterternary": [
           {
            "marker": {
             "colorbar": {
              "outlinewidth": 0,
              "ticks": ""
             }
            },
            "type": "scatterternary"
           }
          ],
          "surface": [
           {
            "colorbar": {
             "outlinewidth": 0,
             "ticks": ""
            },
            "colorscale": [
             [
              0,
              "#0d0887"
             ],
             [
              0.1111111111111111,
              "#46039f"
             ],
             [
              0.2222222222222222,
              "#7201a8"
             ],
             [
              0.3333333333333333,
              "#9c179e"
             ],
             [
              0.4444444444444444,
              "#bd3786"
             ],
             [
              0.5555555555555556,
              "#d8576b"
             ],
             [
              0.6666666666666666,
              "#ed7953"
             ],
             [
              0.7777777777777778,
              "#fb9f3a"
             ],
             [
              0.8888888888888888,
              "#fdca26"
             ],
             [
              1,
              "#f0f921"
             ]
            ],
            "type": "surface"
           }
          ],
          "table": [
           {
            "cells": {
             "fill": {
              "color": "#EBF0F8"
             },
             "line": {
              "color": "white"
             }
            },
            "header": {
             "fill": {
              "color": "#C8D4E3"
             },
             "line": {
              "color": "white"
             }
            },
            "type": "table"
           }
          ]
         },
         "layout": {
          "annotationdefaults": {
           "arrowcolor": "#2a3f5f",
           "arrowhead": 0,
           "arrowwidth": 1
          },
          "autotypenumbers": "strict",
          "coloraxis": {
           "colorbar": {
            "outlinewidth": 0,
            "ticks": ""
           }
          },
          "colorscale": {
           "diverging": [
            [
             0,
             "#8e0152"
            ],
            [
             0.1,
             "#c51b7d"
            ],
            [
             0.2,
             "#de77ae"
            ],
            [
             0.3,
             "#f1b6da"
            ],
            [
             0.4,
             "#fde0ef"
            ],
            [
             0.5,
             "#f7f7f7"
            ],
            [
             0.6,
             "#e6f5d0"
            ],
            [
             0.7,
             "#b8e186"
            ],
            [
             0.8,
             "#7fbc41"
            ],
            [
             0.9,
             "#4d9221"
            ],
            [
             1,
             "#276419"
            ]
           ],
           "sequential": [
            [
             0,
             "#0d0887"
            ],
            [
             0.1111111111111111,
             "#46039f"
            ],
            [
             0.2222222222222222,
             "#7201a8"
            ],
            [
             0.3333333333333333,
             "#9c179e"
            ],
            [
             0.4444444444444444,
             "#bd3786"
            ],
            [
             0.5555555555555556,
             "#d8576b"
            ],
            [
             0.6666666666666666,
             "#ed7953"
            ],
            [
             0.7777777777777778,
             "#fb9f3a"
            ],
            [
             0.8888888888888888,
             "#fdca26"
            ],
            [
             1,
             "#f0f921"
            ]
           ],
           "sequentialminus": [
            [
             0,
             "#0d0887"
            ],
            [
             0.1111111111111111,
             "#46039f"
            ],
            [
             0.2222222222222222,
             "#7201a8"
            ],
            [
             0.3333333333333333,
             "#9c179e"
            ],
            [
             0.4444444444444444,
             "#bd3786"
            ],
            [
             0.5555555555555556,
             "#d8576b"
            ],
            [
             0.6666666666666666,
             "#ed7953"
            ],
            [
             0.7777777777777778,
             "#fb9f3a"
            ],
            [
             0.8888888888888888,
             "#fdca26"
            ],
            [
             1,
             "#f0f921"
            ]
           ]
          },
          "colorway": [
           "#636efa",
           "#EF553B",
           "#00cc96",
           "#ab63fa",
           "#FFA15A",
           "#19d3f3",
           "#FF6692",
           "#B6E880",
           "#FF97FF",
           "#FECB52"
          ],
          "font": {
           "color": "#2a3f5f"
          },
          "geo": {
           "bgcolor": "white",
           "lakecolor": "white",
           "landcolor": "#E5ECF6",
           "showlakes": true,
           "showland": true,
           "subunitcolor": "white"
          },
          "hoverlabel": {
           "align": "left"
          },
          "hovermode": "closest",
          "mapbox": {
           "style": "light"
          },
          "paper_bgcolor": "white",
          "plot_bgcolor": "#E5ECF6",
          "polar": {
           "angularaxis": {
            "gridcolor": "white",
            "linecolor": "white",
            "ticks": ""
           },
           "bgcolor": "#E5ECF6",
           "radialaxis": {
            "gridcolor": "white",
            "linecolor": "white",
            "ticks": ""
           }
          },
          "scene": {
           "xaxis": {
            "backgroundcolor": "#E5ECF6",
            "gridcolor": "white",
            "gridwidth": 2,
            "linecolor": "white",
            "showbackground": true,
            "ticks": "",
            "zerolinecolor": "white"
           },
           "yaxis": {
            "backgroundcolor": "#E5ECF6",
            "gridcolor": "white",
            "gridwidth": 2,
            "linecolor": "white",
            "showbackground": true,
            "ticks": "",
            "zerolinecolor": "white"
           },
           "zaxis": {
            "backgroundcolor": "#E5ECF6",
            "gridcolor": "white",
            "gridwidth": 2,
            "linecolor": "white",
            "showbackground": true,
            "ticks": "",
            "zerolinecolor": "white"
           }
          },
          "shapedefaults": {
           "line": {
            "color": "#2a3f5f"
           }
          },
          "ternary": {
           "aaxis": {
            "gridcolor": "white",
            "linecolor": "white",
            "ticks": ""
           },
           "baxis": {
            "gridcolor": "white",
            "linecolor": "white",
            "ticks": ""
           },
           "bgcolor": "#E5ECF6",
           "caxis": {
            "gridcolor": "white",
            "linecolor": "white",
            "ticks": ""
           }
          },
          "title": {
           "x": 0.05
          },
          "xaxis": {
           "automargin": true,
           "gridcolor": "white",
           "linecolor": "white",
           "ticks": "",
           "title": {
            "standoff": 15
           },
           "zerolinecolor": "white",
           "zerolinewidth": 2
          },
          "yaxis": {
           "automargin": true,
           "gridcolor": "white",
           "linecolor": "white",
           "ticks": "",
           "title": {
            "standoff": 15
           },
           "zerolinecolor": "white",
           "zerolinewidth": 2
          }
         }
        },
        "title": {
         "text": "Punctuation frequency",
         "x": 0.5
        },
        "xaxis": {
         "anchor": "y",
         "domain": [
          0,
          0.2888888888888889
         ]
        },
        "xaxis10": {
         "anchor": "y10",
         "domain": [
          0,
          0.2888888888888889
         ]
        },
        "xaxis11": {
         "anchor": "y11",
         "domain": [
          0.35555555555555557,
          0.6444444444444445
         ]
        },
        "xaxis12": {
         "anchor": "y12",
         "domain": [
          0.7111111111111111,
          1
         ]
        },
        "xaxis2": {
         "anchor": "y2",
         "domain": [
          0.35555555555555557,
          0.6444444444444445
         ]
        },
        "xaxis3": {
         "anchor": "y3",
         "domain": [
          0.7111111111111111,
          1
         ]
        },
        "xaxis4": {
         "anchor": "y4",
         "domain": [
          0,
          0.2888888888888889
         ]
        },
        "xaxis5": {
         "anchor": "y5",
         "domain": [
          0.35555555555555557,
          0.6444444444444445
         ]
        },
        "xaxis6": {
         "anchor": "y6",
         "domain": [
          0.7111111111111111,
          1
         ]
        },
        "xaxis7": {
         "anchor": "y7",
         "domain": [
          0,
          0.2888888888888889
         ]
        },
        "xaxis8": {
         "anchor": "y8",
         "domain": [
          0.35555555555555557,
          0.6444444444444445
         ]
        },
        "xaxis9": {
         "anchor": "y9",
         "domain": [
          0.7111111111111111,
          1
         ]
        },
        "yaxis": {
         "anchor": "x",
         "domain": [
          0.84375,
          1
         ]
        },
        "yaxis10": {
         "anchor": "x10",
         "domain": [
          0,
          0.15625
         ]
        },
        "yaxis11": {
         "anchor": "x11",
         "domain": [
          0,
          0.15625
         ]
        },
        "yaxis12": {
         "anchor": "x12",
         "domain": [
          0,
          0.15625
         ]
        },
        "yaxis2": {
         "anchor": "x2",
         "domain": [
          0.84375,
          1
         ]
        },
        "yaxis3": {
         "anchor": "x3",
         "domain": [
          0.84375,
          1
         ]
        },
        "yaxis4": {
         "anchor": "x4",
         "domain": [
          0.5625,
          0.71875
         ]
        },
        "yaxis5": {
         "anchor": "x5",
         "domain": [
          0.5625,
          0.71875
         ]
        },
        "yaxis6": {
         "anchor": "x6",
         "domain": [
          0.5625,
          0.71875
         ]
        },
        "yaxis7": {
         "anchor": "x7",
         "domain": [
          0.28125,
          0.4375
         ]
        },
        "yaxis8": {
         "anchor": "x8",
         "domain": [
          0.28125,
          0.4375
         ]
        },
        "yaxis9": {
         "anchor": "x9",
         "domain": [
          0.28125,
          0.4375
         ]
        }
       }
      }
     },
     "metadata": {},
     "output_type": "display_data"
    },
    {
     "data": {
      "application/vnd.plotly.v1+json": {
       "config": {
        "plotlyServerURL": "https://plot.ly"
       },
       "data": [
        {
         "marker": {
          "color": "#3498db"
         },
         "mode": "markers",
         "name": "books",
         "type": "scatter",
         "visible": true,
         "x": [
          "Mark Twain",
          "Zane Grey",
          "Joseph Conrad",
          "Benjamin Disraeli",
          "George Eliot",
          "William Henry Hudson",
          "Lucy Maud Montgomery",
          "Howard Pyle",
          "Virginia Woolf",
          "Lewis Carroll"
         ],
         "y": [
          16308,
          12751,
          14772,
          13783,
          14381,
          13477,
          12323,
          11052,
          12950,
          12281
         ]
        },
        {
         "marker": {
          "color": "#3498db"
         },
         "mode": "markers",
         "name": "books",
         "type": "scatter",
         "visible": false,
         "x": [
          "Mark Twain",
          "Zane Grey",
          "Joseph Conrad",
          "Benjamin Disraeli",
          "George Eliot",
          "William Henry Hudson",
          "Lucy Maud Montgomery",
          "Howard Pyle",
          "Virginia Woolf",
          "Lewis Carroll"
         ],
         "y": [
          4.244358035105559,
          4.2048818380090225,
          4.3320536981456925,
          4.498053114128406,
          4.27152737785689,
          4.257630840829052,
          4.1149856738581745,
          4.129382473003098,
          4.352878287519897,
          4.121474288236592
         ]
        },
        {
         "marker": {
          "color": "#3498db"
         },
         "mode": "markers",
         "name": "books",
         "type": "scatter",
         "visible": false,
         "x": [
          "Mark Twain",
          "Zane Grey",
          "Joseph Conrad",
          "Benjamin Disraeli",
          "George Eliot",
          "William Henry Hudson",
          "Lucy Maud Montgomery",
          "Howard Pyle",
          "Virginia Woolf",
          "Lewis Carroll"
         ],
         "y": [
          20.747782306401344,
          12.189890013839317,
          15.619514854183702,
          17.06421925566343,
          22.389815056004167,
          28.894788755548248,
          14.124065148745222,
          23.29130141604855,
          17.342810053564072,
          16.479788007897746
         ]
        },
        {
         "marker": {
          "color": "#3498db"
         },
         "mode": "markers",
         "name": "books",
         "type": "scatter",
         "visible": false,
         "x": [
          "Mark Twain",
          "Zane Grey",
          "Joseph Conrad",
          "Benjamin Disraeli",
          "George Eliot",
          "William Henry Hudson",
          "Lucy Maud Montgomery",
          "Howard Pyle",
          "Virginia Woolf",
          "Lewis Carroll"
         ],
         "y": [
          1.3717572423993807,
          1.3176959158674673,
          1.4008050068634978,
          1.4529339599717894,
          1.3760419756964442,
          1.3646133802135783,
          1.3324665085986267,
          1.2905185142294664,
          1.3864305908626546,
          1.326626099568055
         ]
        },
        {
         "marker": {
          "color": "#3498db"
         },
         "mode": "markers",
         "name": "books",
         "type": "scatter",
         "visible": false,
         "x": [
          "Mark Twain",
          "Zane Grey",
          "Joseph Conrad",
          "Benjamin Disraeli",
          "George Eliot",
          "William Henry Hudson",
          "Lucy Maud Montgomery",
          "Howard Pyle",
          "Virginia Woolf",
          "Lewis Carroll"
         ],
         "y": [
          69.72533825201506,
          82.98518715356538,
          72.47308884235166,
          66.59660444188825,
          67.69618657423662,
          62.06049744704984,
          79.77240724657982,
          74.01646275889787,
          71.9400198086519,
          77.87544714852635
         ]
        },
        {
         "marker": {
          "color": "#3498db"
         },
         "mode": "markers",
         "name": "books",
         "type": "scatter",
         "visible": false,
         "x": [
          "Mark Twain",
          "Zane Grey",
          "Joseph Conrad",
          "Benjamin Disraeli",
          "George Eliot",
          "William Henry Hudson",
          "Lucy Maud Montgomery",
          "Howard Pyle",
          "Virginia Woolf",
          "Lewis Carroll"
         ],
         "y": [
          8.688370559809218,
          4.71286891263345,
          7.031109874120919,
          8.209666237375856,
          9.379323185059665,
          11.781405501184043,
          5.6414902094744335,
          8.721726020166638,
          7.533576893069313,
          6.491305297983171
         ]
        },
        {
         "marker": {
          "color": "#3498db"
         },
         "mode": "markers",
         "name": "books",
         "type": "scatter",
         "visible": false,
         "x": [
          "Mark Twain",
          "Zane Grey",
          "Joseph Conrad",
          "Benjamin Disraeli",
          "George Eliot",
          "William Henry Hudson",
          "Lucy Maud Montgomery",
          "Howard Pyle",
          "Virginia Woolf",
          "Lewis Carroll"
         ],
         "y": [
          11.622007802325731,
          7.253178078374901,
          9.851258630070681,
          11.167984020073007,
          12.12853478634073,
          14.63972266738682,
          8.227037234477056,
          11.12191126153537,
          10.087678771847335,
          9.059992259627238
         ]
        },
        {
         "marker": {
          "color": "#3498db"
         },
         "mode": "markers",
         "name": "books",
         "type": "scatter",
         "visible": false,
         "x": [
          "Mark Twain",
          "Zane Grey",
          "Joseph Conrad",
          "Benjamin Disraeli",
          "George Eliot",
          "William Henry Hudson",
          "Lucy Maud Montgomery",
          "Howard Pyle",
          "Virginia Woolf",
          "Lewis Carroll"
         ],
         "y": [
          87.72459486935324,
          73.91967588097933,
          85.13191567277481,
          80.8938341130368,
          72.72827501347436,
          87.39910130996599,
          66.9727588019207,
          92.27154820044903,
          76.50133236869664,
          72.38557926975066
         ]
        },
        {
         "marker": {
          "color": "#3498db"
         },
         "mode": "markers",
         "name": "books",
         "type": "scatter",
         "visible": false,
         "x": [
          "Mark Twain",
          "Zane Grey",
          "Joseph Conrad",
          "Benjamin Disraeli",
          "George Eliot",
          "William Henry Hudson",
          "Lucy Maud Montgomery",
          "Howard Pyle",
          "Virginia Woolf",
          "Lewis Carroll"
         ],
         "y": [
          0.8041630777789621,
          0.7859548655094859,
          0.7964033053948,
          0.7918862508200524,
          0.7941837501198777,
          0.7873484391686847,
          0.7821084680498966,
          0.7720461086218114,
          0.7868491500041455,
          0.7863514660599408
         ]
        },
        {
         "marker": {
          "color": "#3498db"
         },
         "mode": "markers",
         "name": "books",
         "type": "scatter",
         "visible": false,
         "x": [
          "Mark Twain",
          "Zane Grey",
          "Joseph Conrad",
          "Benjamin Disraeli",
          "George Eliot",
          "William Henry Hudson",
          "Lucy Maud Montgomery",
          "Howard Pyle",
          "Virginia Woolf",
          "Lewis Carroll"
         ],
         "y": [
          0.09791846111051895,
          0.10702256724525706,
          0.1017983473026,
          0.1040568745899738,
          0.10290812494006112,
          0.10632578041565766,
          0.10894576597505166,
          0.11397694568909429,
          0.10657542499792728,
          0.10682426697002961
         ]
        },
        {
         "marker": {
          "color": "#3498db"
         },
         "mode": "markers",
         "name": "books",
         "type": "scatter",
         "visible": false,
         "x": [
          "Mark Twain",
          "Zane Grey",
          "Joseph Conrad",
          "Benjamin Disraeli",
          "George Eliot",
          "William Henry Hudson",
          "Lucy Maud Montgomery",
          "Howard Pyle",
          "Virginia Woolf",
          "Lewis Carroll"
         ],
         "y": [
          0.9911662209153212,
          0.9925296071903508,
          0.9914191127923218,
          0.9918380634435174,
          0.9926576363050638,
          0.9911858893792802,
          0.9932215750489648,
          0.9906823638191155,
          0.9922726466859103,
          0.9926800154790993
         ]
        },
        {
         "marker": {
          "color": "#e74c3c"
         },
         "mode": "markers",
         "name": "gpt-3.5-turbo-0125",
         "type": "scatter",
         "visible": true,
         "x": [
          "Mark Twain",
          "Zane Grey",
          "Joseph Conrad",
          "Benjamin Disraeli",
          "George Eliot",
          "William Henry Hudson",
          "Lucy Maud Montgomery",
          "Howard Pyle",
          "Virginia Woolf",
          "Lewis Carroll"
         ],
         "y": [
          12139,
          11762,
          11866,
          12415,
          12079,
          12083,
          11388,
          12076,
          11825,
          11638
         ]
        },
        {
         "marker": {
          "color": "#e74c3c"
         },
         "mode": "markers",
         "name": "gpt-3.5-turbo-0125",
         "type": "scatter",
         "visible": false,
         "x": [
          "Mark Twain",
          "Zane Grey",
          "Joseph Conrad",
          "Benjamin Disraeli",
          "George Eliot",
          "William Henry Hudson",
          "Lucy Maud Montgomery",
          "Howard Pyle",
          "Virginia Woolf",
          "Lewis Carroll"
         ],
         "y": [
          4.48124448739052,
          4.598028569509437,
          4.715382986076274,
          4.753828085428506,
          4.756330328292799,
          4.793450728035606,
          4.639561794289877,
          4.6573220069258445,
          4.709942028501262,
          4.636580171495825
         ]
        },
        {
         "marker": {
          "color": "#e74c3c"
         },
         "mode": "markers",
         "name": "gpt-3.5-turbo-0125",
         "type": "scatter",
         "visible": false,
         "x": [
          "Mark Twain",
          "Zane Grey",
          "Joseph Conrad",
          "Benjamin Disraeli",
          "George Eliot",
          "William Henry Hudson",
          "Lucy Maud Montgomery",
          "Howard Pyle",
          "Virginia Woolf",
          "Lewis Carroll"
         ],
         "y": [
          21.13524103538352,
          22.714812460267005,
          23.227084412221647,
          23.43582050613097,
          23.690250329380763,
          23.839455602536997,
          21.834699620702313,
          21.994330786295293,
          23.36946902654867,
          22.110285006195788
         ]
        },
        {
         "marker": {
          "color": "#e74c3c"
         },
         "mode": "markers",
         "name": "gpt-3.5-turbo-0125",
         "type": "scatter",
         "visible": false,
         "x": [
          "Mark Twain",
          "Zane Grey",
          "Joseph Conrad",
          "Benjamin Disraeli",
          "George Eliot",
          "William Henry Hudson",
          "Lucy Maud Montgomery",
          "Howard Pyle",
          "Virginia Woolf",
          "Lewis Carroll"
         ],
         "y": [
          1.4466098505064577,
          1.4798043122942928,
          1.538476974014247,
          1.5608680889908104,
          1.551596416197187,
          1.5643758625850115,
          1.4893726709814799,
          1.4984814694444755,
          1.5394412238056256,
          1.4890713445048478
         ]
        },
        {
         "marker": {
          "color": "#e74c3c"
         },
         "mode": "markers",
         "name": "gpt-3.5-turbo-0125",
         "type": "scatter",
         "visible": false,
         "x": [
          "Mark Twain",
          "Zane Grey",
          "Joseph Conrad",
          "Benjamin Disraeli",
          "George Eliot",
          "William Henry Hudson",
          "Lucy Maud Montgomery",
          "Howard Pyle",
          "Virginia Woolf",
          "Lewis Carroll"
         ],
         "y": [
          62.999536996239414,
          58.58802053273183,
          53.10435731998976,
          50.99820185765452,
          51.524339105396535,
          50.291754588733,
          58.67185191995398,
          57.73922193690768,
          52.878261404097174,
          58.41762497360118
         ]
        },
        {
         "marker": {
          "color": "#e74c3c"
         },
         "mode": "markers",
         "name": "gpt-3.5-turbo-0125",
         "type": "scatter",
         "visible": false,
         "x": [
          "Mark Twain",
          "Zane Grey",
          "Joseph Conrad",
          "Benjamin Disraeli",
          "George Eliot",
          "William Henry Hudson",
          "Lucy Maud Montgomery",
          "Howard Pyle",
          "Virginia Woolf",
          "Lewis Carroll"
         ],
         "y": [
          9.722740239775774,
          10.730467744576789,
          11.622591214134555,
          11.968213447482643,
          11.958035339585305,
          12.167022863492566,
          10.500130369655366,
          10.669870346099973,
          11.689499361260367,
          10.604053017573563
         ]
        },
        {
         "marker": {
          "color": "#e74c3c"
         },
         "mode": "markers",
         "name": "gpt-3.5-turbo-0125",
         "type": "scatter",
         "visible": false,
         "x": [
          "Mark Twain",
          "Zane Grey",
          "Joseph Conrad",
          "Benjamin Disraeli",
          "George Eliot",
          "William Henry Hudson",
          "Lucy Maud Montgomery",
          "Howard Pyle",
          "Virginia Woolf",
          "Lewis Carroll"
         ],
         "y": [
          12.523961190193994,
          13.506586381684215,
          14.628670849490067,
          15.04373524579561,
          14.988393732183875,
          15.246773998997694,
          13.29659874099898,
          13.502151182400357,
          14.698762990831197,
          13.452083514331704
         ]
        },
        {
         "marker": {
          "color": "#e74c3c"
         },
         "mode": "markers",
         "name": "gpt-3.5-turbo-0125",
         "type": "scatter",
         "visible": false,
         "x": [
          "Mark Twain",
          "Zane Grey",
          "Joseph Conrad",
          "Benjamin Disraeli",
          "George Eliot",
          "William Henry Hudson",
          "Lucy Maud Montgomery",
          "Howard Pyle",
          "Virginia Woolf",
          "Lewis Carroll"
         ],
         "y": [
          104.11323871749899,
          124.98873512951327,
          129.58098789708657,
          119.11965715238969,
          126.06884280926273,
          127.79307636328929,
          111.06836303300564,
          117.83460538136644,
          134.54106738336543,
          119.07154051592565
         ]
        },
        {
         "marker": {
          "color": "#e74c3c"
         },
         "mode": "markers",
         "name": "gpt-3.5-turbo-0125",
         "type": "scatter",
         "visible": false,
         "x": [
          "Mark Twain",
          "Zane Grey",
          "Joseph Conrad",
          "Benjamin Disraeli",
          "George Eliot",
          "William Henry Hudson",
          "Lucy Maud Montgomery",
          "Howard Pyle",
          "Virginia Woolf",
          "Lewis Carroll"
         ],
         "y": [
          0.7778770101670688,
          0.7750333331852404,
          0.7754912024130437,
          0.7791391144936536,
          0.7768177867008283,
          0.7766284806794006,
          0.7724317383109659,
          0.7772803083502575,
          0.7751461855682059,
          0.7742365466689692
         ]
        },
        {
         "marker": {
          "color": "#e74c3c"
         },
         "mode": "markers",
         "name": "gpt-3.5-turbo-0125",
         "type": "scatter",
         "visible": false,
         "x": [
          "Mark Twain",
          "Zane Grey",
          "Joseph Conrad",
          "Benjamin Disraeli",
          "George Eliot",
          "William Henry Hudson",
          "Lucy Maud Montgomery",
          "Howard Pyle",
          "Virginia Woolf",
          "Lewis Carroll"
         ],
         "y": [
          0.11106149491646561,
          0.11248333340737982,
          0.11225439879347814,
          0.11043044275317322,
          0.11159110664958585,
          0.1116857596602997,
          0.11378413084451708,
          0.11135984582487123,
          0.11242690721589703,
          0.1128817266655154
         ]
        },
        {
         "marker": {
          "color": "#e74c3c"
         },
         "mode": "markers",
         "name": "gpt-3.5-turbo-0125",
         "type": "scatter",
         "visible": false,
         "x": [
          "Mark Twain",
          "Zane Grey",
          "Joseph Conrad",
          "Benjamin Disraeli",
          "George Eliot",
          "William Henry Hudson",
          "Lucy Maud Montgomery",
          "Howard Pyle",
          "Virginia Woolf",
          "Lewis Carroll"
         ],
         "y": [
          0.989506297019592,
          0.9874161069325511,
          0.9869576268128533,
          0.9880074865602343,
          0.9873103274087831,
          0.987137931459922,
          0.988805351965052,
          0.9881337305847517,
          0.9864613266654689,
          0.9880069205316692
         ]
        },
        {
         "marker": {
          "color": "#2ecc71"
         },
         "mode": "markers",
         "name": "gpt-4o",
         "type": "scatter",
         "visible": true,
         "x": [
          "Mark Twain",
          "Zane Grey",
          "Joseph Conrad",
          "Benjamin Disraeli",
          "George Eliot",
          "William Henry Hudson",
          "Lucy Maud Montgomery",
          "Howard Pyle",
          "Virginia Woolf",
          "Lewis Carroll"
         ],
         "y": [
          14839,
          12360,
          13034,
          14154,
          13840,
          13300,
          12501,
          12878,
          12751,
          13421
         ]
        },
        {
         "marker": {
          "color": "#2ecc71"
         },
         "mode": "markers",
         "name": "gpt-4o",
         "type": "scatter",
         "visible": false,
         "x": [
          "Mark Twain",
          "Zane Grey",
          "Joseph Conrad",
          "Benjamin Disraeli",
          "George Eliot",
          "William Henry Hudson",
          "Lucy Maud Montgomery",
          "Howard Pyle",
          "Virginia Woolf",
          "Lewis Carroll"
         ],
         "y": [
          4.434116953248766,
          4.588681029710279,
          4.673574118295371,
          4.857956718556448,
          4.775088886340177,
          4.712058665015423,
          4.652117406206151,
          4.567512404344251,
          4.6380460972213395,
          4.659311829207993
         ]
        },
        {
         "marker": {
          "color": "#2ecc71"
         },
         "mode": "markers",
         "name": "gpt-4o",
         "type": "scatter",
         "visible": false,
         "x": [
          "Mark Twain",
          "Zane Grey",
          "Joseph Conrad",
          "Benjamin Disraeli",
          "George Eliot",
          "William Henry Hudson",
          "Lucy Maud Montgomery",
          "Howard Pyle",
          "Virginia Woolf",
          "Lewis Carroll"
         ],
         "y": [
          18.824336090552894,
          19.24617092119867,
          20.88324142891393,
          21.360687721009633,
          20.994461834818203,
          20.451923076923077,
          19.97151717009303,
          20.426423957721667,
          20.8015625,
          18.588343425605537
         ]
        },
        {
         "marker": {
          "color": "#2ecc71"
         },
         "mode": "markers",
         "name": "gpt-4o",
         "type": "scatter",
         "visible": false,
         "x": [
          "Mark Twain",
          "Zane Grey",
          "Joseph Conrad",
          "Benjamin Disraeli",
          "George Eliot",
          "William Henry Hudson",
          "Lucy Maud Montgomery",
          "Howard Pyle",
          "Virginia Woolf",
          "Lewis Carroll"
         ],
         "y": [
          1.427959388984609,
          1.465105416128437,
          1.5233054739162382,
          1.6027035203991347,
          1.5556600527583437,
          1.5286043551549762,
          1.489752260023463,
          1.4505004858248385,
          1.5077050193853319,
          1.4898577702800966
         ]
        },
        {
         "marker": {
          "color": "#2ecc71"
         },
         "mode": "markers",
         "name": "gpt-4o",
         "type": "scatter",
         "visible": false,
         "x": [
          "Mark Twain",
          "Zane Grey",
          "Joseph Conrad",
          "Benjamin Disraeli",
          "George Eliot",
          "William Henry Hudson",
          "Lucy Maud Montgomery",
          "Howard Pyle",
          "Virginia Woolf",
          "Lewis Carroll"
         ],
         "y": [
          66.9229345599909,
          63.352218310517614,
          56.76686685633862,
          49.56518413740844,
          53.916780774303646,
          56.75636963081212,
          60.530868874370626,
          63.38983858213119,
          58.16956942250094,
          61.925864057314215
         ]
        },
        {
         "marker": {
          "color": "#2ecc71"
         },
         "mode": "markers",
         "name": "gpt-4o",
         "type": "scatter",
         "visible": false,
         "x": [
          "Mark Twain",
          "Zane Grey",
          "Joseph Conrad",
          "Benjamin Disraeli",
          "George Eliot",
          "William Henry Hudson",
          "Lucy Maud Montgomery",
          "Howard Pyle",
          "Virginia Woolf",
          "Lewis Carroll"
         ],
         "y": [
          8.601411865334018,
          9.204250569583039,
          10.529468749488043,
          11.652569751903549,
          10.954628738127557,
          10.423781390828719,
          9.777968364613148,
          9.492211076244544,
          10.313528603746914,
          9.239775625291301
         ]
        },
        {
         "marker": {
          "color": "#2ecc71"
         },
         "mode": "markers",
         "name": "gpt-4o",
         "type": "scatter",
         "visible": false,
         "x": [
          "Mark Twain",
          "Zane Grey",
          "Joseph Conrad",
          "Benjamin Disraeli",
          "George Eliot",
          "William Henry Hudson",
          "Lucy Maud Montgomery",
          "Howard Pyle",
          "Virginia Woolf",
          "Lewis Carroll"
         ],
         "y": [
          11.33574514402305,
          11.9028880030984,
          13.46695380889107,
          14.800504430962036,
          13.944751129156092,
          13.326686416316264,
          12.566850835557283,
          12.17284634801269,
          13.170020327875012,
          12.067197990933877
         ]
        },
        {
         "marker": {
          "color": "#2ecc71"
         },
         "mode": "markers",
         "name": "gpt-4o",
         "type": "scatter",
         "visible": false,
         "x": [
          "Mark Twain",
          "Zane Grey",
          "Joseph Conrad",
          "Benjamin Disraeli",
          "George Eliot",
          "William Henry Hudson",
          "Lucy Maud Montgomery",
          "Howard Pyle",
          "Virginia Woolf",
          "Lewis Carroll"
         ],
         "y": [
          100.65050548490495,
          130.42512563766,
          143.63484587752401,
          138.28429222874925,
          128.30562625972462,
          131.30202689533934,
          121.61040957004974,
          128.83151668937634,
          138.88505915121672,
          109.57955236462732
         ]
        },
        {
         "marker": {
          "color": "#2ecc71"
         },
         "mode": "markers",
         "name": "gpt-4o",
         "type": "scatter",
         "visible": false,
         "x": [
          "Mark Twain",
          "Zane Grey",
          "Joseph Conrad",
          "Benjamin Disraeli",
          "George Eliot",
          "William Henry Hudson",
          "Lucy Maud Montgomery",
          "Howard Pyle",
          "Virginia Woolf",
          "Lewis Carroll"
         ],
         "y": [
          0.7963825689983999,
          0.7810583082102435,
          0.7851601319017798,
          0.7916264721295713,
          0.7900674841966048,
          0.7867571581304906,
          0.781817968877754,
          0.784265793384606,
          0.7837671588208214,
          0.7884541357200644
         ]
        },
        {
         "marker": {
          "color": "#2ecc71"
         },
         "mode": "markers",
         "name": "gpt-4o",
         "type": "scatter",
         "visible": false,
         "x": [
          "Mark Twain",
          "Zane Grey",
          "Joseph Conrad",
          "Benjamin Disraeli",
          "George Eliot",
          "William Henry Hudson",
          "Lucy Maud Montgomery",
          "Howard Pyle",
          "Virginia Woolf",
          "Lewis Carroll"
         ],
         "y": [
          0.10180871550080006,
          0.10947084589487824,
          0.10741993404911011,
          0.10418676393521438,
          0.10496625790169763,
          0.10662142093475467,
          0.10909101556112301,
          0.10786710330769698,
          0.10811642058958933,
          0.1057729321399678
         ]
        },
        {
         "marker": {
          "color": "#2ecc71"
         },
         "mode": "markers",
         "name": "gpt-4o",
         "type": "scatter",
         "visible": false,
         "x": [
          "Mark Twain",
          "Zane Grey",
          "Joseph Conrad",
          "Benjamin Disraeli",
          "George Eliot",
          "William Henry Hudson",
          "Lucy Maud Montgomery",
          "Howard Pyle",
          "Virginia Woolf",
          "Lewis Carroll"
         ],
         "y": [
          0.9898675594656614,
          0.9868765812873667,
          0.985559792993957,
          0.9861009193711621,
          0.9870971830387675,
          0.9867946093405413,
          0.9877589654424831,
          0.9870391965217752,
          0.9860330688633271,
          0.9889675346674193
         ]
        },
        {
         "marker": {
          "color": "#f1c40f"
         },
         "mode": "markers",
         "name": "gemini-1.5-flash",
         "type": "scatter",
         "visible": true,
         "x": [
          "Mark Twain",
          "Zane Grey",
          "Joseph Conrad",
          "Benjamin Disraeli",
          "George Eliot",
          "William Henry Hudson",
          "Lucy Maud Montgomery",
          "Howard Pyle",
          "Virginia Woolf",
          "Lewis Carroll"
         ],
         "y": [
          11133,
          10069,
          9837,
          11106,
          11119,
          10303,
          10847,
          10988,
          9790,
          10932
         ]
        },
        {
         "marker": {
          "color": "#f1c40f"
         },
         "mode": "markers",
         "name": "gemini-1.5-flash",
         "type": "scatter",
         "visible": false,
         "x": [
          "Mark Twain",
          "Zane Grey",
          "Joseph Conrad",
          "Benjamin Disraeli",
          "George Eliot",
          "William Henry Hudson",
          "Lucy Maud Montgomery",
          "Howard Pyle",
          "Virginia Woolf",
          "Lewis Carroll"
         ],
         "y": [
          4.232487573349705,
          4.432497526734819,
          4.531381516601626,
          4.643592234704148,
          4.6643690319131,
          4.5222875585559965,
          4.504214325178976,
          4.447226522564627,
          4.537160131527773,
          4.55630924010589
         ]
        },
        {
         "marker": {
          "color": "#f1c40f"
         },
         "mode": "markers",
         "name": "gemini-1.5-flash",
         "type": "scatter",
         "visible": false,
         "x": [
          "Mark Twain",
          "Zane Grey",
          "Joseph Conrad",
          "Benjamin Disraeli",
          "George Eliot",
          "William Henry Hudson",
          "Lucy Maud Montgomery",
          "Howard Pyle",
          "Virginia Woolf",
          "Lewis Carroll"
         ],
         "y": [
          17.17817665551161,
          18.127241673783093,
          20.560692242526926,
          21.021523786229668,
          21.801951343132284,
          21.207804998153392,
          18.716611661166116,
          19.10861799508819,
          20.267287710498028,
          18.22636761487965
         ]
        },
        {
         "marker": {
          "color": "#f1c40f"
         },
         "mode": "markers",
         "name": "gemini-1.5-flash",
         "type": "scatter",
         "visible": false,
         "x": [
          "Mark Twain",
          "Zane Grey",
          "Joseph Conrad",
          "Benjamin Disraeli",
          "George Eliot",
          "William Henry Hudson",
          "Lucy Maud Montgomery",
          "Howard Pyle",
          "Virginia Woolf",
          "Lewis Carroll"
         ],
         "y": [
          1.3695821575734677,
          1.418800348612616,
          1.4697956949374018,
          1.53673506192806,
          1.5395644567914868,
          1.4720121204381469,
          1.448999024298494,
          1.433468672411275,
          1.4817086824829993,
          1.474821266710287
         ]
        },
        {
         "marker": {
          "color": "#f1c40f"
         },
         "mode": "markers",
         "name": "gemini-1.5-flash",
         "type": "scatter",
         "visible": false,
         "x": [
          "Mark Twain",
          "Zane Grey",
          "Joseph Conrad",
          "Benjamin Disraeli",
          "George Eliot",
          "William Henry Hudson",
          "Lucy Maud Montgomery",
          "Howard Pyle",
          "Virginia Woolf",
          "Lewis Carroll"
         ],
         "y": [
          73.53250016394037,
          68.40534020848285,
          61.621181582131,
          55.49036711786303,
          54.458866342160974,
          60.7768525378071,
          65.25232170826382,
          66.16830304899163,
          60.91114843578279,
          63.565357707206914
         ]
        },
        {
         "marker": {
          "color": "#f1c40f"
         },
         "mode": "markers",
         "name": "gemini-1.5-flash",
         "type": "scatter",
         "visible": false,
         "x": [
          "Mark Twain",
          "Zane Grey",
          "Joseph Conrad",
          "Benjamin Disraeli",
          "George Eliot",
          "William Henry Hudson",
          "Lucy Maud Montgomery",
          "Howard Pyle",
          "Virginia Woolf",
          "Lewis Carroll"
         ],
         "y": [
          7.270558355016451,
          8.221468366404277,
          9.772259174846841,
          10.741868007380681,
          11.079621613961137,
          10.050786970449959,
          8.807667034577015,
          8.77729135253744,
          9.798404660393622,
          8.921174316984452
         ]
        },
        {
         "marker": {
          "color": "#f1c40f"
         },
         "mode": "markers",
         "name": "gemini-1.5-flash",
         "type": "scatter",
         "visible": false,
         "x": [
          "Mark Twain",
          "Zane Grey",
          "Joseph Conrad",
          "Benjamin Disraeli",
          "George Eliot",
          "William Henry Hudson",
          "Lucy Maud Montgomery",
          "Howard Pyle",
          "Virginia Woolf",
          "Lewis Carroll"
         ],
         "y": [
          10.00975254467982,
          10.866574815271,
          12.591025379879401,
          13.736575167543476,
          14.094456152296415,
          12.831619424829212,
          11.542271405740971,
          11.502655610478682,
          12.654758900861754,
          11.696840378644895
         ]
        },
        {
         "marker": {
          "color": "#f1c40f"
         },
         "mode": "markers",
         "name": "gemini-1.5-flash",
         "type": "scatter",
         "visible": false,
         "x": [
          "Mark Twain",
          "Zane Grey",
          "Joseph Conrad",
          "Benjamin Disraeli",
          "George Eliot",
          "William Henry Hudson",
          "Lucy Maud Montgomery",
          "Howard Pyle",
          "Virginia Woolf",
          "Lewis Carroll"
         ],
         "y": [
          110.6643481962906,
          140.1650401610659,
          158.71665953060432,
          154.69813570051454,
          153.19172728449638,
          165.2448933154615,
          130.07494945368623,
          135.80906479447563,
          166.883990961706,
          128.26692856714678
         ]
        },
        {
         "marker": {
          "color": "#f1c40f"
         },
         "mode": "markers",
         "name": "gemini-1.5-flash",
         "type": "scatter",
         "visible": false,
         "x": [
          "Mark Twain",
          "Zane Grey",
          "Joseph Conrad",
          "Benjamin Disraeli",
          "George Eliot",
          "William Henry Hudson",
          "Lucy Maud Montgomery",
          "Howard Pyle",
          "Virginia Woolf",
          "Lewis Carroll"
         ],
         "y": [
          0.7738938856650441,
          0.765392488523003,
          0.7634280499079177,
          0.7727522733994364,
          0.7727866948681549,
          0.7663867631643798,
          0.7714530274979973,
          0.7721342732304092,
          0.7631031328492428,
          0.7734533085110058
         ]
        },
        {
         "marker": {
          "color": "#f1c40f"
         },
         "mode": "markers",
         "name": "gemini-1.5-flash",
         "type": "scatter",
         "visible": false,
         "x": [
          "Mark Twain",
          "Zane Grey",
          "Joseph Conrad",
          "Benjamin Disraeli",
          "George Eliot",
          "William Henry Hudson",
          "Lucy Maud Montgomery",
          "Howard Pyle",
          "Virginia Woolf",
          "Lewis Carroll"
         ],
         "y": [
          0.11305305716747793,
          0.11730375573849851,
          0.11828597504604113,
          0.11362386330028178,
          0.11360665256592253,
          0.11680661841781009,
          0.11427348625100134,
          0.1139328633847954,
          0.11844843357537861,
          0.1132733457444971
         ]
        },
        {
         "marker": {
          "color": "#f1c40f"
         },
         "mode": "markers",
         "name": "gemini-1.5-flash",
         "type": "scatter",
         "visible": false,
         "x": [
          "Mark Twain",
          "Zane Grey",
          "Joseph Conrad",
          "Benjamin Disraeli",
          "George Eliot",
          "William Henry Hudson",
          "Lucy Maud Montgomery",
          "Howard Pyle",
          "Virginia Woolf",
          "Lewis Carroll"
         ],
         "y": [
          0.9888437421317766,
          0.9858841812555192,
          0.9840266770376888,
          0.9844401450108958,
          0.9845908911262136,
          0.9833784515594565,
          0.9869003136653072,
          0.9863280851477821,
          0.9832094558578641,
          0.9870818325732158
         ]
        },
        {
         "marker": {
          "color": "#9b59b6"
         },
         "mode": "markers",
         "name": "open-mixtral-8x7b",
         "type": "scatter",
         "visible": true,
         "x": [
          "Mark Twain",
          "Zane Grey",
          "Joseph Conrad",
          "Benjamin Disraeli",
          "George Eliot",
          "William Henry Hudson",
          "Lucy Maud Montgomery",
          "Howard Pyle",
          "Virginia Woolf",
          "Lewis Carroll"
         ],
         "y": [
          12632,
          10895,
          10959,
          12295,
          11576,
          12088,
          11277,
          11890,
          10510,
          12428
         ]
        },
        {
         "marker": {
          "color": "#9b59b6"
         },
         "mode": "markers",
         "name": "open-mixtral-8x7b",
         "type": "scatter",
         "visible": false,
         "x": [
          "Mark Twain",
          "Zane Grey",
          "Joseph Conrad",
          "Benjamin Disraeli",
          "George Eliot",
          "William Henry Hudson",
          "Lucy Maud Montgomery",
          "Howard Pyle",
          "Virginia Woolf",
          "Lewis Carroll"
         ],
         "y": [
          4.381703994723409,
          4.466888358344702,
          4.531026408221673,
          4.609228938870319,
          4.652563394256464,
          4.617259462697363,
          4.547938879069502,
          4.463816255618726,
          4.526018798121321,
          4.605824682814302
         ]
        },
        {
         "marker": {
          "color": "#9b59b6"
         },
         "mode": "markers",
         "name": "open-mixtral-8x7b",
         "type": "scatter",
         "visible": false,
         "x": [
          "Mark Twain",
          "Zane Grey",
          "Joseph Conrad",
          "Benjamin Disraeli",
          "George Eliot",
          "William Henry Hudson",
          "Lucy Maud Montgomery",
          "Howard Pyle",
          "Virginia Woolf",
          "Lewis Carroll"
         ],
         "y": [
          22.794482938946267,
          22.487536750607184,
          28.603947581297525,
          26.792653309046752,
          29.34844473858372,
          27.032997250229148,
          23.675755939524837,
          24.458477748509637,
          27.25976833976834,
          21.677709713714215
         ]
        },
        {
         "marker": {
          "color": "#9b59b6"
         },
         "mode": "markers",
         "name": "open-mixtral-8x7b",
         "type": "scatter",
         "visible": false,
         "x": [
          "Mark Twain",
          "Zane Grey",
          "Joseph Conrad",
          "Benjamin Disraeli",
          "George Eliot",
          "William Henry Hudson",
          "Lucy Maud Montgomery",
          "Howard Pyle",
          "Virginia Woolf",
          "Lewis Carroll"
         ],
         "y": [
          1.436161853689312,
          1.4460663938153706,
          1.500291287945204,
          1.5277264744207126,
          1.5415036474952362,
          1.5197334960838165,
          1.4646559096869833,
          1.4401169942013048,
          1.4983881659084342,
          1.4928200692041522
         ]
        },
        {
         "marker": {
          "color": "#9b59b6"
         },
         "mode": "markers",
         "name": "open-mixtral-8x7b",
         "type": "scatter",
         "visible": false,
         "x": [
          "Mark Twain",
          "Zane Grey",
          "Joseph Conrad",
          "Benjamin Disraeli",
          "George Eliot",
          "William Henry Hudson",
          "Lucy Maud Montgomery",
          "Howard Pyle",
          "Virginia Woolf",
          "Lewis Carroll"
         ],
         "y": [
          62.19930699485376,
          61.672933281353366,
          50.877350244818786,
          50.39479715532528,
          46.63512001224058,
          50.827054022326564,
          58.89421776186353,
          60.175747375832344,
          52.402696299281615,
          58.53954678590881
         ]
        },
        {
         "marker": {
          "color": "#9b59b6"
         },
         "mode": "markers",
         "name": "open-mixtral-8x7b",
         "type": "scatter",
         "visible": false,
         "x": [
          "Mark Twain",
          "Zane Grey",
          "Joseph Conrad",
          "Benjamin Disraeli",
          "George Eliot",
          "William Henry Hudson",
          "Lucy Maud Montgomery",
          "Howard Pyle",
          "Virginia Woolf",
          "Lewis Carroll"
         ],
         "y": [
          10.246558219722925,
          10.243722779758176,
          13.268976754459445,
          12.886307188692644,
          14.045636488491436,
          12.885724181378404,
          10.926484550721089,
          10.942186853494157,
          12.722290010229177,
          10.479583604957543
         ]
        },
        {
         "marker": {
          "color": "#9b59b6"
         },
         "mode": "markers",
         "name": "open-mixtral-8x7b",
         "type": "scatter",
         "visible": false,
         "x": [
          "Mark Twain",
          "Zane Grey",
          "Joseph Conrad",
          "Benjamin Disraeli",
          "George Eliot",
          "William Henry Hudson",
          "Lucy Maud Montgomery",
          "Howard Pyle",
          "Virginia Woolf",
          "Lewis Carroll"
         ],
         "y": [
          13.16470895086456,
          13.15417795626834,
          16.37888142334259,
          16.057948525476956,
          17.278158605990367,
          15.97487568215294,
          13.87648288781176,
          13.862770304591505,
          15.819066508064815,
          13.465316872798258
         ]
        },
        {
         "marker": {
          "color": "#9b59b6"
         },
         "mode": "markers",
         "name": "open-mixtral-8x7b",
         "type": "scatter",
         "visible": false,
         "x": [
          "Mark Twain",
          "Zane Grey",
          "Joseph Conrad",
          "Benjamin Disraeli",
          "George Eliot",
          "William Henry Hudson",
          "Lucy Maud Montgomery",
          "Howard Pyle",
          "Virginia Woolf",
          "Lewis Carroll"
         ],
         "y": [
          114.88320454062875,
          132.5834120172673,
          160.51859904396719,
          141.8077673678271,
          155.40063678393733,
          141.4417921613338,
          124.64306027892738,
          135.57477337724075,
          162.92450285387764,
          112.31475111397485
         ]
        },
        {
         "marker": {
          "color": "#9b59b6"
         },
         "mode": "markers",
         "name": "open-mixtral-8x7b",
         "type": "scatter",
         "visible": false,
         "x": [
          "Mark Twain",
          "Zane Grey",
          "Joseph Conrad",
          "Benjamin Disraeli",
          "George Eliot",
          "William Henry Hudson",
          "Lucy Maud Montgomery",
          "Howard Pyle",
          "Virginia Woolf",
          "Lewis Carroll"
         ],
         "y": [
          0.7825094810197166,
          0.7696824819976236,
          0.7698490123805937,
          0.779475575841371,
          0.7741719459041779,
          0.7779069021930693,
          0.7727288042769145,
          0.7767362289048415,
          0.7664923179248482,
          0.7815161056505441
         ]
        },
        {
         "marker": {
          "color": "#9b59b6"
         },
         "mode": "markers",
         "name": "open-mixtral-8x7b",
         "type": "scatter",
         "visible": false,
         "x": [
          "Mark Twain",
          "Zane Grey",
          "Joseph Conrad",
          "Benjamin Disraeli",
          "George Eliot",
          "William Henry Hudson",
          "Lucy Maud Montgomery",
          "Howard Pyle",
          "Virginia Woolf",
          "Lewis Carroll"
         ],
         "y": [
          0.10874525949014167,
          0.11515875900118819,
          0.11507549380970315,
          0.1102622120793145,
          0.11291402704791104,
          0.11104654890346531,
          0.11363559786154277,
          0.11163188554757922,
          0.11675384103757594,
          0.10924194717472799
         ]
        },
        {
         "marker": {
          "color": "#9b59b6"
         },
         "mode": "markers",
         "name": "open-mixtral-8x7b",
         "type": "scatter",
         "visible": false,
         "x": [
          "Mark Twain",
          "Zane Grey",
          "Joseph Conrad",
          "Benjamin Disraeli",
          "George Eliot",
          "William Henry Hudson",
          "Lucy Maud Montgomery",
          "Howard Pyle",
          "Virginia Woolf",
          "Lewis Carroll"
         ],
         "y": [
          0.9884325155180714,
          0.9866498735756941,
          0.9838568908940338,
          0.9857378893876582,
          0.9843735506961744,
          0.9857730941127879,
          0.9874470179057776,
          0.9863584183729571,
          0.9836124022360204,
          0.9886880614190177
         ]
        },
        {
         "marker": {
          "color": "#e67e22"
         },
         "mode": "markers",
         "name": "claude-3-haiku-20240307",
         "type": "scatter",
         "visible": true,
         "x": [
          "Mark Twain",
          "Zane Grey",
          "Joseph Conrad",
          "Benjamin Disraeli",
          "George Eliot",
          "William Henry Hudson",
          "Lucy Maud Montgomery",
          "Howard Pyle",
          "Virginia Woolf",
          "Lewis Carroll"
         ],
         "y": [
          12774,
          12421,
          11231,
          11569,
          11947,
          11999,
          12389,
          11932,
          11433,
          12023
         ]
        },
        {
         "marker": {
          "color": "#e67e22"
         },
         "mode": "markers",
         "name": "claude-3-haiku-20240307",
         "type": "scatter",
         "visible": false,
         "x": [
          "Mark Twain",
          "Zane Grey",
          "Joseph Conrad",
          "Benjamin Disraeli",
          "George Eliot",
          "William Henry Hudson",
          "Lucy Maud Montgomery",
          "Howard Pyle",
          "Virginia Woolf",
          "Lewis Carroll"
         ],
         "y": [
          4.327376419224128,
          4.618747351179226,
          4.6612233835312455,
          4.719309516966203,
          4.784872470423632,
          4.755488582619394,
          4.63042114030784,
          4.646254290065232,
          4.661116262664763,
          4.684964732937091
         ]
        },
        {
         "marker": {
          "color": "#e67e22"
         },
         "mode": "markers",
         "name": "claude-3-haiku-20240307",
         "type": "scatter",
         "visible": false,
         "x": [
          "Mark Twain",
          "Zane Grey",
          "Joseph Conrad",
          "Benjamin Disraeli",
          "George Eliot",
          "William Henry Hudson",
          "Lucy Maud Montgomery",
          "Howard Pyle",
          "Virginia Woolf",
          "Lewis Carroll"
         ],
         "y": [
          20.777026210895034,
          22.065714646783775,
          27.15409383624655,
          27.032449725776964,
          27.0202743902439,
          26.99360146252285,
          22.17967860306213,
          24.21408915795267,
          25.516475540717085,
          24.81320085166785
         ]
        },
        {
         "marker": {
          "color": "#e67e22"
         },
         "mode": "markers",
         "name": "claude-3-haiku-20240307",
         "type": "scatter",
         "visible": false,
         "x": [
          "Mark Twain",
          "Zane Grey",
          "Joseph Conrad",
          "Benjamin Disraeli",
          "George Eliot",
          "William Henry Hudson",
          "Lucy Maud Montgomery",
          "Howard Pyle",
          "Virginia Woolf",
          "Lewis Carroll"
         ],
         "y": [
          1.4068645974432166,
          1.4846454302830372,
          1.5336732562013338,
          1.5633816310773723,
          1.5687350848786763,
          1.5687187475308433,
          1.5059103408144403,
          1.5147453235447872,
          1.5279406996125906,
          1.5264317054613894
         ]
        },
        {
         "marker": {
          "color": "#e67e22"
         },
         "mode": "markers",
         "name": "claude-3-haiku-20240307",
         "type": "scatter",
         "visible": false,
         "x": [
          "Mark Twain",
          "Zane Grey",
          "Joseph Conrad",
          "Benjamin Disraeli",
          "George Eliot",
          "William Henry Hudson",
          "Lucy Maud Montgomery",
          "Howard Pyle",
          "Virginia Woolf",
          "Lewis Carroll"
         ],
         "y": [
          66.72557345224544,
          58.83729623156954,
          49.524837281576936,
          47.134977539190714,
          46.69443331316643,
          46.72288847442999,
          56.922611384990304,
          54.11024513278906,
          51.671994138947014,
          52.513478853523594
         ]
        },
        {
         "marker": {
          "color": "#e67e22"
         },
         "mode": "markers",
         "name": "claude-3-haiku-20240307",
         "type": "scatter",
         "visible": false,
         "x": [
          "Mark Twain",
          "Zane Grey",
          "Joseph Conrad",
          "Benjamin Disraeli",
          "George Eliot",
          "William Henry Hudson",
          "Lucy Maud Montgomery",
          "Howard Pyle",
          "Virginia Woolf",
          "Lewis Carroll"
         ],
         "y": [
          9.11404247207902,
          10.53444478958551,
          13.097441019311898,
          13.400558639766007,
          13.458981013763502,
          13.448385791247862,
          10.82981667680463,
          11.727489589430032,
          12.391125716308235,
          12.099042456594859
         ]
        },
        {
         "marker": {
          "color": "#e67e22"
         },
         "mode": "markers",
         "name": "claude-3-haiku-20240307",
         "type": "scatter",
         "visible": false,
         "x": [
          "Mark Twain",
          "Zane Grey",
          "Joseph Conrad",
          "Benjamin Disraeli",
          "George Eliot",
          "William Henry Hudson",
          "Lucy Maud Montgomery",
          "Howard Pyle",
          "Virginia Woolf",
          "Lewis Carroll"
         ],
         "y": [
          11.951000469998634,
          13.374812255286367,
          16.17776015517971,
          16.52507574188962,
          16.579521241375666,
          16.584805275221687,
          13.741170757770384,
          14.66665709646061,
          15.413692154471983,
          15.148810021633222
         ]
        },
        {
         "marker": {
          "color": "#e67e22"
         },
         "mode": "markers",
         "name": "claude-3-haiku-20240307",
         "type": "scatter",
         "visible": false,
         "x": [
          "Mark Twain",
          "Zane Grey",
          "Joseph Conrad",
          "Benjamin Disraeli",
          "George Eliot",
          "William Henry Hudson",
          "Lucy Maud Montgomery",
          "Howard Pyle",
          "Virginia Woolf",
          "Lewis Carroll"
         ],
         "y": [
          96.894588872654,
          121.76384929142101,
          158.66660155186443,
          157.32998313487965,
          155.58280394757463,
          147.56325133165677,
          114.89925855256632,
          135.47365956424028,
          157.7523192928011,
          138.26628200173548
         ]
        },
        {
         "marker": {
          "color": "#e67e22"
         },
         "mode": "markers",
         "name": "claude-3-haiku-20240307",
         "type": "scatter",
         "visible": false,
         "x": [
          "Mark Twain",
          "Zane Grey",
          "Joseph Conrad",
          "Benjamin Disraeli",
          "George Eliot",
          "William Henry Hudson",
          "Lucy Maud Montgomery",
          "Howard Pyle",
          "Virginia Woolf",
          "Lewis Carroll"
         ],
         "y": [
          0.7843145557583787,
          0.781020670355783,
          0.771770510813223,
          0.7741005978176494,
          0.776828838128047,
          0.7772125219463489,
          0.7805555975416627,
          0.7771854758293335,
          0.7737231836217346,
          0.7782476306951174
         ]
        },
        {
         "marker": {
          "color": "#e67e22"
         },
         "mode": "markers",
         "name": "claude-3-haiku-20240307",
         "type": "scatter",
         "visible": false,
         "x": [
          "Mark Twain",
          "Zane Grey",
          "Joseph Conrad",
          "Benjamin Disraeli",
          "George Eliot",
          "William Henry Hudson",
          "Lucy Maud Montgomery",
          "Howard Pyle",
          "Virginia Woolf",
          "Lewis Carroll"
         ],
         "y": [
          0.10784272212081064,
          0.10948966482210848,
          0.11411474459338851,
          0.11294970109117532,
          0.11158558093597645,
          0.11139373902682552,
          0.10972220122916863,
          0.11140726208533325,
          0.11313840818913268,
          0.11087618465244131
         ]
        },
        {
         "marker": {
          "color": "#e67e22"
         },
         "mode": "markers",
         "name": "claude-3-haiku-20240307",
         "type": "scatter",
         "visible": false,
         "x": [
          "Mark Twain",
          "Zane Grey",
          "Joseph Conrad",
          "Benjamin Disraeli",
          "George Eliot",
          "William Henry Hudson",
          "Lucy Maud Montgomery",
          "Howard Pyle",
          "Virginia Woolf",
          "Lewis Carroll"
         ],
         "y": [
          0.9902322570983303,
          0.9877431062551426,
          0.9840443005784971,
          0.9841805637921391,
          0.9843580165835635,
          0.9851603345884778,
          0.9884293573798713,
          0.9863688257968445,
          0.9841373019638363,
          0.9860901978831668
         ]
        }
       ],
       "layout": {
        "legend": {
         "title": {
          "text": "Collection"
         }
        },
        "template": {
         "data": {
          "bar": [
           {
            "error_x": {
             "color": "#2a3f5f"
            },
            "error_y": {
             "color": "#2a3f5f"
            },
            "marker": {
             "line": {
              "color": "#E5ECF6",
              "width": 0.5
             },
             "pattern": {
              "fillmode": "overlay",
              "size": 10,
              "solidity": 0.2
             }
            },
            "type": "bar"
           }
          ],
          "barpolar": [
           {
            "marker": {
             "line": {
              "color": "#E5ECF6",
              "width": 0.5
             },
             "pattern": {
              "fillmode": "overlay",
              "size": 10,
              "solidity": 0.2
             }
            },
            "type": "barpolar"
           }
          ],
          "carpet": [
           {
            "aaxis": {
             "endlinecolor": "#2a3f5f",
             "gridcolor": "white",
             "linecolor": "white",
             "minorgridcolor": "white",
             "startlinecolor": "#2a3f5f"
            },
            "baxis": {
             "endlinecolor": "#2a3f5f",
             "gridcolor": "white",
             "linecolor": "white",
             "minorgridcolor": "white",
             "startlinecolor": "#2a3f5f"
            },
            "type": "carpet"
           }
          ],
          "choropleth": [
           {
            "colorbar": {
             "outlinewidth": 0,
             "ticks": ""
            },
            "type": "choropleth"
           }
          ],
          "contour": [
           {
            "colorbar": {
             "outlinewidth": 0,
             "ticks": ""
            },
            "colorscale": [
             [
              0,
              "#0d0887"
             ],
             [
              0.1111111111111111,
              "#46039f"
             ],
             [
              0.2222222222222222,
              "#7201a8"
             ],
             [
              0.3333333333333333,
              "#9c179e"
             ],
             [
              0.4444444444444444,
              "#bd3786"
             ],
             [
              0.5555555555555556,
              "#d8576b"
             ],
             [
              0.6666666666666666,
              "#ed7953"
             ],
             [
              0.7777777777777778,
              "#fb9f3a"
             ],
             [
              0.8888888888888888,
              "#fdca26"
             ],
             [
              1,
              "#f0f921"
             ]
            ],
            "type": "contour"
           }
          ],
          "contourcarpet": [
           {
            "colorbar": {
             "outlinewidth": 0,
             "ticks": ""
            },
            "type": "contourcarpet"
           }
          ],
          "heatmap": [
           {
            "colorbar": {
             "outlinewidth": 0,
             "ticks": ""
            },
            "colorscale": [
             [
              0,
              "#0d0887"
             ],
             [
              0.1111111111111111,
              "#46039f"
             ],
             [
              0.2222222222222222,
              "#7201a8"
             ],
             [
              0.3333333333333333,
              "#9c179e"
             ],
             [
              0.4444444444444444,
              "#bd3786"
             ],
             [
              0.5555555555555556,
              "#d8576b"
             ],
             [
              0.6666666666666666,
              "#ed7953"
             ],
             [
              0.7777777777777778,
              "#fb9f3a"
             ],
             [
              0.8888888888888888,
              "#fdca26"
             ],
             [
              1,
              "#f0f921"
             ]
            ],
            "type": "heatmap"
           }
          ],
          "heatmapgl": [
           {
            "colorbar": {
             "outlinewidth": 0,
             "ticks": ""
            },
            "colorscale": [
             [
              0,
              "#0d0887"
             ],
             [
              0.1111111111111111,
              "#46039f"
             ],
             [
              0.2222222222222222,
              "#7201a8"
             ],
             [
              0.3333333333333333,
              "#9c179e"
             ],
             [
              0.4444444444444444,
              "#bd3786"
             ],
             [
              0.5555555555555556,
              "#d8576b"
             ],
             [
              0.6666666666666666,
              "#ed7953"
             ],
             [
              0.7777777777777778,
              "#fb9f3a"
             ],
             [
              0.8888888888888888,
              "#fdca26"
             ],
             [
              1,
              "#f0f921"
             ]
            ],
            "type": "heatmapgl"
           }
          ],
          "histogram": [
           {
            "marker": {
             "pattern": {
              "fillmode": "overlay",
              "size": 10,
              "solidity": 0.2
             }
            },
            "type": "histogram"
           }
          ],
          "histogram2d": [
           {
            "colorbar": {
             "outlinewidth": 0,
             "ticks": ""
            },
            "colorscale": [
             [
              0,
              "#0d0887"
             ],
             [
              0.1111111111111111,
              "#46039f"
             ],
             [
              0.2222222222222222,
              "#7201a8"
             ],
             [
              0.3333333333333333,
              "#9c179e"
             ],
             [
              0.4444444444444444,
              "#bd3786"
             ],
             [
              0.5555555555555556,
              "#d8576b"
             ],
             [
              0.6666666666666666,
              "#ed7953"
             ],
             [
              0.7777777777777778,
              "#fb9f3a"
             ],
             [
              0.8888888888888888,
              "#fdca26"
             ],
             [
              1,
              "#f0f921"
             ]
            ],
            "type": "histogram2d"
           }
          ],
          "histogram2dcontour": [
           {
            "colorbar": {
             "outlinewidth": 0,
             "ticks": ""
            },
            "colorscale": [
             [
              0,
              "#0d0887"
             ],
             [
              0.1111111111111111,
              "#46039f"
             ],
             [
              0.2222222222222222,
              "#7201a8"
             ],
             [
              0.3333333333333333,
              "#9c179e"
             ],
             [
              0.4444444444444444,
              "#bd3786"
             ],
             [
              0.5555555555555556,
              "#d8576b"
             ],
             [
              0.6666666666666666,
              "#ed7953"
             ],
             [
              0.7777777777777778,
              "#fb9f3a"
             ],
             [
              0.8888888888888888,
              "#fdca26"
             ],
             [
              1,
              "#f0f921"
             ]
            ],
            "type": "histogram2dcontour"
           }
          ],
          "mesh3d": [
           {
            "colorbar": {
             "outlinewidth": 0,
             "ticks": ""
            },
            "type": "mesh3d"
           }
          ],
          "parcoords": [
           {
            "line": {
             "colorbar": {
              "outlinewidth": 0,
              "ticks": ""
             }
            },
            "type": "parcoords"
           }
          ],
          "pie": [
           {
            "automargin": true,
            "type": "pie"
           }
          ],
          "scatter": [
           {
            "fillpattern": {
             "fillmode": "overlay",
             "size": 10,
             "solidity": 0.2
            },
            "type": "scatter"
           }
          ],
          "scatter3d": [
           {
            "line": {
             "colorbar": {
              "outlinewidth": 0,
              "ticks": ""
             }
            },
            "marker": {
             "colorbar": {
              "outlinewidth": 0,
              "ticks": ""
             }
            },
            "type": "scatter3d"
           }
          ],
          "scattercarpet": [
           {
            "marker": {
             "colorbar": {
              "outlinewidth": 0,
              "ticks": ""
             }
            },
            "type": "scattercarpet"
           }
          ],
          "scattergeo": [
           {
            "marker": {
             "colorbar": {
              "outlinewidth": 0,
              "ticks": ""
             }
            },
            "type": "scattergeo"
           }
          ],
          "scattergl": [
           {
            "marker": {
             "colorbar": {
              "outlinewidth": 0,
              "ticks": ""
             }
            },
            "type": "scattergl"
           }
          ],
          "scattermapbox": [
           {
            "marker": {
             "colorbar": {
              "outlinewidth": 0,
              "ticks": ""
             }
            },
            "type": "scattermapbox"
           }
          ],
          "scatterpolar": [
           {
            "marker": {
             "colorbar": {
              "outlinewidth": 0,
              "ticks": ""
             }
            },
            "type": "scatterpolar"
           }
          ],
          "scatterpolargl": [
           {
            "marker": {
             "colorbar": {
              "outlinewidth": 0,
              "ticks": ""
             }
            },
            "type": "scatterpolargl"
           }
          ],
          "scatterternary": [
           {
            "marker": {
             "colorbar": {
              "outlinewidth": 0,
              "ticks": ""
             }
            },
            "type": "scatterternary"
           }
          ],
          "surface": [
           {
            "colorbar": {
             "outlinewidth": 0,
             "ticks": ""
            },
            "colorscale": [
             [
              0,
              "#0d0887"
             ],
             [
              0.1111111111111111,
              "#46039f"
             ],
             [
              0.2222222222222222,
              "#7201a8"
             ],
             [
              0.3333333333333333,
              "#9c179e"
             ],
             [
              0.4444444444444444,
              "#bd3786"
             ],
             [
              0.5555555555555556,
              "#d8576b"
             ],
             [
              0.6666666666666666,
              "#ed7953"
             ],
             [
              0.7777777777777778,
              "#fb9f3a"
             ],
             [
              0.8888888888888888,
              "#fdca26"
             ],
             [
              1,
              "#f0f921"
             ]
            ],
            "type": "surface"
           }
          ],
          "table": [
           {
            "cells": {
             "fill": {
              "color": "#EBF0F8"
             },
             "line": {
              "color": "white"
             }
            },
            "header": {
             "fill": {
              "color": "#C8D4E3"
             },
             "line": {
              "color": "white"
             }
            },
            "type": "table"
           }
          ]
         },
         "layout": {
          "annotationdefaults": {
           "arrowcolor": "#2a3f5f",
           "arrowhead": 0,
           "arrowwidth": 1
          },
          "autotypenumbers": "strict",
          "coloraxis": {
           "colorbar": {
            "outlinewidth": 0,
            "ticks": ""
           }
          },
          "colorscale": {
           "diverging": [
            [
             0,
             "#8e0152"
            ],
            [
             0.1,
             "#c51b7d"
            ],
            [
             0.2,
             "#de77ae"
            ],
            [
             0.3,
             "#f1b6da"
            ],
            [
             0.4,
             "#fde0ef"
            ],
            [
             0.5,
             "#f7f7f7"
            ],
            [
             0.6,
             "#e6f5d0"
            ],
            [
             0.7,
             "#b8e186"
            ],
            [
             0.8,
             "#7fbc41"
            ],
            [
             0.9,
             "#4d9221"
            ],
            [
             1,
             "#276419"
            ]
           ],
           "sequential": [
            [
             0,
             "#0d0887"
            ],
            [
             0.1111111111111111,
             "#46039f"
            ],
            [
             0.2222222222222222,
             "#7201a8"
            ],
            [
             0.3333333333333333,
             "#9c179e"
            ],
            [
             0.4444444444444444,
             "#bd3786"
            ],
            [
             0.5555555555555556,
             "#d8576b"
            ],
            [
             0.6666666666666666,
             "#ed7953"
            ],
            [
             0.7777777777777778,
             "#fb9f3a"
            ],
            [
             0.8888888888888888,
             "#fdca26"
            ],
            [
             1,
             "#f0f921"
            ]
           ],
           "sequentialminus": [
            [
             0,
             "#0d0887"
            ],
            [
             0.1111111111111111,
             "#46039f"
            ],
            [
             0.2222222222222222,
             "#7201a8"
            ],
            [
             0.3333333333333333,
             "#9c179e"
            ],
            [
             0.4444444444444444,
             "#bd3786"
            ],
            [
             0.5555555555555556,
             "#d8576b"
            ],
            [
             0.6666666666666666,
             "#ed7953"
            ],
            [
             0.7777777777777778,
             "#fb9f3a"
            ],
            [
             0.8888888888888888,
             "#fdca26"
            ],
            [
             1,
             "#f0f921"
            ]
           ]
          },
          "colorway": [
           "#636efa",
           "#EF553B",
           "#00cc96",
           "#ab63fa",
           "#FFA15A",
           "#19d3f3",
           "#FF6692",
           "#B6E880",
           "#FF97FF",
           "#FECB52"
          ],
          "font": {
           "color": "#2a3f5f"
          },
          "geo": {
           "bgcolor": "white",
           "lakecolor": "white",
           "landcolor": "#E5ECF6",
           "showlakes": true,
           "showland": true,
           "subunitcolor": "white"
          },
          "hoverlabel": {
           "align": "left"
          },
          "hovermode": "closest",
          "mapbox": {
           "style": "light"
          },
          "paper_bgcolor": "white",
          "plot_bgcolor": "#E5ECF6",
          "polar": {
           "angularaxis": {
            "gridcolor": "white",
            "linecolor": "white",
            "ticks": ""
           },
           "bgcolor": "#E5ECF6",
           "radialaxis": {
            "gridcolor": "white",
            "linecolor": "white",
            "ticks": ""
           }
          },
          "scene": {
           "xaxis": {
            "backgroundcolor": "#E5ECF6",
            "gridcolor": "white",
            "gridwidth": 2,
            "linecolor": "white",
            "showbackground": true,
            "ticks": "",
            "zerolinecolor": "white"
           },
           "yaxis": {
            "backgroundcolor": "#E5ECF6",
            "gridcolor": "white",
            "gridwidth": 2,
            "linecolor": "white",
            "showbackground": true,
            "ticks": "",
            "zerolinecolor": "white"
           },
           "zaxis": {
            "backgroundcolor": "#E5ECF6",
            "gridcolor": "white",
            "gridwidth": 2,
            "linecolor": "white",
            "showbackground": true,
            "ticks": "",
            "zerolinecolor": "white"
           }
          },
          "shapedefaults": {
           "line": {
            "color": "#2a3f5f"
           }
          },
          "ternary": {
           "aaxis": {
            "gridcolor": "white",
            "linecolor": "white",
            "ticks": ""
           },
           "baxis": {
            "gridcolor": "white",
            "linecolor": "white",
            "ticks": ""
           },
           "bgcolor": "#E5ECF6",
           "caxis": {
            "gridcolor": "white",
            "linecolor": "white",
            "ticks": ""
           }
          },
          "title": {
           "x": 0.05
          },
          "xaxis": {
           "automargin": true,
           "gridcolor": "white",
           "linecolor": "white",
           "ticks": "",
           "title": {
            "standoff": 15
           },
           "zerolinecolor": "white",
           "zerolinewidth": 2
          },
          "yaxis": {
           "automargin": true,
           "gridcolor": "white",
           "linecolor": "white",
           "ticks": "",
           "title": {
            "standoff": 15
           },
           "zerolinecolor": "white",
           "zerolinewidth": 2
          }
         }
        },
        "title": {
         "text": "unique_word_count"
        },
        "updatemenus": [
         {
          "buttons": [
           {
            "args": [
             {
              "visible": [
               true,
               false,
               false,
               false,
               false,
               false,
               false,
               false,
               false,
               false,
               false
              ]
             },
             {
              "title": "unique_word_count"
             }
            ],
            "label": "unique_word_count",
            "method": "update"
           },
           {
            "args": [
             {
              "visible": [
               false,
               true,
               false,
               false,
               false,
               false,
               false,
               false,
               false,
               false,
               false
              ]
             },
             {
              "title": "average_word_length"
             }
            ],
            "label": "average_word_length",
            "method": "update"
           },
           {
            "args": [
             {
              "visible": [
               false,
               false,
               true,
               false,
               false,
               false,
               false,
               false,
               false,
               false,
               false
              ]
             },
             {
              "title": "average_sentence_length"
             }
            ],
            "label": "average_sentence_length",
            "method": "update"
           },
           {
            "args": [
             {
              "visible": [
               false,
               false,
               false,
               true,
               false,
               false,
               false,
               false,
               false,
               false,
               false
              ]
             },
             {
              "title": "average_syllables_per_word"
             }
            ],
            "label": "average_syllables_per_word",
            "method": "update"
           },
           {
            "args": [
             {
              "visible": [
               false,
               false,
               false,
               false,
               true,
               false,
               false,
               false,
               false,
               false,
               false
              ]
             },
             {
              "title": "flesch_reading_ease"
             }
            ],
            "label": "flesch_reading_ease",
            "method": "update"
           },
           {
            "args": [
             {
              "visible": [
               false,
               false,
               false,
               false,
               false,
               true,
               false,
               false,
               false,
               false,
               false
              ]
             },
             {
              "title": "flesch_kincaid_grade_level"
             }
            ],
            "label": "flesch_kincaid_grade_level",
            "method": "update"
           },
           {
            "args": [
             {
              "visible": [
               false,
               false,
               false,
               false,
               false,
               false,
               true,
               false,
               false,
               false,
               false
              ]
             },
             {
              "title": "gunning_fog_index"
             }
            ],
            "label": "gunning_fog_index",
            "method": "update"
           },
           {
            "args": [
             {
              "visible": [
               false,
               false,
               false,
               false,
               false,
               false,
               false,
               true,
               false,
               false,
               false
              ]
             },
             {
              "title": "yules_characteristic_k"
             }
            ],
            "label": "yules_characteristic_k",
            "method": "update"
           },
           {
            "args": [
             {
              "visible": [
               false,
               false,
               false,
               false,
               false,
               false,
               false,
               false,
               true,
               false,
               false
              ]
             },
             {
              "title": "herdans_c"
             }
            ],
            "label": "herdans_c",
            "method": "update"
           },
           {
            "args": [
             {
              "visible": [
               false,
               false,
               false,
               false,
               false,
               false,
               false,
               false,
               false,
               true,
               false
              ]
             },
             {
              "title": "maas"
             }
            ],
            "label": "maas",
            "method": "update"
           },
           {
            "args": [
             {
              "visible": [
               false,
               false,
               false,
               false,
               false,
               false,
               false,
               false,
               false,
               false,
               true
              ]
             },
             {
              "title": "simpsons_index"
             }
            ],
            "label": "simpsons_index",
            "method": "update"
           }
          ],
          "direction": "down",
          "type": "dropdown"
         }
        ]
       }
      }
     },
     "metadata": {},
     "output_type": "display_data"
    }
   ],
   "source": [
    "metrics_analysis_visualization = WritingStyleMetricsAnalysisVisualization(\n",
    "    settings=settings, \n",
    "    metrics_analysis_results=metrics_analysis_results,\n",
    "    feature_extractor=feature_extractor\n",
    ")\n",
    "metrics_analysis_visualization.visualize()"
   ]
  },
  {
   "cell_type": "code",
   "execution_count": 12,
   "metadata": {},
   "outputs": [
    {
     "data": {
      "text/html": [
       "\n",
       "        <iframe\n",
       "            width=\"100%\"\n",
       "            height=\"800\"\n",
       "            src=\"http://127.0.0.1:8000/\"\n",
       "            frameborder=\"0\"\n",
       "            allowfullscreen\n",
       "            \n",
       "        ></iframe>\n",
       "        "
      ],
      "text/plain": [
       "<IPython.lib.display.IFrame at 0x2561bb33290>"
      ]
     },
     "metadata": {},
     "output_type": "display_data"
    }
   ],
   "source": [
    "metrics_analysis_visualization.dash_app.run(port=8000)"
   ]
  },
  {
   "cell_type": "code",
   "execution_count": 20,
   "metadata": {},
   "outputs": [
    {
     "ename": "KeyboardInterrupt",
     "evalue": "",
     "output_type": "error",
     "traceback": [
      "\u001b[1;31m---------------------------------------------------------------------------\u001b[0m",
      "\u001b[1;31mKeyboardInterrupt\u001b[0m                         Traceback (most recent call last)",
      "Cell \u001b[1;32mIn[20], line 5\u001b[0m\n\u001b[0;32m      1\u001b[0m entropy_analysis \u001b[38;5;241m=\u001b[39m WritingStyleEntropyAnalysis(\n\u001b[0;32m      2\u001b[0m     settings\u001b[38;5;241m=\u001b[39msettings,\n\u001b[0;32m      3\u001b[0m     feature_extractor\u001b[38;5;241m=\u001b[39mfeature_extractor,\n\u001b[0;32m      4\u001b[0m )\n\u001b[1;32m----> 5\u001b[0m entropy_analysis_results \u001b[38;5;241m=\u001b[39m \u001b[43mentropy_analysis\u001b[49m\u001b[38;5;241;43m.\u001b[39;49m\u001b[43manalyze\u001b[49m\u001b[43m(\u001b[49m\n\u001b[0;32m      6\u001b[0m \u001b[43m    \u001b[49m\u001b[43mall_words_distribution\u001b[49m\u001b[38;5;241;43m=\u001b[39;49m\u001b[43mall_words_distribution\u001b[49m\u001b[43m,\u001b[49m\n\u001b[0;32m      7\u001b[0m \u001b[43m    \u001b[49m\u001b[43mpreprocessing_results\u001b[49m\u001b[38;5;241;43m=\u001b[39;49m\u001b[43mpreprocessing_results\u001b[49m\u001b[43m,\u001b[49m\n\u001b[0;32m      8\u001b[0m \u001b[43m    \u001b[49m\u001b[43mmetrics_analysis_results\u001b[49m\u001b[38;5;241;43m=\u001b[39;49m\u001b[43mmetrics_analysis_results\u001b[49m\n\u001b[0;32m      9\u001b[0m \u001b[43m)\u001b[49m\n",
      "File \u001b[1;32mc:\\Projects\\Thesis\\src\\analysis\\entropy\\writing_style\\writing_style_entropy_analysis.py:92\u001b[0m, in \u001b[0;36mWritingStyleEntropyAnalysis.analyze\u001b[1;34m(self, preprocessing_results, metrics_analysis_results, all_words_distribution)\u001b[0m\n\u001b[0;32m     87\u001b[0m entropy_results\u001b[38;5;241m.\u001b[39mfeatures_distributions \u001b[38;5;241m=\u001b[39m \u001b[38;5;28mself\u001b[39m\u001b[38;5;241m.\u001b[39m_get_features_distributions(metrics_analysis_results)\n\u001b[0;32m     88\u001b[0m entropy_results \u001b[38;5;241m=\u001b[39m \u001b[38;5;28mself\u001b[39m\u001b[38;5;241m.\u001b[39m_get_chunks_features_entropies(\n\u001b[0;32m     89\u001b[0m     metrics_analysis_results\u001b[38;5;241m=\u001b[39mmetrics_analysis_results,\n\u001b[0;32m     90\u001b[0m     entropy_results\u001b[38;5;241m=\u001b[39mentropy_results\n\u001b[0;32m     91\u001b[0m )\n\u001b[1;32m---> 92\u001b[0m entropy_results \u001b[38;5;241m=\u001b[39m \u001b[38;5;28;43mself\u001b[39;49m\u001b[38;5;241;43m.\u001b[39;49m\u001b[43m_get_chunks_sequence_entropy\u001b[49m\u001b[43m(\u001b[49m\n\u001b[0;32m     93\u001b[0m \u001b[43m    \u001b[49m\u001b[43mpreprocessing_results\u001b[49m\u001b[38;5;241;43m=\u001b[39;49m\u001b[43mpreprocessing_results\u001b[49m\u001b[43m,\u001b[49m\n\u001b[0;32m     94\u001b[0m \u001b[43m    \u001b[49m\u001b[43mentropy_results\u001b[49m\u001b[38;5;241;43m=\u001b[39;49m\u001b[43mentropy_results\u001b[49m\n\u001b[0;32m     95\u001b[0m \u001b[43m\u001b[49m\u001b[43m)\u001b[49m\n\u001b[0;32m     96\u001b[0m \u001b[38;5;28mself\u001b[39m\u001b[38;5;241m.\u001b[39m_calculate_entropies_average_data(entropy_results)\n\u001b[0;32m     98\u001b[0m \u001b[38;5;28;01mreturn\u001b[39;00m entropy_results\n",
      "File \u001b[1;32mc:\\Projects\\Thesis\\src\\analysis\\entropy\\writing_style\\writing_style_entropy_analysis.py:244\u001b[0m, in \u001b[0;36mWritingStyleEntropyAnalysis._get_chunks_sequence_entropy\u001b[1;34m(self, preprocessing_results, entropy_results)\u001b[0m\n\u001b[0;32m    242\u001b[0m \u001b[38;5;28;01mdef\u001b[39;00m \u001b[38;5;21m_get_chunks_sequence_entropy\u001b[39m(\u001b[38;5;28mself\u001b[39m, preprocessing_results: WritingStylePreprocessingResults, entropy_results: EntropyResults) \u001b[38;5;241m-\u001b[39m\u001b[38;5;241m>\u001b[39m EntropyResults:   \n\u001b[0;32m    243\u001b[0m     \u001b[38;5;28;01mfor\u001b[39;00m chunk_metrics \u001b[38;5;129;01min\u001b[39;00m preprocessing_results\u001b[38;5;241m.\u001b[39mget_all_chunks_preprocessing_data():\n\u001b[1;32m--> 244\u001b[0m         sequence_entropy \u001b[38;5;241m=\u001b[39m \u001b[43mEntropySequenceAnalysis\u001b[49m\u001b[43m(\u001b[49m\u001b[43mchunk_metrics\u001b[49m\u001b[38;5;241;43m.\u001b[39;49m\u001b[43mwords\u001b[49m\u001b[43m)\u001b[49m\u001b[38;5;241;43m.\u001b[39;49m\u001b[43manalyze\u001b[49m\u001b[43m(\u001b[49m\u001b[43m)\u001b[49m\n\u001b[0;32m    245\u001b[0m         entropy_results\u001b[38;5;241m.\u001b[39mcollections_entropies[chunk_metrics\u001b[38;5;241m.\u001b[39mcollection_name] \\\n\u001b[0;32m    246\u001b[0m             \u001b[38;5;241m.\u001b[39mchunks_sequence_entropy[chunk_metrics\u001b[38;5;241m.\u001b[39mchunk_id] \u001b[38;5;241m=\u001b[39m sequence_entropy\n\u001b[0;32m    248\u001b[0m     \u001b[38;5;28;01mreturn\u001b[39;00m entropy_results\n",
      "File \u001b[1;32mc:\\Projects\\Thesis\\src\\analysis\\entropy\\writing_style\\writing_style_entropy_analysis.py:34\u001b[0m, in \u001b[0;36mEntropySequenceAnalysis.analyze\u001b[1;34m(self)\u001b[0m\n\u001b[0;32m     31\u001b[0m     \u001b[38;5;28;01mcontinue\u001b[39;00m\n\u001b[0;32m     33\u001b[0m \u001b[38;5;28;01mif\u001b[39;00m \u001b[38;5;28mlen\u001b[39m(\u001b[38;5;28mself\u001b[39m\u001b[38;5;241m.\u001b[39mwords_dict[word]) \u001b[38;5;241m>\u001b[39m \u001b[38;5;241m0\u001b[39m:\n\u001b[1;32m---> 34\u001b[0m     match_lengths\u001b[38;5;241m.\u001b[39mappend(\u001b[38;5;28;43mself\u001b[39;49m\u001b[38;5;241;43m.\u001b[39;49m\u001b[43m_find_shortest_unique_subsequence\u001b[49m\u001b[43m(\u001b[49m\u001b[43mcurrent_start\u001b[49m\u001b[38;5;241;43m=\u001b[39;49m\u001b[43mcurrent_start\u001b[49m\u001b[43m)\u001b[49m)\n\u001b[0;32m     35\u001b[0m \u001b[38;5;28;01melse\u001b[39;00m:\n\u001b[0;32m     36\u001b[0m     match_lengths\u001b[38;5;241m.\u001b[39mappend(\u001b[38;5;241m1\u001b[39m)\n",
      "File \u001b[1;32mc:\\Projects\\Thesis\\src\\analysis\\entropy\\writing_style\\writing_style_entropy_analysis.py:51\u001b[0m, in \u001b[0;36mEntropySequenceAnalysis._find_shortest_unique_subsequence\u001b[1;34m(self, current_start)\u001b[0m\n\u001b[0;32m     48\u001b[0m results \u001b[38;5;241m=\u001b[39m []\n\u001b[0;32m     50\u001b[0m \u001b[38;5;28;01mfor\u001b[39;00m prev_start \u001b[38;5;129;01min\u001b[39;00m indices:\n\u001b[1;32m---> 51\u001b[0m     results\u001b[38;5;241m.\u001b[39mappend(\u001b[38;5;28;43mself\u001b[39;49m\u001b[38;5;241;43m.\u001b[39;49m\u001b[43m__find_shortest_unique_subsequence\u001b[49m\u001b[43m(\u001b[49m\n\u001b[0;32m     52\u001b[0m \u001b[43m            \u001b[49m\u001b[43mprev_start\u001b[49m\u001b[38;5;241;43m=\u001b[39;49m\u001b[43mprev_start\u001b[49m\u001b[43m,\u001b[49m\u001b[43m \u001b[49m\n\u001b[0;32m     53\u001b[0m \u001b[43m            \u001b[49m\u001b[43mcurrent_start\u001b[49m\u001b[38;5;241;43m=\u001b[39;49m\u001b[43mcurrent_start\u001b[49m\n\u001b[0;32m     54\u001b[0m \u001b[43m        \u001b[49m\u001b[43m)\u001b[49m\n\u001b[0;32m     55\u001b[0m     )\n\u001b[0;32m     57\u001b[0m \u001b[38;5;28;01mreturn\u001b[39;00m \u001b[38;5;28mmax\u001b[39m(results)\n",
      "File \u001b[1;32mc:\\Projects\\Thesis\\src\\analysis\\entropy\\writing_style\\writing_style_entropy_analysis.py:61\u001b[0m, in \u001b[0;36mEntropySequenceAnalysis.__find_shortest_unique_subsequence\u001b[1;34m(self, prev_start, current_start)\u001b[0m\n\u001b[0;32m     59\u001b[0m \u001b[38;5;28;01mdef\u001b[39;00m \u001b[38;5;21m__find_shortest_unique_subsequence\u001b[39m(\u001b[38;5;28mself\u001b[39m, prev_start: \u001b[38;5;28mint\u001b[39m, current_start: \u001b[38;5;28mint\u001b[39m) \u001b[38;5;241m-\u001b[39m\u001b[38;5;241m>\u001b[39m \u001b[38;5;28mint\u001b[39m:\n\u001b[0;32m     60\u001b[0m     shift \u001b[38;5;241m=\u001b[39m \u001b[38;5;241m1\u001b[39m\n\u001b[1;32m---> 61\u001b[0m     \u001b[38;5;28;01mwhile\u001b[39;00m \u001b[38;5;28mself\u001b[39m\u001b[38;5;241m.\u001b[39mN \u001b[38;5;241m>\u001b[39m\u001b[38;5;241m=\u001b[39m current_start \u001b[38;5;241m+\u001b[39m shift:\n\u001b[0;32m     62\u001b[0m         \u001b[38;5;28;01mif\u001b[39;00m \u001b[38;5;28mself\u001b[39m\u001b[38;5;241m.\u001b[39mwords[prev_start : prev_start\u001b[38;5;241m+\u001b[39mshift] \u001b[38;5;241m==\u001b[39m \u001b[38;5;28mself\u001b[39m\u001b[38;5;241m.\u001b[39mwords[current_start : current_start\u001b[38;5;241m+\u001b[39mshift]:\n\u001b[0;32m     63\u001b[0m             shift \u001b[38;5;241m+\u001b[39m\u001b[38;5;241m=\u001b[39m \u001b[38;5;241m1\u001b[39m\n",
      "\u001b[1;31mKeyboardInterrupt\u001b[0m: "
     ]
    }
   ],
   "source": [
    "entropy_analysis = WritingStyleEntropyAnalysis(\n",
    "    settings=settings,\n",
    "    feature_extractor=feature_extractor,\n",
    ")\n",
    "entropy_analysis_results = entropy_analysis.analyze(\n",
    "    all_words_distribution=all_words_distribution,\n",
    "    preprocessing_results=preprocessing_results,\n",
    "    metrics_analysis_results=metrics_analysis_results\n",
    ")"
   ]
  },
  {
   "cell_type": "code",
   "execution_count": 31,
   "metadata": {},
   "outputs": [
    {
     "data": {
      "application/vnd.plotly.v1+json": {
       "config": {
        "plotlyServerURL": "https://plot.ly"
       },
       "data": [
        {
         "colorscale": [
          [
           0,
           "#440154"
          ],
          [
           0.1111111111111111,
           "#482878"
          ],
          [
           0.2222222222222222,
           "#3e4989"
          ],
          [
           0.3333333333333333,
           "#31688e"
          ],
          [
           0.4444444444444444,
           "#26828e"
          ],
          [
           0.5555555555555556,
           "#1f9e89"
          ],
          [
           0.6666666666666666,
           "#35b779"
          ],
          [
           0.7777777777777778,
           "#6ece58"
          ],
          [
           0.8888888888888888,
           "#b5de2b"
          ],
          [
           1,
           "#fde725"
          ]
         ],
         "type": "heatmap",
         "x": [
          "unique_word_count",
          "average_word_length",
          "average_sentence_length",
          "average_syllables_per_word",
          "flesch_reading_ease",
          "flesch_kincaid_grade_level",
          "gunning_fog_index",
          "yules_characteristic_k",
          "herdans_c",
          "maas",
          "simpsons_index",
          "-",
          "'",
          ";",
          "\"",
          "?",
          ",",
          ".",
          "of",
          "that",
          "in",
          "she",
          "their",
          "and",
          "had",
          "its",
          "a",
          "the",
          "it",
          "you",
          "her",
          "to",
          "said",
          "with",
          "our",
          "his",
          "he",
          "as",
          "is",
          "my",
          "was",
          "sequence",
          "local_word_distribution",
          "global_word_distribution"
         ],
         "y": [
          "books",
          "gpt-3.5-turbo-0125",
          "gpt-4o",
          "gemini-1.5-flash",
          "open-mixtral-8x7b",
          "claude-3-haiku-20240307"
         ],
         "z": [
          [
           4.943416471633633,
           7.421463768438277,
           5.769387071858584,
           7.22881869049588,
           6.836501267717121,
           6.643856189774724,
           6.528378972354789,
           6.421463768438277,
           4.395928676331139,
           4.2175914350726265,
           6.019365324866931,
           6.980891177052295,
           6.906890595608519,
           7.906890595608519,
           7.321928094887363,
           6.058893689053568,
           4.819427754358179,
           5.528378972354789,
           7.769387071858584,
           5.251538766995965,
           5.8025539357937825,
           8.421463768438276,
           5.421463768438277,
           5,
           7.643856189774724,
           4.099535673550914,
           6.643856189774724,
           7.321928094887363,
           6.370837695368309,
           5.038994131615864,
           8.05889368905357,
           4.6289058483087535,
           7.528378972354789,
           6.769387071858584,
           3.9808911770522952,
           4.7369655941662066,
           8.05889368905357,
           4.643856189774724,
           4.447458976971221,
           4.962032149800979,
           7.141355849245541,
           6.432768931213422,
           6.712729217956162,
           7.205658611158149
          ],
          [
           5.584962500721156,
           6.099535673550914,
           4.487351704094734,
           5.8712666858777975,
           5.8712666858777975,
           5.447458976971221,
           5.206450877467426,
           5.099535673550914,
           4.34617564113404,
           4.048909600480947,
           5.038994131615864,
           3.0943923702749547,
           2.5563933485243853,
           3.0048170162977756,
           5.321928094887363,
           3.777607578663552,
           4.819427754358179,
           3.1202942337177118,
           5.473931188332412,
           5.038994131615864,
           5.099535673550914,
           3.6141088463806725,
           5.447458976971221,
           5.705256734438868,
           4.705256734438868,
           4.321928094887363,
           5.321928094887363,
           5.019365324866931,
           4.6289058483087535,
           5.447458976971221,
           4.925037942318778,
           5.7369655941662066,
           2.5813602640409608,
           5.206450877467426,
           5.421463768438277,
           4.2630344058337934,
           5.019365324866931,
           4.6896598793878495,
           4.925037942318778,
           4.721024050297185,
           5.184424571137427,
           6.251939529189444,
           6.287218227917961,
           6.818459152099319
          ],
          [
           5.2746223801090055,
           5.099535673550914,
           4.980891177052295,
           5.7369655941662066,
           5.298081352932995,
           5.162729500038108,
           5.079071570991199,
           5.162729500038108,
           5.395928676331139,
           5.058893689053568,
           4.6896598793878495,
           3.0943923702749547,
           2.5563933485243853,
           2.545824106814198,
           4.206450877467426,
           4.460634365718954,
           4.434402824145775,
           3.1789701410453195,
           5.2746223801090055,
           5.019365324866931,
           5.099535673550914,
           0.8845227825800641,
           5.447458976971221,
           5.079071570991199,
           4.599462070416271,
           4.2863041851566415,
           6.473931188332412,
           4.7369655941662066,
           4.836501267717121,
           5.447458976971221,
           3.871266685877797,
           5.079071570991199,
           2.5813602640409608,
           5.019365324866931,
           4.434402824145775,
           4.643856189774724,
           4.674229838818244,
           5.528378972354789,
           5.321928094887363,
           5.705256734438868,
           5.614108846380673,
           6.236484990140048,
           6.093909539542467,
           6.675156883535048
          ],
          [
           5.34617564113404,
           6.22881869049588,
           4.570607207744086,
           6.321928094887363,
           5.943416471633633,
           5.614108846380673,
           5.584962500721156,
           4.925037942318778,
           4.447458976971221,
           4.383328639551506,
           4.473931188332412,
           3.352301743930881,
           2.427918790575576,
           2.545824106814198,
           3.3770696490798233,
           3.777607578663552,
           6.058893689053568,
           3.8365012677171206,
           5.2746223801090055,
           5.473931188332412,
           6.705256734438868,
           0.8845227825800641,
           5.370837695368309,
           5.370837695368309,
           4.599462070416271,
           5.7369655941662066,
           6.643856189774724,
           5.184424571137427,
           5.473931188332412,
           5.298081352932995,
           4.925037942318778,
           5.500898235932682,
           1.570607207744086,
           5,
           5.162729500038108,
           5.206450877467426,
           5.298081352932995,
           5.079071570991199,
           5.769387071858584,
           5.141355849245541,
           5.705256734438868,
           5.6922946883118035,
           6.13733020886842,
           6.733485654522732
          ],
          [
           5.321928094887363,
           5.370837695368309,
           6.643856189774724,
           5.34617564113404,
           5.906890595608519,
           6.584962500721156,
           6.906890595608519,
           5.395928676331139,
           5.058893689053568,
           5.34617564113404,
           4.943416471633633,
           3.0943923702749547,
           2.5563933485243853,
           3.0048170162977756,
           4.048909600480947,
           3.777607578663552,
           4.7858751946471525,
           3.9620321498009794,
           5.395928676331139,
           5.7369655941662066,
           5.079071570991199,
           4.7369655941662066,
           5.447458976971221,
           6.141355849245541,
           5.447458976971221,
           4.395928676331139,
           5.079071570991199,
           5.643856189774724,
           5.298081352932995,
           5.8712666858777975,
           5.2746223801090055,
           4.6289058483087535,
           2.5813602640409608,
           5.321928094887363,
           5.162729500038108,
           4.7369655941662066,
           5.141355849245541,
           5.058893689053568,
           4.542318163312663,
           5.141355849245541,
           6.321928094887363,
           5.218999753094883,
           6.079531468307261,
           6.643116664009451
          ],
          [
           5,
           5.370837695368309,
           5.8025539357937825,
           5.614108846380673,
           5.906890595608519,
           6.370837695368309,
           6.184424571137427,
           6.528378972354789,
           4.473931188332412,
           4.4086397280806935,
           5.980891177052295,
           3.0291463456595165,
           2.5563933485243853,
           1.4070447085253133,
           3.9068905956085187,
           4.6589630821649335,
           4.500898235932682,
           3.9620321498009794,
           5.7369655941662066,
           6.584962500721156,
           4.8712666858777975,
           0.8845227825800641,
           5.447458976971221,
           5.079071570991199,
           4.4086397280806935,
           4.395928676331139,
           5.22881869049588,
           7.321928094887363,
           5,
           6.584962500721156,
           3.871266685877797,
           5.556393348524385,
           1.570607207744086,
           5,
           5.298081352932995,
           3.9159357352115256,
           4.15200309344505,
           4.962032149800979,
           5.906890595608519,
           6.528378972354789,
           5.395928676331139,
           5.917538499160729,
           6.003239594885758,
           6.58772691789091
          ]
         ]
        }
       ],
       "layout": {
        "template": {
         "data": {
          "bar": [
           {
            "error_x": {
             "color": "#2a3f5f"
            },
            "error_y": {
             "color": "#2a3f5f"
            },
            "marker": {
             "line": {
              "color": "#E5ECF6",
              "width": 0.5
             },
             "pattern": {
              "fillmode": "overlay",
              "size": 10,
              "solidity": 0.2
             }
            },
            "type": "bar"
           }
          ],
          "barpolar": [
           {
            "marker": {
             "line": {
              "color": "#E5ECF6",
              "width": 0.5
             },
             "pattern": {
              "fillmode": "overlay",
              "size": 10,
              "solidity": 0.2
             }
            },
            "type": "barpolar"
           }
          ],
          "carpet": [
           {
            "aaxis": {
             "endlinecolor": "#2a3f5f",
             "gridcolor": "white",
             "linecolor": "white",
             "minorgridcolor": "white",
             "startlinecolor": "#2a3f5f"
            },
            "baxis": {
             "endlinecolor": "#2a3f5f",
             "gridcolor": "white",
             "linecolor": "white",
             "minorgridcolor": "white",
             "startlinecolor": "#2a3f5f"
            },
            "type": "carpet"
           }
          ],
          "choropleth": [
           {
            "colorbar": {
             "outlinewidth": 0,
             "ticks": ""
            },
            "type": "choropleth"
           }
          ],
          "contour": [
           {
            "colorbar": {
             "outlinewidth": 0,
             "ticks": ""
            },
            "colorscale": [
             [
              0,
              "#0d0887"
             ],
             [
              0.1111111111111111,
              "#46039f"
             ],
             [
              0.2222222222222222,
              "#7201a8"
             ],
             [
              0.3333333333333333,
              "#9c179e"
             ],
             [
              0.4444444444444444,
              "#bd3786"
             ],
             [
              0.5555555555555556,
              "#d8576b"
             ],
             [
              0.6666666666666666,
              "#ed7953"
             ],
             [
              0.7777777777777778,
              "#fb9f3a"
             ],
             [
              0.8888888888888888,
              "#fdca26"
             ],
             [
              1,
              "#f0f921"
             ]
            ],
            "type": "contour"
           }
          ],
          "contourcarpet": [
           {
            "colorbar": {
             "outlinewidth": 0,
             "ticks": ""
            },
            "type": "contourcarpet"
           }
          ],
          "heatmap": [
           {
            "colorbar": {
             "outlinewidth": 0,
             "ticks": ""
            },
            "colorscale": [
             [
              0,
              "#0d0887"
             ],
             [
              0.1111111111111111,
              "#46039f"
             ],
             [
              0.2222222222222222,
              "#7201a8"
             ],
             [
              0.3333333333333333,
              "#9c179e"
             ],
             [
              0.4444444444444444,
              "#bd3786"
             ],
             [
              0.5555555555555556,
              "#d8576b"
             ],
             [
              0.6666666666666666,
              "#ed7953"
             ],
             [
              0.7777777777777778,
              "#fb9f3a"
             ],
             [
              0.8888888888888888,
              "#fdca26"
             ],
             [
              1,
              "#f0f921"
             ]
            ],
            "type": "heatmap"
           }
          ],
          "heatmapgl": [
           {
            "colorbar": {
             "outlinewidth": 0,
             "ticks": ""
            },
            "colorscale": [
             [
              0,
              "#0d0887"
             ],
             [
              0.1111111111111111,
              "#46039f"
             ],
             [
              0.2222222222222222,
              "#7201a8"
             ],
             [
              0.3333333333333333,
              "#9c179e"
             ],
             [
              0.4444444444444444,
              "#bd3786"
             ],
             [
              0.5555555555555556,
              "#d8576b"
             ],
             [
              0.6666666666666666,
              "#ed7953"
             ],
             [
              0.7777777777777778,
              "#fb9f3a"
             ],
             [
              0.8888888888888888,
              "#fdca26"
             ],
             [
              1,
              "#f0f921"
             ]
            ],
            "type": "heatmapgl"
           }
          ],
          "histogram": [
           {
            "marker": {
             "pattern": {
              "fillmode": "overlay",
              "size": 10,
              "solidity": 0.2
             }
            },
            "type": "histogram"
           }
          ],
          "histogram2d": [
           {
            "colorbar": {
             "outlinewidth": 0,
             "ticks": ""
            },
            "colorscale": [
             [
              0,
              "#0d0887"
             ],
             [
              0.1111111111111111,
              "#46039f"
             ],
             [
              0.2222222222222222,
              "#7201a8"
             ],
             [
              0.3333333333333333,
              "#9c179e"
             ],
             [
              0.4444444444444444,
              "#bd3786"
             ],
             [
              0.5555555555555556,
              "#d8576b"
             ],
             [
              0.6666666666666666,
              "#ed7953"
             ],
             [
              0.7777777777777778,
              "#fb9f3a"
             ],
             [
              0.8888888888888888,
              "#fdca26"
             ],
             [
              1,
              "#f0f921"
             ]
            ],
            "type": "histogram2d"
           }
          ],
          "histogram2dcontour": [
           {
            "colorbar": {
             "outlinewidth": 0,
             "ticks": ""
            },
            "colorscale": [
             [
              0,
              "#0d0887"
             ],
             [
              0.1111111111111111,
              "#46039f"
             ],
             [
              0.2222222222222222,
              "#7201a8"
             ],
             [
              0.3333333333333333,
              "#9c179e"
             ],
             [
              0.4444444444444444,
              "#bd3786"
             ],
             [
              0.5555555555555556,
              "#d8576b"
             ],
             [
              0.6666666666666666,
              "#ed7953"
             ],
             [
              0.7777777777777778,
              "#fb9f3a"
             ],
             [
              0.8888888888888888,
              "#fdca26"
             ],
             [
              1,
              "#f0f921"
             ]
            ],
            "type": "histogram2dcontour"
           }
          ],
          "mesh3d": [
           {
            "colorbar": {
             "outlinewidth": 0,
             "ticks": ""
            },
            "type": "mesh3d"
           }
          ],
          "parcoords": [
           {
            "line": {
             "colorbar": {
              "outlinewidth": 0,
              "ticks": ""
             }
            },
            "type": "parcoords"
           }
          ],
          "pie": [
           {
            "automargin": true,
            "type": "pie"
           }
          ],
          "scatter": [
           {
            "fillpattern": {
             "fillmode": "overlay",
             "size": 10,
             "solidity": 0.2
            },
            "type": "scatter"
           }
          ],
          "scatter3d": [
           {
            "line": {
             "colorbar": {
              "outlinewidth": 0,
              "ticks": ""
             }
            },
            "marker": {
             "colorbar": {
              "outlinewidth": 0,
              "ticks": ""
             }
            },
            "type": "scatter3d"
           }
          ],
          "scattercarpet": [
           {
            "marker": {
             "colorbar": {
              "outlinewidth": 0,
              "ticks": ""
             }
            },
            "type": "scattercarpet"
           }
          ],
          "scattergeo": [
           {
            "marker": {
             "colorbar": {
              "outlinewidth": 0,
              "ticks": ""
             }
            },
            "type": "scattergeo"
           }
          ],
          "scattergl": [
           {
            "marker": {
             "colorbar": {
              "outlinewidth": 0,
              "ticks": ""
             }
            },
            "type": "scattergl"
           }
          ],
          "scattermapbox": [
           {
            "marker": {
             "colorbar": {
              "outlinewidth": 0,
              "ticks": ""
             }
            },
            "type": "scattermapbox"
           }
          ],
          "scatterpolar": [
           {
            "marker": {
             "colorbar": {
              "outlinewidth": 0,
              "ticks": ""
             }
            },
            "type": "scatterpolar"
           }
          ],
          "scatterpolargl": [
           {
            "marker": {
             "colorbar": {
              "outlinewidth": 0,
              "ticks": ""
             }
            },
            "type": "scatterpolargl"
           }
          ],
          "scatterternary": [
           {
            "marker": {
             "colorbar": {
              "outlinewidth": 0,
              "ticks": ""
             }
            },
            "type": "scatterternary"
           }
          ],
          "surface": [
           {
            "colorbar": {
             "outlinewidth": 0,
             "ticks": ""
            },
            "colorscale": [
             [
              0,
              "#0d0887"
             ],
             [
              0.1111111111111111,
              "#46039f"
             ],
             [
              0.2222222222222222,
              "#7201a8"
             ],
             [
              0.3333333333333333,
              "#9c179e"
             ],
             [
              0.4444444444444444,
              "#bd3786"
             ],
             [
              0.5555555555555556,
              "#d8576b"
             ],
             [
              0.6666666666666666,
              "#ed7953"
             ],
             [
              0.7777777777777778,
              "#fb9f3a"
             ],
             [
              0.8888888888888888,
              "#fdca26"
             ],
             [
              1,
              "#f0f921"
             ]
            ],
            "type": "surface"
           }
          ],
          "table": [
           {
            "cells": {
             "fill": {
              "color": "#EBF0F8"
             },
             "line": {
              "color": "white"
             }
            },
            "header": {
             "fill": {
              "color": "#C8D4E3"
             },
             "line": {
              "color": "white"
             }
            },
            "type": "table"
           }
          ]
         },
         "layout": {
          "annotationdefaults": {
           "arrowcolor": "#2a3f5f",
           "arrowhead": 0,
           "arrowwidth": 1
          },
          "autotypenumbers": "strict",
          "coloraxis": {
           "colorbar": {
            "outlinewidth": 0,
            "ticks": ""
           }
          },
          "colorscale": {
           "diverging": [
            [
             0,
             "#8e0152"
            ],
            [
             0.1,
             "#c51b7d"
            ],
            [
             0.2,
             "#de77ae"
            ],
            [
             0.3,
             "#f1b6da"
            ],
            [
             0.4,
             "#fde0ef"
            ],
            [
             0.5,
             "#f7f7f7"
            ],
            [
             0.6,
             "#e6f5d0"
            ],
            [
             0.7,
             "#b8e186"
            ],
            [
             0.8,
             "#7fbc41"
            ],
            [
             0.9,
             "#4d9221"
            ],
            [
             1,
             "#276419"
            ]
           ],
           "sequential": [
            [
             0,
             "#0d0887"
            ],
            [
             0.1111111111111111,
             "#46039f"
            ],
            [
             0.2222222222222222,
             "#7201a8"
            ],
            [
             0.3333333333333333,
             "#9c179e"
            ],
            [
             0.4444444444444444,
             "#bd3786"
            ],
            [
             0.5555555555555556,
             "#d8576b"
            ],
            [
             0.6666666666666666,
             "#ed7953"
            ],
            [
             0.7777777777777778,
             "#fb9f3a"
            ],
            [
             0.8888888888888888,
             "#fdca26"
            ],
            [
             1,
             "#f0f921"
            ]
           ],
           "sequentialminus": [
            [
             0,
             "#0d0887"
            ],
            [
             0.1111111111111111,
             "#46039f"
            ],
            [
             0.2222222222222222,
             "#7201a8"
            ],
            [
             0.3333333333333333,
             "#9c179e"
            ],
            [
             0.4444444444444444,
             "#bd3786"
            ],
            [
             0.5555555555555556,
             "#d8576b"
            ],
            [
             0.6666666666666666,
             "#ed7953"
            ],
            [
             0.7777777777777778,
             "#fb9f3a"
            ],
            [
             0.8888888888888888,
             "#fdca26"
            ],
            [
             1,
             "#f0f921"
            ]
           ]
          },
          "colorway": [
           "#636efa",
           "#EF553B",
           "#00cc96",
           "#ab63fa",
           "#FFA15A",
           "#19d3f3",
           "#FF6692",
           "#B6E880",
           "#FF97FF",
           "#FECB52"
          ],
          "font": {
           "color": "#2a3f5f"
          },
          "geo": {
           "bgcolor": "white",
           "lakecolor": "white",
           "landcolor": "#E5ECF6",
           "showlakes": true,
           "showland": true,
           "subunitcolor": "white"
          },
          "hoverlabel": {
           "align": "left"
          },
          "hovermode": "closest",
          "mapbox": {
           "style": "light"
          },
          "paper_bgcolor": "white",
          "plot_bgcolor": "#E5ECF6",
          "polar": {
           "angularaxis": {
            "gridcolor": "white",
            "linecolor": "white",
            "ticks": ""
           },
           "bgcolor": "#E5ECF6",
           "radialaxis": {
            "gridcolor": "white",
            "linecolor": "white",
            "ticks": ""
           }
          },
          "scene": {
           "xaxis": {
            "backgroundcolor": "#E5ECF6",
            "gridcolor": "white",
            "gridwidth": 2,
            "linecolor": "white",
            "showbackground": true,
            "ticks": "",
            "zerolinecolor": "white"
           },
           "yaxis": {
            "backgroundcolor": "#E5ECF6",
            "gridcolor": "white",
            "gridwidth": 2,
            "linecolor": "white",
            "showbackground": true,
            "ticks": "",
            "zerolinecolor": "white"
           },
           "zaxis": {
            "backgroundcolor": "#E5ECF6",
            "gridcolor": "white",
            "gridwidth": 2,
            "linecolor": "white",
            "showbackground": true,
            "ticks": "",
            "zerolinecolor": "white"
           }
          },
          "shapedefaults": {
           "line": {
            "color": "#2a3f5f"
           }
          },
          "ternary": {
           "aaxis": {
            "gridcolor": "white",
            "linecolor": "white",
            "ticks": ""
           },
           "baxis": {
            "gridcolor": "white",
            "linecolor": "white",
            "ticks": ""
           },
           "bgcolor": "#E5ECF6",
           "caxis": {
            "gridcolor": "white",
            "linecolor": "white",
            "ticks": ""
           }
          },
          "title": {
           "x": 0.05
          },
          "xaxis": {
           "automargin": true,
           "gridcolor": "white",
           "linecolor": "white",
           "ticks": "",
           "title": {
            "standoff": 15
           },
           "zerolinecolor": "white",
           "zerolinewidth": 2
          },
          "yaxis": {
           "automargin": true,
           "gridcolor": "white",
           "linecolor": "white",
           "ticks": "",
           "title": {
            "standoff": 15
           },
           "zerolinecolor": "white",
           "zerolinewidth": 2
          }
         }
        },
        "title": {
         "text": "Heatmap of average chunks' attributes IC values"
        },
        "xaxis": {
         "title": {
          "text": "Feature"
         }
        },
        "yaxis": {
         "title": {
          "text": "Collection"
         }
        }
       }
      }
     },
     "metadata": {},
     "output_type": "display_data"
    }
   ],
   "source": [
    "entropy_analysis_visualization = WritingStyleEntropyAnalysisVisualization(\n",
    "    entropy_analysis_results=entropy_analysis_results,\n",
    "    preprocessing_results=preprocessing_results,\n",
    "    feature_extractor=feature_extractor\n",
    ")\n",
    "entropy_analysis_visualization.visualize() "
   ]
  },
  {
   "cell_type": "code",
   "execution_count": 30,
   "metadata": {},
   "outputs": [
    {
     "data": {
      "text/html": [
       "\n",
       "        <iframe\n",
       "            width=\"100%\"\n",
       "            height=\"800\"\n",
       "            src=\"http://127.0.0.1:8001/\"\n",
       "            frameborder=\"0\"\n",
       "            allowfullscreen\n",
       "            \n",
       "        ></iframe>\n",
       "        "
      ],
      "text/plain": [
       "<IPython.lib.display.IFrame at 0x2562359bb00>"
      ]
     },
     "metadata": {},
     "output_type": "display_data"
    }
   ],
   "source": [
    "entropy_analysis_visualization.dash_app.run(port=8001)"
   ]
  },
  {
   "cell_type": "code",
   "execution_count": 16,
   "metadata": {},
   "outputs": [],
   "source": [
    "pca_analysis_results = WritingStylePCAAnalysis(\n",
    "    settings=settings,\n",
    "    feature_extractor=feature_extractor\n",
    ").get_pca_analysis(metrics_analysis_results=metrics_analysis_results)"
   ]
  },
  {
   "cell_type": "code",
   "execution_count": 17,
   "metadata": {},
   "outputs": [
    {
     "data": {
      "application/vnd.plotly.v1+json": {
       "config": {
        "plotlyServerURL": "https://plot.ly"
       },
       "data": [
        {
         "marker": {
          "color": "skyblue"
         },
         "name": "Top Features for PC1[0.35]",
         "orientation": "h",
         "type": "bar",
         "x": [
          0.23320779871945682,
          0.2319722124757826,
          0.22028178260213158,
          0.21965239875555823,
          0.21827057534469163,
          0.21753881749951884,
          0.21746390895455484,
          0.21688109432746802,
          0.21015426016265798,
          0.1974533898068448
         ],
         "xaxis": "x",
         "y": [
          "flesch_reading_ease",
          "of",
          "average_syllables_per_word",
          "yules_characteristic_k",
          "the",
          "gunning_fog_index",
          "flesch_kincaid_grade_level",
          "simpsons_index",
          "average_word_length",
          "said"
         ],
         "yaxis": "y"
        },
        {
         "marker": {
          "color": "skyblue"
         },
         "name": "Top Features for PC2[0.11]",
         "orientation": "h",
         "type": "bar",
         "x": [
          0.3027289329843247,
          0.2991935058349112,
          0.294949578509859,
          0.29217004843449446,
          0.2819578672999351,
          0.2567664276004599,
          0.2549161486409291,
          0.2316727070001475,
          0.23047325382939002,
          0.20369389910598346
         ],
         "xaxis": "x2",
         "y": [
          "a",
          ",",
          "and",
          "to",
          "average_sentence_length",
          "as",
          "in",
          "flesch_kincaid_grade_level",
          "gunning_fog_index",
          "."
         ],
         "yaxis": "y2"
        }
       ],
       "layout": {
        "annotations": [
         {
          "font": {
           "size": 16
          },
          "showarrow": false,
          "text": "Top Features for PC1[0.35]",
          "x": 0.1875,
          "xanchor": "center",
          "xref": "paper",
          "y": 1,
          "yanchor": "bottom",
          "yref": "paper"
         },
         {
          "font": {
           "size": 16
          },
          "showarrow": false,
          "text": "Top Features for PC2[0.11]",
          "x": 0.8125,
          "xanchor": "center",
          "xref": "paper",
          "y": 1,
          "yanchor": "bottom",
          "yref": "paper"
         }
        ],
        "showlegend": false,
        "template": {
         "data": {
          "bar": [
           {
            "error_x": {
             "color": "#2a3f5f"
            },
            "error_y": {
             "color": "#2a3f5f"
            },
            "marker": {
             "line": {
              "color": "#E5ECF6",
              "width": 0.5
             },
             "pattern": {
              "fillmode": "overlay",
              "size": 10,
              "solidity": 0.2
             }
            },
            "type": "bar"
           }
          ],
          "barpolar": [
           {
            "marker": {
             "line": {
              "color": "#E5ECF6",
              "width": 0.5
             },
             "pattern": {
              "fillmode": "overlay",
              "size": 10,
              "solidity": 0.2
             }
            },
            "type": "barpolar"
           }
          ],
          "carpet": [
           {
            "aaxis": {
             "endlinecolor": "#2a3f5f",
             "gridcolor": "white",
             "linecolor": "white",
             "minorgridcolor": "white",
             "startlinecolor": "#2a3f5f"
            },
            "baxis": {
             "endlinecolor": "#2a3f5f",
             "gridcolor": "white",
             "linecolor": "white",
             "minorgridcolor": "white",
             "startlinecolor": "#2a3f5f"
            },
            "type": "carpet"
           }
          ],
          "choropleth": [
           {
            "colorbar": {
             "outlinewidth": 0,
             "ticks": ""
            },
            "type": "choropleth"
           }
          ],
          "contour": [
           {
            "colorbar": {
             "outlinewidth": 0,
             "ticks": ""
            },
            "colorscale": [
             [
              0,
              "#0d0887"
             ],
             [
              0.1111111111111111,
              "#46039f"
             ],
             [
              0.2222222222222222,
              "#7201a8"
             ],
             [
              0.3333333333333333,
              "#9c179e"
             ],
             [
              0.4444444444444444,
              "#bd3786"
             ],
             [
              0.5555555555555556,
              "#d8576b"
             ],
             [
              0.6666666666666666,
              "#ed7953"
             ],
             [
              0.7777777777777778,
              "#fb9f3a"
             ],
             [
              0.8888888888888888,
              "#fdca26"
             ],
             [
              1,
              "#f0f921"
             ]
            ],
            "type": "contour"
           }
          ],
          "contourcarpet": [
           {
            "colorbar": {
             "outlinewidth": 0,
             "ticks": ""
            },
            "type": "contourcarpet"
           }
          ],
          "heatmap": [
           {
            "colorbar": {
             "outlinewidth": 0,
             "ticks": ""
            },
            "colorscale": [
             [
              0,
              "#0d0887"
             ],
             [
              0.1111111111111111,
              "#46039f"
             ],
             [
              0.2222222222222222,
              "#7201a8"
             ],
             [
              0.3333333333333333,
              "#9c179e"
             ],
             [
              0.4444444444444444,
              "#bd3786"
             ],
             [
              0.5555555555555556,
              "#d8576b"
             ],
             [
              0.6666666666666666,
              "#ed7953"
             ],
             [
              0.7777777777777778,
              "#fb9f3a"
             ],
             [
              0.8888888888888888,
              "#fdca26"
             ],
             [
              1,
              "#f0f921"
             ]
            ],
            "type": "heatmap"
           }
          ],
          "heatmapgl": [
           {
            "colorbar": {
             "outlinewidth": 0,
             "ticks": ""
            },
            "colorscale": [
             [
              0,
              "#0d0887"
             ],
             [
              0.1111111111111111,
              "#46039f"
             ],
             [
              0.2222222222222222,
              "#7201a8"
             ],
             [
              0.3333333333333333,
              "#9c179e"
             ],
             [
              0.4444444444444444,
              "#bd3786"
             ],
             [
              0.5555555555555556,
              "#d8576b"
             ],
             [
              0.6666666666666666,
              "#ed7953"
             ],
             [
              0.7777777777777778,
              "#fb9f3a"
             ],
             [
              0.8888888888888888,
              "#fdca26"
             ],
             [
              1,
              "#f0f921"
             ]
            ],
            "type": "heatmapgl"
           }
          ],
          "histogram": [
           {
            "marker": {
             "pattern": {
              "fillmode": "overlay",
              "size": 10,
              "solidity": 0.2
             }
            },
            "type": "histogram"
           }
          ],
          "histogram2d": [
           {
            "colorbar": {
             "outlinewidth": 0,
             "ticks": ""
            },
            "colorscale": [
             [
              0,
              "#0d0887"
             ],
             [
              0.1111111111111111,
              "#46039f"
             ],
             [
              0.2222222222222222,
              "#7201a8"
             ],
             [
              0.3333333333333333,
              "#9c179e"
             ],
             [
              0.4444444444444444,
              "#bd3786"
             ],
             [
              0.5555555555555556,
              "#d8576b"
             ],
             [
              0.6666666666666666,
              "#ed7953"
             ],
             [
              0.7777777777777778,
              "#fb9f3a"
             ],
             [
              0.8888888888888888,
              "#fdca26"
             ],
             [
              1,
              "#f0f921"
             ]
            ],
            "type": "histogram2d"
           }
          ],
          "histogram2dcontour": [
           {
            "colorbar": {
             "outlinewidth": 0,
             "ticks": ""
            },
            "colorscale": [
             [
              0,
              "#0d0887"
             ],
             [
              0.1111111111111111,
              "#46039f"
             ],
             [
              0.2222222222222222,
              "#7201a8"
             ],
             [
              0.3333333333333333,
              "#9c179e"
             ],
             [
              0.4444444444444444,
              "#bd3786"
             ],
             [
              0.5555555555555556,
              "#d8576b"
             ],
             [
              0.6666666666666666,
              "#ed7953"
             ],
             [
              0.7777777777777778,
              "#fb9f3a"
             ],
             [
              0.8888888888888888,
              "#fdca26"
             ],
             [
              1,
              "#f0f921"
             ]
            ],
            "type": "histogram2dcontour"
           }
          ],
          "mesh3d": [
           {
            "colorbar": {
             "outlinewidth": 0,
             "ticks": ""
            },
            "type": "mesh3d"
           }
          ],
          "parcoords": [
           {
            "line": {
             "colorbar": {
              "outlinewidth": 0,
              "ticks": ""
             }
            },
            "type": "parcoords"
           }
          ],
          "pie": [
           {
            "automargin": true,
            "type": "pie"
           }
          ],
          "scatter": [
           {
            "fillpattern": {
             "fillmode": "overlay",
             "size": 10,
             "solidity": 0.2
            },
            "type": "scatter"
           }
          ],
          "scatter3d": [
           {
            "line": {
             "colorbar": {
              "outlinewidth": 0,
              "ticks": ""
             }
            },
            "marker": {
             "colorbar": {
              "outlinewidth": 0,
              "ticks": ""
             }
            },
            "type": "scatter3d"
           }
          ],
          "scattercarpet": [
           {
            "marker": {
             "colorbar": {
              "outlinewidth": 0,
              "ticks": ""
             }
            },
            "type": "scattercarpet"
           }
          ],
          "scattergeo": [
           {
            "marker": {
             "colorbar": {
              "outlinewidth": 0,
              "ticks": ""
             }
            },
            "type": "scattergeo"
           }
          ],
          "scattergl": [
           {
            "marker": {
             "colorbar": {
              "outlinewidth": 0,
              "ticks": ""
             }
            },
            "type": "scattergl"
           }
          ],
          "scattermapbox": [
           {
            "marker": {
             "colorbar": {
              "outlinewidth": 0,
              "ticks": ""
             }
            },
            "type": "scattermapbox"
           }
          ],
          "scatterpolar": [
           {
            "marker": {
             "colorbar": {
              "outlinewidth": 0,
              "ticks": ""
             }
            },
            "type": "scatterpolar"
           }
          ],
          "scatterpolargl": [
           {
            "marker": {
             "colorbar": {
              "outlinewidth": 0,
              "ticks": ""
             }
            },
            "type": "scatterpolargl"
           }
          ],
          "scatterternary": [
           {
            "marker": {
             "colorbar": {
              "outlinewidth": 0,
              "ticks": ""
             }
            },
            "type": "scatterternary"
           }
          ],
          "surface": [
           {
            "colorbar": {
             "outlinewidth": 0,
             "ticks": ""
            },
            "colorscale": [
             [
              0,
              "#0d0887"
             ],
             [
              0.1111111111111111,
              "#46039f"
             ],
             [
              0.2222222222222222,
              "#7201a8"
             ],
             [
              0.3333333333333333,
              "#9c179e"
             ],
             [
              0.4444444444444444,
              "#bd3786"
             ],
             [
              0.5555555555555556,
              "#d8576b"
             ],
             [
              0.6666666666666666,
              "#ed7953"
             ],
             [
              0.7777777777777778,
              "#fb9f3a"
             ],
             [
              0.8888888888888888,
              "#fdca26"
             ],
             [
              1,
              "#f0f921"
             ]
            ],
            "type": "surface"
           }
          ],
          "table": [
           {
            "cells": {
             "fill": {
              "color": "#EBF0F8"
             },
             "line": {
              "color": "white"
             }
            },
            "header": {
             "fill": {
              "color": "#C8D4E3"
             },
             "line": {
              "color": "white"
             }
            },
            "type": "table"
           }
          ]
         },
         "layout": {
          "annotationdefaults": {
           "arrowcolor": "#2a3f5f",
           "arrowhead": 0,
           "arrowwidth": 1
          },
          "autotypenumbers": "strict",
          "coloraxis": {
           "colorbar": {
            "outlinewidth": 0,
            "ticks": ""
           }
          },
          "colorscale": {
           "diverging": [
            [
             0,
             "#8e0152"
            ],
            [
             0.1,
             "#c51b7d"
            ],
            [
             0.2,
             "#de77ae"
            ],
            [
             0.3,
             "#f1b6da"
            ],
            [
             0.4,
             "#fde0ef"
            ],
            [
             0.5,
             "#f7f7f7"
            ],
            [
             0.6,
             "#e6f5d0"
            ],
            [
             0.7,
             "#b8e186"
            ],
            [
             0.8,
             "#7fbc41"
            ],
            [
             0.9,
             "#4d9221"
            ],
            [
             1,
             "#276419"
            ]
           ],
           "sequential": [
            [
             0,
             "#0d0887"
            ],
            [
             0.1111111111111111,
             "#46039f"
            ],
            [
             0.2222222222222222,
             "#7201a8"
            ],
            [
             0.3333333333333333,
             "#9c179e"
            ],
            [
             0.4444444444444444,
             "#bd3786"
            ],
            [
             0.5555555555555556,
             "#d8576b"
            ],
            [
             0.6666666666666666,
             "#ed7953"
            ],
            [
             0.7777777777777778,
             "#fb9f3a"
            ],
            [
             0.8888888888888888,
             "#fdca26"
            ],
            [
             1,
             "#f0f921"
            ]
           ],
           "sequentialminus": [
            [
             0,
             "#0d0887"
            ],
            [
             0.1111111111111111,
             "#46039f"
            ],
            [
             0.2222222222222222,
             "#7201a8"
            ],
            [
             0.3333333333333333,
             "#9c179e"
            ],
            [
             0.4444444444444444,
             "#bd3786"
            ],
            [
             0.5555555555555556,
             "#d8576b"
            ],
            [
             0.6666666666666666,
             "#ed7953"
            ],
            [
             0.7777777777777778,
             "#fb9f3a"
            ],
            [
             0.8888888888888888,
             "#fdca26"
            ],
            [
             1,
             "#f0f921"
            ]
           ]
          },
          "colorway": [
           "#636efa",
           "#EF553B",
           "#00cc96",
           "#ab63fa",
           "#FFA15A",
           "#19d3f3",
           "#FF6692",
           "#B6E880",
           "#FF97FF",
           "#FECB52"
          ],
          "font": {
           "color": "#2a3f5f"
          },
          "geo": {
           "bgcolor": "white",
           "lakecolor": "white",
           "landcolor": "#E5ECF6",
           "showlakes": true,
           "showland": true,
           "subunitcolor": "white"
          },
          "hoverlabel": {
           "align": "left"
          },
          "hovermode": "closest",
          "mapbox": {
           "style": "light"
          },
          "paper_bgcolor": "white",
          "plot_bgcolor": "#E5ECF6",
          "polar": {
           "angularaxis": {
            "gridcolor": "white",
            "linecolor": "white",
            "ticks": ""
           },
           "bgcolor": "#E5ECF6",
           "radialaxis": {
            "gridcolor": "white",
            "linecolor": "white",
            "ticks": ""
           }
          },
          "scene": {
           "xaxis": {
            "backgroundcolor": "#E5ECF6",
            "gridcolor": "white",
            "gridwidth": 2,
            "linecolor": "white",
            "showbackground": true,
            "ticks": "",
            "zerolinecolor": "white"
           },
           "yaxis": {
            "backgroundcolor": "#E5ECF6",
            "gridcolor": "white",
            "gridwidth": 2,
            "linecolor": "white",
            "showbackground": true,
            "ticks": "",
            "zerolinecolor": "white"
           },
           "zaxis": {
            "backgroundcolor": "#E5ECF6",
            "gridcolor": "white",
            "gridwidth": 2,
            "linecolor": "white",
            "showbackground": true,
            "ticks": "",
            "zerolinecolor": "white"
           }
          },
          "shapedefaults": {
           "line": {
            "color": "#2a3f5f"
           }
          },
          "ternary": {
           "aaxis": {
            "gridcolor": "white",
            "linecolor": "white",
            "ticks": ""
           },
           "baxis": {
            "gridcolor": "white",
            "linecolor": "white",
            "ticks": ""
           },
           "bgcolor": "#E5ECF6",
           "caxis": {
            "gridcolor": "white",
            "linecolor": "white",
            "ticks": ""
           }
          },
          "title": {
           "x": 0.05
          },
          "xaxis": {
           "automargin": true,
           "gridcolor": "white",
           "linecolor": "white",
           "ticks": "",
           "title": {
            "standoff": 15
           },
           "zerolinecolor": "white",
           "zerolinewidth": 2
          },
          "yaxis": {
           "automargin": true,
           "gridcolor": "white",
           "linecolor": "white",
           "ticks": "",
           "title": {
            "standoff": 15
           },
           "zerolinecolor": "white",
           "zerolinewidth": 2
          }
         }
        },
        "title": {
         "text": "Top Features for Principal Components"
        },
        "xaxis": {
         "anchor": "y",
         "domain": [
          0,
          0.375
         ],
         "range": [
          0.1974533898068448,
          0.23320779871945682
         ],
         "title": {
          "text": "Importance"
         }
        },
        "xaxis2": {
         "anchor": "y2",
         "domain": [
          0.625,
          1
         ],
         "range": [
          0.20369389910598346,
          0.3027289329843247
         ]
        },
        "yaxis": {
         "anchor": "x",
         "autorange": "reversed",
         "domain": [
          0,
          1
         ],
         "title": {
          "text": "Features"
         }
        },
        "yaxis2": {
         "anchor": "x2",
         "autorange": "reversed",
         "domain": [
          0,
          1
         ]
        }
       }
      }
     },
     "metadata": {},
     "output_type": "display_data"
    }
   ],
   "source": [
    "pca_analysis_visualization = WritingStylePCAAnalysisVisualization(pca_analysis_results=pca_analysis_results)\n",
    "pca_analysis_visualization.visualize_top_features(pca_analysis_results)"
   ]
  },
  {
   "cell_type": "code",
   "execution_count": 18,
   "metadata": {},
   "outputs": [
    {
     "data": {
      "text/html": [
       "\n",
       "        <iframe\n",
       "            width=\"100%\"\n",
       "            height=\"800\"\n",
       "            src=\"http://127.0.0.1:8002/\"\n",
       "            frameborder=\"0\"\n",
       "            allowfullscreen\n",
       "            \n",
       "        ></iframe>\n",
       "        "
      ],
      "text/plain": [
       "<IPython.lib.display.IFrame at 0x25643d26f60>"
      ]
     },
     "metadata": {},
     "output_type": "display_data"
    }
   ],
   "source": [
    "pca_analysis_visualization.dash_app.run(port=8002)"
   ]
  },
  {
   "cell_type": "code",
   "execution_count": 19,
   "metadata": {},
   "outputs": [],
   "source": [
    "if os.path.exists(settings.paths.ws_dataset_dump_file):\n",
    "    os.remove(settings.paths.ws_dataset_dump_file)\n",
    "with open(settings.paths.ws_dataset_dump_file, 'wb') as file:\n",
    "    dill.dump(\n",
    "        obj={\n",
    "            \"dataset\": dataset,\n",
    "            \"preprocessing_results\": preprocessing_results,\n",
    "            \"metrics_analysis_results\": metrics_analysis_results,\n",
    "            \"feature_extractor\": feature_extractor,\n",
    "            \"entropy_analysis_results\": entropy_analysis_results,\n",
    "            \"pca_analysis_results\": pca_analysis_results,\n",
    "        },  \n",
    "        file=file\n",
    "    )"
   ]
  }
 ],
 "metadata": {
  "kernelspec": {
   "display_name": ".venv",
   "language": "python",
   "name": "python3"
  },
  "language_info": {
   "codemirror_mode": {
    "name": "ipython",
    "version": 3
   },
   "file_extension": ".py",
   "mimetype": "text/x-python",
   "name": "python",
   "nbconvert_exporter": "python",
   "pygments_lexer": "ipython3",
   "version": "3.12.1"
  }
 },
 "nbformat": 4,
 "nbformat_minor": 2
}
