{
 "cells": [
  {
   "cell_type": "code",
   "execution_count": null,
   "metadata": {},
   "outputs": [],
   "source": [
    "%load_ext autoreload   \n",
    "%autoreload 2\n",
    "\n",
    "from src import *\n",
    "import dill\n",
    "import nltk\n",
    "import os\n",
    "nltk.download('all')"
   ]
  },
  {
   "cell_type": "code",
   "execution_count": null,
   "metadata": {},
   "outputs": [],
   "source": [
    "settings = Settings()"
   ]
  },
  {
   "cell_type": "code",
   "execution_count": null,
   "metadata": {},
   "outputs": [],
   "source": [
    "dump_dict = None\n",
    "with open(settings.paths.ws_dataset_dump_file, 'rb') as file:\n",
    "    dump_dict = dill.load(file)\n",
    "    \n",
    "dataset = dump_dict['dataset']\n",
    "preprocessing_results = dump_dict['preprocessing_results']\n",
    "metrics_analysis_results = dump_dict['metrics_analysis_results']\n",
    "feature_extractor = dump_dict['feature_extractor']\n",
    "entropy_analysis_results = dump_dict['entropy_analysis_results']\n",
    "pca_analysis_results = dump_dict['pca_analysis_results']"
   ]
  },
  {
   "cell_type": "code",
   "execution_count": null,
   "metadata": {},
   "outputs": [],
   "source": [
    "dataset = WritingStyleDataset(settings)\n",
    "dataset.load()"
   ]
  },
  {
   "cell_type": "code",
   "execution_count": null,
   "metadata": {},
   "outputs": [],
   "source": [
    "dataset.clean()"
   ]
  },
  {
   "cell_type": "code",
   "execution_count": null,
   "metadata": {},
   "outputs": [],
   "source": [
    "print(f\"Text removed while cleaning: {WritingStyleMetadataAnalysis.get_percentage_of_removed_text(dataset)}%.\")"
   ]
  },
  {
   "cell_type": "code",
   "execution_count": null,
   "metadata": {},
   "outputs": [],
   "source": [
    "preprocessing_results = WritingStylePreprocessing(settings).preprocess(dataset)\n",
    "preprocessing_results.info()"
   ]
  },
  {
   "cell_type": "code",
   "execution_count": null,
   "metadata": {},
   "outputs": [],
   "source": [
    "metrics_analysis_results = WritingStyleMetricsAnalysis().analyze(preprocessing_results)"
   ]
  },
  {
   "cell_type": "code",
   "execution_count": null,
   "metadata": {},
   "outputs": [],
   "source": [
    "feature_extractor = FeatureExtractor(\n",
    "    settings=settings, \n",
    "    metrics_analysis_results=metrics_analysis_results\n",
    ")\n",
    "feature_extractor.get_feature_names()"
   ]
  },
  {
   "cell_type": "code",
   "execution_count": null,
   "metadata": {},
   "outputs": [],
   "source": [
    "metrics_analysis_visualization = WritingStyleMetricsAnalysisVisualization(\n",
    "    settings=settings, \n",
    "    metrics_analysis_results=metrics_analysis_results,\n",
    "    feature_extractor=feature_extractor\n",
    ")\n",
    "metrics_analysis_visualization.visualize()"
   ]
  },
  {
   "cell_type": "code",
   "execution_count": null,
   "metadata": {},
   "outputs": [],
   "source": [
    "metrics_analysis_visualization.dash_app.run(port=8000)"
   ]
  },
  {
   "cell_type": "code",
   "execution_count": null,
   "metadata": {},
   "outputs": [],
   "source": [
    "entropy_analysis = WritingStyleEntropyAnalysis(\n",
    "    settings=settings,\n",
    "    feature_extractor=feature_extractor,\n",
    ")\n",
    "entropy_analysis_results = entropy_analysis.analyze(\n",
    "    preprocessing_results=preprocessing_results,\n",
    "    metrics_analysis_results=metrics_analysis_results\n",
    ")"
   ]
  },
  {
   "cell_type": "code",
   "execution_count": null,
   "metadata": {},
   "outputs": [],
   "source": [
    "entropy_analysis = WritingStyleEntropyAnalysis(\n",
    "    settings=settings,\n",
    "    feature_extractor=feature_extractor,\n",
    ")\n",
    "entropy_analysis._calculate_entropies_average_data(entropy_results=entropy_analysis_results)"
   ]
  },
  {
   "cell_type": "code",
   "execution_count": 35,
   "metadata": {},
   "outputs": [
    {
     "data": {
      "text/markdown": [
       "**some**"
      ],
      "text/plain": [
       "<IPython.core.display.Markdown object>"
      ]
     },
     "metadata": {},
     "output_type": "display_data"
    }
   ],
   "source": [
    "entropy_analysis_visualization = WritingStyleEntropyAnalysisVisualization(\n",
    "    entropy_analysis_results=entropy_analysis_results,\n",
    "    preprocessing_results=preprocessing_results,\n",
    "    feature_extractor=feature_extractor\n",
    ")\n",
    "entropy_analysis_visualization.visualize()"
   ]
  },
  {
   "cell_type": "code",
   "execution_count": null,
   "metadata": {},
   "outputs": [
    {
     "data": {
      "text/html": [
       "\n",
       "        <iframe\n",
       "            width=\"100%\"\n",
       "            height=\"800\"\n",
       "            src=\"http://127.0.0.1:8001/\"\n",
       "            frameborder=\"0\"\n",
       "            allowfullscreen\n",
       "            \n",
       "        ></iframe>\n",
       "        "
      ],
      "text/plain": [
       "<IPython.lib.display.IFrame at 0x1f19f55e480>"
      ]
     },
     "metadata": {},
     "output_type": "display_data"
    }
   ],
   "source": [
    "entropy_analysis_visualization.dash_app.run(port=8001)"
   ]
  },
  {
   "cell_type": "code",
   "execution_count": null,
   "metadata": {},
   "outputs": [],
   "source": [
    "pca_analysis_results = WritingStylePCAAnalysis(\n",
    "    settings=settings,\n",
    "    feature_extractor=feature_extractor\n",
    ").get_pca_analysis(metrics_analysis_results=metrics_analysis_results)"
   ]
  },
  {
   "cell_type": "code",
   "execution_count": null,
   "metadata": {},
   "outputs": [],
   "source": [
    "pca_analysis_visualization = WritingStylePCAAnalysisVisualization(pca_analysis_results=pca_analysis_results)\n",
    "pca_analysis_visualization.visualize_top_features(pca_analysis_results)"
   ]
  },
  {
   "cell_type": "code",
   "execution_count": null,
   "metadata": {},
   "outputs": [],
   "source": [
    "pca_analysis_visualization.dash_app.run(port=8002)"
   ]
  },
  {
   "cell_type": "code",
   "execution_count": null,
   "metadata": {},
   "outputs": [],
   "source": [
    "if os.path.exists(settings.paths.ws_dataset_dump_file):\n",
    "    os.remove(settings.paths.ws_dataset_dump_file)\n",
    "with open(settings.paths.ws_dataset_dump_file, 'wb') as file:\n",
    "    dill.dump(\n",
    "        obj={\n",
    "            \"dataset\": dataset,\n",
    "            \"preprocessing_results\": preprocessing_results,\n",
    "            \"metrics_analysis_results\": metrics_analysis_results,\n",
    "            \"feature_extractor\": feature_extractor,\n",
    "            \"entropy_analysis_results\": entropy_analysis_results,\n",
    "            \"pca_analysis_results\": pca_analysis_results,\n",
    "        },  \n",
    "        file=file\n",
    "    )"
   ]
  }
 ],
 "metadata": {
  "kernelspec": {
   "display_name": ".venv",
   "language": "python",
   "name": "python3"
  },
  "language_info": {
   "codemirror_mode": {
    "name": "ipython",
    "version": 3
   },
   "file_extension": ".py",
   "mimetype": "text/x-python",
   "name": "python",
   "nbconvert_exporter": "python",
   "pygments_lexer": "ipython3",
   "version": "3.12.1"
  }
 },
 "nbformat": 4,
 "nbformat_minor": 2
}
