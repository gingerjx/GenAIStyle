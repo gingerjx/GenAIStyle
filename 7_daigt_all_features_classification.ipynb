{
 "cells": [
  {
   "cell_type": "code",
   "execution_count": 1,
   "metadata": {},
   "outputs": [],
   "source": [
    "from src import *\n",
    "import dill\n",
    "import os"
   ]
  },
  {
   "cell_type": "code",
   "execution_count": 2,
   "metadata": {},
   "outputs": [],
   "source": [
    "settings = Settings()"
   ]
  },
  {
   "cell_type": "code",
   "execution_count": 3,
   "metadata": {},
   "outputs": [],
   "source": [
    "dump_dict = None\n",
    "with open(settings.paths.daigt_dataset_dump_file, 'rb') as file:\n",
    "    dump_dict = dill.load(file)\n",
    "\n",
    "metrics_analysis_results = dump_dict['metrics_analysis_results']\n",
    "feature_extractor = dump_dict['feature_extractor']"
   ]
  },
  {
   "cell_type": "markdown",
   "metadata": {},
   "source": [
    "### XGBoost"
   ]
  },
  {
   "cell_type": "code",
   "execution_count": 4,
   "metadata": {},
   "outputs": [
    {
     "name": "stdout",
     "output_type": "stream",
     "text": [
      "[16:23:29] Step 1\n",
      "[16:23:29] Step 2\n",
      "[16:23:30] Step 3\n",
      "[16:23:30] Step 4\n",
      "[16:23:30] Step 5\n",
      "[16:23:30] Step 6\n",
      "[16:23:30] Step 7\n",
      "[16:23:33] Step 8\n",
      "[16:23:33] Step 9\n"
     ]
    },
    {
     "data": {
      "text/plain": [
       "0.9368169646088153"
      ]
     },
     "execution_count": 4,
     "metadata": {},
     "output_type": "execute_result"
    }
   ],
   "source": [
    "xgboost_results = DaigtAllFeaturesXGBoostClassification(\n",
    "    settings=settings, \n",
    "    feature_extractor=feature_extractor\n",
    ").fit_and_predict(metrics_analysis_results)\n",
    "xgboost_results.all_chunks_binary_classification.accuracy"
   ]
  }
 ],
 "metadata": {
  "kernelspec": {
   "display_name": ".venv",
   "language": "python",
   "name": "python3"
  },
  "language_info": {
   "codemirror_mode": {
    "name": "ipython",
    "version": 3
   },
   "file_extension": ".py",
   "mimetype": "text/x-python",
   "name": "python",
   "nbconvert_exporter": "python",
   "pygments_lexer": "ipython3",
   "version": "3.12.1"
  }
 },
 "nbformat": 4,
 "nbformat_minor": 2
}
