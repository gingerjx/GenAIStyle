{
 "cells": [
  {
   "cell_type": "code",
   "execution_count": 28,
   "metadata": {},
   "outputs": [],
   "source": [
    "from typing import List, Dict\n",
    "\n",
    "def _find_shortest_unique_subsequence(words: List[str], prev_start: int, current_start: int) -> int:\n",
    "    shift = 1\n",
    "    while len(words) >= current_start + shift:\n",
    "        if words[prev_start : prev_start+shift] == words[current_start : current_start+shift]:\n",
    "            shift += 1\n",
    "        else:\n",
    "            return shift\n",
    "    return shift"
   ]
  },
  {
   "cell_type": "code",
   "execution_count": 29,
   "metadata": {},
   "outputs": [],
   "source": [
    "def find_shortest_unique_subsequence(words: List[str], words_dict: Dict[str, List[int]], current_start: int) -> int:\n",
    "    word = words[current_start]\n",
    "    indices = words_dict[word]\n",
    "    results = []\n",
    "\n",
    "    for prev_start in indices:\n",
    "        results.append(_find_shortest_unique_subsequence(\n",
    "                words=words,\n",
    "                prev_start=prev_start, \n",
    "                current_start=current_start\n",
    "            )\n",
    "        )\n",
    "\n",
    "    return max(results)"
   ]
  },
  {
   "cell_type": "code",
   "execution_count": 30,
   "metadata": {},
   "outputs": [],
   "source": [
    "words = [\"To\", \"not\", \"space\", 'to', \"be\", 'to', 'be', \"cr\", \"nice\"]"
   ]
  },
  {
   "cell_type": "code",
   "execution_count": 31,
   "metadata": {},
   "outputs": [
    {
     "name": "stdout",
     "output_type": "stream",
     "text": [
      "[1, 1, 1, 2, 1, 3, 2, 1, 1]\n"
     ]
    }
   ],
   "source": [
    "words_lower = [word.lower() for word in words]\n",
    "words_dict = {word: [] for word in set(words_lower)}\n",
    "N = len(words_lower)\n",
    "final_results = []\n",
    "\n",
    "\n",
    "for current_start in range(N):\n",
    "    word = words_lower[current_start]\n",
    "\n",
    "    if final_results and final_results[-1] > 1:\n",
    "        final_results.append(final_results[-1] - 1)\n",
    "        words_dict[word].append(current_start)\n",
    "        continue\n",
    "\n",
    "    if len(words_dict[word]) > 0:\n",
    "        final_results.append(find_shortest_unique_subsequence(\n",
    "            words=words_lower,\n",
    "            words_dict=words_dict,\n",
    "            current_start=current_start\n",
    "        ))\n",
    "    else:\n",
    "        final_results.append(1)\n",
    "\n",
    "    words_dict[word].append(current_start)\n",
    "\n",
    "print(final_results)"
   ]
  }
 ],
 "metadata": {
  "kernelspec": {
   "display_name": ".venv",
   "language": "python",
   "name": "python3"
  },
  "language_info": {
   "codemirror_mode": {
    "name": "ipython",
    "version": 3
   },
   "file_extension": ".py",
   "mimetype": "text/x-python",
   "name": "python",
   "nbconvert_exporter": "python",
   "pygments_lexer": "ipython3",
   "version": "3.12.1"
  }
 },
 "nbformat": 4,
 "nbformat_minor": 2
}
