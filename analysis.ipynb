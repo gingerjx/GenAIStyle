{
 "cells": [
  {
   "cell_type": "markdown",
   "metadata": {},
   "source": [
    "# Analysis\n",
    "\n",
    "Notebook reads the list of the selected authors from `res/selected/author_list` and loads their text data from book and genereted resources available in `res` directory.\n",
    "Displayed data:\n",
    "- Notebook displays the number of words per each source-author pair.\n",
    "- Analysis on chunk of `configuration.analysis_size` size\n",
    "    - Average word length\n",
    "    - Average sentence length\n",
    "    - Unique words count\n",
    "    - Top 10 function words\n",
    "\n",
    "Further work on that notebook is planned.\n",
    "\n",
    "*Note: the list of function words are taken from [functionwords](https://pypi.org/project/functionwords/) package.*"
   ]
  },
  {
   "cell_type": "code",
   "execution_count": 10,
   "metadata": {},
   "outputs": [
    {
     "name": "stdout",
     "output_type": "stream",
     "text": [
      "The autoreload extension is already loaded. To reload it, use:\n",
      "  %reload_ext autoreload\n"
     ]
    }
   ],
   "source": [
    "%load_ext autoreload\n",
    "%autoreload 2\n",
    "\n",
    "from src import *"
   ]
  },
  {
   "cell_type": "code",
   "execution_count": 11,
   "metadata": {},
   "outputs": [],
   "source": [
    "settings = Settings()"
   ]
  },
  {
   "cell_type": "code",
   "execution_count": 12,
   "metadata": {},
   "outputs": [],
   "source": [
    "cleaner = Cleaner(settings)\n",
    "if not cleaner.cleaned_generated_corpus_exists():\n",
    "    print(\"Cleaning generated corpus...\")\n",
    "    cleaner.clean_generated_corpus()    \n",
    "if not cleaner.cleaned_books_corpus_exists():\n",
    "    print(\"Cleaning books corpus...\")\n",
    "    cleaner.clean_books_corpus()"
   ]
  },
  {
   "cell_type": "code",
   "execution_count": 13,
   "metadata": {},
   "outputs": [
    {
     "name": "stdout",
     "output_type": "stream",
     "text": [
      "Reading authors' collections...\n"
     ]
    }
   ],
   "source": [
    "print(\"Reading authors' collections...\")\n",
    "authors = []\n",
    "for author_name in FileUtils.read_authors(settings.paths.selected_authors_filepath):\n",
    "    author = Author(\n",
    "        settings=settings,\n",
    "        name=author_name\n",
    "    )\n",
    "    author.read_selected_books_collection()\n",
    "    author.read_generated_texts()\n",
    "    authors.append(author)"
   ]
  },
  {
   "cell_type": "code",
   "execution_count": 14,
   "metadata": {},
   "outputs": [
    {
     "name": "stdout",
     "output_type": "stream",
     "text": [
      "Preprocessing collections...\n"
     ]
    }
   ],
   "source": [
    "print(\"Preprocessing collections...\")\n",
    "preprocessing_data = Preprocessing(settings, authors).preprocess()"
   ]
  },
  {
   "cell_type": "code",
   "execution_count": 15,
   "metadata": {},
   "outputs": [],
   "source": [
    "analysis = Analysis(\n",
    "    settings=settings,\n",
    "    authors=authors,\n",
    "    preprocessing_data=preprocessing_data,\n",
    "    read_from_file=settings.configuration.read_analysis_from_file\n",
    ")"
   ]
  },
  {
   "cell_type": "code",
   "execution_count": 24,
   "metadata": {},
   "outputs": [
    {
     "name": "stdout",
     "output_type": "stream",
     "text": [
      "Analysing collections using sample of 10000 words per collection...\n",
      "Text removed while cleaning: 0.9401511228114402%.\n"
     ]
    }
   ],
   "source": [
    "print(f\"Analysing collections using sample of {settings.configuration.analysis_size} words per collection...\")\n",
    "analysis_data = analysis.get_analysis(authors)\n",
    "print(f\"Text removed while cleaning: {analysis_data.percentage_of_removed_text}%.\")"
   ]
  },
  {
   "cell_type": "code",
   "execution_count": 50,
   "metadata": {},
   "outputs": [
    {
     "data": {
      "application/vnd.plotly.v1+json": {
       "config": {
        "plotlyServerURL": "https://plot.ly"
       },
       "data": [
        {
         "marker": {
          "color": "#3498db"
         },
         "mode": "markers",
         "name": "books",
         "showlegend": true,
         "text": [
          "books"
         ],
         "type": "scatter",
         "x": [
          -8.64867916313757
         ],
         "xaxis": "x",
         "y": [
          -2.871516101579778
         ],
         "yaxis": "y"
        },
        {
         "marker": {
          "color": "#e74c3c"
         },
         "mode": "markers",
         "name": "gpt-3.5-turbo-0125",
         "showlegend": true,
         "text": [
          "gpt-3.5-turbo-0125"
         ],
         "type": "scatter",
         "x": [
          -0.02573627415514252
         ],
         "xaxis": "x",
         "y": [
          3.0949222871456152
         ],
         "yaxis": "y"
        },
        {
         "marker": {
          "color": "#2ecc71"
         },
         "mode": "markers",
         "name": "gpt-4o",
         "showlegend": true,
         "text": [
          "gpt-4o"
         ],
         "type": "scatter",
         "x": [
          1.0860218257779621
         ],
         "xaxis": "x",
         "y": [
          2.626756277791551
         ],
         "yaxis": "y"
        },
        {
         "marker": {
          "color": "#f1c40f"
         },
         "mode": "markers",
         "name": "gemini-1.5-flash",
         "showlegend": true,
         "text": [
          "gemini-1.5-flash"
         ],
         "type": "scatter",
         "x": [
          5.97984446996835
         ],
         "xaxis": "x",
         "y": [
          -4.636606110035657
         ],
         "yaxis": "y"
        },
        {
         "marker": {
          "color": "#9b59b6"
         },
         "mode": "markers",
         "name": "open-mixtral-8x7b",
         "showlegend": true,
         "text": [
          "open-mixtral-8x7b"
         ],
         "type": "scatter",
         "x": [
          0.40602670314501155
         ],
         "xaxis": "x",
         "y": [
          2.5485880567279757
         ],
         "yaxis": "y"
        },
        {
         "marker": {
          "color": "#e67e22"
         },
         "mode": "markers",
         "name": "claude-3-haiku-20240307",
         "showlegend": true,
         "text": [
          "claude-3-haiku-20240307"
         ],
         "type": "scatter",
         "x": [
          1.202522438401383
         ],
         "xaxis": "x",
         "y": [
          -0.7621444100497077
         ],
         "yaxis": "y"
        },
        {
         "marker": {
          "color": "#3498db"
         },
         "mode": "markers",
         "name": "books",
         "showlegend": false,
         "text": [
          "books"
         ],
         "type": "scatter",
         "x": [
          8.86752639418269
         ],
         "xaxis": "x2",
         "y": [
          -0.8349116053902248
         ],
         "yaxis": "y2"
        },
        {
         "marker": {
          "color": "#e74c3c"
         },
         "mode": "markers",
         "name": "gpt-3.5-turbo-0125",
         "showlegend": false,
         "text": [
          "gpt-3.5-turbo-0125"
         ],
         "type": "scatter",
         "x": [
          -2.1437882150316185
         ],
         "xaxis": "x2",
         "y": [
          -2.978192609868151
         ],
         "yaxis": "y2"
        },
        {
         "marker": {
          "color": "#2ecc71"
         },
         "mode": "markers",
         "name": "gpt-4o",
         "showlegend": false,
         "text": [
          "gpt-4o"
         ],
         "type": "scatter",
         "x": [
          -0.2771288474076811
         ],
         "xaxis": "x2",
         "y": [
          2.2318829945167735
         ],
         "yaxis": "y2"
        },
        {
         "marker": {
          "color": "#f1c40f"
         },
         "mode": "markers",
         "name": "gemini-1.5-flash",
         "showlegend": false,
         "text": [
          "gemini-1.5-flash"
         ],
         "type": "scatter",
         "x": [
          -1.596034959416161
         ],
         "xaxis": "x2",
         "y": [
          5.2555947799194
         ],
         "yaxis": "y2"
        },
        {
         "marker": {
          "color": "#9b59b6"
         },
         "mode": "markers",
         "name": "open-mixtral-8x7b",
         "showlegend": false,
         "text": [
          "open-mixtral-8x7b"
         ],
         "type": "scatter",
         "x": [
          -2.1503261313264024
         ],
         "xaxis": "x2",
         "y": [
          0.18893203200186542
         ],
         "yaxis": "y2"
        },
        {
         "marker": {
          "color": "#e67e22"
         },
         "mode": "markers",
         "name": "claude-3-haiku-20240307",
         "showlegend": false,
         "text": [
          "claude-3-haiku-20240307"
         ],
         "type": "scatter",
         "x": [
          -2.7002482410008284
         ],
         "xaxis": "x2",
         "y": [
          -3.863305591179664
         ],
         "yaxis": "y2"
        },
        {
         "marker": {
          "color": "#3498db"
         },
         "mode": "markers",
         "name": "books",
         "showlegend": false,
         "text": [
          "books"
         ],
         "type": "scatter",
         "x": [
          10.946517935966416
         ],
         "xaxis": "x3",
         "y": [
          0.7598803545562319
         ],
         "yaxis": "y3"
        },
        {
         "marker": {
          "color": "#e74c3c"
         },
         "mode": "markers",
         "name": "gpt-3.5-turbo-0125",
         "showlegend": false,
         "text": [
          "gpt-3.5-turbo-0125"
         ],
         "type": "scatter",
         "x": [
          -1.2725591822716735
         ],
         "xaxis": "x3",
         "y": [
          -0.5334521778323463
         ],
         "yaxis": "y3"
        },
        {
         "marker": {
          "color": "#2ecc71"
         },
         "mode": "markers",
         "name": "gpt-4o",
         "showlegend": false,
         "text": [
          "gpt-4o"
         ],
         "type": "scatter",
         "x": [
          -0.9980250337053461
         ],
         "xaxis": "x3",
         "y": [
          -1.1143938157277165
         ],
         "yaxis": "y3"
        },
        {
         "marker": {
          "color": "#f1c40f"
         },
         "mode": "markers",
         "name": "gemini-1.5-flash",
         "showlegend": false,
         "text": [
          "gemini-1.5-flash"
         ],
         "type": "scatter",
         "x": [
          -1.8849194545564663
         ],
         "xaxis": "x3",
         "y": [
          -4.762983774590463
         ],
         "yaxis": "y3"
        },
        {
         "marker": {
          "color": "#9b59b6"
         },
         "mode": "markers",
         "name": "open-mixtral-8x7b",
         "showlegend": false,
         "text": [
          "open-mixtral-8x7b"
         ],
         "type": "scatter",
         "x": [
          -3.316482987574147
         ],
         "xaxis": "x3",
         "y": [
          3.4639627207509576
         ],
         "yaxis": "y3"
        },
        {
         "marker": {
          "color": "#e67e22"
         },
         "mode": "markers",
         "name": "claude-3-haiku-20240307",
         "showlegend": false,
         "text": [
          "claude-3-haiku-20240307"
         ],
         "type": "scatter",
         "x": [
          -3.474531277858785
         ],
         "xaxis": "x3",
         "y": [
          2.186986692843336
         ],
         "yaxis": "y3"
        },
        {
         "marker": {
          "color": "#3498db"
         },
         "mode": "markers",
         "name": "books",
         "showlegend": false,
         "text": [
          "books"
         ],
         "type": "scatter",
         "x": [
          9.481087487136197
         ],
         "xaxis": "x4",
         "y": [
          0.10609666518809406
         ],
         "yaxis": "y4"
        },
        {
         "marker": {
          "color": "#e74c3c"
         },
         "mode": "markers",
         "name": "gpt-3.5-turbo-0125",
         "showlegend": false,
         "text": [
          "gpt-3.5-turbo-0125"
         ],
         "type": "scatter",
         "x": [
          -1.511841691316706
         ],
         "xaxis": "x4",
         "y": [
          -1.6292197965075865
         ],
         "yaxis": "y4"
        },
        {
         "marker": {
          "color": "#2ecc71"
         },
         "mode": "markers",
         "name": "gpt-4o",
         "showlegend": false,
         "text": [
          "gpt-4o"
         ],
         "type": "scatter",
         "x": [
          -2.0614166050110363
         ],
         "xaxis": "x4",
         "y": [
          -2.7209582183978918
         ],
         "yaxis": "y4"
        },
        {
         "marker": {
          "color": "#f1c40f"
         },
         "mode": "markers",
         "name": "gemini-1.5-flash",
         "showlegend": false,
         "text": [
          "gemini-1.5-flash"
         ],
         "type": "scatter",
         "x": [
          -1.7231064896146464
         ],
         "xaxis": "x4",
         "y": [
          -2.1470112225930436
         ],
         "yaxis": "y4"
        },
        {
         "marker": {
          "color": "#9b59b6"
         },
         "mode": "markers",
         "name": "open-mixtral-8x7b",
         "showlegend": false,
         "text": [
          "open-mixtral-8x7b"
         ],
         "type": "scatter",
         "x": [
          -2.3004330128104957
         ],
         "xaxis": "x4",
         "y": [
          1.7660304194390444
         ],
         "yaxis": "y4"
        },
        {
         "marker": {
          "color": "#e67e22"
         },
         "mode": "markers",
         "name": "claude-3-haiku-20240307",
         "showlegend": false,
         "text": [
          "claude-3-haiku-20240307"
         ],
         "type": "scatter",
         "x": [
          -1.8842896883833116
         ],
         "xaxis": "x4",
         "y": [
          4.625062152871385
         ],
         "yaxis": "y4"
        },
        {
         "marker": {
          "color": "#3498db"
         },
         "mode": "markers",
         "name": "books",
         "showlegend": false,
         "text": [
          "books"
         ],
         "type": "scatter",
         "x": [
          10.294705326303927
         ],
         "xaxis": "x5",
         "y": [
          -0.12141294149350705
         ],
         "yaxis": "y5"
        },
        {
         "marker": {
          "color": "#e74c3c"
         },
         "mode": "markers",
         "name": "gpt-3.5-turbo-0125",
         "showlegend": false,
         "text": [
          "gpt-3.5-turbo-0125"
         ],
         "type": "scatter",
         "x": [
          -1.1424698482247577
         ],
         "xaxis": "x5",
         "y": [
          4.973008299244858
         ],
         "yaxis": "y5"
        },
        {
         "marker": {
          "color": "#2ecc71"
         },
         "mode": "markers",
         "name": "gpt-4o",
         "showlegend": false,
         "text": [
          "gpt-4o"
         ],
         "type": "scatter",
         "x": [
          -1.9474954001862586
         ],
         "xaxis": "x5",
         "y": [
          -0.5760858899610367
         ],
         "yaxis": "y5"
        },
        {
         "marker": {
          "color": "#f1c40f"
         },
         "mode": "markers",
         "name": "gemini-1.5-flash",
         "showlegend": false,
         "text": [
          "gemini-1.5-flash"
         ],
         "type": "scatter",
         "x": [
          -1.5149076679979054
         ],
         "xaxis": "x5",
         "y": [
          -4.736769124690417
         ],
         "yaxis": "y5"
        },
        {
         "marker": {
          "color": "#9b59b6"
         },
         "mode": "markers",
         "name": "open-mixtral-8x7b",
         "showlegend": false,
         "text": [
          "open-mixtral-8x7b"
         ],
         "type": "scatter",
         "x": [
          -2.937486249608331
         ],
         "xaxis": "x5",
         "y": [
          0.5224354800553406
         ],
         "yaxis": "y5"
        },
        {
         "marker": {
          "color": "#e67e22"
         },
         "mode": "markers",
         "name": "claude-3-haiku-20240307",
         "showlegend": false,
         "text": [
          "claude-3-haiku-20240307"
         ],
         "type": "scatter",
         "x": [
          -2.7523461602866757
         ],
         "xaxis": "x5",
         "y": [
          -0.06117582315523732
         ],
         "yaxis": "y5"
        },
        {
         "marker": {
          "color": "#3498db"
         },
         "mode": "markers",
         "name": "books",
         "showlegend": false,
         "text": [
          "books"
         ],
         "type": "scatter",
         "x": [
          -9.406181346376709
         ],
         "xaxis": "x6",
         "y": [
          -0.5691399038213509
         ],
         "yaxis": "y6"
        },
        {
         "marker": {
          "color": "#e74c3c"
         },
         "mode": "markers",
         "name": "gpt-3.5-turbo-0125",
         "showlegend": false,
         "text": [
          "gpt-3.5-turbo-0125"
         ],
         "type": "scatter",
         "x": [
          1.90038640513813
         ],
         "xaxis": "x6",
         "y": [
          -2.4286751586602557
         ],
         "yaxis": "y6"
        },
        {
         "marker": {
          "color": "#2ecc71"
         },
         "mode": "markers",
         "name": "gpt-4o",
         "showlegend": false,
         "text": [
          "gpt-4o"
         ],
         "type": "scatter",
         "x": [
          3.0859660999749776
         ],
         "xaxis": "x6",
         "y": [
          0.06164346145339583
         ],
         "yaxis": "y6"
        },
        {
         "marker": {
          "color": "#f1c40f"
         },
         "mode": "markers",
         "name": "gemini-1.5-flash",
         "showlegend": false,
         "text": [
          "gemini-1.5-flash"
         ],
         "type": "scatter",
         "x": [
          1.0434101788448784
         ],
         "xaxis": "x6",
         "y": [
          6.553100402767204
         ],
         "yaxis": "y6"
        },
        {
         "marker": {
          "color": "#9b59b6"
         },
         "mode": "markers",
         "name": "open-mixtral-8x7b",
         "showlegend": false,
         "text": [
          "open-mixtral-8x7b"
         ],
         "type": "scatter",
         "x": [
          2.601242196591795
         ],
         "xaxis": "x6",
         "y": [
          -2.717347475000466
         ],
         "yaxis": "y6"
        },
        {
         "marker": {
          "color": "#e67e22"
         },
         "mode": "markers",
         "name": "claude-3-haiku-20240307",
         "showlegend": false,
         "text": [
          "claude-3-haiku-20240307"
         ],
         "type": "scatter",
         "x": [
          0.7751764658269257
         ],
         "xaxis": "x6",
         "y": [
          -0.8995813267385264
         ],
         "yaxis": "y6"
        },
        {
         "marker": {
          "color": "#3498db"
         },
         "mode": "markers",
         "name": "books",
         "showlegend": false,
         "text": [
          "books"
         ],
         "type": "scatter",
         "x": [
          8.643674060890161
         ],
         "xaxis": "x7",
         "y": [
          -0.6916515015923974
         ],
         "yaxis": "y7"
        },
        {
         "marker": {
          "color": "#e74c3c"
         },
         "mode": "markers",
         "name": "gpt-3.5-turbo-0125",
         "showlegend": false,
         "text": [
          "gpt-3.5-turbo-0125"
         ],
         "type": "scatter",
         "x": [
          -2.203246593912503
         ],
         "xaxis": "x7",
         "y": [
          -2.431624553481965
         ],
         "yaxis": "y7"
        },
        {
         "marker": {
          "color": "#2ecc71"
         },
         "mode": "markers",
         "name": "gpt-4o",
         "showlegend": false,
         "text": [
          "gpt-4o"
         ],
         "type": "scatter",
         "x": [
          -1.619091143597484
         ],
         "xaxis": "x7",
         "y": [
          0.4865566164907559
         ],
         "yaxis": "y7"
        },
        {
         "marker": {
          "color": "#f1c40f"
         },
         "mode": "markers",
         "name": "gemini-1.5-flash",
         "showlegend": false,
         "text": [
          "gemini-1.5-flash"
         ],
         "type": "scatter",
         "x": [
          -1.0737476294099444
         ],
         "xaxis": "x7",
         "y": [
          7.93894851749617
         ],
         "yaxis": "y7"
        },
        {
         "marker": {
          "color": "#9b59b6"
         },
         "mode": "markers",
         "name": "open-mixtral-8x7b",
         "showlegend": false,
         "text": [
          "open-mixtral-8x7b"
         ],
         "type": "scatter",
         "x": [
          -1.8388315047825003
         ],
         "xaxis": "x7",
         "y": [
          -2.6816982492878103
         ],
         "yaxis": "y7"
        },
        {
         "marker": {
          "color": "#e67e22"
         },
         "mode": "markers",
         "name": "claude-3-haiku-20240307",
         "showlegend": false,
         "text": [
          "claude-3-haiku-20240307"
         ],
         "type": "scatter",
         "x": [
          -1.9087571891877309
         ],
         "xaxis": "x7",
         "y": [
          -2.6205308296247525
         ],
         "yaxis": "y7"
        },
        {
         "marker": {
          "color": "#3498db"
         },
         "mode": "markers",
         "name": "books",
         "showlegend": false,
         "text": [
          "books"
         ],
         "type": "scatter",
         "x": [
          8.887413246501678
         ],
         "xaxis": "x8",
         "y": [
          -1.0279667065049625
         ],
         "yaxis": "y8"
        },
        {
         "marker": {
          "color": "#e74c3c"
         },
         "mode": "markers",
         "name": "gpt-3.5-turbo-0125",
         "showlegend": false,
         "text": [
          "gpt-3.5-turbo-0125"
         ],
         "type": "scatter",
         "x": [
          -0.8295380360691051
         ],
         "xaxis": "x8",
         "y": [
          -1.762407038207186
         ],
         "yaxis": "y8"
        },
        {
         "marker": {
          "color": "#2ecc71"
         },
         "mode": "markers",
         "name": "gpt-4o",
         "showlegend": false,
         "text": [
          "gpt-4o"
         ],
         "type": "scatter",
         "x": [
          -2.163374230310597
         ],
         "xaxis": "x8",
         "y": [
          -2.7405220963410737
         ],
         "yaxis": "y8"
        },
        {
         "marker": {
          "color": "#f1c40f"
         },
         "mode": "markers",
         "name": "gemini-1.5-flash",
         "showlegend": false,
         "text": [
          "gemini-1.5-flash"
         ],
         "type": "scatter",
         "x": [
          -3.7159877718893073
         ],
         "xaxis": "x8",
         "y": [
          -2.9808597537564268
         ],
         "yaxis": "y8"
        },
        {
         "marker": {
          "color": "#9b59b6"
         },
         "mode": "markers",
         "name": "open-mixtral-8x7b",
         "showlegend": false,
         "text": [
          "open-mixtral-8x7b"
         ],
         "type": "scatter",
         "x": [
          -1.0339485480628963
         ],
         "xaxis": "x8",
         "y": [
          3.7121411847668013
         ],
         "yaxis": "y8"
        },
        {
         "marker": {
          "color": "#e67e22"
         },
         "mode": "markers",
         "name": "claude-3-haiku-20240307",
         "showlegend": false,
         "text": [
          "claude-3-haiku-20240307"
         ],
         "type": "scatter",
         "x": [
          -1.1445646601697745
         ],
         "xaxis": "x8",
         "y": [
          4.799614410042846
         ],
         "yaxis": "y8"
        },
        {
         "marker": {
          "color": "#3498db"
         },
         "mode": "markers",
         "name": "books",
         "showlegend": false,
         "text": [
          "books"
         ],
         "type": "scatter",
         "x": [
          9.876503412645356
         ],
         "xaxis": "x9",
         "y": [
          -0.6278398404666337
         ],
         "yaxis": "y9"
        },
        {
         "marker": {
          "color": "#e74c3c"
         },
         "mode": "markers",
         "name": "gpt-3.5-turbo-0125",
         "showlegend": false,
         "text": [
          "gpt-3.5-turbo-0125"
         ],
         "type": "scatter",
         "x": [
          -2.57469796124658
         ],
         "xaxis": "x9",
         "y": [
          0.36083882862752176
         ],
         "yaxis": "y9"
        },
        {
         "marker": {
          "color": "#2ecc71"
         },
         "mode": "markers",
         "name": "gpt-4o",
         "showlegend": false,
         "text": [
          "gpt-4o"
         ],
         "type": "scatter",
         "x": [
          -1.5828238230422729
         ],
         "xaxis": "x9",
         "y": [
          -1.282409777040104
         ],
         "yaxis": "y9"
        },
        {
         "marker": {
          "color": "#f1c40f"
         },
         "mode": "markers",
         "name": "gemini-1.5-flash",
         "showlegend": false,
         "text": [
          "gemini-1.5-flash"
         ],
         "type": "scatter",
         "x": [
          -2.321756580831339
         ],
         "xaxis": "x9",
         "y": [
          -4.28638280561254
         ],
         "yaxis": "y9"
        },
        {
         "marker": {
          "color": "#9b59b6"
         },
         "mode": "markers",
         "name": "open-mixtral-8x7b",
         "showlegend": false,
         "text": [
          "open-mixtral-8x7b"
         ],
         "type": "scatter",
         "x": [
          -0.827019855726815
         ],
         "xaxis": "x9",
         "y": [
          5.8211447029316545
         ],
         "yaxis": "y9"
        },
        {
         "marker": {
          "color": "#e67e22"
         },
         "mode": "markers",
         "name": "claude-3-haiku-20240307",
         "showlegend": false,
         "text": [
          "claude-3-haiku-20240307"
         ],
         "type": "scatter",
         "x": [
          -2.570205191798343
         ],
         "xaxis": "x9",
         "y": [
          0.014648891560101362
         ],
         "yaxis": "y9"
        },
        {
         "marker": {
          "color": "#3498db"
         },
         "mode": "markers",
         "name": "books",
         "showlegend": false,
         "text": [
          "books"
         ],
         "type": "scatter",
         "x": [
          10.912206818956026
         ],
         "xaxis": "x10",
         "y": [
          -1.178981215821907
         ],
         "yaxis": "y10"
        },
        {
         "marker": {
          "color": "#e74c3c"
         },
         "mode": "markers",
         "name": "gpt-3.5-turbo-0125",
         "showlegend": false,
         "text": [
          "gpt-3.5-turbo-0125"
         ],
         "type": "scatter",
         "x": [
          -3.419462566031308
         ],
         "xaxis": "x10",
         "y": [
          -2.99543459684423
         ],
         "yaxis": "y10"
        },
        {
         "marker": {
          "color": "#2ecc71"
         },
         "mode": "markers",
         "name": "gpt-4o",
         "showlegend": false,
         "text": [
          "gpt-4o"
         ],
         "type": "scatter",
         "x": [
          -2.354097005142346
         ],
         "xaxis": "x10",
         "y": [
          0.9023053170760749
         ],
         "yaxis": "y10"
        },
        {
         "marker": {
          "color": "#f1c40f"
         },
         "mode": "markers",
         "name": "gemini-1.5-flash",
         "showlegend": false,
         "text": [
          "gemini-1.5-flash"
         ],
         "type": "scatter",
         "x": [
          0.13613365980104444
         ],
         "xaxis": "x10",
         "y": [
          5.048263229826449
         ],
         "yaxis": "y10"
        },
        {
         "marker": {
          "color": "#9b59b6"
         },
         "mode": "markers",
         "name": "open-mixtral-8x7b",
         "showlegend": false,
         "text": [
          "open-mixtral-8x7b"
         ],
         "type": "scatter",
         "x": [
          -1.8523574964216762
         ],
         "xaxis": "x10",
         "y": [
          -1.2861629535072236
         ],
         "yaxis": "y10"
        },
        {
         "marker": {
          "color": "#e67e22"
         },
         "mode": "markers",
         "name": "claude-3-haiku-20240307",
         "showlegend": false,
         "text": [
          "claude-3-haiku-20240307"
         ],
         "type": "scatter",
         "x": [
          -3.42242341116174
         ],
         "xaxis": "x10",
         "y": [
          -0.48998978072916305
         ],
         "yaxis": "y10"
        }
       ],
       "layout": {
        "annotations": [
         {
          "font": {
           "size": 16
          },
          "showarrow": false,
          "text": "Mark Twain",
          "x": 0.14444444444444446,
          "xanchor": "center",
          "xref": "paper",
          "y": 1,
          "yanchor": "bottom",
          "yref": "paper"
         },
         {
          "font": {
           "size": 16
          },
          "showarrow": false,
          "text": "Zane Grey",
          "x": 0.5,
          "xanchor": "center",
          "xref": "paper",
          "y": 1,
          "yanchor": "bottom",
          "yref": "paper"
         },
         {
          "font": {
           "size": 16
          },
          "showarrow": false,
          "text": "Joseph Conrad",
          "x": 0.8555555555555556,
          "xanchor": "center",
          "xref": "paper",
          "y": 1,
          "yanchor": "bottom",
          "yref": "paper"
         },
         {
          "font": {
           "size": 16
          },
          "showarrow": false,
          "text": "George Eliot",
          "x": 0.14444444444444446,
          "xanchor": "center",
          "xref": "paper",
          "y": 0.71875,
          "yanchor": "bottom",
          "yref": "paper"
         },
         {
          "font": {
           "size": 16
          },
          "showarrow": false,
          "text": "Benjamin Disraeli",
          "x": 0.5,
          "xanchor": "center",
          "xref": "paper",
          "y": 0.71875,
          "yanchor": "bottom",
          "yref": "paper"
         },
         {
          "font": {
           "size": 16
          },
          "showarrow": false,
          "text": "Lucy Maud Montgomery",
          "x": 0.8555555555555556,
          "xanchor": "center",
          "xref": "paper",
          "y": 0.71875,
          "yanchor": "bottom",
          "yref": "paper"
         },
         {
          "font": {
           "size": 16
          },
          "showarrow": false,
          "text": "William Henry Hudson",
          "x": 0.14444444444444446,
          "xanchor": "center",
          "xref": "paper",
          "y": 0.4375,
          "yanchor": "bottom",
          "yref": "paper"
         },
         {
          "font": {
           "size": 16
          },
          "showarrow": false,
          "text": "Howard Pyle",
          "x": 0.5,
          "xanchor": "center",
          "xref": "paper",
          "y": 0.4375,
          "yanchor": "bottom",
          "yref": "paper"
         },
         {
          "font": {
           "size": 16
          },
          "showarrow": false,
          "text": "Virginia Woolf",
          "x": 0.8555555555555556,
          "xanchor": "center",
          "xref": "paper",
          "y": 0.4375,
          "yanchor": "bottom",
          "yref": "paper"
         },
         {
          "font": {
           "size": 16
          },
          "showarrow": false,
          "text": "Lewis Carroll",
          "x": 0.14444444444444446,
          "xanchor": "center",
          "xref": "paper",
          "y": 0.15625,
          "yanchor": "bottom",
          "yref": "paper"
         }
        ],
        "height": 1500,
        "template": {
         "data": {
          "bar": [
           {
            "error_x": {
             "color": "#2a3f5f"
            },
            "error_y": {
             "color": "#2a3f5f"
            },
            "marker": {
             "line": {
              "color": "#E5ECF6",
              "width": 0.5
             },
             "pattern": {
              "fillmode": "overlay",
              "size": 10,
              "solidity": 0.2
             }
            },
            "type": "bar"
           }
          ],
          "barpolar": [
           {
            "marker": {
             "line": {
              "color": "#E5ECF6",
              "width": 0.5
             },
             "pattern": {
              "fillmode": "overlay",
              "size": 10,
              "solidity": 0.2
             }
            },
            "type": "barpolar"
           }
          ],
          "carpet": [
           {
            "aaxis": {
             "endlinecolor": "#2a3f5f",
             "gridcolor": "white",
             "linecolor": "white",
             "minorgridcolor": "white",
             "startlinecolor": "#2a3f5f"
            },
            "baxis": {
             "endlinecolor": "#2a3f5f",
             "gridcolor": "white",
             "linecolor": "white",
             "minorgridcolor": "white",
             "startlinecolor": "#2a3f5f"
            },
            "type": "carpet"
           }
          ],
          "choropleth": [
           {
            "colorbar": {
             "outlinewidth": 0,
             "ticks": ""
            },
            "type": "choropleth"
           }
          ],
          "contour": [
           {
            "colorbar": {
             "outlinewidth": 0,
             "ticks": ""
            },
            "colorscale": [
             [
              0,
              "#0d0887"
             ],
             [
              0.1111111111111111,
              "#46039f"
             ],
             [
              0.2222222222222222,
              "#7201a8"
             ],
             [
              0.3333333333333333,
              "#9c179e"
             ],
             [
              0.4444444444444444,
              "#bd3786"
             ],
             [
              0.5555555555555556,
              "#d8576b"
             ],
             [
              0.6666666666666666,
              "#ed7953"
             ],
             [
              0.7777777777777778,
              "#fb9f3a"
             ],
             [
              0.8888888888888888,
              "#fdca26"
             ],
             [
              1,
              "#f0f921"
             ]
            ],
            "type": "contour"
           }
          ],
          "contourcarpet": [
           {
            "colorbar": {
             "outlinewidth": 0,
             "ticks": ""
            },
            "type": "contourcarpet"
           }
          ],
          "heatmap": [
           {
            "colorbar": {
             "outlinewidth": 0,
             "ticks": ""
            },
            "colorscale": [
             [
              0,
              "#0d0887"
             ],
             [
              0.1111111111111111,
              "#46039f"
             ],
             [
              0.2222222222222222,
              "#7201a8"
             ],
             [
              0.3333333333333333,
              "#9c179e"
             ],
             [
              0.4444444444444444,
              "#bd3786"
             ],
             [
              0.5555555555555556,
              "#d8576b"
             ],
             [
              0.6666666666666666,
              "#ed7953"
             ],
             [
              0.7777777777777778,
              "#fb9f3a"
             ],
             [
              0.8888888888888888,
              "#fdca26"
             ],
             [
              1,
              "#f0f921"
             ]
            ],
            "type": "heatmap"
           }
          ],
          "heatmapgl": [
           {
            "colorbar": {
             "outlinewidth": 0,
             "ticks": ""
            },
            "colorscale": [
             [
              0,
              "#0d0887"
             ],
             [
              0.1111111111111111,
              "#46039f"
             ],
             [
              0.2222222222222222,
              "#7201a8"
             ],
             [
              0.3333333333333333,
              "#9c179e"
             ],
             [
              0.4444444444444444,
              "#bd3786"
             ],
             [
              0.5555555555555556,
              "#d8576b"
             ],
             [
              0.6666666666666666,
              "#ed7953"
             ],
             [
              0.7777777777777778,
              "#fb9f3a"
             ],
             [
              0.8888888888888888,
              "#fdca26"
             ],
             [
              1,
              "#f0f921"
             ]
            ],
            "type": "heatmapgl"
           }
          ],
          "histogram": [
           {
            "marker": {
             "pattern": {
              "fillmode": "overlay",
              "size": 10,
              "solidity": 0.2
             }
            },
            "type": "histogram"
           }
          ],
          "histogram2d": [
           {
            "colorbar": {
             "outlinewidth": 0,
             "ticks": ""
            },
            "colorscale": [
             [
              0,
              "#0d0887"
             ],
             [
              0.1111111111111111,
              "#46039f"
             ],
             [
              0.2222222222222222,
              "#7201a8"
             ],
             [
              0.3333333333333333,
              "#9c179e"
             ],
             [
              0.4444444444444444,
              "#bd3786"
             ],
             [
              0.5555555555555556,
              "#d8576b"
             ],
             [
              0.6666666666666666,
              "#ed7953"
             ],
             [
              0.7777777777777778,
              "#fb9f3a"
             ],
             [
              0.8888888888888888,
              "#fdca26"
             ],
             [
              1,
              "#f0f921"
             ]
            ],
            "type": "histogram2d"
           }
          ],
          "histogram2dcontour": [
           {
            "colorbar": {
             "outlinewidth": 0,
             "ticks": ""
            },
            "colorscale": [
             [
              0,
              "#0d0887"
             ],
             [
              0.1111111111111111,
              "#46039f"
             ],
             [
              0.2222222222222222,
              "#7201a8"
             ],
             [
              0.3333333333333333,
              "#9c179e"
             ],
             [
              0.4444444444444444,
              "#bd3786"
             ],
             [
              0.5555555555555556,
              "#d8576b"
             ],
             [
              0.6666666666666666,
              "#ed7953"
             ],
             [
              0.7777777777777778,
              "#fb9f3a"
             ],
             [
              0.8888888888888888,
              "#fdca26"
             ],
             [
              1,
              "#f0f921"
             ]
            ],
            "type": "histogram2dcontour"
           }
          ],
          "mesh3d": [
           {
            "colorbar": {
             "outlinewidth": 0,
             "ticks": ""
            },
            "type": "mesh3d"
           }
          ],
          "parcoords": [
           {
            "line": {
             "colorbar": {
              "outlinewidth": 0,
              "ticks": ""
             }
            },
            "type": "parcoords"
           }
          ],
          "pie": [
           {
            "automargin": true,
            "type": "pie"
           }
          ],
          "scatter": [
           {
            "fillpattern": {
             "fillmode": "overlay",
             "size": 10,
             "solidity": 0.2
            },
            "type": "scatter"
           }
          ],
          "scatter3d": [
           {
            "line": {
             "colorbar": {
              "outlinewidth": 0,
              "ticks": ""
             }
            },
            "marker": {
             "colorbar": {
              "outlinewidth": 0,
              "ticks": ""
             }
            },
            "type": "scatter3d"
           }
          ],
          "scattercarpet": [
           {
            "marker": {
             "colorbar": {
              "outlinewidth": 0,
              "ticks": ""
             }
            },
            "type": "scattercarpet"
           }
          ],
          "scattergeo": [
           {
            "marker": {
             "colorbar": {
              "outlinewidth": 0,
              "ticks": ""
             }
            },
            "type": "scattergeo"
           }
          ],
          "scattergl": [
           {
            "marker": {
             "colorbar": {
              "outlinewidth": 0,
              "ticks": ""
             }
            },
            "type": "scattergl"
           }
          ],
          "scattermapbox": [
           {
            "marker": {
             "colorbar": {
              "outlinewidth": 0,
              "ticks": ""
             }
            },
            "type": "scattermapbox"
           }
          ],
          "scatterpolar": [
           {
            "marker": {
             "colorbar": {
              "outlinewidth": 0,
              "ticks": ""
             }
            },
            "type": "scatterpolar"
           }
          ],
          "scatterpolargl": [
           {
            "marker": {
             "colorbar": {
              "outlinewidth": 0,
              "ticks": ""
             }
            },
            "type": "scatterpolargl"
           }
          ],
          "scatterternary": [
           {
            "marker": {
             "colorbar": {
              "outlinewidth": 0,
              "ticks": ""
             }
            },
            "type": "scatterternary"
           }
          ],
          "surface": [
           {
            "colorbar": {
             "outlinewidth": 0,
             "ticks": ""
            },
            "colorscale": [
             [
              0,
              "#0d0887"
             ],
             [
              0.1111111111111111,
              "#46039f"
             ],
             [
              0.2222222222222222,
              "#7201a8"
             ],
             [
              0.3333333333333333,
              "#9c179e"
             ],
             [
              0.4444444444444444,
              "#bd3786"
             ],
             [
              0.5555555555555556,
              "#d8576b"
             ],
             [
              0.6666666666666666,
              "#ed7953"
             ],
             [
              0.7777777777777778,
              "#fb9f3a"
             ],
             [
              0.8888888888888888,
              "#fdca26"
             ],
             [
              1,
              "#f0f921"
             ]
            ],
            "type": "surface"
           }
          ],
          "table": [
           {
            "cells": {
             "fill": {
              "color": "#EBF0F8"
             },
             "line": {
              "color": "white"
             }
            },
            "header": {
             "fill": {
              "color": "#C8D4E3"
             },
             "line": {
              "color": "white"
             }
            },
            "type": "table"
           }
          ]
         },
         "layout": {
          "annotationdefaults": {
           "arrowcolor": "#2a3f5f",
           "arrowhead": 0,
           "arrowwidth": 1
          },
          "autotypenumbers": "strict",
          "coloraxis": {
           "colorbar": {
            "outlinewidth": 0,
            "ticks": ""
           }
          },
          "colorscale": {
           "diverging": [
            [
             0,
             "#8e0152"
            ],
            [
             0.1,
             "#c51b7d"
            ],
            [
             0.2,
             "#de77ae"
            ],
            [
             0.3,
             "#f1b6da"
            ],
            [
             0.4,
             "#fde0ef"
            ],
            [
             0.5,
             "#f7f7f7"
            ],
            [
             0.6,
             "#e6f5d0"
            ],
            [
             0.7,
             "#b8e186"
            ],
            [
             0.8,
             "#7fbc41"
            ],
            [
             0.9,
             "#4d9221"
            ],
            [
             1,
             "#276419"
            ]
           ],
           "sequential": [
            [
             0,
             "#0d0887"
            ],
            [
             0.1111111111111111,
             "#46039f"
            ],
            [
             0.2222222222222222,
             "#7201a8"
            ],
            [
             0.3333333333333333,
             "#9c179e"
            ],
            [
             0.4444444444444444,
             "#bd3786"
            ],
            [
             0.5555555555555556,
             "#d8576b"
            ],
            [
             0.6666666666666666,
             "#ed7953"
            ],
            [
             0.7777777777777778,
             "#fb9f3a"
            ],
            [
             0.8888888888888888,
             "#fdca26"
            ],
            [
             1,
             "#f0f921"
            ]
           ],
           "sequentialminus": [
            [
             0,
             "#0d0887"
            ],
            [
             0.1111111111111111,
             "#46039f"
            ],
            [
             0.2222222222222222,
             "#7201a8"
            ],
            [
             0.3333333333333333,
             "#9c179e"
            ],
            [
             0.4444444444444444,
             "#bd3786"
            ],
            [
             0.5555555555555556,
             "#d8576b"
            ],
            [
             0.6666666666666666,
             "#ed7953"
            ],
            [
             0.7777777777777778,
             "#fb9f3a"
            ],
            [
             0.8888888888888888,
             "#fdca26"
            ],
            [
             1,
             "#f0f921"
            ]
           ]
          },
          "colorway": [
           "#636efa",
           "#EF553B",
           "#00cc96",
           "#ab63fa",
           "#FFA15A",
           "#19d3f3",
           "#FF6692",
           "#B6E880",
           "#FF97FF",
           "#FECB52"
          ],
          "font": {
           "color": "#2a3f5f"
          },
          "geo": {
           "bgcolor": "white",
           "lakecolor": "white",
           "landcolor": "#E5ECF6",
           "showlakes": true,
           "showland": true,
           "subunitcolor": "white"
          },
          "hoverlabel": {
           "align": "left"
          },
          "hovermode": "closest",
          "mapbox": {
           "style": "light"
          },
          "paper_bgcolor": "white",
          "plot_bgcolor": "#E5ECF6",
          "polar": {
           "angularaxis": {
            "gridcolor": "white",
            "linecolor": "white",
            "ticks": ""
           },
           "bgcolor": "#E5ECF6",
           "radialaxis": {
            "gridcolor": "white",
            "linecolor": "white",
            "ticks": ""
           }
          },
          "scene": {
           "xaxis": {
            "backgroundcolor": "#E5ECF6",
            "gridcolor": "white",
            "gridwidth": 2,
            "linecolor": "white",
            "showbackground": true,
            "ticks": "",
            "zerolinecolor": "white"
           },
           "yaxis": {
            "backgroundcolor": "#E5ECF6",
            "gridcolor": "white",
            "gridwidth": 2,
            "linecolor": "white",
            "showbackground": true,
            "ticks": "",
            "zerolinecolor": "white"
           },
           "zaxis": {
            "backgroundcolor": "#E5ECF6",
            "gridcolor": "white",
            "gridwidth": 2,
            "linecolor": "white",
            "showbackground": true,
            "ticks": "",
            "zerolinecolor": "white"
           }
          },
          "shapedefaults": {
           "line": {
            "color": "#2a3f5f"
           }
          },
          "ternary": {
           "aaxis": {
            "gridcolor": "white",
            "linecolor": "white",
            "ticks": ""
           },
           "baxis": {
            "gridcolor": "white",
            "linecolor": "white",
            "ticks": ""
           },
           "bgcolor": "#E5ECF6",
           "caxis": {
            "gridcolor": "white",
            "linecolor": "white",
            "ticks": ""
           }
          },
          "title": {
           "x": 0.05
          },
          "xaxis": {
           "automargin": true,
           "gridcolor": "white",
           "linecolor": "white",
           "ticks": "",
           "title": {
            "standoff": 15
           },
           "zerolinecolor": "white",
           "zerolinewidth": 2
          },
          "yaxis": {
           "automargin": true,
           "gridcolor": "white",
           "linecolor": "white",
           "ticks": "",
           "title": {
            "standoff": 15
           },
           "zerolinecolor": "white",
           "zerolinewidth": 2
          }
         }
        },
        "title": {
         "text": "PCA",
         "x": 0.5
        },
        "xaxis": {
         "anchor": "y",
         "domain": [
          0,
          0.2888888888888889
         ],
         "title": {
          "text": "PC 1"
         }
        },
        "xaxis10": {
         "anchor": "y10",
         "domain": [
          0,
          0.2888888888888889
         ],
         "title": {
          "text": "PC 1"
         }
        },
        "xaxis11": {
         "anchor": "y11",
         "domain": [
          0.35555555555555557,
          0.6444444444444445
         ],
         "title": {
          "text": "PC 1"
         }
        },
        "xaxis12": {
         "anchor": "y12",
         "domain": [
          0.7111111111111111,
          1
         ],
         "title": {
          "text": "PC 1"
         }
        },
        "xaxis2": {
         "anchor": "y2",
         "domain": [
          0.35555555555555557,
          0.6444444444444445
         ],
         "title": {
          "text": "PC 1"
         }
        },
        "xaxis3": {
         "anchor": "y3",
         "domain": [
          0.7111111111111111,
          1
         ],
         "title": {
          "text": "PC 1"
         }
        },
        "xaxis4": {
         "anchor": "y4",
         "domain": [
          0,
          0.2888888888888889
         ],
         "title": {
          "text": "PC 1"
         }
        },
        "xaxis5": {
         "anchor": "y5",
         "domain": [
          0.35555555555555557,
          0.6444444444444445
         ],
         "title": {
          "text": "PC 1"
         }
        },
        "xaxis6": {
         "anchor": "y6",
         "domain": [
          0.7111111111111111,
          1
         ],
         "title": {
          "text": "PC 1"
         }
        },
        "xaxis7": {
         "anchor": "y7",
         "domain": [
          0,
          0.2888888888888889
         ],
         "title": {
          "text": "PC 1"
         }
        },
        "xaxis8": {
         "anchor": "y8",
         "domain": [
          0.35555555555555557,
          0.6444444444444445
         ],
         "title": {
          "text": "PC 1"
         }
        },
        "xaxis9": {
         "anchor": "y9",
         "domain": [
          0.7111111111111111,
          1
         ],
         "title": {
          "text": "PC 1"
         }
        },
        "yaxis": {
         "anchor": "x",
         "domain": [
          0.84375,
          1
         ],
         "title": {
          "text": "PC 2"
         }
        },
        "yaxis10": {
         "anchor": "x10",
         "domain": [
          0,
          0.15625
         ],
         "title": {
          "text": "PC 2"
         }
        },
        "yaxis11": {
         "anchor": "x11",
         "domain": [
          0,
          0.15625
         ],
         "title": {
          "text": "PC 2"
         }
        },
        "yaxis12": {
         "anchor": "x12",
         "domain": [
          0,
          0.15625
         ],
         "title": {
          "text": "PC 2"
         }
        },
        "yaxis2": {
         "anchor": "x2",
         "domain": [
          0.84375,
          1
         ],
         "title": {
          "text": "PC 2"
         }
        },
        "yaxis3": {
         "anchor": "x3",
         "domain": [
          0.84375,
          1
         ],
         "title": {
          "text": "PC 2"
         }
        },
        "yaxis4": {
         "anchor": "x4",
         "domain": [
          0.5625,
          0.71875
         ],
         "title": {
          "text": "PC 2"
         }
        },
        "yaxis5": {
         "anchor": "x5",
         "domain": [
          0.5625,
          0.71875
         ],
         "title": {
          "text": "PC 2"
         }
        },
        "yaxis6": {
         "anchor": "x6",
         "domain": [
          0.5625,
          0.71875
         ],
         "title": {
          "text": "PC 2"
         }
        },
        "yaxis7": {
         "anchor": "x7",
         "domain": [
          0.28125,
          0.4375
         ],
         "title": {
          "text": "PC 2"
         }
        },
        "yaxis8": {
         "anchor": "x8",
         "domain": [
          0.28125,
          0.4375
         ],
         "title": {
          "text": "PC 2"
         }
        },
        "yaxis9": {
         "anchor": "x9",
         "domain": [
          0.28125,
          0.4375
         ],
         "title": {
          "text": "PC 2"
         }
        }
       }
      }
     },
     "metadata": {},
     "output_type": "display_data"
    }
   ],
   "source": [
    "visualization = AnalysisVisualization(settings)\n",
    "visualization.visualize(analysis_data)"
   ]
  }
 ],
 "metadata": {
  "kernelspec": {
   "display_name": ".venv",
   "language": "python",
   "name": "python3"
  },
  "language_info": {
   "codemirror_mode": {
    "name": "ipython",
    "version": 3
   },
   "file_extension": ".py",
   "mimetype": "text/x-python",
   "name": "python",
   "nbconvert_exporter": "python",
   "pygments_lexer": "ipython3",
   "version": "3.12.1"
  }
 },
 "nbformat": 4,
 "nbformat_minor": 2
}
