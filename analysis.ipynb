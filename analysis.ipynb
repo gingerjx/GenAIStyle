{
 "cells": [
  {
   "cell_type": "markdown",
   "metadata": {},
   "source": [
    "# Analysis\n",
    "\n",
    "Notebook reads the list of the selected authors from `res/selected/author_list` and loads their text data from book and genereted resources available in `res` directory.\n",
    "Displayed data:\n",
    "- Notebook displays the number of words per each source-author pair.\n",
    "- Analysis on chunk of `configuration.analysis_size` size\n",
    "    - Average word length\n",
    "    - Average sentence length\n",
    "    - Unique words count\n",
    "    - Top 10 function words\n",
    "\n",
    "Further work on that notebook is planned.\n",
    "\n",
    "*Note: the list of function words are taken from [functionwords](https://pypi.org/project/functionwords/) package.*"
   ]
  },
  {
   "cell_type": "code",
   "execution_count": 24,
   "metadata": {},
   "outputs": [
    {
     "name": "stdout",
     "output_type": "stream",
     "text": [
      "The autoreload extension is already loaded. To reload it, use:\n",
      "  %reload_ext autoreload\n"
     ]
    }
   ],
   "source": [
    "%load_ext autoreload\n",
    "%autoreload 2\n",
    "\n",
    "from src import *"
   ]
  },
  {
   "cell_type": "code",
   "execution_count": 25,
   "metadata": {},
   "outputs": [],
   "source": [
    "settings = Settings()"
   ]
  },
  {
   "cell_type": "code",
   "execution_count": 9,
   "metadata": {},
   "outputs": [
    {
     "name": "stdout",
     "output_type": "stream",
     "text": [
      "Cleaning generated corpus...\n",
      "Cleaning books corpus...\n"
     ]
    }
   ],
   "source": [
    "cleaner = Cleaner(settings)\n",
    "if not cleaner.cleaned_generated_corpus_exists():\n",
    "    print(\"Cleaning generated corpus...\")\n",
    "    cleaner.clean_generated_corpus()    \n",
    "if not cleaner.cleaned_books_corpus_exists():\n",
    "    print(\"Cleaning books corpus...\")\n",
    "    cleaner.clean_books_corpus()"
   ]
  },
  {
   "cell_type": "code",
   "execution_count": 13,
   "metadata": {},
   "outputs": [
    {
     "name": "stdout",
     "output_type": "stream",
     "text": [
      "Reading authors' collections...\n"
     ]
    }
   ],
   "source": [
    "print(\"Reading authors' collections...\")\n",
    "authors = []\n",
    "for author_name in FileUtils.read_authors(settings.paths.selected_authors_filepath):\n",
    "    author = Author(\n",
    "        settings=settings,\n",
    "        name=author_name\n",
    "    )\n",
    "    author.read_selected_books_collection()\n",
    "    author.read_generated_texts()\n",
    "    authors.append(author)"
   ]
  },
  {
   "cell_type": "code",
   "execution_count": 14,
   "metadata": {},
   "outputs": [
    {
     "name": "stdout",
     "output_type": "stream",
     "text": [
      "Raw words count:  31471741\n",
      "Cleaned words count:  31172626\n",
      "Removed words:  0.9504240645600127 %\n"
     ]
    }
   ],
   "source": [
    "analysis = Analysis(\n",
    "    settings=settings,\n",
    "    authors=authors\n",
    ")\n",
    "raw_words_count, cleaned_words_count = analysis.get_count_words()\n",
    "\n",
    "print(\"Raw words count: \", raw_words_count)\n",
    "print(\"Cleaned words count: \", cleaned_words_count)\n",
    "print(\"Removed words: \", 100 * (raw_words_count - cleaned_words_count) / raw_words_count, \"%\")"
   ]
  },
  {
   "cell_type": "code",
   "execution_count": 42,
   "metadata": {},
   "outputs": [
    {
     "name": "stderr",
     "output_type": "stream",
     "text": [
      "[nltk_data] Downloading package punkt to\n",
      "[nltk_data]     C:\\Users\\piotr\\AppData\\Roaming\\nltk_data...\n",
      "[nltk_data]   Package punkt is already up-to-date!\n"
     ]
    }
   ],
   "source": [
    "analysis = Analysis(\n",
    "    settings=settings,\n",
    "    authors=authors\n",
    ")\n",
    "analysis_data = analysis.get_analysis(authors, read_from_file=True)"
   ]
  },
  {
   "cell_type": "code",
   "execution_count": 44,
   "metadata": {},
   "outputs": [
    {
     "ename": "TypeError",
     "evalue": "AnalysisVisualization.__init__() missing 1 required positional argument: 'settings'",
     "output_type": "error",
     "traceback": [
      "\u001b[1;31m---------------------------------------------------------------------------\u001b[0m",
      "\u001b[1;31mTypeError\u001b[0m                                 Traceback (most recent call last)",
      "Cell \u001b[1;32mIn[44], line 1\u001b[0m\n\u001b[1;32m----> 1\u001b[0m \u001b[43mAnalysisVisualization\u001b[49m\u001b[43m(\u001b[49m\u001b[43m)\u001b[49m\u001b[38;5;241m.\u001b[39mvisualize(analysis_data)\n",
      "\u001b[1;31mTypeError\u001b[0m: AnalysisVisualization.__init__() missing 1 required positional argument: 'settings'"
     ]
    }
   ],
   "source": [
    "visualization = AnalysisVisualization(settings)\n",
    "visualization.visualize(analysis_data)"
   ]
  }
 ],
 "metadata": {
  "kernelspec": {
   "display_name": ".venv",
   "language": "python",
   "name": "python3"
  },
  "language_info": {
   "codemirror_mode": {
    "name": "ipython",
    "version": 3
   },
   "file_extension": ".py",
   "mimetype": "text/x-python",
   "name": "python",
   "nbconvert_exporter": "python",
   "pygments_lexer": "ipython3",
   "version": "3.12.1"
  }
 },
 "nbformat": 4,
 "nbformat_minor": 2
}
