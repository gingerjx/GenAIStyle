{
 "cells": [
  {
   "cell_type": "markdown",
   "metadata": {},
   "source": [
    "# Analysis\n",
    "\n",
    "Notebook reads the list of the selected authors from `res/selected/author_list` and loads their text data from book and genereted resources available in `res` directory.\n",
    "Displayed data:\n",
    "- Notebook displays the number of words per each source-author pair.\n",
    "- Analysis on chunk of `configuration.analysis_size` size\n",
    "    - Average word length\n",
    "    - Average sentence length\n",
    "    - Unique words count\n",
    "    - Top 10 function words\n",
    "\n",
    "Further work on that notebook is planned.\n",
    "\n",
    "*Note: the list of function words are taken from [functionwords](https://pypi.org/project/functionwords/) package.*"
   ]
  },
  {
   "cell_type": "code",
   "execution_count": 1,
   "metadata": {},
   "outputs": [
    {
     "name": "stdout",
     "output_type": "stream",
     "text": [
      "The autoreload extension is already loaded. To reload it, use:\n",
      "  %reload_ext autoreload\n"
     ]
    },
    {
     "name": "stderr",
     "output_type": "stream",
     "text": [
      "[nltk_data] Downloading package punkt to\n",
      "[nltk_data]     C:\\Users\\piotr\\AppData\\Roaming\\nltk_data...\n",
      "[nltk_data]   Package punkt is already up-to-date!\n",
      "[nltk_data] Downloading package cmudict to\n",
      "[nltk_data]     C:\\Users\\piotr\\AppData\\Roaming\\nltk_data...\n",
      "[nltk_data]   Package cmudict is already up-to-date!\n",
      "[nltk_data] Downloading package punkt to\n",
      "[nltk_data]     C:\\Users\\piotr\\AppData\\Roaming\\nltk_data...\n",
      "[nltk_data]   Package punkt is already up-to-date!\n"
     ]
    }
   ],
   "source": [
    "%load_ext autoreload\n",
    "%autoreload 2\n",
    "\n",
    "from src import *"
   ]
  },
  {
   "cell_type": "code",
   "execution_count": 2,
   "metadata": {},
   "outputs": [],
   "source": [
    "settings = Settings()"
   ]
  },
  {
   "cell_type": "code",
   "execution_count": 3,
   "metadata": {},
   "outputs": [],
   "source": [
    "cleaner = Cleaner(settings)\n",
    "if not cleaner.cleaned_generated_corpus_exists():\n",
    "    print(\"Cleaning generated corpus...\")\n",
    "    cleaner.clean_generated_corpus()    \n",
    "if not cleaner.cleaned_books_corpus_exists():\n",
    "    print(\"Cleaning books corpus...\")\n",
    "    cleaner.clean_books_corpus()"
   ]
  },
  {
   "cell_type": "code",
   "execution_count": 4,
   "metadata": {},
   "outputs": [
    {
     "name": "stdout",
     "output_type": "stream",
     "text": [
      "Reading authors' collections...\n"
     ]
    }
   ],
   "source": [
    "print(\"Reading authors' collections...\")\n",
    "authors = []\n",
    "for author_name in FileUtils.read_authors(settings.paths.selected_authors_filepath):\n",
    "    author = Author(\n",
    "        settings=settings,\n",
    "        name=author_name\n",
    "    )\n",
    "    author.read_selected_books_collection()\n",
    "    author.read_generated_texts()\n",
    "    authors.append(author)"
   ]
  },
  {
   "cell_type": "code",
   "execution_count": 5,
   "metadata": {},
   "outputs": [
    {
     "name": "stdout",
     "output_type": "stream",
     "text": [
      "Preprocessing collections...\n"
     ]
    }
   ],
   "source": [
    "print(\"Preprocessing collections...\")\n",
    "preprocessing_data = Preprocessing(settings, authors).preprocess()"
   ]
  },
  {
   "cell_type": "code",
   "execution_count": 6,
   "metadata": {},
   "outputs": [
    {
     "name": "stdout",
     "output_type": "stream",
     "text": [
      "Removed text: 0.9401511228114402%\n"
     ]
    }
   ],
   "source": [
    "analysis = Analysis(\n",
    "    settings=settings,\n",
    "    authors=authors,\n",
    "    preprocessing_data=preprocessing_data\n",
    ")\n",
    "raw_text_length, cleaned_text_length = analysis.text_length()\n",
    "\n",
    "print(f\"Removed text: {100 * (raw_text_length - cleaned_text_length) / raw_text_length}%\")"
   ]
  },
  {
   "cell_type": "code",
   "execution_count": 11,
   "metadata": {},
   "outputs": [
    {
     "name": "stdout",
     "output_type": "stream",
     "text": [
      "Analysing collections using sample of 10000 words per collection...\n"
     ]
    }
   ],
   "source": [
    "print(f\"Analysing collections using sample of {settings.configuration.analysis_size} words per collection...\")\n",
    "analysis_data = analysis.get_analysis(authors, read_from_file=False)"
   ]
  },
  {
   "cell_type": "code",
   "execution_count": 19,
   "metadata": {},
   "outputs": [
    {
     "data": {
      "application/vnd.plotly.v1+json": {
       "config": {
        "plotlyServerURL": "https://plot.ly"
       },
       "data": [
        {
         "marker": {
          "color": "#3498db"
         },
         "name": "books",
         "showlegend": true,
         "type": "bar",
         "x": [
          "Mark Twain",
          "Zane Grey",
          "Joseph Conrad",
          "George Eliot",
          "Benjamin Disraeli",
          "Lucy Maud Montgomery",
          "William Henry Hudson",
          "Howard Pyle",
          "Virginia Woolf",
          "Lewis Carroll"
         ],
         "xaxis": "x",
         "y": [
          2667,
          2251,
          2278,
          2161,
          2330,
          1942,
          2224,
          2340,
          2156,
          2169
         ],
         "yaxis": "y"
        },
        {
         "marker": {
          "color": "#3498db"
         },
         "name": "books",
         "showlegend": false,
         "type": "bar",
         "x": [
          "Mark Twain",
          "Zane Grey",
          "Joseph Conrad",
          "George Eliot",
          "Benjamin Disraeli",
          "Lucy Maud Montgomery",
          "William Henry Hudson",
          "Howard Pyle",
          "Virginia Woolf",
          "Lewis Carroll"
         ],
         "xaxis": "x2",
         "y": [
          4.465796897038082,
          4.3332173913043475,
          4.289102336060714,
          4.145783706526918,
          4.29176814417925,
          4.128618889416232,
          4.357009997674959,
          4.58718820861678,
          4.337003350885591,
          4.385236447520184
         ],
         "yaxis": "y2"
        },
        {
         "marker": {
          "color": "#3498db"
         },
         "name": "books",
         "showlegend": false,
         "type": "bar",
         "x": [
          "Mark Twain",
          "Zane Grey",
          "Joseph Conrad",
          "George Eliot",
          "Benjamin Disraeli",
          "Lucy Maud Montgomery",
          "William Henry Hudson",
          "Howard Pyle",
          "Virginia Woolf",
          "Lewis Carroll"
         ],
         "xaxis": "x3",
         "y": [
          23.96619718309859,
          17.354124748490946,
          12.365102639296188,
          24.549707602339183,
          13.396411092985318,
          11.045871559633028,
          27.748387096774195,
          30.73170731707317,
          17.0879345603272,
          12.078947368421053
         ],
         "yaxis": "y3"
        },
        {
         "marker": {
          "color": "#3498db"
         },
         "name": "books",
         "showlegend": false,
         "type": "bar",
         "x": [
          "Mark Twain",
          "Zane Grey",
          "Joseph Conrad",
          "George Eliot",
          "Benjamin Disraeli",
          "Lucy Maud Montgomery",
          "William Henry Hudson",
          "Howard Pyle",
          "Virginia Woolf",
          "Lewis Carroll"
         ],
         "xaxis": "x4",
         "y": [
          1.441114245416079,
          1.3881739130434783,
          1.4068540258508242,
          1.3163411148165793,
          1.354968339016074,
          1.3463455149501662,
          1.4033945594047896,
          1.4459183673469387,
          1.3493298228817616,
          1.3901063693451237
         ],
         "yaxis": "y4"
        },
        {
         "marker": {
          "color": "#3498db"
         },
         "name": "books",
         "showlegend": false,
         "type": "bar",
         "x": [
          "Mark Twain",
          "Zane Grey",
          "Joseph Conrad",
          "George Eliot",
          "Benjamin Disraeli",
          "Lucy Maud Montgomery",
          "William Henry Hudson",
          "Howard Pyle",
          "Virginia Woolf",
          "Lewis Carroll"
         ],
         "xaxis": "x5",
         "y": [
          60.59104469695467,
          71.78105033680345,
          75.26457023413465,
          70.55458847014314,
          78.60732125986006,
          81.72260980218843,
          59.94320737112899,
          53.317623195619746,
          75.33744340547089,
          76.97186957445517
         ],
         "yaxis": "y5"
        },
        {
         "marker": {
          "color": "#3498db"
         },
         "name": "books",
         "showlegend": false,
         "type": "bar",
         "x": [
          "Mark Twain",
          "Zane Grey",
          "Joseph Conrad",
          "George Eliot",
          "Benjamin Disraeli",
          "Lucy Maud Montgomery",
          "William Henry Hudson",
          "Howard Pyle",
          "Virginia Woolf",
          "Lewis Carroll"
         ],
         "xaxis": "x6",
         "y": [
          10.761964997318184,
          7.5585608258245145,
          5.833267534365238,
          9.517211119747916,
          5.62322672665395,
          4.604766984668842,
          11.791926768718454,
          13.457202588352413,
          6.996386388532397,
          5.524044631956674
         ],
         "yaxis": "y6"
        },
        {
         "marker": {
          "color": "#3498db"
         },
         "name": "books",
         "showlegend": false,
         "type": "bar",
         "x": [
          "Mark Twain",
          "Zane Grey",
          "Joseph Conrad",
          "George Eliot",
          "Benjamin Disraeli",
          "Lucy Maud Montgomery",
          "William Henry Hudson",
          "Howard Pyle",
          "Virginia Woolf",
          "Lewis Carroll"
         ],
         "xaxis": "x7",
         "y": [
          13.582717707277988,
          10.285418015338408,
          8.626818952078017,
          12.168620534980457,
          7.993732483954965,
          7.071409848343007,
          14.614816359286289,
          16.1384879154914,
          9.08505414964548,
          8.332796427824656
         ],
         "yaxis": "y7"
        },
        {
         "marker": {
          "color": "#e74c3c"
         },
         "name": "gpt-3.5-turbo-0125",
         "showlegend": true,
         "type": "bar",
         "x": [
          "Mark Twain",
          "Zane Grey",
          "Joseph Conrad",
          "George Eliot",
          "Benjamin Disraeli",
          "Lucy Maud Montgomery",
          "William Henry Hudson",
          "Howard Pyle",
          "Virginia Woolf",
          "Lewis Carroll"
         ],
         "xaxis": "x",
         "y": [
          2392,
          2329,
          2352,
          2371,
          2484,
          2334,
          2458,
          2448,
          2394,
          2370
         ],
         "yaxis": "y"
        },
        {
         "marker": {
          "color": "#e74c3c"
         },
         "name": "gpt-3.5-turbo-0125",
         "showlegend": false,
         "type": "bar",
         "x": [
          "Mark Twain",
          "Zane Grey",
          "Joseph Conrad",
          "George Eliot",
          "Benjamin Disraeli",
          "Lucy Maud Montgomery",
          "William Henry Hudson",
          "Howard Pyle",
          "Virginia Woolf",
          "Lewis Carroll"
         ],
         "xaxis": "x2",
         "y": [
          4.393193420306296,
          4.560884353741496,
          4.680596340637,
          4.827481431465226,
          4.727950172394617,
          4.619564002235886,
          4.789917832556074,
          4.616700889801506,
          4.712016881386051,
          4.5981151127566475
         ],
         "yaxis": "y2"
        },
        {
         "marker": {
          "color": "#e74c3c"
         },
         "name": "gpt-3.5-turbo-0125",
         "showlegend": false,
         "type": "bar",
         "x": [
          "Mark Twain",
          "Zane Grey",
          "Joseph Conrad",
          "George Eliot",
          "Benjamin Disraeli",
          "Lucy Maud Montgomery",
          "William Henry Hudson",
          "Howard Pyle",
          "Virginia Woolf",
          "Lewis Carroll"
         ],
         "xaxis": "x3",
         "y": [
          20.35796766743649,
          20.416666666666668,
          22.586734693877553,
          21.94074074074074,
          22.81979695431472,
          22.08641975308642,
          24.080213903743317,
          20.87142857142857,
          23.387012987012987,
          22.06188118811881
         ],
         "yaxis": "y3"
        },
        {
         "marker": {
          "color": "#e74c3c"
         },
         "name": "gpt-3.5-turbo-0125",
         "showlegend": false,
         "type": "bar",
         "x": [
          "Mark Twain",
          "Zane Grey",
          "Joseph Conrad",
          "George Eliot",
          "Benjamin Disraeli",
          "Lucy Maud Montgomery",
          "William Henry Hudson",
          "Howard Pyle",
          "Virginia Woolf",
          "Lewis Carroll"
         ],
         "xaxis": "x4",
         "y": [
          1.4112308564946114,
          1.4587301587301587,
          1.5219110006776597,
          1.567296871483232,
          1.5491046602157714,
          1.4888764673001678,
          1.5655118809682433,
          1.483686972393338,
          1.5460906263882719,
          1.4804218557163693
         ],
         "yaxis": "y4"
        },
        {
         "marker": {
          "color": "#e74c3c"
         },
         "name": "gpt-3.5-turbo-0125",
         "showlegend": false,
         "type": "bar",
         "x": [
          "Mark Twain",
          "Zane Grey",
          "Joseph Conrad",
          "George Eliot",
          "Benjamin Disraeli",
          "Lucy Maud Montgomery",
          "William Henry Hudson",
          "Howard Pyle",
          "Virginia Woolf",
          "Lewis Carroll"
         ],
         "xaxis": "x5",
         "y": [
          66.78153235810785,
          62.703511904761925,
          55.155793628384316,
          51.97183282066672,
          52.61865183711632,
          58.458334817023115,
          49.95127775778718,
          60.13058213552364,
          52.29791482573404,
          59.19850160045458
         ],
         "yaxis": "y5"
        },
        {
         "marker": {
          "color": "#e74c3c"
         },
         "name": "gpt-3.5-turbo-0125",
         "showlegend": false,
         "type": "bar",
         "x": [
          "Mark Twain",
          "Zane Grey",
          "Joseph Conrad",
          "George Eliot",
          "Benjamin Disraeli",
          "Lucy Maud Montgomery",
          "William Henry Hudson",
          "Howard Pyle",
          "Virginia Woolf",
          "Lewis Carroll"
         ],
         "xaxis": "x6",
         "y": [
          9.002131496936649,
          9.585515873015876,
          11.177376338608628,
          11.460991972391028,
          11.589155802728843,
          10.592446017845685,
          12.27432361788517,
          10.057363417098532,
          11.774804456316673,
          10.483111560819495
         ],
         "yaxis": "y6"
        },
        {
         "marker": {
          "color": "#e74c3c"
         },
         "name": "gpt-3.5-turbo-0125",
         "showlegend": false,
         "type": "bar",
         "x": [
          "Mark Twain",
          "Zane Grey",
          "Joseph Conrad",
          "George Eliot",
          "Benjamin Disraeli",
          "Lucy Maud Montgomery",
          "William Henry Hudson",
          "Howard Pyle",
          "Virginia Woolf",
          "Lewis Carroll"
         ],
         "xaxis": "x7",
         "y": [
          11.691683947292237,
          12.239229024943311,
          14.121660220446888,
          14.457142571335684,
          14.635648733900286,
          13.163243138797453,
          15.428221470891064,
          12.619618656497506,
          14.801273431144601,
          13.411311434071715
         ],
         "yaxis": "y7"
        },
        {
         "marker": {
          "color": "#2ecc71"
         },
         "name": "gpt-4o",
         "showlegend": true,
         "type": "bar",
         "x": [
          "Mark Twain",
          "Zane Grey",
          "Joseph Conrad",
          "George Eliot",
          "Benjamin Disraeli",
          "Lucy Maud Montgomery",
          "William Henry Hudson",
          "Howard Pyle",
          "Virginia Woolf",
          "Lewis Carroll"
         ],
         "xaxis": "x",
         "y": [
          2591,
          2272,
          2309,
          2597,
          2510,
          2461,
          2454,
          2471,
          2299,
          2431
         ],
         "yaxis": "y"
        },
        {
         "marker": {
          "color": "#2ecc71"
         },
         "name": "gpt-4o",
         "showlegend": false,
         "type": "bar",
         "x": [
          "Mark Twain",
          "Zane Grey",
          "Joseph Conrad",
          "George Eliot",
          "Benjamin Disraeli",
          "Lucy Maud Montgomery",
          "William Henry Hudson",
          "Howard Pyle",
          "Virginia Woolf",
          "Lewis Carroll"
         ],
         "xaxis": "x2",
         "y": [
          4.43059456928839,
          4.516928446771379,
          4.543645773433007,
          4.781232140816093,
          4.7475518105215215,
          4.671418716946424,
          4.644733835960704,
          4.584693173982992,
          4.554467987102718,
          4.649365899483326
         ],
         "yaxis": "y2"
        },
        {
         "marker": {
          "color": "#2ecc71"
         },
         "name": "gpt-4o",
         "showlegend": false,
         "type": "bar",
         "x": [
          "Mark Twain",
          "Zane Grey",
          "Joseph Conrad",
          "George Eliot",
          "Benjamin Disraeli",
          "Lucy Maud Montgomery",
          "William Henry Hudson",
          "Howard Pyle",
          "Virginia Woolf",
          "Lewis Carroll"
         ],
         "xaxis": "x3",
         "y": [
          18.902654867256636,
          17.86902286902287,
          21.957070707070706,
          21.655940594059405,
          22.289340101522843,
          20.758949880668258,
          21.04326923076923,
          21.070217917675546,
          20.97584541062802,
          17.741666666666667
         ],
         "yaxis": "y3"
        },
        {
         "marker": {
          "color": "#2ecc71"
         },
         "name": "gpt-4o",
         "showlegend": false,
         "type": "bar",
         "x": [
          "Mark Twain",
          "Zane Grey",
          "Joseph Conrad",
          "George Eliot",
          "Benjamin Disraeli",
          "Lucy Maud Montgomery",
          "William Henry Hudson",
          "Howard Pyle",
          "Virginia Woolf",
          "Lewis Carroll"
         ],
         "xaxis": "x4",
         "y": [
          1.4446395131086143,
          1.4365328679464806,
          1.4866014951121334,
          1.5638358669562236,
          1.5701434752903667,
          1.5056334789606807,
          1.5191912268677177,
          1.470811307745346,
          1.4892906494702902,
          1.4940112728980741
         ],
         "yaxis": "y4"
        },
        {
         "marker": {
          "color": "#2ecc71"
         },
         "name": "gpt-4o",
         "showlegend": false,
         "type": "bar",
         "x": [
          "Mark Twain",
          "Zane Grey",
          "Joseph Conrad",
          "George Eliot",
          "Benjamin Disraeli",
          "Lucy Maud Montgomery",
          "William Henry Hudson",
          "Howard Pyle",
          "Virginia Woolf",
          "Lewis Carroll"
         ],
         "xaxis": "x5",
         "y": [
          65.43230250074575,
          67.16726115966955,
          58.782086745836764,
          52.55370595253322,
          51.377181787389304,
          58.388073551048166,
          56.952503937760326,
          61.01809217830308,
          59.55052796302604,
          62.43385464615628
         ],
         "yaxis": "y5"
        },
        {
         "marker": {
          "color": "#2ecc71"
         },
         "name": "gpt-4o",
         "showlegend": false,
         "type": "bar",
         "x": [
          "Mark Twain",
          "Zane Grey",
          "Joseph Conrad",
          "George Eliot",
          "Benjamin Disraeli",
          "Lucy Maud Montgomery",
          "William Henry Hudson",
          "Howard Pyle",
          "Virginia Woolf",
          "Lewis Carroll"
         ],
         "xaxis": "x6",
         "y": [
          8.82878165291174,
          8.330006760687393,
          10.51515521808075,
          11.309080061766611,
          11.630535648020238,
          10.272465505196653,
          10.543331477039072,
          9.982958419288547,
          10.164209373894355,
          8.958583020197278
         ],
         "yaxis": "y6"
        },
        {
         "marker": {
          "color": "#2ecc71"
         },
         "name": "gpt-4o",
         "showlegend": false,
         "type": "bar",
         "x": [
          "Mark Twain",
          "Zane Grey",
          "Joseph Conrad",
          "George Eliot",
          "Benjamin Disraeli",
          "Lucy Maud Montgomery",
          "William Henry Hudson",
          "Howard Pyle",
          "Virginia Woolf",
          "Lewis Carroll"
         ],
         "xaxis": "x7",
         "y": [
          11.61068741506745,
          11.02893550013969,
          13.475180209222763,
          14.404746794258807,
          14.650192884152752,
          13.196658820972752,
          13.612646965782677,
          12.845462483089523,
          13.042572157802567,
          11.939315797714109
         ],
         "yaxis": "y7"
        },
        {
         "marker": {
          "color": "#f1c40f"
         },
         "name": "gemini-1.5-flash",
         "showlegend": true,
         "type": "bar",
         "x": [
          "Mark Twain",
          "Zane Grey",
          "Joseph Conrad",
          "George Eliot",
          "Benjamin Disraeli",
          "Lucy Maud Montgomery",
          "William Henry Hudson",
          "Howard Pyle",
          "Virginia Woolf",
          "Lewis Carroll"
         ],
         "xaxis": "x",
         "y": [
          2031,
          2084,
          2192,
          2238,
          2196,
          2279,
          2075,
          2120,
          2038,
          2231
         ],
         "yaxis": "y"
        },
        {
         "marker": {
          "color": "#f1c40f"
         },
         "name": "gemini-1.5-flash",
         "showlegend": false,
         "type": "bar",
         "x": [
          "Mark Twain",
          "Zane Grey",
          "Joseph Conrad",
          "George Eliot",
          "Benjamin Disraeli",
          "Lucy Maud Montgomery",
          "William Henry Hudson",
          "Howard Pyle",
          "Virginia Woolf",
          "Lewis Carroll"
         ],
         "xaxis": "x2",
         "y": [
          4.161194029850746,
          4.495833333333334,
          4.619187068056695,
          4.6799209394256485,
          4.679792501768451,
          4.560505002382087,
          4.582043709391613,
          4.449646226415094,
          4.531596321622259,
          4.532432432432432
         ],
         "yaxis": "y2"
        },
        {
         "marker": {
          "color": "#f1c40f"
         },
         "name": "gemini-1.5-flash",
         "showlegend": false,
         "type": "bar",
         "x": [
          "Mark Twain",
          "Zane Grey",
          "Joseph Conrad",
          "George Eliot",
          "Benjamin Disraeli",
          "Lucy Maud Montgomery",
          "William Henry Hudson",
          "Howard Pyle",
          "Virginia Woolf",
          "Lewis Carroll"
         ],
         "xaxis": "x3",
         "y": [
          17.59453781512605,
          17.758985200845665,
          20.975429975429975,
          21.774683544303798,
          20.637469586374696,
          18.33187772925764,
          20.84975369458128,
          19.18552036199095,
          21.205,
          16.612244897959183
         ],
         "yaxis": "y3"
        },
        {
         "marker": {
          "color": "#f1c40f"
         },
         "name": "gemini-1.5-flash",
         "showlegend": false,
         "type": "bar",
         "x": [
          "Mark Twain",
          "Zane Grey",
          "Joseph Conrad",
          "George Eliot",
          "Benjamin Disraeli",
          "Lucy Maud Montgomery",
          "William Henry Hudson",
          "Howard Pyle",
          "Virginia Woolf",
          "Lewis Carroll"
         ],
         "xaxis": "x4",
         "y": [
          1.3511641791044775,
          1.4426190476190477,
          1.5065011128030925,
          1.5486571328915242,
          1.5712096203725536,
          1.4809433063363506,
          1.5109273479031304,
          1.4508254716981133,
          1.4771280358406036,
          1.4769041769041769
         ],
         "yaxis": "y4"
        },
        {
         "marker": {
          "color": "#f1c40f"
         },
         "name": "gemini-1.5-flash",
         "showlegend": false,
         "type": "bar",
         "x": [
          "Mark Twain",
          "Zane Grey",
          "Joseph Conrad",
          "George Eliot",
          "Benjamin Disraeli",
          "Lucy Maud Montgomery",
          "William Henry Hudson",
          "Howard Pyle",
          "Virginia Woolf",
          "Lewis Carroll"
         ],
         "xaxis": "x5",
         "y": [
          74.6680545654083,
          66.76405859257024,
          58.09494443179696,
          53.71730275990873,
          52.96363448631169,
          62.940340388748254,
          57.848046367395185,
          64.62186192691881,
          60.34689316788494,
          65.02747806247808
         ],
         "yaxis": "y5"
        },
        {
         "marker": {
          "color": "#f1c40f"
         },
         "name": "gemini-1.5-flash",
         "showlegend": false,
         "type": "bar",
         "x": [
          "Mark Twain",
          "Zane Grey",
          "Joseph Conrad",
          "George Eliot",
          "Benjamin Disraeli",
          "Lucy Maud Montgomery",
          "William Henry Hudson",
          "Howard Pyle",
          "Virginia Woolf",
          "Lewis Carroll"
         ],
         "xaxis": "x6",
         "y": [
          7.215607061331994,
          8.358908990234575,
          10.367130821494182,
          11.176280750398465,
          10.998886659082267,
          9.034563329179417,
          10.370346646143641,
          9.012093507214207,
          10.11006082291912,
          8.31624479767337
         ],
         "yaxis": "y6"
        },
        {
         "marker": {
          "color": "#f1c40f"
         },
         "name": "gemini-1.5-flash",
         "showlegend": false,
         "type": "bar",
         "x": [
          "Mark Twain",
          "Zane Grey",
          "Joseph Conrad",
          "George Eliot",
          "Benjamin Disraeli",
          "Lucy Maud Montgomery",
          "William Henry Hudson",
          "Howard Pyle",
          "Virginia Woolf",
          "Lewis Carroll"
         ],
         "xaxis": "x7",
         "y": [
          10.19005393202057,
          11.084546461290648,
          13.145940995677439,
          14.230161756286803,
          14.305447631767516,
          11.87777253048343,
          13.287332074406642,
          11.641189276871852,
          13.004518273991984,
          11.165782480068195
         ],
         "yaxis": "y7"
        },
        {
         "marker": {
          "color": "#9b59b6"
         },
         "name": "open-mixtral-8x7b",
         "showlegend": true,
         "type": "bar",
         "x": [
          "Mark Twain",
          "Zane Grey",
          "Joseph Conrad",
          "George Eliot",
          "Benjamin Disraeli",
          "Lucy Maud Montgomery",
          "William Henry Hudson",
          "Howard Pyle",
          "Virginia Woolf",
          "Lewis Carroll"
         ],
         "xaxis": "x",
         "y": [
          2173,
          2055,
          2070,
          2243,
          2230,
          2226,
          2351,
          2084,
          1722,
          2432
         ],
         "yaxis": "y"
        },
        {
         "marker": {
          "color": "#9b59b6"
         },
         "name": "open-mixtral-8x7b",
         "showlegend": false,
         "type": "bar",
         "x": [
          "Mark Twain",
          "Zane Grey",
          "Joseph Conrad",
          "George Eliot",
          "Benjamin Disraeli",
          "Lucy Maud Montgomery",
          "William Henry Hudson",
          "Howard Pyle",
          "Virginia Woolf",
          "Lewis Carroll"
         ],
         "xaxis": "x2",
         "y": [
          4.287330058265738,
          4.433539235872798,
          4.577865612648221,
          4.741052153164413,
          4.70637772288345,
          4.503551696921862,
          4.729293613179869,
          4.4635003400589435,
          4.262407301768397,
          4.69767710620594
         ],
         "yaxis": "y2"
        },
        {
         "marker": {
          "color": "#9b59b6"
         },
         "name": "open-mixtral-8x7b",
         "showlegend": false,
         "type": "bar",
         "x": [
          "Mark Twain",
          "Zane Grey",
          "Joseph Conrad",
          "George Eliot",
          "Benjamin Disraeli",
          "Lucy Maud Montgomery",
          "William Henry Hudson",
          "Howard Pyle",
          "Virginia Woolf",
          "Lewis Carroll"
         ],
         "xaxis": "x3",
         "y": [
          20.790973871733968,
          20.913875598086126,
          27.845911949685533,
          26.83231707317073,
          27.069908814589667,
          22.453164556962026,
          26.773413897280967,
          24.437673130193907,
          25.931952662721894,
          19.983833718244803
         ],
         "yaxis": "y3"
        },
        {
         "marker": {
          "color": "#9b59b6"
         },
         "name": "open-mixtral-8x7b",
         "showlegend": false,
         "type": "bar",
         "x": [
          "Mark Twain",
          "Zane Grey",
          "Joseph Conrad",
          "George Eliot",
          "Benjamin Disraeli",
          "Lucy Maud Montgomery",
          "William Henry Hudson",
          "Howard Pyle",
          "Virginia Woolf",
          "Lewis Carroll"
         ],
         "xaxis": "x4",
         "y": [
          1.4219124871472637,
          1.4386867993594143,
          1.5295313382269904,
          1.5750482899670493,
          1.5838760386256456,
          1.4667944525876648,
          1.5800045136538028,
          1.4434368623894809,
          1.397375926982316,
          1.5359990754651567
         ],
         "yaxis": "y4"
        },
        {
         "marker": {
          "color": "#9b59b6"
         },
         "name": "open-mixtral-8x7b",
         "showlegend": false,
         "type": "bar",
         "x": [
          "Mark Twain",
          "Zane Grey",
          "Joseph Conrad",
          "George Eliot",
          "Benjamin Disraeli",
          "Lucy Maud Montgomery",
          "William Henry Hudson",
          "Howard Pyle",
          "Virginia Woolf",
          "Lewis Carroll"
         ],
         "xaxis": "x5",
         "y": [
          65.43836510753154,
          63.894513042136154,
          49.17304815706581,
          46.351112839519345,
          45.3631296854619,
          59.95422728576713,
          45.99160303914812,
          59.916003214703125,
          62.296064624633345,
          56.60588699162929
         ],
         "yaxis": "y5"
        },
        {
         "marker": {
          "color": "#9b59b6"
         },
         "name": "open-mixtral-8x7b",
         "showlegend": false,
         "type": "bar",
         "x": [
          "Mark Twain",
          "Zane Grey",
          "Joseph Conrad",
          "George Eliot",
          "Benjamin Disraeli",
          "Lucy Maud Montgomery",
          "William Henry Hudson",
          "Howard Pyle",
          "Virginia Woolf",
          "Lewis Carroll"
         ],
         "xaxis": "x6",
         "y": [
          9.297047158313962,
          9.54291571569468,
          13.318375451455847,
          13.46017348014777,
          13.65700169347259,
          10.474908717749635,
          13.495684681054453,
          10.9732474969715,
          11.012497476852872,
          10.328484240604322
         ],
         "yaxis": "y6"
        },
        {
         "marker": {
          "color": "#9b59b6"
         },
         "name": "open-mixtral-8x7b",
         "showlegend": false,
         "type": "bar",
         "x": [
          "Mark Twain",
          "Zane Grey",
          "Joseph Conrad",
          "George Eliot",
          "Benjamin Disraeli",
          "Lucy Maud Montgomery",
          "William Henry Hudson",
          "Howard Pyle",
          "Virginia Woolf",
          "Lewis Carroll"
         ],
         "xaxis": "x7",
         "y": [
          12.177922737314631,
          12.63002061214683,
          16.644858286367718,
          16.814053973910948,
          16.99459276455134,
          13.59057916137992,
          16.757661654601847,
          13.878447170916829,
          14.000847237364855,
          13.434421040747592
         ],
         "yaxis": "y7"
        },
        {
         "marker": {
          "color": "#e67e22"
         },
         "name": "claude-3-haiku-20240307",
         "showlegend": true,
         "type": "bar",
         "x": [
          "Mark Twain",
          "Zane Grey",
          "Joseph Conrad",
          "George Eliot",
          "Benjamin Disraeli",
          "Lucy Maud Montgomery",
          "William Henry Hudson",
          "Howard Pyle",
          "Virginia Woolf",
          "Lewis Carroll"
         ],
         "xaxis": "x",
         "y": [
          2051,
          2277,
          2077,
          2324,
          2185,
          2326,
          2148,
          2036,
          2188,
          2221
         ],
         "yaxis": "y"
        },
        {
         "marker": {
          "color": "#e67e22"
         },
         "name": "claude-3-haiku-20240307",
         "showlegend": false,
         "type": "bar",
         "x": [
          "Mark Twain",
          "Zane Grey",
          "Joseph Conrad",
          "George Eliot",
          "Benjamin Disraeli",
          "Lucy Maud Montgomery",
          "William Henry Hudson",
          "Howard Pyle",
          "Virginia Woolf",
          "Lewis Carroll"
         ],
         "xaxis": "x2",
         "y": [
          4.233150332905034,
          4.506998623221661,
          4.627746319365799,
          4.719864176570458,
          4.688185415488976,
          4.566914710933028,
          4.770341947861415,
          4.630174168740104,
          4.578611332801277,
          4.6183757742601514
         ],
         "yaxis": "y2"
        },
        {
         "marker": {
          "color": "#e67e22"
         },
         "name": "claude-3-haiku-20240307",
         "showlegend": false,
         "type": "bar",
         "x": [
          "Mark Twain",
          "Zane Grey",
          "Joseph Conrad",
          "George Eliot",
          "Benjamin Disraeli",
          "Lucy Maud Montgomery",
          "William Henry Hudson",
          "Howard Pyle",
          "Virginia Woolf",
          "Lewis Carroll"
         ],
         "xaxis": "x3",
         "y": [
          21.034398034398034,
          21.574257425742573,
          26.124260355029588,
          29.35215946843854,
          27.990506329113924,
          23.67208672086721,
          28.400641025641026,
          24.425414364640883,
          26.41867469879518,
          26.498480243161094
         ],
         "yaxis": "y3"
        },
        {
         "marker": {
          "color": "#e67e22"
         },
         "name": "claude-3-haiku-20240307",
         "showlegend": false,
         "type": "bar",
         "x": [
          "Mark Twain",
          "Zane Grey",
          "Joseph Conrad",
          "George Eliot",
          "Benjamin Disraeli",
          "Lucy Maud Montgomery",
          "William Henry Hudson",
          "Howard Pyle",
          "Virginia Woolf",
          "Lewis Carroll"
         ],
         "xaxis": "x4",
         "y": [
          1.3818479149632052,
          1.4561725562184489,
          1.5397508493771235,
          1.5564233163554047,
          1.5573770491803278,
          1.5079564968517458,
          1.559981943347252,
          1.5343813616828772,
          1.4949264622049938,
          1.496214728148658
         ],
         "yaxis": "y4"
        },
        {
         "marker": {
          "color": "#e67e22"
         },
         "name": "claude-3-haiku-20240307",
         "showlegend": false,
         "type": "bar",
         "x": [
          "Mark Twain",
          "Zane Grey",
          "Joseph Conrad",
          "George Eliot",
          "Benjamin Disraeli",
          "Lucy Maud Montgomery",
          "William Henry Hudson",
          "Howard Pyle",
          "Virginia Woolf",
          "Lewis Carroll"
         ],
         "xaxis": "x5",
         "y": [
          68.58075238919884,
          61.74493045679053,
          50.05595388234033,
          45.36914557586766,
          46.67053771529365,
          55.234712344662114,
          46.033876951796884,
          52.23454122151813,
          53.549266478180414,
          53.35927655181506
         ],
         "yaxis": "y5"
        },
        {
         "marker": {
          "color": "#e67e22"
         },
         "name": "claude-3-haiku-20240307",
         "showlegend": false,
         "type": "bar",
         "x": [
          "Mark Twain",
          "Zane Grey",
          "Joseph Conrad",
          "George Eliot",
          "Benjamin Disraeli",
          "Lucy Maud Montgomery",
          "William Henry Hudson",
          "Howard Pyle",
          "Virginia Woolf",
          "Lewis Carroll"
         ],
         "xaxis": "x6",
         "y": [
          8.919220629981059,
          10.0067965594173,
          12.767521561111597,
          14.223137325684807,
          13.703346648682302,
          11.436000483988817,
          13.89403693149757,
          12.041611670067898,
          12.353415386549049,
          12.399741086986989
         ],
         "yaxis": "y6"
        },
        {
         "marker": {
          "color": "#e67e22"
         },
         "name": "claude-3-haiku-20240307",
         "showlegend": false,
         "type": "bar",
         "x": [
          "Mark Twain",
          "Zane Grey",
          "Joseph Conrad",
          "George Eliot",
          "Benjamin Disraeli",
          "Lucy Maud Montgomery",
          "William Henry Hudson",
          "Howard Pyle",
          "Virginia Woolf",
          "Lewis Carroll"
         ],
         "xaxis": "x7",
         "y": [
          11.796541598994583,
          12.911483603615066,
          15.949137890596205,
          17.354898875094715,
          16.885292412934433,
          14.538096279646254,
          17.097757820932408,
          15.289279068634006,
          15.305812143798086,
          15.52712781646609
         ],
         "yaxis": "y7"
        }
       ],
       "layout": {
        "annotations": [
         {
          "font": {
           "size": 16
          },
          "showarrow": false,
          "text": "Unique word count",
          "x": 0.5,
          "xanchor": "center",
          "xref": "paper",
          "y": 0.9999999999999999,
          "yanchor": "bottom",
          "yref": "paper"
         },
         {
          "font": {
           "size": 16
          },
          "showarrow": false,
          "text": "Average word length",
          "x": 0.5,
          "xanchor": "center",
          "xref": "paper",
          "y": 0.8469387755102039,
          "yanchor": "bottom",
          "yref": "paper"
         },
         {
          "font": {
           "size": 16
          },
          "showarrow": false,
          "text": "Average sentence length",
          "x": 0.5,
          "xanchor": "center",
          "xref": "paper",
          "y": 0.6938775510204082,
          "yanchor": "bottom",
          "yref": "paper"
         },
         {
          "font": {
           "size": 16
          },
          "showarrow": false,
          "text": "Average syllables per word",
          "x": 0.5,
          "xanchor": "center",
          "xref": "paper",
          "y": 0.5408163265306122,
          "yanchor": "bottom",
          "yref": "paper"
         },
         {
          "font": {
           "size": 16
          },
          "showarrow": false,
          "text": "Flesch reading ease",
          "x": 0.5,
          "xanchor": "center",
          "xref": "paper",
          "y": 0.3877551020408163,
          "yanchor": "bottom",
          "yref": "paper"
         },
         {
          "font": {
           "size": 16
          },
          "showarrow": false,
          "text": "Flesch Kincaid Grade Level",
          "x": 0.5,
          "xanchor": "center",
          "xref": "paper",
          "y": 0.2346938775510204,
          "yanchor": "bottom",
          "yref": "paper"
         },
         {
          "font": {
           "size": 16
          },
          "showarrow": false,
          "text": "Gunning Fog Index",
          "x": 0.5,
          "xanchor": "center",
          "xref": "paper",
          "y": 0.08163265306122448,
          "yanchor": "bottom",
          "yref": "paper"
         }
        ],
        "height": 1000,
        "legend": {
         "title": {
          "text": "Text source"
         }
        },
        "template": {
         "data": {
          "bar": [
           {
            "error_x": {
             "color": "#2a3f5f"
            },
            "error_y": {
             "color": "#2a3f5f"
            },
            "marker": {
             "line": {
              "color": "#E5ECF6",
              "width": 0.5
             },
             "pattern": {
              "fillmode": "overlay",
              "size": 10,
              "solidity": 0.2
             }
            },
            "type": "bar"
           }
          ],
          "barpolar": [
           {
            "marker": {
             "line": {
              "color": "#E5ECF6",
              "width": 0.5
             },
             "pattern": {
              "fillmode": "overlay",
              "size": 10,
              "solidity": 0.2
             }
            },
            "type": "barpolar"
           }
          ],
          "carpet": [
           {
            "aaxis": {
             "endlinecolor": "#2a3f5f",
             "gridcolor": "white",
             "linecolor": "white",
             "minorgridcolor": "white",
             "startlinecolor": "#2a3f5f"
            },
            "baxis": {
             "endlinecolor": "#2a3f5f",
             "gridcolor": "white",
             "linecolor": "white",
             "minorgridcolor": "white",
             "startlinecolor": "#2a3f5f"
            },
            "type": "carpet"
           }
          ],
          "choropleth": [
           {
            "colorbar": {
             "outlinewidth": 0,
             "ticks": ""
            },
            "type": "choropleth"
           }
          ],
          "contour": [
           {
            "colorbar": {
             "outlinewidth": 0,
             "ticks": ""
            },
            "colorscale": [
             [
              0,
              "#0d0887"
             ],
             [
              0.1111111111111111,
              "#46039f"
             ],
             [
              0.2222222222222222,
              "#7201a8"
             ],
             [
              0.3333333333333333,
              "#9c179e"
             ],
             [
              0.4444444444444444,
              "#bd3786"
             ],
             [
              0.5555555555555556,
              "#d8576b"
             ],
             [
              0.6666666666666666,
              "#ed7953"
             ],
             [
              0.7777777777777778,
              "#fb9f3a"
             ],
             [
              0.8888888888888888,
              "#fdca26"
             ],
             [
              1,
              "#f0f921"
             ]
            ],
            "type": "contour"
           }
          ],
          "contourcarpet": [
           {
            "colorbar": {
             "outlinewidth": 0,
             "ticks": ""
            },
            "type": "contourcarpet"
           }
          ],
          "heatmap": [
           {
            "colorbar": {
             "outlinewidth": 0,
             "ticks": ""
            },
            "colorscale": [
             [
              0,
              "#0d0887"
             ],
             [
              0.1111111111111111,
              "#46039f"
             ],
             [
              0.2222222222222222,
              "#7201a8"
             ],
             [
              0.3333333333333333,
              "#9c179e"
             ],
             [
              0.4444444444444444,
              "#bd3786"
             ],
             [
              0.5555555555555556,
              "#d8576b"
             ],
             [
              0.6666666666666666,
              "#ed7953"
             ],
             [
              0.7777777777777778,
              "#fb9f3a"
             ],
             [
              0.8888888888888888,
              "#fdca26"
             ],
             [
              1,
              "#f0f921"
             ]
            ],
            "type": "heatmap"
           }
          ],
          "heatmapgl": [
           {
            "colorbar": {
             "outlinewidth": 0,
             "ticks": ""
            },
            "colorscale": [
             [
              0,
              "#0d0887"
             ],
             [
              0.1111111111111111,
              "#46039f"
             ],
             [
              0.2222222222222222,
              "#7201a8"
             ],
             [
              0.3333333333333333,
              "#9c179e"
             ],
             [
              0.4444444444444444,
              "#bd3786"
             ],
             [
              0.5555555555555556,
              "#d8576b"
             ],
             [
              0.6666666666666666,
              "#ed7953"
             ],
             [
              0.7777777777777778,
              "#fb9f3a"
             ],
             [
              0.8888888888888888,
              "#fdca26"
             ],
             [
              1,
              "#f0f921"
             ]
            ],
            "type": "heatmapgl"
           }
          ],
          "histogram": [
           {
            "marker": {
             "pattern": {
              "fillmode": "overlay",
              "size": 10,
              "solidity": 0.2
             }
            },
            "type": "histogram"
           }
          ],
          "histogram2d": [
           {
            "colorbar": {
             "outlinewidth": 0,
             "ticks": ""
            },
            "colorscale": [
             [
              0,
              "#0d0887"
             ],
             [
              0.1111111111111111,
              "#46039f"
             ],
             [
              0.2222222222222222,
              "#7201a8"
             ],
             [
              0.3333333333333333,
              "#9c179e"
             ],
             [
              0.4444444444444444,
              "#bd3786"
             ],
             [
              0.5555555555555556,
              "#d8576b"
             ],
             [
              0.6666666666666666,
              "#ed7953"
             ],
             [
              0.7777777777777778,
              "#fb9f3a"
             ],
             [
              0.8888888888888888,
              "#fdca26"
             ],
             [
              1,
              "#f0f921"
             ]
            ],
            "type": "histogram2d"
           }
          ],
          "histogram2dcontour": [
           {
            "colorbar": {
             "outlinewidth": 0,
             "ticks": ""
            },
            "colorscale": [
             [
              0,
              "#0d0887"
             ],
             [
              0.1111111111111111,
              "#46039f"
             ],
             [
              0.2222222222222222,
              "#7201a8"
             ],
             [
              0.3333333333333333,
              "#9c179e"
             ],
             [
              0.4444444444444444,
              "#bd3786"
             ],
             [
              0.5555555555555556,
              "#d8576b"
             ],
             [
              0.6666666666666666,
              "#ed7953"
             ],
             [
              0.7777777777777778,
              "#fb9f3a"
             ],
             [
              0.8888888888888888,
              "#fdca26"
             ],
             [
              1,
              "#f0f921"
             ]
            ],
            "type": "histogram2dcontour"
           }
          ],
          "mesh3d": [
           {
            "colorbar": {
             "outlinewidth": 0,
             "ticks": ""
            },
            "type": "mesh3d"
           }
          ],
          "parcoords": [
           {
            "line": {
             "colorbar": {
              "outlinewidth": 0,
              "ticks": ""
             }
            },
            "type": "parcoords"
           }
          ],
          "pie": [
           {
            "automargin": true,
            "type": "pie"
           }
          ],
          "scatter": [
           {
            "fillpattern": {
             "fillmode": "overlay",
             "size": 10,
             "solidity": 0.2
            },
            "type": "scatter"
           }
          ],
          "scatter3d": [
           {
            "line": {
             "colorbar": {
              "outlinewidth": 0,
              "ticks": ""
             }
            },
            "marker": {
             "colorbar": {
              "outlinewidth": 0,
              "ticks": ""
             }
            },
            "type": "scatter3d"
           }
          ],
          "scattercarpet": [
           {
            "marker": {
             "colorbar": {
              "outlinewidth": 0,
              "ticks": ""
             }
            },
            "type": "scattercarpet"
           }
          ],
          "scattergeo": [
           {
            "marker": {
             "colorbar": {
              "outlinewidth": 0,
              "ticks": ""
             }
            },
            "type": "scattergeo"
           }
          ],
          "scattergl": [
           {
            "marker": {
             "colorbar": {
              "outlinewidth": 0,
              "ticks": ""
             }
            },
            "type": "scattergl"
           }
          ],
          "scattermapbox": [
           {
            "marker": {
             "colorbar": {
              "outlinewidth": 0,
              "ticks": ""
             }
            },
            "type": "scattermapbox"
           }
          ],
          "scatterpolar": [
           {
            "marker": {
             "colorbar": {
              "outlinewidth": 0,
              "ticks": ""
             }
            },
            "type": "scatterpolar"
           }
          ],
          "scatterpolargl": [
           {
            "marker": {
             "colorbar": {
              "outlinewidth": 0,
              "ticks": ""
             }
            },
            "type": "scatterpolargl"
           }
          ],
          "scatterternary": [
           {
            "marker": {
             "colorbar": {
              "outlinewidth": 0,
              "ticks": ""
             }
            },
            "type": "scatterternary"
           }
          ],
          "surface": [
           {
            "colorbar": {
             "outlinewidth": 0,
             "ticks": ""
            },
            "colorscale": [
             [
              0,
              "#0d0887"
             ],
             [
              0.1111111111111111,
              "#46039f"
             ],
             [
              0.2222222222222222,
              "#7201a8"
             ],
             [
              0.3333333333333333,
              "#9c179e"
             ],
             [
              0.4444444444444444,
              "#bd3786"
             ],
             [
              0.5555555555555556,
              "#d8576b"
             ],
             [
              0.6666666666666666,
              "#ed7953"
             ],
             [
              0.7777777777777778,
              "#fb9f3a"
             ],
             [
              0.8888888888888888,
              "#fdca26"
             ],
             [
              1,
              "#f0f921"
             ]
            ],
            "type": "surface"
           }
          ],
          "table": [
           {
            "cells": {
             "fill": {
              "color": "#EBF0F8"
             },
             "line": {
              "color": "white"
             }
            },
            "header": {
             "fill": {
              "color": "#C8D4E3"
             },
             "line": {
              "color": "white"
             }
            },
            "type": "table"
           }
          ]
         },
         "layout": {
          "annotationdefaults": {
           "arrowcolor": "#2a3f5f",
           "arrowhead": 0,
           "arrowwidth": 1
          },
          "autotypenumbers": "strict",
          "coloraxis": {
           "colorbar": {
            "outlinewidth": 0,
            "ticks": ""
           }
          },
          "colorscale": {
           "diverging": [
            [
             0,
             "#8e0152"
            ],
            [
             0.1,
             "#c51b7d"
            ],
            [
             0.2,
             "#de77ae"
            ],
            [
             0.3,
             "#f1b6da"
            ],
            [
             0.4,
             "#fde0ef"
            ],
            [
             0.5,
             "#f7f7f7"
            ],
            [
             0.6,
             "#e6f5d0"
            ],
            [
             0.7,
             "#b8e186"
            ],
            [
             0.8,
             "#7fbc41"
            ],
            [
             0.9,
             "#4d9221"
            ],
            [
             1,
             "#276419"
            ]
           ],
           "sequential": [
            [
             0,
             "#0d0887"
            ],
            [
             0.1111111111111111,
             "#46039f"
            ],
            [
             0.2222222222222222,
             "#7201a8"
            ],
            [
             0.3333333333333333,
             "#9c179e"
            ],
            [
             0.4444444444444444,
             "#bd3786"
            ],
            [
             0.5555555555555556,
             "#d8576b"
            ],
            [
             0.6666666666666666,
             "#ed7953"
            ],
            [
             0.7777777777777778,
             "#fb9f3a"
            ],
            [
             0.8888888888888888,
             "#fdca26"
            ],
            [
             1,
             "#f0f921"
            ]
           ],
           "sequentialminus": [
            [
             0,
             "#0d0887"
            ],
            [
             0.1111111111111111,
             "#46039f"
            ],
            [
             0.2222222222222222,
             "#7201a8"
            ],
            [
             0.3333333333333333,
             "#9c179e"
            ],
            [
             0.4444444444444444,
             "#bd3786"
            ],
            [
             0.5555555555555556,
             "#d8576b"
            ],
            [
             0.6666666666666666,
             "#ed7953"
            ],
            [
             0.7777777777777778,
             "#fb9f3a"
            ],
            [
             0.8888888888888888,
             "#fdca26"
            ],
            [
             1,
             "#f0f921"
            ]
           ]
          },
          "colorway": [
           "#636efa",
           "#EF553B",
           "#00cc96",
           "#ab63fa",
           "#FFA15A",
           "#19d3f3",
           "#FF6692",
           "#B6E880",
           "#FF97FF",
           "#FECB52"
          ],
          "font": {
           "color": "#2a3f5f"
          },
          "geo": {
           "bgcolor": "white",
           "lakecolor": "white",
           "landcolor": "#E5ECF6",
           "showlakes": true,
           "showland": true,
           "subunitcolor": "white"
          },
          "hoverlabel": {
           "align": "left"
          },
          "hovermode": "closest",
          "mapbox": {
           "style": "light"
          },
          "paper_bgcolor": "white",
          "plot_bgcolor": "#E5ECF6",
          "polar": {
           "angularaxis": {
            "gridcolor": "white",
            "linecolor": "white",
            "ticks": ""
           },
           "bgcolor": "#E5ECF6",
           "radialaxis": {
            "gridcolor": "white",
            "linecolor": "white",
            "ticks": ""
           }
          },
          "scene": {
           "xaxis": {
            "backgroundcolor": "#E5ECF6",
            "gridcolor": "white",
            "gridwidth": 2,
            "linecolor": "white",
            "showbackground": true,
            "ticks": "",
            "zerolinecolor": "white"
           },
           "yaxis": {
            "backgroundcolor": "#E5ECF6",
            "gridcolor": "white",
            "gridwidth": 2,
            "linecolor": "white",
            "showbackground": true,
            "ticks": "",
            "zerolinecolor": "white"
           },
           "zaxis": {
            "backgroundcolor": "#E5ECF6",
            "gridcolor": "white",
            "gridwidth": 2,
            "linecolor": "white",
            "showbackground": true,
            "ticks": "",
            "zerolinecolor": "white"
           }
          },
          "shapedefaults": {
           "line": {
            "color": "#2a3f5f"
           }
          },
          "ternary": {
           "aaxis": {
            "gridcolor": "white",
            "linecolor": "white",
            "ticks": ""
           },
           "baxis": {
            "gridcolor": "white",
            "linecolor": "white",
            "ticks": ""
           },
           "bgcolor": "#E5ECF6",
           "caxis": {
            "gridcolor": "white",
            "linecolor": "white",
            "ticks": ""
           }
          },
          "title": {
           "x": 0.05
          },
          "xaxis": {
           "automargin": true,
           "gridcolor": "white",
           "linecolor": "white",
           "ticks": "",
           "title": {
            "standoff": 15
           },
           "zerolinecolor": "white",
           "zerolinewidth": 2
          },
          "yaxis": {
           "automargin": true,
           "gridcolor": "white",
           "linecolor": "white",
           "ticks": "",
           "title": {
            "standoff": 15
           },
           "zerolinecolor": "white",
           "zerolinewidth": 2
          }
         }
        },
        "xaxis": {
         "anchor": "y",
         "domain": [
          0,
          1
         ],
         "tickfont": {
          "size": 10
         }
        },
        "xaxis2": {
         "anchor": "y2",
         "domain": [
          0,
          1
         ],
         "tickfont": {
          "size": 10
         }
        },
        "xaxis3": {
         "anchor": "y3",
         "domain": [
          0,
          1
         ],
         "tickfont": {
          "size": 10
         }
        },
        "xaxis4": {
         "anchor": "y4",
         "domain": [
          0,
          1
         ],
         "tickfont": {
          "size": 10
         }
        },
        "xaxis5": {
         "anchor": "y5",
         "domain": [
          0,
          1
         ],
         "tickfont": {
          "size": 10
         }
        },
        "xaxis6": {
         "anchor": "y6",
         "domain": [
          0,
          1
         ],
         "tickfont": {
          "size": 10
         }
        },
        "xaxis7": {
         "anchor": "y7",
         "domain": [
          0,
          1
         ],
         "tickfont": {
          "size": 10
         }
        },
        "yaxis": {
         "anchor": "x",
         "domain": [
          0.9183673469387754,
          0.9999999999999999
         ]
        },
        "yaxis2": {
         "anchor": "x2",
         "domain": [
          0.7653061224489794,
          0.8469387755102039
         ]
        },
        "yaxis3": {
         "anchor": "x3",
         "domain": [
          0.6122448979591837,
          0.6938775510204082
         ]
        },
        "yaxis4": {
         "anchor": "x4",
         "domain": [
          0.4591836734693877,
          0.5408163265306122
         ]
        },
        "yaxis5": {
         "anchor": "x5",
         "domain": [
          0.30612244897959184,
          0.3877551020408163
         ]
        },
        "yaxis6": {
         "anchor": "x6",
         "domain": [
          0.15306122448979592,
          0.2346938775510204
         ]
        },
        "yaxis7": {
         "anchor": "x7",
         "domain": [
          0,
          0.08163265306122448
         ]
        }
       }
      }
     },
     "metadata": {},
     "output_type": "display_data"
    },
    {
     "data": {
      "application/vnd.plotly.v1+json": {
       "config": {
        "plotlyServerURL": "https://plot.ly"
       },
       "data": [
        {
         "marker": {
          "color": "#3498db"
         },
         "name": "books",
         "showlegend": true,
         "type": "bar",
         "x": [
          "the",
          "of",
          "and",
          "in",
          "to",
          "a",
          "it",
          "was",
          "ye",
          "that"
         ],
         "xaxis": "x",
         "y": [
          381,
          336,
          265,
          204,
          192,
          190,
          126,
          125,
          123,
          112
         ],
         "yaxis": "y"
        },
        {
         "marker": {
          "color": "#3498db"
         },
         "name": "books",
         "showlegend": false,
         "type": "bar",
         "x": [
          "the",
          "and",
          "of",
          "a",
          "to",
          "he",
          "in",
          "had",
          "was",
          "his"
         ],
         "xaxis": "x2",
         "y": [
          555,
          295,
          269,
          229,
          196,
          148,
          133,
          109,
          108,
          98
         ],
         "yaxis": "y2"
        },
        {
         "marker": {
          "color": "#3498db"
         },
         "name": "books",
         "showlegend": false,
         "type": "bar",
         "x": [
          "the",
          "i",
          "a",
          "of",
          "to",
          "he",
          "and",
          "in",
          "was",
          "his"
         ],
         "xaxis": "x3",
         "y": [
          400,
          279,
          271,
          249,
          206,
          171,
          161,
          147,
          137,
          121
         ],
         "yaxis": "y3"
        },
        {
         "marker": {
          "color": "#3498db"
         },
         "name": "books",
         "showlegend": false,
         "type": "bar",
         "x": [
          "the",
          "a",
          "and",
          "of",
          "to",
          "s",
          "his",
          "i",
          "as",
          "in"
         ],
         "xaxis": "x4",
         "y": [
          450,
          237,
          226,
          212,
          206,
          153,
          120,
          120,
          116,
          106
         ],
         "yaxis": "y4"
        },
        {
         "marker": {
          "color": "#3498db"
         },
         "name": "books",
         "showlegend": false,
         "type": "bar",
         "x": [
          "the",
          "and",
          "of",
          "a",
          "i",
          "to",
          "he",
          "is",
          "in",
          "my"
         ],
         "xaxis": "x5",
         "y": [
          512,
          328,
          252,
          185,
          150,
          139,
          104,
          103,
          101,
          95
         ],
         "yaxis": "y5"
        },
        {
         "marker": {
          "color": "#3498db"
         },
         "name": "books",
         "showlegend": false,
         "type": "bar",
         "x": [
          "the",
          "and",
          "to",
          "a",
          "i",
          "of",
          "it",
          "that",
          "in",
          "you"
         ],
         "xaxis": "x6",
         "y": [
          298,
          240,
          217,
          192,
          188,
          156,
          148,
          123,
          119,
          114
         ],
         "yaxis": "y6"
        },
        {
         "marker": {
          "color": "#3498db"
         },
         "name": "books",
         "showlegend": false,
         "type": "bar",
         "x": [
          "the",
          "and",
          "a",
          "of",
          "i",
          "to",
          "in",
          "was",
          "it",
          "that"
         ],
         "xaxis": "x7",
         "y": [
          470,
          278,
          271,
          268,
          250,
          217,
          150,
          105,
          93,
          89
         ],
         "yaxis": "y7"
        },
        {
         "marker": {
          "color": "#3498db"
         },
         "name": "books",
         "showlegend": false,
         "type": "bar",
         "x": [
          "the",
          "of",
          "and",
          "to",
          "a",
          "was",
          "in",
          "that",
          "it",
          "he"
         ],
         "xaxis": "x8",
         "y": [
          704,
          440,
          355,
          222,
          175,
          161,
          145,
          96,
          80,
          79
         ],
         "yaxis": "y8"
        },
        {
         "marker": {
          "color": "#3498db"
         },
         "name": "books",
         "showlegend": false,
         "type": "bar",
         "x": [
          "the",
          "and",
          "a",
          "of",
          "in",
          "was",
          "to",
          "she",
          "her",
          "he"
         ],
         "xaxis": "x9",
         "y": [
          634,
          274,
          178,
          173,
          149,
          148,
          140,
          134,
          123,
          107
         ],
         "yaxis": "y9"
        },
        {
         "marker": {
          "color": "#3498db"
         },
         "name": "books",
         "showlegend": false,
         "type": "bar",
         "x": [
          "the",
          "and",
          "of",
          "a",
          "to",
          "in",
          "i",
          "you",
          "it",
          "said"
         ],
         "xaxis": "x10",
         "y": [
          478,
          216,
          178,
          173,
          166,
          120,
          108,
          100,
          96,
          81
         ],
         "yaxis": "y10"
        },
        {
         "marker": {
          "color": "#e74c3c"
         },
         "name": "gpt-3.5-turbo-0125",
         "showlegend": true,
         "type": "bar",
         "x": [
          "the",
          "a",
          "and",
          "of",
          "to",
          "you",
          "in",
          "that",
          "with",
          "it"
         ],
         "xaxis": "x11",
         "y": [
          574,
          354,
          317,
          302,
          221,
          140,
          136,
          121,
          93,
          81
         ],
         "yaxis": "y11"
        },
        {
         "marker": {
          "color": "#e74c3c"
         },
         "name": "gpt-3.5-turbo-0125",
         "showlegend": false,
         "type": "bar",
         "x": [
          "the",
          "and",
          "a",
          "of",
          "to",
          "in",
          "that",
          "with",
          "i",
          "as"
         ],
         "xaxis": "x12",
         "y": [
          644,
          366,
          364,
          355,
          204,
          173,
          153,
          109,
          91,
          80
         ],
         "yaxis": "y12"
        },
        {
         "marker": {
          "color": "#e74c3c"
         },
         "name": "gpt-3.5-turbo-0125",
         "showlegend": false,
         "type": "bar",
         "x": [
          "the",
          "of",
          "a",
          "and",
          "to",
          "in",
          "that",
          "with",
          "is",
          "as"
         ],
         "xaxis": "x13",
         "y": [
          695,
          462,
          381,
          366,
          205,
          172,
          167,
          114,
          88,
          83
         ],
         "yaxis": "y13"
        },
        {
         "marker": {
          "color": "#e74c3c"
         },
         "name": "gpt-3.5-turbo-0125",
         "showlegend": false,
         "type": "bar",
         "x": [
          "the",
          "and",
          "of",
          "a",
          "to",
          "in",
          "that",
          "as",
          "with",
          "it"
         ],
         "xaxis": "x14",
         "y": [
          689,
          423,
          385,
          363,
          219,
          178,
          134,
          113,
          108,
          81
         ],
         "yaxis": "y14"
        },
        {
         "marker": {
          "color": "#e74c3c"
         },
         "name": "gpt-3.5-turbo-0125",
         "showlegend": false,
         "type": "bar",
         "x": [
          "the",
          "and",
          "a",
          "of",
          "to",
          "in",
          "that",
          "it",
          "is",
          "as"
         ],
         "xaxis": "x15",
         "y": [
          580,
          415,
          381,
          367,
          265,
          158,
          155,
          112,
          110,
          105
         ],
         "yaxis": "y15"
        },
        {
         "marker": {
          "color": "#e74c3c"
         },
         "name": "gpt-3.5-turbo-0125",
         "showlegend": false,
         "type": "bar",
         "x": [
          "the",
          "of",
          "and",
          "a",
          "to",
          "in",
          "that",
          "you",
          "with",
          "as"
         ],
         "xaxis": "x16",
         "y": [
          653,
          373,
          361,
          339,
          265,
          170,
          135,
          108,
          103,
          96
         ],
         "yaxis": "y16"
        },
        {
         "marker": {
          "color": "#e74c3c"
         },
         "name": "gpt-3.5-turbo-0125",
         "showlegend": false,
         "type": "bar",
         "x": [
          "the",
          "of",
          "and",
          "a",
          "to",
          "in",
          "that",
          "with",
          "is",
          "as"
         ],
         "xaxis": "x17",
         "y": [
          667,
          424,
          409,
          379,
          234,
          156,
          156,
          102,
          89,
          82
         ],
         "yaxis": "y17"
        },
        {
         "marker": {
          "color": "#e74c3c"
         },
         "name": "gpt-3.5-turbo-0125",
         "showlegend": false,
         "type": "bar",
         "x": [
          "the",
          "and",
          "a",
          "of",
          "to",
          "in",
          "that",
          "with",
          "it",
          "was"
         ],
         "xaxis": "x18",
         "y": [
          587,
          364,
          331,
          319,
          238,
          169,
          130,
          113,
          80,
          80
         ],
         "yaxis": "y18"
        },
        {
         "marker": {
          "color": "#e74c3c"
         },
         "name": "gpt-3.5-turbo-0125",
         "showlegend": false,
         "type": "bar",
         "x": [
          "the",
          "of",
          "a",
          "and",
          "to",
          "in",
          "that",
          "with",
          "is",
          "it"
         ],
         "xaxis": "x19",
         "y": [
          748,
          466,
          406,
          390,
          249,
          183,
          157,
          108,
          95,
          77
         ],
         "yaxis": "y19"
        },
        {
         "marker": {
          "color": "#e74c3c"
         },
         "name": "gpt-3.5-turbo-0125",
         "showlegend": false,
         "type": "bar",
         "x": [
          "the",
          "and",
          "of",
          "a",
          "to",
          "in",
          "that",
          "with",
          "as",
          "their"
         ],
         "xaxis": "x20",
         "y": [
          624,
          369,
          366,
          358,
          243,
          182,
          126,
          102,
          82,
          80
         ],
         "yaxis": "y20"
        },
        {
         "marker": {
          "color": "#2ecc71"
         },
         "name": "gpt-4o",
         "showlegend": true,
         "type": "bar",
         "x": [
          "the",
          "a",
          "of",
          "and",
          "to",
          "you",
          "that",
          "in",
          "it",
          "i"
         ],
         "xaxis": "x21",
         "y": [
          539,
          404,
          305,
          290,
          214,
          159,
          137,
          121,
          107,
          97
         ],
         "yaxis": "y21"
        },
        {
         "marker": {
          "color": "#2ecc71"
         },
         "name": "gpt-4o",
         "showlegend": false,
         "type": "bar",
         "x": [
          "the",
          "a",
          "of",
          "and",
          "to",
          "in",
          "that",
          "with",
          "was",
          "it"
         ],
         "xaxis": "x22",
         "y": [
          745,
          344,
          343,
          292,
          177,
          128,
          126,
          116,
          108,
          94
         ],
         "yaxis": "y22"
        },
        {
         "marker": {
          "color": "#2ecc71"
         },
         "name": "gpt-4o",
         "showlegend": false,
         "type": "bar",
         "x": [
          "the",
          "of",
          "a",
          "and",
          "to",
          "that",
          "in",
          "is",
          "it",
          "with"
         ],
         "xaxis": "x23",
         "y": [
          784,
          463,
          395,
          252,
          219,
          192,
          124,
          115,
          112,
          97
         ],
         "yaxis": "y23"
        },
        {
         "marker": {
          "color": "#2ecc71"
         },
         "name": "gpt-4o",
         "showlegend": false,
         "type": "bar",
         "x": [
          "the",
          "of",
          "a",
          "and",
          "to",
          "that",
          "in",
          "with",
          "is",
          "it"
         ],
         "xaxis": "x24",
         "y": [
          767,
          504,
          385,
          312,
          203,
          152,
          133,
          113,
          81,
          77
         ],
         "yaxis": "y24"
        },
        {
         "marker": {
          "color": "#2ecc71"
         },
         "name": "gpt-4o",
         "showlegend": false,
         "type": "bar",
         "x": [
          "the",
          "of",
          "a",
          "and",
          "to",
          "in",
          "that",
          "is",
          "with",
          "as"
         ],
         "xaxis": "x25",
         "y": [
          751,
          508,
          409,
          278,
          220,
          152,
          145,
          138,
          116,
          111
         ],
         "yaxis": "y25"
        },
        {
         "marker": {
          "color": "#2ecc71"
         },
         "name": "gpt-4o",
         "showlegend": false,
         "type": "bar",
         "x": [
          "the",
          "of",
          "a",
          "and",
          "to",
          "that",
          "in",
          "with",
          "as",
          "was"
         ],
         "xaxis": "x26",
         "y": [
          699,
          408,
          387,
          264,
          202,
          141,
          140,
          129,
          95,
          88
         ],
         "yaxis": "y26"
        },
        {
         "marker": {
          "color": "#2ecc71"
         },
         "name": "gpt-4o",
         "showlegend": false,
         "type": "bar",
         "x": [
          "the",
          "of",
          "a",
          "and",
          "to",
          "that",
          "in",
          "with",
          "it",
          "is"
         ],
         "xaxis": "x27",
         "y": [
          735,
          446,
          404,
          304,
          240,
          165,
          155,
          119,
          92,
          87
         ],
         "yaxis": "y27"
        },
        {
         "marker": {
          "color": "#2ecc71"
         },
         "name": "gpt-4o",
         "showlegend": false,
         "type": "bar",
         "x": [
          "the",
          "of",
          "a",
          "and",
          "to",
          "with",
          "in",
          "that",
          "you",
          "it"
         ],
         "xaxis": "x28",
         "y": [
          722,
          437,
          370,
          305,
          210,
          144,
          127,
          127,
          106,
          78
         ],
         "yaxis": "y28"
        },
        {
         "marker": {
          "color": "#2ecc71"
         },
         "name": "gpt-4o",
         "showlegend": false,
         "type": "bar",
         "x": [
          "the",
          "of",
          "a",
          "and",
          "to",
          "is",
          "in",
          "that",
          "with",
          "it"
         ],
         "xaxis": "x29",
         "y": [
          708,
          479,
          464,
          286,
          207,
          169,
          167,
          166,
          115,
          110
         ],
         "yaxis": "y29"
        },
        {
         "marker": {
          "color": "#2ecc71"
         },
         "name": "gpt-4o",
         "showlegend": false,
         "type": "bar",
         "x": [
          "the",
          "a",
          "of",
          "and",
          "to",
          "that",
          "in",
          "with",
          "as",
          "was"
         ],
         "xaxis": "x30",
         "y": [
          645,
          422,
          339,
          283,
          187,
          123,
          119,
          119,
          94,
          91
         ],
         "yaxis": "y30"
        },
        {
         "marker": {
          "color": "#f1c40f"
         },
         "name": "gemini-1.5-flash",
         "showlegend": true,
         "type": "bar",
         "x": [
          "a",
          "the",
          "of",
          "you",
          "and",
          "s",
          "to",
          "it",
          "that",
          "in"
         ],
         "xaxis": "x31",
         "y": [
          516,
          418,
          264,
          261,
          231,
          177,
          174,
          157,
          137,
          105
         ],
         "yaxis": "y31"
        },
        {
         "marker": {
          "color": "#f1c40f"
         },
         "name": "gemini-1.5-flash",
         "showlegend": false,
         "type": "bar",
         "x": [
          "the",
          "a",
          "of",
          "and",
          "to",
          "that",
          "was",
          "it",
          "in",
          "i"
         ],
         "xaxis": "x32",
         "y": [
          744,
          494,
          447,
          246,
          166,
          129,
          116,
          101,
          94,
          90
         ],
         "yaxis": "y32"
        },
        {
         "marker": {
          "color": "#f1c40f"
         },
         "name": "gemini-1.5-flash",
         "showlegend": false,
         "type": "bar",
         "x": [
          "the",
          "a",
          "of",
          "and",
          "that",
          "to",
          "with",
          "it",
          "in",
          "its"
         ],
         "xaxis": "x33",
         "y": [
          739,
          547,
          534,
          212,
          163,
          161,
          124,
          103,
          90,
          80
         ],
         "yaxis": "y33"
        },
        {
         "marker": {
          "color": "#f1c40f"
         },
         "name": "gemini-1.5-flash",
         "showlegend": false,
         "type": "bar",
         "x": [
          "the",
          "of",
          "a",
          "and",
          "to",
          "that",
          "it",
          "in",
          "is",
          "with"
         ],
         "xaxis": "x34",
         "y": [
          752,
          538,
          477,
          238,
          228,
          143,
          104,
          89,
          82,
          77
         ],
         "yaxis": "y34"
        },
        {
         "marker": {
          "color": "#f1c40f"
         },
         "name": "gemini-1.5-flash",
         "showlegend": false,
         "type": "bar",
         "x": [
          "the",
          "of",
          "a",
          "and",
          "to",
          "is",
          "that",
          "with",
          "you",
          "in"
         ],
         "xaxis": "x35",
         "y": [
          727,
          543,
          498,
          238,
          200,
          111,
          102,
          102,
          98,
          82
         ],
         "yaxis": "y35"
        },
        {
         "marker": {
          "color": "#f1c40f"
         },
         "name": "gemini-1.5-flash",
         "showlegend": false,
         "type": "bar",
         "x": [
          "the",
          "a",
          "of",
          "and",
          "to",
          "his",
          "with",
          "in",
          "that",
          "it"
         ],
         "xaxis": "x36",
         "y": [
          631,
          493,
          421,
          231,
          165,
          123,
          120,
          115,
          112,
          95
         ],
         "yaxis": "y36"
        },
        {
         "marker": {
          "color": "#f1c40f"
         },
         "name": "gemini-1.5-flash",
         "showlegend": false,
         "type": "bar",
         "x": [
          "the",
          "of",
          "a",
          "that",
          "to",
          "and",
          "is",
          "it",
          "in",
          "its"
         ],
         "xaxis": "x37",
         "y": [
          790,
          527,
          467,
          212,
          211,
          202,
          131,
          118,
          97,
          94
         ],
         "yaxis": "y37"
        },
        {
         "marker": {
          "color": "#f1c40f"
         },
         "name": "gemini-1.5-flash",
         "showlegend": false,
         "type": "bar",
         "x": [
          "the",
          "a",
          "of",
          "and",
          "to",
          "is",
          "that",
          "in",
          "with",
          "it"
         ],
         "xaxis": "x38",
         "y": [
          703,
          454,
          412,
          266,
          237,
          137,
          121,
          97,
          93,
          91
         ],
         "yaxis": "y38"
        },
        {
         "marker": {
          "color": "#f1c40f"
         },
         "name": "gemini-1.5-flash",
         "showlegend": false,
         "type": "bar",
         "x": [
          "the",
          "of",
          "a",
          "and",
          "to",
          "that",
          "it",
          "in",
          "with",
          "its"
         ],
         "xaxis": "x39",
         "y": [
          842,
          521,
          517,
          220,
          216,
          119,
          102,
          94,
          92,
          80
         ],
         "yaxis": "y39"
        },
        {
         "marker": {
          "color": "#f1c40f"
         },
         "name": "gemini-1.5-flash",
         "showlegend": false,
         "type": "bar",
         "x": [
          "the",
          "a",
          "of",
          "and",
          "to",
          "with",
          "you",
          "that",
          "is",
          "in"
         ],
         "xaxis": "x40",
         "y": [
          565,
          485,
          400,
          185,
          172,
          108,
          103,
          101,
          100,
          99
         ],
         "yaxis": "y40"
        },
        {
         "marker": {
          "color": "#9b59b6"
         },
         "name": "open-mixtral-8x7b",
         "showlegend": true,
         "type": "bar",
         "x": [
          "the",
          "of",
          "a",
          "and",
          "to",
          "i",
          "that",
          "you",
          "in",
          "it"
         ],
         "xaxis": "x41",
         "y": [
          495,
          353,
          349,
          312,
          289,
          183,
          177,
          166,
          155,
          125
         ],
         "yaxis": "y41"
        },
        {
         "marker": {
          "color": "#9b59b6"
         },
         "name": "open-mixtral-8x7b",
         "showlegend": false,
         "type": "bar",
         "x": [
          "the",
          "and",
          "of",
          "a",
          "to",
          "that",
          "in",
          "it",
          "as",
          "was"
         ],
         "xaxis": "x42",
         "y": [
          728,
          374,
          364,
          341,
          262,
          162,
          129,
          101,
          98,
          91
         ],
         "yaxis": "y42"
        },
        {
         "marker": {
          "color": "#9b59b6"
         },
         "name": "open-mixtral-8x7b",
         "showlegend": false,
         "type": "bar",
         "x": [
          "the",
          "of",
          "and",
          "a",
          "that",
          "to",
          "in",
          "is",
          "it",
          "its"
         ],
         "xaxis": "x43",
         "y": [
          748,
          486,
          409,
          289,
          254,
          247,
          166,
          133,
          130,
          113
         ],
         "yaxis": "y43"
        },
        {
         "marker": {
          "color": "#9b59b6"
         },
         "name": "open-mixtral-8x7b",
         "showlegend": false,
         "type": "bar",
         "x": [
          "the",
          "of",
          "and",
          "a",
          "to",
          "that",
          "in",
          "is",
          "his",
          "it"
         ],
         "xaxis": "x44",
         "y": [
          760,
          478,
          435,
          329,
          225,
          214,
          163,
          156,
          94,
          94
         ],
         "yaxis": "y44"
        },
        {
         "marker": {
          "color": "#9b59b6"
         },
         "name": "open-mixtral-8x7b",
         "showlegend": false,
         "type": "bar",
         "x": [
          "the",
          "of",
          "and",
          "a",
          "to",
          "that",
          "in",
          "is",
          "i",
          "you"
         ],
         "xaxis": "x45",
         "y": [
          758,
          457,
          362,
          360,
          277,
          165,
          164,
          145,
          96,
          92
         ],
         "yaxis": "y45"
        },
        {
         "marker": {
          "color": "#9b59b6"
         },
         "name": "open-mixtral-8x7b",
         "showlegend": false,
         "type": "bar",
         "x": [
          "the",
          "of",
          "and",
          "a",
          "to",
          "that",
          "in",
          "as",
          "it",
          "was"
         ],
         "xaxis": "x46",
         "y": [
          711,
          413,
          392,
          328,
          249,
          157,
          142,
          96,
          94,
          94
         ],
         "yaxis": "y46"
        },
        {
         "marker": {
          "color": "#9b59b6"
         },
         "name": "open-mixtral-8x7b",
         "showlegend": false,
         "type": "bar",
         "x": [
          "the",
          "of",
          "and",
          "a",
          "to",
          "in",
          "that",
          "is",
          "it",
          "as"
         ],
         "xaxis": "x47",
         "y": [
          646,
          426,
          404,
          293,
          292,
          170,
          151,
          101,
          100,
          91
         ],
         "yaxis": "y47"
        },
        {
         "marker": {
          "color": "#9b59b6"
         },
         "name": "open-mixtral-8x7b",
         "showlegend": false,
         "type": "bar",
         "x": [
          "the",
          "and",
          "of",
          "a",
          "to",
          "that",
          "in",
          "as",
          "for",
          "i"
         ],
         "xaxis": "x48",
         "y": [
          684,
          446,
          349,
          320,
          257,
          192,
          153,
          96,
          96,
          87
         ],
         "yaxis": "y48"
        },
        {
         "marker": {
          "color": "#9b59b6"
         },
         "name": "open-mixtral-8x7b",
         "showlegend": false,
         "type": "bar",
         "x": [
          "the",
          "and",
          "of",
          "to",
          "a",
          "that",
          "we",
          "in",
          "is",
          "our"
         ],
         "xaxis": "x49",
         "y": [
          660,
          474,
          474,
          287,
          280,
          206,
          181,
          162,
          128,
          114
         ],
         "yaxis": "y49"
        },
        {
         "marker": {
          "color": "#9b59b6"
         },
         "name": "open-mixtral-8x7b",
         "showlegend": false,
         "type": "bar",
         "x": [
          "the",
          "of",
          "and",
          "a",
          "to",
          "in",
          "that",
          "you",
          "with",
          "i"
         ],
         "xaxis": "x50",
         "y": [
          618,
          338,
          331,
          295,
          216,
          157,
          111,
          103,
          91,
          89
         ],
         "yaxis": "y50"
        },
        {
         "marker": {
          "color": "#e67e22"
         },
         "name": "claude-3-haiku-20240307",
         "showlegend": true,
         "type": "bar",
         "x": [
          "the",
          "of",
          "a",
          "and",
          "to",
          "i",
          "you",
          "that",
          "it",
          "in"
         ],
         "xaxis": "x51",
         "y": [
          520,
          298,
          297,
          264,
          231,
          194,
          162,
          143,
          116,
          112
         ],
         "yaxis": "y51"
        },
        {
         "marker": {
          "color": "#e67e22"
         },
         "name": "claude-3-haiku-20240307",
         "showlegend": false,
         "type": "bar",
         "x": [
          "the",
          "of",
          "a",
          "and",
          "to",
          "that",
          "in",
          "you",
          "i",
          "with"
         ],
         "xaxis": "x52",
         "y": [
          757,
          344,
          291,
          270,
          207,
          138,
          113,
          108,
          106,
          93
         ],
         "yaxis": "y52"
        },
        {
         "marker": {
          "color": "#e67e22"
         },
         "name": "claude-3-haiku-20240307",
         "showlegend": false,
         "type": "bar",
         "x": [
          "the",
          "of",
          "a",
          "and",
          "to",
          "that",
          "is",
          "in",
          "it",
          "its"
         ],
         "xaxis": "x53",
         "y": [
          913,
          491,
          370,
          306,
          242,
          189,
          136,
          119,
          100,
          97
         ],
         "yaxis": "y53"
        },
        {
         "marker": {
          "color": "#e67e22"
         },
         "name": "claude-3-haiku-20240307",
         "showlegend": false,
         "type": "bar",
         "x": [
          "the",
          "of",
          "a",
          "and",
          "to",
          "that",
          "in",
          "with",
          "i",
          "for"
         ],
         "xaxis": "x54",
         "y": [
          750,
          469,
          331,
          307,
          262,
          205,
          137,
          123,
          87,
          72
         ],
         "yaxis": "y54"
        },
        {
         "marker": {
          "color": "#e67e22"
         },
         "name": "claude-3-haiku-20240307",
         "showlegend": false,
         "type": "bar",
         "x": [
          "the",
          "of",
          "a",
          "and",
          "to",
          "that",
          "in",
          "is",
          "with",
          "it"
         ],
         "xaxis": "x55",
         "y": [
          775,
          485,
          343,
          320,
          245,
          185,
          132,
          117,
          101,
          93
         ],
         "yaxis": "y55"
        },
        {
         "marker": {
          "color": "#e67e22"
         },
         "name": "claude-3-haiku-20240307",
         "showlegend": false,
         "type": "bar",
         "x": [
          "the",
          "of",
          "a",
          "and",
          "to",
          "that",
          "i",
          "in",
          "you",
          "it"
         ],
         "xaxis": "x56",
         "y": [
          670,
          368,
          311,
          304,
          232,
          150,
          145,
          119,
          90,
          89
         ],
         "yaxis": "y56"
        },
        {
         "marker": {
          "color": "#e67e22"
         },
         "name": "claude-3-haiku-20240307",
         "showlegend": false,
         "type": "bar",
         "x": [
          "the",
          "of",
          "and",
          "a",
          "to",
          "that",
          "in",
          "their",
          "for",
          "with"
         ],
         "xaxis": "x57",
         "y": [
          886,
          475,
          338,
          318,
          204,
          164,
          134,
          123,
          89,
          87
         ],
         "yaxis": "y57"
        },
        {
         "marker": {
          "color": "#e67e22"
         },
         "name": "claude-3-haiku-20240307",
         "showlegend": false,
         "type": "bar",
         "x": [
          "the",
          "of",
          "a",
          "and",
          "to",
          "that",
          "with",
          "i",
          "in",
          "it"
         ],
         "xaxis": "x58",
         "y": [
          664,
          418,
          347,
          347,
          270,
          224,
          120,
          112,
          99,
          93
         ],
         "yaxis": "y58"
        },
        {
         "marker": {
          "color": "#e67e22"
         },
         "name": "claude-3-haiku-20240307",
         "showlegend": false,
         "type": "bar",
         "x": [
          "the",
          "of",
          "a",
          "and",
          "to",
          "that",
          "in",
          "with",
          "for",
          "it"
         ],
         "xaxis": "x59",
         "y": [
          882,
          440,
          324,
          257,
          243,
          180,
          137,
          86,
          76,
          76
         ],
         "yaxis": "y59"
        },
        {
         "marker": {
          "color": "#e67e22"
         },
         "name": "claude-3-haiku-20240307",
         "showlegend": false,
         "type": "bar",
         "x": [
          "the",
          "of",
          "a",
          "and",
          "to",
          "that",
          "in",
          "with",
          "as",
          "you"
         ],
         "xaxis": "x60",
         "y": [
          690,
          419,
          316,
          278,
          220,
          164,
          122,
          121,
          94,
          90
         ],
         "yaxis": "y60"
        }
       ],
       "layout": {
        "annotations": [
         {
          "font": {
           "size": 10
          },
          "showarrow": false,
          "text": "Mark Twain",
          "x": 0.041,
          "xanchor": "center",
          "xref": "paper",
          "y": 0.9999999999999999,
          "yanchor": "bottom",
          "yref": "paper"
         },
         {
          "font": {
           "size": 10
          },
          "showarrow": false,
          "text": "Zane Grey",
          "x": 0.14300000000000002,
          "xanchor": "center",
          "xref": "paper",
          "y": 0.9999999999999999,
          "yanchor": "bottom",
          "yref": "paper"
         },
         {
          "font": {
           "size": 10
          },
          "showarrow": false,
          "text": "Joseph Conrad",
          "x": 0.24500000000000002,
          "xanchor": "center",
          "xref": "paper",
          "y": 0.9999999999999999,
          "yanchor": "bottom",
          "yref": "paper"
         },
         {
          "font": {
           "size": 10
          },
          "showarrow": false,
          "text": "George Eliot",
          "x": 0.347,
          "xanchor": "center",
          "xref": "paper",
          "y": 0.9999999999999999,
          "yanchor": "bottom",
          "yref": "paper"
         },
         {
          "font": {
           "size": 10
          },
          "showarrow": false,
          "text": "Benjamin Disraeli",
          "x": 0.44900000000000007,
          "xanchor": "center",
          "xref": "paper",
          "y": 0.9999999999999999,
          "yanchor": "bottom",
          "yref": "paper"
         },
         {
          "font": {
           "size": 10
          },
          "showarrow": false,
          "text": "Lucy Maud Montgomery",
          "x": 0.5509999999999999,
          "xanchor": "center",
          "xref": "paper",
          "y": 0.9999999999999999,
          "yanchor": "bottom",
          "yref": "paper"
         },
         {
          "font": {
           "size": 10
          },
          "showarrow": false,
          "text": "William Henry Hudson",
          "x": 0.653,
          "xanchor": "center",
          "xref": "paper",
          "y": 0.9999999999999999,
          "yanchor": "bottom",
          "yref": "paper"
         },
         {
          "font": {
           "size": 10
          },
          "showarrow": false,
          "text": "Howard Pyle",
          "x": 0.7550000000000001,
          "xanchor": "center",
          "xref": "paper",
          "y": 0.9999999999999999,
          "yanchor": "bottom",
          "yref": "paper"
         },
         {
          "font": {
           "size": 10
          },
          "showarrow": false,
          "text": "Virginia Woolf",
          "x": 0.857,
          "xanchor": "center",
          "xref": "paper",
          "y": 0.9999999999999999,
          "yanchor": "bottom",
          "yref": "paper"
         },
         {
          "font": {
           "size": 10
          },
          "showarrow": false,
          "text": "Lewis Carroll",
          "x": 0.9589999999999999,
          "xanchor": "center",
          "xref": "paper",
          "y": 0.9999999999999999,
          "yanchor": "bottom",
          "yref": "paper"
         }
        ],
        "height": 800,
        "template": {
         "data": {
          "bar": [
           {
            "error_x": {
             "color": "#2a3f5f"
            },
            "error_y": {
             "color": "#2a3f5f"
            },
            "marker": {
             "line": {
              "color": "#E5ECF6",
              "width": 0.5
             },
             "pattern": {
              "fillmode": "overlay",
              "size": 10,
              "solidity": 0.2
             }
            },
            "type": "bar"
           }
          ],
          "barpolar": [
           {
            "marker": {
             "line": {
              "color": "#E5ECF6",
              "width": 0.5
             },
             "pattern": {
              "fillmode": "overlay",
              "size": 10,
              "solidity": 0.2
             }
            },
            "type": "barpolar"
           }
          ],
          "carpet": [
           {
            "aaxis": {
             "endlinecolor": "#2a3f5f",
             "gridcolor": "white",
             "linecolor": "white",
             "minorgridcolor": "white",
             "startlinecolor": "#2a3f5f"
            },
            "baxis": {
             "endlinecolor": "#2a3f5f",
             "gridcolor": "white",
             "linecolor": "white",
             "minorgridcolor": "white",
             "startlinecolor": "#2a3f5f"
            },
            "type": "carpet"
           }
          ],
          "choropleth": [
           {
            "colorbar": {
             "outlinewidth": 0,
             "ticks": ""
            },
            "type": "choropleth"
           }
          ],
          "contour": [
           {
            "colorbar": {
             "outlinewidth": 0,
             "ticks": ""
            },
            "colorscale": [
             [
              0,
              "#0d0887"
             ],
             [
              0.1111111111111111,
              "#46039f"
             ],
             [
              0.2222222222222222,
              "#7201a8"
             ],
             [
              0.3333333333333333,
              "#9c179e"
             ],
             [
              0.4444444444444444,
              "#bd3786"
             ],
             [
              0.5555555555555556,
              "#d8576b"
             ],
             [
              0.6666666666666666,
              "#ed7953"
             ],
             [
              0.7777777777777778,
              "#fb9f3a"
             ],
             [
              0.8888888888888888,
              "#fdca26"
             ],
             [
              1,
              "#f0f921"
             ]
            ],
            "type": "contour"
           }
          ],
          "contourcarpet": [
           {
            "colorbar": {
             "outlinewidth": 0,
             "ticks": ""
            },
            "type": "contourcarpet"
           }
          ],
          "heatmap": [
           {
            "colorbar": {
             "outlinewidth": 0,
             "ticks": ""
            },
            "colorscale": [
             [
              0,
              "#0d0887"
             ],
             [
              0.1111111111111111,
              "#46039f"
             ],
             [
              0.2222222222222222,
              "#7201a8"
             ],
             [
              0.3333333333333333,
              "#9c179e"
             ],
             [
              0.4444444444444444,
              "#bd3786"
             ],
             [
              0.5555555555555556,
              "#d8576b"
             ],
             [
              0.6666666666666666,
              "#ed7953"
             ],
             [
              0.7777777777777778,
              "#fb9f3a"
             ],
             [
              0.8888888888888888,
              "#fdca26"
             ],
             [
              1,
              "#f0f921"
             ]
            ],
            "type": "heatmap"
           }
          ],
          "heatmapgl": [
           {
            "colorbar": {
             "outlinewidth": 0,
             "ticks": ""
            },
            "colorscale": [
             [
              0,
              "#0d0887"
             ],
             [
              0.1111111111111111,
              "#46039f"
             ],
             [
              0.2222222222222222,
              "#7201a8"
             ],
             [
              0.3333333333333333,
              "#9c179e"
             ],
             [
              0.4444444444444444,
              "#bd3786"
             ],
             [
              0.5555555555555556,
              "#d8576b"
             ],
             [
              0.6666666666666666,
              "#ed7953"
             ],
             [
              0.7777777777777778,
              "#fb9f3a"
             ],
             [
              0.8888888888888888,
              "#fdca26"
             ],
             [
              1,
              "#f0f921"
             ]
            ],
            "type": "heatmapgl"
           }
          ],
          "histogram": [
           {
            "marker": {
             "pattern": {
              "fillmode": "overlay",
              "size": 10,
              "solidity": 0.2
             }
            },
            "type": "histogram"
           }
          ],
          "histogram2d": [
           {
            "colorbar": {
             "outlinewidth": 0,
             "ticks": ""
            },
            "colorscale": [
             [
              0,
              "#0d0887"
             ],
             [
              0.1111111111111111,
              "#46039f"
             ],
             [
              0.2222222222222222,
              "#7201a8"
             ],
             [
              0.3333333333333333,
              "#9c179e"
             ],
             [
              0.4444444444444444,
              "#bd3786"
             ],
             [
              0.5555555555555556,
              "#d8576b"
             ],
             [
              0.6666666666666666,
              "#ed7953"
             ],
             [
              0.7777777777777778,
              "#fb9f3a"
             ],
             [
              0.8888888888888888,
              "#fdca26"
             ],
             [
              1,
              "#f0f921"
             ]
            ],
            "type": "histogram2d"
           }
          ],
          "histogram2dcontour": [
           {
            "colorbar": {
             "outlinewidth": 0,
             "ticks": ""
            },
            "colorscale": [
             [
              0,
              "#0d0887"
             ],
             [
              0.1111111111111111,
              "#46039f"
             ],
             [
              0.2222222222222222,
              "#7201a8"
             ],
             [
              0.3333333333333333,
              "#9c179e"
             ],
             [
              0.4444444444444444,
              "#bd3786"
             ],
             [
              0.5555555555555556,
              "#d8576b"
             ],
             [
              0.6666666666666666,
              "#ed7953"
             ],
             [
              0.7777777777777778,
              "#fb9f3a"
             ],
             [
              0.8888888888888888,
              "#fdca26"
             ],
             [
              1,
              "#f0f921"
             ]
            ],
            "type": "histogram2dcontour"
           }
          ],
          "mesh3d": [
           {
            "colorbar": {
             "outlinewidth": 0,
             "ticks": ""
            },
            "type": "mesh3d"
           }
          ],
          "parcoords": [
           {
            "line": {
             "colorbar": {
              "outlinewidth": 0,
              "ticks": ""
             }
            },
            "type": "parcoords"
           }
          ],
          "pie": [
           {
            "automargin": true,
            "type": "pie"
           }
          ],
          "scatter": [
           {
            "fillpattern": {
             "fillmode": "overlay",
             "size": 10,
             "solidity": 0.2
            },
            "type": "scatter"
           }
          ],
          "scatter3d": [
           {
            "line": {
             "colorbar": {
              "outlinewidth": 0,
              "ticks": ""
             }
            },
            "marker": {
             "colorbar": {
              "outlinewidth": 0,
              "ticks": ""
             }
            },
            "type": "scatter3d"
           }
          ],
          "scattercarpet": [
           {
            "marker": {
             "colorbar": {
              "outlinewidth": 0,
              "ticks": ""
             }
            },
            "type": "scattercarpet"
           }
          ],
          "scattergeo": [
           {
            "marker": {
             "colorbar": {
              "outlinewidth": 0,
              "ticks": ""
             }
            },
            "type": "scattergeo"
           }
          ],
          "scattergl": [
           {
            "marker": {
             "colorbar": {
              "outlinewidth": 0,
              "ticks": ""
             }
            },
            "type": "scattergl"
           }
          ],
          "scattermapbox": [
           {
            "marker": {
             "colorbar": {
              "outlinewidth": 0,
              "ticks": ""
             }
            },
            "type": "scattermapbox"
           }
          ],
          "scatterpolar": [
           {
            "marker": {
             "colorbar": {
              "outlinewidth": 0,
              "ticks": ""
             }
            },
            "type": "scatterpolar"
           }
          ],
          "scatterpolargl": [
           {
            "marker": {
             "colorbar": {
              "outlinewidth": 0,
              "ticks": ""
             }
            },
            "type": "scatterpolargl"
           }
          ],
          "scatterternary": [
           {
            "marker": {
             "colorbar": {
              "outlinewidth": 0,
              "ticks": ""
             }
            },
            "type": "scatterternary"
           }
          ],
          "surface": [
           {
            "colorbar": {
             "outlinewidth": 0,
             "ticks": ""
            },
            "colorscale": [
             [
              0,
              "#0d0887"
             ],
             [
              0.1111111111111111,
              "#46039f"
             ],
             [
              0.2222222222222222,
              "#7201a8"
             ],
             [
              0.3333333333333333,
              "#9c179e"
             ],
             [
              0.4444444444444444,
              "#bd3786"
             ],
             [
              0.5555555555555556,
              "#d8576b"
             ],
             [
              0.6666666666666666,
              "#ed7953"
             ],
             [
              0.7777777777777778,
              "#fb9f3a"
             ],
             [
              0.8888888888888888,
              "#fdca26"
             ],
             [
              1,
              "#f0f921"
             ]
            ],
            "type": "surface"
           }
          ],
          "table": [
           {
            "cells": {
             "fill": {
              "color": "#EBF0F8"
             },
             "line": {
              "color": "white"
             }
            },
            "header": {
             "fill": {
              "color": "#C8D4E3"
             },
             "line": {
              "color": "white"
             }
            },
            "type": "table"
           }
          ]
         },
         "layout": {
          "annotationdefaults": {
           "arrowcolor": "#2a3f5f",
           "arrowhead": 0,
           "arrowwidth": 1
          },
          "autotypenumbers": "strict",
          "coloraxis": {
           "colorbar": {
            "outlinewidth": 0,
            "ticks": ""
           }
          },
          "colorscale": {
           "diverging": [
            [
             0,
             "#8e0152"
            ],
            [
             0.1,
             "#c51b7d"
            ],
            [
             0.2,
             "#de77ae"
            ],
            [
             0.3,
             "#f1b6da"
            ],
            [
             0.4,
             "#fde0ef"
            ],
            [
             0.5,
             "#f7f7f7"
            ],
            [
             0.6,
             "#e6f5d0"
            ],
            [
             0.7,
             "#b8e186"
            ],
            [
             0.8,
             "#7fbc41"
            ],
            [
             0.9,
             "#4d9221"
            ],
            [
             1,
             "#276419"
            ]
           ],
           "sequential": [
            [
             0,
             "#0d0887"
            ],
            [
             0.1111111111111111,
             "#46039f"
            ],
            [
             0.2222222222222222,
             "#7201a8"
            ],
            [
             0.3333333333333333,
             "#9c179e"
            ],
            [
             0.4444444444444444,
             "#bd3786"
            ],
            [
             0.5555555555555556,
             "#d8576b"
            ],
            [
             0.6666666666666666,
             "#ed7953"
            ],
            [
             0.7777777777777778,
             "#fb9f3a"
            ],
            [
             0.8888888888888888,
             "#fdca26"
            ],
            [
             1,
             "#f0f921"
            ]
           ],
           "sequentialminus": [
            [
             0,
             "#0d0887"
            ],
            [
             0.1111111111111111,
             "#46039f"
            ],
            [
             0.2222222222222222,
             "#7201a8"
            ],
            [
             0.3333333333333333,
             "#9c179e"
            ],
            [
             0.4444444444444444,
             "#bd3786"
            ],
            [
             0.5555555555555556,
             "#d8576b"
            ],
            [
             0.6666666666666666,
             "#ed7953"
            ],
            [
             0.7777777777777778,
             "#fb9f3a"
            ],
            [
             0.8888888888888888,
             "#fdca26"
            ],
            [
             1,
             "#f0f921"
            ]
           ]
          },
          "colorway": [
           "#636efa",
           "#EF553B",
           "#00cc96",
           "#ab63fa",
           "#FFA15A",
           "#19d3f3",
           "#FF6692",
           "#B6E880",
           "#FF97FF",
           "#FECB52"
          ],
          "font": {
           "color": "#2a3f5f"
          },
          "geo": {
           "bgcolor": "white",
           "lakecolor": "white",
           "landcolor": "#E5ECF6",
           "showlakes": true,
           "showland": true,
           "subunitcolor": "white"
          },
          "hoverlabel": {
           "align": "left"
          },
          "hovermode": "closest",
          "mapbox": {
           "style": "light"
          },
          "paper_bgcolor": "white",
          "plot_bgcolor": "#E5ECF6",
          "polar": {
           "angularaxis": {
            "gridcolor": "white",
            "linecolor": "white",
            "ticks": ""
           },
           "bgcolor": "#E5ECF6",
           "radialaxis": {
            "gridcolor": "white",
            "linecolor": "white",
            "ticks": ""
           }
          },
          "scene": {
           "xaxis": {
            "backgroundcolor": "#E5ECF6",
            "gridcolor": "white",
            "gridwidth": 2,
            "linecolor": "white",
            "showbackground": true,
            "ticks": "",
            "zerolinecolor": "white"
           },
           "yaxis": {
            "backgroundcolor": "#E5ECF6",
            "gridcolor": "white",
            "gridwidth": 2,
            "linecolor": "white",
            "showbackground": true,
            "ticks": "",
            "zerolinecolor": "white"
           },
           "zaxis": {
            "backgroundcolor": "#E5ECF6",
            "gridcolor": "white",
            "gridwidth": 2,
            "linecolor": "white",
            "showbackground": true,
            "ticks": "",
            "zerolinecolor": "white"
           }
          },
          "shapedefaults": {
           "line": {
            "color": "#2a3f5f"
           }
          },
          "ternary": {
           "aaxis": {
            "gridcolor": "white",
            "linecolor": "white",
            "ticks": ""
           },
           "baxis": {
            "gridcolor": "white",
            "linecolor": "white",
            "ticks": ""
           },
           "bgcolor": "#E5ECF6",
           "caxis": {
            "gridcolor": "white",
            "linecolor": "white",
            "ticks": ""
           }
          },
          "title": {
           "x": 0.05
          },
          "xaxis": {
           "automargin": true,
           "gridcolor": "white",
           "linecolor": "white",
           "ticks": "",
           "title": {
            "standoff": 15
           },
           "zerolinecolor": "white",
           "zerolinewidth": 2
          },
          "yaxis": {
           "automargin": true,
           "gridcolor": "white",
           "linecolor": "white",
           "ticks": "",
           "title": {
            "standoff": 15
           },
           "zerolinecolor": "white",
           "zerolinewidth": 2
          }
         }
        },
        "title": {
         "text": "Top 10 function words",
         "x": 0.5
        },
        "xaxis": {
         "anchor": "y",
         "domain": [
          0,
          0.082
         ],
         "tickfont": {
          "size": 10
         }
        },
        "xaxis10": {
         "anchor": "y10",
         "domain": [
          0.9179999999999999,
          0.9999999999999999
         ],
         "tickfont": {
          "size": 10
         }
        },
        "xaxis11": {
         "anchor": "y11",
         "domain": [
          0,
          0.082
         ],
         "tickfont": {
          "size": 10
         }
        },
        "xaxis12": {
         "anchor": "y12",
         "domain": [
          0.10200000000000001,
          0.184
         ],
         "tickfont": {
          "size": 10
         }
        },
        "xaxis13": {
         "anchor": "y13",
         "domain": [
          0.20400000000000001,
          0.28600000000000003
         ],
         "tickfont": {
          "size": 10
         }
        },
        "xaxis14": {
         "anchor": "y14",
         "domain": [
          0.306,
          0.388
         ],
         "tickfont": {
          "size": 10
         }
        },
        "xaxis15": {
         "anchor": "y15",
         "domain": [
          0.40800000000000003,
          0.49000000000000005
         ],
         "tickfont": {
          "size": 10
         }
        },
        "xaxis16": {
         "anchor": "y16",
         "domain": [
          0.51,
          0.592
         ],
         "tickfont": {
          "size": 10
         }
        },
        "xaxis17": {
         "anchor": "y17",
         "domain": [
          0.612,
          0.694
         ],
         "tickfont": {
          "size": 10
         }
        },
        "xaxis18": {
         "anchor": "y18",
         "domain": [
          0.7140000000000001,
          0.796
         ],
         "tickfont": {
          "size": 10
         }
        },
        "xaxis19": {
         "anchor": "y19",
         "domain": [
          0.8160000000000001,
          0.898
         ],
         "tickfont": {
          "size": 10
         }
        },
        "xaxis2": {
         "anchor": "y2",
         "domain": [
          0.10200000000000001,
          0.184
         ],
         "tickfont": {
          "size": 10
         }
        },
        "xaxis20": {
         "anchor": "y20",
         "domain": [
          0.9179999999999999,
          0.9999999999999999
         ],
         "tickfont": {
          "size": 10
         }
        },
        "xaxis21": {
         "anchor": "y21",
         "domain": [
          0,
          0.082
         ],
         "tickfont": {
          "size": 10
         }
        },
        "xaxis22": {
         "anchor": "y22",
         "domain": [
          0.10200000000000001,
          0.184
         ],
         "tickfont": {
          "size": 10
         }
        },
        "xaxis23": {
         "anchor": "y23",
         "domain": [
          0.20400000000000001,
          0.28600000000000003
         ],
         "tickfont": {
          "size": 10
         }
        },
        "xaxis24": {
         "anchor": "y24",
         "domain": [
          0.306,
          0.388
         ],
         "tickfont": {
          "size": 10
         }
        },
        "xaxis25": {
         "anchor": "y25",
         "domain": [
          0.40800000000000003,
          0.49000000000000005
         ],
         "tickfont": {
          "size": 10
         }
        },
        "xaxis26": {
         "anchor": "y26",
         "domain": [
          0.51,
          0.592
         ],
         "tickfont": {
          "size": 10
         }
        },
        "xaxis27": {
         "anchor": "y27",
         "domain": [
          0.612,
          0.694
         ],
         "tickfont": {
          "size": 10
         }
        },
        "xaxis28": {
         "anchor": "y28",
         "domain": [
          0.7140000000000001,
          0.796
         ],
         "tickfont": {
          "size": 10
         }
        },
        "xaxis29": {
         "anchor": "y29",
         "domain": [
          0.8160000000000001,
          0.898
         ],
         "tickfont": {
          "size": 10
         }
        },
        "xaxis3": {
         "anchor": "y3",
         "domain": [
          0.20400000000000001,
          0.28600000000000003
         ],
         "tickfont": {
          "size": 10
         }
        },
        "xaxis30": {
         "anchor": "y30",
         "domain": [
          0.9179999999999999,
          0.9999999999999999
         ],
         "tickfont": {
          "size": 10
         }
        },
        "xaxis31": {
         "anchor": "y31",
         "domain": [
          0,
          0.082
         ],
         "tickfont": {
          "size": 10
         }
        },
        "xaxis32": {
         "anchor": "y32",
         "domain": [
          0.10200000000000001,
          0.184
         ],
         "tickfont": {
          "size": 10
         }
        },
        "xaxis33": {
         "anchor": "y33",
         "domain": [
          0.20400000000000001,
          0.28600000000000003
         ],
         "tickfont": {
          "size": 10
         }
        },
        "xaxis34": {
         "anchor": "y34",
         "domain": [
          0.306,
          0.388
         ],
         "tickfont": {
          "size": 10
         }
        },
        "xaxis35": {
         "anchor": "y35",
         "domain": [
          0.40800000000000003,
          0.49000000000000005
         ],
         "tickfont": {
          "size": 10
         }
        },
        "xaxis36": {
         "anchor": "y36",
         "domain": [
          0.51,
          0.592
         ],
         "tickfont": {
          "size": 10
         }
        },
        "xaxis37": {
         "anchor": "y37",
         "domain": [
          0.612,
          0.694
         ],
         "tickfont": {
          "size": 10
         }
        },
        "xaxis38": {
         "anchor": "y38",
         "domain": [
          0.7140000000000001,
          0.796
         ],
         "tickfont": {
          "size": 10
         }
        },
        "xaxis39": {
         "anchor": "y39",
         "domain": [
          0.8160000000000001,
          0.898
         ],
         "tickfont": {
          "size": 10
         }
        },
        "xaxis4": {
         "anchor": "y4",
         "domain": [
          0.306,
          0.388
         ],
         "tickfont": {
          "size": 10
         }
        },
        "xaxis40": {
         "anchor": "y40",
         "domain": [
          0.9179999999999999,
          0.9999999999999999
         ],
         "tickfont": {
          "size": 10
         }
        },
        "xaxis41": {
         "anchor": "y41",
         "domain": [
          0,
          0.082
         ],
         "tickfont": {
          "size": 10
         }
        },
        "xaxis42": {
         "anchor": "y42",
         "domain": [
          0.10200000000000001,
          0.184
         ],
         "tickfont": {
          "size": 10
         }
        },
        "xaxis43": {
         "anchor": "y43",
         "domain": [
          0.20400000000000001,
          0.28600000000000003
         ],
         "tickfont": {
          "size": 10
         }
        },
        "xaxis44": {
         "anchor": "y44",
         "domain": [
          0.306,
          0.388
         ],
         "tickfont": {
          "size": 10
         }
        },
        "xaxis45": {
         "anchor": "y45",
         "domain": [
          0.40800000000000003,
          0.49000000000000005
         ],
         "tickfont": {
          "size": 10
         }
        },
        "xaxis46": {
         "anchor": "y46",
         "domain": [
          0.51,
          0.592
         ],
         "tickfont": {
          "size": 10
         }
        },
        "xaxis47": {
         "anchor": "y47",
         "domain": [
          0.612,
          0.694
         ],
         "tickfont": {
          "size": 10
         }
        },
        "xaxis48": {
         "anchor": "y48",
         "domain": [
          0.7140000000000001,
          0.796
         ],
         "tickfont": {
          "size": 10
         }
        },
        "xaxis49": {
         "anchor": "y49",
         "domain": [
          0.8160000000000001,
          0.898
         ],
         "tickfont": {
          "size": 10
         }
        },
        "xaxis5": {
         "anchor": "y5",
         "domain": [
          0.40800000000000003,
          0.49000000000000005
         ],
         "tickfont": {
          "size": 10
         }
        },
        "xaxis50": {
         "anchor": "y50",
         "domain": [
          0.9179999999999999,
          0.9999999999999999
         ],
         "tickfont": {
          "size": 10
         }
        },
        "xaxis51": {
         "anchor": "y51",
         "domain": [
          0,
          0.082
         ],
         "tickfont": {
          "size": 10
         }
        },
        "xaxis52": {
         "anchor": "y52",
         "domain": [
          0.10200000000000001,
          0.184
         ],
         "tickfont": {
          "size": 10
         }
        },
        "xaxis53": {
         "anchor": "y53",
         "domain": [
          0.20400000000000001,
          0.28600000000000003
         ],
         "tickfont": {
          "size": 10
         }
        },
        "xaxis54": {
         "anchor": "y54",
         "domain": [
          0.306,
          0.388
         ],
         "tickfont": {
          "size": 10
         }
        },
        "xaxis55": {
         "anchor": "y55",
         "domain": [
          0.40800000000000003,
          0.49000000000000005
         ],
         "tickfont": {
          "size": 10
         }
        },
        "xaxis56": {
         "anchor": "y56",
         "domain": [
          0.51,
          0.592
         ],
         "tickfont": {
          "size": 10
         }
        },
        "xaxis57": {
         "anchor": "y57",
         "domain": [
          0.612,
          0.694
         ],
         "tickfont": {
          "size": 10
         }
        },
        "xaxis58": {
         "anchor": "y58",
         "domain": [
          0.7140000000000001,
          0.796
         ],
         "tickfont": {
          "size": 10
         }
        },
        "xaxis59": {
         "anchor": "y59",
         "domain": [
          0.8160000000000001,
          0.898
         ],
         "tickfont": {
          "size": 10
         }
        },
        "xaxis6": {
         "anchor": "y6",
         "domain": [
          0.51,
          0.592
         ],
         "tickfont": {
          "size": 10
         }
        },
        "xaxis60": {
         "anchor": "y60",
         "domain": [
          0.9179999999999999,
          0.9999999999999999
         ],
         "tickfont": {
          "size": 10
         }
        },
        "xaxis7": {
         "anchor": "y7",
         "domain": [
          0.612,
          0.694
         ],
         "tickfont": {
          "size": 10
         }
        },
        "xaxis8": {
         "anchor": "y8",
         "domain": [
          0.7140000000000001,
          0.796
         ],
         "tickfont": {
          "size": 10
         }
        },
        "xaxis9": {
         "anchor": "y9",
         "domain": [
          0.8160000000000001,
          0.898
         ],
         "tickfont": {
          "size": 10
         }
        },
        "yaxis": {
         "anchor": "x",
         "domain": [
          0.9027777777777777,
          0.9999999999999999
         ],
         "range": [
          0,
          913
         ]
        },
        "yaxis10": {
         "anchor": "x10",
         "domain": [
          0.9027777777777777,
          0.9999999999999999
         ],
         "range": [
          0,
          913
         ]
        },
        "yaxis11": {
         "anchor": "x11",
         "domain": [
          0.7222222222222222,
          0.8194444444444444
         ],
         "range": [
          0,
          913
         ]
        },
        "yaxis12": {
         "anchor": "x12",
         "domain": [
          0.7222222222222222,
          0.8194444444444444
         ],
         "range": [
          0,
          913
         ]
        },
        "yaxis13": {
         "anchor": "x13",
         "domain": [
          0.7222222222222222,
          0.8194444444444444
         ],
         "range": [
          0,
          913
         ]
        },
        "yaxis14": {
         "anchor": "x14",
         "domain": [
          0.7222222222222222,
          0.8194444444444444
         ],
         "range": [
          0,
          913
         ]
        },
        "yaxis15": {
         "anchor": "x15",
         "domain": [
          0.7222222222222222,
          0.8194444444444444
         ],
         "range": [
          0,
          913
         ]
        },
        "yaxis16": {
         "anchor": "x16",
         "domain": [
          0.7222222222222222,
          0.8194444444444444
         ],
         "range": [
          0,
          913
         ]
        },
        "yaxis17": {
         "anchor": "x17",
         "domain": [
          0.7222222222222222,
          0.8194444444444444
         ],
         "range": [
          0,
          913
         ]
        },
        "yaxis18": {
         "anchor": "x18",
         "domain": [
          0.7222222222222222,
          0.8194444444444444
         ],
         "range": [
          0,
          913
         ]
        },
        "yaxis19": {
         "anchor": "x19",
         "domain": [
          0.7222222222222222,
          0.8194444444444444
         ],
         "range": [
          0,
          913
         ]
        },
        "yaxis2": {
         "anchor": "x2",
         "domain": [
          0.9027777777777777,
          0.9999999999999999
         ],
         "range": [
          0,
          913
         ]
        },
        "yaxis20": {
         "anchor": "x20",
         "domain": [
          0.7222222222222222,
          0.8194444444444444
         ],
         "range": [
          0,
          913
         ]
        },
        "yaxis21": {
         "anchor": "x21",
         "domain": [
          0.5416666666666667,
          0.638888888888889
         ],
         "range": [
          0,
          913
         ]
        },
        "yaxis22": {
         "anchor": "x22",
         "domain": [
          0.5416666666666667,
          0.638888888888889
         ],
         "range": [
          0,
          913
         ]
        },
        "yaxis23": {
         "anchor": "x23",
         "domain": [
          0.5416666666666667,
          0.638888888888889
         ],
         "range": [
          0,
          913
         ]
        },
        "yaxis24": {
         "anchor": "x24",
         "domain": [
          0.5416666666666667,
          0.638888888888889
         ],
         "range": [
          0,
          913
         ]
        },
        "yaxis25": {
         "anchor": "x25",
         "domain": [
          0.5416666666666667,
          0.638888888888889
         ],
         "range": [
          0,
          913
         ]
        },
        "yaxis26": {
         "anchor": "x26",
         "domain": [
          0.5416666666666667,
          0.638888888888889
         ],
         "range": [
          0,
          913
         ]
        },
        "yaxis27": {
         "anchor": "x27",
         "domain": [
          0.5416666666666667,
          0.638888888888889
         ],
         "range": [
          0,
          913
         ]
        },
        "yaxis28": {
         "anchor": "x28",
         "domain": [
          0.5416666666666667,
          0.638888888888889
         ],
         "range": [
          0,
          913
         ]
        },
        "yaxis29": {
         "anchor": "x29",
         "domain": [
          0.5416666666666667,
          0.638888888888889
         ],
         "range": [
          0,
          913
         ]
        },
        "yaxis3": {
         "anchor": "x3",
         "domain": [
          0.9027777777777777,
          0.9999999999999999
         ],
         "range": [
          0,
          913
         ]
        },
        "yaxis30": {
         "anchor": "x30",
         "domain": [
          0.5416666666666667,
          0.638888888888889
         ],
         "range": [
          0,
          913
         ]
        },
        "yaxis31": {
         "anchor": "x31",
         "domain": [
          0.3611111111111111,
          0.4583333333333333
         ],
         "range": [
          0,
          913
         ]
        },
        "yaxis32": {
         "anchor": "x32",
         "domain": [
          0.3611111111111111,
          0.4583333333333333
         ],
         "range": [
          0,
          913
         ]
        },
        "yaxis33": {
         "anchor": "x33",
         "domain": [
          0.3611111111111111,
          0.4583333333333333
         ],
         "range": [
          0,
          913
         ]
        },
        "yaxis34": {
         "anchor": "x34",
         "domain": [
          0.3611111111111111,
          0.4583333333333333
         ],
         "range": [
          0,
          913
         ]
        },
        "yaxis35": {
         "anchor": "x35",
         "domain": [
          0.3611111111111111,
          0.4583333333333333
         ],
         "range": [
          0,
          913
         ]
        },
        "yaxis36": {
         "anchor": "x36",
         "domain": [
          0.3611111111111111,
          0.4583333333333333
         ],
         "range": [
          0,
          913
         ]
        },
        "yaxis37": {
         "anchor": "x37",
         "domain": [
          0.3611111111111111,
          0.4583333333333333
         ],
         "range": [
          0,
          913
         ]
        },
        "yaxis38": {
         "anchor": "x38",
         "domain": [
          0.3611111111111111,
          0.4583333333333333
         ],
         "range": [
          0,
          913
         ]
        },
        "yaxis39": {
         "anchor": "x39",
         "domain": [
          0.3611111111111111,
          0.4583333333333333
         ],
         "range": [
          0,
          913
         ]
        },
        "yaxis4": {
         "anchor": "x4",
         "domain": [
          0.9027777777777777,
          0.9999999999999999
         ],
         "range": [
          0,
          913
         ]
        },
        "yaxis40": {
         "anchor": "x40",
         "domain": [
          0.3611111111111111,
          0.4583333333333333
         ],
         "range": [
          0,
          913
         ]
        },
        "yaxis41": {
         "anchor": "x41",
         "domain": [
          0.18055555555555555,
          0.2777777777777778
         ],
         "range": [
          0,
          913
         ]
        },
        "yaxis42": {
         "anchor": "x42",
         "domain": [
          0.18055555555555555,
          0.2777777777777778
         ],
         "range": [
          0,
          913
         ]
        },
        "yaxis43": {
         "anchor": "x43",
         "domain": [
          0.18055555555555555,
          0.2777777777777778
         ],
         "range": [
          0,
          913
         ]
        },
        "yaxis44": {
         "anchor": "x44",
         "domain": [
          0.18055555555555555,
          0.2777777777777778
         ],
         "range": [
          0,
          913
         ]
        },
        "yaxis45": {
         "anchor": "x45",
         "domain": [
          0.18055555555555555,
          0.2777777777777778
         ],
         "range": [
          0,
          913
         ]
        },
        "yaxis46": {
         "anchor": "x46",
         "domain": [
          0.18055555555555555,
          0.2777777777777778
         ],
         "range": [
          0,
          913
         ]
        },
        "yaxis47": {
         "anchor": "x47",
         "domain": [
          0.18055555555555555,
          0.2777777777777778
         ],
         "range": [
          0,
          913
         ]
        },
        "yaxis48": {
         "anchor": "x48",
         "domain": [
          0.18055555555555555,
          0.2777777777777778
         ],
         "range": [
          0,
          913
         ]
        },
        "yaxis49": {
         "anchor": "x49",
         "domain": [
          0.18055555555555555,
          0.2777777777777778
         ],
         "range": [
          0,
          913
         ]
        },
        "yaxis5": {
         "anchor": "x5",
         "domain": [
          0.9027777777777777,
          0.9999999999999999
         ],
         "range": [
          0,
          913
         ]
        },
        "yaxis50": {
         "anchor": "x50",
         "domain": [
          0.18055555555555555,
          0.2777777777777778
         ],
         "range": [
          0,
          913
         ]
        },
        "yaxis51": {
         "anchor": "x51",
         "domain": [
          0,
          0.09722222222222222
         ],
         "range": [
          0,
          913
         ]
        },
        "yaxis52": {
         "anchor": "x52",
         "domain": [
          0,
          0.09722222222222222
         ],
         "range": [
          0,
          913
         ]
        },
        "yaxis53": {
         "anchor": "x53",
         "domain": [
          0,
          0.09722222222222222
         ],
         "range": [
          0,
          913
         ]
        },
        "yaxis54": {
         "anchor": "x54",
         "domain": [
          0,
          0.09722222222222222
         ],
         "range": [
          0,
          913
         ]
        },
        "yaxis55": {
         "anchor": "x55",
         "domain": [
          0,
          0.09722222222222222
         ],
         "range": [
          0,
          913
         ]
        },
        "yaxis56": {
         "anchor": "x56",
         "domain": [
          0,
          0.09722222222222222
         ],
         "range": [
          0,
          913
         ]
        },
        "yaxis57": {
         "anchor": "x57",
         "domain": [
          0,
          0.09722222222222222
         ],
         "range": [
          0,
          913
         ]
        },
        "yaxis58": {
         "anchor": "x58",
         "domain": [
          0,
          0.09722222222222222
         ],
         "range": [
          0,
          913
         ]
        },
        "yaxis59": {
         "anchor": "x59",
         "domain": [
          0,
          0.09722222222222222
         ],
         "range": [
          0,
          913
         ]
        },
        "yaxis6": {
         "anchor": "x6",
         "domain": [
          0.9027777777777777,
          0.9999999999999999
         ],
         "range": [
          0,
          913
         ]
        },
        "yaxis60": {
         "anchor": "x60",
         "domain": [
          0,
          0.09722222222222222
         ],
         "range": [
          0,
          913
         ]
        },
        "yaxis7": {
         "anchor": "x7",
         "domain": [
          0.9027777777777777,
          0.9999999999999999
         ],
         "range": [
          0,
          913
         ]
        },
        "yaxis8": {
         "anchor": "x8",
         "domain": [
          0.9027777777777777,
          0.9999999999999999
         ],
         "range": [
          0,
          913
         ]
        },
        "yaxis9": {
         "anchor": "x9",
         "domain": [
          0.9027777777777777,
          0.9999999999999999
         ],
         "range": [
          0,
          913
         ]
        }
       }
      }
     },
     "metadata": {},
     "output_type": "display_data"
    },
    {
     "data": {
      "application/vnd.plotly.v1+json": {
       "config": {
        "plotlyServerURL": "https://plot.ly"
       },
       "data": [
        {
         "marker": {
          "color": "#3498db"
         },
         "mode": "markers",
         "name": "books",
         "showlegend": true,
         "type": "scatter",
         "x": [
          "!",
          "\"",
          "#",
          "$",
          "%",
          "&",
          "'",
          "(",
          ")",
          "*",
          "+",
          ",",
          "-",
          ".",
          "/",
          ":",
          ";",
          "<",
          "=",
          ">",
          "?",
          "@",
          "[",
          "\\",
          "]",
          "^",
          "_",
          "`",
          "{",
          "|",
          "}",
          "~"
         ],
         "xaxis": "x",
         "y": [
          8,
          0,
          0,
          0,
          0,
          0,
          386,
          8,
          8,
          0,
          0,
          663,
          204,
          383,
          1,
          12,
          53,
          0,
          0,
          0,
          24,
          0,
          12,
          0,
          12,
          0,
          0,
          160,
          0,
          0,
          0,
          0
         ],
         "yaxis": "y"
        },
        {
         "marker": {
          "color": "#3498db"
         },
         "mode": "markers",
         "name": "books",
         "showlegend": false,
         "type": "scatter",
         "x": [
          "!",
          "\"",
          "#",
          "$",
          "%",
          "&",
          "'",
          "(",
          ")",
          "*",
          "+",
          ",",
          "-",
          ".",
          "/",
          ":",
          ";",
          "<",
          "=",
          ">",
          "?",
          "@",
          "[",
          "\\",
          "]",
          "^",
          "_",
          "`",
          "{",
          "|",
          "}",
          "~"
         ],
         "xaxis": "x2",
         "y": [
          27,
          0,
          0,
          0,
          0,
          0,
          284,
          2,
          2,
          0,
          0,
          583,
          36,
          439,
          0,
          3,
          36,
          0,
          0,
          0,
          39,
          0,
          0,
          0,
          0,
          0,
          0,
          218,
          0,
          0,
          0,
          0
         ],
         "yaxis": "y2"
        },
        {
         "marker": {
          "color": "#3498db"
         },
         "mode": "markers",
         "name": "books",
         "showlegend": false,
         "type": "scatter",
         "x": [
          "!",
          "\"",
          "#",
          "$",
          "%",
          "&",
          "'",
          "(",
          ")",
          "*",
          "+",
          ",",
          "-",
          ".",
          "/",
          ":",
          ";",
          "<",
          "=",
          ">",
          "?",
          "@",
          "[",
          "\\",
          "]",
          "^",
          "_",
          "`",
          "{",
          "|",
          "}",
          "~"
         ],
         "xaxis": "x3",
         "y": [
          52,
          0,
          0,
          0,
          0,
          1,
          464,
          5,
          5,
          0,
          0,
          456,
          202,
          586,
          0,
          25,
          31,
          0,
          0,
          0,
          60,
          0,
          0,
          0,
          0,
          0,
          0,
          256,
          0,
          0,
          0,
          0
         ],
         "yaxis": "y3"
        },
        {
         "marker": {
          "color": "#3498db"
         },
         "mode": "markers",
         "name": "books",
         "showlegend": false,
         "type": "scatter",
         "x": [
          "!",
          "\"",
          "#",
          "$",
          "%",
          "&",
          "'",
          "(",
          ")",
          "*",
          "+",
          ",",
          "-",
          ".",
          "/",
          ":",
          ";",
          "<",
          "=",
          ">",
          "?",
          "@",
          "[",
          "\\",
          "]",
          "^",
          "_",
          "`",
          "{",
          "|",
          "}",
          "~"
         ],
         "xaxis": "x4",
         "y": [
          16,
          0,
          0,
          0,
          0,
          0,
          746,
          0,
          0,
          0,
          0,
          687,
          169,
          306,
          0,
          17,
          89,
          0,
          0,
          0,
          35,
          0,
          0,
          0,
          0,
          0,
          0,
          242,
          0,
          0,
          0,
          0
         ],
         "yaxis": "y4"
        },
        {
         "marker": {
          "color": "#3498db"
         },
         "mode": "markers",
         "name": "books",
         "showlegend": false,
         "type": "scatter",
         "x": [
          "!",
          "\"",
          "#",
          "$",
          "%",
          "&",
          "'",
          "(",
          ")",
          "*",
          "+",
          ",",
          "-",
          ".",
          "/",
          ":",
          ";",
          "<",
          "=",
          ">",
          "?",
          "@",
          "[",
          "\\",
          "]",
          "^",
          "_",
          "`",
          "{",
          "|",
          "}",
          "~"
         ],
         "xaxis": "x5",
         "y": [
          152,
          0,
          0,
          0,
          0,
          0,
          369,
          0,
          0,
          0,
          0,
          846,
          80,
          408,
          0,
          17,
          95,
          0,
          0,
          0,
          57,
          0,
          12,
          0,
          12,
          0,
          26,
          2,
          0,
          0,
          0,
          0
         ],
         "yaxis": "y5"
        },
        {
         "marker": {
          "color": "#3498db"
         },
         "mode": "markers",
         "name": "books",
         "showlegend": false,
         "type": "scatter",
         "x": [
          "!",
          "\"",
          "#",
          "$",
          "%",
          "&",
          "'",
          "(",
          ")",
          "*",
          "+",
          ",",
          "-",
          ".",
          "/",
          ":",
          ";",
          "<",
          "=",
          ">",
          "?",
          "@",
          "[",
          "\\",
          "]",
          "^",
          "_",
          "`",
          "{",
          "|",
          "}",
          "~"
         ],
         "xaxis": "x6",
         "y": [
          18,
          0,
          0,
          0,
          0,
          0,
          631,
          0,
          0,
          0,
          0,
          437,
          34,
          820,
          0,
          0,
          25,
          0,
          0,
          0,
          47,
          0,
          0,
          0,
          0,
          0,
          2,
          332,
          0,
          0,
          0,
          0
         ],
         "yaxis": "y6"
        },
        {
         "marker": {
          "color": "#3498db"
         },
         "mode": "markers",
         "name": "books",
         "showlegend": false,
         "type": "scatter",
         "x": [
          "!",
          "\"",
          "#",
          "$",
          "%",
          "&",
          "'",
          "(",
          ")",
          "*",
          "+",
          ",",
          "-",
          ".",
          "/",
          ":",
          ";",
          "<",
          "=",
          ">",
          "?",
          "@",
          "[",
          "\\",
          "]",
          "^",
          "_",
          "`",
          "{",
          "|",
          "}",
          "~"
         ],
         "xaxis": "x7",
         "y": [
          21,
          0,
          0,
          0,
          0,
          0,
          223,
          1,
          1,
          0,
          0,
          738,
          161,
          270,
          0,
          23,
          72,
          0,
          0,
          0,
          27,
          0,
          0,
          0,
          0,
          0,
          34,
          198,
          0,
          0,
          0,
          0
         ],
         "yaxis": "y7"
        },
        {
         "marker": {
          "color": "#3498db"
         },
         "mode": "markers",
         "name": "books",
         "showlegend": false,
         "type": "scatter",
         "x": [
          "!",
          "\"",
          "#",
          "$",
          "%",
          "&",
          "'",
          "(",
          ")",
          "*",
          "+",
          ",",
          "-",
          ".",
          "/",
          ":",
          ";",
          "<",
          "=",
          ">",
          "?",
          "@",
          "[",
          "\\",
          "]",
          "^",
          "_",
          "`",
          "{",
          "|",
          "}",
          "~"
         ],
         "xaxis": "x8",
         "y": [
          9,
          0,
          0,
          0,
          0,
          5,
          121,
          5,
          5,
          20,
          0,
          579,
          143,
          282,
          0,
          15,
          48,
          0,
          0,
          0,
          7,
          0,
          17,
          0,
          17,
          0,
          66,
          90,
          0,
          0,
          0,
          0
         ],
         "yaxis": "y8"
        },
        {
         "marker": {
          "color": "#3498db"
         },
         "mode": "markers",
         "name": "books",
         "showlegend": false,
         "type": "scatter",
         "x": [
          "!",
          "\"",
          "#",
          "$",
          "%",
          "&",
          "'",
          "(",
          ")",
          "*",
          "+",
          ",",
          "-",
          ".",
          "/",
          ":",
          ";",
          "<",
          "=",
          ">",
          "?",
          "@",
          "[",
          "\\",
          "]",
          "^",
          "_",
          "`",
          "{",
          "|",
          "}",
          "~"
         ],
         "xaxis": "x9",
         "y": [
          35,
          0,
          0,
          0,
          0,
          0,
          360,
          14,
          14,
          0,
          0,
          684,
          272,
          589,
          0,
          8,
          104,
          0,
          0,
          0,
          29,
          0,
          0,
          0,
          0,
          0,
          0,
          200,
          0,
          0,
          0,
          0
         ],
         "yaxis": "y9"
        },
        {
         "marker": {
          "color": "#3498db"
         },
         "mode": "markers",
         "name": "books",
         "showlegend": false,
         "type": "scatter",
         "x": [
          "!",
          "\"",
          "#",
          "$",
          "%",
          "&",
          "'",
          "(",
          ")",
          "*",
          "+",
          ",",
          "-",
          ".",
          "/",
          ":",
          ";",
          "<",
          "=",
          ">",
          "?",
          "@",
          "[",
          "\\",
          "]",
          "^",
          "_",
          "`",
          "{",
          "|",
          "}",
          "~"
         ],
         "xaxis": "x10",
         "y": [
          155,
          0,
          0,
          0,
          0,
          2,
          883,
          7,
          7,
          0,
          0,
          617,
          278,
          449,
          0,
          38,
          24,
          0,
          0,
          0,
          62,
          0,
          9,
          0,
          9,
          0,
          152,
          690,
          0,
          0,
          0,
          0
         ],
         "yaxis": "y10"
        },
        {
         "marker": {
          "color": "#e74c3c"
         },
         "mode": "markers",
         "name": "gpt-3.5-turbo-0125",
         "showlegend": true,
         "type": "scatter",
         "x": [
          "!",
          "\"",
          "#",
          "$",
          "%",
          "&",
          "'",
          "(",
          ")",
          "*",
          "+",
          ",",
          "-",
          ".",
          "/",
          ":",
          ";",
          "<",
          "=",
          ">",
          "?",
          "@",
          "[",
          "\\",
          "]",
          "^",
          "_",
          "`",
          "{",
          "|",
          "}",
          "~"
         ],
         "xaxis": "x",
         "y": [
          6,
          0,
          0,
          0,
          0,
          0,
          198,
          3,
          3,
          0,
          0,
          619,
          34,
          427,
          0,
          9,
          0,
          0,
          0,
          0,
          8,
          0,
          0,
          0,
          0,
          0,
          0,
          22,
          0,
          0,
          0,
          0
         ],
         "yaxis": "y"
        },
        {
         "marker": {
          "color": "#e74c3c"
         },
         "mode": "markers",
         "name": "gpt-3.5-turbo-0125",
         "showlegend": false,
         "type": "scatter",
         "x": [
          "!",
          "\"",
          "#",
          "$",
          "%",
          "&",
          "'",
          "(",
          ")",
          "*",
          "+",
          ",",
          "-",
          ".",
          "/",
          ":",
          ";",
          "<",
          "=",
          ">",
          "?",
          "@",
          "[",
          "\\",
          "]",
          "^",
          "_",
          "`",
          "{",
          "|",
          "}",
          "~"
         ],
         "xaxis": "x2",
         "y": [
          5,
          0,
          0,
          0,
          0,
          0,
          180,
          0,
          0,
          0,
          0,
          604,
          40,
          409,
          0,
          3,
          0,
          0,
          0,
          0,
          17,
          0,
          0,
          0,
          0,
          0,
          0,
          86,
          0,
          0,
          0,
          0
         ],
         "yaxis": "y2"
        },
        {
         "marker": {
          "color": "#e74c3c"
         },
         "mode": "markers",
         "name": "gpt-3.5-turbo-0125",
         "showlegend": false,
         "type": "scatter",
         "x": [
          "!",
          "\"",
          "#",
          "$",
          "%",
          "&",
          "'",
          "(",
          ")",
          "*",
          "+",
          ",",
          "-",
          ".",
          "/",
          ":",
          ";",
          "<",
          "=",
          ">",
          "?",
          "@",
          "[",
          "\\",
          "]",
          "^",
          "_",
          "`",
          "{",
          "|",
          "}",
          "~"
         ],
         "xaxis": "x3",
         "y": [
          0,
          0,
          0,
          0,
          0,
          0,
          88,
          0,
          0,
          64,
          0,
          594,
          45,
          388,
          0,
          15,
          3,
          0,
          0,
          0,
          3,
          0,
          0,
          0,
          0,
          0,
          0,
          58,
          0,
          0,
          0,
          0
         ],
         "yaxis": "y3"
        },
        {
         "marker": {
          "color": "#e74c3c"
         },
         "mode": "markers",
         "name": "gpt-3.5-turbo-0125",
         "showlegend": false,
         "type": "scatter",
         "x": [
          "!",
          "\"",
          "#",
          "$",
          "%",
          "&",
          "'",
          "(",
          ")",
          "*",
          "+",
          ",",
          "-",
          ".",
          "/",
          ":",
          ";",
          "<",
          "=",
          ">",
          "?",
          "@",
          "[",
          "\\",
          "]",
          "^",
          "_",
          "`",
          "{",
          "|",
          "}",
          "~"
         ],
         "xaxis": "x4",
         "y": [
          1,
          0,
          0,
          0,
          0,
          0,
          88,
          0,
          0,
          44,
          0,
          621,
          42,
          394,
          0,
          0,
          0,
          0,
          0,
          0,
          12,
          0,
          0,
          0,
          0,
          0,
          0,
          36,
          0,
          0,
          0,
          0
         ],
         "yaxis": "y4"
        },
        {
         "marker": {
          "color": "#e74c3c"
         },
         "mode": "markers",
         "name": "gpt-3.5-turbo-0125",
         "showlegend": false,
         "type": "scatter",
         "x": [
          "!",
          "\"",
          "#",
          "$",
          "%",
          "&",
          "'",
          "(",
          ")",
          "*",
          "+",
          ",",
          "-",
          ".",
          "/",
          ":",
          ";",
          "<",
          "=",
          ">",
          "?",
          "@",
          "[",
          "\\",
          "]",
          "^",
          "_",
          "`",
          "{",
          "|",
          "}",
          "~"
         ],
         "xaxis": "x5",
         "y": [
          1,
          0,
          0,
          0,
          0,
          0,
          44,
          1,
          1,
          0,
          0,
          590,
          47,
          386,
          0,
          1,
          7,
          0,
          0,
          0,
          6,
          0,
          1,
          0,
          1,
          0,
          0,
          4,
          0,
          0,
          0,
          0
         ],
         "yaxis": "y5"
        },
        {
         "marker": {
          "color": "#e74c3c"
         },
         "mode": "markers",
         "name": "gpt-3.5-turbo-0125",
         "showlegend": false,
         "type": "scatter",
         "x": [
          "!",
          "\"",
          "#",
          "$",
          "%",
          "&",
          "'",
          "(",
          ")",
          "*",
          "+",
          ",",
          "-",
          ".",
          "/",
          ":",
          ";",
          "<",
          "=",
          ">",
          "?",
          "@",
          "[",
          "\\",
          "]",
          "^",
          "_",
          "`",
          "{",
          "|",
          "}",
          "~"
         ],
         "xaxis": "x6",
         "y": [
          3,
          0,
          0,
          0,
          0,
          0,
          123,
          0,
          0,
          0,
          0,
          575,
          32,
          415,
          0,
          1,
          1,
          0,
          0,
          0,
          13,
          0,
          0,
          0,
          0,
          0,
          0,
          60,
          0,
          0,
          0,
          0
         ],
         "yaxis": "y6"
        },
        {
         "marker": {
          "color": "#e74c3c"
         },
         "mode": "markers",
         "name": "gpt-3.5-turbo-0125",
         "showlegend": false,
         "type": "scatter",
         "x": [
          "!",
          "\"",
          "#",
          "$",
          "%",
          "&",
          "'",
          "(",
          ")",
          "*",
          "+",
          ",",
          "-",
          ".",
          "/",
          ":",
          ";",
          "<",
          "=",
          ">",
          "?",
          "@",
          "[",
          "\\",
          "]",
          "^",
          "_",
          "`",
          "{",
          "|",
          "}",
          "~"
         ],
         "xaxis": "x7",
         "y": [
          0,
          0,
          0,
          0,
          0,
          0,
          25,
          0,
          0,
          0,
          0,
          605,
          34,
          364,
          0,
          2,
          2,
          0,
          0,
          0,
          9,
          0,
          0,
          0,
          0,
          0,
          0,
          2,
          0,
          0,
          0,
          0
         ],
         "yaxis": "y7"
        },
        {
         "marker": {
          "color": "#e74c3c"
         },
         "mode": "markers",
         "name": "gpt-3.5-turbo-0125",
         "showlegend": false,
         "type": "scatter",
         "x": [
          "!",
          "\"",
          "#",
          "$",
          "%",
          "&",
          "'",
          "(",
          ")",
          "*",
          "+",
          ",",
          "-",
          ".",
          "/",
          ":",
          ";",
          "<",
          "=",
          ">",
          "?",
          "@",
          "[",
          "\\",
          "]",
          "^",
          "_",
          "`",
          "{",
          "|",
          "}",
          "~"
         ],
         "xaxis": "x8",
         "y": [
          2,
          0,
          0,
          0,
          0,
          0,
          150,
          1,
          1,
          68,
          0,
          627,
          48,
          419,
          0,
          21,
          1,
          0,
          0,
          0,
          6,
          0,
          0,
          0,
          0,
          0,
          0,
          54,
          0,
          0,
          0,
          0
         ],
         "yaxis": "y8"
        },
        {
         "marker": {
          "color": "#e74c3c"
         },
         "mode": "markers",
         "name": "gpt-3.5-turbo-0125",
         "showlegend": false,
         "type": "scatter",
         "x": [
          "!",
          "\"",
          "#",
          "$",
          "%",
          "&",
          "'",
          "(",
          ")",
          "*",
          "+",
          ",",
          "-",
          ".",
          "/",
          ":",
          ";",
          "<",
          "=",
          ">",
          "?",
          "@",
          "[",
          "\\",
          "]",
          "^",
          "_",
          "`",
          "{",
          "|",
          "}",
          "~"
         ],
         "xaxis": "x9",
         "y": [
          0,
          0,
          0,
          0,
          0,
          0,
          49,
          0,
          0,
          0,
          0,
          592,
          49,
          381,
          0,
          0,
          0,
          0,
          0,
          0,
          3,
          0,
          0,
          0,
          0,
          0,
          0,
          6,
          0,
          0,
          0,
          0
         ],
         "yaxis": "y9"
        },
        {
         "marker": {
          "color": "#e74c3c"
         },
         "mode": "markers",
         "name": "gpt-3.5-turbo-0125",
         "showlegend": false,
         "type": "scatter",
         "x": [
          "!",
          "\"",
          "#",
          "$",
          "%",
          "&",
          "'",
          "(",
          ")",
          "*",
          "+",
          ",",
          "-",
          ".",
          "/",
          ":",
          ";",
          "<",
          "=",
          ">",
          "?",
          "@",
          "[",
          "\\",
          "]",
          "^",
          "_",
          "`",
          "{",
          "|",
          "}",
          "~"
         ],
         "xaxis": "x10",
         "y": [
          6,
          0,
          0,
          0,
          0,
          0,
          116,
          1,
          1,
          0,
          0,
          625,
          39,
          387,
          0,
          0,
          0,
          0,
          0,
          0,
          11,
          0,
          0,
          0,
          0,
          0,
          0,
          34,
          0,
          0,
          0,
          0
         ],
         "yaxis": "y10"
        },
        {
         "marker": {
          "color": "#2ecc71"
         },
         "mode": "markers",
         "name": "gpt-4o",
         "showlegend": true,
         "type": "scatter",
         "x": [
          "!",
          "\"",
          "#",
          "$",
          "%",
          "&",
          "'",
          "(",
          ")",
          "*",
          "+",
          ",",
          "-",
          ".",
          "/",
          ":",
          ";",
          "<",
          "=",
          ">",
          "?",
          "@",
          "[",
          "\\",
          "]",
          "^",
          "_",
          "`",
          "{",
          "|",
          "}",
          "~"
         ],
         "xaxis": "x",
         "y": [
          0,
          0,
          0,
          0,
          0,
          0,
          134,
          0,
          0,
          100,
          0,
          677,
          39,
          441,
          0,
          27,
          4,
          0,
          0,
          0,
          10,
          0,
          0,
          0,
          0,
          0,
          0,
          24,
          0,
          0,
          0,
          0
         ],
         "yaxis": "y"
        },
        {
         "marker": {
          "color": "#2ecc71"
         },
         "mode": "markers",
         "name": "gpt-4o",
         "showlegend": false,
         "type": "scatter",
         "x": [
          "!",
          "\"",
          "#",
          "$",
          "%",
          "&",
          "'",
          "(",
          ")",
          "*",
          "+",
          ",",
          "-",
          ".",
          "/",
          ":",
          ";",
          "<",
          "=",
          ">",
          "?",
          "@",
          "[",
          "\\",
          "]",
          "^",
          "_",
          "`",
          "{",
          "|",
          "}",
          "~"
         ],
         "xaxis": "x2",
         "y": [
          1,
          0,
          34,
          0,
          0,
          0,
          244,
          0,
          0,
          20,
          0,
          702,
          24,
          461,
          0,
          10,
          6,
          0,
          0,
          0,
          18,
          0,
          0,
          0,
          0,
          0,
          0,
          122,
          0,
          0,
          0,
          0
         ],
         "yaxis": "y2"
        },
        {
         "marker": {
          "color": "#2ecc71"
         },
         "mode": "markers",
         "name": "gpt-4o",
         "showlegend": false,
         "type": "scatter",
         "x": [
          "!",
          "\"",
          "#",
          "$",
          "%",
          "&",
          "'",
          "(",
          ")",
          "*",
          "+",
          ",",
          "-",
          ".",
          "/",
          ":",
          ";",
          "<",
          "=",
          ">",
          "?",
          "@",
          "[",
          "\\",
          "]",
          "^",
          "_",
          "`",
          "{",
          "|",
          "}",
          "~"
         ],
         "xaxis": "x3",
         "y": [
          0,
          0,
          50,
          0,
          0,
          0,
          152,
          0,
          0,
          40,
          0,
          695,
          48,
          396,
          0,
          14,
          7,
          0,
          0,
          0,
          2,
          1,
          0,
          0,
          0,
          0,
          0,
          30,
          0,
          0,
          0,
          0
         ],
         "yaxis": "y3"
        },
        {
         "marker": {
          "color": "#2ecc71"
         },
         "mode": "markers",
         "name": "gpt-4o",
         "showlegend": false,
         "type": "scatter",
         "x": [
          "!",
          "\"",
          "#",
          "$",
          "%",
          "&",
          "'",
          "(",
          ")",
          "*",
          "+",
          ",",
          "-",
          ".",
          "/",
          ":",
          ";",
          "<",
          "=",
          ">",
          "?",
          "@",
          "[",
          "\\",
          "]",
          "^",
          "_",
          "`",
          "{",
          "|",
          "}",
          "~"
         ],
         "xaxis": "x4",
         "y": [
          0,
          0,
          0,
          0,
          0,
          0,
          99,
          0,
          0,
          54,
          0,
          692,
          31,
          395,
          0,
          16,
          5,
          0,
          0,
          0,
          8,
          0,
          0,
          0,
          0,
          0,
          0,
          56,
          0,
          0,
          0,
          0
         ],
         "yaxis": "y4"
        },
        {
         "marker": {
          "color": "#2ecc71"
         },
         "mode": "markers",
         "name": "gpt-4o",
         "showlegend": false,
         "type": "scatter",
         "x": [
          "!",
          "\"",
          "#",
          "$",
          "%",
          "&",
          "'",
          "(",
          ")",
          "*",
          "+",
          ",",
          "-",
          ".",
          "/",
          ":",
          ";",
          "<",
          "=",
          ">",
          "?",
          "@",
          "[",
          "\\",
          "]",
          "^",
          "_",
          "`",
          "{",
          "|",
          "}",
          "~"
         ],
         "xaxis": "x5",
         "y": [
          0,
          0,
          0,
          0,
          0,
          0,
          69,
          0,
          0,
          60,
          0,
          717,
          26,
          393,
          0,
          19,
          4,
          0,
          0,
          0,
          1,
          0,
          1,
          0,
          1,
          0,
          0,
          12,
          0,
          0,
          0,
          0
         ],
         "yaxis": "y5"
        },
        {
         "marker": {
          "color": "#2ecc71"
         },
         "mode": "markers",
         "name": "gpt-4o",
         "showlegend": false,
         "type": "scatter",
         "x": [
          "!",
          "\"",
          "#",
          "$",
          "%",
          "&",
          "'",
          "(",
          ")",
          "*",
          "+",
          ",",
          "-",
          ".",
          "/",
          ":",
          ";",
          "<",
          "=",
          ">",
          "?",
          "@",
          "[",
          "\\",
          "]",
          "^",
          "_",
          "`",
          "{",
          "|",
          "}",
          "~"
         ],
         "xaxis": "x6",
         "y": [
          2,
          0,
          0,
          0,
          0,
          0,
          159,
          0,
          0,
          40,
          0,
          688,
          53,
          491,
          0,
          16,
          3,
          0,
          0,
          0,
          10,
          0,
          0,
          0,
          0,
          0,
          0,
          94,
          0,
          0,
          0,
          0
         ],
         "yaxis": "y6"
        },
        {
         "marker": {
          "color": "#2ecc71"
         },
         "mode": "markers",
         "name": "gpt-4o",
         "showlegend": false,
         "type": "scatter",
         "x": [
          "!",
          "\"",
          "#",
          "$",
          "%",
          "&",
          "'",
          "(",
          ")",
          "*",
          "+",
          ",",
          "-",
          ".",
          "/",
          ":",
          ";",
          "<",
          "=",
          ">",
          "?",
          "@",
          "[",
          "\\",
          "]",
          "^",
          "_",
          "`",
          "{",
          "|",
          "}",
          "~"
         ],
         "xaxis": "x7",
         "y": [
          0,
          0,
          0,
          0,
          0,
          0,
          36,
          0,
          0,
          44,
          0,
          709,
          17,
          409,
          0,
          14,
          2,
          0,
          0,
          0,
          6,
          0,
          0,
          0,
          0,
          0,
          0,
          2,
          0,
          0,
          0,
          0
         ],
         "yaxis": "y7"
        },
        {
         "marker": {
          "color": "#2ecc71"
         },
         "mode": "markers",
         "name": "gpt-4o",
         "showlegend": false,
         "type": "scatter",
         "x": [
          "!",
          "\"",
          "#",
          "$",
          "%",
          "&",
          "'",
          "(",
          ")",
          "*",
          "+",
          ",",
          "-",
          ".",
          "/",
          ":",
          ";",
          "<",
          "=",
          ">",
          "?",
          "@",
          "[",
          "\\",
          "]",
          "^",
          "_",
          "`",
          "{",
          "|",
          "}",
          "~"
         ],
         "xaxis": "x8",
         "y": [
          1,
          0,
          0,
          0,
          0,
          0,
          103,
          0,
          0,
          60,
          0,
          725,
          30,
          409,
          0,
          11,
          3,
          0,
          0,
          0,
          9,
          1,
          0,
          0,
          0,
          0,
          0,
          6,
          0,
          0,
          0,
          0
         ],
         "yaxis": "y8"
        },
        {
         "marker": {
          "color": "#2ecc71"
         },
         "mode": "markers",
         "name": "gpt-4o",
         "showlegend": false,
         "type": "scatter",
         "x": [
          "!",
          "\"",
          "#",
          "$",
          "%",
          "&",
          "'",
          "(",
          ")",
          "*",
          "+",
          ",",
          "-",
          ".",
          "/",
          ":",
          ";",
          "<",
          "=",
          ">",
          "?",
          "@",
          "[",
          "\\",
          "]",
          "^",
          "_",
          "`",
          "{",
          "|",
          "}",
          "~"
         ],
         "xaxis": "x9",
         "y": [
          1,
          0,
          0,
          0,
          0,
          0,
          46,
          4,
          3,
          40,
          0,
          817,
          16,
          407,
          0,
          13,
          3,
          0,
          0,
          0,
          5,
          0,
          0,
          0,
          0,
          0,
          0,
          14,
          0,
          0,
          0,
          0
         ],
         "yaxis": "y9"
        },
        {
         "marker": {
          "color": "#2ecc71"
         },
         "mode": "markers",
         "name": "gpt-4o",
         "showlegend": false,
         "type": "scatter",
         "x": [
          "!",
          "\"",
          "#",
          "$",
          "%",
          "&",
          "'",
          "(",
          ")",
          "*",
          "+",
          ",",
          "-",
          ".",
          "/",
          ":",
          ";",
          "<",
          "=",
          ">",
          "?",
          "@",
          "[",
          "\\",
          "]",
          "^",
          "_",
          "`",
          "{",
          "|",
          "}",
          "~"
         ],
         "xaxis": "x10",
         "y": [
          7,
          0,
          53,
          0,
          0,
          0,
          208,
          1,
          1,
          64,
          0,
          701,
          24,
          459,
          0,
          17,
          4,
          0,
          0,
          0,
          16,
          0,
          0,
          0,
          0,
          0,
          0,
          140,
          0,
          0,
          0,
          0
         ],
         "yaxis": "y10"
        },
        {
         "marker": {
          "color": "#f1c40f"
         },
         "mode": "markers",
         "name": "gemini-1.5-flash",
         "showlegend": true,
         "type": "scatter",
         "x": [
          "!",
          "\"",
          "#",
          "$",
          "%",
          "&",
          "'",
          "(",
          ")",
          "*",
          "+",
          ",",
          "-",
          ".",
          "/",
          ":",
          ";",
          "<",
          "=",
          ">",
          "?",
          "@",
          "[",
          "\\",
          "]",
          "^",
          "_",
          "`",
          "{",
          "|",
          "}",
          "~"
         ],
         "xaxis": "x",
         "y": [
          32,
          0,
          4,
          0,
          0,
          0,
          460,
          0,
          0,
          112,
          0,
          866,
          43,
          446,
          0,
          20,
          2,
          0,
          0,
          0,
          26,
          0,
          0,
          0,
          0,
          0,
          0,
          74,
          0,
          0,
          0,
          0
         ],
         "yaxis": "y"
        },
        {
         "marker": {
          "color": "#f1c40f"
         },
         "mode": "markers",
         "name": "gemini-1.5-flash",
         "showlegend": false,
         "type": "scatter",
         "x": [
          "!",
          "\"",
          "#",
          "$",
          "%",
          "&",
          "'",
          "(",
          ")",
          "*",
          "+",
          ",",
          "-",
          ".",
          "/",
          ":",
          ";",
          "<",
          "=",
          ">",
          "?",
          "@",
          "[",
          "\\",
          "]",
          "^",
          "_",
          "`",
          "{",
          "|",
          "}",
          "~"
         ],
         "xaxis": "x2",
         "y": [
          1,
          0,
          4,
          0,
          0,
          0,
          116,
          0,
          0,
          106,
          0,
          883,
          28,
          452,
          0,
          16,
          0,
          0,
          0,
          0,
          19,
          0,
          0,
          0,
          0,
          0,
          0,
          76,
          0,
          0,
          0,
          0
         ],
         "yaxis": "y2"
        },
        {
         "marker": {
          "color": "#f1c40f"
         },
         "mode": "markers",
         "name": "gemini-1.5-flash",
         "showlegend": false,
         "type": "scatter",
         "x": [
          "!",
          "\"",
          "#",
          "$",
          "%",
          "&",
          "'",
          "(",
          ")",
          "*",
          "+",
          ",",
          "-",
          ".",
          "/",
          ":",
          ";",
          "<",
          "=",
          ">",
          "?",
          "@",
          "[",
          "\\",
          "]",
          "^",
          "_",
          "`",
          "{",
          "|",
          "}",
          "~"
         ],
         "xaxis": "x3",
         "y": [
          1,
          0,
          4,
          0,
          0,
          0,
          115,
          0,
          0,
          68,
          0,
          905,
          18,
          399,
          0,
          10,
          3,
          0,
          0,
          0,
          7,
          0,
          3,
          0,
          3,
          0,
          0,
          58,
          0,
          0,
          0,
          0
         ],
         "yaxis": "y3"
        },
        {
         "marker": {
          "color": "#f1c40f"
         },
         "mode": "markers",
         "name": "gemini-1.5-flash",
         "showlegend": false,
         "type": "scatter",
         "x": [
          "!",
          "\"",
          "#",
          "$",
          "%",
          "&",
          "'",
          "(",
          ")",
          "*",
          "+",
          ",",
          "-",
          ".",
          "/",
          ":",
          ";",
          "<",
          "=",
          ">",
          "?",
          "@",
          "[",
          "\\",
          "]",
          "^",
          "_",
          "`",
          "{",
          "|",
          "}",
          "~"
         ],
         "xaxis": "x4",
         "y": [
          2,
          0,
          4,
          0,
          0,
          0,
          119,
          0,
          0,
          32,
          0,
          895,
          25,
          378,
          0,
          8,
          3,
          0,
          0,
          0,
          14,
          0,
          0,
          0,
          0,
          0,
          0,
          62,
          0,
          0,
          0,
          0
         ],
         "yaxis": "y4"
        },
        {
         "marker": {
          "color": "#f1c40f"
         },
         "mode": "markers",
         "name": "gemini-1.5-flash",
         "showlegend": false,
         "type": "scatter",
         "x": [
          "!",
          "\"",
          "#",
          "$",
          "%",
          "&",
          "'",
          "(",
          ")",
          "*",
          "+",
          ",",
          "-",
          ".",
          "/",
          ":",
          ";",
          "<",
          "=",
          ">",
          "?",
          "@",
          "[",
          "\\",
          "]",
          "^",
          "_",
          "`",
          "{",
          "|",
          "}",
          "~"
         ],
         "xaxis": "x5",
         "y": [
          6,
          0,
          4,
          0,
          0,
          0,
          55,
          0,
          0,
          72,
          0,
          980,
          26,
          393,
          0,
          12,
          3,
          0,
          0,
          0,
          17,
          0,
          0,
          0,
          0,
          0,
          0,
          30,
          0,
          0,
          0,
          0
         ],
         "yaxis": "y5"
        },
        {
         "marker": {
          "color": "#f1c40f"
         },
         "mode": "markers",
         "name": "gemini-1.5-flash",
         "showlegend": false,
         "type": "scatter",
         "x": [
          "!",
          "\"",
          "#",
          "$",
          "%",
          "&",
          "'",
          "(",
          ")",
          "*",
          "+",
          ",",
          "-",
          ".",
          "/",
          ":",
          ";",
          "<",
          "=",
          ">",
          "?",
          "@",
          "[",
          "\\",
          "]",
          "^",
          "_",
          "`",
          "{",
          "|",
          "}",
          "~"
         ],
         "xaxis": "x6",
         "y": [
          12,
          0,
          4,
          0,
          0,
          0,
          234,
          0,
          0,
          96,
          0,
          873,
          42,
          422,
          0,
          18,
          3,
          0,
          0,
          0,
          26,
          0,
          5,
          0,
          5,
          0,
          0,
          124,
          0,
          0,
          0,
          0
         ],
         "yaxis": "y6"
        },
        {
         "marker": {
          "color": "#f1c40f"
         },
         "mode": "markers",
         "name": "gemini-1.5-flash",
         "showlegend": false,
         "type": "scatter",
         "x": [
          "!",
          "\"",
          "#",
          "$",
          "%",
          "&",
          "'",
          "(",
          ")",
          "*",
          "+",
          ",",
          "-",
          ".",
          "/",
          ":",
          ";",
          "<",
          "=",
          ">",
          "?",
          "@",
          "[",
          "\\",
          "]",
          "^",
          "_",
          "`",
          "{",
          "|",
          "}",
          "~"
         ],
         "xaxis": "x7",
         "y": [
          0,
          0,
          4,
          0,
          0,
          0,
          89,
          2,
          2,
          202,
          0,
          840,
          18,
          393,
          0,
          20,
          1,
          0,
          0,
          0,
          12,
          0,
          3,
          0,
          3,
          0,
          0,
          48,
          0,
          0,
          0,
          0
         ],
         "yaxis": "y7"
        },
        {
         "marker": {
          "color": "#f1c40f"
         },
         "mode": "markers",
         "name": "gemini-1.5-flash",
         "showlegend": false,
         "type": "scatter",
         "x": [
          "!",
          "\"",
          "#",
          "$",
          "%",
          "&",
          "'",
          "(",
          ")",
          "*",
          "+",
          ",",
          "-",
          ".",
          "/",
          ":",
          ";",
          "<",
          "=",
          ">",
          "?",
          "@",
          "[",
          "\\",
          "]",
          "^",
          "_",
          "`",
          "{",
          "|",
          "}",
          "~"
         ],
         "xaxis": "x8",
         "y": [
          4,
          0,
          4,
          0,
          0,
          0,
          189,
          0,
          0,
          72,
          0,
          883,
          21,
          433,
          0,
          10,
          0,
          0,
          0,
          0,
          8,
          0,
          0,
          0,
          0,
          0,
          0,
          102,
          0,
          0,
          0,
          0
         ],
         "yaxis": "y8"
        },
        {
         "marker": {
          "color": "#f1c40f"
         },
         "mode": "markers",
         "name": "gemini-1.5-flash",
         "showlegend": false,
         "type": "scatter",
         "x": [
          "!",
          "\"",
          "#",
          "$",
          "%",
          "&",
          "'",
          "(",
          ")",
          "*",
          "+",
          ",",
          "-",
          ".",
          "/",
          ":",
          ";",
          "<",
          "=",
          ">",
          "?",
          "@",
          "[",
          "\\",
          "]",
          "^",
          "_",
          "`",
          "{",
          "|",
          "}",
          "~"
         ],
         "xaxis": "x9",
         "y": [
          0,
          0,
          4,
          0,
          0,
          0,
          56,
          0,
          0,
          56,
          0,
          1005,
          19,
          378,
          1,
          12,
          2,
          0,
          0,
          0,
          21,
          0,
          0,
          0,
          0,
          0,
          0,
          26,
          0,
          0,
          0,
          0
         ],
         "yaxis": "y9"
        },
        {
         "marker": {
          "color": "#f1c40f"
         },
         "mode": "markers",
         "name": "gemini-1.5-flash",
         "showlegend": false,
         "type": "scatter",
         "x": [
          "!",
          "\"",
          "#",
          "$",
          "%",
          "&",
          "'",
          "(",
          ")",
          "*",
          "+",
          ",",
          "-",
          ".",
          "/",
          ":",
          ";",
          "<",
          "=",
          ">",
          "?",
          "@",
          "[",
          "\\",
          "]",
          "^",
          "_",
          "`",
          "{",
          "|",
          "}",
          "~"
         ],
         "xaxis": "x10",
         "y": [
          41,
          0,
          4,
          0,
          0,
          0,
          381,
          1,
          1,
          123,
          0,
          935,
          31,
          393,
          0,
          19,
          2,
          0,
          0,
          0,
          55,
          0,
          1,
          0,
          1,
          0,
          0,
          266,
          0,
          0,
          0,
          0
         ],
         "yaxis": "y10"
        },
        {
         "marker": {
          "color": "#9b59b6"
         },
         "mode": "markers",
         "name": "open-mixtral-8x7b",
         "showlegend": true,
         "type": "scatter",
         "x": [
          "!",
          "\"",
          "#",
          "$",
          "%",
          "&",
          "'",
          "(",
          ")",
          "*",
          "+",
          ",",
          "-",
          ".",
          "/",
          ":",
          ";",
          "<",
          "=",
          ">",
          "?",
          "@",
          "[",
          "\\",
          "]",
          "^",
          "_",
          "`",
          "{",
          "|",
          "}",
          "~"
         ],
         "xaxis": "x",
         "y": [
          4,
          0,
          0,
          0,
          0,
          0,
          204,
          2,
          2,
          0,
          0,
          761,
          35,
          410,
          0,
          18,
          2,
          0,
          0,
          0,
          12,
          0,
          1,
          0,
          1,
          0,
          0,
          24,
          0,
          0,
          0,
          0
         ],
         "yaxis": "y"
        },
        {
         "marker": {
          "color": "#9b59b6"
         },
         "mode": "markers",
         "name": "open-mixtral-8x7b",
         "showlegend": false,
         "type": "scatter",
         "x": [
          "!",
          "\"",
          "#",
          "$",
          "%",
          "&",
          "'",
          "(",
          ")",
          "*",
          "+",
          ",",
          "-",
          ".",
          "/",
          ":",
          ";",
          "<",
          "=",
          ">",
          "?",
          "@",
          "[",
          "\\",
          "]",
          "^",
          "_",
          "`",
          "{",
          "|",
          "}",
          "~"
         ],
         "xaxis": "x2",
         "y": [
          1,
          0,
          0,
          0,
          0,
          0,
          138,
          0,
          0,
          0,
          0,
          766,
          22,
          408,
          0,
          4,
          2,
          0,
          0,
          0,
          10,
          0,
          0,
          0,
          0,
          0,
          0,
          58,
          0,
          0,
          0,
          0
         ],
         "yaxis": "y2"
        },
        {
         "marker": {
          "color": "#9b59b6"
         },
         "mode": "markers",
         "name": "open-mixtral-8x7b",
         "showlegend": false,
         "type": "scatter",
         "x": [
          "!",
          "\"",
          "#",
          "$",
          "%",
          "&",
          "'",
          "(",
          ")",
          "*",
          "+",
          ",",
          "-",
          ".",
          "/",
          ":",
          ";",
          "<",
          "=",
          ">",
          "?",
          "@",
          "[",
          "\\",
          "]",
          "^",
          "_",
          "`",
          "{",
          "|",
          "}",
          "~"
         ],
         "xaxis": "x3",
         "y": [
          0,
          0,
          0,
          0,
          0,
          0,
          48,
          1,
          1,
          0,
          0,
          779,
          24,
          309,
          0,
          6,
          0,
          0,
          0,
          0,
          9,
          0,
          0,
          0,
          0,
          0,
          0,
          66,
          0,
          0,
          0,
          0
         ],
         "yaxis": "y3"
        },
        {
         "marker": {
          "color": "#9b59b6"
         },
         "mode": "markers",
         "name": "open-mixtral-8x7b",
         "showlegend": false,
         "type": "scatter",
         "x": [
          "!",
          "\"",
          "#",
          "$",
          "%",
          "&",
          "'",
          "(",
          ")",
          "*",
          "+",
          ",",
          "-",
          ".",
          "/",
          ":",
          ";",
          "<",
          "=",
          ">",
          "?",
          "@",
          "[",
          "\\",
          "]",
          "^",
          "_",
          "`",
          "{",
          "|",
          "}",
          "~"
         ],
         "xaxis": "x4",
         "y": [
          0,
          0,
          0,
          0,
          0,
          0,
          78,
          0,
          0,
          0,
          0,
          802,
          52,
          323,
          0,
          5,
          1,
          0,
          0,
          0,
          5,
          0,
          0,
          0,
          0,
          0,
          0,
          68,
          0,
          0,
          0,
          0
         ],
         "yaxis": "y4"
        },
        {
         "marker": {
          "color": "#9b59b6"
         },
         "mode": "markers",
         "name": "open-mixtral-8x7b",
         "showlegend": false,
         "type": "scatter",
         "x": [
          "!",
          "\"",
          "#",
          "$",
          "%",
          "&",
          "'",
          "(",
          ")",
          "*",
          "+",
          ",",
          "-",
          ".",
          "/",
          ":",
          ";",
          "<",
          "=",
          ">",
          "?",
          "@",
          "[",
          "\\",
          "]",
          "^",
          "_",
          "`",
          "{",
          "|",
          "}",
          "~"
         ],
         "xaxis": "x5",
         "y": [
          0,
          0,
          0,
          0,
          1,
          0,
          76,
          0,
          0,
          0,
          0,
          723,
          36,
          319,
          0,
          0,
          1,
          0,
          0,
          0,
          9,
          0,
          1,
          0,
          1,
          0,
          0,
          28,
          0,
          0,
          0,
          0
         ],
         "yaxis": "y5"
        },
        {
         "marker": {
          "color": "#9b59b6"
         },
         "mode": "markers",
         "name": "open-mixtral-8x7b",
         "showlegend": false,
         "type": "scatter",
         "x": [
          "!",
          "\"",
          "#",
          "$",
          "%",
          "&",
          "'",
          "(",
          ")",
          "*",
          "+",
          ",",
          "-",
          ".",
          "/",
          ":",
          ";",
          "<",
          "=",
          ">",
          "?",
          "@",
          "[",
          "\\",
          "]",
          "^",
          "_",
          "`",
          "{",
          "|",
          "}",
          "~"
         ],
         "xaxis": "x6",
         "y": [
          4,
          0,
          0,
          0,
          0,
          0,
          93,
          1,
          1,
          0,
          0,
          688,
          45,
          412,
          0,
          6,
          2,
          0,
          0,
          0,
          7,
          0,
          1,
          0,
          1,
          0,
          0,
          30,
          0,
          0,
          0,
          0
         ],
         "yaxis": "y6"
        },
        {
         "marker": {
          "color": "#9b59b6"
         },
         "mode": "markers",
         "name": "open-mixtral-8x7b",
         "showlegend": false,
         "type": "scatter",
         "x": [
          "!",
          "\"",
          "#",
          "$",
          "%",
          "&",
          "'",
          "(",
          ")",
          "*",
          "+",
          ",",
          "-",
          ".",
          "/",
          ":",
          ";",
          "<",
          "=",
          ">",
          "?",
          "@",
          "[",
          "\\",
          "]",
          "^",
          "_",
          "`",
          "{",
          "|",
          "}",
          "~"
         ],
         "xaxis": "x7",
         "y": [
          1,
          0,
          0,
          0,
          0,
          0,
          87,
          0,
          0,
          0,
          0,
          770,
          47,
          323,
          0,
          5,
          1,
          0,
          0,
          0,
          6,
          0,
          0,
          0,
          0,
          0,
          0,
          30,
          0,
          0,
          0,
          0
         ],
         "yaxis": "y7"
        },
        {
         "marker": {
          "color": "#9b59b6"
         },
         "mode": "markers",
         "name": "open-mixtral-8x7b",
         "showlegend": false,
         "type": "scatter",
         "x": [
          "!",
          "\"",
          "#",
          "$",
          "%",
          "&",
          "'",
          "(",
          ")",
          "*",
          "+",
          ",",
          "-",
          ".",
          "/",
          ":",
          ";",
          "<",
          "=",
          ">",
          "?",
          "@",
          "[",
          "\\",
          "]",
          "^",
          "_",
          "`",
          "{",
          "|",
          "}",
          "~"
         ],
         "xaxis": "x8",
         "y": [
          2,
          0,
          0,
          0,
          0,
          0,
          159,
          0,
          0,
          0,
          0,
          725,
          29,
          346,
          0,
          2,
          0,
          0,
          0,
          0,
          13,
          0,
          0,
          0,
          0,
          0,
          0,
          78,
          0,
          0,
          0,
          0
         ],
         "yaxis": "y8"
        },
        {
         "marker": {
          "color": "#9b59b6"
         },
         "mode": "markers",
         "name": "open-mixtral-8x7b",
         "showlegend": false,
         "type": "scatter",
         "x": [
          "!",
          "\"",
          "#",
          "$",
          "%",
          "&",
          "'",
          "(",
          ")",
          "*",
          "+",
          ",",
          "-",
          ".",
          "/",
          ":",
          ";",
          "<",
          "=",
          ">",
          "?",
          "@",
          "[",
          "\\",
          "]",
          "^",
          "_",
          "`",
          "{",
          "|",
          "}",
          "~"
         ],
         "xaxis": "x9",
         "y": [
          0,
          0,
          0,
          0,
          2,
          0,
          162,
          0,
          0,
          0,
          0,
          824,
          18,
          318,
          0,
          9,
          0,
          0,
          0,
          0,
          19,
          0,
          0,
          0,
          0,
          0,
          0,
          54,
          0,
          0,
          0,
          0
         ],
         "yaxis": "y9"
        },
        {
         "marker": {
          "color": "#9b59b6"
         },
         "mode": "markers",
         "name": "open-mixtral-8x7b",
         "showlegend": false,
         "type": "scatter",
         "x": [
          "!",
          "\"",
          "#",
          "$",
          "%",
          "&",
          "'",
          "(",
          ")",
          "*",
          "+",
          ",",
          "-",
          ".",
          "/",
          ":",
          ";",
          "<",
          "=",
          ">",
          "?",
          "@",
          "[",
          "\\",
          "]",
          "^",
          "_",
          "`",
          "{",
          "|",
          "}",
          "~"
         ],
         "xaxis": "x10",
         "y": [
          10,
          0,
          0,
          0,
          0,
          0,
          202,
          2,
          2,
          20,
          0,
          739,
          45,
          396,
          1,
          14,
          4,
          0,
          0,
          0,
          35,
          0,
          0,
          0,
          0,
          0,
          0,
          122,
          0,
          0,
          0,
          0
         ],
         "yaxis": "y10"
        },
        {
         "marker": {
          "color": "#e67e22"
         },
         "mode": "markers",
         "name": "claude-3-haiku-20240307",
         "showlegend": true,
         "type": "scatter",
         "x": [
          "!",
          "\"",
          "#",
          "$",
          "%",
          "&",
          "'",
          "(",
          ")",
          "*",
          "+",
          ",",
          "-",
          ".",
          "/",
          ":",
          ";",
          "<",
          "=",
          ">",
          "?",
          "@",
          "[",
          "\\",
          "]",
          "^",
          "_",
          "`",
          "{",
          "|",
          "}",
          "~"
         ],
         "xaxis": "x",
         "y": [
          16,
          0,
          0,
          0,
          0,
          0,
          524,
          2,
          2,
          0,
          0,
          742,
          67,
          343,
          0,
          7,
          0,
          0,
          0,
          0,
          53,
          0,
          0,
          0,
          0,
          0,
          0,
          116,
          0,
          0,
          0,
          0
         ],
         "yaxis": "y"
        },
        {
         "marker": {
          "color": "#e67e22"
         },
         "mode": "markers",
         "name": "claude-3-haiku-20240307",
         "showlegend": false,
         "type": "scatter",
         "x": [
          "!",
          "\"",
          "#",
          "$",
          "%",
          "&",
          "'",
          "(",
          ")",
          "*",
          "+",
          ",",
          "-",
          ".",
          "/",
          ":",
          ";",
          "<",
          "=",
          ">",
          "?",
          "@",
          "[",
          "\\",
          "]",
          "^",
          "_",
          "`",
          "{",
          "|",
          "}",
          "~"
         ],
         "xaxis": "x2",
         "y": [
          4,
          0,
          0,
          0,
          0,
          0,
          329,
          0,
          0,
          0,
          0,
          695,
          50,
          370,
          0,
          5,
          0,
          0,
          0,
          0,
          38,
          0,
          0,
          0,
          0,
          0,
          0,
          92,
          0,
          0,
          0,
          0
         ],
         "yaxis": "y2"
        },
        {
         "marker": {
          "color": "#e67e22"
         },
         "mode": "markers",
         "name": "claude-3-haiku-20240307",
         "showlegend": false,
         "type": "scatter",
         "x": [
          "!",
          "\"",
          "#",
          "$",
          "%",
          "&",
          "'",
          "(",
          ")",
          "*",
          "+",
          ",",
          "-",
          ".",
          "/",
          ":",
          ";",
          "<",
          "=",
          ">",
          "?",
          "@",
          "[",
          "\\",
          "]",
          "^",
          "_",
          "`",
          "{",
          "|",
          "}",
          "~"
         ],
         "xaxis": "x3",
         "y": [
          0,
          0,
          0,
          0,
          0,
          0,
          54,
          0,
          0,
          0,
          0,
          793,
          27,
          330,
          0,
          1,
          2,
          0,
          0,
          0,
          7,
          0,
          0,
          0,
          0,
          0,
          0,
          28,
          0,
          0,
          0,
          0
         ],
         "yaxis": "y3"
        },
        {
         "marker": {
          "color": "#e67e22"
         },
         "mode": "markers",
         "name": "claude-3-haiku-20240307",
         "showlegend": false,
         "type": "scatter",
         "x": [
          "!",
          "\"",
          "#",
          "$",
          "%",
          "&",
          "'",
          "(",
          ")",
          "*",
          "+",
          ",",
          "-",
          ".",
          "/",
          ":",
          ";",
          "<",
          "=",
          ">",
          "?",
          "@",
          "[",
          "\\",
          "]",
          "^",
          "_",
          "`",
          "{",
          "|",
          "}",
          "~"
         ],
         "xaxis": "x4",
         "y": [
          2,
          0,
          0,
          0,
          0,
          0,
          95,
          0,
          0,
          0,
          0,
          787,
          45,
          286,
          0,
          3,
          1,
          0,
          0,
          0,
          12,
          0,
          0,
          0,
          0,
          0,
          0,
          46,
          0,
          0,
          0,
          0
         ],
         "yaxis": "y4"
        },
        {
         "marker": {
          "color": "#e67e22"
         },
         "mode": "markers",
         "name": "claude-3-haiku-20240307",
         "showlegend": false,
         "type": "scatter",
         "x": [
          "!",
          "\"",
          "#",
          "$",
          "%",
          "&",
          "'",
          "(",
          ")",
          "*",
          "+",
          ",",
          "-",
          ".",
          "/",
          ":",
          ";",
          "<",
          "=",
          ">",
          "?",
          "@",
          "[",
          "\\",
          "]",
          "^",
          "_",
          "`",
          "{",
          "|",
          "}",
          "~"
         ],
         "xaxis": "x5",
         "y": [
          4,
          0,
          0,
          0,
          0,
          0,
          74,
          0,
          0,
          0,
          0,
          783,
          37,
          293,
          0,
          2,
          0,
          0,
          0,
          0,
          18,
          0,
          0,
          0,
          0,
          0,
          0,
          28,
          0,
          0,
          0,
          0
         ],
         "yaxis": "y5"
        },
        {
         "marker": {
          "color": "#e67e22"
         },
         "mode": "markers",
         "name": "claude-3-haiku-20240307",
         "showlegend": false,
         "type": "scatter",
         "x": [
          "!",
          "\"",
          "#",
          "$",
          "%",
          "&",
          "'",
          "(",
          ")",
          "*",
          "+",
          ",",
          "-",
          ".",
          "/",
          ":",
          ";",
          "<",
          "=",
          ">",
          "?",
          "@",
          "[",
          "\\",
          "]",
          "^",
          "_",
          "`",
          "{",
          "|",
          "}",
          "~"
         ],
         "xaxis": "x6",
         "y": [
          24,
          0,
          0,
          0,
          0,
          0,
          244,
          0,
          0,
          0,
          0,
          725,
          72,
          320,
          0,
          9,
          0,
          0,
          0,
          0,
          24,
          0,
          0,
          0,
          0,
          0,
          0,
          92,
          0,
          0,
          0,
          0
         ],
         "yaxis": "y6"
        },
        {
         "marker": {
          "color": "#e67e22"
         },
         "mode": "markers",
         "name": "claude-3-haiku-20240307",
         "showlegend": false,
         "type": "scatter",
         "x": [
          "!",
          "\"",
          "#",
          "$",
          "%",
          "&",
          "'",
          "(",
          ")",
          "*",
          "+",
          ",",
          "-",
          ".",
          "/",
          ":",
          ";",
          "<",
          "=",
          ">",
          "?",
          "@",
          "[",
          "\\",
          "]",
          "^",
          "_",
          "`",
          "{",
          "|",
          "}",
          "~"
         ],
         "xaxis": "x7",
         "y": [
          0,
          0,
          0,
          0,
          0,
          0,
          51,
          0,
          0,
          0,
          0,
          782,
          31,
          302,
          0,
          2,
          0,
          0,
          0,
          0,
          9,
          0,
          0,
          0,
          0,
          0,
          0,
          26,
          0,
          0,
          0,
          0
         ],
         "yaxis": "y7"
        },
        {
         "marker": {
          "color": "#e67e22"
         },
         "mode": "markers",
         "name": "claude-3-haiku-20240307",
         "showlegend": false,
         "type": "scatter",
         "x": [
          "!",
          "\"",
          "#",
          "$",
          "%",
          "&",
          "'",
          "(",
          ")",
          "*",
          "+",
          ",",
          "-",
          ".",
          "/",
          ":",
          ";",
          "<",
          "=",
          ">",
          "?",
          "@",
          "[",
          "\\",
          "]",
          "^",
          "_",
          "`",
          "{",
          "|",
          "}",
          "~"
         ],
         "xaxis": "x8",
         "y": [
          12,
          0,
          0,
          0,
          0,
          0,
          174,
          0,
          0,
          0,
          0,
          692,
          25,
          326,
          0,
          0,
          0,
          0,
          0,
          0,
          23,
          0,
          0,
          0,
          0,
          0,
          0,
          38,
          0,
          0,
          0,
          0
         ],
         "yaxis": "y8"
        },
        {
         "marker": {
          "color": "#e67e22"
         },
         "mode": "markers",
         "name": "claude-3-haiku-20240307",
         "showlegend": false,
         "type": "scatter",
         "x": [
          "!",
          "\"",
          "#",
          "$",
          "%",
          "&",
          "'",
          "(",
          ")",
          "*",
          "+",
          ",",
          "-",
          ".",
          "/",
          ":",
          ";",
          "<",
          "=",
          ">",
          "?",
          "@",
          "[",
          "\\",
          "]",
          "^",
          "_",
          "`",
          "{",
          "|",
          "}",
          "~"
         ],
         "xaxis": "x9",
         "y": [
          5,
          0,
          0,
          0,
          0,
          0,
          111,
          0,
          0,
          4,
          0,
          816,
          38,
          287,
          0,
          5,
          1,
          0,
          0,
          0,
          39,
          0,
          0,
          0,
          0,
          0,
          2,
          28,
          0,
          0,
          0,
          0
         ],
         "yaxis": "y9"
        },
        {
         "marker": {
          "color": "#e67e22"
         },
         "mode": "markers",
         "name": "claude-3-haiku-20240307",
         "showlegend": false,
         "type": "scatter",
         "x": [
          "!",
          "\"",
          "#",
          "$",
          "%",
          "&",
          "'",
          "(",
          ")",
          "*",
          "+",
          ",",
          "-",
          ".",
          "/",
          ":",
          ";",
          "<",
          "=",
          ">",
          "?",
          "@",
          "[",
          "\\",
          "]",
          "^",
          "_",
          "`",
          "{",
          "|",
          "}",
          "~"
         ],
         "xaxis": "x10",
         "y": [
          23,
          0,
          0,
          0,
          0,
          0,
          182,
          2,
          2,
          0,
          0,
          802,
          36,
          283,
          0,
          10,
          0,
          0,
          0,
          0,
          22,
          0,
          0,
          0,
          0,
          0,
          0,
          92,
          0,
          0,
          0,
          0
         ],
         "yaxis": "y10"
        }
       ],
       "layout": {
        "annotations": [
         {
          "font": {
           "size": 16
          },
          "showarrow": false,
          "text": "Mark Twain",
          "x": 0.14444444444444446,
          "xanchor": "center",
          "xref": "paper",
          "y": 1,
          "yanchor": "bottom",
          "yref": "paper"
         },
         {
          "font": {
           "size": 16
          },
          "showarrow": false,
          "text": "Zane Grey",
          "x": 0.5,
          "xanchor": "center",
          "xref": "paper",
          "y": 1,
          "yanchor": "bottom",
          "yref": "paper"
         },
         {
          "font": {
           "size": 16
          },
          "showarrow": false,
          "text": "Joseph Conrad",
          "x": 0.8555555555555556,
          "xanchor": "center",
          "xref": "paper",
          "y": 1,
          "yanchor": "bottom",
          "yref": "paper"
         },
         {
          "font": {
           "size": 16
          },
          "showarrow": false,
          "text": "George Eliot",
          "x": 0.14444444444444446,
          "xanchor": "center",
          "xref": "paper",
          "y": 0.71875,
          "yanchor": "bottom",
          "yref": "paper"
         },
         {
          "font": {
           "size": 16
          },
          "showarrow": false,
          "text": "Benjamin Disraeli",
          "x": 0.5,
          "xanchor": "center",
          "xref": "paper",
          "y": 0.71875,
          "yanchor": "bottom",
          "yref": "paper"
         },
         {
          "font": {
           "size": 16
          },
          "showarrow": false,
          "text": "Lucy Maud Montgomery",
          "x": 0.8555555555555556,
          "xanchor": "center",
          "xref": "paper",
          "y": 0.71875,
          "yanchor": "bottom",
          "yref": "paper"
         },
         {
          "font": {
           "size": 16
          },
          "showarrow": false,
          "text": "William Henry Hudson",
          "x": 0.14444444444444446,
          "xanchor": "center",
          "xref": "paper",
          "y": 0.4375,
          "yanchor": "bottom",
          "yref": "paper"
         },
         {
          "font": {
           "size": 16
          },
          "showarrow": false,
          "text": "Howard Pyle",
          "x": 0.5,
          "xanchor": "center",
          "xref": "paper",
          "y": 0.4375,
          "yanchor": "bottom",
          "yref": "paper"
         },
         {
          "font": {
           "size": 16
          },
          "showarrow": false,
          "text": "Virginia Woolf",
          "x": 0.8555555555555556,
          "xanchor": "center",
          "xref": "paper",
          "y": 0.4375,
          "yanchor": "bottom",
          "yref": "paper"
         },
         {
          "font": {
           "size": 16
          },
          "showarrow": false,
          "text": "Lewis Carroll",
          "x": 0.14444444444444446,
          "xanchor": "center",
          "xref": "paper",
          "y": 0.15625,
          "yanchor": "bottom",
          "yref": "paper"
         }
        ],
        "height": 1500,
        "template": {
         "data": {
          "bar": [
           {
            "error_x": {
             "color": "#2a3f5f"
            },
            "error_y": {
             "color": "#2a3f5f"
            },
            "marker": {
             "line": {
              "color": "#E5ECF6",
              "width": 0.5
             },
             "pattern": {
              "fillmode": "overlay",
              "size": 10,
              "solidity": 0.2
             }
            },
            "type": "bar"
           }
          ],
          "barpolar": [
           {
            "marker": {
             "line": {
              "color": "#E5ECF6",
              "width": 0.5
             },
             "pattern": {
              "fillmode": "overlay",
              "size": 10,
              "solidity": 0.2
             }
            },
            "type": "barpolar"
           }
          ],
          "carpet": [
           {
            "aaxis": {
             "endlinecolor": "#2a3f5f",
             "gridcolor": "white",
             "linecolor": "white",
             "minorgridcolor": "white",
             "startlinecolor": "#2a3f5f"
            },
            "baxis": {
             "endlinecolor": "#2a3f5f",
             "gridcolor": "white",
             "linecolor": "white",
             "minorgridcolor": "white",
             "startlinecolor": "#2a3f5f"
            },
            "type": "carpet"
           }
          ],
          "choropleth": [
           {
            "colorbar": {
             "outlinewidth": 0,
             "ticks": ""
            },
            "type": "choropleth"
           }
          ],
          "contour": [
           {
            "colorbar": {
             "outlinewidth": 0,
             "ticks": ""
            },
            "colorscale": [
             [
              0,
              "#0d0887"
             ],
             [
              0.1111111111111111,
              "#46039f"
             ],
             [
              0.2222222222222222,
              "#7201a8"
             ],
             [
              0.3333333333333333,
              "#9c179e"
             ],
             [
              0.4444444444444444,
              "#bd3786"
             ],
             [
              0.5555555555555556,
              "#d8576b"
             ],
             [
              0.6666666666666666,
              "#ed7953"
             ],
             [
              0.7777777777777778,
              "#fb9f3a"
             ],
             [
              0.8888888888888888,
              "#fdca26"
             ],
             [
              1,
              "#f0f921"
             ]
            ],
            "type": "contour"
           }
          ],
          "contourcarpet": [
           {
            "colorbar": {
             "outlinewidth": 0,
             "ticks": ""
            },
            "type": "contourcarpet"
           }
          ],
          "heatmap": [
           {
            "colorbar": {
             "outlinewidth": 0,
             "ticks": ""
            },
            "colorscale": [
             [
              0,
              "#0d0887"
             ],
             [
              0.1111111111111111,
              "#46039f"
             ],
             [
              0.2222222222222222,
              "#7201a8"
             ],
             [
              0.3333333333333333,
              "#9c179e"
             ],
             [
              0.4444444444444444,
              "#bd3786"
             ],
             [
              0.5555555555555556,
              "#d8576b"
             ],
             [
              0.6666666666666666,
              "#ed7953"
             ],
             [
              0.7777777777777778,
              "#fb9f3a"
             ],
             [
              0.8888888888888888,
              "#fdca26"
             ],
             [
              1,
              "#f0f921"
             ]
            ],
            "type": "heatmap"
           }
          ],
          "heatmapgl": [
           {
            "colorbar": {
             "outlinewidth": 0,
             "ticks": ""
            },
            "colorscale": [
             [
              0,
              "#0d0887"
             ],
             [
              0.1111111111111111,
              "#46039f"
             ],
             [
              0.2222222222222222,
              "#7201a8"
             ],
             [
              0.3333333333333333,
              "#9c179e"
             ],
             [
              0.4444444444444444,
              "#bd3786"
             ],
             [
              0.5555555555555556,
              "#d8576b"
             ],
             [
              0.6666666666666666,
              "#ed7953"
             ],
             [
              0.7777777777777778,
              "#fb9f3a"
             ],
             [
              0.8888888888888888,
              "#fdca26"
             ],
             [
              1,
              "#f0f921"
             ]
            ],
            "type": "heatmapgl"
           }
          ],
          "histogram": [
           {
            "marker": {
             "pattern": {
              "fillmode": "overlay",
              "size": 10,
              "solidity": 0.2
             }
            },
            "type": "histogram"
           }
          ],
          "histogram2d": [
           {
            "colorbar": {
             "outlinewidth": 0,
             "ticks": ""
            },
            "colorscale": [
             [
              0,
              "#0d0887"
             ],
             [
              0.1111111111111111,
              "#46039f"
             ],
             [
              0.2222222222222222,
              "#7201a8"
             ],
             [
              0.3333333333333333,
              "#9c179e"
             ],
             [
              0.4444444444444444,
              "#bd3786"
             ],
             [
              0.5555555555555556,
              "#d8576b"
             ],
             [
              0.6666666666666666,
              "#ed7953"
             ],
             [
              0.7777777777777778,
              "#fb9f3a"
             ],
             [
              0.8888888888888888,
              "#fdca26"
             ],
             [
              1,
              "#f0f921"
             ]
            ],
            "type": "histogram2d"
           }
          ],
          "histogram2dcontour": [
           {
            "colorbar": {
             "outlinewidth": 0,
             "ticks": ""
            },
            "colorscale": [
             [
              0,
              "#0d0887"
             ],
             [
              0.1111111111111111,
              "#46039f"
             ],
             [
              0.2222222222222222,
              "#7201a8"
             ],
             [
              0.3333333333333333,
              "#9c179e"
             ],
             [
              0.4444444444444444,
              "#bd3786"
             ],
             [
              0.5555555555555556,
              "#d8576b"
             ],
             [
              0.6666666666666666,
              "#ed7953"
             ],
             [
              0.7777777777777778,
              "#fb9f3a"
             ],
             [
              0.8888888888888888,
              "#fdca26"
             ],
             [
              1,
              "#f0f921"
             ]
            ],
            "type": "histogram2dcontour"
           }
          ],
          "mesh3d": [
           {
            "colorbar": {
             "outlinewidth": 0,
             "ticks": ""
            },
            "type": "mesh3d"
           }
          ],
          "parcoords": [
           {
            "line": {
             "colorbar": {
              "outlinewidth": 0,
              "ticks": ""
             }
            },
            "type": "parcoords"
           }
          ],
          "pie": [
           {
            "automargin": true,
            "type": "pie"
           }
          ],
          "scatter": [
           {
            "fillpattern": {
             "fillmode": "overlay",
             "size": 10,
             "solidity": 0.2
            },
            "type": "scatter"
           }
          ],
          "scatter3d": [
           {
            "line": {
             "colorbar": {
              "outlinewidth": 0,
              "ticks": ""
             }
            },
            "marker": {
             "colorbar": {
              "outlinewidth": 0,
              "ticks": ""
             }
            },
            "type": "scatter3d"
           }
          ],
          "scattercarpet": [
           {
            "marker": {
             "colorbar": {
              "outlinewidth": 0,
              "ticks": ""
             }
            },
            "type": "scattercarpet"
           }
          ],
          "scattergeo": [
           {
            "marker": {
             "colorbar": {
              "outlinewidth": 0,
              "ticks": ""
             }
            },
            "type": "scattergeo"
           }
          ],
          "scattergl": [
           {
            "marker": {
             "colorbar": {
              "outlinewidth": 0,
              "ticks": ""
             }
            },
            "type": "scattergl"
           }
          ],
          "scattermapbox": [
           {
            "marker": {
             "colorbar": {
              "outlinewidth": 0,
              "ticks": ""
             }
            },
            "type": "scattermapbox"
           }
          ],
          "scatterpolar": [
           {
            "marker": {
             "colorbar": {
              "outlinewidth": 0,
              "ticks": ""
             }
            },
            "type": "scatterpolar"
           }
          ],
          "scatterpolargl": [
           {
            "marker": {
             "colorbar": {
              "outlinewidth": 0,
              "ticks": ""
             }
            },
            "type": "scatterpolargl"
           }
          ],
          "scatterternary": [
           {
            "marker": {
             "colorbar": {
              "outlinewidth": 0,
              "ticks": ""
             }
            },
            "type": "scatterternary"
           }
          ],
          "surface": [
           {
            "colorbar": {
             "outlinewidth": 0,
             "ticks": ""
            },
            "colorscale": [
             [
              0,
              "#0d0887"
             ],
             [
              0.1111111111111111,
              "#46039f"
             ],
             [
              0.2222222222222222,
              "#7201a8"
             ],
             [
              0.3333333333333333,
              "#9c179e"
             ],
             [
              0.4444444444444444,
              "#bd3786"
             ],
             [
              0.5555555555555556,
              "#d8576b"
             ],
             [
              0.6666666666666666,
              "#ed7953"
             ],
             [
              0.7777777777777778,
              "#fb9f3a"
             ],
             [
              0.8888888888888888,
              "#fdca26"
             ],
             [
              1,
              "#f0f921"
             ]
            ],
            "type": "surface"
           }
          ],
          "table": [
           {
            "cells": {
             "fill": {
              "color": "#EBF0F8"
             },
             "line": {
              "color": "white"
             }
            },
            "header": {
             "fill": {
              "color": "#C8D4E3"
             },
             "line": {
              "color": "white"
             }
            },
            "type": "table"
           }
          ]
         },
         "layout": {
          "annotationdefaults": {
           "arrowcolor": "#2a3f5f",
           "arrowhead": 0,
           "arrowwidth": 1
          },
          "autotypenumbers": "strict",
          "coloraxis": {
           "colorbar": {
            "outlinewidth": 0,
            "ticks": ""
           }
          },
          "colorscale": {
           "diverging": [
            [
             0,
             "#8e0152"
            ],
            [
             0.1,
             "#c51b7d"
            ],
            [
             0.2,
             "#de77ae"
            ],
            [
             0.3,
             "#f1b6da"
            ],
            [
             0.4,
             "#fde0ef"
            ],
            [
             0.5,
             "#f7f7f7"
            ],
            [
             0.6,
             "#e6f5d0"
            ],
            [
             0.7,
             "#b8e186"
            ],
            [
             0.8,
             "#7fbc41"
            ],
            [
             0.9,
             "#4d9221"
            ],
            [
             1,
             "#276419"
            ]
           ],
           "sequential": [
            [
             0,
             "#0d0887"
            ],
            [
             0.1111111111111111,
             "#46039f"
            ],
            [
             0.2222222222222222,
             "#7201a8"
            ],
            [
             0.3333333333333333,
             "#9c179e"
            ],
            [
             0.4444444444444444,
             "#bd3786"
            ],
            [
             0.5555555555555556,
             "#d8576b"
            ],
            [
             0.6666666666666666,
             "#ed7953"
            ],
            [
             0.7777777777777778,
             "#fb9f3a"
            ],
            [
             0.8888888888888888,
             "#fdca26"
            ],
            [
             1,
             "#f0f921"
            ]
           ],
           "sequentialminus": [
            [
             0,
             "#0d0887"
            ],
            [
             0.1111111111111111,
             "#46039f"
            ],
            [
             0.2222222222222222,
             "#7201a8"
            ],
            [
             0.3333333333333333,
             "#9c179e"
            ],
            [
             0.4444444444444444,
             "#bd3786"
            ],
            [
             0.5555555555555556,
             "#d8576b"
            ],
            [
             0.6666666666666666,
             "#ed7953"
            ],
            [
             0.7777777777777778,
             "#fb9f3a"
            ],
            [
             0.8888888888888888,
             "#fdca26"
            ],
            [
             1,
             "#f0f921"
            ]
           ]
          },
          "colorway": [
           "#636efa",
           "#EF553B",
           "#00cc96",
           "#ab63fa",
           "#FFA15A",
           "#19d3f3",
           "#FF6692",
           "#B6E880",
           "#FF97FF",
           "#FECB52"
          ],
          "font": {
           "color": "#2a3f5f"
          },
          "geo": {
           "bgcolor": "white",
           "lakecolor": "white",
           "landcolor": "#E5ECF6",
           "showlakes": true,
           "showland": true,
           "subunitcolor": "white"
          },
          "hoverlabel": {
           "align": "left"
          },
          "hovermode": "closest",
          "mapbox": {
           "style": "light"
          },
          "paper_bgcolor": "white",
          "plot_bgcolor": "#E5ECF6",
          "polar": {
           "angularaxis": {
            "gridcolor": "white",
            "linecolor": "white",
            "ticks": ""
           },
           "bgcolor": "#E5ECF6",
           "radialaxis": {
            "gridcolor": "white",
            "linecolor": "white",
            "ticks": ""
           }
          },
          "scene": {
           "xaxis": {
            "backgroundcolor": "#E5ECF6",
            "gridcolor": "white",
            "gridwidth": 2,
            "linecolor": "white",
            "showbackground": true,
            "ticks": "",
            "zerolinecolor": "white"
           },
           "yaxis": {
            "backgroundcolor": "#E5ECF6",
            "gridcolor": "white",
            "gridwidth": 2,
            "linecolor": "white",
            "showbackground": true,
            "ticks": "",
            "zerolinecolor": "white"
           },
           "zaxis": {
            "backgroundcolor": "#E5ECF6",
            "gridcolor": "white",
            "gridwidth": 2,
            "linecolor": "white",
            "showbackground": true,
            "ticks": "",
            "zerolinecolor": "white"
           }
          },
          "shapedefaults": {
           "line": {
            "color": "#2a3f5f"
           }
          },
          "ternary": {
           "aaxis": {
            "gridcolor": "white",
            "linecolor": "white",
            "ticks": ""
           },
           "baxis": {
            "gridcolor": "white",
            "linecolor": "white",
            "ticks": ""
           },
           "bgcolor": "#E5ECF6",
           "caxis": {
            "gridcolor": "white",
            "linecolor": "white",
            "ticks": ""
           }
          },
          "title": {
           "x": 0.05
          },
          "xaxis": {
           "automargin": true,
           "gridcolor": "white",
           "linecolor": "white",
           "ticks": "",
           "title": {
            "standoff": 15
           },
           "zerolinecolor": "white",
           "zerolinewidth": 2
          },
          "yaxis": {
           "automargin": true,
           "gridcolor": "white",
           "linecolor": "white",
           "ticks": "",
           "title": {
            "standoff": 15
           },
           "zerolinecolor": "white",
           "zerolinewidth": 2
          }
         }
        },
        "title": {
         "text": "Punctuation frequency",
         "x": 0.5
        },
        "xaxis": {
         "anchor": "y",
         "domain": [
          0,
          0.2888888888888889
         ]
        },
        "xaxis10": {
         "anchor": "y10",
         "domain": [
          0,
          0.2888888888888889
         ]
        },
        "xaxis11": {
         "anchor": "y11",
         "domain": [
          0.35555555555555557,
          0.6444444444444445
         ]
        },
        "xaxis12": {
         "anchor": "y12",
         "domain": [
          0.7111111111111111,
          1
         ]
        },
        "xaxis2": {
         "anchor": "y2",
         "domain": [
          0.35555555555555557,
          0.6444444444444445
         ]
        },
        "xaxis3": {
         "anchor": "y3",
         "domain": [
          0.7111111111111111,
          1
         ]
        },
        "xaxis4": {
         "anchor": "y4",
         "domain": [
          0,
          0.2888888888888889
         ]
        },
        "xaxis5": {
         "anchor": "y5",
         "domain": [
          0.35555555555555557,
          0.6444444444444445
         ]
        },
        "xaxis6": {
         "anchor": "y6",
         "domain": [
          0.7111111111111111,
          1
         ]
        },
        "xaxis7": {
         "anchor": "y7",
         "domain": [
          0,
          0.2888888888888889
         ]
        },
        "xaxis8": {
         "anchor": "y8",
         "domain": [
          0.35555555555555557,
          0.6444444444444445
         ]
        },
        "xaxis9": {
         "anchor": "y9",
         "domain": [
          0.7111111111111111,
          1
         ]
        },
        "yaxis": {
         "anchor": "x",
         "domain": [
          0.84375,
          1
         ]
        },
        "yaxis10": {
         "anchor": "x10",
         "domain": [
          0,
          0.15625
         ]
        },
        "yaxis11": {
         "anchor": "x11",
         "domain": [
          0,
          0.15625
         ]
        },
        "yaxis12": {
         "anchor": "x12",
         "domain": [
          0,
          0.15625
         ]
        },
        "yaxis2": {
         "anchor": "x2",
         "domain": [
          0.84375,
          1
         ]
        },
        "yaxis3": {
         "anchor": "x3",
         "domain": [
          0.84375,
          1
         ]
        },
        "yaxis4": {
         "anchor": "x4",
         "domain": [
          0.5625,
          0.71875
         ]
        },
        "yaxis5": {
         "anchor": "x5",
         "domain": [
          0.5625,
          0.71875
         ]
        },
        "yaxis6": {
         "anchor": "x6",
         "domain": [
          0.5625,
          0.71875
         ]
        },
        "yaxis7": {
         "anchor": "x7",
         "domain": [
          0.28125,
          0.4375
         ]
        },
        "yaxis8": {
         "anchor": "x8",
         "domain": [
          0.28125,
          0.4375
         ]
        },
        "yaxis9": {
         "anchor": "x9",
         "domain": [
          0.28125,
          0.4375
         ]
        }
       }
      }
     },
     "metadata": {},
     "output_type": "display_data"
    }
   ],
   "source": [
    "visualization = AnalysisVisualization(settings)\n",
    "visualization.visualize(analysis_data)"
   ]
  }
 ],
 "metadata": {
  "kernelspec": {
   "display_name": ".venv",
   "language": "python",
   "name": "python3"
  },
  "language_info": {
   "codemirror_mode": {
    "name": "ipython",
    "version": 3
   },
   "file_extension": ".py",
   "mimetype": "text/x-python",
   "name": "python",
   "nbconvert_exporter": "python",
   "pygments_lexer": "ipython3",
   "version": "3.12.1"
  }
 },
 "nbformat": 4,
 "nbformat_minor": 2
}
