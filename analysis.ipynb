{
 "cells": [
  {
   "cell_type": "markdown",
   "metadata": {},
   "source": [
    "# Analysis\n",
    "\n",
    "Notebook reads the list of the selected authors from `res/selected/author_list` and loads their text data from book and genereted resources available in `res` directory.\n",
    "Displayed data:\n",
    "- Notebook displays the number of words per each source-author pair.\n",
    "- Analysis on chunk of `configuration.analysis_size` size\n",
    "    - Average word length\n",
    "    - Average sentence length\n",
    "    - Unique words count\n",
    "    - Top 10 function words\n",
    "\n",
    "Further work on that notebook is planned.\n",
    "\n",
    "*Note: the list of function words are taken from [functionwords](https://pypi.org/project/functionwords/) package.*"
   ]
  },
  {
   "cell_type": "code",
   "execution_count": 1,
   "metadata": {},
   "outputs": [
    {
     "name": "stdout",
     "output_type": "stream",
     "text": [
      "The autoreload extension is already loaded. To reload it, use:\n",
      "  %reload_ext autoreload\n"
     ]
    },
    {
     "name": "stderr",
     "output_type": "stream",
     "text": [
      "[nltk_data] Downloading package punkt to\n",
      "[nltk_data]     C:\\Users\\piotr\\AppData\\Roaming\\nltk_data...\n",
      "[nltk_data]   Package punkt is already up-to-date!\n",
      "[nltk_data] Downloading package cmudict to\n",
      "[nltk_data]     C:\\Users\\piotr\\AppData\\Roaming\\nltk_data...\n",
      "[nltk_data]   Package cmudict is already up-to-date!\n",
      "[nltk_data] Downloading package punkt to\n",
      "[nltk_data]     C:\\Users\\piotr\\AppData\\Roaming\\nltk_data...\n",
      "[nltk_data]   Package punkt is already up-to-date!\n"
     ]
    }
   ],
   "source": [
    "%load_ext autoreload\n",
    "%autoreload 2\n",
    "\n",
    "from src import *"
   ]
  },
  {
   "cell_type": "code",
   "execution_count": 2,
   "metadata": {},
   "outputs": [],
   "source": [
    "settings = Settings()"
   ]
  },
  {
   "cell_type": "code",
   "execution_count": 3,
   "metadata": {},
   "outputs": [
    {
     "name": "stdout",
     "output_type": "stream",
     "text": [
      "Cleaning books corpus...\n"
     ]
    }
   ],
   "source": [
    "cleaner = Cleaner(settings)\n",
    "if not cleaner.cleaned_generated_corpus_exists():\n",
    "    print(\"Cleaning generated corpus...\")\n",
    "    cleaner.clean_generated_corpus()    \n",
    "if not cleaner.cleaned_books_corpus_exists():\n",
    "    print(\"Cleaning books corpus...\")\n",
    "    cleaner.clean_books_corpus()"
   ]
  },
  {
   "cell_type": "code",
   "execution_count": 4,
   "metadata": {},
   "outputs": [
    {
     "name": "stdout",
     "output_type": "stream",
     "text": [
      "Reading authors' collections...\n"
     ]
    }
   ],
   "source": [
    "print(\"Reading authors' collections...\")\n",
    "authors = []\n",
    "for author_name in FileUtils.read_authors(settings.paths.selected_authors_filepath):\n",
    "    author = Author(\n",
    "        settings=settings,\n",
    "        name=author_name\n",
    "    )\n",
    "    author.read_selected_books_collection()\n",
    "    author.read_generated_texts()\n",
    "    authors.append(author)"
   ]
  },
  {
   "cell_type": "code",
   "execution_count": 5,
   "metadata": {},
   "outputs": [
    {
     "name": "stdout",
     "output_type": "stream",
     "text": [
      "Preprocessing collections...\n"
     ]
    }
   ],
   "source": [
    "print(\"Preprocessing collections...\")\n",
    "preprocessing_data = Preprocessing(settings, authors).preprocess()"
   ]
  },
  {
   "cell_type": "code",
   "execution_count": 6,
   "metadata": {},
   "outputs": [],
   "source": [
    "analysis = Analysis(\n",
    "    settings=settings,\n",
    "    authors=authors,\n",
    "    preprocessing_data=preprocessing_data,\n",
    "    read_from_file=settings.configuration.read_analysis_from_file\n",
    ")"
   ]
  },
  {
   "cell_type": "code",
   "execution_count": 7,
   "metadata": {},
   "outputs": [
    {
     "name": "stdout",
     "output_type": "stream",
     "text": [
      "Analysing collections using sample of 200000 words per collection...\n",
      "Text removed while cleaning: 1.0116556982007705%.\n"
     ]
    }
   ],
   "source": [
    "print(f\"Analysing collections using sample of {settings.configuration.analysis_size} words per collection...\")\n",
    "analysis_data = analysis.get_analysis(authors)\n",
    "print(f\"Text removed while cleaning: {analysis_data.percentage_of_removed_text}%.\")"
   ]
  },
  {
   "cell_type": "code",
   "execution_count": 8,
   "metadata": {},
   "outputs": [],
   "source": [
    "pca_data = analysis_data.pca.data"
   ]
  },
  {
   "cell_type": "code",
   "execution_count": 9,
   "metadata": {},
   "outputs": [
    {
     "name": "stdout",
     "output_type": "stream",
     "text": [
      "Top 10 features of PC1: ['of', 'yules_characteristic_k', 'simpsons_index', 'the', 'flesch_reading_ease', '-', 'average_syllables_per_word', 'average_word_length', '\"', 'flesch_kincaid_grade_level']\n",
      "Top 10 features of PC2: ['to', '*', 'and', 'a', 'in', ',', 'average_sentence_length', 'gunning_fog_index', 'flesch_kincaid_grade_level', '@']\n"
     ]
    }
   ],
   "source": [
    "print(f\"Top 10 features of PC1: {analysis_data.pca.top_10_features[\"PC1\"]}\")\n",
    "print(f\"Top 10 features of PC2: {analysis_data.pca.top_10_features[\"PC2\"]}\")"
   ]
  },
  {
   "cell_type": "code",
   "execution_count": 10,
   "metadata": {},
   "outputs": [
    {
     "data": {
      "application/vnd.plotly.v1+json": {
       "config": {
        "plotlyServerURL": "https://plot.ly"
       },
       "data": [
        {
         "marker": {
          "color": "#3498db"
         },
         "name": "books",
         "showlegend": true,
         "type": "bar",
         "x": [
          "Mark Twain",
          "Zane Grey",
          "Joseph Conrad",
          "Benjamin Disraeli",
          "George Eliot",
          "William Henry Hudson",
          "Lucy Maud Montgomery",
          "Howard Pyle",
          "Virginia Woolf",
          "Lewis Carroll"
         ],
         "xaxis": "x",
         "y": [
          16605,
          13534,
          14421,
          14287,
          14042,
          13742,
          12135,
          11651,
          12837,
          12370
         ],
         "yaxis": "y"
        },
        {
         "marker": {
          "color": "#3498db"
         },
         "name": "books",
         "showlegend": false,
         "type": "bar",
         "x": [
          "Mark Twain",
          "Zane Grey",
          "Joseph Conrad",
          "Benjamin Disraeli",
          "George Eliot",
          "William Henry Hudson",
          "Lucy Maud Montgomery",
          "Howard Pyle",
          "Virginia Woolf",
          "Lewis Carroll"
         ],
         "xaxis": "x2",
         "y": [
          4.282293668821714,
          4.197511915824815,
          4.31480259893404,
          4.506178774928775,
          4.301457702261992,
          4.283891885688052,
          4.11679991465807,
          4.14052775484634,
          4.3620270471095255,
          4.1234227453559935
         ],
         "yaxis": "y2"
        },
        {
         "marker": {
          "color": "#3498db"
         },
         "name": "books",
         "showlegend": false,
         "type": "bar",
         "x": [
          "Mark Twain",
          "Zane Grey",
          "Joseph Conrad",
          "Benjamin Disraeli",
          "George Eliot",
          "William Henry Hudson",
          "Lucy Maud Montgomery",
          "Howard Pyle",
          "Virginia Woolf",
          "Lewis Carroll"
         ],
         "xaxis": "x3",
         "y": [
          19.732214687966902,
          12.434396898762486,
          16.18031548125059,
          17.582968065122103,
          22.74930693069307,
          27.41230140003146,
          13.655956620265458,
          22.213421771361684,
          17.75649145028499,
          15.791749900119855
         ],
         "yaxis": "y3"
        },
        {
         "marker": {
          "color": "#3498db"
         },
         "name": "books",
         "showlegend": false,
         "type": "bar",
         "x": [
          "Mark Twain",
          "Zane Grey",
          "Joseph Conrad",
          "Benjamin Disraeli",
          "George Eliot",
          "William Henry Hudson",
          "Lucy Maud Montgomery",
          "Howard Pyle",
          "Virginia Woolf",
          "Lewis Carroll"
         ],
         "xaxis": "x4",
         "y": [
          1.385730094938552,
          1.3236667765820318,
          1.3903479839580621,
          1.4501721272554606,
          1.3921752956605504,
          1.3680993917135316,
          1.330308831111875,
          1.2934209216681596,
          1.387165997919453,
          1.3306115478758056
         ],
         "yaxis": "y4"
        },
        {
         "marker": {
          "color": "#3498db"
         },
         "name": "books",
         "showlegend": false,
         "type": "bar",
         "x": [
          "Mark Twain",
          "Zane Grey",
          "Joseph Conrad",
          "Benjamin Disraeli",
          "George Eliot",
          "William Henry Hudson",
          "Lucy Maud Montgomery",
          "Howard Pyle",
          "Virginia Woolf",
          "Lewis Carroll"
         ],
         "xaxis": "x5",
         "y": [
          69.5740360599121,
          82.23187784891621,
          72.7885403436786,
          66.30372544808911,
          65.96642345246399,
          63.27030554000332,
          80.43007691836596,
          74.86496692894161,
          71.45791775397502,
          78.23663690108522
         ],
         "yaxis": "y5"
        },
        {
         "marker": {
          "color": "#3498db"
         },
         "name": "books",
         "showlegend": false,
         "type": "bar",
         "x": [
          "Mark Twain",
          "Zane Grey",
          "Joseph Conrad",
          "Benjamin Disraeli",
          "George Eliot",
          "William Henry Hudson",
          "Lucy Maud Montgomery",
          "Howard Pyle",
          "Virginia Woolf",
          "Lewis Carroll"
         ],
         "xaxis": "x6",
         "y": [
          8.457178848582007,
          4.878682754185345,
          7.1264292483928635,
          8.379388647012057,
          9.709898191764793,
          11.244370368231944,
          5.433467289023657,
          8.335601366515341,
          7.703590441060694,
          6.2699987259812495
         ],
         "yaxis": "y6"
        },
        {
         "marker": {
          "color": "#3498db"
         },
         "name": "books",
         "showlegend": false,
         "type": "bar",
         "x": [
          "Mark Twain",
          "Zane Grey",
          "Joseph Conrad",
          "Benjamin Disraeli",
          "George Eliot",
          "William Henry Hudson",
          "Lucy Maud Montgomery",
          "Howard Pyle",
          "Virginia Woolf",
          "Lewis Carroll"
         ],
         "xaxis": "x7",
         "y": [
          11.369617193260034,
          7.517000463393001,
          9.883431438821042,
          11.303842496704114,
          12.490505358770271,
          14.045375053298478,
          8.022166448548303,
          10.728705027843967,
          10.242676829779624,
          8.845114261755015
         ],
         "yaxis": "y7"
        },
        {
         "marker": {
          "color": "#3498db"
         },
         "name": "books",
         "showlegend": false,
         "type": "bar",
         "x": [
          "Mark Twain",
          "Zane Grey",
          "Joseph Conrad",
          "Benjamin Disraeli",
          "George Eliot",
          "William Henry Hudson",
          "Lucy Maud Montgomery",
          "Howard Pyle",
          "Virginia Woolf",
          "Lewis Carroll"
         ],
         "xaxis": "x8",
         "y": [
          86.97652045219851,
          72.8654323810199,
          87.03892606247017,
          81.97264372058724,
          74.38401672327534,
          84.49287864758008,
          65.52038825478341,
          89.19337735994665,
          77.46108253827576,
          72.81654770144085
         ],
         "yaxis": "y8"
        },
        {
         "marker": {
          "color": "#3498db"
         },
         "name": "books",
         "showlegend": false,
         "type": "bar",
         "x": [
          "Mark Twain",
          "Zane Grey",
          "Joseph Conrad",
          "Benjamin Disraeli",
          "George Eliot",
          "William Henry Hudson",
          "Lucy Maud Montgomery",
          "Howard Pyle",
          "Virginia Woolf",
          "Lewis Carroll"
         ],
         "xaxis": "x9",
         "y": [
          0.09671500961034422,
          0.08114152102880781,
          0.08418514778080688,
          0.08479938271604938,
          0.0814850922089528,
          0.07885917594399174,
          0.07191835621958953,
          0.06821468509768792,
          0.07630851538118591,
          0.07823815517339523
         ],
         "yaxis": "y9"
        },
        {
         "marker": {
          "color": "#3498db"
         },
         "name": "books",
         "showlegend": false,
         "type": "bar",
         "x": [
          "Mark Twain",
          "Zane Grey",
          "Joseph Conrad",
          "Benjamin Disraeli",
          "George Eliot",
          "William Henry Hudson",
          "Lucy Maud Montgomery",
          "Howard Pyle",
          "Virginia Woolf",
          "Lewis Carroll"
         ],
         "xaxis": "x10",
         "y": [
          0.09690119772519289,
          0.10443495083918639,
          0.10267613936171693,
          0.1025157749017546,
          0.10397716642042124,
          0.10523813702466862,
          0.10934728356738274,
          0.11143099781965381,
          0.10691259105648666,
          0.10642352444693931
         ],
         "yaxis": "y10"
        },
        {
         "marker": {
          "color": "#3498db"
         },
         "name": "books",
         "showlegend": false,
         "type": "bar",
         "x": [
          "Mark Twain",
          "Zane Grey",
          "Joseph Conrad",
          "Benjamin Disraeli",
          "George Eliot",
          "William Henry Hudson",
          "Lucy Maud Montgomery",
          "Howard Pyle",
          "Virginia Woolf",
          "Lewis Carroll"
         ],
         "xaxis": "x11",
         "y": [
          0.9912421251303297,
          0.9926395687760845,
          0.9912267640749818,
          0.9917327419273744,
          0.9924903834010238,
          0.9914779425238317,
          0.9933655549116457,
          0.9909948327214768,
          0.992175991925342,
          0.9926375044861211
         ],
         "yaxis": "y11"
        },
        {
         "marker": {
          "color": "#e74c3c"
         },
         "name": "gpt-3.5-turbo-0125",
         "showlegend": true,
         "type": "bar",
         "x": [
          "Mark Twain",
          "Zane Grey",
          "Joseph Conrad",
          "Benjamin Disraeli",
          "George Eliot",
          "William Henry Hudson",
          "Lucy Maud Montgomery",
          "Howard Pyle",
          "Virginia Woolf",
          "Lewis Carroll"
         ],
         "xaxis": "x",
         "y": [
          12130,
          11755,
          11849,
          12397,
          12065,
          12073,
          11374,
          12054,
          11816,
          11630
         ],
         "yaxis": "y"
        },
        {
         "marker": {
          "color": "#e74c3c"
         },
         "name": "gpt-3.5-turbo-0125",
         "showlegend": false,
         "type": "bar",
         "x": [
          "Mark Twain",
          "Zane Grey",
          "Joseph Conrad",
          "Benjamin Disraeli",
          "George Eliot",
          "William Henry Hudson",
          "Lucy Maud Montgomery",
          "Howard Pyle",
          "Virginia Woolf",
          "Lewis Carroll"
         ],
         "xaxis": "x2",
         "y": [
          4.481189545869132,
          4.597792045977528,
          4.7143871458282085,
          4.753595756560581,
          4.7548548699324416,
          4.793907318674837,
          4.639642170800508,
          4.655267273484175,
          4.710403098439061,
          4.637129686885154
         ],
         "yaxis": "y2"
        },
        {
         "marker": {
          "color": "#e74c3c"
         },
         "name": "gpt-3.5-turbo-0125",
         "showlegend": false,
         "type": "bar",
         "x": [
          "Mark Twain",
          "Zane Grey",
          "Joseph Conrad",
          "Benjamin Disraeli",
          "George Eliot",
          "William Henry Hudson",
          "Lucy Maud Montgomery",
          "Howard Pyle",
          "Virginia Woolf",
          "Lewis Carroll"
         ],
         "xaxis": "x3",
         "y": [
          21.147041314442195,
          22.703109072375128,
          23.226593948837813,
          23.448546739984288,
          23.688780229945817,
          23.84434713375796,
          21.825116507235713,
          21.98070978113021,
          23.36815336463224,
          22.10637504660122
         ],
         "yaxis": "y3"
        },
        {
         "marker": {
          "color": "#e74c3c"
         },
         "name": "gpt-3.5-turbo-0125",
         "showlegend": false,
         "type": "bar",
         "x": [
          "Mark Twain",
          "Zane Grey",
          "Joseph Conrad",
          "Benjamin Disraeli",
          "George Eliot",
          "William Henry Hudson",
          "Lucy Maud Montgomery",
          "Howard Pyle",
          "Virginia Woolf",
          "Lewis Carroll"
         ],
         "xaxis": "x4",
         "y": [
          1.4468679270778204,
          1.4796827819996183,
          1.5378603215779234,
          1.560681183696259,
          1.5508638628084328,
          1.5645580468693479,
          1.4892673716860902,
          1.497417837734448,
          1.5396262005614247,
          1.4893923210973072
         ],
         "yaxis": "y4"
        },
        {
         "marker": {
          "color": "#e74c3c"
         },
         "name": "gpt-3.5-turbo-0125",
         "showlegend": false,
         "type": "bar",
         "x": [
          "Mark Twain",
          "Zane Grey",
          "Joseph Conrad",
          "Benjamin Disraeli",
          "George Eliot",
          "William Henry Hudson",
          "Lucy Maud Montgomery",
          "Howard Pyle",
          "Virginia Woolf",
          "Lewis Carroll"
         ],
         "xaxis": "x5",
         "y": [
          62.965726435057576,
          58.61018093437154,
          53.15702393643733,
          51.001096918212454,
          51.58780527301161,
          50.27137689408886,
          58.69048710051254,
          57.84303049981855,
          52.863947767401754,
          58.394438962867596
         ],
         "yaxis": "y5"
        },
        {
         "marker": {
          "color": "#e74c3c"
         },
         "name": "gpt-3.5-turbo-0125",
         "showlegend": false,
         "type": "bar",
         "x": [
          "Mark Twain",
          "Zane Grey",
          "Joseph Conrad",
          "Benjamin Disraeli",
          "George Eliot",
          "William Henry Hudson",
          "Lucy Maud Montgomery",
          "Howard Pyle",
          "Virginia Woolf",
          "Lewis Carroll"
         ],
         "xaxis": "x6",
         "y": [
          9.730387652150739,
          10.724469365821797,
          11.615123434666245,
          11.970971196209728,
          11.948817870818377,
          12.171080335223909,
          10.495150423717792,
          10.652007299907272,
          11.691168978831385,
          10.606315657122703
         ],
         "yaxis": "y6"
        },
        {
         "marker": {
          "color": "#e74c3c"
         },
         "name": "gpt-3.5-turbo-0125",
         "showlegend": false,
         "type": "bar",
         "x": [
          "Mark Twain",
          "Zane Grey",
          "Joseph Conrad",
          "Benjamin Disraeli",
          "George Eliot",
          "William Henry Hudson",
          "Lucy Maud Montgomery",
          "Howard Pyle",
          "Virginia Woolf",
          "Lewis Carroll"
         ],
         "xaxis": "x7",
         "y": [
          12.533270116147007,
          13.500968167883904,
          14.617918032159407,
          15.047313726702818,
          14.973885898832329,
          15.251547558446669,
          13.289446924311216,
          13.47775517112961,
          14.700551484088372,
          13.456862234054507
         ],
         "yaxis": "y7"
        },
        {
         "marker": {
          "color": "#e74c3c"
         },
         "name": "gpt-3.5-turbo-0125",
         "showlegend": false,
         "type": "bar",
         "x": [
          "Mark Twain",
          "Zane Grey",
          "Joseph Conrad",
          "Benjamin Disraeli",
          "George Eliot",
          "William Henry Hudson",
          "Lucy Maud Montgomery",
          "Howard Pyle",
          "Virginia Woolf",
          "Lewis Carroll"
         ],
         "xaxis": "x8",
         "y": [
          104.19993350546754,
          124.94611087171587,
          129.53492750364393,
          119.16524382697325,
          126.08716123056244,
          127.74783824963248,
          111.059142954846,
          117.85586190583702,
          134.49599667975005,
          118.93175588377964
         ],
         "yaxis": "y8"
        },
        {
         "marker": {
          "color": "#e74c3c"
         },
         "name": "gpt-3.5-turbo-0125",
         "showlegend": false,
         "type": "bar",
         "x": [
          "Mark Twain",
          "Zane Grey",
          "Joseph Conrad",
          "Benjamin Disraeli",
          "George Eliot",
          "William Henry Hudson",
          "Lucy Maud Montgomery",
          "Howard Pyle",
          "Virginia Woolf",
          "Lewis Carroll"
         ],
         "xaxis": "x9",
         "y": [
          0.0682941660004279,
          0.0659748335896371,
          0.06624438133148466,
          0.06921831379117811,
          0.06730710225212409,
          0.06718756086837961,
          0.06391252065047594,
          0.06781129400645822,
          0.06594228375942451,
          0.06537748046545618
         ],
         "yaxis": "y9"
        },
        {
         "marker": {
          "color": "#e74c3c"
         },
         "name": "gpt-3.5-turbo-0125",
         "showlegend": false,
         "type": "bar",
         "x": [
          "Mark Twain",
          "Zane Grey",
          "Joseph Conrad",
          "Benjamin Disraeli",
          "George Eliot",
          "William Henry Hudson",
          "Lucy Maud Montgomery",
          "Howard Pyle",
          "Virginia Woolf",
          "Lewis Carroll"
         ],
         "xaxis": "x10",
         "y": [
          0.11102214095321523,
          0.1124220813208252,
          0.11221738443517916,
          0.11039005151257401,
          0.11153960166593882,
          0.11159056518999534,
          0.11374662861299391,
          0.11130819056875131,
          0.11238978883973164,
          0.11281310762793562
         ],
         "yaxis": "y10"
        },
        {
         "marker": {
          "color": "#e74c3c"
         },
         "name": "gpt-3.5-turbo-0125",
         "showlegend": false,
         "type": "bar",
         "x": [
          "Mark Twain",
          "Zane Grey",
          "Joseph Conrad",
          "Benjamin Disraeli",
          "George Eliot",
          "William Henry Hudson",
          "Lucy Maud Montgomery",
          "Howard Pyle",
          "Virginia Woolf",
          "Lewis Carroll"
         ],
         "xaxis": "x11",
         "y": [
          0.9894975664186206,
          0.9874203187299275,
          0.9869621119420147,
          0.9880028109403647,
          0.9873083995006486,
          0.9871423867208828,
          0.9888061658873886,
          0.9881314537961426,
          0.9864657693232234,
          0.9880208398888362
         ],
         "yaxis": "y11"
        },
        {
         "marker": {
          "color": "#2ecc71"
         },
         "name": "gpt-4o",
         "showlegend": true,
         "type": "bar",
         "x": [
          "Mark Twain",
          "Zane Grey",
          "Joseph Conrad",
          "Benjamin Disraeli",
          "George Eliot",
          "William Henry Hudson",
          "Lucy Maud Montgomery",
          "Howard Pyle",
          "Virginia Woolf",
          "Lewis Carroll"
         ],
         "xaxis": "x",
         "y": [
          14804,
          12350,
          13005,
          14114,
          13820,
          13277,
          12474,
          12843,
          12733,
          13361
         ],
         "yaxis": "y"
        },
        {
         "marker": {
          "color": "#2ecc71"
         },
         "name": "gpt-4o",
         "showlegend": false,
         "type": "bar",
         "x": [
          "Mark Twain",
          "Zane Grey",
          "Joseph Conrad",
          "Benjamin Disraeli",
          "George Eliot",
          "William Henry Hudson",
          "Lucy Maud Montgomery",
          "Howard Pyle",
          "Virginia Woolf",
          "Lewis Carroll"
         ],
         "xaxis": "x2",
         "y": [
          4.43444054925985,
          4.587667019964207,
          4.673474335588446,
          4.857130549157683,
          4.776608261335979,
          4.712801449961327,
          4.651940571269945,
          4.568942297132486,
          4.639333782747158,
          4.659332415086599
         ],
         "yaxis": "y2"
        },
        {
         "marker": {
          "color": "#2ecc71"
         },
         "name": "gpt-4o",
         "showlegend": false,
         "type": "bar",
         "x": [
          "Mark Twain",
          "Zane Grey",
          "Joseph Conrad",
          "Benjamin Disraeli",
          "George Eliot",
          "William Henry Hudson",
          "Lucy Maud Montgomery",
          "Howard Pyle",
          "Virginia Woolf",
          "Lewis Carroll"
         ],
         "xaxis": "x3",
         "y": [
          18.860186710598573,
          19.23134328358209,
          20.871807228915664,
          21.34399901924727,
          21.013937704520664,
          20.42995283018868,
          19.98070256528773,
          20.423444693660723,
          20.792170130497826,
          18.597667320688902
         ],
         "yaxis": "y3"
        },
        {
         "marker": {
          "color": "#2ecc71"
         },
         "name": "gpt-4o",
         "showlegend": false,
         "type": "bar",
         "x": [
          "Mark Twain",
          "Zane Grey",
          "Joseph Conrad",
          "Benjamin Disraeli",
          "George Eliot",
          "William Henry Hudson",
          "Lucy Maud Montgomery",
          "Howard Pyle",
          "Virginia Woolf",
          "Lewis Carroll"
         ],
         "xaxis": "x4",
         "y": [
          1.4283085452067876,
          1.4646499748058313,
          1.5232919254658386,
          1.6022584332263086,
          1.555823422883047,
          1.5291897071216651,
          1.4899284611336336,
          1.4510684538775889,
          1.5081591854761849,
          1.4893649444656096
         ],
         "yaxis": "y4"
        },
        {
         "marker": {
          "color": "#2ecc71"
         },
         "name": "gpt-4o",
         "showlegend": false,
         "type": "bar",
         "x": [
          "Mark Twain",
          "Zane Grey",
          "Joseph Conrad",
          "Benjamin Disraeli",
          "George Eliot",
          "William Henry Hudson",
          "Lucy Maud Montgomery",
          "Howard Pyle",
          "Virginia Woolf",
          "Lewis Carroll"
         ],
         "xaxis": "x5",
         "y": [
          66.85700756424822,
          63.40579869859086,
          56.77961876824068,
          49.61977754451834,
          53.88319165400577,
          56.72914865486561,
          60.50663908432756,
          63.34481243789037,
          58.14068022625949,
          61.958093367710205
         ],
         "yaxis": "y5"
        },
        {
         "marker": {
          "color": "#2ecc71"
         },
         "name": "gpt-4o",
         "showlegend": false,
         "type": "bar",
         "x": [
          "Mark Twain",
          "Zane Grey",
          "Joseph Conrad",
          "Benjamin Disraeli",
          "George Eliot",
          "William Henry Hudson",
          "Lucy Maud Montgomery",
          "Howard Pyle",
          "Virginia Woolf",
          "Lewis Carroll"
         ],
         "xaxis": "x6",
         "y": [
          8.619513650573538,
          9.193093583305824,
          10.524849539774007,
          11.640809129576876,
          10.964152094783017,
          10.422120147809235,
          9.78362984183909,
          9.497751186283232,
          10.315224739513138,
          9.23759659976287
         ],
         "yaxis": "y6"
        },
        {
         "marker": {
          "color": "#2ecc71"
         },
         "name": "gpt-4o",
         "showlegend": false,
         "type": "bar",
         "x": [
          "Mark Twain",
          "Zane Grey",
          "Joseph Conrad",
          "Benjamin Disraeli",
          "George Eliot",
          "William Henry Hudson",
          "Lucy Maud Montgomery",
          "Howard Pyle",
          "Virginia Woolf",
          "Lewis Carroll"
         ],
         "xaxis": "x7",
         "y": [
          11.36000974206545,
          11.8922604671636,
          13.463595089030997,
          14.785625201743812,
          13.955042743557199,
          13.323730667418278,
          12.57400709645104,
          12.178695419529062,
          13.170304905682475,
          12.063044890353925
         ],
         "yaxis": "y7"
        },
        {
         "marker": {
          "color": "#2ecc71"
         },
         "name": "gpt-4o",
         "showlegend": false,
         "type": "bar",
         "x": [
          "Mark Twain",
          "Zane Grey",
          "Joseph Conrad",
          "Benjamin Disraeli",
          "George Eliot",
          "William Henry Hudson",
          "Lucy Maud Montgomery",
          "Howard Pyle",
          "Virginia Woolf",
          "Lewis Carroll"
         ],
         "xaxis": "x8",
         "y": [
          100.63927446175506,
          130.34037107433386,
          143.51432636054793,
          138.26503389400847,
          128.41711209369922,
          131.18486241188126,
          121.63264844841513,
          128.90553654826007,
          139.02176240423034,
          109.62254989544778
         ],
         "yaxis": "y8"
        },
        {
         "marker": {
          "color": "#2ecc71"
         },
         "name": "gpt-4o",
         "showlegend": false,
         "type": "bar",
         "x": [
          "Mark Twain",
          "Zane Grey",
          "Joseph Conrad",
          "Benjamin Disraeli",
          "George Eliot",
          "William Henry Hudson",
          "Lucy Maud Montgomery",
          "Howard Pyle",
          "Virginia Woolf",
          "Lewis Carroll"
         ],
         "xaxis": "x9",
         "y": [
          0.0862091054145654,
          0.07152827249086349,
          0.07507100140848323,
          0.08106695461881759,
          0.07970655070190212,
          0.07663669002458931,
          0.07214032490327506,
          0.074233990532175,
          0.07399637369534391,
          0.0783108167511649
         ],
         "yaxis": "y9"
        },
        {
         "marker": {
          "color": "#2ecc71"
         },
         "name": "gpt-4o",
         "showlegend": false,
         "type": "bar",
         "x": [
          "Mark Twain",
          "Zane Grey",
          "Joseph Conrad",
          "Benjamin Disraeli",
          "George Eliot",
          "William Henry Hudson",
          "Lucy Maud Montgomery",
          "Howard Pyle",
          "Virginia Woolf",
          "Lewis Carroll"
         ],
         "xaxis": "x10",
         "y": [
          0.10166974739394948,
          0.10936422337078149,
          0.10733016474869093,
          0.10410193474854573,
          0.10483900012087913,
          0.10647403878424037,
          0.10899765926572058,
          0.10780674528035068,
          0.10798796514756547,
          0.10571240517626876
         ],
         "yaxis": "y10"
        },
        {
         "marker": {
          "color": "#2ecc71"
         },
         "name": "gpt-4o",
         "showlegend": false,
         "type": "bar",
         "x": [
          "Mark Twain",
          "Zane Grey",
          "Joseph Conrad",
          "Benjamin Disraeli",
          "George Eliot",
          "William Henry Hudson",
          "Lucy Maud Montgomery",
          "Howard Pyle",
          "Virginia Woolf",
          "Lewis Carroll"
         ],
         "xaxis": "x11",
         "y": [
          0.9898685232428275,
          0.9868849912326476,
          0.9855716738614462,
          0.9861026449739263,
          0.9870859298904854,
          0.9868061955393346,
          0.987756568408325,
          0.9870315829176259,
          0.9860192876722448,
          0.988962900313202
         ],
         "yaxis": "y11"
        },
        {
         "marker": {
          "color": "#f1c40f"
         },
         "name": "gemini-1.5-flash",
         "showlegend": true,
         "type": "bar",
         "x": [
          "Mark Twain",
          "Zane Grey",
          "Joseph Conrad",
          "Benjamin Disraeli",
          "George Eliot",
          "William Henry Hudson",
          "Lucy Maud Montgomery",
          "Howard Pyle",
          "Virginia Woolf",
          "Lewis Carroll"
         ],
         "xaxis": "x",
         "y": [
          11128,
          10045,
          9812,
          11085,
          11083,
          10263,
          10797,
          10927,
          9790,
          10889
         ],
         "yaxis": "y"
        },
        {
         "marker": {
          "color": "#f1c40f"
         },
         "name": "gemini-1.5-flash",
         "showlegend": false,
         "type": "bar",
         "x": [
          "Mark Twain",
          "Zane Grey",
          "Joseph Conrad",
          "Benjamin Disraeli",
          "George Eliot",
          "William Henry Hudson",
          "Lucy Maud Montgomery",
          "Howard Pyle",
          "Virginia Woolf",
          "Lewis Carroll"
         ],
         "xaxis": "x2",
         "y": [
          4.236252885050087,
          4.432960098685771,
          4.531146142499156,
          4.645333661804126,
          4.66428383398169,
          4.520748442695893,
          4.505295635921322,
          4.448348215601332,
          4.535816754795722,
          4.556061368361712
         ],
         "yaxis": "y2"
        },
        {
         "marker": {
          "color": "#f1c40f"
         },
         "name": "gemini-1.5-flash",
         "showlegend": false,
         "type": "bar",
         "x": [
          "Mark Twain",
          "Zane Grey",
          "Joseph Conrad",
          "Benjamin Disraeli",
          "George Eliot",
          "William Henry Hudson",
          "Lucy Maud Montgomery",
          "Howard Pyle",
          "Virginia Woolf",
          "Lewis Carroll"
         ],
         "xaxis": "x3",
         "y": [
          17.195990180032734,
          18.12101020956475,
          20.55290393278948,
          21.03219837157661,
          21.776433121019107,
          21.160555004955402,
          18.670100808685056,
          19.136589217234377,
          20.26817253394209,
          18.24496792744968
         ],
         "yaxis": "y3"
        },
        {
         "marker": {
          "color": "#f1c40f"
         },
         "name": "gemini-1.5-flash",
         "showlegend": false,
         "type": "bar",
         "x": [
          "Mark Twain",
          "Zane Grey",
          "Joseph Conrad",
          "Benjamin Disraeli",
          "George Eliot",
          "William Henry Hudson",
          "Lucy Maud Montgomery",
          "Howard Pyle",
          "Virginia Woolf",
          "Lewis Carroll"
         ],
         "xaxis": "x4",
         "y": [
          1.370345254241321,
          1.4187858803435025,
          1.4694640434594581,
          1.5376597629144744,
          1.5393723127321652,
          1.4715235820336283,
          1.4496692081763431,
          1.4337488580437923,
          1.4815284660801935,
          1.4743136672506076
         ],
         "yaxis": "y4"
        },
        {
         "marker": {
          "color": "#f1c40f"
         },
         "name": "gemini-1.5-flash",
         "showlegend": false,
         "type": "bar",
         "x": [
          "Mark Twain",
          "Zane Grey",
          "Joseph Conrad",
          "Benjamin Disraeli",
          "George Eliot",
          "William Henry Hudson",
          "Lucy Maud Montgomery",
          "Howard Pyle",
          "Virginia Woolf",
          "Lewis Carroll"
         ],
         "xaxis": "x5",
         "y": [
          73.44986145845104,
          68.4128891602315,
          61.65714443154853,
          55.40130271028522,
          54.501022725024455,
          60.86614162992534,
          65.24283266746605,
          66.1162085540023,
          60.92549664766443,
          63.58942130423719
         ],
         "yaxis": "y5"
        },
        {
         "marker": {
          "color": "#f1c40f"
         },
         "name": "gemini-1.5-flash",
         "showlegend": false,
         "type": "bar",
         "x": [
          "Mark Twain",
          "Zane Grey",
          "Joseph Conrad",
          "Benjamin Disraeli",
          "George Eliot",
          "William Henry Hudson",
          "Lucy Maud Montgomery",
          "Howard Pyle",
          "Virginia Woolf",
          "Lewis Carroll"
         ],
         "xaxis": "x6",
         "y": [
          7.286510170260353,
          8.218867369783585,
          9.765308246609504,
          10.756942567305675,
          11.067402207437002,
          10.02659471992942,
          8.797435971868023,
          8.791506319638156,
          9.796623187983702,
          8.922438765262545
         ],
         "yaxis": "y6"
        },
        {
         "marker": {
          "color": "#f1c40f"
         },
         "name": "gemini-1.5-flash",
         "showlegend": false,
         "type": "bar",
         "x": [
          "Mark Twain",
          "Zane Grey",
          "Joseph Conrad",
          "Benjamin Disraeli",
          "George Eliot",
          "William Henry Hudson",
          "Lucy Maud Montgomery",
          "Howard Pyle",
          "Virginia Woolf",
          "Lewis Carroll"
         ],
         "xaxis": "x7",
         "y": [
          10.028037968888912,
          10.865854385102175,
          12.585827659217179,
          13.749591238686776,
          14.081423521887416,
          12.803363025821794,
          11.532477977373807,
          11.515891691373167,
          12.65093439189946,
          11.697305839109422
         ],
         "yaxis": "y7"
        },
        {
         "marker": {
          "color": "#f1c40f"
         },
         "name": "gemini-1.5-flash",
         "showlegend": false,
         "type": "bar",
         "x": [
          "Mark Twain",
          "Zane Grey",
          "Joseph Conrad",
          "Benjamin Disraeli",
          "George Eliot",
          "William Henry Hudson",
          "Lucy Maud Montgomery",
          "Howard Pyle",
          "Virginia Woolf",
          "Lewis Carroll"
         ],
         "xaxis": "x8",
         "y": [
          110.54100943231201,
          140.24416312681777,
          158.60138198809065,
          154.80398742543673,
          153.36927056567106,
          165.00943582491232,
          130.0579371804533,
          135.98994568816875,
          167.48127292794544,
          128.2607063034204
         ],
         "yaxis": "y8"
        },
        {
         "marker": {
          "color": "#f1c40f"
         },
         "name": "gemini-1.5-flash",
         "showlegend": false,
         "type": "bar",
         "x": [
          "Mark Twain",
          "Zane Grey",
          "Joseph Conrad",
          "Benjamin Disraeli",
          "George Eliot",
          "William Henry Hudson",
          "Lucy Maud Montgomery",
          "Howard Pyle",
          "Virginia Woolf",
          "Lewis Carroll"
         ],
         "xaxis": "x9",
         "y": [
          0.06619554096176268,
          0.05957323148455663,
          0.05812761772738313,
          0.06501962026430168,
          0.06483371844745386,
          0.06008500772797527,
          0.06406384430533717,
          0.06440338313735891,
          0.0580347615773125,
          0.066005540367701
         ],
         "yaxis": "y9"
        },
        {
         "marker": {
          "color": "#f1c40f"
         },
         "name": "gemini-1.5-flash",
         "showlegend": false,
         "type": "bar",
         "x": [
          "Mark Twain",
          "Zane Grey",
          "Joseph Conrad",
          "Benjamin Disraeli",
          "George Eliot",
          "William Henry Hudson",
          "Lucy Maud Montgomery",
          "Howard Pyle",
          "Virginia Woolf",
          "Lewis Carroll"
         ],
         "xaxis": "x10",
         "y": [
          0.11282665015891602,
          0.11717740216545397,
          0.11818718496464221,
          0.11343899231532634,
          0.11353255066837493,
          0.11669679532220907,
          0.1141627856199048,
          0.11387994119038355,
          0.11825994330521514,
          0.11312319240482607
         ],
         "yaxis": "y10"
        },
        {
         "marker": {
          "color": "#f1c40f"
         },
         "name": "gemini-1.5-flash",
         "showlegend": false,
         "type": "bar",
         "x": [
          "Mark Twain",
          "Zane Grey",
          "Joseph Conrad",
          "Benjamin Disraeli",
          "George Eliot",
          "William Henry Hudson",
          "Lucy Maud Montgomery",
          "Howard Pyle",
          "Virginia Woolf",
          "Lewis Carroll"
         ],
         "xaxis": "x11",
         "y": [
          0.9888560356491484,
          0.9858760316713899,
          0.9840379457799924,
          0.9844293892592606,
          0.9845728446658907,
          0.983401619021036,
          0.986901587962051,
          0.9863094890039844,
          0.9831497276612402,
          0.9870820935720641
         ],
         "yaxis": "y11"
        },
        {
         "marker": {
          "color": "#9b59b6"
         },
         "name": "open-mixtral-8x7b",
         "showlegend": true,
         "type": "bar",
         "x": [
          "Mark Twain",
          "Zane Grey",
          "Joseph Conrad",
          "Benjamin Disraeli",
          "George Eliot",
          "William Henry Hudson",
          "Lucy Maud Montgomery",
          "Howard Pyle",
          "Virginia Woolf",
          "Lewis Carroll"
         ],
         "xaxis": "x",
         "y": [
          12605,
          10888,
          10941,
          12265,
          11575,
          12067,
          11260,
          11875,
          10480,
          12417
         ],
         "yaxis": "y"
        },
        {
         "marker": {
          "color": "#9b59b6"
         },
         "name": "open-mixtral-8x7b",
         "showlegend": false,
         "type": "bar",
         "x": [
          "Mark Twain",
          "Zane Grey",
          "Joseph Conrad",
          "Benjamin Disraeli",
          "George Eliot",
          "William Henry Hudson",
          "Lucy Maud Montgomery",
          "Howard Pyle",
          "Virginia Woolf",
          "Lewis Carroll"
         ],
         "xaxis": "x2",
         "y": [
          4.38122389330633,
          4.466123518687329,
          4.530976765298306,
          4.608196291909621,
          4.654022754518106,
          4.617099929128278,
          4.548266102518654,
          4.463690171304991,
          4.526017179923025,
          4.606120559990744
         ],
         "yaxis": "y2"
        },
        {
         "marker": {
          "color": "#9b59b6"
         },
         "name": "open-mixtral-8x7b",
         "showlegend": false,
         "type": "bar",
         "x": [
          "Mark Twain",
          "Zane Grey",
          "Joseph Conrad",
          "Benjamin Disraeli",
          "George Eliot",
          "William Henry Hudson",
          "Lucy Maud Montgomery",
          "Howard Pyle",
          "Virginia Woolf",
          "Lewis Carroll"
         ],
         "xaxis": "x3",
         "y": [
          22.79422950819672,
          22.485267742761977,
          28.60655737704918,
          26.79115179252479,
          29.3273631840796,
          27.009954058192957,
          23.682464454976305,
          24.455114822546975,
          27.233782319244465,
          21.66980067694622
         ],
         "yaxis": "y3"
        },
        {
         "marker": {
          "color": "#9b59b6"
         },
         "name": "open-mixtral-8x7b",
         "showlegend": false,
         "type": "bar",
         "x": [
          "Mark Twain",
          "Zane Grey",
          "Joseph Conrad",
          "Benjamin Disraeli",
          "George Eliot",
          "William Henry Hudson",
          "Lucy Maud Montgomery",
          "Howard Pyle",
          "Virginia Woolf",
          "Lewis Carroll"
         ],
         "xaxis": "x4",
         "y": [
          1.4358652750768097,
          1.4458010483135826,
          1.5000198587193962,
          1.52743485787172,
          1.541969193187216,
          1.5195067328136074,
          1.4647760084622201,
          1.439849752432986,
          1.4984110560934152,
          1.4930463959273401
         ],
         "yaxis": "y4"
        },
        {
         "marker": {
          "color": "#9b59b6"
         },
         "name": "open-mixtral-8x7b",
         "showlegend": false,
         "type": "bar",
         "x": [
          "Mark Twain",
          "Zane Grey",
          "Joseph Conrad",
          "Benjamin Disraeli",
          "George Eliot",
          "William Henry Hudson",
          "Lucy Maud Montgomery",
          "Howard Pyle",
          "Virginia Woolf",
          "Lewis Carroll"
         ],
         "xaxis": "x5",
         "y": [
          62.22465477768223,
          61.69768455376753,
          50.89766421463416,
          50.420991954639845,
          46.617132624520764,
          50.869627034902976,
          58.87724826229524,
          60.20176939928423,
          52.427135600463984,
          58.52842721744662
         ],
         "yaxis": "y5"
        },
        {
         "marker": {
          "color": "#9b59b6"
         },
         "name": "open-mixtral-8x7b",
         "showlegend": false,
         "type": "bar",
         "x": [
          "Mark Twain",
          "Zane Grey",
          "Joseph Conrad",
          "Benjamin Disraeli",
          "George Eliot",
          "William Henry Hudson",
          "Lucy Maud Montgomery",
          "Howard Pyle",
          "Virginia Woolf",
          "Lewis Carroll"
         ],
         "xaxis": "x6",
         "y": [
          10.24295975410308,
          10.239706789777447,
          13.266791709938058,
          12.882280521970966,
          14.042908121400195,
          12.874061529895823,
          10.930518037294956,
          10.937721859502556,
          12.712425566407642,
          10.47916973595164
         ],
         "yaxis": "y6"
        },
        {
         "marker": {
          "color": "#9b59b6"
         },
         "name": "open-mixtral-8x7b",
         "showlegend": false,
         "type": "bar",
         "x": [
          "Mark Twain",
          "Zane Grey",
          "Joseph Conrad",
          "Benjamin Disraeli",
          "George Eliot",
          "William Henry Hudson",
          "Lucy Maud Montgomery",
          "Howard Pyle",
          "Virginia Woolf",
          "Lewis Carroll"
         ],
         "xaxis": "x7",
         "y": [
          13.161050490550705,
          13.147707826366414,
          16.376209719238638,
          16.05560976948805,
          17.274362070356638,
          15.9602679450348,
          13.880201540016765,
          13.858763247327367,
          15.805538305320681,
          13.467179787150119
         ],
         "yaxis": "y7"
        },
        {
         "marker": {
          "color": "#9b59b6"
         },
         "name": "open-mixtral-8x7b",
         "showlegend": false,
         "type": "bar",
         "x": [
          "Mark Twain",
          "Zane Grey",
          "Joseph Conrad",
          "Benjamin Disraeli",
          "George Eliot",
          "William Henry Hudson",
          "Lucy Maud Montgomery",
          "Howard Pyle",
          "Virginia Woolf",
          "Lewis Carroll"
         ],
         "xaxis": "x8",
         "y": [
          114.80907051100654,
          132.67289396222586,
          160.48954371879512,
          141.7424205644473,
          155.23121417365877,
          141.42526575723303,
          124.5987716846008,
          135.59438954186805,
          162.89546873279858,
          112.21902033312615
         ],
         "yaxis": "y8"
        },
        {
         "marker": {
          "color": "#9b59b6"
         },
         "name": "open-mixtral-8x7b",
         "showlegend": false,
         "type": "bar",
         "x": [
          "Mark Twain",
          "Zane Grey",
          "Joseph Conrad",
          "Benjamin Disraeli",
          "George Eliot",
          "William Henry Hudson",
          "Lucy Maud Montgomery",
          "Howard Pyle",
          "Virginia Woolf",
          "Lewis Carroll"
         ],
         "xaxis": "x9",
         "y": [
          0.07252338814540349,
          0.06203281677301732,
          0.062078356832817955,
          0.06983987791545189,
          0.06545316776367872,
          0.06841672572643515,
          0.06438148603447783,
          0.06758294917762221,
          0.05957829030772642,
          0.0718326969802152
         ],
         "yaxis": "y9"
        },
        {
         "marker": {
          "color": "#9b59b6"
         },
         "name": "open-mixtral-8x7b",
         "showlegend": false,
         "type": "bar",
         "x": [
          "Mark Twain",
          "Zane Grey",
          "Joseph Conrad",
          "Benjamin Disraeli",
          "George Eliot",
          "William Henry Hudson",
          "Lucy Maud Montgomery",
          "Howard Pyle",
          "Virginia Woolf",
          "Lewis Carroll"
         ],
         "xaxis": "x10",
         "y": [
          0.10873166324298698,
          0.11511282455978265,
          0.11504316734580285,
          0.1101994856597975,
          0.1128202904107899,
          0.11101226490354865,
          0.1136076275799819,
          0.11155464899279899,
          0.1167634083271443,
          0.10917759957666416
         ],
         "yaxis": "y10"
        },
        {
         "marker": {
          "color": "#9b59b6"
         },
         "name": "open-mixtral-8x7b",
         "showlegend": false,
         "type": "bar",
         "x": [
          "Mark Twain",
          "Zane Grey",
          "Joseph Conrad",
          "Benjamin Disraeli",
          "George Eliot",
          "William Henry Hudson",
          "Lucy Maud Montgomery",
          "Howard Pyle",
          "Virginia Woolf",
          "Lewis Carroll"
         ],
         "xaxis": "x11",
         "y": [
          0.9884397593511207,
          0.9866408663715952,
          0.9838596463044755,
          0.9857442251265964,
          0.9843904854940813,
          0.9857746027853441,
          0.9874513128848259,
          0.9863563505194974,
          0.9836150332793919,
          0.9886975632159425
         ],
         "yaxis": "y11"
        },
        {
         "marker": {
          "color": "#e67e22"
         },
         "name": "claude-3-haiku-20240307",
         "showlegend": true,
         "type": "bar",
         "x": [
          "Mark Twain",
          "Zane Grey",
          "Joseph Conrad",
          "Benjamin Disraeli",
          "George Eliot",
          "William Henry Hudson",
          "Lucy Maud Montgomery",
          "Howard Pyle",
          "Virginia Woolf",
          "Lewis Carroll"
         ],
         "xaxis": "x",
         "y": [
          12762,
          12396,
          11222,
          11559,
          11939,
          11987,
          12364,
          11912,
          11427,
          12007
         ],
         "yaxis": "y"
        },
        {
         "marker": {
          "color": "#e67e22"
         },
         "name": "claude-3-haiku-20240307",
         "showlegend": false,
         "type": "bar",
         "x": [
          "Mark Twain",
          "Zane Grey",
          "Joseph Conrad",
          "Benjamin Disraeli",
          "George Eliot",
          "William Henry Hudson",
          "Lucy Maud Montgomery",
          "Howard Pyle",
          "Virginia Woolf",
          "Lewis Carroll"
         ],
         "xaxis": "x2",
         "y": [
          4.328392931065646,
          4.6183772362951565,
          4.6627352742812125,
          4.7194023266730385,
          4.785528735957441,
          4.7556497574834875,
          4.629763961510738,
          4.646480348947122,
          4.661145137077395,
          4.685321954469229
         ],
         "yaxis": "y2"
        },
        {
         "marker": {
          "color": "#e67e22"
         },
         "name": "claude-3-haiku-20240307",
         "showlegend": false,
         "type": "bar",
         "x": [
          "Mark Twain",
          "Zane Grey",
          "Joseph Conrad",
          "Benjamin Disraeli",
          "George Eliot",
          "William Henry Hudson",
          "Lucy Maud Montgomery",
          "Howard Pyle",
          "Virginia Woolf",
          "Lewis Carroll"
         ],
         "xaxis": "x3",
         "y": [
          20.78921212121212,
          22.052671562420866,
          27.15761120517162,
          27.020018337408313,
          26.992820042774213,
          26.99190345249007,
          22.17455283521502,
          24.212601682062594,
          25.508590564938846,
          24.803988603988604
         ],
         "yaxis": "y3"
        },
        {
         "marker": {
          "color": "#e67e22"
         },
         "name": "claude-3-haiku-20240307",
         "showlegend": false,
         "type": "bar",
         "x": [
          "Mark Twain",
          "Zane Grey",
          "Joseph Conrad",
          "Benjamin Disraeli",
          "George Eliot",
          "William Henry Hudson",
          "Lucy Maud Montgomery",
          "Howard Pyle",
          "Virginia Woolf",
          "Lewis Carroll"
         ],
         "xaxis": "x4",
         "y": [
          1.4072275247651753,
          1.4845956870220243,
          1.5340308201515505,
          1.5634349249797816,
          1.5688502787288832,
          1.5688922343779184,
          1.5057608036521322,
          1.5148222806837723,
          1.5280290879201794,
          1.5265787599641634
         ],
         "yaxis": "y4"
        },
        {
         "marker": {
          "color": "#e67e22"
         },
         "name": "claude-3-haiku-20240307",
         "showlegend": false,
         "type": "bar",
         "x": [
          "Mark Twain",
          "Zane Grey",
          "Joseph Conrad",
          "Benjamin Disraeli",
          "George Eliot",
          "William Henry Hudson",
          "Lucy Maud Montgomery",
          "Howard Pyle",
          "Virginia Woolf",
          "Lewis Carroll"
         ],
         "xaxis": "x5",
         "y": [
          66.6825011018359,
          58.85474324207959,
          49.491017241929654,
          47.14308673424105,
          46.71255407612068,
          46.709934967350705,
          56.94046488328638,
          54.105244346859365,
          51.672519738539904,
          52.51038847398337
         ],
         "yaxis": "y5"
        },
        {
         "marker": {
          "color": "#e67e22"
         },
         "name": "claude-3-haiku-20240307",
         "showlegend": false,
         "type": "bar",
         "x": [
          "Mark Twain",
          "Zane Grey",
          "Joseph Conrad",
          "Benjamin Disraeli",
          "George Eliot",
          "William Henry Hudson",
          "Lucy Maud Montgomery",
          "Howard Pyle",
          "Virginia Woolf",
          "Lewis Carroll"
         ],
         "xaxis": "x6",
         "y": [
          9.123077519501798,
          10.528771016204026,
          13.103032047805225,
          13.396339266350669,
          13.449633105682764,
          13.449770712130565,
          10.82605308882902,
          11.727817568072926,
          12.389093557784268,
          12.097184923132684
         ],
         "yaxis": "y6"
        },
        {
         "marker": {
          "color": "#e67e22"
         },
         "name": "claude-3-haiku-20240307",
         "showlegend": false,
         "type": "bar",
         "x": [
          "Mark Twain",
          "Zane Grey",
          "Joseph Conrad",
          "Benjamin Disraeli",
          "George Eliot",
          "William Henry Hudson",
          "Lucy Maud Montgomery",
          "Howard Pyle",
          "Virginia Woolf",
          "Lewis Carroll"
         ],
         "xaxis": "x7",
         "y": [
          11.960232428523447,
          13.37013506503908,
          16.182382738616088,
          16.520289386100366,
          16.570692634105075,
          16.58659549630598,
          13.737957654263125,
          14.668698012217114,
          15.411863503321095,
          15.150512764882297
         ],
         "yaxis": "y7"
        },
        {
         "marker": {
          "color": "#e67e22"
         },
         "name": "claude-3-haiku-20240307",
         "showlegend": false,
         "type": "bar",
         "x": [
          "Mark Twain",
          "Zane Grey",
          "Joseph Conrad",
          "Benjamin Disraeli",
          "George Eliot",
          "William Henry Hudson",
          "Lucy Maud Montgomery",
          "Howard Pyle",
          "Virginia Woolf",
          "Lewis Carroll"
         ],
         "xaxis": "x8",
         "y": [
          96.99444351851592,
          121.64280194252979,
          158.86040754009107,
          157.37616402216895,
          155.57495519000298,
          147.53867383833395,
          115.03719947904148,
          135.536744013069,
          157.36199635971607,
          138.17936703613688
         ],
         "yaxis": "y8"
        },
        {
         "marker": {
          "color": "#e67e22"
         },
         "name": "claude-3-haiku-20240307",
         "showlegend": false,
         "type": "bar",
         "x": [
          "Mark Twain",
          "Zane Grey",
          "Joseph Conrad",
          "Benjamin Disraeli",
          "George Eliot",
          "William Henry Hudson",
          "Lucy Maud Montgomery",
          "Howard Pyle",
          "Virginia Woolf",
          "Lewis Carroll"
         ],
         "xaxis": "x9",
         "y": [
          0.0744092215659637,
          0.07117102634177709,
          0.0636012763328667,
          0.0653719340116164,
          0.06756840884009169,
          0.06784236709698963,
          0.07073145616182881,
          0.06783058298313346,
          0.06522520876975678,
          0.06895660563736188
         ],
         "yaxis": "y9"
        },
        {
         "marker": {
          "color": "#e67e22"
         },
         "name": "claude-3-haiku-20240307",
         "showlegend": false,
         "type": "bar",
         "x": [
          "Mark Twain",
          "Zane Grey",
          "Joseph Conrad",
          "Benjamin Disraeli",
          "George Eliot",
          "William Henry Hudson",
          "Lucy Maud Montgomery",
          "Howard Pyle",
          "Virginia Woolf",
          "Lewis Carroll"
         ],
         "xaxis": "x10",
         "y": [
          0.10778661596693262,
          0.10949260777889891,
          0.11402938645051576,
          0.11287300004797213,
          0.11151193946052784,
          0.1113448019002152,
          0.1097164730399354,
          0.1114082633261074,
          0.11305242061647129,
          0.11080475600134769
         ],
         "yaxis": "y10"
        },
        {
         "marker": {
          "color": "#e67e22"
         },
         "name": "claude-3-haiku-20240307",
         "showlegend": false,
         "type": "bar",
         "x": [
          "Mark Twain",
          "Zane Grey",
          "Joseph Conrad",
          "Benjamin Disraeli",
          "George Eliot",
          "William Henry Hudson",
          "Lucy Maud Montgomery",
          "Howard Pyle",
          "Virginia Woolf",
          "Lewis Carroll"
         ],
         "xaxis": "x11",
         "y": [
          0.9902221980239516,
          0.987755048621494,
          0.984024848570532,
          0.9841758709236763,
          0.9843587453721966,
          0.9851627089071485,
          0.9884154000779775,
          0.9863623766396602,
          0.9841762883311239,
          0.9860987785458242
         ],
         "yaxis": "y11"
        }
       ],
       "layout": {
        "annotations": [
         {
          "font": {
           "size": 16
          },
          "showarrow": false,
          "text": "Unique word count",
          "x": 0.5,
          "xanchor": "center",
          "xref": "paper",
          "y": 0.9999999999999999,
          "yanchor": "bottom",
          "yref": "paper"
         },
         {
          "font": {
           "size": 16
          },
          "showarrow": false,
          "text": "Average word length",
          "x": 0.5,
          "xanchor": "center",
          "xref": "paper",
          "y": 0.9049586776859503,
          "yanchor": "bottom",
          "yref": "paper"
         },
         {
          "font": {
           "size": 16
          },
          "showarrow": false,
          "text": "Average sentence length",
          "x": 0.5,
          "xanchor": "center",
          "xref": "paper",
          "y": 0.8099173553719007,
          "yanchor": "bottom",
          "yref": "paper"
         },
         {
          "font": {
           "size": 16
          },
          "showarrow": false,
          "text": "Average syllables per word",
          "x": 0.5,
          "xanchor": "center",
          "xref": "paper",
          "y": 0.7148760330578511,
          "yanchor": "bottom",
          "yref": "paper"
         },
         {
          "font": {
           "size": 16
          },
          "showarrow": false,
          "text": "Flesch reading ease",
          "x": 0.5,
          "xanchor": "center",
          "xref": "paper",
          "y": 0.6198347107438015,
          "yanchor": "bottom",
          "yref": "paper"
         },
         {
          "font": {
           "size": 16
          },
          "showarrow": false,
          "text": "Flesch Kincaid Grade Level",
          "x": 0.5,
          "xanchor": "center",
          "xref": "paper",
          "y": 0.524793388429752,
          "yanchor": "bottom",
          "yref": "paper"
         },
         {
          "font": {
           "size": 16
          },
          "showarrow": false,
          "text": "Gunning Fog Index",
          "x": 0.5,
          "xanchor": "center",
          "xref": "paper",
          "y": 0.42975206611570244,
          "yanchor": "bottom",
          "yref": "paper"
         },
         {
          "font": {
           "size": 16
          },
          "showarrow": false,
          "text": "Yules Characteristic K",
          "x": 0.5,
          "xanchor": "center",
          "xref": "paper",
          "y": 0.33471074380165283,
          "yanchor": "bottom",
          "yref": "paper"
         },
         {
          "font": {
           "size": 16
          },
          "showarrow": false,
          "text": "Herdan's C",
          "x": 0.5,
          "xanchor": "center",
          "xref": "paper",
          "y": 0.23966942148760328,
          "yanchor": "bottom",
          "yref": "paper"
         },
         {
          "font": {
           "size": 16
          },
          "showarrow": false,
          "text": "Maas",
          "x": 0.5,
          "xanchor": "center",
          "xref": "paper",
          "y": 0.1446280991735537,
          "yanchor": "bottom",
          "yref": "paper"
         },
         {
          "font": {
           "size": 16
          },
          "showarrow": false,
          "text": "Simpsons_index",
          "x": 0.5,
          "xanchor": "center",
          "xref": "paper",
          "y": 0.04958677685950413,
          "yanchor": "bottom",
          "yref": "paper"
         }
        ],
        "height": 1500,
        "legend": {
         "title": {
          "text": "Text source"
         }
        },
        "template": {
         "data": {
          "bar": [
           {
            "error_x": {
             "color": "#2a3f5f"
            },
            "error_y": {
             "color": "#2a3f5f"
            },
            "marker": {
             "line": {
              "color": "#E5ECF6",
              "width": 0.5
             },
             "pattern": {
              "fillmode": "overlay",
              "size": 10,
              "solidity": 0.2
             }
            },
            "type": "bar"
           }
          ],
          "barpolar": [
           {
            "marker": {
             "line": {
              "color": "#E5ECF6",
              "width": 0.5
             },
             "pattern": {
              "fillmode": "overlay",
              "size": 10,
              "solidity": 0.2
             }
            },
            "type": "barpolar"
           }
          ],
          "carpet": [
           {
            "aaxis": {
             "endlinecolor": "#2a3f5f",
             "gridcolor": "white",
             "linecolor": "white",
             "minorgridcolor": "white",
             "startlinecolor": "#2a3f5f"
            },
            "baxis": {
             "endlinecolor": "#2a3f5f",
             "gridcolor": "white",
             "linecolor": "white",
             "minorgridcolor": "white",
             "startlinecolor": "#2a3f5f"
            },
            "type": "carpet"
           }
          ],
          "choropleth": [
           {
            "colorbar": {
             "outlinewidth": 0,
             "ticks": ""
            },
            "type": "choropleth"
           }
          ],
          "contour": [
           {
            "colorbar": {
             "outlinewidth": 0,
             "ticks": ""
            },
            "colorscale": [
             [
              0,
              "#0d0887"
             ],
             [
              0.1111111111111111,
              "#46039f"
             ],
             [
              0.2222222222222222,
              "#7201a8"
             ],
             [
              0.3333333333333333,
              "#9c179e"
             ],
             [
              0.4444444444444444,
              "#bd3786"
             ],
             [
              0.5555555555555556,
              "#d8576b"
             ],
             [
              0.6666666666666666,
              "#ed7953"
             ],
             [
              0.7777777777777778,
              "#fb9f3a"
             ],
             [
              0.8888888888888888,
              "#fdca26"
             ],
             [
              1,
              "#f0f921"
             ]
            ],
            "type": "contour"
           }
          ],
          "contourcarpet": [
           {
            "colorbar": {
             "outlinewidth": 0,
             "ticks": ""
            },
            "type": "contourcarpet"
           }
          ],
          "heatmap": [
           {
            "colorbar": {
             "outlinewidth": 0,
             "ticks": ""
            },
            "colorscale": [
             [
              0,
              "#0d0887"
             ],
             [
              0.1111111111111111,
              "#46039f"
             ],
             [
              0.2222222222222222,
              "#7201a8"
             ],
             [
              0.3333333333333333,
              "#9c179e"
             ],
             [
              0.4444444444444444,
              "#bd3786"
             ],
             [
              0.5555555555555556,
              "#d8576b"
             ],
             [
              0.6666666666666666,
              "#ed7953"
             ],
             [
              0.7777777777777778,
              "#fb9f3a"
             ],
             [
              0.8888888888888888,
              "#fdca26"
             ],
             [
              1,
              "#f0f921"
             ]
            ],
            "type": "heatmap"
           }
          ],
          "heatmapgl": [
           {
            "colorbar": {
             "outlinewidth": 0,
             "ticks": ""
            },
            "colorscale": [
             [
              0,
              "#0d0887"
             ],
             [
              0.1111111111111111,
              "#46039f"
             ],
             [
              0.2222222222222222,
              "#7201a8"
             ],
             [
              0.3333333333333333,
              "#9c179e"
             ],
             [
              0.4444444444444444,
              "#bd3786"
             ],
             [
              0.5555555555555556,
              "#d8576b"
             ],
             [
              0.6666666666666666,
              "#ed7953"
             ],
             [
              0.7777777777777778,
              "#fb9f3a"
             ],
             [
              0.8888888888888888,
              "#fdca26"
             ],
             [
              1,
              "#f0f921"
             ]
            ],
            "type": "heatmapgl"
           }
          ],
          "histogram": [
           {
            "marker": {
             "pattern": {
              "fillmode": "overlay",
              "size": 10,
              "solidity": 0.2
             }
            },
            "type": "histogram"
           }
          ],
          "histogram2d": [
           {
            "colorbar": {
             "outlinewidth": 0,
             "ticks": ""
            },
            "colorscale": [
             [
              0,
              "#0d0887"
             ],
             [
              0.1111111111111111,
              "#46039f"
             ],
             [
              0.2222222222222222,
              "#7201a8"
             ],
             [
              0.3333333333333333,
              "#9c179e"
             ],
             [
              0.4444444444444444,
              "#bd3786"
             ],
             [
              0.5555555555555556,
              "#d8576b"
             ],
             [
              0.6666666666666666,
              "#ed7953"
             ],
             [
              0.7777777777777778,
              "#fb9f3a"
             ],
             [
              0.8888888888888888,
              "#fdca26"
             ],
             [
              1,
              "#f0f921"
             ]
            ],
            "type": "histogram2d"
           }
          ],
          "histogram2dcontour": [
           {
            "colorbar": {
             "outlinewidth": 0,
             "ticks": ""
            },
            "colorscale": [
             [
              0,
              "#0d0887"
             ],
             [
              0.1111111111111111,
              "#46039f"
             ],
             [
              0.2222222222222222,
              "#7201a8"
             ],
             [
              0.3333333333333333,
              "#9c179e"
             ],
             [
              0.4444444444444444,
              "#bd3786"
             ],
             [
              0.5555555555555556,
              "#d8576b"
             ],
             [
              0.6666666666666666,
              "#ed7953"
             ],
             [
              0.7777777777777778,
              "#fb9f3a"
             ],
             [
              0.8888888888888888,
              "#fdca26"
             ],
             [
              1,
              "#f0f921"
             ]
            ],
            "type": "histogram2dcontour"
           }
          ],
          "mesh3d": [
           {
            "colorbar": {
             "outlinewidth": 0,
             "ticks": ""
            },
            "type": "mesh3d"
           }
          ],
          "parcoords": [
           {
            "line": {
             "colorbar": {
              "outlinewidth": 0,
              "ticks": ""
             }
            },
            "type": "parcoords"
           }
          ],
          "pie": [
           {
            "automargin": true,
            "type": "pie"
           }
          ],
          "scatter": [
           {
            "fillpattern": {
             "fillmode": "overlay",
             "size": 10,
             "solidity": 0.2
            },
            "type": "scatter"
           }
          ],
          "scatter3d": [
           {
            "line": {
             "colorbar": {
              "outlinewidth": 0,
              "ticks": ""
             }
            },
            "marker": {
             "colorbar": {
              "outlinewidth": 0,
              "ticks": ""
             }
            },
            "type": "scatter3d"
           }
          ],
          "scattercarpet": [
           {
            "marker": {
             "colorbar": {
              "outlinewidth": 0,
              "ticks": ""
             }
            },
            "type": "scattercarpet"
           }
          ],
          "scattergeo": [
           {
            "marker": {
             "colorbar": {
              "outlinewidth": 0,
              "ticks": ""
             }
            },
            "type": "scattergeo"
           }
          ],
          "scattergl": [
           {
            "marker": {
             "colorbar": {
              "outlinewidth": 0,
              "ticks": ""
             }
            },
            "type": "scattergl"
           }
          ],
          "scattermapbox": [
           {
            "marker": {
             "colorbar": {
              "outlinewidth": 0,
              "ticks": ""
             }
            },
            "type": "scattermapbox"
           }
          ],
          "scatterpolar": [
           {
            "marker": {
             "colorbar": {
              "outlinewidth": 0,
              "ticks": ""
             }
            },
            "type": "scatterpolar"
           }
          ],
          "scatterpolargl": [
           {
            "marker": {
             "colorbar": {
              "outlinewidth": 0,
              "ticks": ""
             }
            },
            "type": "scatterpolargl"
           }
          ],
          "scatterternary": [
           {
            "marker": {
             "colorbar": {
              "outlinewidth": 0,
              "ticks": ""
             }
            },
            "type": "scatterternary"
           }
          ],
          "surface": [
           {
            "colorbar": {
             "outlinewidth": 0,
             "ticks": ""
            },
            "colorscale": [
             [
              0,
              "#0d0887"
             ],
             [
              0.1111111111111111,
              "#46039f"
             ],
             [
              0.2222222222222222,
              "#7201a8"
             ],
             [
              0.3333333333333333,
              "#9c179e"
             ],
             [
              0.4444444444444444,
              "#bd3786"
             ],
             [
              0.5555555555555556,
              "#d8576b"
             ],
             [
              0.6666666666666666,
              "#ed7953"
             ],
             [
              0.7777777777777778,
              "#fb9f3a"
             ],
             [
              0.8888888888888888,
              "#fdca26"
             ],
             [
              1,
              "#f0f921"
             ]
            ],
            "type": "surface"
           }
          ],
          "table": [
           {
            "cells": {
             "fill": {
              "color": "#EBF0F8"
             },
             "line": {
              "color": "white"
             }
            },
            "header": {
             "fill": {
              "color": "#C8D4E3"
             },
             "line": {
              "color": "white"
             }
            },
            "type": "table"
           }
          ]
         },
         "layout": {
          "annotationdefaults": {
           "arrowcolor": "#2a3f5f",
           "arrowhead": 0,
           "arrowwidth": 1
          },
          "autotypenumbers": "strict",
          "coloraxis": {
           "colorbar": {
            "outlinewidth": 0,
            "ticks": ""
           }
          },
          "colorscale": {
           "diverging": [
            [
             0,
             "#8e0152"
            ],
            [
             0.1,
             "#c51b7d"
            ],
            [
             0.2,
             "#de77ae"
            ],
            [
             0.3,
             "#f1b6da"
            ],
            [
             0.4,
             "#fde0ef"
            ],
            [
             0.5,
             "#f7f7f7"
            ],
            [
             0.6,
             "#e6f5d0"
            ],
            [
             0.7,
             "#b8e186"
            ],
            [
             0.8,
             "#7fbc41"
            ],
            [
             0.9,
             "#4d9221"
            ],
            [
             1,
             "#276419"
            ]
           ],
           "sequential": [
            [
             0,
             "#0d0887"
            ],
            [
             0.1111111111111111,
             "#46039f"
            ],
            [
             0.2222222222222222,
             "#7201a8"
            ],
            [
             0.3333333333333333,
             "#9c179e"
            ],
            [
             0.4444444444444444,
             "#bd3786"
            ],
            [
             0.5555555555555556,
             "#d8576b"
            ],
            [
             0.6666666666666666,
             "#ed7953"
            ],
            [
             0.7777777777777778,
             "#fb9f3a"
            ],
            [
             0.8888888888888888,
             "#fdca26"
            ],
            [
             1,
             "#f0f921"
            ]
           ],
           "sequentialminus": [
            [
             0,
             "#0d0887"
            ],
            [
             0.1111111111111111,
             "#46039f"
            ],
            [
             0.2222222222222222,
             "#7201a8"
            ],
            [
             0.3333333333333333,
             "#9c179e"
            ],
            [
             0.4444444444444444,
             "#bd3786"
            ],
            [
             0.5555555555555556,
             "#d8576b"
            ],
            [
             0.6666666666666666,
             "#ed7953"
            ],
            [
             0.7777777777777778,
             "#fb9f3a"
            ],
            [
             0.8888888888888888,
             "#fdca26"
            ],
            [
             1,
             "#f0f921"
            ]
           ]
          },
          "colorway": [
           "#636efa",
           "#EF553B",
           "#00cc96",
           "#ab63fa",
           "#FFA15A",
           "#19d3f3",
           "#FF6692",
           "#B6E880",
           "#FF97FF",
           "#FECB52"
          ],
          "font": {
           "color": "#2a3f5f"
          },
          "geo": {
           "bgcolor": "white",
           "lakecolor": "white",
           "landcolor": "#E5ECF6",
           "showlakes": true,
           "showland": true,
           "subunitcolor": "white"
          },
          "hoverlabel": {
           "align": "left"
          },
          "hovermode": "closest",
          "mapbox": {
           "style": "light"
          },
          "paper_bgcolor": "white",
          "plot_bgcolor": "#E5ECF6",
          "polar": {
           "angularaxis": {
            "gridcolor": "white",
            "linecolor": "white",
            "ticks": ""
           },
           "bgcolor": "#E5ECF6",
           "radialaxis": {
            "gridcolor": "white",
            "linecolor": "white",
            "ticks": ""
           }
          },
          "scene": {
           "xaxis": {
            "backgroundcolor": "#E5ECF6",
            "gridcolor": "white",
            "gridwidth": 2,
            "linecolor": "white",
            "showbackground": true,
            "ticks": "",
            "zerolinecolor": "white"
           },
           "yaxis": {
            "backgroundcolor": "#E5ECF6",
            "gridcolor": "white",
            "gridwidth": 2,
            "linecolor": "white",
            "showbackground": true,
            "ticks": "",
            "zerolinecolor": "white"
           },
           "zaxis": {
            "backgroundcolor": "#E5ECF6",
            "gridcolor": "white",
            "gridwidth": 2,
            "linecolor": "white",
            "showbackground": true,
            "ticks": "",
            "zerolinecolor": "white"
           }
          },
          "shapedefaults": {
           "line": {
            "color": "#2a3f5f"
           }
          },
          "ternary": {
           "aaxis": {
            "gridcolor": "white",
            "linecolor": "white",
            "ticks": ""
           },
           "baxis": {
            "gridcolor": "white",
            "linecolor": "white",
            "ticks": ""
           },
           "bgcolor": "#E5ECF6",
           "caxis": {
            "gridcolor": "white",
            "linecolor": "white",
            "ticks": ""
           }
          },
          "title": {
           "x": 0.05
          },
          "xaxis": {
           "automargin": true,
           "gridcolor": "white",
           "linecolor": "white",
           "ticks": "",
           "title": {
            "standoff": 15
           },
           "zerolinecolor": "white",
           "zerolinewidth": 2
          },
          "yaxis": {
           "automargin": true,
           "gridcolor": "white",
           "linecolor": "white",
           "ticks": "",
           "title": {
            "standoff": 15
           },
           "zerolinecolor": "white",
           "zerolinewidth": 2
          }
         }
        },
        "xaxis": {
         "anchor": "y",
         "domain": [
          0,
          1
         ],
         "tickfont": {
          "size": 10
         }
        },
        "xaxis10": {
         "anchor": "y10",
         "domain": [
          0,
          1
         ],
         "tickfont": {
          "size": 10
         }
        },
        "xaxis11": {
         "anchor": "y11",
         "domain": [
          0,
          1
         ],
         "tickfont": {
          "size": 10
         }
        },
        "xaxis2": {
         "anchor": "y2",
         "domain": [
          0,
          1
         ],
         "tickfont": {
          "size": 10
         }
        },
        "xaxis3": {
         "anchor": "y3",
         "domain": [
          0,
          1
         ],
         "tickfont": {
          "size": 10
         }
        },
        "xaxis4": {
         "anchor": "y4",
         "domain": [
          0,
          1
         ],
         "tickfont": {
          "size": 10
         }
        },
        "xaxis5": {
         "anchor": "y5",
         "domain": [
          0,
          1
         ],
         "tickfont": {
          "size": 10
         }
        },
        "xaxis6": {
         "anchor": "y6",
         "domain": [
          0,
          1
         ],
         "tickfont": {
          "size": 10
         }
        },
        "xaxis7": {
         "anchor": "y7",
         "domain": [
          0,
          1
         ],
         "tickfont": {
          "size": 10
         }
        },
        "xaxis8": {
         "anchor": "y8",
         "domain": [
          0,
          1
         ],
         "tickfont": {
          "size": 10
         }
        },
        "xaxis9": {
         "anchor": "y9",
         "domain": [
          0,
          1
         ],
         "tickfont": {
          "size": 10
         }
        },
        "yaxis": {
         "anchor": "x",
         "domain": [
          0.9504132231404958,
          0.9999999999999999
         ]
        },
        "yaxis10": {
         "anchor": "x10",
         "domain": [
          0.09504132231404958,
          0.1446280991735537
         ]
        },
        "yaxis11": {
         "anchor": "x11",
         "domain": [
          0,
          0.04958677685950413
         ]
        },
        "yaxis2": {
         "anchor": "x2",
         "domain": [
          0.8553719008264462,
          0.9049586776859503
         ]
        },
        "yaxis3": {
         "anchor": "x3",
         "domain": [
          0.7603305785123966,
          0.8099173553719007
         ]
        },
        "yaxis4": {
         "anchor": "x4",
         "domain": [
          0.665289256198347,
          0.7148760330578511
         ]
        },
        "yaxis5": {
         "anchor": "x5",
         "domain": [
          0.5702479338842974,
          0.6198347107438015
         ]
        },
        "yaxis6": {
         "anchor": "x6",
         "domain": [
          0.4752066115702479,
          0.524793388429752
         ]
        },
        "yaxis7": {
         "anchor": "x7",
         "domain": [
          0.3801652892561983,
          0.42975206611570244
         ]
        },
        "yaxis8": {
         "anchor": "x8",
         "domain": [
          0.2851239669421487,
          0.33471074380165283
         ]
        },
        "yaxis9": {
         "anchor": "x9",
         "domain": [
          0.19008264462809915,
          0.23966942148760328
         ]
        }
       }
      }
     },
     "metadata": {},
     "output_type": "display_data"
    },
    {
     "data": {
      "application/vnd.plotly.v1+json": {
       "config": {
        "plotlyServerURL": "https://plot.ly"
       },
       "data": [
        {
         "marker": {
          "color": "#3498db"
         },
         "name": "books",
         "showlegend": true,
         "type": "bar",
         "x": [
          "the",
          "and",
          "of",
          "a",
          "to",
          "it",
          "in",
          "i",
          "that",
          "was"
         ],
         "xaxis": "x",
         "y": [
          9480,
          7530,
          4879,
          4523,
          4386,
          3113,
          3051,
          2887,
          2525,
          2525
         ],
         "yaxis": "y"
        },
        {
         "marker": {
          "color": "#3498db"
         },
         "name": "books",
         "showlegend": false,
         "type": "bar",
         "x": [
          "the",
          "and",
          "of",
          "to",
          "a",
          "he",
          "i",
          "in",
          "was",
          "his"
         ],
         "xaxis": "x2",
         "y": [
          9286,
          5091,
          4260,
          4153,
          4098,
          3099,
          3094,
          2229,
          2178,
          1873
         ],
         "yaxis": "y2"
        },
        {
         "marker": {
          "color": "#3498db"
         },
         "name": "books",
         "showlegend": false,
         "type": "bar",
         "x": [
          "the",
          "of",
          "a",
          "and",
          "to",
          "he",
          "in",
          "i",
          "his",
          "was"
         ],
         "xaxis": "x3",
         "y": [
          10409,
          6704,
          4541,
          4244,
          4210,
          3162,
          3022,
          2740,
          2464,
          2275
         ],
         "yaxis": "y3"
        },
        {
         "marker": {
          "color": "#3498db"
         },
         "name": "books",
         "showlegend": false,
         "type": "bar",
         "x": [
          "the",
          "and",
          "of",
          "to",
          "a",
          "in",
          "his",
          "i",
          "he",
          "was"
         ],
         "xaxis": "x4",
         "y": [
          9853,
          5697,
          5684,
          4033,
          3961,
          2581,
          2433,
          2428,
          2219,
          2211
         ],
         "yaxis": "y4"
        },
        {
         "marker": {
          "color": "#3498db"
         },
         "name": "books",
         "showlegend": false,
         "type": "bar",
         "x": [
          "the",
          "and",
          "to",
          "of",
          "a",
          "in",
          "i",
          "that",
          "was",
          "he"
         ],
         "xaxis": "x5",
         "y": [
          7791,
          5247,
          5109,
          4807,
          3959,
          2721,
          2651,
          2474,
          2400,
          2305
         ],
         "yaxis": "y5"
        },
        {
         "marker": {
          "color": "#3498db"
         },
         "name": "books",
         "showlegend": false,
         "type": "bar",
         "x": [
          "the",
          "and",
          "to",
          "of",
          "a",
          "in",
          "i",
          "that",
          "it",
          "was"
         ],
         "xaxis": "x6",
         "y": [
          9115,
          7030,
          5075,
          4556,
          4238,
          3408,
          2862,
          2505,
          2165,
          2042
         ],
         "yaxis": "y6"
        },
        {
         "marker": {
          "color": "#3498db"
         },
         "name": "books",
         "showlegend": false,
         "type": "bar",
         "x": [
          "the",
          "and",
          "to",
          "i",
          "a",
          "of",
          "it",
          "she",
          "was",
          "in"
         ],
         "xaxis": "x7",
         "y": [
          6428,
          5461,
          4420,
          4262,
          3535,
          3323,
          2849,
          2399,
          2365,
          2348
         ],
         "yaxis": "y7"
        },
        {
         "marker": {
          "color": "#3498db"
         },
         "name": "books",
         "showlegend": false,
         "type": "bar",
         "x": [
          "the",
          "and",
          "of",
          "to",
          "a",
          "he",
          "his",
          "in",
          "that",
          "i"
         ],
         "xaxis": "x8",
         "y": [
          10418,
          6575,
          4833,
          3971,
          3969,
          3281,
          2613,
          2595,
          2568,
          2293
         ],
         "yaxis": "y8"
        },
        {
         "marker": {
          "color": "#3498db"
         },
         "name": "books",
         "showlegend": false,
         "type": "bar",
         "x": [
          "the",
          "and",
          "of",
          "to",
          "a",
          "she",
          "in",
          "her",
          "was",
          "he"
         ],
         "xaxis": "x9",
         "y": [
          9261,
          5273,
          4794,
          4447,
          3436,
          2895,
          2857,
          2636,
          2219,
          2056
         ],
         "yaxis": "y9"
        },
        {
         "marker": {
          "color": "#3498db"
         },
         "name": "books",
         "showlegend": false,
         "type": "bar",
         "x": [
          "the",
          "and",
          "to",
          "i",
          "a",
          "of",
          "it",
          "in",
          "you",
          "that"
         ],
         "xaxis": "x10",
         "y": [
          8418,
          4752,
          4210,
          3884,
          3868,
          3387,
          3072,
          2141,
          2119,
          1940
         ],
         "yaxis": "y10"
        },
        {
         "marker": {
          "color": "#e74c3c"
         },
         "name": "gpt-3.5-turbo-0125",
         "showlegend": true,
         "type": "bar",
         "x": [
          "the",
          "a",
          "and",
          "of",
          "to",
          "in",
          "that",
          "you",
          "with",
          "it"
         ],
         "xaxis": "x11",
         "y": [
          11886,
          6989,
          6864,
          6749,
          4781,
          3279,
          2734,
          2176,
          1921,
          1736
         ],
         "yaxis": "y11"
        },
        {
         "marker": {
          "color": "#e74c3c"
         },
         "name": "gpt-3.5-turbo-0125",
         "showlegend": false,
         "type": "bar",
         "x": [
          "the",
          "of",
          "a",
          "and",
          "to",
          "in",
          "that",
          "with",
          "as",
          "their"
         ],
         "xaxis": "x12",
         "y": [
          14181,
          8110,
          7253,
          7102,
          4481,
          3609,
          2682,
          2157,
          1832,
          1449
         ],
         "yaxis": "y12"
        },
        {
         "marker": {
          "color": "#e74c3c"
         },
         "name": "gpt-3.5-turbo-0125",
         "showlegend": false,
         "type": "bar",
         "x": [
          "the",
          "of",
          "and",
          "a",
          "to",
          "in",
          "that",
          "with",
          "as",
          "is"
         ],
         "xaxis": "x13",
         "y": [
          13954,
          9034,
          7559,
          7186,
          4589,
          3644,
          2978,
          2087,
          1630,
          1502
         ],
         "yaxis": "y13"
        },
        {
         "marker": {
          "color": "#e74c3c"
         },
         "name": "gpt-3.5-turbo-0125",
         "showlegend": false,
         "type": "bar",
         "x": [
          "the",
          "of",
          "and",
          "a",
          "to",
          "in",
          "that",
          "with",
          "is",
          "as"
         ],
         "xaxis": "x14",
         "y": [
          12748,
          8252,
          8072,
          6835,
          5024,
          3446,
          2807,
          1910,
          1745,
          1633
         ],
         "yaxis": "y14"
        },
        {
         "marker": {
          "color": "#e74c3c"
         },
         "name": "gpt-3.5-turbo-0125",
         "showlegend": false,
         "type": "bar",
         "x": [
          "the",
          "of",
          "and",
          "a",
          "to",
          "in",
          "that",
          "with",
          "as",
          "is"
         ],
         "xaxis": "x15",
         "y": [
          13656,
          8688,
          8076,
          6724,
          4817,
          3630,
          2820,
          2063,
          1767,
          1444
         ],
         "yaxis": "y15"
        },
        {
         "marker": {
          "color": "#e74c3c"
         },
         "name": "gpt-3.5-turbo-0125",
         "showlegend": false,
         "type": "bar",
         "x": [
          "the",
          "of",
          "and",
          "a",
          "to",
          "in",
          "that",
          "with",
          "as",
          "is"
         ],
         "xaxis": "x16",
         "y": [
          13864,
          8637,
          7972,
          6888,
          5018,
          3489,
          2919,
          1959,
          1724,
          1558
         ],
         "yaxis": "y16"
        },
        {
         "marker": {
          "color": "#e74c3c"
         },
         "name": "gpt-3.5-turbo-0125",
         "showlegend": false,
         "type": "bar",
         "x": [
          "the",
          "and",
          "of",
          "a",
          "to",
          "in",
          "that",
          "with",
          "as",
          "their"
         ],
         "xaxis": "x17",
         "y": [
          13195,
          7390,
          6956,
          6638,
          4824,
          3462,
          2599,
          2186,
          1843,
          1583
         ],
         "yaxis": "y17"
        },
        {
         "marker": {
          "color": "#e74c3c"
         },
         "name": "gpt-3.5-turbo-0125",
         "showlegend": false,
         "type": "bar",
         "x": [
          "the",
          "of",
          "and",
          "a",
          "to",
          "in",
          "that",
          "with",
          "as",
          "their"
         ],
         "xaxis": "x18",
         "y": [
          13984,
          7471,
          7232,
          6568,
          4841,
          3383,
          2583,
          2222,
          1810,
          1443
         ],
         "yaxis": "y18"
        },
        {
         "marker": {
          "color": "#e74c3c"
         },
         "name": "gpt-3.5-turbo-0125",
         "showlegend": false,
         "type": "bar",
         "x": [
          "the",
          "of",
          "a",
          "and",
          "to",
          "in",
          "that",
          "with",
          "as",
          "is"
         ],
         "xaxis": "x19",
         "y": [
          14249,
          9290,
          7585,
          7542,
          4652,
          3633,
          2856,
          2003,
          1699,
          1585
         ],
         "yaxis": "y19"
        },
        {
         "marker": {
          "color": "#e74c3c"
         },
         "name": "gpt-3.5-turbo-0125",
         "showlegend": false,
         "type": "bar",
         "x": [
          "the",
          "of",
          "and",
          "a",
          "to",
          "in",
          "that",
          "with",
          "as",
          "their"
         ],
         "xaxis": "x20",
         "y": [
          13751,
          7455,
          7419,
          7009,
          4827,
          3484,
          2555,
          2236,
          1718,
          1563
         ],
         "yaxis": "y20"
        },
        {
         "marker": {
          "color": "#2ecc71"
         },
         "name": "gpt-4o",
         "showlegend": true,
         "type": "bar",
         "x": [
          "the",
          "a",
          "of",
          "and",
          "to",
          "in",
          "you",
          "that",
          "it",
          "with"
         ],
         "xaxis": "x21",
         "y": [
          11547,
          7899,
          6394,
          5902,
          3983,
          2628,
          2516,
          2221,
          2099,
          2017
         ],
         "yaxis": "y21"
        },
        {
         "marker": {
          "color": "#2ecc71"
         },
         "name": "gpt-4o",
         "showlegend": false,
         "type": "bar",
         "x": [
          "the",
          "of",
          "a",
          "and",
          "to",
          "in",
          "that",
          "with",
          "it",
          "as"
         ],
         "xaxis": "x22",
         "y": [
          15639,
          8060,
          6972,
          5909,
          3800,
          2858,
          2340,
          2304,
          1632,
          1435
         ],
         "yaxis": "y22"
        },
        {
         "marker": {
          "color": "#2ecc71"
         },
         "name": "gpt-4o",
         "showlegend": false,
         "type": "bar",
         "x": [
          "the",
          "of",
          "a",
          "and",
          "to",
          "in",
          "that",
          "is",
          "with",
          "it"
         ],
         "xaxis": "x23",
         "y": [
          16004,
          9724,
          7456,
          5349,
          4018,
          3099,
          2623,
          2157,
          2133,
          1687
         ],
         "yaxis": "y23"
        },
        {
         "marker": {
          "color": "#2ecc71"
         },
         "name": "gpt-4o",
         "showlegend": false,
         "type": "bar",
         "x": [
          "the",
          "of",
          "a",
          "and",
          "to",
          "in",
          "that",
          "with",
          "is",
          "it"
         ],
         "xaxis": "x24",
         "y": [
          15306,
          10008,
          7084,
          5811,
          3876,
          3002,
          2497,
          2347,
          2283,
          1455
         ],
         "yaxis": "y24"
        },
        {
         "marker": {
          "color": "#2ecc71"
         },
         "name": "gpt-4o",
         "showlegend": false,
         "type": "bar",
         "x": [
          "the",
          "of",
          "a",
          "and",
          "to",
          "in",
          "that",
          "with",
          "is",
          "it"
         ],
         "xaxis": "x25",
         "y": [
          14902,
          9070,
          6944,
          5710,
          4018,
          3022,
          2456,
          2321,
          1807,
          1543
         ],
         "yaxis": "y25"
        },
        {
         "marker": {
          "color": "#2ecc71"
         },
         "name": "gpt-4o",
         "showlegend": false,
         "type": "bar",
         "x": [
          "the",
          "of",
          "a",
          "and",
          "to",
          "in",
          "that",
          "with",
          "is",
          "it"
         ],
         "xaxis": "x26",
         "y": [
          15182,
          8765,
          7139,
          6058,
          4043,
          2992,
          2424,
          2259,
          1894,
          1505
         ],
         "yaxis": "y26"
        },
        {
         "marker": {
          "color": "#2ecc71"
         },
         "name": "gpt-4o",
         "showlegend": false,
         "type": "bar",
         "x": [
          "the",
          "of",
          "a",
          "and",
          "to",
          "in",
          "with",
          "that",
          "it",
          "as"
         ],
         "xaxis": "x27",
         "y": [
          14403,
          8125,
          7025,
          5932,
          3869,
          2805,
          2651,
          2287,
          1501,
          1472
         ],
         "yaxis": "y27"
        },
        {
         "marker": {
          "color": "#2ecc71"
         },
         "name": "gpt-4o",
         "showlegend": false,
         "type": "bar",
         "x": [
          "the",
          "of",
          "a",
          "and",
          "to",
          "in",
          "with",
          "that",
          "is",
          "it"
         ],
         "xaxis": "x28",
         "y": [
          15182,
          8449,
          6553,
          6472,
          3841,
          2807,
          2596,
          2177,
          1394,
          1370
         ],
         "yaxis": "y28"
        },
        {
         "marker": {
          "color": "#2ecc71"
         },
         "name": "gpt-4o",
         "showlegend": false,
         "type": "bar",
         "x": [
          "the",
          "of",
          "a",
          "and",
          "to",
          "in",
          "that",
          "with",
          "is",
          "it"
         ],
         "xaxis": "x29",
         "y": [
          15321,
          9366,
          7628,
          5366,
          3810,
          3077,
          2513,
          2276,
          2166,
          1698
         ],
         "yaxis": "y29"
        },
        {
         "marker": {
          "color": "#2ecc71"
         },
         "name": "gpt-4o",
         "showlegend": false,
         "type": "bar",
         "x": [
          "the",
          "a",
          "of",
          "and",
          "to",
          "in",
          "with",
          "that",
          "as",
          "is"
         ],
         "xaxis": "x30",
         "y": [
          13258,
          7367,
          7099,
          5890,
          3749,
          2743,
          2622,
          2013,
          1511,
          1405
         ],
         "yaxis": "y30"
        },
        {
         "marker": {
          "color": "#f1c40f"
         },
         "name": "gemini-1.5-flash",
         "showlegend": true,
         "type": "bar",
         "x": [
          "the",
          "a",
          "of",
          "and",
          "to",
          "you",
          "s",
          "it",
          "that",
          "in"
         ],
         "xaxis": "x31",
         "y": [
          10761,
          10065,
          6090,
          4790,
          3659,
          3609,
          2561,
          2469,
          2249,
          1993
         ],
         "yaxis": "y31"
        },
        {
         "marker": {
          "color": "#f1c40f"
         },
         "name": "gemini-1.5-flash",
         "showlegend": false,
         "type": "bar",
         "x": [
          "the",
          "a",
          "of",
          "and",
          "to",
          "that",
          "in",
          "with",
          "it",
          "was"
         ],
         "xaxis": "x32",
         "y": [
          15097,
          9500,
          8458,
          4101,
          3668,
          2140,
          2101,
          2052,
          1716,
          1658
         ],
         "yaxis": "y32"
        },
        {
         "marker": {
          "color": "#f1c40f"
         },
         "name": "gemini-1.5-flash",
         "showlegend": false,
         "type": "bar",
         "x": [
          "the",
          "of",
          "a",
          "and",
          "to",
          "that",
          "in",
          "with",
          "it",
          "its"
         ],
         "xaxis": "x33",
         "y": [
          15696,
          10413,
          10248,
          3833,
          3390,
          2336,
          2275,
          2112,
          1690,
          1583
         ],
         "yaxis": "y33"
        },
        {
         "marker": {
          "color": "#f1c40f"
         },
         "name": "gemini-1.5-flash",
         "showlegend": false,
         "type": "bar",
         "x": [
          "the",
          "of",
          "a",
          "and",
          "to",
          "that",
          "in",
          "is",
          "with",
          "for"
         ],
         "xaxis": "x34",
         "y": [
          14786,
          10744,
          9903,
          4427,
          3763,
          2230,
          2109,
          2048,
          1835,
          1386
         ],
         "yaxis": "y34"
        },
        {
         "marker": {
          "color": "#f1c40f"
         },
         "name": "gemini-1.5-flash",
         "showlegend": false,
         "type": "bar",
         "x": [
          "the",
          "of",
          "a",
          "and",
          "to",
          "in",
          "that",
          "with",
          "is",
          "it"
         ],
         "xaxis": "x35",
         "y": [
          15161,
          10492,
          9652,
          4512,
          4109,
          2328,
          2319,
          1865,
          1748,
          1579
         ],
         "yaxis": "y35"
        },
        {
         "marker": {
          "color": "#f1c40f"
         },
         "name": "gemini-1.5-flash",
         "showlegend": false,
         "type": "bar",
         "x": [
          "the",
          "of",
          "a",
          "and",
          "to",
          "that",
          "in",
          "is",
          "with",
          "it"
         ],
         "xaxis": "x36",
         "y": [
          16346,
          10418,
          9649,
          4389,
          3868,
          2387,
          2111,
          1918,
          1860,
          1743
         ],
         "yaxis": "y36"
        },
        {
         "marker": {
          "color": "#f1c40f"
         },
         "name": "gemini-1.5-flash",
         "showlegend": false,
         "type": "bar",
         "x": [
          "the",
          "a",
          "of",
          "and",
          "to",
          "with",
          "in",
          "that",
          "it",
          "is"
         ],
         "xaxis": "x37",
         "y": [
          13664,
          9482,
          8528,
          4855,
          3388,
          2277,
          2248,
          2087,
          1865,
          1447
         ],
         "yaxis": "y37"
        },
        {
         "marker": {
          "color": "#f1c40f"
         },
         "name": "gemini-1.5-flash",
         "showlegend": false,
         "type": "bar",
         "x": [
          "the",
          "a",
          "of",
          "and",
          "to",
          "in",
          "that",
          "with",
          "is",
          "it"
         ],
         "xaxis": "x38",
         "y": [
          14297,
          9225,
          8797,
          5255,
          3905,
          2176,
          2146,
          2043,
          1835,
          1698
         ],
         "yaxis": "y38"
        },
        {
         "marker": {
          "color": "#f1c40f"
         },
         "name": "gemini-1.5-flash",
         "showlegend": false,
         "type": "bar",
         "x": [
          "the",
          "of",
          "a",
          "and",
          "to",
          "in",
          "that",
          "with",
          "it",
          "its"
         ],
         "xaxis": "x39",
         "y": [
          16026,
          10655,
          10632,
          3776,
          3762,
          2157,
          2087,
          1955,
          1935,
          1715
         ],
         "yaxis": "y39"
        },
        {
         "marker": {
          "color": "#f1c40f"
         },
         "name": "gemini-1.5-flash",
         "showlegend": false,
         "type": "bar",
         "x": [
          "the",
          "a",
          "of",
          "and",
          "to",
          "with",
          "in",
          "that",
          "is",
          "it"
         ],
         "xaxis": "x40",
         "y": [
          12804,
          10229,
          8335,
          4182,
          3357,
          2315,
          1934,
          1904,
          1589,
          1444
         ],
         "yaxis": "y40"
        },
        {
         "marker": {
          "color": "#9b59b6"
         },
         "name": "open-mixtral-8x7b",
         "showlegend": true,
         "type": "bar",
         "x": [
          "the",
          "and",
          "of",
          "a",
          "to",
          "that",
          "i",
          "in",
          "you",
          "it"
         ],
         "xaxis": "x41",
         "y": [
          12186,
          7455,
          7331,
          6687,
          4540,
          3125,
          2939,
          2623,
          2102,
          1922
         ],
         "yaxis": "y41"
        },
        {
         "marker": {
          "color": "#9b59b6"
         },
         "name": "open-mixtral-8x7b",
         "showlegend": false,
         "type": "bar",
         "x": [
          "the",
          "and",
          "of",
          "a",
          "to",
          "that",
          "in",
          "i",
          "as",
          "it"
         ],
         "xaxis": "x42",
         "y": [
          14480,
          8392,
          7722,
          6132,
          4969,
          3559,
          2723,
          1966,
          1801,
          1775
         ],
         "yaxis": "y42"
        },
        {
         "marker": {
          "color": "#9b59b6"
         },
         "name": "open-mixtral-8x7b",
         "showlegend": false,
         "type": "bar",
         "x": [
          "the",
          "of",
          "and",
          "a",
          "to",
          "that",
          "in",
          "is",
          "it",
          "i"
         ],
         "xaxis": "x43",
         "y": [
          15529,
          9773,
          8958,
          6692,
          4820,
          4123,
          3005,
          2525,
          2018,
          1772
         ],
         "yaxis": "y43"
        },
        {
         "marker": {
          "color": "#9b59b6"
         },
         "name": "open-mixtral-8x7b",
         "showlegend": false,
         "type": "bar",
         "x": [
          "the",
          "of",
          "and",
          "a",
          "to",
          "that",
          "in",
          "is",
          "i",
          "it"
         ],
         "xaxis": "x44",
         "y": [
          14349,
          9175,
          8349,
          6047,
          5011,
          3511,
          3012,
          2385,
          1660,
          1627
         ],
         "yaxis": "y44"
        },
        {
         "marker": {
          "color": "#9b59b6"
         },
         "name": "open-mixtral-8x7b",
         "showlegend": false,
         "type": "bar",
         "x": [
          "the",
          "of",
          "and",
          "a",
          "to",
          "that",
          "in",
          "is",
          "it",
          "as"
         ],
         "xaxis": "x45",
         "y": [
          15174,
          9969,
          9090,
          6074,
          4864,
          3709,
          3305,
          2246,
          1752,
          1674
         ],
         "yaxis": "y45"
        },
        {
         "marker": {
          "color": "#9b59b6"
         },
         "name": "open-mixtral-8x7b",
         "showlegend": false,
         "type": "bar",
         "x": [
          "the",
          "of",
          "and",
          "a",
          "to",
          "that",
          "in",
          "is",
          "as",
          "i"
         ],
         "xaxis": "x46",
         "y": [
          14576,
          8888,
          8663,
          6141,
          5021,
          3332,
          2998,
          2038,
          1761,
          1755
         ],
         "yaxis": "y46"
        },
        {
         "marker": {
          "color": "#9b59b6"
         },
         "name": "open-mixtral-8x7b",
         "showlegend": false,
         "type": "bar",
         "x": [
          "the",
          "and",
          "of",
          "a",
          "to",
          "that",
          "in",
          "with",
          "as",
          "it"
         ],
         "xaxis": "x47",
         "y": [
          13804,
          8249,
          7637,
          6060,
          4634,
          3065,
          2803,
          2045,
          1816,
          1672
         ],
         "yaxis": "y47"
        },
        {
         "marker": {
          "color": "#9b59b6"
         },
         "name": "open-mixtral-8x7b",
         "showlegend": false,
         "type": "bar",
         "x": [
          "the",
          "and",
          "of",
          "a",
          "to",
          "that",
          "in",
          "with",
          "as",
          "for"
         ],
         "xaxis": "x48",
         "y": [
          14372,
          9155,
          7876,
          6211,
          4758,
          3234,
          2729,
          1839,
          1716,
          1650
         ],
         "yaxis": "y48"
        },
        {
         "marker": {
          "color": "#9b59b6"
         },
         "name": "open-mixtral-8x7b",
         "showlegend": false,
         "type": "bar",
         "x": [
          "the",
          "of",
          "and",
          "a",
          "to",
          "that",
          "in",
          "is",
          "it",
          "as"
         ],
         "xaxis": "x49",
         "y": [
          15909,
          9725,
          8638,
          6678,
          4991,
          4033,
          3286,
          2507,
          1914,
          1641
         ],
         "yaxis": "y49"
        },
        {
         "marker": {
          "color": "#9b59b6"
         },
         "name": "open-mixtral-8x7b",
         "showlegend": false,
         "type": "bar",
         "x": [
          "the",
          "and",
          "of",
          "a",
          "to",
          "in",
          "that",
          "with",
          "as",
          "it"
         ],
         "xaxis": "x50",
         "y": [
          13006,
          7296,
          7184,
          6194,
          4444,
          2855,
          2470,
          1914,
          1810,
          1490
         ],
         "yaxis": "y50"
        },
        {
         "marker": {
          "color": "#e67e22"
         },
         "name": "claude-3-haiku-20240307",
         "showlegend": true,
         "type": "bar",
         "x": [
          "the",
          "of",
          "a",
          "and",
          "to",
          "you",
          "that",
          "i",
          "in",
          "it"
         ],
         "xaxis": "x51",
         "y": [
          11264,
          6139,
          5935,
          5382,
          4610,
          2952,
          2738,
          2560,
          2177,
          2036
         ],
         "yaxis": "y51"
        },
        {
         "marker": {
          "color": "#e67e22"
         },
         "name": "claude-3-haiku-20240307",
         "showlegend": false,
         "type": "bar",
         "x": [
          "the",
          "of",
          "and",
          "a",
          "to",
          "that",
          "in",
          "with",
          "his",
          "it"
         ],
         "xaxis": "x52",
         "y": [
          15174,
          7485,
          5806,
          5676,
          4456,
          2707,
          2482,
          1906,
          1557,
          1458
         ],
         "yaxis": "y52"
        },
        {
         "marker": {
          "color": "#e67e22"
         },
         "name": "claude-3-haiku-20240307",
         "showlegend": false,
         "type": "bar",
         "x": [
          "the",
          "of",
          "a",
          "and",
          "to",
          "that",
          "in",
          "with",
          "it",
          "for"
         ],
         "xaxis": "x53",
         "y": [
          17189,
          9919,
          6224,
          5939,
          4947,
          3577,
          2678,
          1635,
          1629,
          1524
         ],
         "yaxis": "y53"
        },
        {
         "marker": {
          "color": "#e67e22"
         },
         "name": "claude-3-haiku-20240307",
         "showlegend": false,
         "type": "bar",
         "x": [
          "the",
          "of",
          "and",
          "a",
          "to",
          "that",
          "in",
          "for",
          "with",
          "is"
         ],
         "xaxis": "x54",
         "y": [
          16572,
          10312,
          6145,
          5952,
          4671,
          3196,
          2522,
          1691,
          1663,
          1577
         ],
         "yaxis": "y54"
        },
        {
         "marker": {
          "color": "#e67e22"
         },
         "name": "claude-3-haiku-20240307",
         "showlegend": false,
         "type": "bar",
         "x": [
          "the",
          "of",
          "and",
          "a",
          "to",
          "that",
          "in",
          "with",
          "for",
          "their"
         ],
         "xaxis": "x55",
         "y": [
          17032,
          9874,
          6017,
          5930,
          4677,
          3330,
          2845,
          1775,
          1526,
          1445
         ],
         "yaxis": "y55"
        },
        {
         "marker": {
          "color": "#e67e22"
         },
         "name": "claude-3-haiku-20240307",
         "showlegend": false,
         "type": "bar",
         "x": [
          "the",
          "of",
          "and",
          "a",
          "to",
          "that",
          "in",
          "with",
          "is",
          "for"
         ],
         "xaxis": "x56",
         "y": [
          16156,
          9630,
          6279,
          5883,
          4905,
          3326,
          2719,
          1789,
          1538,
          1469
         ],
         "yaxis": "y56"
        },
        {
         "marker": {
          "color": "#e67e22"
         },
         "name": "claude-3-haiku-20240307",
         "showlegend": false,
         "type": "bar",
         "x": [
          "the",
          "of",
          "and",
          "a",
          "to",
          "that",
          "in",
          "with",
          "i",
          "you"
         ],
         "xaxis": "x57",
         "y": [
          13802,
          7559,
          5963,
          5654,
          4687,
          2660,
          2570,
          1925,
          1912,
          1659
         ],
         "yaxis": "y57"
        },
        {
         "marker": {
          "color": "#e67e22"
         },
         "name": "claude-3-haiku-20240307",
         "showlegend": false,
         "type": "bar",
         "x": [
          "the",
          "of",
          "and",
          "a",
          "to",
          "that",
          "in",
          "with",
          "for",
          "you"
         ],
         "xaxis": "x58",
         "y": [
          15368,
          8682,
          6404,
          6025,
          4660,
          3005,
          2643,
          1767,
          1561,
          1331
         ],
         "yaxis": "y58"
        },
        {
         "marker": {
          "color": "#e67e22"
         },
         "name": "claude-3-haiku-20240307",
         "showlegend": false,
         "type": "bar",
         "x": [
          "the",
          "of",
          "a",
          "and",
          "to",
          "that",
          "in",
          "with",
          "for",
          "is"
         ],
         "xaxis": "x59",
         "y": [
          17203,
          9518,
          6223,
          5496,
          4786,
          3187,
          2923,
          1694,
          1605,
          1546
         ],
         "yaxis": "y59"
        },
        {
         "marker": {
          "color": "#e67e22"
         },
         "name": "claude-3-haiku-20240307",
         "showlegend": false,
         "type": "bar",
         "x": [
          "the",
          "of",
          "a",
          "and",
          "to",
          "that",
          "in",
          "with",
          "you",
          "for"
         ],
         "xaxis": "x60",
         "y": [
          15352,
          8869,
          6261,
          6018,
          4379,
          2651,
          2440,
          1980,
          1607,
          1569
         ],
         "yaxis": "y60"
        }
       ],
       "layout": {
        "annotations": [
         {
          "font": {
           "size": 10
          },
          "showarrow": false,
          "text": "Mark Twain",
          "x": 0.041,
          "xanchor": "center",
          "xref": "paper",
          "y": 0.9999999999999999,
          "yanchor": "bottom",
          "yref": "paper"
         },
         {
          "font": {
           "size": 10
          },
          "showarrow": false,
          "text": "Zane Grey",
          "x": 0.14300000000000002,
          "xanchor": "center",
          "xref": "paper",
          "y": 0.9999999999999999,
          "yanchor": "bottom",
          "yref": "paper"
         },
         {
          "font": {
           "size": 10
          },
          "showarrow": false,
          "text": "Joseph Conrad",
          "x": 0.24500000000000002,
          "xanchor": "center",
          "xref": "paper",
          "y": 0.9999999999999999,
          "yanchor": "bottom",
          "yref": "paper"
         },
         {
          "font": {
           "size": 10
          },
          "showarrow": false,
          "text": "Benjamin Disraeli",
          "x": 0.347,
          "xanchor": "center",
          "xref": "paper",
          "y": 0.9999999999999999,
          "yanchor": "bottom",
          "yref": "paper"
         },
         {
          "font": {
           "size": 10
          },
          "showarrow": false,
          "text": "George Eliot",
          "x": 0.44900000000000007,
          "xanchor": "center",
          "xref": "paper",
          "y": 0.9999999999999999,
          "yanchor": "bottom",
          "yref": "paper"
         },
         {
          "font": {
           "size": 10
          },
          "showarrow": false,
          "text": "William Henry Hudson",
          "x": 0.5509999999999999,
          "xanchor": "center",
          "xref": "paper",
          "y": 0.9999999999999999,
          "yanchor": "bottom",
          "yref": "paper"
         },
         {
          "font": {
           "size": 10
          },
          "showarrow": false,
          "text": "Lucy Maud Montgomery",
          "x": 0.653,
          "xanchor": "center",
          "xref": "paper",
          "y": 0.9999999999999999,
          "yanchor": "bottom",
          "yref": "paper"
         },
         {
          "font": {
           "size": 10
          },
          "showarrow": false,
          "text": "Howard Pyle",
          "x": 0.7550000000000001,
          "xanchor": "center",
          "xref": "paper",
          "y": 0.9999999999999999,
          "yanchor": "bottom",
          "yref": "paper"
         },
         {
          "font": {
           "size": 10
          },
          "showarrow": false,
          "text": "Virginia Woolf",
          "x": 0.857,
          "xanchor": "center",
          "xref": "paper",
          "y": 0.9999999999999999,
          "yanchor": "bottom",
          "yref": "paper"
         },
         {
          "font": {
           "size": 10
          },
          "showarrow": false,
          "text": "Lewis Carroll",
          "x": 0.9589999999999999,
          "xanchor": "center",
          "xref": "paper",
          "y": 0.9999999999999999,
          "yanchor": "bottom",
          "yref": "paper"
         }
        ],
        "height": 800,
        "template": {
         "data": {
          "bar": [
           {
            "error_x": {
             "color": "#2a3f5f"
            },
            "error_y": {
             "color": "#2a3f5f"
            },
            "marker": {
             "line": {
              "color": "#E5ECF6",
              "width": 0.5
             },
             "pattern": {
              "fillmode": "overlay",
              "size": 10,
              "solidity": 0.2
             }
            },
            "type": "bar"
           }
          ],
          "barpolar": [
           {
            "marker": {
             "line": {
              "color": "#E5ECF6",
              "width": 0.5
             },
             "pattern": {
              "fillmode": "overlay",
              "size": 10,
              "solidity": 0.2
             }
            },
            "type": "barpolar"
           }
          ],
          "carpet": [
           {
            "aaxis": {
             "endlinecolor": "#2a3f5f",
             "gridcolor": "white",
             "linecolor": "white",
             "minorgridcolor": "white",
             "startlinecolor": "#2a3f5f"
            },
            "baxis": {
             "endlinecolor": "#2a3f5f",
             "gridcolor": "white",
             "linecolor": "white",
             "minorgridcolor": "white",
             "startlinecolor": "#2a3f5f"
            },
            "type": "carpet"
           }
          ],
          "choropleth": [
           {
            "colorbar": {
             "outlinewidth": 0,
             "ticks": ""
            },
            "type": "choropleth"
           }
          ],
          "contour": [
           {
            "colorbar": {
             "outlinewidth": 0,
             "ticks": ""
            },
            "colorscale": [
             [
              0,
              "#0d0887"
             ],
             [
              0.1111111111111111,
              "#46039f"
             ],
             [
              0.2222222222222222,
              "#7201a8"
             ],
             [
              0.3333333333333333,
              "#9c179e"
             ],
             [
              0.4444444444444444,
              "#bd3786"
             ],
             [
              0.5555555555555556,
              "#d8576b"
             ],
             [
              0.6666666666666666,
              "#ed7953"
             ],
             [
              0.7777777777777778,
              "#fb9f3a"
             ],
             [
              0.8888888888888888,
              "#fdca26"
             ],
             [
              1,
              "#f0f921"
             ]
            ],
            "type": "contour"
           }
          ],
          "contourcarpet": [
           {
            "colorbar": {
             "outlinewidth": 0,
             "ticks": ""
            },
            "type": "contourcarpet"
           }
          ],
          "heatmap": [
           {
            "colorbar": {
             "outlinewidth": 0,
             "ticks": ""
            },
            "colorscale": [
             [
              0,
              "#0d0887"
             ],
             [
              0.1111111111111111,
              "#46039f"
             ],
             [
              0.2222222222222222,
              "#7201a8"
             ],
             [
              0.3333333333333333,
              "#9c179e"
             ],
             [
              0.4444444444444444,
              "#bd3786"
             ],
             [
              0.5555555555555556,
              "#d8576b"
             ],
             [
              0.6666666666666666,
              "#ed7953"
             ],
             [
              0.7777777777777778,
              "#fb9f3a"
             ],
             [
              0.8888888888888888,
              "#fdca26"
             ],
             [
              1,
              "#f0f921"
             ]
            ],
            "type": "heatmap"
           }
          ],
          "heatmapgl": [
           {
            "colorbar": {
             "outlinewidth": 0,
             "ticks": ""
            },
            "colorscale": [
             [
              0,
              "#0d0887"
             ],
             [
              0.1111111111111111,
              "#46039f"
             ],
             [
              0.2222222222222222,
              "#7201a8"
             ],
             [
              0.3333333333333333,
              "#9c179e"
             ],
             [
              0.4444444444444444,
              "#bd3786"
             ],
             [
              0.5555555555555556,
              "#d8576b"
             ],
             [
              0.6666666666666666,
              "#ed7953"
             ],
             [
              0.7777777777777778,
              "#fb9f3a"
             ],
             [
              0.8888888888888888,
              "#fdca26"
             ],
             [
              1,
              "#f0f921"
             ]
            ],
            "type": "heatmapgl"
           }
          ],
          "histogram": [
           {
            "marker": {
             "pattern": {
              "fillmode": "overlay",
              "size": 10,
              "solidity": 0.2
             }
            },
            "type": "histogram"
           }
          ],
          "histogram2d": [
           {
            "colorbar": {
             "outlinewidth": 0,
             "ticks": ""
            },
            "colorscale": [
             [
              0,
              "#0d0887"
             ],
             [
              0.1111111111111111,
              "#46039f"
             ],
             [
              0.2222222222222222,
              "#7201a8"
             ],
             [
              0.3333333333333333,
              "#9c179e"
             ],
             [
              0.4444444444444444,
              "#bd3786"
             ],
             [
              0.5555555555555556,
              "#d8576b"
             ],
             [
              0.6666666666666666,
              "#ed7953"
             ],
             [
              0.7777777777777778,
              "#fb9f3a"
             ],
             [
              0.8888888888888888,
              "#fdca26"
             ],
             [
              1,
              "#f0f921"
             ]
            ],
            "type": "histogram2d"
           }
          ],
          "histogram2dcontour": [
           {
            "colorbar": {
             "outlinewidth": 0,
             "ticks": ""
            },
            "colorscale": [
             [
              0,
              "#0d0887"
             ],
             [
              0.1111111111111111,
              "#46039f"
             ],
             [
              0.2222222222222222,
              "#7201a8"
             ],
             [
              0.3333333333333333,
              "#9c179e"
             ],
             [
              0.4444444444444444,
              "#bd3786"
             ],
             [
              0.5555555555555556,
              "#d8576b"
             ],
             [
              0.6666666666666666,
              "#ed7953"
             ],
             [
              0.7777777777777778,
              "#fb9f3a"
             ],
             [
              0.8888888888888888,
              "#fdca26"
             ],
             [
              1,
              "#f0f921"
             ]
            ],
            "type": "histogram2dcontour"
           }
          ],
          "mesh3d": [
           {
            "colorbar": {
             "outlinewidth": 0,
             "ticks": ""
            },
            "type": "mesh3d"
           }
          ],
          "parcoords": [
           {
            "line": {
             "colorbar": {
              "outlinewidth": 0,
              "ticks": ""
             }
            },
            "type": "parcoords"
           }
          ],
          "pie": [
           {
            "automargin": true,
            "type": "pie"
           }
          ],
          "scatter": [
           {
            "fillpattern": {
             "fillmode": "overlay",
             "size": 10,
             "solidity": 0.2
            },
            "type": "scatter"
           }
          ],
          "scatter3d": [
           {
            "line": {
             "colorbar": {
              "outlinewidth": 0,
              "ticks": ""
             }
            },
            "marker": {
             "colorbar": {
              "outlinewidth": 0,
              "ticks": ""
             }
            },
            "type": "scatter3d"
           }
          ],
          "scattercarpet": [
           {
            "marker": {
             "colorbar": {
              "outlinewidth": 0,
              "ticks": ""
             }
            },
            "type": "scattercarpet"
           }
          ],
          "scattergeo": [
           {
            "marker": {
             "colorbar": {
              "outlinewidth": 0,
              "ticks": ""
             }
            },
            "type": "scattergeo"
           }
          ],
          "scattergl": [
           {
            "marker": {
             "colorbar": {
              "outlinewidth": 0,
              "ticks": ""
             }
            },
            "type": "scattergl"
           }
          ],
          "scattermapbox": [
           {
            "marker": {
             "colorbar": {
              "outlinewidth": 0,
              "ticks": ""
             }
            },
            "type": "scattermapbox"
           }
          ],
          "scatterpolar": [
           {
            "marker": {
             "colorbar": {
              "outlinewidth": 0,
              "ticks": ""
             }
            },
            "type": "scatterpolar"
           }
          ],
          "scatterpolargl": [
           {
            "marker": {
             "colorbar": {
              "outlinewidth": 0,
              "ticks": ""
             }
            },
            "type": "scatterpolargl"
           }
          ],
          "scatterternary": [
           {
            "marker": {
             "colorbar": {
              "outlinewidth": 0,
              "ticks": ""
             }
            },
            "type": "scatterternary"
           }
          ],
          "surface": [
           {
            "colorbar": {
             "outlinewidth": 0,
             "ticks": ""
            },
            "colorscale": [
             [
              0,
              "#0d0887"
             ],
             [
              0.1111111111111111,
              "#46039f"
             ],
             [
              0.2222222222222222,
              "#7201a8"
             ],
             [
              0.3333333333333333,
              "#9c179e"
             ],
             [
              0.4444444444444444,
              "#bd3786"
             ],
             [
              0.5555555555555556,
              "#d8576b"
             ],
             [
              0.6666666666666666,
              "#ed7953"
             ],
             [
              0.7777777777777778,
              "#fb9f3a"
             ],
             [
              0.8888888888888888,
              "#fdca26"
             ],
             [
              1,
              "#f0f921"
             ]
            ],
            "type": "surface"
           }
          ],
          "table": [
           {
            "cells": {
             "fill": {
              "color": "#EBF0F8"
             },
             "line": {
              "color": "white"
             }
            },
            "header": {
             "fill": {
              "color": "#C8D4E3"
             },
             "line": {
              "color": "white"
             }
            },
            "type": "table"
           }
          ]
         },
         "layout": {
          "annotationdefaults": {
           "arrowcolor": "#2a3f5f",
           "arrowhead": 0,
           "arrowwidth": 1
          },
          "autotypenumbers": "strict",
          "coloraxis": {
           "colorbar": {
            "outlinewidth": 0,
            "ticks": ""
           }
          },
          "colorscale": {
           "diverging": [
            [
             0,
             "#8e0152"
            ],
            [
             0.1,
             "#c51b7d"
            ],
            [
             0.2,
             "#de77ae"
            ],
            [
             0.3,
             "#f1b6da"
            ],
            [
             0.4,
             "#fde0ef"
            ],
            [
             0.5,
             "#f7f7f7"
            ],
            [
             0.6,
             "#e6f5d0"
            ],
            [
             0.7,
             "#b8e186"
            ],
            [
             0.8,
             "#7fbc41"
            ],
            [
             0.9,
             "#4d9221"
            ],
            [
             1,
             "#276419"
            ]
           ],
           "sequential": [
            [
             0,
             "#0d0887"
            ],
            [
             0.1111111111111111,
             "#46039f"
            ],
            [
             0.2222222222222222,
             "#7201a8"
            ],
            [
             0.3333333333333333,
             "#9c179e"
            ],
            [
             0.4444444444444444,
             "#bd3786"
            ],
            [
             0.5555555555555556,
             "#d8576b"
            ],
            [
             0.6666666666666666,
             "#ed7953"
            ],
            [
             0.7777777777777778,
             "#fb9f3a"
            ],
            [
             0.8888888888888888,
             "#fdca26"
            ],
            [
             1,
             "#f0f921"
            ]
           ],
           "sequentialminus": [
            [
             0,
             "#0d0887"
            ],
            [
             0.1111111111111111,
             "#46039f"
            ],
            [
             0.2222222222222222,
             "#7201a8"
            ],
            [
             0.3333333333333333,
             "#9c179e"
            ],
            [
             0.4444444444444444,
             "#bd3786"
            ],
            [
             0.5555555555555556,
             "#d8576b"
            ],
            [
             0.6666666666666666,
             "#ed7953"
            ],
            [
             0.7777777777777778,
             "#fb9f3a"
            ],
            [
             0.8888888888888888,
             "#fdca26"
            ],
            [
             1,
             "#f0f921"
            ]
           ]
          },
          "colorway": [
           "#636efa",
           "#EF553B",
           "#00cc96",
           "#ab63fa",
           "#FFA15A",
           "#19d3f3",
           "#FF6692",
           "#B6E880",
           "#FF97FF",
           "#FECB52"
          ],
          "font": {
           "color": "#2a3f5f"
          },
          "geo": {
           "bgcolor": "white",
           "lakecolor": "white",
           "landcolor": "#E5ECF6",
           "showlakes": true,
           "showland": true,
           "subunitcolor": "white"
          },
          "hoverlabel": {
           "align": "left"
          },
          "hovermode": "closest",
          "mapbox": {
           "style": "light"
          },
          "paper_bgcolor": "white",
          "plot_bgcolor": "#E5ECF6",
          "polar": {
           "angularaxis": {
            "gridcolor": "white",
            "linecolor": "white",
            "ticks": ""
           },
           "bgcolor": "#E5ECF6",
           "radialaxis": {
            "gridcolor": "white",
            "linecolor": "white",
            "ticks": ""
           }
          },
          "scene": {
           "xaxis": {
            "backgroundcolor": "#E5ECF6",
            "gridcolor": "white",
            "gridwidth": 2,
            "linecolor": "white",
            "showbackground": true,
            "ticks": "",
            "zerolinecolor": "white"
           },
           "yaxis": {
            "backgroundcolor": "#E5ECF6",
            "gridcolor": "white",
            "gridwidth": 2,
            "linecolor": "white",
            "showbackground": true,
            "ticks": "",
            "zerolinecolor": "white"
           },
           "zaxis": {
            "backgroundcolor": "#E5ECF6",
            "gridcolor": "white",
            "gridwidth": 2,
            "linecolor": "white",
            "showbackground": true,
            "ticks": "",
            "zerolinecolor": "white"
           }
          },
          "shapedefaults": {
           "line": {
            "color": "#2a3f5f"
           }
          },
          "ternary": {
           "aaxis": {
            "gridcolor": "white",
            "linecolor": "white",
            "ticks": ""
           },
           "baxis": {
            "gridcolor": "white",
            "linecolor": "white",
            "ticks": ""
           },
           "bgcolor": "#E5ECF6",
           "caxis": {
            "gridcolor": "white",
            "linecolor": "white",
            "ticks": ""
           }
          },
          "title": {
           "x": 0.05
          },
          "xaxis": {
           "automargin": true,
           "gridcolor": "white",
           "linecolor": "white",
           "ticks": "",
           "title": {
            "standoff": 15
           },
           "zerolinecolor": "white",
           "zerolinewidth": 2
          },
          "yaxis": {
           "automargin": true,
           "gridcolor": "white",
           "linecolor": "white",
           "ticks": "",
           "title": {
            "standoff": 15
           },
           "zerolinecolor": "white",
           "zerolinewidth": 2
          }
         }
        },
        "title": {
         "text": "Top 10 function words",
         "x": 0.5
        },
        "xaxis": {
         "anchor": "y",
         "domain": [
          0,
          0.082
         ],
         "tickfont": {
          "size": 10
         }
        },
        "xaxis10": {
         "anchor": "y10",
         "domain": [
          0.9179999999999999,
          0.9999999999999999
         ],
         "tickfont": {
          "size": 10
         }
        },
        "xaxis11": {
         "anchor": "y11",
         "domain": [
          0,
          0.082
         ],
         "tickfont": {
          "size": 10
         }
        },
        "xaxis12": {
         "anchor": "y12",
         "domain": [
          0.10200000000000001,
          0.184
         ],
         "tickfont": {
          "size": 10
         }
        },
        "xaxis13": {
         "anchor": "y13",
         "domain": [
          0.20400000000000001,
          0.28600000000000003
         ],
         "tickfont": {
          "size": 10
         }
        },
        "xaxis14": {
         "anchor": "y14",
         "domain": [
          0.306,
          0.388
         ],
         "tickfont": {
          "size": 10
         }
        },
        "xaxis15": {
         "anchor": "y15",
         "domain": [
          0.40800000000000003,
          0.49000000000000005
         ],
         "tickfont": {
          "size": 10
         }
        },
        "xaxis16": {
         "anchor": "y16",
         "domain": [
          0.51,
          0.592
         ],
         "tickfont": {
          "size": 10
         }
        },
        "xaxis17": {
         "anchor": "y17",
         "domain": [
          0.612,
          0.694
         ],
         "tickfont": {
          "size": 10
         }
        },
        "xaxis18": {
         "anchor": "y18",
         "domain": [
          0.7140000000000001,
          0.796
         ],
         "tickfont": {
          "size": 10
         }
        },
        "xaxis19": {
         "anchor": "y19",
         "domain": [
          0.8160000000000001,
          0.898
         ],
         "tickfont": {
          "size": 10
         }
        },
        "xaxis2": {
         "anchor": "y2",
         "domain": [
          0.10200000000000001,
          0.184
         ],
         "tickfont": {
          "size": 10
         }
        },
        "xaxis20": {
         "anchor": "y20",
         "domain": [
          0.9179999999999999,
          0.9999999999999999
         ],
         "tickfont": {
          "size": 10
         }
        },
        "xaxis21": {
         "anchor": "y21",
         "domain": [
          0,
          0.082
         ],
         "tickfont": {
          "size": 10
         }
        },
        "xaxis22": {
         "anchor": "y22",
         "domain": [
          0.10200000000000001,
          0.184
         ],
         "tickfont": {
          "size": 10
         }
        },
        "xaxis23": {
         "anchor": "y23",
         "domain": [
          0.20400000000000001,
          0.28600000000000003
         ],
         "tickfont": {
          "size": 10
         }
        },
        "xaxis24": {
         "anchor": "y24",
         "domain": [
          0.306,
          0.388
         ],
         "tickfont": {
          "size": 10
         }
        },
        "xaxis25": {
         "anchor": "y25",
         "domain": [
          0.40800000000000003,
          0.49000000000000005
         ],
         "tickfont": {
          "size": 10
         }
        },
        "xaxis26": {
         "anchor": "y26",
         "domain": [
          0.51,
          0.592
         ],
         "tickfont": {
          "size": 10
         }
        },
        "xaxis27": {
         "anchor": "y27",
         "domain": [
          0.612,
          0.694
         ],
         "tickfont": {
          "size": 10
         }
        },
        "xaxis28": {
         "anchor": "y28",
         "domain": [
          0.7140000000000001,
          0.796
         ],
         "tickfont": {
          "size": 10
         }
        },
        "xaxis29": {
         "anchor": "y29",
         "domain": [
          0.8160000000000001,
          0.898
         ],
         "tickfont": {
          "size": 10
         }
        },
        "xaxis3": {
         "anchor": "y3",
         "domain": [
          0.20400000000000001,
          0.28600000000000003
         ],
         "tickfont": {
          "size": 10
         }
        },
        "xaxis30": {
         "anchor": "y30",
         "domain": [
          0.9179999999999999,
          0.9999999999999999
         ],
         "tickfont": {
          "size": 10
         }
        },
        "xaxis31": {
         "anchor": "y31",
         "domain": [
          0,
          0.082
         ],
         "tickfont": {
          "size": 10
         }
        },
        "xaxis32": {
         "anchor": "y32",
         "domain": [
          0.10200000000000001,
          0.184
         ],
         "tickfont": {
          "size": 10
         }
        },
        "xaxis33": {
         "anchor": "y33",
         "domain": [
          0.20400000000000001,
          0.28600000000000003
         ],
         "tickfont": {
          "size": 10
         }
        },
        "xaxis34": {
         "anchor": "y34",
         "domain": [
          0.306,
          0.388
         ],
         "tickfont": {
          "size": 10
         }
        },
        "xaxis35": {
         "anchor": "y35",
         "domain": [
          0.40800000000000003,
          0.49000000000000005
         ],
         "tickfont": {
          "size": 10
         }
        },
        "xaxis36": {
         "anchor": "y36",
         "domain": [
          0.51,
          0.592
         ],
         "tickfont": {
          "size": 10
         }
        },
        "xaxis37": {
         "anchor": "y37",
         "domain": [
          0.612,
          0.694
         ],
         "tickfont": {
          "size": 10
         }
        },
        "xaxis38": {
         "anchor": "y38",
         "domain": [
          0.7140000000000001,
          0.796
         ],
         "tickfont": {
          "size": 10
         }
        },
        "xaxis39": {
         "anchor": "y39",
         "domain": [
          0.8160000000000001,
          0.898
         ],
         "tickfont": {
          "size": 10
         }
        },
        "xaxis4": {
         "anchor": "y4",
         "domain": [
          0.306,
          0.388
         ],
         "tickfont": {
          "size": 10
         }
        },
        "xaxis40": {
         "anchor": "y40",
         "domain": [
          0.9179999999999999,
          0.9999999999999999
         ],
         "tickfont": {
          "size": 10
         }
        },
        "xaxis41": {
         "anchor": "y41",
         "domain": [
          0,
          0.082
         ],
         "tickfont": {
          "size": 10
         }
        },
        "xaxis42": {
         "anchor": "y42",
         "domain": [
          0.10200000000000001,
          0.184
         ],
         "tickfont": {
          "size": 10
         }
        },
        "xaxis43": {
         "anchor": "y43",
         "domain": [
          0.20400000000000001,
          0.28600000000000003
         ],
         "tickfont": {
          "size": 10
         }
        },
        "xaxis44": {
         "anchor": "y44",
         "domain": [
          0.306,
          0.388
         ],
         "tickfont": {
          "size": 10
         }
        },
        "xaxis45": {
         "anchor": "y45",
         "domain": [
          0.40800000000000003,
          0.49000000000000005
         ],
         "tickfont": {
          "size": 10
         }
        },
        "xaxis46": {
         "anchor": "y46",
         "domain": [
          0.51,
          0.592
         ],
         "tickfont": {
          "size": 10
         }
        },
        "xaxis47": {
         "anchor": "y47",
         "domain": [
          0.612,
          0.694
         ],
         "tickfont": {
          "size": 10
         }
        },
        "xaxis48": {
         "anchor": "y48",
         "domain": [
          0.7140000000000001,
          0.796
         ],
         "tickfont": {
          "size": 10
         }
        },
        "xaxis49": {
         "anchor": "y49",
         "domain": [
          0.8160000000000001,
          0.898
         ],
         "tickfont": {
          "size": 10
         }
        },
        "xaxis5": {
         "anchor": "y5",
         "domain": [
          0.40800000000000003,
          0.49000000000000005
         ],
         "tickfont": {
          "size": 10
         }
        },
        "xaxis50": {
         "anchor": "y50",
         "domain": [
          0.9179999999999999,
          0.9999999999999999
         ],
         "tickfont": {
          "size": 10
         }
        },
        "xaxis51": {
         "anchor": "y51",
         "domain": [
          0,
          0.082
         ],
         "tickfont": {
          "size": 10
         }
        },
        "xaxis52": {
         "anchor": "y52",
         "domain": [
          0.10200000000000001,
          0.184
         ],
         "tickfont": {
          "size": 10
         }
        },
        "xaxis53": {
         "anchor": "y53",
         "domain": [
          0.20400000000000001,
          0.28600000000000003
         ],
         "tickfont": {
          "size": 10
         }
        },
        "xaxis54": {
         "anchor": "y54",
         "domain": [
          0.306,
          0.388
         ],
         "tickfont": {
          "size": 10
         }
        },
        "xaxis55": {
         "anchor": "y55",
         "domain": [
          0.40800000000000003,
          0.49000000000000005
         ],
         "tickfont": {
          "size": 10
         }
        },
        "xaxis56": {
         "anchor": "y56",
         "domain": [
          0.51,
          0.592
         ],
         "tickfont": {
          "size": 10
         }
        },
        "xaxis57": {
         "anchor": "y57",
         "domain": [
          0.612,
          0.694
         ],
         "tickfont": {
          "size": 10
         }
        },
        "xaxis58": {
         "anchor": "y58",
         "domain": [
          0.7140000000000001,
          0.796
         ],
         "tickfont": {
          "size": 10
         }
        },
        "xaxis59": {
         "anchor": "y59",
         "domain": [
          0.8160000000000001,
          0.898
         ],
         "tickfont": {
          "size": 10
         }
        },
        "xaxis6": {
         "anchor": "y6",
         "domain": [
          0.51,
          0.592
         ],
         "tickfont": {
          "size": 10
         }
        },
        "xaxis60": {
         "anchor": "y60",
         "domain": [
          0.9179999999999999,
          0.9999999999999999
         ],
         "tickfont": {
          "size": 10
         }
        },
        "xaxis7": {
         "anchor": "y7",
         "domain": [
          0.612,
          0.694
         ],
         "tickfont": {
          "size": 10
         }
        },
        "xaxis8": {
         "anchor": "y8",
         "domain": [
          0.7140000000000001,
          0.796
         ],
         "tickfont": {
          "size": 10
         }
        },
        "xaxis9": {
         "anchor": "y9",
         "domain": [
          0.8160000000000001,
          0.898
         ],
         "tickfont": {
          "size": 10
         }
        },
        "yaxis": {
         "anchor": "x",
         "domain": [
          0.9027777777777777,
          0.9999999999999999
         ],
         "range": [
          0,
          17203
         ]
        },
        "yaxis10": {
         "anchor": "x10",
         "domain": [
          0.9027777777777777,
          0.9999999999999999
         ],
         "range": [
          0,
          17203
         ]
        },
        "yaxis11": {
         "anchor": "x11",
         "domain": [
          0.7222222222222222,
          0.8194444444444444
         ],
         "range": [
          0,
          17203
         ]
        },
        "yaxis12": {
         "anchor": "x12",
         "domain": [
          0.7222222222222222,
          0.8194444444444444
         ],
         "range": [
          0,
          17203
         ]
        },
        "yaxis13": {
         "anchor": "x13",
         "domain": [
          0.7222222222222222,
          0.8194444444444444
         ],
         "range": [
          0,
          17203
         ]
        },
        "yaxis14": {
         "anchor": "x14",
         "domain": [
          0.7222222222222222,
          0.8194444444444444
         ],
         "range": [
          0,
          17203
         ]
        },
        "yaxis15": {
         "anchor": "x15",
         "domain": [
          0.7222222222222222,
          0.8194444444444444
         ],
         "range": [
          0,
          17203
         ]
        },
        "yaxis16": {
         "anchor": "x16",
         "domain": [
          0.7222222222222222,
          0.8194444444444444
         ],
         "range": [
          0,
          17203
         ]
        },
        "yaxis17": {
         "anchor": "x17",
         "domain": [
          0.7222222222222222,
          0.8194444444444444
         ],
         "range": [
          0,
          17203
         ]
        },
        "yaxis18": {
         "anchor": "x18",
         "domain": [
          0.7222222222222222,
          0.8194444444444444
         ],
         "range": [
          0,
          17203
         ]
        },
        "yaxis19": {
         "anchor": "x19",
         "domain": [
          0.7222222222222222,
          0.8194444444444444
         ],
         "range": [
          0,
          17203
         ]
        },
        "yaxis2": {
         "anchor": "x2",
         "domain": [
          0.9027777777777777,
          0.9999999999999999
         ],
         "range": [
          0,
          17203
         ]
        },
        "yaxis20": {
         "anchor": "x20",
         "domain": [
          0.7222222222222222,
          0.8194444444444444
         ],
         "range": [
          0,
          17203
         ]
        },
        "yaxis21": {
         "anchor": "x21",
         "domain": [
          0.5416666666666667,
          0.638888888888889
         ],
         "range": [
          0,
          17203
         ]
        },
        "yaxis22": {
         "anchor": "x22",
         "domain": [
          0.5416666666666667,
          0.638888888888889
         ],
         "range": [
          0,
          17203
         ]
        },
        "yaxis23": {
         "anchor": "x23",
         "domain": [
          0.5416666666666667,
          0.638888888888889
         ],
         "range": [
          0,
          17203
         ]
        },
        "yaxis24": {
         "anchor": "x24",
         "domain": [
          0.5416666666666667,
          0.638888888888889
         ],
         "range": [
          0,
          17203
         ]
        },
        "yaxis25": {
         "anchor": "x25",
         "domain": [
          0.5416666666666667,
          0.638888888888889
         ],
         "range": [
          0,
          17203
         ]
        },
        "yaxis26": {
         "anchor": "x26",
         "domain": [
          0.5416666666666667,
          0.638888888888889
         ],
         "range": [
          0,
          17203
         ]
        },
        "yaxis27": {
         "anchor": "x27",
         "domain": [
          0.5416666666666667,
          0.638888888888889
         ],
         "range": [
          0,
          17203
         ]
        },
        "yaxis28": {
         "anchor": "x28",
         "domain": [
          0.5416666666666667,
          0.638888888888889
         ],
         "range": [
          0,
          17203
         ]
        },
        "yaxis29": {
         "anchor": "x29",
         "domain": [
          0.5416666666666667,
          0.638888888888889
         ],
         "range": [
          0,
          17203
         ]
        },
        "yaxis3": {
         "anchor": "x3",
         "domain": [
          0.9027777777777777,
          0.9999999999999999
         ],
         "range": [
          0,
          17203
         ]
        },
        "yaxis30": {
         "anchor": "x30",
         "domain": [
          0.5416666666666667,
          0.638888888888889
         ],
         "range": [
          0,
          17203
         ]
        },
        "yaxis31": {
         "anchor": "x31",
         "domain": [
          0.3611111111111111,
          0.4583333333333333
         ],
         "range": [
          0,
          17203
         ]
        },
        "yaxis32": {
         "anchor": "x32",
         "domain": [
          0.3611111111111111,
          0.4583333333333333
         ],
         "range": [
          0,
          17203
         ]
        },
        "yaxis33": {
         "anchor": "x33",
         "domain": [
          0.3611111111111111,
          0.4583333333333333
         ],
         "range": [
          0,
          17203
         ]
        },
        "yaxis34": {
         "anchor": "x34",
         "domain": [
          0.3611111111111111,
          0.4583333333333333
         ],
         "range": [
          0,
          17203
         ]
        },
        "yaxis35": {
         "anchor": "x35",
         "domain": [
          0.3611111111111111,
          0.4583333333333333
         ],
         "range": [
          0,
          17203
         ]
        },
        "yaxis36": {
         "anchor": "x36",
         "domain": [
          0.3611111111111111,
          0.4583333333333333
         ],
         "range": [
          0,
          17203
         ]
        },
        "yaxis37": {
         "anchor": "x37",
         "domain": [
          0.3611111111111111,
          0.4583333333333333
         ],
         "range": [
          0,
          17203
         ]
        },
        "yaxis38": {
         "anchor": "x38",
         "domain": [
          0.3611111111111111,
          0.4583333333333333
         ],
         "range": [
          0,
          17203
         ]
        },
        "yaxis39": {
         "anchor": "x39",
         "domain": [
          0.3611111111111111,
          0.4583333333333333
         ],
         "range": [
          0,
          17203
         ]
        },
        "yaxis4": {
         "anchor": "x4",
         "domain": [
          0.9027777777777777,
          0.9999999999999999
         ],
         "range": [
          0,
          17203
         ]
        },
        "yaxis40": {
         "anchor": "x40",
         "domain": [
          0.3611111111111111,
          0.4583333333333333
         ],
         "range": [
          0,
          17203
         ]
        },
        "yaxis41": {
         "anchor": "x41",
         "domain": [
          0.18055555555555555,
          0.2777777777777778
         ],
         "range": [
          0,
          17203
         ]
        },
        "yaxis42": {
         "anchor": "x42",
         "domain": [
          0.18055555555555555,
          0.2777777777777778
         ],
         "range": [
          0,
          17203
         ]
        },
        "yaxis43": {
         "anchor": "x43",
         "domain": [
          0.18055555555555555,
          0.2777777777777778
         ],
         "range": [
          0,
          17203
         ]
        },
        "yaxis44": {
         "anchor": "x44",
         "domain": [
          0.18055555555555555,
          0.2777777777777778
         ],
         "range": [
          0,
          17203
         ]
        },
        "yaxis45": {
         "anchor": "x45",
         "domain": [
          0.18055555555555555,
          0.2777777777777778
         ],
         "range": [
          0,
          17203
         ]
        },
        "yaxis46": {
         "anchor": "x46",
         "domain": [
          0.18055555555555555,
          0.2777777777777778
         ],
         "range": [
          0,
          17203
         ]
        },
        "yaxis47": {
         "anchor": "x47",
         "domain": [
          0.18055555555555555,
          0.2777777777777778
         ],
         "range": [
          0,
          17203
         ]
        },
        "yaxis48": {
         "anchor": "x48",
         "domain": [
          0.18055555555555555,
          0.2777777777777778
         ],
         "range": [
          0,
          17203
         ]
        },
        "yaxis49": {
         "anchor": "x49",
         "domain": [
          0.18055555555555555,
          0.2777777777777778
         ],
         "range": [
          0,
          17203
         ]
        },
        "yaxis5": {
         "anchor": "x5",
         "domain": [
          0.9027777777777777,
          0.9999999999999999
         ],
         "range": [
          0,
          17203
         ]
        },
        "yaxis50": {
         "anchor": "x50",
         "domain": [
          0.18055555555555555,
          0.2777777777777778
         ],
         "range": [
          0,
          17203
         ]
        },
        "yaxis51": {
         "anchor": "x51",
         "domain": [
          0,
          0.09722222222222222
         ],
         "range": [
          0,
          17203
         ]
        },
        "yaxis52": {
         "anchor": "x52",
         "domain": [
          0,
          0.09722222222222222
         ],
         "range": [
          0,
          17203
         ]
        },
        "yaxis53": {
         "anchor": "x53",
         "domain": [
          0,
          0.09722222222222222
         ],
         "range": [
          0,
          17203
         ]
        },
        "yaxis54": {
         "anchor": "x54",
         "domain": [
          0,
          0.09722222222222222
         ],
         "range": [
          0,
          17203
         ]
        },
        "yaxis55": {
         "anchor": "x55",
         "domain": [
          0,
          0.09722222222222222
         ],
         "range": [
          0,
          17203
         ]
        },
        "yaxis56": {
         "anchor": "x56",
         "domain": [
          0,
          0.09722222222222222
         ],
         "range": [
          0,
          17203
         ]
        },
        "yaxis57": {
         "anchor": "x57",
         "domain": [
          0,
          0.09722222222222222
         ],
         "range": [
          0,
          17203
         ]
        },
        "yaxis58": {
         "anchor": "x58",
         "domain": [
          0,
          0.09722222222222222
         ],
         "range": [
          0,
          17203
         ]
        },
        "yaxis59": {
         "anchor": "x59",
         "domain": [
          0,
          0.09722222222222222
         ],
         "range": [
          0,
          17203
         ]
        },
        "yaxis6": {
         "anchor": "x6",
         "domain": [
          0.9027777777777777,
          0.9999999999999999
         ],
         "range": [
          0,
          17203
         ]
        },
        "yaxis60": {
         "anchor": "x60",
         "domain": [
          0,
          0.09722222222222222
         ],
         "range": [
          0,
          17203
         ]
        },
        "yaxis7": {
         "anchor": "x7",
         "domain": [
          0.9027777777777777,
          0.9999999999999999
         ],
         "range": [
          0,
          17203
         ]
        },
        "yaxis8": {
         "anchor": "x8",
         "domain": [
          0.9027777777777777,
          0.9999999999999999
         ],
         "range": [
          0,
          17203
         ]
        },
        "yaxis9": {
         "anchor": "x9",
         "domain": [
          0.9027777777777777,
          0.9999999999999999
         ],
         "range": [
          0,
          17203
         ]
        }
       }
      }
     },
     "metadata": {},
     "output_type": "display_data"
    },
    {
     "data": {
      "application/vnd.plotly.v1+json": {
       "config": {
        "plotlyServerURL": "https://plot.ly"
       },
       "data": [
        {
         "marker": {
          "color": "#3498db"
         },
         "mode": "markers",
         "name": "books",
         "showlegend": true,
         "type": "scatter",
         "x": [
          "!",
          "\"",
          "#",
          "$",
          "%",
          "&",
          "'",
          "(",
          ")",
          "*",
          "+",
          ",",
          "-",
          ".",
          "/",
          ":",
          ";",
          "<",
          "=",
          ">",
          "?",
          "@",
          "[",
          "\\",
          "]",
          "^",
          "_",
          "`",
          "{",
          "|",
          "}",
          "~"
         ],
         "xaxis": "x",
         "y": [
          592,
          2918,
          0,
          23,
          0,
          10,
          2239,
          191,
          191,
          0,
          0,
          11079,
          5637,
          8355,
          1,
          425,
          1817,
          0,
          0,
          0,
          593,
          0,
          32,
          0,
          32,
          0,
          4,
          0,
          1,
          0,
          1,
          0
         ],
         "yaxis": "y"
        },
        {
         "marker": {
          "color": "#3498db"
         },
         "mode": "markers",
         "name": "books",
         "showlegend": false,
         "type": "scatter",
         "x": [
          "!",
          "\"",
          "#",
          "$",
          "%",
          "&",
          "'",
          "(",
          ")",
          "*",
          "+",
          ",",
          "-",
          ".",
          "/",
          ":",
          ";",
          "<",
          "=",
          ">",
          "?",
          "@",
          "[",
          "\\",
          "]",
          "^",
          "_",
          "`",
          "{",
          "|",
          "}",
          "~"
         ],
         "xaxis": "x2",
         "y": [
          1021,
          5465,
          0,
          1,
          0,
          3,
          4268,
          6,
          6,
          0,
          0,
          11179,
          3574,
          13052,
          0,
          65,
          484,
          0,
          0,
          0,
          777,
          0,
          0,
          0,
          0,
          0,
          0,
          0,
          1,
          0,
          1,
          0
         ],
         "yaxis": "y2"
        },
        {
         "marker": {
          "color": "#3498db"
         },
         "mode": "markers",
         "name": "books",
         "showlegend": false,
         "type": "scatter",
         "x": [
          "!",
          "\"",
          "#",
          "$",
          "%",
          "&",
          "'",
          "(",
          ")",
          "*",
          "+",
          ",",
          "-",
          ".",
          "/",
          ":",
          ";",
          "<",
          "=",
          ">",
          "?",
          "@",
          "[",
          "\\",
          "]",
          "^",
          "_",
          "`",
          "{",
          "|",
          "}",
          "~"
         ],
         "xaxis": "x3",
         "y": [
          663,
          3215,
          0,
          0,
          0,
          3,
          1899,
          148,
          148,
          0,
          0,
          10783,
          3505,
          10008,
          0,
          277,
          870,
          0,
          0,
          0,
          747,
          0,
          0,
          0,
          0,
          0,
          14,
          28,
          0,
          0,
          0,
          0
         ],
         "yaxis": "y3"
        },
        {
         "marker": {
          "color": "#3498db"
         },
         "mode": "markers",
         "name": "books",
         "showlegend": false,
         "type": "scatter",
         "x": [
          "!",
          "\"",
          "#",
          "$",
          "%",
          "&",
          "'",
          "(",
          ")",
          "*",
          "+",
          ",",
          "-",
          ".",
          "/",
          ":",
          ";",
          "<",
          "=",
          ">",
          "?",
          "@",
          "[",
          "\\",
          "]",
          "^",
          "_",
          "`",
          "{",
          "|",
          "}",
          "~"
         ],
         "xaxis": "x4",
         "y": [
          1086,
          2282,
          0,
          0,
          0,
          0,
          4825,
          15,
          15,
          0,
          0,
          14243,
          1357,
          8118,
          0,
          250,
          2366,
          0,
          0,
          0,
          823,
          0,
          20,
          0,
          20,
          0,
          22,
          0,
          0,
          0,
          0,
          0
         ],
         "yaxis": "y4"
        },
        {
         "marker": {
          "color": "#3498db"
         },
         "mode": "markers",
         "name": "books",
         "showlegend": false,
         "type": "scatter",
         "x": [
          "!",
          "\"",
          "#",
          "$",
          "%",
          "&",
          "'",
          "(",
          ")",
          "*",
          "+",
          ",",
          "-",
          ".",
          "/",
          ":",
          ";",
          "<",
          "=",
          ">",
          "?",
          "@",
          "[",
          "\\",
          "]",
          "^",
          "_",
          "`",
          "{",
          "|",
          "}",
          "~"
         ],
         "xaxis": "x5",
         "y": [
          350,
          4318,
          0,
          0,
          0,
          1,
          3339,
          53,
          53,
          0,
          0,
          11820,
          3808,
          7442,
          0,
          383,
          1480,
          0,
          0,
          0,
          703,
          0,
          5,
          0,
          5,
          0,
          10,
          9,
          0,
          0,
          0,
          0
         ],
         "yaxis": "y5"
        },
        {
         "marker": {
          "color": "#3498db"
         },
         "mode": "markers",
         "name": "books",
         "showlegend": false,
         "type": "scatter",
         "x": [
          "!",
          "\"",
          "#",
          "$",
          "%",
          "&",
          "'",
          "(",
          ")",
          "*",
          "+",
          ",",
          "-",
          ".",
          "/",
          ":",
          ";",
          "<",
          "=",
          ">",
          "?",
          "@",
          "[",
          "\\",
          "]",
          "^",
          "_",
          "`",
          "{",
          "|",
          "}",
          "~"
         ],
         "xaxis": "x6",
         "y": [
          401,
          2568,
          0,
          0,
          0,
          4,
          1030,
          47,
          47,
          0,
          0,
          13764,
          3498,
          5673,
          0,
          226,
          1489,
          0,
          0,
          0,
          440,
          0,
          5,
          0,
          4,
          0,
          14,
          0,
          0,
          1,
          0,
          0
         ],
         "yaxis": "y6"
        },
        {
         "marker": {
          "color": "#3498db"
         },
         "mode": "markers",
         "name": "books",
         "showlegend": false,
         "type": "scatter",
         "x": [
          "!",
          "\"",
          "#",
          "$",
          "%",
          "&",
          "'",
          "(",
          ")",
          "*",
          "+",
          ",",
          "-",
          ".",
          "/",
          ":",
          ";",
          "<",
          "=",
          ">",
          "?",
          "@",
          "[",
          "\\",
          "]",
          "^",
          "_",
          "`",
          "{",
          "|",
          "}",
          "~"
         ],
         "xaxis": "x7",
         "y": [
          453,
          6708,
          0,
          0,
          0,
          1,
          5030,
          0,
          0,
          0,
          0,
          9839,
          3823,
          11950,
          0,
          24,
          558,
          0,
          0,
          0,
          780,
          0,
          1,
          0,
          1,
          0,
          0,
          0,
          0,
          0,
          0,
          0
         ],
         "yaxis": "y7"
        },
        {
         "marker": {
          "color": "#3498db"
         },
         "mode": "markers",
         "name": "books",
         "showlegend": false,
         "type": "scatter",
         "x": [
          "!",
          "\"",
          "#",
          "$",
          "%",
          "&",
          "'",
          "(",
          ")",
          "*",
          "+",
          ",",
          "-",
          ".",
          "/",
          ":",
          ";",
          "<",
          "=",
          ">",
          "?",
          "@",
          "[",
          "\\",
          "]",
          "^",
          "_",
          "`",
          "{",
          "|",
          "}",
          "~"
         ],
         "xaxis": "x8",
         "y": [
          768,
          5730,
          0,
          0,
          0,
          8,
          1286,
          56,
          56,
          0,
          0,
          13864,
          1913,
          6470,
          0,
          98,
          937,
          0,
          0,
          0,
          635,
          0,
          19,
          0,
          19,
          0,
          44,
          0,
          0,
          0,
          0,
          0
         ],
         "yaxis": "y8"
        },
        {
         "marker": {
          "color": "#3498db"
         },
         "mode": "markers",
         "name": "books",
         "showlegend": false,
         "type": "scatter",
         "x": [
          "!",
          "\"",
          "#",
          "$",
          "%",
          "&",
          "'",
          "(",
          ")",
          "*",
          "+",
          ",",
          "-",
          ".",
          "/",
          ":",
          ";",
          "<",
          "=",
          ">",
          "?",
          "@",
          "[",
          "\\",
          "]",
          "^",
          "_",
          "`",
          "{",
          "|",
          "}",
          "~"
         ],
         "xaxis": "x9",
         "y": [
          456,
          5896,
          0,
          0,
          0,
          1,
          2872,
          78,
          78,
          0,
          0,
          13386,
          3358,
          9457,
          0,
          135,
          1222,
          0,
          0,
          0,
          992,
          0,
          4,
          0,
          4,
          0,
          2,
          0,
          0,
          0,
          0,
          0
         ],
         "yaxis": "y9"
        },
        {
         "marker": {
          "color": "#3498db"
         },
         "mode": "markers",
         "name": "books",
         "showlegend": false,
         "type": "scatter",
         "x": [
          "!",
          "\"",
          "#",
          "$",
          "%",
          "&",
          "'",
          "(",
          ")",
          "*",
          "+",
          ",",
          "-",
          ".",
          "/",
          ":",
          ";",
          "<",
          "=",
          ">",
          "?",
          "@",
          "[",
          "\\",
          "]",
          "^",
          "_",
          "`",
          "{",
          "|",
          "}",
          "~"
         ],
         "xaxis": "x10",
         "y": [
          3015,
          4404,
          0,
          15,
          0,
          15,
          6491,
          304,
          305,
          0,
          0,
          13335,
          3521,
          7547,
          0,
          1198,
          802,
          0,
          0,
          0,
          1382,
          0,
          72,
          0,
          72,
          0,
          116,
          0,
          0,
          0,
          0,
          0
         ],
         "yaxis": "y10"
        },
        {
         "marker": {
          "color": "#e74c3c"
         },
         "mode": "markers",
         "name": "gpt-3.5-turbo-0125",
         "showlegend": true,
         "type": "scatter",
         "x": [
          "!",
          "\"",
          "#",
          "$",
          "%",
          "&",
          "'",
          "(",
          ")",
          "*",
          "+",
          ",",
          "-",
          ".",
          "/",
          ":",
          ";",
          "<",
          "=",
          ">",
          "?",
          "@",
          "[",
          "\\",
          "]",
          "^",
          "_",
          "`",
          "{",
          "|",
          "}",
          "~"
         ],
         "xaxis": "x",
         "y": [
          98,
          310,
          0,
          0,
          0,
          0,
          1915,
          7,
          7,
          32,
          0,
          12799,
          806,
          8071,
          0,
          91,
          60,
          0,
          0,
          0,
          229,
          0,
          0,
          0,
          0,
          0,
          0,
          0,
          0,
          0,
          0,
          0
         ],
         "yaxis": "y"
        },
        {
         "marker": {
          "color": "#e74c3c"
         },
         "mode": "markers",
         "name": "gpt-3.5-turbo-0125",
         "showlegend": false,
         "type": "scatter",
         "x": [
          "!",
          "\"",
          "#",
          "$",
          "%",
          "&",
          "'",
          "(",
          ")",
          "*",
          "+",
          ",",
          "-",
          ".",
          "/",
          ":",
          ";",
          "<",
          "=",
          ">",
          "?",
          "@",
          "[",
          "\\",
          "]",
          "^",
          "_",
          "`",
          "{",
          "|",
          "}",
          "~"
         ],
         "xaxis": "x2",
         "y": [
          22,
          800,
          0,
          0,
          0,
          0,
          779,
          1,
          1,
          44,
          0,
          12640,
          772,
          7717,
          0,
          35,
          35,
          0,
          0,
          0,
          125,
          0,
          0,
          0,
          0,
          0,
          0,
          0,
          0,
          0,
          0,
          0
         ],
         "yaxis": "y2"
        },
        {
         "marker": {
          "color": "#e74c3c"
         },
         "mode": "markers",
         "name": "gpt-3.5-turbo-0125",
         "showlegend": false,
         "type": "scatter",
         "x": [
          "!",
          "\"",
          "#",
          "$",
          "%",
          "&",
          "'",
          "(",
          ")",
          "*",
          "+",
          ",",
          "-",
          ".",
          "/",
          ":",
          ";",
          "<",
          "=",
          ">",
          "?",
          "@",
          "[",
          "\\",
          "]",
          "^",
          "_",
          "`",
          "{",
          "|",
          "}",
          "~"
         ],
         "xaxis": "x3",
         "y": [
          9,
          536,
          0,
          0,
          0,
          0,
          473,
          2,
          2,
          96,
          0,
          12469,
          691,
          7562,
          0,
          55,
          82,
          0,
          0,
          0,
          116,
          0,
          0,
          0,
          0,
          0,
          0,
          0,
          0,
          0,
          0,
          0
         ],
         "yaxis": "y3"
        },
        {
         "marker": {
          "color": "#e74c3c"
         },
         "mode": "markers",
         "name": "gpt-3.5-turbo-0125",
         "showlegend": false,
         "type": "scatter",
         "x": [
          "!",
          "\"",
          "#",
          "$",
          "%",
          "&",
          "'",
          "(",
          ")",
          "*",
          "+",
          ",",
          "-",
          ".",
          "/",
          ":",
          ";",
          "<",
          "=",
          ">",
          "?",
          "@",
          "[",
          "\\",
          "]",
          "^",
          "_",
          "`",
          "{",
          "|",
          "}",
          "~"
         ],
         "xaxis": "x4",
         "y": [
          28,
          142,
          0,
          0,
          0,
          1,
          493,
          12,
          12,
          36,
          0,
          12679,
          883,
          7547,
          0,
          43,
          64,
          0,
          0,
          0,
          70,
          0,
          5,
          0,
          5,
          0,
          0,
          0,
          0,
          0,
          0,
          0
         ],
         "yaxis": "y4"
        },
        {
         "marker": {
          "color": "#e74c3c"
         },
         "mode": "markers",
         "name": "gpt-3.5-turbo-0125",
         "showlegend": false,
         "type": "scatter",
         "x": [
          "!",
          "\"",
          "#",
          "$",
          "%",
          "&",
          "'",
          "(",
          ")",
          "*",
          "+",
          ",",
          "-",
          ".",
          "/",
          ":",
          ";",
          "<",
          "=",
          ">",
          "?",
          "@",
          "[",
          "\\",
          "]",
          "^",
          "_",
          "`",
          "{",
          "|",
          "}",
          "~"
         ],
         "xaxis": "x5",
         "y": [
          28,
          400,
          0,
          0,
          0,
          0,
          598,
          4,
          4,
          44,
          0,
          12419,
          747,
          7474,
          0,
          32,
          59,
          0,
          0,
          0,
          97,
          0,
          3,
          0,
          3,
          0,
          0,
          0,
          0,
          0,
          0,
          0
         ],
         "yaxis": "y5"
        },
        {
         "marker": {
          "color": "#e74c3c"
         },
         "mode": "markers",
         "name": "gpt-3.5-turbo-0125",
         "showlegend": false,
         "type": "scatter",
         "x": [
          "!",
          "\"",
          "#",
          "$",
          "%",
          "&",
          "'",
          "(",
          ")",
          "*",
          "+",
          ",",
          "-",
          ".",
          "/",
          ":",
          ";",
          "<",
          "=",
          ">",
          "?",
          "@",
          "[",
          "\\",
          "]",
          "^",
          "_",
          "`",
          "{",
          "|",
          "}",
          "~"
         ],
         "xaxis": "x6",
         "y": [
          19,
          312,
          0,
          0,
          0,
          0,
          559,
          3,
          3,
          36,
          0,
          12196,
          777,
          7446,
          0,
          24,
          57,
          0,
          0,
          0,
          72,
          0,
          1,
          0,
          1,
          0,
          0,
          0,
          0,
          0,
          0,
          0
         ],
         "yaxis": "y6"
        },
        {
         "marker": {
          "color": "#e74c3c"
         },
         "mode": "markers",
         "name": "gpt-3.5-turbo-0125",
         "showlegend": false,
         "type": "scatter",
         "x": [
          "!",
          "\"",
          "#",
          "$",
          "%",
          "&",
          "'",
          "(",
          ")",
          "*",
          "+",
          ",",
          "-",
          ".",
          "/",
          ":",
          ";",
          "<",
          "=",
          ">",
          "?",
          "@",
          "[",
          "\\",
          "]",
          "^",
          "_",
          "`",
          "{",
          "|",
          "}",
          "~"
         ],
         "xaxis": "x7",
         "y": [
          45,
          973,
          0,
          0,
          0,
          0,
          767,
          8,
          8,
          32,
          0,
          12471,
          748,
          8108,
          0,
          22,
          37,
          0,
          0,
          0,
          144,
          0,
          0,
          0,
          0,
          0,
          0,
          0,
          0,
          0,
          0,
          0
         ],
         "yaxis": "y7"
        },
        {
         "marker": {
          "color": "#e74c3c"
         },
         "mode": "markers",
         "name": "gpt-3.5-turbo-0125",
         "showlegend": false,
         "type": "scatter",
         "x": [
          "!",
          "\"",
          "#",
          "$",
          "%",
          "&",
          "'",
          "(",
          ")",
          "*",
          "+",
          ",",
          "-",
          ".",
          "/",
          ":",
          ";",
          "<",
          "=",
          ">",
          "?",
          "@",
          "[",
          "\\",
          "]",
          "^",
          "_",
          "`",
          "{",
          "|",
          "}",
          "~"
         ],
         "xaxis": "x8",
         "y": [
          71,
          886,
          0,
          0,
          0,
          0,
          817,
          10,
          10,
          220,
          0,
          12594,
          730,
          7928,
          0,
          86,
          63,
          0,
          0,
          0,
          119,
          0,
          0,
          0,
          0,
          0,
          0,
          0,
          0,
          0,
          0,
          0
         ],
         "yaxis": "y8"
        },
        {
         "marker": {
          "color": "#e74c3c"
         },
         "mode": "markers",
         "name": "gpt-3.5-turbo-0125",
         "showlegend": false,
         "type": "scatter",
         "x": [
          "!",
          "\"",
          "#",
          "$",
          "%",
          "&",
          "'",
          "(",
          ")",
          "*",
          "+",
          ",",
          "-",
          ".",
          "/",
          ":",
          ";",
          "<",
          "=",
          ">",
          "?",
          "@",
          "[",
          "\\",
          "]",
          "^",
          "_",
          "`",
          "{",
          "|",
          "}",
          "~"
         ],
         "xaxis": "x9",
         "y": [
          8,
          244,
          0,
          0,
          0,
          0,
          507,
          7,
          7,
          0,
          0,
          12503,
          769,
          7534,
          0,
          27,
          96,
          0,
          0,
          0,
          115,
          0,
          0,
          0,
          0,
          0,
          0,
          0,
          0,
          0,
          0,
          0
         ],
         "yaxis": "y9"
        },
        {
         "marker": {
          "color": "#e74c3c"
         },
         "mode": "markers",
         "name": "gpt-3.5-turbo-0125",
         "showlegend": false,
         "type": "scatter",
         "x": [
          "!",
          "\"",
          "#",
          "$",
          "%",
          "&",
          "'",
          "(",
          ")",
          "*",
          "+",
          ",",
          "-",
          ".",
          "/",
          ":",
          ";",
          "<",
          "=",
          ">",
          "?",
          "@",
          "[",
          "\\",
          "]",
          "^",
          "_",
          "`",
          "{",
          "|",
          "}",
          "~"
         ],
         "xaxis": "x10",
         "y": [
          81,
          835,
          0,
          0,
          0,
          0,
          775,
          5,
          5,
          32,
          0,
          12744,
          654,
          7971,
          0,
          32,
          55,
          0,
          0,
          0,
          170,
          0,
          0,
          0,
          0,
          0,
          0,
          0,
          0,
          0,
          0,
          0
         ],
         "yaxis": "y10"
        },
        {
         "marker": {
          "color": "#2ecc71"
         },
         "mode": "markers",
         "name": "gpt-4o",
         "showlegend": true,
         "type": "scatter",
         "x": [
          "!",
          "\"",
          "#",
          "$",
          "%",
          "&",
          "'",
          "(",
          ")",
          "*",
          "+",
          ",",
          "-",
          ".",
          "/",
          ":",
          ";",
          "<",
          "=",
          ">",
          "?",
          "@",
          "[",
          "\\",
          "]",
          "^",
          "_",
          "`",
          "{",
          "|",
          "}",
          "~"
         ],
         "xaxis": "x",
         "y": [
          173,
          642,
          147,
          0,
          0,
          1,
          1765,
          103,
          103,
          846,
          0,
          14719,
          782,
          8757,
          0,
          310,
          133,
          0,
          0,
          0,
          325,
          4,
          0,
          0,
          0,
          0,
          0,
          0,
          0,
          0,
          0,
          0
         ],
         "yaxis": "y"
        },
        {
         "marker": {
          "color": "#2ecc71"
         },
         "mode": "markers",
         "name": "gpt-4o",
         "showlegend": false,
         "type": "scatter",
         "x": [
          "!",
          "\"",
          "#",
          "$",
          "%",
          "&",
          "'",
          "(",
          ")",
          "*",
          "+",
          ",",
          "-",
          ".",
          "/",
          ":",
          ";",
          "<",
          "=",
          ">",
          "?",
          "@",
          "[",
          "\\",
          "]",
          "^",
          "_",
          "`",
          "{",
          "|",
          "}",
          "~"
         ],
         "xaxis": "x2",
         "y": [
          60,
          1369,
          390,
          0,
          0,
          0,
          1009,
          100,
          100,
          368,
          0,
          15216,
          582,
          8737,
          0,
          155,
          105,
          0,
          0,
          0,
          246,
          2,
          0,
          0,
          0,
          0,
          0,
          0,
          0,
          0,
          0,
          0
         ],
         "yaxis": "y2"
        },
        {
         "marker": {
          "color": "#2ecc71"
         },
         "mode": "markers",
         "name": "gpt-4o",
         "showlegend": false,
         "type": "scatter",
         "x": [
          "!",
          "\"",
          "#",
          "$",
          "%",
          "&",
          "'",
          "(",
          ")",
          "*",
          "+",
          ",",
          "-",
          ".",
          "/",
          ":",
          ";",
          "<",
          "=",
          ">",
          "?",
          "@",
          "[",
          "\\",
          "]",
          "^",
          "_",
          "`",
          "{",
          "|",
          "}",
          "~"
         ],
         "xaxis": "x3",
         "y": [
          20,
          876,
          251,
          0,
          0,
          0,
          775,
          79,
          79,
          572,
          1,
          15823,
          508,
          8132,
          0,
          204,
          129,
          0,
          0,
          0,
          161,
          4,
          1,
          0,
          1,
          0,
          0,
          0,
          0,
          0,
          0,
          0
         ],
         "yaxis": "y3"
        },
        {
         "marker": {
          "color": "#2ecc71"
         },
         "mode": "markers",
         "name": "gpt-4o",
         "showlegend": false,
         "type": "scatter",
         "x": [
          "!",
          "\"",
          "#",
          "$",
          "%",
          "&",
          "'",
          "(",
          ")",
          "*",
          "+",
          ",",
          "-",
          ".",
          "/",
          ":",
          ";",
          "<",
          "=",
          ">",
          "?",
          "@",
          "[",
          "\\",
          "]",
          "^",
          "_",
          "`",
          "{",
          "|",
          "}",
          "~"
         ],
         "xaxis": "x4",
         "y": [
          32,
          522,
          35,
          0,
          0,
          0,
          652,
          85,
          85,
          608,
          1,
          15652,
          527,
          8030,
          3,
          221,
          100,
          0,
          0,
          0,
          104,
          2,
          11,
          0,
          11,
          0,
          0,
          0,
          0,
          0,
          0,
          0
         ],
         "yaxis": "y4"
        },
        {
         "marker": {
          "color": "#2ecc71"
         },
         "mode": "markers",
         "name": "gpt-4o",
         "showlegend": false,
         "type": "scatter",
         "x": [
          "!",
          "\"",
          "#",
          "$",
          "%",
          "&",
          "'",
          "(",
          ")",
          "*",
          "+",
          ",",
          "-",
          ".",
          "/",
          ":",
          ";",
          "<",
          "=",
          ">",
          "?",
          "@",
          "[",
          "\\",
          "]",
          "^",
          "_",
          "`",
          "{",
          "|",
          "}",
          "~"
         ],
         "xaxis": "x5",
         "y": [
          49,
          992,
          194,
          2,
          0,
          0,
          794,
          70,
          70,
          630,
          0,
          15488,
          617,
          8167,
          1,
          241,
          119,
          0,
          0,
          0,
          164,
          7,
          4,
          0,
          4,
          0,
          0,
          0,
          0,
          0,
          0,
          0
         ],
         "yaxis": "y5"
        },
        {
         "marker": {
          "color": "#2ecc71"
         },
         "mode": "markers",
         "name": "gpt-4o",
         "showlegend": false,
         "type": "scatter",
         "x": [
          "!",
          "\"",
          "#",
          "$",
          "%",
          "&",
          "'",
          "(",
          ")",
          "*",
          "+",
          ",",
          "-",
          ".",
          "/",
          ":",
          ";",
          "<",
          "=",
          ">",
          "?",
          "@",
          "[",
          "\\",
          "]",
          "^",
          "_",
          "`",
          "{",
          "|",
          "}",
          "~"
         ],
         "xaxis": "x6",
         "y": [
          52,
          804,
          65,
          0,
          0,
          0,
          797,
          81,
          81,
          760,
          3,
          15515,
          669,
          8329,
          1,
          242,
          107,
          0,
          0,
          0,
          163,
          11,
          1,
          0,
          1,
          0,
          1,
          0,
          0,
          0,
          0,
          0
         ],
         "yaxis": "y6"
        },
        {
         "marker": {
          "color": "#2ecc71"
         },
         "mode": "markers",
         "name": "gpt-4o",
         "showlegend": false,
         "type": "scatter",
         "x": [
          "!",
          "\"",
          "#",
          "$",
          "%",
          "&",
          "'",
          "(",
          ")",
          "*",
          "+",
          ",",
          "-",
          ".",
          "/",
          ":",
          ";",
          "<",
          "=",
          ">",
          "?",
          "@",
          "[",
          "\\",
          "]",
          "^",
          "_",
          "`",
          "{",
          "|",
          "}",
          "~"
         ],
         "xaxis": "x7",
         "y": [
          110,
          1578,
          65,
          1,
          0,
          0,
          971,
          75,
          75,
          657,
          1,
          14931,
          797,
          8563,
          0,
          208,
          87,
          0,
          0,
          0,
          255,
          5,
          4,
          0,
          4,
          0,
          0,
          0,
          0,
          0,
          0,
          0
         ],
         "yaxis": "y7"
        },
        {
         "marker": {
          "color": "#2ecc71"
         },
         "mode": "markers",
         "name": "gpt-4o",
         "showlegend": false,
         "type": "scatter",
         "x": [
          "!",
          "\"",
          "#",
          "$",
          "%",
          "&",
          "'",
          "(",
          ")",
          "*",
          "+",
          ",",
          "-",
          ".",
          "/",
          ":",
          ";",
          "<",
          "=",
          ">",
          "?",
          "@",
          "[",
          "\\",
          "]",
          "^",
          "_",
          "`",
          "{",
          "|",
          "}",
          "~"
         ],
         "xaxis": "x8",
         "y": [
          112,
          1110,
          372,
          1,
          1,
          0,
          897,
          29,
          29,
          664,
          1,
          15541,
          534,
          8251,
          0,
          180,
          81,
          0,
          0,
          0,
          193,
          8,
          0,
          0,
          0,
          0,
          1,
          0,
          0,
          0,
          0,
          0
         ],
         "yaxis": "y8"
        },
        {
         "marker": {
          "color": "#2ecc71"
         },
         "mode": "markers",
         "name": "gpt-4o",
         "showlegend": false,
         "type": "scatter",
         "x": [
          "!",
          "\"",
          "#",
          "$",
          "%",
          "&",
          "'",
          "(",
          ")",
          "*",
          "+",
          ",",
          "-",
          ".",
          "/",
          ":",
          ";",
          "<",
          "=",
          ">",
          "?",
          "@",
          "[",
          "\\",
          "]",
          "^",
          "_",
          "`",
          "{",
          "|",
          "}",
          "~"
         ],
         "xaxis": "x9",
         "y": [
          46,
          692,
          38,
          0,
          0,
          0,
          703,
          66,
          66,
          698,
          1,
          17193,
          651,
          8103,
          0,
          220,
          116,
          0,
          0,
          0,
          215,
          2,
          4,
          0,
          4,
          0,
          0,
          0,
          0,
          0,
          0,
          0
         ],
         "yaxis": "y9"
        },
        {
         "marker": {
          "color": "#2ecc71"
         },
         "mode": "markers",
         "name": "gpt-4o",
         "showlegend": false,
         "type": "scatter",
         "x": [
          "!",
          "\"",
          "#",
          "$",
          "%",
          "&",
          "'",
          "(",
          ")",
          "*",
          "+",
          ",",
          "-",
          ".",
          "/",
          ":",
          ";",
          "<",
          "=",
          ">",
          "?",
          "@",
          "[",
          "\\",
          "]",
          "^",
          "_",
          "`",
          "{",
          "|",
          "}",
          "~"
         ],
         "xaxis": "x10",
         "y": [
          257,
          2225,
          268,
          0,
          0,
          1,
          873,
          81,
          81,
          970,
          0,
          15353,
          688,
          8670,
          0,
          267,
          96,
          0,
          0,
          0,
          405,
          2,
          0,
          0,
          0,
          0,
          0,
          0,
          0,
          0,
          0,
          0
         ],
         "yaxis": "y10"
        },
        {
         "marker": {
          "color": "#f1c40f"
         },
         "mode": "markers",
         "name": "gemini-1.5-flash",
         "showlegend": true,
         "type": "scatter",
         "x": [
          "!",
          "\"",
          "#",
          "$",
          "%",
          "&",
          "'",
          "(",
          ")",
          "*",
          "+",
          ",",
          "-",
          ".",
          "/",
          ":",
          ";",
          "<",
          "=",
          ">",
          "?",
          "@",
          "[",
          "\\",
          "]",
          "^",
          "_",
          "`",
          "{",
          "|",
          "}",
          "~"
         ],
         "xaxis": "x",
         "y": [
          452,
          1369,
          30,
          0,
          0,
          0,
          6131,
          9,
          9,
          1054,
          0,
          18710,
          639,
          8919,
          0,
          255,
          18,
          0,
          0,
          0,
          569,
          0,
          2,
          0,
          2,
          0,
          0,
          0,
          0,
          0,
          0,
          0
         ],
         "yaxis": "y"
        },
        {
         "marker": {
          "color": "#f1c40f"
         },
         "mode": "markers",
         "name": "gemini-1.5-flash",
         "showlegend": false,
         "type": "scatter",
         "x": [
          "!",
          "\"",
          "#",
          "$",
          "%",
          "&",
          "'",
          "(",
          ")",
          "*",
          "+",
          ",",
          "-",
          ".",
          "/",
          ":",
          ";",
          "<",
          "=",
          ">",
          "?",
          "@",
          "[",
          "\\",
          "]",
          "^",
          "_",
          "`",
          "{",
          "|",
          "}",
          "~"
         ],
         "xaxis": "x2",
         "y": [
          65,
          1505,
          28,
          1,
          0,
          0,
          1097,
          1,
          1,
          979,
          0,
          18890,
          427,
          9100,
          0,
          161,
          24,
          0,
          0,
          0,
          296,
          0,
          5,
          0,
          5,
          0,
          0,
          0,
          0,
          0,
          0,
          0
         ],
         "yaxis": "y2"
        },
        {
         "marker": {
          "color": "#f1c40f"
         },
         "mode": "markers",
         "name": "gemini-1.5-flash",
         "showlegend": false,
         "type": "scatter",
         "x": [
          "!",
          "\"",
          "#",
          "$",
          "%",
          "&",
          "'",
          "(",
          ")",
          "*",
          "+",
          ",",
          "-",
          ".",
          "/",
          ":",
          ";",
          "<",
          "=",
          ">",
          "?",
          "@",
          "[",
          "\\",
          "]",
          "^",
          "_",
          "`",
          "{",
          "|",
          "}",
          "~"
         ],
         "xaxis": "x3",
         "y": [
          26,
          1478,
          26,
          0,
          0,
          0,
          520,
          1,
          1,
          658,
          0,
          20487,
          275,
          8012,
          2,
          103,
          16,
          0,
          0,
          0,
          263,
          1,
          3,
          0,
          3,
          0,
          0,
          0,
          0,
          0,
          0,
          0
         ],
         "yaxis": "y3"
        },
        {
         "marker": {
          "color": "#f1c40f"
         },
         "mode": "markers",
         "name": "gemini-1.5-flash",
         "showlegend": false,
         "type": "scatter",
         "x": [
          "!",
          "\"",
          "#",
          "$",
          "%",
          "&",
          "'",
          "(",
          ")",
          "*",
          "+",
          ",",
          "-",
          ".",
          "/",
          ":",
          ";",
          "<",
          "=",
          ">",
          "?",
          "@",
          "[",
          "\\",
          "]",
          "^",
          "_",
          "`",
          "{",
          "|",
          "}",
          "~"
         ],
         "xaxis": "x4",
         "y": [
          63,
          612,
          41,
          0,
          0,
          0,
          639,
          41,
          41,
          1071,
          0,
          19236,
          444,
          7851,
          0,
          204,
          45,
          0,
          0,
          0,
          221,
          2,
          3,
          0,
          3,
          0,
          0,
          0,
          0,
          0,
          0,
          0
         ],
         "yaxis": "y4"
        },
        {
         "marker": {
          "color": "#f1c40f"
         },
         "mode": "markers",
         "name": "gemini-1.5-flash",
         "showlegend": false,
         "type": "scatter",
         "x": [
          "!",
          "\"",
          "#",
          "$",
          "%",
          "&",
          "'",
          "(",
          ")",
          "*",
          "+",
          ",",
          "-",
          ".",
          "/",
          ":",
          ";",
          "<",
          "=",
          ">",
          "?",
          "@",
          "[",
          "\\",
          "]",
          "^",
          "_",
          "`",
          "{",
          "|",
          "}",
          "~"
         ],
         "xaxis": "x5",
         "y": [
          39,
          986,
          28,
          0,
          0,
          0,
          665,
          0,
          0,
          904,
          0,
          18970,
          403,
          7606,
          0,
          191,
          31,
          0,
          0,
          0,
          263,
          0,
          0,
          0,
          0,
          0,
          0,
          0,
          0,
          0,
          0,
          0
         ],
         "yaxis": "y5"
        },
        {
         "marker": {
          "color": "#f1c40f"
         },
         "mode": "markers",
         "name": "gemini-1.5-flash",
         "showlegend": false,
         "type": "scatter",
         "x": [
          "!",
          "\"",
          "#",
          "$",
          "%",
          "&",
          "'",
          "(",
          ")",
          "*",
          "+",
          ",",
          "-",
          ".",
          "/",
          ":",
          ";",
          "<",
          "=",
          ">",
          "?",
          "@",
          "[",
          "\\",
          "]",
          "^",
          "_",
          "`",
          "{",
          "|",
          "}",
          "~"
         ],
         "xaxis": "x6",
         "y": [
          31,
          552,
          36,
          0,
          0,
          0,
          605,
          3,
          3,
          1055,
          0,
          19011,
          385,
          7916,
          0,
          183,
          48,
          0,
          0,
          0,
          191,
          2,
          4,
          0,
          4,
          0,
          0,
          0,
          0,
          0,
          0,
          0
         ],
         "yaxis": "y6"
        },
        {
         "marker": {
          "color": "#f1c40f"
         },
         "mode": "markers",
         "name": "gemini-1.5-flash",
         "showlegend": false,
         "type": "scatter",
         "x": [
          "!",
          "\"",
          "#",
          "$",
          "%",
          "&",
          "'",
          "(",
          ")",
          "*",
          "+",
          ",",
          "-",
          ".",
          "/",
          ":",
          ";",
          "<",
          "=",
          ">",
          "?",
          "@",
          "[",
          "\\",
          "]",
          "^",
          "_",
          "`",
          "{",
          "|",
          "}",
          "~"
         ],
         "xaxis": "x7",
         "y": [
          252,
          2095,
          37,
          0,
          0,
          0,
          1368,
          1,
          1,
          1299,
          0,
          18390,
          442,
          8612,
          0,
          175,
          31,
          1,
          0,
          0,
          454,
          6,
          6,
          0,
          6,
          0,
          0,
          0,
          0,
          0,
          0,
          0
         ],
         "yaxis": "y7"
        },
        {
         "marker": {
          "color": "#f1c40f"
         },
         "mode": "markers",
         "name": "gemini-1.5-flash",
         "showlegend": false,
         "type": "scatter",
         "x": [
          "!",
          "\"",
          "#",
          "$",
          "%",
          "&",
          "'",
          "(",
          ")",
          "*",
          "+",
          ",",
          "-",
          ".",
          "/",
          ":",
          ";",
          "<",
          "=",
          ">",
          "?",
          "@",
          "[",
          "\\",
          "]",
          "^",
          "_",
          "`",
          "{",
          "|",
          "}",
          "~"
         ],
         "xaxis": "x8",
         "y": [
          186,
          1342,
          32,
          0,
          0,
          0,
          928,
          1,
          1,
          1390,
          0,
          18270,
          458,
          8453,
          0,
          212,
          19,
          0,
          0,
          0,
          307,
          1,
          0,
          0,
          0,
          0,
          0,
          0,
          0,
          0,
          0,
          0
         ],
         "yaxis": "y8"
        },
        {
         "marker": {
          "color": "#f1c40f"
         },
         "mode": "markers",
         "name": "gemini-1.5-flash",
         "showlegend": false,
         "type": "scatter",
         "x": [
          "!",
          "\"",
          "#",
          "$",
          "%",
          "&",
          "'",
          "(",
          ")",
          "*",
          "+",
          ",",
          "-",
          ".",
          "/",
          ":",
          ";",
          "<",
          "=",
          ">",
          "?",
          "@",
          "[",
          "\\",
          "]",
          "^",
          "_",
          "`",
          "{",
          "|",
          "}",
          "~"
         ],
         "xaxis": "x9",
         "y": [
          20,
          1124,
          32,
          0,
          0,
          0,
          589,
          0,
          0,
          665,
          0,
          20837,
          371,
          8093,
          1,
          113,
          25,
          0,
          0,
          0,
          288,
          0,
          3,
          0,
          3,
          0,
          0,
          0,
          0,
          0,
          0,
          0
         ],
         "yaxis": "y9"
        },
        {
         "marker": {
          "color": "#f1c40f"
         },
         "mode": "markers",
         "name": "gemini-1.5-flash",
         "showlegend": false,
         "type": "scatter",
         "x": [
          "!",
          "\"",
          "#",
          "$",
          "%",
          "&",
          "'",
          "(",
          ")",
          "*",
          "+",
          ",",
          "-",
          ".",
          "/",
          ":",
          ";",
          "<",
          "=",
          ">",
          "?",
          "@",
          "[",
          "\\",
          "]",
          "^",
          "_",
          "`",
          "{",
          "|",
          "}",
          "~"
         ],
         "xaxis": "x10",
         "y": [
          530,
          4164,
          29,
          0,
          0,
          0,
          1444,
          7,
          7,
          1282,
          2,
          20034,
          647,
          7935,
          0,
          215,
          22,
          0,
          0,
          0,
          780,
          2,
          1,
          0,
          1,
          0,
          0,
          0,
          0,
          0,
          0,
          0
         ],
         "yaxis": "y10"
        },
        {
         "marker": {
          "color": "#9b59b6"
         },
         "mode": "markers",
         "name": "open-mixtral-8x7b",
         "showlegend": true,
         "type": "scatter",
         "x": [
          "!",
          "\"",
          "#",
          "$",
          "%",
          "&",
          "'",
          "(",
          ")",
          "*",
          "+",
          ",",
          "-",
          ".",
          "/",
          ":",
          ";",
          "<",
          "=",
          ">",
          "?",
          "@",
          "[",
          "\\",
          "]",
          "^",
          "_",
          "`",
          "{",
          "|",
          "}",
          "~"
         ],
         "xaxis": "x",
         "y": [
          117,
          821,
          0,
          3,
          1,
          0,
          2038,
          103,
          103,
          57,
          0,
          16609,
          835,
          7282,
          2,
          264,
          46,
          0,
          0,
          0,
          343,
          0,
          4,
          0,
          4,
          0,
          0,
          0,
          0,
          0,
          0,
          0
         ],
         "yaxis": "y"
        },
        {
         "marker": {
          "color": "#9b59b6"
         },
         "mode": "markers",
         "name": "open-mixtral-8x7b",
         "showlegend": false,
         "type": "scatter",
         "x": [
          "!",
          "\"",
          "#",
          "$",
          "%",
          "&",
          "'",
          "(",
          ")",
          "*",
          "+",
          ",",
          "-",
          ".",
          "/",
          ":",
          ";",
          "<",
          "=",
          ">",
          "?",
          "@",
          "[",
          "\\",
          "]",
          "^",
          "_",
          "`",
          "{",
          "|",
          "}",
          "~"
         ],
         "xaxis": "x2",
         "y": [
          31,
          1111,
          0,
          1,
          1,
          0,
          922,
          19,
          19,
          5,
          0,
          15206,
          592,
          7579,
          0,
          100,
          24,
          0,
          0,
          0,
          227,
          0,
          2,
          0,
          2,
          0,
          0,
          3,
          0,
          0,
          0,
          0
         ],
         "yaxis": "y2"
        },
        {
         "marker": {
          "color": "#9b59b6"
         },
         "mode": "markers",
         "name": "open-mixtral-8x7b",
         "showlegend": false,
         "type": "scatter",
         "x": [
          "!",
          "\"",
          "#",
          "$",
          "%",
          "&",
          "'",
          "(",
          ")",
          "*",
          "+",
          ",",
          "-",
          ".",
          "/",
          ":",
          ";",
          "<",
          "=",
          ">",
          "?",
          "@",
          "[",
          "\\",
          "]",
          "^",
          "_",
          "`",
          "{",
          "|",
          "}",
          "~"
         ],
         "xaxis": "x3",
         "y": [
          6,
          589,
          0,
          0,
          1,
          1,
          619,
          2,
          2,
          0,
          0,
          16740,
          668,
          6052,
          0,
          127,
          30,
          0,
          0,
          0,
          126,
          0,
          0,
          0,
          0,
          0,
          0,
          0,
          0,
          0,
          0,
          0
         ],
         "yaxis": "y3"
        },
        {
         "marker": {
          "color": "#9b59b6"
         },
         "mode": "markers",
         "name": "open-mixtral-8x7b",
         "showlegend": false,
         "type": "scatter",
         "x": [
          "!",
          "\"",
          "#",
          "$",
          "%",
          "&",
          "'",
          "(",
          ")",
          "*",
          "+",
          ",",
          "-",
          ".",
          "/",
          ":",
          ";",
          "<",
          "=",
          ">",
          "?",
          "@",
          "[",
          "\\",
          "]",
          "^",
          "_",
          "`",
          "{",
          "|",
          "}",
          "~"
         ],
         "xaxis": "x4",
         "y": [
          33,
          549,
          0,
          1,
          4,
          0,
          774,
          39,
          39,
          20,
          0,
          16674,
          682,
          6322,
          0,
          173,
          70,
          0,
          0,
          0,
          212,
          0,
          1,
          0,
          1,
          0,
          0,
          0,
          0,
          0,
          0,
          0
         ],
         "yaxis": "y4"
        },
        {
         "marker": {
          "color": "#9b59b6"
         },
         "mode": "markers",
         "name": "open-mixtral-8x7b",
         "showlegend": false,
         "type": "scatter",
         "x": [
          "!",
          "\"",
          "#",
          "$",
          "%",
          "&",
          "'",
          "(",
          ")",
          "*",
          "+",
          ",",
          "-",
          ".",
          "/",
          ":",
          ";",
          "<",
          "=",
          ">",
          "?",
          "@",
          "[",
          "\\",
          "]",
          "^",
          "_",
          "`",
          "{",
          "|",
          "}",
          "~"
         ],
         "xaxis": "x5",
         "y": [
          34,
          681,
          0,
          0,
          0,
          0,
          726,
          2,
          2,
          0,
          0,
          16062,
          868,
          5901,
          3,
          106,
          63,
          0,
          0,
          0,
          129,
          0,
          1,
          0,
          1,
          0,
          0,
          3,
          0,
          0,
          0,
          0
         ],
         "yaxis": "y5"
        },
        {
         "marker": {
          "color": "#9b59b6"
         },
         "mode": "markers",
         "name": "open-mixtral-8x7b",
         "showlegend": false,
         "type": "scatter",
         "x": [
          "!",
          "\"",
          "#",
          "$",
          "%",
          "&",
          "'",
          "(",
          ")",
          "*",
          "+",
          ",",
          "-",
          ".",
          "/",
          ":",
          ";",
          "<",
          "=",
          ">",
          "?",
          "@",
          "[",
          "\\",
          "]",
          "^",
          "_",
          "`",
          "{",
          "|",
          "}",
          "~"
         ],
         "xaxis": "x6",
         "y": [
          35,
          668,
          0,
          0,
          1,
          0,
          707,
          6,
          6,
          5,
          0,
          16002,
          745,
          6400,
          3,
          169,
          58,
          0,
          0,
          0,
          164,
          0,
          0,
          0,
          0,
          0,
          0,
          0,
          0,
          0,
          0,
          0
         ],
         "yaxis": "y6"
        },
        {
         "marker": {
          "color": "#9b59b6"
         },
         "mode": "markers",
         "name": "open-mixtral-8x7b",
         "showlegend": false,
         "type": "scatter",
         "x": [
          "!",
          "\"",
          "#",
          "$",
          "%",
          "&",
          "'",
          "(",
          ")",
          "*",
          "+",
          ",",
          "-",
          ".",
          "/",
          ":",
          ";",
          "<",
          "=",
          ">",
          "?",
          "@",
          "[",
          "\\",
          "]",
          "^",
          "_",
          "`",
          "{",
          "|",
          "}",
          "~"
         ],
         "xaxis": "x7",
         "y": [
          55,
          1511,
          0,
          1,
          2,
          0,
          1057,
          19,
          19,
          8,
          0,
          15773,
          685,
          7226,
          0,
          131,
          33,
          0,
          0,
          0,
          222,
          1,
          2,
          0,
          2,
          0,
          0,
          0,
          0,
          0,
          0,
          0
         ],
         "yaxis": "y7"
        },
        {
         "marker": {
          "color": "#9b59b6"
         },
         "mode": "markers",
         "name": "open-mixtral-8x7b",
         "showlegend": false,
         "type": "scatter",
         "x": [
          "!",
          "\"",
          "#",
          "$",
          "%",
          "&",
          "'",
          "(",
          ")",
          "*",
          "+",
          ",",
          "-",
          ".",
          "/",
          ":",
          ";",
          "<",
          "=",
          ">",
          "?",
          "@",
          "[",
          "\\",
          "]",
          "^",
          "_",
          "`",
          "{",
          "|",
          "}",
          "~"
         ],
         "xaxis": "x8",
         "y": [
          63,
          1152,
          0,
          0,
          0,
          0,
          797,
          14,
          14,
          13,
          0,
          15558,
          629,
          6960,
          2,
          103,
          54,
          0,
          0,
          0,
          198,
          0,
          2,
          0,
          2,
          0,
          0,
          0,
          0,
          0,
          0,
          0
         ],
         "yaxis": "y8"
        },
        {
         "marker": {
          "color": "#9b59b6"
         },
         "mode": "markers",
         "name": "open-mixtral-8x7b",
         "showlegend": false,
         "type": "scatter",
         "x": [
          "!",
          "\"",
          "#",
          "$",
          "%",
          "&",
          "'",
          "(",
          ")",
          "*",
          "+",
          ",",
          "-",
          ".",
          "/",
          ":",
          ";",
          "<",
          "=",
          ">",
          "?",
          "@",
          "[",
          "\\",
          "]",
          "^",
          "_",
          "`",
          "{",
          "|",
          "}",
          "~"
         ],
         "xaxis": "x9",
         "y": [
          9,
          429,
          0,
          0,
          2,
          0,
          629,
          1,
          1,
          0,
          0,
          16909,
          540,
          6280,
          0,
          128,
          48,
          0,
          0,
          1,
          180,
          0,
          0,
          0,
          0,
          0,
          0,
          0,
          0,
          0,
          0,
          0
         ],
         "yaxis": "y9"
        },
        {
         "marker": {
          "color": "#9b59b6"
         },
         "mode": "markers",
         "name": "open-mixtral-8x7b",
         "showlegend": false,
         "type": "scatter",
         "x": [
          "!",
          "\"",
          "#",
          "$",
          "%",
          "&",
          "'",
          "(",
          ")",
          "*",
          "+",
          ",",
          "-",
          ".",
          "/",
          ":",
          ";",
          "<",
          "=",
          ">",
          "?",
          "@",
          "[",
          "\\",
          "]",
          "^",
          "_",
          "`",
          "{",
          "|",
          "}",
          "~"
         ],
         "xaxis": "x10",
         "y": [
          224,
          2039,
          0,
          0,
          1,
          0,
          1289,
          94,
          94,
          20,
          0,
          16390,
          839,
          7438,
          1,
          198,
          53,
          0,
          0,
          0,
          425,
          0,
          3,
          0,
          3,
          0,
          0,
          0,
          0,
          0,
          0,
          0
         ],
         "yaxis": "y10"
        },
        {
         "marker": {
          "color": "#e67e22"
         },
         "mode": "markers",
         "name": "claude-3-haiku-20240307",
         "showlegend": true,
         "type": "scatter",
         "x": [
          "!",
          "\"",
          "#",
          "$",
          "%",
          "&",
          "'",
          "(",
          ")",
          "*",
          "+",
          ",",
          "-",
          ".",
          "/",
          ":",
          ";",
          "<",
          "=",
          ">",
          "?",
          "@",
          "[",
          "\\",
          "]",
          "^",
          "_",
          "`",
          "{",
          "|",
          "}",
          "~"
         ],
         "xaxis": "x",
         "y": [
          444,
          2137,
          0,
          0,
          0,
          1,
          5993,
          30,
          30,
          16,
          0,
          15426,
          1383,
          6977,
          0,
          82,
          8,
          0,
          0,
          0,
          881,
          0,
          0,
          0,
          0,
          0,
          16,
          0,
          0,
          0,
          0,
          0
         ],
         "yaxis": "y"
        },
        {
         "marker": {
          "color": "#e67e22"
         },
         "mode": "markers",
         "name": "claude-3-haiku-20240307",
         "showlegend": false,
         "type": "scatter",
         "x": [
          "!",
          "\"",
          "#",
          "$",
          "%",
          "&",
          "'",
          "(",
          ")",
          "*",
          "+",
          ",",
          "-",
          ".",
          "/",
          ":",
          ";",
          "<",
          "=",
          ">",
          "?",
          "@",
          "[",
          "\\",
          "]",
          "^",
          "_",
          "`",
          "{",
          "|",
          "}",
          "~"
         ],
         "xaxis": "x2",
         "y": [
          189,
          1936,
          0,
          0,
          0,
          0,
          2495,
          1,
          1,
          4,
          0,
          14668,
          978,
          7383,
          0,
          117,
          10,
          0,
          0,
          0,
          404,
          0,
          1,
          0,
          1,
          0,
          0,
          0,
          0,
          0,
          0,
          0
         ],
         "yaxis": "y2"
        },
        {
         "marker": {
          "color": "#e67e22"
         },
         "mode": "markers",
         "name": "claude-3-haiku-20240307",
         "showlegend": false,
         "type": "scatter",
         "x": [
          "!",
          "\"",
          "#",
          "$",
          "%",
          "&",
          "'",
          "(",
          ")",
          "*",
          "+",
          ",",
          "-",
          ".",
          "/",
          ":",
          ";",
          "<",
          "=",
          ">",
          "?",
          "@",
          "[",
          "\\",
          "]",
          "^",
          "_",
          "`",
          "{",
          "|",
          "}",
          "~"
         ],
         "xaxis": "x3",
         "y": [
          47,
          818,
          0,
          0,
          0,
          0,
          772,
          3,
          3,
          2,
          0,
          15736,
          735,
          6128,
          0,
          49,
          31,
          0,
          0,
          0,
          357,
          0,
          4,
          0,
          4,
          0,
          2,
          0,
          0,
          0,
          0,
          0
         ],
         "yaxis": "y3"
        },
        {
         "marker": {
          "color": "#e67e22"
         },
         "mode": "markers",
         "name": "claude-3-haiku-20240307",
         "showlegend": false,
         "type": "scatter",
         "x": [
          "!",
          "\"",
          "#",
          "$",
          "%",
          "&",
          "'",
          "(",
          ")",
          "*",
          "+",
          ",",
          "-",
          ".",
          "/",
          ":",
          ";",
          "<",
          "=",
          ">",
          "?",
          "@",
          "[",
          "\\",
          "]",
          "^",
          "_",
          "`",
          "{",
          "|",
          "}",
          "~"
         ],
         "xaxis": "x4",
         "y": [
          148,
          620,
          0,
          0,
          0,
          0,
          612,
          8,
          8,
          4,
          0,
          15526,
          845,
          5950,
          0,
          25,
          21,
          0,
          0,
          0,
          458,
          0,
          0,
          0,
          0,
          0,
          0,
          0,
          0,
          0,
          0,
          0
         ],
         "yaxis": "y4"
        },
        {
         "marker": {
          "color": "#e67e22"
         },
         "mode": "markers",
         "name": "claude-3-haiku-20240307",
         "showlegend": false,
         "type": "scatter",
         "x": [
          "!",
          "\"",
          "#",
          "$",
          "%",
          "&",
          "'",
          "(",
          ")",
          "*",
          "+",
          ",",
          "-",
          ".",
          "/",
          ":",
          ";",
          "<",
          "=",
          ">",
          "?",
          "@",
          "[",
          "\\",
          "]",
          "^",
          "_",
          "`",
          "{",
          "|",
          "}",
          "~"
         ],
         "xaxis": "x5",
         "y": [
          97,
          1196,
          0,
          0,
          0,
          0,
          894,
          6,
          6,
          0,
          0,
          14998,
          881,
          6076,
          0,
          71,
          28,
          0,
          0,
          0,
          398,
          0,
          0,
          0,
          0,
          0,
          0,
          0,
          0,
          0,
          0,
          0
         ],
         "yaxis": "y5"
        },
        {
         "marker": {
          "color": "#e67e22"
         },
         "mode": "markers",
         "name": "claude-3-haiku-20240307",
         "showlegend": false,
         "type": "scatter",
         "x": [
          "!",
          "\"",
          "#",
          "$",
          "%",
          "&",
          "'",
          "(",
          ")",
          "*",
          "+",
          ",",
          "-",
          ".",
          "/",
          ":",
          ";",
          "<",
          "=",
          ">",
          "?",
          "@",
          "[",
          "\\",
          "]",
          "^",
          "_",
          "`",
          "{",
          "|",
          "}",
          "~"
         ],
         "xaxis": "x6",
         "y": [
          115,
          925,
          0,
          0,
          0,
          0,
          765,
          2,
          2,
          6,
          0,
          15137,
          955,
          6112,
          1,
          78,
          19,
          0,
          0,
          0,
          334,
          0,
          0,
          0,
          0,
          0,
          0,
          0,
          0,
          0,
          0,
          0
         ],
         "yaxis": "y6"
        },
        {
         "marker": {
          "color": "#e67e22"
         },
         "mode": "markers",
         "name": "claude-3-haiku-20240307",
         "showlegend": false,
         "type": "scatter",
         "x": [
          "!",
          "\"",
          "#",
          "$",
          "%",
          "&",
          "'",
          "(",
          ")",
          "*",
          "+",
          ",",
          "-",
          ".",
          "/",
          ":",
          ";",
          "<",
          "=",
          ">",
          "?",
          "@",
          "[",
          "\\",
          "]",
          "^",
          "_",
          "`",
          "{",
          "|",
          "}",
          "~"
         ],
         "xaxis": "x7",
         "y": [
          370,
          1774,
          0,
          0,
          0,
          0,
          1341,
          6,
          6,
          2,
          0,
          14817,
          1053,
          7157,
          1,
          94,
          20,
          2,
          0,
          2,
          488,
          0,
          0,
          0,
          0,
          0,
          46,
          0,
          0,
          0,
          0,
          0
         ],
         "yaxis": "y7"
        },
        {
         "marker": {
          "color": "#e67e22"
         },
         "mode": "markers",
         "name": "claude-3-haiku-20240307",
         "showlegend": false,
         "type": "scatter",
         "x": [
          "!",
          "\"",
          "#",
          "$",
          "%",
          "&",
          "'",
          "(",
          ")",
          "*",
          "+",
          ",",
          "-",
          ".",
          "/",
          ":",
          ";",
          "<",
          "=",
          ">",
          "?",
          "@",
          "[",
          "\\",
          "]",
          "^",
          "_",
          "`",
          "{",
          "|",
          "}",
          "~"
         ],
         "xaxis": "x8",
         "y": [
          230,
          1430,
          0,
          0,
          0,
          1,
          992,
          3,
          3,
          6,
          0,
          15120,
          847,
          6621,
          0,
          54,
          28,
          0,
          0,
          0,
          451,
          0,
          1,
          0,
          1,
          0,
          0,
          0,
          0,
          0,
          0,
          0
         ],
         "yaxis": "y8"
        },
        {
         "marker": {
          "color": "#e67e22"
         },
         "mode": "markers",
         "name": "claude-3-haiku-20240307",
         "showlegend": false,
         "type": "scatter",
         "x": [
          "!",
          "\"",
          "#",
          "$",
          "%",
          "&",
          "'",
          "(",
          ")",
          "*",
          "+",
          ",",
          "-",
          ".",
          "/",
          ":",
          ";",
          "<",
          "=",
          ">",
          "?",
          "@",
          "[",
          "\\",
          "]",
          "^",
          "_",
          "`",
          "{",
          "|",
          "}",
          "~"
         ],
         "xaxis": "x9",
         "y": [
          106,
          757,
          0,
          0,
          0,
          0,
          789,
          1,
          1,
          4,
          0,
          16542,
          817,
          6202,
          1,
          85,
          23,
          0,
          0,
          0,
          575,
          0,
          1,
          0,
          1,
          0,
          2,
          0,
          0,
          0,
          0,
          0
         ],
         "yaxis": "y9"
        },
        {
         "marker": {
          "color": "#e67e22"
         },
         "mode": "markers",
         "name": "claude-3-haiku-20240307",
         "showlegend": false,
         "type": "scatter",
         "x": [
          "!",
          "\"",
          "#",
          "$",
          "%",
          "&",
          "'",
          "(",
          ")",
          "*",
          "+",
          ",",
          "-",
          ".",
          "/",
          ":",
          ";",
          "<",
          "=",
          ">",
          "?",
          "@",
          "[",
          "\\",
          "]",
          "^",
          "_",
          "`",
          "{",
          "|",
          "}",
          "~"
         ],
         "xaxis": "x10",
         "y": [
          402,
          1617,
          0,
          0,
          0,
          0,
          913,
          16,
          16,
          18,
          0,
          16677,
          919,
          6084,
          1,
          48,
          30,
          0,
          0,
          0,
          542,
          0,
          0,
          0,
          0,
          0,
          26,
          0,
          0,
          0,
          0,
          0
         ],
         "yaxis": "y10"
        }
       ],
       "layout": {
        "annotations": [
         {
          "font": {
           "size": 16
          },
          "showarrow": false,
          "text": "Mark Twain",
          "x": 0.14444444444444446,
          "xanchor": "center",
          "xref": "paper",
          "y": 1,
          "yanchor": "bottom",
          "yref": "paper"
         },
         {
          "font": {
           "size": 16
          },
          "showarrow": false,
          "text": "Zane Grey",
          "x": 0.5,
          "xanchor": "center",
          "xref": "paper",
          "y": 1,
          "yanchor": "bottom",
          "yref": "paper"
         },
         {
          "font": {
           "size": 16
          },
          "showarrow": false,
          "text": "Joseph Conrad",
          "x": 0.8555555555555556,
          "xanchor": "center",
          "xref": "paper",
          "y": 1,
          "yanchor": "bottom",
          "yref": "paper"
         },
         {
          "font": {
           "size": 16
          },
          "showarrow": false,
          "text": "Benjamin Disraeli",
          "x": 0.14444444444444446,
          "xanchor": "center",
          "xref": "paper",
          "y": 0.71875,
          "yanchor": "bottom",
          "yref": "paper"
         },
         {
          "font": {
           "size": 16
          },
          "showarrow": false,
          "text": "George Eliot",
          "x": 0.5,
          "xanchor": "center",
          "xref": "paper",
          "y": 0.71875,
          "yanchor": "bottom",
          "yref": "paper"
         },
         {
          "font": {
           "size": 16
          },
          "showarrow": false,
          "text": "William Henry Hudson",
          "x": 0.8555555555555556,
          "xanchor": "center",
          "xref": "paper",
          "y": 0.71875,
          "yanchor": "bottom",
          "yref": "paper"
         },
         {
          "font": {
           "size": 16
          },
          "showarrow": false,
          "text": "Lucy Maud Montgomery",
          "x": 0.14444444444444446,
          "xanchor": "center",
          "xref": "paper",
          "y": 0.4375,
          "yanchor": "bottom",
          "yref": "paper"
         },
         {
          "font": {
           "size": 16
          },
          "showarrow": false,
          "text": "Howard Pyle",
          "x": 0.5,
          "xanchor": "center",
          "xref": "paper",
          "y": 0.4375,
          "yanchor": "bottom",
          "yref": "paper"
         },
         {
          "font": {
           "size": 16
          },
          "showarrow": false,
          "text": "Virginia Woolf",
          "x": 0.8555555555555556,
          "xanchor": "center",
          "xref": "paper",
          "y": 0.4375,
          "yanchor": "bottom",
          "yref": "paper"
         },
         {
          "font": {
           "size": 16
          },
          "showarrow": false,
          "text": "Lewis Carroll",
          "x": 0.14444444444444446,
          "xanchor": "center",
          "xref": "paper",
          "y": 0.15625,
          "yanchor": "bottom",
          "yref": "paper"
         }
        ],
        "height": 1500,
        "template": {
         "data": {
          "bar": [
           {
            "error_x": {
             "color": "#2a3f5f"
            },
            "error_y": {
             "color": "#2a3f5f"
            },
            "marker": {
             "line": {
              "color": "#E5ECF6",
              "width": 0.5
             },
             "pattern": {
              "fillmode": "overlay",
              "size": 10,
              "solidity": 0.2
             }
            },
            "type": "bar"
           }
          ],
          "barpolar": [
           {
            "marker": {
             "line": {
              "color": "#E5ECF6",
              "width": 0.5
             },
             "pattern": {
              "fillmode": "overlay",
              "size": 10,
              "solidity": 0.2
             }
            },
            "type": "barpolar"
           }
          ],
          "carpet": [
           {
            "aaxis": {
             "endlinecolor": "#2a3f5f",
             "gridcolor": "white",
             "linecolor": "white",
             "minorgridcolor": "white",
             "startlinecolor": "#2a3f5f"
            },
            "baxis": {
             "endlinecolor": "#2a3f5f",
             "gridcolor": "white",
             "linecolor": "white",
             "minorgridcolor": "white",
             "startlinecolor": "#2a3f5f"
            },
            "type": "carpet"
           }
          ],
          "choropleth": [
           {
            "colorbar": {
             "outlinewidth": 0,
             "ticks": ""
            },
            "type": "choropleth"
           }
          ],
          "contour": [
           {
            "colorbar": {
             "outlinewidth": 0,
             "ticks": ""
            },
            "colorscale": [
             [
              0,
              "#0d0887"
             ],
             [
              0.1111111111111111,
              "#46039f"
             ],
             [
              0.2222222222222222,
              "#7201a8"
             ],
             [
              0.3333333333333333,
              "#9c179e"
             ],
             [
              0.4444444444444444,
              "#bd3786"
             ],
             [
              0.5555555555555556,
              "#d8576b"
             ],
             [
              0.6666666666666666,
              "#ed7953"
             ],
             [
              0.7777777777777778,
              "#fb9f3a"
             ],
             [
              0.8888888888888888,
              "#fdca26"
             ],
             [
              1,
              "#f0f921"
             ]
            ],
            "type": "contour"
           }
          ],
          "contourcarpet": [
           {
            "colorbar": {
             "outlinewidth": 0,
             "ticks": ""
            },
            "type": "contourcarpet"
           }
          ],
          "heatmap": [
           {
            "colorbar": {
             "outlinewidth": 0,
             "ticks": ""
            },
            "colorscale": [
             [
              0,
              "#0d0887"
             ],
             [
              0.1111111111111111,
              "#46039f"
             ],
             [
              0.2222222222222222,
              "#7201a8"
             ],
             [
              0.3333333333333333,
              "#9c179e"
             ],
             [
              0.4444444444444444,
              "#bd3786"
             ],
             [
              0.5555555555555556,
              "#d8576b"
             ],
             [
              0.6666666666666666,
              "#ed7953"
             ],
             [
              0.7777777777777778,
              "#fb9f3a"
             ],
             [
              0.8888888888888888,
              "#fdca26"
             ],
             [
              1,
              "#f0f921"
             ]
            ],
            "type": "heatmap"
           }
          ],
          "heatmapgl": [
           {
            "colorbar": {
             "outlinewidth": 0,
             "ticks": ""
            },
            "colorscale": [
             [
              0,
              "#0d0887"
             ],
             [
              0.1111111111111111,
              "#46039f"
             ],
             [
              0.2222222222222222,
              "#7201a8"
             ],
             [
              0.3333333333333333,
              "#9c179e"
             ],
             [
              0.4444444444444444,
              "#bd3786"
             ],
             [
              0.5555555555555556,
              "#d8576b"
             ],
             [
              0.6666666666666666,
              "#ed7953"
             ],
             [
              0.7777777777777778,
              "#fb9f3a"
             ],
             [
              0.8888888888888888,
              "#fdca26"
             ],
             [
              1,
              "#f0f921"
             ]
            ],
            "type": "heatmapgl"
           }
          ],
          "histogram": [
           {
            "marker": {
             "pattern": {
              "fillmode": "overlay",
              "size": 10,
              "solidity": 0.2
             }
            },
            "type": "histogram"
           }
          ],
          "histogram2d": [
           {
            "colorbar": {
             "outlinewidth": 0,
             "ticks": ""
            },
            "colorscale": [
             [
              0,
              "#0d0887"
             ],
             [
              0.1111111111111111,
              "#46039f"
             ],
             [
              0.2222222222222222,
              "#7201a8"
             ],
             [
              0.3333333333333333,
              "#9c179e"
             ],
             [
              0.4444444444444444,
              "#bd3786"
             ],
             [
              0.5555555555555556,
              "#d8576b"
             ],
             [
              0.6666666666666666,
              "#ed7953"
             ],
             [
              0.7777777777777778,
              "#fb9f3a"
             ],
             [
              0.8888888888888888,
              "#fdca26"
             ],
             [
              1,
              "#f0f921"
             ]
            ],
            "type": "histogram2d"
           }
          ],
          "histogram2dcontour": [
           {
            "colorbar": {
             "outlinewidth": 0,
             "ticks": ""
            },
            "colorscale": [
             [
              0,
              "#0d0887"
             ],
             [
              0.1111111111111111,
              "#46039f"
             ],
             [
              0.2222222222222222,
              "#7201a8"
             ],
             [
              0.3333333333333333,
              "#9c179e"
             ],
             [
              0.4444444444444444,
              "#bd3786"
             ],
             [
              0.5555555555555556,
              "#d8576b"
             ],
             [
              0.6666666666666666,
              "#ed7953"
             ],
             [
              0.7777777777777778,
              "#fb9f3a"
             ],
             [
              0.8888888888888888,
              "#fdca26"
             ],
             [
              1,
              "#f0f921"
             ]
            ],
            "type": "histogram2dcontour"
           }
          ],
          "mesh3d": [
           {
            "colorbar": {
             "outlinewidth": 0,
             "ticks": ""
            },
            "type": "mesh3d"
           }
          ],
          "parcoords": [
           {
            "line": {
             "colorbar": {
              "outlinewidth": 0,
              "ticks": ""
             }
            },
            "type": "parcoords"
           }
          ],
          "pie": [
           {
            "automargin": true,
            "type": "pie"
           }
          ],
          "scatter": [
           {
            "fillpattern": {
             "fillmode": "overlay",
             "size": 10,
             "solidity": 0.2
            },
            "type": "scatter"
           }
          ],
          "scatter3d": [
           {
            "line": {
             "colorbar": {
              "outlinewidth": 0,
              "ticks": ""
             }
            },
            "marker": {
             "colorbar": {
              "outlinewidth": 0,
              "ticks": ""
             }
            },
            "type": "scatter3d"
           }
          ],
          "scattercarpet": [
           {
            "marker": {
             "colorbar": {
              "outlinewidth": 0,
              "ticks": ""
             }
            },
            "type": "scattercarpet"
           }
          ],
          "scattergeo": [
           {
            "marker": {
             "colorbar": {
              "outlinewidth": 0,
              "ticks": ""
             }
            },
            "type": "scattergeo"
           }
          ],
          "scattergl": [
           {
            "marker": {
             "colorbar": {
              "outlinewidth": 0,
              "ticks": ""
             }
            },
            "type": "scattergl"
           }
          ],
          "scattermapbox": [
           {
            "marker": {
             "colorbar": {
              "outlinewidth": 0,
              "ticks": ""
             }
            },
            "type": "scattermapbox"
           }
          ],
          "scatterpolar": [
           {
            "marker": {
             "colorbar": {
              "outlinewidth": 0,
              "ticks": ""
             }
            },
            "type": "scatterpolar"
           }
          ],
          "scatterpolargl": [
           {
            "marker": {
             "colorbar": {
              "outlinewidth": 0,
              "ticks": ""
             }
            },
            "type": "scatterpolargl"
           }
          ],
          "scatterternary": [
           {
            "marker": {
             "colorbar": {
              "outlinewidth": 0,
              "ticks": ""
             }
            },
            "type": "scatterternary"
           }
          ],
          "surface": [
           {
            "colorbar": {
             "outlinewidth": 0,
             "ticks": ""
            },
            "colorscale": [
             [
              0,
              "#0d0887"
             ],
             [
              0.1111111111111111,
              "#46039f"
             ],
             [
              0.2222222222222222,
              "#7201a8"
             ],
             [
              0.3333333333333333,
              "#9c179e"
             ],
             [
              0.4444444444444444,
              "#bd3786"
             ],
             [
              0.5555555555555556,
              "#d8576b"
             ],
             [
              0.6666666666666666,
              "#ed7953"
             ],
             [
              0.7777777777777778,
              "#fb9f3a"
             ],
             [
              0.8888888888888888,
              "#fdca26"
             ],
             [
              1,
              "#f0f921"
             ]
            ],
            "type": "surface"
           }
          ],
          "table": [
           {
            "cells": {
             "fill": {
              "color": "#EBF0F8"
             },
             "line": {
              "color": "white"
             }
            },
            "header": {
             "fill": {
              "color": "#C8D4E3"
             },
             "line": {
              "color": "white"
             }
            },
            "type": "table"
           }
          ]
         },
         "layout": {
          "annotationdefaults": {
           "arrowcolor": "#2a3f5f",
           "arrowhead": 0,
           "arrowwidth": 1
          },
          "autotypenumbers": "strict",
          "coloraxis": {
           "colorbar": {
            "outlinewidth": 0,
            "ticks": ""
           }
          },
          "colorscale": {
           "diverging": [
            [
             0,
             "#8e0152"
            ],
            [
             0.1,
             "#c51b7d"
            ],
            [
             0.2,
             "#de77ae"
            ],
            [
             0.3,
             "#f1b6da"
            ],
            [
             0.4,
             "#fde0ef"
            ],
            [
             0.5,
             "#f7f7f7"
            ],
            [
             0.6,
             "#e6f5d0"
            ],
            [
             0.7,
             "#b8e186"
            ],
            [
             0.8,
             "#7fbc41"
            ],
            [
             0.9,
             "#4d9221"
            ],
            [
             1,
             "#276419"
            ]
           ],
           "sequential": [
            [
             0,
             "#0d0887"
            ],
            [
             0.1111111111111111,
             "#46039f"
            ],
            [
             0.2222222222222222,
             "#7201a8"
            ],
            [
             0.3333333333333333,
             "#9c179e"
            ],
            [
             0.4444444444444444,
             "#bd3786"
            ],
            [
             0.5555555555555556,
             "#d8576b"
            ],
            [
             0.6666666666666666,
             "#ed7953"
            ],
            [
             0.7777777777777778,
             "#fb9f3a"
            ],
            [
             0.8888888888888888,
             "#fdca26"
            ],
            [
             1,
             "#f0f921"
            ]
           ],
           "sequentialminus": [
            [
             0,
             "#0d0887"
            ],
            [
             0.1111111111111111,
             "#46039f"
            ],
            [
             0.2222222222222222,
             "#7201a8"
            ],
            [
             0.3333333333333333,
             "#9c179e"
            ],
            [
             0.4444444444444444,
             "#bd3786"
            ],
            [
             0.5555555555555556,
             "#d8576b"
            ],
            [
             0.6666666666666666,
             "#ed7953"
            ],
            [
             0.7777777777777778,
             "#fb9f3a"
            ],
            [
             0.8888888888888888,
             "#fdca26"
            ],
            [
             1,
             "#f0f921"
            ]
           ]
          },
          "colorway": [
           "#636efa",
           "#EF553B",
           "#00cc96",
           "#ab63fa",
           "#FFA15A",
           "#19d3f3",
           "#FF6692",
           "#B6E880",
           "#FF97FF",
           "#FECB52"
          ],
          "font": {
           "color": "#2a3f5f"
          },
          "geo": {
           "bgcolor": "white",
           "lakecolor": "white",
           "landcolor": "#E5ECF6",
           "showlakes": true,
           "showland": true,
           "subunitcolor": "white"
          },
          "hoverlabel": {
           "align": "left"
          },
          "hovermode": "closest",
          "mapbox": {
           "style": "light"
          },
          "paper_bgcolor": "white",
          "plot_bgcolor": "#E5ECF6",
          "polar": {
           "angularaxis": {
            "gridcolor": "white",
            "linecolor": "white",
            "ticks": ""
           },
           "bgcolor": "#E5ECF6",
           "radialaxis": {
            "gridcolor": "white",
            "linecolor": "white",
            "ticks": ""
           }
          },
          "scene": {
           "xaxis": {
            "backgroundcolor": "#E5ECF6",
            "gridcolor": "white",
            "gridwidth": 2,
            "linecolor": "white",
            "showbackground": true,
            "ticks": "",
            "zerolinecolor": "white"
           },
           "yaxis": {
            "backgroundcolor": "#E5ECF6",
            "gridcolor": "white",
            "gridwidth": 2,
            "linecolor": "white",
            "showbackground": true,
            "ticks": "",
            "zerolinecolor": "white"
           },
           "zaxis": {
            "backgroundcolor": "#E5ECF6",
            "gridcolor": "white",
            "gridwidth": 2,
            "linecolor": "white",
            "showbackground": true,
            "ticks": "",
            "zerolinecolor": "white"
           }
          },
          "shapedefaults": {
           "line": {
            "color": "#2a3f5f"
           }
          },
          "ternary": {
           "aaxis": {
            "gridcolor": "white",
            "linecolor": "white",
            "ticks": ""
           },
           "baxis": {
            "gridcolor": "white",
            "linecolor": "white",
            "ticks": ""
           },
           "bgcolor": "#E5ECF6",
           "caxis": {
            "gridcolor": "white",
            "linecolor": "white",
            "ticks": ""
           }
          },
          "title": {
           "x": 0.05
          },
          "xaxis": {
           "automargin": true,
           "gridcolor": "white",
           "linecolor": "white",
           "ticks": "",
           "title": {
            "standoff": 15
           },
           "zerolinecolor": "white",
           "zerolinewidth": 2
          },
          "yaxis": {
           "automargin": true,
           "gridcolor": "white",
           "linecolor": "white",
           "ticks": "",
           "title": {
            "standoff": 15
           },
           "zerolinecolor": "white",
           "zerolinewidth": 2
          }
         }
        },
        "title": {
         "text": "Punctuation frequency",
         "x": 0.5
        },
        "xaxis": {
         "anchor": "y",
         "domain": [
          0,
          0.2888888888888889
         ]
        },
        "xaxis10": {
         "anchor": "y10",
         "domain": [
          0,
          0.2888888888888889
         ]
        },
        "xaxis11": {
         "anchor": "y11",
         "domain": [
          0.35555555555555557,
          0.6444444444444445
         ]
        },
        "xaxis12": {
         "anchor": "y12",
         "domain": [
          0.7111111111111111,
          1
         ]
        },
        "xaxis2": {
         "anchor": "y2",
         "domain": [
          0.35555555555555557,
          0.6444444444444445
         ]
        },
        "xaxis3": {
         "anchor": "y3",
         "domain": [
          0.7111111111111111,
          1
         ]
        },
        "xaxis4": {
         "anchor": "y4",
         "domain": [
          0,
          0.2888888888888889
         ]
        },
        "xaxis5": {
         "anchor": "y5",
         "domain": [
          0.35555555555555557,
          0.6444444444444445
         ]
        },
        "xaxis6": {
         "anchor": "y6",
         "domain": [
          0.7111111111111111,
          1
         ]
        },
        "xaxis7": {
         "anchor": "y7",
         "domain": [
          0,
          0.2888888888888889
         ]
        },
        "xaxis8": {
         "anchor": "y8",
         "domain": [
          0.35555555555555557,
          0.6444444444444445
         ]
        },
        "xaxis9": {
         "anchor": "y9",
         "domain": [
          0.7111111111111111,
          1
         ]
        },
        "yaxis": {
         "anchor": "x",
         "domain": [
          0.84375,
          1
         ]
        },
        "yaxis10": {
         "anchor": "x10",
         "domain": [
          0,
          0.15625
         ]
        },
        "yaxis11": {
         "anchor": "x11",
         "domain": [
          0,
          0.15625
         ]
        },
        "yaxis12": {
         "anchor": "x12",
         "domain": [
          0,
          0.15625
         ]
        },
        "yaxis2": {
         "anchor": "x2",
         "domain": [
          0.84375,
          1
         ]
        },
        "yaxis3": {
         "anchor": "x3",
         "domain": [
          0.84375,
          1
         ]
        },
        "yaxis4": {
         "anchor": "x4",
         "domain": [
          0.5625,
          0.71875
         ]
        },
        "yaxis5": {
         "anchor": "x5",
         "domain": [
          0.5625,
          0.71875
         ]
        },
        "yaxis6": {
         "anchor": "x6",
         "domain": [
          0.5625,
          0.71875
         ]
        },
        "yaxis7": {
         "anchor": "x7",
         "domain": [
          0.28125,
          0.4375
         ]
        },
        "yaxis8": {
         "anchor": "x8",
         "domain": [
          0.28125,
          0.4375
         ]
        },
        "yaxis9": {
         "anchor": "x9",
         "domain": [
          0.28125,
          0.4375
         ]
        }
       }
      }
     },
     "metadata": {},
     "output_type": "display_data"
    },
    {
     "data": {
      "application/vnd.plotly.v1+json": {
       "config": {
        "plotlyServerURL": "https://plot.ly"
       },
       "data": [
        {
         "hoverinfo": "text",
         "marker": {
          "color": "#3498db"
         },
         "mode": "markers",
         "name": "books",
         "text": [
          "Mark Twain",
          "Zane Grey",
          "Joseph Conrad",
          "Benjamin Disraeli",
          "George Eliot",
          "William Henry Hudson",
          "Lucy Maud Montgomery",
          "Howard Pyle",
          "Virginia Woolf",
          "Lewis Carroll"
         ],
         "type": "scatter",
         "x": [
          -11.312560805163638,
          -10.757028790326522,
          -8.740087493300743,
          -7.485470440552978,
          -6.694849225560832,
          -4.580940553426783,
          -9.180534470079639,
          -6.573841258813355,
          -7.812087497139811,
          -15.264249102067474
         ],
         "y": [
          3.8230600524894203,
          -0.5937411662104528,
          0.9489508368135958,
          1.0585578258385935,
          3.0576534257071972,
          4.611100410456243,
          -0.9812902038645849,
          1.1153760427945252,
          0.5305233125007724,
          -0.6332090048669538
         ]
        },
        {
         "hoverinfo": "text",
         "marker": {
          "color": "#e74c3c"
         },
         "mode": "markers",
         "name": "gpt-3.5-turbo-0125",
         "text": [
          "Mark Twain",
          "Zane Grey",
          "Joseph Conrad",
          "Benjamin Disraeli",
          "George Eliot",
          "William Henry Hudson",
          "Lucy Maud Montgomery",
          "Howard Pyle",
          "Virginia Woolf",
          "Lewis Carroll"
         ],
         "type": "scatter",
         "x": [
          -0.07093060562482152,
          2.1483148232731257,
          3.0547029686177303,
          2.560000603731083,
          2.984990316427913,
          3.288409965448884,
          1.7206900769625522,
          1.752009086548899,
          3.2464728407504277,
          1.9332146435096207
         ],
         "y": [
          0.4550038648773872,
          1.6818115616087232,
          1.9331651613540455,
          2.7391195714473127,
          2.55567068498618,
          2.716244215489953,
          1.935919023892989,
          1.8355387180275466,
          1.9960133993290068,
          1.8757557919475722
         ]
        },
        {
         "hoverinfo": "text",
         "marker": {
          "color": "#2ecc71"
         },
         "mode": "markers",
         "name": "gpt-4o",
         "text": [
          "Mark Twain",
          "Zane Grey",
          "Joseph Conrad",
          "Benjamin Disraeli",
          "George Eliot",
          "William Henry Hudson",
          "Lucy Maud Montgomery",
          "Howard Pyle",
          "Virginia Woolf",
          "Lewis Carroll"
         ],
         "type": "scatter",
         "x": [
          -2.5979733472462425,
          0.30026722057781907,
          1.7677921612672587,
          2.031076238723183,
          1.252312861181699,
          1.3707477845856066,
          0.3430194514601446,
          0.8397738982253188,
          1.4757210027440848,
          -0.5590334527346187
         ],
         "y": [
          -2.328475371317246,
          -2.1504202282408604,
          -2.036506536860817,
          -0.5815269058165119,
          -1.3010026698680461,
          -2.586519508142723,
          -1.897931674681954,
          -2.826698536390581,
          -2.0261399011148353,
          -2.040471105627297
         ]
        },
        {
         "hoverinfo": "text",
         "marker": {
          "color": "#f1c40f"
         },
         "mode": "markers",
         "name": "gemini-1.5-flash",
         "text": [
          "Mark Twain",
          "Zane Grey",
          "Joseph Conrad",
          "Benjamin Disraeli",
          "George Eliot",
          "William Henry Hudson",
          "Lucy Maud Montgomery",
          "Howard Pyle",
          "Virginia Woolf",
          "Lewis Carroll"
         ],
         "type": "scatter",
         "x": [
          -2.8573608349737514,
          0.4556796710577151,
          2.9691255338224147,
          3.0816883955022916,
          3.19309844680894,
          3.010717452844888,
          0.6621230560959858,
          1.1203824292328042,
          3.1296804107796112,
          0.2044567280032821
         ],
         "y": [
          -5.734891719053044,
          -4.601729058753328,
          -4.992400594790111,
          -3.232024331024432,
          -2.7053463608793926,
          -4.042910124888706,
          -5.073056541115431,
          -4.133658583553371,
          -5.0543569895115645,
          -5.58275382010706
         ]
        },
        {
         "hoverinfo": "text",
         "marker": {
          "color": "#9b59b6"
         },
         "mode": "markers",
         "name": "open-mixtral-8x7b",
         "text": [
          "Mark Twain",
          "Zane Grey",
          "Joseph Conrad",
          "Benjamin Disraeli",
          "George Eliot",
          "William Henry Hudson",
          "Lucy Maud Montgomery",
          "Howard Pyle",
          "Virginia Woolf",
          "Lewis Carroll"
         ],
         "type": "scatter",
         "x": [
          -1.2741760099042492,
          1.2112729453593305,
          4.047010299268627,
          2.8576653323395504,
          4.592783207524022,
          3.2755507504670254,
          1.7627596106893797,
          2.153889581314305,
          4.646204300127417,
          0.09541529460187012
         ],
         "y": [
          0.8113694672834296,
          1.53273510821254,
          2.300609832344972,
          2.999399823324275,
          3.4195063366508998,
          3.3755774219580466,
          1.2313910345852663,
          1.9287964270738633,
          2.5227129727688964,
          0.8974506342361133
         ]
        },
        {
         "hoverinfo": "text",
         "marker": {
          "color": "#e67e22"
         },
         "mode": "markers",
         "name": "claude-3-haiku-20240307",
         "text": [
          "Mark Twain",
          "Zane Grey",
          "Joseph Conrad",
          "Benjamin Disraeli",
          "George Eliot",
          "William Henry Hudson",
          "Lucy Maud Montgomery",
          "Howard Pyle",
          "Virginia Woolf",
          "Lewis Carroll"
         ],
         "type": "scatter",
         "x": [
          -3.488239278067812,
          0.2265668297133723,
          3.9693317989869725,
          4.290283054426048,
          4.098543204140267,
          4.047167952286772,
          0.10946589612806112,
          2.1342172905804713,
          3.730622155090713,
          2.1041455937557867
         ],
         "y": [
          -0.2974141836570168,
          0.13465063932992052,
          1.3960548855926818,
          1.607321290483045,
          2.218120521015148,
          2.1644242549949193,
          0.9813092925971352,
          1.1144720751023132,
          1.195665860709114,
          0.7334433425126596
         ]
        }
       ],
       "layout": {
        "legend": {
         "title": {
          "text": "Collection Name"
         }
        },
        "template": {
         "data": {
          "bar": [
           {
            "error_x": {
             "color": "#2a3f5f"
            },
            "error_y": {
             "color": "#2a3f5f"
            },
            "marker": {
             "line": {
              "color": "#E5ECF6",
              "width": 0.5
             },
             "pattern": {
              "fillmode": "overlay",
              "size": 10,
              "solidity": 0.2
             }
            },
            "type": "bar"
           }
          ],
          "barpolar": [
           {
            "marker": {
             "line": {
              "color": "#E5ECF6",
              "width": 0.5
             },
             "pattern": {
              "fillmode": "overlay",
              "size": 10,
              "solidity": 0.2
             }
            },
            "type": "barpolar"
           }
          ],
          "carpet": [
           {
            "aaxis": {
             "endlinecolor": "#2a3f5f",
             "gridcolor": "white",
             "linecolor": "white",
             "minorgridcolor": "white",
             "startlinecolor": "#2a3f5f"
            },
            "baxis": {
             "endlinecolor": "#2a3f5f",
             "gridcolor": "white",
             "linecolor": "white",
             "minorgridcolor": "white",
             "startlinecolor": "#2a3f5f"
            },
            "type": "carpet"
           }
          ],
          "choropleth": [
           {
            "colorbar": {
             "outlinewidth": 0,
             "ticks": ""
            },
            "type": "choropleth"
           }
          ],
          "contour": [
           {
            "colorbar": {
             "outlinewidth": 0,
             "ticks": ""
            },
            "colorscale": [
             [
              0,
              "#0d0887"
             ],
             [
              0.1111111111111111,
              "#46039f"
             ],
             [
              0.2222222222222222,
              "#7201a8"
             ],
             [
              0.3333333333333333,
              "#9c179e"
             ],
             [
              0.4444444444444444,
              "#bd3786"
             ],
             [
              0.5555555555555556,
              "#d8576b"
             ],
             [
              0.6666666666666666,
              "#ed7953"
             ],
             [
              0.7777777777777778,
              "#fb9f3a"
             ],
             [
              0.8888888888888888,
              "#fdca26"
             ],
             [
              1,
              "#f0f921"
             ]
            ],
            "type": "contour"
           }
          ],
          "contourcarpet": [
           {
            "colorbar": {
             "outlinewidth": 0,
             "ticks": ""
            },
            "type": "contourcarpet"
           }
          ],
          "heatmap": [
           {
            "colorbar": {
             "outlinewidth": 0,
             "ticks": ""
            },
            "colorscale": [
             [
              0,
              "#0d0887"
             ],
             [
              0.1111111111111111,
              "#46039f"
             ],
             [
              0.2222222222222222,
              "#7201a8"
             ],
             [
              0.3333333333333333,
              "#9c179e"
             ],
             [
              0.4444444444444444,
              "#bd3786"
             ],
             [
              0.5555555555555556,
              "#d8576b"
             ],
             [
              0.6666666666666666,
              "#ed7953"
             ],
             [
              0.7777777777777778,
              "#fb9f3a"
             ],
             [
              0.8888888888888888,
              "#fdca26"
             ],
             [
              1,
              "#f0f921"
             ]
            ],
            "type": "heatmap"
           }
          ],
          "heatmapgl": [
           {
            "colorbar": {
             "outlinewidth": 0,
             "ticks": ""
            },
            "colorscale": [
             [
              0,
              "#0d0887"
             ],
             [
              0.1111111111111111,
              "#46039f"
             ],
             [
              0.2222222222222222,
              "#7201a8"
             ],
             [
              0.3333333333333333,
              "#9c179e"
             ],
             [
              0.4444444444444444,
              "#bd3786"
             ],
             [
              0.5555555555555556,
              "#d8576b"
             ],
             [
              0.6666666666666666,
              "#ed7953"
             ],
             [
              0.7777777777777778,
              "#fb9f3a"
             ],
             [
              0.8888888888888888,
              "#fdca26"
             ],
             [
              1,
              "#f0f921"
             ]
            ],
            "type": "heatmapgl"
           }
          ],
          "histogram": [
           {
            "marker": {
             "pattern": {
              "fillmode": "overlay",
              "size": 10,
              "solidity": 0.2
             }
            },
            "type": "histogram"
           }
          ],
          "histogram2d": [
           {
            "colorbar": {
             "outlinewidth": 0,
             "ticks": ""
            },
            "colorscale": [
             [
              0,
              "#0d0887"
             ],
             [
              0.1111111111111111,
              "#46039f"
             ],
             [
              0.2222222222222222,
              "#7201a8"
             ],
             [
              0.3333333333333333,
              "#9c179e"
             ],
             [
              0.4444444444444444,
              "#bd3786"
             ],
             [
              0.5555555555555556,
              "#d8576b"
             ],
             [
              0.6666666666666666,
              "#ed7953"
             ],
             [
              0.7777777777777778,
              "#fb9f3a"
             ],
             [
              0.8888888888888888,
              "#fdca26"
             ],
             [
              1,
              "#f0f921"
             ]
            ],
            "type": "histogram2d"
           }
          ],
          "histogram2dcontour": [
           {
            "colorbar": {
             "outlinewidth": 0,
             "ticks": ""
            },
            "colorscale": [
             [
              0,
              "#0d0887"
             ],
             [
              0.1111111111111111,
              "#46039f"
             ],
             [
              0.2222222222222222,
              "#7201a8"
             ],
             [
              0.3333333333333333,
              "#9c179e"
             ],
             [
              0.4444444444444444,
              "#bd3786"
             ],
             [
              0.5555555555555556,
              "#d8576b"
             ],
             [
              0.6666666666666666,
              "#ed7953"
             ],
             [
              0.7777777777777778,
              "#fb9f3a"
             ],
             [
              0.8888888888888888,
              "#fdca26"
             ],
             [
              1,
              "#f0f921"
             ]
            ],
            "type": "histogram2dcontour"
           }
          ],
          "mesh3d": [
           {
            "colorbar": {
             "outlinewidth": 0,
             "ticks": ""
            },
            "type": "mesh3d"
           }
          ],
          "parcoords": [
           {
            "line": {
             "colorbar": {
              "outlinewidth": 0,
              "ticks": ""
             }
            },
            "type": "parcoords"
           }
          ],
          "pie": [
           {
            "automargin": true,
            "type": "pie"
           }
          ],
          "scatter": [
           {
            "fillpattern": {
             "fillmode": "overlay",
             "size": 10,
             "solidity": 0.2
            },
            "type": "scatter"
           }
          ],
          "scatter3d": [
           {
            "line": {
             "colorbar": {
              "outlinewidth": 0,
              "ticks": ""
             }
            },
            "marker": {
             "colorbar": {
              "outlinewidth": 0,
              "ticks": ""
             }
            },
            "type": "scatter3d"
           }
          ],
          "scattercarpet": [
           {
            "marker": {
             "colorbar": {
              "outlinewidth": 0,
              "ticks": ""
             }
            },
            "type": "scattercarpet"
           }
          ],
          "scattergeo": [
           {
            "marker": {
             "colorbar": {
              "outlinewidth": 0,
              "ticks": ""
             }
            },
            "type": "scattergeo"
           }
          ],
          "scattergl": [
           {
            "marker": {
             "colorbar": {
              "outlinewidth": 0,
              "ticks": ""
             }
            },
            "type": "scattergl"
           }
          ],
          "scattermapbox": [
           {
            "marker": {
             "colorbar": {
              "outlinewidth": 0,
              "ticks": ""
             }
            },
            "type": "scattermapbox"
           }
          ],
          "scatterpolar": [
           {
            "marker": {
             "colorbar": {
              "outlinewidth": 0,
              "ticks": ""
             }
            },
            "type": "scatterpolar"
           }
          ],
          "scatterpolargl": [
           {
            "marker": {
             "colorbar": {
              "outlinewidth": 0,
              "ticks": ""
             }
            },
            "type": "scatterpolargl"
           }
          ],
          "scatterternary": [
           {
            "marker": {
             "colorbar": {
              "outlinewidth": 0,
              "ticks": ""
             }
            },
            "type": "scatterternary"
           }
          ],
          "surface": [
           {
            "colorbar": {
             "outlinewidth": 0,
             "ticks": ""
            },
            "colorscale": [
             [
              0,
              "#0d0887"
             ],
             [
              0.1111111111111111,
              "#46039f"
             ],
             [
              0.2222222222222222,
              "#7201a8"
             ],
             [
              0.3333333333333333,
              "#9c179e"
             ],
             [
              0.4444444444444444,
              "#bd3786"
             ],
             [
              0.5555555555555556,
              "#d8576b"
             ],
             [
              0.6666666666666666,
              "#ed7953"
             ],
             [
              0.7777777777777778,
              "#fb9f3a"
             ],
             [
              0.8888888888888888,
              "#fdca26"
             ],
             [
              1,
              "#f0f921"
             ]
            ],
            "type": "surface"
           }
          ],
          "table": [
           {
            "cells": {
             "fill": {
              "color": "#EBF0F8"
             },
             "line": {
              "color": "white"
             }
            },
            "header": {
             "fill": {
              "color": "#C8D4E3"
             },
             "line": {
              "color": "white"
             }
            },
            "type": "table"
           }
          ]
         },
         "layout": {
          "annotationdefaults": {
           "arrowcolor": "#2a3f5f",
           "arrowhead": 0,
           "arrowwidth": 1
          },
          "autotypenumbers": "strict",
          "coloraxis": {
           "colorbar": {
            "outlinewidth": 0,
            "ticks": ""
           }
          },
          "colorscale": {
           "diverging": [
            [
             0,
             "#8e0152"
            ],
            [
             0.1,
             "#c51b7d"
            ],
            [
             0.2,
             "#de77ae"
            ],
            [
             0.3,
             "#f1b6da"
            ],
            [
             0.4,
             "#fde0ef"
            ],
            [
             0.5,
             "#f7f7f7"
            ],
            [
             0.6,
             "#e6f5d0"
            ],
            [
             0.7,
             "#b8e186"
            ],
            [
             0.8,
             "#7fbc41"
            ],
            [
             0.9,
             "#4d9221"
            ],
            [
             1,
             "#276419"
            ]
           ],
           "sequential": [
            [
             0,
             "#0d0887"
            ],
            [
             0.1111111111111111,
             "#46039f"
            ],
            [
             0.2222222222222222,
             "#7201a8"
            ],
            [
             0.3333333333333333,
             "#9c179e"
            ],
            [
             0.4444444444444444,
             "#bd3786"
            ],
            [
             0.5555555555555556,
             "#d8576b"
            ],
            [
             0.6666666666666666,
             "#ed7953"
            ],
            [
             0.7777777777777778,
             "#fb9f3a"
            ],
            [
             0.8888888888888888,
             "#fdca26"
            ],
            [
             1,
             "#f0f921"
            ]
           ],
           "sequentialminus": [
            [
             0,
             "#0d0887"
            ],
            [
             0.1111111111111111,
             "#46039f"
            ],
            [
             0.2222222222222222,
             "#7201a8"
            ],
            [
             0.3333333333333333,
             "#9c179e"
            ],
            [
             0.4444444444444444,
             "#bd3786"
            ],
            [
             0.5555555555555556,
             "#d8576b"
            ],
            [
             0.6666666666666666,
             "#ed7953"
            ],
            [
             0.7777777777777778,
             "#fb9f3a"
            ],
            [
             0.8888888888888888,
             "#fdca26"
            ],
            [
             1,
             "#f0f921"
            ]
           ]
          },
          "colorway": [
           "#636efa",
           "#EF553B",
           "#00cc96",
           "#ab63fa",
           "#FFA15A",
           "#19d3f3",
           "#FF6692",
           "#B6E880",
           "#FF97FF",
           "#FECB52"
          ],
          "font": {
           "color": "#2a3f5f"
          },
          "geo": {
           "bgcolor": "white",
           "lakecolor": "white",
           "landcolor": "#E5ECF6",
           "showlakes": true,
           "showland": true,
           "subunitcolor": "white"
          },
          "hoverlabel": {
           "align": "left"
          },
          "hovermode": "closest",
          "mapbox": {
           "style": "light"
          },
          "paper_bgcolor": "white",
          "plot_bgcolor": "#E5ECF6",
          "polar": {
           "angularaxis": {
            "gridcolor": "white",
            "linecolor": "white",
            "ticks": ""
           },
           "bgcolor": "#E5ECF6",
           "radialaxis": {
            "gridcolor": "white",
            "linecolor": "white",
            "ticks": ""
           }
          },
          "scene": {
           "xaxis": {
            "backgroundcolor": "#E5ECF6",
            "gridcolor": "white",
            "gridwidth": 2,
            "linecolor": "white",
            "showbackground": true,
            "ticks": "",
            "zerolinecolor": "white"
           },
           "yaxis": {
            "backgroundcolor": "#E5ECF6",
            "gridcolor": "white",
            "gridwidth": 2,
            "linecolor": "white",
            "showbackground": true,
            "ticks": "",
            "zerolinecolor": "white"
           },
           "zaxis": {
            "backgroundcolor": "#E5ECF6",
            "gridcolor": "white",
            "gridwidth": 2,
            "linecolor": "white",
            "showbackground": true,
            "ticks": "",
            "zerolinecolor": "white"
           }
          },
          "shapedefaults": {
           "line": {
            "color": "#2a3f5f"
           }
          },
          "ternary": {
           "aaxis": {
            "gridcolor": "white",
            "linecolor": "white",
            "ticks": ""
           },
           "baxis": {
            "gridcolor": "white",
            "linecolor": "white",
            "ticks": ""
           },
           "bgcolor": "#E5ECF6",
           "caxis": {
            "gridcolor": "white",
            "linecolor": "white",
            "ticks": ""
           }
          },
          "title": {
           "x": 0.05
          },
          "xaxis": {
           "automargin": true,
           "gridcolor": "white",
           "linecolor": "white",
           "ticks": "",
           "title": {
            "standoff": 15
           },
           "zerolinecolor": "white",
           "zerolinewidth": 2
          },
          "yaxis": {
           "automargin": true,
           "gridcolor": "white",
           "linecolor": "white",
           "ticks": "",
           "title": {
            "standoff": 15
           },
           "zerolinecolor": "white",
           "zerolinewidth": 2
          }
         }
        },
        "title": {
         "text": "PCA Analysis"
        },
        "xaxis": {
         "title": {
          "text": "PC1 [32.61%]"
         }
        },
        "yaxis": {
         "title": {
          "text": "PC2 [11.47%]"
         }
        }
       }
      }
     },
     "metadata": {},
     "output_type": "display_data"
    },
    {
     "data": {
      "application/vnd.plotly.v1+json": {
       "config": {
        "plotlyServerURL": "https://plot.ly"
       },
       "data": [
        {
         "hoverinfo": "text",
         "marker": {
          "color": "#3498db"
         },
         "mode": "markers",
         "name": "Mark Twain",
         "text": [
          "books",
          "gpt-3.5-turbo-0125",
          "gpt-4o",
          "gemini-1.5-flash",
          "open-mixtral-8x7b",
          "claude-3-haiku-20240307"
         ],
         "type": "scatter",
         "x": [
          -11.312560805163638,
          -0.07093060562482152,
          -2.5979733472462425,
          -2.8573608349737514,
          -1.2741760099042492,
          -3.488239278067812
         ],
         "y": [
          3.8230600524894203,
          0.4550038648773872,
          -2.328475371317246,
          -5.734891719053044,
          0.8113694672834296,
          -0.2974141836570168
         ]
        },
        {
         "hoverinfo": "text",
         "marker": {
          "color": "#e74c3c"
         },
         "mode": "markers",
         "name": "Zane Grey",
         "text": [
          "books",
          "gpt-3.5-turbo-0125",
          "gpt-4o",
          "gemini-1.5-flash",
          "open-mixtral-8x7b",
          "claude-3-haiku-20240307"
         ],
         "type": "scatter",
         "x": [
          -10.757028790326522,
          2.1483148232731257,
          0.30026722057781907,
          0.4556796710577151,
          1.2112729453593305,
          0.2265668297133723
         ],
         "y": [
          -0.5937411662104528,
          1.6818115616087232,
          -2.1504202282408604,
          -4.601729058753328,
          1.53273510821254,
          0.13465063932992052
         ]
        },
        {
         "hoverinfo": "text",
         "marker": {
          "color": "#2ecc71"
         },
         "mode": "markers",
         "name": "Joseph Conrad",
         "text": [
          "books",
          "gpt-3.5-turbo-0125",
          "gpt-4o",
          "gemini-1.5-flash",
          "open-mixtral-8x7b",
          "claude-3-haiku-20240307"
         ],
         "type": "scatter",
         "x": [
          -8.740087493300743,
          3.0547029686177303,
          1.7677921612672587,
          2.9691255338224147,
          4.047010299268627,
          3.9693317989869725
         ],
         "y": [
          0.9489508368135958,
          1.9331651613540455,
          -2.036506536860817,
          -4.992400594790111,
          2.300609832344972,
          1.3960548855926818
         ]
        },
        {
         "hoverinfo": "text",
         "marker": {
          "color": "#9b59b6"
         },
         "mode": "markers",
         "name": "Benjamin Disraeli",
         "text": [
          "books",
          "gpt-3.5-turbo-0125",
          "gpt-4o",
          "gemini-1.5-flash",
          "open-mixtral-8x7b",
          "claude-3-haiku-20240307"
         ],
         "type": "scatter",
         "x": [
          -7.485470440552978,
          2.560000603731083,
          2.031076238723183,
          3.0816883955022916,
          2.8576653323395504,
          4.290283054426048
         ],
         "y": [
          1.0585578258385935,
          2.7391195714473127,
          -0.5815269058165119,
          -3.232024331024432,
          2.999399823324275,
          1.607321290483045
         ]
        },
        {
         "hoverinfo": "text",
         "marker": {
          "color": "#f1c40f"
         },
         "mode": "markers",
         "name": "George Eliot",
         "text": [
          "books",
          "gpt-3.5-turbo-0125",
          "gpt-4o",
          "gemini-1.5-flash",
          "open-mixtral-8x7b",
          "claude-3-haiku-20240307"
         ],
         "type": "scatter",
         "x": [
          -6.694849225560832,
          2.984990316427913,
          1.252312861181699,
          3.19309844680894,
          4.592783207524022,
          4.098543204140267
         ],
         "y": [
          3.0576534257071972,
          2.55567068498618,
          -1.3010026698680461,
          -2.7053463608793926,
          3.4195063366508998,
          2.218120521015148
         ]
        },
        {
         "hoverinfo": "text",
         "marker": {
          "color": "#1abc9c"
         },
         "mode": "markers",
         "name": "William Henry Hudson",
         "text": [
          "books",
          "gpt-3.5-turbo-0125",
          "gpt-4o",
          "gemini-1.5-flash",
          "open-mixtral-8x7b",
          "claude-3-haiku-20240307"
         ],
         "type": "scatter",
         "x": [
          -4.580940553426783,
          3.288409965448884,
          1.3707477845856066,
          3.010717452844888,
          3.2755507504670254,
          4.047167952286772
         ],
         "y": [
          4.611100410456243,
          2.716244215489953,
          -2.586519508142723,
          -4.042910124888706,
          3.3755774219580466,
          2.1644242549949193
         ]
        },
        {
         "hoverinfo": "text",
         "marker": {
          "color": "#e67e22"
         },
         "mode": "markers",
         "name": "Lucy Maud Montgomery",
         "text": [
          "books",
          "gpt-3.5-turbo-0125",
          "gpt-4o",
          "gemini-1.5-flash",
          "open-mixtral-8x7b",
          "claude-3-haiku-20240307"
         ],
         "type": "scatter",
         "x": [
          -9.180534470079639,
          1.7206900769625522,
          0.3430194514601446,
          0.6621230560959858,
          1.7627596106893797,
          0.10946589612806112
         ],
         "y": [
          -0.9812902038645849,
          1.935919023892989,
          -1.897931674681954,
          -5.073056541115431,
          1.2313910345852663,
          0.9813092925971352
         ]
        },
        {
         "hoverinfo": "text",
         "marker": {
          "color": "#34495e"
         },
         "mode": "markers",
         "name": "Howard Pyle",
         "text": [
          "books",
          "gpt-3.5-turbo-0125",
          "gpt-4o",
          "gemini-1.5-flash",
          "open-mixtral-8x7b",
          "claude-3-haiku-20240307"
         ],
         "type": "scatter",
         "x": [
          -6.573841258813355,
          1.752009086548899,
          0.8397738982253188,
          1.1203824292328042,
          2.153889581314305,
          2.1342172905804713
         ],
         "y": [
          1.1153760427945252,
          1.8355387180275466,
          -2.826698536390581,
          -4.133658583553371,
          1.9287964270738633,
          1.1144720751023132
         ]
        },
        {
         "hoverinfo": "text",
         "marker": {
          "color": "#d35400"
         },
         "mode": "markers",
         "name": "Virginia Woolf",
         "text": [
          "books",
          "gpt-3.5-turbo-0125",
          "gpt-4o",
          "gemini-1.5-flash",
          "open-mixtral-8x7b",
          "claude-3-haiku-20240307"
         ],
         "type": "scatter",
         "x": [
          -7.812087497139811,
          3.2464728407504277,
          1.4757210027440848,
          3.1296804107796112,
          4.646204300127417,
          3.730622155090713
         ],
         "y": [
          0.5305233125007724,
          1.9960133993290068,
          -2.0261399011148353,
          -5.0543569895115645,
          2.5227129727688964,
          1.195665860709114
         ]
        },
        {
         "hoverinfo": "text",
         "marker": {
          "color": "#7f8c8d"
         },
         "mode": "markers",
         "name": "Lewis Carroll",
         "text": [
          "books",
          "gpt-3.5-turbo-0125",
          "gpt-4o",
          "gemini-1.5-flash",
          "open-mixtral-8x7b",
          "claude-3-haiku-20240307"
         ],
         "type": "scatter",
         "x": [
          -15.264249102067474,
          1.9332146435096207,
          -0.5590334527346187,
          0.2044567280032821,
          0.09541529460187012,
          2.1041455937557867
         ],
         "y": [
          -0.6332090048669538,
          1.8757557919475722,
          -2.040471105627297,
          -5.58275382010706,
          0.8974506342361133,
          0.7334433425126596
         ]
        }
       ],
       "layout": {
        "legend": {
         "title": {
          "text": "Author Name"
         }
        },
        "template": {
         "data": {
          "bar": [
           {
            "error_x": {
             "color": "#2a3f5f"
            },
            "error_y": {
             "color": "#2a3f5f"
            },
            "marker": {
             "line": {
              "color": "#E5ECF6",
              "width": 0.5
             },
             "pattern": {
              "fillmode": "overlay",
              "size": 10,
              "solidity": 0.2
             }
            },
            "type": "bar"
           }
          ],
          "barpolar": [
           {
            "marker": {
             "line": {
              "color": "#E5ECF6",
              "width": 0.5
             },
             "pattern": {
              "fillmode": "overlay",
              "size": 10,
              "solidity": 0.2
             }
            },
            "type": "barpolar"
           }
          ],
          "carpet": [
           {
            "aaxis": {
             "endlinecolor": "#2a3f5f",
             "gridcolor": "white",
             "linecolor": "white",
             "minorgridcolor": "white",
             "startlinecolor": "#2a3f5f"
            },
            "baxis": {
             "endlinecolor": "#2a3f5f",
             "gridcolor": "white",
             "linecolor": "white",
             "minorgridcolor": "white",
             "startlinecolor": "#2a3f5f"
            },
            "type": "carpet"
           }
          ],
          "choropleth": [
           {
            "colorbar": {
             "outlinewidth": 0,
             "ticks": ""
            },
            "type": "choropleth"
           }
          ],
          "contour": [
           {
            "colorbar": {
             "outlinewidth": 0,
             "ticks": ""
            },
            "colorscale": [
             [
              0,
              "#0d0887"
             ],
             [
              0.1111111111111111,
              "#46039f"
             ],
             [
              0.2222222222222222,
              "#7201a8"
             ],
             [
              0.3333333333333333,
              "#9c179e"
             ],
             [
              0.4444444444444444,
              "#bd3786"
             ],
             [
              0.5555555555555556,
              "#d8576b"
             ],
             [
              0.6666666666666666,
              "#ed7953"
             ],
             [
              0.7777777777777778,
              "#fb9f3a"
             ],
             [
              0.8888888888888888,
              "#fdca26"
             ],
             [
              1,
              "#f0f921"
             ]
            ],
            "type": "contour"
           }
          ],
          "contourcarpet": [
           {
            "colorbar": {
             "outlinewidth": 0,
             "ticks": ""
            },
            "type": "contourcarpet"
           }
          ],
          "heatmap": [
           {
            "colorbar": {
             "outlinewidth": 0,
             "ticks": ""
            },
            "colorscale": [
             [
              0,
              "#0d0887"
             ],
             [
              0.1111111111111111,
              "#46039f"
             ],
             [
              0.2222222222222222,
              "#7201a8"
             ],
             [
              0.3333333333333333,
              "#9c179e"
             ],
             [
              0.4444444444444444,
              "#bd3786"
             ],
             [
              0.5555555555555556,
              "#d8576b"
             ],
             [
              0.6666666666666666,
              "#ed7953"
             ],
             [
              0.7777777777777778,
              "#fb9f3a"
             ],
             [
              0.8888888888888888,
              "#fdca26"
             ],
             [
              1,
              "#f0f921"
             ]
            ],
            "type": "heatmap"
           }
          ],
          "heatmapgl": [
           {
            "colorbar": {
             "outlinewidth": 0,
             "ticks": ""
            },
            "colorscale": [
             [
              0,
              "#0d0887"
             ],
             [
              0.1111111111111111,
              "#46039f"
             ],
             [
              0.2222222222222222,
              "#7201a8"
             ],
             [
              0.3333333333333333,
              "#9c179e"
             ],
             [
              0.4444444444444444,
              "#bd3786"
             ],
             [
              0.5555555555555556,
              "#d8576b"
             ],
             [
              0.6666666666666666,
              "#ed7953"
             ],
             [
              0.7777777777777778,
              "#fb9f3a"
             ],
             [
              0.8888888888888888,
              "#fdca26"
             ],
             [
              1,
              "#f0f921"
             ]
            ],
            "type": "heatmapgl"
           }
          ],
          "histogram": [
           {
            "marker": {
             "pattern": {
              "fillmode": "overlay",
              "size": 10,
              "solidity": 0.2
             }
            },
            "type": "histogram"
           }
          ],
          "histogram2d": [
           {
            "colorbar": {
             "outlinewidth": 0,
             "ticks": ""
            },
            "colorscale": [
             [
              0,
              "#0d0887"
             ],
             [
              0.1111111111111111,
              "#46039f"
             ],
             [
              0.2222222222222222,
              "#7201a8"
             ],
             [
              0.3333333333333333,
              "#9c179e"
             ],
             [
              0.4444444444444444,
              "#bd3786"
             ],
             [
              0.5555555555555556,
              "#d8576b"
             ],
             [
              0.6666666666666666,
              "#ed7953"
             ],
             [
              0.7777777777777778,
              "#fb9f3a"
             ],
             [
              0.8888888888888888,
              "#fdca26"
             ],
             [
              1,
              "#f0f921"
             ]
            ],
            "type": "histogram2d"
           }
          ],
          "histogram2dcontour": [
           {
            "colorbar": {
             "outlinewidth": 0,
             "ticks": ""
            },
            "colorscale": [
             [
              0,
              "#0d0887"
             ],
             [
              0.1111111111111111,
              "#46039f"
             ],
             [
              0.2222222222222222,
              "#7201a8"
             ],
             [
              0.3333333333333333,
              "#9c179e"
             ],
             [
              0.4444444444444444,
              "#bd3786"
             ],
             [
              0.5555555555555556,
              "#d8576b"
             ],
             [
              0.6666666666666666,
              "#ed7953"
             ],
             [
              0.7777777777777778,
              "#fb9f3a"
             ],
             [
              0.8888888888888888,
              "#fdca26"
             ],
             [
              1,
              "#f0f921"
             ]
            ],
            "type": "histogram2dcontour"
           }
          ],
          "mesh3d": [
           {
            "colorbar": {
             "outlinewidth": 0,
             "ticks": ""
            },
            "type": "mesh3d"
           }
          ],
          "parcoords": [
           {
            "line": {
             "colorbar": {
              "outlinewidth": 0,
              "ticks": ""
             }
            },
            "type": "parcoords"
           }
          ],
          "pie": [
           {
            "automargin": true,
            "type": "pie"
           }
          ],
          "scatter": [
           {
            "fillpattern": {
             "fillmode": "overlay",
             "size": 10,
             "solidity": 0.2
            },
            "type": "scatter"
           }
          ],
          "scatter3d": [
           {
            "line": {
             "colorbar": {
              "outlinewidth": 0,
              "ticks": ""
             }
            },
            "marker": {
             "colorbar": {
              "outlinewidth": 0,
              "ticks": ""
             }
            },
            "type": "scatter3d"
           }
          ],
          "scattercarpet": [
           {
            "marker": {
             "colorbar": {
              "outlinewidth": 0,
              "ticks": ""
             }
            },
            "type": "scattercarpet"
           }
          ],
          "scattergeo": [
           {
            "marker": {
             "colorbar": {
              "outlinewidth": 0,
              "ticks": ""
             }
            },
            "type": "scattergeo"
           }
          ],
          "scattergl": [
           {
            "marker": {
             "colorbar": {
              "outlinewidth": 0,
              "ticks": ""
             }
            },
            "type": "scattergl"
           }
          ],
          "scattermapbox": [
           {
            "marker": {
             "colorbar": {
              "outlinewidth": 0,
              "ticks": ""
             }
            },
            "type": "scattermapbox"
           }
          ],
          "scatterpolar": [
           {
            "marker": {
             "colorbar": {
              "outlinewidth": 0,
              "ticks": ""
             }
            },
            "type": "scatterpolar"
           }
          ],
          "scatterpolargl": [
           {
            "marker": {
             "colorbar": {
              "outlinewidth": 0,
              "ticks": ""
             }
            },
            "type": "scatterpolargl"
           }
          ],
          "scatterternary": [
           {
            "marker": {
             "colorbar": {
              "outlinewidth": 0,
              "ticks": ""
             }
            },
            "type": "scatterternary"
           }
          ],
          "surface": [
           {
            "colorbar": {
             "outlinewidth": 0,
             "ticks": ""
            },
            "colorscale": [
             [
              0,
              "#0d0887"
             ],
             [
              0.1111111111111111,
              "#46039f"
             ],
             [
              0.2222222222222222,
              "#7201a8"
             ],
             [
              0.3333333333333333,
              "#9c179e"
             ],
             [
              0.4444444444444444,
              "#bd3786"
             ],
             [
              0.5555555555555556,
              "#d8576b"
             ],
             [
              0.6666666666666666,
              "#ed7953"
             ],
             [
              0.7777777777777778,
              "#fb9f3a"
             ],
             [
              0.8888888888888888,
              "#fdca26"
             ],
             [
              1,
              "#f0f921"
             ]
            ],
            "type": "surface"
           }
          ],
          "table": [
           {
            "cells": {
             "fill": {
              "color": "#EBF0F8"
             },
             "line": {
              "color": "white"
             }
            },
            "header": {
             "fill": {
              "color": "#C8D4E3"
             },
             "line": {
              "color": "white"
             }
            },
            "type": "table"
           }
          ]
         },
         "layout": {
          "annotationdefaults": {
           "arrowcolor": "#2a3f5f",
           "arrowhead": 0,
           "arrowwidth": 1
          },
          "autotypenumbers": "strict",
          "coloraxis": {
           "colorbar": {
            "outlinewidth": 0,
            "ticks": ""
           }
          },
          "colorscale": {
           "diverging": [
            [
             0,
             "#8e0152"
            ],
            [
             0.1,
             "#c51b7d"
            ],
            [
             0.2,
             "#de77ae"
            ],
            [
             0.3,
             "#f1b6da"
            ],
            [
             0.4,
             "#fde0ef"
            ],
            [
             0.5,
             "#f7f7f7"
            ],
            [
             0.6,
             "#e6f5d0"
            ],
            [
             0.7,
             "#b8e186"
            ],
            [
             0.8,
             "#7fbc41"
            ],
            [
             0.9,
             "#4d9221"
            ],
            [
             1,
             "#276419"
            ]
           ],
           "sequential": [
            [
             0,
             "#0d0887"
            ],
            [
             0.1111111111111111,
             "#46039f"
            ],
            [
             0.2222222222222222,
             "#7201a8"
            ],
            [
             0.3333333333333333,
             "#9c179e"
            ],
            [
             0.4444444444444444,
             "#bd3786"
            ],
            [
             0.5555555555555556,
             "#d8576b"
            ],
            [
             0.6666666666666666,
             "#ed7953"
            ],
            [
             0.7777777777777778,
             "#fb9f3a"
            ],
            [
             0.8888888888888888,
             "#fdca26"
            ],
            [
             1,
             "#f0f921"
            ]
           ],
           "sequentialminus": [
            [
             0,
             "#0d0887"
            ],
            [
             0.1111111111111111,
             "#46039f"
            ],
            [
             0.2222222222222222,
             "#7201a8"
            ],
            [
             0.3333333333333333,
             "#9c179e"
            ],
            [
             0.4444444444444444,
             "#bd3786"
            ],
            [
             0.5555555555555556,
             "#d8576b"
            ],
            [
             0.6666666666666666,
             "#ed7953"
            ],
            [
             0.7777777777777778,
             "#fb9f3a"
            ],
            [
             0.8888888888888888,
             "#fdca26"
            ],
            [
             1,
             "#f0f921"
            ]
           ]
          },
          "colorway": [
           "#636efa",
           "#EF553B",
           "#00cc96",
           "#ab63fa",
           "#FFA15A",
           "#19d3f3",
           "#FF6692",
           "#B6E880",
           "#FF97FF",
           "#FECB52"
          ],
          "font": {
           "color": "#2a3f5f"
          },
          "geo": {
           "bgcolor": "white",
           "lakecolor": "white",
           "landcolor": "#E5ECF6",
           "showlakes": true,
           "showland": true,
           "subunitcolor": "white"
          },
          "hoverlabel": {
           "align": "left"
          },
          "hovermode": "closest",
          "mapbox": {
           "style": "light"
          },
          "paper_bgcolor": "white",
          "plot_bgcolor": "#E5ECF6",
          "polar": {
           "angularaxis": {
            "gridcolor": "white",
            "linecolor": "white",
            "ticks": ""
           },
           "bgcolor": "#E5ECF6",
           "radialaxis": {
            "gridcolor": "white",
            "linecolor": "white",
            "ticks": ""
           }
          },
          "scene": {
           "xaxis": {
            "backgroundcolor": "#E5ECF6",
            "gridcolor": "white",
            "gridwidth": 2,
            "linecolor": "white",
            "showbackground": true,
            "ticks": "",
            "zerolinecolor": "white"
           },
           "yaxis": {
            "backgroundcolor": "#E5ECF6",
            "gridcolor": "white",
            "gridwidth": 2,
            "linecolor": "white",
            "showbackground": true,
            "ticks": "",
            "zerolinecolor": "white"
           },
           "zaxis": {
            "backgroundcolor": "#E5ECF6",
            "gridcolor": "white",
            "gridwidth": 2,
            "linecolor": "white",
            "showbackground": true,
            "ticks": "",
            "zerolinecolor": "white"
           }
          },
          "shapedefaults": {
           "line": {
            "color": "#2a3f5f"
           }
          },
          "ternary": {
           "aaxis": {
            "gridcolor": "white",
            "linecolor": "white",
            "ticks": ""
           },
           "baxis": {
            "gridcolor": "white",
            "linecolor": "white",
            "ticks": ""
           },
           "bgcolor": "#E5ECF6",
           "caxis": {
            "gridcolor": "white",
            "linecolor": "white",
            "ticks": ""
           }
          },
          "title": {
           "x": 0.05
          },
          "xaxis": {
           "automargin": true,
           "gridcolor": "white",
           "linecolor": "white",
           "ticks": "",
           "title": {
            "standoff": 15
           },
           "zerolinecolor": "white",
           "zerolinewidth": 2
          },
          "yaxis": {
           "automargin": true,
           "gridcolor": "white",
           "linecolor": "white",
           "ticks": "",
           "title": {
            "standoff": 15
           },
           "zerolinecolor": "white",
           "zerolinewidth": 2
          }
         }
        },
        "title": {
         "text": "PCA Analysis"
        },
        "xaxis": {
         "title": {
          "text": "PC1 [32.61%]"
         }
        },
        "yaxis": {
         "title": {
          "text": "PC2 [11.47%]"
         }
        }
       }
      }
     },
     "metadata": {},
     "output_type": "display_data"
    },
    {
     "data": {
      "application/vnd.plotly.v1+json": {
       "config": {
        "plotlyServerURL": "https://plot.ly"
       },
       "data": [
        {
         "marker": {
          "color": "#3498db"
         },
         "mode": "markers",
         "name": "books",
         "type": "scatter",
         "visible": true,
         "x": [
          "Mark Twain",
          "Zane Grey",
          "Joseph Conrad",
          "Benjamin Disraeli",
          "George Eliot",
          "William Henry Hudson",
          "Lucy Maud Montgomery",
          "Howard Pyle",
          "Virginia Woolf",
          "Lewis Carroll"
         ],
         "y": [
          16605,
          13534,
          14421,
          14287,
          14042,
          13742,
          12135,
          11651,
          12837,
          12370
         ]
        },
        {
         "marker": {
          "color": "#3498db"
         },
         "mode": "markers",
         "name": "books",
         "type": "scatter",
         "visible": false,
         "x": [
          "Mark Twain",
          "Zane Grey",
          "Joseph Conrad",
          "Benjamin Disraeli",
          "George Eliot",
          "William Henry Hudson",
          "Lucy Maud Montgomery",
          "Howard Pyle",
          "Virginia Woolf",
          "Lewis Carroll"
         ],
         "y": [
          4.282293668821714,
          4.197511915824815,
          4.31480259893404,
          4.506178774928775,
          4.301457702261992,
          4.283891885688052,
          4.11679991465807,
          4.14052775484634,
          4.3620270471095255,
          4.1234227453559935
         ]
        },
        {
         "marker": {
          "color": "#3498db"
         },
         "mode": "markers",
         "name": "books",
         "type": "scatter",
         "visible": false,
         "x": [
          "Mark Twain",
          "Zane Grey",
          "Joseph Conrad",
          "Benjamin Disraeli",
          "George Eliot",
          "William Henry Hudson",
          "Lucy Maud Montgomery",
          "Howard Pyle",
          "Virginia Woolf",
          "Lewis Carroll"
         ],
         "y": [
          19.732214687966902,
          12.434396898762486,
          16.18031548125059,
          17.582968065122103,
          22.74930693069307,
          27.41230140003146,
          13.655956620265458,
          22.213421771361684,
          17.75649145028499,
          15.791749900119855
         ]
        },
        {
         "marker": {
          "color": "#3498db"
         },
         "mode": "markers",
         "name": "books",
         "type": "scatter",
         "visible": false,
         "x": [
          "Mark Twain",
          "Zane Grey",
          "Joseph Conrad",
          "Benjamin Disraeli",
          "George Eliot",
          "William Henry Hudson",
          "Lucy Maud Montgomery",
          "Howard Pyle",
          "Virginia Woolf",
          "Lewis Carroll"
         ],
         "y": [
          1.385730094938552,
          1.3236667765820318,
          1.3903479839580621,
          1.4501721272554606,
          1.3921752956605504,
          1.3680993917135316,
          1.330308831111875,
          1.2934209216681596,
          1.387165997919453,
          1.3306115478758056
         ]
        },
        {
         "marker": {
          "color": "#3498db"
         },
         "mode": "markers",
         "name": "books",
         "type": "scatter",
         "visible": false,
         "x": [
          "Mark Twain",
          "Zane Grey",
          "Joseph Conrad",
          "Benjamin Disraeli",
          "George Eliot",
          "William Henry Hudson",
          "Lucy Maud Montgomery",
          "Howard Pyle",
          "Virginia Woolf",
          "Lewis Carroll"
         ],
         "y": [
          69.5740360599121,
          82.23187784891621,
          72.7885403436786,
          66.30372544808911,
          65.96642345246399,
          63.27030554000332,
          80.43007691836596,
          74.86496692894161,
          71.45791775397502,
          78.23663690108522
         ]
        },
        {
         "marker": {
          "color": "#3498db"
         },
         "mode": "markers",
         "name": "books",
         "type": "scatter",
         "visible": false,
         "x": [
          "Mark Twain",
          "Zane Grey",
          "Joseph Conrad",
          "Benjamin Disraeli",
          "George Eliot",
          "William Henry Hudson",
          "Lucy Maud Montgomery",
          "Howard Pyle",
          "Virginia Woolf",
          "Lewis Carroll"
         ],
         "y": [
          8.457178848582007,
          4.878682754185345,
          7.1264292483928635,
          8.379388647012057,
          9.709898191764793,
          11.244370368231944,
          5.433467289023657,
          8.335601366515341,
          7.703590441060694,
          6.2699987259812495
         ]
        },
        {
         "marker": {
          "color": "#3498db"
         },
         "mode": "markers",
         "name": "books",
         "type": "scatter",
         "visible": false,
         "x": [
          "Mark Twain",
          "Zane Grey",
          "Joseph Conrad",
          "Benjamin Disraeli",
          "George Eliot",
          "William Henry Hudson",
          "Lucy Maud Montgomery",
          "Howard Pyle",
          "Virginia Woolf",
          "Lewis Carroll"
         ],
         "y": [
          11.369617193260034,
          7.517000463393001,
          9.883431438821042,
          11.303842496704114,
          12.490505358770271,
          14.045375053298478,
          8.022166448548303,
          10.728705027843967,
          10.242676829779624,
          8.845114261755015
         ]
        },
        {
         "marker": {
          "color": "#3498db"
         },
         "mode": "markers",
         "name": "books",
         "type": "scatter",
         "visible": false,
         "x": [
          "Mark Twain",
          "Zane Grey",
          "Joseph Conrad",
          "Benjamin Disraeli",
          "George Eliot",
          "William Henry Hudson",
          "Lucy Maud Montgomery",
          "Howard Pyle",
          "Virginia Woolf",
          "Lewis Carroll"
         ],
         "y": [
          86.97652045219851,
          72.8654323810199,
          87.03892606247017,
          81.97264372058724,
          74.38401672327534,
          84.49287864758008,
          65.52038825478341,
          89.19337735994665,
          77.46108253827576,
          72.81654770144085
         ]
        },
        {
         "marker": {
          "color": "#3498db"
         },
         "mode": "markers",
         "name": "books",
         "type": "scatter",
         "visible": false,
         "x": [
          "Mark Twain",
          "Zane Grey",
          "Joseph Conrad",
          "Benjamin Disraeli",
          "George Eliot",
          "William Henry Hudson",
          "Lucy Maud Montgomery",
          "Howard Pyle",
          "Virginia Woolf",
          "Lewis Carroll"
         ],
         "y": [
          0.09671500961034422,
          0.08114152102880781,
          0.08418514778080688,
          0.08479938271604938,
          0.0814850922089528,
          0.07885917594399174,
          0.07191835621958953,
          0.06821468509768792,
          0.07630851538118591,
          0.07823815517339523
         ]
        },
        {
         "marker": {
          "color": "#3498db"
         },
         "mode": "markers",
         "name": "books",
         "type": "scatter",
         "visible": false,
         "x": [
          "Mark Twain",
          "Zane Grey",
          "Joseph Conrad",
          "Benjamin Disraeli",
          "George Eliot",
          "William Henry Hudson",
          "Lucy Maud Montgomery",
          "Howard Pyle",
          "Virginia Woolf",
          "Lewis Carroll"
         ],
         "y": [
          0.09690119772519289,
          0.10443495083918639,
          0.10267613936171693,
          0.1025157749017546,
          0.10397716642042124,
          0.10523813702466862,
          0.10934728356738274,
          0.11143099781965381,
          0.10691259105648666,
          0.10642352444693931
         ]
        },
        {
         "marker": {
          "color": "#3498db"
         },
         "mode": "markers",
         "name": "books",
         "type": "scatter",
         "visible": false,
         "x": [
          "Mark Twain",
          "Zane Grey",
          "Joseph Conrad",
          "Benjamin Disraeli",
          "George Eliot",
          "William Henry Hudson",
          "Lucy Maud Montgomery",
          "Howard Pyle",
          "Virginia Woolf",
          "Lewis Carroll"
         ],
         "y": [
          0.9912421251303297,
          0.9926395687760845,
          0.9912267640749818,
          0.9917327419273744,
          0.9924903834010238,
          0.9914779425238317,
          0.9933655549116457,
          0.9909948327214768,
          0.992175991925342,
          0.9926375044861211
         ]
        },
        {
         "marker": {
          "color": "#e74c3c"
         },
         "mode": "markers",
         "name": "gpt-3.5-turbo-0125",
         "type": "scatter",
         "visible": true,
         "x": [
          "Mark Twain",
          "Zane Grey",
          "Joseph Conrad",
          "Benjamin Disraeli",
          "George Eliot",
          "William Henry Hudson",
          "Lucy Maud Montgomery",
          "Howard Pyle",
          "Virginia Woolf",
          "Lewis Carroll"
         ],
         "y": [
          12130,
          11755,
          11849,
          12397,
          12065,
          12073,
          11374,
          12054,
          11816,
          11630
         ]
        },
        {
         "marker": {
          "color": "#e74c3c"
         },
         "mode": "markers",
         "name": "gpt-3.5-turbo-0125",
         "type": "scatter",
         "visible": false,
         "x": [
          "Mark Twain",
          "Zane Grey",
          "Joseph Conrad",
          "Benjamin Disraeli",
          "George Eliot",
          "William Henry Hudson",
          "Lucy Maud Montgomery",
          "Howard Pyle",
          "Virginia Woolf",
          "Lewis Carroll"
         ],
         "y": [
          4.481189545869132,
          4.597792045977528,
          4.7143871458282085,
          4.753595756560581,
          4.7548548699324416,
          4.793907318674837,
          4.639642170800508,
          4.655267273484175,
          4.710403098439061,
          4.637129686885154
         ]
        },
        {
         "marker": {
          "color": "#e74c3c"
         },
         "mode": "markers",
         "name": "gpt-3.5-turbo-0125",
         "type": "scatter",
         "visible": false,
         "x": [
          "Mark Twain",
          "Zane Grey",
          "Joseph Conrad",
          "Benjamin Disraeli",
          "George Eliot",
          "William Henry Hudson",
          "Lucy Maud Montgomery",
          "Howard Pyle",
          "Virginia Woolf",
          "Lewis Carroll"
         ],
         "y": [
          21.147041314442195,
          22.703109072375128,
          23.226593948837813,
          23.448546739984288,
          23.688780229945817,
          23.84434713375796,
          21.825116507235713,
          21.98070978113021,
          23.36815336463224,
          22.10637504660122
         ]
        },
        {
         "marker": {
          "color": "#e74c3c"
         },
         "mode": "markers",
         "name": "gpt-3.5-turbo-0125",
         "type": "scatter",
         "visible": false,
         "x": [
          "Mark Twain",
          "Zane Grey",
          "Joseph Conrad",
          "Benjamin Disraeli",
          "George Eliot",
          "William Henry Hudson",
          "Lucy Maud Montgomery",
          "Howard Pyle",
          "Virginia Woolf",
          "Lewis Carroll"
         ],
         "y": [
          1.4468679270778204,
          1.4796827819996183,
          1.5378603215779234,
          1.560681183696259,
          1.5508638628084328,
          1.5645580468693479,
          1.4892673716860902,
          1.497417837734448,
          1.5396262005614247,
          1.4893923210973072
         ]
        },
        {
         "marker": {
          "color": "#e74c3c"
         },
         "mode": "markers",
         "name": "gpt-3.5-turbo-0125",
         "type": "scatter",
         "visible": false,
         "x": [
          "Mark Twain",
          "Zane Grey",
          "Joseph Conrad",
          "Benjamin Disraeli",
          "George Eliot",
          "William Henry Hudson",
          "Lucy Maud Montgomery",
          "Howard Pyle",
          "Virginia Woolf",
          "Lewis Carroll"
         ],
         "y": [
          62.965726435057576,
          58.61018093437154,
          53.15702393643733,
          51.001096918212454,
          51.58780527301161,
          50.27137689408886,
          58.69048710051254,
          57.84303049981855,
          52.863947767401754,
          58.394438962867596
         ]
        },
        {
         "marker": {
          "color": "#e74c3c"
         },
         "mode": "markers",
         "name": "gpt-3.5-turbo-0125",
         "type": "scatter",
         "visible": false,
         "x": [
          "Mark Twain",
          "Zane Grey",
          "Joseph Conrad",
          "Benjamin Disraeli",
          "George Eliot",
          "William Henry Hudson",
          "Lucy Maud Montgomery",
          "Howard Pyle",
          "Virginia Woolf",
          "Lewis Carroll"
         ],
         "y": [
          9.730387652150739,
          10.724469365821797,
          11.615123434666245,
          11.970971196209728,
          11.948817870818377,
          12.171080335223909,
          10.495150423717792,
          10.652007299907272,
          11.691168978831385,
          10.606315657122703
         ]
        },
        {
         "marker": {
          "color": "#e74c3c"
         },
         "mode": "markers",
         "name": "gpt-3.5-turbo-0125",
         "type": "scatter",
         "visible": false,
         "x": [
          "Mark Twain",
          "Zane Grey",
          "Joseph Conrad",
          "Benjamin Disraeli",
          "George Eliot",
          "William Henry Hudson",
          "Lucy Maud Montgomery",
          "Howard Pyle",
          "Virginia Woolf",
          "Lewis Carroll"
         ],
         "y": [
          12.533270116147007,
          13.500968167883904,
          14.617918032159407,
          15.047313726702818,
          14.973885898832329,
          15.251547558446669,
          13.289446924311216,
          13.47775517112961,
          14.700551484088372,
          13.456862234054507
         ]
        },
        {
         "marker": {
          "color": "#e74c3c"
         },
         "mode": "markers",
         "name": "gpt-3.5-turbo-0125",
         "type": "scatter",
         "visible": false,
         "x": [
          "Mark Twain",
          "Zane Grey",
          "Joseph Conrad",
          "Benjamin Disraeli",
          "George Eliot",
          "William Henry Hudson",
          "Lucy Maud Montgomery",
          "Howard Pyle",
          "Virginia Woolf",
          "Lewis Carroll"
         ],
         "y": [
          104.19993350546754,
          124.94611087171587,
          129.53492750364393,
          119.16524382697325,
          126.08716123056244,
          127.74783824963248,
          111.059142954846,
          117.85586190583702,
          134.49599667975005,
          118.93175588377964
         ]
        },
        {
         "marker": {
          "color": "#e74c3c"
         },
         "mode": "markers",
         "name": "gpt-3.5-turbo-0125",
         "type": "scatter",
         "visible": false,
         "x": [
          "Mark Twain",
          "Zane Grey",
          "Joseph Conrad",
          "Benjamin Disraeli",
          "George Eliot",
          "William Henry Hudson",
          "Lucy Maud Montgomery",
          "Howard Pyle",
          "Virginia Woolf",
          "Lewis Carroll"
         ],
         "y": [
          0.0682941660004279,
          0.0659748335896371,
          0.06624438133148466,
          0.06921831379117811,
          0.06730710225212409,
          0.06718756086837961,
          0.06391252065047594,
          0.06781129400645822,
          0.06594228375942451,
          0.06537748046545618
         ]
        },
        {
         "marker": {
          "color": "#e74c3c"
         },
         "mode": "markers",
         "name": "gpt-3.5-turbo-0125",
         "type": "scatter",
         "visible": false,
         "x": [
          "Mark Twain",
          "Zane Grey",
          "Joseph Conrad",
          "Benjamin Disraeli",
          "George Eliot",
          "William Henry Hudson",
          "Lucy Maud Montgomery",
          "Howard Pyle",
          "Virginia Woolf",
          "Lewis Carroll"
         ],
         "y": [
          0.11102214095321523,
          0.1124220813208252,
          0.11221738443517916,
          0.11039005151257401,
          0.11153960166593882,
          0.11159056518999534,
          0.11374662861299391,
          0.11130819056875131,
          0.11238978883973164,
          0.11281310762793562
         ]
        },
        {
         "marker": {
          "color": "#e74c3c"
         },
         "mode": "markers",
         "name": "gpt-3.5-turbo-0125",
         "type": "scatter",
         "visible": false,
         "x": [
          "Mark Twain",
          "Zane Grey",
          "Joseph Conrad",
          "Benjamin Disraeli",
          "George Eliot",
          "William Henry Hudson",
          "Lucy Maud Montgomery",
          "Howard Pyle",
          "Virginia Woolf",
          "Lewis Carroll"
         ],
         "y": [
          0.9894975664186206,
          0.9874203187299275,
          0.9869621119420147,
          0.9880028109403647,
          0.9873083995006486,
          0.9871423867208828,
          0.9888061658873886,
          0.9881314537961426,
          0.9864657693232234,
          0.9880208398888362
         ]
        },
        {
         "marker": {
          "color": "#2ecc71"
         },
         "mode": "markers",
         "name": "gpt-4o",
         "type": "scatter",
         "visible": true,
         "x": [
          "Mark Twain",
          "Zane Grey",
          "Joseph Conrad",
          "Benjamin Disraeli",
          "George Eliot",
          "William Henry Hudson",
          "Lucy Maud Montgomery",
          "Howard Pyle",
          "Virginia Woolf",
          "Lewis Carroll"
         ],
         "y": [
          14804,
          12350,
          13005,
          14114,
          13820,
          13277,
          12474,
          12843,
          12733,
          13361
         ]
        },
        {
         "marker": {
          "color": "#2ecc71"
         },
         "mode": "markers",
         "name": "gpt-4o",
         "type": "scatter",
         "visible": false,
         "x": [
          "Mark Twain",
          "Zane Grey",
          "Joseph Conrad",
          "Benjamin Disraeli",
          "George Eliot",
          "William Henry Hudson",
          "Lucy Maud Montgomery",
          "Howard Pyle",
          "Virginia Woolf",
          "Lewis Carroll"
         ],
         "y": [
          4.43444054925985,
          4.587667019964207,
          4.673474335588446,
          4.857130549157683,
          4.776608261335979,
          4.712801449961327,
          4.651940571269945,
          4.568942297132486,
          4.639333782747158,
          4.659332415086599
         ]
        },
        {
         "marker": {
          "color": "#2ecc71"
         },
         "mode": "markers",
         "name": "gpt-4o",
         "type": "scatter",
         "visible": false,
         "x": [
          "Mark Twain",
          "Zane Grey",
          "Joseph Conrad",
          "Benjamin Disraeli",
          "George Eliot",
          "William Henry Hudson",
          "Lucy Maud Montgomery",
          "Howard Pyle",
          "Virginia Woolf",
          "Lewis Carroll"
         ],
         "y": [
          18.860186710598573,
          19.23134328358209,
          20.871807228915664,
          21.34399901924727,
          21.013937704520664,
          20.42995283018868,
          19.98070256528773,
          20.423444693660723,
          20.792170130497826,
          18.597667320688902
         ]
        },
        {
         "marker": {
          "color": "#2ecc71"
         },
         "mode": "markers",
         "name": "gpt-4o",
         "type": "scatter",
         "visible": false,
         "x": [
          "Mark Twain",
          "Zane Grey",
          "Joseph Conrad",
          "Benjamin Disraeli",
          "George Eliot",
          "William Henry Hudson",
          "Lucy Maud Montgomery",
          "Howard Pyle",
          "Virginia Woolf",
          "Lewis Carroll"
         ],
         "y": [
          1.4283085452067876,
          1.4646499748058313,
          1.5232919254658386,
          1.6022584332263086,
          1.555823422883047,
          1.5291897071216651,
          1.4899284611336336,
          1.4510684538775889,
          1.5081591854761849,
          1.4893649444656096
         ]
        },
        {
         "marker": {
          "color": "#2ecc71"
         },
         "mode": "markers",
         "name": "gpt-4o",
         "type": "scatter",
         "visible": false,
         "x": [
          "Mark Twain",
          "Zane Grey",
          "Joseph Conrad",
          "Benjamin Disraeli",
          "George Eliot",
          "William Henry Hudson",
          "Lucy Maud Montgomery",
          "Howard Pyle",
          "Virginia Woolf",
          "Lewis Carroll"
         ],
         "y": [
          66.85700756424822,
          63.40579869859086,
          56.77961876824068,
          49.61977754451834,
          53.88319165400577,
          56.72914865486561,
          60.50663908432756,
          63.34481243789037,
          58.14068022625949,
          61.958093367710205
         ]
        },
        {
         "marker": {
          "color": "#2ecc71"
         },
         "mode": "markers",
         "name": "gpt-4o",
         "type": "scatter",
         "visible": false,
         "x": [
          "Mark Twain",
          "Zane Grey",
          "Joseph Conrad",
          "Benjamin Disraeli",
          "George Eliot",
          "William Henry Hudson",
          "Lucy Maud Montgomery",
          "Howard Pyle",
          "Virginia Woolf",
          "Lewis Carroll"
         ],
         "y": [
          8.619513650573538,
          9.193093583305824,
          10.524849539774007,
          11.640809129576876,
          10.964152094783017,
          10.422120147809235,
          9.78362984183909,
          9.497751186283232,
          10.315224739513138,
          9.23759659976287
         ]
        },
        {
         "marker": {
          "color": "#2ecc71"
         },
         "mode": "markers",
         "name": "gpt-4o",
         "type": "scatter",
         "visible": false,
         "x": [
          "Mark Twain",
          "Zane Grey",
          "Joseph Conrad",
          "Benjamin Disraeli",
          "George Eliot",
          "William Henry Hudson",
          "Lucy Maud Montgomery",
          "Howard Pyle",
          "Virginia Woolf",
          "Lewis Carroll"
         ],
         "y": [
          11.36000974206545,
          11.8922604671636,
          13.463595089030997,
          14.785625201743812,
          13.955042743557199,
          13.323730667418278,
          12.57400709645104,
          12.178695419529062,
          13.170304905682475,
          12.063044890353925
         ]
        },
        {
         "marker": {
          "color": "#2ecc71"
         },
         "mode": "markers",
         "name": "gpt-4o",
         "type": "scatter",
         "visible": false,
         "x": [
          "Mark Twain",
          "Zane Grey",
          "Joseph Conrad",
          "Benjamin Disraeli",
          "George Eliot",
          "William Henry Hudson",
          "Lucy Maud Montgomery",
          "Howard Pyle",
          "Virginia Woolf",
          "Lewis Carroll"
         ],
         "y": [
          100.63927446175506,
          130.34037107433386,
          143.51432636054793,
          138.26503389400847,
          128.41711209369922,
          131.18486241188126,
          121.63264844841513,
          128.90553654826007,
          139.02176240423034,
          109.62254989544778
         ]
        },
        {
         "marker": {
          "color": "#2ecc71"
         },
         "mode": "markers",
         "name": "gpt-4o",
         "type": "scatter",
         "visible": false,
         "x": [
          "Mark Twain",
          "Zane Grey",
          "Joseph Conrad",
          "Benjamin Disraeli",
          "George Eliot",
          "William Henry Hudson",
          "Lucy Maud Montgomery",
          "Howard Pyle",
          "Virginia Woolf",
          "Lewis Carroll"
         ],
         "y": [
          0.0862091054145654,
          0.07152827249086349,
          0.07507100140848323,
          0.08106695461881759,
          0.07970655070190212,
          0.07663669002458931,
          0.07214032490327506,
          0.074233990532175,
          0.07399637369534391,
          0.0783108167511649
         ]
        },
        {
         "marker": {
          "color": "#2ecc71"
         },
         "mode": "markers",
         "name": "gpt-4o",
         "type": "scatter",
         "visible": false,
         "x": [
          "Mark Twain",
          "Zane Grey",
          "Joseph Conrad",
          "Benjamin Disraeli",
          "George Eliot",
          "William Henry Hudson",
          "Lucy Maud Montgomery",
          "Howard Pyle",
          "Virginia Woolf",
          "Lewis Carroll"
         ],
         "y": [
          0.10166974739394948,
          0.10936422337078149,
          0.10733016474869093,
          0.10410193474854573,
          0.10483900012087913,
          0.10647403878424037,
          0.10899765926572058,
          0.10780674528035068,
          0.10798796514756547,
          0.10571240517626876
         ]
        },
        {
         "marker": {
          "color": "#2ecc71"
         },
         "mode": "markers",
         "name": "gpt-4o",
         "type": "scatter",
         "visible": false,
         "x": [
          "Mark Twain",
          "Zane Grey",
          "Joseph Conrad",
          "Benjamin Disraeli",
          "George Eliot",
          "William Henry Hudson",
          "Lucy Maud Montgomery",
          "Howard Pyle",
          "Virginia Woolf",
          "Lewis Carroll"
         ],
         "y": [
          0.9898685232428275,
          0.9868849912326476,
          0.9855716738614462,
          0.9861026449739263,
          0.9870859298904854,
          0.9868061955393346,
          0.987756568408325,
          0.9870315829176259,
          0.9860192876722448,
          0.988962900313202
         ]
        },
        {
         "marker": {
          "color": "#f1c40f"
         },
         "mode": "markers",
         "name": "gemini-1.5-flash",
         "type": "scatter",
         "visible": true,
         "x": [
          "Mark Twain",
          "Zane Grey",
          "Joseph Conrad",
          "Benjamin Disraeli",
          "George Eliot",
          "William Henry Hudson",
          "Lucy Maud Montgomery",
          "Howard Pyle",
          "Virginia Woolf",
          "Lewis Carroll"
         ],
         "y": [
          11128,
          10045,
          9812,
          11085,
          11083,
          10263,
          10797,
          10927,
          9790,
          10889
         ]
        },
        {
         "marker": {
          "color": "#f1c40f"
         },
         "mode": "markers",
         "name": "gemini-1.5-flash",
         "type": "scatter",
         "visible": false,
         "x": [
          "Mark Twain",
          "Zane Grey",
          "Joseph Conrad",
          "Benjamin Disraeli",
          "George Eliot",
          "William Henry Hudson",
          "Lucy Maud Montgomery",
          "Howard Pyle",
          "Virginia Woolf",
          "Lewis Carroll"
         ],
         "y": [
          4.236252885050087,
          4.432960098685771,
          4.531146142499156,
          4.645333661804126,
          4.66428383398169,
          4.520748442695893,
          4.505295635921322,
          4.448348215601332,
          4.535816754795722,
          4.556061368361712
         ]
        },
        {
         "marker": {
          "color": "#f1c40f"
         },
         "mode": "markers",
         "name": "gemini-1.5-flash",
         "type": "scatter",
         "visible": false,
         "x": [
          "Mark Twain",
          "Zane Grey",
          "Joseph Conrad",
          "Benjamin Disraeli",
          "George Eliot",
          "William Henry Hudson",
          "Lucy Maud Montgomery",
          "Howard Pyle",
          "Virginia Woolf",
          "Lewis Carroll"
         ],
         "y": [
          17.195990180032734,
          18.12101020956475,
          20.55290393278948,
          21.03219837157661,
          21.776433121019107,
          21.160555004955402,
          18.670100808685056,
          19.136589217234377,
          20.26817253394209,
          18.24496792744968
         ]
        },
        {
         "marker": {
          "color": "#f1c40f"
         },
         "mode": "markers",
         "name": "gemini-1.5-flash",
         "type": "scatter",
         "visible": false,
         "x": [
          "Mark Twain",
          "Zane Grey",
          "Joseph Conrad",
          "Benjamin Disraeli",
          "George Eliot",
          "William Henry Hudson",
          "Lucy Maud Montgomery",
          "Howard Pyle",
          "Virginia Woolf",
          "Lewis Carroll"
         ],
         "y": [
          1.370345254241321,
          1.4187858803435025,
          1.4694640434594581,
          1.5376597629144744,
          1.5393723127321652,
          1.4715235820336283,
          1.4496692081763431,
          1.4337488580437923,
          1.4815284660801935,
          1.4743136672506076
         ]
        },
        {
         "marker": {
          "color": "#f1c40f"
         },
         "mode": "markers",
         "name": "gemini-1.5-flash",
         "type": "scatter",
         "visible": false,
         "x": [
          "Mark Twain",
          "Zane Grey",
          "Joseph Conrad",
          "Benjamin Disraeli",
          "George Eliot",
          "William Henry Hudson",
          "Lucy Maud Montgomery",
          "Howard Pyle",
          "Virginia Woolf",
          "Lewis Carroll"
         ],
         "y": [
          73.44986145845104,
          68.4128891602315,
          61.65714443154853,
          55.40130271028522,
          54.501022725024455,
          60.86614162992534,
          65.24283266746605,
          66.1162085540023,
          60.92549664766443,
          63.58942130423719
         ]
        },
        {
         "marker": {
          "color": "#f1c40f"
         },
         "mode": "markers",
         "name": "gemini-1.5-flash",
         "type": "scatter",
         "visible": false,
         "x": [
          "Mark Twain",
          "Zane Grey",
          "Joseph Conrad",
          "Benjamin Disraeli",
          "George Eliot",
          "William Henry Hudson",
          "Lucy Maud Montgomery",
          "Howard Pyle",
          "Virginia Woolf",
          "Lewis Carroll"
         ],
         "y": [
          7.286510170260353,
          8.218867369783585,
          9.765308246609504,
          10.756942567305675,
          11.067402207437002,
          10.02659471992942,
          8.797435971868023,
          8.791506319638156,
          9.796623187983702,
          8.922438765262545
         ]
        },
        {
         "marker": {
          "color": "#f1c40f"
         },
         "mode": "markers",
         "name": "gemini-1.5-flash",
         "type": "scatter",
         "visible": false,
         "x": [
          "Mark Twain",
          "Zane Grey",
          "Joseph Conrad",
          "Benjamin Disraeli",
          "George Eliot",
          "William Henry Hudson",
          "Lucy Maud Montgomery",
          "Howard Pyle",
          "Virginia Woolf",
          "Lewis Carroll"
         ],
         "y": [
          10.028037968888912,
          10.865854385102175,
          12.585827659217179,
          13.749591238686776,
          14.081423521887416,
          12.803363025821794,
          11.532477977373807,
          11.515891691373167,
          12.65093439189946,
          11.697305839109422
         ]
        },
        {
         "marker": {
          "color": "#f1c40f"
         },
         "mode": "markers",
         "name": "gemini-1.5-flash",
         "type": "scatter",
         "visible": false,
         "x": [
          "Mark Twain",
          "Zane Grey",
          "Joseph Conrad",
          "Benjamin Disraeli",
          "George Eliot",
          "William Henry Hudson",
          "Lucy Maud Montgomery",
          "Howard Pyle",
          "Virginia Woolf",
          "Lewis Carroll"
         ],
         "y": [
          110.54100943231201,
          140.24416312681777,
          158.60138198809065,
          154.80398742543673,
          153.36927056567106,
          165.00943582491232,
          130.0579371804533,
          135.98994568816875,
          167.48127292794544,
          128.2607063034204
         ]
        },
        {
         "marker": {
          "color": "#f1c40f"
         },
         "mode": "markers",
         "name": "gemini-1.5-flash",
         "type": "scatter",
         "visible": false,
         "x": [
          "Mark Twain",
          "Zane Grey",
          "Joseph Conrad",
          "Benjamin Disraeli",
          "George Eliot",
          "William Henry Hudson",
          "Lucy Maud Montgomery",
          "Howard Pyle",
          "Virginia Woolf",
          "Lewis Carroll"
         ],
         "y": [
          0.06619554096176268,
          0.05957323148455663,
          0.05812761772738313,
          0.06501962026430168,
          0.06483371844745386,
          0.06008500772797527,
          0.06406384430533717,
          0.06440338313735891,
          0.0580347615773125,
          0.066005540367701
         ]
        },
        {
         "marker": {
          "color": "#f1c40f"
         },
         "mode": "markers",
         "name": "gemini-1.5-flash",
         "type": "scatter",
         "visible": false,
         "x": [
          "Mark Twain",
          "Zane Grey",
          "Joseph Conrad",
          "Benjamin Disraeli",
          "George Eliot",
          "William Henry Hudson",
          "Lucy Maud Montgomery",
          "Howard Pyle",
          "Virginia Woolf",
          "Lewis Carroll"
         ],
         "y": [
          0.11282665015891602,
          0.11717740216545397,
          0.11818718496464221,
          0.11343899231532634,
          0.11353255066837493,
          0.11669679532220907,
          0.1141627856199048,
          0.11387994119038355,
          0.11825994330521514,
          0.11312319240482607
         ]
        },
        {
         "marker": {
          "color": "#f1c40f"
         },
         "mode": "markers",
         "name": "gemini-1.5-flash",
         "type": "scatter",
         "visible": false,
         "x": [
          "Mark Twain",
          "Zane Grey",
          "Joseph Conrad",
          "Benjamin Disraeli",
          "George Eliot",
          "William Henry Hudson",
          "Lucy Maud Montgomery",
          "Howard Pyle",
          "Virginia Woolf",
          "Lewis Carroll"
         ],
         "y": [
          0.9888560356491484,
          0.9858760316713899,
          0.9840379457799924,
          0.9844293892592606,
          0.9845728446658907,
          0.983401619021036,
          0.986901587962051,
          0.9863094890039844,
          0.9831497276612402,
          0.9870820935720641
         ]
        },
        {
         "marker": {
          "color": "#9b59b6"
         },
         "mode": "markers",
         "name": "open-mixtral-8x7b",
         "type": "scatter",
         "visible": true,
         "x": [
          "Mark Twain",
          "Zane Grey",
          "Joseph Conrad",
          "Benjamin Disraeli",
          "George Eliot",
          "William Henry Hudson",
          "Lucy Maud Montgomery",
          "Howard Pyle",
          "Virginia Woolf",
          "Lewis Carroll"
         ],
         "y": [
          12605,
          10888,
          10941,
          12265,
          11575,
          12067,
          11260,
          11875,
          10480,
          12417
         ]
        },
        {
         "marker": {
          "color": "#9b59b6"
         },
         "mode": "markers",
         "name": "open-mixtral-8x7b",
         "type": "scatter",
         "visible": false,
         "x": [
          "Mark Twain",
          "Zane Grey",
          "Joseph Conrad",
          "Benjamin Disraeli",
          "George Eliot",
          "William Henry Hudson",
          "Lucy Maud Montgomery",
          "Howard Pyle",
          "Virginia Woolf",
          "Lewis Carroll"
         ],
         "y": [
          4.38122389330633,
          4.466123518687329,
          4.530976765298306,
          4.608196291909621,
          4.654022754518106,
          4.617099929128278,
          4.548266102518654,
          4.463690171304991,
          4.526017179923025,
          4.606120559990744
         ]
        },
        {
         "marker": {
          "color": "#9b59b6"
         },
         "mode": "markers",
         "name": "open-mixtral-8x7b",
         "type": "scatter",
         "visible": false,
         "x": [
          "Mark Twain",
          "Zane Grey",
          "Joseph Conrad",
          "Benjamin Disraeli",
          "George Eliot",
          "William Henry Hudson",
          "Lucy Maud Montgomery",
          "Howard Pyle",
          "Virginia Woolf",
          "Lewis Carroll"
         ],
         "y": [
          22.79422950819672,
          22.485267742761977,
          28.60655737704918,
          26.79115179252479,
          29.3273631840796,
          27.009954058192957,
          23.682464454976305,
          24.455114822546975,
          27.233782319244465,
          21.66980067694622
         ]
        },
        {
         "marker": {
          "color": "#9b59b6"
         },
         "mode": "markers",
         "name": "open-mixtral-8x7b",
         "type": "scatter",
         "visible": false,
         "x": [
          "Mark Twain",
          "Zane Grey",
          "Joseph Conrad",
          "Benjamin Disraeli",
          "George Eliot",
          "William Henry Hudson",
          "Lucy Maud Montgomery",
          "Howard Pyle",
          "Virginia Woolf",
          "Lewis Carroll"
         ],
         "y": [
          1.4358652750768097,
          1.4458010483135826,
          1.5000198587193962,
          1.52743485787172,
          1.541969193187216,
          1.5195067328136074,
          1.4647760084622201,
          1.439849752432986,
          1.4984110560934152,
          1.4930463959273401
         ]
        },
        {
         "marker": {
          "color": "#9b59b6"
         },
         "mode": "markers",
         "name": "open-mixtral-8x7b",
         "type": "scatter",
         "visible": false,
         "x": [
          "Mark Twain",
          "Zane Grey",
          "Joseph Conrad",
          "Benjamin Disraeli",
          "George Eliot",
          "William Henry Hudson",
          "Lucy Maud Montgomery",
          "Howard Pyle",
          "Virginia Woolf",
          "Lewis Carroll"
         ],
         "y": [
          62.22465477768223,
          61.69768455376753,
          50.89766421463416,
          50.420991954639845,
          46.617132624520764,
          50.869627034902976,
          58.87724826229524,
          60.20176939928423,
          52.427135600463984,
          58.52842721744662
         ]
        },
        {
         "marker": {
          "color": "#9b59b6"
         },
         "mode": "markers",
         "name": "open-mixtral-8x7b",
         "type": "scatter",
         "visible": false,
         "x": [
          "Mark Twain",
          "Zane Grey",
          "Joseph Conrad",
          "Benjamin Disraeli",
          "George Eliot",
          "William Henry Hudson",
          "Lucy Maud Montgomery",
          "Howard Pyle",
          "Virginia Woolf",
          "Lewis Carroll"
         ],
         "y": [
          10.24295975410308,
          10.239706789777447,
          13.266791709938058,
          12.882280521970966,
          14.042908121400195,
          12.874061529895823,
          10.930518037294956,
          10.937721859502556,
          12.712425566407642,
          10.47916973595164
         ]
        },
        {
         "marker": {
          "color": "#9b59b6"
         },
         "mode": "markers",
         "name": "open-mixtral-8x7b",
         "type": "scatter",
         "visible": false,
         "x": [
          "Mark Twain",
          "Zane Grey",
          "Joseph Conrad",
          "Benjamin Disraeli",
          "George Eliot",
          "William Henry Hudson",
          "Lucy Maud Montgomery",
          "Howard Pyle",
          "Virginia Woolf",
          "Lewis Carroll"
         ],
         "y": [
          13.161050490550705,
          13.147707826366414,
          16.376209719238638,
          16.05560976948805,
          17.274362070356638,
          15.9602679450348,
          13.880201540016765,
          13.858763247327367,
          15.805538305320681,
          13.467179787150119
         ]
        },
        {
         "marker": {
          "color": "#9b59b6"
         },
         "mode": "markers",
         "name": "open-mixtral-8x7b",
         "type": "scatter",
         "visible": false,
         "x": [
          "Mark Twain",
          "Zane Grey",
          "Joseph Conrad",
          "Benjamin Disraeli",
          "George Eliot",
          "William Henry Hudson",
          "Lucy Maud Montgomery",
          "Howard Pyle",
          "Virginia Woolf",
          "Lewis Carroll"
         ],
         "y": [
          114.80907051100654,
          132.67289396222586,
          160.48954371879512,
          141.7424205644473,
          155.23121417365877,
          141.42526575723303,
          124.5987716846008,
          135.59438954186805,
          162.89546873279858,
          112.21902033312615
         ]
        },
        {
         "marker": {
          "color": "#9b59b6"
         },
         "mode": "markers",
         "name": "open-mixtral-8x7b",
         "type": "scatter",
         "visible": false,
         "x": [
          "Mark Twain",
          "Zane Grey",
          "Joseph Conrad",
          "Benjamin Disraeli",
          "George Eliot",
          "William Henry Hudson",
          "Lucy Maud Montgomery",
          "Howard Pyle",
          "Virginia Woolf",
          "Lewis Carroll"
         ],
         "y": [
          0.07252338814540349,
          0.06203281677301732,
          0.062078356832817955,
          0.06983987791545189,
          0.06545316776367872,
          0.06841672572643515,
          0.06438148603447783,
          0.06758294917762221,
          0.05957829030772642,
          0.0718326969802152
         ]
        },
        {
         "marker": {
          "color": "#9b59b6"
         },
         "mode": "markers",
         "name": "open-mixtral-8x7b",
         "type": "scatter",
         "visible": false,
         "x": [
          "Mark Twain",
          "Zane Grey",
          "Joseph Conrad",
          "Benjamin Disraeli",
          "George Eliot",
          "William Henry Hudson",
          "Lucy Maud Montgomery",
          "Howard Pyle",
          "Virginia Woolf",
          "Lewis Carroll"
         ],
         "y": [
          0.10873166324298698,
          0.11511282455978265,
          0.11504316734580285,
          0.1101994856597975,
          0.1128202904107899,
          0.11101226490354865,
          0.1136076275799819,
          0.11155464899279899,
          0.1167634083271443,
          0.10917759957666416
         ]
        },
        {
         "marker": {
          "color": "#9b59b6"
         },
         "mode": "markers",
         "name": "open-mixtral-8x7b",
         "type": "scatter",
         "visible": false,
         "x": [
          "Mark Twain",
          "Zane Grey",
          "Joseph Conrad",
          "Benjamin Disraeli",
          "George Eliot",
          "William Henry Hudson",
          "Lucy Maud Montgomery",
          "Howard Pyle",
          "Virginia Woolf",
          "Lewis Carroll"
         ],
         "y": [
          0.9884397593511207,
          0.9866408663715952,
          0.9838596463044755,
          0.9857442251265964,
          0.9843904854940813,
          0.9857746027853441,
          0.9874513128848259,
          0.9863563505194974,
          0.9836150332793919,
          0.9886975632159425
         ]
        },
        {
         "marker": {
          "color": "#e67e22"
         },
         "mode": "markers",
         "name": "claude-3-haiku-20240307",
         "type": "scatter",
         "visible": true,
         "x": [
          "Mark Twain",
          "Zane Grey",
          "Joseph Conrad",
          "Benjamin Disraeli",
          "George Eliot",
          "William Henry Hudson",
          "Lucy Maud Montgomery",
          "Howard Pyle",
          "Virginia Woolf",
          "Lewis Carroll"
         ],
         "y": [
          12762,
          12396,
          11222,
          11559,
          11939,
          11987,
          12364,
          11912,
          11427,
          12007
         ]
        },
        {
         "marker": {
          "color": "#e67e22"
         },
         "mode": "markers",
         "name": "claude-3-haiku-20240307",
         "type": "scatter",
         "visible": false,
         "x": [
          "Mark Twain",
          "Zane Grey",
          "Joseph Conrad",
          "Benjamin Disraeli",
          "George Eliot",
          "William Henry Hudson",
          "Lucy Maud Montgomery",
          "Howard Pyle",
          "Virginia Woolf",
          "Lewis Carroll"
         ],
         "y": [
          4.328392931065646,
          4.6183772362951565,
          4.6627352742812125,
          4.7194023266730385,
          4.785528735957441,
          4.7556497574834875,
          4.629763961510738,
          4.646480348947122,
          4.661145137077395,
          4.685321954469229
         ]
        },
        {
         "marker": {
          "color": "#e67e22"
         },
         "mode": "markers",
         "name": "claude-3-haiku-20240307",
         "type": "scatter",
         "visible": false,
         "x": [
          "Mark Twain",
          "Zane Grey",
          "Joseph Conrad",
          "Benjamin Disraeli",
          "George Eliot",
          "William Henry Hudson",
          "Lucy Maud Montgomery",
          "Howard Pyle",
          "Virginia Woolf",
          "Lewis Carroll"
         ],
         "y": [
          20.78921212121212,
          22.052671562420866,
          27.15761120517162,
          27.020018337408313,
          26.992820042774213,
          26.99190345249007,
          22.17455283521502,
          24.212601682062594,
          25.508590564938846,
          24.803988603988604
         ]
        },
        {
         "marker": {
          "color": "#e67e22"
         },
         "mode": "markers",
         "name": "claude-3-haiku-20240307",
         "type": "scatter",
         "visible": false,
         "x": [
          "Mark Twain",
          "Zane Grey",
          "Joseph Conrad",
          "Benjamin Disraeli",
          "George Eliot",
          "William Henry Hudson",
          "Lucy Maud Montgomery",
          "Howard Pyle",
          "Virginia Woolf",
          "Lewis Carroll"
         ],
         "y": [
          1.4072275247651753,
          1.4845956870220243,
          1.5340308201515505,
          1.5634349249797816,
          1.5688502787288832,
          1.5688922343779184,
          1.5057608036521322,
          1.5148222806837723,
          1.5280290879201794,
          1.5265787599641634
         ]
        },
        {
         "marker": {
          "color": "#e67e22"
         },
         "mode": "markers",
         "name": "claude-3-haiku-20240307",
         "type": "scatter",
         "visible": false,
         "x": [
          "Mark Twain",
          "Zane Grey",
          "Joseph Conrad",
          "Benjamin Disraeli",
          "George Eliot",
          "William Henry Hudson",
          "Lucy Maud Montgomery",
          "Howard Pyle",
          "Virginia Woolf",
          "Lewis Carroll"
         ],
         "y": [
          66.6825011018359,
          58.85474324207959,
          49.491017241929654,
          47.14308673424105,
          46.71255407612068,
          46.709934967350705,
          56.94046488328638,
          54.105244346859365,
          51.672519738539904,
          52.51038847398337
         ]
        },
        {
         "marker": {
          "color": "#e67e22"
         },
         "mode": "markers",
         "name": "claude-3-haiku-20240307",
         "type": "scatter",
         "visible": false,
         "x": [
          "Mark Twain",
          "Zane Grey",
          "Joseph Conrad",
          "Benjamin Disraeli",
          "George Eliot",
          "William Henry Hudson",
          "Lucy Maud Montgomery",
          "Howard Pyle",
          "Virginia Woolf",
          "Lewis Carroll"
         ],
         "y": [
          9.123077519501798,
          10.528771016204026,
          13.103032047805225,
          13.396339266350669,
          13.449633105682764,
          13.449770712130565,
          10.82605308882902,
          11.727817568072926,
          12.389093557784268,
          12.097184923132684
         ]
        },
        {
         "marker": {
          "color": "#e67e22"
         },
         "mode": "markers",
         "name": "claude-3-haiku-20240307",
         "type": "scatter",
         "visible": false,
         "x": [
          "Mark Twain",
          "Zane Grey",
          "Joseph Conrad",
          "Benjamin Disraeli",
          "George Eliot",
          "William Henry Hudson",
          "Lucy Maud Montgomery",
          "Howard Pyle",
          "Virginia Woolf",
          "Lewis Carroll"
         ],
         "y": [
          11.960232428523447,
          13.37013506503908,
          16.182382738616088,
          16.520289386100366,
          16.570692634105075,
          16.58659549630598,
          13.737957654263125,
          14.668698012217114,
          15.411863503321095,
          15.150512764882297
         ]
        },
        {
         "marker": {
          "color": "#e67e22"
         },
         "mode": "markers",
         "name": "claude-3-haiku-20240307",
         "type": "scatter",
         "visible": false,
         "x": [
          "Mark Twain",
          "Zane Grey",
          "Joseph Conrad",
          "Benjamin Disraeli",
          "George Eliot",
          "William Henry Hudson",
          "Lucy Maud Montgomery",
          "Howard Pyle",
          "Virginia Woolf",
          "Lewis Carroll"
         ],
         "y": [
          96.99444351851592,
          121.64280194252979,
          158.86040754009107,
          157.37616402216895,
          155.57495519000298,
          147.53867383833395,
          115.03719947904148,
          135.536744013069,
          157.36199635971607,
          138.17936703613688
         ]
        },
        {
         "marker": {
          "color": "#e67e22"
         },
         "mode": "markers",
         "name": "claude-3-haiku-20240307",
         "type": "scatter",
         "visible": false,
         "x": [
          "Mark Twain",
          "Zane Grey",
          "Joseph Conrad",
          "Benjamin Disraeli",
          "George Eliot",
          "William Henry Hudson",
          "Lucy Maud Montgomery",
          "Howard Pyle",
          "Virginia Woolf",
          "Lewis Carroll"
         ],
         "y": [
          0.0744092215659637,
          0.07117102634177709,
          0.0636012763328667,
          0.0653719340116164,
          0.06756840884009169,
          0.06784236709698963,
          0.07073145616182881,
          0.06783058298313346,
          0.06522520876975678,
          0.06895660563736188
         ]
        },
        {
         "marker": {
          "color": "#e67e22"
         },
         "mode": "markers",
         "name": "claude-3-haiku-20240307",
         "type": "scatter",
         "visible": false,
         "x": [
          "Mark Twain",
          "Zane Grey",
          "Joseph Conrad",
          "Benjamin Disraeli",
          "George Eliot",
          "William Henry Hudson",
          "Lucy Maud Montgomery",
          "Howard Pyle",
          "Virginia Woolf",
          "Lewis Carroll"
         ],
         "y": [
          0.10778661596693262,
          0.10949260777889891,
          0.11402938645051576,
          0.11287300004797213,
          0.11151193946052784,
          0.1113448019002152,
          0.1097164730399354,
          0.1114082633261074,
          0.11305242061647129,
          0.11080475600134769
         ]
        },
        {
         "marker": {
          "color": "#e67e22"
         },
         "mode": "markers",
         "name": "claude-3-haiku-20240307",
         "type": "scatter",
         "visible": false,
         "x": [
          "Mark Twain",
          "Zane Grey",
          "Joseph Conrad",
          "Benjamin Disraeli",
          "George Eliot",
          "William Henry Hudson",
          "Lucy Maud Montgomery",
          "Howard Pyle",
          "Virginia Woolf",
          "Lewis Carroll"
         ],
         "y": [
          0.9902221980239516,
          0.987755048621494,
          0.984024848570532,
          0.9841758709236763,
          0.9843587453721966,
          0.9851627089071485,
          0.9884154000779775,
          0.9863623766396602,
          0.9841762883311239,
          0.9860987785458242
         ]
        }
       ],
       "layout": {
        "template": {
         "data": {
          "bar": [
           {
            "error_x": {
             "color": "#2a3f5f"
            },
            "error_y": {
             "color": "#2a3f5f"
            },
            "marker": {
             "line": {
              "color": "#E5ECF6",
              "width": 0.5
             },
             "pattern": {
              "fillmode": "overlay",
              "size": 10,
              "solidity": 0.2
             }
            },
            "type": "bar"
           }
          ],
          "barpolar": [
           {
            "marker": {
             "line": {
              "color": "#E5ECF6",
              "width": 0.5
             },
             "pattern": {
              "fillmode": "overlay",
              "size": 10,
              "solidity": 0.2
             }
            },
            "type": "barpolar"
           }
          ],
          "carpet": [
           {
            "aaxis": {
             "endlinecolor": "#2a3f5f",
             "gridcolor": "white",
             "linecolor": "white",
             "minorgridcolor": "white",
             "startlinecolor": "#2a3f5f"
            },
            "baxis": {
             "endlinecolor": "#2a3f5f",
             "gridcolor": "white",
             "linecolor": "white",
             "minorgridcolor": "white",
             "startlinecolor": "#2a3f5f"
            },
            "type": "carpet"
           }
          ],
          "choropleth": [
           {
            "colorbar": {
             "outlinewidth": 0,
             "ticks": ""
            },
            "type": "choropleth"
           }
          ],
          "contour": [
           {
            "colorbar": {
             "outlinewidth": 0,
             "ticks": ""
            },
            "colorscale": [
             [
              0,
              "#0d0887"
             ],
             [
              0.1111111111111111,
              "#46039f"
             ],
             [
              0.2222222222222222,
              "#7201a8"
             ],
             [
              0.3333333333333333,
              "#9c179e"
             ],
             [
              0.4444444444444444,
              "#bd3786"
             ],
             [
              0.5555555555555556,
              "#d8576b"
             ],
             [
              0.6666666666666666,
              "#ed7953"
             ],
             [
              0.7777777777777778,
              "#fb9f3a"
             ],
             [
              0.8888888888888888,
              "#fdca26"
             ],
             [
              1,
              "#f0f921"
             ]
            ],
            "type": "contour"
           }
          ],
          "contourcarpet": [
           {
            "colorbar": {
             "outlinewidth": 0,
             "ticks": ""
            },
            "type": "contourcarpet"
           }
          ],
          "heatmap": [
           {
            "colorbar": {
             "outlinewidth": 0,
             "ticks": ""
            },
            "colorscale": [
             [
              0,
              "#0d0887"
             ],
             [
              0.1111111111111111,
              "#46039f"
             ],
             [
              0.2222222222222222,
              "#7201a8"
             ],
             [
              0.3333333333333333,
              "#9c179e"
             ],
             [
              0.4444444444444444,
              "#bd3786"
             ],
             [
              0.5555555555555556,
              "#d8576b"
             ],
             [
              0.6666666666666666,
              "#ed7953"
             ],
             [
              0.7777777777777778,
              "#fb9f3a"
             ],
             [
              0.8888888888888888,
              "#fdca26"
             ],
             [
              1,
              "#f0f921"
             ]
            ],
            "type": "heatmap"
           }
          ],
          "heatmapgl": [
           {
            "colorbar": {
             "outlinewidth": 0,
             "ticks": ""
            },
            "colorscale": [
             [
              0,
              "#0d0887"
             ],
             [
              0.1111111111111111,
              "#46039f"
             ],
             [
              0.2222222222222222,
              "#7201a8"
             ],
             [
              0.3333333333333333,
              "#9c179e"
             ],
             [
              0.4444444444444444,
              "#bd3786"
             ],
             [
              0.5555555555555556,
              "#d8576b"
             ],
             [
              0.6666666666666666,
              "#ed7953"
             ],
             [
              0.7777777777777778,
              "#fb9f3a"
             ],
             [
              0.8888888888888888,
              "#fdca26"
             ],
             [
              1,
              "#f0f921"
             ]
            ],
            "type": "heatmapgl"
           }
          ],
          "histogram": [
           {
            "marker": {
             "pattern": {
              "fillmode": "overlay",
              "size": 10,
              "solidity": 0.2
             }
            },
            "type": "histogram"
           }
          ],
          "histogram2d": [
           {
            "colorbar": {
             "outlinewidth": 0,
             "ticks": ""
            },
            "colorscale": [
             [
              0,
              "#0d0887"
             ],
             [
              0.1111111111111111,
              "#46039f"
             ],
             [
              0.2222222222222222,
              "#7201a8"
             ],
             [
              0.3333333333333333,
              "#9c179e"
             ],
             [
              0.4444444444444444,
              "#bd3786"
             ],
             [
              0.5555555555555556,
              "#d8576b"
             ],
             [
              0.6666666666666666,
              "#ed7953"
             ],
             [
              0.7777777777777778,
              "#fb9f3a"
             ],
             [
              0.8888888888888888,
              "#fdca26"
             ],
             [
              1,
              "#f0f921"
             ]
            ],
            "type": "histogram2d"
           }
          ],
          "histogram2dcontour": [
           {
            "colorbar": {
             "outlinewidth": 0,
             "ticks": ""
            },
            "colorscale": [
             [
              0,
              "#0d0887"
             ],
             [
              0.1111111111111111,
              "#46039f"
             ],
             [
              0.2222222222222222,
              "#7201a8"
             ],
             [
              0.3333333333333333,
              "#9c179e"
             ],
             [
              0.4444444444444444,
              "#bd3786"
             ],
             [
              0.5555555555555556,
              "#d8576b"
             ],
             [
              0.6666666666666666,
              "#ed7953"
             ],
             [
              0.7777777777777778,
              "#fb9f3a"
             ],
             [
              0.8888888888888888,
              "#fdca26"
             ],
             [
              1,
              "#f0f921"
             ]
            ],
            "type": "histogram2dcontour"
           }
          ],
          "mesh3d": [
           {
            "colorbar": {
             "outlinewidth": 0,
             "ticks": ""
            },
            "type": "mesh3d"
           }
          ],
          "parcoords": [
           {
            "line": {
             "colorbar": {
              "outlinewidth": 0,
              "ticks": ""
             }
            },
            "type": "parcoords"
           }
          ],
          "pie": [
           {
            "automargin": true,
            "type": "pie"
           }
          ],
          "scatter": [
           {
            "fillpattern": {
             "fillmode": "overlay",
             "size": 10,
             "solidity": 0.2
            },
            "type": "scatter"
           }
          ],
          "scatter3d": [
           {
            "line": {
             "colorbar": {
              "outlinewidth": 0,
              "ticks": ""
             }
            },
            "marker": {
             "colorbar": {
              "outlinewidth": 0,
              "ticks": ""
             }
            },
            "type": "scatter3d"
           }
          ],
          "scattercarpet": [
           {
            "marker": {
             "colorbar": {
              "outlinewidth": 0,
              "ticks": ""
             }
            },
            "type": "scattercarpet"
           }
          ],
          "scattergeo": [
           {
            "marker": {
             "colorbar": {
              "outlinewidth": 0,
              "ticks": ""
             }
            },
            "type": "scattergeo"
           }
          ],
          "scattergl": [
           {
            "marker": {
             "colorbar": {
              "outlinewidth": 0,
              "ticks": ""
             }
            },
            "type": "scattergl"
           }
          ],
          "scattermapbox": [
           {
            "marker": {
             "colorbar": {
              "outlinewidth": 0,
              "ticks": ""
             }
            },
            "type": "scattermapbox"
           }
          ],
          "scatterpolar": [
           {
            "marker": {
             "colorbar": {
              "outlinewidth": 0,
              "ticks": ""
             }
            },
            "type": "scatterpolar"
           }
          ],
          "scatterpolargl": [
           {
            "marker": {
             "colorbar": {
              "outlinewidth": 0,
              "ticks": ""
             }
            },
            "type": "scatterpolargl"
           }
          ],
          "scatterternary": [
           {
            "marker": {
             "colorbar": {
              "outlinewidth": 0,
              "ticks": ""
             }
            },
            "type": "scatterternary"
           }
          ],
          "surface": [
           {
            "colorbar": {
             "outlinewidth": 0,
             "ticks": ""
            },
            "colorscale": [
             [
              0,
              "#0d0887"
             ],
             [
              0.1111111111111111,
              "#46039f"
             ],
             [
              0.2222222222222222,
              "#7201a8"
             ],
             [
              0.3333333333333333,
              "#9c179e"
             ],
             [
              0.4444444444444444,
              "#bd3786"
             ],
             [
              0.5555555555555556,
              "#d8576b"
             ],
             [
              0.6666666666666666,
              "#ed7953"
             ],
             [
              0.7777777777777778,
              "#fb9f3a"
             ],
             [
              0.8888888888888888,
              "#fdca26"
             ],
             [
              1,
              "#f0f921"
             ]
            ],
            "type": "surface"
           }
          ],
          "table": [
           {
            "cells": {
             "fill": {
              "color": "#EBF0F8"
             },
             "line": {
              "color": "white"
             }
            },
            "header": {
             "fill": {
              "color": "#C8D4E3"
             },
             "line": {
              "color": "white"
             }
            },
            "type": "table"
           }
          ]
         },
         "layout": {
          "annotationdefaults": {
           "arrowcolor": "#2a3f5f",
           "arrowhead": 0,
           "arrowwidth": 1
          },
          "autotypenumbers": "strict",
          "coloraxis": {
           "colorbar": {
            "outlinewidth": 0,
            "ticks": ""
           }
          },
          "colorscale": {
           "diverging": [
            [
             0,
             "#8e0152"
            ],
            [
             0.1,
             "#c51b7d"
            ],
            [
             0.2,
             "#de77ae"
            ],
            [
             0.3,
             "#f1b6da"
            ],
            [
             0.4,
             "#fde0ef"
            ],
            [
             0.5,
             "#f7f7f7"
            ],
            [
             0.6,
             "#e6f5d0"
            ],
            [
             0.7,
             "#b8e186"
            ],
            [
             0.8,
             "#7fbc41"
            ],
            [
             0.9,
             "#4d9221"
            ],
            [
             1,
             "#276419"
            ]
           ],
           "sequential": [
            [
             0,
             "#0d0887"
            ],
            [
             0.1111111111111111,
             "#46039f"
            ],
            [
             0.2222222222222222,
             "#7201a8"
            ],
            [
             0.3333333333333333,
             "#9c179e"
            ],
            [
             0.4444444444444444,
             "#bd3786"
            ],
            [
             0.5555555555555556,
             "#d8576b"
            ],
            [
             0.6666666666666666,
             "#ed7953"
            ],
            [
             0.7777777777777778,
             "#fb9f3a"
            ],
            [
             0.8888888888888888,
             "#fdca26"
            ],
            [
             1,
             "#f0f921"
            ]
           ],
           "sequentialminus": [
            [
             0,
             "#0d0887"
            ],
            [
             0.1111111111111111,
             "#46039f"
            ],
            [
             0.2222222222222222,
             "#7201a8"
            ],
            [
             0.3333333333333333,
             "#9c179e"
            ],
            [
             0.4444444444444444,
             "#bd3786"
            ],
            [
             0.5555555555555556,
             "#d8576b"
            ],
            [
             0.6666666666666666,
             "#ed7953"
            ],
            [
             0.7777777777777778,
             "#fb9f3a"
            ],
            [
             0.8888888888888888,
             "#fdca26"
            ],
            [
             1,
             "#f0f921"
            ]
           ]
          },
          "colorway": [
           "#636efa",
           "#EF553B",
           "#00cc96",
           "#ab63fa",
           "#FFA15A",
           "#19d3f3",
           "#FF6692",
           "#B6E880",
           "#FF97FF",
           "#FECB52"
          ],
          "font": {
           "color": "#2a3f5f"
          },
          "geo": {
           "bgcolor": "white",
           "lakecolor": "white",
           "landcolor": "#E5ECF6",
           "showlakes": true,
           "showland": true,
           "subunitcolor": "white"
          },
          "hoverlabel": {
           "align": "left"
          },
          "hovermode": "closest",
          "mapbox": {
           "style": "light"
          },
          "paper_bgcolor": "white",
          "plot_bgcolor": "#E5ECF6",
          "polar": {
           "angularaxis": {
            "gridcolor": "white",
            "linecolor": "white",
            "ticks": ""
           },
           "bgcolor": "#E5ECF6",
           "radialaxis": {
            "gridcolor": "white",
            "linecolor": "white",
            "ticks": ""
           }
          },
          "scene": {
           "xaxis": {
            "backgroundcolor": "#E5ECF6",
            "gridcolor": "white",
            "gridwidth": 2,
            "linecolor": "white",
            "showbackground": true,
            "ticks": "",
            "zerolinecolor": "white"
           },
           "yaxis": {
            "backgroundcolor": "#E5ECF6",
            "gridcolor": "white",
            "gridwidth": 2,
            "linecolor": "white",
            "showbackground": true,
            "ticks": "",
            "zerolinecolor": "white"
           },
           "zaxis": {
            "backgroundcolor": "#E5ECF6",
            "gridcolor": "white",
            "gridwidth": 2,
            "linecolor": "white",
            "showbackground": true,
            "ticks": "",
            "zerolinecolor": "white"
           }
          },
          "shapedefaults": {
           "line": {
            "color": "#2a3f5f"
           }
          },
          "ternary": {
           "aaxis": {
            "gridcolor": "white",
            "linecolor": "white",
            "ticks": ""
           },
           "baxis": {
            "gridcolor": "white",
            "linecolor": "white",
            "ticks": ""
           },
           "bgcolor": "#E5ECF6",
           "caxis": {
            "gridcolor": "white",
            "linecolor": "white",
            "ticks": ""
           }
          },
          "title": {
           "x": 0.05
          },
          "xaxis": {
           "automargin": true,
           "gridcolor": "white",
           "linecolor": "white",
           "ticks": "",
           "title": {
            "standoff": 15
           },
           "zerolinecolor": "white",
           "zerolinewidth": 2
          },
          "yaxis": {
           "automargin": true,
           "gridcolor": "white",
           "linecolor": "white",
           "ticks": "",
           "title": {
            "standoff": 15
           },
           "zerolinecolor": "white",
           "zerolinewidth": 2
          }
         }
        },
        "title": {
         "text": "unique_word_count"
        },
        "updatemenus": [
         {
          "buttons": [
           {
            "args": [
             {
              "visible": [
               true,
               false,
               false,
               false,
               false,
               false,
               false,
               false,
               false,
               false,
               false
              ]
             },
             {
              "title": "unique_word_count"
             }
            ],
            "label": "unique_word_count",
            "method": "update"
           },
           {
            "args": [
             {
              "visible": [
               false,
               true,
               false,
               false,
               false,
               false,
               false,
               false,
               false,
               false,
               false
              ]
             },
             {
              "title": "average_word_length"
             }
            ],
            "label": "average_word_length",
            "method": "update"
           },
           {
            "args": [
             {
              "visible": [
               false,
               false,
               true,
               false,
               false,
               false,
               false,
               false,
               false,
               false,
               false
              ]
             },
             {
              "title": "average_sentence_length"
             }
            ],
            "label": "average_sentence_length",
            "method": "update"
           },
           {
            "args": [
             {
              "visible": [
               false,
               false,
               false,
               true,
               false,
               false,
               false,
               false,
               false,
               false,
               false
              ]
             },
             {
              "title": "average_syllables_per_word"
             }
            ],
            "label": "average_syllables_per_word",
            "method": "update"
           },
           {
            "args": [
             {
              "visible": [
               false,
               false,
               false,
               false,
               true,
               false,
               false,
               false,
               false,
               false,
               false
              ]
             },
             {
              "title": "flesch_reading_ease"
             }
            ],
            "label": "flesch_reading_ease",
            "method": "update"
           },
           {
            "args": [
             {
              "visible": [
               false,
               false,
               false,
               false,
               false,
               true,
               false,
               false,
               false,
               false,
               false
              ]
             },
             {
              "title": "flesch_kincaid_grade_level"
             }
            ],
            "label": "flesch_kincaid_grade_level",
            "method": "update"
           },
           {
            "args": [
             {
              "visible": [
               false,
               false,
               false,
               false,
               false,
               false,
               true,
               false,
               false,
               false,
               false
              ]
             },
             {
              "title": "gunning_fog_index"
             }
            ],
            "label": "gunning_fog_index",
            "method": "update"
           },
           {
            "args": [
             {
              "visible": [
               false,
               false,
               false,
               false,
               false,
               false,
               false,
               true,
               false,
               false,
               false
              ]
             },
             {
              "title": "yules_characteristic_k"
             }
            ],
            "label": "yules_characteristic_k",
            "method": "update"
           },
           {
            "args": [
             {
              "visible": [
               false,
               false,
               false,
               false,
               false,
               false,
               false,
               false,
               true,
               false,
               false
              ]
             },
             {
              "title": "herdans_c"
             }
            ],
            "label": "herdans_c",
            "method": "update"
           },
           {
            "args": [
             {
              "visible": [
               false,
               false,
               false,
               false,
               false,
               false,
               false,
               false,
               false,
               true,
               false
              ]
             },
             {
              "title": "maas"
             }
            ],
            "label": "maas",
            "method": "update"
           },
           {
            "args": [
             {
              "visible": [
               false,
               false,
               false,
               false,
               false,
               false,
               false,
               false,
               false,
               false,
               true
              ]
             },
             {
              "title": "simpsons_index"
             }
            ],
            "label": "simpsons_index",
            "method": "update"
           }
          ],
          "direction": "down",
          "type": "dropdown"
         }
        ]
       }
      }
     },
     "metadata": {},
     "output_type": "display_data"
    }
   ],
   "source": [
    "visualization = AnalysisVisualization(settings)\n",
    "visualization.visualize(analysis_data)"
   ]
  }
 ],
 "metadata": {
  "kernelspec": {
   "display_name": ".venv",
   "language": "python",
   "name": "python3"
  },
  "language_info": {
   "codemirror_mode": {
    "name": "ipython",
    "version": 3
   },
   "file_extension": ".py",
   "mimetype": "text/x-python",
   "name": "python",
   "nbconvert_exporter": "python",
   "pygments_lexer": "ipython3",
   "version": "3.12.1"
  }
 },
 "nbformat": 4,
 "nbformat_minor": 2
}
