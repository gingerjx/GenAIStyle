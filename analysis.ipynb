{
 "cells": [
  {
   "cell_type": "markdown",
   "metadata": {},
   "source": [
    "# Analysis\n",
    "\n",
    "Notebook reads the list of the selected authors from `res/selected/author_list` and loads their text data from book and genereted resources available in `res` directory.\n",
    "Displayed data:\n",
    "- Notebook displays the number of words per each source-author pair.\n",
    "- Analysis on chunk of `configuration.analysis_size` size\n",
    "    - Average word length\n",
    "    - Average sentence length\n",
    "    - Unique words count\n",
    "    - Top 10 function words\n",
    "\n",
    "Further work on that notebook is planned.\n",
    "\n",
    "*Note: the list of function words are taken from [functionwords](https://pypi.org/project/functionwords/) package.*"
   ]
  },
  {
   "cell_type": "code",
   "execution_count": 1,
   "metadata": {},
   "outputs": [
    {
     "name": "stderr",
     "output_type": "stream",
     "text": [
      "[nltk_data] Downloading package punkt to\n",
      "[nltk_data]     C:\\Users\\piotr\\AppData\\Roaming\\nltk_data...\n",
      "[nltk_data]   Package punkt is already up-to-date!\n",
      "c:\\Projects\\Thesis\\.venv\\Lib\\site-packages\\pydantic\\_internal\\_fields.py:151: UserWarning: Field \"model_dirs\" has conflict with protected namespace \"model_\".\n",
      "\n",
      "You may be able to resolve this warning by setting `model_config['protected_namespaces'] = ()`.\n",
      "  warnings.warn(\n"
     ]
    }
   ],
   "source": [
    "from src import *"
   ]
  },
  {
   "cell_type": "code",
   "execution_count": 2,
   "metadata": {},
   "outputs": [],
   "source": [
    "configuration = Configuration()"
   ]
  },
  {
   "cell_type": "code",
   "execution_count": 3,
   "metadata": {},
   "outputs": [],
   "source": [
    "authors = []\n",
    "for author_name in FileUtils.read_authors(configuration.selected_authors_filepath):\n",
    "    author = Author(name=author_name)\n",
    "    author.read_book_collection(configuration.all_book_data_directory)\n",
    "    author.read_generated_texts(configuration.model_dirs)\n",
    "    authors.append(author)"
   ]
  },
  {
   "cell_type": "code",
   "execution_count": 4,
   "metadata": {},
   "outputs": [],
   "source": [
    "analysis = Analysis(configuration.analysis_size)\n",
    "analysis_data = analysis.analyze(authors)"
   ]
  },
  {
   "cell_type": "code",
   "execution_count": 5,
   "metadata": {},
   "outputs": [
    {
     "data": {
      "application/vnd.plotly.v1+json": {
       "config": {
        "plotlyServerURL": "https://plot.ly"
       },
       "data": [
        {
         "marker": {
          "color": "#3498db"
         },
         "name": "books",
         "type": "bar",
         "x": [
          "Mark Twain",
          "Zane Grey",
          "Joseph Conrad",
          "George Eliot",
          "Benjamin Disraeli",
          "Lucy Maud Montgomery",
          "William Henry Hudson",
          "Howard Pyle",
          "Virginia Woolf",
          "Lewis Carroll"
         ],
         "xaxis": "x3",
         "y": [
          3821,
          3117,
          3336,
          3191,
          3535,
          2863,
          3137,
          3159,
          3413,
          3523
         ],
         "yaxis": "y3"
        },
        {
         "marker": {
          "color": "#3498db"
         },
         "name": "books",
         "showlegend": false,
         "type": "bar",
         "x": [
          "Mark Twain",
          "Zane Grey",
          "Joseph Conrad",
          "George Eliot",
          "Benjamin Disraeli",
          "Lucy Maud Montgomery",
          "William Henry Hudson",
          "Howard Pyle",
          "Virginia Woolf",
          "Lewis Carroll"
         ],
         "xaxis": "x2",
         "y": [
          4.7499,
          4.5062,
          4.5361,
          4.4466,
          4.5501,
          4.3474,
          4.5572,
          4.7241,
          4.6773,
          4.7495
         ],
         "yaxis": "y2"
        },
        {
         "marker": {
          "color": "#3498db"
         },
         "name": "books",
         "showlegend": false,
         "type": "bar",
         "x": [
          "Mark Twain",
          "Zane Grey",
          "Joseph Conrad",
          "George Eliot",
          "Benjamin Disraeli",
          "Lucy Maud Montgomery",
          "William Henry Hudson",
          "Howard Pyle",
          "Virginia Woolf",
          "Lewis Carroll"
         ],
         "xaxis": "x4",
         "y": [
          25.12562814070352,
          16.44736842105263,
          12.224938875305623,
          24.271844660194176,
          13.458950201884253,
          11.160714285714286,
          27.397260273972602,
          31.34796238244514,
          17.452006980802793,
          12.062726176115802
         ],
         "yaxis": "y4"
        },
        {
         "marker": {
          "color": "#e74c3c"
         },
         "name": "gpt-3.5-turbo-0125",
         "showlegend": false,
         "type": "bar",
         "x": [
          "Mark Twain",
          "Zane Grey",
          "Joseph Conrad",
          "George Eliot",
          "Benjamin Disraeli",
          "Lucy Maud Montgomery",
          "William Henry Hudson",
          "Howard Pyle",
          "Virginia Woolf",
          "Lewis Carroll"
         ],
         "xaxis": "x",
         "y": [
          266836,
          291485,
          309610,
          302864,
          273268,
          289650,
          299097,
          294323,
          290310,
          299543
         ],
         "yaxis": "y"
        },
        {
         "marker": {
          "color": "#e74c3c"
         },
         "name": "gpt-3.5-turbo-0125",
         "type": "bar",
         "x": [
          "Mark Twain",
          "Zane Grey",
          "Joseph Conrad",
          "George Eliot",
          "Benjamin Disraeli",
          "Lucy Maud Montgomery",
          "William Henry Hudson",
          "Howard Pyle",
          "Virginia Woolf",
          "Lewis Carroll"
         ],
         "xaxis": "x3",
         "y": [
          3178,
          3060,
          3039,
          3108,
          3150,
          3012,
          3110,
          3247,
          3070,
          3060
         ],
         "yaxis": "y3"
        },
        {
         "marker": {
          "color": "#e74c3c"
         },
         "name": "gpt-3.5-turbo-0125",
         "showlegend": false,
         "type": "bar",
         "x": [
          "Mark Twain",
          "Zane Grey",
          "Joseph Conrad",
          "George Eliot",
          "Benjamin Disraeli",
          "Lucy Maud Montgomery",
          "William Henry Hudson",
          "Howard Pyle",
          "Virginia Woolf",
          "Lewis Carroll"
         ],
         "xaxis": "x2",
         "y": [
          4.5592,
          4.7017,
          4.8047,
          4.9763,
          4.8343,
          4.7644,
          4.8769,
          4.8017,
          4.8271,
          4.7353
         ],
         "yaxis": "y2"
        },
        {
         "marker": {
          "color": "#e74c3c"
         },
         "name": "gpt-3.5-turbo-0125",
         "showlegend": false,
         "type": "bar",
         "x": [
          "Mark Twain",
          "Zane Grey",
          "Joseph Conrad",
          "George Eliot",
          "Benjamin Disraeli",
          "Lucy Maud Montgomery",
          "William Henry Hudson",
          "Howard Pyle",
          "Virginia Woolf",
          "Lewis Carroll"
         ],
         "xaxis": "x4",
         "y": [
          20.28397565922921,
          20.66115702479339,
          22.573363431151243,
          21.50537634408602,
          22.471910112359552,
          21.598272138228943,
          24.271844660194176,
          20.92050209205021,
          23.58490566037736,
          21.598272138228943
         ],
         "yaxis": "y4"
        },
        {
         "marker": {
          "color": "#2ecc71"
         },
         "name": "gpt-4o",
         "showlegend": false,
         "type": "bar",
         "x": [
          "Mark Twain",
          "Zane Grey",
          "Joseph Conrad",
          "George Eliot",
          "Benjamin Disraeli",
          "Lucy Maud Montgomery",
          "William Henry Hudson",
          "Howard Pyle",
          "Virginia Woolf",
          "Lewis Carroll"
         ],
         "xaxis": "x",
         "y": [
          321708,
          339979,
          341626,
          301971,
          252597,
          275689,
          268607,
          260426,
          251298,
          262469
         ],
         "yaxis": "y"
        },
        {
         "marker": {
          "color": "#2ecc71"
         },
         "name": "gpt-4o",
         "type": "bar",
         "x": [
          "Mark Twain",
          "Zane Grey",
          "Joseph Conrad",
          "George Eliot",
          "Benjamin Disraeli",
          "Lucy Maud Montgomery",
          "William Henry Hudson",
          "Howard Pyle",
          "Virginia Woolf",
          "Lewis Carroll"
         ],
         "xaxis": "x3",
         "y": [
          3567,
          3211,
          3142,
          3409,
          3335,
          3230,
          3312,
          3323,
          3130,
          3354
         ],
         "yaxis": "y3"
        },
        {
         "marker": {
          "color": "#2ecc71"
         },
         "name": "gpt-4o",
         "showlegend": false,
         "type": "bar",
         "x": [
          "Mark Twain",
          "Zane Grey",
          "Joseph Conrad",
          "George Eliot",
          "Benjamin Disraeli",
          "Lucy Maud Montgomery",
          "William Henry Hudson",
          "Howard Pyle",
          "Virginia Woolf",
          "Lewis Carroll"
         ],
         "xaxis": "x2",
         "y": [
          4.6939,
          4.7544,
          4.744,
          4.9501,
          4.9104,
          4.8243,
          4.8481,
          4.7778,
          4.7424,
          4.8671
         ],
         "yaxis": "y2"
        },
        {
         "marker": {
          "color": "#2ecc71"
         },
         "name": "gpt-4o",
         "showlegend": false,
         "type": "bar",
         "x": [
          "Mark Twain",
          "Zane Grey",
          "Joseph Conrad",
          "George Eliot",
          "Benjamin Disraeli",
          "Lucy Maud Montgomery",
          "William Henry Hudson",
          "Howard Pyle",
          "Virginia Woolf",
          "Lewis Carroll"
         ],
         "xaxis": "x4",
         "y": [
          18.34862385321101,
          17.452006980802793,
          21.598272138228943,
          21.78649237472767,
          21.09704641350211,
          21.367521367521366,
          21.1864406779661,
          20.5761316872428,
          20.491803278688526,
          17.57469244288225
         ],
         "yaxis": "y4"
        },
        {
         "marker": {
          "color": "#f1c40f"
         },
         "name": "gemini-1.5-flash",
         "showlegend": false,
         "type": "bar",
         "x": [
          "Mark Twain",
          "Zane Grey",
          "Joseph Conrad",
          "George Eliot",
          "Benjamin Disraeli",
          "Lucy Maud Montgomery",
          "William Henry Hudson",
          "Howard Pyle",
          "Virginia Woolf",
          "Lewis Carroll"
         ],
         "xaxis": "x",
         "y": [
          296241,
          311333,
          318018,
          280499,
          251675,
          277642,
          285844,
          278597,
          278004,
          262999
         ],
         "yaxis": "y"
        },
        {
         "marker": {
          "color": "#f1c40f"
         },
         "name": "gemini-1.5-flash",
         "type": "bar",
         "x": [
          "Mark Twain",
          "Zane Grey",
          "Joseph Conrad",
          "George Eliot",
          "Benjamin Disraeli",
          "Lucy Maud Montgomery",
          "William Henry Hudson",
          "Howard Pyle",
          "Virginia Woolf",
          "Lewis Carroll"
         ],
         "xaxis": "x3",
         "y": [
          3099,
          3050,
          2975,
          3017,
          3004,
          3228,
          2908,
          3020,
          2888,
          3363
         ],
         "yaxis": "y3"
        },
        {
         "marker": {
          "color": "#f1c40f"
         },
         "name": "gemini-1.5-flash",
         "showlegend": false,
         "type": "bar",
         "x": [
          "Mark Twain",
          "Zane Grey",
          "Joseph Conrad",
          "George Eliot",
          "Benjamin Disraeli",
          "Lucy Maud Montgomery",
          "William Henry Hudson",
          "Howard Pyle",
          "Virginia Woolf",
          "Lewis Carroll"
         ],
         "xaxis": "x2",
         "y": [
          4.5827,
          4.7334,
          4.7728,
          4.8576,
          4.864,
          4.8007,
          4.7682,
          4.6515,
          4.7247,
          4.8037
         ],
         "yaxis": "y2"
        },
        {
         "marker": {
          "color": "#f1c40f"
         },
         "name": "gemini-1.5-flash",
         "showlegend": false,
         "type": "bar",
         "x": [
          "Mark Twain",
          "Zane Grey",
          "Joseph Conrad",
          "George Eliot",
          "Benjamin Disraeli",
          "Lucy Maud Montgomery",
          "William Henry Hudson",
          "Howard Pyle",
          "Virginia Woolf",
          "Lewis Carroll"
         ],
         "xaxis": "x4",
         "y": [
          17.36111111111111,
          17.33102253032929,
          20.70393374741201,
          21.691973969631235,
          20.53388090349076,
          18.281535648994517,
          20.5761316872428,
          18.69158878504673,
          20.242914979757085,
          16.31321370309951
         ],
         "yaxis": "y4"
        },
        {
         "marker": {
          "color": "#9b59b6"
         },
         "name": "open-mixtral-8x7b",
         "showlegend": false,
         "type": "bar",
         "x": [
          "Mark Twain",
          "Zane Grey",
          "Joseph Conrad",
          "George Eliot",
          "Benjamin Disraeli",
          "Lucy Maud Montgomery",
          "William Henry Hudson",
          "Howard Pyle",
          "Virginia Woolf",
          "Lewis Carroll"
         ],
         "xaxis": "x",
         "y": [
          251158,
          251181,
          288596,
          259673,
          251727,
          265811,
          252319,
          250960,
          250558,
          251338
         ],
         "yaxis": "y"
        },
        {
         "marker": {
          "color": "#9b59b6"
         },
         "name": "open-mixtral-8x7b",
         "type": "bar",
         "x": [
          "Mark Twain",
          "Zane Grey",
          "Joseph Conrad",
          "George Eliot",
          "Benjamin Disraeli",
          "Lucy Maud Montgomery",
          "William Henry Hudson",
          "Howard Pyle",
          "Virginia Woolf",
          "Lewis Carroll"
         ],
         "xaxis": "x3",
         "y": [
          2989,
          2801,
          2762,
          3014,
          2933,
          2902,
          3063,
          2800,
          2489,
          3267
         ],
         "yaxis": "y3"
        },
        {
         "marker": {
          "color": "#9b59b6"
         },
         "name": "open-mixtral-8x7b",
         "showlegend": false,
         "type": "bar",
         "x": [
          "Mark Twain",
          "Zane Grey",
          "Joseph Conrad",
          "George Eliot",
          "Benjamin Disraeli",
          "Lucy Maud Montgomery",
          "William Henry Hudson",
          "Howard Pyle",
          "Virginia Woolf",
          "Lewis Carroll"
         ],
         "xaxis": "x2",
         "y": [
          4.5302,
          4.5965,
          4.7925,
          4.9034,
          4.8744,
          4.6505,
          4.864,
          4.5777,
          4.5129,
          4.8779
         ],
         "yaxis": "y2"
        },
        {
         "marker": {
          "color": "#9b59b6"
         },
         "name": "open-mixtral-8x7b",
         "showlegend": false,
         "type": "bar",
         "x": [
          "Mark Twain",
          "Zane Grey",
          "Joseph Conrad",
          "George Eliot",
          "Benjamin Disraeli",
          "Lucy Maud Montgomery",
          "William Henry Hudson",
          "Howard Pyle",
          "Virginia Woolf",
          "Lewis Carroll"
         ],
         "xaxis": "x4",
         "y": [
          21.321961620469082,
          21.367521367521366,
          28.571428571428573,
          26.80965147453083,
          26.595744680851062,
          21.1864406779661,
          27.100271002710027,
          24.154589371980677,
          24.57002457002457,
          19.342359767891683
         ],
         "yaxis": "y4"
        },
        {
         "marker": {
          "color": "#e67e22"
         },
         "name": "claude-3-haiku-20240307",
         "showlegend": false,
         "type": "bar",
         "x": [
          "Mark Twain",
          "Zane Grey",
          "Joseph Conrad",
          "George Eliot",
          "Benjamin Disraeli",
          "Lucy Maud Montgomery",
          "William Henry Hudson",
          "Howard Pyle",
          "Virginia Woolf",
          "Lewis Carroll"
         ],
         "xaxis": "x",
         "y": [
          689448,
          630247,
          607500,
          559328,
          558132,
          546884,
          588979,
          481421,
          469918,
          608291
         ],
         "yaxis": "y"
        },
        {
         "marker": {
          "color": "#e67e22"
         },
         "name": "claude-3-haiku-20240307",
         "type": "bar",
         "x": [
          "Mark Twain",
          "Zane Grey",
          "Joseph Conrad",
          "George Eliot",
          "Benjamin Disraeli",
          "Lucy Maud Montgomery",
          "William Henry Hudson",
          "Howard Pyle",
          "Virginia Woolf",
          "Lewis Carroll"
         ],
         "xaxis": "x3",
         "y": [
          2930,
          3164,
          2766,
          3030,
          2874,
          3168,
          2861,
          2752,
          2897,
          2446
         ],
         "yaxis": "y3"
        },
        {
         "marker": {
          "color": "#e67e22"
         },
         "name": "claude-3-haiku-20240307",
         "showlegend": false,
         "type": "bar",
         "x": [
          "Mark Twain",
          "Zane Grey",
          "Joseph Conrad",
          "George Eliot",
          "Benjamin Disraeli",
          "Lucy Maud Montgomery",
          "William Henry Hudson",
          "Howard Pyle",
          "Virginia Woolf",
          "Lewis Carroll"
         ],
         "xaxis": "x2",
         "y": [
          4.5571,
          4.793,
          4.7905,
          4.9063,
          4.8596,
          4.7993,
          4.9139,
          4.8342,
          4.7409,
          4.5603
         ],
         "yaxis": "y2"
        },
        {
         "marker": {
          "color": "#e67e22"
         },
         "name": "claude-3-haiku-20240307",
         "showlegend": false,
         "type": "bar",
         "x": [
          "Mark Twain",
          "Zane Grey",
          "Joseph Conrad",
          "George Eliot",
          "Benjamin Disraeli",
          "Lucy Maud Montgomery",
          "William Henry Hudson",
          "Howard Pyle",
          "Virginia Woolf",
          "Lewis Carroll"
         ],
         "xaxis": "x4",
         "y": [
          20.70393374741201,
          21.231422505307854,
          26.80965147453083,
          29.154518950437318,
          27.855153203342617,
          24.096385542168676,
          28.49002849002849,
          24.752475247524753,
          26.455026455026456,
          26.17801047120419
         ],
         "yaxis": "y4"
        }
       ],
       "layout": {
        "annotations": [
         {
          "font": {
           "size": 16
          },
          "showarrow": false,
          "text": "Word counts",
          "x": 0.225,
          "xanchor": "center",
          "xref": "paper",
          "y": 1,
          "yanchor": "bottom",
          "yref": "paper"
         },
         {
          "font": {
           "size": 16
          },
          "showarrow": false,
          "text": "Average word length",
          "x": 0.775,
          "xanchor": "center",
          "xref": "paper",
          "y": 1,
          "yanchor": "bottom",
          "yref": "paper"
         },
         {
          "font": {
           "size": 16
          },
          "showarrow": false,
          "text": "Unique word count",
          "x": 0.225,
          "xanchor": "center",
          "xref": "paper",
          "y": 0.3,
          "yanchor": "bottom",
          "yref": "paper"
         },
         {
          "font": {
           "size": 16
          },
          "showarrow": false,
          "text": "Average sentence length",
          "x": 0.775,
          "xanchor": "center",
          "xref": "paper",
          "y": 0.3,
          "yanchor": "bottom",
          "yref": "paper"
         }
        ],
        "legend": {
         "title": {
          "text": "Text source"
         }
        },
        "template": {
         "data": {
          "bar": [
           {
            "error_x": {
             "color": "#2a3f5f"
            },
            "error_y": {
             "color": "#2a3f5f"
            },
            "marker": {
             "line": {
              "color": "#E5ECF6",
              "width": 0.5
             },
             "pattern": {
              "fillmode": "overlay",
              "size": 10,
              "solidity": 0.2
             }
            },
            "type": "bar"
           }
          ],
          "barpolar": [
           {
            "marker": {
             "line": {
              "color": "#E5ECF6",
              "width": 0.5
             },
             "pattern": {
              "fillmode": "overlay",
              "size": 10,
              "solidity": 0.2
             }
            },
            "type": "barpolar"
           }
          ],
          "carpet": [
           {
            "aaxis": {
             "endlinecolor": "#2a3f5f",
             "gridcolor": "white",
             "linecolor": "white",
             "minorgridcolor": "white",
             "startlinecolor": "#2a3f5f"
            },
            "baxis": {
             "endlinecolor": "#2a3f5f",
             "gridcolor": "white",
             "linecolor": "white",
             "minorgridcolor": "white",
             "startlinecolor": "#2a3f5f"
            },
            "type": "carpet"
           }
          ],
          "choropleth": [
           {
            "colorbar": {
             "outlinewidth": 0,
             "ticks": ""
            },
            "type": "choropleth"
           }
          ],
          "contour": [
           {
            "colorbar": {
             "outlinewidth": 0,
             "ticks": ""
            },
            "colorscale": [
             [
              0,
              "#0d0887"
             ],
             [
              0.1111111111111111,
              "#46039f"
             ],
             [
              0.2222222222222222,
              "#7201a8"
             ],
             [
              0.3333333333333333,
              "#9c179e"
             ],
             [
              0.4444444444444444,
              "#bd3786"
             ],
             [
              0.5555555555555556,
              "#d8576b"
             ],
             [
              0.6666666666666666,
              "#ed7953"
             ],
             [
              0.7777777777777778,
              "#fb9f3a"
             ],
             [
              0.8888888888888888,
              "#fdca26"
             ],
             [
              1,
              "#f0f921"
             ]
            ],
            "type": "contour"
           }
          ],
          "contourcarpet": [
           {
            "colorbar": {
             "outlinewidth": 0,
             "ticks": ""
            },
            "type": "contourcarpet"
           }
          ],
          "heatmap": [
           {
            "colorbar": {
             "outlinewidth": 0,
             "ticks": ""
            },
            "colorscale": [
             [
              0,
              "#0d0887"
             ],
             [
              0.1111111111111111,
              "#46039f"
             ],
             [
              0.2222222222222222,
              "#7201a8"
             ],
             [
              0.3333333333333333,
              "#9c179e"
             ],
             [
              0.4444444444444444,
              "#bd3786"
             ],
             [
              0.5555555555555556,
              "#d8576b"
             ],
             [
              0.6666666666666666,
              "#ed7953"
             ],
             [
              0.7777777777777778,
              "#fb9f3a"
             ],
             [
              0.8888888888888888,
              "#fdca26"
             ],
             [
              1,
              "#f0f921"
             ]
            ],
            "type": "heatmap"
           }
          ],
          "heatmapgl": [
           {
            "colorbar": {
             "outlinewidth": 0,
             "ticks": ""
            },
            "colorscale": [
             [
              0,
              "#0d0887"
             ],
             [
              0.1111111111111111,
              "#46039f"
             ],
             [
              0.2222222222222222,
              "#7201a8"
             ],
             [
              0.3333333333333333,
              "#9c179e"
             ],
             [
              0.4444444444444444,
              "#bd3786"
             ],
             [
              0.5555555555555556,
              "#d8576b"
             ],
             [
              0.6666666666666666,
              "#ed7953"
             ],
             [
              0.7777777777777778,
              "#fb9f3a"
             ],
             [
              0.8888888888888888,
              "#fdca26"
             ],
             [
              1,
              "#f0f921"
             ]
            ],
            "type": "heatmapgl"
           }
          ],
          "histogram": [
           {
            "marker": {
             "pattern": {
              "fillmode": "overlay",
              "size": 10,
              "solidity": 0.2
             }
            },
            "type": "histogram"
           }
          ],
          "histogram2d": [
           {
            "colorbar": {
             "outlinewidth": 0,
             "ticks": ""
            },
            "colorscale": [
             [
              0,
              "#0d0887"
             ],
             [
              0.1111111111111111,
              "#46039f"
             ],
             [
              0.2222222222222222,
              "#7201a8"
             ],
             [
              0.3333333333333333,
              "#9c179e"
             ],
             [
              0.4444444444444444,
              "#bd3786"
             ],
             [
              0.5555555555555556,
              "#d8576b"
             ],
             [
              0.6666666666666666,
              "#ed7953"
             ],
             [
              0.7777777777777778,
              "#fb9f3a"
             ],
             [
              0.8888888888888888,
              "#fdca26"
             ],
             [
              1,
              "#f0f921"
             ]
            ],
            "type": "histogram2d"
           }
          ],
          "histogram2dcontour": [
           {
            "colorbar": {
             "outlinewidth": 0,
             "ticks": ""
            },
            "colorscale": [
             [
              0,
              "#0d0887"
             ],
             [
              0.1111111111111111,
              "#46039f"
             ],
             [
              0.2222222222222222,
              "#7201a8"
             ],
             [
              0.3333333333333333,
              "#9c179e"
             ],
             [
              0.4444444444444444,
              "#bd3786"
             ],
             [
              0.5555555555555556,
              "#d8576b"
             ],
             [
              0.6666666666666666,
              "#ed7953"
             ],
             [
              0.7777777777777778,
              "#fb9f3a"
             ],
             [
              0.8888888888888888,
              "#fdca26"
             ],
             [
              1,
              "#f0f921"
             ]
            ],
            "type": "histogram2dcontour"
           }
          ],
          "mesh3d": [
           {
            "colorbar": {
             "outlinewidth": 0,
             "ticks": ""
            },
            "type": "mesh3d"
           }
          ],
          "parcoords": [
           {
            "line": {
             "colorbar": {
              "outlinewidth": 0,
              "ticks": ""
             }
            },
            "type": "parcoords"
           }
          ],
          "pie": [
           {
            "automargin": true,
            "type": "pie"
           }
          ],
          "scatter": [
           {
            "fillpattern": {
             "fillmode": "overlay",
             "size": 10,
             "solidity": 0.2
            },
            "type": "scatter"
           }
          ],
          "scatter3d": [
           {
            "line": {
             "colorbar": {
              "outlinewidth": 0,
              "ticks": ""
             }
            },
            "marker": {
             "colorbar": {
              "outlinewidth": 0,
              "ticks": ""
             }
            },
            "type": "scatter3d"
           }
          ],
          "scattercarpet": [
           {
            "marker": {
             "colorbar": {
              "outlinewidth": 0,
              "ticks": ""
             }
            },
            "type": "scattercarpet"
           }
          ],
          "scattergeo": [
           {
            "marker": {
             "colorbar": {
              "outlinewidth": 0,
              "ticks": ""
             }
            },
            "type": "scattergeo"
           }
          ],
          "scattergl": [
           {
            "marker": {
             "colorbar": {
              "outlinewidth": 0,
              "ticks": ""
             }
            },
            "type": "scattergl"
           }
          ],
          "scattermapbox": [
           {
            "marker": {
             "colorbar": {
              "outlinewidth": 0,
              "ticks": ""
             }
            },
            "type": "scattermapbox"
           }
          ],
          "scatterpolar": [
           {
            "marker": {
             "colorbar": {
              "outlinewidth": 0,
              "ticks": ""
             }
            },
            "type": "scatterpolar"
           }
          ],
          "scatterpolargl": [
           {
            "marker": {
             "colorbar": {
              "outlinewidth": 0,
              "ticks": ""
             }
            },
            "type": "scatterpolargl"
           }
          ],
          "scatterternary": [
           {
            "marker": {
             "colorbar": {
              "outlinewidth": 0,
              "ticks": ""
             }
            },
            "type": "scatterternary"
           }
          ],
          "surface": [
           {
            "colorbar": {
             "outlinewidth": 0,
             "ticks": ""
            },
            "colorscale": [
             [
              0,
              "#0d0887"
             ],
             [
              0.1111111111111111,
              "#46039f"
             ],
             [
              0.2222222222222222,
              "#7201a8"
             ],
             [
              0.3333333333333333,
              "#9c179e"
             ],
             [
              0.4444444444444444,
              "#bd3786"
             ],
             [
              0.5555555555555556,
              "#d8576b"
             ],
             [
              0.6666666666666666,
              "#ed7953"
             ],
             [
              0.7777777777777778,
              "#fb9f3a"
             ],
             [
              0.8888888888888888,
              "#fdca26"
             ],
             [
              1,
              "#f0f921"
             ]
            ],
            "type": "surface"
           }
          ],
          "table": [
           {
            "cells": {
             "fill": {
              "color": "#EBF0F8"
             },
             "line": {
              "color": "white"
             }
            },
            "header": {
             "fill": {
              "color": "#C8D4E3"
             },
             "line": {
              "color": "white"
             }
            },
            "type": "table"
           }
          ]
         },
         "layout": {
          "annotationdefaults": {
           "arrowcolor": "#2a3f5f",
           "arrowhead": 0,
           "arrowwidth": 1
          },
          "autotypenumbers": "strict",
          "coloraxis": {
           "colorbar": {
            "outlinewidth": 0,
            "ticks": ""
           }
          },
          "colorscale": {
           "diverging": [
            [
             0,
             "#8e0152"
            ],
            [
             0.1,
             "#c51b7d"
            ],
            [
             0.2,
             "#de77ae"
            ],
            [
             0.3,
             "#f1b6da"
            ],
            [
             0.4,
             "#fde0ef"
            ],
            [
             0.5,
             "#f7f7f7"
            ],
            [
             0.6,
             "#e6f5d0"
            ],
            [
             0.7,
             "#b8e186"
            ],
            [
             0.8,
             "#7fbc41"
            ],
            [
             0.9,
             "#4d9221"
            ],
            [
             1,
             "#276419"
            ]
           ],
           "sequential": [
            [
             0,
             "#0d0887"
            ],
            [
             0.1111111111111111,
             "#46039f"
            ],
            [
             0.2222222222222222,
             "#7201a8"
            ],
            [
             0.3333333333333333,
             "#9c179e"
            ],
            [
             0.4444444444444444,
             "#bd3786"
            ],
            [
             0.5555555555555556,
             "#d8576b"
            ],
            [
             0.6666666666666666,
             "#ed7953"
            ],
            [
             0.7777777777777778,
             "#fb9f3a"
            ],
            [
             0.8888888888888888,
             "#fdca26"
            ],
            [
             1,
             "#f0f921"
            ]
           ],
           "sequentialminus": [
            [
             0,
             "#0d0887"
            ],
            [
             0.1111111111111111,
             "#46039f"
            ],
            [
             0.2222222222222222,
             "#7201a8"
            ],
            [
             0.3333333333333333,
             "#9c179e"
            ],
            [
             0.4444444444444444,
             "#bd3786"
            ],
            [
             0.5555555555555556,
             "#d8576b"
            ],
            [
             0.6666666666666666,
             "#ed7953"
            ],
            [
             0.7777777777777778,
             "#fb9f3a"
            ],
            [
             0.8888888888888888,
             "#fdca26"
            ],
            [
             1,
             "#f0f921"
            ]
           ]
          },
          "colorway": [
           "#636efa",
           "#EF553B",
           "#00cc96",
           "#ab63fa",
           "#FFA15A",
           "#19d3f3",
           "#FF6692",
           "#B6E880",
           "#FF97FF",
           "#FECB52"
          ],
          "font": {
           "color": "#2a3f5f"
          },
          "geo": {
           "bgcolor": "white",
           "lakecolor": "white",
           "landcolor": "#E5ECF6",
           "showlakes": true,
           "showland": true,
           "subunitcolor": "white"
          },
          "hoverlabel": {
           "align": "left"
          },
          "hovermode": "closest",
          "mapbox": {
           "style": "light"
          },
          "paper_bgcolor": "white",
          "plot_bgcolor": "#E5ECF6",
          "polar": {
           "angularaxis": {
            "gridcolor": "white",
            "linecolor": "white",
            "ticks": ""
           },
           "bgcolor": "#E5ECF6",
           "radialaxis": {
            "gridcolor": "white",
            "linecolor": "white",
            "ticks": ""
           }
          },
          "scene": {
           "xaxis": {
            "backgroundcolor": "#E5ECF6",
            "gridcolor": "white",
            "gridwidth": 2,
            "linecolor": "white",
            "showbackground": true,
            "ticks": "",
            "zerolinecolor": "white"
           },
           "yaxis": {
            "backgroundcolor": "#E5ECF6",
            "gridcolor": "white",
            "gridwidth": 2,
            "linecolor": "white",
            "showbackground": true,
            "ticks": "",
            "zerolinecolor": "white"
           },
           "zaxis": {
            "backgroundcolor": "#E5ECF6",
            "gridcolor": "white",
            "gridwidth": 2,
            "linecolor": "white",
            "showbackground": true,
            "ticks": "",
            "zerolinecolor": "white"
           }
          },
          "shapedefaults": {
           "line": {
            "color": "#2a3f5f"
           }
          },
          "ternary": {
           "aaxis": {
            "gridcolor": "white",
            "linecolor": "white",
            "ticks": ""
           },
           "baxis": {
            "gridcolor": "white",
            "linecolor": "white",
            "ticks": ""
           },
           "bgcolor": "#E5ECF6",
           "caxis": {
            "gridcolor": "white",
            "linecolor": "white",
            "ticks": ""
           }
          },
          "title": {
           "x": 0.05
          },
          "xaxis": {
           "automargin": true,
           "gridcolor": "white",
           "linecolor": "white",
           "ticks": "",
           "title": {
            "standoff": 15
           },
           "zerolinecolor": "white",
           "zerolinewidth": 2
          },
          "yaxis": {
           "automargin": true,
           "gridcolor": "white",
           "linecolor": "white",
           "ticks": "",
           "title": {
            "standoff": 15
           },
           "zerolinecolor": "white",
           "zerolinewidth": 2
          }
         }
        },
        "xaxis": {
         "anchor": "y",
         "domain": [
          0,
          0.45
         ],
         "tickfont": {
          "size": 10
         }
        },
        "xaxis2": {
         "anchor": "y2",
         "domain": [
          0.55,
          1
         ],
         "tickfont": {
          "size": 10
         }
        },
        "xaxis3": {
         "anchor": "y3",
         "domain": [
          0,
          0.45
         ],
         "tickfont": {
          "size": 10
         }
        },
        "xaxis4": {
         "anchor": "y4",
         "domain": [
          0.55,
          1
         ],
         "tickfont": {
          "size": 10
         }
        },
        "yaxis": {
         "anchor": "x",
         "domain": [
          0.7,
          1
         ]
        },
        "yaxis2": {
         "anchor": "x2",
         "domain": [
          0.7,
          1
         ]
        },
        "yaxis3": {
         "anchor": "x3",
         "domain": [
          0,
          0.3
         ]
        },
        "yaxis4": {
         "anchor": "x4",
         "domain": [
          0,
          0.3
         ]
        }
       }
      }
     },
     "metadata": {},
     "output_type": "display_data"
    },
    {
     "name": "stderr",
     "output_type": "stream",
     "text": [
      "c:\\Projects\\Thesis\\.venv\\Lib\\site-packages\\plotly\\graph_objs\\_deprecations.py:322: DeprecationWarning:\n",
      "\n",
      "plotly.graph_objs.Font is deprecated.\n",
      "Please replace it with one of the following more specific types\n",
      "  - plotly.graph_objs.layout.Font\n",
      "  - plotly.graph_objs.layout.hoverlabel.Font\n",
      "  - etc.\n",
      "\n",
      "\n",
      "c:\\Projects\\Thesis\\.venv\\Lib\\site-packages\\plotly\\graph_objs\\_deprecations.py:572: DeprecationWarning:\n",
      "\n",
      "plotly.graph_objs.YAxis is deprecated.\n",
      "Please replace it with one of the following more specific types\n",
      "  - plotly.graph_objs.layout.YAxis\n",
      "  - plotly.graph_objs.layout.scene.YAxis\n",
      "\n",
      "\n"
     ]
    },
    {
     "data": {
      "application/vnd.plotly.v1+json": {
       "config": {
        "plotlyServerURL": "https://plot.ly"
       },
       "data": [
        {
         "colorbar": {
          "orientation": "h",
          "tickfont": {
           "size": 16
          },
          "x": 0.5,
          "y": 1.3
         },
         "colorscale": [
          [
           0,
           "rgb(255,245,235)"
          ],
          [
           0.125,
           "rgb(254,230,206)"
          ],
          [
           0.25,
           "rgb(253,208,162)"
          ],
          [
           0.375,
           "rgb(253,174,107)"
          ],
          [
           0.5,
           "rgb(253,141,60)"
          ],
          [
           0.625,
           "rgb(241,105,19)"
          ],
          [
           0.75,
           "rgb(217,72,1)"
          ],
          [
           0.875,
           "rgb(166,54,3)"
          ],
          [
           1,
           "rgb(127,39,4)"
          ]
         ],
         "showscale": true,
         "type": "heatmap",
         "xaxis": "x",
         "y": [
          "in",
          "that",
          "it",
          "s",
          "to",
          "and",
          "you",
          "of",
          "the",
          "a"
         ],
         "yaxis": "y",
         "z": [
          [
           144
          ],
          [
           151
          ],
          [
           196
          ],
          [
           201
          ],
          [
           229
          ],
          [
           273
          ],
          [
           284
          ],
          [
           377
          ],
          [
           612
          ],
          [
           635
          ]
         ],
         "zmax": 1000,
         "zmin": 0
        },
        {
         "colorbar": {
          "orientation": "h",
          "tickfont": {
           "size": 16
          },
          "x": 0.5,
          "y": 1.3
         },
         "colorscale": [
          [
           0,
           "rgb(255,245,235)"
          ],
          [
           0.125,
           "rgb(254,230,206)"
          ],
          [
           0.25,
           "rgb(253,208,162)"
          ],
          [
           0.375,
           "rgb(253,174,107)"
          ],
          [
           0.5,
           "rgb(253,141,60)"
          ],
          [
           0.625,
           "rgb(241,105,19)"
          ],
          [
           0.75,
           "rgb(217,72,1)"
          ],
          [
           0.875,
           "rgb(166,54,3)"
          ],
          [
           1,
           "rgb(127,39,4)"
          ]
         ],
         "showscale": false,
         "type": "heatmap",
         "xaxis": "x2",
         "y": [
          "their",
          "with",
          "was",
          "it",
          "that",
          "to",
          "and",
          "of",
          "a",
          "the"
         ],
         "yaxis": "y2",
         "z": [
          [
           118
          ],
          [
           121
          ],
          [
           121
          ],
          [
           122
          ],
          [
           143
          ],
          [
           208
          ],
          [
           275
          ],
          [
           517
          ],
          [
           594
          ],
          [
           843
          ]
         ],
         "zmax": 1000,
         "zmin": 0
        },
        {
         "colorbar": {
          "orientation": "h",
          "tickfont": {
           "size": 16
          },
          "x": 0.5,
          "y": 1.3
         },
         "colorscale": [
          [
           0,
           "rgb(255,245,235)"
          ],
          [
           0.125,
           "rgb(254,230,206)"
          ],
          [
           0.25,
           "rgb(253,208,162)"
          ],
          [
           0.375,
           "rgb(253,174,107)"
          ],
          [
           0.5,
           "rgb(253,141,60)"
          ],
          [
           0.625,
           "rgb(241,105,19)"
          ],
          [
           0.75,
           "rgb(217,72,1)"
          ],
          [
           0.875,
           "rgb(166,54,3)"
          ],
          [
           1,
           "rgb(127,39,4)"
          ]
         ],
         "showscale": false,
         "type": "heatmap",
         "xaxis": "x3",
         "y": [
          "its",
          "in",
          "it",
          "with",
          "to",
          "that",
          "and",
          "of",
          "a",
          "the"
         ],
         "yaxis": "y3",
         "z": [
          [
           83
          ],
          [
           110
          ],
          [
           113
          ],
          [
           141
          ],
          [
           190
          ],
          [
           213
          ],
          [
           267
          ],
          [
           610
          ],
          [
           621
          ],
          [
           843
          ]
         ],
         "zmax": 1000,
         "zmin": 0
        },
        {
         "colorbar": {
          "orientation": "h",
          "tickfont": {
           "size": 16
          },
          "x": 0.5,
          "y": 1.3
         },
         "colorscale": [
          [
           0,
           "rgb(255,245,235)"
          ],
          [
           0.125,
           "rgb(254,230,206)"
          ],
          [
           0.25,
           "rgb(253,208,162)"
          ],
          [
           0.375,
           "rgb(253,174,107)"
          ],
          [
           0.5,
           "rgb(253,141,60)"
          ],
          [
           0.625,
           "rgb(241,105,19)"
          ],
          [
           0.75,
           "rgb(217,72,1)"
          ],
          [
           0.875,
           "rgb(166,54,3)"
          ],
          [
           1,
           "rgb(127,39,4)"
          ]
         ],
         "showscale": false,
         "type": "heatmap",
         "xaxis": "x4",
         "y": [
          "with",
          "is",
          "in",
          "it",
          "that",
          "to",
          "and",
          "a",
          "of",
          "the"
         ],
         "yaxis": "y4",
         "z": [
          [
           90
          ],
          [
           92
          ],
          [
           108
          ],
          [
           112
          ],
          [
           153
          ],
          [
           263
          ],
          [
           271
          ],
          [
           556
          ],
          [
           650
          ],
          [
           905
          ]
         ],
         "zmax": 1000,
         "zmin": 0
        },
        {
         "colorbar": {
          "orientation": "h",
          "tickfont": {
           "size": 16
          },
          "x": 0.5,
          "y": 1.3
         },
         "colorscale": [
          [
           0,
           "rgb(255,245,235)"
          ],
          [
           0.125,
           "rgb(254,230,206)"
          ],
          [
           0.25,
           "rgb(253,208,162)"
          ],
          [
           0.375,
           "rgb(253,174,107)"
          ],
          [
           0.5,
           "rgb(253,141,60)"
          ],
          [
           0.625,
           "rgb(241,105,19)"
          ],
          [
           0.75,
           "rgb(217,72,1)"
          ],
          [
           0.875,
           "rgb(166,54,3)"
          ],
          [
           1,
           "rgb(127,39,4)"
          ]
         ],
         "showscale": false,
         "type": "heatmap",
         "xaxis": "x5",
         "y": [
          "in",
          "you",
          "with",
          "is",
          "that",
          "to",
          "and",
          "a",
          "of",
          "the"
         ],
         "yaxis": "y5",
         "z": [
          [
           107
          ],
          [
           110
          ],
          [
           115
          ],
          [
           133
          ],
          [
           135
          ],
          [
           233
          ],
          [
           283
          ],
          [
           584
          ],
          [
           641
          ],
          [
           862
          ]
         ],
         "zmax": 1000,
         "zmin": 0
        },
        {
         "colorbar": {
          "orientation": "h",
          "tickfont": {
           "size": 16
          },
          "x": 0.5,
          "y": 1.3
         },
         "colorscale": [
          [
           0,
           "rgb(255,245,235)"
          ],
          [
           0.125,
           "rgb(254,230,206)"
          ],
          [
           0.25,
           "rgb(253,208,162)"
          ],
          [
           0.375,
           "rgb(253,174,107)"
          ],
          [
           0.5,
           "rgb(253,141,60)"
          ],
          [
           0.625,
           "rgb(241,105,19)"
          ],
          [
           0.75,
           "rgb(217,72,1)"
          ],
          [
           0.875,
           "rgb(166,54,3)"
          ],
          [
           1,
           "rgb(127,39,4)"
          ]
         ],
         "showscale": false,
         "type": "heatmap",
         "xaxis": "x6",
         "y": [
          "it",
          "that",
          "in",
          "his",
          "with",
          "to",
          "and",
          "of",
          "a",
          "the"
         ],
         "yaxis": "y6",
         "z": [
          [
           118
          ],
          [
           137
          ],
          [
           138
          ],
          [
           139
          ],
          [
           154
          ],
          [
           201
          ],
          [
           271
          ],
          [
           496
          ],
          [
           585
          ],
          [
           772
          ]
         ],
         "zmax": 1000,
         "zmin": 0
        },
        {
         "colorbar": {
          "orientation": "h",
          "tickfont": {
           "size": 16
          },
          "x": 0.5,
          "y": 1.3
         },
         "colorscale": [
          [
           0,
           "rgb(255,245,235)"
          ],
          [
           0.125,
           "rgb(254,230,206)"
          ],
          [
           0.25,
           "rgb(253,208,162)"
          ],
          [
           0.375,
           "rgb(253,174,107)"
          ],
          [
           0.5,
           "rgb(253,141,60)"
          ],
          [
           0.625,
           "rgb(241,105,19)"
          ],
          [
           0.75,
           "rgb(217,72,1)"
          ],
          [
           0.875,
           "rgb(166,54,3)"
          ],
          [
           1,
           "rgb(127,39,4)"
          ]
         ],
         "showscale": false,
         "type": "heatmap",
         "xaxis": "x7",
         "y": [
          "its",
          "in",
          "it",
          "is",
          "that",
          "to",
          "and",
          "a",
          "of",
          "the"
         ],
         "yaxis": "y7",
         "z": [
          [
           110
          ],
          [
           111
          ],
          [
           140
          ],
          [
           148
          ],
          [
           232
          ],
          [
           241
          ],
          [
           241
          ],
          [
           559
          ],
          [
           618
          ],
          [
           950
          ]
         ],
         "zmax": 1000,
         "zmin": 0
        },
        {
         "colorbar": {
          "orientation": "h",
          "tickfont": {
           "size": 16
          },
          "x": 0.5,
          "y": 1.3
         },
         "colorscale": [
          [
           0,
           "rgb(255,245,235)"
          ],
          [
           0.125,
           "rgb(254,230,206)"
          ],
          [
           0.25,
           "rgb(253,208,162)"
          ],
          [
           0.375,
           "rgb(253,174,107)"
          ],
          [
           0.5,
           "rgb(253,141,60)"
          ],
          [
           0.625,
           "rgb(241,105,19)"
          ],
          [
           0.75,
           "rgb(217,72,1)"
          ],
          [
           0.875,
           "rgb(166,54,3)"
          ],
          [
           1,
           "rgb(127,39,4)"
          ]
         ],
         "showscale": false,
         "type": "heatmap",
         "xaxis": "x8",
         "y": [
          "it",
          "in",
          "with",
          "that",
          "is",
          "to",
          "and",
          "of",
          "a",
          "the"
         ],
         "yaxis": "y8",
         "z": [
          [
           104
          ],
          [
           115
          ],
          [
           126
          ],
          [
           147
          ],
          [
           161
          ],
          [
           268
          ],
          [
           315
          ],
          [
           477
          ],
          [
           545
          ],
          [
           786
          ]
         ],
         "zmax": 1000,
         "zmin": 0
        },
        {
         "colorbar": {
          "orientation": "h",
          "tickfont": {
           "size": 16
          },
          "x": 0.5,
          "y": 1.3
         },
         "colorscale": [
          [
           0,
           "rgb(255,245,235)"
          ],
          [
           0.125,
           "rgb(254,230,206)"
          ],
          [
           0.25,
           "rgb(253,208,162)"
          ],
          [
           0.375,
           "rgb(253,174,107)"
          ],
          [
           0.5,
           "rgb(253,141,60)"
          ],
          [
           0.625,
           "rgb(241,105,19)"
          ],
          [
           0.75,
           "rgb(217,72,1)"
          ],
          [
           0.875,
           "rgb(166,54,3)"
          ],
          [
           1,
           "rgb(127,39,4)"
          ]
         ],
         "showscale": false,
         "type": "heatmap",
         "xaxis": "x9",
         "y": [
          "its",
          "in",
          "with",
          "it",
          "that",
          "and",
          "to",
          "a",
          "of",
          "the"
         ],
         "yaxis": "y9",
         "z": [
          [
           86
          ],
          [
           105
          ],
          [
           116
          ],
          [
           118
          ],
          [
           140
          ],
          [
           244
          ],
          [
           253
          ],
          [
           603
          ],
          [
           613
          ],
          [
           993
          ]
         ],
         "zmax": 1000,
         "zmin": 0
        },
        {
         "colorbar": {
          "orientation": "h",
          "tickfont": {
           "size": 16
          },
          "x": 0.5,
          "y": 1.3
         },
         "colorscale": [
          [
           0,
           "rgb(255,245,235)"
          ],
          [
           0.125,
           "rgb(254,230,206)"
          ],
          [
           0.25,
           "rgb(253,208,162)"
          ],
          [
           0.375,
           "rgb(253,174,107)"
          ],
          [
           0.5,
           "rgb(253,141,60)"
          ],
          [
           0.625,
           "rgb(241,105,19)"
          ],
          [
           0.75,
           "rgb(217,72,1)"
          ],
          [
           0.875,
           "rgb(166,54,3)"
          ],
          [
           1,
           "rgb(127,39,4)"
          ]
         ],
         "showscale": false,
         "type": "heatmap",
         "xaxis": "x10",
         "y": [
          "you",
          "it",
          "that",
          "with",
          "in",
          "to",
          "and",
          "of",
          "a",
          "the"
         ],
         "yaxis": "y10",
         "z": [
          [
           115
          ],
          [
           117
          ],
          [
           122
          ],
          [
           137
          ],
          [
           139
          ],
          [
           217
          ],
          [
           242
          ],
          [
           485
          ],
          [
           614
          ],
          [
           683
          ]
         ],
         "zmax": 1000,
         "zmin": 0
        },
        {
         "colorbar": {
          "orientation": "h",
          "tickfont": {
           "size": 16
          },
          "x": 0.5,
          "y": 1.3
         },
         "colorscale": [
          [
           0,
           "rgb(255,245,235)"
          ],
          [
           0.125,
           "rgb(254,230,206)"
          ],
          [
           0.25,
           "rgb(253,208,162)"
          ],
          [
           0.375,
           "rgb(253,174,107)"
          ],
          [
           0.5,
           "rgb(253,141,60)"
          ],
          [
           0.625,
           "rgb(241,105,19)"
          ],
          [
           0.75,
           "rgb(217,72,1)"
          ],
          [
           0.875,
           "rgb(166,54,3)"
          ],
          [
           1,
           "rgb(127,39,4)"
          ]
         ],
         "showscale": false,
         "type": "heatmap",
         "xaxis": "x11",
         "y": [
          "it",
          "you",
          "i",
          "in",
          "that",
          "to",
          "and",
          "a",
          "of",
          "the"
         ],
         "yaxis": "y11",
         "z": [
          [
           149
          ],
          [
           169
          ],
          [
           186
          ],
          [
           190
          ],
          [
           192
          ],
          [
           324
          ],
          [
           390
          ],
          [
           417
          ],
          [
           423
          ],
          [
           607
          ]
         ],
         "zmax": 1000,
         "zmin": 0
        },
        {
         "colorbar": {
          "orientation": "h",
          "tickfont": {
           "size": 16
          },
          "x": 0.5,
          "y": 1.3
         },
         "colorscale": [
          [
           0,
           "rgb(255,245,235)"
          ],
          [
           0.125,
           "rgb(254,230,206)"
          ],
          [
           0.25,
           "rgb(253,208,162)"
          ],
          [
           0.375,
           "rgb(253,174,107)"
          ],
          [
           0.5,
           "rgb(253,141,60)"
          ],
          [
           0.625,
           "rgb(241,105,19)"
          ],
          [
           0.75,
           "rgb(217,72,1)"
          ],
          [
           0.875,
           "rgb(166,54,3)"
          ],
          [
           1,
           "rgb(127,39,4)"
          ]
         ],
         "showscale": false,
         "type": "heatmap",
         "xaxis": "x12",
         "y": [
          "with",
          "it",
          "as",
          "in",
          "that",
          "to",
          "a",
          "of",
          "and",
          "the"
         ],
         "yaxis": "y12",
         "z": [
          [
           105
          ],
          [
           107
          ],
          [
           125
          ],
          [
           145
          ],
          [
           181
          ],
          [
           287
          ],
          [
           383
          ],
          [
           416
          ],
          [
           453
          ],
          [
           870
          ]
         ],
         "zmax": 1000,
         "zmin": 0
        },
        {
         "colorbar": {
          "orientation": "h",
          "tickfont": {
           "size": 16
          },
          "x": 0.5,
          "y": 1.3
         },
         "colorscale": [
          [
           0,
           "rgb(255,245,235)"
          ],
          [
           0.125,
           "rgb(254,230,206)"
          ],
          [
           0.25,
           "rgb(253,208,162)"
          ],
          [
           0.375,
           "rgb(253,174,107)"
          ],
          [
           0.5,
           "rgb(253,141,60)"
          ],
          [
           0.625,
           "rgb(241,105,19)"
          ],
          [
           0.75,
           "rgb(217,72,1)"
          ],
          [
           0.875,
           "rgb(166,54,3)"
          ],
          [
           1,
           "rgb(127,39,4)"
          ]
         ],
         "showscale": false,
         "type": "heatmap",
         "xaxis": "x13",
         "y": [
          "its",
          "it",
          "is",
          "in",
          "that",
          "to",
          "a",
          "and",
          "of",
          "the"
         ],
         "yaxis": "y13",
         "z": [
          [
           115
          ],
          [
           131
          ],
          [
           136
          ],
          [
           183
          ],
          [
           272
          ],
          [
           279
          ],
          [
           334
          ],
          [
           482
          ],
          [
           558
          ],
          [
           837
          ]
         ],
         "zmax": 1000,
         "zmin": 0
        },
        {
         "colorbar": {
          "orientation": "h",
          "tickfont": {
           "size": 16
          },
          "x": 0.5,
          "y": 1.3
         },
         "colorscale": [
          [
           0,
           "rgb(255,245,235)"
          ],
          [
           0.125,
           "rgb(254,230,206)"
          ],
          [
           0.25,
           "rgb(253,208,162)"
          ],
          [
           0.375,
           "rgb(253,174,107)"
          ],
          [
           0.5,
           "rgb(253,141,60)"
          ],
          [
           0.625,
           "rgb(241,105,19)"
          ],
          [
           0.75,
           "rgb(217,72,1)"
          ],
          [
           0.875,
           "rgb(166,54,3)"
          ],
          [
           1,
           "rgb(127,39,4)"
          ]
         ],
         "showscale": false,
         "type": "heatmap",
         "xaxis": "x14",
         "y": [
          "for",
          "it",
          "is",
          "in",
          "that",
          "to",
          "a",
          "and",
          "of",
          "the"
         ],
         "yaxis": "y14",
         "z": [
          [
           100
          ],
          [
           101
          ],
          [
           162
          ],
          [
           188
          ],
          [
           234
          ],
          [
           260
          ],
          [
           362
          ],
          [
           481
          ],
          [
           548
          ],
          [
           856
          ]
         ],
         "zmax": 1000,
         "zmin": 0
        },
        {
         "colorbar": {
          "orientation": "h",
          "tickfont": {
           "size": 16
          },
          "x": 0.5,
          "y": 1.3
         },
         "colorscale": [
          [
           0,
           "rgb(255,245,235)"
          ],
          [
           0.125,
           "rgb(254,230,206)"
          ],
          [
           0.25,
           "rgb(253,208,162)"
          ],
          [
           0.375,
           "rgb(253,174,107)"
          ],
          [
           0.5,
           "rgb(253,141,60)"
          ],
          [
           0.625,
           "rgb(241,105,19)"
          ],
          [
           0.75,
           "rgb(217,72,1)"
          ],
          [
           0.875,
           "rgb(166,54,3)"
          ],
          [
           1,
           "rgb(127,39,4)"
          ]
         ],
         "showscale": false,
         "type": "heatmap",
         "xaxis": "x15",
         "y": [
          "as",
          "it",
          "is",
          "that",
          "in",
          "to",
          "a",
          "and",
          "of",
          "the"
         ],
         "yaxis": "y15",
         "z": [
          [
           100
          ],
          [
           103
          ],
          [
           166
          ],
          [
           179
          ],
          [
           189
          ],
          [
           322
          ],
          [
           400
          ],
          [
           402
          ],
          [
           527
          ],
          [
           847
          ]
         ],
         "zmax": 1000,
         "zmin": 0
        },
        {
         "colorbar": {
          "orientation": "h",
          "tickfont": {
           "size": 16
          },
          "x": 0.5,
          "y": 1.3
         },
         "colorscale": [
          [
           0,
           "rgb(255,245,235)"
          ],
          [
           0.125,
           "rgb(254,230,206)"
          ],
          [
           0.25,
           "rgb(253,208,162)"
          ],
          [
           0.375,
           "rgb(253,174,107)"
          ],
          [
           0.5,
           "rgb(253,141,60)"
          ],
          [
           0.625,
           "rgb(241,105,19)"
          ],
          [
           0.75,
           "rgb(217,72,1)"
          ],
          [
           0.875,
           "rgb(166,54,3)"
          ],
          [
           1,
           "rgb(127,39,4)"
          ]
         ],
         "showscale": false,
         "type": "heatmap",
         "xaxis": "x16",
         "y": [
          "as",
          "was",
          "it",
          "in",
          "that",
          "to",
          "a",
          "and",
          "of",
          "the"
         ],
         "yaxis": "y16",
         "z": [
          [
           104
          ],
          [
           105
          ],
          [
           115
          ],
          [
           159
          ],
          [
           178
          ],
          [
           280
          ],
          [
           356
          ],
          [
           443
          ],
          [
           454
          ],
          [
           798
          ]
         ],
         "zmax": 1000,
         "zmin": 0
        },
        {
         "colorbar": {
          "orientation": "h",
          "tickfont": {
           "size": 16
          },
          "x": 0.5,
          "y": 1.3
         },
         "colorscale": [
          [
           0,
           "rgb(255,245,235)"
          ],
          [
           0.125,
           "rgb(254,230,206)"
          ],
          [
           0.25,
           "rgb(253,208,162)"
          ],
          [
           0.375,
           "rgb(253,174,107)"
          ],
          [
           0.5,
           "rgb(253,141,60)"
          ],
          [
           0.625,
           "rgb(241,105,19)"
          ],
          [
           0.75,
           "rgb(217,72,1)"
          ],
          [
           0.875,
           "rgb(166,54,3)"
          ],
          [
           1,
           "rgb(127,39,4)"
          ]
         ],
         "showscale": false,
         "type": "heatmap",
         "xaxis": "x17",
         "y": [
          "with",
          "it",
          "i",
          "that",
          "in",
          "to",
          "a",
          "and",
          "of",
          "the"
         ],
         "yaxis": "y17",
         "z": [
          [
           111
          ],
          [
           114
          ],
          [
           116
          ],
          [
           178
          ],
          [
           188
          ],
          [
           315
          ],
          [
           340
          ],
          [
           466
          ],
          [
           495
          ],
          [
           731
          ]
         ],
         "zmax": 1000,
         "zmin": 0
        },
        {
         "colorbar": {
          "orientation": "h",
          "tickfont": {
           "size": 16
          },
          "x": 0.5,
          "y": 1.3
         },
         "colorscale": [
          [
           0,
           "rgb(255,245,235)"
          ],
          [
           0.125,
           "rgb(254,230,206)"
          ],
          [
           0.25,
           "rgb(253,208,162)"
          ],
          [
           0.375,
           "rgb(253,174,107)"
          ],
          [
           0.5,
           "rgb(253,141,60)"
          ],
          [
           0.625,
           "rgb(241,105,19)"
          ],
          [
           0.75,
           "rgb(217,72,1)"
          ],
          [
           0.875,
           "rgb(166,54,3)"
          ],
          [
           1,
           "rgb(127,39,4)"
          ]
         ],
         "showscale": false,
         "type": "heatmap",
         "xaxis": "x18",
         "y": [
          "for",
          "as",
          "i",
          "in",
          "that",
          "to",
          "a",
          "of",
          "and",
          "the"
         ],
         "yaxis": "y18",
         "z": [
          [
           111
          ],
          [
           112
          ],
          [
           128
          ],
          [
           172
          ],
          [
           234
          ],
          [
           289
          ],
          [
           368
          ],
          [
           398
          ],
          [
           511
          ],
          [
           772
          ]
         ],
         "zmax": 1000,
         "zmin": 0
        },
        {
         "colorbar": {
          "orientation": "h",
          "tickfont": {
           "size": 16
          },
          "x": 0.5,
          "y": 1.3
         },
         "colorscale": [
          [
           0,
           "rgb(255,245,235)"
          ],
          [
           0.125,
           "rgb(254,230,206)"
          ],
          [
           0.25,
           "rgb(253,208,162)"
          ],
          [
           0.375,
           "rgb(253,174,107)"
          ],
          [
           0.5,
           "rgb(253,141,60)"
          ],
          [
           0.625,
           "rgb(241,105,19)"
          ],
          [
           0.75,
           "rgb(217,72,1)"
          ],
          [
           0.875,
           "rgb(166,54,3)"
          ],
          [
           1,
           "rgb(127,39,4)"
          ]
         ],
         "showscale": false,
         "type": "heatmap",
         "xaxis": "x19",
         "y": [
          "is",
          "our",
          "in",
          "we",
          "that",
          "a",
          "to",
          "of",
          "and",
          "the"
         ],
         "yaxis": "y19",
         "z": [
          [
           140
          ],
          [
           143
          ],
          [
           180
          ],
          [
           217
          ],
          [
           224
          ],
          [
           315
          ],
          [
           329
          ],
          [
           528
          ],
          [
           533
          ],
          [
           765
          ]
         ],
         "zmax": 1000,
         "zmin": 0
        },
        {
         "colorbar": {
          "orientation": "h",
          "tickfont": {
           "size": 16
          },
          "x": 0.5,
          "y": 1.3
         },
         "colorscale": [
          [
           0,
           "rgb(255,245,235)"
          ],
          [
           0.125,
           "rgb(254,230,206)"
          ],
          [
           0.25,
           "rgb(253,208,162)"
          ],
          [
           0.375,
           "rgb(253,174,107)"
          ],
          [
           0.5,
           "rgb(253,141,60)"
          ],
          [
           0.625,
           "rgb(241,105,19)"
          ],
          [
           0.75,
           "rgb(217,72,1)"
          ],
          [
           0.875,
           "rgb(166,54,3)"
          ],
          [
           1,
           "rgb(127,39,4)"
          ]
         ],
         "showscale": false,
         "type": "heatmap",
         "xaxis": "x20",
         "y": [
          "i",
          "with",
          "you",
          "that",
          "in",
          "to",
          "a",
          "of",
          "and",
          "the"
         ],
         "yaxis": "y20",
         "z": [
          [
           103
          ],
          [
           111
          ],
          [
           116
          ],
          [
           136
          ],
          [
           172
          ],
          [
           259
          ],
          [
           327
          ],
          [
           385
          ],
          [
           397
          ],
          [
           712
          ]
         ],
         "zmax": 1000,
         "zmin": 0
        },
        {
         "colorbar": {
          "orientation": "h",
          "tickfont": {
           "size": 16
          },
          "x": 0.5,
          "y": 1.3
         },
         "colorscale": [
          [
           0,
           "rgb(255,245,235)"
          ],
          [
           0.125,
           "rgb(254,230,206)"
          ],
          [
           0.25,
           "rgb(253,208,162)"
          ],
          [
           0.375,
           "rgb(253,174,107)"
          ],
          [
           0.5,
           "rgb(253,141,60)"
          ],
          [
           0.625,
           "rgb(241,105,19)"
          ],
          [
           0.75,
           "rgb(217,72,1)"
          ],
          [
           0.875,
           "rgb(166,54,3)"
          ],
          [
           1,
           "rgb(127,39,4)"
          ]
         ],
         "showscale": false,
         "type": "heatmap",
         "xaxis": "x21",
         "y": [
          "it",
          "in",
          "that",
          "you",
          "i",
          "to",
          "and",
          "a",
          "of",
          "the"
         ],
         "yaxis": "y21",
         "z": [
          [
           135
          ],
          [
           137
          ],
          [
           160
          ],
          [
           192
          ],
          [
           217
          ],
          [
           292
          ],
          [
           326
          ],
          [
           360
          ],
          [
           362
          ],
          [
           625
          ]
         ],
         "zmax": 1000,
         "zmin": 0
        },
        {
         "colorbar": {
          "orientation": "h",
          "tickfont": {
           "size": 16
          },
          "x": 0.5,
          "y": 1.3
         },
         "colorscale": [
          [
           0,
           "rgb(255,245,235)"
          ],
          [
           0.125,
           "rgb(254,230,206)"
          ],
          [
           0.25,
           "rgb(253,208,162)"
          ],
          [
           0.375,
           "rgb(253,174,107)"
          ],
          [
           0.5,
           "rgb(253,141,60)"
          ],
          [
           0.625,
           "rgb(241,105,19)"
          ],
          [
           0.75,
           "rgb(217,72,1)"
          ],
          [
           0.875,
           "rgb(166,54,3)"
          ],
          [
           1,
           "rgb(127,39,4)"
          ]
         ],
         "showscale": false,
         "type": "heatmap",
         "xaxis": "x22",
         "y": [
          "i",
          "with",
          "you",
          "in",
          "that",
          "to",
          "and",
          "a",
          "of",
          "the"
         ],
         "yaxis": "y22",
         "z": [
          [
           109
          ],
          [
           111
          ],
          [
           112
          ],
          [
           134
          ],
          [
           151
          ],
          [
           241
          ],
          [
           312
          ],
          [
           341
          ],
          [
           411
          ],
          [
           881
          ]
         ],
         "zmax": 1000,
         "zmin": 0
        },
        {
         "colorbar": {
          "orientation": "h",
          "tickfont": {
           "size": 16
          },
          "x": 0.5,
          "y": 1.3
         },
         "colorscale": [
          [
           0,
           "rgb(255,245,235)"
          ],
          [
           0.125,
           "rgb(254,230,206)"
          ],
          [
           0.25,
           "rgb(253,208,162)"
          ],
          [
           0.375,
           "rgb(253,174,107)"
          ],
          [
           0.5,
           "rgb(253,141,60)"
          ],
          [
           0.625,
           "rgb(241,105,19)"
          ],
          [
           0.75,
           "rgb(217,72,1)"
          ],
          [
           0.875,
           "rgb(166,54,3)"
          ],
          [
           1,
           "rgb(127,39,4)"
          ]
         ],
         "showscale": false,
         "type": "heatmap",
         "xaxis": "x23",
         "y": [
          "its",
          "it",
          "in",
          "is",
          "that",
          "to",
          "and",
          "a",
          "of",
          "the"
         ],
         "yaxis": "y23",
         "z": [
          [
           114
          ],
          [
           116
          ],
          [
           134
          ],
          [
           136
          ],
          [
           214
          ],
          [
           288
          ],
          [
           359
          ],
          [
           422
          ],
          [
           555
          ],
          [
           1001
          ]
         ],
         "zmax": 1000,
         "zmin": 0
        },
        {
         "colorbar": {
          "orientation": "h",
          "tickfont": {
           "size": 16
          },
          "x": 0.5,
          "y": 1.3
         },
         "colorscale": [
          [
           0,
           "rgb(255,245,235)"
          ],
          [
           0.125,
           "rgb(254,230,206)"
          ],
          [
           0.25,
           "rgb(253,208,162)"
          ],
          [
           0.375,
           "rgb(253,174,107)"
          ],
          [
           0.5,
           "rgb(253,141,60)"
          ],
          [
           0.625,
           "rgb(241,105,19)"
          ],
          [
           0.75,
           "rgb(217,72,1)"
          ],
          [
           0.875,
           "rgb(166,54,3)"
          ],
          [
           1,
           "rgb(127,39,4)"
          ]
         ],
         "showscale": false,
         "type": "heatmap",
         "xaxis": "x24",
         "y": [
          "for",
          "i",
          "in",
          "with",
          "that",
          "to",
          "and",
          "a",
          "of",
          "the"
         ],
         "yaxis": "y24",
         "z": [
          [
           79
          ],
          [
           87
          ],
          [
           150
          ],
          [
           151
          ],
          [
           233
          ],
          [
           286
          ],
          [
           354
          ],
          [
           356
          ],
          [
           530
          ],
          [
           868
          ]
         ],
         "zmax": 1000,
         "zmin": 0
        },
        {
         "colorbar": {
          "orientation": "h",
          "tickfont": {
           "size": 16
          },
          "x": 0.5,
          "y": 1.3
         },
         "colorscale": [
          [
           0,
           "rgb(255,245,235)"
          ],
          [
           0.125,
           "rgb(254,230,206)"
          ],
          [
           0.25,
           "rgb(253,208,162)"
          ],
          [
           0.375,
           "rgb(253,174,107)"
          ],
          [
           0.5,
           "rgb(253,141,60)"
          ],
          [
           0.625,
           "rgb(241,105,19)"
          ],
          [
           0.75,
           "rgb(217,72,1)"
          ],
          [
           0.875,
           "rgb(166,54,3)"
          ],
          [
           1,
           "rgb(127,39,4)"
          ]
         ],
         "showscale": false,
         "type": "heatmap",
         "xaxis": "x25",
         "y": [
          "it",
          "with",
          "is",
          "in",
          "that",
          "to",
          "and",
          "a",
          "of",
          "the"
         ],
         "yaxis": "y25",
         "z": [
          [
           97
          ],
          [
           115
          ],
          [
           123
          ],
          [
           149
          ],
          [
           204
          ],
          [
           285
          ],
          [
           369
          ],
          [
           385
          ],
          [
           549
          ],
          [
           875
          ]
         ],
         "zmax": 1000,
         "zmin": 0
        },
        {
         "colorbar": {
          "orientation": "h",
          "tickfont": {
           "size": 16
          },
          "x": 0.5,
          "y": 1.3
         },
         "colorscale": [
          [
           0,
           "rgb(255,245,235)"
          ],
          [
           0.125,
           "rgb(254,230,206)"
          ],
          [
           0.25,
           "rgb(253,208,162)"
          ],
          [
           0.375,
           "rgb(253,174,107)"
          ],
          [
           0.5,
           "rgb(253,141,60)"
          ],
          [
           0.625,
           "rgb(241,105,19)"
          ],
          [
           0.75,
           "rgb(217,72,1)"
          ],
          [
           0.875,
           "rgb(166,54,3)"
          ],
          [
           1,
           "rgb(127,39,4)"
          ]
         ],
         "showscale": false,
         "type": "heatmap",
         "xaxis": "x26",
         "y": [
          "with",
          "it",
          "in",
          "i",
          "that",
          "to",
          "and",
          "a",
          "of",
          "the"
         ],
         "yaxis": "y26",
         "z": [
          [
           95
          ],
          [
           96
          ],
          [
           147
          ],
          [
           150
          ],
          [
           169
          ],
          [
           264
          ],
          [
           364
          ],
          [
           366
          ],
          [
           436
          ],
          [
           790
          ]
         ],
         "zmax": 1000,
         "zmin": 0
        },
        {
         "colorbar": {
          "orientation": "h",
          "tickfont": {
           "size": 16
          },
          "x": 0.5,
          "y": 1.3
         },
         "colorscale": [
          [
           0,
           "rgb(255,245,235)"
          ],
          [
           0.125,
           "rgb(254,230,206)"
          ],
          [
           0.25,
           "rgb(253,208,162)"
          ],
          [
           0.375,
           "rgb(253,174,107)"
          ],
          [
           0.5,
           "rgb(253,141,60)"
          ],
          [
           0.625,
           "rgb(241,105,19)"
          ],
          [
           0.75,
           "rgb(217,72,1)"
          ],
          [
           0.875,
           "rgb(166,54,3)"
          ],
          [
           1,
           "rgb(127,39,4)"
          ]
         ],
         "showscale": false,
         "type": "heatmap",
         "xaxis": "x27",
         "y": [
          "for",
          "with",
          "their",
          "in",
          "that",
          "to",
          "a",
          "and",
          "of",
          "the"
         ],
         "yaxis": "y27",
         "z": [
          [
           98
          ],
          [
           102
          ],
          [
           129
          ],
          [
           161
          ],
          [
           189
          ],
          [
           247
          ],
          [
           370
          ],
          [
           384
          ],
          [
           527
          ],
          [
           951
          ]
         ],
         "zmax": 1000,
         "zmin": 0
        },
        {
         "colorbar": {
          "orientation": "h",
          "tickfont": {
           "size": 16
          },
          "x": 0.5,
          "y": 1.3
         },
         "colorscale": [
          [
           0,
           "rgb(255,245,235)"
          ],
          [
           0.125,
           "rgb(254,230,206)"
          ],
          [
           0.25,
           "rgb(253,208,162)"
          ],
          [
           0.375,
           "rgb(253,174,107)"
          ],
          [
           0.5,
           "rgb(253,141,60)"
          ],
          [
           0.625,
           "rgb(241,105,19)"
          ],
          [
           0.75,
           "rgb(217,72,1)"
          ],
          [
           0.875,
           "rgb(166,54,3)"
          ],
          [
           1,
           "rgb(127,39,4)"
          ]
         ],
         "showscale": false,
         "type": "heatmap",
         "xaxis": "x28",
         "y": [
          "it",
          "i",
          "in",
          "with",
          "that",
          "to",
          "a",
          "and",
          "of",
          "the"
         ],
         "yaxis": "y28",
         "z": [
          [
           97
          ],
          [
           114
          ],
          [
           119
          ],
          [
           140
          ],
          [
           234
          ],
          [
           311
          ],
          [
           396
          ],
          [
           402
          ],
          [
           477
          ],
          [
           755
          ]
         ],
         "zmax": 1000,
         "zmin": 0
        },
        {
         "colorbar": {
          "orientation": "h",
          "tickfont": {
           "size": 16
          },
          "x": 0.5,
          "y": 1.3
         },
         "colorscale": [
          [
           0,
           "rgb(255,245,235)"
          ],
          [
           0.125,
           "rgb(254,230,206)"
          ],
          [
           0.25,
           "rgb(253,208,162)"
          ],
          [
           0.375,
           "rgb(253,174,107)"
          ],
          [
           0.5,
           "rgb(253,141,60)"
          ],
          [
           0.625,
           "rgb(241,105,19)"
          ],
          [
           0.75,
           "rgb(217,72,1)"
          ],
          [
           0.875,
           "rgb(166,54,3)"
          ],
          [
           1,
           "rgb(127,39,4)"
          ]
         ],
         "showscale": false,
         "type": "heatmap",
         "xaxis": "x29",
         "y": [
          "for",
          "with",
          "is",
          "in",
          "that",
          "to",
          "and",
          "a",
          "of",
          "the"
         ],
         "yaxis": "y29",
         "z": [
          [
           96
          ],
          [
           97
          ],
          [
           100
          ],
          [
           158
          ],
          [
           201
          ],
          [
           280
          ],
          [
           308
          ],
          [
           362
          ],
          [
           512
          ],
          [
           993
          ]
         ],
         "zmax": 1000,
         "zmin": 0
        },
        {
         "colorbar": {
          "orientation": "h",
          "tickfont": {
           "size": 16
          },
          "x": 0.5,
          "y": 1.3
         },
         "colorscale": [
          [
           0,
           "rgb(255,245,235)"
          ],
          [
           0.125,
           "rgb(254,230,206)"
          ],
          [
           0.25,
           "rgb(253,208,162)"
          ],
          [
           0.375,
           "rgb(253,174,107)"
          ],
          [
           0.5,
           "rgb(253,141,60)"
          ],
          [
           0.625,
           "rgb(241,105,19)"
          ],
          [
           0.75,
           "rgb(217,72,1)"
          ],
          [
           0.875,
           "rgb(166,54,3)"
          ],
          [
           1,
           "rgb(127,39,4)"
          ]
         ],
         "showscale": false,
         "type": "heatmap",
         "xaxis": "x30",
         "y": [
          "your",
          "in",
          "you",
          "that",
          "i",
          "and",
          "to",
          "a",
          "of",
          "the"
         ],
         "yaxis": "y30",
         "z": [
          [
           149
          ],
          [
           153
          ],
          [
           171
          ],
          [
           176
          ],
          [
           199
          ],
          [
           294
          ],
          [
           317
          ],
          [
           343
          ],
          [
           419
          ],
          [
           674
          ]
         ],
         "zmax": 1000,
         "zmin": 0
        }
       ],
       "layout": {
        "annotations": [
         {
          "font": {
           "size": 20
          },
          "showarrow": false,
          "text": "Mark Twain",
          "textangle": 65,
          "x": 0.016250000000000004,
          "xanchor": "center",
          "xref": "paper",
          "y": 1,
          "yanchor": "bottom",
          "yref": "paper"
         },
         {
          "font": {
           "size": 20
          },
          "showarrow": false,
          "text": "Zane Grey",
          "textangle": 65,
          "x": 0.12375000000000001,
          "xanchor": "center",
          "xref": "paper",
          "y": 1,
          "yanchor": "bottom",
          "yref": "paper"
         },
         {
          "font": {
           "size": 20
          },
          "showarrow": false,
          "text": "Joseph Conrad",
          "textangle": 65,
          "x": 0.23125,
          "xanchor": "center",
          "xref": "paper",
          "y": 1,
          "yanchor": "bottom",
          "yref": "paper"
         },
         {
          "font": {
           "size": 20
          },
          "showarrow": false,
          "text": "George Eliot",
          "textangle": 65,
          "x": 0.33875,
          "xanchor": "center",
          "xref": "paper",
          "y": 1,
          "yanchor": "bottom",
          "yref": "paper"
         },
         {
          "font": {
           "size": 20
          },
          "showarrow": false,
          "text": "Benjamin Disraeli",
          "textangle": 65,
          "x": 0.44625000000000004,
          "xanchor": "center",
          "xref": "paper",
          "y": 1,
          "yanchor": "bottom",
          "yref": "paper"
         },
         {
          "font": {
           "size": 20
          },
          "showarrow": false,
          "text": "Lucy Maud Montgomery",
          "textangle": 65,
          "x": 0.5537500000000001,
          "xanchor": "center",
          "xref": "paper",
          "y": 1,
          "yanchor": "bottom",
          "yref": "paper"
         },
         {
          "font": {
           "size": 20
          },
          "showarrow": false,
          "text": "William Henry Hudson",
          "textangle": 65,
          "x": 0.66125,
          "xanchor": "center",
          "xref": "paper",
          "y": 1,
          "yanchor": "bottom",
          "yref": "paper"
         },
         {
          "font": {
           "size": 20
          },
          "showarrow": false,
          "text": "Howard Pyle",
          "textangle": 65,
          "x": 0.76875,
          "xanchor": "center",
          "xref": "paper",
          "y": 1,
          "yanchor": "bottom",
          "yref": "paper"
         },
         {
          "font": {
           "size": 20
          },
          "showarrow": false,
          "text": "Virginia Woolf",
          "textangle": 65,
          "x": 0.8762500000000001,
          "xanchor": "center",
          "xref": "paper",
          "y": 1,
          "yanchor": "bottom",
          "yref": "paper"
         },
         {
          "font": {
           "size": 20
          },
          "showarrow": false,
          "text": "Lewis Carroll",
          "textangle": 65,
          "x": 0.98375,
          "xanchor": "center",
          "xref": "paper",
          "y": 1,
          "yanchor": "bottom",
          "yref": "paper"
         }
        ],
        "height": 1500,
        "template": {
         "data": {
          "bar": [
           {
            "error_x": {
             "color": "#2a3f5f"
            },
            "error_y": {
             "color": "#2a3f5f"
            },
            "marker": {
             "line": {
              "color": "#E5ECF6",
              "width": 0.5
             },
             "pattern": {
              "fillmode": "overlay",
              "size": 10,
              "solidity": 0.2
             }
            },
            "type": "bar"
           }
          ],
          "barpolar": [
           {
            "marker": {
             "line": {
              "color": "#E5ECF6",
              "width": 0.5
             },
             "pattern": {
              "fillmode": "overlay",
              "size": 10,
              "solidity": 0.2
             }
            },
            "type": "barpolar"
           }
          ],
          "carpet": [
           {
            "aaxis": {
             "endlinecolor": "#2a3f5f",
             "gridcolor": "white",
             "linecolor": "white",
             "minorgridcolor": "white",
             "startlinecolor": "#2a3f5f"
            },
            "baxis": {
             "endlinecolor": "#2a3f5f",
             "gridcolor": "white",
             "linecolor": "white",
             "minorgridcolor": "white",
             "startlinecolor": "#2a3f5f"
            },
            "type": "carpet"
           }
          ],
          "choropleth": [
           {
            "colorbar": {
             "outlinewidth": 0,
             "ticks": ""
            },
            "type": "choropleth"
           }
          ],
          "contour": [
           {
            "colorbar": {
             "outlinewidth": 0,
             "ticks": ""
            },
            "colorscale": [
             [
              0,
              "#0d0887"
             ],
             [
              0.1111111111111111,
              "#46039f"
             ],
             [
              0.2222222222222222,
              "#7201a8"
             ],
             [
              0.3333333333333333,
              "#9c179e"
             ],
             [
              0.4444444444444444,
              "#bd3786"
             ],
             [
              0.5555555555555556,
              "#d8576b"
             ],
             [
              0.6666666666666666,
              "#ed7953"
             ],
             [
              0.7777777777777778,
              "#fb9f3a"
             ],
             [
              0.8888888888888888,
              "#fdca26"
             ],
             [
              1,
              "#f0f921"
             ]
            ],
            "type": "contour"
           }
          ],
          "contourcarpet": [
           {
            "colorbar": {
             "outlinewidth": 0,
             "ticks": ""
            },
            "type": "contourcarpet"
           }
          ],
          "heatmap": [
           {
            "colorbar": {
             "outlinewidth": 0,
             "ticks": ""
            },
            "colorscale": [
             [
              0,
              "#0d0887"
             ],
             [
              0.1111111111111111,
              "#46039f"
             ],
             [
              0.2222222222222222,
              "#7201a8"
             ],
             [
              0.3333333333333333,
              "#9c179e"
             ],
             [
              0.4444444444444444,
              "#bd3786"
             ],
             [
              0.5555555555555556,
              "#d8576b"
             ],
             [
              0.6666666666666666,
              "#ed7953"
             ],
             [
              0.7777777777777778,
              "#fb9f3a"
             ],
             [
              0.8888888888888888,
              "#fdca26"
             ],
             [
              1,
              "#f0f921"
             ]
            ],
            "type": "heatmap"
           }
          ],
          "heatmapgl": [
           {
            "colorbar": {
             "outlinewidth": 0,
             "ticks": ""
            },
            "colorscale": [
             [
              0,
              "#0d0887"
             ],
             [
              0.1111111111111111,
              "#46039f"
             ],
             [
              0.2222222222222222,
              "#7201a8"
             ],
             [
              0.3333333333333333,
              "#9c179e"
             ],
             [
              0.4444444444444444,
              "#bd3786"
             ],
             [
              0.5555555555555556,
              "#d8576b"
             ],
             [
              0.6666666666666666,
              "#ed7953"
             ],
             [
              0.7777777777777778,
              "#fb9f3a"
             ],
             [
              0.8888888888888888,
              "#fdca26"
             ],
             [
              1,
              "#f0f921"
             ]
            ],
            "type": "heatmapgl"
           }
          ],
          "histogram": [
           {
            "marker": {
             "pattern": {
              "fillmode": "overlay",
              "size": 10,
              "solidity": 0.2
             }
            },
            "type": "histogram"
           }
          ],
          "histogram2d": [
           {
            "colorbar": {
             "outlinewidth": 0,
             "ticks": ""
            },
            "colorscale": [
             [
              0,
              "#0d0887"
             ],
             [
              0.1111111111111111,
              "#46039f"
             ],
             [
              0.2222222222222222,
              "#7201a8"
             ],
             [
              0.3333333333333333,
              "#9c179e"
             ],
             [
              0.4444444444444444,
              "#bd3786"
             ],
             [
              0.5555555555555556,
              "#d8576b"
             ],
             [
              0.6666666666666666,
              "#ed7953"
             ],
             [
              0.7777777777777778,
              "#fb9f3a"
             ],
             [
              0.8888888888888888,
              "#fdca26"
             ],
             [
              1,
              "#f0f921"
             ]
            ],
            "type": "histogram2d"
           }
          ],
          "histogram2dcontour": [
           {
            "colorbar": {
             "outlinewidth": 0,
             "ticks": ""
            },
            "colorscale": [
             [
              0,
              "#0d0887"
             ],
             [
              0.1111111111111111,
              "#46039f"
             ],
             [
              0.2222222222222222,
              "#7201a8"
             ],
             [
              0.3333333333333333,
              "#9c179e"
             ],
             [
              0.4444444444444444,
              "#bd3786"
             ],
             [
              0.5555555555555556,
              "#d8576b"
             ],
             [
              0.6666666666666666,
              "#ed7953"
             ],
             [
              0.7777777777777778,
              "#fb9f3a"
             ],
             [
              0.8888888888888888,
              "#fdca26"
             ],
             [
              1,
              "#f0f921"
             ]
            ],
            "type": "histogram2dcontour"
           }
          ],
          "mesh3d": [
           {
            "colorbar": {
             "outlinewidth": 0,
             "ticks": ""
            },
            "type": "mesh3d"
           }
          ],
          "parcoords": [
           {
            "line": {
             "colorbar": {
              "outlinewidth": 0,
              "ticks": ""
             }
            },
            "type": "parcoords"
           }
          ],
          "pie": [
           {
            "automargin": true,
            "type": "pie"
           }
          ],
          "scatter": [
           {
            "fillpattern": {
             "fillmode": "overlay",
             "size": 10,
             "solidity": 0.2
            },
            "type": "scatter"
           }
          ],
          "scatter3d": [
           {
            "line": {
             "colorbar": {
              "outlinewidth": 0,
              "ticks": ""
             }
            },
            "marker": {
             "colorbar": {
              "outlinewidth": 0,
              "ticks": ""
             }
            },
            "type": "scatter3d"
           }
          ],
          "scattercarpet": [
           {
            "marker": {
             "colorbar": {
              "outlinewidth": 0,
              "ticks": ""
             }
            },
            "type": "scattercarpet"
           }
          ],
          "scattergeo": [
           {
            "marker": {
             "colorbar": {
              "outlinewidth": 0,
              "ticks": ""
             }
            },
            "type": "scattergeo"
           }
          ],
          "scattergl": [
           {
            "marker": {
             "colorbar": {
              "outlinewidth": 0,
              "ticks": ""
             }
            },
            "type": "scattergl"
           }
          ],
          "scattermapbox": [
           {
            "marker": {
             "colorbar": {
              "outlinewidth": 0,
              "ticks": ""
             }
            },
            "type": "scattermapbox"
           }
          ],
          "scatterpolar": [
           {
            "marker": {
             "colorbar": {
              "outlinewidth": 0,
              "ticks": ""
             }
            },
            "type": "scatterpolar"
           }
          ],
          "scatterpolargl": [
           {
            "marker": {
             "colorbar": {
              "outlinewidth": 0,
              "ticks": ""
             }
            },
            "type": "scatterpolargl"
           }
          ],
          "scatterternary": [
           {
            "marker": {
             "colorbar": {
              "outlinewidth": 0,
              "ticks": ""
             }
            },
            "type": "scatterternary"
           }
          ],
          "surface": [
           {
            "colorbar": {
             "outlinewidth": 0,
             "ticks": ""
            },
            "colorscale": [
             [
              0,
              "#0d0887"
             ],
             [
              0.1111111111111111,
              "#46039f"
             ],
             [
              0.2222222222222222,
              "#7201a8"
             ],
             [
              0.3333333333333333,
              "#9c179e"
             ],
             [
              0.4444444444444444,
              "#bd3786"
             ],
             [
              0.5555555555555556,
              "#d8576b"
             ],
             [
              0.6666666666666666,
              "#ed7953"
             ],
             [
              0.7777777777777778,
              "#fb9f3a"
             ],
             [
              0.8888888888888888,
              "#fdca26"
             ],
             [
              1,
              "#f0f921"
             ]
            ],
            "type": "surface"
           }
          ],
          "table": [
           {
            "cells": {
             "fill": {
              "color": "#EBF0F8"
             },
             "line": {
              "color": "white"
             }
            },
            "header": {
             "fill": {
              "color": "#C8D4E3"
             },
             "line": {
              "color": "white"
             }
            },
            "type": "table"
           }
          ]
         },
         "layout": {
          "annotationdefaults": {
           "arrowcolor": "#2a3f5f",
           "arrowhead": 0,
           "arrowwidth": 1
          },
          "autotypenumbers": "strict",
          "coloraxis": {
           "colorbar": {
            "outlinewidth": 0,
            "ticks": ""
           }
          },
          "colorscale": {
           "diverging": [
            [
             0,
             "#8e0152"
            ],
            [
             0.1,
             "#c51b7d"
            ],
            [
             0.2,
             "#de77ae"
            ],
            [
             0.3,
             "#f1b6da"
            ],
            [
             0.4,
             "#fde0ef"
            ],
            [
             0.5,
             "#f7f7f7"
            ],
            [
             0.6,
             "#e6f5d0"
            ],
            [
             0.7,
             "#b8e186"
            ],
            [
             0.8,
             "#7fbc41"
            ],
            [
             0.9,
             "#4d9221"
            ],
            [
             1,
             "#276419"
            ]
           ],
           "sequential": [
            [
             0,
             "#0d0887"
            ],
            [
             0.1111111111111111,
             "#46039f"
            ],
            [
             0.2222222222222222,
             "#7201a8"
            ],
            [
             0.3333333333333333,
             "#9c179e"
            ],
            [
             0.4444444444444444,
             "#bd3786"
            ],
            [
             0.5555555555555556,
             "#d8576b"
            ],
            [
             0.6666666666666666,
             "#ed7953"
            ],
            [
             0.7777777777777778,
             "#fb9f3a"
            ],
            [
             0.8888888888888888,
             "#fdca26"
            ],
            [
             1,
             "#f0f921"
            ]
           ],
           "sequentialminus": [
            [
             0,
             "#0d0887"
            ],
            [
             0.1111111111111111,
             "#46039f"
            ],
            [
             0.2222222222222222,
             "#7201a8"
            ],
            [
             0.3333333333333333,
             "#9c179e"
            ],
            [
             0.4444444444444444,
             "#bd3786"
            ],
            [
             0.5555555555555556,
             "#d8576b"
            ],
            [
             0.6666666666666666,
             "#ed7953"
            ],
            [
             0.7777777777777778,
             "#fb9f3a"
            ],
            [
             0.8888888888888888,
             "#fdca26"
            ],
            [
             1,
             "#f0f921"
            ]
           ]
          },
          "colorway": [
           "#636efa",
           "#EF553B",
           "#00cc96",
           "#ab63fa",
           "#FFA15A",
           "#19d3f3",
           "#FF6692",
           "#B6E880",
           "#FF97FF",
           "#FECB52"
          ],
          "font": {
           "color": "#2a3f5f"
          },
          "geo": {
           "bgcolor": "white",
           "lakecolor": "white",
           "landcolor": "#E5ECF6",
           "showlakes": true,
           "showland": true,
           "subunitcolor": "white"
          },
          "hoverlabel": {
           "align": "left"
          },
          "hovermode": "closest",
          "mapbox": {
           "style": "light"
          },
          "paper_bgcolor": "white",
          "plot_bgcolor": "#E5ECF6",
          "polar": {
           "angularaxis": {
            "gridcolor": "white",
            "linecolor": "white",
            "ticks": ""
           },
           "bgcolor": "#E5ECF6",
           "radialaxis": {
            "gridcolor": "white",
            "linecolor": "white",
            "ticks": ""
           }
          },
          "scene": {
           "xaxis": {
            "backgroundcolor": "#E5ECF6",
            "gridcolor": "white",
            "gridwidth": 2,
            "linecolor": "white",
            "showbackground": true,
            "ticks": "",
            "zerolinecolor": "white"
           },
           "yaxis": {
            "backgroundcolor": "#E5ECF6",
            "gridcolor": "white",
            "gridwidth": 2,
            "linecolor": "white",
            "showbackground": true,
            "ticks": "",
            "zerolinecolor": "white"
           },
           "zaxis": {
            "backgroundcolor": "#E5ECF6",
            "gridcolor": "white",
            "gridwidth": 2,
            "linecolor": "white",
            "showbackground": true,
            "ticks": "",
            "zerolinecolor": "white"
           }
          },
          "shapedefaults": {
           "line": {
            "color": "#2a3f5f"
           }
          },
          "ternary": {
           "aaxis": {
            "gridcolor": "white",
            "linecolor": "white",
            "ticks": ""
           },
           "baxis": {
            "gridcolor": "white",
            "linecolor": "white",
            "ticks": ""
           },
           "bgcolor": "#E5ECF6",
           "caxis": {
            "gridcolor": "white",
            "linecolor": "white",
            "ticks": ""
           }
          },
          "title": {
           "x": 0.05
          },
          "xaxis": {
           "automargin": true,
           "gridcolor": "white",
           "linecolor": "white",
           "ticks": "",
           "title": {
            "standoff": 15
           },
           "zerolinecolor": "white",
           "zerolinewidth": 2
          },
          "yaxis": {
           "automargin": true,
           "gridcolor": "white",
           "linecolor": "white",
           "ticks": "",
           "title": {
            "standoff": 15
           },
           "zerolinecolor": "white",
           "zerolinewidth": 2
          }
         }
        },
        "xaxis": {
         "anchor": "y",
         "domain": [
          0,
          0.03250000000000001
         ],
         "showticklabels": false
        },
        "xaxis10": {
         "anchor": "y10",
         "domain": [
          0.9675,
          1
         ],
         "showticklabels": false
        },
        "xaxis11": {
         "anchor": "y11",
         "domain": [
          0,
          0.03250000000000001
         ],
         "showticklabels": false
        },
        "xaxis12": {
         "anchor": "y12",
         "domain": [
          0.10750000000000001,
          0.14
         ],
         "showticklabels": false
        },
        "xaxis13": {
         "anchor": "y13",
         "domain": [
          0.21500000000000002,
          0.24750000000000003
         ],
         "showticklabels": false
        },
        "xaxis14": {
         "anchor": "y14",
         "domain": [
          0.3225,
          0.35500000000000004
         ],
         "showticklabels": false
        },
        "xaxis15": {
         "anchor": "y15",
         "domain": [
          0.43000000000000005,
          0.4625000000000001
         ],
         "showticklabels": false
        },
        "xaxis16": {
         "anchor": "y16",
         "domain": [
          0.5375000000000001,
          0.5700000000000001
         ],
         "showticklabels": false
        },
        "xaxis17": {
         "anchor": "y17",
         "domain": [
          0.645,
          0.6775
         ],
         "showticklabels": false
        },
        "xaxis18": {
         "anchor": "y18",
         "domain": [
          0.7525000000000001,
          0.785
         ],
         "showticklabels": false
        },
        "xaxis19": {
         "anchor": "y19",
         "domain": [
          0.8600000000000001,
          0.8925000000000001
         ],
         "showticklabels": false
        },
        "xaxis2": {
         "anchor": "y2",
         "domain": [
          0.10750000000000001,
          0.14
         ],
         "showticklabels": false
        },
        "xaxis20": {
         "anchor": "y20",
         "domain": [
          0.9675,
          1
         ],
         "showticklabels": false
        },
        "xaxis21": {
         "anchor": "y21",
         "domain": [
          0,
          0.03250000000000001
         ],
         "showticklabels": false
        },
        "xaxis22": {
         "anchor": "y22",
         "domain": [
          0.10750000000000001,
          0.14
         ],
         "showticklabels": false
        },
        "xaxis23": {
         "anchor": "y23",
         "domain": [
          0.21500000000000002,
          0.24750000000000003
         ],
         "showticklabels": false
        },
        "xaxis24": {
         "anchor": "y24",
         "domain": [
          0.3225,
          0.35500000000000004
         ],
         "showticklabels": false
        },
        "xaxis25": {
         "anchor": "y25",
         "domain": [
          0.43000000000000005,
          0.4625000000000001
         ],
         "showticklabels": false
        },
        "xaxis26": {
         "anchor": "y26",
         "domain": [
          0.5375000000000001,
          0.5700000000000001
         ],
         "showticklabels": false
        },
        "xaxis27": {
         "anchor": "y27",
         "domain": [
          0.645,
          0.6775
         ],
         "showticklabels": false
        },
        "xaxis28": {
         "anchor": "y28",
         "domain": [
          0.7525000000000001,
          0.785
         ],
         "showticklabels": false
        },
        "xaxis29": {
         "anchor": "y29",
         "domain": [
          0.8600000000000001,
          0.8925000000000001
         ],
         "showticklabels": false
        },
        "xaxis3": {
         "anchor": "y3",
         "domain": [
          0.21500000000000002,
          0.24750000000000003
         ],
         "showticklabels": false
        },
        "xaxis30": {
         "anchor": "y30",
         "domain": [
          0.9675,
          1
         ],
         "showticklabels": false
        },
        "xaxis4": {
         "anchor": "y4",
         "domain": [
          0.3225,
          0.35500000000000004
         ],
         "showticklabels": false
        },
        "xaxis5": {
         "anchor": "y5",
         "domain": [
          0.43000000000000005,
          0.4625000000000001
         ],
         "showticklabels": false
        },
        "xaxis6": {
         "anchor": "y6",
         "domain": [
          0.5375000000000001,
          0.5700000000000001
         ],
         "showticklabels": false
        },
        "xaxis7": {
         "anchor": "y7",
         "domain": [
          0.645,
          0.6775
         ],
         "showticklabels": false
        },
        "xaxis8": {
         "anchor": "y8",
         "domain": [
          0.7525000000000001,
          0.785
         ],
         "showticklabels": false
        },
        "xaxis9": {
         "anchor": "y9",
         "domain": [
          0.8600000000000001,
          0.8925000000000001
         ],
         "showticklabels": false
        },
        "yaxis": {
         "anchor": "x",
         "domain": [
          0.7,
          1
         ],
         "tickfont": {
          "size": 20
         },
         "title": {
          "font": {
           "size": 25
          },
          "text": "gemini-1.5-flash"
         }
        },
        "yaxis10": {
         "anchor": "x10",
         "domain": [
          0.7,
          1
         ],
         "tickfont": {
          "size": 20
         }
        },
        "yaxis11": {
         "anchor": "x11",
         "domain": [
          0.35,
          0.6499999999999999
         ],
         "tickfont": {
          "size": 20
         },
         "title": {
          "font": {
           "size": 25
          },
          "text": "open-mixtral-8x7b"
         }
        },
        "yaxis12": {
         "anchor": "x12",
         "domain": [
          0.35,
          0.6499999999999999
         ],
         "tickfont": {
          "size": 20
         }
        },
        "yaxis13": {
         "anchor": "x13",
         "domain": [
          0.35,
          0.6499999999999999
         ],
         "tickfont": {
          "size": 20
         }
        },
        "yaxis14": {
         "anchor": "x14",
         "domain": [
          0.35,
          0.6499999999999999
         ],
         "tickfont": {
          "size": 20
         }
        },
        "yaxis15": {
         "anchor": "x15",
         "domain": [
          0.35,
          0.6499999999999999
         ],
         "tickfont": {
          "size": 20
         }
        },
        "yaxis16": {
         "anchor": "x16",
         "domain": [
          0.35,
          0.6499999999999999
         ],
         "tickfont": {
          "size": 20
         }
        },
        "yaxis17": {
         "anchor": "x17",
         "domain": [
          0.35,
          0.6499999999999999
         ],
         "tickfont": {
          "size": 20
         }
        },
        "yaxis18": {
         "anchor": "x18",
         "domain": [
          0.35,
          0.6499999999999999
         ],
         "tickfont": {
          "size": 20
         }
        },
        "yaxis19": {
         "anchor": "x19",
         "domain": [
          0.35,
          0.6499999999999999
         ],
         "tickfont": {
          "size": 20
         }
        },
        "yaxis2": {
         "anchor": "x2",
         "domain": [
          0.7,
          1
         ],
         "tickfont": {
          "size": 20
         }
        },
        "yaxis20": {
         "anchor": "x20",
         "domain": [
          0.35,
          0.6499999999999999
         ],
         "tickfont": {
          "size": 20
         }
        },
        "yaxis21": {
         "anchor": "x21",
         "domain": [
          0,
          0.3
         ],
         "tickfont": {
          "size": 20
         },
         "title": {
          "font": {
           "size": 25
          },
          "text": "claude-3-haiku-20240307"
         }
        },
        "yaxis22": {
         "anchor": "x22",
         "domain": [
          0,
          0.3
         ],
         "tickfont": {
          "size": 20
         }
        },
        "yaxis23": {
         "anchor": "x23",
         "domain": [
          0,
          0.3
         ],
         "tickfont": {
          "size": 20
         }
        },
        "yaxis24": {
         "anchor": "x24",
         "domain": [
          0,
          0.3
         ],
         "tickfont": {
          "size": 20
         }
        },
        "yaxis25": {
         "anchor": "x25",
         "domain": [
          0,
          0.3
         ],
         "tickfont": {
          "size": 20
         }
        },
        "yaxis26": {
         "anchor": "x26",
         "domain": [
          0,
          0.3
         ],
         "tickfont": {
          "size": 20
         }
        },
        "yaxis27": {
         "anchor": "x27",
         "domain": [
          0,
          0.3
         ],
         "tickfont": {
          "size": 20
         }
        },
        "yaxis28": {
         "anchor": "x28",
         "domain": [
          0,
          0.3
         ],
         "tickfont": {
          "size": 20
         }
        },
        "yaxis29": {
         "anchor": "x29",
         "domain": [
          0,
          0.3
         ],
         "tickfont": {
          "size": 20
         }
        },
        "yaxis3": {
         "anchor": "x3",
         "domain": [
          0.7,
          1
         ],
         "tickfont": {
          "size": 20
         }
        },
        "yaxis30": {
         "anchor": "x30",
         "domain": [
          0,
          0.3
         ],
         "tickfont": {
          "size": 20
         }
        },
        "yaxis4": {
         "anchor": "x4",
         "domain": [
          0.7,
          1
         ],
         "tickfont": {
          "size": 20
         }
        },
        "yaxis5": {
         "anchor": "x5",
         "domain": [
          0.7,
          1
         ],
         "tickfont": {
          "size": 20
         }
        },
        "yaxis6": {
         "anchor": "x6",
         "domain": [
          0.7,
          1
         ],
         "tickfont": {
          "size": 20
         }
        },
        "yaxis7": {
         "anchor": "x7",
         "domain": [
          0.7,
          1
         ],
         "tickfont": {
          "size": 20
         }
        },
        "yaxis8": {
         "anchor": "x8",
         "domain": [
          0.7,
          1
         ],
         "tickfont": {
          "size": 20
         }
        },
        "yaxis9": {
         "anchor": "x9",
         "domain": [
          0.7,
          1
         ],
         "tickfont": {
          "size": 20
         }
        }
       }
      }
     },
     "metadata": {},
     "output_type": "display_data"
    }
   ],
   "source": [
    "AnalysisVisualization().visualize(analysis_data)"
   ]
  },
  {
   "cell_type": "code",
   "execution_count": 6,
   "metadata": {},
   "outputs": [
    {
     "name": "stdout",
     "output_type": "stream",
     "text": [
      "\n",
      "& 267k & 291k & 310k & 303k & 273k & 290k & 299k & 294k & 290k & 300k \n",
      "& 322k & 340k & 342k & 302k & 253k & 276k & 269k & 260k & 251k & 262k \n",
      "& 296k & 311k & 318k & 280k & 252k & 278k & 286k & 279k & 278k & 263k \n",
      "& 251k & 251k & 289k & 260k & 252k & 266k & 252k & 251k & 251k & 251k \n",
      "& 689k & 630k & 608k & 559k & 558k & 547k & 589k & 481k & 470k & 608k "
     ]
    }
   ],
   "source": [
    "for collection_name, data in analysis_data.items():\n",
    "    if collection_name == 'books':\n",
    "        continue\n",
    "    print(\"\")\n",
    "    for author_data in data:\n",
    "        print(f\"& {round(author_data.word_count / 1000)}k\", end=\" \")"
   ]
  }
 ],
 "metadata": {
  "kernelspec": {
   "display_name": ".venv",
   "language": "python",
   "name": "python3"
  },
  "language_info": {
   "codemirror_mode": {
    "name": "ipython",
    "version": 3
   },
   "file_extension": ".py",
   "mimetype": "text/x-python",
   "name": "python",
   "nbconvert_exporter": "python",
   "pygments_lexer": "ipython3",
   "version": "3.12.1"
  }
 },
 "nbformat": 4,
 "nbformat_minor": 2
}
