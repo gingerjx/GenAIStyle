{
 "cells": [
  {
   "cell_type": "markdown",
   "metadata": {},
   "source": [
    "# Analysis\n",
    "\n",
    "Notebook reads the list of the selected authors from `res/selected/author_list` and loads their text data from book and genereted resources available in `res` directory.\n",
    "Displayed data:\n",
    "- Notebook displays the number of words per each source-author pair.\n",
    "- Analysis on chunk of `configuration.analysis_size` size\n",
    "    - Average word length\n",
    "    - Average sentence length\n",
    "    - Unique words count\n",
    "    - Top 10 function words\n",
    "\n",
    "Further work on that notebook is planned.\n",
    "\n",
    "*Note: the list of function words are taken from [functionwords](https://pypi.org/project/functionwords/) package.*"
   ]
  },
  {
   "cell_type": "code",
   "execution_count": 1,
   "metadata": {},
   "outputs": [
    {
     "name": "stdout",
     "output_type": "stream",
     "text": [
      "The autoreload extension is already loaded. To reload it, use:\n",
      "  %reload_ext autoreload\n"
     ]
    },
    {
     "name": "stderr",
     "output_type": "stream",
     "text": [
      "[nltk_data] Downloading package punkt to\n",
      "[nltk_data]     C:\\Users\\piotr\\AppData\\Roaming\\nltk_data...\n",
      "[nltk_data]   Package punkt is already up-to-date!\n",
      "[nltk_data] Downloading package cmudict to\n",
      "[nltk_data]     C:\\Users\\piotr\\AppData\\Roaming\\nltk_data...\n",
      "[nltk_data]   Package cmudict is already up-to-date!\n",
      "[nltk_data] Downloading package punkt to\n",
      "[nltk_data]     C:\\Users\\piotr\\AppData\\Roaming\\nltk_data...\n",
      "[nltk_data]   Package punkt is already up-to-date!\n"
     ]
    }
   ],
   "source": [
    "%load_ext autoreload\n",
    "%autoreload 2\n",
    "\n",
    "from src import *"
   ]
  },
  {
   "cell_type": "code",
   "execution_count": 2,
   "metadata": {},
   "outputs": [],
   "source": [
    "settings = Settings()"
   ]
  },
  {
   "cell_type": "code",
   "execution_count": 3,
   "metadata": {},
   "outputs": [],
   "source": [
    "cleaner = Cleaner(settings)\n",
    "if not cleaner.cleaned_generated_corpus_exists():\n",
    "    print(\"Cleaning generated corpus...\")\n",
    "    cleaner.clean_generated_corpus()    \n",
    "if not cleaner.cleaned_books_corpus_exists():\n",
    "    print(\"Cleaning books corpus...\")\n",
    "    cleaner.clean_books_corpus()"
   ]
  },
  {
   "cell_type": "code",
   "execution_count": 4,
   "metadata": {},
   "outputs": [
    {
     "name": "stdout",
     "output_type": "stream",
     "text": [
      "Reading authors' collections...\n"
     ]
    }
   ],
   "source": [
    "print(\"Reading authors' collections...\")\n",
    "authors = []\n",
    "for author_name in FileUtils.read_authors(settings.paths.selected_authors_filepath):\n",
    "    author = Author(\n",
    "        settings=settings,\n",
    "        name=author_name\n",
    "    )\n",
    "    author.read_selected_books_collection()\n",
    "    author.read_generated_texts()\n",
    "    authors.append(author)"
   ]
  },
  {
   "cell_type": "code",
   "execution_count": 5,
   "metadata": {},
   "outputs": [
    {
     "name": "stdout",
     "output_type": "stream",
     "text": [
      "Preprocessing collections...\n"
     ]
    }
   ],
   "source": [
    "print(\"Preprocessing collections...\")\n",
    "preprocessing_data = Preprocessing(settings, authors).preprocess()"
   ]
  },
  {
   "cell_type": "code",
   "execution_count": 6,
   "metadata": {},
   "outputs": [],
   "source": [
    "analysis = Analysis(\n",
    "    settings=settings,\n",
    "    authors=authors,\n",
    "    preprocessing_data=preprocessing_data,\n",
    "    read_from_file=settings.configuration.read_analysis_from_file\n",
    ")"
   ]
  },
  {
   "cell_type": "code",
   "execution_count": 7,
   "metadata": {},
   "outputs": [
    {
     "name": "stdout",
     "output_type": "stream",
     "text": [
      "Analysing collections using sample of 200000 words per collection...\n",
      "Text removed while cleaning: 0.9401511228114402%.\n"
     ]
    }
   ],
   "source": [
    "print(f\"Analysing collections using sample of {settings.configuration.analysis_size} words per collection...\")\n",
    "analysis_data = analysis.get_analysis(authors)\n",
    "print(f\"Text removed while cleaning: {analysis_data.percentage_of_removed_text}%.\")"
   ]
  },
  {
   "cell_type": "code",
   "execution_count": 8,
   "metadata": {},
   "outputs": [
    {
     "name": "stdout",
     "output_type": "stream",
     "text": [
      "Top 10 features of PC1: ['!', '-', '\"', '&', '_', 'of', ':', ')', '(', 'the']\n",
      "Top 10 features of PC2: ['was', '/', '^', '+', '}', '{', '=', '|', '\\\\', '(']\n"
     ]
    }
   ],
   "source": [
    "print(f\"Top 10 features of PC1: {analysis_data.pca.top_10_features[\"PC1\"]}\")\n",
    "print(f\"Top 10 features of PC2: {analysis_data.pca.top_10_features[\"PC2\"]}\")"
   ]
  },
  {
   "cell_type": "code",
   "execution_count": 9,
   "metadata": {},
   "outputs": [
    {
     "data": {
      "application/vnd.plotly.v1+json": {
       "config": {
        "plotlyServerURL": "https://plot.ly"
       },
       "data": [
        {
         "marker": {
          "color": "#3498db"
         },
         "name": "books",
         "showlegend": true,
         "type": "bar",
         "x": [
          "Mark Twain",
          "Zane Grey",
          "Joseph Conrad",
          "George Eliot",
          "Benjamin Disraeli",
          "Lucy Maud Montgomery",
          "William Henry Hudson",
          "Howard Pyle",
          "Virginia Woolf",
          "Lewis Carroll"
         ],
         "xaxis": "x",
         "y": [
          17681,
          12956,
          14316,
          15288,
          14835,
          12525,
          13845,
          11112,
          12507,
          13446
         ],
         "yaxis": "y"
        },
        {
         "marker": {
          "color": "#3498db"
         },
         "name": "books",
         "showlegend": false,
         "type": "bar",
         "x": [
          "Mark Twain",
          "Zane Grey",
          "Joseph Conrad",
          "George Eliot",
          "Benjamin Disraeli",
          "Lucy Maud Montgomery",
          "William Henry Hudson",
          "Howard Pyle",
          "Virginia Woolf",
          "Lewis Carroll"
         ],
         "xaxis": "x2",
         "y": [
          4.266604008196195,
          4.185682030285697,
          4.34952469143038,
          4.361525926011843,
          4.51938724110344,
          4.1151039434519445,
          4.310437571118237,
          4.176580688021721,
          4.3672704189087375,
          4.187113188900493
         ],
         "yaxis": "y2"
        },
        {
         "marker": {
          "color": "#3498db"
         },
         "name": "books",
         "showlegend": false,
         "type": "bar",
         "x": [
          "Mark Twain",
          "Zane Grey",
          "Joseph Conrad",
          "George Eliot",
          "Benjamin Disraeli",
          "Lucy Maud Montgomery",
          "William Henry Hudson",
          "Howard Pyle",
          "Virginia Woolf",
          "Lewis Carroll"
         ],
         "xaxis": "x3",
         "y": [
          20.407314748629975,
          12.439892142910644,
          15.441266968325792,
          23.91912886669441,
          17.90777883901093,
          14.47179269328802,
          28.119909502262445,
          23.935978982300885,
          18.102996455804963,
          13.536337760910817
         ],
         "yaxis": "y3"
        },
        {
         "marker": {
          "color": "#3498db"
         },
         "name": "books",
         "showlegend": false,
         "type": "bar",
         "x": [
          "Mark Twain",
          "Zane Grey",
          "Joseph Conrad",
          "George Eliot",
          "Benjamin Disraeli",
          "Lucy Maud Montgomery",
          "William Henry Hudson",
          "Howard Pyle",
          "Virginia Woolf",
          "Lewis Carroll"
         ],
         "xaxis": "x4",
         "y": [
          1.3800138938347568,
          1.318288828009754,
          1.3951683799655388,
          1.4103390882255717,
          1.4589054490503421,
          1.3246112027616492,
          1.3815328207073319,
          1.3015337511914733,
          1.3906512337072918,
          1.3432113994939476
         ],
         "yaxis": "y4"
        },
        {
         "marker": {
          "color": "#3498db"
         },
         "name": "books",
         "showlegend": false,
         "type": "bar",
         "x": [
          "Mark Twain",
          "Zane Grey",
          "Joseph Conrad",
          "George Eliot",
          "Benjamin Disraeli",
          "Lucy Maud Montgomery",
          "William Henry Hudson",
          "Howard Pyle",
          "Virginia Woolf",
          "Lewis Carroll"
         ],
         "xaxis": "x5",
         "y": [
          69.37240011172015,
          82.68127462532054,
          73.13086908206476,
          63.24239733642182,
          65.23520348874497,
          80.08402266267716,
          61.415615223363346,
          72.43022598216596,
          70.8113642257211,
          79.45993277548757
         ],
         "yaxis": "y5"
        },
        {
         "marker": {
          "color": "#3498db"
         },
         "name": "books",
         "showlegend": false,
         "type": "bar",
         "x": [
          "Mark Twain",
          "Zane Grey",
          "Joseph Conrad",
          "George Eliot",
          "Benjamin Disraeli",
          "Lucy Maud Montgomery",
          "William Henry Hudson",
          "Howard Pyle",
          "Virginia Woolf",
          "Lewis Carroll"
         ],
         "xaxis": "x6",
         "y": [
          8.653016699215822,
          4.817366106250251,
          6.895081001240417,
          10.38046149907257,
          8.609118046008302,
          5.684411342969792,
          11.678851990228868,
          9.10313006715673,
          7.879853175509979,
          5.5390662407838
         ],
         "yaxis": "y6"
        },
        {
         "marker": {
          "color": "#3498db"
         },
         "name": "books",
         "showlegend": false,
         "type": "bar",
         "x": [
          "Mark Twain",
          "Zane Grey",
          "Joseph Conrad",
          "George Eliot",
          "Benjamin Disraeli",
          "Lucy Maud Montgomery",
          "William Henry Hudson",
          "Howard Pyle",
          "Virginia Woolf",
          "Lewis Carroll"
         ],
         "xaxis": "x7",
         "y": [
          11.504218026084372,
          7.423378358202882,
          9.698127173437946,
          13.18041708459684,
          11.58303508889484,
          8.247430303759879,
          14.482564906613977,
          11.605528764001491,
          10.467406927273544,
          8.253754858627572
         ],
         "yaxis": "y7"
        },
        {
         "marker": {
          "color": "#3498db"
         },
         "name": "books",
         "showlegend": false,
         "type": "bar",
         "x": [
          "Mark Twain",
          "Zane Grey",
          "Joseph Conrad",
          "George Eliot",
          "Benjamin Disraeli",
          "Lucy Maud Montgomery",
          "William Henry Hudson",
          "Howard Pyle",
          "Virginia Woolf",
          "Lewis Carroll"
         ],
         "xaxis": "x8",
         "y": [
          84.81600748287119,
          70.14321688513282,
          88.65507413664487,
          76.48328937727263,
          84.12617437685022,
          67.41543332077214,
          86.11007360933199,
          89.40934789209419,
          77.69614538194722,
          62.107477052937575
         ],
         "yaxis": "y8"
        },
        {
         "marker": {
          "color": "#3498db"
         },
         "name": "books",
         "showlegend": false,
         "type": "bar",
         "x": [
          "Mark Twain",
          "Zane Grey",
          "Joseph Conrad",
          "George Eliot",
          "Benjamin Disraeli",
          "Lucy Maud Montgomery",
          "William Henry Hudson",
          "Howard Pyle",
          "Virginia Woolf",
          "Lewis Carroll"
         ],
         "xaxis": "x9",
         "y": [
          0.10321718165313283,
          0.07800824878827106,
          0.08390280496524563,
          0.08866052321771355,
          0.08791371596195442,
          0.07353243352726718,
          0.07956622185441882,
          0.06419225325669392,
          0.07420041884940999,
          0.09424347984552088
         ],
         "yaxis": "y9"
        },
        {
         "marker": {
          "color": "#3498db"
         },
         "name": "books",
         "showlegend": false,
         "type": "bar",
         "x": [
          "Mark Twain",
          "Zane Grey",
          "Joseph Conrad",
          "George Eliot",
          "Benjamin Disraeli",
          "Lucy Maud Montgomery",
          "William Henry Hudson",
          "Howard Pyle",
          "Virginia Woolf",
          "Lewis Carroll"
         ],
         "xaxis": "x10",
         "y": [
          0.09421992775700037,
          0.10611009115372559,
          0.10284921831153254,
          0.10047221613449597,
          0.10100408611972672,
          0.10834030948047646,
          0.10488100295041132,
          0.11382654595057112,
          0.1080589598004216,
          0.0995033631364391
         ],
         "yaxis": "y10"
        },
        {
         "marker": {
          "color": "#3498db"
         },
         "name": "books",
         "showlegend": false,
         "type": "bar",
         "x": [
          "Mark Twain",
          "Zane Grey",
          "Joseph Conrad",
          "George Eliot",
          "Benjamin Disraeli",
          "Lucy Maud Montgomery",
          "William Henry Hudson",
          "Howard Pyle",
          "Virginia Woolf",
          "Lewis Carroll"
         ],
         "xaxis": "x11",
         "y": [
          0.9914618413647155,
          0.9929084939953398,
          0.9910646406723931,
          0.9922862602825763,
          0.9915199744059281,
          0.9931786163485615,
          0.9913167643978245,
          0.9909690724102146,
          0.9921504302367313,
          0.993714880734391
         ],
         "yaxis": "y11"
        },
        {
         "marker": {
          "color": "#e74c3c"
         },
         "name": "gpt-3.5-turbo-0125",
         "showlegend": true,
         "type": "bar",
         "x": [
          "Mark Twain",
          "Zane Grey",
          "Joseph Conrad",
          "George Eliot",
          "Benjamin Disraeli",
          "Lucy Maud Montgomery",
          "William Henry Hudson",
          "Howard Pyle",
          "Virginia Woolf",
          "Lewis Carroll"
         ],
         "xaxis": "x",
         "y": [
          12130,
          11755,
          11849,
          12065,
          12397,
          11374,
          12073,
          12054,
          11816,
          11630
         ],
         "yaxis": "y"
        },
        {
         "marker": {
          "color": "#e74c3c"
         },
         "name": "gpt-3.5-turbo-0125",
         "showlegend": false,
         "type": "bar",
         "x": [
          "Mark Twain",
          "Zane Grey",
          "Joseph Conrad",
          "George Eliot",
          "Benjamin Disraeli",
          "Lucy Maud Montgomery",
          "William Henry Hudson",
          "Howard Pyle",
          "Virginia Woolf",
          "Lewis Carroll"
         ],
         "xaxis": "x2",
         "y": [
          4.481189545869132,
          4.597792045977528,
          4.7143871458282085,
          4.7548548699324416,
          4.753595756560581,
          4.639642170800508,
          4.793907318674837,
          4.655267273484175,
          4.710403098439061,
          4.637129686885154
         ],
         "yaxis": "y2"
        },
        {
         "marker": {
          "color": "#e74c3c"
         },
         "name": "gpt-3.5-turbo-0125",
         "showlegend": false,
         "type": "bar",
         "x": [
          "Mark Twain",
          "Zane Grey",
          "Joseph Conrad",
          "George Eliot",
          "Benjamin Disraeli",
          "Lucy Maud Montgomery",
          "William Henry Hudson",
          "Howard Pyle",
          "Virginia Woolf",
          "Lewis Carroll"
         ],
         "xaxis": "x3",
         "y": [
          21.147041314442195,
          22.703109072375128,
          23.226593948837813,
          23.688780229945817,
          23.448546739984288,
          21.825116507235713,
          23.84434713375796,
          21.98070978113021,
          23.36815336463224,
          22.10637504660122
         ],
         "yaxis": "y3"
        },
        {
         "marker": {
          "color": "#e74c3c"
         },
         "name": "gpt-3.5-turbo-0125",
         "showlegend": false,
         "type": "bar",
         "x": [
          "Mark Twain",
          "Zane Grey",
          "Joseph Conrad",
          "George Eliot",
          "Benjamin Disraeli",
          "Lucy Maud Montgomery",
          "William Henry Hudson",
          "Howard Pyle",
          "Virginia Woolf",
          "Lewis Carroll"
         ],
         "xaxis": "x4",
         "y": [
          1.4468679270778204,
          1.4796827819996183,
          1.5378603215779234,
          1.5508638628084328,
          1.560681183696259,
          1.4892673716860902,
          1.5645580468693479,
          1.497417837734448,
          1.5396262005614247,
          1.4893923210973072
         ],
         "yaxis": "y4"
        },
        {
         "marker": {
          "color": "#e74c3c"
         },
         "name": "gpt-3.5-turbo-0125",
         "showlegend": false,
         "type": "bar",
         "x": [
          "Mark Twain",
          "Zane Grey",
          "Joseph Conrad",
          "George Eliot",
          "Benjamin Disraeli",
          "Lucy Maud Montgomery",
          "William Henry Hudson",
          "Howard Pyle",
          "Virginia Woolf",
          "Lewis Carroll"
         ],
         "xaxis": "x5",
         "y": [
          62.965726435057576,
          58.61018093437154,
          53.15702393643733,
          51.58780527301161,
          51.001096918212454,
          58.69048710051254,
          50.27137689408886,
          57.84303049981855,
          52.863947767401754,
          58.394438962867596
         ],
         "yaxis": "y5"
        },
        {
         "marker": {
          "color": "#e74c3c"
         },
         "name": "gpt-3.5-turbo-0125",
         "showlegend": false,
         "type": "bar",
         "x": [
          "Mark Twain",
          "Zane Grey",
          "Joseph Conrad",
          "George Eliot",
          "Benjamin Disraeli",
          "Lucy Maud Montgomery",
          "William Henry Hudson",
          "Howard Pyle",
          "Virginia Woolf",
          "Lewis Carroll"
         ],
         "xaxis": "x6",
         "y": [
          9.730387652150739,
          10.724469365821797,
          11.615123434666245,
          11.948817870818377,
          11.970971196209728,
          10.495150423717792,
          12.171080335223909,
          10.652007299907272,
          11.691168978831385,
          10.606315657122703
         ],
         "yaxis": "y6"
        },
        {
         "marker": {
          "color": "#e74c3c"
         },
         "name": "gpt-3.5-turbo-0125",
         "showlegend": false,
         "type": "bar",
         "x": [
          "Mark Twain",
          "Zane Grey",
          "Joseph Conrad",
          "George Eliot",
          "Benjamin Disraeli",
          "Lucy Maud Montgomery",
          "William Henry Hudson",
          "Howard Pyle",
          "Virginia Woolf",
          "Lewis Carroll"
         ],
         "xaxis": "x7",
         "y": [
          12.533270116147007,
          13.500968167883904,
          14.617918032159407,
          14.973885898832329,
          15.047313726702818,
          13.289446924311216,
          15.251547558446669,
          13.47775517112961,
          14.700551484088372,
          13.456862234054507
         ],
         "yaxis": "y7"
        },
        {
         "marker": {
          "color": "#e74c3c"
         },
         "name": "gpt-3.5-turbo-0125",
         "showlegend": false,
         "type": "bar",
         "x": [
          "Mark Twain",
          "Zane Grey",
          "Joseph Conrad",
          "George Eliot",
          "Benjamin Disraeli",
          "Lucy Maud Montgomery",
          "William Henry Hudson",
          "Howard Pyle",
          "Virginia Woolf",
          "Lewis Carroll"
         ],
         "xaxis": "x8",
         "y": [
          104.19993350546754,
          124.94611087171587,
          129.53492750364393,
          126.08716123056244,
          119.16524382697325,
          111.059142954846,
          127.74783824963248,
          117.85586190583702,
          134.49599667975005,
          118.93175588377964
         ],
         "yaxis": "y8"
        },
        {
         "marker": {
          "color": "#e74c3c"
         },
         "name": "gpt-3.5-turbo-0125",
         "showlegend": false,
         "type": "bar",
         "x": [
          "Mark Twain",
          "Zane Grey",
          "Joseph Conrad",
          "George Eliot",
          "Benjamin Disraeli",
          "Lucy Maud Montgomery",
          "William Henry Hudson",
          "Howard Pyle",
          "Virginia Woolf",
          "Lewis Carroll"
         ],
         "xaxis": "x9",
         "y": [
          0.0682941660004279,
          0.0659748335896371,
          0.06624438133148466,
          0.06730710225212409,
          0.06921831379117811,
          0.06391252065047594,
          0.06718756086837961,
          0.06781129400645822,
          0.06594228375942451,
          0.06537748046545618
         ],
         "yaxis": "y9"
        },
        {
         "marker": {
          "color": "#e74c3c"
         },
         "name": "gpt-3.5-turbo-0125",
         "showlegend": false,
         "type": "bar",
         "x": [
          "Mark Twain",
          "Zane Grey",
          "Joseph Conrad",
          "George Eliot",
          "Benjamin Disraeli",
          "Lucy Maud Montgomery",
          "William Henry Hudson",
          "Howard Pyle",
          "Virginia Woolf",
          "Lewis Carroll"
         ],
         "xaxis": "x10",
         "y": [
          0.11102214095321523,
          0.1124220813208252,
          0.11221738443517916,
          0.11153960166593882,
          0.11039005151257401,
          0.11374662861299391,
          0.11159056518999534,
          0.11130819056875131,
          0.11238978883973164,
          0.11281310762793562
         ],
         "yaxis": "y10"
        },
        {
         "marker": {
          "color": "#e74c3c"
         },
         "name": "gpt-3.5-turbo-0125",
         "showlegend": false,
         "type": "bar",
         "x": [
          "Mark Twain",
          "Zane Grey",
          "Joseph Conrad",
          "George Eliot",
          "Benjamin Disraeli",
          "Lucy Maud Montgomery",
          "William Henry Hudson",
          "Howard Pyle",
          "Virginia Woolf",
          "Lewis Carroll"
         ],
         "xaxis": "x11",
         "y": [
          0.9894975664186206,
          0.9874203187299275,
          0.9869621119420147,
          0.9873083995006486,
          0.9880028109403647,
          0.9888061658873886,
          0.9871423867208828,
          0.9881314537961426,
          0.9864657693232234,
          0.9880208398888362
         ],
         "yaxis": "y11"
        },
        {
         "marker": {
          "color": "#2ecc71"
         },
         "name": "gpt-4o",
         "showlegend": true,
         "type": "bar",
         "x": [
          "Mark Twain",
          "Zane Grey",
          "Joseph Conrad",
          "George Eliot",
          "Benjamin Disraeli",
          "Lucy Maud Montgomery",
          "William Henry Hudson",
          "Howard Pyle",
          "Virginia Woolf",
          "Lewis Carroll"
         ],
         "xaxis": "x",
         "y": [
          14804,
          12350,
          13005,
          13820,
          14114,
          12474,
          13277,
          12843,
          12733,
          13361
         ],
         "yaxis": "y"
        },
        {
         "marker": {
          "color": "#2ecc71"
         },
         "name": "gpt-4o",
         "showlegend": false,
         "type": "bar",
         "x": [
          "Mark Twain",
          "Zane Grey",
          "Joseph Conrad",
          "George Eliot",
          "Benjamin Disraeli",
          "Lucy Maud Montgomery",
          "William Henry Hudson",
          "Howard Pyle",
          "Virginia Woolf",
          "Lewis Carroll"
         ],
         "xaxis": "x2",
         "y": [
          4.43444054925985,
          4.587667019964207,
          4.673474335588446,
          4.776608261335979,
          4.857130549157683,
          4.651940571269945,
          4.712801449961327,
          4.568942297132486,
          4.639333782747158,
          4.659332415086599
         ],
         "yaxis": "y2"
        },
        {
         "marker": {
          "color": "#2ecc71"
         },
         "name": "gpt-4o",
         "showlegend": false,
         "type": "bar",
         "x": [
          "Mark Twain",
          "Zane Grey",
          "Joseph Conrad",
          "George Eliot",
          "Benjamin Disraeli",
          "Lucy Maud Montgomery",
          "William Henry Hudson",
          "Howard Pyle",
          "Virginia Woolf",
          "Lewis Carroll"
         ],
         "xaxis": "x3",
         "y": [
          18.860186710598573,
          19.23134328358209,
          20.871807228915664,
          21.013937704520664,
          21.34399901924727,
          19.98070256528773,
          20.42995283018868,
          20.423444693660723,
          20.792170130497826,
          18.597667320688902
         ],
         "yaxis": "y3"
        },
        {
         "marker": {
          "color": "#2ecc71"
         },
         "name": "gpt-4o",
         "showlegend": false,
         "type": "bar",
         "x": [
          "Mark Twain",
          "Zane Grey",
          "Joseph Conrad",
          "George Eliot",
          "Benjamin Disraeli",
          "Lucy Maud Montgomery",
          "William Henry Hudson",
          "Howard Pyle",
          "Virginia Woolf",
          "Lewis Carroll"
         ],
         "xaxis": "x4",
         "y": [
          1.4283085452067876,
          1.4646499748058313,
          1.5232919254658386,
          1.555823422883047,
          1.6022584332263086,
          1.4899284611336336,
          1.5291897071216651,
          1.4510684538775889,
          1.5081591854761849,
          1.4893649444656096
         ],
         "yaxis": "y4"
        },
        {
         "marker": {
          "color": "#2ecc71"
         },
         "name": "gpt-4o",
         "showlegend": false,
         "type": "bar",
         "x": [
          "Mark Twain",
          "Zane Grey",
          "Joseph Conrad",
          "George Eliot",
          "Benjamin Disraeli",
          "Lucy Maud Montgomery",
          "William Henry Hudson",
          "Howard Pyle",
          "Virginia Woolf",
          "Lewis Carroll"
         ],
         "xaxis": "x5",
         "y": [
          66.85700756424822,
          63.40579869859086,
          56.77961876824068,
          53.88319165400577,
          49.61977754451834,
          60.50663908432756,
          56.72914865486561,
          63.34481243789037,
          58.14068022625949,
          61.958093367710205
         ],
         "yaxis": "y5"
        },
        {
         "marker": {
          "color": "#2ecc71"
         },
         "name": "gpt-4o",
         "showlegend": false,
         "type": "bar",
         "x": [
          "Mark Twain",
          "Zane Grey",
          "Joseph Conrad",
          "George Eliot",
          "Benjamin Disraeli",
          "Lucy Maud Montgomery",
          "William Henry Hudson",
          "Howard Pyle",
          "Virginia Woolf",
          "Lewis Carroll"
         ],
         "xaxis": "x6",
         "y": [
          8.619513650573538,
          9.193093583305824,
          10.524849539774007,
          10.964152094783017,
          11.640809129576876,
          9.78362984183909,
          10.422120147809235,
          9.497751186283232,
          10.315224739513138,
          9.23759659976287
         ],
         "yaxis": "y6"
        },
        {
         "marker": {
          "color": "#2ecc71"
         },
         "name": "gpt-4o",
         "showlegend": false,
         "type": "bar",
         "x": [
          "Mark Twain",
          "Zane Grey",
          "Joseph Conrad",
          "George Eliot",
          "Benjamin Disraeli",
          "Lucy Maud Montgomery",
          "William Henry Hudson",
          "Howard Pyle",
          "Virginia Woolf",
          "Lewis Carroll"
         ],
         "xaxis": "x7",
         "y": [
          11.36000974206545,
          11.8922604671636,
          13.463595089030997,
          13.955042743557199,
          14.785625201743812,
          12.57400709645104,
          13.323730667418278,
          12.178695419529062,
          13.170304905682475,
          12.063044890353925
         ],
         "yaxis": "y7"
        },
        {
         "marker": {
          "color": "#2ecc71"
         },
         "name": "gpt-4o",
         "showlegend": false,
         "type": "bar",
         "x": [
          "Mark Twain",
          "Zane Grey",
          "Joseph Conrad",
          "George Eliot",
          "Benjamin Disraeli",
          "Lucy Maud Montgomery",
          "William Henry Hudson",
          "Howard Pyle",
          "Virginia Woolf",
          "Lewis Carroll"
         ],
         "xaxis": "x8",
         "y": [
          100.63927446175506,
          130.34037107433386,
          143.51432636054793,
          128.41711209369922,
          138.26503389400847,
          121.63264844841513,
          131.18486241188126,
          128.90553654826007,
          139.02176240423034,
          109.62254989544778
         ],
         "yaxis": "y8"
        },
        {
         "marker": {
          "color": "#2ecc71"
         },
         "name": "gpt-4o",
         "showlegend": false,
         "type": "bar",
         "x": [
          "Mark Twain",
          "Zane Grey",
          "Joseph Conrad",
          "George Eliot",
          "Benjamin Disraeli",
          "Lucy Maud Montgomery",
          "William Henry Hudson",
          "Howard Pyle",
          "Virginia Woolf",
          "Lewis Carroll"
         ],
         "xaxis": "x9",
         "y": [
          0.0862091054145654,
          0.07152827249086349,
          0.07507100140848323,
          0.07970655070190212,
          0.08106695461881759,
          0.07214032490327506,
          0.07663669002458931,
          0.074233990532175,
          0.07399637369534391,
          0.0783108167511649
         ],
         "yaxis": "y9"
        },
        {
         "marker": {
          "color": "#2ecc71"
         },
         "name": "gpt-4o",
         "showlegend": false,
         "type": "bar",
         "x": [
          "Mark Twain",
          "Zane Grey",
          "Joseph Conrad",
          "George Eliot",
          "Benjamin Disraeli",
          "Lucy Maud Montgomery",
          "William Henry Hudson",
          "Howard Pyle",
          "Virginia Woolf",
          "Lewis Carroll"
         ],
         "xaxis": "x10",
         "y": [
          0.10166974739394948,
          0.10936422337078149,
          0.10733016474869093,
          0.10483900012087913,
          0.10410193474854573,
          0.10899765926572058,
          0.10647403878424037,
          0.10780674528035068,
          0.10798796514756547,
          0.10571240517626876
         ],
         "yaxis": "y10"
        },
        {
         "marker": {
          "color": "#2ecc71"
         },
         "name": "gpt-4o",
         "showlegend": false,
         "type": "bar",
         "x": [
          "Mark Twain",
          "Zane Grey",
          "Joseph Conrad",
          "George Eliot",
          "Benjamin Disraeli",
          "Lucy Maud Montgomery",
          "William Henry Hudson",
          "Howard Pyle",
          "Virginia Woolf",
          "Lewis Carroll"
         ],
         "xaxis": "x11",
         "y": [
          0.9898685232428275,
          0.9868849912326476,
          0.9855716738614462,
          0.9870859298904854,
          0.9861026449739263,
          0.987756568408325,
          0.9868061955393346,
          0.9870315829176259,
          0.9860192876722448,
          0.988962900313202
         ],
         "yaxis": "y11"
        },
        {
         "marker": {
          "color": "#f1c40f"
         },
         "name": "gemini-1.5-flash",
         "showlegend": true,
         "type": "bar",
         "x": [
          "Mark Twain",
          "Zane Grey",
          "Joseph Conrad",
          "George Eliot",
          "Benjamin Disraeli",
          "Lucy Maud Montgomery",
          "William Henry Hudson",
          "Howard Pyle",
          "Virginia Woolf",
          "Lewis Carroll"
         ],
         "xaxis": "x",
         "y": [
          11128,
          10045,
          9812,
          11083,
          11085,
          10797,
          10263,
          10927,
          9790,
          10889
         ],
         "yaxis": "y"
        },
        {
         "marker": {
          "color": "#f1c40f"
         },
         "name": "gemini-1.5-flash",
         "showlegend": false,
         "type": "bar",
         "x": [
          "Mark Twain",
          "Zane Grey",
          "Joseph Conrad",
          "George Eliot",
          "Benjamin Disraeli",
          "Lucy Maud Montgomery",
          "William Henry Hudson",
          "Howard Pyle",
          "Virginia Woolf",
          "Lewis Carroll"
         ],
         "xaxis": "x2",
         "y": [
          4.236252885050087,
          4.432960098685771,
          4.531146142499156,
          4.66428383398169,
          4.645333661804126,
          4.505295635921322,
          4.520748442695893,
          4.448348215601332,
          4.535816754795722,
          4.556061368361712
         ],
         "yaxis": "y2"
        },
        {
         "marker": {
          "color": "#f1c40f"
         },
         "name": "gemini-1.5-flash",
         "showlegend": false,
         "type": "bar",
         "x": [
          "Mark Twain",
          "Zane Grey",
          "Joseph Conrad",
          "George Eliot",
          "Benjamin Disraeli",
          "Lucy Maud Montgomery",
          "William Henry Hudson",
          "Howard Pyle",
          "Virginia Woolf",
          "Lewis Carroll"
         ],
         "xaxis": "x3",
         "y": [
          17.195990180032734,
          18.12101020956475,
          20.55290393278948,
          21.776433121019107,
          21.03219837157661,
          18.670100808685056,
          21.160555004955402,
          19.136589217234377,
          20.26817253394209,
          18.24496792744968
         ],
         "yaxis": "y3"
        },
        {
         "marker": {
          "color": "#f1c40f"
         },
         "name": "gemini-1.5-flash",
         "showlegend": false,
         "type": "bar",
         "x": [
          "Mark Twain",
          "Zane Grey",
          "Joseph Conrad",
          "George Eliot",
          "Benjamin Disraeli",
          "Lucy Maud Montgomery",
          "William Henry Hudson",
          "Howard Pyle",
          "Virginia Woolf",
          "Lewis Carroll"
         ],
         "xaxis": "x4",
         "y": [
          1.370345254241321,
          1.4187858803435025,
          1.4694640434594581,
          1.5393723127321652,
          1.5376597629144744,
          1.4496692081763431,
          1.4715235820336283,
          1.4337488580437923,
          1.4815284660801935,
          1.4743136672506076
         ],
         "yaxis": "y4"
        },
        {
         "marker": {
          "color": "#f1c40f"
         },
         "name": "gemini-1.5-flash",
         "showlegend": false,
         "type": "bar",
         "x": [
          "Mark Twain",
          "Zane Grey",
          "Joseph Conrad",
          "George Eliot",
          "Benjamin Disraeli",
          "Lucy Maud Montgomery",
          "William Henry Hudson",
          "Howard Pyle",
          "Virginia Woolf",
          "Lewis Carroll"
         ],
         "xaxis": "x5",
         "y": [
          73.44986145845104,
          68.4128891602315,
          61.65714443154853,
          54.501022725024455,
          55.40130271028522,
          65.24283266746605,
          60.86614162992534,
          66.1162085540023,
          60.92549664766443,
          63.58942130423719
         ],
         "yaxis": "y5"
        },
        {
         "marker": {
          "color": "#f1c40f"
         },
         "name": "gemini-1.5-flash",
         "showlegend": false,
         "type": "bar",
         "x": [
          "Mark Twain",
          "Zane Grey",
          "Joseph Conrad",
          "George Eliot",
          "Benjamin Disraeli",
          "Lucy Maud Montgomery",
          "William Henry Hudson",
          "Howard Pyle",
          "Virginia Woolf",
          "Lewis Carroll"
         ],
         "xaxis": "x6",
         "y": [
          7.286510170260353,
          8.218867369783585,
          9.765308246609504,
          11.067402207437002,
          10.756942567305675,
          8.797435971868023,
          10.02659471992942,
          8.791506319638156,
          9.796623187983702,
          8.922438765262545
         ],
         "yaxis": "y6"
        },
        {
         "marker": {
          "color": "#f1c40f"
         },
         "name": "gemini-1.5-flash",
         "showlegend": false,
         "type": "bar",
         "x": [
          "Mark Twain",
          "Zane Grey",
          "Joseph Conrad",
          "George Eliot",
          "Benjamin Disraeli",
          "Lucy Maud Montgomery",
          "William Henry Hudson",
          "Howard Pyle",
          "Virginia Woolf",
          "Lewis Carroll"
         ],
         "xaxis": "x7",
         "y": [
          10.028037968888912,
          10.865854385102175,
          12.585827659217179,
          14.081423521887416,
          13.749591238686776,
          11.532477977373807,
          12.803363025821794,
          11.515891691373167,
          12.65093439189946,
          11.697305839109422
         ],
         "yaxis": "y7"
        },
        {
         "marker": {
          "color": "#f1c40f"
         },
         "name": "gemini-1.5-flash",
         "showlegend": false,
         "type": "bar",
         "x": [
          "Mark Twain",
          "Zane Grey",
          "Joseph Conrad",
          "George Eliot",
          "Benjamin Disraeli",
          "Lucy Maud Montgomery",
          "William Henry Hudson",
          "Howard Pyle",
          "Virginia Woolf",
          "Lewis Carroll"
         ],
         "xaxis": "x8",
         "y": [
          110.54100943231201,
          140.24416312681777,
          158.60138198809065,
          153.36927056567106,
          154.80398742543673,
          130.0579371804533,
          165.00943582491232,
          135.98994568816875,
          167.48127292794544,
          128.2607063034204
         ],
         "yaxis": "y8"
        },
        {
         "marker": {
          "color": "#f1c40f"
         },
         "name": "gemini-1.5-flash",
         "showlegend": false,
         "type": "bar",
         "x": [
          "Mark Twain",
          "Zane Grey",
          "Joseph Conrad",
          "George Eliot",
          "Benjamin Disraeli",
          "Lucy Maud Montgomery",
          "William Henry Hudson",
          "Howard Pyle",
          "Virginia Woolf",
          "Lewis Carroll"
         ],
         "xaxis": "x9",
         "y": [
          0.06619554096176268,
          0.05957323148455663,
          0.05812761772738313,
          0.06483371844745386,
          0.06501962026430168,
          0.06406384430533717,
          0.06008500772797527,
          0.06440338313735891,
          0.0580347615773125,
          0.066005540367701
         ],
         "yaxis": "y9"
        },
        {
         "marker": {
          "color": "#f1c40f"
         },
         "name": "gemini-1.5-flash",
         "showlegend": false,
         "type": "bar",
         "x": [
          "Mark Twain",
          "Zane Grey",
          "Joseph Conrad",
          "George Eliot",
          "Benjamin Disraeli",
          "Lucy Maud Montgomery",
          "William Henry Hudson",
          "Howard Pyle",
          "Virginia Woolf",
          "Lewis Carroll"
         ],
         "xaxis": "x10",
         "y": [
          0.11282665015891602,
          0.11717740216545397,
          0.11818718496464221,
          0.11353255066837493,
          0.11343899231532634,
          0.1141627856199048,
          0.11669679532220907,
          0.11387994119038355,
          0.11825994330521514,
          0.11312319240482607
         ],
         "yaxis": "y10"
        },
        {
         "marker": {
          "color": "#f1c40f"
         },
         "name": "gemini-1.5-flash",
         "showlegend": false,
         "type": "bar",
         "x": [
          "Mark Twain",
          "Zane Grey",
          "Joseph Conrad",
          "George Eliot",
          "Benjamin Disraeli",
          "Lucy Maud Montgomery",
          "William Henry Hudson",
          "Howard Pyle",
          "Virginia Woolf",
          "Lewis Carroll"
         ],
         "xaxis": "x11",
         "y": [
          0.9888560356491484,
          0.9858760316713899,
          0.9840379457799924,
          0.9845728446658907,
          0.9844293892592606,
          0.986901587962051,
          0.983401619021036,
          0.9863094890039844,
          0.9831497276612402,
          0.9870820935720641
         ],
         "yaxis": "y11"
        },
        {
         "marker": {
          "color": "#9b59b6"
         },
         "name": "open-mixtral-8x7b",
         "showlegend": true,
         "type": "bar",
         "x": [
          "Mark Twain",
          "Zane Grey",
          "Joseph Conrad",
          "George Eliot",
          "Benjamin Disraeli",
          "Lucy Maud Montgomery",
          "William Henry Hudson",
          "Howard Pyle",
          "Virginia Woolf",
          "Lewis Carroll"
         ],
         "xaxis": "x",
         "y": [
          12605,
          10888,
          10941,
          11575,
          12265,
          11260,
          12067,
          11875,
          10480,
          12417
         ],
         "yaxis": "y"
        },
        {
         "marker": {
          "color": "#9b59b6"
         },
         "name": "open-mixtral-8x7b",
         "showlegend": false,
         "type": "bar",
         "x": [
          "Mark Twain",
          "Zane Grey",
          "Joseph Conrad",
          "George Eliot",
          "Benjamin Disraeli",
          "Lucy Maud Montgomery",
          "William Henry Hudson",
          "Howard Pyle",
          "Virginia Woolf",
          "Lewis Carroll"
         ],
         "xaxis": "x2",
         "y": [
          4.38122389330633,
          4.466123518687329,
          4.530976765298306,
          4.654022754518106,
          4.608196291909621,
          4.548266102518654,
          4.617099929128278,
          4.463690171304991,
          4.526017179923025,
          4.606120559990744
         ],
         "yaxis": "y2"
        },
        {
         "marker": {
          "color": "#9b59b6"
         },
         "name": "open-mixtral-8x7b",
         "showlegend": false,
         "type": "bar",
         "x": [
          "Mark Twain",
          "Zane Grey",
          "Joseph Conrad",
          "George Eliot",
          "Benjamin Disraeli",
          "Lucy Maud Montgomery",
          "William Henry Hudson",
          "Howard Pyle",
          "Virginia Woolf",
          "Lewis Carroll"
         ],
         "xaxis": "x3",
         "y": [
          22.79422950819672,
          22.485267742761977,
          28.60655737704918,
          29.3273631840796,
          26.79115179252479,
          23.682464454976305,
          27.009954058192957,
          24.455114822546975,
          27.233782319244465,
          21.66980067694622
         ],
         "yaxis": "y3"
        },
        {
         "marker": {
          "color": "#9b59b6"
         },
         "name": "open-mixtral-8x7b",
         "showlegend": false,
         "type": "bar",
         "x": [
          "Mark Twain",
          "Zane Grey",
          "Joseph Conrad",
          "George Eliot",
          "Benjamin Disraeli",
          "Lucy Maud Montgomery",
          "William Henry Hudson",
          "Howard Pyle",
          "Virginia Woolf",
          "Lewis Carroll"
         ],
         "xaxis": "x4",
         "y": [
          1.4358652750768097,
          1.4458010483135826,
          1.5000198587193962,
          1.541969193187216,
          1.52743485787172,
          1.4647760084622201,
          1.5195067328136074,
          1.439849752432986,
          1.4984110560934152,
          1.4930463959273401
         ],
         "yaxis": "y4"
        },
        {
         "marker": {
          "color": "#9b59b6"
         },
         "name": "open-mixtral-8x7b",
         "showlegend": false,
         "type": "bar",
         "x": [
          "Mark Twain",
          "Zane Grey",
          "Joseph Conrad",
          "George Eliot",
          "Benjamin Disraeli",
          "Lucy Maud Montgomery",
          "William Henry Hudson",
          "Howard Pyle",
          "Virginia Woolf",
          "Lewis Carroll"
         ],
         "xaxis": "x5",
         "y": [
          62.22465477768223,
          61.69768455376753,
          50.89766421463416,
          46.617132624520764,
          50.420991954639845,
          58.87724826229524,
          50.869627034902976,
          60.20176939928423,
          52.427135600463984,
          58.52842721744662
         ],
         "yaxis": "y5"
        },
        {
         "marker": {
          "color": "#9b59b6"
         },
         "name": "open-mixtral-8x7b",
         "showlegend": false,
         "type": "bar",
         "x": [
          "Mark Twain",
          "Zane Grey",
          "Joseph Conrad",
          "George Eliot",
          "Benjamin Disraeli",
          "Lucy Maud Montgomery",
          "William Henry Hudson",
          "Howard Pyle",
          "Virginia Woolf",
          "Lewis Carroll"
         ],
         "xaxis": "x6",
         "y": [
          10.24295975410308,
          10.239706789777447,
          13.266791709938058,
          14.042908121400195,
          12.882280521970966,
          10.930518037294956,
          12.874061529895823,
          10.937721859502556,
          12.712425566407642,
          10.47916973595164
         ],
         "yaxis": "y6"
        },
        {
         "marker": {
          "color": "#9b59b6"
         },
         "name": "open-mixtral-8x7b",
         "showlegend": false,
         "type": "bar",
         "x": [
          "Mark Twain",
          "Zane Grey",
          "Joseph Conrad",
          "George Eliot",
          "Benjamin Disraeli",
          "Lucy Maud Montgomery",
          "William Henry Hudson",
          "Howard Pyle",
          "Virginia Woolf",
          "Lewis Carroll"
         ],
         "xaxis": "x7",
         "y": [
          13.161050490550705,
          13.147707826366414,
          16.376209719238638,
          17.274362070356638,
          16.05560976948805,
          13.880201540016765,
          15.9602679450348,
          13.858763247327367,
          15.805538305320681,
          13.467179787150119
         ],
         "yaxis": "y7"
        },
        {
         "marker": {
          "color": "#9b59b6"
         },
         "name": "open-mixtral-8x7b",
         "showlegend": false,
         "type": "bar",
         "x": [
          "Mark Twain",
          "Zane Grey",
          "Joseph Conrad",
          "George Eliot",
          "Benjamin Disraeli",
          "Lucy Maud Montgomery",
          "William Henry Hudson",
          "Howard Pyle",
          "Virginia Woolf",
          "Lewis Carroll"
         ],
         "xaxis": "x8",
         "y": [
          114.80907051100654,
          132.67289396222586,
          160.48954371879512,
          155.23121417365877,
          141.7424205644473,
          124.5987716846008,
          141.42526575723303,
          135.59438954186805,
          162.89546873279858,
          112.21902033312615
         ],
         "yaxis": "y8"
        },
        {
         "marker": {
          "color": "#9b59b6"
         },
         "name": "open-mixtral-8x7b",
         "showlegend": false,
         "type": "bar",
         "x": [
          "Mark Twain",
          "Zane Grey",
          "Joseph Conrad",
          "George Eliot",
          "Benjamin Disraeli",
          "Lucy Maud Montgomery",
          "William Henry Hudson",
          "Howard Pyle",
          "Virginia Woolf",
          "Lewis Carroll"
         ],
         "xaxis": "x9",
         "y": [
          0.07252338814540349,
          0.06203281677301732,
          0.062078356832817955,
          0.06545316776367872,
          0.06983987791545189,
          0.06438148603447783,
          0.06841672572643515,
          0.06758294917762221,
          0.05957829030772642,
          0.0718326969802152
         ],
         "yaxis": "y9"
        },
        {
         "marker": {
          "color": "#9b59b6"
         },
         "name": "open-mixtral-8x7b",
         "showlegend": false,
         "type": "bar",
         "x": [
          "Mark Twain",
          "Zane Grey",
          "Joseph Conrad",
          "George Eliot",
          "Benjamin Disraeli",
          "Lucy Maud Montgomery",
          "William Henry Hudson",
          "Howard Pyle",
          "Virginia Woolf",
          "Lewis Carroll"
         ],
         "xaxis": "x10",
         "y": [
          0.10873166324298698,
          0.11511282455978265,
          0.11504316734580285,
          0.1128202904107899,
          0.1101994856597975,
          0.1136076275799819,
          0.11101226490354865,
          0.11155464899279899,
          0.1167634083271443,
          0.10917759957666416
         ],
         "yaxis": "y10"
        },
        {
         "marker": {
          "color": "#9b59b6"
         },
         "name": "open-mixtral-8x7b",
         "showlegend": false,
         "type": "bar",
         "x": [
          "Mark Twain",
          "Zane Grey",
          "Joseph Conrad",
          "George Eliot",
          "Benjamin Disraeli",
          "Lucy Maud Montgomery",
          "William Henry Hudson",
          "Howard Pyle",
          "Virginia Woolf",
          "Lewis Carroll"
         ],
         "xaxis": "x11",
         "y": [
          0.9884397593511207,
          0.9866408663715952,
          0.9838596463044755,
          0.9843904854940813,
          0.9857442251265964,
          0.9874513128848259,
          0.9857746027853441,
          0.9863563505194974,
          0.9836150332793919,
          0.9886975632159425
         ],
         "yaxis": "y11"
        },
        {
         "marker": {
          "color": "#e67e22"
         },
         "name": "claude-3-haiku-20240307",
         "showlegend": true,
         "type": "bar",
         "x": [
          "Mark Twain",
          "Zane Grey",
          "Joseph Conrad",
          "George Eliot",
          "Benjamin Disraeli",
          "Lucy Maud Montgomery",
          "William Henry Hudson",
          "Howard Pyle",
          "Virginia Woolf",
          "Lewis Carroll"
         ],
         "xaxis": "x",
         "y": [
          12762,
          12396,
          11222,
          11939,
          11559,
          12364,
          11987,
          11912,
          11427,
          12007
         ],
         "yaxis": "y"
        },
        {
         "marker": {
          "color": "#e67e22"
         },
         "name": "claude-3-haiku-20240307",
         "showlegend": false,
         "type": "bar",
         "x": [
          "Mark Twain",
          "Zane Grey",
          "Joseph Conrad",
          "George Eliot",
          "Benjamin Disraeli",
          "Lucy Maud Montgomery",
          "William Henry Hudson",
          "Howard Pyle",
          "Virginia Woolf",
          "Lewis Carroll"
         ],
         "xaxis": "x2",
         "y": [
          4.328392931065646,
          4.6183772362951565,
          4.6627352742812125,
          4.785528735957441,
          4.7194023266730385,
          4.629763961510738,
          4.7556497574834875,
          4.646480348947122,
          4.661145137077395,
          4.685321954469229
         ],
         "yaxis": "y2"
        },
        {
         "marker": {
          "color": "#e67e22"
         },
         "name": "claude-3-haiku-20240307",
         "showlegend": false,
         "type": "bar",
         "x": [
          "Mark Twain",
          "Zane Grey",
          "Joseph Conrad",
          "George Eliot",
          "Benjamin Disraeli",
          "Lucy Maud Montgomery",
          "William Henry Hudson",
          "Howard Pyle",
          "Virginia Woolf",
          "Lewis Carroll"
         ],
         "xaxis": "x3",
         "y": [
          20.78921212121212,
          22.052671562420866,
          27.15761120517162,
          26.992820042774213,
          27.020018337408313,
          22.17455283521502,
          26.99190345249007,
          24.212601682062594,
          25.508590564938846,
          24.803988603988604
         ],
         "yaxis": "y3"
        },
        {
         "marker": {
          "color": "#e67e22"
         },
         "name": "claude-3-haiku-20240307",
         "showlegend": false,
         "type": "bar",
         "x": [
          "Mark Twain",
          "Zane Grey",
          "Joseph Conrad",
          "George Eliot",
          "Benjamin Disraeli",
          "Lucy Maud Montgomery",
          "William Henry Hudson",
          "Howard Pyle",
          "Virginia Woolf",
          "Lewis Carroll"
         ],
         "xaxis": "x4",
         "y": [
          1.4072275247651753,
          1.4845956870220243,
          1.5340308201515505,
          1.5688502787288832,
          1.5634349249797816,
          1.5057608036521322,
          1.5688922343779184,
          1.5148222806837723,
          1.5280290879201794,
          1.5265787599641634
         ],
         "yaxis": "y4"
        },
        {
         "marker": {
          "color": "#e67e22"
         },
         "name": "claude-3-haiku-20240307",
         "showlegend": false,
         "type": "bar",
         "x": [
          "Mark Twain",
          "Zane Grey",
          "Joseph Conrad",
          "George Eliot",
          "Benjamin Disraeli",
          "Lucy Maud Montgomery",
          "William Henry Hudson",
          "Howard Pyle",
          "Virginia Woolf",
          "Lewis Carroll"
         ],
         "xaxis": "x5",
         "y": [
          66.6825011018359,
          58.85474324207959,
          49.491017241929654,
          46.71255407612068,
          47.14308673424105,
          56.94046488328638,
          46.709934967350705,
          54.105244346859365,
          51.672519738539904,
          52.51038847398337
         ],
         "yaxis": "y5"
        },
        {
         "marker": {
          "color": "#e67e22"
         },
         "name": "claude-3-haiku-20240307",
         "showlegend": false,
         "type": "bar",
         "x": [
          "Mark Twain",
          "Zane Grey",
          "Joseph Conrad",
          "George Eliot",
          "Benjamin Disraeli",
          "Lucy Maud Montgomery",
          "William Henry Hudson",
          "Howard Pyle",
          "Virginia Woolf",
          "Lewis Carroll"
         ],
         "xaxis": "x6",
         "y": [
          9.123077519501798,
          10.528771016204026,
          13.103032047805225,
          13.449633105682764,
          13.396339266350669,
          10.82605308882902,
          13.449770712130565,
          11.727817568072926,
          12.389093557784268,
          12.097184923132684
         ],
         "yaxis": "y6"
        },
        {
         "marker": {
          "color": "#e67e22"
         },
         "name": "claude-3-haiku-20240307",
         "showlegend": false,
         "type": "bar",
         "x": [
          "Mark Twain",
          "Zane Grey",
          "Joseph Conrad",
          "George Eliot",
          "Benjamin Disraeli",
          "Lucy Maud Montgomery",
          "William Henry Hudson",
          "Howard Pyle",
          "Virginia Woolf",
          "Lewis Carroll"
         ],
         "xaxis": "x7",
         "y": [
          11.960232428523447,
          13.37013506503908,
          16.182382738616088,
          16.570692634105075,
          16.520289386100366,
          13.737957654263125,
          16.58659549630598,
          14.668698012217114,
          15.411863503321095,
          15.150512764882297
         ],
         "yaxis": "y7"
        },
        {
         "marker": {
          "color": "#e67e22"
         },
         "name": "claude-3-haiku-20240307",
         "showlegend": false,
         "type": "bar",
         "x": [
          "Mark Twain",
          "Zane Grey",
          "Joseph Conrad",
          "George Eliot",
          "Benjamin Disraeli",
          "Lucy Maud Montgomery",
          "William Henry Hudson",
          "Howard Pyle",
          "Virginia Woolf",
          "Lewis Carroll"
         ],
         "xaxis": "x8",
         "y": [
          96.99444351851592,
          121.64280194252979,
          158.86040754009107,
          155.57495519000298,
          157.37616402216895,
          115.03719947904148,
          147.53867383833395,
          135.536744013069,
          157.36199635971607,
          138.17936703613688
         ],
         "yaxis": "y8"
        },
        {
         "marker": {
          "color": "#e67e22"
         },
         "name": "claude-3-haiku-20240307",
         "showlegend": false,
         "type": "bar",
         "x": [
          "Mark Twain",
          "Zane Grey",
          "Joseph Conrad",
          "George Eliot",
          "Benjamin Disraeli",
          "Lucy Maud Montgomery",
          "William Henry Hudson",
          "Howard Pyle",
          "Virginia Woolf",
          "Lewis Carroll"
         ],
         "xaxis": "x9",
         "y": [
          0.0744092215659637,
          0.07117102634177709,
          0.0636012763328667,
          0.06756840884009169,
          0.0653719340116164,
          0.07073145616182881,
          0.06784236709698963,
          0.06783058298313346,
          0.06522520876975678,
          0.06895660563736188
         ],
         "yaxis": "y9"
        },
        {
         "marker": {
          "color": "#e67e22"
         },
         "name": "claude-3-haiku-20240307",
         "showlegend": false,
         "type": "bar",
         "x": [
          "Mark Twain",
          "Zane Grey",
          "Joseph Conrad",
          "George Eliot",
          "Benjamin Disraeli",
          "Lucy Maud Montgomery",
          "William Henry Hudson",
          "Howard Pyle",
          "Virginia Woolf",
          "Lewis Carroll"
         ],
         "xaxis": "x10",
         "y": [
          0.10778661596693262,
          0.10949260777889891,
          0.11402938645051576,
          0.11151193946052784,
          0.11287300004797213,
          0.1097164730399354,
          0.1113448019002152,
          0.1114082633261074,
          0.11305242061647129,
          0.11080475600134769
         ],
         "yaxis": "y10"
        },
        {
         "marker": {
          "color": "#e67e22"
         },
         "name": "claude-3-haiku-20240307",
         "showlegend": false,
         "type": "bar",
         "x": [
          "Mark Twain",
          "Zane Grey",
          "Joseph Conrad",
          "George Eliot",
          "Benjamin Disraeli",
          "Lucy Maud Montgomery",
          "William Henry Hudson",
          "Howard Pyle",
          "Virginia Woolf",
          "Lewis Carroll"
         ],
         "xaxis": "x11",
         "y": [
          0.9902221980239516,
          0.987755048621494,
          0.984024848570532,
          0.9843587453721966,
          0.9841758709236763,
          0.9884154000779775,
          0.9851627089071485,
          0.9863623766396602,
          0.9841762883311239,
          0.9860987785458242
         ],
         "yaxis": "y11"
        }
       ],
       "layout": {
        "annotations": [
         {
          "font": {
           "size": 16
          },
          "showarrow": false,
          "text": "Unique word count",
          "x": 0.5,
          "xanchor": "center",
          "xref": "paper",
          "y": 0.9999999999999999,
          "yanchor": "bottom",
          "yref": "paper"
         },
         {
          "font": {
           "size": 16
          },
          "showarrow": false,
          "text": "Average word length",
          "x": 0.5,
          "xanchor": "center",
          "xref": "paper",
          "y": 0.9049586776859503,
          "yanchor": "bottom",
          "yref": "paper"
         },
         {
          "font": {
           "size": 16
          },
          "showarrow": false,
          "text": "Average sentence length",
          "x": 0.5,
          "xanchor": "center",
          "xref": "paper",
          "y": 0.8099173553719007,
          "yanchor": "bottom",
          "yref": "paper"
         },
         {
          "font": {
           "size": 16
          },
          "showarrow": false,
          "text": "Average syllables per word",
          "x": 0.5,
          "xanchor": "center",
          "xref": "paper",
          "y": 0.7148760330578511,
          "yanchor": "bottom",
          "yref": "paper"
         },
         {
          "font": {
           "size": 16
          },
          "showarrow": false,
          "text": "Flesch reading ease",
          "x": 0.5,
          "xanchor": "center",
          "xref": "paper",
          "y": 0.6198347107438015,
          "yanchor": "bottom",
          "yref": "paper"
         },
         {
          "font": {
           "size": 16
          },
          "showarrow": false,
          "text": "Flesch Kincaid Grade Level",
          "x": 0.5,
          "xanchor": "center",
          "xref": "paper",
          "y": 0.524793388429752,
          "yanchor": "bottom",
          "yref": "paper"
         },
         {
          "font": {
           "size": 16
          },
          "showarrow": false,
          "text": "Gunning Fog Index",
          "x": 0.5,
          "xanchor": "center",
          "xref": "paper",
          "y": 0.42975206611570244,
          "yanchor": "bottom",
          "yref": "paper"
         },
         {
          "font": {
           "size": 16
          },
          "showarrow": false,
          "text": "Yules Characteristic K",
          "x": 0.5,
          "xanchor": "center",
          "xref": "paper",
          "y": 0.33471074380165283,
          "yanchor": "bottom",
          "yref": "paper"
         },
         {
          "font": {
           "size": 16
          },
          "showarrow": false,
          "text": "Herdan's C",
          "x": 0.5,
          "xanchor": "center",
          "xref": "paper",
          "y": 0.23966942148760328,
          "yanchor": "bottom",
          "yref": "paper"
         },
         {
          "font": {
           "size": 16
          },
          "showarrow": false,
          "text": "Maas",
          "x": 0.5,
          "xanchor": "center",
          "xref": "paper",
          "y": 0.1446280991735537,
          "yanchor": "bottom",
          "yref": "paper"
         },
         {
          "font": {
           "size": 16
          },
          "showarrow": false,
          "text": "Simpsons_index",
          "x": 0.5,
          "xanchor": "center",
          "xref": "paper",
          "y": 0.04958677685950413,
          "yanchor": "bottom",
          "yref": "paper"
         }
        ],
        "height": 1500,
        "legend": {
         "title": {
          "text": "Text source"
         }
        },
        "template": {
         "data": {
          "bar": [
           {
            "error_x": {
             "color": "#2a3f5f"
            },
            "error_y": {
             "color": "#2a3f5f"
            },
            "marker": {
             "line": {
              "color": "#E5ECF6",
              "width": 0.5
             },
             "pattern": {
              "fillmode": "overlay",
              "size": 10,
              "solidity": 0.2
             }
            },
            "type": "bar"
           }
          ],
          "barpolar": [
           {
            "marker": {
             "line": {
              "color": "#E5ECF6",
              "width": 0.5
             },
             "pattern": {
              "fillmode": "overlay",
              "size": 10,
              "solidity": 0.2
             }
            },
            "type": "barpolar"
           }
          ],
          "carpet": [
           {
            "aaxis": {
             "endlinecolor": "#2a3f5f",
             "gridcolor": "white",
             "linecolor": "white",
             "minorgridcolor": "white",
             "startlinecolor": "#2a3f5f"
            },
            "baxis": {
             "endlinecolor": "#2a3f5f",
             "gridcolor": "white",
             "linecolor": "white",
             "minorgridcolor": "white",
             "startlinecolor": "#2a3f5f"
            },
            "type": "carpet"
           }
          ],
          "choropleth": [
           {
            "colorbar": {
             "outlinewidth": 0,
             "ticks": ""
            },
            "type": "choropleth"
           }
          ],
          "contour": [
           {
            "colorbar": {
             "outlinewidth": 0,
             "ticks": ""
            },
            "colorscale": [
             [
              0,
              "#0d0887"
             ],
             [
              0.1111111111111111,
              "#46039f"
             ],
             [
              0.2222222222222222,
              "#7201a8"
             ],
             [
              0.3333333333333333,
              "#9c179e"
             ],
             [
              0.4444444444444444,
              "#bd3786"
             ],
             [
              0.5555555555555556,
              "#d8576b"
             ],
             [
              0.6666666666666666,
              "#ed7953"
             ],
             [
              0.7777777777777778,
              "#fb9f3a"
             ],
             [
              0.8888888888888888,
              "#fdca26"
             ],
             [
              1,
              "#f0f921"
             ]
            ],
            "type": "contour"
           }
          ],
          "contourcarpet": [
           {
            "colorbar": {
             "outlinewidth": 0,
             "ticks": ""
            },
            "type": "contourcarpet"
           }
          ],
          "heatmap": [
           {
            "colorbar": {
             "outlinewidth": 0,
             "ticks": ""
            },
            "colorscale": [
             [
              0,
              "#0d0887"
             ],
             [
              0.1111111111111111,
              "#46039f"
             ],
             [
              0.2222222222222222,
              "#7201a8"
             ],
             [
              0.3333333333333333,
              "#9c179e"
             ],
             [
              0.4444444444444444,
              "#bd3786"
             ],
             [
              0.5555555555555556,
              "#d8576b"
             ],
             [
              0.6666666666666666,
              "#ed7953"
             ],
             [
              0.7777777777777778,
              "#fb9f3a"
             ],
             [
              0.8888888888888888,
              "#fdca26"
             ],
             [
              1,
              "#f0f921"
             ]
            ],
            "type": "heatmap"
           }
          ],
          "heatmapgl": [
           {
            "colorbar": {
             "outlinewidth": 0,
             "ticks": ""
            },
            "colorscale": [
             [
              0,
              "#0d0887"
             ],
             [
              0.1111111111111111,
              "#46039f"
             ],
             [
              0.2222222222222222,
              "#7201a8"
             ],
             [
              0.3333333333333333,
              "#9c179e"
             ],
             [
              0.4444444444444444,
              "#bd3786"
             ],
             [
              0.5555555555555556,
              "#d8576b"
             ],
             [
              0.6666666666666666,
              "#ed7953"
             ],
             [
              0.7777777777777778,
              "#fb9f3a"
             ],
             [
              0.8888888888888888,
              "#fdca26"
             ],
             [
              1,
              "#f0f921"
             ]
            ],
            "type": "heatmapgl"
           }
          ],
          "histogram": [
           {
            "marker": {
             "pattern": {
              "fillmode": "overlay",
              "size": 10,
              "solidity": 0.2
             }
            },
            "type": "histogram"
           }
          ],
          "histogram2d": [
           {
            "colorbar": {
             "outlinewidth": 0,
             "ticks": ""
            },
            "colorscale": [
             [
              0,
              "#0d0887"
             ],
             [
              0.1111111111111111,
              "#46039f"
             ],
             [
              0.2222222222222222,
              "#7201a8"
             ],
             [
              0.3333333333333333,
              "#9c179e"
             ],
             [
              0.4444444444444444,
              "#bd3786"
             ],
             [
              0.5555555555555556,
              "#d8576b"
             ],
             [
              0.6666666666666666,
              "#ed7953"
             ],
             [
              0.7777777777777778,
              "#fb9f3a"
             ],
             [
              0.8888888888888888,
              "#fdca26"
             ],
             [
              1,
              "#f0f921"
             ]
            ],
            "type": "histogram2d"
           }
          ],
          "histogram2dcontour": [
           {
            "colorbar": {
             "outlinewidth": 0,
             "ticks": ""
            },
            "colorscale": [
             [
              0,
              "#0d0887"
             ],
             [
              0.1111111111111111,
              "#46039f"
             ],
             [
              0.2222222222222222,
              "#7201a8"
             ],
             [
              0.3333333333333333,
              "#9c179e"
             ],
             [
              0.4444444444444444,
              "#bd3786"
             ],
             [
              0.5555555555555556,
              "#d8576b"
             ],
             [
              0.6666666666666666,
              "#ed7953"
             ],
             [
              0.7777777777777778,
              "#fb9f3a"
             ],
             [
              0.8888888888888888,
              "#fdca26"
             ],
             [
              1,
              "#f0f921"
             ]
            ],
            "type": "histogram2dcontour"
           }
          ],
          "mesh3d": [
           {
            "colorbar": {
             "outlinewidth": 0,
             "ticks": ""
            },
            "type": "mesh3d"
           }
          ],
          "parcoords": [
           {
            "line": {
             "colorbar": {
              "outlinewidth": 0,
              "ticks": ""
             }
            },
            "type": "parcoords"
           }
          ],
          "pie": [
           {
            "automargin": true,
            "type": "pie"
           }
          ],
          "scatter": [
           {
            "fillpattern": {
             "fillmode": "overlay",
             "size": 10,
             "solidity": 0.2
            },
            "type": "scatter"
           }
          ],
          "scatter3d": [
           {
            "line": {
             "colorbar": {
              "outlinewidth": 0,
              "ticks": ""
             }
            },
            "marker": {
             "colorbar": {
              "outlinewidth": 0,
              "ticks": ""
             }
            },
            "type": "scatter3d"
           }
          ],
          "scattercarpet": [
           {
            "marker": {
             "colorbar": {
              "outlinewidth": 0,
              "ticks": ""
             }
            },
            "type": "scattercarpet"
           }
          ],
          "scattergeo": [
           {
            "marker": {
             "colorbar": {
              "outlinewidth": 0,
              "ticks": ""
             }
            },
            "type": "scattergeo"
           }
          ],
          "scattergl": [
           {
            "marker": {
             "colorbar": {
              "outlinewidth": 0,
              "ticks": ""
             }
            },
            "type": "scattergl"
           }
          ],
          "scattermapbox": [
           {
            "marker": {
             "colorbar": {
              "outlinewidth": 0,
              "ticks": ""
             }
            },
            "type": "scattermapbox"
           }
          ],
          "scatterpolar": [
           {
            "marker": {
             "colorbar": {
              "outlinewidth": 0,
              "ticks": ""
             }
            },
            "type": "scatterpolar"
           }
          ],
          "scatterpolargl": [
           {
            "marker": {
             "colorbar": {
              "outlinewidth": 0,
              "ticks": ""
             }
            },
            "type": "scatterpolargl"
           }
          ],
          "scatterternary": [
           {
            "marker": {
             "colorbar": {
              "outlinewidth": 0,
              "ticks": ""
             }
            },
            "type": "scatterternary"
           }
          ],
          "surface": [
           {
            "colorbar": {
             "outlinewidth": 0,
             "ticks": ""
            },
            "colorscale": [
             [
              0,
              "#0d0887"
             ],
             [
              0.1111111111111111,
              "#46039f"
             ],
             [
              0.2222222222222222,
              "#7201a8"
             ],
             [
              0.3333333333333333,
              "#9c179e"
             ],
             [
              0.4444444444444444,
              "#bd3786"
             ],
             [
              0.5555555555555556,
              "#d8576b"
             ],
             [
              0.6666666666666666,
              "#ed7953"
             ],
             [
              0.7777777777777778,
              "#fb9f3a"
             ],
             [
              0.8888888888888888,
              "#fdca26"
             ],
             [
              1,
              "#f0f921"
             ]
            ],
            "type": "surface"
           }
          ],
          "table": [
           {
            "cells": {
             "fill": {
              "color": "#EBF0F8"
             },
             "line": {
              "color": "white"
             }
            },
            "header": {
             "fill": {
              "color": "#C8D4E3"
             },
             "line": {
              "color": "white"
             }
            },
            "type": "table"
           }
          ]
         },
         "layout": {
          "annotationdefaults": {
           "arrowcolor": "#2a3f5f",
           "arrowhead": 0,
           "arrowwidth": 1
          },
          "autotypenumbers": "strict",
          "coloraxis": {
           "colorbar": {
            "outlinewidth": 0,
            "ticks": ""
           }
          },
          "colorscale": {
           "diverging": [
            [
             0,
             "#8e0152"
            ],
            [
             0.1,
             "#c51b7d"
            ],
            [
             0.2,
             "#de77ae"
            ],
            [
             0.3,
             "#f1b6da"
            ],
            [
             0.4,
             "#fde0ef"
            ],
            [
             0.5,
             "#f7f7f7"
            ],
            [
             0.6,
             "#e6f5d0"
            ],
            [
             0.7,
             "#b8e186"
            ],
            [
             0.8,
             "#7fbc41"
            ],
            [
             0.9,
             "#4d9221"
            ],
            [
             1,
             "#276419"
            ]
           ],
           "sequential": [
            [
             0,
             "#0d0887"
            ],
            [
             0.1111111111111111,
             "#46039f"
            ],
            [
             0.2222222222222222,
             "#7201a8"
            ],
            [
             0.3333333333333333,
             "#9c179e"
            ],
            [
             0.4444444444444444,
             "#bd3786"
            ],
            [
             0.5555555555555556,
             "#d8576b"
            ],
            [
             0.6666666666666666,
             "#ed7953"
            ],
            [
             0.7777777777777778,
             "#fb9f3a"
            ],
            [
             0.8888888888888888,
             "#fdca26"
            ],
            [
             1,
             "#f0f921"
            ]
           ],
           "sequentialminus": [
            [
             0,
             "#0d0887"
            ],
            [
             0.1111111111111111,
             "#46039f"
            ],
            [
             0.2222222222222222,
             "#7201a8"
            ],
            [
             0.3333333333333333,
             "#9c179e"
            ],
            [
             0.4444444444444444,
             "#bd3786"
            ],
            [
             0.5555555555555556,
             "#d8576b"
            ],
            [
             0.6666666666666666,
             "#ed7953"
            ],
            [
             0.7777777777777778,
             "#fb9f3a"
            ],
            [
             0.8888888888888888,
             "#fdca26"
            ],
            [
             1,
             "#f0f921"
            ]
           ]
          },
          "colorway": [
           "#636efa",
           "#EF553B",
           "#00cc96",
           "#ab63fa",
           "#FFA15A",
           "#19d3f3",
           "#FF6692",
           "#B6E880",
           "#FF97FF",
           "#FECB52"
          ],
          "font": {
           "color": "#2a3f5f"
          },
          "geo": {
           "bgcolor": "white",
           "lakecolor": "white",
           "landcolor": "#E5ECF6",
           "showlakes": true,
           "showland": true,
           "subunitcolor": "white"
          },
          "hoverlabel": {
           "align": "left"
          },
          "hovermode": "closest",
          "mapbox": {
           "style": "light"
          },
          "paper_bgcolor": "white",
          "plot_bgcolor": "#E5ECF6",
          "polar": {
           "angularaxis": {
            "gridcolor": "white",
            "linecolor": "white",
            "ticks": ""
           },
           "bgcolor": "#E5ECF6",
           "radialaxis": {
            "gridcolor": "white",
            "linecolor": "white",
            "ticks": ""
           }
          },
          "scene": {
           "xaxis": {
            "backgroundcolor": "#E5ECF6",
            "gridcolor": "white",
            "gridwidth": 2,
            "linecolor": "white",
            "showbackground": true,
            "ticks": "",
            "zerolinecolor": "white"
           },
           "yaxis": {
            "backgroundcolor": "#E5ECF6",
            "gridcolor": "white",
            "gridwidth": 2,
            "linecolor": "white",
            "showbackground": true,
            "ticks": "",
            "zerolinecolor": "white"
           },
           "zaxis": {
            "backgroundcolor": "#E5ECF6",
            "gridcolor": "white",
            "gridwidth": 2,
            "linecolor": "white",
            "showbackground": true,
            "ticks": "",
            "zerolinecolor": "white"
           }
          },
          "shapedefaults": {
           "line": {
            "color": "#2a3f5f"
           }
          },
          "ternary": {
           "aaxis": {
            "gridcolor": "white",
            "linecolor": "white",
            "ticks": ""
           },
           "baxis": {
            "gridcolor": "white",
            "linecolor": "white",
            "ticks": ""
           },
           "bgcolor": "#E5ECF6",
           "caxis": {
            "gridcolor": "white",
            "linecolor": "white",
            "ticks": ""
           }
          },
          "title": {
           "x": 0.05
          },
          "xaxis": {
           "automargin": true,
           "gridcolor": "white",
           "linecolor": "white",
           "ticks": "",
           "title": {
            "standoff": 15
           },
           "zerolinecolor": "white",
           "zerolinewidth": 2
          },
          "yaxis": {
           "automargin": true,
           "gridcolor": "white",
           "linecolor": "white",
           "ticks": "",
           "title": {
            "standoff": 15
           },
           "zerolinecolor": "white",
           "zerolinewidth": 2
          }
         }
        },
        "xaxis": {
         "anchor": "y",
         "domain": [
          0,
          1
         ],
         "tickfont": {
          "size": 10
         }
        },
        "xaxis10": {
         "anchor": "y10",
         "domain": [
          0,
          1
         ],
         "tickfont": {
          "size": 10
         }
        },
        "xaxis11": {
         "anchor": "y11",
         "domain": [
          0,
          1
         ],
         "tickfont": {
          "size": 10
         }
        },
        "xaxis2": {
         "anchor": "y2",
         "domain": [
          0,
          1
         ],
         "tickfont": {
          "size": 10
         }
        },
        "xaxis3": {
         "anchor": "y3",
         "domain": [
          0,
          1
         ],
         "tickfont": {
          "size": 10
         }
        },
        "xaxis4": {
         "anchor": "y4",
         "domain": [
          0,
          1
         ],
         "tickfont": {
          "size": 10
         }
        },
        "xaxis5": {
         "anchor": "y5",
         "domain": [
          0,
          1
         ],
         "tickfont": {
          "size": 10
         }
        },
        "xaxis6": {
         "anchor": "y6",
         "domain": [
          0,
          1
         ],
         "tickfont": {
          "size": 10
         }
        },
        "xaxis7": {
         "anchor": "y7",
         "domain": [
          0,
          1
         ],
         "tickfont": {
          "size": 10
         }
        },
        "xaxis8": {
         "anchor": "y8",
         "domain": [
          0,
          1
         ],
         "tickfont": {
          "size": 10
         }
        },
        "xaxis9": {
         "anchor": "y9",
         "domain": [
          0,
          1
         ],
         "tickfont": {
          "size": 10
         }
        },
        "yaxis": {
         "anchor": "x",
         "domain": [
          0.9504132231404958,
          0.9999999999999999
         ]
        },
        "yaxis10": {
         "anchor": "x10",
         "domain": [
          0.09504132231404958,
          0.1446280991735537
         ]
        },
        "yaxis11": {
         "anchor": "x11",
         "domain": [
          0,
          0.04958677685950413
         ]
        },
        "yaxis2": {
         "anchor": "x2",
         "domain": [
          0.8553719008264462,
          0.9049586776859503
         ]
        },
        "yaxis3": {
         "anchor": "x3",
         "domain": [
          0.7603305785123966,
          0.8099173553719007
         ]
        },
        "yaxis4": {
         "anchor": "x4",
         "domain": [
          0.665289256198347,
          0.7148760330578511
         ]
        },
        "yaxis5": {
         "anchor": "x5",
         "domain": [
          0.5702479338842974,
          0.6198347107438015
         ]
        },
        "yaxis6": {
         "anchor": "x6",
         "domain": [
          0.4752066115702479,
          0.524793388429752
         ]
        },
        "yaxis7": {
         "anchor": "x7",
         "domain": [
          0.3801652892561983,
          0.42975206611570244
         ]
        },
        "yaxis8": {
         "anchor": "x8",
         "domain": [
          0.2851239669421487,
          0.33471074380165283
         ]
        },
        "yaxis9": {
         "anchor": "x9",
         "domain": [
          0.19008264462809915,
          0.23966942148760328
         ]
        }
       }
      }
     },
     "metadata": {},
     "output_type": "display_data"
    },
    {
     "data": {
      "application/vnd.plotly.v1+json": {
       "config": {
        "plotlyServerURL": "https://plot.ly"
       },
       "data": [
        {
         "marker": {
          "color": "#3498db"
         },
         "name": "books",
         "showlegend": true,
         "type": "bar",
         "x": [
          "the",
          "and",
          "of",
          "a",
          "to",
          "i",
          "it",
          "in",
          "that",
          "was"
         ],
         "xaxis": "x",
         "y": [
          9264,
          7675,
          4699,
          4510,
          4262,
          3536,
          3076,
          2934,
          2470,
          2233
         ],
         "yaxis": "y"
        },
        {
         "marker": {
          "color": "#3498db"
         },
         "name": "books",
         "showlegend": false,
         "type": "bar",
         "x": [
          "the",
          "and",
          "to",
          "of",
          "a",
          "i",
          "he",
          "was",
          "in",
          "it"
         ],
         "xaxis": "x2",
         "y": [
          8681,
          4956,
          4213,
          4034,
          3899,
          3102,
          3007,
          2350,
          2244,
          1887
         ],
         "yaxis": "y2"
        },
        {
         "marker": {
          "color": "#3498db"
         },
         "name": "books",
         "showlegend": false,
         "type": "bar",
         "x": [
          "the",
          "of",
          "and",
          "a",
          "to",
          "he",
          "in",
          "his",
          "i",
          "was"
         ],
         "xaxis": "x3",
         "y": [
          10759,
          6677,
          4468,
          4381,
          4050,
          3190,
          3031,
          2710,
          2238,
          2183
         ],
         "yaxis": "y3"
        },
        {
         "marker": {
          "color": "#3498db"
         },
         "name": "books",
         "showlegend": false,
         "type": "bar",
         "x": [
          "the",
          "and",
          "of",
          "to",
          "a",
          "in",
          "that",
          "was",
          "i",
          "he"
         ],
         "xaxis": "x4",
         "y": [
          8328,
          5342,
          5163,
          4952,
          3927,
          2944,
          2522,
          2408,
          2265,
          2246
         ],
         "yaxis": "y4"
        },
        {
         "marker": {
          "color": "#3498db"
         },
         "name": "books",
         "showlegend": false,
         "type": "bar",
         "x": [
          "the",
          "of",
          "and",
          "to",
          "a",
          "in",
          "i",
          "was",
          "that",
          "his"
         ],
         "xaxis": "x5",
         "y": [
          9861,
          5994,
          5864,
          4113,
          4088,
          2589,
          2502,
          2243,
          2130,
          1972
         ],
         "yaxis": "y5"
        },
        {
         "marker": {
          "color": "#3498db"
         },
         "name": "books",
         "showlegend": false,
         "type": "bar",
         "x": [
          "the",
          "and",
          "i",
          "to",
          "a",
          "of",
          "it",
          "was",
          "she",
          "in"
         ],
         "xaxis": "x6",
         "y": [
          6781,
          5559,
          4637,
          4491,
          3575,
          3279,
          2644,
          2391,
          2305,
          2280
         ],
         "yaxis": "y6"
        },
        {
         "marker": {
          "color": "#3498db"
         },
         "name": "books",
         "showlegend": false,
         "type": "bar",
         "x": [
          "the",
          "and",
          "to",
          "of",
          "a",
          "in",
          "i",
          "that",
          "it",
          "was"
         ],
         "xaxis": "x7",
         "y": [
          9390,
          6927,
          4983,
          4794,
          4513,
          3605,
          2503,
          2402,
          2338,
          2107
         ],
         "yaxis": "y7"
        },
        {
         "marker": {
          "color": "#3498db"
         },
         "name": "books",
         "showlegend": false,
         "type": "bar",
         "x": [
          "the",
          "and",
          "of",
          "to",
          "a",
          "that",
          "he",
          "in",
          "his",
          "was"
         ],
         "xaxis": "x8",
         "y": [
          9957,
          7391,
          5281,
          3974,
          3639,
          3506,
          3155,
          2467,
          2217,
          2160
         ],
         "yaxis": "y8"
        },
        {
         "marker": {
          "color": "#3498db"
         },
         "name": "books",
         "showlegend": false,
         "type": "bar",
         "x": [
          "the",
          "and",
          "of",
          "to",
          "a",
          "she",
          "in",
          "her",
          "he",
          "was"
         ],
         "xaxis": "x9",
         "y": [
          8774,
          5057,
          4965,
          4665,
          3466,
          3225,
          2910,
          2883,
          2437,
          2405
         ],
         "yaxis": "y9"
        },
        {
         "marker": {
          "color": "#3498db"
         },
         "name": "books",
         "showlegend": false,
         "type": "bar",
         "x": [
          "the",
          "and",
          "to",
          "a",
          "of",
          "i",
          "it",
          "in",
          "that",
          "you"
         ],
         "xaxis": "x10",
         "y": [
          7617,
          4144,
          3439,
          3430,
          3269,
          2585,
          2169,
          2132,
          1727,
          1486
         ],
         "yaxis": "y10"
        },
        {
         "marker": {
          "color": "#e74c3c"
         },
         "name": "gpt-3.5-turbo-0125",
         "showlegend": true,
         "type": "bar",
         "x": [
          "the",
          "a",
          "and",
          "of",
          "to",
          "in",
          "that",
          "you",
          "with",
          "it"
         ],
         "xaxis": "x11",
         "y": [
          11886,
          6989,
          6864,
          6749,
          4781,
          3279,
          2734,
          2176,
          1921,
          1736
         ],
         "yaxis": "y11"
        },
        {
         "marker": {
          "color": "#e74c3c"
         },
         "name": "gpt-3.5-turbo-0125",
         "showlegend": false,
         "type": "bar",
         "x": [
          "the",
          "of",
          "a",
          "and",
          "to",
          "in",
          "that",
          "with",
          "as",
          "their"
         ],
         "xaxis": "x12",
         "y": [
          14181,
          8110,
          7253,
          7102,
          4481,
          3609,
          2682,
          2157,
          1832,
          1449
         ],
         "yaxis": "y12"
        },
        {
         "marker": {
          "color": "#e74c3c"
         },
         "name": "gpt-3.5-turbo-0125",
         "showlegend": false,
         "type": "bar",
         "x": [
          "the",
          "of",
          "and",
          "a",
          "to",
          "in",
          "that",
          "with",
          "as",
          "is"
         ],
         "xaxis": "x13",
         "y": [
          13954,
          9034,
          7559,
          7186,
          4589,
          3644,
          2978,
          2087,
          1630,
          1502
         ],
         "yaxis": "y13"
        },
        {
         "marker": {
          "color": "#e74c3c"
         },
         "name": "gpt-3.5-turbo-0125",
         "showlegend": false,
         "type": "bar",
         "x": [
          "the",
          "of",
          "and",
          "a",
          "to",
          "in",
          "that",
          "with",
          "as",
          "is"
         ],
         "xaxis": "x14",
         "y": [
          13656,
          8688,
          8076,
          6724,
          4817,
          3630,
          2820,
          2063,
          1767,
          1444
         ],
         "yaxis": "y14"
        },
        {
         "marker": {
          "color": "#e74c3c"
         },
         "name": "gpt-3.5-turbo-0125",
         "showlegend": false,
         "type": "bar",
         "x": [
          "the",
          "of",
          "and",
          "a",
          "to",
          "in",
          "that",
          "with",
          "is",
          "as"
         ],
         "xaxis": "x15",
         "y": [
          12748,
          8252,
          8072,
          6835,
          5024,
          3446,
          2807,
          1910,
          1745,
          1633
         ],
         "yaxis": "y15"
        },
        {
         "marker": {
          "color": "#e74c3c"
         },
         "name": "gpt-3.5-turbo-0125",
         "showlegend": false,
         "type": "bar",
         "x": [
          "the",
          "and",
          "of",
          "a",
          "to",
          "in",
          "that",
          "with",
          "as",
          "their"
         ],
         "xaxis": "x16",
         "y": [
          13195,
          7390,
          6956,
          6638,
          4824,
          3462,
          2599,
          2186,
          1843,
          1583
         ],
         "yaxis": "y16"
        },
        {
         "marker": {
          "color": "#e74c3c"
         },
         "name": "gpt-3.5-turbo-0125",
         "showlegend": false,
         "type": "bar",
         "x": [
          "the",
          "of",
          "and",
          "a",
          "to",
          "in",
          "that",
          "with",
          "as",
          "is"
         ],
         "xaxis": "x17",
         "y": [
          13864,
          8637,
          7972,
          6888,
          5018,
          3489,
          2919,
          1959,
          1724,
          1558
         ],
         "yaxis": "y17"
        },
        {
         "marker": {
          "color": "#e74c3c"
         },
         "name": "gpt-3.5-turbo-0125",
         "showlegend": false,
         "type": "bar",
         "x": [
          "the",
          "of",
          "and",
          "a",
          "to",
          "in",
          "that",
          "with",
          "as",
          "their"
         ],
         "xaxis": "x18",
         "y": [
          13984,
          7471,
          7232,
          6568,
          4841,
          3383,
          2583,
          2222,
          1810,
          1443
         ],
         "yaxis": "y18"
        },
        {
         "marker": {
          "color": "#e74c3c"
         },
         "name": "gpt-3.5-turbo-0125",
         "showlegend": false,
         "type": "bar",
         "x": [
          "the",
          "of",
          "a",
          "and",
          "to",
          "in",
          "that",
          "with",
          "as",
          "is"
         ],
         "xaxis": "x19",
         "y": [
          14249,
          9290,
          7585,
          7542,
          4652,
          3633,
          2856,
          2003,
          1699,
          1585
         ],
         "yaxis": "y19"
        },
        {
         "marker": {
          "color": "#e74c3c"
         },
         "name": "gpt-3.5-turbo-0125",
         "showlegend": false,
         "type": "bar",
         "x": [
          "the",
          "of",
          "and",
          "a",
          "to",
          "in",
          "that",
          "with",
          "as",
          "their"
         ],
         "xaxis": "x20",
         "y": [
          13751,
          7455,
          7419,
          7009,
          4827,
          3484,
          2555,
          2236,
          1718,
          1563
         ],
         "yaxis": "y20"
        },
        {
         "marker": {
          "color": "#2ecc71"
         },
         "name": "gpt-4o",
         "showlegend": true,
         "type": "bar",
         "x": [
          "the",
          "a",
          "of",
          "and",
          "to",
          "in",
          "you",
          "that",
          "it",
          "with"
         ],
         "xaxis": "x21",
         "y": [
          11547,
          7899,
          6394,
          5902,
          3983,
          2628,
          2516,
          2221,
          2099,
          2017
         ],
         "yaxis": "y21"
        },
        {
         "marker": {
          "color": "#2ecc71"
         },
         "name": "gpt-4o",
         "showlegend": false,
         "type": "bar",
         "x": [
          "the",
          "of",
          "a",
          "and",
          "to",
          "in",
          "that",
          "with",
          "it",
          "as"
         ],
         "xaxis": "x22",
         "y": [
          15639,
          8060,
          6972,
          5909,
          3800,
          2858,
          2340,
          2304,
          1632,
          1435
         ],
         "yaxis": "y22"
        },
        {
         "marker": {
          "color": "#2ecc71"
         },
         "name": "gpt-4o",
         "showlegend": false,
         "type": "bar",
         "x": [
          "the",
          "of",
          "a",
          "and",
          "to",
          "in",
          "that",
          "is",
          "with",
          "it"
         ],
         "xaxis": "x23",
         "y": [
          16004,
          9724,
          7456,
          5349,
          4018,
          3099,
          2623,
          2157,
          2133,
          1687
         ],
         "yaxis": "y23"
        },
        {
         "marker": {
          "color": "#2ecc71"
         },
         "name": "gpt-4o",
         "showlegend": false,
         "type": "bar",
         "x": [
          "the",
          "of",
          "a",
          "and",
          "to",
          "in",
          "that",
          "with",
          "is",
          "it"
         ],
         "xaxis": "x24",
         "y": [
          14902,
          9070,
          6944,
          5710,
          4018,
          3022,
          2456,
          2321,
          1807,
          1543
         ],
         "yaxis": "y24"
        },
        {
         "marker": {
          "color": "#2ecc71"
         },
         "name": "gpt-4o",
         "showlegend": false,
         "type": "bar",
         "x": [
          "the",
          "of",
          "a",
          "and",
          "to",
          "in",
          "that",
          "with",
          "is",
          "it"
         ],
         "xaxis": "x25",
         "y": [
          15306,
          10008,
          7084,
          5811,
          3876,
          3002,
          2497,
          2347,
          2283,
          1455
         ],
         "yaxis": "y25"
        },
        {
         "marker": {
          "color": "#2ecc71"
         },
         "name": "gpt-4o",
         "showlegend": false,
         "type": "bar",
         "x": [
          "the",
          "of",
          "a",
          "and",
          "to",
          "in",
          "with",
          "that",
          "it",
          "as"
         ],
         "xaxis": "x26",
         "y": [
          14403,
          8125,
          7025,
          5932,
          3869,
          2805,
          2651,
          2287,
          1501,
          1472
         ],
         "yaxis": "y26"
        },
        {
         "marker": {
          "color": "#2ecc71"
         },
         "name": "gpt-4o",
         "showlegend": false,
         "type": "bar",
         "x": [
          "the",
          "of",
          "a",
          "and",
          "to",
          "in",
          "that",
          "with",
          "is",
          "it"
         ],
         "xaxis": "x27",
         "y": [
          15182,
          8765,
          7139,
          6058,
          4043,
          2992,
          2424,
          2259,
          1894,
          1505
         ],
         "yaxis": "y27"
        },
        {
         "marker": {
          "color": "#2ecc71"
         },
         "name": "gpt-4o",
         "showlegend": false,
         "type": "bar",
         "x": [
          "the",
          "of",
          "a",
          "and",
          "to",
          "in",
          "with",
          "that",
          "is",
          "it"
         ],
         "xaxis": "x28",
         "y": [
          15182,
          8449,
          6553,
          6472,
          3841,
          2807,
          2596,
          2177,
          1394,
          1370
         ],
         "yaxis": "y28"
        },
        {
         "marker": {
          "color": "#2ecc71"
         },
         "name": "gpt-4o",
         "showlegend": false,
         "type": "bar",
         "x": [
          "the",
          "of",
          "a",
          "and",
          "to",
          "in",
          "that",
          "with",
          "is",
          "it"
         ],
         "xaxis": "x29",
         "y": [
          15321,
          9366,
          7628,
          5366,
          3810,
          3077,
          2513,
          2276,
          2166,
          1698
         ],
         "yaxis": "y29"
        },
        {
         "marker": {
          "color": "#2ecc71"
         },
         "name": "gpt-4o",
         "showlegend": false,
         "type": "bar",
         "x": [
          "the",
          "a",
          "of",
          "and",
          "to",
          "in",
          "with",
          "that",
          "as",
          "is"
         ],
         "xaxis": "x30",
         "y": [
          13258,
          7367,
          7099,
          5890,
          3749,
          2743,
          2622,
          2013,
          1511,
          1405
         ],
         "yaxis": "y30"
        },
        {
         "marker": {
          "color": "#f1c40f"
         },
         "name": "gemini-1.5-flash",
         "showlegend": true,
         "type": "bar",
         "x": [
          "the",
          "a",
          "of",
          "and",
          "to",
          "you",
          "s",
          "it",
          "that",
          "in"
         ],
         "xaxis": "x31",
         "y": [
          10761,
          10065,
          6090,
          4790,
          3659,
          3609,
          2561,
          2469,
          2249,
          1993
         ],
         "yaxis": "y31"
        },
        {
         "marker": {
          "color": "#f1c40f"
         },
         "name": "gemini-1.5-flash",
         "showlegend": false,
         "type": "bar",
         "x": [
          "the",
          "a",
          "of",
          "and",
          "to",
          "that",
          "in",
          "with",
          "it",
          "was"
         ],
         "xaxis": "x32",
         "y": [
          15097,
          9500,
          8458,
          4101,
          3668,
          2140,
          2101,
          2052,
          1716,
          1658
         ],
         "yaxis": "y32"
        },
        {
         "marker": {
          "color": "#f1c40f"
         },
         "name": "gemini-1.5-flash",
         "showlegend": false,
         "type": "bar",
         "x": [
          "the",
          "of",
          "a",
          "and",
          "to",
          "that",
          "in",
          "with",
          "it",
          "its"
         ],
         "xaxis": "x33",
         "y": [
          15696,
          10413,
          10248,
          3833,
          3390,
          2336,
          2275,
          2112,
          1690,
          1583
         ],
         "yaxis": "y33"
        },
        {
         "marker": {
          "color": "#f1c40f"
         },
         "name": "gemini-1.5-flash",
         "showlegend": false,
         "type": "bar",
         "x": [
          "the",
          "of",
          "a",
          "and",
          "to",
          "in",
          "that",
          "with",
          "is",
          "it"
         ],
         "xaxis": "x34",
         "y": [
          15161,
          10492,
          9652,
          4512,
          4109,
          2328,
          2319,
          1865,
          1748,
          1579
         ],
         "yaxis": "y34"
        },
        {
         "marker": {
          "color": "#f1c40f"
         },
         "name": "gemini-1.5-flash",
         "showlegend": false,
         "type": "bar",
         "x": [
          "the",
          "of",
          "a",
          "and",
          "to",
          "that",
          "in",
          "is",
          "with",
          "for"
         ],
         "xaxis": "x35",
         "y": [
          14786,
          10744,
          9903,
          4427,
          3763,
          2230,
          2109,
          2048,
          1835,
          1386
         ],
         "yaxis": "y35"
        },
        {
         "marker": {
          "color": "#f1c40f"
         },
         "name": "gemini-1.5-flash",
         "showlegend": false,
         "type": "bar",
         "x": [
          "the",
          "a",
          "of",
          "and",
          "to",
          "with",
          "in",
          "that",
          "it",
          "is"
         ],
         "xaxis": "x36",
         "y": [
          13664,
          9482,
          8528,
          4855,
          3388,
          2277,
          2248,
          2087,
          1865,
          1447
         ],
         "yaxis": "y36"
        },
        {
         "marker": {
          "color": "#f1c40f"
         },
         "name": "gemini-1.5-flash",
         "showlegend": false,
         "type": "bar",
         "x": [
          "the",
          "of",
          "a",
          "and",
          "to",
          "that",
          "in",
          "is",
          "with",
          "it"
         ],
         "xaxis": "x37",
         "y": [
          16346,
          10418,
          9649,
          4389,
          3868,
          2387,
          2111,
          1918,
          1860,
          1743
         ],
         "yaxis": "y37"
        },
        {
         "marker": {
          "color": "#f1c40f"
         },
         "name": "gemini-1.5-flash",
         "showlegend": false,
         "type": "bar",
         "x": [
          "the",
          "a",
          "of",
          "and",
          "to",
          "in",
          "that",
          "with",
          "is",
          "it"
         ],
         "xaxis": "x38",
         "y": [
          14297,
          9225,
          8797,
          5255,
          3905,
          2176,
          2146,
          2043,
          1835,
          1698
         ],
         "yaxis": "y38"
        },
        {
         "marker": {
          "color": "#f1c40f"
         },
         "name": "gemini-1.5-flash",
         "showlegend": false,
         "type": "bar",
         "x": [
          "the",
          "of",
          "a",
          "and",
          "to",
          "in",
          "that",
          "with",
          "it",
          "its"
         ],
         "xaxis": "x39",
         "y": [
          16026,
          10655,
          10632,
          3776,
          3762,
          2157,
          2087,
          1955,
          1935,
          1715
         ],
         "yaxis": "y39"
        },
        {
         "marker": {
          "color": "#f1c40f"
         },
         "name": "gemini-1.5-flash",
         "showlegend": false,
         "type": "bar",
         "x": [
          "the",
          "a",
          "of",
          "and",
          "to",
          "with",
          "in",
          "that",
          "is",
          "it"
         ],
         "xaxis": "x40",
         "y": [
          12804,
          10229,
          8335,
          4182,
          3357,
          2315,
          1934,
          1904,
          1589,
          1444
         ],
         "yaxis": "y40"
        },
        {
         "marker": {
          "color": "#9b59b6"
         },
         "name": "open-mixtral-8x7b",
         "showlegend": true,
         "type": "bar",
         "x": [
          "the",
          "and",
          "of",
          "a",
          "to",
          "that",
          "i",
          "in",
          "you",
          "it"
         ],
         "xaxis": "x41",
         "y": [
          12186,
          7455,
          7331,
          6687,
          4540,
          3125,
          2939,
          2623,
          2102,
          1922
         ],
         "yaxis": "y41"
        },
        {
         "marker": {
          "color": "#9b59b6"
         },
         "name": "open-mixtral-8x7b",
         "showlegend": false,
         "type": "bar",
         "x": [
          "the",
          "and",
          "of",
          "a",
          "to",
          "that",
          "in",
          "i",
          "as",
          "it"
         ],
         "xaxis": "x42",
         "y": [
          14480,
          8392,
          7722,
          6132,
          4969,
          3559,
          2723,
          1966,
          1801,
          1775
         ],
         "yaxis": "y42"
        },
        {
         "marker": {
          "color": "#9b59b6"
         },
         "name": "open-mixtral-8x7b",
         "showlegend": false,
         "type": "bar",
         "x": [
          "the",
          "of",
          "and",
          "a",
          "to",
          "that",
          "in",
          "is",
          "it",
          "i"
         ],
         "xaxis": "x43",
         "y": [
          15529,
          9773,
          8958,
          6692,
          4820,
          4123,
          3005,
          2525,
          2018,
          1772
         ],
         "yaxis": "y43"
        },
        {
         "marker": {
          "color": "#9b59b6"
         },
         "name": "open-mixtral-8x7b",
         "showlegend": false,
         "type": "bar",
         "x": [
          "the",
          "of",
          "and",
          "a",
          "to",
          "that",
          "in",
          "is",
          "it",
          "as"
         ],
         "xaxis": "x44",
         "y": [
          15174,
          9969,
          9090,
          6074,
          4864,
          3709,
          3305,
          2246,
          1752,
          1674
         ],
         "yaxis": "y44"
        },
        {
         "marker": {
          "color": "#9b59b6"
         },
         "name": "open-mixtral-8x7b",
         "showlegend": false,
         "type": "bar",
         "x": [
          "the",
          "of",
          "and",
          "a",
          "to",
          "that",
          "in",
          "is",
          "i",
          "it"
         ],
         "xaxis": "x45",
         "y": [
          14349,
          9175,
          8349,
          6047,
          5011,
          3511,
          3012,
          2385,
          1660,
          1627
         ],
         "yaxis": "y45"
        },
        {
         "marker": {
          "color": "#9b59b6"
         },
         "name": "open-mixtral-8x7b",
         "showlegend": false,
         "type": "bar",
         "x": [
          "the",
          "and",
          "of",
          "a",
          "to",
          "that",
          "in",
          "with",
          "as",
          "it"
         ],
         "xaxis": "x46",
         "y": [
          13804,
          8249,
          7637,
          6060,
          4634,
          3065,
          2803,
          2045,
          1816,
          1672
         ],
         "yaxis": "y46"
        },
        {
         "marker": {
          "color": "#9b59b6"
         },
         "name": "open-mixtral-8x7b",
         "showlegend": false,
         "type": "bar",
         "x": [
          "the",
          "of",
          "and",
          "a",
          "to",
          "that",
          "in",
          "is",
          "as",
          "i"
         ],
         "xaxis": "x47",
         "y": [
          14576,
          8888,
          8663,
          6141,
          5021,
          3332,
          2998,
          2038,
          1761,
          1755
         ],
         "yaxis": "y47"
        },
        {
         "marker": {
          "color": "#9b59b6"
         },
         "name": "open-mixtral-8x7b",
         "showlegend": false,
         "type": "bar",
         "x": [
          "the",
          "and",
          "of",
          "a",
          "to",
          "that",
          "in",
          "with",
          "as",
          "for"
         ],
         "xaxis": "x48",
         "y": [
          14372,
          9155,
          7876,
          6211,
          4758,
          3234,
          2729,
          1839,
          1716,
          1650
         ],
         "yaxis": "y48"
        },
        {
         "marker": {
          "color": "#9b59b6"
         },
         "name": "open-mixtral-8x7b",
         "showlegend": false,
         "type": "bar",
         "x": [
          "the",
          "of",
          "and",
          "a",
          "to",
          "that",
          "in",
          "is",
          "it",
          "as"
         ],
         "xaxis": "x49",
         "y": [
          15909,
          9725,
          8638,
          6678,
          4991,
          4033,
          3286,
          2507,
          1914,
          1641
         ],
         "yaxis": "y49"
        },
        {
         "marker": {
          "color": "#9b59b6"
         },
         "name": "open-mixtral-8x7b",
         "showlegend": false,
         "type": "bar",
         "x": [
          "the",
          "and",
          "of",
          "a",
          "to",
          "in",
          "that",
          "with",
          "as",
          "it"
         ],
         "xaxis": "x50",
         "y": [
          13006,
          7296,
          7184,
          6194,
          4444,
          2855,
          2470,
          1914,
          1810,
          1490
         ],
         "yaxis": "y50"
        },
        {
         "marker": {
          "color": "#e67e22"
         },
         "name": "claude-3-haiku-20240307",
         "showlegend": true,
         "type": "bar",
         "x": [
          "the",
          "of",
          "a",
          "and",
          "to",
          "you",
          "that",
          "i",
          "in",
          "it"
         ],
         "xaxis": "x51",
         "y": [
          11264,
          6139,
          5935,
          5382,
          4610,
          2952,
          2738,
          2560,
          2177,
          2036
         ],
         "yaxis": "y51"
        },
        {
         "marker": {
          "color": "#e67e22"
         },
         "name": "claude-3-haiku-20240307",
         "showlegend": false,
         "type": "bar",
         "x": [
          "the",
          "of",
          "and",
          "a",
          "to",
          "that",
          "in",
          "with",
          "his",
          "it"
         ],
         "xaxis": "x52",
         "y": [
          15174,
          7485,
          5806,
          5676,
          4456,
          2707,
          2482,
          1906,
          1557,
          1458
         ],
         "yaxis": "y52"
        },
        {
         "marker": {
          "color": "#e67e22"
         },
         "name": "claude-3-haiku-20240307",
         "showlegend": false,
         "type": "bar",
         "x": [
          "the",
          "of",
          "a",
          "and",
          "to",
          "that",
          "in",
          "with",
          "it",
          "for"
         ],
         "xaxis": "x53",
         "y": [
          17189,
          9919,
          6224,
          5939,
          4947,
          3577,
          2678,
          1635,
          1629,
          1524
         ],
         "yaxis": "y53"
        },
        {
         "marker": {
          "color": "#e67e22"
         },
         "name": "claude-3-haiku-20240307",
         "showlegend": false,
         "type": "bar",
         "x": [
          "the",
          "of",
          "and",
          "a",
          "to",
          "that",
          "in",
          "with",
          "for",
          "their"
         ],
         "xaxis": "x54",
         "y": [
          17032,
          9874,
          6017,
          5930,
          4677,
          3330,
          2845,
          1775,
          1526,
          1445
         ],
         "yaxis": "y54"
        },
        {
         "marker": {
          "color": "#e67e22"
         },
         "name": "claude-3-haiku-20240307",
         "showlegend": false,
         "type": "bar",
         "x": [
          "the",
          "of",
          "and",
          "a",
          "to",
          "that",
          "in",
          "for",
          "with",
          "is"
         ],
         "xaxis": "x55",
         "y": [
          16572,
          10312,
          6145,
          5952,
          4671,
          3196,
          2522,
          1691,
          1663,
          1577
         ],
         "yaxis": "y55"
        },
        {
         "marker": {
          "color": "#e67e22"
         },
         "name": "claude-3-haiku-20240307",
         "showlegend": false,
         "type": "bar",
         "x": [
          "the",
          "of",
          "and",
          "a",
          "to",
          "that",
          "in",
          "with",
          "i",
          "you"
         ],
         "xaxis": "x56",
         "y": [
          13802,
          7559,
          5963,
          5654,
          4687,
          2660,
          2570,
          1925,
          1912,
          1659
         ],
         "yaxis": "y56"
        },
        {
         "marker": {
          "color": "#e67e22"
         },
         "name": "claude-3-haiku-20240307",
         "showlegend": false,
         "type": "bar",
         "x": [
          "the",
          "of",
          "and",
          "a",
          "to",
          "that",
          "in",
          "with",
          "is",
          "for"
         ],
         "xaxis": "x57",
         "y": [
          16156,
          9630,
          6279,
          5883,
          4905,
          3326,
          2719,
          1789,
          1538,
          1469
         ],
         "yaxis": "y57"
        },
        {
         "marker": {
          "color": "#e67e22"
         },
         "name": "claude-3-haiku-20240307",
         "showlegend": false,
         "type": "bar",
         "x": [
          "the",
          "of",
          "and",
          "a",
          "to",
          "that",
          "in",
          "with",
          "for",
          "you"
         ],
         "xaxis": "x58",
         "y": [
          15368,
          8682,
          6404,
          6025,
          4660,
          3005,
          2643,
          1767,
          1561,
          1331
         ],
         "yaxis": "y58"
        },
        {
         "marker": {
          "color": "#e67e22"
         },
         "name": "claude-3-haiku-20240307",
         "showlegend": false,
         "type": "bar",
         "x": [
          "the",
          "of",
          "a",
          "and",
          "to",
          "that",
          "in",
          "with",
          "for",
          "is"
         ],
         "xaxis": "x59",
         "y": [
          17203,
          9518,
          6223,
          5496,
          4786,
          3187,
          2923,
          1694,
          1605,
          1546
         ],
         "yaxis": "y59"
        },
        {
         "marker": {
          "color": "#e67e22"
         },
         "name": "claude-3-haiku-20240307",
         "showlegend": false,
         "type": "bar",
         "x": [
          "the",
          "of",
          "a",
          "and",
          "to",
          "that",
          "in",
          "with",
          "you",
          "for"
         ],
         "xaxis": "x60",
         "y": [
          15352,
          8869,
          6261,
          6018,
          4379,
          2651,
          2440,
          1980,
          1607,
          1569
         ],
         "yaxis": "y60"
        }
       ],
       "layout": {
        "annotations": [
         {
          "font": {
           "size": 10
          },
          "showarrow": false,
          "text": "Mark Twain",
          "x": 0.041,
          "xanchor": "center",
          "xref": "paper",
          "y": 0.9999999999999999,
          "yanchor": "bottom",
          "yref": "paper"
         },
         {
          "font": {
           "size": 10
          },
          "showarrow": false,
          "text": "Zane Grey",
          "x": 0.14300000000000002,
          "xanchor": "center",
          "xref": "paper",
          "y": 0.9999999999999999,
          "yanchor": "bottom",
          "yref": "paper"
         },
         {
          "font": {
           "size": 10
          },
          "showarrow": false,
          "text": "Joseph Conrad",
          "x": 0.24500000000000002,
          "xanchor": "center",
          "xref": "paper",
          "y": 0.9999999999999999,
          "yanchor": "bottom",
          "yref": "paper"
         },
         {
          "font": {
           "size": 10
          },
          "showarrow": false,
          "text": "George Eliot",
          "x": 0.347,
          "xanchor": "center",
          "xref": "paper",
          "y": 0.9999999999999999,
          "yanchor": "bottom",
          "yref": "paper"
         },
         {
          "font": {
           "size": 10
          },
          "showarrow": false,
          "text": "Benjamin Disraeli",
          "x": 0.44900000000000007,
          "xanchor": "center",
          "xref": "paper",
          "y": 0.9999999999999999,
          "yanchor": "bottom",
          "yref": "paper"
         },
         {
          "font": {
           "size": 10
          },
          "showarrow": false,
          "text": "Lucy Maud Montgomery",
          "x": 0.5509999999999999,
          "xanchor": "center",
          "xref": "paper",
          "y": 0.9999999999999999,
          "yanchor": "bottom",
          "yref": "paper"
         },
         {
          "font": {
           "size": 10
          },
          "showarrow": false,
          "text": "William Henry Hudson",
          "x": 0.653,
          "xanchor": "center",
          "xref": "paper",
          "y": 0.9999999999999999,
          "yanchor": "bottom",
          "yref": "paper"
         },
         {
          "font": {
           "size": 10
          },
          "showarrow": false,
          "text": "Howard Pyle",
          "x": 0.7550000000000001,
          "xanchor": "center",
          "xref": "paper",
          "y": 0.9999999999999999,
          "yanchor": "bottom",
          "yref": "paper"
         },
         {
          "font": {
           "size": 10
          },
          "showarrow": false,
          "text": "Virginia Woolf",
          "x": 0.857,
          "xanchor": "center",
          "xref": "paper",
          "y": 0.9999999999999999,
          "yanchor": "bottom",
          "yref": "paper"
         },
         {
          "font": {
           "size": 10
          },
          "showarrow": false,
          "text": "Lewis Carroll",
          "x": 0.9589999999999999,
          "xanchor": "center",
          "xref": "paper",
          "y": 0.9999999999999999,
          "yanchor": "bottom",
          "yref": "paper"
         }
        ],
        "height": 800,
        "template": {
         "data": {
          "bar": [
           {
            "error_x": {
             "color": "#2a3f5f"
            },
            "error_y": {
             "color": "#2a3f5f"
            },
            "marker": {
             "line": {
              "color": "#E5ECF6",
              "width": 0.5
             },
             "pattern": {
              "fillmode": "overlay",
              "size": 10,
              "solidity": 0.2
             }
            },
            "type": "bar"
           }
          ],
          "barpolar": [
           {
            "marker": {
             "line": {
              "color": "#E5ECF6",
              "width": 0.5
             },
             "pattern": {
              "fillmode": "overlay",
              "size": 10,
              "solidity": 0.2
             }
            },
            "type": "barpolar"
           }
          ],
          "carpet": [
           {
            "aaxis": {
             "endlinecolor": "#2a3f5f",
             "gridcolor": "white",
             "linecolor": "white",
             "minorgridcolor": "white",
             "startlinecolor": "#2a3f5f"
            },
            "baxis": {
             "endlinecolor": "#2a3f5f",
             "gridcolor": "white",
             "linecolor": "white",
             "minorgridcolor": "white",
             "startlinecolor": "#2a3f5f"
            },
            "type": "carpet"
           }
          ],
          "choropleth": [
           {
            "colorbar": {
             "outlinewidth": 0,
             "ticks": ""
            },
            "type": "choropleth"
           }
          ],
          "contour": [
           {
            "colorbar": {
             "outlinewidth": 0,
             "ticks": ""
            },
            "colorscale": [
             [
              0,
              "#0d0887"
             ],
             [
              0.1111111111111111,
              "#46039f"
             ],
             [
              0.2222222222222222,
              "#7201a8"
             ],
             [
              0.3333333333333333,
              "#9c179e"
             ],
             [
              0.4444444444444444,
              "#bd3786"
             ],
             [
              0.5555555555555556,
              "#d8576b"
             ],
             [
              0.6666666666666666,
              "#ed7953"
             ],
             [
              0.7777777777777778,
              "#fb9f3a"
             ],
             [
              0.8888888888888888,
              "#fdca26"
             ],
             [
              1,
              "#f0f921"
             ]
            ],
            "type": "contour"
           }
          ],
          "contourcarpet": [
           {
            "colorbar": {
             "outlinewidth": 0,
             "ticks": ""
            },
            "type": "contourcarpet"
           }
          ],
          "heatmap": [
           {
            "colorbar": {
             "outlinewidth": 0,
             "ticks": ""
            },
            "colorscale": [
             [
              0,
              "#0d0887"
             ],
             [
              0.1111111111111111,
              "#46039f"
             ],
             [
              0.2222222222222222,
              "#7201a8"
             ],
             [
              0.3333333333333333,
              "#9c179e"
             ],
             [
              0.4444444444444444,
              "#bd3786"
             ],
             [
              0.5555555555555556,
              "#d8576b"
             ],
             [
              0.6666666666666666,
              "#ed7953"
             ],
             [
              0.7777777777777778,
              "#fb9f3a"
             ],
             [
              0.8888888888888888,
              "#fdca26"
             ],
             [
              1,
              "#f0f921"
             ]
            ],
            "type": "heatmap"
           }
          ],
          "heatmapgl": [
           {
            "colorbar": {
             "outlinewidth": 0,
             "ticks": ""
            },
            "colorscale": [
             [
              0,
              "#0d0887"
             ],
             [
              0.1111111111111111,
              "#46039f"
             ],
             [
              0.2222222222222222,
              "#7201a8"
             ],
             [
              0.3333333333333333,
              "#9c179e"
             ],
             [
              0.4444444444444444,
              "#bd3786"
             ],
             [
              0.5555555555555556,
              "#d8576b"
             ],
             [
              0.6666666666666666,
              "#ed7953"
             ],
             [
              0.7777777777777778,
              "#fb9f3a"
             ],
             [
              0.8888888888888888,
              "#fdca26"
             ],
             [
              1,
              "#f0f921"
             ]
            ],
            "type": "heatmapgl"
           }
          ],
          "histogram": [
           {
            "marker": {
             "pattern": {
              "fillmode": "overlay",
              "size": 10,
              "solidity": 0.2
             }
            },
            "type": "histogram"
           }
          ],
          "histogram2d": [
           {
            "colorbar": {
             "outlinewidth": 0,
             "ticks": ""
            },
            "colorscale": [
             [
              0,
              "#0d0887"
             ],
             [
              0.1111111111111111,
              "#46039f"
             ],
             [
              0.2222222222222222,
              "#7201a8"
             ],
             [
              0.3333333333333333,
              "#9c179e"
             ],
             [
              0.4444444444444444,
              "#bd3786"
             ],
             [
              0.5555555555555556,
              "#d8576b"
             ],
             [
              0.6666666666666666,
              "#ed7953"
             ],
             [
              0.7777777777777778,
              "#fb9f3a"
             ],
             [
              0.8888888888888888,
              "#fdca26"
             ],
             [
              1,
              "#f0f921"
             ]
            ],
            "type": "histogram2d"
           }
          ],
          "histogram2dcontour": [
           {
            "colorbar": {
             "outlinewidth": 0,
             "ticks": ""
            },
            "colorscale": [
             [
              0,
              "#0d0887"
             ],
             [
              0.1111111111111111,
              "#46039f"
             ],
             [
              0.2222222222222222,
              "#7201a8"
             ],
             [
              0.3333333333333333,
              "#9c179e"
             ],
             [
              0.4444444444444444,
              "#bd3786"
             ],
             [
              0.5555555555555556,
              "#d8576b"
             ],
             [
              0.6666666666666666,
              "#ed7953"
             ],
             [
              0.7777777777777778,
              "#fb9f3a"
             ],
             [
              0.8888888888888888,
              "#fdca26"
             ],
             [
              1,
              "#f0f921"
             ]
            ],
            "type": "histogram2dcontour"
           }
          ],
          "mesh3d": [
           {
            "colorbar": {
             "outlinewidth": 0,
             "ticks": ""
            },
            "type": "mesh3d"
           }
          ],
          "parcoords": [
           {
            "line": {
             "colorbar": {
              "outlinewidth": 0,
              "ticks": ""
             }
            },
            "type": "parcoords"
           }
          ],
          "pie": [
           {
            "automargin": true,
            "type": "pie"
           }
          ],
          "scatter": [
           {
            "fillpattern": {
             "fillmode": "overlay",
             "size": 10,
             "solidity": 0.2
            },
            "type": "scatter"
           }
          ],
          "scatter3d": [
           {
            "line": {
             "colorbar": {
              "outlinewidth": 0,
              "ticks": ""
             }
            },
            "marker": {
             "colorbar": {
              "outlinewidth": 0,
              "ticks": ""
             }
            },
            "type": "scatter3d"
           }
          ],
          "scattercarpet": [
           {
            "marker": {
             "colorbar": {
              "outlinewidth": 0,
              "ticks": ""
             }
            },
            "type": "scattercarpet"
           }
          ],
          "scattergeo": [
           {
            "marker": {
             "colorbar": {
              "outlinewidth": 0,
              "ticks": ""
             }
            },
            "type": "scattergeo"
           }
          ],
          "scattergl": [
           {
            "marker": {
             "colorbar": {
              "outlinewidth": 0,
              "ticks": ""
             }
            },
            "type": "scattergl"
           }
          ],
          "scattermapbox": [
           {
            "marker": {
             "colorbar": {
              "outlinewidth": 0,
              "ticks": ""
             }
            },
            "type": "scattermapbox"
           }
          ],
          "scatterpolar": [
           {
            "marker": {
             "colorbar": {
              "outlinewidth": 0,
              "ticks": ""
             }
            },
            "type": "scatterpolar"
           }
          ],
          "scatterpolargl": [
           {
            "marker": {
             "colorbar": {
              "outlinewidth": 0,
              "ticks": ""
             }
            },
            "type": "scatterpolargl"
           }
          ],
          "scatterternary": [
           {
            "marker": {
             "colorbar": {
              "outlinewidth": 0,
              "ticks": ""
             }
            },
            "type": "scatterternary"
           }
          ],
          "surface": [
           {
            "colorbar": {
             "outlinewidth": 0,
             "ticks": ""
            },
            "colorscale": [
             [
              0,
              "#0d0887"
             ],
             [
              0.1111111111111111,
              "#46039f"
             ],
             [
              0.2222222222222222,
              "#7201a8"
             ],
             [
              0.3333333333333333,
              "#9c179e"
             ],
             [
              0.4444444444444444,
              "#bd3786"
             ],
             [
              0.5555555555555556,
              "#d8576b"
             ],
             [
              0.6666666666666666,
              "#ed7953"
             ],
             [
              0.7777777777777778,
              "#fb9f3a"
             ],
             [
              0.8888888888888888,
              "#fdca26"
             ],
             [
              1,
              "#f0f921"
             ]
            ],
            "type": "surface"
           }
          ],
          "table": [
           {
            "cells": {
             "fill": {
              "color": "#EBF0F8"
             },
             "line": {
              "color": "white"
             }
            },
            "header": {
             "fill": {
              "color": "#C8D4E3"
             },
             "line": {
              "color": "white"
             }
            },
            "type": "table"
           }
          ]
         },
         "layout": {
          "annotationdefaults": {
           "arrowcolor": "#2a3f5f",
           "arrowhead": 0,
           "arrowwidth": 1
          },
          "autotypenumbers": "strict",
          "coloraxis": {
           "colorbar": {
            "outlinewidth": 0,
            "ticks": ""
           }
          },
          "colorscale": {
           "diverging": [
            [
             0,
             "#8e0152"
            ],
            [
             0.1,
             "#c51b7d"
            ],
            [
             0.2,
             "#de77ae"
            ],
            [
             0.3,
             "#f1b6da"
            ],
            [
             0.4,
             "#fde0ef"
            ],
            [
             0.5,
             "#f7f7f7"
            ],
            [
             0.6,
             "#e6f5d0"
            ],
            [
             0.7,
             "#b8e186"
            ],
            [
             0.8,
             "#7fbc41"
            ],
            [
             0.9,
             "#4d9221"
            ],
            [
             1,
             "#276419"
            ]
           ],
           "sequential": [
            [
             0,
             "#0d0887"
            ],
            [
             0.1111111111111111,
             "#46039f"
            ],
            [
             0.2222222222222222,
             "#7201a8"
            ],
            [
             0.3333333333333333,
             "#9c179e"
            ],
            [
             0.4444444444444444,
             "#bd3786"
            ],
            [
             0.5555555555555556,
             "#d8576b"
            ],
            [
             0.6666666666666666,
             "#ed7953"
            ],
            [
             0.7777777777777778,
             "#fb9f3a"
            ],
            [
             0.8888888888888888,
             "#fdca26"
            ],
            [
             1,
             "#f0f921"
            ]
           ],
           "sequentialminus": [
            [
             0,
             "#0d0887"
            ],
            [
             0.1111111111111111,
             "#46039f"
            ],
            [
             0.2222222222222222,
             "#7201a8"
            ],
            [
             0.3333333333333333,
             "#9c179e"
            ],
            [
             0.4444444444444444,
             "#bd3786"
            ],
            [
             0.5555555555555556,
             "#d8576b"
            ],
            [
             0.6666666666666666,
             "#ed7953"
            ],
            [
             0.7777777777777778,
             "#fb9f3a"
            ],
            [
             0.8888888888888888,
             "#fdca26"
            ],
            [
             1,
             "#f0f921"
            ]
           ]
          },
          "colorway": [
           "#636efa",
           "#EF553B",
           "#00cc96",
           "#ab63fa",
           "#FFA15A",
           "#19d3f3",
           "#FF6692",
           "#B6E880",
           "#FF97FF",
           "#FECB52"
          ],
          "font": {
           "color": "#2a3f5f"
          },
          "geo": {
           "bgcolor": "white",
           "lakecolor": "white",
           "landcolor": "#E5ECF6",
           "showlakes": true,
           "showland": true,
           "subunitcolor": "white"
          },
          "hoverlabel": {
           "align": "left"
          },
          "hovermode": "closest",
          "mapbox": {
           "style": "light"
          },
          "paper_bgcolor": "white",
          "plot_bgcolor": "#E5ECF6",
          "polar": {
           "angularaxis": {
            "gridcolor": "white",
            "linecolor": "white",
            "ticks": ""
           },
           "bgcolor": "#E5ECF6",
           "radialaxis": {
            "gridcolor": "white",
            "linecolor": "white",
            "ticks": ""
           }
          },
          "scene": {
           "xaxis": {
            "backgroundcolor": "#E5ECF6",
            "gridcolor": "white",
            "gridwidth": 2,
            "linecolor": "white",
            "showbackground": true,
            "ticks": "",
            "zerolinecolor": "white"
           },
           "yaxis": {
            "backgroundcolor": "#E5ECF6",
            "gridcolor": "white",
            "gridwidth": 2,
            "linecolor": "white",
            "showbackground": true,
            "ticks": "",
            "zerolinecolor": "white"
           },
           "zaxis": {
            "backgroundcolor": "#E5ECF6",
            "gridcolor": "white",
            "gridwidth": 2,
            "linecolor": "white",
            "showbackground": true,
            "ticks": "",
            "zerolinecolor": "white"
           }
          },
          "shapedefaults": {
           "line": {
            "color": "#2a3f5f"
           }
          },
          "ternary": {
           "aaxis": {
            "gridcolor": "white",
            "linecolor": "white",
            "ticks": ""
           },
           "baxis": {
            "gridcolor": "white",
            "linecolor": "white",
            "ticks": ""
           },
           "bgcolor": "#E5ECF6",
           "caxis": {
            "gridcolor": "white",
            "linecolor": "white",
            "ticks": ""
           }
          },
          "title": {
           "x": 0.05
          },
          "xaxis": {
           "automargin": true,
           "gridcolor": "white",
           "linecolor": "white",
           "ticks": "",
           "title": {
            "standoff": 15
           },
           "zerolinecolor": "white",
           "zerolinewidth": 2
          },
          "yaxis": {
           "automargin": true,
           "gridcolor": "white",
           "linecolor": "white",
           "ticks": "",
           "title": {
            "standoff": 15
           },
           "zerolinecolor": "white",
           "zerolinewidth": 2
          }
         }
        },
        "title": {
         "text": "Top 10 function words",
         "x": 0.5
        },
        "xaxis": {
         "anchor": "y",
         "domain": [
          0,
          0.082
         ],
         "tickfont": {
          "size": 10
         }
        },
        "xaxis10": {
         "anchor": "y10",
         "domain": [
          0.9179999999999999,
          0.9999999999999999
         ],
         "tickfont": {
          "size": 10
         }
        },
        "xaxis11": {
         "anchor": "y11",
         "domain": [
          0,
          0.082
         ],
         "tickfont": {
          "size": 10
         }
        },
        "xaxis12": {
         "anchor": "y12",
         "domain": [
          0.10200000000000001,
          0.184
         ],
         "tickfont": {
          "size": 10
         }
        },
        "xaxis13": {
         "anchor": "y13",
         "domain": [
          0.20400000000000001,
          0.28600000000000003
         ],
         "tickfont": {
          "size": 10
         }
        },
        "xaxis14": {
         "anchor": "y14",
         "domain": [
          0.306,
          0.388
         ],
         "tickfont": {
          "size": 10
         }
        },
        "xaxis15": {
         "anchor": "y15",
         "domain": [
          0.40800000000000003,
          0.49000000000000005
         ],
         "tickfont": {
          "size": 10
         }
        },
        "xaxis16": {
         "anchor": "y16",
         "domain": [
          0.51,
          0.592
         ],
         "tickfont": {
          "size": 10
         }
        },
        "xaxis17": {
         "anchor": "y17",
         "domain": [
          0.612,
          0.694
         ],
         "tickfont": {
          "size": 10
         }
        },
        "xaxis18": {
         "anchor": "y18",
         "domain": [
          0.7140000000000001,
          0.796
         ],
         "tickfont": {
          "size": 10
         }
        },
        "xaxis19": {
         "anchor": "y19",
         "domain": [
          0.8160000000000001,
          0.898
         ],
         "tickfont": {
          "size": 10
         }
        },
        "xaxis2": {
         "anchor": "y2",
         "domain": [
          0.10200000000000001,
          0.184
         ],
         "tickfont": {
          "size": 10
         }
        },
        "xaxis20": {
         "anchor": "y20",
         "domain": [
          0.9179999999999999,
          0.9999999999999999
         ],
         "tickfont": {
          "size": 10
         }
        },
        "xaxis21": {
         "anchor": "y21",
         "domain": [
          0,
          0.082
         ],
         "tickfont": {
          "size": 10
         }
        },
        "xaxis22": {
         "anchor": "y22",
         "domain": [
          0.10200000000000001,
          0.184
         ],
         "tickfont": {
          "size": 10
         }
        },
        "xaxis23": {
         "anchor": "y23",
         "domain": [
          0.20400000000000001,
          0.28600000000000003
         ],
         "tickfont": {
          "size": 10
         }
        },
        "xaxis24": {
         "anchor": "y24",
         "domain": [
          0.306,
          0.388
         ],
         "tickfont": {
          "size": 10
         }
        },
        "xaxis25": {
         "anchor": "y25",
         "domain": [
          0.40800000000000003,
          0.49000000000000005
         ],
         "tickfont": {
          "size": 10
         }
        },
        "xaxis26": {
         "anchor": "y26",
         "domain": [
          0.51,
          0.592
         ],
         "tickfont": {
          "size": 10
         }
        },
        "xaxis27": {
         "anchor": "y27",
         "domain": [
          0.612,
          0.694
         ],
         "tickfont": {
          "size": 10
         }
        },
        "xaxis28": {
         "anchor": "y28",
         "domain": [
          0.7140000000000001,
          0.796
         ],
         "tickfont": {
          "size": 10
         }
        },
        "xaxis29": {
         "anchor": "y29",
         "domain": [
          0.8160000000000001,
          0.898
         ],
         "tickfont": {
          "size": 10
         }
        },
        "xaxis3": {
         "anchor": "y3",
         "domain": [
          0.20400000000000001,
          0.28600000000000003
         ],
         "tickfont": {
          "size": 10
         }
        },
        "xaxis30": {
         "anchor": "y30",
         "domain": [
          0.9179999999999999,
          0.9999999999999999
         ],
         "tickfont": {
          "size": 10
         }
        },
        "xaxis31": {
         "anchor": "y31",
         "domain": [
          0,
          0.082
         ],
         "tickfont": {
          "size": 10
         }
        },
        "xaxis32": {
         "anchor": "y32",
         "domain": [
          0.10200000000000001,
          0.184
         ],
         "tickfont": {
          "size": 10
         }
        },
        "xaxis33": {
         "anchor": "y33",
         "domain": [
          0.20400000000000001,
          0.28600000000000003
         ],
         "tickfont": {
          "size": 10
         }
        },
        "xaxis34": {
         "anchor": "y34",
         "domain": [
          0.306,
          0.388
         ],
         "tickfont": {
          "size": 10
         }
        },
        "xaxis35": {
         "anchor": "y35",
         "domain": [
          0.40800000000000003,
          0.49000000000000005
         ],
         "tickfont": {
          "size": 10
         }
        },
        "xaxis36": {
         "anchor": "y36",
         "domain": [
          0.51,
          0.592
         ],
         "tickfont": {
          "size": 10
         }
        },
        "xaxis37": {
         "anchor": "y37",
         "domain": [
          0.612,
          0.694
         ],
         "tickfont": {
          "size": 10
         }
        },
        "xaxis38": {
         "anchor": "y38",
         "domain": [
          0.7140000000000001,
          0.796
         ],
         "tickfont": {
          "size": 10
         }
        },
        "xaxis39": {
         "anchor": "y39",
         "domain": [
          0.8160000000000001,
          0.898
         ],
         "tickfont": {
          "size": 10
         }
        },
        "xaxis4": {
         "anchor": "y4",
         "domain": [
          0.306,
          0.388
         ],
         "tickfont": {
          "size": 10
         }
        },
        "xaxis40": {
         "anchor": "y40",
         "domain": [
          0.9179999999999999,
          0.9999999999999999
         ],
         "tickfont": {
          "size": 10
         }
        },
        "xaxis41": {
         "anchor": "y41",
         "domain": [
          0,
          0.082
         ],
         "tickfont": {
          "size": 10
         }
        },
        "xaxis42": {
         "anchor": "y42",
         "domain": [
          0.10200000000000001,
          0.184
         ],
         "tickfont": {
          "size": 10
         }
        },
        "xaxis43": {
         "anchor": "y43",
         "domain": [
          0.20400000000000001,
          0.28600000000000003
         ],
         "tickfont": {
          "size": 10
         }
        },
        "xaxis44": {
         "anchor": "y44",
         "domain": [
          0.306,
          0.388
         ],
         "tickfont": {
          "size": 10
         }
        },
        "xaxis45": {
         "anchor": "y45",
         "domain": [
          0.40800000000000003,
          0.49000000000000005
         ],
         "tickfont": {
          "size": 10
         }
        },
        "xaxis46": {
         "anchor": "y46",
         "domain": [
          0.51,
          0.592
         ],
         "tickfont": {
          "size": 10
         }
        },
        "xaxis47": {
         "anchor": "y47",
         "domain": [
          0.612,
          0.694
         ],
         "tickfont": {
          "size": 10
         }
        },
        "xaxis48": {
         "anchor": "y48",
         "domain": [
          0.7140000000000001,
          0.796
         ],
         "tickfont": {
          "size": 10
         }
        },
        "xaxis49": {
         "anchor": "y49",
         "domain": [
          0.8160000000000001,
          0.898
         ],
         "tickfont": {
          "size": 10
         }
        },
        "xaxis5": {
         "anchor": "y5",
         "domain": [
          0.40800000000000003,
          0.49000000000000005
         ],
         "tickfont": {
          "size": 10
         }
        },
        "xaxis50": {
         "anchor": "y50",
         "domain": [
          0.9179999999999999,
          0.9999999999999999
         ],
         "tickfont": {
          "size": 10
         }
        },
        "xaxis51": {
         "anchor": "y51",
         "domain": [
          0,
          0.082
         ],
         "tickfont": {
          "size": 10
         }
        },
        "xaxis52": {
         "anchor": "y52",
         "domain": [
          0.10200000000000001,
          0.184
         ],
         "tickfont": {
          "size": 10
         }
        },
        "xaxis53": {
         "anchor": "y53",
         "domain": [
          0.20400000000000001,
          0.28600000000000003
         ],
         "tickfont": {
          "size": 10
         }
        },
        "xaxis54": {
         "anchor": "y54",
         "domain": [
          0.306,
          0.388
         ],
         "tickfont": {
          "size": 10
         }
        },
        "xaxis55": {
         "anchor": "y55",
         "domain": [
          0.40800000000000003,
          0.49000000000000005
         ],
         "tickfont": {
          "size": 10
         }
        },
        "xaxis56": {
         "anchor": "y56",
         "domain": [
          0.51,
          0.592
         ],
         "tickfont": {
          "size": 10
         }
        },
        "xaxis57": {
         "anchor": "y57",
         "domain": [
          0.612,
          0.694
         ],
         "tickfont": {
          "size": 10
         }
        },
        "xaxis58": {
         "anchor": "y58",
         "domain": [
          0.7140000000000001,
          0.796
         ],
         "tickfont": {
          "size": 10
         }
        },
        "xaxis59": {
         "anchor": "y59",
         "domain": [
          0.8160000000000001,
          0.898
         ],
         "tickfont": {
          "size": 10
         }
        },
        "xaxis6": {
         "anchor": "y6",
         "domain": [
          0.51,
          0.592
         ],
         "tickfont": {
          "size": 10
         }
        },
        "xaxis60": {
         "anchor": "y60",
         "domain": [
          0.9179999999999999,
          0.9999999999999999
         ],
         "tickfont": {
          "size": 10
         }
        },
        "xaxis7": {
         "anchor": "y7",
         "domain": [
          0.612,
          0.694
         ],
         "tickfont": {
          "size": 10
         }
        },
        "xaxis8": {
         "anchor": "y8",
         "domain": [
          0.7140000000000001,
          0.796
         ],
         "tickfont": {
          "size": 10
         }
        },
        "xaxis9": {
         "anchor": "y9",
         "domain": [
          0.8160000000000001,
          0.898
         ],
         "tickfont": {
          "size": 10
         }
        },
        "yaxis": {
         "anchor": "x",
         "domain": [
          0.9027777777777777,
          0.9999999999999999
         ],
         "range": [
          0,
          17203
         ]
        },
        "yaxis10": {
         "anchor": "x10",
         "domain": [
          0.9027777777777777,
          0.9999999999999999
         ],
         "range": [
          0,
          17203
         ]
        },
        "yaxis11": {
         "anchor": "x11",
         "domain": [
          0.7222222222222222,
          0.8194444444444444
         ],
         "range": [
          0,
          17203
         ]
        },
        "yaxis12": {
         "anchor": "x12",
         "domain": [
          0.7222222222222222,
          0.8194444444444444
         ],
         "range": [
          0,
          17203
         ]
        },
        "yaxis13": {
         "anchor": "x13",
         "domain": [
          0.7222222222222222,
          0.8194444444444444
         ],
         "range": [
          0,
          17203
         ]
        },
        "yaxis14": {
         "anchor": "x14",
         "domain": [
          0.7222222222222222,
          0.8194444444444444
         ],
         "range": [
          0,
          17203
         ]
        },
        "yaxis15": {
         "anchor": "x15",
         "domain": [
          0.7222222222222222,
          0.8194444444444444
         ],
         "range": [
          0,
          17203
         ]
        },
        "yaxis16": {
         "anchor": "x16",
         "domain": [
          0.7222222222222222,
          0.8194444444444444
         ],
         "range": [
          0,
          17203
         ]
        },
        "yaxis17": {
         "anchor": "x17",
         "domain": [
          0.7222222222222222,
          0.8194444444444444
         ],
         "range": [
          0,
          17203
         ]
        },
        "yaxis18": {
         "anchor": "x18",
         "domain": [
          0.7222222222222222,
          0.8194444444444444
         ],
         "range": [
          0,
          17203
         ]
        },
        "yaxis19": {
         "anchor": "x19",
         "domain": [
          0.7222222222222222,
          0.8194444444444444
         ],
         "range": [
          0,
          17203
         ]
        },
        "yaxis2": {
         "anchor": "x2",
         "domain": [
          0.9027777777777777,
          0.9999999999999999
         ],
         "range": [
          0,
          17203
         ]
        },
        "yaxis20": {
         "anchor": "x20",
         "domain": [
          0.7222222222222222,
          0.8194444444444444
         ],
         "range": [
          0,
          17203
         ]
        },
        "yaxis21": {
         "anchor": "x21",
         "domain": [
          0.5416666666666667,
          0.638888888888889
         ],
         "range": [
          0,
          17203
         ]
        },
        "yaxis22": {
         "anchor": "x22",
         "domain": [
          0.5416666666666667,
          0.638888888888889
         ],
         "range": [
          0,
          17203
         ]
        },
        "yaxis23": {
         "anchor": "x23",
         "domain": [
          0.5416666666666667,
          0.638888888888889
         ],
         "range": [
          0,
          17203
         ]
        },
        "yaxis24": {
         "anchor": "x24",
         "domain": [
          0.5416666666666667,
          0.638888888888889
         ],
         "range": [
          0,
          17203
         ]
        },
        "yaxis25": {
         "anchor": "x25",
         "domain": [
          0.5416666666666667,
          0.638888888888889
         ],
         "range": [
          0,
          17203
         ]
        },
        "yaxis26": {
         "anchor": "x26",
         "domain": [
          0.5416666666666667,
          0.638888888888889
         ],
         "range": [
          0,
          17203
         ]
        },
        "yaxis27": {
         "anchor": "x27",
         "domain": [
          0.5416666666666667,
          0.638888888888889
         ],
         "range": [
          0,
          17203
         ]
        },
        "yaxis28": {
         "anchor": "x28",
         "domain": [
          0.5416666666666667,
          0.638888888888889
         ],
         "range": [
          0,
          17203
         ]
        },
        "yaxis29": {
         "anchor": "x29",
         "domain": [
          0.5416666666666667,
          0.638888888888889
         ],
         "range": [
          0,
          17203
         ]
        },
        "yaxis3": {
         "anchor": "x3",
         "domain": [
          0.9027777777777777,
          0.9999999999999999
         ],
         "range": [
          0,
          17203
         ]
        },
        "yaxis30": {
         "anchor": "x30",
         "domain": [
          0.5416666666666667,
          0.638888888888889
         ],
         "range": [
          0,
          17203
         ]
        },
        "yaxis31": {
         "anchor": "x31",
         "domain": [
          0.3611111111111111,
          0.4583333333333333
         ],
         "range": [
          0,
          17203
         ]
        },
        "yaxis32": {
         "anchor": "x32",
         "domain": [
          0.3611111111111111,
          0.4583333333333333
         ],
         "range": [
          0,
          17203
         ]
        },
        "yaxis33": {
         "anchor": "x33",
         "domain": [
          0.3611111111111111,
          0.4583333333333333
         ],
         "range": [
          0,
          17203
         ]
        },
        "yaxis34": {
         "anchor": "x34",
         "domain": [
          0.3611111111111111,
          0.4583333333333333
         ],
         "range": [
          0,
          17203
         ]
        },
        "yaxis35": {
         "anchor": "x35",
         "domain": [
          0.3611111111111111,
          0.4583333333333333
         ],
         "range": [
          0,
          17203
         ]
        },
        "yaxis36": {
         "anchor": "x36",
         "domain": [
          0.3611111111111111,
          0.4583333333333333
         ],
         "range": [
          0,
          17203
         ]
        },
        "yaxis37": {
         "anchor": "x37",
         "domain": [
          0.3611111111111111,
          0.4583333333333333
         ],
         "range": [
          0,
          17203
         ]
        },
        "yaxis38": {
         "anchor": "x38",
         "domain": [
          0.3611111111111111,
          0.4583333333333333
         ],
         "range": [
          0,
          17203
         ]
        },
        "yaxis39": {
         "anchor": "x39",
         "domain": [
          0.3611111111111111,
          0.4583333333333333
         ],
         "range": [
          0,
          17203
         ]
        },
        "yaxis4": {
         "anchor": "x4",
         "domain": [
          0.9027777777777777,
          0.9999999999999999
         ],
         "range": [
          0,
          17203
         ]
        },
        "yaxis40": {
         "anchor": "x40",
         "domain": [
          0.3611111111111111,
          0.4583333333333333
         ],
         "range": [
          0,
          17203
         ]
        },
        "yaxis41": {
         "anchor": "x41",
         "domain": [
          0.18055555555555555,
          0.2777777777777778
         ],
         "range": [
          0,
          17203
         ]
        },
        "yaxis42": {
         "anchor": "x42",
         "domain": [
          0.18055555555555555,
          0.2777777777777778
         ],
         "range": [
          0,
          17203
         ]
        },
        "yaxis43": {
         "anchor": "x43",
         "domain": [
          0.18055555555555555,
          0.2777777777777778
         ],
         "range": [
          0,
          17203
         ]
        },
        "yaxis44": {
         "anchor": "x44",
         "domain": [
          0.18055555555555555,
          0.2777777777777778
         ],
         "range": [
          0,
          17203
         ]
        },
        "yaxis45": {
         "anchor": "x45",
         "domain": [
          0.18055555555555555,
          0.2777777777777778
         ],
         "range": [
          0,
          17203
         ]
        },
        "yaxis46": {
         "anchor": "x46",
         "domain": [
          0.18055555555555555,
          0.2777777777777778
         ],
         "range": [
          0,
          17203
         ]
        },
        "yaxis47": {
         "anchor": "x47",
         "domain": [
          0.18055555555555555,
          0.2777777777777778
         ],
         "range": [
          0,
          17203
         ]
        },
        "yaxis48": {
         "anchor": "x48",
         "domain": [
          0.18055555555555555,
          0.2777777777777778
         ],
         "range": [
          0,
          17203
         ]
        },
        "yaxis49": {
         "anchor": "x49",
         "domain": [
          0.18055555555555555,
          0.2777777777777778
         ],
         "range": [
          0,
          17203
         ]
        },
        "yaxis5": {
         "anchor": "x5",
         "domain": [
          0.9027777777777777,
          0.9999999999999999
         ],
         "range": [
          0,
          17203
         ]
        },
        "yaxis50": {
         "anchor": "x50",
         "domain": [
          0.18055555555555555,
          0.2777777777777778
         ],
         "range": [
          0,
          17203
         ]
        },
        "yaxis51": {
         "anchor": "x51",
         "domain": [
          0,
          0.09722222222222222
         ],
         "range": [
          0,
          17203
         ]
        },
        "yaxis52": {
         "anchor": "x52",
         "domain": [
          0,
          0.09722222222222222
         ],
         "range": [
          0,
          17203
         ]
        },
        "yaxis53": {
         "anchor": "x53",
         "domain": [
          0,
          0.09722222222222222
         ],
         "range": [
          0,
          17203
         ]
        },
        "yaxis54": {
         "anchor": "x54",
         "domain": [
          0,
          0.09722222222222222
         ],
         "range": [
          0,
          17203
         ]
        },
        "yaxis55": {
         "anchor": "x55",
         "domain": [
          0,
          0.09722222222222222
         ],
         "range": [
          0,
          17203
         ]
        },
        "yaxis56": {
         "anchor": "x56",
         "domain": [
          0,
          0.09722222222222222
         ],
         "range": [
          0,
          17203
         ]
        },
        "yaxis57": {
         "anchor": "x57",
         "domain": [
          0,
          0.09722222222222222
         ],
         "range": [
          0,
          17203
         ]
        },
        "yaxis58": {
         "anchor": "x58",
         "domain": [
          0,
          0.09722222222222222
         ],
         "range": [
          0,
          17203
         ]
        },
        "yaxis59": {
         "anchor": "x59",
         "domain": [
          0,
          0.09722222222222222
         ],
         "range": [
          0,
          17203
         ]
        },
        "yaxis6": {
         "anchor": "x6",
         "domain": [
          0.9027777777777777,
          0.9999999999999999
         ],
         "range": [
          0,
          17203
         ]
        },
        "yaxis60": {
         "anchor": "x60",
         "domain": [
          0,
          0.09722222222222222
         ],
         "range": [
          0,
          17203
         ]
        },
        "yaxis7": {
         "anchor": "x7",
         "domain": [
          0.9027777777777777,
          0.9999999999999999
         ],
         "range": [
          0,
          17203
         ]
        },
        "yaxis8": {
         "anchor": "x8",
         "domain": [
          0.9027777777777777,
          0.9999999999999999
         ],
         "range": [
          0,
          17203
         ]
        },
        "yaxis9": {
         "anchor": "x9",
         "domain": [
          0.9027777777777777,
          0.9999999999999999
         ],
         "range": [
          0,
          17203
         ]
        }
       }
      }
     },
     "metadata": {},
     "output_type": "display_data"
    },
    {
     "data": {
      "application/vnd.plotly.v1+json": {
       "config": {
        "plotlyServerURL": "https://plot.ly"
       },
       "data": [
        {
         "marker": {
          "color": "#3498db"
         },
         "mode": "markers",
         "name": "books",
         "showlegend": true,
         "type": "scatter",
         "x": [
          "!",
          "\"",
          "#",
          "$",
          "%",
          "&",
          "'",
          "(",
          ")",
          "*",
          "+",
          ",",
          "-",
          ".",
          "/",
          ":",
          ";",
          "<",
          "=",
          ">",
          "?",
          "@",
          "[",
          "\\",
          "]",
          "^",
          "_",
          "`",
          "{",
          "|",
          "}",
          "~"
         ],
         "xaxis": "x",
         "y": [
          606,
          2695,
          0,
          38,
          0,
          5,
          2223,
          154,
          154,
          231,
          4,
          11428,
          6735,
          8097,
          5,
          415,
          1553,
          0,
          11,
          0,
          540,
          0,
          63,
          1,
          63,
          0,
          136,
          0,
          6,
          33,
          6,
          0
         ],
         "yaxis": "y"
        },
        {
         "marker": {
          "color": "#3498db"
         },
         "mode": "markers",
         "name": "books",
         "showlegend": false,
         "type": "scatter",
         "x": [
          "!",
          "\"",
          "#",
          "$",
          "%",
          "&",
          "'",
          "(",
          ")",
          "*",
          "+",
          ",",
          "-",
          ".",
          "/",
          ":",
          ";",
          "<",
          "=",
          ">",
          "?",
          "@",
          "[",
          "\\",
          "]",
          "^",
          "_",
          "`",
          "{",
          "|",
          "}",
          "~"
         ],
         "xaxis": "x2",
         "y": [
          965,
          5763,
          0,
          0,
          0,
          0,
          5147,
          2,
          2,
          58,
          0,
          11353,
          3506,
          12438,
          0,
          87,
          480,
          0,
          0,
          0,
          844,
          0,
          10,
          0,
          10,
          0,
          42,
          1,
          0,
          0,
          0,
          0
         ],
         "yaxis": "y2"
        },
        {
         "marker": {
          "color": "#3498db"
         },
         "mode": "markers",
         "name": "books",
         "showlegend": false,
         "type": "scatter",
         "x": [
          "!",
          "\"",
          "#",
          "$",
          "%",
          "&",
          "'",
          "(",
          ")",
          "*",
          "+",
          ",",
          "-",
          ".",
          "/",
          ":",
          ";",
          "<",
          "=",
          ">",
          "?",
          "@",
          "[",
          "\\",
          "]",
          "^",
          "_",
          "`",
          "{",
          "|",
          "}",
          "~"
         ],
         "xaxis": "x3",
         "y": [
          866,
          3850,
          0,
          0,
          0,
          0,
          2081,
          119,
          119,
          20,
          0,
          10923,
          3412,
          10014,
          0,
          277,
          844,
          0,
          0,
          0,
          808,
          0,
          0,
          0,
          0,
          0,
          124,
          4,
          0,
          0,
          0,
          0
         ],
         "yaxis": "y3"
        },
        {
         "marker": {
          "color": "#3498db"
         },
         "mode": "markers",
         "name": "books",
         "showlegend": false,
         "type": "scatter",
         "x": [
          "!",
          "\"",
          "#",
          "$",
          "%",
          "&",
          "'",
          "(",
          ")",
          "*",
          "+",
          ",",
          "-",
          ".",
          "/",
          ":",
          ";",
          "<",
          "=",
          ">",
          "?",
          "@",
          "[",
          "\\",
          "]",
          "^",
          "_",
          "`",
          "{",
          "|",
          "}",
          "~"
         ],
         "xaxis": "x4",
         "y": [
          374,
          4059,
          0,
          0,
          0,
          4,
          3132,
          41,
          41,
          10,
          0,
          12108,
          3802,
          7182,
          0,
          377,
          1422,
          0,
          0,
          0,
          610,
          0,
          7,
          0,
          7,
          0,
          416,
          10,
          0,
          0,
          0,
          0
         ],
         "yaxis": "y4"
        },
        {
         "marker": {
          "color": "#3498db"
         },
         "mode": "markers",
         "name": "books",
         "showlegend": false,
         "type": "scatter",
         "x": [
          "!",
          "\"",
          "#",
          "$",
          "%",
          "&",
          "'",
          "(",
          ")",
          "*",
          "+",
          ",",
          "-",
          ".",
          "/",
          ":",
          ";",
          "<",
          "=",
          ">",
          "?",
          "@",
          "[",
          "\\",
          "]",
          "^",
          "_",
          "`",
          "{",
          "|",
          "}",
          "~"
         ],
         "xaxis": "x5",
         "y": [
          1141,
          2468,
          0,
          0,
          0,
          16,
          4070,
          19,
          19,
          20,
          0,
          14448,
          1288,
          8070,
          0,
          594,
          2186,
          0,
          0,
          0,
          806,
          0,
          33,
          0,
          33,
          0,
          190,
          0,
          0,
          0,
          0,
          0
         ],
         "yaxis": "y5"
        },
        {
         "marker": {
          "color": "#3498db"
         },
         "mode": "markers",
         "name": "books",
         "showlegend": false,
         "type": "scatter",
         "x": [
          "!",
          "\"",
          "#",
          "$",
          "%",
          "&",
          "'",
          "(",
          ")",
          "*",
          "+",
          ",",
          "-",
          ".",
          "/",
          ":",
          ";",
          "<",
          "=",
          ">",
          "?",
          "@",
          "[",
          "\\",
          "]",
          "^",
          "_",
          "`",
          "{",
          "|",
          "}",
          "~"
         ],
         "xaxis": "x6",
         "y": [
          429,
          5908,
          0,
          0,
          0,
          0,
          4914,
          4,
          4,
          25,
          0,
          9561,
          3739,
          11224,
          0,
          44,
          549,
          0,
          0,
          0,
          777,
          0,
          1,
          0,
          1,
          0,
          118,
          0,
          0,
          0,
          0,
          0
         ],
         "yaxis": "y6"
        },
        {
         "marker": {
          "color": "#3498db"
         },
         "mode": "markers",
         "name": "books",
         "showlegend": false,
         "type": "scatter",
         "x": [
          "!",
          "\"",
          "#",
          "$",
          "%",
          "&",
          "'",
          "(",
          ")",
          "*",
          "+",
          ",",
          "-",
          ".",
          "/",
          ":",
          ";",
          "<",
          "=",
          ">",
          "?",
          "@",
          "[",
          "\\",
          "]",
          "^",
          "_",
          "`",
          "{",
          "|",
          "}",
          "~"
         ],
         "xaxis": "x7",
         "y": [
          439,
          2651,
          0,
          0,
          0,
          9,
          1026,
          49,
          49,
          32,
          0,
          13825,
          3637,
          5492,
          0,
          230,
          1474,
          0,
          0,
          0,
          453,
          0,
          4,
          1,
          4,
          0,
          306,
          0,
          0,
          0,
          0,
          0
         ],
         "yaxis": "y7"
        },
        {
         "marker": {
          "color": "#3498db"
         },
         "mode": "markers",
         "name": "books",
         "showlegend": false,
         "type": "scatter",
         "x": [
          "!",
          "\"",
          "#",
          "$",
          "%",
          "&",
          "'",
          "(",
          ")",
          "*",
          "+",
          ",",
          "-",
          ".",
          "/",
          ":",
          ";",
          "<",
          "=",
          ">",
          "?",
          "@",
          "[",
          "\\",
          "]",
          "^",
          "_",
          "`",
          "{",
          "|",
          "}",
          "~"
         ],
         "xaxis": "x8",
         "y": [
          527,
          5081,
          0,
          0,
          0,
          8,
          1189,
          57,
          57,
          195,
          0,
          11557,
          1409,
          6397,
          0,
          758,
          700,
          0,
          0,
          0,
          623,
          0,
          294,
          0,
          294,
          0,
          554,
          0,
          0,
          0,
          0,
          2
         ],
         "yaxis": "y8"
        },
        {
         "marker": {
          "color": "#3498db"
         },
         "mode": "markers",
         "name": "books",
         "showlegend": false,
         "type": "scatter",
         "x": [
          "!",
          "\"",
          "#",
          "$",
          "%",
          "&",
          "'",
          "(",
          ")",
          "*",
          "+",
          ",",
          "-",
          ".",
          "/",
          ":",
          ";",
          "<",
          "=",
          ">",
          "?",
          "@",
          "[",
          "\\",
          "]",
          "^",
          "_",
          "`",
          "{",
          "|",
          "}",
          "~"
         ],
         "xaxis": "x9",
         "y": [
          391,
          5893,
          0,
          0,
          0,
          1,
          2930,
          60,
          60,
          0,
          0,
          13419,
          3141,
          9065,
          0,
          122,
          1286,
          0,
          0,
          0,
          960,
          0,
          1,
          0,
          1,
          0,
          130,
          0,
          0,
          0,
          0,
          0
         ],
         "yaxis": "y9"
        },
        {
         "marker": {
          "color": "#3498db"
         },
         "mode": "markers",
         "name": "books",
         "showlegend": false,
         "type": "scatter",
         "x": [
          "!",
          "\"",
          "#",
          "$",
          "%",
          "&",
          "'",
          "(",
          ")",
          "*",
          "+",
          ",",
          "-",
          ".",
          "/",
          ":",
          ";",
          "<",
          "=",
          ">",
          "?",
          "@",
          "[",
          "\\",
          "]",
          "^",
          "_",
          "`",
          "{",
          "|",
          "}",
          "~"
         ],
         "xaxis": "x10",
         "y": [
          1980,
          7802,
          71,
          0,
          0,
          49,
          6362,
          1099,
          1098,
          329,
          552,
          11745,
          13386,
          8976,
          265,
          1242,
          1020,
          0,
          1561,
          0,
          905,
          0,
          389,
          172,
          309,
          10,
          4168,
          0,
          1125,
          4626,
          1126,
          0
         ],
         "yaxis": "y10"
        },
        {
         "marker": {
          "color": "#e74c3c"
         },
         "mode": "markers",
         "name": "gpt-3.5-turbo-0125",
         "showlegend": true,
         "type": "scatter",
         "x": [
          "!",
          "\"",
          "#",
          "$",
          "%",
          "&",
          "'",
          "(",
          ")",
          "*",
          "+",
          ",",
          "-",
          ".",
          "/",
          ":",
          ";",
          "<",
          "=",
          ">",
          "?",
          "@",
          "[",
          "\\",
          "]",
          "^",
          "_",
          "`",
          "{",
          "|",
          "}",
          "~"
         ],
         "xaxis": "x",
         "y": [
          98,
          310,
          0,
          0,
          0,
          0,
          1915,
          7,
          7,
          32,
          0,
          12799,
          806,
          8071,
          0,
          91,
          60,
          0,
          0,
          0,
          229,
          0,
          0,
          0,
          0,
          0,
          0,
          0,
          0,
          0,
          0,
          0
         ],
         "yaxis": "y"
        },
        {
         "marker": {
          "color": "#e74c3c"
         },
         "mode": "markers",
         "name": "gpt-3.5-turbo-0125",
         "showlegend": false,
         "type": "scatter",
         "x": [
          "!",
          "\"",
          "#",
          "$",
          "%",
          "&",
          "'",
          "(",
          ")",
          "*",
          "+",
          ",",
          "-",
          ".",
          "/",
          ":",
          ";",
          "<",
          "=",
          ">",
          "?",
          "@",
          "[",
          "\\",
          "]",
          "^",
          "_",
          "`",
          "{",
          "|",
          "}",
          "~"
         ],
         "xaxis": "x2",
         "y": [
          22,
          800,
          0,
          0,
          0,
          0,
          779,
          1,
          1,
          44,
          0,
          12640,
          772,
          7717,
          0,
          35,
          35,
          0,
          0,
          0,
          125,
          0,
          0,
          0,
          0,
          0,
          0,
          0,
          0,
          0,
          0,
          0
         ],
         "yaxis": "y2"
        },
        {
         "marker": {
          "color": "#e74c3c"
         },
         "mode": "markers",
         "name": "gpt-3.5-turbo-0125",
         "showlegend": false,
         "type": "scatter",
         "x": [
          "!",
          "\"",
          "#",
          "$",
          "%",
          "&",
          "'",
          "(",
          ")",
          "*",
          "+",
          ",",
          "-",
          ".",
          "/",
          ":",
          ";",
          "<",
          "=",
          ">",
          "?",
          "@",
          "[",
          "\\",
          "]",
          "^",
          "_",
          "`",
          "{",
          "|",
          "}",
          "~"
         ],
         "xaxis": "x3",
         "y": [
          9,
          536,
          0,
          0,
          0,
          0,
          473,
          2,
          2,
          96,
          0,
          12469,
          691,
          7562,
          0,
          55,
          82,
          0,
          0,
          0,
          116,
          0,
          0,
          0,
          0,
          0,
          0,
          0,
          0,
          0,
          0,
          0
         ],
         "yaxis": "y3"
        },
        {
         "marker": {
          "color": "#e74c3c"
         },
         "mode": "markers",
         "name": "gpt-3.5-turbo-0125",
         "showlegend": false,
         "type": "scatter",
         "x": [
          "!",
          "\"",
          "#",
          "$",
          "%",
          "&",
          "'",
          "(",
          ")",
          "*",
          "+",
          ",",
          "-",
          ".",
          "/",
          ":",
          ";",
          "<",
          "=",
          ">",
          "?",
          "@",
          "[",
          "\\",
          "]",
          "^",
          "_",
          "`",
          "{",
          "|",
          "}",
          "~"
         ],
         "xaxis": "x4",
         "y": [
          28,
          400,
          0,
          0,
          0,
          0,
          598,
          4,
          4,
          44,
          0,
          12419,
          747,
          7474,
          0,
          32,
          59,
          0,
          0,
          0,
          97,
          0,
          3,
          0,
          3,
          0,
          0,
          0,
          0,
          0,
          0,
          0
         ],
         "yaxis": "y4"
        },
        {
         "marker": {
          "color": "#e74c3c"
         },
         "mode": "markers",
         "name": "gpt-3.5-turbo-0125",
         "showlegend": false,
         "type": "scatter",
         "x": [
          "!",
          "\"",
          "#",
          "$",
          "%",
          "&",
          "'",
          "(",
          ")",
          "*",
          "+",
          ",",
          "-",
          ".",
          "/",
          ":",
          ";",
          "<",
          "=",
          ">",
          "?",
          "@",
          "[",
          "\\",
          "]",
          "^",
          "_",
          "`",
          "{",
          "|",
          "}",
          "~"
         ],
         "xaxis": "x5",
         "y": [
          28,
          142,
          0,
          0,
          0,
          1,
          493,
          12,
          12,
          36,
          0,
          12679,
          883,
          7547,
          0,
          43,
          64,
          0,
          0,
          0,
          70,
          0,
          5,
          0,
          5,
          0,
          0,
          0,
          0,
          0,
          0,
          0
         ],
         "yaxis": "y5"
        },
        {
         "marker": {
          "color": "#e74c3c"
         },
         "mode": "markers",
         "name": "gpt-3.5-turbo-0125",
         "showlegend": false,
         "type": "scatter",
         "x": [
          "!",
          "\"",
          "#",
          "$",
          "%",
          "&",
          "'",
          "(",
          ")",
          "*",
          "+",
          ",",
          "-",
          ".",
          "/",
          ":",
          ";",
          "<",
          "=",
          ">",
          "?",
          "@",
          "[",
          "\\",
          "]",
          "^",
          "_",
          "`",
          "{",
          "|",
          "}",
          "~"
         ],
         "xaxis": "x6",
         "y": [
          45,
          973,
          0,
          0,
          0,
          0,
          767,
          8,
          8,
          32,
          0,
          12471,
          748,
          8108,
          0,
          22,
          37,
          0,
          0,
          0,
          144,
          0,
          0,
          0,
          0,
          0,
          0,
          0,
          0,
          0,
          0,
          0
         ],
         "yaxis": "y6"
        },
        {
         "marker": {
          "color": "#e74c3c"
         },
         "mode": "markers",
         "name": "gpt-3.5-turbo-0125",
         "showlegend": false,
         "type": "scatter",
         "x": [
          "!",
          "\"",
          "#",
          "$",
          "%",
          "&",
          "'",
          "(",
          ")",
          "*",
          "+",
          ",",
          "-",
          ".",
          "/",
          ":",
          ";",
          "<",
          "=",
          ">",
          "?",
          "@",
          "[",
          "\\",
          "]",
          "^",
          "_",
          "`",
          "{",
          "|",
          "}",
          "~"
         ],
         "xaxis": "x7",
         "y": [
          19,
          312,
          0,
          0,
          0,
          0,
          559,
          3,
          3,
          36,
          0,
          12196,
          777,
          7446,
          0,
          24,
          57,
          0,
          0,
          0,
          72,
          0,
          1,
          0,
          1,
          0,
          0,
          0,
          0,
          0,
          0,
          0
         ],
         "yaxis": "y7"
        },
        {
         "marker": {
          "color": "#e74c3c"
         },
         "mode": "markers",
         "name": "gpt-3.5-turbo-0125",
         "showlegend": false,
         "type": "scatter",
         "x": [
          "!",
          "\"",
          "#",
          "$",
          "%",
          "&",
          "'",
          "(",
          ")",
          "*",
          "+",
          ",",
          "-",
          ".",
          "/",
          ":",
          ";",
          "<",
          "=",
          ">",
          "?",
          "@",
          "[",
          "\\",
          "]",
          "^",
          "_",
          "`",
          "{",
          "|",
          "}",
          "~"
         ],
         "xaxis": "x8",
         "y": [
          71,
          886,
          0,
          0,
          0,
          0,
          817,
          10,
          10,
          220,
          0,
          12594,
          730,
          7928,
          0,
          86,
          63,
          0,
          0,
          0,
          119,
          0,
          0,
          0,
          0,
          0,
          0,
          0,
          0,
          0,
          0,
          0
         ],
         "yaxis": "y8"
        },
        {
         "marker": {
          "color": "#e74c3c"
         },
         "mode": "markers",
         "name": "gpt-3.5-turbo-0125",
         "showlegend": false,
         "type": "scatter",
         "x": [
          "!",
          "\"",
          "#",
          "$",
          "%",
          "&",
          "'",
          "(",
          ")",
          "*",
          "+",
          ",",
          "-",
          ".",
          "/",
          ":",
          ";",
          "<",
          "=",
          ">",
          "?",
          "@",
          "[",
          "\\",
          "]",
          "^",
          "_",
          "`",
          "{",
          "|",
          "}",
          "~"
         ],
         "xaxis": "x9",
         "y": [
          8,
          244,
          0,
          0,
          0,
          0,
          507,
          7,
          7,
          0,
          0,
          12503,
          769,
          7534,
          0,
          27,
          96,
          0,
          0,
          0,
          115,
          0,
          0,
          0,
          0,
          0,
          0,
          0,
          0,
          0,
          0,
          0
         ],
         "yaxis": "y9"
        },
        {
         "marker": {
          "color": "#e74c3c"
         },
         "mode": "markers",
         "name": "gpt-3.5-turbo-0125",
         "showlegend": false,
         "type": "scatter",
         "x": [
          "!",
          "\"",
          "#",
          "$",
          "%",
          "&",
          "'",
          "(",
          ")",
          "*",
          "+",
          ",",
          "-",
          ".",
          "/",
          ":",
          ";",
          "<",
          "=",
          ">",
          "?",
          "@",
          "[",
          "\\",
          "]",
          "^",
          "_",
          "`",
          "{",
          "|",
          "}",
          "~"
         ],
         "xaxis": "x10",
         "y": [
          81,
          835,
          0,
          0,
          0,
          0,
          775,
          5,
          5,
          32,
          0,
          12744,
          654,
          7971,
          0,
          32,
          55,
          0,
          0,
          0,
          170,
          0,
          0,
          0,
          0,
          0,
          0,
          0,
          0,
          0,
          0,
          0
         ],
         "yaxis": "y10"
        },
        {
         "marker": {
          "color": "#2ecc71"
         },
         "mode": "markers",
         "name": "gpt-4o",
         "showlegend": true,
         "type": "scatter",
         "x": [
          "!",
          "\"",
          "#",
          "$",
          "%",
          "&",
          "'",
          "(",
          ")",
          "*",
          "+",
          ",",
          "-",
          ".",
          "/",
          ":",
          ";",
          "<",
          "=",
          ">",
          "?",
          "@",
          "[",
          "\\",
          "]",
          "^",
          "_",
          "`",
          "{",
          "|",
          "}",
          "~"
         ],
         "xaxis": "x",
         "y": [
          173,
          642,
          147,
          0,
          0,
          1,
          1765,
          103,
          103,
          846,
          0,
          14719,
          782,
          8757,
          0,
          310,
          133,
          0,
          0,
          0,
          325,
          4,
          0,
          0,
          0,
          0,
          0,
          0,
          0,
          0,
          0,
          0
         ],
         "yaxis": "y"
        },
        {
         "marker": {
          "color": "#2ecc71"
         },
         "mode": "markers",
         "name": "gpt-4o",
         "showlegend": false,
         "type": "scatter",
         "x": [
          "!",
          "\"",
          "#",
          "$",
          "%",
          "&",
          "'",
          "(",
          ")",
          "*",
          "+",
          ",",
          "-",
          ".",
          "/",
          ":",
          ";",
          "<",
          "=",
          ">",
          "?",
          "@",
          "[",
          "\\",
          "]",
          "^",
          "_",
          "`",
          "{",
          "|",
          "}",
          "~"
         ],
         "xaxis": "x2",
         "y": [
          60,
          1369,
          390,
          0,
          0,
          0,
          1009,
          100,
          100,
          368,
          0,
          15216,
          582,
          8737,
          0,
          155,
          105,
          0,
          0,
          0,
          246,
          2,
          0,
          0,
          0,
          0,
          0,
          0,
          0,
          0,
          0,
          0
         ],
         "yaxis": "y2"
        },
        {
         "marker": {
          "color": "#2ecc71"
         },
         "mode": "markers",
         "name": "gpt-4o",
         "showlegend": false,
         "type": "scatter",
         "x": [
          "!",
          "\"",
          "#",
          "$",
          "%",
          "&",
          "'",
          "(",
          ")",
          "*",
          "+",
          ",",
          "-",
          ".",
          "/",
          ":",
          ";",
          "<",
          "=",
          ">",
          "?",
          "@",
          "[",
          "\\",
          "]",
          "^",
          "_",
          "`",
          "{",
          "|",
          "}",
          "~"
         ],
         "xaxis": "x3",
         "y": [
          20,
          876,
          251,
          0,
          0,
          0,
          775,
          79,
          79,
          572,
          1,
          15823,
          508,
          8132,
          0,
          204,
          129,
          0,
          0,
          0,
          161,
          4,
          1,
          0,
          1,
          0,
          0,
          0,
          0,
          0,
          0,
          0
         ],
         "yaxis": "y3"
        },
        {
         "marker": {
          "color": "#2ecc71"
         },
         "mode": "markers",
         "name": "gpt-4o",
         "showlegend": false,
         "type": "scatter",
         "x": [
          "!",
          "\"",
          "#",
          "$",
          "%",
          "&",
          "'",
          "(",
          ")",
          "*",
          "+",
          ",",
          "-",
          ".",
          "/",
          ":",
          ";",
          "<",
          "=",
          ">",
          "?",
          "@",
          "[",
          "\\",
          "]",
          "^",
          "_",
          "`",
          "{",
          "|",
          "}",
          "~"
         ],
         "xaxis": "x4",
         "y": [
          49,
          992,
          194,
          2,
          0,
          0,
          794,
          70,
          70,
          630,
          0,
          15488,
          617,
          8167,
          1,
          241,
          119,
          0,
          0,
          0,
          164,
          7,
          4,
          0,
          4,
          0,
          0,
          0,
          0,
          0,
          0,
          0
         ],
         "yaxis": "y4"
        },
        {
         "marker": {
          "color": "#2ecc71"
         },
         "mode": "markers",
         "name": "gpt-4o",
         "showlegend": false,
         "type": "scatter",
         "x": [
          "!",
          "\"",
          "#",
          "$",
          "%",
          "&",
          "'",
          "(",
          ")",
          "*",
          "+",
          ",",
          "-",
          ".",
          "/",
          ":",
          ";",
          "<",
          "=",
          ">",
          "?",
          "@",
          "[",
          "\\",
          "]",
          "^",
          "_",
          "`",
          "{",
          "|",
          "}",
          "~"
         ],
         "xaxis": "x5",
         "y": [
          32,
          522,
          35,
          0,
          0,
          0,
          652,
          85,
          85,
          608,
          1,
          15652,
          527,
          8030,
          3,
          221,
          100,
          0,
          0,
          0,
          104,
          2,
          11,
          0,
          11,
          0,
          0,
          0,
          0,
          0,
          0,
          0
         ],
         "yaxis": "y5"
        },
        {
         "marker": {
          "color": "#2ecc71"
         },
         "mode": "markers",
         "name": "gpt-4o",
         "showlegend": false,
         "type": "scatter",
         "x": [
          "!",
          "\"",
          "#",
          "$",
          "%",
          "&",
          "'",
          "(",
          ")",
          "*",
          "+",
          ",",
          "-",
          ".",
          "/",
          ":",
          ";",
          "<",
          "=",
          ">",
          "?",
          "@",
          "[",
          "\\",
          "]",
          "^",
          "_",
          "`",
          "{",
          "|",
          "}",
          "~"
         ],
         "xaxis": "x6",
         "y": [
          110,
          1578,
          65,
          1,
          0,
          0,
          971,
          75,
          75,
          657,
          1,
          14931,
          797,
          8563,
          0,
          208,
          87,
          0,
          0,
          0,
          255,
          5,
          4,
          0,
          4,
          0,
          0,
          0,
          0,
          0,
          0,
          0
         ],
         "yaxis": "y6"
        },
        {
         "marker": {
          "color": "#2ecc71"
         },
         "mode": "markers",
         "name": "gpt-4o",
         "showlegend": false,
         "type": "scatter",
         "x": [
          "!",
          "\"",
          "#",
          "$",
          "%",
          "&",
          "'",
          "(",
          ")",
          "*",
          "+",
          ",",
          "-",
          ".",
          "/",
          ":",
          ";",
          "<",
          "=",
          ">",
          "?",
          "@",
          "[",
          "\\",
          "]",
          "^",
          "_",
          "`",
          "{",
          "|",
          "}",
          "~"
         ],
         "xaxis": "x7",
         "y": [
          52,
          804,
          65,
          0,
          0,
          0,
          797,
          81,
          81,
          760,
          3,
          15515,
          669,
          8329,
          1,
          242,
          107,
          0,
          0,
          0,
          163,
          11,
          1,
          0,
          1,
          0,
          1,
          0,
          0,
          0,
          0,
          0
         ],
         "yaxis": "y7"
        },
        {
         "marker": {
          "color": "#2ecc71"
         },
         "mode": "markers",
         "name": "gpt-4o",
         "showlegend": false,
         "type": "scatter",
         "x": [
          "!",
          "\"",
          "#",
          "$",
          "%",
          "&",
          "'",
          "(",
          ")",
          "*",
          "+",
          ",",
          "-",
          ".",
          "/",
          ":",
          ";",
          "<",
          "=",
          ">",
          "?",
          "@",
          "[",
          "\\",
          "]",
          "^",
          "_",
          "`",
          "{",
          "|",
          "}",
          "~"
         ],
         "xaxis": "x8",
         "y": [
          112,
          1110,
          372,
          1,
          1,
          0,
          897,
          29,
          29,
          664,
          1,
          15541,
          534,
          8251,
          0,
          180,
          81,
          0,
          0,
          0,
          193,
          8,
          0,
          0,
          0,
          0,
          1,
          0,
          0,
          0,
          0,
          0
         ],
         "yaxis": "y8"
        },
        {
         "marker": {
          "color": "#2ecc71"
         },
         "mode": "markers",
         "name": "gpt-4o",
         "showlegend": false,
         "type": "scatter",
         "x": [
          "!",
          "\"",
          "#",
          "$",
          "%",
          "&",
          "'",
          "(",
          ")",
          "*",
          "+",
          ",",
          "-",
          ".",
          "/",
          ":",
          ";",
          "<",
          "=",
          ">",
          "?",
          "@",
          "[",
          "\\",
          "]",
          "^",
          "_",
          "`",
          "{",
          "|",
          "}",
          "~"
         ],
         "xaxis": "x9",
         "y": [
          46,
          692,
          38,
          0,
          0,
          0,
          703,
          66,
          66,
          698,
          1,
          17193,
          651,
          8103,
          0,
          220,
          116,
          0,
          0,
          0,
          215,
          2,
          4,
          0,
          4,
          0,
          0,
          0,
          0,
          0,
          0,
          0
         ],
         "yaxis": "y9"
        },
        {
         "marker": {
          "color": "#2ecc71"
         },
         "mode": "markers",
         "name": "gpt-4o",
         "showlegend": false,
         "type": "scatter",
         "x": [
          "!",
          "\"",
          "#",
          "$",
          "%",
          "&",
          "'",
          "(",
          ")",
          "*",
          "+",
          ",",
          "-",
          ".",
          "/",
          ":",
          ";",
          "<",
          "=",
          ">",
          "?",
          "@",
          "[",
          "\\",
          "]",
          "^",
          "_",
          "`",
          "{",
          "|",
          "}",
          "~"
         ],
         "xaxis": "x10",
         "y": [
          257,
          2225,
          268,
          0,
          0,
          1,
          873,
          81,
          81,
          970,
          0,
          15353,
          688,
          8670,
          0,
          267,
          96,
          0,
          0,
          0,
          405,
          2,
          0,
          0,
          0,
          0,
          0,
          0,
          0,
          0,
          0,
          0
         ],
         "yaxis": "y10"
        },
        {
         "marker": {
          "color": "#f1c40f"
         },
         "mode": "markers",
         "name": "gemini-1.5-flash",
         "showlegend": true,
         "type": "scatter",
         "x": [
          "!",
          "\"",
          "#",
          "$",
          "%",
          "&",
          "'",
          "(",
          ")",
          "*",
          "+",
          ",",
          "-",
          ".",
          "/",
          ":",
          ";",
          "<",
          "=",
          ">",
          "?",
          "@",
          "[",
          "\\",
          "]",
          "^",
          "_",
          "`",
          "{",
          "|",
          "}",
          "~"
         ],
         "xaxis": "x",
         "y": [
          452,
          1369,
          30,
          0,
          0,
          0,
          6131,
          9,
          9,
          1054,
          0,
          18710,
          639,
          8919,
          0,
          255,
          18,
          0,
          0,
          0,
          569,
          0,
          2,
          0,
          2,
          0,
          0,
          0,
          0,
          0,
          0,
          0
         ],
         "yaxis": "y"
        },
        {
         "marker": {
          "color": "#f1c40f"
         },
         "mode": "markers",
         "name": "gemini-1.5-flash",
         "showlegend": false,
         "type": "scatter",
         "x": [
          "!",
          "\"",
          "#",
          "$",
          "%",
          "&",
          "'",
          "(",
          ")",
          "*",
          "+",
          ",",
          "-",
          ".",
          "/",
          ":",
          ";",
          "<",
          "=",
          ">",
          "?",
          "@",
          "[",
          "\\",
          "]",
          "^",
          "_",
          "`",
          "{",
          "|",
          "}",
          "~"
         ],
         "xaxis": "x2",
         "y": [
          65,
          1505,
          28,
          1,
          0,
          0,
          1097,
          1,
          1,
          979,
          0,
          18890,
          427,
          9100,
          0,
          161,
          24,
          0,
          0,
          0,
          296,
          0,
          5,
          0,
          5,
          0,
          0,
          0,
          0,
          0,
          0,
          0
         ],
         "yaxis": "y2"
        },
        {
         "marker": {
          "color": "#f1c40f"
         },
         "mode": "markers",
         "name": "gemini-1.5-flash",
         "showlegend": false,
         "type": "scatter",
         "x": [
          "!",
          "\"",
          "#",
          "$",
          "%",
          "&",
          "'",
          "(",
          ")",
          "*",
          "+",
          ",",
          "-",
          ".",
          "/",
          ":",
          ";",
          "<",
          "=",
          ">",
          "?",
          "@",
          "[",
          "\\",
          "]",
          "^",
          "_",
          "`",
          "{",
          "|",
          "}",
          "~"
         ],
         "xaxis": "x3",
         "y": [
          26,
          1478,
          26,
          0,
          0,
          0,
          520,
          1,
          1,
          658,
          0,
          20487,
          275,
          8012,
          2,
          103,
          16,
          0,
          0,
          0,
          263,
          1,
          3,
          0,
          3,
          0,
          0,
          0,
          0,
          0,
          0,
          0
         ],
         "yaxis": "y3"
        },
        {
         "marker": {
          "color": "#f1c40f"
         },
         "mode": "markers",
         "name": "gemini-1.5-flash",
         "showlegend": false,
         "type": "scatter",
         "x": [
          "!",
          "\"",
          "#",
          "$",
          "%",
          "&",
          "'",
          "(",
          ")",
          "*",
          "+",
          ",",
          "-",
          ".",
          "/",
          ":",
          ";",
          "<",
          "=",
          ">",
          "?",
          "@",
          "[",
          "\\",
          "]",
          "^",
          "_",
          "`",
          "{",
          "|",
          "}",
          "~"
         ],
         "xaxis": "x4",
         "y": [
          39,
          986,
          28,
          0,
          0,
          0,
          665,
          0,
          0,
          904,
          0,
          18970,
          403,
          7606,
          0,
          191,
          31,
          0,
          0,
          0,
          263,
          0,
          0,
          0,
          0,
          0,
          0,
          0,
          0,
          0,
          0,
          0
         ],
         "yaxis": "y4"
        },
        {
         "marker": {
          "color": "#f1c40f"
         },
         "mode": "markers",
         "name": "gemini-1.5-flash",
         "showlegend": false,
         "type": "scatter",
         "x": [
          "!",
          "\"",
          "#",
          "$",
          "%",
          "&",
          "'",
          "(",
          ")",
          "*",
          "+",
          ",",
          "-",
          ".",
          "/",
          ":",
          ";",
          "<",
          "=",
          ">",
          "?",
          "@",
          "[",
          "\\",
          "]",
          "^",
          "_",
          "`",
          "{",
          "|",
          "}",
          "~"
         ],
         "xaxis": "x5",
         "y": [
          63,
          612,
          41,
          0,
          0,
          0,
          639,
          41,
          41,
          1071,
          0,
          19236,
          444,
          7851,
          0,
          204,
          45,
          0,
          0,
          0,
          221,
          2,
          3,
          0,
          3,
          0,
          0,
          0,
          0,
          0,
          0,
          0
         ],
         "yaxis": "y5"
        },
        {
         "marker": {
          "color": "#f1c40f"
         },
         "mode": "markers",
         "name": "gemini-1.5-flash",
         "showlegend": false,
         "type": "scatter",
         "x": [
          "!",
          "\"",
          "#",
          "$",
          "%",
          "&",
          "'",
          "(",
          ")",
          "*",
          "+",
          ",",
          "-",
          ".",
          "/",
          ":",
          ";",
          "<",
          "=",
          ">",
          "?",
          "@",
          "[",
          "\\",
          "]",
          "^",
          "_",
          "`",
          "{",
          "|",
          "}",
          "~"
         ],
         "xaxis": "x6",
         "y": [
          252,
          2095,
          37,
          0,
          0,
          0,
          1368,
          1,
          1,
          1299,
          0,
          18390,
          442,
          8612,
          0,
          175,
          31,
          1,
          0,
          0,
          454,
          6,
          6,
          0,
          6,
          0,
          0,
          0,
          0,
          0,
          0,
          0
         ],
         "yaxis": "y6"
        },
        {
         "marker": {
          "color": "#f1c40f"
         },
         "mode": "markers",
         "name": "gemini-1.5-flash",
         "showlegend": false,
         "type": "scatter",
         "x": [
          "!",
          "\"",
          "#",
          "$",
          "%",
          "&",
          "'",
          "(",
          ")",
          "*",
          "+",
          ",",
          "-",
          ".",
          "/",
          ":",
          ";",
          "<",
          "=",
          ">",
          "?",
          "@",
          "[",
          "\\",
          "]",
          "^",
          "_",
          "`",
          "{",
          "|",
          "}",
          "~"
         ],
         "xaxis": "x7",
         "y": [
          31,
          552,
          36,
          0,
          0,
          0,
          605,
          3,
          3,
          1055,
          0,
          19011,
          385,
          7916,
          0,
          183,
          48,
          0,
          0,
          0,
          191,
          2,
          4,
          0,
          4,
          0,
          0,
          0,
          0,
          0,
          0,
          0
         ],
         "yaxis": "y7"
        },
        {
         "marker": {
          "color": "#f1c40f"
         },
         "mode": "markers",
         "name": "gemini-1.5-flash",
         "showlegend": false,
         "type": "scatter",
         "x": [
          "!",
          "\"",
          "#",
          "$",
          "%",
          "&",
          "'",
          "(",
          ")",
          "*",
          "+",
          ",",
          "-",
          ".",
          "/",
          ":",
          ";",
          "<",
          "=",
          ">",
          "?",
          "@",
          "[",
          "\\",
          "]",
          "^",
          "_",
          "`",
          "{",
          "|",
          "}",
          "~"
         ],
         "xaxis": "x8",
         "y": [
          186,
          1342,
          32,
          0,
          0,
          0,
          928,
          1,
          1,
          1390,
          0,
          18270,
          458,
          8453,
          0,
          212,
          19,
          0,
          0,
          0,
          307,
          1,
          0,
          0,
          0,
          0,
          0,
          0,
          0,
          0,
          0,
          0
         ],
         "yaxis": "y8"
        },
        {
         "marker": {
          "color": "#f1c40f"
         },
         "mode": "markers",
         "name": "gemini-1.5-flash",
         "showlegend": false,
         "type": "scatter",
         "x": [
          "!",
          "\"",
          "#",
          "$",
          "%",
          "&",
          "'",
          "(",
          ")",
          "*",
          "+",
          ",",
          "-",
          ".",
          "/",
          ":",
          ";",
          "<",
          "=",
          ">",
          "?",
          "@",
          "[",
          "\\",
          "]",
          "^",
          "_",
          "`",
          "{",
          "|",
          "}",
          "~"
         ],
         "xaxis": "x9",
         "y": [
          20,
          1124,
          32,
          0,
          0,
          0,
          589,
          0,
          0,
          665,
          0,
          20837,
          371,
          8093,
          1,
          113,
          25,
          0,
          0,
          0,
          288,
          0,
          3,
          0,
          3,
          0,
          0,
          0,
          0,
          0,
          0,
          0
         ],
         "yaxis": "y9"
        },
        {
         "marker": {
          "color": "#f1c40f"
         },
         "mode": "markers",
         "name": "gemini-1.5-flash",
         "showlegend": false,
         "type": "scatter",
         "x": [
          "!",
          "\"",
          "#",
          "$",
          "%",
          "&",
          "'",
          "(",
          ")",
          "*",
          "+",
          ",",
          "-",
          ".",
          "/",
          ":",
          ";",
          "<",
          "=",
          ">",
          "?",
          "@",
          "[",
          "\\",
          "]",
          "^",
          "_",
          "`",
          "{",
          "|",
          "}",
          "~"
         ],
         "xaxis": "x10",
         "y": [
          530,
          4164,
          29,
          0,
          0,
          0,
          1444,
          7,
          7,
          1282,
          2,
          20034,
          647,
          7935,
          0,
          215,
          22,
          0,
          0,
          0,
          780,
          2,
          1,
          0,
          1,
          0,
          0,
          0,
          0,
          0,
          0,
          0
         ],
         "yaxis": "y10"
        },
        {
         "marker": {
          "color": "#9b59b6"
         },
         "mode": "markers",
         "name": "open-mixtral-8x7b",
         "showlegend": true,
         "type": "scatter",
         "x": [
          "!",
          "\"",
          "#",
          "$",
          "%",
          "&",
          "'",
          "(",
          ")",
          "*",
          "+",
          ",",
          "-",
          ".",
          "/",
          ":",
          ";",
          "<",
          "=",
          ">",
          "?",
          "@",
          "[",
          "\\",
          "]",
          "^",
          "_",
          "`",
          "{",
          "|",
          "}",
          "~"
         ],
         "xaxis": "x",
         "y": [
          117,
          821,
          0,
          3,
          1,
          0,
          2038,
          103,
          103,
          57,
          0,
          16609,
          835,
          7282,
          2,
          264,
          46,
          0,
          0,
          0,
          343,
          0,
          4,
          0,
          4,
          0,
          0,
          0,
          0,
          0,
          0,
          0
         ],
         "yaxis": "y"
        },
        {
         "marker": {
          "color": "#9b59b6"
         },
         "mode": "markers",
         "name": "open-mixtral-8x7b",
         "showlegend": false,
         "type": "scatter",
         "x": [
          "!",
          "\"",
          "#",
          "$",
          "%",
          "&",
          "'",
          "(",
          ")",
          "*",
          "+",
          ",",
          "-",
          ".",
          "/",
          ":",
          ";",
          "<",
          "=",
          ">",
          "?",
          "@",
          "[",
          "\\",
          "]",
          "^",
          "_",
          "`",
          "{",
          "|",
          "}",
          "~"
         ],
         "xaxis": "x2",
         "y": [
          31,
          1111,
          0,
          1,
          1,
          0,
          922,
          19,
          19,
          5,
          0,
          15206,
          592,
          7579,
          0,
          100,
          24,
          0,
          0,
          0,
          227,
          0,
          2,
          0,
          2,
          0,
          0,
          3,
          0,
          0,
          0,
          0
         ],
         "yaxis": "y2"
        },
        {
         "marker": {
          "color": "#9b59b6"
         },
         "mode": "markers",
         "name": "open-mixtral-8x7b",
         "showlegend": false,
         "type": "scatter",
         "x": [
          "!",
          "\"",
          "#",
          "$",
          "%",
          "&",
          "'",
          "(",
          ")",
          "*",
          "+",
          ",",
          "-",
          ".",
          "/",
          ":",
          ";",
          "<",
          "=",
          ">",
          "?",
          "@",
          "[",
          "\\",
          "]",
          "^",
          "_",
          "`",
          "{",
          "|",
          "}",
          "~"
         ],
         "xaxis": "x3",
         "y": [
          6,
          589,
          0,
          0,
          1,
          1,
          619,
          2,
          2,
          0,
          0,
          16740,
          668,
          6052,
          0,
          127,
          30,
          0,
          0,
          0,
          126,
          0,
          0,
          0,
          0,
          0,
          0,
          0,
          0,
          0,
          0,
          0
         ],
         "yaxis": "y3"
        },
        {
         "marker": {
          "color": "#9b59b6"
         },
         "mode": "markers",
         "name": "open-mixtral-8x7b",
         "showlegend": false,
         "type": "scatter",
         "x": [
          "!",
          "\"",
          "#",
          "$",
          "%",
          "&",
          "'",
          "(",
          ")",
          "*",
          "+",
          ",",
          "-",
          ".",
          "/",
          ":",
          ";",
          "<",
          "=",
          ">",
          "?",
          "@",
          "[",
          "\\",
          "]",
          "^",
          "_",
          "`",
          "{",
          "|",
          "}",
          "~"
         ],
         "xaxis": "x4",
         "y": [
          34,
          681,
          0,
          0,
          0,
          0,
          726,
          2,
          2,
          0,
          0,
          16062,
          868,
          5901,
          3,
          106,
          63,
          0,
          0,
          0,
          129,
          0,
          1,
          0,
          1,
          0,
          0,
          3,
          0,
          0,
          0,
          0
         ],
         "yaxis": "y4"
        },
        {
         "marker": {
          "color": "#9b59b6"
         },
         "mode": "markers",
         "name": "open-mixtral-8x7b",
         "showlegend": false,
         "type": "scatter",
         "x": [
          "!",
          "\"",
          "#",
          "$",
          "%",
          "&",
          "'",
          "(",
          ")",
          "*",
          "+",
          ",",
          "-",
          ".",
          "/",
          ":",
          ";",
          "<",
          "=",
          ">",
          "?",
          "@",
          "[",
          "\\",
          "]",
          "^",
          "_",
          "`",
          "{",
          "|",
          "}",
          "~"
         ],
         "xaxis": "x5",
         "y": [
          33,
          549,
          0,
          1,
          4,
          0,
          774,
          39,
          39,
          20,
          0,
          16674,
          682,
          6322,
          0,
          173,
          70,
          0,
          0,
          0,
          212,
          0,
          1,
          0,
          1,
          0,
          0,
          0,
          0,
          0,
          0,
          0
         ],
         "yaxis": "y5"
        },
        {
         "marker": {
          "color": "#9b59b6"
         },
         "mode": "markers",
         "name": "open-mixtral-8x7b",
         "showlegend": false,
         "type": "scatter",
         "x": [
          "!",
          "\"",
          "#",
          "$",
          "%",
          "&",
          "'",
          "(",
          ")",
          "*",
          "+",
          ",",
          "-",
          ".",
          "/",
          ":",
          ";",
          "<",
          "=",
          ">",
          "?",
          "@",
          "[",
          "\\",
          "]",
          "^",
          "_",
          "`",
          "{",
          "|",
          "}",
          "~"
         ],
         "xaxis": "x6",
         "y": [
          55,
          1511,
          0,
          1,
          2,
          0,
          1057,
          19,
          19,
          8,
          0,
          15773,
          685,
          7226,
          0,
          131,
          33,
          0,
          0,
          0,
          222,
          1,
          2,
          0,
          2,
          0,
          0,
          0,
          0,
          0,
          0,
          0
         ],
         "yaxis": "y6"
        },
        {
         "marker": {
          "color": "#9b59b6"
         },
         "mode": "markers",
         "name": "open-mixtral-8x7b",
         "showlegend": false,
         "type": "scatter",
         "x": [
          "!",
          "\"",
          "#",
          "$",
          "%",
          "&",
          "'",
          "(",
          ")",
          "*",
          "+",
          ",",
          "-",
          ".",
          "/",
          ":",
          ";",
          "<",
          "=",
          ">",
          "?",
          "@",
          "[",
          "\\",
          "]",
          "^",
          "_",
          "`",
          "{",
          "|",
          "}",
          "~"
         ],
         "xaxis": "x7",
         "y": [
          35,
          668,
          0,
          0,
          1,
          0,
          707,
          6,
          6,
          5,
          0,
          16002,
          745,
          6400,
          3,
          169,
          58,
          0,
          0,
          0,
          164,
          0,
          0,
          0,
          0,
          0,
          0,
          0,
          0,
          0,
          0,
          0
         ],
         "yaxis": "y7"
        },
        {
         "marker": {
          "color": "#9b59b6"
         },
         "mode": "markers",
         "name": "open-mixtral-8x7b",
         "showlegend": false,
         "type": "scatter",
         "x": [
          "!",
          "\"",
          "#",
          "$",
          "%",
          "&",
          "'",
          "(",
          ")",
          "*",
          "+",
          ",",
          "-",
          ".",
          "/",
          ":",
          ";",
          "<",
          "=",
          ">",
          "?",
          "@",
          "[",
          "\\",
          "]",
          "^",
          "_",
          "`",
          "{",
          "|",
          "}",
          "~"
         ],
         "xaxis": "x8",
         "y": [
          63,
          1152,
          0,
          0,
          0,
          0,
          797,
          14,
          14,
          13,
          0,
          15558,
          629,
          6960,
          2,
          103,
          54,
          0,
          0,
          0,
          198,
          0,
          2,
          0,
          2,
          0,
          0,
          0,
          0,
          0,
          0,
          0
         ],
         "yaxis": "y8"
        },
        {
         "marker": {
          "color": "#9b59b6"
         },
         "mode": "markers",
         "name": "open-mixtral-8x7b",
         "showlegend": false,
         "type": "scatter",
         "x": [
          "!",
          "\"",
          "#",
          "$",
          "%",
          "&",
          "'",
          "(",
          ")",
          "*",
          "+",
          ",",
          "-",
          ".",
          "/",
          ":",
          ";",
          "<",
          "=",
          ">",
          "?",
          "@",
          "[",
          "\\",
          "]",
          "^",
          "_",
          "`",
          "{",
          "|",
          "}",
          "~"
         ],
         "xaxis": "x9",
         "y": [
          9,
          429,
          0,
          0,
          2,
          0,
          629,
          1,
          1,
          0,
          0,
          16909,
          540,
          6280,
          0,
          128,
          48,
          0,
          0,
          1,
          180,
          0,
          0,
          0,
          0,
          0,
          0,
          0,
          0,
          0,
          0,
          0
         ],
         "yaxis": "y9"
        },
        {
         "marker": {
          "color": "#9b59b6"
         },
         "mode": "markers",
         "name": "open-mixtral-8x7b",
         "showlegend": false,
         "type": "scatter",
         "x": [
          "!",
          "\"",
          "#",
          "$",
          "%",
          "&",
          "'",
          "(",
          ")",
          "*",
          "+",
          ",",
          "-",
          ".",
          "/",
          ":",
          ";",
          "<",
          "=",
          ">",
          "?",
          "@",
          "[",
          "\\",
          "]",
          "^",
          "_",
          "`",
          "{",
          "|",
          "}",
          "~"
         ],
         "xaxis": "x10",
         "y": [
          224,
          2039,
          0,
          0,
          1,
          0,
          1289,
          94,
          94,
          20,
          0,
          16390,
          839,
          7438,
          1,
          198,
          53,
          0,
          0,
          0,
          425,
          0,
          3,
          0,
          3,
          0,
          0,
          0,
          0,
          0,
          0,
          0
         ],
         "yaxis": "y10"
        },
        {
         "marker": {
          "color": "#e67e22"
         },
         "mode": "markers",
         "name": "claude-3-haiku-20240307",
         "showlegend": true,
         "type": "scatter",
         "x": [
          "!",
          "\"",
          "#",
          "$",
          "%",
          "&",
          "'",
          "(",
          ")",
          "*",
          "+",
          ",",
          "-",
          ".",
          "/",
          ":",
          ";",
          "<",
          "=",
          ">",
          "?",
          "@",
          "[",
          "\\",
          "]",
          "^",
          "_",
          "`",
          "{",
          "|",
          "}",
          "~"
         ],
         "xaxis": "x",
         "y": [
          444,
          2137,
          0,
          0,
          0,
          1,
          5993,
          30,
          30,
          16,
          0,
          15426,
          1383,
          6977,
          0,
          82,
          8,
          0,
          0,
          0,
          881,
          0,
          0,
          0,
          0,
          0,
          16,
          0,
          0,
          0,
          0,
          0
         ],
         "yaxis": "y"
        },
        {
         "marker": {
          "color": "#e67e22"
         },
         "mode": "markers",
         "name": "claude-3-haiku-20240307",
         "showlegend": false,
         "type": "scatter",
         "x": [
          "!",
          "\"",
          "#",
          "$",
          "%",
          "&",
          "'",
          "(",
          ")",
          "*",
          "+",
          ",",
          "-",
          ".",
          "/",
          ":",
          ";",
          "<",
          "=",
          ">",
          "?",
          "@",
          "[",
          "\\",
          "]",
          "^",
          "_",
          "`",
          "{",
          "|",
          "}",
          "~"
         ],
         "xaxis": "x2",
         "y": [
          189,
          1936,
          0,
          0,
          0,
          0,
          2495,
          1,
          1,
          4,
          0,
          14668,
          978,
          7383,
          0,
          117,
          10,
          0,
          0,
          0,
          404,
          0,
          1,
          0,
          1,
          0,
          0,
          0,
          0,
          0,
          0,
          0
         ],
         "yaxis": "y2"
        },
        {
         "marker": {
          "color": "#e67e22"
         },
         "mode": "markers",
         "name": "claude-3-haiku-20240307",
         "showlegend": false,
         "type": "scatter",
         "x": [
          "!",
          "\"",
          "#",
          "$",
          "%",
          "&",
          "'",
          "(",
          ")",
          "*",
          "+",
          ",",
          "-",
          ".",
          "/",
          ":",
          ";",
          "<",
          "=",
          ">",
          "?",
          "@",
          "[",
          "\\",
          "]",
          "^",
          "_",
          "`",
          "{",
          "|",
          "}",
          "~"
         ],
         "xaxis": "x3",
         "y": [
          47,
          818,
          0,
          0,
          0,
          0,
          772,
          3,
          3,
          2,
          0,
          15736,
          735,
          6128,
          0,
          49,
          31,
          0,
          0,
          0,
          357,
          0,
          4,
          0,
          4,
          0,
          2,
          0,
          0,
          0,
          0,
          0
         ],
         "yaxis": "y3"
        },
        {
         "marker": {
          "color": "#e67e22"
         },
         "mode": "markers",
         "name": "claude-3-haiku-20240307",
         "showlegend": false,
         "type": "scatter",
         "x": [
          "!",
          "\"",
          "#",
          "$",
          "%",
          "&",
          "'",
          "(",
          ")",
          "*",
          "+",
          ",",
          "-",
          ".",
          "/",
          ":",
          ";",
          "<",
          "=",
          ">",
          "?",
          "@",
          "[",
          "\\",
          "]",
          "^",
          "_",
          "`",
          "{",
          "|",
          "}",
          "~"
         ],
         "xaxis": "x4",
         "y": [
          97,
          1196,
          0,
          0,
          0,
          0,
          894,
          6,
          6,
          0,
          0,
          14998,
          881,
          6076,
          0,
          71,
          28,
          0,
          0,
          0,
          398,
          0,
          0,
          0,
          0,
          0,
          0,
          0,
          0,
          0,
          0,
          0
         ],
         "yaxis": "y4"
        },
        {
         "marker": {
          "color": "#e67e22"
         },
         "mode": "markers",
         "name": "claude-3-haiku-20240307",
         "showlegend": false,
         "type": "scatter",
         "x": [
          "!",
          "\"",
          "#",
          "$",
          "%",
          "&",
          "'",
          "(",
          ")",
          "*",
          "+",
          ",",
          "-",
          ".",
          "/",
          ":",
          ";",
          "<",
          "=",
          ">",
          "?",
          "@",
          "[",
          "\\",
          "]",
          "^",
          "_",
          "`",
          "{",
          "|",
          "}",
          "~"
         ],
         "xaxis": "x5",
         "y": [
          148,
          620,
          0,
          0,
          0,
          0,
          612,
          8,
          8,
          4,
          0,
          15526,
          845,
          5950,
          0,
          25,
          21,
          0,
          0,
          0,
          458,
          0,
          0,
          0,
          0,
          0,
          0,
          0,
          0,
          0,
          0,
          0
         ],
         "yaxis": "y5"
        },
        {
         "marker": {
          "color": "#e67e22"
         },
         "mode": "markers",
         "name": "claude-3-haiku-20240307",
         "showlegend": false,
         "type": "scatter",
         "x": [
          "!",
          "\"",
          "#",
          "$",
          "%",
          "&",
          "'",
          "(",
          ")",
          "*",
          "+",
          ",",
          "-",
          ".",
          "/",
          ":",
          ";",
          "<",
          "=",
          ">",
          "?",
          "@",
          "[",
          "\\",
          "]",
          "^",
          "_",
          "`",
          "{",
          "|",
          "}",
          "~"
         ],
         "xaxis": "x6",
         "y": [
          370,
          1774,
          0,
          0,
          0,
          0,
          1341,
          6,
          6,
          2,
          0,
          14817,
          1053,
          7157,
          1,
          94,
          20,
          2,
          0,
          2,
          488,
          0,
          0,
          0,
          0,
          0,
          46,
          0,
          0,
          0,
          0,
          0
         ],
         "yaxis": "y6"
        },
        {
         "marker": {
          "color": "#e67e22"
         },
         "mode": "markers",
         "name": "claude-3-haiku-20240307",
         "showlegend": false,
         "type": "scatter",
         "x": [
          "!",
          "\"",
          "#",
          "$",
          "%",
          "&",
          "'",
          "(",
          ")",
          "*",
          "+",
          ",",
          "-",
          ".",
          "/",
          ":",
          ";",
          "<",
          "=",
          ">",
          "?",
          "@",
          "[",
          "\\",
          "]",
          "^",
          "_",
          "`",
          "{",
          "|",
          "}",
          "~"
         ],
         "xaxis": "x7",
         "y": [
          115,
          925,
          0,
          0,
          0,
          0,
          765,
          2,
          2,
          6,
          0,
          15137,
          955,
          6112,
          1,
          78,
          19,
          0,
          0,
          0,
          334,
          0,
          0,
          0,
          0,
          0,
          0,
          0,
          0,
          0,
          0,
          0
         ],
         "yaxis": "y7"
        },
        {
         "marker": {
          "color": "#e67e22"
         },
         "mode": "markers",
         "name": "claude-3-haiku-20240307",
         "showlegend": false,
         "type": "scatter",
         "x": [
          "!",
          "\"",
          "#",
          "$",
          "%",
          "&",
          "'",
          "(",
          ")",
          "*",
          "+",
          ",",
          "-",
          ".",
          "/",
          ":",
          ";",
          "<",
          "=",
          ">",
          "?",
          "@",
          "[",
          "\\",
          "]",
          "^",
          "_",
          "`",
          "{",
          "|",
          "}",
          "~"
         ],
         "xaxis": "x8",
         "y": [
          230,
          1430,
          0,
          0,
          0,
          1,
          992,
          3,
          3,
          6,
          0,
          15120,
          847,
          6621,
          0,
          54,
          28,
          0,
          0,
          0,
          451,
          0,
          1,
          0,
          1,
          0,
          0,
          0,
          0,
          0,
          0,
          0
         ],
         "yaxis": "y8"
        },
        {
         "marker": {
          "color": "#e67e22"
         },
         "mode": "markers",
         "name": "claude-3-haiku-20240307",
         "showlegend": false,
         "type": "scatter",
         "x": [
          "!",
          "\"",
          "#",
          "$",
          "%",
          "&",
          "'",
          "(",
          ")",
          "*",
          "+",
          ",",
          "-",
          ".",
          "/",
          ":",
          ";",
          "<",
          "=",
          ">",
          "?",
          "@",
          "[",
          "\\",
          "]",
          "^",
          "_",
          "`",
          "{",
          "|",
          "}",
          "~"
         ],
         "xaxis": "x9",
         "y": [
          106,
          757,
          0,
          0,
          0,
          0,
          789,
          1,
          1,
          4,
          0,
          16542,
          817,
          6202,
          1,
          85,
          23,
          0,
          0,
          0,
          575,
          0,
          1,
          0,
          1,
          0,
          2,
          0,
          0,
          0,
          0,
          0
         ],
         "yaxis": "y9"
        },
        {
         "marker": {
          "color": "#e67e22"
         },
         "mode": "markers",
         "name": "claude-3-haiku-20240307",
         "showlegend": false,
         "type": "scatter",
         "x": [
          "!",
          "\"",
          "#",
          "$",
          "%",
          "&",
          "'",
          "(",
          ")",
          "*",
          "+",
          ",",
          "-",
          ".",
          "/",
          ":",
          ";",
          "<",
          "=",
          ">",
          "?",
          "@",
          "[",
          "\\",
          "]",
          "^",
          "_",
          "`",
          "{",
          "|",
          "}",
          "~"
         ],
         "xaxis": "x10",
         "y": [
          402,
          1617,
          0,
          0,
          0,
          0,
          913,
          16,
          16,
          18,
          0,
          16677,
          919,
          6084,
          1,
          48,
          30,
          0,
          0,
          0,
          542,
          0,
          0,
          0,
          0,
          0,
          26,
          0,
          0,
          0,
          0,
          0
         ],
         "yaxis": "y10"
        }
       ],
       "layout": {
        "annotations": [
         {
          "font": {
           "size": 16
          },
          "showarrow": false,
          "text": "Mark Twain",
          "x": 0.14444444444444446,
          "xanchor": "center",
          "xref": "paper",
          "y": 1,
          "yanchor": "bottom",
          "yref": "paper"
         },
         {
          "font": {
           "size": 16
          },
          "showarrow": false,
          "text": "Zane Grey",
          "x": 0.5,
          "xanchor": "center",
          "xref": "paper",
          "y": 1,
          "yanchor": "bottom",
          "yref": "paper"
         },
         {
          "font": {
           "size": 16
          },
          "showarrow": false,
          "text": "Joseph Conrad",
          "x": 0.8555555555555556,
          "xanchor": "center",
          "xref": "paper",
          "y": 1,
          "yanchor": "bottom",
          "yref": "paper"
         },
         {
          "font": {
           "size": 16
          },
          "showarrow": false,
          "text": "George Eliot",
          "x": 0.14444444444444446,
          "xanchor": "center",
          "xref": "paper",
          "y": 0.71875,
          "yanchor": "bottom",
          "yref": "paper"
         },
         {
          "font": {
           "size": 16
          },
          "showarrow": false,
          "text": "Benjamin Disraeli",
          "x": 0.5,
          "xanchor": "center",
          "xref": "paper",
          "y": 0.71875,
          "yanchor": "bottom",
          "yref": "paper"
         },
         {
          "font": {
           "size": 16
          },
          "showarrow": false,
          "text": "Lucy Maud Montgomery",
          "x": 0.8555555555555556,
          "xanchor": "center",
          "xref": "paper",
          "y": 0.71875,
          "yanchor": "bottom",
          "yref": "paper"
         },
         {
          "font": {
           "size": 16
          },
          "showarrow": false,
          "text": "William Henry Hudson",
          "x": 0.14444444444444446,
          "xanchor": "center",
          "xref": "paper",
          "y": 0.4375,
          "yanchor": "bottom",
          "yref": "paper"
         },
         {
          "font": {
           "size": 16
          },
          "showarrow": false,
          "text": "Howard Pyle",
          "x": 0.5,
          "xanchor": "center",
          "xref": "paper",
          "y": 0.4375,
          "yanchor": "bottom",
          "yref": "paper"
         },
         {
          "font": {
           "size": 16
          },
          "showarrow": false,
          "text": "Virginia Woolf",
          "x": 0.8555555555555556,
          "xanchor": "center",
          "xref": "paper",
          "y": 0.4375,
          "yanchor": "bottom",
          "yref": "paper"
         },
         {
          "font": {
           "size": 16
          },
          "showarrow": false,
          "text": "Lewis Carroll",
          "x": 0.14444444444444446,
          "xanchor": "center",
          "xref": "paper",
          "y": 0.15625,
          "yanchor": "bottom",
          "yref": "paper"
         }
        ],
        "height": 1500,
        "template": {
         "data": {
          "bar": [
           {
            "error_x": {
             "color": "#2a3f5f"
            },
            "error_y": {
             "color": "#2a3f5f"
            },
            "marker": {
             "line": {
              "color": "#E5ECF6",
              "width": 0.5
             },
             "pattern": {
              "fillmode": "overlay",
              "size": 10,
              "solidity": 0.2
             }
            },
            "type": "bar"
           }
          ],
          "barpolar": [
           {
            "marker": {
             "line": {
              "color": "#E5ECF6",
              "width": 0.5
             },
             "pattern": {
              "fillmode": "overlay",
              "size": 10,
              "solidity": 0.2
             }
            },
            "type": "barpolar"
           }
          ],
          "carpet": [
           {
            "aaxis": {
             "endlinecolor": "#2a3f5f",
             "gridcolor": "white",
             "linecolor": "white",
             "minorgridcolor": "white",
             "startlinecolor": "#2a3f5f"
            },
            "baxis": {
             "endlinecolor": "#2a3f5f",
             "gridcolor": "white",
             "linecolor": "white",
             "minorgridcolor": "white",
             "startlinecolor": "#2a3f5f"
            },
            "type": "carpet"
           }
          ],
          "choropleth": [
           {
            "colorbar": {
             "outlinewidth": 0,
             "ticks": ""
            },
            "type": "choropleth"
           }
          ],
          "contour": [
           {
            "colorbar": {
             "outlinewidth": 0,
             "ticks": ""
            },
            "colorscale": [
             [
              0,
              "#0d0887"
             ],
             [
              0.1111111111111111,
              "#46039f"
             ],
             [
              0.2222222222222222,
              "#7201a8"
             ],
             [
              0.3333333333333333,
              "#9c179e"
             ],
             [
              0.4444444444444444,
              "#bd3786"
             ],
             [
              0.5555555555555556,
              "#d8576b"
             ],
             [
              0.6666666666666666,
              "#ed7953"
             ],
             [
              0.7777777777777778,
              "#fb9f3a"
             ],
             [
              0.8888888888888888,
              "#fdca26"
             ],
             [
              1,
              "#f0f921"
             ]
            ],
            "type": "contour"
           }
          ],
          "contourcarpet": [
           {
            "colorbar": {
             "outlinewidth": 0,
             "ticks": ""
            },
            "type": "contourcarpet"
           }
          ],
          "heatmap": [
           {
            "colorbar": {
             "outlinewidth": 0,
             "ticks": ""
            },
            "colorscale": [
             [
              0,
              "#0d0887"
             ],
             [
              0.1111111111111111,
              "#46039f"
             ],
             [
              0.2222222222222222,
              "#7201a8"
             ],
             [
              0.3333333333333333,
              "#9c179e"
             ],
             [
              0.4444444444444444,
              "#bd3786"
             ],
             [
              0.5555555555555556,
              "#d8576b"
             ],
             [
              0.6666666666666666,
              "#ed7953"
             ],
             [
              0.7777777777777778,
              "#fb9f3a"
             ],
             [
              0.8888888888888888,
              "#fdca26"
             ],
             [
              1,
              "#f0f921"
             ]
            ],
            "type": "heatmap"
           }
          ],
          "heatmapgl": [
           {
            "colorbar": {
             "outlinewidth": 0,
             "ticks": ""
            },
            "colorscale": [
             [
              0,
              "#0d0887"
             ],
             [
              0.1111111111111111,
              "#46039f"
             ],
             [
              0.2222222222222222,
              "#7201a8"
             ],
             [
              0.3333333333333333,
              "#9c179e"
             ],
             [
              0.4444444444444444,
              "#bd3786"
             ],
             [
              0.5555555555555556,
              "#d8576b"
             ],
             [
              0.6666666666666666,
              "#ed7953"
             ],
             [
              0.7777777777777778,
              "#fb9f3a"
             ],
             [
              0.8888888888888888,
              "#fdca26"
             ],
             [
              1,
              "#f0f921"
             ]
            ],
            "type": "heatmapgl"
           }
          ],
          "histogram": [
           {
            "marker": {
             "pattern": {
              "fillmode": "overlay",
              "size": 10,
              "solidity": 0.2
             }
            },
            "type": "histogram"
           }
          ],
          "histogram2d": [
           {
            "colorbar": {
             "outlinewidth": 0,
             "ticks": ""
            },
            "colorscale": [
             [
              0,
              "#0d0887"
             ],
             [
              0.1111111111111111,
              "#46039f"
             ],
             [
              0.2222222222222222,
              "#7201a8"
             ],
             [
              0.3333333333333333,
              "#9c179e"
             ],
             [
              0.4444444444444444,
              "#bd3786"
             ],
             [
              0.5555555555555556,
              "#d8576b"
             ],
             [
              0.6666666666666666,
              "#ed7953"
             ],
             [
              0.7777777777777778,
              "#fb9f3a"
             ],
             [
              0.8888888888888888,
              "#fdca26"
             ],
             [
              1,
              "#f0f921"
             ]
            ],
            "type": "histogram2d"
           }
          ],
          "histogram2dcontour": [
           {
            "colorbar": {
             "outlinewidth": 0,
             "ticks": ""
            },
            "colorscale": [
             [
              0,
              "#0d0887"
             ],
             [
              0.1111111111111111,
              "#46039f"
             ],
             [
              0.2222222222222222,
              "#7201a8"
             ],
             [
              0.3333333333333333,
              "#9c179e"
             ],
             [
              0.4444444444444444,
              "#bd3786"
             ],
             [
              0.5555555555555556,
              "#d8576b"
             ],
             [
              0.6666666666666666,
              "#ed7953"
             ],
             [
              0.7777777777777778,
              "#fb9f3a"
             ],
             [
              0.8888888888888888,
              "#fdca26"
             ],
             [
              1,
              "#f0f921"
             ]
            ],
            "type": "histogram2dcontour"
           }
          ],
          "mesh3d": [
           {
            "colorbar": {
             "outlinewidth": 0,
             "ticks": ""
            },
            "type": "mesh3d"
           }
          ],
          "parcoords": [
           {
            "line": {
             "colorbar": {
              "outlinewidth": 0,
              "ticks": ""
             }
            },
            "type": "parcoords"
           }
          ],
          "pie": [
           {
            "automargin": true,
            "type": "pie"
           }
          ],
          "scatter": [
           {
            "fillpattern": {
             "fillmode": "overlay",
             "size": 10,
             "solidity": 0.2
            },
            "type": "scatter"
           }
          ],
          "scatter3d": [
           {
            "line": {
             "colorbar": {
              "outlinewidth": 0,
              "ticks": ""
             }
            },
            "marker": {
             "colorbar": {
              "outlinewidth": 0,
              "ticks": ""
             }
            },
            "type": "scatter3d"
           }
          ],
          "scattercarpet": [
           {
            "marker": {
             "colorbar": {
              "outlinewidth": 0,
              "ticks": ""
             }
            },
            "type": "scattercarpet"
           }
          ],
          "scattergeo": [
           {
            "marker": {
             "colorbar": {
              "outlinewidth": 0,
              "ticks": ""
             }
            },
            "type": "scattergeo"
           }
          ],
          "scattergl": [
           {
            "marker": {
             "colorbar": {
              "outlinewidth": 0,
              "ticks": ""
             }
            },
            "type": "scattergl"
           }
          ],
          "scattermapbox": [
           {
            "marker": {
             "colorbar": {
              "outlinewidth": 0,
              "ticks": ""
             }
            },
            "type": "scattermapbox"
           }
          ],
          "scatterpolar": [
           {
            "marker": {
             "colorbar": {
              "outlinewidth": 0,
              "ticks": ""
             }
            },
            "type": "scatterpolar"
           }
          ],
          "scatterpolargl": [
           {
            "marker": {
             "colorbar": {
              "outlinewidth": 0,
              "ticks": ""
             }
            },
            "type": "scatterpolargl"
           }
          ],
          "scatterternary": [
           {
            "marker": {
             "colorbar": {
              "outlinewidth": 0,
              "ticks": ""
             }
            },
            "type": "scatterternary"
           }
          ],
          "surface": [
           {
            "colorbar": {
             "outlinewidth": 0,
             "ticks": ""
            },
            "colorscale": [
             [
              0,
              "#0d0887"
             ],
             [
              0.1111111111111111,
              "#46039f"
             ],
             [
              0.2222222222222222,
              "#7201a8"
             ],
             [
              0.3333333333333333,
              "#9c179e"
             ],
             [
              0.4444444444444444,
              "#bd3786"
             ],
             [
              0.5555555555555556,
              "#d8576b"
             ],
             [
              0.6666666666666666,
              "#ed7953"
             ],
             [
              0.7777777777777778,
              "#fb9f3a"
             ],
             [
              0.8888888888888888,
              "#fdca26"
             ],
             [
              1,
              "#f0f921"
             ]
            ],
            "type": "surface"
           }
          ],
          "table": [
           {
            "cells": {
             "fill": {
              "color": "#EBF0F8"
             },
             "line": {
              "color": "white"
             }
            },
            "header": {
             "fill": {
              "color": "#C8D4E3"
             },
             "line": {
              "color": "white"
             }
            },
            "type": "table"
           }
          ]
         },
         "layout": {
          "annotationdefaults": {
           "arrowcolor": "#2a3f5f",
           "arrowhead": 0,
           "arrowwidth": 1
          },
          "autotypenumbers": "strict",
          "coloraxis": {
           "colorbar": {
            "outlinewidth": 0,
            "ticks": ""
           }
          },
          "colorscale": {
           "diverging": [
            [
             0,
             "#8e0152"
            ],
            [
             0.1,
             "#c51b7d"
            ],
            [
             0.2,
             "#de77ae"
            ],
            [
             0.3,
             "#f1b6da"
            ],
            [
             0.4,
             "#fde0ef"
            ],
            [
             0.5,
             "#f7f7f7"
            ],
            [
             0.6,
             "#e6f5d0"
            ],
            [
             0.7,
             "#b8e186"
            ],
            [
             0.8,
             "#7fbc41"
            ],
            [
             0.9,
             "#4d9221"
            ],
            [
             1,
             "#276419"
            ]
           ],
           "sequential": [
            [
             0,
             "#0d0887"
            ],
            [
             0.1111111111111111,
             "#46039f"
            ],
            [
             0.2222222222222222,
             "#7201a8"
            ],
            [
             0.3333333333333333,
             "#9c179e"
            ],
            [
             0.4444444444444444,
             "#bd3786"
            ],
            [
             0.5555555555555556,
             "#d8576b"
            ],
            [
             0.6666666666666666,
             "#ed7953"
            ],
            [
             0.7777777777777778,
             "#fb9f3a"
            ],
            [
             0.8888888888888888,
             "#fdca26"
            ],
            [
             1,
             "#f0f921"
            ]
           ],
           "sequentialminus": [
            [
             0,
             "#0d0887"
            ],
            [
             0.1111111111111111,
             "#46039f"
            ],
            [
             0.2222222222222222,
             "#7201a8"
            ],
            [
             0.3333333333333333,
             "#9c179e"
            ],
            [
             0.4444444444444444,
             "#bd3786"
            ],
            [
             0.5555555555555556,
             "#d8576b"
            ],
            [
             0.6666666666666666,
             "#ed7953"
            ],
            [
             0.7777777777777778,
             "#fb9f3a"
            ],
            [
             0.8888888888888888,
             "#fdca26"
            ],
            [
             1,
             "#f0f921"
            ]
           ]
          },
          "colorway": [
           "#636efa",
           "#EF553B",
           "#00cc96",
           "#ab63fa",
           "#FFA15A",
           "#19d3f3",
           "#FF6692",
           "#B6E880",
           "#FF97FF",
           "#FECB52"
          ],
          "font": {
           "color": "#2a3f5f"
          },
          "geo": {
           "bgcolor": "white",
           "lakecolor": "white",
           "landcolor": "#E5ECF6",
           "showlakes": true,
           "showland": true,
           "subunitcolor": "white"
          },
          "hoverlabel": {
           "align": "left"
          },
          "hovermode": "closest",
          "mapbox": {
           "style": "light"
          },
          "paper_bgcolor": "white",
          "plot_bgcolor": "#E5ECF6",
          "polar": {
           "angularaxis": {
            "gridcolor": "white",
            "linecolor": "white",
            "ticks": ""
           },
           "bgcolor": "#E5ECF6",
           "radialaxis": {
            "gridcolor": "white",
            "linecolor": "white",
            "ticks": ""
           }
          },
          "scene": {
           "xaxis": {
            "backgroundcolor": "#E5ECF6",
            "gridcolor": "white",
            "gridwidth": 2,
            "linecolor": "white",
            "showbackground": true,
            "ticks": "",
            "zerolinecolor": "white"
           },
           "yaxis": {
            "backgroundcolor": "#E5ECF6",
            "gridcolor": "white",
            "gridwidth": 2,
            "linecolor": "white",
            "showbackground": true,
            "ticks": "",
            "zerolinecolor": "white"
           },
           "zaxis": {
            "backgroundcolor": "#E5ECF6",
            "gridcolor": "white",
            "gridwidth": 2,
            "linecolor": "white",
            "showbackground": true,
            "ticks": "",
            "zerolinecolor": "white"
           }
          },
          "shapedefaults": {
           "line": {
            "color": "#2a3f5f"
           }
          },
          "ternary": {
           "aaxis": {
            "gridcolor": "white",
            "linecolor": "white",
            "ticks": ""
           },
           "baxis": {
            "gridcolor": "white",
            "linecolor": "white",
            "ticks": ""
           },
           "bgcolor": "#E5ECF6",
           "caxis": {
            "gridcolor": "white",
            "linecolor": "white",
            "ticks": ""
           }
          },
          "title": {
           "x": 0.05
          },
          "xaxis": {
           "automargin": true,
           "gridcolor": "white",
           "linecolor": "white",
           "ticks": "",
           "title": {
            "standoff": 15
           },
           "zerolinecolor": "white",
           "zerolinewidth": 2
          },
          "yaxis": {
           "automargin": true,
           "gridcolor": "white",
           "linecolor": "white",
           "ticks": "",
           "title": {
            "standoff": 15
           },
           "zerolinecolor": "white",
           "zerolinewidth": 2
          }
         }
        },
        "title": {
         "text": "Punctuation frequency",
         "x": 0.5
        },
        "xaxis": {
         "anchor": "y",
         "domain": [
          0,
          0.2888888888888889
         ]
        },
        "xaxis10": {
         "anchor": "y10",
         "domain": [
          0,
          0.2888888888888889
         ]
        },
        "xaxis11": {
         "anchor": "y11",
         "domain": [
          0.35555555555555557,
          0.6444444444444445
         ]
        },
        "xaxis12": {
         "anchor": "y12",
         "domain": [
          0.7111111111111111,
          1
         ]
        },
        "xaxis2": {
         "anchor": "y2",
         "domain": [
          0.35555555555555557,
          0.6444444444444445
         ]
        },
        "xaxis3": {
         "anchor": "y3",
         "domain": [
          0.7111111111111111,
          1
         ]
        },
        "xaxis4": {
         "anchor": "y4",
         "domain": [
          0,
          0.2888888888888889
         ]
        },
        "xaxis5": {
         "anchor": "y5",
         "domain": [
          0.35555555555555557,
          0.6444444444444445
         ]
        },
        "xaxis6": {
         "anchor": "y6",
         "domain": [
          0.7111111111111111,
          1
         ]
        },
        "xaxis7": {
         "anchor": "y7",
         "domain": [
          0,
          0.2888888888888889
         ]
        },
        "xaxis8": {
         "anchor": "y8",
         "domain": [
          0.35555555555555557,
          0.6444444444444445
         ]
        },
        "xaxis9": {
         "anchor": "y9",
         "domain": [
          0.7111111111111111,
          1
         ]
        },
        "yaxis": {
         "anchor": "x",
         "domain": [
          0.84375,
          1
         ]
        },
        "yaxis10": {
         "anchor": "x10",
         "domain": [
          0,
          0.15625
         ]
        },
        "yaxis11": {
         "anchor": "x11",
         "domain": [
          0,
          0.15625
         ]
        },
        "yaxis12": {
         "anchor": "x12",
         "domain": [
          0,
          0.15625
         ]
        },
        "yaxis2": {
         "anchor": "x2",
         "domain": [
          0.84375,
          1
         ]
        },
        "yaxis3": {
         "anchor": "x3",
         "domain": [
          0.84375,
          1
         ]
        },
        "yaxis4": {
         "anchor": "x4",
         "domain": [
          0.5625,
          0.71875
         ]
        },
        "yaxis5": {
         "anchor": "x5",
         "domain": [
          0.5625,
          0.71875
         ]
        },
        "yaxis6": {
         "anchor": "x6",
         "domain": [
          0.5625,
          0.71875
         ]
        },
        "yaxis7": {
         "anchor": "x7",
         "domain": [
          0.28125,
          0.4375
         ]
        },
        "yaxis8": {
         "anchor": "x8",
         "domain": [
          0.28125,
          0.4375
         ]
        },
        "yaxis9": {
         "anchor": "x9",
         "domain": [
          0.28125,
          0.4375
         ]
        }
       }
      }
     },
     "metadata": {},
     "output_type": "display_data"
    },
    {
     "data": {
      "application/vnd.plotly.v1+json": {
       "config": {
        "plotlyServerURL": "https://plot.ly"
       },
       "data": [
        {
         "hoverinfo": "text",
         "marker": {
          "color": "#3498db"
         },
         "mode": "markers",
         "name": "books",
         "text": [
          "Mark Twain",
          "Zane Grey",
          "Joseph Conrad",
          "George Eliot",
          "Benjamin Disraeli",
          "Lucy Maud Montgomery",
          "William Henry Hudson",
          "Howard Pyle",
          "Virginia Woolf",
          "Lewis Carroll"
         ],
         "type": "scatter",
         "x": [
          7.023114958360675,
          7.769629467760454,
          6.256444960781058,
          4.981502583506314,
          5.802289893486102,
          7.277916044426759,
          2.961946910019369,
          6.086475045166807,
          5.702108060577554,
          27.34501278828436
         ],
         "y": [
          4.1045684604104204,
          7.362140814667745,
          5.973831310180072,
          4.684297854577776,
          3.7838372124095834,
          7.362792638478768,
          2.4333240345725833,
          2.32888191680878,
          6.878033075536232,
          -15.111948888514027
         ]
        },
        {
         "hoverinfo": "text",
         "marker": {
          "color": "#e74c3c"
         },
         "mode": "markers",
         "name": "gpt-3.5-turbo-0125",
         "text": [
          "Mark Twain",
          "Zane Grey",
          "Joseph Conrad",
          "George Eliot",
          "Benjamin Disraeli",
          "Lucy Maud Montgomery",
          "William Henry Hudson",
          "Howard Pyle",
          "Virginia Woolf",
          "Lewis Carroll"
         ],
         "type": "scatter",
         "x": [
          -0.09214356057802965,
          -2.011858156035309,
          -2.7875100018827266,
          -2.8219847163215444,
          -2.569811302822307,
          -1.6729463822741797,
          -3.059320977967178,
          -1.6906189948526924,
          -2.980672219307934,
          -1.8394219547206823
         ],
         "y": [
          0.9857001699260086,
          -0.213492261355383,
          -0.9602552557464366,
          -0.9492328377822052,
          -0.8563447905567068,
          0.1397546845729552,
          -1.1040877307241297,
          -0.05387983957053791,
          -1.0828399123134458,
          -0.021413000528687293
         ]
        },
        {
         "hoverinfo": "text",
         "marker": {
          "color": "#2ecc71"
         },
         "mode": "markers",
         "name": "gpt-4o",
         "text": [
          "Mark Twain",
          "Zane Grey",
          "Joseph Conrad",
          "George Eliot",
          "Benjamin Disraeli",
          "Lucy Maud Montgomery",
          "William Henry Hudson",
          "Howard Pyle",
          "Virginia Woolf",
          "Lewis Carroll"
         ],
         "type": "scatter",
         "x": [
          1.9839883570331984,
          -0.4124259311387655,
          -1.644100358946283,
          -1.2944114940085347,
          -1.9718905365427049,
          -0.5016760060218923,
          -1.2420345413711766,
          -0.7120630998712238,
          -1.4319248498306951,
          0.371468919223614
         ],
         "y": [
          1.3856398988172036,
          -0.11195100654913202,
          -1.1584704121015033,
          -0.9115512336065664,
          -1.5527734607096444,
          -0.09194692880414894,
          -0.8370481239284117,
          -0.1852497563821434,
          -0.9111651570283776,
          0.2810852527604831
         ]
        },
        {
         "hoverinfo": "text",
         "marker": {
          "color": "#f1c40f"
         },
         "mode": "markers",
         "name": "gemini-1.5-flash",
         "text": [
          "Mark Twain",
          "Zane Grey",
          "Joseph Conrad",
          "George Eliot",
          "Benjamin Disraeli",
          "Lucy Maud Montgomery",
          "William Henry Hudson",
          "Howard Pyle",
          "Virginia Woolf",
          "Lewis Carroll"
         ],
         "type": "scatter",
         "x": [
          2.6703966224272975,
          -0.4196198836693864,
          -2.3254171524888854,
          -2.653008988920299,
          -2.6538692697614215,
          -0.4557690218694684,
          -2.5100056757362394,
          -0.7991111302933102,
          -2.5327929527874344,
          0.16732052842926948
         ],
         "y": [
          2.31251100464322,
          0.6568480695742505,
          -1.1891232969170467,
          -1.4886640137641318,
          -1.8234663124620702,
          0.05176950334521468,
          -1.4325401146800816,
          -0.09063498226787282,
          -1.307443261562365,
          0.17029352031100353
         ]
        },
        {
         "hoverinfo": "text",
         "marker": {
          "color": "#9b59b6"
         },
         "mode": "markers",
         "name": "open-mixtral-8x7b",
         "text": [
          "Mark Twain",
          "Zane Grey",
          "Joseph Conrad",
          "George Eliot",
          "Benjamin Disraeli",
          "Lucy Maud Montgomery",
          "William Henry Hudson",
          "Howard Pyle",
          "Virginia Woolf",
          "Lewis Carroll"
         ],
         "type": "scatter",
         "x": [
          0.7314783763842271,
          -1.2470279186393614,
          -3.615679532523655,
          -3.9139940752458156,
          -2.7328720084097493,
          -1.696144414505755,
          -2.8575248975501113,
          -1.9393341284693937,
          -4.063316454623421,
          -0.34555188911846096
         ],
         "y": [
          0.7386674076779247,
          0.23903780415568598,
          -2.0201852167171332,
          -2.081456358096478,
          -1.5111027335744927,
          -0.426080325774303,
          -1.3048584826263314,
          -0.5553025475336062,
          -2.248167838938507,
          0.05628890391079732
         ]
        },
        {
         "hoverinfo": "text",
         "marker": {
          "color": "#e67e22"
         },
         "mode": "markers",
         "name": "claude-3-haiku-20240307",
         "text": [
          "Mark Twain",
          "Zane Grey",
          "Joseph Conrad",
          "George Eliot",
          "Benjamin Disraeli",
          "Lucy Maud Montgomery",
          "William Henry Hudson",
          "Howard Pyle",
          "Virginia Woolf",
          "Lewis Carroll"
         ],
         "type": "scatter",
         "x": [
          2.775254842476863,
          -0.3413033285288033,
          -3.5721636995039585,
          -3.6230673570376384,
          -3.763922769447202,
          -0.4328870529621672,
          -3.5351261795085858,
          -1.951428276229669,
          -3.246270547770089,
          -1.9423246682497792
         ],
         "y": [
          2.426042482761225,
          0.624000570760545,
          -1.9774331988874563,
          -2.031664260771566,
          -2.199530564824254,
          0.4512025770479439,
          -2.012134067209015,
          -0.8081725933234063,
          -1.773231820862172,
          -1.0357065809126236
         ]
        }
       ],
       "layout": {
        "legend": {
         "title": {
          "text": "Collection Name"
         }
        },
        "template": {
         "data": {
          "bar": [
           {
            "error_x": {
             "color": "#2a3f5f"
            },
            "error_y": {
             "color": "#2a3f5f"
            },
            "marker": {
             "line": {
              "color": "#E5ECF6",
              "width": 0.5
             },
             "pattern": {
              "fillmode": "overlay",
              "size": 10,
              "solidity": 0.2
             }
            },
            "type": "bar"
           }
          ],
          "barpolar": [
           {
            "marker": {
             "line": {
              "color": "#E5ECF6",
              "width": 0.5
             },
             "pattern": {
              "fillmode": "overlay",
              "size": 10,
              "solidity": 0.2
             }
            },
            "type": "barpolar"
           }
          ],
          "carpet": [
           {
            "aaxis": {
             "endlinecolor": "#2a3f5f",
             "gridcolor": "white",
             "linecolor": "white",
             "minorgridcolor": "white",
             "startlinecolor": "#2a3f5f"
            },
            "baxis": {
             "endlinecolor": "#2a3f5f",
             "gridcolor": "white",
             "linecolor": "white",
             "minorgridcolor": "white",
             "startlinecolor": "#2a3f5f"
            },
            "type": "carpet"
           }
          ],
          "choropleth": [
           {
            "colorbar": {
             "outlinewidth": 0,
             "ticks": ""
            },
            "type": "choropleth"
           }
          ],
          "contour": [
           {
            "colorbar": {
             "outlinewidth": 0,
             "ticks": ""
            },
            "colorscale": [
             [
              0,
              "#0d0887"
             ],
             [
              0.1111111111111111,
              "#46039f"
             ],
             [
              0.2222222222222222,
              "#7201a8"
             ],
             [
              0.3333333333333333,
              "#9c179e"
             ],
             [
              0.4444444444444444,
              "#bd3786"
             ],
             [
              0.5555555555555556,
              "#d8576b"
             ],
             [
              0.6666666666666666,
              "#ed7953"
             ],
             [
              0.7777777777777778,
              "#fb9f3a"
             ],
             [
              0.8888888888888888,
              "#fdca26"
             ],
             [
              1,
              "#f0f921"
             ]
            ],
            "type": "contour"
           }
          ],
          "contourcarpet": [
           {
            "colorbar": {
             "outlinewidth": 0,
             "ticks": ""
            },
            "type": "contourcarpet"
           }
          ],
          "heatmap": [
           {
            "colorbar": {
             "outlinewidth": 0,
             "ticks": ""
            },
            "colorscale": [
             [
              0,
              "#0d0887"
             ],
             [
              0.1111111111111111,
              "#46039f"
             ],
             [
              0.2222222222222222,
              "#7201a8"
             ],
             [
              0.3333333333333333,
              "#9c179e"
             ],
             [
              0.4444444444444444,
              "#bd3786"
             ],
             [
              0.5555555555555556,
              "#d8576b"
             ],
             [
              0.6666666666666666,
              "#ed7953"
             ],
             [
              0.7777777777777778,
              "#fb9f3a"
             ],
             [
              0.8888888888888888,
              "#fdca26"
             ],
             [
              1,
              "#f0f921"
             ]
            ],
            "type": "heatmap"
           }
          ],
          "heatmapgl": [
           {
            "colorbar": {
             "outlinewidth": 0,
             "ticks": ""
            },
            "colorscale": [
             [
              0,
              "#0d0887"
             ],
             [
              0.1111111111111111,
              "#46039f"
             ],
             [
              0.2222222222222222,
              "#7201a8"
             ],
             [
              0.3333333333333333,
              "#9c179e"
             ],
             [
              0.4444444444444444,
              "#bd3786"
             ],
             [
              0.5555555555555556,
              "#d8576b"
             ],
             [
              0.6666666666666666,
              "#ed7953"
             ],
             [
              0.7777777777777778,
              "#fb9f3a"
             ],
             [
              0.8888888888888888,
              "#fdca26"
             ],
             [
              1,
              "#f0f921"
             ]
            ],
            "type": "heatmapgl"
           }
          ],
          "histogram": [
           {
            "marker": {
             "pattern": {
              "fillmode": "overlay",
              "size": 10,
              "solidity": 0.2
             }
            },
            "type": "histogram"
           }
          ],
          "histogram2d": [
           {
            "colorbar": {
             "outlinewidth": 0,
             "ticks": ""
            },
            "colorscale": [
             [
              0,
              "#0d0887"
             ],
             [
              0.1111111111111111,
              "#46039f"
             ],
             [
              0.2222222222222222,
              "#7201a8"
             ],
             [
              0.3333333333333333,
              "#9c179e"
             ],
             [
              0.4444444444444444,
              "#bd3786"
             ],
             [
              0.5555555555555556,
              "#d8576b"
             ],
             [
              0.6666666666666666,
              "#ed7953"
             ],
             [
              0.7777777777777778,
              "#fb9f3a"
             ],
             [
              0.8888888888888888,
              "#fdca26"
             ],
             [
              1,
              "#f0f921"
             ]
            ],
            "type": "histogram2d"
           }
          ],
          "histogram2dcontour": [
           {
            "colorbar": {
             "outlinewidth": 0,
             "ticks": ""
            },
            "colorscale": [
             [
              0,
              "#0d0887"
             ],
             [
              0.1111111111111111,
              "#46039f"
             ],
             [
              0.2222222222222222,
              "#7201a8"
             ],
             [
              0.3333333333333333,
              "#9c179e"
             ],
             [
              0.4444444444444444,
              "#bd3786"
             ],
             [
              0.5555555555555556,
              "#d8576b"
             ],
             [
              0.6666666666666666,
              "#ed7953"
             ],
             [
              0.7777777777777778,
              "#fb9f3a"
             ],
             [
              0.8888888888888888,
              "#fdca26"
             ],
             [
              1,
              "#f0f921"
             ]
            ],
            "type": "histogram2dcontour"
           }
          ],
          "mesh3d": [
           {
            "colorbar": {
             "outlinewidth": 0,
             "ticks": ""
            },
            "type": "mesh3d"
           }
          ],
          "parcoords": [
           {
            "line": {
             "colorbar": {
              "outlinewidth": 0,
              "ticks": ""
             }
            },
            "type": "parcoords"
           }
          ],
          "pie": [
           {
            "automargin": true,
            "type": "pie"
           }
          ],
          "scatter": [
           {
            "fillpattern": {
             "fillmode": "overlay",
             "size": 10,
             "solidity": 0.2
            },
            "type": "scatter"
           }
          ],
          "scatter3d": [
           {
            "line": {
             "colorbar": {
              "outlinewidth": 0,
              "ticks": ""
             }
            },
            "marker": {
             "colorbar": {
              "outlinewidth": 0,
              "ticks": ""
             }
            },
            "type": "scatter3d"
           }
          ],
          "scattercarpet": [
           {
            "marker": {
             "colorbar": {
              "outlinewidth": 0,
              "ticks": ""
             }
            },
            "type": "scattercarpet"
           }
          ],
          "scattergeo": [
           {
            "marker": {
             "colorbar": {
              "outlinewidth": 0,
              "ticks": ""
             }
            },
            "type": "scattergeo"
           }
          ],
          "scattergl": [
           {
            "marker": {
             "colorbar": {
              "outlinewidth": 0,
              "ticks": ""
             }
            },
            "type": "scattergl"
           }
          ],
          "scattermapbox": [
           {
            "marker": {
             "colorbar": {
              "outlinewidth": 0,
              "ticks": ""
             }
            },
            "type": "scattermapbox"
           }
          ],
          "scatterpolar": [
           {
            "marker": {
             "colorbar": {
              "outlinewidth": 0,
              "ticks": ""
             }
            },
            "type": "scatterpolar"
           }
          ],
          "scatterpolargl": [
           {
            "marker": {
             "colorbar": {
              "outlinewidth": 0,
              "ticks": ""
             }
            },
            "type": "scatterpolargl"
           }
          ],
          "scatterternary": [
           {
            "marker": {
             "colorbar": {
              "outlinewidth": 0,
              "ticks": ""
             }
            },
            "type": "scatterternary"
           }
          ],
          "surface": [
           {
            "colorbar": {
             "outlinewidth": 0,
             "ticks": ""
            },
            "colorscale": [
             [
              0,
              "#0d0887"
             ],
             [
              0.1111111111111111,
              "#46039f"
             ],
             [
              0.2222222222222222,
              "#7201a8"
             ],
             [
              0.3333333333333333,
              "#9c179e"
             ],
             [
              0.4444444444444444,
              "#bd3786"
             ],
             [
              0.5555555555555556,
              "#d8576b"
             ],
             [
              0.6666666666666666,
              "#ed7953"
             ],
             [
              0.7777777777777778,
              "#fb9f3a"
             ],
             [
              0.8888888888888888,
              "#fdca26"
             ],
             [
              1,
              "#f0f921"
             ]
            ],
            "type": "surface"
           }
          ],
          "table": [
           {
            "cells": {
             "fill": {
              "color": "#EBF0F8"
             },
             "line": {
              "color": "white"
             }
            },
            "header": {
             "fill": {
              "color": "#C8D4E3"
             },
             "line": {
              "color": "white"
             }
            },
            "type": "table"
           }
          ]
         },
         "layout": {
          "annotationdefaults": {
           "arrowcolor": "#2a3f5f",
           "arrowhead": 0,
           "arrowwidth": 1
          },
          "autotypenumbers": "strict",
          "coloraxis": {
           "colorbar": {
            "outlinewidth": 0,
            "ticks": ""
           }
          },
          "colorscale": {
           "diverging": [
            [
             0,
             "#8e0152"
            ],
            [
             0.1,
             "#c51b7d"
            ],
            [
             0.2,
             "#de77ae"
            ],
            [
             0.3,
             "#f1b6da"
            ],
            [
             0.4,
             "#fde0ef"
            ],
            [
             0.5,
             "#f7f7f7"
            ],
            [
             0.6,
             "#e6f5d0"
            ],
            [
             0.7,
             "#b8e186"
            ],
            [
             0.8,
             "#7fbc41"
            ],
            [
             0.9,
             "#4d9221"
            ],
            [
             1,
             "#276419"
            ]
           ],
           "sequential": [
            [
             0,
             "#0d0887"
            ],
            [
             0.1111111111111111,
             "#46039f"
            ],
            [
             0.2222222222222222,
             "#7201a8"
            ],
            [
             0.3333333333333333,
             "#9c179e"
            ],
            [
             0.4444444444444444,
             "#bd3786"
            ],
            [
             0.5555555555555556,
             "#d8576b"
            ],
            [
             0.6666666666666666,
             "#ed7953"
            ],
            [
             0.7777777777777778,
             "#fb9f3a"
            ],
            [
             0.8888888888888888,
             "#fdca26"
            ],
            [
             1,
             "#f0f921"
            ]
           ],
           "sequentialminus": [
            [
             0,
             "#0d0887"
            ],
            [
             0.1111111111111111,
             "#46039f"
            ],
            [
             0.2222222222222222,
             "#7201a8"
            ],
            [
             0.3333333333333333,
             "#9c179e"
            ],
            [
             0.4444444444444444,
             "#bd3786"
            ],
            [
             0.5555555555555556,
             "#d8576b"
            ],
            [
             0.6666666666666666,
             "#ed7953"
            ],
            [
             0.7777777777777778,
             "#fb9f3a"
            ],
            [
             0.8888888888888888,
             "#fdca26"
            ],
            [
             1,
             "#f0f921"
            ]
           ]
          },
          "colorway": [
           "#636efa",
           "#EF553B",
           "#00cc96",
           "#ab63fa",
           "#FFA15A",
           "#19d3f3",
           "#FF6692",
           "#B6E880",
           "#FF97FF",
           "#FECB52"
          ],
          "font": {
           "color": "#2a3f5f"
          },
          "geo": {
           "bgcolor": "white",
           "lakecolor": "white",
           "landcolor": "#E5ECF6",
           "showlakes": true,
           "showland": true,
           "subunitcolor": "white"
          },
          "hoverlabel": {
           "align": "left"
          },
          "hovermode": "closest",
          "mapbox": {
           "style": "light"
          },
          "paper_bgcolor": "white",
          "plot_bgcolor": "#E5ECF6",
          "polar": {
           "angularaxis": {
            "gridcolor": "white",
            "linecolor": "white",
            "ticks": ""
           },
           "bgcolor": "#E5ECF6",
           "radialaxis": {
            "gridcolor": "white",
            "linecolor": "white",
            "ticks": ""
           }
          },
          "scene": {
           "xaxis": {
            "backgroundcolor": "#E5ECF6",
            "gridcolor": "white",
            "gridwidth": 2,
            "linecolor": "white",
            "showbackground": true,
            "ticks": "",
            "zerolinecolor": "white"
           },
           "yaxis": {
            "backgroundcolor": "#E5ECF6",
            "gridcolor": "white",
            "gridwidth": 2,
            "linecolor": "white",
            "showbackground": true,
            "ticks": "",
            "zerolinecolor": "white"
           },
           "zaxis": {
            "backgroundcolor": "#E5ECF6",
            "gridcolor": "white",
            "gridwidth": 2,
            "linecolor": "white",
            "showbackground": true,
            "ticks": "",
            "zerolinecolor": "white"
           }
          },
          "shapedefaults": {
           "line": {
            "color": "#2a3f5f"
           }
          },
          "ternary": {
           "aaxis": {
            "gridcolor": "white",
            "linecolor": "white",
            "ticks": ""
           },
           "baxis": {
            "gridcolor": "white",
            "linecolor": "white",
            "ticks": ""
           },
           "bgcolor": "#E5ECF6",
           "caxis": {
            "gridcolor": "white",
            "linecolor": "white",
            "ticks": ""
           }
          },
          "title": {
           "x": 0.05
          },
          "xaxis": {
           "automargin": true,
           "gridcolor": "white",
           "linecolor": "white",
           "ticks": "",
           "title": {
            "standoff": 15
           },
           "zerolinecolor": "white",
           "zerolinewidth": 2
          },
          "yaxis": {
           "automargin": true,
           "gridcolor": "white",
           "linecolor": "white",
           "ticks": "",
           "title": {
            "standoff": 15
           },
           "zerolinecolor": "white",
           "zerolinewidth": 2
          }
         }
        },
        "title": {
         "text": "PCA Analysis"
        },
        "xaxis": {
         "title": {
          "text": "PC1 [34.50%]"
         }
        },
        "yaxis": {
         "title": {
          "text": "PC2 [14.40%]"
         }
        }
       }
      }
     },
     "metadata": {},
     "output_type": "display_data"
    },
    {
     "data": {
      "application/vnd.plotly.v1+json": {
       "config": {
        "plotlyServerURL": "https://plot.ly"
       },
       "data": [
        {
         "hoverinfo": "text",
         "marker": {
          "color": "#3498db"
         },
         "mode": "markers",
         "name": "Mark Twain",
         "text": [
          "books",
          "gpt-3.5-turbo-0125",
          "gpt-4o",
          "gemini-1.5-flash",
          "open-mixtral-8x7b",
          "claude-3-haiku-20240307"
         ],
         "type": "scatter",
         "x": [
          7.023114958360675,
          -0.09214356057802965,
          1.9839883570331984,
          2.6703966224272975,
          0.7314783763842271,
          2.775254842476863
         ],
         "y": [
          4.1045684604104204,
          0.9857001699260086,
          1.3856398988172036,
          2.31251100464322,
          0.7386674076779247,
          2.426042482761225
         ]
        },
        {
         "hoverinfo": "text",
         "marker": {
          "color": "#e74c3c"
         },
         "mode": "markers",
         "name": "Zane Grey",
         "text": [
          "books",
          "gpt-3.5-turbo-0125",
          "gpt-4o",
          "gemini-1.5-flash",
          "open-mixtral-8x7b",
          "claude-3-haiku-20240307"
         ],
         "type": "scatter",
         "x": [
          7.769629467760454,
          -2.011858156035309,
          -0.4124259311387655,
          -0.4196198836693864,
          -1.2470279186393614,
          -0.3413033285288033
         ],
         "y": [
          7.362140814667745,
          -0.213492261355383,
          -0.11195100654913202,
          0.6568480695742505,
          0.23903780415568598,
          0.624000570760545
         ]
        },
        {
         "hoverinfo": "text",
         "marker": {
          "color": "#2ecc71"
         },
         "mode": "markers",
         "name": "Joseph Conrad",
         "text": [
          "books",
          "gpt-3.5-turbo-0125",
          "gpt-4o",
          "gemini-1.5-flash",
          "open-mixtral-8x7b",
          "claude-3-haiku-20240307"
         ],
         "type": "scatter",
         "x": [
          6.256444960781058,
          -2.7875100018827266,
          -1.644100358946283,
          -2.3254171524888854,
          -3.615679532523655,
          -3.5721636995039585
         ],
         "y": [
          5.973831310180072,
          -0.9602552557464366,
          -1.1584704121015033,
          -1.1891232969170467,
          -2.0201852167171332,
          -1.9774331988874563
         ]
        },
        {
         "hoverinfo": "text",
         "marker": {
          "color": "#f1c40f"
         },
         "mode": "markers",
         "name": "George Eliot",
         "text": [
          "books",
          "gpt-3.5-turbo-0125",
          "gpt-4o",
          "gemini-1.5-flash",
          "open-mixtral-8x7b",
          "claude-3-haiku-20240307"
         ],
         "type": "scatter",
         "x": [
          4.981502583506314,
          -2.8219847163215444,
          -1.2944114940085347,
          -2.653008988920299,
          -3.9139940752458156,
          -3.6230673570376384
         ],
         "y": [
          4.684297854577776,
          -0.9492328377822052,
          -0.9115512336065664,
          -1.4886640137641318,
          -2.081456358096478,
          -2.031664260771566
         ]
        },
        {
         "hoverinfo": "text",
         "marker": {
          "color": "#9b59b6"
         },
         "mode": "markers",
         "name": "Benjamin Disraeli",
         "text": [
          "books",
          "gpt-3.5-turbo-0125",
          "gpt-4o",
          "gemini-1.5-flash",
          "open-mixtral-8x7b",
          "claude-3-haiku-20240307"
         ],
         "type": "scatter",
         "x": [
          5.802289893486102,
          -2.569811302822307,
          -1.9718905365427049,
          -2.6538692697614215,
          -2.7328720084097493,
          -3.763922769447202
         ],
         "y": [
          3.7838372124095834,
          -0.8563447905567068,
          -1.5527734607096444,
          -1.8234663124620702,
          -1.5111027335744927,
          -2.199530564824254
         ]
        },
        {
         "hoverinfo": "text",
         "marker": {
          "color": "#e67e22"
         },
         "mode": "markers",
         "name": "Lucy Maud Montgomery",
         "text": [
          "books",
          "gpt-3.5-turbo-0125",
          "gpt-4o",
          "gemini-1.5-flash",
          "open-mixtral-8x7b",
          "claude-3-haiku-20240307"
         ],
         "type": "scatter",
         "x": [
          7.277916044426759,
          -1.6729463822741797,
          -0.5016760060218923,
          -0.4557690218694684,
          -1.696144414505755,
          -0.4328870529621672
         ],
         "y": [
          7.362792638478768,
          0.1397546845729552,
          -0.09194692880414894,
          0.05176950334521468,
          -0.426080325774303,
          0.4512025770479439
         ]
        },
        {
         "hoverinfo": "text",
         "marker": {
          "color": "#1abc9c"
         },
         "mode": "markers",
         "name": "William Henry Hudson",
         "text": [
          "books",
          "gpt-3.5-turbo-0125",
          "gpt-4o",
          "gemini-1.5-flash",
          "open-mixtral-8x7b",
          "claude-3-haiku-20240307"
         ],
         "type": "scatter",
         "x": [
          2.961946910019369,
          -3.059320977967178,
          -1.2420345413711766,
          -2.5100056757362394,
          -2.8575248975501113,
          -3.5351261795085858
         ],
         "y": [
          2.4333240345725833,
          -1.1040877307241297,
          -0.8370481239284117,
          -1.4325401146800816,
          -1.3048584826263314,
          -2.012134067209015
         ]
        },
        {
         "hoverinfo": "text",
         "marker": {
          "color": "#34495e"
         },
         "mode": "markers",
         "name": "Howard Pyle",
         "text": [
          "books",
          "gpt-3.5-turbo-0125",
          "gpt-4o",
          "gemini-1.5-flash",
          "open-mixtral-8x7b",
          "claude-3-haiku-20240307"
         ],
         "type": "scatter",
         "x": [
          6.086475045166807,
          -1.6906189948526924,
          -0.7120630998712238,
          -0.7991111302933102,
          -1.9393341284693937,
          -1.951428276229669
         ],
         "y": [
          2.32888191680878,
          -0.05387983957053791,
          -0.1852497563821434,
          -0.09063498226787282,
          -0.5553025475336062,
          -0.8081725933234063
         ]
        },
        {
         "hoverinfo": "text",
         "marker": {
          "color": "#d35400"
         },
         "mode": "markers",
         "name": "Virginia Woolf",
         "text": [
          "books",
          "gpt-3.5-turbo-0125",
          "gpt-4o",
          "gemini-1.5-flash",
          "open-mixtral-8x7b",
          "claude-3-haiku-20240307"
         ],
         "type": "scatter",
         "x": [
          5.702108060577554,
          -2.980672219307934,
          -1.4319248498306951,
          -2.5327929527874344,
          -4.063316454623421,
          -3.246270547770089
         ],
         "y": [
          6.878033075536232,
          -1.0828399123134458,
          -0.9111651570283776,
          -1.307443261562365,
          -2.248167838938507,
          -1.773231820862172
         ]
        },
        {
         "hoverinfo": "text",
         "marker": {
          "color": "#7f8c8d"
         },
         "mode": "markers",
         "name": "Lewis Carroll",
         "text": [
          "books",
          "gpt-3.5-turbo-0125",
          "gpt-4o",
          "gemini-1.5-flash",
          "open-mixtral-8x7b",
          "claude-3-haiku-20240307"
         ],
         "type": "scatter",
         "x": [
          27.34501278828436,
          -1.8394219547206823,
          0.371468919223614,
          0.16732052842926948,
          -0.34555188911846096,
          -1.9423246682497792
         ],
         "y": [
          -15.111948888514027,
          -0.021413000528687293,
          0.2810852527604831,
          0.17029352031100353,
          0.05628890391079732,
          -1.0357065809126236
         ]
        }
       ],
       "layout": {
        "legend": {
         "title": {
          "text": "Author Name"
         }
        },
        "template": {
         "data": {
          "bar": [
           {
            "error_x": {
             "color": "#2a3f5f"
            },
            "error_y": {
             "color": "#2a3f5f"
            },
            "marker": {
             "line": {
              "color": "#E5ECF6",
              "width": 0.5
             },
             "pattern": {
              "fillmode": "overlay",
              "size": 10,
              "solidity": 0.2
             }
            },
            "type": "bar"
           }
          ],
          "barpolar": [
           {
            "marker": {
             "line": {
              "color": "#E5ECF6",
              "width": 0.5
             },
             "pattern": {
              "fillmode": "overlay",
              "size": 10,
              "solidity": 0.2
             }
            },
            "type": "barpolar"
           }
          ],
          "carpet": [
           {
            "aaxis": {
             "endlinecolor": "#2a3f5f",
             "gridcolor": "white",
             "linecolor": "white",
             "minorgridcolor": "white",
             "startlinecolor": "#2a3f5f"
            },
            "baxis": {
             "endlinecolor": "#2a3f5f",
             "gridcolor": "white",
             "linecolor": "white",
             "minorgridcolor": "white",
             "startlinecolor": "#2a3f5f"
            },
            "type": "carpet"
           }
          ],
          "choropleth": [
           {
            "colorbar": {
             "outlinewidth": 0,
             "ticks": ""
            },
            "type": "choropleth"
           }
          ],
          "contour": [
           {
            "colorbar": {
             "outlinewidth": 0,
             "ticks": ""
            },
            "colorscale": [
             [
              0,
              "#0d0887"
             ],
             [
              0.1111111111111111,
              "#46039f"
             ],
             [
              0.2222222222222222,
              "#7201a8"
             ],
             [
              0.3333333333333333,
              "#9c179e"
             ],
             [
              0.4444444444444444,
              "#bd3786"
             ],
             [
              0.5555555555555556,
              "#d8576b"
             ],
             [
              0.6666666666666666,
              "#ed7953"
             ],
             [
              0.7777777777777778,
              "#fb9f3a"
             ],
             [
              0.8888888888888888,
              "#fdca26"
             ],
             [
              1,
              "#f0f921"
             ]
            ],
            "type": "contour"
           }
          ],
          "contourcarpet": [
           {
            "colorbar": {
             "outlinewidth": 0,
             "ticks": ""
            },
            "type": "contourcarpet"
           }
          ],
          "heatmap": [
           {
            "colorbar": {
             "outlinewidth": 0,
             "ticks": ""
            },
            "colorscale": [
             [
              0,
              "#0d0887"
             ],
             [
              0.1111111111111111,
              "#46039f"
             ],
             [
              0.2222222222222222,
              "#7201a8"
             ],
             [
              0.3333333333333333,
              "#9c179e"
             ],
             [
              0.4444444444444444,
              "#bd3786"
             ],
             [
              0.5555555555555556,
              "#d8576b"
             ],
             [
              0.6666666666666666,
              "#ed7953"
             ],
             [
              0.7777777777777778,
              "#fb9f3a"
             ],
             [
              0.8888888888888888,
              "#fdca26"
             ],
             [
              1,
              "#f0f921"
             ]
            ],
            "type": "heatmap"
           }
          ],
          "heatmapgl": [
           {
            "colorbar": {
             "outlinewidth": 0,
             "ticks": ""
            },
            "colorscale": [
             [
              0,
              "#0d0887"
             ],
             [
              0.1111111111111111,
              "#46039f"
             ],
             [
              0.2222222222222222,
              "#7201a8"
             ],
             [
              0.3333333333333333,
              "#9c179e"
             ],
             [
              0.4444444444444444,
              "#bd3786"
             ],
             [
              0.5555555555555556,
              "#d8576b"
             ],
             [
              0.6666666666666666,
              "#ed7953"
             ],
             [
              0.7777777777777778,
              "#fb9f3a"
             ],
             [
              0.8888888888888888,
              "#fdca26"
             ],
             [
              1,
              "#f0f921"
             ]
            ],
            "type": "heatmapgl"
           }
          ],
          "histogram": [
           {
            "marker": {
             "pattern": {
              "fillmode": "overlay",
              "size": 10,
              "solidity": 0.2
             }
            },
            "type": "histogram"
           }
          ],
          "histogram2d": [
           {
            "colorbar": {
             "outlinewidth": 0,
             "ticks": ""
            },
            "colorscale": [
             [
              0,
              "#0d0887"
             ],
             [
              0.1111111111111111,
              "#46039f"
             ],
             [
              0.2222222222222222,
              "#7201a8"
             ],
             [
              0.3333333333333333,
              "#9c179e"
             ],
             [
              0.4444444444444444,
              "#bd3786"
             ],
             [
              0.5555555555555556,
              "#d8576b"
             ],
             [
              0.6666666666666666,
              "#ed7953"
             ],
             [
              0.7777777777777778,
              "#fb9f3a"
             ],
             [
              0.8888888888888888,
              "#fdca26"
             ],
             [
              1,
              "#f0f921"
             ]
            ],
            "type": "histogram2d"
           }
          ],
          "histogram2dcontour": [
           {
            "colorbar": {
             "outlinewidth": 0,
             "ticks": ""
            },
            "colorscale": [
             [
              0,
              "#0d0887"
             ],
             [
              0.1111111111111111,
              "#46039f"
             ],
             [
              0.2222222222222222,
              "#7201a8"
             ],
             [
              0.3333333333333333,
              "#9c179e"
             ],
             [
              0.4444444444444444,
              "#bd3786"
             ],
             [
              0.5555555555555556,
              "#d8576b"
             ],
             [
              0.6666666666666666,
              "#ed7953"
             ],
             [
              0.7777777777777778,
              "#fb9f3a"
             ],
             [
              0.8888888888888888,
              "#fdca26"
             ],
             [
              1,
              "#f0f921"
             ]
            ],
            "type": "histogram2dcontour"
           }
          ],
          "mesh3d": [
           {
            "colorbar": {
             "outlinewidth": 0,
             "ticks": ""
            },
            "type": "mesh3d"
           }
          ],
          "parcoords": [
           {
            "line": {
             "colorbar": {
              "outlinewidth": 0,
              "ticks": ""
             }
            },
            "type": "parcoords"
           }
          ],
          "pie": [
           {
            "automargin": true,
            "type": "pie"
           }
          ],
          "scatter": [
           {
            "fillpattern": {
             "fillmode": "overlay",
             "size": 10,
             "solidity": 0.2
            },
            "type": "scatter"
           }
          ],
          "scatter3d": [
           {
            "line": {
             "colorbar": {
              "outlinewidth": 0,
              "ticks": ""
             }
            },
            "marker": {
             "colorbar": {
              "outlinewidth": 0,
              "ticks": ""
             }
            },
            "type": "scatter3d"
           }
          ],
          "scattercarpet": [
           {
            "marker": {
             "colorbar": {
              "outlinewidth": 0,
              "ticks": ""
             }
            },
            "type": "scattercarpet"
           }
          ],
          "scattergeo": [
           {
            "marker": {
             "colorbar": {
              "outlinewidth": 0,
              "ticks": ""
             }
            },
            "type": "scattergeo"
           }
          ],
          "scattergl": [
           {
            "marker": {
             "colorbar": {
              "outlinewidth": 0,
              "ticks": ""
             }
            },
            "type": "scattergl"
           }
          ],
          "scattermapbox": [
           {
            "marker": {
             "colorbar": {
              "outlinewidth": 0,
              "ticks": ""
             }
            },
            "type": "scattermapbox"
           }
          ],
          "scatterpolar": [
           {
            "marker": {
             "colorbar": {
              "outlinewidth": 0,
              "ticks": ""
             }
            },
            "type": "scatterpolar"
           }
          ],
          "scatterpolargl": [
           {
            "marker": {
             "colorbar": {
              "outlinewidth": 0,
              "ticks": ""
             }
            },
            "type": "scatterpolargl"
           }
          ],
          "scatterternary": [
           {
            "marker": {
             "colorbar": {
              "outlinewidth": 0,
              "ticks": ""
             }
            },
            "type": "scatterternary"
           }
          ],
          "surface": [
           {
            "colorbar": {
             "outlinewidth": 0,
             "ticks": ""
            },
            "colorscale": [
             [
              0,
              "#0d0887"
             ],
             [
              0.1111111111111111,
              "#46039f"
             ],
             [
              0.2222222222222222,
              "#7201a8"
             ],
             [
              0.3333333333333333,
              "#9c179e"
             ],
             [
              0.4444444444444444,
              "#bd3786"
             ],
             [
              0.5555555555555556,
              "#d8576b"
             ],
             [
              0.6666666666666666,
              "#ed7953"
             ],
             [
              0.7777777777777778,
              "#fb9f3a"
             ],
             [
              0.8888888888888888,
              "#fdca26"
             ],
             [
              1,
              "#f0f921"
             ]
            ],
            "type": "surface"
           }
          ],
          "table": [
           {
            "cells": {
             "fill": {
              "color": "#EBF0F8"
             },
             "line": {
              "color": "white"
             }
            },
            "header": {
             "fill": {
              "color": "#C8D4E3"
             },
             "line": {
              "color": "white"
             }
            },
            "type": "table"
           }
          ]
         },
         "layout": {
          "annotationdefaults": {
           "arrowcolor": "#2a3f5f",
           "arrowhead": 0,
           "arrowwidth": 1
          },
          "autotypenumbers": "strict",
          "coloraxis": {
           "colorbar": {
            "outlinewidth": 0,
            "ticks": ""
           }
          },
          "colorscale": {
           "diverging": [
            [
             0,
             "#8e0152"
            ],
            [
             0.1,
             "#c51b7d"
            ],
            [
             0.2,
             "#de77ae"
            ],
            [
             0.3,
             "#f1b6da"
            ],
            [
             0.4,
             "#fde0ef"
            ],
            [
             0.5,
             "#f7f7f7"
            ],
            [
             0.6,
             "#e6f5d0"
            ],
            [
             0.7,
             "#b8e186"
            ],
            [
             0.8,
             "#7fbc41"
            ],
            [
             0.9,
             "#4d9221"
            ],
            [
             1,
             "#276419"
            ]
           ],
           "sequential": [
            [
             0,
             "#0d0887"
            ],
            [
             0.1111111111111111,
             "#46039f"
            ],
            [
             0.2222222222222222,
             "#7201a8"
            ],
            [
             0.3333333333333333,
             "#9c179e"
            ],
            [
             0.4444444444444444,
             "#bd3786"
            ],
            [
             0.5555555555555556,
             "#d8576b"
            ],
            [
             0.6666666666666666,
             "#ed7953"
            ],
            [
             0.7777777777777778,
             "#fb9f3a"
            ],
            [
             0.8888888888888888,
             "#fdca26"
            ],
            [
             1,
             "#f0f921"
            ]
           ],
           "sequentialminus": [
            [
             0,
             "#0d0887"
            ],
            [
             0.1111111111111111,
             "#46039f"
            ],
            [
             0.2222222222222222,
             "#7201a8"
            ],
            [
             0.3333333333333333,
             "#9c179e"
            ],
            [
             0.4444444444444444,
             "#bd3786"
            ],
            [
             0.5555555555555556,
             "#d8576b"
            ],
            [
             0.6666666666666666,
             "#ed7953"
            ],
            [
             0.7777777777777778,
             "#fb9f3a"
            ],
            [
             0.8888888888888888,
             "#fdca26"
            ],
            [
             1,
             "#f0f921"
            ]
           ]
          },
          "colorway": [
           "#636efa",
           "#EF553B",
           "#00cc96",
           "#ab63fa",
           "#FFA15A",
           "#19d3f3",
           "#FF6692",
           "#B6E880",
           "#FF97FF",
           "#FECB52"
          ],
          "font": {
           "color": "#2a3f5f"
          },
          "geo": {
           "bgcolor": "white",
           "lakecolor": "white",
           "landcolor": "#E5ECF6",
           "showlakes": true,
           "showland": true,
           "subunitcolor": "white"
          },
          "hoverlabel": {
           "align": "left"
          },
          "hovermode": "closest",
          "mapbox": {
           "style": "light"
          },
          "paper_bgcolor": "white",
          "plot_bgcolor": "#E5ECF6",
          "polar": {
           "angularaxis": {
            "gridcolor": "white",
            "linecolor": "white",
            "ticks": ""
           },
           "bgcolor": "#E5ECF6",
           "radialaxis": {
            "gridcolor": "white",
            "linecolor": "white",
            "ticks": ""
           }
          },
          "scene": {
           "xaxis": {
            "backgroundcolor": "#E5ECF6",
            "gridcolor": "white",
            "gridwidth": 2,
            "linecolor": "white",
            "showbackground": true,
            "ticks": "",
            "zerolinecolor": "white"
           },
           "yaxis": {
            "backgroundcolor": "#E5ECF6",
            "gridcolor": "white",
            "gridwidth": 2,
            "linecolor": "white",
            "showbackground": true,
            "ticks": "",
            "zerolinecolor": "white"
           },
           "zaxis": {
            "backgroundcolor": "#E5ECF6",
            "gridcolor": "white",
            "gridwidth": 2,
            "linecolor": "white",
            "showbackground": true,
            "ticks": "",
            "zerolinecolor": "white"
           }
          },
          "shapedefaults": {
           "line": {
            "color": "#2a3f5f"
           }
          },
          "ternary": {
           "aaxis": {
            "gridcolor": "white",
            "linecolor": "white",
            "ticks": ""
           },
           "baxis": {
            "gridcolor": "white",
            "linecolor": "white",
            "ticks": ""
           },
           "bgcolor": "#E5ECF6",
           "caxis": {
            "gridcolor": "white",
            "linecolor": "white",
            "ticks": ""
           }
          },
          "title": {
           "x": 0.05
          },
          "xaxis": {
           "automargin": true,
           "gridcolor": "white",
           "linecolor": "white",
           "ticks": "",
           "title": {
            "standoff": 15
           },
           "zerolinecolor": "white",
           "zerolinewidth": 2
          },
          "yaxis": {
           "automargin": true,
           "gridcolor": "white",
           "linecolor": "white",
           "ticks": "",
           "title": {
            "standoff": 15
           },
           "zerolinecolor": "white",
           "zerolinewidth": 2
          }
         }
        },
        "title": {
         "text": "PCA Analysis"
        },
        "xaxis": {
         "title": {
          "text": "PC1 [34.50%]"
         }
        },
        "yaxis": {
         "title": {
          "text": "PC2 [14.40%]"
         }
        }
       }
      }
     },
     "metadata": {},
     "output_type": "display_data"
    }
   ],
   "source": [
    "visualization = AnalysisVisualization(settings)\n",
    "visualization.visualize(analysis_data)"
   ]
  }
 ],
 "metadata": {
  "kernelspec": {
   "display_name": ".venv",
   "language": "python",
   "name": "python3"
  },
  "language_info": {
   "codemirror_mode": {
    "name": "ipython",
    "version": 3
   },
   "file_extension": ".py",
   "mimetype": "text/x-python",
   "name": "python",
   "nbconvert_exporter": "python",
   "pygments_lexer": "ipython3",
   "version": "3.12.1"
  }
 },
 "nbformat": 4,
 "nbformat_minor": 2
}
