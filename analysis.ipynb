{
 "cells": [
  {
   "cell_type": "markdown",
   "metadata": {},
   "source": [
    "# Analysis\n",
    "\n",
    "Notebook reads the list of the selected authors from `res/selected/author_list` and loads their text data from book and genereted resources available in `res` directory.\n",
    "Displayed data:\n",
    "- Notebook displays the number of words per each source-author pair.\n",
    "- Analysis on chunk of `configuration.analysis_size` size\n",
    "    - Average word length\n",
    "    - Average sentence length\n",
    "    - Unique words count\n",
    "    - Top 10 function words\n",
    "\n",
    "Further work on that notebook is planned.\n",
    "\n",
    "*Note: the list of function words are taken from [functionwords](https://pypi.org/project/functionwords/) package.*"
   ]
  },
  {
   "cell_type": "code",
   "execution_count": 1,
   "metadata": {},
   "outputs": [
    {
     "name": "stdout",
     "output_type": "stream",
     "text": [
      "The autoreload extension is already loaded. To reload it, use:\n",
      "  %reload_ext autoreload\n"
     ]
    },
    {
     "name": "stderr",
     "output_type": "stream",
     "text": [
      "[nltk_data] Downloading package cmudict to\n",
      "[nltk_data]     C:\\Users\\piotr\\AppData\\Roaming\\nltk_data...\n",
      "[nltk_data]   Package cmudict is already up-to-date!\n",
      "[nltk_data] Downloading package punkt to\n",
      "[nltk_data]     C:\\Users\\piotr\\AppData\\Roaming\\nltk_data...\n",
      "[nltk_data]   Package punkt is already up-to-date!\n"
     ]
    }
   ],
   "source": [
    "%load_ext autoreload\n",
    "%autoreload 2\n",
    "\n",
    "from src import *"
   ]
  },
  {
   "cell_type": "code",
   "execution_count": 2,
   "metadata": {},
   "outputs": [],
   "source": [
    "settings = Settings()"
   ]
  },
  {
   "cell_type": "code",
   "execution_count": 3,
   "metadata": {},
   "outputs": [],
   "source": [
    "cleaner = Cleaner(settings)\n",
    "if not cleaner.cleaned_generated_corpus_exists():\n",
    "    print(\"Cleaning generated corpus...\")\n",
    "    cleaner.clean_generated_corpus()    \n",
    "if not cleaner.cleaned_books_corpus_exists():\n",
    "    print(\"Cleaning books corpus...\")\n",
    "    cleaner.clean_books_corpus()"
   ]
  },
  {
   "cell_type": "code",
   "execution_count": 4,
   "metadata": {},
   "outputs": [
    {
     "name": "stdout",
     "output_type": "stream",
     "text": [
      "Reading authors' collections...\n"
     ]
    }
   ],
   "source": [
    "print(\"Reading authors' collections...\")\n",
    "authors = []\n",
    "for author_name in FileUtils.read_authors(settings.paths.selected_authors_filepath):\n",
    "    author = Author(\n",
    "        settings=settings,\n",
    "        name=author_name\n",
    "    )\n",
    "    author.read_selected_books_collection()\n",
    "    author.read_generated_texts()\n",
    "    authors.append(author)"
   ]
  },
  {
   "cell_type": "code",
   "execution_count": 18,
   "metadata": {},
   "outputs": [
    {
     "name": "stdout",
     "output_type": "stream",
     "text": [
      "Preprocessing collections...\n"
     ]
    }
   ],
   "source": [
    "print(\"Preprocessing collections...\")\n",
    "preprocessing_data = Preprocessing(settings, authors).preprocess()"
   ]
  },
  {
   "cell_type": "code",
   "execution_count": 19,
   "metadata": {},
   "outputs": [],
   "source": [
    "analysis = Analysis(\n",
    "    settings=settings,\n",
    "    authors=authors,\n",
    "    preprocessing_data=preprocessing_data,\n",
    "    read_from_file=settings.configuration.read_analysis_from_file\n",
    ")"
   ]
  },
  {
   "cell_type": "code",
   "execution_count": 21,
   "metadata": {},
   "outputs": [
    {
     "name": "stderr",
     "output_type": "stream",
     "text": [
      "[nltk_data] Downloading package punkt to\n",
      "[nltk_data]     C:\\Users\\piotr\\AppData\\Roaming\\nltk_data...\n",
      "[nltk_data]   Package punkt is already up-to-date!\n"
     ]
    },
    {
     "name": "stdout",
     "output_type": "stream",
     "text": [
      "Analysing collections using sample of 30000 words per collection...\n",
      "Text removed while cleaning: 0.9401511228114402%.\n"
     ]
    }
   ],
   "source": [
    "print(f\"Analysing collections using sample of {settings.configuration.analysis_size} words per collection...\")\n",
    "analysis_data = analysis.get_analysis(authors)\n",
    "print(f\"Text removed while cleaning: {analysis_data.percentage_of_removed_text}%.\")"
   ]
  },
  {
   "cell_type": "code",
   "execution_count": 22,
   "metadata": {},
   "outputs": [
    {
     "name": "stdout",
     "output_type": "stream",
     "text": [
      "Top 10 features of PC1: ['!', 'yules_characteristic_k', 'simpsons_index', 'of', '-', '\"', 'flesch_reading_ease', 'average_syllables_per_word', 'the', 'average_word_length']\n",
      "Top 10 features of PC2: ['/', '{', '+', '}', '=', ')', '(', '_', ':', 'was']\n"
     ]
    }
   ],
   "source": [
    "print(f\"Top 10 features of PC1: {analysis_data.pca.top_10_features[\"PC1\"]}\")\n",
    "print(f\"Top 10 features of PC2: {analysis_data.pca.top_10_features[\"PC2\"]}\")"
   ]
  },
  {
   "cell_type": "code",
   "execution_count": 23,
   "metadata": {},
   "outputs": [
    {
     "data": {
      "application/vnd.plotly.v1+json": {
       "config": {
        "plotlyServerURL": "https://plot.ly"
       },
       "data": [
        {
         "marker": {
          "color": "#3498db"
         },
         "name": "books",
         "showlegend": true,
         "type": "bar",
         "x": [
          "Mark Twain",
          "Zane Grey",
          "Joseph Conrad",
          "George Eliot",
          "Benjamin Disraeli",
          "Lucy Maud Montgomery",
          "William Henry Hudson",
          "Howard Pyle",
          "Virginia Woolf",
          "Lewis Carroll"
         ],
         "xaxis": "x",
         "y": [
          4930,
          4462,
          4711,
          4934,
          5236,
          4369,
          4643,
          3695,
          4255,
          5066
         ],
         "yaxis": "y"
        },
        {
         "marker": {
          "color": "#3498db"
         },
         "name": "books",
         "showlegend": false,
         "type": "bar",
         "x": [
          "Mark Twain",
          "Zane Grey",
          "Joseph Conrad",
          "George Eliot",
          "Benjamin Disraeli",
          "Lucy Maud Montgomery",
          "William Henry Hudson",
          "Howard Pyle",
          "Virginia Woolf",
          "Lewis Carroll"
         ],
         "xaxis": "x2",
         "y": [
          4.2068899153194765,
          4.238565383840419,
          4.321973785659214,
          4.374826254826255,
          4.6570504179024,
          4.133899104196134,
          4.325894803599033,
          4.15946689395994,
          4.327326732673267,
          4.231862473937279
         ],
         "yaxis": "y2"
        },
        {
         "marker": {
          "color": "#3498db"
         },
         "name": "books",
         "showlegend": false,
         "type": "bar",
         "x": [
          "Mark Twain",
          "Zane Grey",
          "Joseph Conrad",
          "George Eliot",
          "Benjamin Disraeli",
          "Lucy Maud Montgomery",
          "William Henry Hudson",
          "Howard Pyle",
          "Virginia Woolf",
          "Lewis Carroll"
         ],
         "xaxis": "x3",
         "y": [
          19.726651480637813,
          12.570921985815604,
          15.953259532595325,
          23.166368515205725,
          20.39512961508248,
          13.88543371522095,
          25.128486055776893,
          23.045535714285716,
          16.514061478090255,
          16.667375886524823
         ],
         "yaxis": "y3"
        },
        {
         "marker": {
          "color": "#3498db"
         },
         "name": "books",
         "showlegend": false,
         "type": "bar",
         "x": [
          "Mark Twain",
          "Zane Grey",
          "Joseph Conrad",
          "George Eliot",
          "Benjamin Disraeli",
          "Lucy Maud Montgomery",
          "William Henry Hudson",
          "Howard Pyle",
          "Virginia Woolf",
          "Lewis Carroll"
         ],
         "xaxis": "x4",
         "y": [
          1.3717474980754427,
          1.3257707032037074,
          1.3842328450269854,
          1.4155598455598455,
          1.512267457535724,
          1.3285792865000785,
          1.388521146299893,
          1.2941769013211422,
          1.3875247524752474,
          1.330624228756223
         ],
         "yaxis": "y4"
        },
        {
         "marker": {
          "color": "#3498db"
         },
         "name": "books",
         "showlegend": false,
         "type": "bar",
         "x": [
          "Mark Twain",
          "Zane Grey",
          "Joseph Conrad",
          "George Eliot",
          "Benjamin Disraeli",
          "Lucy Maud Montgomery",
          "William Henry Hudson",
          "Howard Pyle",
          "Virginia Woolf",
          "Lewis Carroll"
         ],
         "xaxis": "x5",
         "y": [
          70.7626104099702,
          81.91531269336355,
          73.5363428851328,
          63.564773022703264,
          58.19611653316906,
          80.3434771411441,
          63.86069767641551,
          73.95641539823139,
          72.68863354033248,
          77.34680372240085
         ],
         "yaxis": "y5"
        },
        {
         "marker": {
          "color": "#3498db"
         },
         "name": "books",
         "showlegend": false,
         "type": "bar",
         "x": [
          "Mark Twain",
          "Zane Grey",
          "Joseph Conrad",
          "George Eliot",
          "Benjamin Disraeli",
          "Lucy Maud Montgomery",
          "William Henry Hudson",
          "Howard Pyle",
          "Virginia Woolf",
          "Lewis Carroll"
         ],
         "xaxis": "x6",
         "y": [
          8.290014554738974,
          4.956753872271836,
          6.965718789030607,
          10.148489898536415,
          10.208856548803713,
          5.502554729637097,
          10.594659088091728,
          8.66904636416091,
          7.223276055663117,
          6.611642495068114
         ],
         "yaxis": "y6"
        },
        {
         "marker": {
          "color": "#3498db"
         },
         "name": "books",
         "showlegend": false,
         "type": "bar",
         "x": [
          "Mark Twain",
          "Zane Grey",
          "Joseph Conrad",
          "George Eliot",
          "Benjamin Disraeli",
          "Lucy Maud Montgomery",
          "William Henry Hudson",
          "Howard Pyle",
          "Virginia Woolf",
          "Lewis Carroll"
         ],
         "xaxis": "x7",
         "y": [
          11.088505088021101,
          7.575215459649634,
          9.653470351203126,
          12.902068641603528,
          13.262238573298717,
          8.041993696680867,
          13.412605726761985,
          11.164671222679146,
          9.978297858562835,
          9.303433908501253
         ],
         "yaxis": "y7"
        },
        {
         "marker": {
          "color": "#3498db"
         },
         "name": "books",
         "showlegend": false,
         "type": "bar",
         "x": [
          "Mark Twain",
          "Zane Grey",
          "Joseph Conrad",
          "George Eliot",
          "Benjamin Disraeli",
          "Lucy Maud Montgomery",
          "William Henry Hudson",
          "Howard Pyle",
          "Virginia Woolf",
          "Lewis Carroll"
         ],
         "xaxis": "x8",
         "y": [
          83.82656518448437,
          71.97389108760089,
          89.33678224989828,
          76.70463130420279,
          100.27463192707322,
          66.82103024600076,
          80.93430681226698,
          91.41408931262507,
          76.0391581157627,
          61.802484206862886
         ],
         "yaxis": "y8"
        },
        {
         "marker": {
          "color": "#3498db"
         },
         "name": "books",
         "showlegend": false,
         "type": "bar",
         "x": [
          "Mark Twain",
          "Zane Grey",
          "Joseph Conrad",
          "George Eliot",
          "Benjamin Disraeli",
          "Lucy Maud Montgomery",
          "William Henry Hudson",
          "Howard Pyle",
          "Virginia Woolf",
          "Lewis Carroll"
         ],
         "xaxis": "x9",
         "y": [
          0.18976135488837567,
          0.17981059842836994,
          0.18161141094834232,
          0.1905019305019305,
          0.20167160959827446,
          0.17165645135942165,
          0.18403424630385667,
          0.143156018751695,
          0.16851485148514853,
          0.2155652950938258
         ],
         "yaxis": "y9"
        },
        {
         "marker": {
          "color": "#3498db"
         },
         "name": "books",
         "showlegend": false,
         "type": "bar",
         "x": [
          "Mark Twain",
          "Zane Grey",
          "Joseph Conrad",
          "George Eliot",
          "Benjamin Disraeli",
          "Lucy Maud Montgomery",
          "William Henry Hudson",
          "Howard Pyle",
          "Virginia Woolf",
          "Lewis Carroll"
         ],
         "xaxis": "x10",
         "y": [
          0.08174985581701247,
          0.08478192963032077,
          0.08392182913020894,
          0.0815830169511999,
          0.07876068592301189,
          0.08685748722866517,
          0.08349818793651903,
          0.09567404049563873,
          0.08783688096262593,
          0.07623061006156025
         ],
         "yaxis": "y10"
        },
        {
         "marker": {
          "color": "#3498db"
         },
         "name": "books",
         "showlegend": false,
         "type": "bar",
         "x": [
          "Mark Twain",
          "Zane Grey",
          "Joseph Conrad",
          "George Eliot",
          "Benjamin Disraeli",
          "Lucy Maud Montgomery",
          "William Henry Hudson",
          "Howard Pyle",
          "Virginia Woolf",
          "Lewis Carroll"
         ],
         "xaxis": "x11",
         "y": [
          0.9914145037249593,
          0.9925784961444896,
          0.9908540526177188,
          0.992126861555433,
          0.9897815513221896,
          0.9930890116469495,
          0.9916911913304037,
          0.9905879550741502,
          0.9921610665621018,
          0.9936223571853146
         ],
         "yaxis": "y11"
        },
        {
         "marker": {
          "color": "#e74c3c"
         },
         "name": "gpt-3.5-turbo-0125",
         "showlegend": true,
         "type": "bar",
         "x": [
          "Mark Twain",
          "Zane Grey",
          "Joseph Conrad",
          "George Eliot",
          "Benjamin Disraeli",
          "Lucy Maud Montgomery",
          "William Henry Hudson",
          "Howard Pyle",
          "Virginia Woolf",
          "Lewis Carroll"
         ],
         "xaxis": "x",
         "y": [
          4897,
          4618,
          4820,
          4975,
          4990,
          4616,
          4857,
          4826,
          4703,
          4672
         ],
         "yaxis": "y"
        },
        {
         "marker": {
          "color": "#e74c3c"
         },
         "name": "gpt-3.5-turbo-0125",
         "showlegend": false,
         "type": "bar",
         "x": [
          "Mark Twain",
          "Zane Grey",
          "Joseph Conrad",
          "George Eliot",
          "Benjamin Disraeli",
          "Lucy Maud Montgomery",
          "William Henry Hudson",
          "Howard Pyle",
          "Virginia Woolf",
          "Lewis Carroll"
         ],
         "xaxis": "x2",
         "y": [
          4.424393910919,
          4.51461593305565,
          4.700280112044818,
          4.752663339044923,
          4.7402288601575275,
          4.634964142229565,
          4.741960580912863,
          4.640714501055171,
          4.6643797515297605,
          4.618639308046579
         ],
         "yaxis": "y2"
        },
        {
         "marker": {
          "color": "#e74c3c"
         },
         "name": "gpt-3.5-turbo-0125",
         "showlegend": false,
         "type": "bar",
         "x": [
          "Mark Twain",
          "Zane Grey",
          "Joseph Conrad",
          "George Eliot",
          "Benjamin Disraeli",
          "Lucy Maud Montgomery",
          "William Henry Hudson",
          "Howard Pyle",
          "Virginia Woolf",
          "Lewis Carroll"
         ],
         "xaxis": "x3",
         "y": [
          20.592105263157894,
          21.630681818181817,
          23.06201550387597,
          23.02401372212693,
          22.69477234401349,
          21.51292407108239,
          23.697980684811238,
          21.4,
          23.550218340611355,
          21.625101214574897
         ],
         "yaxis": "y3"
        },
        {
         "marker": {
          "color": "#e74c3c"
         },
         "name": "gpt-3.5-turbo-0125",
         "showlegend": false,
         "type": "bar",
         "x": [
          "Mark Twain",
          "Zane Grey",
          "Joseph Conrad",
          "George Eliot",
          "Benjamin Disraeli",
          "Lucy Maud Montgomery",
          "William Henry Hudson",
          "Howard Pyle",
          "Virginia Woolf",
          "Lewis Carroll"
         ],
         "xaxis": "x4",
         "y": [
          1.4283029505732006,
          1.4548013058651357,
          1.5311671335200747,
          1.5501378231393876,
          1.5625650170902066,
          1.4898809747305974,
          1.548606994665086,
          1.4902019897497738,
          1.5285369923975525,
          1.4871756468341633
         ],
         "yaxis": "y4"
        },
        {
         "marker": {
          "color": "#e74c3c"
         },
         "name": "gpt-3.5-turbo-0125",
         "showlegend": false,
         "type": "bar",
         "x": [
          "Mark Twain",
          "Zane Grey",
          "Joseph Conrad",
          "George Eliot",
          "Benjamin Disraeli",
          "Lucy Maud Montgomery",
          "William Henry Hudson",
          "Howard Pyle",
          "Virginia Woolf",
          "Lewis Carroll"
         ],
         "xaxis": "x5",
         "y": [
          65.09958353940199,
          61.80366747835498,
          53.89031476776759,
          52.32396623444899,
          51.60680562499485,
          58.955451605642835,
          51.76939785625032,
          59.04291166716915,
          53.61729882744655,
          59.07046254503628
         ],
         "yaxis": "y5"
        },
        {
         "marker": {
          "color": "#e74c3c"
         },
         "name": "gpt-3.5-turbo-0125",
         "showlegend": false,
         "type": "bar",
         "x": [
          "Mark Twain",
          "Zane Grey",
          "Joseph Conrad",
          "George Eliot",
          "Benjamin Disraeli",
          "Lucy Maud Montgomery",
          "William Henry Hudson",
          "Howard Pyle",
          "Virginia Woolf",
          "Lewis Carroll"
         ],
         "xaxis": "x6",
         "y": [
          9.294895869395344,
          10.012621318299512,
          11.47195822204851,
          11.68099166467428,
          11.699228415829698,
          10.380635889543182,
          11.9257750041244,
          10.340383479047333,
          11.631321663129551,
          10.39246210632734
         ],
         "yaxis": "y6"
        },
        {
         "marker": {
          "color": "#e74c3c"
         },
         "name": "gpt-3.5-turbo-0125",
         "showlegend": false,
         "type": "bar",
         "x": [
          "Mark Twain",
          "Zane Grey",
          "Joseph Conrad",
          "George Eliot",
          "Benjamin Disraeli",
          "Lucy Maud Montgomery",
          "William Henry Hudson",
          "Howard Pyle",
          "Virginia Woolf",
          "Lewis Carroll"
         ],
         "xaxis": "x7",
         "y": [
          12.018086232306947,
          12.80252226759319,
          14.472985473259072,
          14.688261526994257,
          14.76820467248428,
          13.113861852365671,
          15.030466725613886,
          13.139439252336448,
          14.69359002491504,
          13.27354743157452
         ],
         "yaxis": "y7"
        },
        {
         "marker": {
          "color": "#e74c3c"
         },
         "name": "gpt-3.5-turbo-0125",
         "showlegend": false,
         "type": "bar",
         "x": [
          "Mark Twain",
          "Zane Grey",
          "Joseph Conrad",
          "George Eliot",
          "Benjamin Disraeli",
          "Lucy Maud Montgomery",
          "William Henry Hudson",
          "Howard Pyle",
          "Virginia Woolf",
          "Lewis Carroll"
         ],
         "xaxis": "x8",
         "y": [
          100.49133490959397,
          120.4557468560927,
          128.86118533510734,
          122.43904056436084,
          113.87280901446088,
          106.01487773569826,
          128.9233325608929,
          108.58662994696394,
          139.50527539463823,
          115.40454819968068
         ],
         "yaxis": "y8"
        },
        {
         "marker": {
          "color": "#e74c3c"
         },
         "name": "gpt-3.5-turbo-0125",
         "showlegend": false,
         "type": "bar",
         "x": [
          "Mark Twain",
          "Zane Grey",
          "Joseph Conrad",
          "George Eliot",
          "Benjamin Disraeli",
          "Lucy Maud Montgomery",
          "William Henry Hudson",
          "Howard Pyle",
          "Virginia Woolf",
          "Lewis Carroll"
         ],
         "xaxis": "x9",
         "y": [
          0.18406314602518323,
          0.17328980449547826,
          0.1800186741363212,
          0.18531624823064888,
          0.18539158864615843,
          0.17331881500394247,
          0.17994220509780676,
          0.18186614410611998,
          0.17441127387353977,
          0.17493541019208447
         ],
         "yaxis": "y9"
        },
        {
         "marker": {
          "color": "#e74c3c"
         },
         "name": "gpt-3.5-turbo-0125",
         "showlegend": false,
         "type": "bar",
         "x": [
          "Mark Twain",
          "Zane Grey",
          "Joseph Conrad",
          "George Eliot",
          "Benjamin Disraeli",
          "Lucy Maud Montgomery",
          "William Henry Hudson",
          "Howard Pyle",
          "Virginia Woolf",
          "Lewis Carroll"
         ],
         "xaxis": "x10",
         "y": [
          0.08305528379696422,
          0.0860011151451188,
          0.08409303738091993,
          0.08264917645408325,
          0.0826081530465795,
          0.08599797009267172,
          0.08404733113958855,
          0.08366587635107756,
          0.08558560228341036,
          0.0855191318569239
         ],
         "yaxis": "y10"
        },
        {
         "marker": {
          "color": "#e74c3c"
         },
         "name": "gpt-3.5-turbo-0125",
         "showlegend": false,
         "type": "bar",
         "x": [
          "Mark Twain",
          "Zane Grey",
          "Joseph Conrad",
          "George Eliot",
          "Benjamin Disraeli",
          "Lucy Maud Montgomery",
          "William Henry Hudson",
          "Howard Pyle",
          "Virginia Woolf",
          "Lewis Carroll"
         ],
         "xaxis": "x11",
         "y": [
          0.9897466598519036,
          0.9877378813559672,
          0.9869064125868212,
          0.9875550909184383,
          0.9884123182969508,
          0.9891818744448011,
          0.9869017783354281,
          0.988934126064566,
          0.9858368422245166,
          0.9882455040841415
         ],
         "yaxis": "y11"
        },
        {
         "marker": {
          "color": "#2ecc71"
         },
         "name": "gpt-4o",
         "showlegend": true,
         "type": "bar",
         "x": [
          "Mark Twain",
          "Zane Grey",
          "Joseph Conrad",
          "George Eliot",
          "Benjamin Disraeli",
          "Lucy Maud Montgomery",
          "William Henry Hudson",
          "Howard Pyle",
          "Virginia Woolf",
          "Lewis Carroll"
         ],
         "xaxis": "x",
         "y": [
          5356,
          4827,
          4862,
          5260,
          5359,
          4735,
          5068,
          4882,
          4801,
          4943
         ],
         "yaxis": "y"
        },
        {
         "marker": {
          "color": "#2ecc71"
         },
         "name": "gpt-4o",
         "showlegend": false,
         "type": "bar",
         "x": [
          "Mark Twain",
          "Zane Grey",
          "Joseph Conrad",
          "George Eliot",
          "Benjamin Disraeli",
          "Lucy Maud Montgomery",
          "William Henry Hudson",
          "Howard Pyle",
          "Virginia Woolf",
          "Lewis Carroll"
         ],
         "xaxis": "x2",
         "y": [
          4.449081803005009,
          4.581452081316554,
          4.653837263060564,
          4.79194245705322,
          4.82529035225574,
          4.628873917228104,
          4.662941267149684,
          4.568205524435001,
          4.6316745930479835,
          4.696590775038339
         ],
         "yaxis": "y2"
        },
        {
         "marker": {
          "color": "#2ecc71"
         },
         "name": "gpt-4o",
         "showlegend": false,
         "type": "bar",
         "x": [
          "Mark Twain",
          "Zane Grey",
          "Joseph Conrad",
          "George Eliot",
          "Benjamin Disraeli",
          "Lucy Maud Montgomery",
          "William Henry Hudson",
          "Howard Pyle",
          "Virginia Woolf",
          "Lewis Carroll"
         ],
         "xaxis": "x3",
         "y": [
          19.065136935603256,
          18.905563689604683,
          20.864951768488744,
          21.780833333333334,
          21.279771615008155,
          20.485015772870664,
          20.319498825371966,
          20.446287519747237,
          20.237089201877936,
          18.549234135667398
         ],
         "yaxis": "y3"
        },
        {
         "marker": {
          "color": "#2ecc71"
         },
         "name": "gpt-4o",
         "showlegend": false,
         "type": "bar",
         "x": [
          "Mark Twain",
          "Zane Grey",
          "Joseph Conrad",
          "George Eliot",
          "Benjamin Disraeli",
          "Lucy Maud Montgomery",
          "William Henry Hudson",
          "Howard Pyle",
          "Virginia Woolf",
          "Lewis Carroll"
         ],
         "xaxis": "x4",
         "y": [
          1.4392592305004466,
          1.4676089060987416,
          1.5248112189859762,
          1.569001798217087,
          1.591973628732416,
          1.4858902791145332,
          1.52135039309388,
          1.459609812632799,
          1.5067470904380775,
          1.5070976367425584
         ],
         "yaxis": "y4"
        },
        {
         "marker": {
          "color": "#2ecc71"
         },
         "name": "gpt-4o",
         "showlegend": false,
         "type": "bar",
         "x": [
          "Mark Twain",
          "Zane Grey",
          "Joseph Conrad",
          "George Eliot",
          "Benjamin Disraeli",
          "Lucy Maud Montgomery",
          "William Henry Hudson",
          "Howard Pyle",
          "Virginia Woolf",
          "Lewis Carroll"
         ],
         "xaxis": "x5",
         "y": [
          65.72255511002494,
          63.48613939909772,
          56.65804482877036,
          51.98990203750114,
          50.555062820004366,
          60.33639137744679,
          57.50446543650523,
          62.59902801872178,
          58.82355060903255,
          60.50706728387716
         ],
         "yaxis": "y5"
        },
        {
         "marker": {
          "color": "#2ecc71"
         },
         "name": "gpt-4o",
         "showlegend": false,
         "type": "bar",
         "x": [
          "Mark Twain",
          "Zane Grey",
          "Joseph Conrad",
          "George Eliot",
          "Benjamin Disraeli",
          "Lucy Maud Montgomery",
          "William Henry Hudson",
          "Howard Pyle",
          "Virginia Woolf",
          "Lewis Carroll"
         ],
         "xaxis": "x6",
         "y": [
          8.828662324790542,
          9.10095493091098,
          10.540103573745132,
          11.418746218961626,
          11.494399748895692,
          9.93266144497105,
          10.286539180402855,
          9.607447921768454,
          10.082080455901714,
          9.427953426472474
         ],
         "yaxis": "y6"
        },
        {
         "marker": {
          "color": "#2ecc71"
         },
         "name": "gpt-4o",
         "showlegend": false,
         "type": "bar",
         "x": [
          "Mark Twain",
          "Zane Grey",
          "Joseph Conrad",
          "George Eliot",
          "Benjamin Disraeli",
          "Lucy Maud Montgomery",
          "William Henry Hudson",
          "Howard Pyle",
          "Virginia Woolf",
          "Lewis Carroll"
         ],
         "xaxis": "x7",
         "y": [
          11.682427799050092,
          11.826310664612445,
          13.579452736984033,
          14.520191924602415,
          14.565034484479249,
          12.744535664297448,
          13.275017042095758,
          12.372449719121612,
          12.94036790825765,
          12.408880080282453
         ],
         "yaxis": "y7"
        },
        {
         "marker": {
          "color": "#2ecc71"
         },
         "name": "gpt-4o",
         "showlegend": false,
         "type": "bar",
         "x": [
          "Mark Twain",
          "Zane Grey",
          "Joseph Conrad",
          "George Eliot",
          "Benjamin Disraeli",
          "Lucy Maud Montgomery",
          "William Henry Hudson",
          "Howard Pyle",
          "Virginia Woolf",
          "Lewis Carroll"
         ],
         "xaxis": "x8",
         "y": [
          100.14122385784032,
          123.56266152026429,
          142.60003012450923,
          138.1679844562523,
          135.9750008089347,
          121.80636097307293,
          126.54685073023622,
          122.55343543367042,
          134.58082446102918,
          109.08155558860011
         ],
         "yaxis": "y8"
        },
        {
         "marker": {
          "color": "#2ecc71"
         },
         "name": "gpt-4o",
         "showlegend": false,
         "type": "bar",
         "x": [
          "Mark Twain",
          "Zane Grey",
          "Joseph Conrad",
          "George Eliot",
          "Benjamin Disraeli",
          "Lucy Maud Montgomery",
          "William Henry Hudson",
          "Howard Pyle",
          "Virginia Woolf",
          "Lewis Carroll"
         ],
         "xaxis": "x9",
         "y": [
          0.20794347167760222,
          0.18691190706679575,
          0.18731699799660964,
          0.20124727397941616,
          0.20541224270765457,
          0.18229066410009626,
          0.19531370433174042,
          0.18860343828472087,
          0.1856319839152457,
          0.19436907711061302
         ],
         "yaxis": "y9"
        },
        {
         "marker": {
          "color": "#2ecc71"
         },
         "name": "gpt-4o",
         "showlegend": false,
         "type": "bar",
         "x": [
          "Mark Twain",
          "Zane Grey",
          "Joseph Conrad",
          "George Eliot",
          "Benjamin Disraeli",
          "Lucy Maud Montgomery",
          "William Henry Hudson",
          "Howard Pyle",
          "Virginia Woolf",
          "Lewis Carroll"
         ],
         "xaxis": "x10",
         "y": [
          0.07731477020499511,
          0.08254265338292206,
          0.08239506451904871,
          0.07881250656861108,
          0.07781957442004148,
          0.08372706645936472,
          0.08034102740227772,
          0.08208049928771603,
          0.082868843445028,
          0.08073940294004651
         ],
         "yaxis": "y10"
        },
        {
         "marker": {
          "color": "#2ecc71"
         },
         "name": "gpt-4o",
         "showlegend": false,
         "type": "bar",
         "x": [
          "Mark Twain",
          "Zane Grey",
          "Joseph Conrad",
          "George Eliot",
          "Benjamin Disraeli",
          "Lucy Maud Montgomery",
          "William Henry Hudson",
          "Howard Pyle",
          "Virginia Woolf",
          "Lewis Carroll"
         ],
         "xaxis": "x11",
         "y": [
          0.9897991711168299,
          0.9874365658347148,
          0.9855343203112842,
          0.9859930874859337,
          0.9862158979411255,
          0.9876081706608765,
          0.9871479984313174,
          0.9875398223722414,
          0.9863336276143012,
          0.9888895381494143
         ],
         "yaxis": "y11"
        },
        {
         "marker": {
          "color": "#f1c40f"
         },
         "name": "gemini-1.5-flash",
         "showlegend": true,
         "type": "bar",
         "x": [
          "Mark Twain",
          "Zane Grey",
          "Joseph Conrad",
          "George Eliot",
          "Benjamin Disraeli",
          "Lucy Maud Montgomery",
          "William Henry Hudson",
          "Howard Pyle",
          "Virginia Woolf",
          "Lewis Carroll"
         ],
         "xaxis": "x",
         "y": [
          4020,
          3980,
          3917,
          4513,
          4383,
          4288,
          4165,
          4256,
          3973,
          4182
         ],
         "yaxis": "y"
        },
        {
         "marker": {
          "color": "#f1c40f"
         },
         "name": "gemini-1.5-flash",
         "showlegend": false,
         "type": "bar",
         "x": [
          "Mark Twain",
          "Zane Grey",
          "Joseph Conrad",
          "George Eliot",
          "Benjamin Disraeli",
          "Lucy Maud Montgomery",
          "William Henry Hudson",
          "Howard Pyle",
          "Virginia Woolf",
          "Lewis Carroll"
         ],
         "xaxis": "x2",
         "y": [
          4.201676332724239,
          4.456391781147314,
          4.525236593059937,
          4.66412004388027,
          4.630260324916813,
          4.509139527458493,
          4.550542367552271,
          4.425068012459094,
          4.546484452366805,
          4.570833503491649
         ],
         "yaxis": "y2"
        },
        {
         "marker": {
          "color": "#f1c40f"
         },
         "name": "gemini-1.5-flash",
         "showlegend": false,
         "type": "bar",
         "x": [
          "Mark Twain",
          "Zane Grey",
          "Joseph Conrad",
          "George Eliot",
          "Benjamin Disraeli",
          "Lucy Maud Montgomery",
          "William Henry Hudson",
          "Howard Pyle",
          "Virginia Woolf",
          "Lewis Carroll"
         ],
         "xaxis": "x3",
         "y": [
          17.171896316507503,
          17.838276836158194,
          19.50769230769231,
          21.146644573322288,
          20.853061224489796,
          18.47787610619469,
          20.24184566428003,
          18.731905465288037,
          19.661214953271028,
          17.68014440433213
         ],
         "yaxis": "y3"
        },
        {
         "marker": {
          "color": "#f1c40f"
         },
         "name": "gemini-1.5-flash",
         "showlegend": false,
         "type": "bar",
         "x": [
          "Mark Twain",
          "Zane Grey",
          "Joseph Conrad",
          "George Eliot",
          "Benjamin Disraeli",
          "Lucy Maud Montgomery",
          "William Henry Hudson",
          "Howard Pyle",
          "Virginia Woolf",
          "Lewis Carroll"
         ],
         "xaxis": "x4",
         "y": [
          1.3643044410900136,
          1.4259867769903796,
          1.4740930599369084,
          1.5419213289453064,
          1.5432374241534548,
          1.4570961047254152,
          1.492571922653671,
          1.4284982060481803,
          1.492414339473163,
          1.4884224282272227
         ],
         "yaxis": "y4"
        },
        {
         "marker": {
          "color": "#f1c40f"
         },
         "name": "gemini-1.5-flash",
         "showlegend": false,
         "type": "bar",
         "x": [
          "Mark Twain",
          "Zane Grey",
          "Joseph Conrad",
          "George Eliot",
          "Benjamin Disraeli",
          "Lucy Maud Montgomery",
          "William Henry Hudson",
          "Howard Pyle",
          "Virginia Woolf",
          "Lewis Carroll"
         ],
         "xaxis": "x5",
         "y": [
          73.98536952252977,
          68.09066767791334,
          62.326419437029884,
          54.92461132930498,
          55.1112567737606,
          64.80962529244229,
          60.01794199425524,
          66.9711677210566,
          60.620613703000345,
          62.96911600157986
         ],
         "yaxis": "y5"
        },
        {
         "marker": {
          "color": "#f1c40f"
         },
         "name": "gemini-1.5-flash",
         "showlegend": false,
         "type": "bar",
         "x": [
          "Mark Twain",
          "Zane Grey",
          "Joseph Conrad",
          "George Eliot",
          "Benjamin Disraeli",
          "Lucy Maud Montgomery",
          "William Henry Hudson",
          "Howard Pyle",
          "Virginia Woolf",
          "Lewis Carroll"
         ],
         "xaxis": "x6",
         "y": [
          7.205831968300089,
          8.193571934588174,
          9.41229810725552,
          10.851863065150308,
          10.752895482561787,
          8.810105717175826,
          9.916668496382531,
          8.57172196283086,
          9.688363037559025,
          8.868640970770759
         ],
         "yaxis": "y6"
        },
        {
         "marker": {
          "color": "#f1c40f"
         },
         "name": "gemini-1.5-flash",
         "showlegend": false,
         "type": "bar",
         "x": [
          "Mark Twain",
          "Zane Grey",
          "Joseph Conrad",
          "George Eliot",
          "Benjamin Disraeli",
          "Lucy Maud Montgomery",
          "William Henry Hudson",
          "Howard Pyle",
          "Virginia Woolf",
          "Lewis Carroll"
         ],
         "xaxis": "x7",
         "y": [
          10.021217412755382,
          10.847254991955658,
          12.206862412035916,
          13.89667694858922,
          13.859329794160766,
          11.576974197267148,
          12.79254081248139,
          11.148481146805986,
          12.571952806422296,
          11.761893184610297
         ],
         "yaxis": "y7"
        },
        {
         "marker": {
          "color": "#f1c40f"
         },
         "name": "gemini-1.5-flash",
         "showlegend": false,
         "type": "bar",
         "x": [
          "Mark Twain",
          "Zane Grey",
          "Joseph Conrad",
          "George Eliot",
          "Benjamin Disraeli",
          "Lucy Maud Montgomery",
          "William Henry Hudson",
          "Howard Pyle",
          "Virginia Woolf",
          "Lewis Carroll"
         ],
         "xaxis": "x8",
         "y": [
          111.21917193579557,
          142.0580964156627,
          165.22558861281175,
          151.35741686795546,
          149.6877199692531,
          123.80624181155993,
          163.33360041872268,
          128.85737428399204,
          163.80779079051254,
          122.65240085292385
         ],
         "yaxis": "y8"
        },
        {
         "marker": {
          "color": "#f1c40f"
         },
         "name": "gemini-1.5-flash",
         "showlegend": false,
         "type": "bar",
         "x": [
          "Mark Twain",
          "Zane Grey",
          "Joseph Conrad",
          "George Eliot",
          "Benjamin Disraeli",
          "Lucy Maud Montgomery",
          "William Henry Hudson",
          "Howard Pyle",
          "Virginia Woolf",
          "Lewis Carroll"
         ],
         "xaxis": "x9",
         "y": [
          0.15968856756971478,
          0.15756759966744527,
          0.1544558359621451,
          0.17681397900015672,
          0.17157956547269523,
          0.17113665389527458,
          0.16369281559503224,
          0.16780349327760913,
          0.15737769855416914,
          0.17078449789684322
         ],
         "yaxis": "y9"
        },
        {
         "marker": {
          "color": "#f1c40f"
         },
         "name": "gemini-1.5-flash",
         "showlegend": false,
         "type": "bar",
         "x": [
          "Mark Twain",
          "Zane Grey",
          "Joseph Conrad",
          "George Eliot",
          "Benjamin Disraeli",
          "Lucy Maud Montgomery",
          "William Henry Hudson",
          "Howard Pyle",
          "Virginia Woolf",
          "Lewis Carroll"
         ],
         "xaxis": "x10",
         "y": [
          0.09051747593766599,
          0.09114688990761055,
          0.09209448088156807,
          0.08537464893699695,
          0.08684834369509845,
          0.08714166240890332,
          0.08920158300619568,
          0.08800677682513258,
          0.09121136047088937,
          0.08744165168830818
         ],
         "yaxis": "y10"
        },
        {
         "marker": {
          "color": "#f1c40f"
         },
         "name": "gemini-1.5-flash",
         "showlegend": false,
         "type": "bar",
         "x": [
          "Mark Twain",
          "Zane Grey",
          "Joseph Conrad",
          "George Eliot",
          "Benjamin Disraeli",
          "Lucy Maud Montgomery",
          "William Henry Hudson",
          "Howard Pyle",
          "Virginia Woolf",
          "Lewis Carroll"
         ],
         "xaxis": "x11",
         "y": [
          0.988629326587515,
          0.9855429340770266,
          0.9832221437172228,
          0.9846426762170378,
          0.9848030737708137,
          0.9873861668636201,
          0.9834265439197124,
          0.9868793001655858,
          0.9833675219529145,
          0.9874956398764484
         ],
         "yaxis": "y11"
        },
        {
         "marker": {
          "color": "#9b59b6"
         },
         "name": "open-mixtral-8x7b",
         "showlegend": true,
         "type": "bar",
         "x": [
          "Mark Twain",
          "Zane Grey",
          "Joseph Conrad",
          "George Eliot",
          "Benjamin Disraeli",
          "Lucy Maud Montgomery",
          "William Henry Hudson",
          "Howard Pyle",
          "Virginia Woolf",
          "Lewis Carroll"
         ],
         "xaxis": "x",
         "y": [
          4553,
          4311,
          4248,
          4350,
          4773,
          4402,
          4727,
          4261,
          3469,
          4719
         ],
         "yaxis": "y"
        },
        {
         "marker": {
          "color": "#9b59b6"
         },
         "name": "open-mixtral-8x7b",
         "showlegend": false,
         "type": "bar",
         "x": [
          "Mark Twain",
          "Zane Grey",
          "Joseph Conrad",
          "George Eliot",
          "Benjamin Disraeli",
          "Lucy Maud Montgomery",
          "William Henry Hudson",
          "Howard Pyle",
          "Virginia Woolf",
          "Lewis Carroll"
         ],
         "xaxis": "x2",
         "y": [
          4.3701231442053174,
          4.449597312874538,
          4.658775479332904,
          4.75157315648668,
          4.643510469423237,
          4.51348791391983,
          4.583345847724884,
          4.397834705702958,
          4.442866414690948,
          4.618681403617251
         ],
         "yaxis": "y2"
        },
        {
         "marker": {
          "color": "#9b59b6"
         },
         "name": "open-mixtral-8x7b",
         "showlegend": false,
         "type": "bar",
         "x": [
          "Mark Twain",
          "Zane Grey",
          "Joseph Conrad",
          "George Eliot",
          "Benjamin Disraeli",
          "Lucy Maud Montgomery",
          "William Henry Hudson",
          "Howard Pyle",
          "Virginia Woolf",
          "Lewis Carroll"
         ],
         "xaxis": "x3",
         "y": [
          21.868288590604028,
          21.23095623987034,
          30.11731207289294,
          29.099780701754387,
          26.352589641434264,
          23.1729587357331,
          27.290983606557376,
          23.152691968225948,
          26.114656031904286,
          21.473858921161824
         ],
         "yaxis": "y3"
        },
        {
         "marker": {
          "color": "#9b59b6"
         },
         "name": "open-mixtral-8x7b",
         "showlegend": false,
         "type": "bar",
         "x": [
          "Mark Twain",
          "Zane Grey",
          "Joseph Conrad",
          "George Eliot",
          "Benjamin Disraeli",
          "Lucy Maud Montgomery",
          "William Henry Hudson",
          "Howard Pyle",
          "Virginia Woolf",
          "Lewis Carroll"
         ],
         "xaxis": "x4",
         "y": [
          1.4413626424214525,
          1.4358944997900682,
          1.5629467155769012,
          1.5757564339274275,
          1.5526872779499585,
          1.4574145639160416,
          1.5135906292236072,
          1.4117871302226288,
          1.481235444584431,
          1.505912814963673
         ],
         "yaxis": "y4"
        },
        {
         "marker": {
          "color": "#9b59b6"
         },
         "name": "open-mixtral-8x7b",
         "showlegend": false,
         "type": "bar",
         "x": [
          "Mark Twain",
          "Zane Grey",
          "Joseph Conrad",
          "George Eliot",
          "Benjamin Disraeli",
          "Lucy Maud Montgomery",
          "William Henry Hudson",
          "Howard Pyle",
          "Virginia Woolf",
          "Lewis Carroll"
         ],
         "xaxis": "x5",
         "y": [
          62.699407531682056,
          63.80890473429186,
          44.04063610820785,
          43.989728277458966,
          48.72977779937773,
          60.017174775933796,
          51.08488440702712,
          63.89782643541629,
          55.01610551577431,
          57.638809049094036
         ],
         "yaxis": "y5"
        },
        {
         "marker": {
          "color": "#9b59b6"
         },
         "name": "open-mixtral-8x7b",
         "showlegend": false,
         "type": "bar",
         "x": [
          "Mark Twain",
          "Zane Grey",
          "Joseph Conrad",
          "George Eliot",
          "Benjamin Disraeli",
          "Lucy Maud Montgomery",
          "William Henry Hudson",
          "Howard Pyle",
          "Virginia Woolf",
          "Lewis Carroll"
         ],
         "xaxis": "x6",
         "y": [
          9.946711730908714,
          9.633628031072242,
          14.59852295223568,
          14.352840394027858,
          13.009219839968875,
          10.644945761145202,
          12.913853031395941,
          10.098638004235138,
          12.073294098538959,
          10.554576195824456
         ],
         "yaxis": "y6"
        },
        {
         "marker": {
          "color": "#9b59b6"
         },
         "name": "open-mixtral-8x7b",
         "showlegend": false,
         "type": "bar",
         "x": [
          "Mark Twain",
          "Zane Grey",
          "Joseph Conrad",
          "George Eliot",
          "Benjamin Disraeli",
          "Lucy Maud Montgomery",
          "William Henry Hudson",
          "Howard Pyle",
          "Virginia Woolf",
          "Lewis Carroll"
         ],
         "xaxis": "x7",
         "y": [
          12.864398337994785,
          12.518490362660607,
          18.064396371720427,
          17.6401383630711,
          16.28901378385468,
          13.667152729725537,
          16.007247925278005,
          12.917679410041217,
          15.17231604541166,
          13.577949813634
         ],
         "yaxis": "y7"
        },
        {
         "marker": {
          "color": "#9b59b6"
         },
         "name": "open-mixtral-8x7b",
         "showlegend": false,
         "type": "bar",
         "x": [
          "Mark Twain",
          "Zane Grey",
          "Joseph Conrad",
          "George Eliot",
          "Benjamin Disraeli",
          "Lucy Maud Montgomery",
          "William Henry Hudson",
          "Howard Pyle",
          "Virginia Woolf",
          "Lewis Carroll"
         ],
         "xaxis": "x8",
         "y": [
          117.95966230667351,
          134.28233936967337,
          158.74405565137687,
          139.8788247444346,
          137.8565020350287,
          135.2277240282728,
          132.21483484474712,
          119.6727306878928,
          165.37205594046645,
          103.05977697697594
         ],
         "yaxis": "y8"
        },
        {
         "marker": {
          "color": "#9b59b6"
         },
         "name": "open-mixtral-8x7b",
         "showlegend": false,
         "type": "bar",
         "x": [
          "Mark Twain",
          "Zane Grey",
          "Joseph Conrad",
          "George Eliot",
          "Benjamin Disraeli",
          "Lucy Maud Montgomery",
          "William Henry Hudson",
          "Howard Pyle",
          "Virginia Woolf",
          "Lewis Carroll"
         ],
         "xaxis": "x9",
         "y": [
          0.17466528561015843,
          0.16454826520096186,
          0.1606474303218243,
          0.16390971777384228,
          0.18039912313855921,
          0.1667803288626203,
          0.17746658657456074,
          0.1624351936566026,
          0.13243996487611193,
          0.18236976348740144
         ],
         "yaxis": "y9"
        },
        {
         "marker": {
          "color": "#9b59b6"
         },
         "name": "open-mixtral-8x7b",
         "showlegend": false,
         "type": "bar",
         "x": [
          "Mark Twain",
          "Zane Grey",
          "Joseph Conrad",
          "George Eliot",
          "Benjamin Disraeli",
          "Lucy Maud Montgomery",
          "William Henry Hudson",
          "Howard Pyle",
          "Virginia Woolf",
          "Lewis Carroll"
         ],
         "xaxis": "x10",
         "y": [
          0.08579911427562438,
          0.08868902103402176,
          0.0897863431937,
          0.08876760772437244,
          0.08408773201961414,
          0.08796271142784703,
          0.08483659052431955,
          0.08931319135720463,
          0.09935990625342758,
          0.08373718458256423
         ],
         "yaxis": "y10"
        },
        {
         "marker": {
          "color": "#9b59b6"
         },
         "name": "open-mixtral-8x7b",
         "showlegend": false,
         "type": "bar",
         "x": [
          "Mark Twain",
          "Zane Grey",
          "Joseph Conrad",
          "George Eliot",
          "Benjamin Disraeli",
          "Lucy Maud Montgomery",
          "William Henry Hudson",
          "Howard Pyle",
          "Virginia Woolf",
          "Lewis Carroll"
         ],
         "xaxis": "x11",
         "y": [
          0.9879843983641053,
          0.9863398013216733,
          0.9838901895384404,
          0.9857822324680853,
          0.9860048379590783,
          0.9862500581287493,
          0.9865669658491407,
          0.9877980402379463,
          0.983174526893702,
          0.989482112999484
         ],
         "yaxis": "y11"
        },
        {
         "marker": {
          "color": "#e67e22"
         },
         "name": "claude-3-haiku-20240307",
         "showlegend": true,
         "type": "bar",
         "x": [
          "Mark Twain",
          "Zane Grey",
          "Joseph Conrad",
          "George Eliot",
          "Benjamin Disraeli",
          "Lucy Maud Montgomery",
          "William Henry Hudson",
          "Howard Pyle",
          "Virginia Woolf",
          "Lewis Carroll"
         ],
         "xaxis": "x",
         "y": [
          4406,
          4749,
          4444,
          4749,
          4254,
          4679,
          4549,
          4518,
          4472,
          4546
         ],
         "yaxis": "y"
        },
        {
         "marker": {
          "color": "#e67e22"
         },
         "name": "claude-3-haiku-20240307",
         "showlegend": false,
         "type": "bar",
         "x": [
          "Mark Twain",
          "Zane Grey",
          "Joseph Conrad",
          "George Eliot",
          "Benjamin Disraeli",
          "Lucy Maud Montgomery",
          "William Henry Hudson",
          "Howard Pyle",
          "Virginia Woolf",
          "Lewis Carroll"
         ],
         "xaxis": "x2",
         "y": [
          4.341809788349439,
          4.566966507177034,
          4.680878503963889,
          4.765330010572421,
          4.745515227367543,
          4.615828713439113,
          4.7299149160454785,
          4.594135390019472,
          4.635060639470783,
          4.685200045855783
         ],
         "yaxis": "y2"
        },
        {
         "marker": {
          "color": "#e67e22"
         },
         "name": "claude-3-haiku-20240307",
         "showlegend": false,
         "type": "bar",
         "x": [
          "Mark Twain",
          "Zane Grey",
          "Joseph Conrad",
          "George Eliot",
          "Benjamin Disraeli",
          "Lucy Maud Montgomery",
          "William Henry Hudson",
          "Howard Pyle",
          "Virginia Woolf",
          "Lewis Carroll"
         ],
         "xaxis": "x3",
         "y": [
          20.46517213771017,
          21.537510305028853,
          26.38938938938939,
          27.387797311271974,
          25.774193548387096,
          22.922874671340928,
          26.884615384615383,
          22.559000861326442,
          26.32932932932933,
          24.411380597014926
         ],
         "yaxis": "y3"
        },
        {
         "marker": {
          "color": "#e67e22"
         },
         "name": "claude-3-haiku-20240307",
         "showlegend": false,
         "type": "bar",
         "x": [
          "Mark Twain",
          "Zane Grey",
          "Joseph Conrad",
          "George Eliot",
          "Benjamin Disraeli",
          "Lucy Maud Montgomery",
          "William Henry Hudson",
          "Howard Pyle",
          "Virginia Woolf",
          "Lewis Carroll"
         ],
         "xaxis": "x4",
         "y": [
          1.4161809005907438,
          1.4679043062200956,
          1.550809847134241,
          1.5652469415496149,
          1.571964956195244,
          1.5096922194609061,
          1.565205933288156,
          1.5033790233286244,
          1.5227540584724175,
          1.5214948985440788
         ],
         "yaxis": "y4"
        },
        {
         "marker": {
          "color": "#e67e22"
         },
         "name": "claude-3-haiku-20240307",
         "showlegend": false,
         "type": "bar",
         "x": [
          "Mark Twain",
          "Zane Grey",
          "Joseph Conrad",
          "George Eliot",
          "Benjamin Disraeli",
          "Lucy Maud Montgomery",
          "William Henry Hudson",
          "Howard Pyle",
          "Virginia Woolf",
          "Lewis Carroll"
         ],
         "xaxis": "x5",
         "y": [
          66.25394609024727,
          60.789722734175626,
          48.85125670221302,
          46.61649447396155,
          47.68595825426948,
          55.848320442196325,
          47.13069342843738,
          56.751748752152054,
          51.28573738396423,
          53.33898027720079
         ],
         "yaxis": "y5"
        },
        {
         "marker": {
          "color": "#e67e22"
         },
         "name": "claude-3-haiku-20240307",
         "showlegend": false,
         "type": "bar",
         "x": [
          "Mark Twain",
          "Zane Grey",
          "Joseph Conrad",
          "George Eliot",
          "Benjamin Disraeli",
          "Lucy Maud Montgomery",
          "William Henry Hudson",
          "Howard Pyle",
          "Virginia Woolf",
          "Lewis Carroll"
         ],
         "xaxis": "x6",
         "y": [
          9.102351760677742,
          10.13089983235838,
          13.00141805804591,
          13.561154861681526,
          13.011121966974851,
          11.164289311461655,
          13.364430012800241,
          10.947882811195083,
          12.646936328412966,
          11.884078235655952
         ],
         "yaxis": "y6"
        },
        {
         "marker": {
          "color": "#e67e22"
         },
         "name": "claude-3-haiku-20240307",
         "showlegend": false,
         "type": "bar",
         "x": [
          "Mark Twain",
          "Zane Grey",
          "Joseph Conrad",
          "George Eliot",
          "Benjamin Disraeli",
          "Lucy Maud Montgomery",
          "William Henry Hudson",
          "Howard Pyle",
          "Virginia Woolf",
          "Lewis Carroll"
         ],
         "xaxis": "x7",
         "y": [
          12.00438582233887,
          12.955673978470873,
          16.112027803701743,
          16.711047032045418,
          16.17761840619445,
          14.177752430188063,
          16.498895472421562,
          13.968810531235935,
          15.638373559660105,
          14.956955463996081
         ],
         "yaxis": "y7"
        },
        {
         "marker": {
          "color": "#e67e22"
         },
         "name": "claude-3-haiku-20240307",
         "showlegend": false,
         "type": "bar",
         "x": [
          "Mark Twain",
          "Zane Grey",
          "Joseph Conrad",
          "George Eliot",
          "Benjamin Disraeli",
          "Lucy Maud Montgomery",
          "William Henry Hudson",
          "Howard Pyle",
          "Virginia Woolf",
          "Lewis Carroll"
         ],
         "xaxis": "x8",
         "y": [
          98.00800418906506,
          121.10013222965024,
          155.2206909608844,
          152.20277924984703,
          152.6967861144217,
          117.2903278924029,
          153.7197126828139,
          127.56680696903258,
          156.9127528124869,
          126.75107361441239
         ],
         "yaxis": "y8"
        },
        {
         "marker": {
          "color": "#e67e22"
         },
         "name": "claude-3-haiku-20240307",
         "showlegend": false,
         "type": "bar",
         "x": [
          "Mark Twain",
          "Zane Grey",
          "Joseph Conrad",
          "George Eliot",
          "Benjamin Disraeli",
          "Lucy Maud Montgomery",
          "William Henry Hudson",
          "Howard Pyle",
          "Virginia Woolf",
          "Lewis Carroll"
         ],
         "xaxis": "x9",
         "y": [
          0.17237197292750675,
          0.1817799043062201,
          0.16856958616242462,
          0.17931581332125057,
          0.16133803618159062,
          0.17889504874784937,
          0.171259694300128,
          0.17250200450536443,
          0.17001862905372012,
          0.17371699338912452
         ],
         "yaxis": "y9"
        },
        {
         "marker": {
          "color": "#e67e22"
         },
         "name": "claude-3-haiku-20240307",
         "showlegend": false,
         "type": "bar",
         "x": [
          "Mark Twain",
          "Zane Grey",
          "Joseph Conrad",
          "George Eliot",
          "Benjamin Disraeli",
          "Lucy Maud Montgomery",
          "William Henry Hudson",
          "Howard Pyle",
          "Virginia Woolf",
          "Lewis Carroll"
         ],
         "xaxis": "x10",
         "y": [
          0.08661597993001456,
          0.08381760151945088,
          0.08744873146994823,
          0.08437533129624418,
          0.08960103513009264,
          0.08459450146132272,
          0.0866071051145703,
          0.0863716142022762,
          0.08704780203535588,
          0.08603376237020097
         ],
         "yaxis": "y10"
        },
        {
         "marker": {
          "color": "#e67e22"
         },
         "name": "claude-3-haiku-20240307",
         "showlegend": false,
         "type": "bar",
         "x": [
          "Mark Twain",
          "Zane Grey",
          "Joseph Conrad",
          "George Eliot",
          "Benjamin Disraeli",
          "Lucy Maud Montgomery",
          "William Henry Hudson",
          "Howard Pyle",
          "Virginia Woolf",
          "Lewis Carroll"
         ],
         "xaxis": "x11",
         "y": [
          0.9899722363491371,
          0.9876794161305831,
          0.9842529084016614,
          0.9845691514285634,
          0.9844952485159674,
          0.9880572463302297,
          0.9844082001979749,
          0.9870219824283734,
          0.9840851111230446,
          0.9871049190353911
         ],
         "yaxis": "y11"
        }
       ],
       "layout": {
        "annotations": [
         {
          "font": {
           "size": 16
          },
          "showarrow": false,
          "text": "Unique word count",
          "x": 0.5,
          "xanchor": "center",
          "xref": "paper",
          "y": 0.9999999999999999,
          "yanchor": "bottom",
          "yref": "paper"
         },
         {
          "font": {
           "size": 16
          },
          "showarrow": false,
          "text": "Average word length",
          "x": 0.5,
          "xanchor": "center",
          "xref": "paper",
          "y": 0.9049586776859503,
          "yanchor": "bottom",
          "yref": "paper"
         },
         {
          "font": {
           "size": 16
          },
          "showarrow": false,
          "text": "Average sentence length",
          "x": 0.5,
          "xanchor": "center",
          "xref": "paper",
          "y": 0.8099173553719007,
          "yanchor": "bottom",
          "yref": "paper"
         },
         {
          "font": {
           "size": 16
          },
          "showarrow": false,
          "text": "Average syllables per word",
          "x": 0.5,
          "xanchor": "center",
          "xref": "paper",
          "y": 0.7148760330578511,
          "yanchor": "bottom",
          "yref": "paper"
         },
         {
          "font": {
           "size": 16
          },
          "showarrow": false,
          "text": "Flesch reading ease",
          "x": 0.5,
          "xanchor": "center",
          "xref": "paper",
          "y": 0.6198347107438015,
          "yanchor": "bottom",
          "yref": "paper"
         },
         {
          "font": {
           "size": 16
          },
          "showarrow": false,
          "text": "Flesch Kincaid Grade Level",
          "x": 0.5,
          "xanchor": "center",
          "xref": "paper",
          "y": 0.524793388429752,
          "yanchor": "bottom",
          "yref": "paper"
         },
         {
          "font": {
           "size": 16
          },
          "showarrow": false,
          "text": "Gunning Fog Index",
          "x": 0.5,
          "xanchor": "center",
          "xref": "paper",
          "y": 0.42975206611570244,
          "yanchor": "bottom",
          "yref": "paper"
         },
         {
          "font": {
           "size": 16
          },
          "showarrow": false,
          "text": "Yules Characteristic K",
          "x": 0.5,
          "xanchor": "center",
          "xref": "paper",
          "y": 0.33471074380165283,
          "yanchor": "bottom",
          "yref": "paper"
         },
         {
          "font": {
           "size": 16
          },
          "showarrow": false,
          "text": "Herdan's C",
          "x": 0.5,
          "xanchor": "center",
          "xref": "paper",
          "y": 0.23966942148760328,
          "yanchor": "bottom",
          "yref": "paper"
         },
         {
          "font": {
           "size": 16
          },
          "showarrow": false,
          "text": "Maas",
          "x": 0.5,
          "xanchor": "center",
          "xref": "paper",
          "y": 0.1446280991735537,
          "yanchor": "bottom",
          "yref": "paper"
         },
         {
          "font": {
           "size": 16
          },
          "showarrow": false,
          "text": "Simpsons_index",
          "x": 0.5,
          "xanchor": "center",
          "xref": "paper",
          "y": 0.04958677685950413,
          "yanchor": "bottom",
          "yref": "paper"
         }
        ],
        "height": 1500,
        "legend": {
         "title": {
          "text": "Text source"
         }
        },
        "template": {
         "data": {
          "bar": [
           {
            "error_x": {
             "color": "#2a3f5f"
            },
            "error_y": {
             "color": "#2a3f5f"
            },
            "marker": {
             "line": {
              "color": "#E5ECF6",
              "width": 0.5
             },
             "pattern": {
              "fillmode": "overlay",
              "size": 10,
              "solidity": 0.2
             }
            },
            "type": "bar"
           }
          ],
          "barpolar": [
           {
            "marker": {
             "line": {
              "color": "#E5ECF6",
              "width": 0.5
             },
             "pattern": {
              "fillmode": "overlay",
              "size": 10,
              "solidity": 0.2
             }
            },
            "type": "barpolar"
           }
          ],
          "carpet": [
           {
            "aaxis": {
             "endlinecolor": "#2a3f5f",
             "gridcolor": "white",
             "linecolor": "white",
             "minorgridcolor": "white",
             "startlinecolor": "#2a3f5f"
            },
            "baxis": {
             "endlinecolor": "#2a3f5f",
             "gridcolor": "white",
             "linecolor": "white",
             "minorgridcolor": "white",
             "startlinecolor": "#2a3f5f"
            },
            "type": "carpet"
           }
          ],
          "choropleth": [
           {
            "colorbar": {
             "outlinewidth": 0,
             "ticks": ""
            },
            "type": "choropleth"
           }
          ],
          "contour": [
           {
            "colorbar": {
             "outlinewidth": 0,
             "ticks": ""
            },
            "colorscale": [
             [
              0,
              "#0d0887"
             ],
             [
              0.1111111111111111,
              "#46039f"
             ],
             [
              0.2222222222222222,
              "#7201a8"
             ],
             [
              0.3333333333333333,
              "#9c179e"
             ],
             [
              0.4444444444444444,
              "#bd3786"
             ],
             [
              0.5555555555555556,
              "#d8576b"
             ],
             [
              0.6666666666666666,
              "#ed7953"
             ],
             [
              0.7777777777777778,
              "#fb9f3a"
             ],
             [
              0.8888888888888888,
              "#fdca26"
             ],
             [
              1,
              "#f0f921"
             ]
            ],
            "type": "contour"
           }
          ],
          "contourcarpet": [
           {
            "colorbar": {
             "outlinewidth": 0,
             "ticks": ""
            },
            "type": "contourcarpet"
           }
          ],
          "heatmap": [
           {
            "colorbar": {
             "outlinewidth": 0,
             "ticks": ""
            },
            "colorscale": [
             [
              0,
              "#0d0887"
             ],
             [
              0.1111111111111111,
              "#46039f"
             ],
             [
              0.2222222222222222,
              "#7201a8"
             ],
             [
              0.3333333333333333,
              "#9c179e"
             ],
             [
              0.4444444444444444,
              "#bd3786"
             ],
             [
              0.5555555555555556,
              "#d8576b"
             ],
             [
              0.6666666666666666,
              "#ed7953"
             ],
             [
              0.7777777777777778,
              "#fb9f3a"
             ],
             [
              0.8888888888888888,
              "#fdca26"
             ],
             [
              1,
              "#f0f921"
             ]
            ],
            "type": "heatmap"
           }
          ],
          "heatmapgl": [
           {
            "colorbar": {
             "outlinewidth": 0,
             "ticks": ""
            },
            "colorscale": [
             [
              0,
              "#0d0887"
             ],
             [
              0.1111111111111111,
              "#46039f"
             ],
             [
              0.2222222222222222,
              "#7201a8"
             ],
             [
              0.3333333333333333,
              "#9c179e"
             ],
             [
              0.4444444444444444,
              "#bd3786"
             ],
             [
              0.5555555555555556,
              "#d8576b"
             ],
             [
              0.6666666666666666,
              "#ed7953"
             ],
             [
              0.7777777777777778,
              "#fb9f3a"
             ],
             [
              0.8888888888888888,
              "#fdca26"
             ],
             [
              1,
              "#f0f921"
             ]
            ],
            "type": "heatmapgl"
           }
          ],
          "histogram": [
           {
            "marker": {
             "pattern": {
              "fillmode": "overlay",
              "size": 10,
              "solidity": 0.2
             }
            },
            "type": "histogram"
           }
          ],
          "histogram2d": [
           {
            "colorbar": {
             "outlinewidth": 0,
             "ticks": ""
            },
            "colorscale": [
             [
              0,
              "#0d0887"
             ],
             [
              0.1111111111111111,
              "#46039f"
             ],
             [
              0.2222222222222222,
              "#7201a8"
             ],
             [
              0.3333333333333333,
              "#9c179e"
             ],
             [
              0.4444444444444444,
              "#bd3786"
             ],
             [
              0.5555555555555556,
              "#d8576b"
             ],
             [
              0.6666666666666666,
              "#ed7953"
             ],
             [
              0.7777777777777778,
              "#fb9f3a"
             ],
             [
              0.8888888888888888,
              "#fdca26"
             ],
             [
              1,
              "#f0f921"
             ]
            ],
            "type": "histogram2d"
           }
          ],
          "histogram2dcontour": [
           {
            "colorbar": {
             "outlinewidth": 0,
             "ticks": ""
            },
            "colorscale": [
             [
              0,
              "#0d0887"
             ],
             [
              0.1111111111111111,
              "#46039f"
             ],
             [
              0.2222222222222222,
              "#7201a8"
             ],
             [
              0.3333333333333333,
              "#9c179e"
             ],
             [
              0.4444444444444444,
              "#bd3786"
             ],
             [
              0.5555555555555556,
              "#d8576b"
             ],
             [
              0.6666666666666666,
              "#ed7953"
             ],
             [
              0.7777777777777778,
              "#fb9f3a"
             ],
             [
              0.8888888888888888,
              "#fdca26"
             ],
             [
              1,
              "#f0f921"
             ]
            ],
            "type": "histogram2dcontour"
           }
          ],
          "mesh3d": [
           {
            "colorbar": {
             "outlinewidth": 0,
             "ticks": ""
            },
            "type": "mesh3d"
           }
          ],
          "parcoords": [
           {
            "line": {
             "colorbar": {
              "outlinewidth": 0,
              "ticks": ""
             }
            },
            "type": "parcoords"
           }
          ],
          "pie": [
           {
            "automargin": true,
            "type": "pie"
           }
          ],
          "scatter": [
           {
            "fillpattern": {
             "fillmode": "overlay",
             "size": 10,
             "solidity": 0.2
            },
            "type": "scatter"
           }
          ],
          "scatter3d": [
           {
            "line": {
             "colorbar": {
              "outlinewidth": 0,
              "ticks": ""
             }
            },
            "marker": {
             "colorbar": {
              "outlinewidth": 0,
              "ticks": ""
             }
            },
            "type": "scatter3d"
           }
          ],
          "scattercarpet": [
           {
            "marker": {
             "colorbar": {
              "outlinewidth": 0,
              "ticks": ""
             }
            },
            "type": "scattercarpet"
           }
          ],
          "scattergeo": [
           {
            "marker": {
             "colorbar": {
              "outlinewidth": 0,
              "ticks": ""
             }
            },
            "type": "scattergeo"
           }
          ],
          "scattergl": [
           {
            "marker": {
             "colorbar": {
              "outlinewidth": 0,
              "ticks": ""
             }
            },
            "type": "scattergl"
           }
          ],
          "scattermapbox": [
           {
            "marker": {
             "colorbar": {
              "outlinewidth": 0,
              "ticks": ""
             }
            },
            "type": "scattermapbox"
           }
          ],
          "scatterpolar": [
           {
            "marker": {
             "colorbar": {
              "outlinewidth": 0,
              "ticks": ""
             }
            },
            "type": "scatterpolar"
           }
          ],
          "scatterpolargl": [
           {
            "marker": {
             "colorbar": {
              "outlinewidth": 0,
              "ticks": ""
             }
            },
            "type": "scatterpolargl"
           }
          ],
          "scatterternary": [
           {
            "marker": {
             "colorbar": {
              "outlinewidth": 0,
              "ticks": ""
             }
            },
            "type": "scatterternary"
           }
          ],
          "surface": [
           {
            "colorbar": {
             "outlinewidth": 0,
             "ticks": ""
            },
            "colorscale": [
             [
              0,
              "#0d0887"
             ],
             [
              0.1111111111111111,
              "#46039f"
             ],
             [
              0.2222222222222222,
              "#7201a8"
             ],
             [
              0.3333333333333333,
              "#9c179e"
             ],
             [
              0.4444444444444444,
              "#bd3786"
             ],
             [
              0.5555555555555556,
              "#d8576b"
             ],
             [
              0.6666666666666666,
              "#ed7953"
             ],
             [
              0.7777777777777778,
              "#fb9f3a"
             ],
             [
              0.8888888888888888,
              "#fdca26"
             ],
             [
              1,
              "#f0f921"
             ]
            ],
            "type": "surface"
           }
          ],
          "table": [
           {
            "cells": {
             "fill": {
              "color": "#EBF0F8"
             },
             "line": {
              "color": "white"
             }
            },
            "header": {
             "fill": {
              "color": "#C8D4E3"
             },
             "line": {
              "color": "white"
             }
            },
            "type": "table"
           }
          ]
         },
         "layout": {
          "annotationdefaults": {
           "arrowcolor": "#2a3f5f",
           "arrowhead": 0,
           "arrowwidth": 1
          },
          "autotypenumbers": "strict",
          "coloraxis": {
           "colorbar": {
            "outlinewidth": 0,
            "ticks": ""
           }
          },
          "colorscale": {
           "diverging": [
            [
             0,
             "#8e0152"
            ],
            [
             0.1,
             "#c51b7d"
            ],
            [
             0.2,
             "#de77ae"
            ],
            [
             0.3,
             "#f1b6da"
            ],
            [
             0.4,
             "#fde0ef"
            ],
            [
             0.5,
             "#f7f7f7"
            ],
            [
             0.6,
             "#e6f5d0"
            ],
            [
             0.7,
             "#b8e186"
            ],
            [
             0.8,
             "#7fbc41"
            ],
            [
             0.9,
             "#4d9221"
            ],
            [
             1,
             "#276419"
            ]
           ],
           "sequential": [
            [
             0,
             "#0d0887"
            ],
            [
             0.1111111111111111,
             "#46039f"
            ],
            [
             0.2222222222222222,
             "#7201a8"
            ],
            [
             0.3333333333333333,
             "#9c179e"
            ],
            [
             0.4444444444444444,
             "#bd3786"
            ],
            [
             0.5555555555555556,
             "#d8576b"
            ],
            [
             0.6666666666666666,
             "#ed7953"
            ],
            [
             0.7777777777777778,
             "#fb9f3a"
            ],
            [
             0.8888888888888888,
             "#fdca26"
            ],
            [
             1,
             "#f0f921"
            ]
           ],
           "sequentialminus": [
            [
             0,
             "#0d0887"
            ],
            [
             0.1111111111111111,
             "#46039f"
            ],
            [
             0.2222222222222222,
             "#7201a8"
            ],
            [
             0.3333333333333333,
             "#9c179e"
            ],
            [
             0.4444444444444444,
             "#bd3786"
            ],
            [
             0.5555555555555556,
             "#d8576b"
            ],
            [
             0.6666666666666666,
             "#ed7953"
            ],
            [
             0.7777777777777778,
             "#fb9f3a"
            ],
            [
             0.8888888888888888,
             "#fdca26"
            ],
            [
             1,
             "#f0f921"
            ]
           ]
          },
          "colorway": [
           "#636efa",
           "#EF553B",
           "#00cc96",
           "#ab63fa",
           "#FFA15A",
           "#19d3f3",
           "#FF6692",
           "#B6E880",
           "#FF97FF",
           "#FECB52"
          ],
          "font": {
           "color": "#2a3f5f"
          },
          "geo": {
           "bgcolor": "white",
           "lakecolor": "white",
           "landcolor": "#E5ECF6",
           "showlakes": true,
           "showland": true,
           "subunitcolor": "white"
          },
          "hoverlabel": {
           "align": "left"
          },
          "hovermode": "closest",
          "mapbox": {
           "style": "light"
          },
          "paper_bgcolor": "white",
          "plot_bgcolor": "#E5ECF6",
          "polar": {
           "angularaxis": {
            "gridcolor": "white",
            "linecolor": "white",
            "ticks": ""
           },
           "bgcolor": "#E5ECF6",
           "radialaxis": {
            "gridcolor": "white",
            "linecolor": "white",
            "ticks": ""
           }
          },
          "scene": {
           "xaxis": {
            "backgroundcolor": "#E5ECF6",
            "gridcolor": "white",
            "gridwidth": 2,
            "linecolor": "white",
            "showbackground": true,
            "ticks": "",
            "zerolinecolor": "white"
           },
           "yaxis": {
            "backgroundcolor": "#E5ECF6",
            "gridcolor": "white",
            "gridwidth": 2,
            "linecolor": "white",
            "showbackground": true,
            "ticks": "",
            "zerolinecolor": "white"
           },
           "zaxis": {
            "backgroundcolor": "#E5ECF6",
            "gridcolor": "white",
            "gridwidth": 2,
            "linecolor": "white",
            "showbackground": true,
            "ticks": "",
            "zerolinecolor": "white"
           }
          },
          "shapedefaults": {
           "line": {
            "color": "#2a3f5f"
           }
          },
          "ternary": {
           "aaxis": {
            "gridcolor": "white",
            "linecolor": "white",
            "ticks": ""
           },
           "baxis": {
            "gridcolor": "white",
            "linecolor": "white",
            "ticks": ""
           },
           "bgcolor": "#E5ECF6",
           "caxis": {
            "gridcolor": "white",
            "linecolor": "white",
            "ticks": ""
           }
          },
          "title": {
           "x": 0.05
          },
          "xaxis": {
           "automargin": true,
           "gridcolor": "white",
           "linecolor": "white",
           "ticks": "",
           "title": {
            "standoff": 15
           },
           "zerolinecolor": "white",
           "zerolinewidth": 2
          },
          "yaxis": {
           "automargin": true,
           "gridcolor": "white",
           "linecolor": "white",
           "ticks": "",
           "title": {
            "standoff": 15
           },
           "zerolinecolor": "white",
           "zerolinewidth": 2
          }
         }
        },
        "xaxis": {
         "anchor": "y",
         "domain": [
          0,
          1
         ],
         "tickfont": {
          "size": 10
         }
        },
        "xaxis10": {
         "anchor": "y10",
         "domain": [
          0,
          1
         ],
         "tickfont": {
          "size": 10
         }
        },
        "xaxis11": {
         "anchor": "y11",
         "domain": [
          0,
          1
         ],
         "tickfont": {
          "size": 10
         }
        },
        "xaxis2": {
         "anchor": "y2",
         "domain": [
          0,
          1
         ],
         "tickfont": {
          "size": 10
         }
        },
        "xaxis3": {
         "anchor": "y3",
         "domain": [
          0,
          1
         ],
         "tickfont": {
          "size": 10
         }
        },
        "xaxis4": {
         "anchor": "y4",
         "domain": [
          0,
          1
         ],
         "tickfont": {
          "size": 10
         }
        },
        "xaxis5": {
         "anchor": "y5",
         "domain": [
          0,
          1
         ],
         "tickfont": {
          "size": 10
         }
        },
        "xaxis6": {
         "anchor": "y6",
         "domain": [
          0,
          1
         ],
         "tickfont": {
          "size": 10
         }
        },
        "xaxis7": {
         "anchor": "y7",
         "domain": [
          0,
          1
         ],
         "tickfont": {
          "size": 10
         }
        },
        "xaxis8": {
         "anchor": "y8",
         "domain": [
          0,
          1
         ],
         "tickfont": {
          "size": 10
         }
        },
        "xaxis9": {
         "anchor": "y9",
         "domain": [
          0,
          1
         ],
         "tickfont": {
          "size": 10
         }
        },
        "yaxis": {
         "anchor": "x",
         "domain": [
          0.9504132231404958,
          0.9999999999999999
         ]
        },
        "yaxis10": {
         "anchor": "x10",
         "domain": [
          0.09504132231404958,
          0.1446280991735537
         ]
        },
        "yaxis11": {
         "anchor": "x11",
         "domain": [
          0,
          0.04958677685950413
         ]
        },
        "yaxis2": {
         "anchor": "x2",
         "domain": [
          0.8553719008264462,
          0.9049586776859503
         ]
        },
        "yaxis3": {
         "anchor": "x3",
         "domain": [
          0.7603305785123966,
          0.8099173553719007
         ]
        },
        "yaxis4": {
         "anchor": "x4",
         "domain": [
          0.665289256198347,
          0.7148760330578511
         ]
        },
        "yaxis5": {
         "anchor": "x5",
         "domain": [
          0.5702479338842974,
          0.6198347107438015
         ]
        },
        "yaxis6": {
         "anchor": "x6",
         "domain": [
          0.4752066115702479,
          0.524793388429752
         ]
        },
        "yaxis7": {
         "anchor": "x7",
         "domain": [
          0.3801652892561983,
          0.42975206611570244
         ]
        },
        "yaxis8": {
         "anchor": "x8",
         "domain": [
          0.2851239669421487,
          0.33471074380165283
         ]
        },
        "yaxis9": {
         "anchor": "x9",
         "domain": [
          0.19008264462809915,
          0.23966942148760328
         ]
        }
       }
      }
     },
     "metadata": {},
     "output_type": "display_data"
    },
    {
     "data": {
      "application/vnd.plotly.v1+json": {
       "config": {
        "plotlyServerURL": "https://plot.ly"
       },
       "data": [
        {
         "marker": {
          "color": "#3498db"
         },
         "name": "books",
         "showlegend": true,
         "type": "bar",
         "x": [
          "the",
          "and",
          "to",
          "of",
          "i",
          "a",
          "in",
          "it",
          "that",
          "was"
         ],
         "xaxis": "x",
         "y": [
          1348,
          1030,
          760,
          688,
          684,
          664,
          475,
          462,
          359,
          303
         ],
         "yaxis": "y"
        },
        {
         "marker": {
          "color": "#3498db"
         },
         "name": "books",
         "showlegend": false,
         "type": "bar",
         "x": [
          "the",
          "and",
          "of",
          "to",
          "a",
          "he",
          "was",
          "in",
          "i",
          "you"
         ],
         "xaxis": "x2",
         "y": [
          1400,
          772,
          668,
          600,
          576,
          376,
          369,
          341,
          335,
          297
         ],
         "yaxis": "y2"
        },
        {
         "marker": {
          "color": "#3498db"
         },
         "name": "books",
         "showlegend": false,
         "type": "bar",
         "x": [
          "the",
          "of",
          "and",
          "a",
          "to",
          "he",
          "his",
          "in",
          "was",
          "that"
         ],
         "xaxis": "x3",
         "y": [
          1573,
          1057,
          698,
          666,
          632,
          485,
          485,
          436,
          375,
          367
         ],
         "yaxis": "y3"
        },
        {
         "marker": {
          "color": "#3498db"
         },
         "name": "books",
         "showlegend": false,
         "type": "bar",
         "x": [
          "the",
          "and",
          "of",
          "to",
          "a",
          "in",
          "was",
          "that",
          "he",
          "his"
         ],
         "xaxis": "x4",
         "y": [
          1317,
          813,
          793,
          659,
          630,
          466,
          373,
          372,
          331,
          325
         ],
         "yaxis": "y4"
        },
        {
         "marker": {
          "color": "#3498db"
         },
         "name": "books",
         "showlegend": false,
         "type": "bar",
         "x": [
          "the",
          "of",
          "and",
          "a",
          "to",
          "in",
          "that",
          "was",
          "his",
          "i"
         ],
         "xaxis": "x5",
         "y": [
          1891,
          1059,
          865,
          618,
          604,
          446,
          392,
          297,
          277,
          254
         ],
         "yaxis": "y5"
        },
        {
         "marker": {
          "color": "#3498db"
         },
         "name": "books",
         "showlegend": false,
         "type": "bar",
         "x": [
          "the",
          "and",
          "i",
          "to",
          "of",
          "a",
          "it",
          "was",
          "in",
          "he"
         ],
         "xaxis": "x6",
         "y": [
          1055,
          853,
          638,
          635,
          545,
          543,
          400,
          360,
          358,
          342
         ],
         "yaxis": "y6"
        },
        {
         "marker": {
          "color": "#3498db"
         },
         "name": "books",
         "showlegend": false,
         "type": "bar",
         "x": [
          "the",
          "and",
          "of",
          "to",
          "a",
          "in",
          "it",
          "that",
          "i",
          "her"
         ],
         "xaxis": "x7",
         "y": [
          1304,
          1010,
          716,
          680,
          620,
          497,
          377,
          364,
          314,
          311
         ],
         "yaxis": "y7"
        },
        {
         "marker": {
          "color": "#3498db"
         },
         "name": "books",
         "showlegend": false,
         "type": "bar",
         "x": [
          "the",
          "and",
          "of",
          "that",
          "to",
          "a",
          "he",
          "in",
          "it",
          "his"
         ],
         "xaxis": "x8",
         "y": [
          1603,
          1183,
          822,
          629,
          545,
          475,
          432,
          372,
          300,
          292
         ],
         "yaxis": "y8"
        },
        {
         "marker": {
          "color": "#3498db"
         },
         "name": "books",
         "showlegend": false,
         "type": "bar",
         "x": [
          "the",
          "and",
          "of",
          "to",
          "a",
          "she",
          "in",
          "he",
          "her",
          "was"
         ],
         "xaxis": "x9",
         "y": [
          1233,
          764,
          761,
          716,
          522,
          490,
          443,
          422,
          408,
          374
         ],
         "yaxis": "y9"
        },
        {
         "marker": {
          "color": "#3498db"
         },
         "name": "books",
         "showlegend": false,
         "type": "bar",
         "x": [
          "the",
          "and",
          "of",
          "a",
          "to",
          "i",
          "in",
          "that",
          "it",
          "is"
         ],
         "xaxis": "x10",
         "y": [
          1396,
          743,
          642,
          593,
          545,
          383,
          372,
          339,
          275,
          249
         ],
         "yaxis": "y10"
        },
        {
         "marker": {
          "color": "#e74c3c"
         },
         "name": "gpt-3.5-turbo-0125",
         "showlegend": true,
         "type": "bar",
         "x": [
          "the",
          "a",
          "and",
          "of",
          "to",
          "in",
          "you",
          "that",
          "with",
          "it"
         ],
         "xaxis": "x11",
         "y": [
          1751,
          1119,
          983,
          982,
          711,
          454,
          381,
          370,
          276,
          265
         ],
         "yaxis": "y11"
        },
        {
         "marker": {
          "color": "#e74c3c"
         },
         "name": "gpt-3.5-turbo-0125",
         "showlegend": false,
         "type": "bar",
         "x": [
          "the",
          "a",
          "of",
          "and",
          "to",
          "in",
          "that",
          "with",
          "as",
          "is"
         ],
         "xaxis": "x12",
         "y": [
          2061,
          1164,
          1149,
          1057,
          646,
          526,
          391,
          320,
          259,
          235
         ],
         "yaxis": "y12"
        },
        {
         "marker": {
          "color": "#e74c3c"
         },
         "name": "gpt-3.5-turbo-0125",
         "showlegend": false,
         "type": "bar",
         "x": [
          "the",
          "of",
          "a",
          "and",
          "to",
          "in",
          "that",
          "with",
          "as",
          "is"
         ],
         "xaxis": "x13",
         "y": [
          2049,
          1371,
          1143,
          1097,
          680,
          539,
          446,
          354,
          253,
          236
         ],
         "yaxis": "y13"
        },
        {
         "marker": {
          "color": "#e74c3c"
         },
         "name": "gpt-3.5-turbo-0125",
         "showlegend": false,
         "type": "bar",
         "x": [
          "the",
          "of",
          "and",
          "a",
          "to",
          "in",
          "that",
          "with",
          "as",
          "is"
         ],
         "xaxis": "x14",
         "y": [
          1969,
          1256,
          1213,
          1091,
          718,
          534,
          425,
          317,
          297,
          220
         ],
         "yaxis": "y14"
        },
        {
         "marker": {
          "color": "#e74c3c"
         },
         "name": "gpt-3.5-turbo-0125",
         "showlegend": false,
         "type": "bar",
         "x": [
          "the",
          "and",
          "of",
          "a",
          "to",
          "in",
          "that",
          "is",
          "with",
          "as"
         ],
         "xaxis": "x15",
         "y": [
          1797,
          1201,
          1174,
          1134,
          783,
          500,
          425,
          280,
          280,
          275
         ],
         "yaxis": "y15"
        },
        {
         "marker": {
          "color": "#e74c3c"
         },
         "name": "gpt-3.5-turbo-0125",
         "showlegend": false,
         "type": "bar",
         "x": [
          "the",
          "and",
          "a",
          "of",
          "to",
          "in",
          "that",
          "with",
          "as",
          "you"
         ],
         "xaxis": "x16",
         "y": [
          1898,
          1050,
          1037,
          1023,
          707,
          488,
          387,
          347,
          297,
          210
         ],
         "yaxis": "y16"
        },
        {
         "marker": {
          "color": "#e74c3c"
         },
         "name": "gpt-3.5-turbo-0125",
         "showlegend": false,
         "type": "bar",
         "x": [
          "the",
          "of",
          "and",
          "a",
          "to",
          "in",
          "that",
          "with",
          "as",
          "is"
         ],
         "xaxis": "x17",
         "y": [
          2096,
          1324,
          1184,
          1133,
          694,
          509,
          423,
          318,
          246,
          246
         ],
         "yaxis": "y17"
        },
        {
         "marker": {
          "color": "#e74c3c"
         },
         "name": "gpt-3.5-turbo-0125",
         "showlegend": false,
         "type": "bar",
         "x": [
          "the",
          "of",
          "and",
          "a",
          "to",
          "in",
          "that",
          "with",
          "as",
          "it"
         ],
         "xaxis": "x18",
         "y": [
          1951,
          1040,
          1037,
          1031,
          697,
          507,
          386,
          338,
          272,
          216
         ],
         "yaxis": "y18"
        },
        {
         "marker": {
          "color": "#e74c3c"
         },
         "name": "gpt-3.5-turbo-0125",
         "showlegend": false,
         "type": "bar",
         "x": [
          "the",
          "of",
          "a",
          "and",
          "to",
          "in",
          "that",
          "with",
          "as",
          "is"
         ],
         "xaxis": "x19",
         "y": [
          2219,
          1453,
          1229,
          1058,
          652,
          546,
          427,
          310,
          268,
          241
         ],
         "yaxis": "y19"
        },
        {
         "marker": {
          "color": "#e74c3c"
         },
         "name": "gpt-3.5-turbo-0125",
         "showlegend": false,
         "type": "bar",
         "x": [
          "the",
          "of",
          "a",
          "and",
          "to",
          "in",
          "that",
          "with",
          "as",
          "their"
         ],
         "xaxis": "x20",
         "y": [
          2007,
          1147,
          1117,
          1050,
          747,
          524,
          370,
          344,
          254,
          220
         ],
         "yaxis": "y20"
        },
        {
         "marker": {
          "color": "#2ecc71"
         },
         "name": "gpt-4o",
         "showlegend": true,
         "type": "bar",
         "x": [
          "the",
          "a",
          "of",
          "and",
          "to",
          "you",
          "in",
          "that",
          "with",
          "it"
         ],
         "xaxis": "x21",
         "y": [
          1680,
          1236,
          958,
          902,
          624,
          384,
          375,
          360,
          320,
          319
         ],
         "yaxis": "y21"
        },
        {
         "marker": {
          "color": "#2ecc71"
         },
         "name": "gpt-4o",
         "showlegend": false,
         "type": "bar",
         "x": [
          "the",
          "of",
          "a",
          "and",
          "to",
          "in",
          "with",
          "that",
          "it",
          "is"
         ],
         "xaxis": "x22",
         "y": [
          2281,
          1129,
          1031,
          889,
          575,
          430,
          357,
          334,
          266,
          228
         ],
         "yaxis": "y22"
        },
        {
         "marker": {
          "color": "#2ecc71"
         },
         "name": "gpt-4o",
         "showlegend": false,
         "type": "bar",
         "x": [
          "the",
          "of",
          "a",
          "and",
          "to",
          "in",
          "that",
          "is",
          "it",
          "with"
         ],
         "xaxis": "x23",
         "y": [
          2342,
          1464,
          1175,
          781,
          609,
          442,
          433,
          365,
          315,
          287
         ],
         "yaxis": "y23"
        },
        {
         "marker": {
          "color": "#2ecc71"
         },
         "name": "gpt-4o",
         "showlegend": false,
         "type": "bar",
         "x": [
          "the",
          "of",
          "a",
          "and",
          "to",
          "in",
          "that",
          "with",
          "is",
          "it"
         ],
         "xaxis": "x24",
         "y": [
          2302,
          1469,
          1121,
          889,
          576,
          448,
          421,
          333,
          291,
          206
         ],
         "yaxis": "y24"
        },
        {
         "marker": {
          "color": "#2ecc71"
         },
         "name": "gpt-4o",
         "showlegend": false,
         "type": "bar",
         "x": [
          "the",
          "of",
          "a",
          "and",
          "to",
          "in",
          "that",
          "is",
          "with",
          "as"
         ],
         "xaxis": "x25",
         "y": [
          2223,
          1477,
          1142,
          822,
          590,
          455,
          400,
          359,
          347,
          250
         ],
         "yaxis": "y25"
        },
        {
         "marker": {
          "color": "#2ecc71"
         },
         "name": "gpt-4o",
         "showlegend": false,
         "type": "bar",
         "x": [
          "the",
          "of",
          "a",
          "and",
          "to",
          "in",
          "with",
          "that",
          "as",
          "it"
         ],
         "xaxis": "x26",
         "y": [
          2114,
          1224,
          1101,
          881,
          594,
          427,
          394,
          366,
          235,
          226
         ],
         "yaxis": "y26"
        },
        {
         "marker": {
          "color": "#2ecc71"
         },
         "name": "gpt-4o",
         "showlegend": false,
         "type": "bar",
         "x": [
          "the",
          "of",
          "a",
          "and",
          "to",
          "in",
          "that",
          "with",
          "is",
          "it"
         ],
         "xaxis": "x27",
         "y": [
          2168,
          1269,
          1134,
          929,
          659,
          441,
          394,
          320,
          302,
          247
         ],
         "yaxis": "y27"
        },
        {
         "marker": {
          "color": "#2ecc71"
         },
         "name": "gpt-4o",
         "showlegend": false,
         "type": "bar",
         "x": [
          "the",
          "of",
          "a",
          "and",
          "to",
          "in",
          "with",
          "that",
          "as",
          "it"
         ],
         "xaxis": "x28",
         "y": [
          2158,
          1242,
          1018,
          964,
          579,
          437,
          413,
          335,
          220,
          216
         ],
         "yaxis": "y28"
        },
        {
         "marker": {
          "color": "#2ecc71"
         },
         "name": "gpt-4o",
         "showlegend": false,
         "type": "bar",
         "x": [
          "the",
          "of",
          "a",
          "and",
          "to",
          "in",
          "is",
          "that",
          "with",
          "it"
         ],
         "xaxis": "x29",
         "y": [
          2201,
          1375,
          1210,
          834,
          559,
          485,
          386,
          371,
          345,
          309
         ],
         "yaxis": "y29"
        },
        {
         "marker": {
          "color": "#2ecc71"
         },
         "name": "gpt-4o",
         "showlegend": false,
         "type": "bar",
         "x": [
          "the",
          "a",
          "of",
          "and",
          "to",
          "with",
          "in",
          "that",
          "as",
          "was"
         ],
         "xaxis": "x30",
         "y": [
          1945,
          1182,
          1030,
          886,
          572,
          410,
          407,
          320,
          248,
          207
         ],
         "yaxis": "y30"
        },
        {
         "marker": {
          "color": "#f1c40f"
         },
         "name": "gemini-1.5-flash",
         "showlegend": true,
         "type": "bar",
         "x": [
          "the",
          "a",
          "of",
          "and",
          "you",
          "to",
          "s",
          "it",
          "that",
          "in"
         ],
         "xaxis": "x31",
         "y": [
          1547,
          1522,
          880,
          717,
          629,
          522,
          507,
          487,
          366,
          319
         ],
         "yaxis": "y31"
        },
        {
         "marker": {
          "color": "#f1c40f"
         },
         "name": "gemini-1.5-flash",
         "showlegend": false,
         "type": "bar",
         "x": [
          "the",
          "a",
          "of",
          "and",
          "to",
          "their",
          "with",
          "that",
          "in",
          "was"
         ],
         "xaxis": "x32",
         "y": [
          2315,
          1478,
          1269,
          625,
          536,
          317,
          300,
          298,
          288,
          260
         ],
         "yaxis": "y32"
        },
        {
         "marker": {
          "color": "#f1c40f"
         },
         "name": "gemini-1.5-flash",
         "showlegend": false,
         "type": "bar",
         "x": [
          "the",
          "a",
          "of",
          "and",
          "to",
          "that",
          "with",
          "in",
          "it",
          "is"
         ],
         "xaxis": "x33",
         "y": [
          2365,
          1647,
          1630,
          608,
          527,
          394,
          327,
          297,
          272,
          190
         ],
         "yaxis": "y33"
        },
        {
         "marker": {
          "color": "#f1c40f"
         },
         "name": "gemini-1.5-flash",
         "showlegend": false,
         "type": "bar",
         "x": [
          "the",
          "of",
          "a",
          "and",
          "to",
          "that",
          "in",
          "it",
          "with",
          "is"
         ],
         "xaxis": "x34",
         "y": [
          2267,
          1567,
          1458,
          675,
          621,
          339,
          328,
          255,
          250,
          235
         ],
         "yaxis": "y34"
        },
        {
         "marker": {
          "color": "#f1c40f"
         },
         "name": "gemini-1.5-flash",
         "showlegend": false,
         "type": "bar",
         "x": [
          "the",
          "of",
          "a",
          "and",
          "to",
          "is",
          "that",
          "with",
          "in",
          "it"
         ],
         "xaxis": "x35",
         "y": [
          2173,
          1520,
          1467,
          711,
          602,
          339,
          323,
          300,
          296,
          235
         ],
         "yaxis": "y35"
        },
        {
         "marker": {
          "color": "#f1c40f"
         },
         "name": "gemini-1.5-flash",
         "showlegend": false,
         "type": "bar",
         "x": [
          "the",
          "a",
          "of",
          "and",
          "to",
          "with",
          "in",
          "it",
          "that",
          "his"
         ],
         "xaxis": "x36",
         "y": [
          1940,
          1430,
          1249,
          713,
          516,
          371,
          335,
          302,
          281,
          225
         ],
         "yaxis": "y36"
        },
        {
         "marker": {
          "color": "#f1c40f"
         },
         "name": "gemini-1.5-flash",
         "showlegend": false,
         "type": "bar",
         "x": [
          "the",
          "of",
          "a",
          "and",
          "to",
          "that",
          "is",
          "in",
          "it",
          "with"
         ],
         "xaxis": "x37",
         "y": [
          2443,
          1578,
          1431,
          652,
          597,
          421,
          332,
          302,
          302,
          258
         ],
         "yaxis": "y37"
        },
        {
         "marker": {
          "color": "#f1c40f"
         },
         "name": "gemini-1.5-flash",
         "showlegend": false,
         "type": "bar",
         "x": [
          "the",
          "a",
          "of",
          "and",
          "to",
          "that",
          "is",
          "with",
          "in",
          "it"
         ],
         "xaxis": "x38",
         "y": [
          2039,
          1486,
          1234,
          750,
          621,
          355,
          329,
          314,
          304,
          264
         ],
         "yaxis": "y38"
        },
        {
         "marker": {
          "color": "#f1c40f"
         },
         "name": "gemini-1.5-flash",
         "showlegend": false,
         "type": "bar",
         "x": [
          "the",
          "of",
          "a",
          "to",
          "and",
          "it",
          "its",
          "that",
          "in",
          "is"
         ],
         "xaxis": "x39",
         "y": [
          2375,
          1599,
          1528,
          583,
          580,
          366,
          325,
          311,
          287,
          282
         ],
         "yaxis": "y39"
        },
        {
         "marker": {
          "color": "#f1c40f"
         },
         "name": "gemini-1.5-flash",
         "showlegend": false,
         "type": "bar",
         "x": [
          "the",
          "a",
          "of",
          "and",
          "to",
          "with",
          "that",
          "in",
          "is",
          "it"
         ],
         "xaxis": "x40",
         "y": [
          1820,
          1521,
          1197,
          565,
          490,
          346,
          333,
          307,
          297,
          240
         ],
         "yaxis": "y40"
        },
        {
         "marker": {
          "color": "#9b59b6"
         },
         "name": "open-mixtral-8x7b",
         "showlegend": true,
         "type": "bar",
         "x": [
          "the",
          "and",
          "of",
          "a",
          "to",
          "i",
          "in",
          "that",
          "is",
          "you"
         ],
         "xaxis": "x41",
         "y": [
          1848,
          1155,
          1140,
          953,
          708,
          468,
          465,
          465,
          313,
          301
         ],
         "yaxis": "y41"
        },
        {
         "marker": {
          "color": "#9b59b6"
         },
         "name": "open-mixtral-8x7b",
         "showlegend": false,
         "type": "bar",
         "x": [
          "the",
          "and",
          "of",
          "a",
          "to",
          "that",
          "in",
          "with",
          "it",
          "was"
         ],
         "xaxis": "x42",
         "y": [
          2275,
          1165,
          1164,
          966,
          732,
          481,
          365,
          276,
          270,
          263
         ],
         "yaxis": "y42"
        },
        {
         "marker": {
          "color": "#9b59b6"
         },
         "name": "open-mixtral-8x7b",
         "showlegend": false,
         "type": "bar",
         "x": [
          "the",
          "of",
          "and",
          "a",
          "to",
          "that",
          "in",
          "is",
          "it",
          "its"
         ],
         "xaxis": "x43",
         "y": [
          2233,
          1502,
          1373,
          988,
          759,
          671,
          478,
          417,
          370,
          289
         ],
         "yaxis": "y43"
        },
        {
         "marker": {
          "color": "#9b59b6"
         },
         "name": "open-mixtral-8x7b",
         "showlegend": false,
         "type": "bar",
         "x": [
          "the",
          "of",
          "and",
          "a",
          "to",
          "that",
          "in",
          "is",
          "as",
          "it"
         ],
         "xaxis": "x44",
         "y": [
          2140,
          1402,
          1287,
          930,
          708,
          571,
          468,
          342,
          290,
          265
         ],
         "yaxis": "y44"
        },
        {
         "marker": {
          "color": "#9b59b6"
         },
         "name": "open-mixtral-8x7b",
         "showlegend": false,
         "type": "bar",
         "x": [
          "the",
          "of",
          "and",
          "a",
          "to",
          "that",
          "in",
          "is",
          "i",
          "as"
         ],
         "xaxis": "x45",
         "y": [
          2141,
          1351,
          1145,
          959,
          778,
          517,
          474,
          380,
          292,
          268
         ],
         "yaxis": "y45"
        },
        {
         "marker": {
          "color": "#9b59b6"
         },
         "name": "open-mixtral-8x7b",
         "showlegend": false,
         "type": "bar",
         "x": [
          "the",
          "and",
          "of",
          "a",
          "to",
          "that",
          "in",
          "it",
          "with",
          "was"
         ],
         "xaxis": "x46",
         "y": [
          2201,
          1254,
          1252,
          977,
          653,
          464,
          403,
          334,
          277,
          244
         ],
         "yaxis": "y46"
        },
        {
         "marker": {
          "color": "#9b59b6"
         },
         "name": "open-mixtral-8x7b",
         "showlegend": false,
         "type": "bar",
         "x": [
          "the",
          "of",
          "and",
          "a",
          "to",
          "that",
          "in",
          "is",
          "i",
          "it"
         ],
         "xaxis": "x47",
         "y": [
          2032,
          1361,
          1208,
          972,
          727,
          535,
          474,
          325,
          323,
          297
         ],
         "yaxis": "y47"
        },
        {
         "marker": {
          "color": "#9b59b6"
         },
         "name": "open-mixtral-8x7b",
         "showlegend": false,
         "type": "bar",
         "x": [
          "the",
          "and",
          "of",
          "a",
          "to",
          "that",
          "in",
          "with",
          "as",
          "i"
         ],
         "xaxis": "x48",
         "y": [
          1927,
          1343,
          1045,
          1017,
          683,
          498,
          412,
          318,
          283,
          273
         ],
         "yaxis": "y48"
        },
        {
         "marker": {
          "color": "#9b59b6"
         },
         "name": "open-mixtral-8x7b",
         "showlegend": false,
         "type": "bar",
         "x": [
          "the",
          "of",
          "and",
          "a",
          "to",
          "that",
          "in",
          "is",
          "we",
          "our"
         ],
         "xaxis": "x49",
         "y": [
          2340,
          1536,
          1246,
          974,
          731,
          641,
          483,
          391,
          389,
          302
         ],
         "yaxis": "y49"
        },
        {
         "marker": {
          "color": "#9b59b6"
         },
         "name": "open-mixtral-8x7b",
         "showlegend": false,
         "type": "bar",
         "x": [
          "the",
          "and",
          "of",
          "a",
          "to",
          "in",
          "that",
          "with",
          "i",
          "as"
         ],
         "xaxis": "x50",
         "y": [
          1811,
          1044,
          1039,
          923,
          687,
          448,
          384,
          292,
          261,
          252
         ],
         "yaxis": "y50"
        },
        {
         "marker": {
          "color": "#e67e22"
         },
         "name": "claude-3-haiku-20240307",
         "showlegend": true,
         "type": "bar",
         "x": [
          "the",
          "of",
          "a",
          "and",
          "to",
          "i",
          "that",
          "you",
          "in",
          "it"
         ],
         "xaxis": "x51",
         "y": [
          1691,
          947,
          880,
          816,
          672,
          465,
          436,
          404,
          304,
          289
         ],
         "yaxis": "y51"
        },
        {
         "marker": {
          "color": "#e67e22"
         },
         "name": "claude-3-haiku-20240307",
         "showlegend": false,
         "type": "bar",
         "x": [
          "the",
          "of",
          "a",
          "and",
          "to",
          "that",
          "in",
          "with",
          "you",
          "i"
         ],
         "xaxis": "x52",
         "y": [
          2276,
          1132,
          954,
          854,
          615,
          429,
          350,
          295,
          257,
          230
         ],
         "yaxis": "y52"
        },
        {
         "marker": {
          "color": "#e67e22"
         },
         "name": "claude-3-haiku-20240307",
         "showlegend": false,
         "type": "bar",
         "x": [
          "the",
          "of",
          "a",
          "and",
          "to",
          "that",
          "in",
          "is",
          "with",
          "it"
         ],
         "xaxis": "x53",
         "y": [
          2546,
          1464,
          1006,
          895,
          770,
          505,
          393,
          290,
          259,
          244
         ],
         "yaxis": "y53"
        },
        {
         "marker": {
          "color": "#e67e22"
         },
         "name": "claude-3-haiku-20240307",
         "showlegend": false,
         "type": "bar",
         "x": [
          "the",
          "of",
          "and",
          "a",
          "to",
          "that",
          "in",
          "with",
          "for",
          "is"
         ],
         "xaxis": "x54",
         "y": [
          2495,
          1455,
          937,
          913,
          718,
          538,
          368,
          293,
          240,
          213
         ],
         "yaxis": "y54"
        },
        {
         "marker": {
          "color": "#e67e22"
         },
         "name": "claude-3-haiku-20240307",
         "showlegend": false,
         "type": "bar",
         "x": [
          "the",
          "of",
          "and",
          "a",
          "to",
          "that",
          "in",
          "is",
          "with",
          "you"
         ],
         "xaxis": "x55",
         "y": [
          2388,
          1570,
          993,
          838,
          676,
          463,
          371,
          270,
          252,
          251
         ],
         "yaxis": "y55"
        },
        {
         "marker": {
          "color": "#e67e22"
         },
         "name": "claude-3-haiku-20240307",
         "showlegend": false,
         "type": "bar",
         "x": [
          "the",
          "of",
          "a",
          "and",
          "to",
          "that",
          "in",
          "i",
          "with",
          "you"
         ],
         "xaxis": "x56",
         "y": [
          2075,
          1171,
          933,
          902,
          699,
          434,
          390,
          289,
          273,
          272
         ],
         "yaxis": "y56"
        },
        {
         "marker": {
          "color": "#e67e22"
         },
         "name": "claude-3-haiku-20240307",
         "showlegend": false,
         "type": "bar",
         "x": [
          "the",
          "of",
          "and",
          "a",
          "to",
          "that",
          "in",
          "with",
          "is",
          "for"
         ],
         "xaxis": "x57",
         "y": [
          2526,
          1466,
          971,
          927,
          698,
          509,
          392,
          244,
          241,
          236
         ],
         "yaxis": "y57"
        },
        {
         "marker": {
          "color": "#e67e22"
         },
         "name": "claude-3-haiku-20240307",
         "showlegend": false,
         "type": "bar",
         "x": [
          "the",
          "of",
          "and",
          "a",
          "to",
          "that",
          "in",
          "with",
          "i",
          "is"
         ],
         "xaxis": "x58",
         "y": [
          2136,
          1262,
          943,
          940,
          739,
          500,
          341,
          319,
          249,
          238
         ],
         "yaxis": "y58"
        },
        {
         "marker": {
          "color": "#e67e22"
         },
         "name": "claude-3-haiku-20240307",
         "showlegend": false,
         "type": "bar",
         "x": [
          "the",
          "of",
          "a",
          "and",
          "to",
          "that",
          "in",
          "is",
          "for",
          "with"
         ],
         "xaxis": "x59",
         "y": [
          2601,
          1434,
          944,
          790,
          742,
          476,
          419,
          253,
          245,
          236
         ],
         "yaxis": "y59"
        },
        {
         "marker": {
          "color": "#e67e22"
         },
         "name": "claude-3-haiku-20240307",
         "showlegend": false,
         "type": "bar",
         "x": [
          "the",
          "of",
          "and",
          "a",
          "to",
          "that",
          "in",
          "with",
          "you",
          "for"
         ],
         "xaxis": "x60",
         "y": [
          2187,
          1289,
          947,
          912,
          611,
          438,
          338,
          326,
          242,
          219
         ],
         "yaxis": "y60"
        }
       ],
       "layout": {
        "annotations": [
         {
          "font": {
           "size": 10
          },
          "showarrow": false,
          "text": "Mark Twain",
          "x": 0.041,
          "xanchor": "center",
          "xref": "paper",
          "y": 0.9999999999999999,
          "yanchor": "bottom",
          "yref": "paper"
         },
         {
          "font": {
           "size": 10
          },
          "showarrow": false,
          "text": "Zane Grey",
          "x": 0.14300000000000002,
          "xanchor": "center",
          "xref": "paper",
          "y": 0.9999999999999999,
          "yanchor": "bottom",
          "yref": "paper"
         },
         {
          "font": {
           "size": 10
          },
          "showarrow": false,
          "text": "Joseph Conrad",
          "x": 0.24500000000000002,
          "xanchor": "center",
          "xref": "paper",
          "y": 0.9999999999999999,
          "yanchor": "bottom",
          "yref": "paper"
         },
         {
          "font": {
           "size": 10
          },
          "showarrow": false,
          "text": "George Eliot",
          "x": 0.347,
          "xanchor": "center",
          "xref": "paper",
          "y": 0.9999999999999999,
          "yanchor": "bottom",
          "yref": "paper"
         },
         {
          "font": {
           "size": 10
          },
          "showarrow": false,
          "text": "Benjamin Disraeli",
          "x": 0.44900000000000007,
          "xanchor": "center",
          "xref": "paper",
          "y": 0.9999999999999999,
          "yanchor": "bottom",
          "yref": "paper"
         },
         {
          "font": {
           "size": 10
          },
          "showarrow": false,
          "text": "Lucy Maud Montgomery",
          "x": 0.5509999999999999,
          "xanchor": "center",
          "xref": "paper",
          "y": 0.9999999999999999,
          "yanchor": "bottom",
          "yref": "paper"
         },
         {
          "font": {
           "size": 10
          },
          "showarrow": false,
          "text": "William Henry Hudson",
          "x": 0.653,
          "xanchor": "center",
          "xref": "paper",
          "y": 0.9999999999999999,
          "yanchor": "bottom",
          "yref": "paper"
         },
         {
          "font": {
           "size": 10
          },
          "showarrow": false,
          "text": "Howard Pyle",
          "x": 0.7550000000000001,
          "xanchor": "center",
          "xref": "paper",
          "y": 0.9999999999999999,
          "yanchor": "bottom",
          "yref": "paper"
         },
         {
          "font": {
           "size": 10
          },
          "showarrow": false,
          "text": "Virginia Woolf",
          "x": 0.857,
          "xanchor": "center",
          "xref": "paper",
          "y": 0.9999999999999999,
          "yanchor": "bottom",
          "yref": "paper"
         },
         {
          "font": {
           "size": 10
          },
          "showarrow": false,
          "text": "Lewis Carroll",
          "x": 0.9589999999999999,
          "xanchor": "center",
          "xref": "paper",
          "y": 0.9999999999999999,
          "yanchor": "bottom",
          "yref": "paper"
         }
        ],
        "height": 800,
        "template": {
         "data": {
          "bar": [
           {
            "error_x": {
             "color": "#2a3f5f"
            },
            "error_y": {
             "color": "#2a3f5f"
            },
            "marker": {
             "line": {
              "color": "#E5ECF6",
              "width": 0.5
             },
             "pattern": {
              "fillmode": "overlay",
              "size": 10,
              "solidity": 0.2
             }
            },
            "type": "bar"
           }
          ],
          "barpolar": [
           {
            "marker": {
             "line": {
              "color": "#E5ECF6",
              "width": 0.5
             },
             "pattern": {
              "fillmode": "overlay",
              "size": 10,
              "solidity": 0.2
             }
            },
            "type": "barpolar"
           }
          ],
          "carpet": [
           {
            "aaxis": {
             "endlinecolor": "#2a3f5f",
             "gridcolor": "white",
             "linecolor": "white",
             "minorgridcolor": "white",
             "startlinecolor": "#2a3f5f"
            },
            "baxis": {
             "endlinecolor": "#2a3f5f",
             "gridcolor": "white",
             "linecolor": "white",
             "minorgridcolor": "white",
             "startlinecolor": "#2a3f5f"
            },
            "type": "carpet"
           }
          ],
          "choropleth": [
           {
            "colorbar": {
             "outlinewidth": 0,
             "ticks": ""
            },
            "type": "choropleth"
           }
          ],
          "contour": [
           {
            "colorbar": {
             "outlinewidth": 0,
             "ticks": ""
            },
            "colorscale": [
             [
              0,
              "#0d0887"
             ],
             [
              0.1111111111111111,
              "#46039f"
             ],
             [
              0.2222222222222222,
              "#7201a8"
             ],
             [
              0.3333333333333333,
              "#9c179e"
             ],
             [
              0.4444444444444444,
              "#bd3786"
             ],
             [
              0.5555555555555556,
              "#d8576b"
             ],
             [
              0.6666666666666666,
              "#ed7953"
             ],
             [
              0.7777777777777778,
              "#fb9f3a"
             ],
             [
              0.8888888888888888,
              "#fdca26"
             ],
             [
              1,
              "#f0f921"
             ]
            ],
            "type": "contour"
           }
          ],
          "contourcarpet": [
           {
            "colorbar": {
             "outlinewidth": 0,
             "ticks": ""
            },
            "type": "contourcarpet"
           }
          ],
          "heatmap": [
           {
            "colorbar": {
             "outlinewidth": 0,
             "ticks": ""
            },
            "colorscale": [
             [
              0,
              "#0d0887"
             ],
             [
              0.1111111111111111,
              "#46039f"
             ],
             [
              0.2222222222222222,
              "#7201a8"
             ],
             [
              0.3333333333333333,
              "#9c179e"
             ],
             [
              0.4444444444444444,
              "#bd3786"
             ],
             [
              0.5555555555555556,
              "#d8576b"
             ],
             [
              0.6666666666666666,
              "#ed7953"
             ],
             [
              0.7777777777777778,
              "#fb9f3a"
             ],
             [
              0.8888888888888888,
              "#fdca26"
             ],
             [
              1,
              "#f0f921"
             ]
            ],
            "type": "heatmap"
           }
          ],
          "heatmapgl": [
           {
            "colorbar": {
             "outlinewidth": 0,
             "ticks": ""
            },
            "colorscale": [
             [
              0,
              "#0d0887"
             ],
             [
              0.1111111111111111,
              "#46039f"
             ],
             [
              0.2222222222222222,
              "#7201a8"
             ],
             [
              0.3333333333333333,
              "#9c179e"
             ],
             [
              0.4444444444444444,
              "#bd3786"
             ],
             [
              0.5555555555555556,
              "#d8576b"
             ],
             [
              0.6666666666666666,
              "#ed7953"
             ],
             [
              0.7777777777777778,
              "#fb9f3a"
             ],
             [
              0.8888888888888888,
              "#fdca26"
             ],
             [
              1,
              "#f0f921"
             ]
            ],
            "type": "heatmapgl"
           }
          ],
          "histogram": [
           {
            "marker": {
             "pattern": {
              "fillmode": "overlay",
              "size": 10,
              "solidity": 0.2
             }
            },
            "type": "histogram"
           }
          ],
          "histogram2d": [
           {
            "colorbar": {
             "outlinewidth": 0,
             "ticks": ""
            },
            "colorscale": [
             [
              0,
              "#0d0887"
             ],
             [
              0.1111111111111111,
              "#46039f"
             ],
             [
              0.2222222222222222,
              "#7201a8"
             ],
             [
              0.3333333333333333,
              "#9c179e"
             ],
             [
              0.4444444444444444,
              "#bd3786"
             ],
             [
              0.5555555555555556,
              "#d8576b"
             ],
             [
              0.6666666666666666,
              "#ed7953"
             ],
             [
              0.7777777777777778,
              "#fb9f3a"
             ],
             [
              0.8888888888888888,
              "#fdca26"
             ],
             [
              1,
              "#f0f921"
             ]
            ],
            "type": "histogram2d"
           }
          ],
          "histogram2dcontour": [
           {
            "colorbar": {
             "outlinewidth": 0,
             "ticks": ""
            },
            "colorscale": [
             [
              0,
              "#0d0887"
             ],
             [
              0.1111111111111111,
              "#46039f"
             ],
             [
              0.2222222222222222,
              "#7201a8"
             ],
             [
              0.3333333333333333,
              "#9c179e"
             ],
             [
              0.4444444444444444,
              "#bd3786"
             ],
             [
              0.5555555555555556,
              "#d8576b"
             ],
             [
              0.6666666666666666,
              "#ed7953"
             ],
             [
              0.7777777777777778,
              "#fb9f3a"
             ],
             [
              0.8888888888888888,
              "#fdca26"
             ],
             [
              1,
              "#f0f921"
             ]
            ],
            "type": "histogram2dcontour"
           }
          ],
          "mesh3d": [
           {
            "colorbar": {
             "outlinewidth": 0,
             "ticks": ""
            },
            "type": "mesh3d"
           }
          ],
          "parcoords": [
           {
            "line": {
             "colorbar": {
              "outlinewidth": 0,
              "ticks": ""
             }
            },
            "type": "parcoords"
           }
          ],
          "pie": [
           {
            "automargin": true,
            "type": "pie"
           }
          ],
          "scatter": [
           {
            "fillpattern": {
             "fillmode": "overlay",
             "size": 10,
             "solidity": 0.2
            },
            "type": "scatter"
           }
          ],
          "scatter3d": [
           {
            "line": {
             "colorbar": {
              "outlinewidth": 0,
              "ticks": ""
             }
            },
            "marker": {
             "colorbar": {
              "outlinewidth": 0,
              "ticks": ""
             }
            },
            "type": "scatter3d"
           }
          ],
          "scattercarpet": [
           {
            "marker": {
             "colorbar": {
              "outlinewidth": 0,
              "ticks": ""
             }
            },
            "type": "scattercarpet"
           }
          ],
          "scattergeo": [
           {
            "marker": {
             "colorbar": {
              "outlinewidth": 0,
              "ticks": ""
             }
            },
            "type": "scattergeo"
           }
          ],
          "scattergl": [
           {
            "marker": {
             "colorbar": {
              "outlinewidth": 0,
              "ticks": ""
             }
            },
            "type": "scattergl"
           }
          ],
          "scattermapbox": [
           {
            "marker": {
             "colorbar": {
              "outlinewidth": 0,
              "ticks": ""
             }
            },
            "type": "scattermapbox"
           }
          ],
          "scatterpolar": [
           {
            "marker": {
             "colorbar": {
              "outlinewidth": 0,
              "ticks": ""
             }
            },
            "type": "scatterpolar"
           }
          ],
          "scatterpolargl": [
           {
            "marker": {
             "colorbar": {
              "outlinewidth": 0,
              "ticks": ""
             }
            },
            "type": "scatterpolargl"
           }
          ],
          "scatterternary": [
           {
            "marker": {
             "colorbar": {
              "outlinewidth": 0,
              "ticks": ""
             }
            },
            "type": "scatterternary"
           }
          ],
          "surface": [
           {
            "colorbar": {
             "outlinewidth": 0,
             "ticks": ""
            },
            "colorscale": [
             [
              0,
              "#0d0887"
             ],
             [
              0.1111111111111111,
              "#46039f"
             ],
             [
              0.2222222222222222,
              "#7201a8"
             ],
             [
              0.3333333333333333,
              "#9c179e"
             ],
             [
              0.4444444444444444,
              "#bd3786"
             ],
             [
              0.5555555555555556,
              "#d8576b"
             ],
             [
              0.6666666666666666,
              "#ed7953"
             ],
             [
              0.7777777777777778,
              "#fb9f3a"
             ],
             [
              0.8888888888888888,
              "#fdca26"
             ],
             [
              1,
              "#f0f921"
             ]
            ],
            "type": "surface"
           }
          ],
          "table": [
           {
            "cells": {
             "fill": {
              "color": "#EBF0F8"
             },
             "line": {
              "color": "white"
             }
            },
            "header": {
             "fill": {
              "color": "#C8D4E3"
             },
             "line": {
              "color": "white"
             }
            },
            "type": "table"
           }
          ]
         },
         "layout": {
          "annotationdefaults": {
           "arrowcolor": "#2a3f5f",
           "arrowhead": 0,
           "arrowwidth": 1
          },
          "autotypenumbers": "strict",
          "coloraxis": {
           "colorbar": {
            "outlinewidth": 0,
            "ticks": ""
           }
          },
          "colorscale": {
           "diverging": [
            [
             0,
             "#8e0152"
            ],
            [
             0.1,
             "#c51b7d"
            ],
            [
             0.2,
             "#de77ae"
            ],
            [
             0.3,
             "#f1b6da"
            ],
            [
             0.4,
             "#fde0ef"
            ],
            [
             0.5,
             "#f7f7f7"
            ],
            [
             0.6,
             "#e6f5d0"
            ],
            [
             0.7,
             "#b8e186"
            ],
            [
             0.8,
             "#7fbc41"
            ],
            [
             0.9,
             "#4d9221"
            ],
            [
             1,
             "#276419"
            ]
           ],
           "sequential": [
            [
             0,
             "#0d0887"
            ],
            [
             0.1111111111111111,
             "#46039f"
            ],
            [
             0.2222222222222222,
             "#7201a8"
            ],
            [
             0.3333333333333333,
             "#9c179e"
            ],
            [
             0.4444444444444444,
             "#bd3786"
            ],
            [
             0.5555555555555556,
             "#d8576b"
            ],
            [
             0.6666666666666666,
             "#ed7953"
            ],
            [
             0.7777777777777778,
             "#fb9f3a"
            ],
            [
             0.8888888888888888,
             "#fdca26"
            ],
            [
             1,
             "#f0f921"
            ]
           ],
           "sequentialminus": [
            [
             0,
             "#0d0887"
            ],
            [
             0.1111111111111111,
             "#46039f"
            ],
            [
             0.2222222222222222,
             "#7201a8"
            ],
            [
             0.3333333333333333,
             "#9c179e"
            ],
            [
             0.4444444444444444,
             "#bd3786"
            ],
            [
             0.5555555555555556,
             "#d8576b"
            ],
            [
             0.6666666666666666,
             "#ed7953"
            ],
            [
             0.7777777777777778,
             "#fb9f3a"
            ],
            [
             0.8888888888888888,
             "#fdca26"
            ],
            [
             1,
             "#f0f921"
            ]
           ]
          },
          "colorway": [
           "#636efa",
           "#EF553B",
           "#00cc96",
           "#ab63fa",
           "#FFA15A",
           "#19d3f3",
           "#FF6692",
           "#B6E880",
           "#FF97FF",
           "#FECB52"
          ],
          "font": {
           "color": "#2a3f5f"
          },
          "geo": {
           "bgcolor": "white",
           "lakecolor": "white",
           "landcolor": "#E5ECF6",
           "showlakes": true,
           "showland": true,
           "subunitcolor": "white"
          },
          "hoverlabel": {
           "align": "left"
          },
          "hovermode": "closest",
          "mapbox": {
           "style": "light"
          },
          "paper_bgcolor": "white",
          "plot_bgcolor": "#E5ECF6",
          "polar": {
           "angularaxis": {
            "gridcolor": "white",
            "linecolor": "white",
            "ticks": ""
           },
           "bgcolor": "#E5ECF6",
           "radialaxis": {
            "gridcolor": "white",
            "linecolor": "white",
            "ticks": ""
           }
          },
          "scene": {
           "xaxis": {
            "backgroundcolor": "#E5ECF6",
            "gridcolor": "white",
            "gridwidth": 2,
            "linecolor": "white",
            "showbackground": true,
            "ticks": "",
            "zerolinecolor": "white"
           },
           "yaxis": {
            "backgroundcolor": "#E5ECF6",
            "gridcolor": "white",
            "gridwidth": 2,
            "linecolor": "white",
            "showbackground": true,
            "ticks": "",
            "zerolinecolor": "white"
           },
           "zaxis": {
            "backgroundcolor": "#E5ECF6",
            "gridcolor": "white",
            "gridwidth": 2,
            "linecolor": "white",
            "showbackground": true,
            "ticks": "",
            "zerolinecolor": "white"
           }
          },
          "shapedefaults": {
           "line": {
            "color": "#2a3f5f"
           }
          },
          "ternary": {
           "aaxis": {
            "gridcolor": "white",
            "linecolor": "white",
            "ticks": ""
           },
           "baxis": {
            "gridcolor": "white",
            "linecolor": "white",
            "ticks": ""
           },
           "bgcolor": "#E5ECF6",
           "caxis": {
            "gridcolor": "white",
            "linecolor": "white",
            "ticks": ""
           }
          },
          "title": {
           "x": 0.05
          },
          "xaxis": {
           "automargin": true,
           "gridcolor": "white",
           "linecolor": "white",
           "ticks": "",
           "title": {
            "standoff": 15
           },
           "zerolinecolor": "white",
           "zerolinewidth": 2
          },
          "yaxis": {
           "automargin": true,
           "gridcolor": "white",
           "linecolor": "white",
           "ticks": "",
           "title": {
            "standoff": 15
           },
           "zerolinecolor": "white",
           "zerolinewidth": 2
          }
         }
        },
        "title": {
         "text": "Top 10 function words",
         "x": 0.5
        },
        "xaxis": {
         "anchor": "y",
         "domain": [
          0,
          0.082
         ],
         "tickfont": {
          "size": 10
         }
        },
        "xaxis10": {
         "anchor": "y10",
         "domain": [
          0.9179999999999999,
          0.9999999999999999
         ],
         "tickfont": {
          "size": 10
         }
        },
        "xaxis11": {
         "anchor": "y11",
         "domain": [
          0,
          0.082
         ],
         "tickfont": {
          "size": 10
         }
        },
        "xaxis12": {
         "anchor": "y12",
         "domain": [
          0.10200000000000001,
          0.184
         ],
         "tickfont": {
          "size": 10
         }
        },
        "xaxis13": {
         "anchor": "y13",
         "domain": [
          0.20400000000000001,
          0.28600000000000003
         ],
         "tickfont": {
          "size": 10
         }
        },
        "xaxis14": {
         "anchor": "y14",
         "domain": [
          0.306,
          0.388
         ],
         "tickfont": {
          "size": 10
         }
        },
        "xaxis15": {
         "anchor": "y15",
         "domain": [
          0.40800000000000003,
          0.49000000000000005
         ],
         "tickfont": {
          "size": 10
         }
        },
        "xaxis16": {
         "anchor": "y16",
         "domain": [
          0.51,
          0.592
         ],
         "tickfont": {
          "size": 10
         }
        },
        "xaxis17": {
         "anchor": "y17",
         "domain": [
          0.612,
          0.694
         ],
         "tickfont": {
          "size": 10
         }
        },
        "xaxis18": {
         "anchor": "y18",
         "domain": [
          0.7140000000000001,
          0.796
         ],
         "tickfont": {
          "size": 10
         }
        },
        "xaxis19": {
         "anchor": "y19",
         "domain": [
          0.8160000000000001,
          0.898
         ],
         "tickfont": {
          "size": 10
         }
        },
        "xaxis2": {
         "anchor": "y2",
         "domain": [
          0.10200000000000001,
          0.184
         ],
         "tickfont": {
          "size": 10
         }
        },
        "xaxis20": {
         "anchor": "y20",
         "domain": [
          0.9179999999999999,
          0.9999999999999999
         ],
         "tickfont": {
          "size": 10
         }
        },
        "xaxis21": {
         "anchor": "y21",
         "domain": [
          0,
          0.082
         ],
         "tickfont": {
          "size": 10
         }
        },
        "xaxis22": {
         "anchor": "y22",
         "domain": [
          0.10200000000000001,
          0.184
         ],
         "tickfont": {
          "size": 10
         }
        },
        "xaxis23": {
         "anchor": "y23",
         "domain": [
          0.20400000000000001,
          0.28600000000000003
         ],
         "tickfont": {
          "size": 10
         }
        },
        "xaxis24": {
         "anchor": "y24",
         "domain": [
          0.306,
          0.388
         ],
         "tickfont": {
          "size": 10
         }
        },
        "xaxis25": {
         "anchor": "y25",
         "domain": [
          0.40800000000000003,
          0.49000000000000005
         ],
         "tickfont": {
          "size": 10
         }
        },
        "xaxis26": {
         "anchor": "y26",
         "domain": [
          0.51,
          0.592
         ],
         "tickfont": {
          "size": 10
         }
        },
        "xaxis27": {
         "anchor": "y27",
         "domain": [
          0.612,
          0.694
         ],
         "tickfont": {
          "size": 10
         }
        },
        "xaxis28": {
         "anchor": "y28",
         "domain": [
          0.7140000000000001,
          0.796
         ],
         "tickfont": {
          "size": 10
         }
        },
        "xaxis29": {
         "anchor": "y29",
         "domain": [
          0.8160000000000001,
          0.898
         ],
         "tickfont": {
          "size": 10
         }
        },
        "xaxis3": {
         "anchor": "y3",
         "domain": [
          0.20400000000000001,
          0.28600000000000003
         ],
         "tickfont": {
          "size": 10
         }
        },
        "xaxis30": {
         "anchor": "y30",
         "domain": [
          0.9179999999999999,
          0.9999999999999999
         ],
         "tickfont": {
          "size": 10
         }
        },
        "xaxis31": {
         "anchor": "y31",
         "domain": [
          0,
          0.082
         ],
         "tickfont": {
          "size": 10
         }
        },
        "xaxis32": {
         "anchor": "y32",
         "domain": [
          0.10200000000000001,
          0.184
         ],
         "tickfont": {
          "size": 10
         }
        },
        "xaxis33": {
         "anchor": "y33",
         "domain": [
          0.20400000000000001,
          0.28600000000000003
         ],
         "tickfont": {
          "size": 10
         }
        },
        "xaxis34": {
         "anchor": "y34",
         "domain": [
          0.306,
          0.388
         ],
         "tickfont": {
          "size": 10
         }
        },
        "xaxis35": {
         "anchor": "y35",
         "domain": [
          0.40800000000000003,
          0.49000000000000005
         ],
         "tickfont": {
          "size": 10
         }
        },
        "xaxis36": {
         "anchor": "y36",
         "domain": [
          0.51,
          0.592
         ],
         "tickfont": {
          "size": 10
         }
        },
        "xaxis37": {
         "anchor": "y37",
         "domain": [
          0.612,
          0.694
         ],
         "tickfont": {
          "size": 10
         }
        },
        "xaxis38": {
         "anchor": "y38",
         "domain": [
          0.7140000000000001,
          0.796
         ],
         "tickfont": {
          "size": 10
         }
        },
        "xaxis39": {
         "anchor": "y39",
         "domain": [
          0.8160000000000001,
          0.898
         ],
         "tickfont": {
          "size": 10
         }
        },
        "xaxis4": {
         "anchor": "y4",
         "domain": [
          0.306,
          0.388
         ],
         "tickfont": {
          "size": 10
         }
        },
        "xaxis40": {
         "anchor": "y40",
         "domain": [
          0.9179999999999999,
          0.9999999999999999
         ],
         "tickfont": {
          "size": 10
         }
        },
        "xaxis41": {
         "anchor": "y41",
         "domain": [
          0,
          0.082
         ],
         "tickfont": {
          "size": 10
         }
        },
        "xaxis42": {
         "anchor": "y42",
         "domain": [
          0.10200000000000001,
          0.184
         ],
         "tickfont": {
          "size": 10
         }
        },
        "xaxis43": {
         "anchor": "y43",
         "domain": [
          0.20400000000000001,
          0.28600000000000003
         ],
         "tickfont": {
          "size": 10
         }
        },
        "xaxis44": {
         "anchor": "y44",
         "domain": [
          0.306,
          0.388
         ],
         "tickfont": {
          "size": 10
         }
        },
        "xaxis45": {
         "anchor": "y45",
         "domain": [
          0.40800000000000003,
          0.49000000000000005
         ],
         "tickfont": {
          "size": 10
         }
        },
        "xaxis46": {
         "anchor": "y46",
         "domain": [
          0.51,
          0.592
         ],
         "tickfont": {
          "size": 10
         }
        },
        "xaxis47": {
         "anchor": "y47",
         "domain": [
          0.612,
          0.694
         ],
         "tickfont": {
          "size": 10
         }
        },
        "xaxis48": {
         "anchor": "y48",
         "domain": [
          0.7140000000000001,
          0.796
         ],
         "tickfont": {
          "size": 10
         }
        },
        "xaxis49": {
         "anchor": "y49",
         "domain": [
          0.8160000000000001,
          0.898
         ],
         "tickfont": {
          "size": 10
         }
        },
        "xaxis5": {
         "anchor": "y5",
         "domain": [
          0.40800000000000003,
          0.49000000000000005
         ],
         "tickfont": {
          "size": 10
         }
        },
        "xaxis50": {
         "anchor": "y50",
         "domain": [
          0.9179999999999999,
          0.9999999999999999
         ],
         "tickfont": {
          "size": 10
         }
        },
        "xaxis51": {
         "anchor": "y51",
         "domain": [
          0,
          0.082
         ],
         "tickfont": {
          "size": 10
         }
        },
        "xaxis52": {
         "anchor": "y52",
         "domain": [
          0.10200000000000001,
          0.184
         ],
         "tickfont": {
          "size": 10
         }
        },
        "xaxis53": {
         "anchor": "y53",
         "domain": [
          0.20400000000000001,
          0.28600000000000003
         ],
         "tickfont": {
          "size": 10
         }
        },
        "xaxis54": {
         "anchor": "y54",
         "domain": [
          0.306,
          0.388
         ],
         "tickfont": {
          "size": 10
         }
        },
        "xaxis55": {
         "anchor": "y55",
         "domain": [
          0.40800000000000003,
          0.49000000000000005
         ],
         "tickfont": {
          "size": 10
         }
        },
        "xaxis56": {
         "anchor": "y56",
         "domain": [
          0.51,
          0.592
         ],
         "tickfont": {
          "size": 10
         }
        },
        "xaxis57": {
         "anchor": "y57",
         "domain": [
          0.612,
          0.694
         ],
         "tickfont": {
          "size": 10
         }
        },
        "xaxis58": {
         "anchor": "y58",
         "domain": [
          0.7140000000000001,
          0.796
         ],
         "tickfont": {
          "size": 10
         }
        },
        "xaxis59": {
         "anchor": "y59",
         "domain": [
          0.8160000000000001,
          0.898
         ],
         "tickfont": {
          "size": 10
         }
        },
        "xaxis6": {
         "anchor": "y6",
         "domain": [
          0.51,
          0.592
         ],
         "tickfont": {
          "size": 10
         }
        },
        "xaxis60": {
         "anchor": "y60",
         "domain": [
          0.9179999999999999,
          0.9999999999999999
         ],
         "tickfont": {
          "size": 10
         }
        },
        "xaxis7": {
         "anchor": "y7",
         "domain": [
          0.612,
          0.694
         ],
         "tickfont": {
          "size": 10
         }
        },
        "xaxis8": {
         "anchor": "y8",
         "domain": [
          0.7140000000000001,
          0.796
         ],
         "tickfont": {
          "size": 10
         }
        },
        "xaxis9": {
         "anchor": "y9",
         "domain": [
          0.8160000000000001,
          0.898
         ],
         "tickfont": {
          "size": 10
         }
        },
        "yaxis": {
         "anchor": "x",
         "domain": [
          0.9027777777777777,
          0.9999999999999999
         ],
         "range": [
          0,
          2601
         ]
        },
        "yaxis10": {
         "anchor": "x10",
         "domain": [
          0.9027777777777777,
          0.9999999999999999
         ],
         "range": [
          0,
          2601
         ]
        },
        "yaxis11": {
         "anchor": "x11",
         "domain": [
          0.7222222222222222,
          0.8194444444444444
         ],
         "range": [
          0,
          2601
         ]
        },
        "yaxis12": {
         "anchor": "x12",
         "domain": [
          0.7222222222222222,
          0.8194444444444444
         ],
         "range": [
          0,
          2601
         ]
        },
        "yaxis13": {
         "anchor": "x13",
         "domain": [
          0.7222222222222222,
          0.8194444444444444
         ],
         "range": [
          0,
          2601
         ]
        },
        "yaxis14": {
         "anchor": "x14",
         "domain": [
          0.7222222222222222,
          0.8194444444444444
         ],
         "range": [
          0,
          2601
         ]
        },
        "yaxis15": {
         "anchor": "x15",
         "domain": [
          0.7222222222222222,
          0.8194444444444444
         ],
         "range": [
          0,
          2601
         ]
        },
        "yaxis16": {
         "anchor": "x16",
         "domain": [
          0.7222222222222222,
          0.8194444444444444
         ],
         "range": [
          0,
          2601
         ]
        },
        "yaxis17": {
         "anchor": "x17",
         "domain": [
          0.7222222222222222,
          0.8194444444444444
         ],
         "range": [
          0,
          2601
         ]
        },
        "yaxis18": {
         "anchor": "x18",
         "domain": [
          0.7222222222222222,
          0.8194444444444444
         ],
         "range": [
          0,
          2601
         ]
        },
        "yaxis19": {
         "anchor": "x19",
         "domain": [
          0.7222222222222222,
          0.8194444444444444
         ],
         "range": [
          0,
          2601
         ]
        },
        "yaxis2": {
         "anchor": "x2",
         "domain": [
          0.9027777777777777,
          0.9999999999999999
         ],
         "range": [
          0,
          2601
         ]
        },
        "yaxis20": {
         "anchor": "x20",
         "domain": [
          0.7222222222222222,
          0.8194444444444444
         ],
         "range": [
          0,
          2601
         ]
        },
        "yaxis21": {
         "anchor": "x21",
         "domain": [
          0.5416666666666667,
          0.638888888888889
         ],
         "range": [
          0,
          2601
         ]
        },
        "yaxis22": {
         "anchor": "x22",
         "domain": [
          0.5416666666666667,
          0.638888888888889
         ],
         "range": [
          0,
          2601
         ]
        },
        "yaxis23": {
         "anchor": "x23",
         "domain": [
          0.5416666666666667,
          0.638888888888889
         ],
         "range": [
          0,
          2601
         ]
        },
        "yaxis24": {
         "anchor": "x24",
         "domain": [
          0.5416666666666667,
          0.638888888888889
         ],
         "range": [
          0,
          2601
         ]
        },
        "yaxis25": {
         "anchor": "x25",
         "domain": [
          0.5416666666666667,
          0.638888888888889
         ],
         "range": [
          0,
          2601
         ]
        },
        "yaxis26": {
         "anchor": "x26",
         "domain": [
          0.5416666666666667,
          0.638888888888889
         ],
         "range": [
          0,
          2601
         ]
        },
        "yaxis27": {
         "anchor": "x27",
         "domain": [
          0.5416666666666667,
          0.638888888888889
         ],
         "range": [
          0,
          2601
         ]
        },
        "yaxis28": {
         "anchor": "x28",
         "domain": [
          0.5416666666666667,
          0.638888888888889
         ],
         "range": [
          0,
          2601
         ]
        },
        "yaxis29": {
         "anchor": "x29",
         "domain": [
          0.5416666666666667,
          0.638888888888889
         ],
         "range": [
          0,
          2601
         ]
        },
        "yaxis3": {
         "anchor": "x3",
         "domain": [
          0.9027777777777777,
          0.9999999999999999
         ],
         "range": [
          0,
          2601
         ]
        },
        "yaxis30": {
         "anchor": "x30",
         "domain": [
          0.5416666666666667,
          0.638888888888889
         ],
         "range": [
          0,
          2601
         ]
        },
        "yaxis31": {
         "anchor": "x31",
         "domain": [
          0.3611111111111111,
          0.4583333333333333
         ],
         "range": [
          0,
          2601
         ]
        },
        "yaxis32": {
         "anchor": "x32",
         "domain": [
          0.3611111111111111,
          0.4583333333333333
         ],
         "range": [
          0,
          2601
         ]
        },
        "yaxis33": {
         "anchor": "x33",
         "domain": [
          0.3611111111111111,
          0.4583333333333333
         ],
         "range": [
          0,
          2601
         ]
        },
        "yaxis34": {
         "anchor": "x34",
         "domain": [
          0.3611111111111111,
          0.4583333333333333
         ],
         "range": [
          0,
          2601
         ]
        },
        "yaxis35": {
         "anchor": "x35",
         "domain": [
          0.3611111111111111,
          0.4583333333333333
         ],
         "range": [
          0,
          2601
         ]
        },
        "yaxis36": {
         "anchor": "x36",
         "domain": [
          0.3611111111111111,
          0.4583333333333333
         ],
         "range": [
          0,
          2601
         ]
        },
        "yaxis37": {
         "anchor": "x37",
         "domain": [
          0.3611111111111111,
          0.4583333333333333
         ],
         "range": [
          0,
          2601
         ]
        },
        "yaxis38": {
         "anchor": "x38",
         "domain": [
          0.3611111111111111,
          0.4583333333333333
         ],
         "range": [
          0,
          2601
         ]
        },
        "yaxis39": {
         "anchor": "x39",
         "domain": [
          0.3611111111111111,
          0.4583333333333333
         ],
         "range": [
          0,
          2601
         ]
        },
        "yaxis4": {
         "anchor": "x4",
         "domain": [
          0.9027777777777777,
          0.9999999999999999
         ],
         "range": [
          0,
          2601
         ]
        },
        "yaxis40": {
         "anchor": "x40",
         "domain": [
          0.3611111111111111,
          0.4583333333333333
         ],
         "range": [
          0,
          2601
         ]
        },
        "yaxis41": {
         "anchor": "x41",
         "domain": [
          0.18055555555555555,
          0.2777777777777778
         ],
         "range": [
          0,
          2601
         ]
        },
        "yaxis42": {
         "anchor": "x42",
         "domain": [
          0.18055555555555555,
          0.2777777777777778
         ],
         "range": [
          0,
          2601
         ]
        },
        "yaxis43": {
         "anchor": "x43",
         "domain": [
          0.18055555555555555,
          0.2777777777777778
         ],
         "range": [
          0,
          2601
         ]
        },
        "yaxis44": {
         "anchor": "x44",
         "domain": [
          0.18055555555555555,
          0.2777777777777778
         ],
         "range": [
          0,
          2601
         ]
        },
        "yaxis45": {
         "anchor": "x45",
         "domain": [
          0.18055555555555555,
          0.2777777777777778
         ],
         "range": [
          0,
          2601
         ]
        },
        "yaxis46": {
         "anchor": "x46",
         "domain": [
          0.18055555555555555,
          0.2777777777777778
         ],
         "range": [
          0,
          2601
         ]
        },
        "yaxis47": {
         "anchor": "x47",
         "domain": [
          0.18055555555555555,
          0.2777777777777778
         ],
         "range": [
          0,
          2601
         ]
        },
        "yaxis48": {
         "anchor": "x48",
         "domain": [
          0.18055555555555555,
          0.2777777777777778
         ],
         "range": [
          0,
          2601
         ]
        },
        "yaxis49": {
         "anchor": "x49",
         "domain": [
          0.18055555555555555,
          0.2777777777777778
         ],
         "range": [
          0,
          2601
         ]
        },
        "yaxis5": {
         "anchor": "x5",
         "domain": [
          0.9027777777777777,
          0.9999999999999999
         ],
         "range": [
          0,
          2601
         ]
        },
        "yaxis50": {
         "anchor": "x50",
         "domain": [
          0.18055555555555555,
          0.2777777777777778
         ],
         "range": [
          0,
          2601
         ]
        },
        "yaxis51": {
         "anchor": "x51",
         "domain": [
          0,
          0.09722222222222222
         ],
         "range": [
          0,
          2601
         ]
        },
        "yaxis52": {
         "anchor": "x52",
         "domain": [
          0,
          0.09722222222222222
         ],
         "range": [
          0,
          2601
         ]
        },
        "yaxis53": {
         "anchor": "x53",
         "domain": [
          0,
          0.09722222222222222
         ],
         "range": [
          0,
          2601
         ]
        },
        "yaxis54": {
         "anchor": "x54",
         "domain": [
          0,
          0.09722222222222222
         ],
         "range": [
          0,
          2601
         ]
        },
        "yaxis55": {
         "anchor": "x55",
         "domain": [
          0,
          0.09722222222222222
         ],
         "range": [
          0,
          2601
         ]
        },
        "yaxis56": {
         "anchor": "x56",
         "domain": [
          0,
          0.09722222222222222
         ],
         "range": [
          0,
          2601
         ]
        },
        "yaxis57": {
         "anchor": "x57",
         "domain": [
          0,
          0.09722222222222222
         ],
         "range": [
          0,
          2601
         ]
        },
        "yaxis58": {
         "anchor": "x58",
         "domain": [
          0,
          0.09722222222222222
         ],
         "range": [
          0,
          2601
         ]
        },
        "yaxis59": {
         "anchor": "x59",
         "domain": [
          0,
          0.09722222222222222
         ],
         "range": [
          0,
          2601
         ]
        },
        "yaxis6": {
         "anchor": "x6",
         "domain": [
          0.9027777777777777,
          0.9999999999999999
         ],
         "range": [
          0,
          2601
         ]
        },
        "yaxis60": {
         "anchor": "x60",
         "domain": [
          0,
          0.09722222222222222
         ],
         "range": [
          0,
          2601
         ]
        },
        "yaxis7": {
         "anchor": "x7",
         "domain": [
          0.9027777777777777,
          0.9999999999999999
         ],
         "range": [
          0,
          2601
         ]
        },
        "yaxis8": {
         "anchor": "x8",
         "domain": [
          0.9027777777777777,
          0.9999999999999999
         ],
         "range": [
          0,
          2601
         ]
        },
        "yaxis9": {
         "anchor": "x9",
         "domain": [
          0.9027777777777777,
          0.9999999999999999
         ],
         "range": [
          0,
          2601
         ]
        }
       }
      }
     },
     "metadata": {},
     "output_type": "display_data"
    },
    {
     "data": {
      "application/vnd.plotly.v1+json": {
       "config": {
        "plotlyServerURL": "https://plot.ly"
       },
       "data": [
        {
         "marker": {
          "color": "#3498db"
         },
         "mode": "markers",
         "name": "books",
         "showlegend": true,
         "type": "scatter",
         "x": [
          "!",
          "\"",
          "#",
          "$",
          "%",
          "&",
          "'",
          "(",
          ")",
          "*",
          "+",
          ",",
          "-",
          ".",
          "/",
          ":",
          ";",
          "<",
          "=",
          ">",
          "?",
          "@",
          "[",
          "\\",
          "]",
          "^",
          "_",
          "`",
          "{",
          "|",
          "}",
          "~"
         ],
         "xaxis": "x",
         "y": [
          43,
          249,
          0,
          10,
          0,
          2,
          253,
          45,
          45,
          93,
          0,
          1628,
          681,
          1453,
          2,
          65,
          160,
          0,
          11,
          0,
          34,
          0,
          10,
          1,
          10,
          0,
          0,
          0,
          0,
          29,
          0,
          0
         ],
         "yaxis": "y"
        },
        {
         "marker": {
          "color": "#3498db"
         },
         "mode": "markers",
         "name": "books",
         "showlegend": false,
         "type": "scatter",
         "x": [
          "!",
          "\"",
          "#",
          "$",
          "%",
          "&",
          "'",
          "(",
          ")",
          "*",
          "+",
          ",",
          "-",
          ".",
          "/",
          ":",
          ";",
          "<",
          "=",
          ">",
          "?",
          "@",
          "[",
          "\\",
          "]",
          "^",
          "_",
          "`",
          "{",
          "|",
          "}",
          "~"
         ],
         "xaxis": "x2",
         "y": [
          151,
          914,
          0,
          0,
          0,
          0,
          756,
          1,
          1,
          0,
          0,
          1762,
          694,
          1781,
          0,
          8,
          87,
          0,
          0,
          0,
          134,
          0,
          0,
          0,
          0,
          0,
          2,
          0,
          0,
          0,
          0,
          0
         ],
         "yaxis": "y2"
        },
        {
         "marker": {
          "color": "#3498db"
         },
         "mode": "markers",
         "name": "books",
         "showlegend": false,
         "type": "scatter",
         "x": [
          "!",
          "\"",
          "#",
          "$",
          "%",
          "&",
          "'",
          "(",
          ")",
          "*",
          "+",
          ",",
          "-",
          ".",
          "/",
          ":",
          ";",
          "<",
          "=",
          ">",
          "?",
          "@",
          "[",
          "\\",
          "]",
          "^",
          "_",
          "`",
          "{",
          "|",
          "}",
          "~"
         ],
         "xaxis": "x3",
         "y": [
          76,
          404,
          0,
          0,
          0,
          0,
          336,
          14,
          14,
          0,
          0,
          1503,
          362,
          1529,
          0,
          30,
          122,
          0,
          0,
          0,
          88,
          0,
          0,
          0,
          0,
          0,
          16,
          0,
          0,
          0,
          0,
          0
         ],
         "yaxis": "y3"
        },
        {
         "marker": {
          "color": "#3498db"
         },
         "mode": "markers",
         "name": "books",
         "showlegend": false,
         "type": "scatter",
         "x": [
          "!",
          "\"",
          "#",
          "$",
          "%",
          "&",
          "'",
          "(",
          ")",
          "*",
          "+",
          ",",
          "-",
          ".",
          "/",
          ":",
          ";",
          "<",
          "=",
          ">",
          "?",
          "@",
          "[",
          "\\",
          "]",
          "^",
          "_",
          "`",
          "{",
          "|",
          "}",
          "~"
         ],
         "xaxis": "x4",
         "y": [
          65,
          537,
          0,
          0,
          0,
          0,
          497,
          4,
          4,
          0,
          0,
          1862,
          647,
          1066,
          0,
          56,
          184,
          0,
          0,
          0,
          100,
          0,
          3,
          0,
          3,
          0,
          66,
          3,
          0,
          0,
          0,
          0
         ],
         "yaxis": "y4"
        },
        {
         "marker": {
          "color": "#3498db"
         },
         "mode": "markers",
         "name": "books",
         "showlegend": false,
         "type": "scatter",
         "x": [
          "!",
          "\"",
          "#",
          "$",
          "%",
          "&",
          "'",
          "(",
          ")",
          "*",
          "+",
          ",",
          "-",
          ".",
          "/",
          ":",
          ";",
          "<",
          "=",
          ">",
          "?",
          "@",
          "[",
          "\\",
          "]",
          "^",
          "_",
          "`",
          "{",
          "|",
          "}",
          "~"
         ],
         "xaxis": "x5",
         "y": [
          118,
          0,
          0,
          0,
          0,
          0,
          529,
          3,
          3,
          2,
          0,
          2073,
          194,
          1105,
          0,
          45,
          300,
          0,
          0,
          0,
          86,
          0,
          2,
          0,
          2,
          0,
          46,
          0,
          0,
          0,
          0,
          0
         ],
         "yaxis": "y5"
        },
        {
         "marker": {
          "color": "#3498db"
         },
         "mode": "markers",
         "name": "books",
         "showlegend": false,
         "type": "scatter",
         "x": [
          "!",
          "\"",
          "#",
          "$",
          "%",
          "&",
          "'",
          "(",
          ")",
          "*",
          "+",
          ",",
          "-",
          ".",
          "/",
          ":",
          ";",
          "<",
          "=",
          ">",
          "?",
          "@",
          "[",
          "\\",
          "]",
          "^",
          "_",
          "`",
          "{",
          "|",
          "}",
          "~"
         ],
         "xaxis": "x6",
         "y": [
          53,
          907,
          0,
          0,
          0,
          0,
          818,
          1,
          1,
          0,
          0,
          1381,
          624,
          1764,
          0,
          7,
          99,
          0,
          0,
          0,
          118,
          0,
          1,
          0,
          1,
          0,
          24,
          0,
          0,
          0,
          0,
          0
         ],
         "yaxis": "y6"
        },
        {
         "marker": {
          "color": "#3498db"
         },
         "mode": "markers",
         "name": "books",
         "showlegend": false,
         "type": "scatter",
         "x": [
          "!",
          "\"",
          "#",
          "$",
          "%",
          "&",
          "'",
          "(",
          ")",
          "*",
          "+",
          ",",
          "-",
          ".",
          "/",
          ":",
          ";",
          "<",
          "=",
          ">",
          "?",
          "@",
          "[",
          "\\",
          "]",
          "^",
          "_",
          "`",
          "{",
          "|",
          "}",
          "~"
         ],
         "xaxis": "x7",
         "y": [
          84,
          591,
          0,
          0,
          0,
          2,
          257,
          11,
          11,
          6,
          0,
          2381,
          588,
          867,
          0,
          28,
          295,
          0,
          0,
          0,
          86,
          0,
          1,
          1,
          1,
          0,
          44,
          0,
          0,
          0,
          0,
          0
         ],
         "yaxis": "y7"
        },
        {
         "marker": {
          "color": "#3498db"
         },
         "mode": "markers",
         "name": "books",
         "showlegend": false,
         "type": "scatter",
         "x": [
          "!",
          "\"",
          "#",
          "$",
          "%",
          "&",
          "'",
          "(",
          ")",
          "*",
          "+",
          ",",
          "-",
          ".",
          "/",
          ":",
          ";",
          "<",
          "=",
          ">",
          "?",
          "@",
          "[",
          "\\",
          "]",
          "^",
          "_",
          "`",
          "{",
          "|",
          "}",
          "~"
         ],
         "xaxis": "x8",
         "y": [
          90,
          870,
          0,
          0,
          0,
          3,
          250,
          4,
          4,
          40,
          0,
          1568,
          193,
          1022,
          0,
          137,
          117,
          0,
          0,
          0,
          94,
          0,
          61,
          0,
          61,
          0,
          88,
          0,
          0,
          0,
          0,
          2
         ],
         "yaxis": "y8"
        },
        {
         "marker": {
          "color": "#3498db"
         },
         "mode": "markers",
         "name": "books",
         "showlegend": false,
         "type": "scatter",
         "x": [
          "!",
          "\"",
          "#",
          "$",
          "%",
          "&",
          "'",
          "(",
          ")",
          "*",
          "+",
          ",",
          "-",
          ".",
          "/",
          ":",
          ";",
          "<",
          "=",
          ">",
          "?",
          "@",
          "[",
          "\\",
          "]",
          "^",
          "_",
          "`",
          "{",
          "|",
          "}",
          "~"
         ],
         "xaxis": "x9",
         "y": [
          64,
          1029,
          0,
          0,
          0,
          0,
          473,
          3,
          3,
          0,
          0,
          1897,
          367,
          1441,
          0,
          19,
          173,
          0,
          0,
          0,
          157,
          0,
          0,
          0,
          0,
          0,
          30,
          0,
          0,
          0,
          0,
          0
         ],
         "yaxis": "y9"
        },
        {
         "marker": {
          "color": "#3498db"
         },
         "mode": "markers",
         "name": "books",
         "showlegend": false,
         "type": "scatter",
         "x": [
          "!",
          "\"",
          "#",
          "$",
          "%",
          "&",
          "'",
          "(",
          ")",
          "*",
          "+",
          ",",
          "-",
          ".",
          "/",
          ":",
          ";",
          "<",
          "=",
          ">",
          "?",
          "@",
          "[",
          "\\",
          "]",
          "^",
          "_",
          "`",
          "{",
          "|",
          "}",
          "~"
         ],
         "xaxis": "x10",
         "y": [
          337,
          1340,
          0,
          0,
          0,
          3,
          496,
          153,
          154,
          68,
          2,
          2116,
          846,
          1228,
          28,
          289,
          120,
          0,
          46,
          0,
          99,
          0,
          46,
          0,
          45,
          0,
          489,
          0,
          1,
          12,
          1,
          0
         ],
         "yaxis": "y10"
        },
        {
         "marker": {
          "color": "#e74c3c"
         },
         "mode": "markers",
         "name": "gpt-3.5-turbo-0125",
         "showlegend": true,
         "type": "scatter",
         "x": [
          "!",
          "\"",
          "#",
          "$",
          "%",
          "&",
          "'",
          "(",
          ")",
          "*",
          "+",
          ",",
          "-",
          ".",
          "/",
          ":",
          ";",
          "<",
          "=",
          ">",
          "?",
          "@",
          "[",
          "\\",
          "]",
          "^",
          "_",
          "`",
          "{",
          "|",
          "}",
          "~"
         ],
         "xaxis": "x",
         "y": [
          20,
          40,
          0,
          0,
          0,
          0,
          413,
          4,
          4,
          0,
          0,
          1888,
          113,
          1238,
          0,
          19,
          4,
          0,
          0,
          0,
          40,
          0,
          0,
          0,
          0,
          0,
          0,
          0,
          0,
          0,
          0,
          0
         ],
         "yaxis": "y"
        },
        {
         "marker": {
          "color": "#e74c3c"
         },
         "mode": "markers",
         "name": "gpt-3.5-turbo-0125",
         "showlegend": false,
         "type": "scatter",
         "x": [
          "!",
          "\"",
          "#",
          "$",
          "%",
          "&",
          "'",
          "(",
          ")",
          "*",
          "+",
          ",",
          "-",
          ".",
          "/",
          ":",
          ";",
          "<",
          "=",
          ">",
          "?",
          "@",
          "[",
          "\\",
          "]",
          "^",
          "_",
          "`",
          "{",
          "|",
          "}",
          "~"
         ],
         "xaxis": "x2",
         "y": [
          7,
          150,
          0,
          0,
          0,
          0,
          210,
          0,
          0,
          0,
          0,
          1870,
          96,
          1195,
          0,
          9,
          3,
          0,
          0,
          0,
          27,
          0,
          0,
          0,
          0,
          0,
          0,
          0,
          0,
          0,
          0,
          0
         ],
         "yaxis": "y2"
        },
        {
         "marker": {
          "color": "#e74c3c"
         },
         "mode": "markers",
         "name": "gpt-3.5-turbo-0125",
         "showlegend": false,
         "type": "scatter",
         "x": [
          "!",
          "\"",
          "#",
          "$",
          "%",
          "&",
          "'",
          "(",
          ")",
          "*",
          "+",
          ",",
          "-",
          ".",
          "/",
          ":",
          ";",
          "<",
          "=",
          ">",
          "?",
          "@",
          "[",
          "\\",
          "]",
          "^",
          "_",
          "`",
          "{",
          "|",
          "}",
          "~"
         ],
         "xaxis": "x3",
         "y": [
          1,
          96,
          0,
          0,
          0,
          0,
          61,
          0,
          0,
          64,
          0,
          1845,
          108,
          1147,
          0,
          20,
          8,
          0,
          0,
          0,
          9,
          0,
          0,
          0,
          0,
          0,
          0,
          0,
          0,
          0,
          0,
          0
         ],
         "yaxis": "y3"
        },
        {
         "marker": {
          "color": "#e74c3c"
         },
         "mode": "markers",
         "name": "gpt-3.5-turbo-0125",
         "showlegend": false,
         "type": "scatter",
         "x": [
          "!",
          "\"",
          "#",
          "$",
          "%",
          "&",
          "'",
          "(",
          ")",
          "*",
          "+",
          ",",
          "-",
          ".",
          "/",
          ":",
          ";",
          "<",
          "=",
          ">",
          "?",
          "@",
          "[",
          "\\",
          "]",
          "^",
          "_",
          "`",
          "{",
          "|",
          "}",
          "~"
         ],
         "xaxis": "x4",
         "y": [
          5,
          60,
          0,
          0,
          0,
          0,
          109,
          0,
          0,
          44,
          0,
          1865,
          112,
          1144,
          0,
          5,
          5,
          0,
          0,
          0,
          23,
          0,
          0,
          0,
          0,
          0,
          0,
          0,
          0,
          0,
          0,
          0
         ],
         "yaxis": "y4"
        },
        {
         "marker": {
          "color": "#e74c3c"
         },
         "mode": "markers",
         "name": "gpt-3.5-turbo-0125",
         "showlegend": false,
         "type": "scatter",
         "x": [
          "!",
          "\"",
          "#",
          "$",
          "%",
          "&",
          "'",
          "(",
          ")",
          "*",
          "+",
          ",",
          "-",
          ".",
          "/",
          ":",
          ";",
          "<",
          "=",
          ">",
          "?",
          "@",
          "[",
          "\\",
          "]",
          "^",
          "_",
          "`",
          "{",
          "|",
          "}",
          "~"
         ],
         "xaxis": "x5",
         "y": [
          2,
          12,
          0,
          0,
          0,
          0,
          76,
          1,
          1,
          0,
          0,
          1845,
          137,
          1181,
          0,
          3,
          11,
          0,
          0,
          0,
          6,
          0,
          1,
          0,
          1,
          0,
          0,
          0,
          0,
          0,
          0,
          0
         ],
         "yaxis": "y5"
        },
        {
         "marker": {
          "color": "#e74c3c"
         },
         "mode": "markers",
         "name": "gpt-3.5-turbo-0125",
         "showlegend": false,
         "type": "scatter",
         "x": [
          "!",
          "\"",
          "#",
          "$",
          "%",
          "&",
          "'",
          "(",
          ")",
          "*",
          "+",
          ",",
          "-",
          ".",
          "/",
          ":",
          ";",
          "<",
          "=",
          ">",
          "?",
          "@",
          "[",
          "\\",
          "]",
          "^",
          "_",
          "`",
          "{",
          "|",
          "}",
          "~"
         ],
         "xaxis": "x6",
         "y": [
          13,
          226,
          0,
          0,
          0,
          0,
          141,
          2,
          2,
          0,
          0,
          1840,
          136,
          1234,
          0,
          2,
          7,
          0,
          0,
          0,
          29,
          0,
          0,
          0,
          0,
          0,
          0,
          0,
          0,
          0,
          0,
          0
         ],
         "yaxis": "y6"
        },
        {
         "marker": {
          "color": "#e74c3c"
         },
         "mode": "markers",
         "name": "gpt-3.5-turbo-0125",
         "showlegend": false,
         "type": "scatter",
         "x": [
          "!",
          "\"",
          "#",
          "$",
          "%",
          "&",
          "'",
          "(",
          ")",
          "*",
          "+",
          ",",
          "-",
          ".",
          "/",
          ":",
          ";",
          "<",
          "=",
          ">",
          "?",
          "@",
          "[",
          "\\",
          "]",
          "^",
          "_",
          "`",
          "{",
          "|",
          "}",
          "~"
         ],
         "xaxis": "x7",
         "y": [
          0,
          30,
          0,
          0,
          0,
          0,
          70,
          1,
          1,
          0,
          0,
          1833,
          106,
          1123,
          0,
          5,
          6,
          0,
          0,
          0,
          13,
          0,
          0,
          0,
          0,
          0,
          0,
          0,
          0,
          0,
          0,
          0
         ],
         "yaxis": "y7"
        },
        {
         "marker": {
          "color": "#e74c3c"
         },
         "mode": "markers",
         "name": "gpt-3.5-turbo-0125",
         "showlegend": false,
         "type": "scatter",
         "x": [
          "!",
          "\"",
          "#",
          "$",
          "%",
          "&",
          "'",
          "(",
          ")",
          "*",
          "+",
          ",",
          "-",
          ".",
          "/",
          ":",
          ";",
          "<",
          "=",
          ">",
          "?",
          "@",
          "[",
          "\\",
          "]",
          "^",
          "_",
          "`",
          "{",
          "|",
          "}",
          "~"
         ],
         "xaxis": "x8",
         "y": [
          18,
          152,
          0,
          0,
          0,
          0,
          174,
          2,
          2,
          92,
          0,
          1874,
          128,
          1212,
          0,
          28,
          6,
          0,
          0,
          0,
          18,
          0,
          0,
          0,
          0,
          0,
          0,
          0,
          0,
          0,
          0,
          0
         ],
         "yaxis": "y8"
        },
        {
         "marker": {
          "color": "#e74c3c"
         },
         "mode": "markers",
         "name": "gpt-3.5-turbo-0125",
         "showlegend": false,
         "type": "scatter",
         "x": [
          "!",
          "\"",
          "#",
          "$",
          "%",
          "&",
          "'",
          "(",
          ")",
          "*",
          "+",
          ",",
          "-",
          ".",
          "/",
          ":",
          ";",
          "<",
          "=",
          ">",
          "?",
          "@",
          "[",
          "\\",
          "]",
          "^",
          "_",
          "`",
          "{",
          "|",
          "}",
          "~"
         ],
         "xaxis": "x9",
         "y": [
          0,
          8,
          0,
          0,
          0,
          0,
          100,
          0,
          0,
          0,
          0,
          1825,
          149,
          1135,
          0,
          4,
          12,
          0,
          0,
          0,
          7,
          0,
          0,
          0,
          0,
          0,
          0,
          0,
          0,
          0,
          0,
          0
         ],
         "yaxis": "y9"
        },
        {
         "marker": {
          "color": "#e74c3c"
         },
         "mode": "markers",
         "name": "gpt-3.5-turbo-0125",
         "showlegend": false,
         "type": "scatter",
         "x": [
          "!",
          "\"",
          "#",
          "$",
          "%",
          "&",
          "'",
          "(",
          ")",
          "*",
          "+",
          ",",
          "-",
          ".",
          "/",
          ":",
          ";",
          "<",
          "=",
          ">",
          "?",
          "@",
          "[",
          "\\",
          "]",
          "^",
          "_",
          "`",
          "{",
          "|",
          "}",
          "~"
         ],
         "xaxis": "x10",
         "y": [
          14,
          112,
          0,
          0,
          0,
          0,
          138,
          1,
          1,
          0,
          0,
          1910,
          109,
          1189,
          0,
          1,
          4,
          0,
          0,
          0,
          31,
          0,
          0,
          0,
          0,
          0,
          0,
          0,
          0,
          0,
          0,
          0
         ],
         "yaxis": "y10"
        },
        {
         "marker": {
          "color": "#2ecc71"
         },
         "mode": "markers",
         "name": "gpt-4o",
         "showlegend": true,
         "type": "scatter",
         "x": [
          "!",
          "\"",
          "#",
          "$",
          "%",
          "&",
          "'",
          "(",
          ")",
          "*",
          "+",
          ",",
          "-",
          ".",
          "/",
          ":",
          ";",
          "<",
          "=",
          ">",
          "?",
          "@",
          "[",
          "\\",
          "]",
          "^",
          "_",
          "`",
          "{",
          "|",
          "}",
          "~"
         ],
         "xaxis": "x",
         "y": [
          18,
          82,
          0,
          0,
          0,
          0,
          279,
          17,
          17,
          156,
          0,
          2206,
          133,
          1300,
          0,
          53,
          14,
          0,
          0,
          0,
          41,
          0,
          0,
          0,
          0,
          0,
          0,
          0,
          0,
          0,
          0,
          0
         ],
         "yaxis": "y"
        },
        {
         "marker": {
          "color": "#2ecc71"
         },
         "mode": "markers",
         "name": "gpt-4o",
         "showlegend": false,
         "type": "scatter",
         "x": [
          "!",
          "\"",
          "#",
          "$",
          "%",
          "&",
          "'",
          "(",
          ")",
          "*",
          "+",
          ",",
          "-",
          ".",
          "/",
          ":",
          ";",
          "<",
          "=",
          ">",
          "?",
          "@",
          "[",
          "\\",
          "]",
          "^",
          "_",
          "`",
          "{",
          "|",
          "}",
          "~"
         ],
         "xaxis": "x2",
         "y": [
          13,
          248,
          34,
          0,
          0,
          0,
          197,
          21,
          21,
          88,
          0,
          2231,
          106,
          1314,
          0,
          38,
          15,
          0,
          0,
          0,
          44,
          1,
          0,
          0,
          0,
          0,
          0,
          0,
          0,
          0,
          0,
          0
         ],
         "yaxis": "y2"
        },
        {
         "marker": {
          "color": "#2ecc71"
         },
         "mode": "markers",
         "name": "gpt-4o",
         "showlegend": false,
         "type": "scatter",
         "x": [
          "!",
          "\"",
          "#",
          "$",
          "%",
          "&",
          "'",
          "(",
          ")",
          "*",
          "+",
          ",",
          "-",
          ".",
          "/",
          ":",
          ";",
          "<",
          "=",
          ">",
          "?",
          "@",
          "[",
          "\\",
          "]",
          "^",
          "_",
          "`",
          "{",
          "|",
          "}",
          "~"
         ],
         "xaxis": "x3",
         "y": [
          2,
          112,
          50,
          0,
          0,
          0,
          172,
          18,
          18,
          80,
          0,
          2303,
          122,
          1224,
          0,
          40,
          15,
          0,
          0,
          0,
          28,
          2,
          0,
          0,
          0,
          0,
          0,
          0,
          0,
          0,
          0,
          0
         ],
         "yaxis": "y3"
        },
        {
         "marker": {
          "color": "#2ecc71"
         },
         "mode": "markers",
         "name": "gpt-4o",
         "showlegend": false,
         "type": "scatter",
         "x": [
          "!",
          "\"",
          "#",
          "$",
          "%",
          "&",
          "'",
          "(",
          ")",
          "*",
          "+",
          ",",
          "-",
          ".",
          "/",
          ":",
          ";",
          "<",
          "=",
          ">",
          "?",
          "@",
          "[",
          "\\",
          "]",
          "^",
          "_",
          "`",
          "{",
          "|",
          "}",
          "~"
         ],
         "xaxis": "x4",
         "y": [
          9,
          110,
          29,
          0,
          0,
          0,
          113,
          18,
          18,
          134,
          0,
          2226,
          109,
          1174,
          0,
          42,
          16,
          0,
          0,
          0,
          17,
          1,
          0,
          0,
          0,
          0,
          0,
          0,
          0,
          0,
          0,
          0
         ],
         "yaxis": "y4"
        },
        {
         "marker": {
          "color": "#2ecc71"
         },
         "mode": "markers",
         "name": "gpt-4o",
         "showlegend": false,
         "type": "scatter",
         "x": [
          "!",
          "\"",
          "#",
          "$",
          "%",
          "&",
          "'",
          "(",
          ")",
          "*",
          "+",
          ",",
          "-",
          ".",
          "/",
          ":",
          ";",
          "<",
          "=",
          ">",
          "?",
          "@",
          "[",
          "\\",
          "]",
          "^",
          "_",
          "`",
          "{",
          "|",
          "}",
          "~"
         ],
         "xaxis": "x5",
         "y": [
          0,
          58,
          0,
          0,
          0,
          0,
          105,
          17,
          17,
          96,
          0,
          2404,
          63,
          1202,
          0,
          44,
          10,
          0,
          0,
          0,
          17,
          0,
          1,
          0,
          1,
          0,
          0,
          0,
          0,
          0,
          0,
          0
         ],
         "yaxis": "y5"
        },
        {
         "marker": {
          "color": "#2ecc71"
         },
         "mode": "markers",
         "name": "gpt-4o",
         "showlegend": false,
         "type": "scatter",
         "x": [
          "!",
          "\"",
          "#",
          "$",
          "%",
          "&",
          "'",
          "(",
          ")",
          "*",
          "+",
          ",",
          "-",
          ".",
          "/",
          ":",
          ";",
          "<",
          "=",
          ">",
          "?",
          "@",
          "[",
          "\\",
          "]",
          "^",
          "_",
          "`",
          "{",
          "|",
          "}",
          "~"
         ],
         "xaxis": "x6",
         "y": [
          14,
          294,
          23,
          0,
          0,
          0,
          167,
          8,
          8,
          40,
          0,
          2274,
          112,
          1312,
          0,
          31,
          12,
          0,
          0,
          0,
          45,
          0,
          1,
          0,
          1,
          0,
          0,
          0,
          0,
          0,
          0,
          0
         ],
         "yaxis": "y6"
        },
        {
         "marker": {
          "color": "#2ecc71"
         },
         "mode": "markers",
         "name": "gpt-4o",
         "showlegend": false,
         "type": "scatter",
         "x": [
          "!",
          "\"",
          "#",
          "$",
          "%",
          "&",
          "'",
          "(",
          ")",
          "*",
          "+",
          ",",
          "-",
          ".",
          "/",
          ":",
          ";",
          "<",
          "=",
          ">",
          "?",
          "@",
          "[",
          "\\",
          "]",
          "^",
          "_",
          "`",
          "{",
          "|",
          "}",
          "~"
         ],
         "xaxis": "x7",
         "y": [
          7,
          94,
          0,
          0,
          0,
          0,
          130,
          17,
          17,
          188,
          0,
          2295,
          109,
          1242,
          0,
          35,
          10,
          0,
          0,
          0,
          33,
          1,
          0,
          0,
          0,
          0,
          0,
          0,
          0,
          0,
          0,
          0
         ],
         "yaxis": "y7"
        },
        {
         "marker": {
          "color": "#2ecc71"
         },
         "mode": "markers",
         "name": "gpt-4o",
         "showlegend": false,
         "type": "scatter",
         "x": [
          "!",
          "\"",
          "#",
          "$",
          "%",
          "&",
          "'",
          "(",
          ")",
          "*",
          "+",
          ",",
          "-",
          ".",
          "/",
          ":",
          ";",
          "<",
          "=",
          ">",
          "?",
          "@",
          "[",
          "\\",
          "]",
          "^",
          "_",
          "`",
          "{",
          "|",
          "}",
          "~"
         ],
         "xaxis": "x8",
         "y": [
          6,
          210,
          0,
          0,
          0,
          0,
          154,
          5,
          5,
          114,
          0,
          2351,
          90,
          1234,
          0,
          29,
          13,
          0,
          0,
          0,
          38,
          1,
          0,
          0,
          0,
          0,
          0,
          0,
          0,
          0,
          0,
          0
         ],
         "yaxis": "y8"
        },
        {
         "marker": {
          "color": "#2ecc71"
         },
         "mode": "markers",
         "name": "gpt-4o",
         "showlegend": false,
         "type": "scatter",
         "x": [
          "!",
          "\"",
          "#",
          "$",
          "%",
          "&",
          "'",
          "(",
          ")",
          "*",
          "+",
          ",",
          "-",
          ".",
          "/",
          ":",
          ";",
          "<",
          "=",
          ">",
          "?",
          "@",
          "[",
          "\\",
          "]",
          "^",
          "_",
          "`",
          "{",
          "|",
          "}",
          "~"
         ],
         "xaxis": "x9",
         "y": [
          3,
          122,
          0,
          0,
          0,
          0,
          90,
          16,
          16,
          68,
          0,
          2591,
          63,
          1238,
          0,
          27,
          16,
          0,
          0,
          0,
          42,
          0,
          0,
          0,
          0,
          0,
          0,
          0,
          0,
          0,
          0,
          0
         ],
         "yaxis": "y9"
        },
        {
         "marker": {
          "color": "#2ecc71"
         },
         "mode": "markers",
         "name": "gpt-4o",
         "showlegend": false,
         "type": "scatter",
         "x": [
          "!",
          "\"",
          "#",
          "$",
          "%",
          "&",
          "'",
          "(",
          ")",
          "*",
          "+",
          ",",
          "-",
          ".",
          "/",
          ":",
          ";",
          "<",
          "=",
          ">",
          "?",
          "@",
          "[",
          "\\",
          "]",
          "^",
          "_",
          "`",
          "{",
          "|",
          "}",
          "~"
         ],
         "xaxis": "x10",
         "y": [
          33,
          396,
          144,
          0,
          0,
          1,
          151,
          20,
          20,
          224,
          0,
          2240,
          119,
          1291,
          0,
          49,
          19,
          0,
          0,
          0,
          61,
          1,
          0,
          0,
          0,
          0,
          0,
          0,
          0,
          0,
          0,
          0
         ],
         "yaxis": "y10"
        },
        {
         "marker": {
          "color": "#f1c40f"
         },
         "mode": "markers",
         "name": "gemini-1.5-flash",
         "showlegend": true,
         "type": "scatter",
         "x": [
          "!",
          "\"",
          "#",
          "$",
          "%",
          "&",
          "'",
          "(",
          ")",
          "*",
          "+",
          ",",
          "-",
          ".",
          "/",
          ":",
          ";",
          "<",
          "=",
          ">",
          "?",
          "@",
          "[",
          "\\",
          "]",
          "^",
          "_",
          "`",
          "{",
          "|",
          "}",
          "~"
         ],
         "xaxis": "x",
         "y": [
          69,
          195,
          6,
          0,
          0,
          0,
          1085,
          0,
          0,
          207,
          0,
          2762,
          91,
          1366,
          0,
          50,
          4,
          0,
          0,
          0,
          90,
          0,
          0,
          0,
          0,
          0,
          0,
          0,
          0,
          0,
          0,
          0
         ],
         "yaxis": "y"
        },
        {
         "marker": {
          "color": "#f1c40f"
         },
         "mode": "markers",
         "name": "gemini-1.5-flash",
         "showlegend": false,
         "type": "scatter",
         "x": [
          "!",
          "\"",
          "#",
          "$",
          "%",
          "&",
          "'",
          "(",
          ")",
          "*",
          "+",
          ",",
          "-",
          ".",
          "/",
          ":",
          ";",
          "<",
          "=",
          ">",
          "?",
          "@",
          "[",
          "\\",
          "]",
          "^",
          "_",
          "`",
          "{",
          "|",
          "}",
          "~"
         ],
         "xaxis": "x2",
         "y": [
          13,
          290,
          6,
          0,
          0,
          0,
          185,
          0,
          0,
          158,
          0,
          2804,
          88,
          1377,
          0,
          32,
          1,
          0,
          0,
          0,
          47,
          0,
          0,
          0,
          0,
          0,
          0,
          0,
          0,
          0,
          0,
          0
         ],
         "yaxis": "y2"
        },
        {
         "marker": {
          "color": "#f1c40f"
         },
         "mode": "markers",
         "name": "gemini-1.5-flash",
         "showlegend": false,
         "type": "scatter",
         "x": [
          "!",
          "\"",
          "#",
          "$",
          "%",
          "&",
          "'",
          "(",
          ")",
          "*",
          "+",
          ",",
          "-",
          ".",
          "/",
          ":",
          ";",
          "<",
          "=",
          ">",
          "?",
          "@",
          "[",
          "\\",
          "]",
          "^",
          "_",
          "`",
          "{",
          "|",
          "}",
          "~"
         ],
         "xaxis": "x3",
         "y": [
          4,
          290,
          6,
          0,
          0,
          0,
          140,
          0,
          0,
          132,
          0,
          2910,
          35,
          1259,
          0,
          20,
          3,
          0,
          0,
          0,
          46,
          0,
          3,
          0,
          3,
          0,
          0,
          0,
          0,
          0,
          0,
          0
         ],
         "yaxis": "y3"
        },
        {
         "marker": {
          "color": "#f1c40f"
         },
         "mode": "markers",
         "name": "gemini-1.5-flash",
         "showlegend": false,
         "type": "scatter",
         "x": [
          "!",
          "\"",
          "#",
          "$",
          "%",
          "&",
          "'",
          "(",
          ")",
          "*",
          "+",
          ",",
          "-",
          ".",
          "/",
          ":",
          ";",
          "<",
          "=",
          ">",
          "?",
          "@",
          "[",
          "\\",
          "]",
          "^",
          "_",
          "`",
          "{",
          "|",
          "}",
          "~"
         ],
         "xaxis": "x4",
         "y": [
          5,
          224,
          6,
          0,
          0,
          0,
          135,
          0,
          0,
          68,
          0,
          2944,
          62,
          1156,
          0,
          14,
          5,
          0,
          0,
          0,
          57,
          0,
          0,
          0,
          0,
          0,
          0,
          0,
          0,
          0,
          0,
          0
         ],
         "yaxis": "y4"
        },
        {
         "marker": {
          "color": "#f1c40f"
         },
         "mode": "markers",
         "name": "gemini-1.5-flash",
         "showlegend": false,
         "type": "scatter",
         "x": [
          "!",
          "\"",
          "#",
          "$",
          "%",
          "&",
          "'",
          "(",
          ")",
          "*",
          "+",
          ",",
          "-",
          ".",
          "/",
          ":",
          ";",
          "<",
          "=",
          ">",
          "?",
          "@",
          "[",
          "\\",
          "]",
          "^",
          "_",
          "`",
          "{",
          "|",
          "}",
          "~"
         ],
         "xaxis": "x5",
         "y": [
          14,
          94,
          6,
          0,
          0,
          0,
          87,
          10,
          10,
          132,
          0,
          2951,
          65,
          1175,
          0,
          28,
          4,
          0,
          0,
          0,
          40,
          0,
          0,
          0,
          0,
          0,
          0,
          0,
          0,
          0,
          0,
          0
         ],
         "yaxis": "y5"
        },
        {
         "marker": {
          "color": "#f1c40f"
         },
         "mode": "markers",
         "name": "gemini-1.5-flash",
         "showlegend": false,
         "type": "scatter",
         "x": [
          "!",
          "\"",
          "#",
          "$",
          "%",
          "&",
          "'",
          "(",
          ")",
          "*",
          "+",
          ",",
          "-",
          ".",
          "/",
          ":",
          ";",
          "<",
          "=",
          ">",
          "?",
          "@",
          "[",
          "\\",
          "]",
          "^",
          "_",
          "`",
          "{",
          "|",
          "}",
          "~"
         ],
         "xaxis": "x6",
         "y": [
          37,
          461,
          6,
          0,
          0,
          0,
          282,
          0,
          0,
          218,
          0,
          2756,
          81,
          1307,
          0,
          36,
          4,
          0,
          0,
          0,
          71,
          0,
          5,
          0,
          5,
          0,
          0,
          0,
          0,
          0,
          0,
          0
         ],
         "yaxis": "y6"
        },
        {
         "marker": {
          "color": "#f1c40f"
         },
         "mode": "markers",
         "name": "gemini-1.5-flash",
         "showlegend": false,
         "type": "scatter",
         "x": [
          "!",
          "\"",
          "#",
          "$",
          "%",
          "&",
          "'",
          "(",
          ")",
          "*",
          "+",
          ",",
          "-",
          ".",
          "/",
          ":",
          ";",
          "<",
          "=",
          ">",
          "?",
          "@",
          "[",
          "\\",
          "]",
          "^",
          "_",
          "`",
          "{",
          "|",
          "}",
          "~"
         ],
         "xaxis": "x7",
         "y": [
          1,
          124,
          6,
          0,
          0,
          0,
          88,
          2,
          2,
          325,
          0,
          2770,
          53,
          1225,
          0,
          44,
          2,
          0,
          0,
          0,
          33,
          0,
          3,
          0,
          3,
          0,
          0,
          0,
          0,
          0,
          0,
          0
         ],
         "yaxis": "y7"
        },
        {
         "marker": {
          "color": "#f1c40f"
         },
         "mode": "markers",
         "name": "gemini-1.5-flash",
         "showlegend": false,
         "type": "scatter",
         "x": [
          "!",
          "\"",
          "#",
          "$",
          "%",
          "&",
          "'",
          "(",
          ")",
          "*",
          "+",
          ",",
          "-",
          ".",
          "/",
          ":",
          ";",
          "<",
          "=",
          ">",
          "?",
          "@",
          "[",
          "\\",
          "]",
          "^",
          "_",
          "`",
          "{",
          "|",
          "}",
          "~"
         ],
         "xaxis": "x8",
         "y": [
          8,
          374,
          6,
          0,
          0,
          0,
          161,
          0,
          0,
          144,
          0,
          2732,
          60,
          1296,
          0,
          23,
          3,
          0,
          0,
          0,
          65,
          0,
          0,
          0,
          0,
          0,
          0,
          0,
          0,
          0,
          0,
          0
         ],
         "yaxis": "y8"
        },
        {
         "marker": {
          "color": "#f1c40f"
         },
         "mode": "markers",
         "name": "gemini-1.5-flash",
         "showlegend": false,
         "type": "scatter",
         "x": [
          "!",
          "\"",
          "#",
          "$",
          "%",
          "&",
          "'",
          "(",
          ")",
          "*",
          "+",
          ",",
          "-",
          ".",
          "/",
          ":",
          ";",
          "<",
          "=",
          ">",
          "?",
          "@",
          "[",
          "\\",
          "]",
          "^",
          "_",
          "`",
          "{",
          "|",
          "}",
          "~"
         ],
         "xaxis": "x9",
         "y": [
          2,
          136,
          6,
          0,
          0,
          0,
          88,
          0,
          0,
          116,
          0,
          3174,
          79,
          1232,
          1,
          32,
          5,
          0,
          0,
          0,
          70,
          0,
          0,
          0,
          0,
          0,
          0,
          0,
          0,
          0,
          0,
          0
         ],
         "yaxis": "y9"
        },
        {
         "marker": {
          "color": "#f1c40f"
         },
         "mode": "markers",
         "name": "gemini-1.5-flash",
         "showlegend": false,
         "type": "scatter",
         "x": [
          "!",
          "\"",
          "#",
          "$",
          "%",
          "&",
          "'",
          "(",
          ")",
          "*",
          "+",
          ",",
          "-",
          ".",
          "/",
          ":",
          ";",
          "<",
          "=",
          ">",
          "?",
          "@",
          "[",
          "\\",
          "]",
          "^",
          "_",
          "`",
          "{",
          "|",
          "}",
          "~"
         ],
         "xaxis": "x10",
         "y": [
          76,
          750,
          6,
          0,
          0,
          0,
          234,
          1,
          1,
          263,
          0,
          3041,
          94,
          1149,
          0,
          44,
          4,
          0,
          0,
          0,
          166,
          0,
          1,
          0,
          1,
          0,
          0,
          0,
          0,
          0,
          0,
          0
         ],
         "yaxis": "y10"
        },
        {
         "marker": {
          "color": "#9b59b6"
         },
         "mode": "markers",
         "name": "open-mixtral-8x7b",
         "showlegend": true,
         "type": "scatter",
         "x": [
          "!",
          "\"",
          "#",
          "$",
          "%",
          "&",
          "'",
          "(",
          ")",
          "*",
          "+",
          ",",
          "-",
          ".",
          "/",
          ":",
          ";",
          "<",
          "=",
          ">",
          "?",
          "@",
          "[",
          "\\",
          "]",
          "^",
          "_",
          "`",
          "{",
          "|",
          "}",
          "~"
         ],
         "xaxis": "x",
         "y": [
          22,
          158,
          0,
          0,
          0,
          0,
          265,
          15,
          15,
          0,
          0,
          2452,
          125,
          1126,
          0,
          37,
          12,
          0,
          0,
          0,
          53,
          0,
          1,
          0,
          1,
          0,
          0,
          0,
          0,
          0,
          0,
          0
         ],
         "yaxis": "y"
        },
        {
         "marker": {
          "color": "#9b59b6"
         },
         "mode": "markers",
         "name": "open-mixtral-8x7b",
         "showlegend": false,
         "type": "scatter",
         "x": [
          "!",
          "\"",
          "#",
          "$",
          "%",
          "&",
          "'",
          "(",
          ")",
          "*",
          "+",
          ",",
          "-",
          ".",
          "/",
          ":",
          ";",
          "<",
          "=",
          ">",
          "?",
          "@",
          "[",
          "\\",
          "]",
          "^",
          "_",
          "`",
          "{",
          "|",
          "}",
          "~"
         ],
         "xaxis": "x2",
         "y": [
          7,
          167,
          0,
          0,
          0,
          0,
          192,
          8,
          8,
          0,
          0,
          2366,
          84,
          1206,
          0,
          12,
          3,
          0,
          0,
          0,
          26,
          0,
          0,
          0,
          0,
          0,
          0,
          3,
          0,
          0,
          0,
          0
         ],
         "yaxis": "y2"
        },
        {
         "marker": {
          "color": "#9b59b6"
         },
         "mode": "markers",
         "name": "open-mixtral-8x7b",
         "showlegend": false,
         "type": "scatter",
         "x": [
          "!",
          "\"",
          "#",
          "$",
          "%",
          "&",
          "'",
          "(",
          ")",
          "*",
          "+",
          ",",
          "-",
          ".",
          "/",
          ":",
          ";",
          "<",
          "=",
          ">",
          "?",
          "@",
          "[",
          "\\",
          "]",
          "^",
          "_",
          "`",
          "{",
          "|",
          "}",
          "~"
         ],
         "xaxis": "x3",
         "y": [
          3,
          92,
          0,
          0,
          0,
          0,
          105,
          1,
          1,
          0,
          0,
          2577,
          94,
          859,
          0,
          28,
          2,
          0,
          0,
          0,
          17,
          0,
          0,
          0,
          0,
          0,
          0,
          0,
          0,
          0,
          0,
          0
         ],
         "yaxis": "y3"
        },
        {
         "marker": {
          "color": "#9b59b6"
         },
         "mode": "markers",
         "name": "open-mixtral-8x7b",
         "showlegend": false,
         "type": "scatter",
         "x": [
          "!",
          "\"",
          "#",
          "$",
          "%",
          "&",
          "'",
          "(",
          ")",
          "*",
          "+",
          ",",
          "-",
          ".",
          "/",
          ":",
          ";",
          "<",
          "=",
          ">",
          "?",
          "@",
          "[",
          "\\",
          "]",
          "^",
          "_",
          "`",
          "{",
          "|",
          "}",
          "~"
         ],
         "xaxis": "x4",
         "y": [
          6,
          107,
          0,
          0,
          0,
          0,
          108,
          0,
          0,
          0,
          0,
          2388,
          124,
          901,
          0,
          13,
          15,
          0,
          0,
          0,
          16,
          0,
          1,
          0,
          1,
          0,
          0,
          0,
          0,
          0,
          0,
          0
         ],
         "yaxis": "y4"
        },
        {
         "marker": {
          "color": "#9b59b6"
         },
         "mode": "markers",
         "name": "open-mixtral-8x7b",
         "showlegend": false,
         "type": "scatter",
         "x": [
          "!",
          "\"",
          "#",
          "$",
          "%",
          "&",
          "'",
          "(",
          ")",
          "*",
          "+",
          ",",
          "-",
          ".",
          "/",
          ":",
          ";",
          "<",
          "=",
          ">",
          "?",
          "@",
          "[",
          "\\",
          "]",
          "^",
          "_",
          "`",
          "{",
          "|",
          "}",
          "~"
         ],
         "xaxis": "x5",
         "y": [
          6,
          114,
          0,
          0,
          1,
          0,
          114,
          0,
          0,
          0,
          0,
          2355,
          104,
          972,
          0,
          29,
          11,
          0,
          0,
          0,
          28,
          0,
          1,
          0,
          1,
          0,
          0,
          0,
          0,
          0,
          0,
          0
         ],
         "yaxis": "y5"
        },
        {
         "marker": {
          "color": "#9b59b6"
         },
         "mode": "markers",
         "name": "open-mixtral-8x7b",
         "showlegend": false,
         "type": "scatter",
         "x": [
          "!",
          "\"",
          "#",
          "$",
          "%",
          "&",
          "'",
          "(",
          ")",
          "*",
          "+",
          ",",
          "-",
          ".",
          "/",
          ":",
          ";",
          "<",
          "=",
          ">",
          "?",
          "@",
          "[",
          "\\",
          "]",
          "^",
          "_",
          "`",
          "{",
          "|",
          "}",
          "~"
         ],
         "xaxis": "x6",
         "y": [
          13,
          166,
          0,
          0,
          0,
          0,
          175,
          3,
          3,
          0,
          0,
          2257,
          126,
          1140,
          0,
          18,
          6,
          0,
          0,
          0,
          24,
          0,
          1,
          0,
          1,
          0,
          0,
          0,
          0,
          0,
          0,
          0
         ],
         "yaxis": "y6"
        },
        {
         "marker": {
          "color": "#9b59b6"
         },
         "mode": "markers",
         "name": "open-mixtral-8x7b",
         "showlegend": false,
         "type": "scatter",
         "x": [
          "!",
          "\"",
          "#",
          "$",
          "%",
          "&",
          "'",
          "(",
          ")",
          "*",
          "+",
          ",",
          "-",
          ".",
          "/",
          ":",
          ";",
          "<",
          "=",
          ">",
          "?",
          "@",
          "[",
          "\\",
          "]",
          "^",
          "_",
          "`",
          "{",
          "|",
          "}",
          "~"
         ],
         "xaxis": "x7",
         "y": [
          1,
          94,
          0,
          0,
          0,
          0,
          125,
          0,
          0,
          0,
          0,
          2316,
          127,
          973,
          0,
          11,
          9,
          0,
          0,
          0,
          24,
          0,
          0,
          0,
          0,
          0,
          0,
          0,
          0,
          0,
          0,
          0
         ],
         "yaxis": "y7"
        },
        {
         "marker": {
          "color": "#9b59b6"
         },
         "mode": "markers",
         "name": "open-mixtral-8x7b",
         "showlegend": false,
         "type": "scatter",
         "x": [
          "!",
          "\"",
          "#",
          "$",
          "%",
          "&",
          "'",
          "(",
          ")",
          "*",
          "+",
          ",",
          "-",
          ".",
          "/",
          ":",
          ";",
          "<",
          "=",
          ">",
          "?",
          "@",
          "[",
          "\\",
          "]",
          "^",
          "_",
          "`",
          "{",
          "|",
          "}",
          "~"
         ],
         "xaxis": "x8",
         "y": [
          15,
          280,
          0,
          0,
          0,
          0,
          166,
          0,
          0,
          13,
          0,
          2338,
          116,
          1063,
          0,
          12,
          2,
          0,
          0,
          0,
          54,
          0,
          0,
          0,
          0,
          0,
          0,
          0,
          0,
          0,
          0,
          0
         ],
         "yaxis": "y8"
        },
        {
         "marker": {
          "color": "#9b59b6"
         },
         "mode": "markers",
         "name": "open-mixtral-8x7b",
         "showlegend": false,
         "type": "scatter",
         "x": [
          "!",
          "\"",
          "#",
          "$",
          "%",
          "&",
          "'",
          "(",
          ")",
          "*",
          "+",
          ",",
          "-",
          ".",
          "/",
          ":",
          ";",
          "<",
          "=",
          ">",
          "?",
          "@",
          "[",
          "\\",
          "]",
          "^",
          "_",
          "`",
          "{",
          "|",
          "}",
          "~"
         ],
         "xaxis": "x9",
         "y": [
          0,
          96,
          0,
          0,
          2,
          0,
          174,
          0,
          0,
          0,
          0,
          2663,
          78,
          955,
          0,
          30,
          3,
          0,
          0,
          0,
          46,
          0,
          0,
          0,
          0,
          0,
          0,
          0,
          0,
          0,
          0,
          0
         ],
         "yaxis": "y9"
        },
        {
         "marker": {
          "color": "#9b59b6"
         },
         "mode": "markers",
         "name": "open-mixtral-8x7b",
         "showlegend": false,
         "type": "scatter",
         "x": [
          "!",
          "\"",
          "#",
          "$",
          "%",
          "&",
          "'",
          "(",
          ")",
          "*",
          "+",
          ",",
          "-",
          ".",
          "/",
          ":",
          ";",
          "<",
          "=",
          ">",
          "?",
          "@",
          "[",
          "\\",
          "]",
          "^",
          "_",
          "`",
          "{",
          "|",
          "}",
          "~"
         ],
         "xaxis": "x10",
         "y": [
          24,
          298,
          0,
          0,
          0,
          0,
          196,
          12,
          12,
          20,
          0,
          2504,
          133,
          1158,
          1,
          46,
          13,
          0,
          0,
          0,
          58,
          0,
          0,
          0,
          0,
          0,
          0,
          0,
          0,
          0,
          0,
          0
         ],
         "yaxis": "y10"
        },
        {
         "marker": {
          "color": "#e67e22"
         },
         "mode": "markers",
         "name": "claude-3-haiku-20240307",
         "showlegend": true,
         "type": "scatter",
         "x": [
          "!",
          "\"",
          "#",
          "$",
          "%",
          "&",
          "'",
          "(",
          ")",
          "*",
          "+",
          ",",
          "-",
          ".",
          "/",
          ":",
          ";",
          "<",
          "=",
          ">",
          "?",
          "@",
          "[",
          "\\",
          "]",
          "^",
          "_",
          "`",
          "{",
          "|",
          "}",
          "~"
         ],
         "xaxis": "x",
         "y": [
          79,
          384,
          0,
          0,
          0,
          0,
          1052,
          3,
          3,
          0,
          0,
          2308,
          195,
          1022,
          0,
          19,
          2,
          0,
          0,
          0,
          156,
          0,
          0,
          0,
          0,
          0,
          0,
          0,
          0,
          0,
          0,
          0
         ],
         "yaxis": "y"
        },
        {
         "marker": {
          "color": "#e67e22"
         },
         "mode": "markers",
         "name": "claude-3-haiku-20240307",
         "showlegend": false,
         "type": "scatter",
         "x": [
          "!",
          "\"",
          "#",
          "$",
          "%",
          "&",
          "'",
          "(",
          ")",
          "*",
          "+",
          ",",
          "-",
          ".",
          "/",
          ":",
          ";",
          "<",
          "=",
          ">",
          "?",
          "@",
          "[",
          "\\",
          "]",
          "^",
          "_",
          "`",
          "{",
          "|",
          "}",
          "~"
         ],
         "xaxis": "x2",
         "y": [
          31,
          282,
          0,
          0,
          0,
          0,
          486,
          0,
          0,
          0,
          0,
          2110,
          154,
          1106,
          0,
          11,
          1,
          0,
          0,
          0,
          85,
          0,
          0,
          0,
          0,
          0,
          0,
          0,
          0,
          0,
          0,
          0
         ],
         "yaxis": "y2"
        },
        {
         "marker": {
          "color": "#e67e22"
         },
         "mode": "markers",
         "name": "claude-3-haiku-20240307",
         "showlegend": false,
         "type": "scatter",
         "x": [
          "!",
          "\"",
          "#",
          "$",
          "%",
          "&",
          "'",
          "(",
          ")",
          "*",
          "+",
          ",",
          "-",
          ".",
          "/",
          ":",
          ";",
          "<",
          "=",
          ">",
          "?",
          "@",
          "[",
          "\\",
          "]",
          "^",
          "_",
          "`",
          "{",
          "|",
          "}",
          "~"
         ],
         "xaxis": "x3",
         "y": [
          10,
          194,
          0,
          0,
          0,
          0,
          107,
          1,
          1,
          0,
          0,
          2417,
          115,
          940,
          0,
          9,
          2,
          0,
          0,
          0,
          56,
          0,
          0,
          0,
          0,
          0,
          0,
          0,
          0,
          0,
          0,
          0
         ],
         "yaxis": "y3"
        },
        {
         "marker": {
          "color": "#e67e22"
         },
         "mode": "markers",
         "name": "claude-3-haiku-20240307",
         "showlegend": false,
         "type": "scatter",
         "x": [
          "!",
          "\"",
          "#",
          "$",
          "%",
          "&",
          "'",
          "(",
          ")",
          "*",
          "+",
          ",",
          "-",
          ".",
          "/",
          ":",
          ";",
          "<",
          "=",
          ">",
          "?",
          "@",
          "[",
          "\\",
          "]",
          "^",
          "_",
          "`",
          "{",
          "|",
          "}",
          "~"
         ],
         "xaxis": "x4",
         "y": [
          12,
          150,
          0,
          0,
          0,
          0,
          115,
          0,
          0,
          0,
          0,
          2321,
          140,
          891,
          0,
          11,
          4,
          0,
          0,
          0,
          66,
          0,
          0,
          0,
          0,
          0,
          0,
          0,
          0,
          0,
          0,
          0
         ],
         "yaxis": "y4"
        },
        {
         "marker": {
          "color": "#e67e22"
         },
         "mode": "markers",
         "name": "claude-3-haiku-20240307",
         "showlegend": false,
         "type": "scatter",
         "x": [
          "!",
          "\"",
          "#",
          "$",
          "%",
          "&",
          "'",
          "(",
          ")",
          "*",
          "+",
          ",",
          "-",
          ".",
          "/",
          ":",
          ";",
          "<",
          "=",
          ">",
          "?",
          "@",
          "[",
          "\\",
          "]",
          "^",
          "_",
          "`",
          "{",
          "|",
          "}",
          "~"
         ],
         "xaxis": "x5",
         "y": [
          23,
          200,
          0,
          0,
          0,
          0,
          81,
          1,
          1,
          0,
          0,
          2356,
          142,
          908,
          0,
          5,
          3,
          0,
          0,
          0,
          89,
          0,
          0,
          0,
          0,
          0,
          0,
          0,
          0,
          0,
          0,
          0
         ],
         "yaxis": "y5"
        },
        {
         "marker": {
          "color": "#e67e22"
         },
         "mode": "markers",
         "name": "claude-3-haiku-20240307",
         "showlegend": false,
         "type": "scatter",
         "x": [
          "!",
          "\"",
          "#",
          "$",
          "%",
          "&",
          "'",
          "(",
          ")",
          "*",
          "+",
          ",",
          "-",
          ".",
          "/",
          ":",
          ";",
          "<",
          "=",
          ">",
          "?",
          "@",
          "[",
          "\\",
          "]",
          "^",
          "_",
          "`",
          "{",
          "|",
          "}",
          "~"
         ],
         "xaxis": "x6",
         "y": [
          56,
          286,
          0,
          0,
          0,
          0,
          290,
          0,
          0,
          0,
          0,
          2254,
          190,
          1013,
          0,
          17,
          2,
          0,
          0,
          0,
          75,
          0,
          0,
          0,
          0,
          0,
          0,
          0,
          0,
          0,
          0,
          0
         ],
         "yaxis": "y6"
        },
        {
         "marker": {
          "color": "#e67e22"
         },
         "mode": "markers",
         "name": "claude-3-haiku-20240307",
         "showlegend": false,
         "type": "scatter",
         "x": [
          "!",
          "\"",
          "#",
          "$",
          "%",
          "&",
          "'",
          "(",
          ")",
          "*",
          "+",
          ",",
          "-",
          ".",
          "/",
          ":",
          ";",
          "<",
          "=",
          ">",
          "?",
          "@",
          "[",
          "\\",
          "]",
          "^",
          "_",
          "`",
          "{",
          "|",
          "}",
          "~"
         ],
         "xaxis": "x7",
         "y": [
          10,
          138,
          0,
          0,
          0,
          0,
          91,
          0,
          0,
          4,
          0,
          2237,
          117,
          919,
          0,
          11,
          5,
          0,
          0,
          0,
          58,
          0,
          0,
          0,
          0,
          0,
          0,
          0,
          0,
          0,
          0,
          0
         ],
         "yaxis": "y7"
        },
        {
         "marker": {
          "color": "#e67e22"
         },
         "mode": "markers",
         "name": "claude-3-haiku-20240307",
         "showlegend": false,
         "type": "scatter",
         "x": [
          "!",
          "\"",
          "#",
          "$",
          "%",
          "&",
          "'",
          "(",
          ")",
          "*",
          "+",
          ",",
          "-",
          ".",
          "/",
          ":",
          ";",
          "<",
          "=",
          ">",
          "?",
          "@",
          "[",
          "\\",
          "]",
          "^",
          "_",
          "`",
          "{",
          "|",
          "}",
          "~"
         ],
         "xaxis": "x8",
         "y": [
          52,
          320,
          0,
          0,
          0,
          0,
          237,
          0,
          0,
          6,
          0,
          2212,
          123,
          1021,
          0,
          7,
          3,
          0,
          0,
          0,
          91,
          0,
          0,
          0,
          0,
          0,
          0,
          0,
          0,
          0,
          0,
          0
         ],
         "yaxis": "y8"
        },
        {
         "marker": {
          "color": "#e67e22"
         },
         "mode": "markers",
         "name": "claude-3-haiku-20240307",
         "showlegend": false,
         "type": "scatter",
         "x": [
          "!",
          "\"",
          "#",
          "$",
          "%",
          "&",
          "'",
          "(",
          ")",
          "*",
          "+",
          ",",
          "-",
          ".",
          "/",
          ":",
          ";",
          "<",
          "=",
          ">",
          "?",
          "@",
          "[",
          "\\",
          "]",
          "^",
          "_",
          "`",
          "{",
          "|",
          "}",
          "~"
         ],
         "xaxis": "x9",
         "y": [
          16,
          70,
          0,
          0,
          0,
          0,
          140,
          0,
          0,
          4,
          0,
          2517,
          147,
          878,
          0,
          16,
          4,
          0,
          0,
          0,
          103,
          0,
          0,
          0,
          0,
          0,
          2,
          0,
          0,
          0,
          0,
          0
         ],
         "yaxis": "y9"
        },
        {
         "marker": {
          "color": "#e67e22"
         },
         "mode": "markers",
         "name": "claude-3-haiku-20240307",
         "showlegend": false,
         "type": "scatter",
         "x": [
          "!",
          "\"",
          "#",
          "$",
          "%",
          "&",
          "'",
          "(",
          ")",
          "*",
          "+",
          ",",
          "-",
          ".",
          "/",
          ":",
          ";",
          "<",
          "=",
          ">",
          "?",
          "@",
          "[",
          "\\",
          "]",
          "^",
          "_",
          "`",
          "{",
          "|",
          "}",
          "~"
         ],
         "xaxis": "x10",
         "y": [
          59,
          204,
          0,
          0,
          0,
          0,
          164,
          4,
          4,
          0,
          0,
          2451,
          188,
          939,
          0,
          14,
          17,
          0,
          0,
          0,
          74,
          0,
          0,
          0,
          0,
          0,
          0,
          0,
          0,
          0,
          0,
          0
         ],
         "yaxis": "y10"
        }
       ],
       "layout": {
        "annotations": [
         {
          "font": {
           "size": 16
          },
          "showarrow": false,
          "text": "Mark Twain",
          "x": 0.14444444444444446,
          "xanchor": "center",
          "xref": "paper",
          "y": 1,
          "yanchor": "bottom",
          "yref": "paper"
         },
         {
          "font": {
           "size": 16
          },
          "showarrow": false,
          "text": "Zane Grey",
          "x": 0.5,
          "xanchor": "center",
          "xref": "paper",
          "y": 1,
          "yanchor": "bottom",
          "yref": "paper"
         },
         {
          "font": {
           "size": 16
          },
          "showarrow": false,
          "text": "Joseph Conrad",
          "x": 0.8555555555555556,
          "xanchor": "center",
          "xref": "paper",
          "y": 1,
          "yanchor": "bottom",
          "yref": "paper"
         },
         {
          "font": {
           "size": 16
          },
          "showarrow": false,
          "text": "George Eliot",
          "x": 0.14444444444444446,
          "xanchor": "center",
          "xref": "paper",
          "y": 0.71875,
          "yanchor": "bottom",
          "yref": "paper"
         },
         {
          "font": {
           "size": 16
          },
          "showarrow": false,
          "text": "Benjamin Disraeli",
          "x": 0.5,
          "xanchor": "center",
          "xref": "paper",
          "y": 0.71875,
          "yanchor": "bottom",
          "yref": "paper"
         },
         {
          "font": {
           "size": 16
          },
          "showarrow": false,
          "text": "Lucy Maud Montgomery",
          "x": 0.8555555555555556,
          "xanchor": "center",
          "xref": "paper",
          "y": 0.71875,
          "yanchor": "bottom",
          "yref": "paper"
         },
         {
          "font": {
           "size": 16
          },
          "showarrow": false,
          "text": "William Henry Hudson",
          "x": 0.14444444444444446,
          "xanchor": "center",
          "xref": "paper",
          "y": 0.4375,
          "yanchor": "bottom",
          "yref": "paper"
         },
         {
          "font": {
           "size": 16
          },
          "showarrow": false,
          "text": "Howard Pyle",
          "x": 0.5,
          "xanchor": "center",
          "xref": "paper",
          "y": 0.4375,
          "yanchor": "bottom",
          "yref": "paper"
         },
         {
          "font": {
           "size": 16
          },
          "showarrow": false,
          "text": "Virginia Woolf",
          "x": 0.8555555555555556,
          "xanchor": "center",
          "xref": "paper",
          "y": 0.4375,
          "yanchor": "bottom",
          "yref": "paper"
         },
         {
          "font": {
           "size": 16
          },
          "showarrow": false,
          "text": "Lewis Carroll",
          "x": 0.14444444444444446,
          "xanchor": "center",
          "xref": "paper",
          "y": 0.15625,
          "yanchor": "bottom",
          "yref": "paper"
         }
        ],
        "height": 1500,
        "template": {
         "data": {
          "bar": [
           {
            "error_x": {
             "color": "#2a3f5f"
            },
            "error_y": {
             "color": "#2a3f5f"
            },
            "marker": {
             "line": {
              "color": "#E5ECF6",
              "width": 0.5
             },
             "pattern": {
              "fillmode": "overlay",
              "size": 10,
              "solidity": 0.2
             }
            },
            "type": "bar"
           }
          ],
          "barpolar": [
           {
            "marker": {
             "line": {
              "color": "#E5ECF6",
              "width": 0.5
             },
             "pattern": {
              "fillmode": "overlay",
              "size": 10,
              "solidity": 0.2
             }
            },
            "type": "barpolar"
           }
          ],
          "carpet": [
           {
            "aaxis": {
             "endlinecolor": "#2a3f5f",
             "gridcolor": "white",
             "linecolor": "white",
             "minorgridcolor": "white",
             "startlinecolor": "#2a3f5f"
            },
            "baxis": {
             "endlinecolor": "#2a3f5f",
             "gridcolor": "white",
             "linecolor": "white",
             "minorgridcolor": "white",
             "startlinecolor": "#2a3f5f"
            },
            "type": "carpet"
           }
          ],
          "choropleth": [
           {
            "colorbar": {
             "outlinewidth": 0,
             "ticks": ""
            },
            "type": "choropleth"
           }
          ],
          "contour": [
           {
            "colorbar": {
             "outlinewidth": 0,
             "ticks": ""
            },
            "colorscale": [
             [
              0,
              "#0d0887"
             ],
             [
              0.1111111111111111,
              "#46039f"
             ],
             [
              0.2222222222222222,
              "#7201a8"
             ],
             [
              0.3333333333333333,
              "#9c179e"
             ],
             [
              0.4444444444444444,
              "#bd3786"
             ],
             [
              0.5555555555555556,
              "#d8576b"
             ],
             [
              0.6666666666666666,
              "#ed7953"
             ],
             [
              0.7777777777777778,
              "#fb9f3a"
             ],
             [
              0.8888888888888888,
              "#fdca26"
             ],
             [
              1,
              "#f0f921"
             ]
            ],
            "type": "contour"
           }
          ],
          "contourcarpet": [
           {
            "colorbar": {
             "outlinewidth": 0,
             "ticks": ""
            },
            "type": "contourcarpet"
           }
          ],
          "heatmap": [
           {
            "colorbar": {
             "outlinewidth": 0,
             "ticks": ""
            },
            "colorscale": [
             [
              0,
              "#0d0887"
             ],
             [
              0.1111111111111111,
              "#46039f"
             ],
             [
              0.2222222222222222,
              "#7201a8"
             ],
             [
              0.3333333333333333,
              "#9c179e"
             ],
             [
              0.4444444444444444,
              "#bd3786"
             ],
             [
              0.5555555555555556,
              "#d8576b"
             ],
             [
              0.6666666666666666,
              "#ed7953"
             ],
             [
              0.7777777777777778,
              "#fb9f3a"
             ],
             [
              0.8888888888888888,
              "#fdca26"
             ],
             [
              1,
              "#f0f921"
             ]
            ],
            "type": "heatmap"
           }
          ],
          "heatmapgl": [
           {
            "colorbar": {
             "outlinewidth": 0,
             "ticks": ""
            },
            "colorscale": [
             [
              0,
              "#0d0887"
             ],
             [
              0.1111111111111111,
              "#46039f"
             ],
             [
              0.2222222222222222,
              "#7201a8"
             ],
             [
              0.3333333333333333,
              "#9c179e"
             ],
             [
              0.4444444444444444,
              "#bd3786"
             ],
             [
              0.5555555555555556,
              "#d8576b"
             ],
             [
              0.6666666666666666,
              "#ed7953"
             ],
             [
              0.7777777777777778,
              "#fb9f3a"
             ],
             [
              0.8888888888888888,
              "#fdca26"
             ],
             [
              1,
              "#f0f921"
             ]
            ],
            "type": "heatmapgl"
           }
          ],
          "histogram": [
           {
            "marker": {
             "pattern": {
              "fillmode": "overlay",
              "size": 10,
              "solidity": 0.2
             }
            },
            "type": "histogram"
           }
          ],
          "histogram2d": [
           {
            "colorbar": {
             "outlinewidth": 0,
             "ticks": ""
            },
            "colorscale": [
             [
              0,
              "#0d0887"
             ],
             [
              0.1111111111111111,
              "#46039f"
             ],
             [
              0.2222222222222222,
              "#7201a8"
             ],
             [
              0.3333333333333333,
              "#9c179e"
             ],
             [
              0.4444444444444444,
              "#bd3786"
             ],
             [
              0.5555555555555556,
              "#d8576b"
             ],
             [
              0.6666666666666666,
              "#ed7953"
             ],
             [
              0.7777777777777778,
              "#fb9f3a"
             ],
             [
              0.8888888888888888,
              "#fdca26"
             ],
             [
              1,
              "#f0f921"
             ]
            ],
            "type": "histogram2d"
           }
          ],
          "histogram2dcontour": [
           {
            "colorbar": {
             "outlinewidth": 0,
             "ticks": ""
            },
            "colorscale": [
             [
              0,
              "#0d0887"
             ],
             [
              0.1111111111111111,
              "#46039f"
             ],
             [
              0.2222222222222222,
              "#7201a8"
             ],
             [
              0.3333333333333333,
              "#9c179e"
             ],
             [
              0.4444444444444444,
              "#bd3786"
             ],
             [
              0.5555555555555556,
              "#d8576b"
             ],
             [
              0.6666666666666666,
              "#ed7953"
             ],
             [
              0.7777777777777778,
              "#fb9f3a"
             ],
             [
              0.8888888888888888,
              "#fdca26"
             ],
             [
              1,
              "#f0f921"
             ]
            ],
            "type": "histogram2dcontour"
           }
          ],
          "mesh3d": [
           {
            "colorbar": {
             "outlinewidth": 0,
             "ticks": ""
            },
            "type": "mesh3d"
           }
          ],
          "parcoords": [
           {
            "line": {
             "colorbar": {
              "outlinewidth": 0,
              "ticks": ""
             }
            },
            "type": "parcoords"
           }
          ],
          "pie": [
           {
            "automargin": true,
            "type": "pie"
           }
          ],
          "scatter": [
           {
            "fillpattern": {
             "fillmode": "overlay",
             "size": 10,
             "solidity": 0.2
            },
            "type": "scatter"
           }
          ],
          "scatter3d": [
           {
            "line": {
             "colorbar": {
              "outlinewidth": 0,
              "ticks": ""
             }
            },
            "marker": {
             "colorbar": {
              "outlinewidth": 0,
              "ticks": ""
             }
            },
            "type": "scatter3d"
           }
          ],
          "scattercarpet": [
           {
            "marker": {
             "colorbar": {
              "outlinewidth": 0,
              "ticks": ""
             }
            },
            "type": "scattercarpet"
           }
          ],
          "scattergeo": [
           {
            "marker": {
             "colorbar": {
              "outlinewidth": 0,
              "ticks": ""
             }
            },
            "type": "scattergeo"
           }
          ],
          "scattergl": [
           {
            "marker": {
             "colorbar": {
              "outlinewidth": 0,
              "ticks": ""
             }
            },
            "type": "scattergl"
           }
          ],
          "scattermapbox": [
           {
            "marker": {
             "colorbar": {
              "outlinewidth": 0,
              "ticks": ""
             }
            },
            "type": "scattermapbox"
           }
          ],
          "scatterpolar": [
           {
            "marker": {
             "colorbar": {
              "outlinewidth": 0,
              "ticks": ""
             }
            },
            "type": "scatterpolar"
           }
          ],
          "scatterpolargl": [
           {
            "marker": {
             "colorbar": {
              "outlinewidth": 0,
              "ticks": ""
             }
            },
            "type": "scatterpolargl"
           }
          ],
          "scatterternary": [
           {
            "marker": {
             "colorbar": {
              "outlinewidth": 0,
              "ticks": ""
             }
            },
            "type": "scatterternary"
           }
          ],
          "surface": [
           {
            "colorbar": {
             "outlinewidth": 0,
             "ticks": ""
            },
            "colorscale": [
             [
              0,
              "#0d0887"
             ],
             [
              0.1111111111111111,
              "#46039f"
             ],
             [
              0.2222222222222222,
              "#7201a8"
             ],
             [
              0.3333333333333333,
              "#9c179e"
             ],
             [
              0.4444444444444444,
              "#bd3786"
             ],
             [
              0.5555555555555556,
              "#d8576b"
             ],
             [
              0.6666666666666666,
              "#ed7953"
             ],
             [
              0.7777777777777778,
              "#fb9f3a"
             ],
             [
              0.8888888888888888,
              "#fdca26"
             ],
             [
              1,
              "#f0f921"
             ]
            ],
            "type": "surface"
           }
          ],
          "table": [
           {
            "cells": {
             "fill": {
              "color": "#EBF0F8"
             },
             "line": {
              "color": "white"
             }
            },
            "header": {
             "fill": {
              "color": "#C8D4E3"
             },
             "line": {
              "color": "white"
             }
            },
            "type": "table"
           }
          ]
         },
         "layout": {
          "annotationdefaults": {
           "arrowcolor": "#2a3f5f",
           "arrowhead": 0,
           "arrowwidth": 1
          },
          "autotypenumbers": "strict",
          "coloraxis": {
           "colorbar": {
            "outlinewidth": 0,
            "ticks": ""
           }
          },
          "colorscale": {
           "diverging": [
            [
             0,
             "#8e0152"
            ],
            [
             0.1,
             "#c51b7d"
            ],
            [
             0.2,
             "#de77ae"
            ],
            [
             0.3,
             "#f1b6da"
            ],
            [
             0.4,
             "#fde0ef"
            ],
            [
             0.5,
             "#f7f7f7"
            ],
            [
             0.6,
             "#e6f5d0"
            ],
            [
             0.7,
             "#b8e186"
            ],
            [
             0.8,
             "#7fbc41"
            ],
            [
             0.9,
             "#4d9221"
            ],
            [
             1,
             "#276419"
            ]
           ],
           "sequential": [
            [
             0,
             "#0d0887"
            ],
            [
             0.1111111111111111,
             "#46039f"
            ],
            [
             0.2222222222222222,
             "#7201a8"
            ],
            [
             0.3333333333333333,
             "#9c179e"
            ],
            [
             0.4444444444444444,
             "#bd3786"
            ],
            [
             0.5555555555555556,
             "#d8576b"
            ],
            [
             0.6666666666666666,
             "#ed7953"
            ],
            [
             0.7777777777777778,
             "#fb9f3a"
            ],
            [
             0.8888888888888888,
             "#fdca26"
            ],
            [
             1,
             "#f0f921"
            ]
           ],
           "sequentialminus": [
            [
             0,
             "#0d0887"
            ],
            [
             0.1111111111111111,
             "#46039f"
            ],
            [
             0.2222222222222222,
             "#7201a8"
            ],
            [
             0.3333333333333333,
             "#9c179e"
            ],
            [
             0.4444444444444444,
             "#bd3786"
            ],
            [
             0.5555555555555556,
             "#d8576b"
            ],
            [
             0.6666666666666666,
             "#ed7953"
            ],
            [
             0.7777777777777778,
             "#fb9f3a"
            ],
            [
             0.8888888888888888,
             "#fdca26"
            ],
            [
             1,
             "#f0f921"
            ]
           ]
          },
          "colorway": [
           "#636efa",
           "#EF553B",
           "#00cc96",
           "#ab63fa",
           "#FFA15A",
           "#19d3f3",
           "#FF6692",
           "#B6E880",
           "#FF97FF",
           "#FECB52"
          ],
          "font": {
           "color": "#2a3f5f"
          },
          "geo": {
           "bgcolor": "white",
           "lakecolor": "white",
           "landcolor": "#E5ECF6",
           "showlakes": true,
           "showland": true,
           "subunitcolor": "white"
          },
          "hoverlabel": {
           "align": "left"
          },
          "hovermode": "closest",
          "mapbox": {
           "style": "light"
          },
          "paper_bgcolor": "white",
          "plot_bgcolor": "#E5ECF6",
          "polar": {
           "angularaxis": {
            "gridcolor": "white",
            "linecolor": "white",
            "ticks": ""
           },
           "bgcolor": "#E5ECF6",
           "radialaxis": {
            "gridcolor": "white",
            "linecolor": "white",
            "ticks": ""
           }
          },
          "scene": {
           "xaxis": {
            "backgroundcolor": "#E5ECF6",
            "gridcolor": "white",
            "gridwidth": 2,
            "linecolor": "white",
            "showbackground": true,
            "ticks": "",
            "zerolinecolor": "white"
           },
           "yaxis": {
            "backgroundcolor": "#E5ECF6",
            "gridcolor": "white",
            "gridwidth": 2,
            "linecolor": "white",
            "showbackground": true,
            "ticks": "",
            "zerolinecolor": "white"
           },
           "zaxis": {
            "backgroundcolor": "#E5ECF6",
            "gridcolor": "white",
            "gridwidth": 2,
            "linecolor": "white",
            "showbackground": true,
            "ticks": "",
            "zerolinecolor": "white"
           }
          },
          "shapedefaults": {
           "line": {
            "color": "#2a3f5f"
           }
          },
          "ternary": {
           "aaxis": {
            "gridcolor": "white",
            "linecolor": "white",
            "ticks": ""
           },
           "baxis": {
            "gridcolor": "white",
            "linecolor": "white",
            "ticks": ""
           },
           "bgcolor": "#E5ECF6",
           "caxis": {
            "gridcolor": "white",
            "linecolor": "white",
            "ticks": ""
           }
          },
          "title": {
           "x": 0.05
          },
          "xaxis": {
           "automargin": true,
           "gridcolor": "white",
           "linecolor": "white",
           "ticks": "",
           "title": {
            "standoff": 15
           },
           "zerolinecolor": "white",
           "zerolinewidth": 2
          },
          "yaxis": {
           "automargin": true,
           "gridcolor": "white",
           "linecolor": "white",
           "ticks": "",
           "title": {
            "standoff": 15
           },
           "zerolinecolor": "white",
           "zerolinewidth": 2
          }
         }
        },
        "title": {
         "text": "Punctuation frequency",
         "x": 0.5
        },
        "xaxis": {
         "anchor": "y",
         "domain": [
          0,
          0.2888888888888889
         ]
        },
        "xaxis10": {
         "anchor": "y10",
         "domain": [
          0,
          0.2888888888888889
         ]
        },
        "xaxis11": {
         "anchor": "y11",
         "domain": [
          0.35555555555555557,
          0.6444444444444445
         ]
        },
        "xaxis12": {
         "anchor": "y12",
         "domain": [
          0.7111111111111111,
          1
         ]
        },
        "xaxis2": {
         "anchor": "y2",
         "domain": [
          0.35555555555555557,
          0.6444444444444445
         ]
        },
        "xaxis3": {
         "anchor": "y3",
         "domain": [
          0.7111111111111111,
          1
         ]
        },
        "xaxis4": {
         "anchor": "y4",
         "domain": [
          0,
          0.2888888888888889
         ]
        },
        "xaxis5": {
         "anchor": "y5",
         "domain": [
          0.35555555555555557,
          0.6444444444444445
         ]
        },
        "xaxis6": {
         "anchor": "y6",
         "domain": [
          0.7111111111111111,
          1
         ]
        },
        "xaxis7": {
         "anchor": "y7",
         "domain": [
          0,
          0.2888888888888889
         ]
        },
        "xaxis8": {
         "anchor": "y8",
         "domain": [
          0.35555555555555557,
          0.6444444444444445
         ]
        },
        "xaxis9": {
         "anchor": "y9",
         "domain": [
          0.7111111111111111,
          1
         ]
        },
        "yaxis": {
         "anchor": "x",
         "domain": [
          0.84375,
          1
         ]
        },
        "yaxis10": {
         "anchor": "x10",
         "domain": [
          0,
          0.15625
         ]
        },
        "yaxis11": {
         "anchor": "x11",
         "domain": [
          0,
          0.15625
         ]
        },
        "yaxis12": {
         "anchor": "x12",
         "domain": [
          0,
          0.15625
         ]
        },
        "yaxis2": {
         "anchor": "x2",
         "domain": [
          0.84375,
          1
         ]
        },
        "yaxis3": {
         "anchor": "x3",
         "domain": [
          0.84375,
          1
         ]
        },
        "yaxis4": {
         "anchor": "x4",
         "domain": [
          0.5625,
          0.71875
         ]
        },
        "yaxis5": {
         "anchor": "x5",
         "domain": [
          0.5625,
          0.71875
         ]
        },
        "yaxis6": {
         "anchor": "x6",
         "domain": [
          0.5625,
          0.71875
         ]
        },
        "yaxis7": {
         "anchor": "x7",
         "domain": [
          0.28125,
          0.4375
         ]
        },
        "yaxis8": {
         "anchor": "x8",
         "domain": [
          0.28125,
          0.4375
         ]
        },
        "yaxis9": {
         "anchor": "x9",
         "domain": [
          0.28125,
          0.4375
         ]
        }
       }
      }
     },
     "metadata": {},
     "output_type": "display_data"
    },
    {
     "data": {
      "application/vnd.plotly.v1+json": {
       "config": {
        "plotlyServerURL": "https://plot.ly"
       },
       "data": [
        {
         "hoverinfo": "text",
         "marker": {
          "color": "#3498db"
         },
         "mode": "markers",
         "name": "books",
         "text": [
          "Mark Twain",
          "Zane Grey",
          "Joseph Conrad",
          "George Eliot",
          "Benjamin Disraeli",
          "Lucy Maud Montgomery",
          "William Henry Hudson",
          "Howard Pyle",
          "Virginia Woolf",
          "Lewis Carroll"
         ],
         "type": "scatter",
         "x": [
          8.203097333128468,
          8.163406748441982,
          5.194481071842308,
          4.792954164818451,
          2.4763524267052075,
          8.252875386620014,
          4.765856352316044,
          7.318327012967698,
          6.6825555907915595,
          20.700083393322025
         ],
         "y": [
          0.4358421396052687,
          -6.622433484720504,
          -4.194412207938782,
          -2.684518525691635,
          -0.8735967633197381,
          -6.646188097963771,
          -0.9655490185177185,
          -0.15204847966010163,
          -6.664250270688624,
          15.538119144981678
         ]
        },
        {
         "hoverinfo": "text",
         "marker": {
          "color": "#e74c3c"
         },
         "mode": "markers",
         "name": "gpt-3.5-turbo-0125",
         "text": [
          "Mark Twain",
          "Zane Grey",
          "Joseph Conrad",
          "George Eliot",
          "Benjamin Disraeli",
          "Lucy Maud Montgomery",
          "William Henry Hudson",
          "Howard Pyle",
          "Virginia Woolf",
          "Lewis Carroll"
         ],
         "type": "scatter",
         "x": [
          0.7380601039931572,
          -1.233938689923283,
          -2.655016748510955,
          -2.56692939113075,
          -2.3995337047779373,
          -0.8528964030397813,
          -2.9789648253633345,
          -0.7539299022895514,
          -3.0734370834158034,
          -1.4246551037343167
         ],
         "y": [
          -1.4332846711684732,
          -0.2297525981885761,
          1.1145969868629382,
          1.1074259784873197,
          1.1074505373739914,
          -0.6030481202456005,
          1.2516599830280652,
          -0.060728529549498186,
          1.0665568859316394,
          -0.38512978761509525
         ]
        },
        {
         "hoverinfo": "text",
         "marker": {
          "color": "#2ecc71"
         },
         "mode": "markers",
         "name": "gpt-4o",
         "text": [
          "Mark Twain",
          "Zane Grey",
          "Joseph Conrad",
          "George Eliot",
          "Benjamin Disraeli",
          "Lucy Maud Montgomery",
          "William Henry Hudson",
          "Howard Pyle",
          "Virginia Woolf",
          "Lewis Carroll"
         ],
         "type": "scatter",
         "x": [
          1.517083972668849,
          0.012063633107622793,
          -1.854606990865729,
          -2.192894689995326,
          -2.5354309162841284,
          -0.6037299080544402,
          -1.2238298667507785,
          -0.6294247754963602,
          -1.466551724404378,
          0.7231198855384903
         ],
         "y": [
          -0.7616092170677882,
          0.12913914216161143,
          1.4773744726388096,
          2.113191902592946,
          2.2754188741122503,
          -0.15015988497561955,
          1.1066761622848769,
          -0.12132212786403888,
          0.8245942185465334,
          0.06134966736143416
         ]
        },
        {
         "hoverinfo": "text",
         "marker": {
          "color": "#f1c40f"
         },
         "mode": "markers",
         "name": "gemini-1.5-flash",
         "text": [
          "Mark Twain",
          "Zane Grey",
          "Joseph Conrad",
          "George Eliot",
          "Benjamin Disraeli",
          "Lucy Maud Montgomery",
          "William Henry Hudson",
          "Howard Pyle",
          "Virginia Woolf",
          "Lewis Carroll"
         ],
         "type": "scatter",
         "x": [
          3.089182858182882,
          -0.2378104176608846,
          -2.1485062613974106,
          -2.5666413796617356,
          -2.451101809617065,
          0.5759121572102227,
          -2.362214964674978,
          -0.3856740623151889,
          -2.2612468637093035,
          0.544693240472896
         ],
         "y": [
          -4.44051941118546,
          -2.4480993344429587,
          -0.564445377211682,
          0.37012721437148965,
          0.6437221215282681,
          -1.5977929858924351,
          0.31181767365842433,
          -1.2312499063485833,
          -0.26448858370184314,
          -1.2109903054410338
         ]
        },
        {
         "hoverinfo": "text",
         "marker": {
          "color": "#9b59b6"
         },
         "mode": "markers",
         "name": "open-mixtral-8x7b",
         "text": [
          "Mark Twain",
          "Zane Grey",
          "Joseph Conrad",
          "George Eliot",
          "Benjamin Disraeli",
          "Lucy Maud Montgomery",
          "William Henry Hudson",
          "Howard Pyle",
          "Virginia Woolf",
          "Lewis Carroll"
         ],
         "type": "scatter",
         "x": [
          0.24155052755150888,
          -0.6775972067093511,
          -5.0453703844599715,
          -4.2605531905458625,
          -3.265355756638454,
          -1.2294811740656293,
          -2.6045967403764214,
          -0.7297140518787798,
          -4.700999258320484,
          -0.08833203033043228
         ],
         "y": [
          -0.1719690071040856,
          -1.1124303937264846,
          2.928370693275024,
          2.3436765358027745,
          2.1253290590252845,
          -0.36005066680652226,
          1.4859715747400266,
          -0.6723609210165208,
          1.4422302635962683,
          0.15752310305680997
         ]
        },
        {
         "hoverinfo": "text",
         "marker": {
          "color": "#e67e22"
         },
         "mode": "markers",
         "name": "claude-3-haiku-20240307",
         "text": [
          "Mark Twain",
          "Zane Grey",
          "Joseph Conrad",
          "George Eliot",
          "Benjamin Disraeli",
          "Lucy Maud Montgomery",
          "William Henry Hudson",
          "Howard Pyle",
          "Virginia Woolf",
          "Lewis Carroll"
         ],
         "type": "scatter",
         "x": [
          2.7307419911482875,
          -0.10522011910555024,
          -3.8042098823544443,
          -4.105328439325287,
          -3.6384501722368845,
          -0.6664256536268145,
          -4.139076784099751,
          -1.3356823756980813,
          -3.6090483773552835,
          -1.8579897706267456
         ],
         "y": [
          -2.683640745735205,
          -0.9361140139652468,
          1.6211091899858339,
          2.1732506584769644,
          1.1616017484652903,
          -0.24897281580742026,
          1.963142776317419,
          0.13528002621880753,
          1.4892325399961956,
          0.5293749790767801
         ]
        }
       ],
       "layout": {
        "legend": {
         "title": {
          "text": "Collection Name"
         }
        },
        "template": {
         "data": {
          "bar": [
           {
            "error_x": {
             "color": "#2a3f5f"
            },
            "error_y": {
             "color": "#2a3f5f"
            },
            "marker": {
             "line": {
              "color": "#E5ECF6",
              "width": 0.5
             },
             "pattern": {
              "fillmode": "overlay",
              "size": 10,
              "solidity": 0.2
             }
            },
            "type": "bar"
           }
          ],
          "barpolar": [
           {
            "marker": {
             "line": {
              "color": "#E5ECF6",
              "width": 0.5
             },
             "pattern": {
              "fillmode": "overlay",
              "size": 10,
              "solidity": 0.2
             }
            },
            "type": "barpolar"
           }
          ],
          "carpet": [
           {
            "aaxis": {
             "endlinecolor": "#2a3f5f",
             "gridcolor": "white",
             "linecolor": "white",
             "minorgridcolor": "white",
             "startlinecolor": "#2a3f5f"
            },
            "baxis": {
             "endlinecolor": "#2a3f5f",
             "gridcolor": "white",
             "linecolor": "white",
             "minorgridcolor": "white",
             "startlinecolor": "#2a3f5f"
            },
            "type": "carpet"
           }
          ],
          "choropleth": [
           {
            "colorbar": {
             "outlinewidth": 0,
             "ticks": ""
            },
            "type": "choropleth"
           }
          ],
          "contour": [
           {
            "colorbar": {
             "outlinewidth": 0,
             "ticks": ""
            },
            "colorscale": [
             [
              0,
              "#0d0887"
             ],
             [
              0.1111111111111111,
              "#46039f"
             ],
             [
              0.2222222222222222,
              "#7201a8"
             ],
             [
              0.3333333333333333,
              "#9c179e"
             ],
             [
              0.4444444444444444,
              "#bd3786"
             ],
             [
              0.5555555555555556,
              "#d8576b"
             ],
             [
              0.6666666666666666,
              "#ed7953"
             ],
             [
              0.7777777777777778,
              "#fb9f3a"
             ],
             [
              0.8888888888888888,
              "#fdca26"
             ],
             [
              1,
              "#f0f921"
             ]
            ],
            "type": "contour"
           }
          ],
          "contourcarpet": [
           {
            "colorbar": {
             "outlinewidth": 0,
             "ticks": ""
            },
            "type": "contourcarpet"
           }
          ],
          "heatmap": [
           {
            "colorbar": {
             "outlinewidth": 0,
             "ticks": ""
            },
            "colorscale": [
             [
              0,
              "#0d0887"
             ],
             [
              0.1111111111111111,
              "#46039f"
             ],
             [
              0.2222222222222222,
              "#7201a8"
             ],
             [
              0.3333333333333333,
              "#9c179e"
             ],
             [
              0.4444444444444444,
              "#bd3786"
             ],
             [
              0.5555555555555556,
              "#d8576b"
             ],
             [
              0.6666666666666666,
              "#ed7953"
             ],
             [
              0.7777777777777778,
              "#fb9f3a"
             ],
             [
              0.8888888888888888,
              "#fdca26"
             ],
             [
              1,
              "#f0f921"
             ]
            ],
            "type": "heatmap"
           }
          ],
          "heatmapgl": [
           {
            "colorbar": {
             "outlinewidth": 0,
             "ticks": ""
            },
            "colorscale": [
             [
              0,
              "#0d0887"
             ],
             [
              0.1111111111111111,
              "#46039f"
             ],
             [
              0.2222222222222222,
              "#7201a8"
             ],
             [
              0.3333333333333333,
              "#9c179e"
             ],
             [
              0.4444444444444444,
              "#bd3786"
             ],
             [
              0.5555555555555556,
              "#d8576b"
             ],
             [
              0.6666666666666666,
              "#ed7953"
             ],
             [
              0.7777777777777778,
              "#fb9f3a"
             ],
             [
              0.8888888888888888,
              "#fdca26"
             ],
             [
              1,
              "#f0f921"
             ]
            ],
            "type": "heatmapgl"
           }
          ],
          "histogram": [
           {
            "marker": {
             "pattern": {
              "fillmode": "overlay",
              "size": 10,
              "solidity": 0.2
             }
            },
            "type": "histogram"
           }
          ],
          "histogram2d": [
           {
            "colorbar": {
             "outlinewidth": 0,
             "ticks": ""
            },
            "colorscale": [
             [
              0,
              "#0d0887"
             ],
             [
              0.1111111111111111,
              "#46039f"
             ],
             [
              0.2222222222222222,
              "#7201a8"
             ],
             [
              0.3333333333333333,
              "#9c179e"
             ],
             [
              0.4444444444444444,
              "#bd3786"
             ],
             [
              0.5555555555555556,
              "#d8576b"
             ],
             [
              0.6666666666666666,
              "#ed7953"
             ],
             [
              0.7777777777777778,
              "#fb9f3a"
             ],
             [
              0.8888888888888888,
              "#fdca26"
             ],
             [
              1,
              "#f0f921"
             ]
            ],
            "type": "histogram2d"
           }
          ],
          "histogram2dcontour": [
           {
            "colorbar": {
             "outlinewidth": 0,
             "ticks": ""
            },
            "colorscale": [
             [
              0,
              "#0d0887"
             ],
             [
              0.1111111111111111,
              "#46039f"
             ],
             [
              0.2222222222222222,
              "#7201a8"
             ],
             [
              0.3333333333333333,
              "#9c179e"
             ],
             [
              0.4444444444444444,
              "#bd3786"
             ],
             [
              0.5555555555555556,
              "#d8576b"
             ],
             [
              0.6666666666666666,
              "#ed7953"
             ],
             [
              0.7777777777777778,
              "#fb9f3a"
             ],
             [
              0.8888888888888888,
              "#fdca26"
             ],
             [
              1,
              "#f0f921"
             ]
            ],
            "type": "histogram2dcontour"
           }
          ],
          "mesh3d": [
           {
            "colorbar": {
             "outlinewidth": 0,
             "ticks": ""
            },
            "type": "mesh3d"
           }
          ],
          "parcoords": [
           {
            "line": {
             "colorbar": {
              "outlinewidth": 0,
              "ticks": ""
             }
            },
            "type": "parcoords"
           }
          ],
          "pie": [
           {
            "automargin": true,
            "type": "pie"
           }
          ],
          "scatter": [
           {
            "fillpattern": {
             "fillmode": "overlay",
             "size": 10,
             "solidity": 0.2
            },
            "type": "scatter"
           }
          ],
          "scatter3d": [
           {
            "line": {
             "colorbar": {
              "outlinewidth": 0,
              "ticks": ""
             }
            },
            "marker": {
             "colorbar": {
              "outlinewidth": 0,
              "ticks": ""
             }
            },
            "type": "scatter3d"
           }
          ],
          "scattercarpet": [
           {
            "marker": {
             "colorbar": {
              "outlinewidth": 0,
              "ticks": ""
             }
            },
            "type": "scattercarpet"
           }
          ],
          "scattergeo": [
           {
            "marker": {
             "colorbar": {
              "outlinewidth": 0,
              "ticks": ""
             }
            },
            "type": "scattergeo"
           }
          ],
          "scattergl": [
           {
            "marker": {
             "colorbar": {
              "outlinewidth": 0,
              "ticks": ""
             }
            },
            "type": "scattergl"
           }
          ],
          "scattermapbox": [
           {
            "marker": {
             "colorbar": {
              "outlinewidth": 0,
              "ticks": ""
             }
            },
            "type": "scattermapbox"
           }
          ],
          "scatterpolar": [
           {
            "marker": {
             "colorbar": {
              "outlinewidth": 0,
              "ticks": ""
             }
            },
            "type": "scatterpolar"
           }
          ],
          "scatterpolargl": [
           {
            "marker": {
             "colorbar": {
              "outlinewidth": 0,
              "ticks": ""
             }
            },
            "type": "scatterpolargl"
           }
          ],
          "scatterternary": [
           {
            "marker": {
             "colorbar": {
              "outlinewidth": 0,
              "ticks": ""
             }
            },
            "type": "scatterternary"
           }
          ],
          "surface": [
           {
            "colorbar": {
             "outlinewidth": 0,
             "ticks": ""
            },
            "colorscale": [
             [
              0,
              "#0d0887"
             ],
             [
              0.1111111111111111,
              "#46039f"
             ],
             [
              0.2222222222222222,
              "#7201a8"
             ],
             [
              0.3333333333333333,
              "#9c179e"
             ],
             [
              0.4444444444444444,
              "#bd3786"
             ],
             [
              0.5555555555555556,
              "#d8576b"
             ],
             [
              0.6666666666666666,
              "#ed7953"
             ],
             [
              0.7777777777777778,
              "#fb9f3a"
             ],
             [
              0.8888888888888888,
              "#fdca26"
             ],
             [
              1,
              "#f0f921"
             ]
            ],
            "type": "surface"
           }
          ],
          "table": [
           {
            "cells": {
             "fill": {
              "color": "#EBF0F8"
             },
             "line": {
              "color": "white"
             }
            },
            "header": {
             "fill": {
              "color": "#C8D4E3"
             },
             "line": {
              "color": "white"
             }
            },
            "type": "table"
           }
          ]
         },
         "layout": {
          "annotationdefaults": {
           "arrowcolor": "#2a3f5f",
           "arrowhead": 0,
           "arrowwidth": 1
          },
          "autotypenumbers": "strict",
          "coloraxis": {
           "colorbar": {
            "outlinewidth": 0,
            "ticks": ""
           }
          },
          "colorscale": {
           "diverging": [
            [
             0,
             "#8e0152"
            ],
            [
             0.1,
             "#c51b7d"
            ],
            [
             0.2,
             "#de77ae"
            ],
            [
             0.3,
             "#f1b6da"
            ],
            [
             0.4,
             "#fde0ef"
            ],
            [
             0.5,
             "#f7f7f7"
            ],
            [
             0.6,
             "#e6f5d0"
            ],
            [
             0.7,
             "#b8e186"
            ],
            [
             0.8,
             "#7fbc41"
            ],
            [
             0.9,
             "#4d9221"
            ],
            [
             1,
             "#276419"
            ]
           ],
           "sequential": [
            [
             0,
             "#0d0887"
            ],
            [
             0.1111111111111111,
             "#46039f"
            ],
            [
             0.2222222222222222,
             "#7201a8"
            ],
            [
             0.3333333333333333,
             "#9c179e"
            ],
            [
             0.4444444444444444,
             "#bd3786"
            ],
            [
             0.5555555555555556,
             "#d8576b"
            ],
            [
             0.6666666666666666,
             "#ed7953"
            ],
            [
             0.7777777777777778,
             "#fb9f3a"
            ],
            [
             0.8888888888888888,
             "#fdca26"
            ],
            [
             1,
             "#f0f921"
            ]
           ],
           "sequentialminus": [
            [
             0,
             "#0d0887"
            ],
            [
             0.1111111111111111,
             "#46039f"
            ],
            [
             0.2222222222222222,
             "#7201a8"
            ],
            [
             0.3333333333333333,
             "#9c179e"
            ],
            [
             0.4444444444444444,
             "#bd3786"
            ],
            [
             0.5555555555555556,
             "#d8576b"
            ],
            [
             0.6666666666666666,
             "#ed7953"
            ],
            [
             0.7777777777777778,
             "#fb9f3a"
            ],
            [
             0.8888888888888888,
             "#fdca26"
            ],
            [
             1,
             "#f0f921"
            ]
           ]
          },
          "colorway": [
           "#636efa",
           "#EF553B",
           "#00cc96",
           "#ab63fa",
           "#FFA15A",
           "#19d3f3",
           "#FF6692",
           "#B6E880",
           "#FF97FF",
           "#FECB52"
          ],
          "font": {
           "color": "#2a3f5f"
          },
          "geo": {
           "bgcolor": "white",
           "lakecolor": "white",
           "landcolor": "#E5ECF6",
           "showlakes": true,
           "showland": true,
           "subunitcolor": "white"
          },
          "hoverlabel": {
           "align": "left"
          },
          "hovermode": "closest",
          "mapbox": {
           "style": "light"
          },
          "paper_bgcolor": "white",
          "plot_bgcolor": "#E5ECF6",
          "polar": {
           "angularaxis": {
            "gridcolor": "white",
            "linecolor": "white",
            "ticks": ""
           },
           "bgcolor": "#E5ECF6",
           "radialaxis": {
            "gridcolor": "white",
            "linecolor": "white",
            "ticks": ""
           }
          },
          "scene": {
           "xaxis": {
            "backgroundcolor": "#E5ECF6",
            "gridcolor": "white",
            "gridwidth": 2,
            "linecolor": "white",
            "showbackground": true,
            "ticks": "",
            "zerolinecolor": "white"
           },
           "yaxis": {
            "backgroundcolor": "#E5ECF6",
            "gridcolor": "white",
            "gridwidth": 2,
            "linecolor": "white",
            "showbackground": true,
            "ticks": "",
            "zerolinecolor": "white"
           },
           "zaxis": {
            "backgroundcolor": "#E5ECF6",
            "gridcolor": "white",
            "gridwidth": 2,
            "linecolor": "white",
            "showbackground": true,
            "ticks": "",
            "zerolinecolor": "white"
           }
          },
          "shapedefaults": {
           "line": {
            "color": "#2a3f5f"
           }
          },
          "ternary": {
           "aaxis": {
            "gridcolor": "white",
            "linecolor": "white",
            "ticks": ""
           },
           "baxis": {
            "gridcolor": "white",
            "linecolor": "white",
            "ticks": ""
           },
           "bgcolor": "#E5ECF6",
           "caxis": {
            "gridcolor": "white",
            "linecolor": "white",
            "ticks": ""
           }
          },
          "title": {
           "x": 0.05
          },
          "xaxis": {
           "automargin": true,
           "gridcolor": "white",
           "linecolor": "white",
           "ticks": "",
           "title": {
            "standoff": 15
           },
           "zerolinecolor": "white",
           "zerolinewidth": 2
          },
          "yaxis": {
           "automargin": true,
           "gridcolor": "white",
           "linecolor": "white",
           "ticks": "",
           "title": {
            "standoff": 15
           },
           "zerolinecolor": "white",
           "zerolinewidth": 2
          }
         }
        },
        "title": {
         "text": "PCA Analysis"
        },
        "xaxis": {
         "title": {
          "text": "PC1 [28.24%]"
         }
        },
        "yaxis": {
         "title": {
          "text": "PC2 [13.13%]"
         }
        }
       }
      }
     },
     "metadata": {},
     "output_type": "display_data"
    },
    {
     "data": {
      "application/vnd.plotly.v1+json": {
       "config": {
        "plotlyServerURL": "https://plot.ly"
       },
       "data": [
        {
         "hoverinfo": "text",
         "marker": {
          "color": "#3498db"
         },
         "mode": "markers",
         "name": "Mark Twain",
         "text": [
          "books",
          "gpt-3.5-turbo-0125",
          "gpt-4o",
          "gemini-1.5-flash",
          "open-mixtral-8x7b",
          "claude-3-haiku-20240307"
         ],
         "type": "scatter",
         "x": [
          8.203097333128468,
          0.7380601039931572,
          1.517083972668849,
          3.089182858182882,
          0.24155052755150888,
          2.7307419911482875
         ],
         "y": [
          0.4358421396052687,
          -1.4332846711684732,
          -0.7616092170677882,
          -4.44051941118546,
          -0.1719690071040856,
          -2.683640745735205
         ]
        },
        {
         "hoverinfo": "text",
         "marker": {
          "color": "#e74c3c"
         },
         "mode": "markers",
         "name": "Zane Grey",
         "text": [
          "books",
          "gpt-3.5-turbo-0125",
          "gpt-4o",
          "gemini-1.5-flash",
          "open-mixtral-8x7b",
          "claude-3-haiku-20240307"
         ],
         "type": "scatter",
         "x": [
          8.163406748441982,
          -1.233938689923283,
          0.012063633107622793,
          -0.2378104176608846,
          -0.6775972067093511,
          -0.10522011910555024
         ],
         "y": [
          -6.622433484720504,
          -0.2297525981885761,
          0.12913914216161143,
          -2.4480993344429587,
          -1.1124303937264846,
          -0.9361140139652468
         ]
        },
        {
         "hoverinfo": "text",
         "marker": {
          "color": "#2ecc71"
         },
         "mode": "markers",
         "name": "Joseph Conrad",
         "text": [
          "books",
          "gpt-3.5-turbo-0125",
          "gpt-4o",
          "gemini-1.5-flash",
          "open-mixtral-8x7b",
          "claude-3-haiku-20240307"
         ],
         "type": "scatter",
         "x": [
          5.194481071842308,
          -2.655016748510955,
          -1.854606990865729,
          -2.1485062613974106,
          -5.0453703844599715,
          -3.8042098823544443
         ],
         "y": [
          -4.194412207938782,
          1.1145969868629382,
          1.4773744726388096,
          -0.564445377211682,
          2.928370693275024,
          1.6211091899858339
         ]
        },
        {
         "hoverinfo": "text",
         "marker": {
          "color": "#f1c40f"
         },
         "mode": "markers",
         "name": "George Eliot",
         "text": [
          "books",
          "gpt-3.5-turbo-0125",
          "gpt-4o",
          "gemini-1.5-flash",
          "open-mixtral-8x7b",
          "claude-3-haiku-20240307"
         ],
         "type": "scatter",
         "x": [
          4.792954164818451,
          -2.56692939113075,
          -2.192894689995326,
          -2.5666413796617356,
          -4.2605531905458625,
          -4.105328439325287
         ],
         "y": [
          -2.684518525691635,
          1.1074259784873197,
          2.113191902592946,
          0.37012721437148965,
          2.3436765358027745,
          2.1732506584769644
         ]
        },
        {
         "hoverinfo": "text",
         "marker": {
          "color": "#9b59b6"
         },
         "mode": "markers",
         "name": "Benjamin Disraeli",
         "text": [
          "books",
          "gpt-3.5-turbo-0125",
          "gpt-4o",
          "gemini-1.5-flash",
          "open-mixtral-8x7b",
          "claude-3-haiku-20240307"
         ],
         "type": "scatter",
         "x": [
          2.4763524267052075,
          -2.3995337047779373,
          -2.5354309162841284,
          -2.451101809617065,
          -3.265355756638454,
          -3.6384501722368845
         ],
         "y": [
          -0.8735967633197381,
          1.1074505373739914,
          2.2754188741122503,
          0.6437221215282681,
          2.1253290590252845,
          1.1616017484652903
         ]
        },
        {
         "hoverinfo": "text",
         "marker": {
          "color": "#e67e22"
         },
         "mode": "markers",
         "name": "Lucy Maud Montgomery",
         "text": [
          "books",
          "gpt-3.5-turbo-0125",
          "gpt-4o",
          "gemini-1.5-flash",
          "open-mixtral-8x7b",
          "claude-3-haiku-20240307"
         ],
         "type": "scatter",
         "x": [
          8.252875386620014,
          -0.8528964030397813,
          -0.6037299080544402,
          0.5759121572102227,
          -1.2294811740656293,
          -0.6664256536268145
         ],
         "y": [
          -6.646188097963771,
          -0.6030481202456005,
          -0.15015988497561955,
          -1.5977929858924351,
          -0.36005066680652226,
          -0.24897281580742026
         ]
        },
        {
         "hoverinfo": "text",
         "marker": {
          "color": "#1abc9c"
         },
         "mode": "markers",
         "name": "William Henry Hudson",
         "text": [
          "books",
          "gpt-3.5-turbo-0125",
          "gpt-4o",
          "gemini-1.5-flash",
          "open-mixtral-8x7b",
          "claude-3-haiku-20240307"
         ],
         "type": "scatter",
         "x": [
          4.765856352316044,
          -2.9789648253633345,
          -1.2238298667507785,
          -2.362214964674978,
          -2.6045967403764214,
          -4.139076784099751
         ],
         "y": [
          -0.9655490185177185,
          1.2516599830280652,
          1.1066761622848769,
          0.31181767365842433,
          1.4859715747400266,
          1.963142776317419
         ]
        },
        {
         "hoverinfo": "text",
         "marker": {
          "color": "#34495e"
         },
         "mode": "markers",
         "name": "Howard Pyle",
         "text": [
          "books",
          "gpt-3.5-turbo-0125",
          "gpt-4o",
          "gemini-1.5-flash",
          "open-mixtral-8x7b",
          "claude-3-haiku-20240307"
         ],
         "type": "scatter",
         "x": [
          7.318327012967698,
          -0.7539299022895514,
          -0.6294247754963602,
          -0.3856740623151889,
          -0.7297140518787798,
          -1.3356823756980813
         ],
         "y": [
          -0.15204847966010163,
          -0.060728529549498186,
          -0.12132212786403888,
          -1.2312499063485833,
          -0.6723609210165208,
          0.13528002621880753
         ]
        },
        {
         "hoverinfo": "text",
         "marker": {
          "color": "#d35400"
         },
         "mode": "markers",
         "name": "Virginia Woolf",
         "text": [
          "books",
          "gpt-3.5-turbo-0125",
          "gpt-4o",
          "gemini-1.5-flash",
          "open-mixtral-8x7b",
          "claude-3-haiku-20240307"
         ],
         "type": "scatter",
         "x": [
          6.6825555907915595,
          -3.0734370834158034,
          -1.466551724404378,
          -2.2612468637093035,
          -4.700999258320484,
          -3.6090483773552835
         ],
         "y": [
          -6.664250270688624,
          1.0665568859316394,
          0.8245942185465334,
          -0.26448858370184314,
          1.4422302635962683,
          1.4892325399961956
         ]
        },
        {
         "hoverinfo": "text",
         "marker": {
          "color": "#7f8c8d"
         },
         "mode": "markers",
         "name": "Lewis Carroll",
         "text": [
          "books",
          "gpt-3.5-turbo-0125",
          "gpt-4o",
          "gemini-1.5-flash",
          "open-mixtral-8x7b",
          "claude-3-haiku-20240307"
         ],
         "type": "scatter",
         "x": [
          20.700083393322025,
          -1.4246551037343167,
          0.7231198855384903,
          0.544693240472896,
          -0.08833203033043228,
          -1.8579897706267456
         ],
         "y": [
          15.538119144981678,
          -0.38512978761509525,
          0.06134966736143416,
          -1.2109903054410338,
          0.15752310305680997,
          0.5293749790767801
         ]
        }
       ],
       "layout": {
        "legend": {
         "title": {
          "text": "Author Name"
         }
        },
        "template": {
         "data": {
          "bar": [
           {
            "error_x": {
             "color": "#2a3f5f"
            },
            "error_y": {
             "color": "#2a3f5f"
            },
            "marker": {
             "line": {
              "color": "#E5ECF6",
              "width": 0.5
             },
             "pattern": {
              "fillmode": "overlay",
              "size": 10,
              "solidity": 0.2
             }
            },
            "type": "bar"
           }
          ],
          "barpolar": [
           {
            "marker": {
             "line": {
              "color": "#E5ECF6",
              "width": 0.5
             },
             "pattern": {
              "fillmode": "overlay",
              "size": 10,
              "solidity": 0.2
             }
            },
            "type": "barpolar"
           }
          ],
          "carpet": [
           {
            "aaxis": {
             "endlinecolor": "#2a3f5f",
             "gridcolor": "white",
             "linecolor": "white",
             "minorgridcolor": "white",
             "startlinecolor": "#2a3f5f"
            },
            "baxis": {
             "endlinecolor": "#2a3f5f",
             "gridcolor": "white",
             "linecolor": "white",
             "minorgridcolor": "white",
             "startlinecolor": "#2a3f5f"
            },
            "type": "carpet"
           }
          ],
          "choropleth": [
           {
            "colorbar": {
             "outlinewidth": 0,
             "ticks": ""
            },
            "type": "choropleth"
           }
          ],
          "contour": [
           {
            "colorbar": {
             "outlinewidth": 0,
             "ticks": ""
            },
            "colorscale": [
             [
              0,
              "#0d0887"
             ],
             [
              0.1111111111111111,
              "#46039f"
             ],
             [
              0.2222222222222222,
              "#7201a8"
             ],
             [
              0.3333333333333333,
              "#9c179e"
             ],
             [
              0.4444444444444444,
              "#bd3786"
             ],
             [
              0.5555555555555556,
              "#d8576b"
             ],
             [
              0.6666666666666666,
              "#ed7953"
             ],
             [
              0.7777777777777778,
              "#fb9f3a"
             ],
             [
              0.8888888888888888,
              "#fdca26"
             ],
             [
              1,
              "#f0f921"
             ]
            ],
            "type": "contour"
           }
          ],
          "contourcarpet": [
           {
            "colorbar": {
             "outlinewidth": 0,
             "ticks": ""
            },
            "type": "contourcarpet"
           }
          ],
          "heatmap": [
           {
            "colorbar": {
             "outlinewidth": 0,
             "ticks": ""
            },
            "colorscale": [
             [
              0,
              "#0d0887"
             ],
             [
              0.1111111111111111,
              "#46039f"
             ],
             [
              0.2222222222222222,
              "#7201a8"
             ],
             [
              0.3333333333333333,
              "#9c179e"
             ],
             [
              0.4444444444444444,
              "#bd3786"
             ],
             [
              0.5555555555555556,
              "#d8576b"
             ],
             [
              0.6666666666666666,
              "#ed7953"
             ],
             [
              0.7777777777777778,
              "#fb9f3a"
             ],
             [
              0.8888888888888888,
              "#fdca26"
             ],
             [
              1,
              "#f0f921"
             ]
            ],
            "type": "heatmap"
           }
          ],
          "heatmapgl": [
           {
            "colorbar": {
             "outlinewidth": 0,
             "ticks": ""
            },
            "colorscale": [
             [
              0,
              "#0d0887"
             ],
             [
              0.1111111111111111,
              "#46039f"
             ],
             [
              0.2222222222222222,
              "#7201a8"
             ],
             [
              0.3333333333333333,
              "#9c179e"
             ],
             [
              0.4444444444444444,
              "#bd3786"
             ],
             [
              0.5555555555555556,
              "#d8576b"
             ],
             [
              0.6666666666666666,
              "#ed7953"
             ],
             [
              0.7777777777777778,
              "#fb9f3a"
             ],
             [
              0.8888888888888888,
              "#fdca26"
             ],
             [
              1,
              "#f0f921"
             ]
            ],
            "type": "heatmapgl"
           }
          ],
          "histogram": [
           {
            "marker": {
             "pattern": {
              "fillmode": "overlay",
              "size": 10,
              "solidity": 0.2
             }
            },
            "type": "histogram"
           }
          ],
          "histogram2d": [
           {
            "colorbar": {
             "outlinewidth": 0,
             "ticks": ""
            },
            "colorscale": [
             [
              0,
              "#0d0887"
             ],
             [
              0.1111111111111111,
              "#46039f"
             ],
             [
              0.2222222222222222,
              "#7201a8"
             ],
             [
              0.3333333333333333,
              "#9c179e"
             ],
             [
              0.4444444444444444,
              "#bd3786"
             ],
             [
              0.5555555555555556,
              "#d8576b"
             ],
             [
              0.6666666666666666,
              "#ed7953"
             ],
             [
              0.7777777777777778,
              "#fb9f3a"
             ],
             [
              0.8888888888888888,
              "#fdca26"
             ],
             [
              1,
              "#f0f921"
             ]
            ],
            "type": "histogram2d"
           }
          ],
          "histogram2dcontour": [
           {
            "colorbar": {
             "outlinewidth": 0,
             "ticks": ""
            },
            "colorscale": [
             [
              0,
              "#0d0887"
             ],
             [
              0.1111111111111111,
              "#46039f"
             ],
             [
              0.2222222222222222,
              "#7201a8"
             ],
             [
              0.3333333333333333,
              "#9c179e"
             ],
             [
              0.4444444444444444,
              "#bd3786"
             ],
             [
              0.5555555555555556,
              "#d8576b"
             ],
             [
              0.6666666666666666,
              "#ed7953"
             ],
             [
              0.7777777777777778,
              "#fb9f3a"
             ],
             [
              0.8888888888888888,
              "#fdca26"
             ],
             [
              1,
              "#f0f921"
             ]
            ],
            "type": "histogram2dcontour"
           }
          ],
          "mesh3d": [
           {
            "colorbar": {
             "outlinewidth": 0,
             "ticks": ""
            },
            "type": "mesh3d"
           }
          ],
          "parcoords": [
           {
            "line": {
             "colorbar": {
              "outlinewidth": 0,
              "ticks": ""
             }
            },
            "type": "parcoords"
           }
          ],
          "pie": [
           {
            "automargin": true,
            "type": "pie"
           }
          ],
          "scatter": [
           {
            "fillpattern": {
             "fillmode": "overlay",
             "size": 10,
             "solidity": 0.2
            },
            "type": "scatter"
           }
          ],
          "scatter3d": [
           {
            "line": {
             "colorbar": {
              "outlinewidth": 0,
              "ticks": ""
             }
            },
            "marker": {
             "colorbar": {
              "outlinewidth": 0,
              "ticks": ""
             }
            },
            "type": "scatter3d"
           }
          ],
          "scattercarpet": [
           {
            "marker": {
             "colorbar": {
              "outlinewidth": 0,
              "ticks": ""
             }
            },
            "type": "scattercarpet"
           }
          ],
          "scattergeo": [
           {
            "marker": {
             "colorbar": {
              "outlinewidth": 0,
              "ticks": ""
             }
            },
            "type": "scattergeo"
           }
          ],
          "scattergl": [
           {
            "marker": {
             "colorbar": {
              "outlinewidth": 0,
              "ticks": ""
             }
            },
            "type": "scattergl"
           }
          ],
          "scattermapbox": [
           {
            "marker": {
             "colorbar": {
              "outlinewidth": 0,
              "ticks": ""
             }
            },
            "type": "scattermapbox"
           }
          ],
          "scatterpolar": [
           {
            "marker": {
             "colorbar": {
              "outlinewidth": 0,
              "ticks": ""
             }
            },
            "type": "scatterpolar"
           }
          ],
          "scatterpolargl": [
           {
            "marker": {
             "colorbar": {
              "outlinewidth": 0,
              "ticks": ""
             }
            },
            "type": "scatterpolargl"
           }
          ],
          "scatterternary": [
           {
            "marker": {
             "colorbar": {
              "outlinewidth": 0,
              "ticks": ""
             }
            },
            "type": "scatterternary"
           }
          ],
          "surface": [
           {
            "colorbar": {
             "outlinewidth": 0,
             "ticks": ""
            },
            "colorscale": [
             [
              0,
              "#0d0887"
             ],
             [
              0.1111111111111111,
              "#46039f"
             ],
             [
              0.2222222222222222,
              "#7201a8"
             ],
             [
              0.3333333333333333,
              "#9c179e"
             ],
             [
              0.4444444444444444,
              "#bd3786"
             ],
             [
              0.5555555555555556,
              "#d8576b"
             ],
             [
              0.6666666666666666,
              "#ed7953"
             ],
             [
              0.7777777777777778,
              "#fb9f3a"
             ],
             [
              0.8888888888888888,
              "#fdca26"
             ],
             [
              1,
              "#f0f921"
             ]
            ],
            "type": "surface"
           }
          ],
          "table": [
           {
            "cells": {
             "fill": {
              "color": "#EBF0F8"
             },
             "line": {
              "color": "white"
             }
            },
            "header": {
             "fill": {
              "color": "#C8D4E3"
             },
             "line": {
              "color": "white"
             }
            },
            "type": "table"
           }
          ]
         },
         "layout": {
          "annotationdefaults": {
           "arrowcolor": "#2a3f5f",
           "arrowhead": 0,
           "arrowwidth": 1
          },
          "autotypenumbers": "strict",
          "coloraxis": {
           "colorbar": {
            "outlinewidth": 0,
            "ticks": ""
           }
          },
          "colorscale": {
           "diverging": [
            [
             0,
             "#8e0152"
            ],
            [
             0.1,
             "#c51b7d"
            ],
            [
             0.2,
             "#de77ae"
            ],
            [
             0.3,
             "#f1b6da"
            ],
            [
             0.4,
             "#fde0ef"
            ],
            [
             0.5,
             "#f7f7f7"
            ],
            [
             0.6,
             "#e6f5d0"
            ],
            [
             0.7,
             "#b8e186"
            ],
            [
             0.8,
             "#7fbc41"
            ],
            [
             0.9,
             "#4d9221"
            ],
            [
             1,
             "#276419"
            ]
           ],
           "sequential": [
            [
             0,
             "#0d0887"
            ],
            [
             0.1111111111111111,
             "#46039f"
            ],
            [
             0.2222222222222222,
             "#7201a8"
            ],
            [
             0.3333333333333333,
             "#9c179e"
            ],
            [
             0.4444444444444444,
             "#bd3786"
            ],
            [
             0.5555555555555556,
             "#d8576b"
            ],
            [
             0.6666666666666666,
             "#ed7953"
            ],
            [
             0.7777777777777778,
             "#fb9f3a"
            ],
            [
             0.8888888888888888,
             "#fdca26"
            ],
            [
             1,
             "#f0f921"
            ]
           ],
           "sequentialminus": [
            [
             0,
             "#0d0887"
            ],
            [
             0.1111111111111111,
             "#46039f"
            ],
            [
             0.2222222222222222,
             "#7201a8"
            ],
            [
             0.3333333333333333,
             "#9c179e"
            ],
            [
             0.4444444444444444,
             "#bd3786"
            ],
            [
             0.5555555555555556,
             "#d8576b"
            ],
            [
             0.6666666666666666,
             "#ed7953"
            ],
            [
             0.7777777777777778,
             "#fb9f3a"
            ],
            [
             0.8888888888888888,
             "#fdca26"
            ],
            [
             1,
             "#f0f921"
            ]
           ]
          },
          "colorway": [
           "#636efa",
           "#EF553B",
           "#00cc96",
           "#ab63fa",
           "#FFA15A",
           "#19d3f3",
           "#FF6692",
           "#B6E880",
           "#FF97FF",
           "#FECB52"
          ],
          "font": {
           "color": "#2a3f5f"
          },
          "geo": {
           "bgcolor": "white",
           "lakecolor": "white",
           "landcolor": "#E5ECF6",
           "showlakes": true,
           "showland": true,
           "subunitcolor": "white"
          },
          "hoverlabel": {
           "align": "left"
          },
          "hovermode": "closest",
          "mapbox": {
           "style": "light"
          },
          "paper_bgcolor": "white",
          "plot_bgcolor": "#E5ECF6",
          "polar": {
           "angularaxis": {
            "gridcolor": "white",
            "linecolor": "white",
            "ticks": ""
           },
           "bgcolor": "#E5ECF6",
           "radialaxis": {
            "gridcolor": "white",
            "linecolor": "white",
            "ticks": ""
           }
          },
          "scene": {
           "xaxis": {
            "backgroundcolor": "#E5ECF6",
            "gridcolor": "white",
            "gridwidth": 2,
            "linecolor": "white",
            "showbackground": true,
            "ticks": "",
            "zerolinecolor": "white"
           },
           "yaxis": {
            "backgroundcolor": "#E5ECF6",
            "gridcolor": "white",
            "gridwidth": 2,
            "linecolor": "white",
            "showbackground": true,
            "ticks": "",
            "zerolinecolor": "white"
           },
           "zaxis": {
            "backgroundcolor": "#E5ECF6",
            "gridcolor": "white",
            "gridwidth": 2,
            "linecolor": "white",
            "showbackground": true,
            "ticks": "",
            "zerolinecolor": "white"
           }
          },
          "shapedefaults": {
           "line": {
            "color": "#2a3f5f"
           }
          },
          "ternary": {
           "aaxis": {
            "gridcolor": "white",
            "linecolor": "white",
            "ticks": ""
           },
           "baxis": {
            "gridcolor": "white",
            "linecolor": "white",
            "ticks": ""
           },
           "bgcolor": "#E5ECF6",
           "caxis": {
            "gridcolor": "white",
            "linecolor": "white",
            "ticks": ""
           }
          },
          "title": {
           "x": 0.05
          },
          "xaxis": {
           "automargin": true,
           "gridcolor": "white",
           "linecolor": "white",
           "ticks": "",
           "title": {
            "standoff": 15
           },
           "zerolinecolor": "white",
           "zerolinewidth": 2
          },
          "yaxis": {
           "automargin": true,
           "gridcolor": "white",
           "linecolor": "white",
           "ticks": "",
           "title": {
            "standoff": 15
           },
           "zerolinecolor": "white",
           "zerolinewidth": 2
          }
         }
        },
        "title": {
         "text": "PCA Analysis"
        },
        "xaxis": {
         "title": {
          "text": "PC1 [28.24%]"
         }
        },
        "yaxis": {
         "title": {
          "text": "PC2 [13.13%]"
         }
        }
       }
      }
     },
     "metadata": {},
     "output_type": "display_data"
    }
   ],
   "source": [
    "visualization = AnalysisVisualization(settings)\n",
    "visualization.visualize(analysis_data)"
   ]
  }
 ],
 "metadata": {
  "kernelspec": {
   "display_name": ".venv",
   "language": "python",
   "name": "python3"
  },
  "language_info": {
   "codemirror_mode": {
    "name": "ipython",
    "version": 3
   },
   "file_extension": ".py",
   "mimetype": "text/x-python",
   "name": "python",
   "nbconvert_exporter": "python",
   "pygments_lexer": "ipython3",
   "version": "3.12.1"
  }
 },
 "nbformat": 4,
 "nbformat_minor": 2
}
