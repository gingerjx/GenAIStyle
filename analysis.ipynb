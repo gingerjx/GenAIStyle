{
 "cells": [
  {
   "cell_type": "markdown",
   "metadata": {},
   "source": [
    "# Analysis\n",
    "\n",
    "Notebook analyze the text from the original books and the generated one. Later on the results are visualized to conclude insights"
   ]
  },
  {
   "cell_type": "code",
   "execution_count": 17,
   "metadata": {},
   "outputs": [
    {
     "name": "stdout",
     "output_type": "stream",
     "text": [
      "The autoreload extension is already loaded. To reload it, use:\n",
      "  %reload_ext autoreload\n"
     ]
    },
    {
     "name": "stderr",
     "output_type": "stream",
     "text": [
      "[nltk_data] Downloading collection 'all'\n",
      "[nltk_data]    | \n",
      "[nltk_data]    | Downloading package abc to\n",
      "[nltk_data]    |     C:\\Users\\piotr\\AppData\\Roaming\\nltk_data...\n",
      "[nltk_data]    |   Package abc is already up-to-date!\n",
      "[nltk_data]    | Downloading package alpino to\n",
      "[nltk_data]    |     C:\\Users\\piotr\\AppData\\Roaming\\nltk_data...\n",
      "[nltk_data]    |   Package alpino is already up-to-date!\n",
      "[nltk_data]    | Downloading package averaged_perceptron_tagger to\n",
      "[nltk_data]    |     C:\\Users\\piotr\\AppData\\Roaming\\nltk_data...\n",
      "[nltk_data]    |   Package averaged_perceptron_tagger is already up-\n",
      "[nltk_data]    |       to-date!\n",
      "[nltk_data]    | Downloading package averaged_perceptron_tagger_eng to\n",
      "[nltk_data]    |     C:\\Users\\piotr\\AppData\\Roaming\\nltk_data...\n",
      "[nltk_data]    |   Package averaged_perceptron_tagger_eng is already\n",
      "[nltk_data]    |       up-to-date!\n",
      "[nltk_data]    | Downloading package averaged_perceptron_tagger_ru to\n",
      "[nltk_data]    |     C:\\Users\\piotr\\AppData\\Roaming\\nltk_data...\n",
      "[nltk_data]    |   Package averaged_perceptron_tagger_ru is already\n",
      "[nltk_data]    |       up-to-date!\n",
      "[nltk_data]    | Downloading package averaged_perceptron_tagger_rus to\n",
      "[nltk_data]    |     C:\\Users\\piotr\\AppData\\Roaming\\nltk_data...\n",
      "[nltk_data]    |   Package averaged_perceptron_tagger_rus is already\n",
      "[nltk_data]    |       up-to-date!\n",
      "[nltk_data]    | Downloading package basque_grammars to\n",
      "[nltk_data]    |     C:\\Users\\piotr\\AppData\\Roaming\\nltk_data...\n",
      "[nltk_data]    |   Package basque_grammars is already up-to-date!\n",
      "[nltk_data]    | Downloading package bcp47 to\n",
      "[nltk_data]    |     C:\\Users\\piotr\\AppData\\Roaming\\nltk_data...\n",
      "[nltk_data]    |   Package bcp47 is already up-to-date!\n",
      "[nltk_data]    | Downloading package biocreative_ppi to\n",
      "[nltk_data]    |     C:\\Users\\piotr\\AppData\\Roaming\\nltk_data...\n",
      "[nltk_data]    |   Package biocreative_ppi is already up-to-date!\n",
      "[nltk_data]    | Downloading package bllip_wsj_no_aux to\n",
      "[nltk_data]    |     C:\\Users\\piotr\\AppData\\Roaming\\nltk_data...\n",
      "[nltk_data]    |   Package bllip_wsj_no_aux is already up-to-date!\n",
      "[nltk_data]    | Downloading package book_grammars to\n",
      "[nltk_data]    |     C:\\Users\\piotr\\AppData\\Roaming\\nltk_data...\n",
      "[nltk_data]    |   Package book_grammars is already up-to-date!\n",
      "[nltk_data]    | Downloading package brown to\n",
      "[nltk_data]    |     C:\\Users\\piotr\\AppData\\Roaming\\nltk_data...\n",
      "[nltk_data]    |   Package brown is already up-to-date!\n",
      "[nltk_data]    | Downloading package brown_tei to\n",
      "[nltk_data]    |     C:\\Users\\piotr\\AppData\\Roaming\\nltk_data...\n",
      "[nltk_data]    |   Package brown_tei is already up-to-date!\n",
      "[nltk_data]    | Downloading package cess_cat to\n",
      "[nltk_data]    |     C:\\Users\\piotr\\AppData\\Roaming\\nltk_data...\n",
      "[nltk_data]    |   Package cess_cat is already up-to-date!\n",
      "[nltk_data]    | Downloading package cess_esp to\n",
      "[nltk_data]    |     C:\\Users\\piotr\\AppData\\Roaming\\nltk_data...\n",
      "[nltk_data]    |   Package cess_esp is already up-to-date!\n",
      "[nltk_data]    | Downloading package chat80 to\n",
      "[nltk_data]    |     C:\\Users\\piotr\\AppData\\Roaming\\nltk_data...\n",
      "[nltk_data]    |   Package chat80 is already up-to-date!\n",
      "[nltk_data]    | Downloading package city_database to\n",
      "[nltk_data]    |     C:\\Users\\piotr\\AppData\\Roaming\\nltk_data...\n",
      "[nltk_data]    |   Package city_database is already up-to-date!\n",
      "[nltk_data]    | Downloading package cmudict to\n",
      "[nltk_data]    |     C:\\Users\\piotr\\AppData\\Roaming\\nltk_data...\n",
      "[nltk_data]    |   Package cmudict is already up-to-date!\n",
      "[nltk_data]    | Downloading package comparative_sentences to\n",
      "[nltk_data]    |     C:\\Users\\piotr\\AppData\\Roaming\\nltk_data...\n",
      "[nltk_data]    |   Package comparative_sentences is already up-to-\n",
      "[nltk_data]    |       date!\n",
      "[nltk_data]    | Downloading package comtrans to\n",
      "[nltk_data]    |     C:\\Users\\piotr\\AppData\\Roaming\\nltk_data...\n",
      "[nltk_data]    |   Package comtrans is already up-to-date!\n",
      "[nltk_data]    | Downloading package conll2000 to\n",
      "[nltk_data]    |     C:\\Users\\piotr\\AppData\\Roaming\\nltk_data...\n",
      "[nltk_data]    |   Package conll2000 is already up-to-date!\n",
      "[nltk_data]    | Downloading package conll2002 to\n",
      "[nltk_data]    |     C:\\Users\\piotr\\AppData\\Roaming\\nltk_data...\n",
      "[nltk_data]    |   Package conll2002 is already up-to-date!\n",
      "[nltk_data]    | Downloading package conll2007 to\n",
      "[nltk_data]    |     C:\\Users\\piotr\\AppData\\Roaming\\nltk_data...\n",
      "[nltk_data]    |   Package conll2007 is already up-to-date!\n",
      "[nltk_data]    | Downloading package crubadan to\n",
      "[nltk_data]    |     C:\\Users\\piotr\\AppData\\Roaming\\nltk_data...\n",
      "[nltk_data]    |   Package crubadan is already up-to-date!\n",
      "[nltk_data]    | Downloading package dependency_treebank to\n",
      "[nltk_data]    |     C:\\Users\\piotr\\AppData\\Roaming\\nltk_data...\n",
      "[nltk_data]    |   Package dependency_treebank is already up-to-date!\n",
      "[nltk_data]    | Downloading package dolch to\n",
      "[nltk_data]    |     C:\\Users\\piotr\\AppData\\Roaming\\nltk_data...\n",
      "[nltk_data]    |   Package dolch is already up-to-date!\n",
      "[nltk_data]    | Downloading package europarl_raw to\n",
      "[nltk_data]    |     C:\\Users\\piotr\\AppData\\Roaming\\nltk_data...\n",
      "[nltk_data]    |   Package europarl_raw is already up-to-date!\n",
      "[nltk_data]    | Downloading package extended_omw to\n",
      "[nltk_data]    |     C:\\Users\\piotr\\AppData\\Roaming\\nltk_data...\n",
      "[nltk_data]    |   Package extended_omw is already up-to-date!\n",
      "[nltk_data]    | Downloading package floresta to\n",
      "[nltk_data]    |     C:\\Users\\piotr\\AppData\\Roaming\\nltk_data...\n",
      "[nltk_data]    |   Package floresta is already up-to-date!\n",
      "[nltk_data]    | Downloading package framenet_v15 to\n",
      "[nltk_data]    |     C:\\Users\\piotr\\AppData\\Roaming\\nltk_data...\n",
      "[nltk_data]    |   Package framenet_v15 is already up-to-date!\n",
      "[nltk_data]    | Downloading package framenet_v17 to\n",
      "[nltk_data]    |     C:\\Users\\piotr\\AppData\\Roaming\\nltk_data...\n",
      "[nltk_data]    |   Package framenet_v17 is already up-to-date!\n",
      "[nltk_data]    | Downloading package gazetteers to\n",
      "[nltk_data]    |     C:\\Users\\piotr\\AppData\\Roaming\\nltk_data...\n",
      "[nltk_data]    |   Package gazetteers is already up-to-date!\n",
      "[nltk_data]    | Downloading package genesis to\n",
      "[nltk_data]    |     C:\\Users\\piotr\\AppData\\Roaming\\nltk_data...\n",
      "[nltk_data]    |   Package genesis is already up-to-date!\n",
      "[nltk_data]    | Downloading package gutenberg to\n",
      "[nltk_data]    |     C:\\Users\\piotr\\AppData\\Roaming\\nltk_data...\n",
      "[nltk_data]    |   Package gutenberg is already up-to-date!\n",
      "[nltk_data]    | Downloading package ieer to\n",
      "[nltk_data]    |     C:\\Users\\piotr\\AppData\\Roaming\\nltk_data...\n",
      "[nltk_data]    |   Package ieer is already up-to-date!\n",
      "[nltk_data]    | Downloading package inaugural to\n",
      "[nltk_data]    |     C:\\Users\\piotr\\AppData\\Roaming\\nltk_data...\n",
      "[nltk_data]    |   Package inaugural is already up-to-date!\n",
      "[nltk_data]    | Downloading package indian to\n",
      "[nltk_data]    |     C:\\Users\\piotr\\AppData\\Roaming\\nltk_data...\n",
      "[nltk_data]    |   Package indian is already up-to-date!\n",
      "[nltk_data]    | Downloading package jeita to\n",
      "[nltk_data]    |     C:\\Users\\piotr\\AppData\\Roaming\\nltk_data...\n",
      "[nltk_data]    |   Package jeita is already up-to-date!\n",
      "[nltk_data]    | Downloading package kimmo to\n",
      "[nltk_data]    |     C:\\Users\\piotr\\AppData\\Roaming\\nltk_data...\n",
      "[nltk_data]    |   Package kimmo is already up-to-date!\n",
      "[nltk_data]    | Downloading package knbc to\n",
      "[nltk_data]    |     C:\\Users\\piotr\\AppData\\Roaming\\nltk_data...\n",
      "[nltk_data]    |   Package knbc is already up-to-date!\n",
      "[nltk_data]    | Downloading package large_grammars to\n",
      "[nltk_data]    |     C:\\Users\\piotr\\AppData\\Roaming\\nltk_data...\n",
      "[nltk_data]    |   Package large_grammars is already up-to-date!\n",
      "[nltk_data]    | Downloading package lin_thesaurus to\n",
      "[nltk_data]    |     C:\\Users\\piotr\\AppData\\Roaming\\nltk_data...\n",
      "[nltk_data]    |   Package lin_thesaurus is already up-to-date!\n",
      "[nltk_data]    | Downloading package mac_morpho to\n",
      "[nltk_data]    |     C:\\Users\\piotr\\AppData\\Roaming\\nltk_data...\n",
      "[nltk_data]    |   Package mac_morpho is already up-to-date!\n",
      "[nltk_data]    | Downloading package machado to\n",
      "[nltk_data]    |     C:\\Users\\piotr\\AppData\\Roaming\\nltk_data...\n",
      "[nltk_data]    |   Package machado is already up-to-date!\n",
      "[nltk_data]    | Downloading package masc_tagged to\n",
      "[nltk_data]    |     C:\\Users\\piotr\\AppData\\Roaming\\nltk_data...\n",
      "[nltk_data]    |   Package masc_tagged is already up-to-date!\n",
      "[nltk_data]    | Downloading package maxent_ne_chunker to\n",
      "[nltk_data]    |     C:\\Users\\piotr\\AppData\\Roaming\\nltk_data...\n",
      "[nltk_data]    |   Package maxent_ne_chunker is already up-to-date!\n",
      "[nltk_data]    | Downloading package maxent_ne_chunker_tab to\n",
      "[nltk_data]    |     C:\\Users\\piotr\\AppData\\Roaming\\nltk_data...\n",
      "[nltk_data]    |   Package maxent_ne_chunker_tab is already up-to-\n",
      "[nltk_data]    |       date!\n",
      "[nltk_data]    | Downloading package maxent_treebank_pos_tagger to\n",
      "[nltk_data]    |     C:\\Users\\piotr\\AppData\\Roaming\\nltk_data...\n",
      "[nltk_data]    |   Package maxent_treebank_pos_tagger is already up-\n",
      "[nltk_data]    |       to-date!\n",
      "[nltk_data]    | Downloading package maxent_treebank_pos_tagger_tab to\n",
      "[nltk_data]    |     C:\\Users\\piotr\\AppData\\Roaming\\nltk_data...\n",
      "[nltk_data]    |   Package maxent_treebank_pos_tagger_tab is already\n",
      "[nltk_data]    |       up-to-date!\n",
      "[nltk_data]    | Downloading package moses_sample to\n",
      "[nltk_data]    |     C:\\Users\\piotr\\AppData\\Roaming\\nltk_data...\n",
      "[nltk_data]    |   Package moses_sample is already up-to-date!\n",
      "[nltk_data]    | Downloading package movie_reviews to\n",
      "[nltk_data]    |     C:\\Users\\piotr\\AppData\\Roaming\\nltk_data...\n",
      "[nltk_data]    |   Package movie_reviews is already up-to-date!\n",
      "[nltk_data]    | Downloading package mte_teip5 to\n",
      "[nltk_data]    |     C:\\Users\\piotr\\AppData\\Roaming\\nltk_data...\n",
      "[nltk_data]    |   Package mte_teip5 is already up-to-date!\n",
      "[nltk_data]    | Downloading package mwa_ppdb to\n",
      "[nltk_data]    |     C:\\Users\\piotr\\AppData\\Roaming\\nltk_data...\n",
      "[nltk_data]    |   Package mwa_ppdb is already up-to-date!\n",
      "[nltk_data]    | Downloading package names to\n",
      "[nltk_data]    |     C:\\Users\\piotr\\AppData\\Roaming\\nltk_data...\n",
      "[nltk_data]    |   Package names is already up-to-date!\n",
      "[nltk_data]    | Downloading package nombank.1.0 to\n",
      "[nltk_data]    |     C:\\Users\\piotr\\AppData\\Roaming\\nltk_data...\n",
      "[nltk_data]    |   Package nombank.1.0 is already up-to-date!\n",
      "[nltk_data]    | Downloading package nonbreaking_prefixes to\n",
      "[nltk_data]    |     C:\\Users\\piotr\\AppData\\Roaming\\nltk_data...\n",
      "[nltk_data]    |   Package nonbreaking_prefixes is already up-to-date!\n",
      "[nltk_data]    | Downloading package nps_chat to\n",
      "[nltk_data]    |     C:\\Users\\piotr\\AppData\\Roaming\\nltk_data...\n",
      "[nltk_data]    |   Package nps_chat is already up-to-date!\n",
      "[nltk_data]    | Downloading package omw to\n",
      "[nltk_data]    |     C:\\Users\\piotr\\AppData\\Roaming\\nltk_data...\n",
      "[nltk_data]    |   Package omw is already up-to-date!\n",
      "[nltk_data]    | Downloading package omw-1.4 to\n",
      "[nltk_data]    |     C:\\Users\\piotr\\AppData\\Roaming\\nltk_data...\n",
      "[nltk_data]    |   Package omw-1.4 is already up-to-date!\n",
      "[nltk_data]    | Downloading package opinion_lexicon to\n",
      "[nltk_data]    |     C:\\Users\\piotr\\AppData\\Roaming\\nltk_data...\n",
      "[nltk_data]    |   Package opinion_lexicon is already up-to-date!\n",
      "[nltk_data]    | Downloading package panlex_swadesh to\n",
      "[nltk_data]    |     C:\\Users\\piotr\\AppData\\Roaming\\nltk_data...\n",
      "[nltk_data]    |   Package panlex_swadesh is already up-to-date!\n",
      "[nltk_data]    | Downloading package paradigms to\n",
      "[nltk_data]    |     C:\\Users\\piotr\\AppData\\Roaming\\nltk_data...\n",
      "[nltk_data]    |   Package paradigms is already up-to-date!\n",
      "[nltk_data]    | Downloading package pe08 to\n",
      "[nltk_data]    |     C:\\Users\\piotr\\AppData\\Roaming\\nltk_data...\n",
      "[nltk_data]    |   Package pe08 is already up-to-date!\n",
      "[nltk_data]    | Downloading package perluniprops to\n",
      "[nltk_data]    |     C:\\Users\\piotr\\AppData\\Roaming\\nltk_data...\n",
      "[nltk_data]    |   Package perluniprops is already up-to-date!\n",
      "[nltk_data]    | Downloading package pil to\n",
      "[nltk_data]    |     C:\\Users\\piotr\\AppData\\Roaming\\nltk_data...\n",
      "[nltk_data]    |   Package pil is already up-to-date!\n",
      "[nltk_data]    | Downloading package pl196x to\n",
      "[nltk_data]    |     C:\\Users\\piotr\\AppData\\Roaming\\nltk_data...\n",
      "[nltk_data]    |   Package pl196x is already up-to-date!\n",
      "[nltk_data]    | Downloading package porter_test to\n",
      "[nltk_data]    |     C:\\Users\\piotr\\AppData\\Roaming\\nltk_data...\n",
      "[nltk_data]    |   Package porter_test is already up-to-date!\n",
      "[nltk_data]    | Downloading package ppattach to\n",
      "[nltk_data]    |     C:\\Users\\piotr\\AppData\\Roaming\\nltk_data...\n",
      "[nltk_data]    |   Package ppattach is already up-to-date!\n",
      "[nltk_data]    | Downloading package problem_reports to\n",
      "[nltk_data]    |     C:\\Users\\piotr\\AppData\\Roaming\\nltk_data...\n",
      "[nltk_data]    |   Package problem_reports is already up-to-date!\n",
      "[nltk_data]    | Downloading package product_reviews_1 to\n",
      "[nltk_data]    |     C:\\Users\\piotr\\AppData\\Roaming\\nltk_data...\n",
      "[nltk_data]    |   Package product_reviews_1 is already up-to-date!\n",
      "[nltk_data]    | Downloading package product_reviews_2 to\n",
      "[nltk_data]    |     C:\\Users\\piotr\\AppData\\Roaming\\nltk_data...\n",
      "[nltk_data]    |   Package product_reviews_2 is already up-to-date!\n",
      "[nltk_data]    | Downloading package propbank to\n",
      "[nltk_data]    |     C:\\Users\\piotr\\AppData\\Roaming\\nltk_data...\n",
      "[nltk_data]    |   Package propbank is already up-to-date!\n",
      "[nltk_data]    | Downloading package pros_cons to\n",
      "[nltk_data]    |     C:\\Users\\piotr\\AppData\\Roaming\\nltk_data...\n",
      "[nltk_data]    |   Package pros_cons is already up-to-date!\n",
      "[nltk_data]    | Downloading package ptb to\n",
      "[nltk_data]    |     C:\\Users\\piotr\\AppData\\Roaming\\nltk_data...\n",
      "[nltk_data]    |   Package ptb is already up-to-date!\n",
      "[nltk_data]    | Downloading package punkt to\n",
      "[nltk_data]    |     C:\\Users\\piotr\\AppData\\Roaming\\nltk_data...\n",
      "[nltk_data]    |   Package punkt is already up-to-date!\n",
      "[nltk_data]    | Downloading package punkt_tab to\n",
      "[nltk_data]    |     C:\\Users\\piotr\\AppData\\Roaming\\nltk_data...\n",
      "[nltk_data]    |   Package punkt_tab is already up-to-date!\n",
      "[nltk_data]    | Downloading package qc to\n",
      "[nltk_data]    |     C:\\Users\\piotr\\AppData\\Roaming\\nltk_data...\n",
      "[nltk_data]    |   Package qc is already up-to-date!\n",
      "[nltk_data]    | Downloading package reuters to\n",
      "[nltk_data]    |     C:\\Users\\piotr\\AppData\\Roaming\\nltk_data...\n",
      "[nltk_data]    |   Package reuters is already up-to-date!\n",
      "[nltk_data]    | Downloading package rslp to\n",
      "[nltk_data]    |     C:\\Users\\piotr\\AppData\\Roaming\\nltk_data...\n",
      "[nltk_data]    |   Package rslp is already up-to-date!\n",
      "[nltk_data]    | Downloading package rte to\n",
      "[nltk_data]    |     C:\\Users\\piotr\\AppData\\Roaming\\nltk_data...\n",
      "[nltk_data]    |   Package rte is already up-to-date!\n",
      "[nltk_data]    | Downloading package sample_grammars to\n",
      "[nltk_data]    |     C:\\Users\\piotr\\AppData\\Roaming\\nltk_data...\n",
      "[nltk_data]    |   Package sample_grammars is already up-to-date!\n",
      "[nltk_data]    | Downloading package semcor to\n",
      "[nltk_data]    |     C:\\Users\\piotr\\AppData\\Roaming\\nltk_data...\n",
      "[nltk_data]    |   Package semcor is already up-to-date!\n",
      "[nltk_data]    | Downloading package senseval to\n",
      "[nltk_data]    |     C:\\Users\\piotr\\AppData\\Roaming\\nltk_data...\n",
      "[nltk_data]    |   Package senseval is already up-to-date!\n",
      "[nltk_data]    | Downloading package sentence_polarity to\n",
      "[nltk_data]    |     C:\\Users\\piotr\\AppData\\Roaming\\nltk_data...\n",
      "[nltk_data]    |   Package sentence_polarity is already up-to-date!\n",
      "[nltk_data]    | Downloading package sentiwordnet to\n",
      "[nltk_data]    |     C:\\Users\\piotr\\AppData\\Roaming\\nltk_data...\n",
      "[nltk_data]    |   Package sentiwordnet is already up-to-date!\n",
      "[nltk_data]    | Downloading package shakespeare to\n",
      "[nltk_data]    |     C:\\Users\\piotr\\AppData\\Roaming\\nltk_data...\n",
      "[nltk_data]    |   Package shakespeare is already up-to-date!\n",
      "[nltk_data]    | Downloading package sinica_treebank to\n",
      "[nltk_data]    |     C:\\Users\\piotr\\AppData\\Roaming\\nltk_data...\n",
      "[nltk_data]    |   Package sinica_treebank is already up-to-date!\n",
      "[nltk_data]    | Downloading package smultron to\n",
      "[nltk_data]    |     C:\\Users\\piotr\\AppData\\Roaming\\nltk_data...\n",
      "[nltk_data]    |   Package smultron is already up-to-date!\n",
      "[nltk_data]    | Downloading package snowball_data to\n",
      "[nltk_data]    |     C:\\Users\\piotr\\AppData\\Roaming\\nltk_data...\n",
      "[nltk_data]    |   Package snowball_data is already up-to-date!\n",
      "[nltk_data]    | Downloading package spanish_grammars to\n",
      "[nltk_data]    |     C:\\Users\\piotr\\AppData\\Roaming\\nltk_data...\n",
      "[nltk_data]    |   Package spanish_grammars is already up-to-date!\n",
      "[nltk_data]    | Downloading package state_union to\n",
      "[nltk_data]    |     C:\\Users\\piotr\\AppData\\Roaming\\nltk_data...\n",
      "[nltk_data]    |   Package state_union is already up-to-date!\n",
      "[nltk_data]    | Downloading package stopwords to\n",
      "[nltk_data]    |     C:\\Users\\piotr\\AppData\\Roaming\\nltk_data...\n",
      "[nltk_data]    |   Package stopwords is already up-to-date!\n",
      "[nltk_data]    | Downloading package subjectivity to\n",
      "[nltk_data]    |     C:\\Users\\piotr\\AppData\\Roaming\\nltk_data...\n",
      "[nltk_data]    |   Package subjectivity is already up-to-date!\n",
      "[nltk_data]    | Downloading package swadesh to\n",
      "[nltk_data]    |     C:\\Users\\piotr\\AppData\\Roaming\\nltk_data...\n",
      "[nltk_data]    |   Package swadesh is already up-to-date!\n",
      "[nltk_data]    | Downloading package switchboard to\n",
      "[nltk_data]    |     C:\\Users\\piotr\\AppData\\Roaming\\nltk_data...\n",
      "[nltk_data]    |   Package switchboard is already up-to-date!\n",
      "[nltk_data]    | Downloading package tagsets to\n",
      "[nltk_data]    |     C:\\Users\\piotr\\AppData\\Roaming\\nltk_data...\n",
      "[nltk_data]    |   Package tagsets is already up-to-date!\n",
      "[nltk_data]    | Downloading package tagsets_json to\n",
      "[nltk_data]    |     C:\\Users\\piotr\\AppData\\Roaming\\nltk_data...\n",
      "[nltk_data]    |   Package tagsets_json is already up-to-date!\n",
      "[nltk_data]    | Downloading package timit to\n",
      "[nltk_data]    |     C:\\Users\\piotr\\AppData\\Roaming\\nltk_data...\n",
      "[nltk_data]    |   Package timit is already up-to-date!\n",
      "[nltk_data]    | Downloading package toolbox to\n",
      "[nltk_data]    |     C:\\Users\\piotr\\AppData\\Roaming\\nltk_data...\n",
      "[nltk_data]    |   Package toolbox is already up-to-date!\n",
      "[nltk_data]    | Downloading package treebank to\n",
      "[nltk_data]    |     C:\\Users\\piotr\\AppData\\Roaming\\nltk_data...\n",
      "[nltk_data]    |   Package treebank is already up-to-date!\n",
      "[nltk_data]    | Downloading package twitter_samples to\n",
      "[nltk_data]    |     C:\\Users\\piotr\\AppData\\Roaming\\nltk_data...\n",
      "[nltk_data]    |   Package twitter_samples is already up-to-date!\n",
      "[nltk_data]    | Downloading package udhr to\n",
      "[nltk_data]    |     C:\\Users\\piotr\\AppData\\Roaming\\nltk_data...\n",
      "[nltk_data]    |   Package udhr is already up-to-date!\n",
      "[nltk_data]    | Downloading package udhr2 to\n",
      "[nltk_data]    |     C:\\Users\\piotr\\AppData\\Roaming\\nltk_data...\n",
      "[nltk_data]    |   Package udhr2 is already up-to-date!\n",
      "[nltk_data]    | Downloading package unicode_samples to\n",
      "[nltk_data]    |     C:\\Users\\piotr\\AppData\\Roaming\\nltk_data...\n",
      "[nltk_data]    |   Package unicode_samples is already up-to-date!\n",
      "[nltk_data]    | Downloading package universal_tagset to\n",
      "[nltk_data]    |     C:\\Users\\piotr\\AppData\\Roaming\\nltk_data...\n",
      "[nltk_data]    |   Package universal_tagset is already up-to-date!\n",
      "[nltk_data]    | Downloading package universal_treebanks_v20 to\n",
      "[nltk_data]    |     C:\\Users\\piotr\\AppData\\Roaming\\nltk_data...\n",
      "[nltk_data]    |   Package universal_treebanks_v20 is already up-to-\n",
      "[nltk_data]    |       date!\n",
      "[nltk_data]    | Downloading package vader_lexicon to\n",
      "[nltk_data]    |     C:\\Users\\piotr\\AppData\\Roaming\\nltk_data...\n",
      "[nltk_data]    |   Package vader_lexicon is already up-to-date!\n",
      "[nltk_data]    | Downloading package verbnet to\n",
      "[nltk_data]    |     C:\\Users\\piotr\\AppData\\Roaming\\nltk_data...\n",
      "[nltk_data]    |   Package verbnet is already up-to-date!\n",
      "[nltk_data]    | Downloading package verbnet3 to\n",
      "[nltk_data]    |     C:\\Users\\piotr\\AppData\\Roaming\\nltk_data...\n",
      "[nltk_data]    |   Package verbnet3 is already up-to-date!\n",
      "[nltk_data]    | Downloading package webtext to\n",
      "[nltk_data]    |     C:\\Users\\piotr\\AppData\\Roaming\\nltk_data...\n",
      "[nltk_data]    |   Package webtext is already up-to-date!\n",
      "[nltk_data]    | Downloading package wmt15_eval to\n",
      "[nltk_data]    |     C:\\Users\\piotr\\AppData\\Roaming\\nltk_data...\n",
      "[nltk_data]    |   Package wmt15_eval is already up-to-date!\n",
      "[nltk_data]    | Downloading package word2vec_sample to\n",
      "[nltk_data]    |     C:\\Users\\piotr\\AppData\\Roaming\\nltk_data...\n",
      "[nltk_data]    |   Package word2vec_sample is already up-to-date!\n",
      "[nltk_data]    | Downloading package wordnet to\n",
      "[nltk_data]    |     C:\\Users\\piotr\\AppData\\Roaming\\nltk_data...\n",
      "[nltk_data]    |   Package wordnet is already up-to-date!\n",
      "[nltk_data]    | Downloading package wordnet2021 to\n",
      "[nltk_data]    |     C:\\Users\\piotr\\AppData\\Roaming\\nltk_data...\n",
      "[nltk_data]    |   Package wordnet2021 is already up-to-date!\n",
      "[nltk_data]    | Downloading package wordnet2022 to\n",
      "[nltk_data]    |     C:\\Users\\piotr\\AppData\\Roaming\\nltk_data...\n",
      "[nltk_data]    |   Package wordnet2022 is already up-to-date!\n",
      "[nltk_data]    | Downloading package wordnet31 to\n",
      "[nltk_data]    |     C:\\Users\\piotr\\AppData\\Roaming\\nltk_data...\n",
      "[nltk_data]    |   Package wordnet31 is already up-to-date!\n",
      "[nltk_data]    | Downloading package wordnet_ic to\n",
      "[nltk_data]    |     C:\\Users\\piotr\\AppData\\Roaming\\nltk_data...\n",
      "[nltk_data]    |   Package wordnet_ic is already up-to-date!\n",
      "[nltk_data]    | Downloading package words to\n",
      "[nltk_data]    |     C:\\Users\\piotr\\AppData\\Roaming\\nltk_data...\n",
      "[nltk_data]    |   Package words is already up-to-date!\n",
      "[nltk_data]    | Downloading package ycoe to\n",
      "[nltk_data]    |     C:\\Users\\piotr\\AppData\\Roaming\\nltk_data...\n",
      "[nltk_data]    |   Package ycoe is already up-to-date!\n",
      "[nltk_data]    | \n",
      "[nltk_data]  Done downloading collection all\n"
     ]
    },
    {
     "data": {
      "text/plain": [
       "True"
      ]
     },
     "execution_count": 17,
     "metadata": {},
     "output_type": "execute_result"
    }
   ],
   "source": [
    "%load_ext autoreload\n",
    "%autoreload 2\n",
    "\n",
    "from src import *\n",
    "import nltk\n",
    "nltk.download('all')"
   ]
  },
  {
   "cell_type": "code",
   "execution_count": 2,
   "metadata": {},
   "outputs": [],
   "source": [
    "settings = Settings()"
   ]
  },
  {
   "cell_type": "markdown",
   "metadata": {},
   "source": [
    "Original texts are cleaned if they weren't cleaned before.\n",
    "#### Generated texts\n",
    "\n",
    "- Discard to small text\n",
    "- Discard texts with repeated substrings at the end of the response\n",
    "- Remove emoji codes\n",
    "- Remove `@` characters\n",
    "- Remove html tags\n",
    "\n",
    "#### Books\n",
    "\n",
    "- Remove italic formatting \n",
    "- Remove dividers\n",
    "- Remove illustration annotations\n",
    "- Remove note annotations"
   ]
  },
  {
   "cell_type": "code",
   "execution_count": 3,
   "metadata": {},
   "outputs": [],
   "source": [
    "cleaner = Cleaner(settings)\n",
    "if not cleaner.cleaned_generated_corpus_exists():\n",
    "    print(\"Cleaning generated corpus...\")\n",
    "    cleaner.clean_generated_corpus()    \n",
    "if not cleaner.cleaned_books_corpus_exists():\n",
    "    print(\"Cleaning books corpus...\")\n",
    "    cleaner.clean_books_corpus()"
   ]
  },
  {
   "cell_type": "markdown",
   "metadata": {},
   "source": [
    "Read collections of books and generated text into memory from files"
   ]
  },
  {
   "cell_type": "code",
   "execution_count": 4,
   "metadata": {},
   "outputs": [
    {
     "name": "stdout",
     "output_type": "stream",
     "text": [
      "Reading authors' collections...\n"
     ]
    }
   ],
   "source": [
    "print(\"Reading authors' collections...\")\n",
    "authors = []\n",
    "for author_name in FileUtils.read_authors(settings.paths.selected_authors_filepath):\n",
    "    author = Author(\n",
    "        settings=settings,\n",
    "        name=author_name\n",
    "    )\n",
    "    author.read_selected_books_collection()\n",
    "    author.read_generated_texts()\n",
    "    authors.append(author)"
   ]
  },
  {
   "cell_type": "code",
   "execution_count": 5,
   "metadata": {},
   "outputs": [
    {
     "name": "stdout",
     "output_type": "stream",
     "text": [
      "Text removed while cleaning: 0.9765146365788469%.\n"
     ]
    }
   ],
   "source": [
    "print(f\"Text removed while cleaning: {MetadataAnalysis.get_percentage_of_removed_text(authors)}%.\")"
   ]
  },
  {
   "cell_type": "code",
   "execution_count": 6,
   "metadata": {},
   "outputs": [
    {
     "name": "stdout",
     "output_type": "stream",
     "text": [
      "Preprocessing collections...\n"
     ]
    }
   ],
   "source": [
    "print(\"Preprocessing collections...\")\n",
    "preprocessing_results = Preprocessing(settings).preprocess(authors)"
   ]
  },
  {
   "cell_type": "code",
   "execution_count": 7,
   "metadata": {},
   "outputs": [
    {
     "name": "stdout",
     "output_type": "stream",
     "text": [
      "Analysing collections' metrics using sample of 200000 words per auhtor-collection pair...\n"
     ]
    }
   ],
   "source": [
    "print(f\"Analysing collections' metrics using sample of {settings.configuration.analysis_number_of_words} words per auhtor-collection pair...\")\n",
    "metrics_analysis_results = MetricsAnalysis(settings).analyze(preprocessing_results)"
   ]
  },
  {
   "cell_type": "code",
   "execution_count": 8,
   "metadata": {},
   "outputs": [
    {
     "name": "stdout",
     "output_type": "stream",
     "text": [
      "Performing pca analysises for given metrics data...\n"
     ]
    }
   ],
   "source": [
    "print(f\"Performing pca analysises for given metrics data...\")\n",
    "pca_analysis_results = PCAAnalysis(settings).get_pca_analysis(metrics_analysis_results=metrics_analysis_results)"
   ]
  },
  {
   "cell_type": "code",
   "execution_count": 9,
   "metadata": {},
   "outputs": [
    {
     "data": {
      "application/vnd.plotly.v1+json": {
       "config": {
        "plotlyServerURL": "https://plot.ly"
       },
       "data": [
        {
         "marker": {
          "color": "#3498db"
         },
         "name": "books",
         "showlegend": true,
         "type": "bar",
         "x": [
          "Mark Twain",
          "Zane Grey",
          "Joseph Conrad",
          "Benjamin Disraeli",
          "George Eliot",
          "William Henry Hudson",
          "Lucy Maud Montgomery",
          "Howard Pyle",
          "Virginia Woolf",
          "Lewis Carroll"
         ],
         "xaxis": "x",
         "y": [
          16356,
          13548,
          14750,
          14681,
          14519,
          13708,
          12159,
          11566,
          12896,
          12945
         ],
         "yaxis": "y"
        },
        {
         "marker": {
          "color": "#3498db"
         },
         "name": "books",
         "showlegend": false,
         "type": "bar",
         "x": [
          "Mark Twain",
          "Zane Grey",
          "Joseph Conrad",
          "Benjamin Disraeli",
          "George Eliot",
          "William Henry Hudson",
          "Lucy Maud Montgomery",
          "Howard Pyle",
          "Virginia Woolf",
          "Lewis Carroll"
         ],
         "xaxis": "x2",
         "y": [
          4.2375493153864,
          4.208034130269494,
          4.331144744758778,
          4.5046206428409805,
          4.338288552409202,
          4.285545199839899,
          4.11761539417099,
          4.1456328235280395,
          4.362501923919349,
          4.146199565233781
         ],
         "yaxis": "y2"
        },
        {
         "marker": {
          "color": "#3498db"
         },
         "name": "books",
         "showlegend": false,
         "type": "bar",
         "x": [
          "Mark Twain",
          "Zane Grey",
          "Joseph Conrad",
          "Benjamin Disraeli",
          "George Eliot",
          "William Henry Hudson",
          "Lucy Maud Montgomery",
          "Howard Pyle",
          "Virginia Woolf",
          "Lewis Carroll"
         ],
         "xaxis": "x3",
         "y": [
          19.55969133000454,
          11.94363963963964,
          15.633881278538812,
          17.062074570760945,
          24.350223964165732,
          27.45956979117601,
          13.659583063994829,
          21.747811746796906,
          17.723848494386736,
          16.338123588585507
         ],
         "yaxis": "y3"
        },
        {
         "marker": {
          "color": "#3498db"
         },
         "name": "books",
         "showlegend": false,
         "type": "bar",
         "x": [
          "Mark Twain",
          "Zane Grey",
          "Joseph Conrad",
          "Benjamin Disraeli",
          "George Eliot",
          "William Henry Hudson",
          "Lucy Maud Montgomery",
          "Howard Pyle",
          "Virginia Woolf",
          "Lewis Carroll"
         ],
         "xaxis": "x4",
         "y": [
          1.3717161754467393,
          1.319313532627717,
          1.3988060119982944,
          1.4498695978373486,
          1.403252509226365,
          1.372028131968666,
          1.3303973357152574,
          1.290536520491373,
          1.3869209002758605,
          1.32830504002111
         ],
         "yaxis": "y4"
        },
        {
         "marker": {
          "color": "#3498db"
         },
         "name": "books",
         "showlegend": false,
         "type": "bar",
         "x": [
          "Mark Twain",
          "Zane Grey",
          "Joseph Conrad",
          "Benjamin Disraeli",
          "George Eliot",
          "William Henry Hudson",
          "Lucy Maud Montgomery",
          "Howard Pyle",
          "Virginia Woolf",
          "Lewis Carroll"
         ],
         "xaxis": "x5",
         "y": [
          70.93472485725125,
          83.09828090546094,
          72.62762188722742,
          66.85802633363798,
          63.404360395821314,
          62.88995669740723,
          80.4189085885345,
          75.581581443431,
          71.51178561485968,
          77.87719817179983
         ],
         "yaxis": "y5"
        },
        {
         "marker": {
          "color": "#3498db"
         },
         "name": "books",
         "showlegend": false,
         "type": "bar",
         "x": [
          "Mark Twain",
          "Zane Grey",
          "Joseph Conrad",
          "Benjamin Disraeli",
          "George Eliot",
          "William Henry Hudson",
          "Lucy Maud Montgomery",
          "Howard Pyle",
          "Virginia Woolf",
          "Lewis Carroll"
         ],
         "xaxis": "x6",
         "y": [
          8.224530488973297,
          4.6359191444665235,
          7.0131246402100125,
          8.172670337077484,
          10.464966954895743,
          11.309164175788904,
          5.43592595639802,
          8.119977523048995,
          7.687967536065983,
          6.455867671797446
         ],
         "yaxis": "y6"
        },
        {
         "marker": {
          "color": "#3498db"
         },
         "name": "books",
         "showlegend": false,
         "type": "bar",
         "x": [
          "Mark Twain",
          "Zane Grey",
          "Joseph Conrad",
          "Benjamin Disraeli",
          "George Eliot",
          "William Henry Hudson",
          "Lucy Maud Montgomery",
          "Howard Pyle",
          "Virginia Woolf",
          "Lewis Carroll"
         ],
         "xaxis": "x7",
         "y": [
          11.129051746668793,
          7.203022179369295,
          9.81588931650458,
          11.057481577122424,
          13.297959876196192,
          14.138267850142999,
          8.023534144255615,
          10.515291476212667,
          10.223456023969725,
          9.050359446366185
         ],
         "yaxis": "y7"
        },
        {
         "marker": {
          "color": "#3498db"
         },
         "name": "books",
         "showlegend": false,
         "type": "bar",
         "x": [
          "Mark Twain",
          "Zane Grey",
          "Joseph Conrad",
          "Benjamin Disraeli",
          "George Eliot",
          "William Henry Hudson",
          "Lucy Maud Montgomery",
          "Howard Pyle",
          "Virginia Woolf",
          "Lewis Carroll"
         ],
         "xaxis": "x8",
         "y": [
          86.64398099628133,
          69.32214024091311,
          84.82595045022245,
          82.71811422588755,
          75.91806296336175,
          84.62569774946655,
          65.46304934036972,
          92.63510957383083,
          77.28852178742548,
          72.20360896298952
         ],
         "yaxis": "y8"
        },
        {
         "marker": {
          "color": "#3498db"
         },
         "name": "books",
         "showlegend": false,
         "type": "bar",
         "x": [
          "Mark Twain",
          "Zane Grey",
          "Joseph Conrad",
          "Benjamin Disraeli",
          "George Eliot",
          "William Henry Hudson",
          "Lucy Maud Montgomery",
          "Howard Pyle",
          "Virginia Woolf",
          "Lewis Carroll"
         ],
         "xaxis": "x9",
         "y": [
          0.09489440705500116,
          0.08175334001134457,
          0.08616107155165867,
          0.08741708446963833,
          0.08346267489853873,
          0.07838069643776088,
          0.07192504037243198,
          0.06746462277908048,
          0.07634111978025881,
          0.08133018358192076
         ],
         "yaxis": "y9"
        },
        {
         "marker": {
          "color": "#3498db"
         },
         "name": "books",
         "showlegend": false,
         "type": "bar",
         "x": [
          "Mark Twain",
          "Zane Grey",
          "Joseph Conrad",
          "Benjamin Disraeli",
          "George Eliot",
          "William Henry Hudson",
          "Lucy Maud Montgomery",
          "Howard Pyle",
          "Virginia Woolf",
          "Lewis Carroll"
         ],
         "xaxis": "x10",
         "y": [
          0.09765795750435005,
          0.10417871901268531,
          0.10171900146404161,
          0.10127956079274794,
          0.10290231296612554,
          0.10545874998085358,
          0.10932632037710775,
          0.1118551725365585,
          0.10685791288528587,
          0.10474621375955775
         ],
         "yaxis": "y10"
        },
        {
         "marker": {
          "color": "#3498db"
         },
         "name": "books",
         "showlegend": false,
         "type": "bar",
         "x": [
          "Mark Twain",
          "Zane Grey",
          "Joseph Conrad",
          "Benjamin Disraeli",
          "George Eliot",
          "William Henry Hudson",
          "Lucy Maud Montgomery",
          "Howard Pyle",
          "Virginia Woolf",
          "Lewis Carroll"
         ],
         "xaxis": "x11",
         "y": [
          0.9912744622574274,
          0.9929939743431954,
          0.9914496083448082,
          0.9916600733264066,
          0.9923393184367721,
          0.9914644801229232,
          0.9933714514604034,
          0.9906500287279014,
          0.9921936043969398,
          0.9927023892002634
         ],
         "yaxis": "y11"
        },
        {
         "marker": {
          "color": "#e74c3c"
         },
         "name": "gpt-3.5-turbo-0125",
         "showlegend": true,
         "type": "bar",
         "x": [
          "Mark Twain",
          "Zane Grey",
          "Joseph Conrad",
          "Benjamin Disraeli",
          "George Eliot",
          "William Henry Hudson",
          "Lucy Maud Montgomery",
          "Howard Pyle",
          "Virginia Woolf",
          "Lewis Carroll"
         ],
         "xaxis": "x",
         "y": [
          12139,
          11762,
          11861,
          12414,
          12079,
          12080,
          11388,
          12068,
          11825,
          11635
         ],
         "yaxis": "y"
        },
        {
         "marker": {
          "color": "#e74c3c"
         },
         "name": "gpt-3.5-turbo-0125",
         "showlegend": false,
         "type": "bar",
         "x": [
          "Mark Twain",
          "Zane Grey",
          "Joseph Conrad",
          "Benjamin Disraeli",
          "George Eliot",
          "William Henry Hudson",
          "Lucy Maud Montgomery",
          "Howard Pyle",
          "Virginia Woolf",
          "Lewis Carroll"
         ],
         "xaxis": "x2",
         "y": [
          4.48124448739052,
          4.598071387772016,
          4.7149269543883126,
          4.7537606751956885,
          4.756330328292799,
          4.7938580186978115,
          4.639554957681744,
          4.656572063677392,
          4.709942028501262,
          4.636583314644539
         ],
         "yaxis": "y2"
        },
        {
         "marker": {
          "color": "#e74c3c"
         },
         "name": "gpt-3.5-turbo-0125",
         "showlegend": false,
         "type": "bar",
         "x": [
          "Mark Twain",
          "Zane Grey",
          "Joseph Conrad",
          "Benjamin Disraeli",
          "George Eliot",
          "William Henry Hudson",
          "Lucy Maud Montgomery",
          "Howard Pyle",
          "Virginia Woolf",
          "Lewis Carroll"
         ],
         "xaxis": "x3",
         "y": [
          21.13524103538352,
          22.713558890867464,
          23.224553224553226,
          23.437108559498956,
          23.690250329380763,
          23.837455363047216,
          21.83186490455213,
          21.988151073808936,
          23.36946902654867,
          22.107089737233515
         ],
         "yaxis": "y3"
        },
        {
         "marker": {
          "color": "#e74c3c"
         },
         "name": "gpt-3.5-turbo-0125",
         "showlegend": false,
         "type": "bar",
         "x": [
          "Mark Twain",
          "Zane Grey",
          "Joseph Conrad",
          "Benjamin Disraeli",
          "George Eliot",
          "William Henry Hudson",
          "Lucy Maud Montgomery",
          "Howard Pyle",
          "Virginia Woolf",
          "Lewis Carroll"
         ],
         "xaxis": "x4",
         "y": [
          1.4466098505064577,
          1.4798010908642916,
          1.5382959741273559,
          1.5608500072374207,
          1.551596416197187,
          1.5644908036729825,
          1.4893447676699736,
          1.4980241147809685,
          1.5394412238056256,
          1.4891006952231443
         ],
         "yaxis": "y4"
        },
        {
         "marker": {
          "color": "#e74c3c"
         },
         "name": "gpt-3.5-turbo-0125",
         "showlegend": false,
         "type": "bar",
         "x": [
          "Mark Twain",
          "Zane Grey",
          "Joseph Conrad",
          "Benjamin Disraeli",
          "George Eliot",
          "William Henry Hudson",
          "Lucy Maud Montgomery",
          "Howard Pyle",
          "Virginia Woolf",
          "Lewis Carroll"
         ],
         "xaxis": "x5",
         "y": [
          62.999536996239414,
          58.58956543865048,
          53.12223906590418,
          50.99842419982278,
          51.524339105396535,
          50.28406081577276,
          58.677089776999836,
          57.784186549614006,
          52.878261404097174,
          58.41838510083001
         ],
         "yaxis": "y5"
        },
        {
         "marker": {
          "color": "#e74c3c"
         },
         "name": "gpt-3.5-turbo-0125",
         "showlegend": false,
         "type": "bar",
         "x": [
          "Mark Twain",
          "Zane Grey",
          "Joseph Conrad",
          "Benjamin Disraeli",
          "George Eliot",
          "William Henry Hudson",
          "Lucy Maud Montgomery",
          "Howard Pyle",
          "Virginia Woolf",
          "Lewis Carroll"
         ],
         "xaxis": "x6",
         "y": [
          9.722740239775774,
          10.729940839636953,
          11.619468252278558,
          11.968502423606157,
          11.958035339585305,
          12.167599074929608,
          10.498695571281022,
          10.662063473200917,
          11.689499361260367,
          10.603153201154175
         ],
         "yaxis": "y6"
        },
        {
         "marker": {
          "color": "#e74c3c"
         },
         "name": "gpt-3.5-turbo-0125",
         "showlegend": false,
         "type": "bar",
         "x": [
          "Mark Twain",
          "Zane Grey",
          "Joseph Conrad",
          "Benjamin Disraeli",
          "George Eliot",
          "William Henry Hudson",
          "Lucy Maud Montgomery",
          "Howard Pyle",
          "Virginia Woolf",
          "Lewis Carroll"
         ],
         "xaxis": "x7",
         "y": [
          12.523961190193994,
          13.50577590327319,
          14.624938943440117,
          15.043859468604786,
          14.988393732183875,
          15.247080239373743,
          13.29504628130967,
          13.491580343303127,
          14.698762990831197,
          13.451716809896773
         ],
         "yaxis": "y7"
        },
        {
         "marker": {
          "color": "#e74c3c"
         },
         "name": "gpt-3.5-turbo-0125",
         "showlegend": false,
         "type": "bar",
         "x": [
          "Mark Twain",
          "Zane Grey",
          "Joseph Conrad",
          "Benjamin Disraeli",
          "George Eliot",
          "William Henry Hudson",
          "Lucy Maud Montgomery",
          "Howard Pyle",
          "Virginia Woolf",
          "Lewis Carroll"
         ],
         "xaxis": "x8",
         "y": [
          104.11323871749899,
          125.0106623242195,
          129.578063632599,
          119.12053146823696,
          126.06884280926273,
          127.7673587843467,
          111.0592939564645,
          117.81523593303007,
          134.54106738336543,
          119.05980541234626
         ],
         "yaxis": "y8"
        },
        {
         "marker": {
          "color": "#e74c3c"
         },
         "name": "gpt-3.5-turbo-0125",
         "showlegend": false,
         "type": "bar",
         "x": [
          "Mark Twain",
          "Zane Grey",
          "Joseph Conrad",
          "Benjamin Disraeli",
          "George Eliot",
          "William Henry Hudson",
          "Lucy Maud Montgomery",
          "Howard Pyle",
          "Virginia Woolf",
          "Lewis Carroll"
         ],
         "xaxis": "x9",
         "y": [
          0.06819624608850512,
          0.06586625152597803,
          0.06613694658191145,
          0.06911180144971106,
          0.06717683764438932,
          0.06702360806724554,
          0.06383050277450815,
          0.0677414284752004,
          0.06585139025789243,
          0.0652332361516035
         ],
         "yaxis": "y9"
        },
        {
         "marker": {
          "color": "#e74c3c"
         },
         "name": "gpt-3.5-turbo-0125",
         "showlegend": false,
         "type": "bar",
         "x": [
          "Mark Twain",
          "Zane Grey",
          "Joseph Conrad",
          "Benjamin Disraeli",
          "George Eliot",
          "William Henry Hudson",
          "Lucy Maud Montgomery",
          "Howard Pyle",
          "Virginia Woolf",
          "Lewis Carroll"
         ],
         "xaxis": "x10",
         "y": [
          0.11106149491646558,
          0.11246933925638747,
          0.1122600249668816,
          0.11042713965000923,
          0.11159110664958581,
          0.11166363423263047,
          0.11377607564513861,
          0.11133064399850595,
          0.11242690721589704,
          0.11287982486756461
         ],
         "yaxis": "y10"
        },
        {
         "marker": {
          "color": "#e74c3c"
         },
         "name": "gpt-3.5-turbo-0125",
         "showlegend": false,
         "type": "bar",
         "x": [
          "Mark Twain",
          "Zane Grey",
          "Joseph Conrad",
          "Benjamin Disraeli",
          "George Eliot",
          "William Henry Hudson",
          "Lucy Maud Montgomery",
          "Howard Pyle",
          "Virginia Woolf",
          "Lewis Carroll"
         ],
         "xaxis": "x11",
         "y": [
          0.989506297019592,
          0.9874139142130806,
          0.9869578837134622,
          0.988007392640191,
          0.9873103274087831,
          0.9871404826646117,
          0.9888062588727062,
          0.9881356126347381,
          0.9864613266654689,
          0.9880080718867843
         ],
         "yaxis": "y11"
        },
        {
         "marker": {
          "color": "#2ecc71"
         },
         "name": "gpt-4o",
         "showlegend": true,
         "type": "bar",
         "x": [
          "Mark Twain",
          "Zane Grey",
          "Joseph Conrad",
          "Benjamin Disraeli",
          "George Eliot",
          "William Henry Hudson",
          "Lucy Maud Montgomery",
          "Howard Pyle",
          "Virginia Woolf",
          "Lewis Carroll"
         ],
         "xaxis": "x",
         "y": [
          14806,
          12358,
          13014,
          14126,
          13825,
          13286,
          12492,
          12851,
          12746,
          13373
         ],
         "yaxis": "y"
        },
        {
         "marker": {
          "color": "#2ecc71"
         },
         "name": "gpt-4o",
         "showlegend": false,
         "type": "bar",
         "x": [
          "Mark Twain",
          "Zane Grey",
          "Joseph Conrad",
          "Benjamin Disraeli",
          "George Eliot",
          "William Henry Hudson",
          "Lucy Maud Montgomery",
          "Howard Pyle",
          "Virginia Woolf",
          "Lewis Carroll"
         ],
         "xaxis": "x2",
         "y": [
          4.434274291956721,
          4.588808263813464,
          4.6734582227162,
          4.857720828414574,
          4.775211595003423,
          4.712567060394649,
          4.652181938796112,
          4.568240417616012,
          4.638613201698735,
          4.658824836555443
         ],
         "yaxis": "y2"
        },
        {
         "marker": {
          "color": "#2ecc71"
         },
         "name": "gpt-4o",
         "showlegend": false,
         "type": "bar",
         "x": [
          "Mark Twain",
          "Zane Grey",
          "Joseph Conrad",
          "Benjamin Disraeli",
          "George Eliot",
          "William Henry Hudson",
          "Lucy Maud Montgomery",
          "Howard Pyle",
          "Virginia Woolf",
          "Lewis Carroll"
         ],
         "xaxis": "x3",
         "y": [
          18.865818899364175,
          19.230307743584046,
          20.87605193556143,
          21.345810397553517,
          20.995288717081422,
          20.440522414401695,
          19.98328530259366,
          20.417500883288188,
          20.787546669878356,
          18.597716150081567
         ],
         "yaxis": "y3"
        },
        {
         "marker": {
          "color": "#2ecc71"
         },
         "name": "gpt-4o",
         "showlegend": false,
         "type": "bar",
         "x": [
          "Mark Twain",
          "Zane Grey",
          "Joseph Conrad",
          "Benjamin Disraeli",
          "George Eliot",
          "William Henry Hudson",
          "Lucy Maud Montgomery",
          "Howard Pyle",
          "Virginia Woolf",
          "Lewis Carroll"
         ],
         "xaxis": "x4",
         "y": [
          1.428190407567957,
          1.4651688119612691,
          1.5233260580372825,
          1.6026234656336318,
          1.5553714348183822,
          1.5290057792820797,
          1.489896455250786,
          1.450696507368846,
          1.507876638914478,
          1.4893687940774007
         ],
         "yaxis": "y4"
        },
        {
         "marker": {
          "color": "#2ecc71"
         },
         "name": "gpt-4o",
         "showlegend": false,
         "type": "bar",
         "x": [
          "Mark Twain",
          "Zane Grey",
          "Joseph Conrad",
          "Benjamin Disraeli",
          "George Eliot",
          "William Henry Hudson",
          "Lucy Maud Montgomery",
          "Howard Pyle",
          "Virginia Woolf",
          "Lewis Carroll"
         ],
         "xaxis": "x5",
         "y": [
          66.86128533689623,
          63.36295614833885,
          56.772422775451076,
          49.58705725387796,
          53.94035856652724,
          56.733980822118355,
          60.50672530365095,
          63.38231208005813,
          58.16927647790865,
          61.95771812871914
         ],
         "yaxis": "y5"
        },
        {
         "marker": {
          "color": "#2ecc71"
         },
         "name": "gpt-4o",
         "showlegend": false,
         "type": "bar",
         "x": [
          "Mark Twain",
          "Zane Grey",
          "Joseph Conrad",
          "Benjamin Disraeli",
          "George Eliot",
          "William Henry Hudson",
          "Lucy Maud Montgomery",
          "Howard Pyle",
          "Virginia Woolf",
          "Lewis Carroll"
         ],
         "xaxis": "x6",
         "y": [
          8.620316180053923,
          9.198812001140755,
          10.526907739708893,
          11.645822949522728,
          10.951545530518668,
          10.424071937145204,
          9.784259439970807,
          9.491044131434776,
          10.310087540443401,
          9.237661068645142
         ],
         "yaxis": "y6"
        },
        {
         "marker": {
          "color": "#2ecc71"
         },
         "name": "gpt-4o",
         "showlegend": false,
         "type": "bar",
         "x": [
          "Mark Twain",
          "Zane Grey",
          "Joseph Conrad",
          "Benjamin Disraeli",
          "George Eliot",
          "William Henry Hudson",
          "Lucy Maud Montgomery",
          "Howard Pyle",
          "Virginia Woolf",
          "Lewis Carroll"
         ],
         "xaxis": "x7",
         "y": [
          11.35935997226441,
          11.897978942879972,
          13.464704349523888,
          14.79292296018128,
          13.941530581280754,
          13.326677525084662,
          12.574203048383085,
          12.170807350113938,
          13.165104705529778,
          12.064421243607473
         ],
         "yaxis": "y7"
        },
        {
         "marker": {
          "color": "#2ecc71"
         },
         "name": "gpt-4o",
         "showlegend": false,
         "type": "bar",
         "x": [
          "Mark Twain",
          "Zane Grey",
          "Joseph Conrad",
          "Benjamin Disraeli",
          "George Eliot",
          "William Henry Hudson",
          "Lucy Maud Montgomery",
          "Howard Pyle",
          "Virginia Woolf",
          "Lewis Carroll"
         ],
         "xaxis": "x8",
         "y": [
          100.70733583113208,
          130.34279660857675,
          143.57653905318577,
          138.21164097438646,
          128.3816710579328,
          131.23577801754712,
          121.62595292246984,
          128.8447188596017,
          138.8838683151998,
          109.66952703999789
         ],
         "yaxis": "y8"
        },
        {
         "marker": {
          "color": "#2ecc71"
         },
         "name": "gpt-4o",
         "showlegend": false,
         "type": "bar",
         "x": [
          "Mark Twain",
          "Zane Grey",
          "Joseph Conrad",
          "Benjamin Disraeli",
          "George Eliot",
          "William Henry Hudson",
          "Lucy Maud Montgomery",
          "Howard Pyle",
          "Virginia Woolf",
          "Lewis Carroll"
         ],
         "xaxis": "x9",
         "y": [
          0.08603437656164654,
          0.07139555843135442,
          0.07494514733914205,
          0.08095036160044011,
          0.0795459122319461,
          0.0764776311850982,
          0.0720602232413256,
          0.07412684221151905,
          0.07384747304445564,
          0.07820193443504907
         ],
         "yaxis": "y9"
        },
        {
         "marker": {
          "color": "#2ecc71"
         },
         "name": "gpt-4o",
         "showlegend": false,
         "type": "bar",
         "x": [
          "Mark Twain",
          "Zane Grey",
          "Joseph Conrad",
          "Benjamin Disraeli",
          "George Eliot",
          "William Henry Hudson",
          "Lucy Maud Montgomery",
          "Howard Pyle",
          "Virginia Woolf",
          "Lewis Carroll"
         ],
         "xaxis": "x10",
         "y": [
          0.10173564280198429,
          0.1094184982983481,
          0.10737861977914236,
          0.10414181405062628,
          0.10490192893063302,
          0.10653582448766934,
          0.10902064041158978,
          0.10784814096738295,
          0.10804430878427645,
          0.10575005768262496
         ],
         "yaxis": "y10"
        },
        {
         "marker": {
          "color": "#2ecc71"
         },
         "name": "gpt-4o",
         "showlegend": false,
         "type": "bar",
         "x": [
          "Mark Twain",
          "Zane Grey",
          "Joseph Conrad",
          "Benjamin Disraeli",
          "George Eliot",
          "William Henry Hudson",
          "Lucy Maud Montgomery",
          "Howard Pyle",
          "Virginia Woolf",
          "Lewis Carroll"
         ],
         "xaxis": "x11",
         "y": [
          0.9898617262304759,
          0.9868848010965464,
          0.9855655057688785,
          0.9861080444541683,
          0.9870895001636462,
          0.9868011549996905,
          0.9877573534749641,
          0.9870377131580053,
          0.9860331571822882,
          0.9889582697591722
         ],
         "yaxis": "y11"
        },
        {
         "marker": {
          "color": "#f1c40f"
         },
         "name": "gemini-1.5-flash",
         "showlegend": true,
         "type": "bar",
         "x": [
          "Mark Twain",
          "Zane Grey",
          "Joseph Conrad",
          "Benjamin Disraeli",
          "George Eliot",
          "William Henry Hudson",
          "Lucy Maud Montgomery",
          "Howard Pyle",
          "Virginia Woolf",
          "Lewis Carroll"
         ],
         "xaxis": "x",
         "y": [
          11133,
          10053,
          9821,
          11091,
          11088,
          10279,
          10810,
          10947,
          9790,
          10909
         ],
         "yaxis": "y"
        },
        {
         "marker": {
          "color": "#f1c40f"
         },
         "name": "gemini-1.5-flash",
         "showlegend": false,
         "type": "bar",
         "x": [
          "Mark Twain",
          "Zane Grey",
          "Joseph Conrad",
          "Benjamin Disraeli",
          "George Eliot",
          "William Henry Hudson",
          "Lucy Maud Montgomery",
          "Howard Pyle",
          "Virginia Woolf",
          "Lewis Carroll"
         ],
         "xaxis": "x2",
         "y": [
          4.235150277764588,
          4.433016534305429,
          4.530860988189698,
          4.64457052613108,
          4.66397833774904,
          4.521145513367048,
          4.505300729849235,
          4.448205683228535,
          4.536265920505434,
          4.555693922211073
         ],
         "yaxis": "y2"
        },
        {
         "marker": {
          "color": "#f1c40f"
         },
         "name": "gemini-1.5-flash",
         "showlegend": false,
         "type": "bar",
         "x": [
          "Mark Twain",
          "Zane Grey",
          "Joseph Conrad",
          "Benjamin Disraeli",
          "George Eliot",
          "William Henry Hudson",
          "Lucy Maud Montgomery",
          "Howard Pyle",
          "Virginia Woolf",
          "Lewis Carroll"
         ],
         "xaxis": "x3",
         "y": [
          17.18563851489188,
          18.121394101876675,
          20.55860561156322,
          21.00565179997543,
          21.781873649421634,
          21.159273446188063,
          18.67554720318373,
          19.132230474904343,
          20.26165647848496,
          18.216275740557208
         ],
         "yaxis": "y3"
        },
        {
         "marker": {
          "color": "#f1c40f"
         },
         "name": "gemini-1.5-flash",
         "showlegend": false,
         "type": "bar",
         "x": [
          "Mark Twain",
          "Zane Grey",
          "Joseph Conrad",
          "Benjamin Disraeli",
          "George Eliot",
          "William Henry Hudson",
          "Lucy Maud Montgomery",
          "Howard Pyle",
          "Virginia Woolf",
          "Lewis Carroll"
         ],
         "xaxis": "x4",
         "y": [
          1.3701213142775746,
          1.418884851641003,
          1.4695584872887113,
          1.53722106863978,
          1.5394904235576978,
          1.4714789596010325,
          1.4497126181639526,
          1.4336652765441829,
          1.4815816094129897,
          1.4743444040091402
         ],
         "yaxis": "y4"
        },
        {
         "marker": {
          "color": "#f1c40f"
         },
         "name": "gemini-1.5-flash",
         "showlegend": false,
         "type": "bar",
         "x": [
          "Mark Twain",
          "Zane Grey",
          "Joseph Conrad",
          "Benjamin Disraeli",
          "George Eliot",
          "William Henry Hudson",
          "Lucy Maud Montgomery",
          "Howard Pyle",
          "Virginia Woolf",
          "Lewis Carroll"
         ],
         "xaxis": "x5",
         "y": [
          73.47931371950195,
          68.40412653776634,
          61.64336727963837,
          55.465361016099564,
          54.485508412855836,
          60.87121746987178,
          65.23363209209813,
          66.12770367233425,
          60.92761451799885,
          63.6159435441612
         ],
         "yaxis": "y5"
        },
        {
         "marker": {
          "color": "#f1c40f"
         },
         "name": "gemini-1.5-flash",
         "showlegend": false,
         "type": "bar",
         "x": [
          "Mark Twain",
          "Zane Grey",
          "Joseph Conrad",
          "Benjamin Disraeli",
          "George Eliot",
          "William Henry Hudson",
          "Lucy Maud Montgomery",
          "Howard Pyle",
          "Virginia Woolf",
          "Lewis Carroll"
         ],
         "xaxis": "x6",
         "y": [
          7.279830529283213,
          8.220184949095742,
          9.76864633851645,
          10.741412811939824,
          11.070917721255274,
          10.025568367305528,
          8.800072303576297,
          8.788820148434052,
          9.794709017682415,
          8.911611506125169
         ],
         "yaxis": "y6"
        },
        {
         "marker": {
          "color": "#f1c40f"
         },
         "name": "gemini-1.5-flash",
         "showlegend": false,
         "type": "bar",
         "x": [
          "Mark Twain",
          "Zane Grey",
          "Joseph Conrad",
          "Benjamin Disraeli",
          "George Eliot",
          "William Henry Hudson",
          "Lucy Maud Montgomery",
          "Howard Pyle",
          "Virginia Woolf",
          "Lewis Carroll"
         ],
         "xaxis": "x7",
         "y": [
          10.020117425803864,
          10.866694483728029,
          12.588350462208991,
          13.734814166602053,
          14.084894326071947,
          12.802831790033139,
          11.533697414945408,
          11.513158411161792,
          12.64977833117617,
          11.687617766813254
         ],
         "yaxis": "y7"
        },
        {
         "marker": {
          "color": "#f1c40f"
         },
         "name": "gemini-1.5-flash",
         "showlegend": false,
         "type": "bar",
         "x": [
          "Mark Twain",
          "Zane Grey",
          "Joseph Conrad",
          "Benjamin Disraeli",
          "George Eliot",
          "William Henry Hudson",
          "Lucy Maud Montgomery",
          "Howard Pyle",
          "Virginia Woolf",
          "Lewis Carroll"
         ],
         "xaxis": "x8",
         "y": [
          110.57317436253973,
          140.22664263555333,
          158.68263102610288,
          154.700410241457,
          153.30468889761923,
          164.97020861210132,
          130.06076334627215,
          136.01344136925024,
          167.2748997964807,
          128.14658981691406
         ],
         "yaxis": "y8"
        },
        {
         "marker": {
          "color": "#f1c40f"
         },
         "name": "gemini-1.5-flash",
         "showlegend": false,
         "type": "bar",
         "x": [
          "Mark Twain",
          "Zane Grey",
          "Joseph Conrad",
          "Benjamin Disraeli",
          "George Eliot",
          "William Henry Hudson",
          "Lucy Maud Montgomery",
          "Howard Pyle",
          "Virginia Woolf",
          "Lewis Carroll"
         ],
         "xaxis": "x9",
         "y": [
          0.06607592232087744,
          0.059491543478003575,
          0.05802350244300156,
          0.06487292720732314,
          0.06470663756579792,
          0.060026161806098974,
          0.06398759315492575,
          0.06439070872718503,
          0.05791425850227457,
          0.0659464883751859
         ],
         "yaxis": "y9"
        },
        {
         "marker": {
          "color": "#f1c40f"
         },
         "name": "gemini-1.5-flash",
         "showlegend": false,
         "type": "bar",
         "x": [
          "Mark Twain",
          "Zane Grey",
          "Joseph Conrad",
          "Benjamin Disraeli",
          "George Eliot",
          "William Henry Hudson",
          "Lucy Maud Montgomery",
          "Howard Pyle",
          "Virginia Woolf",
          "Lewis Carroll"
         ],
         "xaxis": "x10",
         "y": [
          0.11288062701077146,
          0.11721329065537835,
          0.1182350403966155,
          0.11350636056655068,
          0.11359121986242064,
          0.11671287671249622,
          0.11418954724619762,
          0.11386896006689082,
          0.11832585734021665,
          0.11313473430859616
         ],
         "yaxis": "y10"
        },
        {
         "marker": {
          "color": "#f1c40f"
         },
         "name": "gemini-1.5-flash",
         "showlegend": false,
         "type": "bar",
         "x": [
          "Mark Twain",
          "Zane Grey",
          "Joseph Conrad",
          "Benjamin Disraeli",
          "George Eliot",
          "William Henry Hudson",
          "Lucy Maud Montgomery",
          "Howard Pyle",
          "Virginia Woolf",
          "Lewis Carroll"
         ],
         "xaxis": "x11",
         "y": [
          0.9888528595151518,
          0.9858778629422539,
          0.9840299142724024,
          0.9844397957804707,
          0.9845793435200505,
          0.9834056934106062,
          0.9869014167273524,
          0.9863073066349759,
          0.9831703649743867,
          0.9870936735877467
         ],
         "yaxis": "y11"
        },
        {
         "marker": {
          "color": "#9b59b6"
         },
         "name": "open-mixtral-8x7b",
         "showlegend": true,
         "type": "bar",
         "x": [
          "Mark Twain",
          "Zane Grey",
          "Joseph Conrad",
          "Benjamin Disraeli",
          "George Eliot",
          "William Henry Hudson",
          "Lucy Maud Montgomery",
          "Howard Pyle",
          "Virginia Woolf",
          "Lewis Carroll"
         ],
         "xaxis": "x",
         "y": [
          12631,
          10895,
          10959,
          12295,
          11576,
          12088,
          11277,
          11890,
          10510,
          12428
         ],
         "yaxis": "y"
        },
        {
         "marker": {
          "color": "#9b59b6"
         },
         "name": "open-mixtral-8x7b",
         "showlegend": false,
         "type": "bar",
         "x": [
          "Mark Twain",
          "Zane Grey",
          "Joseph Conrad",
          "Benjamin Disraeli",
          "George Eliot",
          "William Henry Hudson",
          "Lucy Maud Montgomery",
          "Howard Pyle",
          "Virginia Woolf",
          "Lewis Carroll"
         ],
         "xaxis": "x2",
         "y": [
          4.381612386913196,
          4.466888358344702,
          4.531026408221673,
          4.6092346042717125,
          4.652563394256464,
          4.617259462697363,
          4.547938879069502,
          4.463816255618726,
          4.526018798121321,
          4.605824682814302
         ],
         "yaxis": "y2"
        },
        {
         "marker": {
          "color": "#9b59b6"
         },
         "name": "open-mixtral-8x7b",
         "showlegend": false,
         "type": "bar",
         "x": [
          "Mark Twain",
          "Zane Grey",
          "Joseph Conrad",
          "Benjamin Disraeli",
          "George Eliot",
          "William Henry Hudson",
          "Lucy Maud Montgomery",
          "Howard Pyle",
          "Virginia Woolf",
          "Lewis Carroll"
         ],
         "xaxis": "x3",
         "y": [
          22.794952268863607,
          22.487536750607184,
          28.603947581297525,
          26.796720813724,
          29.34844473858372,
          27.032997250229148,
          23.675755939524837,
          24.458477748509637,
          27.25976833976834,
          21.677709713714215
         ],
         "yaxis": "y3"
        },
        {
         "marker": {
          "color": "#9b59b6"
         },
         "name": "open-mixtral-8x7b",
         "showlegend": false,
         "type": "bar",
         "x": [
          "Mark Twain",
          "Zane Grey",
          "Joseph Conrad",
          "Benjamin Disraeli",
          "George Eliot",
          "William Henry Hudson",
          "Lucy Maud Montgomery",
          "Howard Pyle",
          "Virginia Woolf",
          "Lewis Carroll"
         ],
         "xaxis": "x4",
         "y": [
          1.4361292617303356,
          1.4460663938153706,
          1.500291287945204,
          1.5277321398221064,
          1.5415036474952362,
          1.5197334960838165,
          1.4646559096869833,
          1.4401169942013048,
          1.4983881659084342,
          1.4928200692041522
         ],
         "yaxis": "y4"
        },
        {
         "marker": {
          "color": "#9b59b6"
         },
         "name": "open-mixtral-8x7b",
         "showlegend": false,
         "type": "bar",
         "x": [
          "Mark Twain",
          "Zane Grey",
          "Joseph Conrad",
          "Benjamin Disraeli",
          "George Eliot",
          "William Henry Hudson",
          "Lucy Maud Montgomery",
          "Howard Pyle",
          "Virginia Woolf",
          "Lewis Carroll"
         ],
         "xaxis": "x5",
         "y": [
          62.20158790471707,
          61.672933281353366,
          50.877350244818786,
          50.39018934511998,
          46.63512001224058,
          50.827054022326564,
          58.89421776186353,
          60.175747375832344,
          52.402696299281615,
          58.53954678590881
         ],
         "yaxis": "y5"
        },
        {
         "marker": {
          "color": "#9b59b6"
         },
         "name": "open-mixtral-8x7b",
         "showlegend": false,
         "type": "bar",
         "x": [
          "Mark Twain",
          "Zane Grey",
          "Joseph Conrad",
          "Benjamin Disraeli",
          "George Eliot",
          "William Henry Hudson",
          "Lucy Maud Montgomery",
          "Howard Pyle",
          "Virginia Woolf",
          "Lewis Carroll"
         ],
         "xaxis": "x6",
         "y": [
          10.246356673274764,
          10.243722779758176,
          13.268976754459445,
          12.887960367253218,
          14.045636488491436,
          12.885724181378404,
          10.926484550721089,
          10.942186853494157,
          12.722290010229177,
          10.479583604957543
         ],
         "yaxis": "y6"
        },
        {
         "marker": {
          "color": "#9b59b6"
         },
         "name": "open-mixtral-8x7b",
         "showlegend": false,
         "type": "bar",
         "x": [
          "Mark Twain",
          "Zane Grey",
          "Joseph Conrad",
          "Benjamin Disraeli",
          "George Eliot",
          "William Henry Hudson",
          "Lucy Maud Montgomery",
          "Howard Pyle",
          "Virginia Woolf",
          "Lewis Carroll"
         ],
         "xaxis": "x7",
         "y": [
          13.164265464635276,
          13.15417795626834,
          16.37888142334259,
          16.059575527347853,
          17.278158605990367,
          15.97487568215294,
          13.87648288781176,
          13.862770304591505,
          15.819066508064815,
          13.465316872798258
         ],
         "yaxis": "y7"
        },
        {
         "marker": {
          "color": "#9b59b6"
         },
         "name": "open-mixtral-8x7b",
         "showlegend": false,
         "type": "bar",
         "x": [
          "Mark Twain",
          "Zane Grey",
          "Joseph Conrad",
          "Benjamin Disraeli",
          "George Eliot",
          "William Henry Hudson",
          "Lucy Maud Montgomery",
          "Howard Pyle",
          "Virginia Woolf",
          "Lewis Carroll"
         ],
         "xaxis": "x8",
         "y": [
          114.88912537039319,
          132.5834120172673,
          160.51859904396719,
          141.8077673678271,
          155.40063678393733,
          141.4417921613338,
          124.64306027892738,
          135.57477337724075,
          162.92450285387764,
          112.31475111397485
         ],
         "yaxis": "y8"
        },
        {
         "marker": {
          "color": "#9b59b6"
         },
         "name": "open-mixtral-8x7b",
         "showlegend": false,
         "type": "bar",
         "x": [
          "Mark Twain",
          "Zane Grey",
          "Joseph Conrad",
          "Benjamin Disraeli",
          "George Eliot",
          "William Henry Hudson",
          "Lucy Maud Montgomery",
          "Howard Pyle",
          "Virginia Woolf",
          "Lewis Carroll"
         ],
         "xaxis": "x9",
         "y": [
          0.07246160642063415,
          0.06193155979990905,
          0.06198494352407509,
          0.0696561101354031,
          0.06526028571106425,
          0.06830999446196273,
          0.06429671018872228,
          0.06739636887183353,
          0.059544380676120494,
          0.0716724336793541
         ],
         "yaxis": "y9"
        },
        {
         "marker": {
          "color": "#9b59b6"
         },
         "name": "open-mixtral-8x7b",
         "showlegend": false,
         "type": "bar",
         "x": [
          "Mark Twain",
          "Zane Grey",
          "Joseph Conrad",
          "Benjamin Disraeli",
          "George Eliot",
          "William Henry Hudson",
          "Lucy Maud Montgomery",
          "Howard Pyle",
          "Virginia Woolf",
          "Lewis Carroll"
         ],
         "xaxis": "x10",
         "y": [
          0.10874072903523044,
          0.11515875900118823,
          0.11507549380970308,
          0.11026221207931447,
          0.11291402704791105,
          0.11104654890346531,
          0.11363559786154276,
          0.11163188554757923,
          0.11675384103757594,
          0.10924194717472797
         ],
         "yaxis": "y10"
        },
        {
         "marker": {
          "color": "#9b59b6"
         },
         "name": "open-mixtral-8x7b",
         "showlegend": false,
         "type": "bar",
         "x": [
          "Mark Twain",
          "Zane Grey",
          "Joseph Conrad",
          "Benjamin Disraeli",
          "George Eliot",
          "William Henry Hudson",
          "Lucy Maud Montgomery",
          "Howard Pyle",
          "Virginia Woolf",
          "Lewis Carroll"
         ],
         "xaxis": "x11",
         "y": [
          0.9884319171676554,
          0.9866498735756941,
          0.9838568908940338,
          0.9857378893876582,
          0.9843735506961744,
          0.9857730941127879,
          0.9874470179057776,
          0.9863584183729571,
          0.9836124022360204,
          0.9886880614190177
         ],
         "yaxis": "y11"
        },
        {
         "marker": {
          "color": "#e67e22"
         },
         "name": "claude-3-haiku-20240307",
         "showlegend": true,
         "type": "bar",
         "x": [
          "Mark Twain",
          "Zane Grey",
          "Joseph Conrad",
          "Benjamin Disraeli",
          "George Eliot",
          "William Henry Hudson",
          "Lucy Maud Montgomery",
          "Howard Pyle",
          "Virginia Woolf",
          "Lewis Carroll"
         ],
         "xaxis": "x",
         "y": [
          12773,
          12421,
          11231,
          11569,
          11947,
          11999,
          12389,
          11932,
          11433,
          12020
         ],
         "yaxis": "y"
        },
        {
         "marker": {
          "color": "#e67e22"
         },
         "name": "claude-3-haiku-20240307",
         "showlegend": false,
         "type": "bar",
         "x": [
          "Mark Twain",
          "Zane Grey",
          "Joseph Conrad",
          "Benjamin Disraeli",
          "George Eliot",
          "William Henry Hudson",
          "Lucy Maud Montgomery",
          "Howard Pyle",
          "Virginia Woolf",
          "Lewis Carroll"
         ],
         "xaxis": "x2",
         "y": [
          4.327546498237778,
          4.618747351179226,
          4.661258442702568,
          4.719309516966203,
          4.784872470423632,
          4.755488582619394,
          4.63042114030784,
          4.646254290065232,
          4.661116262664763,
          4.684920998397069
         ],
         "yaxis": "y2"
        },
        {
         "marker": {
          "color": "#e67e22"
         },
         "name": "claude-3-haiku-20240307",
         "showlegend": false,
         "type": "bar",
         "x": [
          "Mark Twain",
          "Zane Grey",
          "Joseph Conrad",
          "Benjamin Disraeli",
          "George Eliot",
          "William Henry Hudson",
          "Lucy Maud Montgomery",
          "Howard Pyle",
          "Virginia Woolf",
          "Lewis Carroll"
         ],
         "xaxis": "x3",
         "y": [
          20.778489425981874,
          22.065714646783775,
          27.154730869498543,
          27.032449725776964,
          27.0202743902439,
          26.99360146252285,
          22.17967860306213,
          24.21408915795267,
          25.516475540717085,
          24.8125
         ],
         "yaxis": "y3"
        },
        {
         "marker": {
          "color": "#e67e22"
         },
         "name": "claude-3-haiku-20240307",
         "showlegend": false,
         "type": "bar",
         "x": [
          "Mark Twain",
          "Zane Grey",
          "Joseph Conrad",
          "Benjamin Disraeli",
          "George Eliot",
          "William Henry Hudson",
          "Lucy Maud Montgomery",
          "Howard Pyle",
          "Virginia Woolf",
          "Lewis Carroll"
         ],
         "xaxis": "x4",
         "y": [
          1.4069221016389248,
          1.4846454302830372,
          1.533674806297861,
          1.5633816310773723,
          1.5687350848786763,
          1.5687187475308433,
          1.5059103408144403,
          1.5147453235447872,
          1.5279406996125906,
          1.5264311884588964
         ],
         "yaxis": "y4"
        },
        {
         "marker": {
          "color": "#e67e22"
         },
         "name": "claude-3-haiku-20240307",
         "showlegend": false,
         "type": "bar",
         "x": [
          "Mark Twain",
          "Zane Grey",
          "Joseph Conrad",
          "Benjamin Disraeli",
          "George Eliot",
          "William Henry Hudson",
          "Lucy Maud Montgomery",
          "Howard Pyle",
          "Virginia Woolf",
          "Lewis Carroll"
         ],
         "xaxis": "x5",
         "y": [
          66.71922343397539,
          58.83729623156954,
          49.52405955465997,
          47.134977539190714,
          46.69443331316643,
          46.72288847442999,
          56.922611384990304,
          54.11024513278906,
          51.671994138947014,
          52.51423395637738
         ],
         "yaxis": "y5"
        },
        {
         "marker": {
          "color": "#e67e22"
         },
         "name": "claude-3-haiku-20240307",
         "showlegend": false,
         "type": "bar",
         "x": [
          "Mark Twain",
          "Zane Grey",
          "Joseph Conrad",
          "Benjamin Disraeli",
          "George Eliot",
          "William Henry Hudson",
          "Lucy Maud Montgomery",
          "Howard Pyle",
          "Virginia Woolf",
          "Lewis Carroll"
         ],
         "xaxis": "x6",
         "y": [
          9.115291675472246,
          10.53444478958551,
          13.09770775341919,
          13.400558639766007,
          13.458981013763502,
          13.448385791247862,
          10.82981667680463,
          11.727489589430032,
          12.391125716308235,
          12.098763023814978
         ],
         "yaxis": "y6"
        },
        {
         "marker": {
          "color": "#e67e22"
         },
         "name": "claude-3-haiku-20240307",
         "showlegend": false,
         "type": "bar",
         "x": [
          "Mark Twain",
          "Zane Grey",
          "Joseph Conrad",
          "Benjamin Disraeli",
          "George Eliot",
          "William Henry Hudson",
          "Lucy Maud Montgomery",
          "Howard Pyle",
          "Virginia Woolf",
          "Lewis Carroll"
         ],
         "xaxis": "x7",
         "y": [
          11.952158353124137,
          13.374812255286367,
          16.17780190075973,
          16.52507574188962,
          16.579521241375666,
          16.584805275221687,
          13.741170757770384,
          14.66665709646061,
          15.413692154471983,
          15.148494389741243
         ],
         "yaxis": "y7"
        },
        {
         "marker": {
          "color": "#e67e22"
         },
         "name": "claude-3-haiku-20240307",
         "showlegend": false,
         "type": "bar",
         "x": [
          "Mark Twain",
          "Zane Grey",
          "Joseph Conrad",
          "Benjamin Disraeli",
          "George Eliot",
          "William Henry Hudson",
          "Lucy Maud Montgomery",
          "Howard Pyle",
          "Virginia Woolf",
          "Lewis Carroll"
         ],
         "xaxis": "x8",
         "y": [
          96.92648908463802,
          121.76384929142101,
          158.6804453620712,
          157.32998313487965,
          155.58280394757463,
          147.56325133165677,
          114.89925855256632,
          135.47365956424028,
          157.7523192928011,
          138.2971534045289
         ],
         "yaxis": "y8"
        },
        {
         "marker": {
          "color": "#e67e22"
         },
         "name": "claude-3-haiku-20240307",
         "showlegend": false,
         "type": "bar",
         "x": [
          "Mark Twain",
          "Zane Grey",
          "Joseph Conrad",
          "Benjamin Disraeli",
          "George Eliot",
          "William Henry Hudson",
          "Lucy Maud Montgomery",
          "Howard Pyle",
          "Virginia Woolf",
          "Lewis Carroll"
         ],
         "xaxis": "x9",
         "y": [
          0.07428667806585942,
          0.07113730341454474,
          0.06342474417764124,
          0.06519913661442395,
          0.06740083383638076,
          0.06771979727517975,
          0.07067877639971247,
          0.06780007727799622,
          0.06504041915316043,
          0.06881154110373254
         ],
         "yaxis": "y9"
        },
        {
         "marker": {
          "color": "#e67e22"
         },
         "name": "claude-3-haiku-20240307",
         "showlegend": false,
         "type": "bar",
         "x": [
          "Mark Twain",
          "Zane Grey",
          "Joseph Conrad",
          "Benjamin Disraeli",
          "George Eliot",
          "William Henry Hudson",
          "Lucy Maud Montgomery",
          "Howard Pyle",
          "Virginia Woolf",
          "Lewis Carroll"
         ],
         "xaxis": "x10",
         "y": [
          0.1078325390093076,
          0.10948966482210847,
          0.11411059719854551,
          0.11294970109117533,
          0.11158558093597648,
          0.11139373902682549,
          0.10972220122916865,
          0.11140726208533325,
          0.11313840818913268,
          0.11086272373786836
         ],
         "yaxis": "y10"
        },
        {
         "marker": {
          "color": "#e67e22"
         },
         "name": "claude-3-haiku-20240307",
         "showlegend": false,
         "type": "bar",
         "x": [
          "Mark Twain",
          "Zane Grey",
          "Joseph Conrad",
          "Benjamin Disraeli",
          "George Eliot",
          "William Henry Hudson",
          "Lucy Maud Montgomery",
          "Howard Pyle",
          "Virginia Woolf",
          "Lewis Carroll"
         ],
         "xaxis": "x11",
         "y": [
          0.9902290609482652,
          0.9877431062551426,
          0.9840429161974764,
          0.9841805637921391,
          0.9843580165835635,
          0.9851603345884778,
          0.9884293573798713,
          0.9863688257968445,
          0.9841373019638363,
          0.9860870899840063
         ],
         "yaxis": "y11"
        }
       ],
       "layout": {
        "annotations": [
         {
          "font": {
           "size": 16
          },
          "showarrow": false,
          "text": "Unique word count",
          "x": 0.5,
          "xanchor": "center",
          "xref": "paper",
          "y": 0.9999999999999999,
          "yanchor": "bottom",
          "yref": "paper"
         },
         {
          "font": {
           "size": 16
          },
          "showarrow": false,
          "text": "Average word length",
          "x": 0.5,
          "xanchor": "center",
          "xref": "paper",
          "y": 0.9049586776859503,
          "yanchor": "bottom",
          "yref": "paper"
         },
         {
          "font": {
           "size": 16
          },
          "showarrow": false,
          "text": "Average sentence length",
          "x": 0.5,
          "xanchor": "center",
          "xref": "paper",
          "y": 0.8099173553719007,
          "yanchor": "bottom",
          "yref": "paper"
         },
         {
          "font": {
           "size": 16
          },
          "showarrow": false,
          "text": "Average syllables per word",
          "x": 0.5,
          "xanchor": "center",
          "xref": "paper",
          "y": 0.7148760330578511,
          "yanchor": "bottom",
          "yref": "paper"
         },
         {
          "font": {
           "size": 16
          },
          "showarrow": false,
          "text": "Flesch reading ease",
          "x": 0.5,
          "xanchor": "center",
          "xref": "paper",
          "y": 0.6198347107438015,
          "yanchor": "bottom",
          "yref": "paper"
         },
         {
          "font": {
           "size": 16
          },
          "showarrow": false,
          "text": "Flesch Kincaid Grade Level",
          "x": 0.5,
          "xanchor": "center",
          "xref": "paper",
          "y": 0.524793388429752,
          "yanchor": "bottom",
          "yref": "paper"
         },
         {
          "font": {
           "size": 16
          },
          "showarrow": false,
          "text": "Gunning Fog Index",
          "x": 0.5,
          "xanchor": "center",
          "xref": "paper",
          "y": 0.42975206611570244,
          "yanchor": "bottom",
          "yref": "paper"
         },
         {
          "font": {
           "size": 16
          },
          "showarrow": false,
          "text": "Yules Characteristic K",
          "x": 0.5,
          "xanchor": "center",
          "xref": "paper",
          "y": 0.33471074380165283,
          "yanchor": "bottom",
          "yref": "paper"
         },
         {
          "font": {
           "size": 16
          },
          "showarrow": false,
          "text": "Herdan's C",
          "x": 0.5,
          "xanchor": "center",
          "xref": "paper",
          "y": 0.23966942148760328,
          "yanchor": "bottom",
          "yref": "paper"
         },
         {
          "font": {
           "size": 16
          },
          "showarrow": false,
          "text": "Maas",
          "x": 0.5,
          "xanchor": "center",
          "xref": "paper",
          "y": 0.1446280991735537,
          "yanchor": "bottom",
          "yref": "paper"
         },
         {
          "font": {
           "size": 16
          },
          "showarrow": false,
          "text": "Simpsons_index",
          "x": 0.5,
          "xanchor": "center",
          "xref": "paper",
          "y": 0.04958677685950413,
          "yanchor": "bottom",
          "yref": "paper"
         }
        ],
        "height": 1500,
        "legend": {
         "title": {
          "text": "Collection"
         }
        },
        "template": {
         "data": {
          "bar": [
           {
            "error_x": {
             "color": "#2a3f5f"
            },
            "error_y": {
             "color": "#2a3f5f"
            },
            "marker": {
             "line": {
              "color": "#E5ECF6",
              "width": 0.5
             },
             "pattern": {
              "fillmode": "overlay",
              "size": 10,
              "solidity": 0.2
             }
            },
            "type": "bar"
           }
          ],
          "barpolar": [
           {
            "marker": {
             "line": {
              "color": "#E5ECF6",
              "width": 0.5
             },
             "pattern": {
              "fillmode": "overlay",
              "size": 10,
              "solidity": 0.2
             }
            },
            "type": "barpolar"
           }
          ],
          "carpet": [
           {
            "aaxis": {
             "endlinecolor": "#2a3f5f",
             "gridcolor": "white",
             "linecolor": "white",
             "minorgridcolor": "white",
             "startlinecolor": "#2a3f5f"
            },
            "baxis": {
             "endlinecolor": "#2a3f5f",
             "gridcolor": "white",
             "linecolor": "white",
             "minorgridcolor": "white",
             "startlinecolor": "#2a3f5f"
            },
            "type": "carpet"
           }
          ],
          "choropleth": [
           {
            "colorbar": {
             "outlinewidth": 0,
             "ticks": ""
            },
            "type": "choropleth"
           }
          ],
          "contour": [
           {
            "colorbar": {
             "outlinewidth": 0,
             "ticks": ""
            },
            "colorscale": [
             [
              0,
              "#0d0887"
             ],
             [
              0.1111111111111111,
              "#46039f"
             ],
             [
              0.2222222222222222,
              "#7201a8"
             ],
             [
              0.3333333333333333,
              "#9c179e"
             ],
             [
              0.4444444444444444,
              "#bd3786"
             ],
             [
              0.5555555555555556,
              "#d8576b"
             ],
             [
              0.6666666666666666,
              "#ed7953"
             ],
             [
              0.7777777777777778,
              "#fb9f3a"
             ],
             [
              0.8888888888888888,
              "#fdca26"
             ],
             [
              1,
              "#f0f921"
             ]
            ],
            "type": "contour"
           }
          ],
          "contourcarpet": [
           {
            "colorbar": {
             "outlinewidth": 0,
             "ticks": ""
            },
            "type": "contourcarpet"
           }
          ],
          "heatmap": [
           {
            "colorbar": {
             "outlinewidth": 0,
             "ticks": ""
            },
            "colorscale": [
             [
              0,
              "#0d0887"
             ],
             [
              0.1111111111111111,
              "#46039f"
             ],
             [
              0.2222222222222222,
              "#7201a8"
             ],
             [
              0.3333333333333333,
              "#9c179e"
             ],
             [
              0.4444444444444444,
              "#bd3786"
             ],
             [
              0.5555555555555556,
              "#d8576b"
             ],
             [
              0.6666666666666666,
              "#ed7953"
             ],
             [
              0.7777777777777778,
              "#fb9f3a"
             ],
             [
              0.8888888888888888,
              "#fdca26"
             ],
             [
              1,
              "#f0f921"
             ]
            ],
            "type": "heatmap"
           }
          ],
          "heatmapgl": [
           {
            "colorbar": {
             "outlinewidth": 0,
             "ticks": ""
            },
            "colorscale": [
             [
              0,
              "#0d0887"
             ],
             [
              0.1111111111111111,
              "#46039f"
             ],
             [
              0.2222222222222222,
              "#7201a8"
             ],
             [
              0.3333333333333333,
              "#9c179e"
             ],
             [
              0.4444444444444444,
              "#bd3786"
             ],
             [
              0.5555555555555556,
              "#d8576b"
             ],
             [
              0.6666666666666666,
              "#ed7953"
             ],
             [
              0.7777777777777778,
              "#fb9f3a"
             ],
             [
              0.8888888888888888,
              "#fdca26"
             ],
             [
              1,
              "#f0f921"
             ]
            ],
            "type": "heatmapgl"
           }
          ],
          "histogram": [
           {
            "marker": {
             "pattern": {
              "fillmode": "overlay",
              "size": 10,
              "solidity": 0.2
             }
            },
            "type": "histogram"
           }
          ],
          "histogram2d": [
           {
            "colorbar": {
             "outlinewidth": 0,
             "ticks": ""
            },
            "colorscale": [
             [
              0,
              "#0d0887"
             ],
             [
              0.1111111111111111,
              "#46039f"
             ],
             [
              0.2222222222222222,
              "#7201a8"
             ],
             [
              0.3333333333333333,
              "#9c179e"
             ],
             [
              0.4444444444444444,
              "#bd3786"
             ],
             [
              0.5555555555555556,
              "#d8576b"
             ],
             [
              0.6666666666666666,
              "#ed7953"
             ],
             [
              0.7777777777777778,
              "#fb9f3a"
             ],
             [
              0.8888888888888888,
              "#fdca26"
             ],
             [
              1,
              "#f0f921"
             ]
            ],
            "type": "histogram2d"
           }
          ],
          "histogram2dcontour": [
           {
            "colorbar": {
             "outlinewidth": 0,
             "ticks": ""
            },
            "colorscale": [
             [
              0,
              "#0d0887"
             ],
             [
              0.1111111111111111,
              "#46039f"
             ],
             [
              0.2222222222222222,
              "#7201a8"
             ],
             [
              0.3333333333333333,
              "#9c179e"
             ],
             [
              0.4444444444444444,
              "#bd3786"
             ],
             [
              0.5555555555555556,
              "#d8576b"
             ],
             [
              0.6666666666666666,
              "#ed7953"
             ],
             [
              0.7777777777777778,
              "#fb9f3a"
             ],
             [
              0.8888888888888888,
              "#fdca26"
             ],
             [
              1,
              "#f0f921"
             ]
            ],
            "type": "histogram2dcontour"
           }
          ],
          "mesh3d": [
           {
            "colorbar": {
             "outlinewidth": 0,
             "ticks": ""
            },
            "type": "mesh3d"
           }
          ],
          "parcoords": [
           {
            "line": {
             "colorbar": {
              "outlinewidth": 0,
              "ticks": ""
             }
            },
            "type": "parcoords"
           }
          ],
          "pie": [
           {
            "automargin": true,
            "type": "pie"
           }
          ],
          "scatter": [
           {
            "fillpattern": {
             "fillmode": "overlay",
             "size": 10,
             "solidity": 0.2
            },
            "type": "scatter"
           }
          ],
          "scatter3d": [
           {
            "line": {
             "colorbar": {
              "outlinewidth": 0,
              "ticks": ""
             }
            },
            "marker": {
             "colorbar": {
              "outlinewidth": 0,
              "ticks": ""
             }
            },
            "type": "scatter3d"
           }
          ],
          "scattercarpet": [
           {
            "marker": {
             "colorbar": {
              "outlinewidth": 0,
              "ticks": ""
             }
            },
            "type": "scattercarpet"
           }
          ],
          "scattergeo": [
           {
            "marker": {
             "colorbar": {
              "outlinewidth": 0,
              "ticks": ""
             }
            },
            "type": "scattergeo"
           }
          ],
          "scattergl": [
           {
            "marker": {
             "colorbar": {
              "outlinewidth": 0,
              "ticks": ""
             }
            },
            "type": "scattergl"
           }
          ],
          "scattermapbox": [
           {
            "marker": {
             "colorbar": {
              "outlinewidth": 0,
              "ticks": ""
             }
            },
            "type": "scattermapbox"
           }
          ],
          "scatterpolar": [
           {
            "marker": {
             "colorbar": {
              "outlinewidth": 0,
              "ticks": ""
             }
            },
            "type": "scatterpolar"
           }
          ],
          "scatterpolargl": [
           {
            "marker": {
             "colorbar": {
              "outlinewidth": 0,
              "ticks": ""
             }
            },
            "type": "scatterpolargl"
           }
          ],
          "scatterternary": [
           {
            "marker": {
             "colorbar": {
              "outlinewidth": 0,
              "ticks": ""
             }
            },
            "type": "scatterternary"
           }
          ],
          "surface": [
           {
            "colorbar": {
             "outlinewidth": 0,
             "ticks": ""
            },
            "colorscale": [
             [
              0,
              "#0d0887"
             ],
             [
              0.1111111111111111,
              "#46039f"
             ],
             [
              0.2222222222222222,
              "#7201a8"
             ],
             [
              0.3333333333333333,
              "#9c179e"
             ],
             [
              0.4444444444444444,
              "#bd3786"
             ],
             [
              0.5555555555555556,
              "#d8576b"
             ],
             [
              0.6666666666666666,
              "#ed7953"
             ],
             [
              0.7777777777777778,
              "#fb9f3a"
             ],
             [
              0.8888888888888888,
              "#fdca26"
             ],
             [
              1,
              "#f0f921"
             ]
            ],
            "type": "surface"
           }
          ],
          "table": [
           {
            "cells": {
             "fill": {
              "color": "#EBF0F8"
             },
             "line": {
              "color": "white"
             }
            },
            "header": {
             "fill": {
              "color": "#C8D4E3"
             },
             "line": {
              "color": "white"
             }
            },
            "type": "table"
           }
          ]
         },
         "layout": {
          "annotationdefaults": {
           "arrowcolor": "#2a3f5f",
           "arrowhead": 0,
           "arrowwidth": 1
          },
          "autotypenumbers": "strict",
          "coloraxis": {
           "colorbar": {
            "outlinewidth": 0,
            "ticks": ""
           }
          },
          "colorscale": {
           "diverging": [
            [
             0,
             "#8e0152"
            ],
            [
             0.1,
             "#c51b7d"
            ],
            [
             0.2,
             "#de77ae"
            ],
            [
             0.3,
             "#f1b6da"
            ],
            [
             0.4,
             "#fde0ef"
            ],
            [
             0.5,
             "#f7f7f7"
            ],
            [
             0.6,
             "#e6f5d0"
            ],
            [
             0.7,
             "#b8e186"
            ],
            [
             0.8,
             "#7fbc41"
            ],
            [
             0.9,
             "#4d9221"
            ],
            [
             1,
             "#276419"
            ]
           ],
           "sequential": [
            [
             0,
             "#0d0887"
            ],
            [
             0.1111111111111111,
             "#46039f"
            ],
            [
             0.2222222222222222,
             "#7201a8"
            ],
            [
             0.3333333333333333,
             "#9c179e"
            ],
            [
             0.4444444444444444,
             "#bd3786"
            ],
            [
             0.5555555555555556,
             "#d8576b"
            ],
            [
             0.6666666666666666,
             "#ed7953"
            ],
            [
             0.7777777777777778,
             "#fb9f3a"
            ],
            [
             0.8888888888888888,
             "#fdca26"
            ],
            [
             1,
             "#f0f921"
            ]
           ],
           "sequentialminus": [
            [
             0,
             "#0d0887"
            ],
            [
             0.1111111111111111,
             "#46039f"
            ],
            [
             0.2222222222222222,
             "#7201a8"
            ],
            [
             0.3333333333333333,
             "#9c179e"
            ],
            [
             0.4444444444444444,
             "#bd3786"
            ],
            [
             0.5555555555555556,
             "#d8576b"
            ],
            [
             0.6666666666666666,
             "#ed7953"
            ],
            [
             0.7777777777777778,
             "#fb9f3a"
            ],
            [
             0.8888888888888888,
             "#fdca26"
            ],
            [
             1,
             "#f0f921"
            ]
           ]
          },
          "colorway": [
           "#636efa",
           "#EF553B",
           "#00cc96",
           "#ab63fa",
           "#FFA15A",
           "#19d3f3",
           "#FF6692",
           "#B6E880",
           "#FF97FF",
           "#FECB52"
          ],
          "font": {
           "color": "#2a3f5f"
          },
          "geo": {
           "bgcolor": "white",
           "lakecolor": "white",
           "landcolor": "#E5ECF6",
           "showlakes": true,
           "showland": true,
           "subunitcolor": "white"
          },
          "hoverlabel": {
           "align": "left"
          },
          "hovermode": "closest",
          "mapbox": {
           "style": "light"
          },
          "paper_bgcolor": "white",
          "plot_bgcolor": "#E5ECF6",
          "polar": {
           "angularaxis": {
            "gridcolor": "white",
            "linecolor": "white",
            "ticks": ""
           },
           "bgcolor": "#E5ECF6",
           "radialaxis": {
            "gridcolor": "white",
            "linecolor": "white",
            "ticks": ""
           }
          },
          "scene": {
           "xaxis": {
            "backgroundcolor": "#E5ECF6",
            "gridcolor": "white",
            "gridwidth": 2,
            "linecolor": "white",
            "showbackground": true,
            "ticks": "",
            "zerolinecolor": "white"
           },
           "yaxis": {
            "backgroundcolor": "#E5ECF6",
            "gridcolor": "white",
            "gridwidth": 2,
            "linecolor": "white",
            "showbackground": true,
            "ticks": "",
            "zerolinecolor": "white"
           },
           "zaxis": {
            "backgroundcolor": "#E5ECF6",
            "gridcolor": "white",
            "gridwidth": 2,
            "linecolor": "white",
            "showbackground": true,
            "ticks": "",
            "zerolinecolor": "white"
           }
          },
          "shapedefaults": {
           "line": {
            "color": "#2a3f5f"
           }
          },
          "ternary": {
           "aaxis": {
            "gridcolor": "white",
            "linecolor": "white",
            "ticks": ""
           },
           "baxis": {
            "gridcolor": "white",
            "linecolor": "white",
            "ticks": ""
           },
           "bgcolor": "#E5ECF6",
           "caxis": {
            "gridcolor": "white",
            "linecolor": "white",
            "ticks": ""
           }
          },
          "title": {
           "x": 0.05
          },
          "xaxis": {
           "automargin": true,
           "gridcolor": "white",
           "linecolor": "white",
           "ticks": "",
           "title": {
            "standoff": 15
           },
           "zerolinecolor": "white",
           "zerolinewidth": 2
          },
          "yaxis": {
           "automargin": true,
           "gridcolor": "white",
           "linecolor": "white",
           "ticks": "",
           "title": {
            "standoff": 15
           },
           "zerolinecolor": "white",
           "zerolinewidth": 2
          }
         }
        },
        "xaxis": {
         "anchor": "y",
         "domain": [
          0,
          1
         ],
         "tickfont": {
          "size": 10
         }
        },
        "xaxis10": {
         "anchor": "y10",
         "domain": [
          0,
          1
         ],
         "tickfont": {
          "size": 10
         }
        },
        "xaxis11": {
         "anchor": "y11",
         "domain": [
          0,
          1
         ],
         "tickfont": {
          "size": 10
         }
        },
        "xaxis2": {
         "anchor": "y2",
         "domain": [
          0,
          1
         ],
         "tickfont": {
          "size": 10
         }
        },
        "xaxis3": {
         "anchor": "y3",
         "domain": [
          0,
          1
         ],
         "tickfont": {
          "size": 10
         }
        },
        "xaxis4": {
         "anchor": "y4",
         "domain": [
          0,
          1
         ],
         "tickfont": {
          "size": 10
         }
        },
        "xaxis5": {
         "anchor": "y5",
         "domain": [
          0,
          1
         ],
         "tickfont": {
          "size": 10
         }
        },
        "xaxis6": {
         "anchor": "y6",
         "domain": [
          0,
          1
         ],
         "tickfont": {
          "size": 10
         }
        },
        "xaxis7": {
         "anchor": "y7",
         "domain": [
          0,
          1
         ],
         "tickfont": {
          "size": 10
         }
        },
        "xaxis8": {
         "anchor": "y8",
         "domain": [
          0,
          1
         ],
         "tickfont": {
          "size": 10
         }
        },
        "xaxis9": {
         "anchor": "y9",
         "domain": [
          0,
          1
         ],
         "tickfont": {
          "size": 10
         }
        },
        "yaxis": {
         "anchor": "x",
         "domain": [
          0.9504132231404958,
          0.9999999999999999
         ]
        },
        "yaxis10": {
         "anchor": "x10",
         "domain": [
          0.09504132231404958,
          0.1446280991735537
         ]
        },
        "yaxis11": {
         "anchor": "x11",
         "domain": [
          0,
          0.04958677685950413
         ]
        },
        "yaxis2": {
         "anchor": "x2",
         "domain": [
          0.8553719008264462,
          0.9049586776859503
         ]
        },
        "yaxis3": {
         "anchor": "x3",
         "domain": [
          0.7603305785123966,
          0.8099173553719007
         ]
        },
        "yaxis4": {
         "anchor": "x4",
         "domain": [
          0.665289256198347,
          0.7148760330578511
         ]
        },
        "yaxis5": {
         "anchor": "x5",
         "domain": [
          0.5702479338842974,
          0.6198347107438015
         ]
        },
        "yaxis6": {
         "anchor": "x6",
         "domain": [
          0.4752066115702479,
          0.524793388429752
         ]
        },
        "yaxis7": {
         "anchor": "x7",
         "domain": [
          0.3801652892561983,
          0.42975206611570244
         ]
        },
        "yaxis8": {
         "anchor": "x8",
         "domain": [
          0.2851239669421487,
          0.33471074380165283
         ]
        },
        "yaxis9": {
         "anchor": "x9",
         "domain": [
          0.19008264462809915,
          0.23966942148760328
         ]
        }
       }
      }
     },
     "metadata": {},
     "output_type": "display_data"
    },
    {
     "data": {
      "application/vnd.plotly.v1+json": {
       "config": {
        "plotlyServerURL": "https://plot.ly"
       },
       "data": [
        {
         "marker": {
          "color": "#3498db"
         },
         "name": "books",
         "showlegend": true,
         "type": "bar",
         "x": [
          "the",
          "and",
          "of",
          "to",
          "a",
          "in",
          "it",
          "was",
          "that",
          "is"
         ],
         "xaxis": "x",
         "y": [
          8558,
          7167,
          4772,
          4380,
          4286,
          2711,
          2626,
          2599,
          2466,
          1484
         ],
         "yaxis": "y"
        },
        {
         "marker": {
          "color": "#3498db"
         },
         "name": "books",
         "showlegend": false,
         "type": "bar",
         "x": [
          "the",
          "and",
          "of",
          "to",
          "a",
          "he",
          "was",
          "in",
          "his",
          "had"
         ],
         "xaxis": "x2",
         "y": [
          7938,
          4715,
          4152,
          3974,
          3702,
          2262,
          2207,
          2038,
          1792,
          1671
         ],
         "yaxis": "y2"
        },
        {
         "marker": {
          "color": "#3498db"
         },
         "name": "books",
         "showlegend": false,
         "type": "bar",
         "x": [
          "the",
          "of",
          "a",
          "to",
          "and",
          "in",
          "his",
          "was",
          "that",
          "he"
         ],
         "xaxis": "x3",
         "y": [
          9249,
          6544,
          4345,
          4216,
          3721,
          2886,
          2449,
          2218,
          2115,
          2012
         ],
         "yaxis": "y3"
        },
        {
         "marker": {
          "color": "#3498db"
         },
         "name": "books",
         "showlegend": false,
         "type": "bar",
         "x": [
          "the",
          "of",
          "and",
          "a",
          "to",
          "in",
          "was",
          "that",
          "his",
          "is"
         ],
         "xaxis": "x4",
         "y": [
          9139,
          5826,
          5289,
          3787,
          3706,
          2422,
          2039,
          1930,
          1916,
          1585
         ],
         "yaxis": "y4"
        },
        {
         "marker": {
          "color": "#3498db"
         },
         "name": "books",
         "showlegend": false,
         "type": "bar",
         "x": [
          "the",
          "to",
          "of",
          "and",
          "a",
          "in",
          "that",
          "was",
          "her",
          "had"
         ],
         "xaxis": "x5",
         "y": [
          7839,
          5076,
          4981,
          4869,
          3854,
          2706,
          2485,
          2466,
          2124,
          1901
         ],
         "yaxis": "y5"
        },
        {
         "marker": {
          "color": "#3498db"
         },
         "name": "books",
         "showlegend": false,
         "type": "bar",
         "x": [
          "the",
          "and",
          "to",
          "of",
          "a",
          "in",
          "that",
          "was",
          "it",
          "with"
         ],
         "xaxis": "x6",
         "y": [
          8740,
          6659,
          4938,
          4544,
          4223,
          3313,
          2469,
          1989,
          1960,
          1637
         ],
         "yaxis": "y6"
        },
        {
         "marker": {
          "color": "#3498db"
         },
         "name": "books",
         "showlegend": false,
         "type": "bar",
         "x": [
          "the",
          "and",
          "to",
          "a",
          "of",
          "was",
          "it",
          "in",
          "her",
          "that"
         ],
         "xaxis": "x7",
         "y": [
          5912,
          5064,
          4322,
          3438,
          3253,
          2435,
          2292,
          2257,
          2133,
          1929
         ],
         "yaxis": "y7"
        },
        {
         "marker": {
          "color": "#3498db"
         },
         "name": "books",
         "showlegend": false,
         "type": "bar",
         "x": [
          "the",
          "and",
          "of",
          "a",
          "to",
          "he",
          "his",
          "that",
          "in",
          "was"
         ],
         "xaxis": "x8",
         "y": [
          10447,
          6392,
          4698,
          3766,
          3753,
          3018,
          2569,
          2483,
          2400,
          1982
         ],
         "yaxis": "y8"
        },
        {
         "marker": {
          "color": "#3498db"
         },
         "name": "books",
         "showlegend": false,
         "type": "bar",
         "x": [
          "the",
          "and",
          "of",
          "to",
          "a",
          "in",
          "her",
          "was",
          "she",
          "that"
         ],
         "xaxis": "x9",
         "y": [
          8613,
          5050,
          4757,
          4396,
          3301,
          2773,
          2544,
          2215,
          2180,
          1937
         ],
         "yaxis": "y9"
        },
        {
         "marker": {
          "color": "#3498db"
         },
         "name": "books",
         "showlegend": false,
         "type": "bar",
         "x": [
          "the",
          "to",
          "and",
          "a",
          "of",
          "it",
          "in",
          "was",
          "you",
          "said"
         ],
         "xaxis": "x10",
         "y": [
          7810,
          4110,
          3784,
          3659,
          3139,
          2555,
          2029,
          1774,
          1757,
          1749
         ],
         "yaxis": "y10"
        },
        {
         "marker": {
          "color": "#e74c3c"
         },
         "name": "gpt-3.5-turbo-0125",
         "showlegend": true,
         "type": "bar",
         "x": [
          "the",
          "a",
          "of",
          "and",
          "to",
          "in",
          "that",
          "you",
          "with",
          "is"
         ],
         "xaxis": "x11",
         "y": [
          11012,
          6871,
          6736,
          6325,
          4723,
          2940,
          2722,
          2010,
          1799,
          1453
         ],
         "yaxis": "y11"
        },
        {
         "marker": {
          "color": "#e74c3c"
         },
         "name": "gpt-3.5-turbo-0125",
         "showlegend": false,
         "type": "bar",
         "x": [
          "the",
          "of",
          "a",
          "and",
          "to",
          "in",
          "that",
          "with",
          "as",
          "their"
         ],
         "xaxis": "x12",
         "y": [
          13071,
          8112,
          7151,
          6581,
          4404,
          3036,
          2686,
          2010,
          1452,
          1417
         ],
         "yaxis": "y12"
        },
        {
         "marker": {
          "color": "#e74c3c"
         },
         "name": "gpt-3.5-turbo-0125",
         "showlegend": false,
         "type": "bar",
         "x": [
          "the",
          "of",
          "and",
          "a",
          "to",
          "in",
          "that",
          "with",
          "is",
          "their"
         ],
         "xaxis": "x13",
         "y": [
          12840,
          9051,
          7154,
          7101,
          4514,
          3009,
          2978,
          1937,
          1501,
          1359
         ],
         "yaxis": "y13"
        },
        {
         "marker": {
          "color": "#e74c3c"
         },
         "name": "gpt-3.5-turbo-0125",
         "showlegend": false,
         "type": "bar",
         "x": [
          "the",
          "of",
          "and",
          "a",
          "to",
          "that",
          "in",
          "with",
          "is",
          "you"
         ],
         "xaxis": "x14",
         "y": [
          11798,
          8244,
          7779,
          6726,
          4971,
          2810,
          2792,
          1768,
          1752,
          1258
         ],
         "yaxis": "y14"
        },
        {
         "marker": {
          "color": "#e74c3c"
         },
         "name": "gpt-3.5-turbo-0125",
         "showlegend": false,
         "type": "bar",
         "x": [
          "the",
          "of",
          "and",
          "a",
          "to",
          "in",
          "that",
          "with",
          "is",
          "as"
         ],
         "xaxis": "x15",
         "y": [
          12638,
          8704,
          7681,
          6638,
          4715,
          3002,
          2819,
          1944,
          1443,
          1386
         ],
         "yaxis": "y15"
        },
        {
         "marker": {
          "color": "#e74c3c"
         },
         "name": "gpt-3.5-turbo-0125",
         "showlegend": false,
         "type": "bar",
         "x": [
          "the",
          "of",
          "and",
          "a",
          "to",
          "that",
          "in",
          "with",
          "is",
          "as"
         ],
         "xaxis": "x16",
         "y": [
          12816,
          8646,
          7676,
          6790,
          4944,
          2924,
          2851,
          1848,
          1557,
          1350
         ],
         "yaxis": "y16"
        },
        {
         "marker": {
          "color": "#e74c3c"
         },
         "name": "gpt-3.5-turbo-0125",
         "showlegend": false,
         "type": "bar",
         "x": [
          "the",
          "of",
          "and",
          "a",
          "to",
          "in",
          "that",
          "with",
          "their",
          "as"
         ],
         "xaxis": "x17",
         "y": [
          12008,
          6958,
          6883,
          6537,
          4755,
          3027,
          2599,
          2026,
          1555,
          1385
         ],
         "yaxis": "y17"
        },
        {
         "marker": {
          "color": "#e74c3c"
         },
         "name": "gpt-3.5-turbo-0125",
         "showlegend": false,
         "type": "bar",
         "x": [
          "the",
          "of",
          "and",
          "a",
          "to",
          "in",
          "that",
          "with",
          "their",
          "as"
         ],
         "xaxis": "x18",
         "y": [
          12722,
          7455,
          6759,
          6471,
          4762,
          2889,
          2581,
          2058,
          1410,
          1361
         ],
         "yaxis": "y18"
        },
        {
         "marker": {
          "color": "#e74c3c"
         },
         "name": "gpt-3.5-turbo-0125",
         "showlegend": false,
         "type": "bar",
         "x": [
          "the",
          "of",
          "a",
          "and",
          "to",
          "in",
          "that",
          "with",
          "is",
          "their"
         ],
         "xaxis": "x19",
         "y": [
          13130,
          9306,
          7522,
          7113,
          4541,
          3000,
          2864,
          1865,
          1580,
          1339
         ],
         "yaxis": "y19"
        },
        {
         "marker": {
          "color": "#e74c3c"
         },
         "name": "gpt-3.5-turbo-0125",
         "showlegend": false,
         "type": "bar",
         "x": [
          "the",
          "of",
          "and",
          "a",
          "to",
          "in",
          "that",
          "with",
          "their",
          "as"
         ],
         "xaxis": "x20",
         "y": [
          12556,
          7443,
          6918,
          6897,
          4743,
          3110,
          2548,
          2058,
          1538,
          1323
         ],
         "yaxis": "y20"
        },
        {
         "marker": {
          "color": "#2ecc71"
         },
         "name": "gpt-4o",
         "showlegend": true,
         "type": "bar",
         "x": [
          "the",
          "a",
          "of",
          "and",
          "to",
          "in",
          "you",
          "that",
          "with",
          "is"
         ],
         "xaxis": "x21",
         "y": [
          10373,
          7615,
          6381,
          5454,
          3903,
          2336,
          2188,
          2184,
          1898,
          1752
         ],
         "yaxis": "y21"
        },
        {
         "marker": {
          "color": "#2ecc71"
         },
         "name": "gpt-4o",
         "showlegend": false,
         "type": "bar",
         "x": [
          "the",
          "of",
          "a",
          "and",
          "to",
          "in",
          "that",
          "with",
          "is",
          "was"
         ],
         "xaxis": "x22",
         "y": [
          13859,
          8065,
          6712,
          5643,
          3729,
          2350,
          2326,
          2153,
          1349,
          1256
         ],
         "yaxis": "y22"
        },
        {
         "marker": {
          "color": "#2ecc71"
         },
         "name": "gpt-4o",
         "showlegend": false,
         "type": "bar",
         "x": [
          "the",
          "of",
          "a",
          "and",
          "to",
          "that",
          "in",
          "is",
          "with",
          "its"
         ],
         "xaxis": "x23",
         "y": [
          14117,
          9747,
          7189,
          5113,
          3885,
          2616,
          2463,
          2155,
          2043,
          1055
         ],
         "yaxis": "y23"
        },
        {
         "marker": {
          "color": "#2ecc71"
         },
         "name": "gpt-4o",
         "showlegend": false,
         "type": "bar",
         "x": [
          "the",
          "of",
          "a",
          "and",
          "to",
          "that",
          "in",
          "is",
          "with",
          "as"
         ],
         "xaxis": "x24",
         "y": [
          13576,
          10026,
          6793,
          5665,
          3731,
          2500,
          2302,
          2282,
          2215,
          1123
         ],
         "yaxis": "y24"
        },
        {
         "marker": {
          "color": "#2ecc71"
         },
         "name": "gpt-4o",
         "showlegend": false,
         "type": "bar",
         "x": [
          "the",
          "of",
          "a",
          "and",
          "to",
          "that",
          "in",
          "with",
          "is",
          "as"
         ],
         "xaxis": "x25",
         "y": [
          13136,
          9075,
          6694,
          5517,
          3903,
          2447,
          2374,
          2198,
          1805,
          1014
         ],
         "yaxis": "y25"
        },
        {
         "marker": {
          "color": "#2ecc71"
         },
         "name": "gpt-4o",
         "showlegend": false,
         "type": "bar",
         "x": [
          "the",
          "of",
          "a",
          "and",
          "to",
          "that",
          "in",
          "with",
          "is",
          "as"
         ],
         "xaxis": "x26",
         "y": [
          13395,
          8774,
          6862,
          5860,
          3899,
          2416,
          2372,
          2143,
          1894,
          1100
         ],
         "yaxis": "y26"
        },
        {
         "marker": {
          "color": "#2ecc71"
         },
         "name": "gpt-4o",
         "showlegend": false,
         "type": "bar",
         "x": [
          "the",
          "of",
          "a",
          "and",
          "to",
          "with",
          "in",
          "that",
          "is",
          "was"
         ],
         "xaxis": "x27",
         "y": [
          12836,
          8132,
          6733,
          5658,
          3785,
          2473,
          2377,
          2278,
          1368,
          1233
         ],
         "yaxis": "y27"
        },
        {
         "marker": {
          "color": "#2ecc71"
         },
         "name": "gpt-4o",
         "showlegend": false,
         "type": "bar",
         "x": [
          "the",
          "of",
          "a",
          "and",
          "to",
          "with",
          "in",
          "that",
          "is",
          "as"
         ],
         "xaxis": "x28",
         "y": [
          13517,
          8442,
          6306,
          6167,
          3734,
          2382,
          2334,
          2168,
          1389,
          1091
         ],
         "yaxis": "y28"
        },
        {
         "marker": {
          "color": "#2ecc71"
         },
         "name": "gpt-4o",
         "showlegend": false,
         "type": "bar",
         "x": [
          "the",
          "of",
          "a",
          "and",
          "to",
          "that",
          "in",
          "with",
          "is",
          "its"
         ],
         "xaxis": "x29",
         "y": [
          13664,
          9384,
          7350,
          5073,
          3662,
          2509,
          2482,
          2187,
          2149,
          1065
         ],
         "yaxis": "y29"
        },
        {
         "marker": {
          "color": "#2ecc71"
         },
         "name": "gpt-4o",
         "showlegend": false,
         "type": "bar",
         "x": [
          "the",
          "of",
          "a",
          "and",
          "to",
          "with",
          "in",
          "that",
          "is",
          "as"
         ],
         "xaxis": "x30",
         "y": [
          11636,
          7104,
          7039,
          5531,
          3664,
          2422,
          2365,
          1996,
          1404,
          1226
         ],
         "yaxis": "y30"
        },
        {
         "marker": {
          "color": "#f1c40f"
         },
         "name": "gemini-1.5-flash",
         "showlegend": true,
         "type": "bar",
         "x": [
          "the",
          "a",
          "of",
          "and",
          "to",
          "you",
          "that",
          "in",
          "with",
          "it"
         ],
         "xaxis": "x31",
         "y": [
          9813,
          9729,
          6068,
          4050,
          3638,
          2758,
          2167,
          1965,
          1557,
          1555
         ],
         "yaxis": "y31"
        },
        {
         "marker": {
          "color": "#f1c40f"
         },
         "name": "gemini-1.5-flash",
         "showlegend": false,
         "type": "bar",
         "x": [
          "the",
          "a",
          "of",
          "and",
          "to",
          "that",
          "in",
          "with",
          "was",
          "his"
         ],
         "xaxis": "x32",
         "y": [
          13128,
          9073,
          8468,
          3763,
          3649,
          2130,
          2069,
          2028,
          1679,
          1587
         ],
         "yaxis": "y32"
        },
        {
         "marker": {
          "color": "#f1c40f"
         },
         "name": "gemini-1.5-flash",
         "showlegend": false,
         "type": "bar",
         "x": [
          "the",
          "of",
          "a",
          "and",
          "to",
          "that",
          "in",
          "with",
          "its",
          "his"
         ],
         "xaxis": "x33",
         "y": [
          13428,
          10420,
          9820,
          3491,
          3320,
          2333,
          2232,
          2068,
          1536,
          1342
         ],
         "yaxis": "y33"
        },
        {
         "marker": {
          "color": "#f1c40f"
         },
         "name": "gemini-1.5-flash",
         "showlegend": false,
         "type": "bar",
         "x": [
          "the",
          "of",
          "a",
          "and",
          "to",
          "that",
          "in",
          "is",
          "with",
          "its"
         ],
         "xaxis": "x34",
         "y": [
          13178,
          10757,
          9528,
          4090,
          3668,
          2234,
          2048,
          2032,
          1804,
          1268
         ],
         "yaxis": "y34"
        },
        {
         "marker": {
          "color": "#f1c40f"
         },
         "name": "gemini-1.5-flash",
         "showlegend": false,
         "type": "bar",
         "x": [
          "the",
          "of",
          "a",
          "and",
          "to",
          "that",
          "in",
          "with",
          "is",
          "its"
         ],
         "xaxis": "x35",
         "y": [
          13254,
          10504,
          9343,
          4192,
          4009,
          2323,
          2257,
          1851,
          1747,
          1465
         ],
         "yaxis": "y35"
        },
        {
         "marker": {
          "color": "#f1c40f"
         },
         "name": "gemini-1.5-flash",
         "showlegend": false,
         "type": "bar",
         "x": [
          "the",
          "of",
          "a",
          "and",
          "to",
          "that",
          "in",
          "is",
          "with",
          "its"
         ],
         "xaxis": "x36",
         "y": [
          14541,
          10440,
          9387,
          4074,
          3802,
          2388,
          2072,
          1909,
          1852,
          1503
         ],
         "yaxis": "y36"
        },
        {
         "marker": {
          "color": "#f1c40f"
         },
         "name": "gemini-1.5-flash",
         "showlegend": false,
         "type": "bar",
         "x": [
          "the",
          "a",
          "of",
          "and",
          "to",
          "with",
          "in",
          "that",
          "is",
          "their"
         ],
         "xaxis": "x37",
         "y": [
          11927,
          9077,
          8520,
          4340,
          3355,
          2254,
          2188,
          2063,
          1441,
          1193
         ],
         "yaxis": "y37"
        },
        {
         "marker": {
          "color": "#f1c40f"
         },
         "name": "gemini-1.5-flash",
         "showlegend": false,
         "type": "bar",
         "x": [
          "the",
          "of",
          "a",
          "and",
          "to",
          "that",
          "in",
          "with",
          "is",
          "its"
         ],
         "xaxis": "x38",
         "y": [
          12550,
          8783,
          8781,
          4827,
          3789,
          2130,
          2096,
          2009,
          1830,
          1246
         ],
         "yaxis": "y38"
        },
        {
         "marker": {
          "color": "#f1c40f"
         },
         "name": "gemini-1.5-flash",
         "showlegend": false,
         "type": "bar",
         "x": [
          "the",
          "of",
          "a",
          "to",
          "and",
          "in",
          "that",
          "with",
          "its",
          "is"
         ],
         "xaxis": "x39",
         "y": [
          13704,
          10665,
          10282,
          3712,
          3489,
          2114,
          2085,
          1939,
          1687,
          1673
         ],
         "yaxis": "y39"
        },
        {
         "marker": {
          "color": "#f1c40f"
         },
         "name": "gemini-1.5-flash",
         "showlegend": false,
         "type": "bar",
         "x": [
          "the",
          "a",
          "of",
          "and",
          "to",
          "with",
          "in",
          "that",
          "is",
          "you"
         ],
         "xaxis": "x40",
         "y": [
          11187,
          9549,
          8334,
          3624,
          3280,
          2292,
          1887,
          1851,
          1576,
          1188
         ],
         "yaxis": "y40"
        },
        {
         "marker": {
          "color": "#9b59b6"
         },
         "name": "open-mixtral-8x7b",
         "showlegend": true,
         "type": "bar",
         "x": [
          "the",
          "of",
          "and",
          "a",
          "to",
          "that",
          "in",
          "you",
          "is",
          "with"
         ],
         "xaxis": "x41",
         "y": [
          11425,
          7327,
          6595,
          6388,
          4450,
          3099,
          2436,
          1929,
          1773,
          1611
         ],
         "yaxis": "y41"
        },
        {
         "marker": {
          "color": "#9b59b6"
         },
         "name": "open-mixtral-8x7b",
         "showlegend": false,
         "type": "bar",
         "x": [
          "the",
          "of",
          "and",
          "a",
          "to",
          "that",
          "in",
          "with",
          "their",
          "as"
         ],
         "xaxis": "x42",
         "y": [
          13330,
          7711,
          7524,
          5917,
          4909,
          3548,
          2436,
          1702,
          1469,
          1444
         ],
         "yaxis": "y42"
        },
        {
         "marker": {
          "color": "#9b59b6"
         },
         "name": "open-mixtral-8x7b",
         "showlegend": false,
         "type": "bar",
         "x": [
          "the",
          "of",
          "and",
          "a",
          "to",
          "that",
          "in",
          "is",
          "as",
          "with"
         ],
         "xaxis": "x43",
         "y": [
          14553,
          9794,
          8111,
          6586,
          4697,
          4145,
          2632,
          2535,
          1469,
          1424
         ],
         "yaxis": "y43"
        },
        {
         "marker": {
          "color": "#9b59b6"
         },
         "name": "open-mixtral-8x7b",
         "showlegend": false,
         "type": "bar",
         "x": [
          "the",
          "of",
          "and",
          "a",
          "to",
          "that",
          "in",
          "is",
          "with",
          "as"
         ],
         "xaxis": "x44",
         "y": [
          13529,
          9203,
          7736,
          5884,
          4886,
          3522,
          2620,
          2385,
          1482,
          1341
         ],
         "yaxis": "y44"
        },
        {
         "marker": {
          "color": "#9b59b6"
         },
         "name": "open-mixtral-8x7b",
         "showlegend": false,
         "type": "bar",
         "x": [
          "the",
          "of",
          "and",
          "a",
          "to",
          "that",
          "in",
          "is",
          "as",
          "with"
         ],
         "xaxis": "x45",
         "y": [
          14314,
          9999,
          8396,
          5975,
          4718,
          3729,
          2772,
          2239,
          1467,
          1443
         ],
         "yaxis": "y45"
        },
        {
         "marker": {
          "color": "#9b59b6"
         },
         "name": "open-mixtral-8x7b",
         "showlegend": false,
         "type": "bar",
         "x": [
          "the",
          "of",
          "and",
          "a",
          "to",
          "that",
          "in",
          "is",
          "with",
          "as"
         ],
         "xaxis": "x46",
         "y": [
          13642,
          8899,
          7981,
          5987,
          4885,
          3345,
          2621,
          2043,
          1651,
          1495
         ],
         "yaxis": "y46"
        },
        {
         "marker": {
          "color": "#9b59b6"
         },
         "name": "open-mixtral-8x7b",
         "showlegend": false,
         "type": "bar",
         "x": [
          "the",
          "of",
          "and",
          "a",
          "to",
          "that",
          "in",
          "with",
          "as",
          "their"
         ],
         "xaxis": "x47",
         "y": [
          12721,
          7641,
          7521,
          5866,
          4549,
          3050,
          2447,
          1975,
          1460,
          1441
         ],
         "yaxis": "y47"
        },
        {
         "marker": {
          "color": "#9b59b6"
         },
         "name": "open-mixtral-8x7b",
         "showlegend": false,
         "type": "bar",
         "x": [
          "the",
          "and",
          "of",
          "a",
          "to",
          "that",
          "in",
          "with",
          "is",
          "as"
         ],
         "xaxis": "x48",
         "y": [
          13364,
          8377,
          7884,
          6027,
          4701,
          3233,
          2435,
          1769,
          1493,
          1460
         ],
         "yaxis": "y48"
        },
        {
         "marker": {
          "color": "#9b59b6"
         },
         "name": "open-mixtral-8x7b",
         "showlegend": false,
         "type": "bar",
         "x": [
          "the",
          "of",
          "and",
          "a",
          "to",
          "that",
          "in",
          "is",
          "our",
          "with"
         ],
         "xaxis": "x49",
         "y": [
          14996,
          9751,
          7756,
          6500,
          4835,
          4040,
          2856,
          2510,
          1570,
          1441
         ],
         "yaxis": "y49"
        },
        {
         "marker": {
          "color": "#9b59b6"
         },
         "name": "open-mixtral-8x7b",
         "showlegend": false,
         "type": "bar",
         "x": [
          "the",
          "of",
          "and",
          "a",
          "to",
          "in",
          "that",
          "with",
          "as",
          "is"
         ],
         "xaxis": "x50",
         "y": [
          11856,
          7191,
          6545,
          5940,
          4345,
          2462,
          2457,
          1843,
          1560,
          1414
         ],
         "yaxis": "y50"
        },
        {
         "marker": {
          "color": "#e67e22"
         },
         "name": "claude-3-haiku-20240307",
         "showlegend": true,
         "type": "bar",
         "x": [
          "the",
          "of",
          "a",
          "to",
          "and",
          "you",
          "that",
          "in",
          "it",
          "my"
         ],
         "xaxis": "x51",
         "y": [
          10673,
          6103,
          5841,
          4564,
          4430,
          2715,
          2687,
          2117,
          1576,
          1400
         ],
         "yaxis": "y51"
        },
        {
         "marker": {
          "color": "#e67e22"
         },
         "name": "claude-3-haiku-20240307",
         "showlegend": false,
         "type": "bar",
         "x": [
          "the",
          "of",
          "a",
          "and",
          "to",
          "that",
          "in",
          "with",
          "his",
          "you"
         ],
         "xaxis": "x52",
         "y": [
          13816,
          7493,
          5595,
          5285,
          4414,
          2673,
          2352,
          1771,
          1518,
          1295
         ],
         "yaxis": "y52"
        },
        {
         "marker": {
          "color": "#e67e22"
         },
         "name": "claude-3-haiku-20240307",
         "showlegend": false,
         "type": "bar",
         "x": [
          "the",
          "of",
          "a",
          "and",
          "to",
          "that",
          "in",
          "with",
          "is",
          "its"
         ],
         "xaxis": "x53",
         "y": [
          16020,
          9939,
          6171,
          5261,
          4898,
          3584,
          2472,
          1546,
          1468,
          1317
         ],
         "yaxis": "y53"
        },
        {
         "marker": {
          "color": "#e67e22"
         },
         "name": "claude-3-haiku-20240307",
         "showlegend": false,
         "type": "bar",
         "x": [
          "the",
          "of",
          "a",
          "and",
          "to",
          "that",
          "in",
          "with",
          "is",
          "our"
         ],
         "xaxis": "x54",
         "y": [
          15882,
          10339,
          5904,
          5447,
          4600,
          3212,
          2398,
          1606,
          1574,
          1551
         ],
         "yaxis": "y54"
        },
        {
         "marker": {
          "color": "#e67e22"
         },
         "name": "claude-3-haiku-20240307",
         "showlegend": false,
         "type": "bar",
         "x": [
          "the",
          "of",
          "a",
          "and",
          "to",
          "that",
          "in",
          "with",
          "their",
          "is"
         ],
         "xaxis": "x55",
         "y": [
          16050,
          9908,
          5872,
          5432,
          4609,
          3335,
          2541,
          1677,
          1431,
          1408
         ],
         "yaxis": "y55"
        },
        {
         "marker": {
          "color": "#e67e22"
         },
         "name": "claude-3-haiku-20240307",
         "showlegend": false,
         "type": "bar",
         "x": [
          "the",
          "of",
          "a",
          "and",
          "to",
          "that",
          "in",
          "with",
          "is",
          "our"
         ],
         "xaxis": "x56",
         "y": [
          15197,
          9639,
          5843,
          5683,
          4833,
          3329,
          2486,
          1709,
          1538,
          1381
         ],
         "yaxis": "y56"
        },
        {
         "marker": {
          "color": "#e67e22"
         },
         "name": "claude-3-haiku-20240307",
         "showlegend": false,
         "type": "bar",
         "x": [
          "the",
          "of",
          "a",
          "and",
          "to",
          "that",
          "in",
          "with",
          "you",
          "is"
         ],
         "xaxis": "x57",
         "y": [
          12922,
          7550,
          5575,
          5316,
          4632,
          2649,
          2446,
          1806,
          1539,
          1306
         ],
         "yaxis": "y57"
        },
        {
         "marker": {
          "color": "#e67e22"
         },
         "name": "claude-3-haiku-20240307",
         "showlegend": false,
         "type": "bar",
         "x": [
          "the",
          "of",
          "a",
          "and",
          "to",
          "that",
          "in",
          "with",
          "is",
          "you"
         ],
         "xaxis": "x58",
         "y": [
          14397,
          8693,
          5941,
          5763,
          4598,
          3000,
          2480,
          1655,
          1306,
          1273
         ],
         "yaxis": "y58"
        },
        {
         "marker": {
          "color": "#e67e22"
         },
         "name": "claude-3-haiku-20240307",
         "showlegend": false,
         "type": "bar",
         "x": [
          "the",
          "of",
          "a",
          "and",
          "to",
          "that",
          "in",
          "with",
          "is",
          "our"
         ],
         "xaxis": "x59",
         "y": [
          16248,
          9555,
          6156,
          4742,
          4700,
          3191,
          2652,
          1606,
          1541,
          1420
         ],
         "yaxis": "y59"
        },
        {
         "marker": {
          "color": "#e67e22"
         },
         "name": "claude-3-haiku-20240307",
         "showlegend": false,
         "type": "bar",
         "x": [
          "the",
          "of",
          "a",
          "and",
          "to",
          "that",
          "in",
          "with",
          "you",
          "is"
         ],
         "xaxis": "x60",
         "y": [
          14594,
          8891,
          6163,
          5245,
          4333,
          2656,
          2372,
          1866,
          1533,
          1321
         ],
         "yaxis": "y60"
        }
       ],
       "layout": {
        "annotations": [
         {
          "font": {
           "size": 10
          },
          "showarrow": false,
          "text": "Mark Twain",
          "x": 0.041,
          "xanchor": "center",
          "xref": "paper",
          "y": 0.9999999999999999,
          "yanchor": "bottom",
          "yref": "paper"
         },
         {
          "font": {
           "size": 10
          },
          "showarrow": false,
          "text": "Zane Grey",
          "x": 0.14300000000000002,
          "xanchor": "center",
          "xref": "paper",
          "y": 0.9999999999999999,
          "yanchor": "bottom",
          "yref": "paper"
         },
         {
          "font": {
           "size": 10
          },
          "showarrow": false,
          "text": "Joseph Conrad",
          "x": 0.24500000000000002,
          "xanchor": "center",
          "xref": "paper",
          "y": 0.9999999999999999,
          "yanchor": "bottom",
          "yref": "paper"
         },
         {
          "font": {
           "size": 10
          },
          "showarrow": false,
          "text": "Benjamin Disraeli",
          "x": 0.347,
          "xanchor": "center",
          "xref": "paper",
          "y": 0.9999999999999999,
          "yanchor": "bottom",
          "yref": "paper"
         },
         {
          "font": {
           "size": 10
          },
          "showarrow": false,
          "text": "George Eliot",
          "x": 0.44900000000000007,
          "xanchor": "center",
          "xref": "paper",
          "y": 0.9999999999999999,
          "yanchor": "bottom",
          "yref": "paper"
         },
         {
          "font": {
           "size": 10
          },
          "showarrow": false,
          "text": "William Henry Hudson",
          "x": 0.5509999999999999,
          "xanchor": "center",
          "xref": "paper",
          "y": 0.9999999999999999,
          "yanchor": "bottom",
          "yref": "paper"
         },
         {
          "font": {
           "size": 10
          },
          "showarrow": false,
          "text": "Lucy Maud Montgomery",
          "x": 0.653,
          "xanchor": "center",
          "xref": "paper",
          "y": 0.9999999999999999,
          "yanchor": "bottom",
          "yref": "paper"
         },
         {
          "font": {
           "size": 10
          },
          "showarrow": false,
          "text": "Howard Pyle",
          "x": 0.7550000000000001,
          "xanchor": "center",
          "xref": "paper",
          "y": 0.9999999999999999,
          "yanchor": "bottom",
          "yref": "paper"
         },
         {
          "font": {
           "size": 10
          },
          "showarrow": false,
          "text": "Virginia Woolf",
          "x": 0.857,
          "xanchor": "center",
          "xref": "paper",
          "y": 0.9999999999999999,
          "yanchor": "bottom",
          "yref": "paper"
         },
         {
          "font": {
           "size": 10
          },
          "showarrow": false,
          "text": "Lewis Carroll",
          "x": 0.9589999999999999,
          "xanchor": "center",
          "xref": "paper",
          "y": 0.9999999999999999,
          "yanchor": "bottom",
          "yref": "paper"
         }
        ],
        "height": 800,
        "legend": {
         "title": {
          "text": "Collection"
         }
        },
        "template": {
         "data": {
          "bar": [
           {
            "error_x": {
             "color": "#2a3f5f"
            },
            "error_y": {
             "color": "#2a3f5f"
            },
            "marker": {
             "line": {
              "color": "#E5ECF6",
              "width": 0.5
             },
             "pattern": {
              "fillmode": "overlay",
              "size": 10,
              "solidity": 0.2
             }
            },
            "type": "bar"
           }
          ],
          "barpolar": [
           {
            "marker": {
             "line": {
              "color": "#E5ECF6",
              "width": 0.5
             },
             "pattern": {
              "fillmode": "overlay",
              "size": 10,
              "solidity": 0.2
             }
            },
            "type": "barpolar"
           }
          ],
          "carpet": [
           {
            "aaxis": {
             "endlinecolor": "#2a3f5f",
             "gridcolor": "white",
             "linecolor": "white",
             "minorgridcolor": "white",
             "startlinecolor": "#2a3f5f"
            },
            "baxis": {
             "endlinecolor": "#2a3f5f",
             "gridcolor": "white",
             "linecolor": "white",
             "minorgridcolor": "white",
             "startlinecolor": "#2a3f5f"
            },
            "type": "carpet"
           }
          ],
          "choropleth": [
           {
            "colorbar": {
             "outlinewidth": 0,
             "ticks": ""
            },
            "type": "choropleth"
           }
          ],
          "contour": [
           {
            "colorbar": {
             "outlinewidth": 0,
             "ticks": ""
            },
            "colorscale": [
             [
              0,
              "#0d0887"
             ],
             [
              0.1111111111111111,
              "#46039f"
             ],
             [
              0.2222222222222222,
              "#7201a8"
             ],
             [
              0.3333333333333333,
              "#9c179e"
             ],
             [
              0.4444444444444444,
              "#bd3786"
             ],
             [
              0.5555555555555556,
              "#d8576b"
             ],
             [
              0.6666666666666666,
              "#ed7953"
             ],
             [
              0.7777777777777778,
              "#fb9f3a"
             ],
             [
              0.8888888888888888,
              "#fdca26"
             ],
             [
              1,
              "#f0f921"
             ]
            ],
            "type": "contour"
           }
          ],
          "contourcarpet": [
           {
            "colorbar": {
             "outlinewidth": 0,
             "ticks": ""
            },
            "type": "contourcarpet"
           }
          ],
          "heatmap": [
           {
            "colorbar": {
             "outlinewidth": 0,
             "ticks": ""
            },
            "colorscale": [
             [
              0,
              "#0d0887"
             ],
             [
              0.1111111111111111,
              "#46039f"
             ],
             [
              0.2222222222222222,
              "#7201a8"
             ],
             [
              0.3333333333333333,
              "#9c179e"
             ],
             [
              0.4444444444444444,
              "#bd3786"
             ],
             [
              0.5555555555555556,
              "#d8576b"
             ],
             [
              0.6666666666666666,
              "#ed7953"
             ],
             [
              0.7777777777777778,
              "#fb9f3a"
             ],
             [
              0.8888888888888888,
              "#fdca26"
             ],
             [
              1,
              "#f0f921"
             ]
            ],
            "type": "heatmap"
           }
          ],
          "heatmapgl": [
           {
            "colorbar": {
             "outlinewidth": 0,
             "ticks": ""
            },
            "colorscale": [
             [
              0,
              "#0d0887"
             ],
             [
              0.1111111111111111,
              "#46039f"
             ],
             [
              0.2222222222222222,
              "#7201a8"
             ],
             [
              0.3333333333333333,
              "#9c179e"
             ],
             [
              0.4444444444444444,
              "#bd3786"
             ],
             [
              0.5555555555555556,
              "#d8576b"
             ],
             [
              0.6666666666666666,
              "#ed7953"
             ],
             [
              0.7777777777777778,
              "#fb9f3a"
             ],
             [
              0.8888888888888888,
              "#fdca26"
             ],
             [
              1,
              "#f0f921"
             ]
            ],
            "type": "heatmapgl"
           }
          ],
          "histogram": [
           {
            "marker": {
             "pattern": {
              "fillmode": "overlay",
              "size": 10,
              "solidity": 0.2
             }
            },
            "type": "histogram"
           }
          ],
          "histogram2d": [
           {
            "colorbar": {
             "outlinewidth": 0,
             "ticks": ""
            },
            "colorscale": [
             [
              0,
              "#0d0887"
             ],
             [
              0.1111111111111111,
              "#46039f"
             ],
             [
              0.2222222222222222,
              "#7201a8"
             ],
             [
              0.3333333333333333,
              "#9c179e"
             ],
             [
              0.4444444444444444,
              "#bd3786"
             ],
             [
              0.5555555555555556,
              "#d8576b"
             ],
             [
              0.6666666666666666,
              "#ed7953"
             ],
             [
              0.7777777777777778,
              "#fb9f3a"
             ],
             [
              0.8888888888888888,
              "#fdca26"
             ],
             [
              1,
              "#f0f921"
             ]
            ],
            "type": "histogram2d"
           }
          ],
          "histogram2dcontour": [
           {
            "colorbar": {
             "outlinewidth": 0,
             "ticks": ""
            },
            "colorscale": [
             [
              0,
              "#0d0887"
             ],
             [
              0.1111111111111111,
              "#46039f"
             ],
             [
              0.2222222222222222,
              "#7201a8"
             ],
             [
              0.3333333333333333,
              "#9c179e"
             ],
             [
              0.4444444444444444,
              "#bd3786"
             ],
             [
              0.5555555555555556,
              "#d8576b"
             ],
             [
              0.6666666666666666,
              "#ed7953"
             ],
             [
              0.7777777777777778,
              "#fb9f3a"
             ],
             [
              0.8888888888888888,
              "#fdca26"
             ],
             [
              1,
              "#f0f921"
             ]
            ],
            "type": "histogram2dcontour"
           }
          ],
          "mesh3d": [
           {
            "colorbar": {
             "outlinewidth": 0,
             "ticks": ""
            },
            "type": "mesh3d"
           }
          ],
          "parcoords": [
           {
            "line": {
             "colorbar": {
              "outlinewidth": 0,
              "ticks": ""
             }
            },
            "type": "parcoords"
           }
          ],
          "pie": [
           {
            "automargin": true,
            "type": "pie"
           }
          ],
          "scatter": [
           {
            "fillpattern": {
             "fillmode": "overlay",
             "size": 10,
             "solidity": 0.2
            },
            "type": "scatter"
           }
          ],
          "scatter3d": [
           {
            "line": {
             "colorbar": {
              "outlinewidth": 0,
              "ticks": ""
             }
            },
            "marker": {
             "colorbar": {
              "outlinewidth": 0,
              "ticks": ""
             }
            },
            "type": "scatter3d"
           }
          ],
          "scattercarpet": [
           {
            "marker": {
             "colorbar": {
              "outlinewidth": 0,
              "ticks": ""
             }
            },
            "type": "scattercarpet"
           }
          ],
          "scattergeo": [
           {
            "marker": {
             "colorbar": {
              "outlinewidth": 0,
              "ticks": ""
             }
            },
            "type": "scattergeo"
           }
          ],
          "scattergl": [
           {
            "marker": {
             "colorbar": {
              "outlinewidth": 0,
              "ticks": ""
             }
            },
            "type": "scattergl"
           }
          ],
          "scattermapbox": [
           {
            "marker": {
             "colorbar": {
              "outlinewidth": 0,
              "ticks": ""
             }
            },
            "type": "scattermapbox"
           }
          ],
          "scatterpolar": [
           {
            "marker": {
             "colorbar": {
              "outlinewidth": 0,
              "ticks": ""
             }
            },
            "type": "scatterpolar"
           }
          ],
          "scatterpolargl": [
           {
            "marker": {
             "colorbar": {
              "outlinewidth": 0,
              "ticks": ""
             }
            },
            "type": "scatterpolargl"
           }
          ],
          "scatterternary": [
           {
            "marker": {
             "colorbar": {
              "outlinewidth": 0,
              "ticks": ""
             }
            },
            "type": "scatterternary"
           }
          ],
          "surface": [
           {
            "colorbar": {
             "outlinewidth": 0,
             "ticks": ""
            },
            "colorscale": [
             [
              0,
              "#0d0887"
             ],
             [
              0.1111111111111111,
              "#46039f"
             ],
             [
              0.2222222222222222,
              "#7201a8"
             ],
             [
              0.3333333333333333,
              "#9c179e"
             ],
             [
              0.4444444444444444,
              "#bd3786"
             ],
             [
              0.5555555555555556,
              "#d8576b"
             ],
             [
              0.6666666666666666,
              "#ed7953"
             ],
             [
              0.7777777777777778,
              "#fb9f3a"
             ],
             [
              0.8888888888888888,
              "#fdca26"
             ],
             [
              1,
              "#f0f921"
             ]
            ],
            "type": "surface"
           }
          ],
          "table": [
           {
            "cells": {
             "fill": {
              "color": "#EBF0F8"
             },
             "line": {
              "color": "white"
             }
            },
            "header": {
             "fill": {
              "color": "#C8D4E3"
             },
             "line": {
              "color": "white"
             }
            },
            "type": "table"
           }
          ]
         },
         "layout": {
          "annotationdefaults": {
           "arrowcolor": "#2a3f5f",
           "arrowhead": 0,
           "arrowwidth": 1
          },
          "autotypenumbers": "strict",
          "coloraxis": {
           "colorbar": {
            "outlinewidth": 0,
            "ticks": ""
           }
          },
          "colorscale": {
           "diverging": [
            [
             0,
             "#8e0152"
            ],
            [
             0.1,
             "#c51b7d"
            ],
            [
             0.2,
             "#de77ae"
            ],
            [
             0.3,
             "#f1b6da"
            ],
            [
             0.4,
             "#fde0ef"
            ],
            [
             0.5,
             "#f7f7f7"
            ],
            [
             0.6,
             "#e6f5d0"
            ],
            [
             0.7,
             "#b8e186"
            ],
            [
             0.8,
             "#7fbc41"
            ],
            [
             0.9,
             "#4d9221"
            ],
            [
             1,
             "#276419"
            ]
           ],
           "sequential": [
            [
             0,
             "#0d0887"
            ],
            [
             0.1111111111111111,
             "#46039f"
            ],
            [
             0.2222222222222222,
             "#7201a8"
            ],
            [
             0.3333333333333333,
             "#9c179e"
            ],
            [
             0.4444444444444444,
             "#bd3786"
            ],
            [
             0.5555555555555556,
             "#d8576b"
            ],
            [
             0.6666666666666666,
             "#ed7953"
            ],
            [
             0.7777777777777778,
             "#fb9f3a"
            ],
            [
             0.8888888888888888,
             "#fdca26"
            ],
            [
             1,
             "#f0f921"
            ]
           ],
           "sequentialminus": [
            [
             0,
             "#0d0887"
            ],
            [
             0.1111111111111111,
             "#46039f"
            ],
            [
             0.2222222222222222,
             "#7201a8"
            ],
            [
             0.3333333333333333,
             "#9c179e"
            ],
            [
             0.4444444444444444,
             "#bd3786"
            ],
            [
             0.5555555555555556,
             "#d8576b"
            ],
            [
             0.6666666666666666,
             "#ed7953"
            ],
            [
             0.7777777777777778,
             "#fb9f3a"
            ],
            [
             0.8888888888888888,
             "#fdca26"
            ],
            [
             1,
             "#f0f921"
            ]
           ]
          },
          "colorway": [
           "#636efa",
           "#EF553B",
           "#00cc96",
           "#ab63fa",
           "#FFA15A",
           "#19d3f3",
           "#FF6692",
           "#B6E880",
           "#FF97FF",
           "#FECB52"
          ],
          "font": {
           "color": "#2a3f5f"
          },
          "geo": {
           "bgcolor": "white",
           "lakecolor": "white",
           "landcolor": "#E5ECF6",
           "showlakes": true,
           "showland": true,
           "subunitcolor": "white"
          },
          "hoverlabel": {
           "align": "left"
          },
          "hovermode": "closest",
          "mapbox": {
           "style": "light"
          },
          "paper_bgcolor": "white",
          "plot_bgcolor": "#E5ECF6",
          "polar": {
           "angularaxis": {
            "gridcolor": "white",
            "linecolor": "white",
            "ticks": ""
           },
           "bgcolor": "#E5ECF6",
           "radialaxis": {
            "gridcolor": "white",
            "linecolor": "white",
            "ticks": ""
           }
          },
          "scene": {
           "xaxis": {
            "backgroundcolor": "#E5ECF6",
            "gridcolor": "white",
            "gridwidth": 2,
            "linecolor": "white",
            "showbackground": true,
            "ticks": "",
            "zerolinecolor": "white"
           },
           "yaxis": {
            "backgroundcolor": "#E5ECF6",
            "gridcolor": "white",
            "gridwidth": 2,
            "linecolor": "white",
            "showbackground": true,
            "ticks": "",
            "zerolinecolor": "white"
           },
           "zaxis": {
            "backgroundcolor": "#E5ECF6",
            "gridcolor": "white",
            "gridwidth": 2,
            "linecolor": "white",
            "showbackground": true,
            "ticks": "",
            "zerolinecolor": "white"
           }
          },
          "shapedefaults": {
           "line": {
            "color": "#2a3f5f"
           }
          },
          "ternary": {
           "aaxis": {
            "gridcolor": "white",
            "linecolor": "white",
            "ticks": ""
           },
           "baxis": {
            "gridcolor": "white",
            "linecolor": "white",
            "ticks": ""
           },
           "bgcolor": "#E5ECF6",
           "caxis": {
            "gridcolor": "white",
            "linecolor": "white",
            "ticks": ""
           }
          },
          "title": {
           "x": 0.05
          },
          "xaxis": {
           "automargin": true,
           "gridcolor": "white",
           "linecolor": "white",
           "ticks": "",
           "title": {
            "standoff": 15
           },
           "zerolinecolor": "white",
           "zerolinewidth": 2
          },
          "yaxis": {
           "automargin": true,
           "gridcolor": "white",
           "linecolor": "white",
           "ticks": "",
           "title": {
            "standoff": 15
           },
           "zerolinecolor": "white",
           "zerolinewidth": 2
          }
         }
        },
        "title": {
         "text": "Top 10 function words",
         "x": 0.5
        },
        "xaxis": {
         "anchor": "y",
         "domain": [
          0,
          0.082
         ],
         "tickfont": {
          "size": 10
         }
        },
        "xaxis10": {
         "anchor": "y10",
         "domain": [
          0.9179999999999999,
          0.9999999999999999
         ],
         "tickfont": {
          "size": 10
         }
        },
        "xaxis11": {
         "anchor": "y11",
         "domain": [
          0,
          0.082
         ],
         "tickfont": {
          "size": 10
         }
        },
        "xaxis12": {
         "anchor": "y12",
         "domain": [
          0.10200000000000001,
          0.184
         ],
         "tickfont": {
          "size": 10
         }
        },
        "xaxis13": {
         "anchor": "y13",
         "domain": [
          0.20400000000000001,
          0.28600000000000003
         ],
         "tickfont": {
          "size": 10
         }
        },
        "xaxis14": {
         "anchor": "y14",
         "domain": [
          0.306,
          0.388
         ],
         "tickfont": {
          "size": 10
         }
        },
        "xaxis15": {
         "anchor": "y15",
         "domain": [
          0.40800000000000003,
          0.49000000000000005
         ],
         "tickfont": {
          "size": 10
         }
        },
        "xaxis16": {
         "anchor": "y16",
         "domain": [
          0.51,
          0.592
         ],
         "tickfont": {
          "size": 10
         }
        },
        "xaxis17": {
         "anchor": "y17",
         "domain": [
          0.612,
          0.694
         ],
         "tickfont": {
          "size": 10
         }
        },
        "xaxis18": {
         "anchor": "y18",
         "domain": [
          0.7140000000000001,
          0.796
         ],
         "tickfont": {
          "size": 10
         }
        },
        "xaxis19": {
         "anchor": "y19",
         "domain": [
          0.8160000000000001,
          0.898
         ],
         "tickfont": {
          "size": 10
         }
        },
        "xaxis2": {
         "anchor": "y2",
         "domain": [
          0.10200000000000001,
          0.184
         ],
         "tickfont": {
          "size": 10
         }
        },
        "xaxis20": {
         "anchor": "y20",
         "domain": [
          0.9179999999999999,
          0.9999999999999999
         ],
         "tickfont": {
          "size": 10
         }
        },
        "xaxis21": {
         "anchor": "y21",
         "domain": [
          0,
          0.082
         ],
         "tickfont": {
          "size": 10
         }
        },
        "xaxis22": {
         "anchor": "y22",
         "domain": [
          0.10200000000000001,
          0.184
         ],
         "tickfont": {
          "size": 10
         }
        },
        "xaxis23": {
         "anchor": "y23",
         "domain": [
          0.20400000000000001,
          0.28600000000000003
         ],
         "tickfont": {
          "size": 10
         }
        },
        "xaxis24": {
         "anchor": "y24",
         "domain": [
          0.306,
          0.388
         ],
         "tickfont": {
          "size": 10
         }
        },
        "xaxis25": {
         "anchor": "y25",
         "domain": [
          0.40800000000000003,
          0.49000000000000005
         ],
         "tickfont": {
          "size": 10
         }
        },
        "xaxis26": {
         "anchor": "y26",
         "domain": [
          0.51,
          0.592
         ],
         "tickfont": {
          "size": 10
         }
        },
        "xaxis27": {
         "anchor": "y27",
         "domain": [
          0.612,
          0.694
         ],
         "tickfont": {
          "size": 10
         }
        },
        "xaxis28": {
         "anchor": "y28",
         "domain": [
          0.7140000000000001,
          0.796
         ],
         "tickfont": {
          "size": 10
         }
        },
        "xaxis29": {
         "anchor": "y29",
         "domain": [
          0.8160000000000001,
          0.898
         ],
         "tickfont": {
          "size": 10
         }
        },
        "xaxis3": {
         "anchor": "y3",
         "domain": [
          0.20400000000000001,
          0.28600000000000003
         ],
         "tickfont": {
          "size": 10
         }
        },
        "xaxis30": {
         "anchor": "y30",
         "domain": [
          0.9179999999999999,
          0.9999999999999999
         ],
         "tickfont": {
          "size": 10
         }
        },
        "xaxis31": {
         "anchor": "y31",
         "domain": [
          0,
          0.082
         ],
         "tickfont": {
          "size": 10
         }
        },
        "xaxis32": {
         "anchor": "y32",
         "domain": [
          0.10200000000000001,
          0.184
         ],
         "tickfont": {
          "size": 10
         }
        },
        "xaxis33": {
         "anchor": "y33",
         "domain": [
          0.20400000000000001,
          0.28600000000000003
         ],
         "tickfont": {
          "size": 10
         }
        },
        "xaxis34": {
         "anchor": "y34",
         "domain": [
          0.306,
          0.388
         ],
         "tickfont": {
          "size": 10
         }
        },
        "xaxis35": {
         "anchor": "y35",
         "domain": [
          0.40800000000000003,
          0.49000000000000005
         ],
         "tickfont": {
          "size": 10
         }
        },
        "xaxis36": {
         "anchor": "y36",
         "domain": [
          0.51,
          0.592
         ],
         "tickfont": {
          "size": 10
         }
        },
        "xaxis37": {
         "anchor": "y37",
         "domain": [
          0.612,
          0.694
         ],
         "tickfont": {
          "size": 10
         }
        },
        "xaxis38": {
         "anchor": "y38",
         "domain": [
          0.7140000000000001,
          0.796
         ],
         "tickfont": {
          "size": 10
         }
        },
        "xaxis39": {
         "anchor": "y39",
         "domain": [
          0.8160000000000001,
          0.898
         ],
         "tickfont": {
          "size": 10
         }
        },
        "xaxis4": {
         "anchor": "y4",
         "domain": [
          0.306,
          0.388
         ],
         "tickfont": {
          "size": 10
         }
        },
        "xaxis40": {
         "anchor": "y40",
         "domain": [
          0.9179999999999999,
          0.9999999999999999
         ],
         "tickfont": {
          "size": 10
         }
        },
        "xaxis41": {
         "anchor": "y41",
         "domain": [
          0,
          0.082
         ],
         "tickfont": {
          "size": 10
         }
        },
        "xaxis42": {
         "anchor": "y42",
         "domain": [
          0.10200000000000001,
          0.184
         ],
         "tickfont": {
          "size": 10
         }
        },
        "xaxis43": {
         "anchor": "y43",
         "domain": [
          0.20400000000000001,
          0.28600000000000003
         ],
         "tickfont": {
          "size": 10
         }
        },
        "xaxis44": {
         "anchor": "y44",
         "domain": [
          0.306,
          0.388
         ],
         "tickfont": {
          "size": 10
         }
        },
        "xaxis45": {
         "anchor": "y45",
         "domain": [
          0.40800000000000003,
          0.49000000000000005
         ],
         "tickfont": {
          "size": 10
         }
        },
        "xaxis46": {
         "anchor": "y46",
         "domain": [
          0.51,
          0.592
         ],
         "tickfont": {
          "size": 10
         }
        },
        "xaxis47": {
         "anchor": "y47",
         "domain": [
          0.612,
          0.694
         ],
         "tickfont": {
          "size": 10
         }
        },
        "xaxis48": {
         "anchor": "y48",
         "domain": [
          0.7140000000000001,
          0.796
         ],
         "tickfont": {
          "size": 10
         }
        },
        "xaxis49": {
         "anchor": "y49",
         "domain": [
          0.8160000000000001,
          0.898
         ],
         "tickfont": {
          "size": 10
         }
        },
        "xaxis5": {
         "anchor": "y5",
         "domain": [
          0.40800000000000003,
          0.49000000000000005
         ],
         "tickfont": {
          "size": 10
         }
        },
        "xaxis50": {
         "anchor": "y50",
         "domain": [
          0.9179999999999999,
          0.9999999999999999
         ],
         "tickfont": {
          "size": 10
         }
        },
        "xaxis51": {
         "anchor": "y51",
         "domain": [
          0,
          0.082
         ],
         "tickfont": {
          "size": 10
         }
        },
        "xaxis52": {
         "anchor": "y52",
         "domain": [
          0.10200000000000001,
          0.184
         ],
         "tickfont": {
          "size": 10
         }
        },
        "xaxis53": {
         "anchor": "y53",
         "domain": [
          0.20400000000000001,
          0.28600000000000003
         ],
         "tickfont": {
          "size": 10
         }
        },
        "xaxis54": {
         "anchor": "y54",
         "domain": [
          0.306,
          0.388
         ],
         "tickfont": {
          "size": 10
         }
        },
        "xaxis55": {
         "anchor": "y55",
         "domain": [
          0.40800000000000003,
          0.49000000000000005
         ],
         "tickfont": {
          "size": 10
         }
        },
        "xaxis56": {
         "anchor": "y56",
         "domain": [
          0.51,
          0.592
         ],
         "tickfont": {
          "size": 10
         }
        },
        "xaxis57": {
         "anchor": "y57",
         "domain": [
          0.612,
          0.694
         ],
         "tickfont": {
          "size": 10
         }
        },
        "xaxis58": {
         "anchor": "y58",
         "domain": [
          0.7140000000000001,
          0.796
         ],
         "tickfont": {
          "size": 10
         }
        },
        "xaxis59": {
         "anchor": "y59",
         "domain": [
          0.8160000000000001,
          0.898
         ],
         "tickfont": {
          "size": 10
         }
        },
        "xaxis6": {
         "anchor": "y6",
         "domain": [
          0.51,
          0.592
         ],
         "tickfont": {
          "size": 10
         }
        },
        "xaxis60": {
         "anchor": "y60",
         "domain": [
          0.9179999999999999,
          0.9999999999999999
         ],
         "tickfont": {
          "size": 10
         }
        },
        "xaxis7": {
         "anchor": "y7",
         "domain": [
          0.612,
          0.694
         ],
         "tickfont": {
          "size": 10
         }
        },
        "xaxis8": {
         "anchor": "y8",
         "domain": [
          0.7140000000000001,
          0.796
         ],
         "tickfont": {
          "size": 10
         }
        },
        "xaxis9": {
         "anchor": "y9",
         "domain": [
          0.8160000000000001,
          0.898
         ],
         "tickfont": {
          "size": 10
         }
        },
        "yaxis": {
         "anchor": "x",
         "domain": [
          0.9027777777777777,
          0.9999999999999999
         ],
         "range": [
          0,
          16248
         ]
        },
        "yaxis10": {
         "anchor": "x10",
         "domain": [
          0.9027777777777777,
          0.9999999999999999
         ],
         "range": [
          0,
          16248
         ]
        },
        "yaxis11": {
         "anchor": "x11",
         "domain": [
          0.7222222222222222,
          0.8194444444444444
         ],
         "range": [
          0,
          16248
         ]
        },
        "yaxis12": {
         "anchor": "x12",
         "domain": [
          0.7222222222222222,
          0.8194444444444444
         ],
         "range": [
          0,
          16248
         ]
        },
        "yaxis13": {
         "anchor": "x13",
         "domain": [
          0.7222222222222222,
          0.8194444444444444
         ],
         "range": [
          0,
          16248
         ]
        },
        "yaxis14": {
         "anchor": "x14",
         "domain": [
          0.7222222222222222,
          0.8194444444444444
         ],
         "range": [
          0,
          16248
         ]
        },
        "yaxis15": {
         "anchor": "x15",
         "domain": [
          0.7222222222222222,
          0.8194444444444444
         ],
         "range": [
          0,
          16248
         ]
        },
        "yaxis16": {
         "anchor": "x16",
         "domain": [
          0.7222222222222222,
          0.8194444444444444
         ],
         "range": [
          0,
          16248
         ]
        },
        "yaxis17": {
         "anchor": "x17",
         "domain": [
          0.7222222222222222,
          0.8194444444444444
         ],
         "range": [
          0,
          16248
         ]
        },
        "yaxis18": {
         "anchor": "x18",
         "domain": [
          0.7222222222222222,
          0.8194444444444444
         ],
         "range": [
          0,
          16248
         ]
        },
        "yaxis19": {
         "anchor": "x19",
         "domain": [
          0.7222222222222222,
          0.8194444444444444
         ],
         "range": [
          0,
          16248
         ]
        },
        "yaxis2": {
         "anchor": "x2",
         "domain": [
          0.9027777777777777,
          0.9999999999999999
         ],
         "range": [
          0,
          16248
         ]
        },
        "yaxis20": {
         "anchor": "x20",
         "domain": [
          0.7222222222222222,
          0.8194444444444444
         ],
         "range": [
          0,
          16248
         ]
        },
        "yaxis21": {
         "anchor": "x21",
         "domain": [
          0.5416666666666667,
          0.638888888888889
         ],
         "range": [
          0,
          16248
         ]
        },
        "yaxis22": {
         "anchor": "x22",
         "domain": [
          0.5416666666666667,
          0.638888888888889
         ],
         "range": [
          0,
          16248
         ]
        },
        "yaxis23": {
         "anchor": "x23",
         "domain": [
          0.5416666666666667,
          0.638888888888889
         ],
         "range": [
          0,
          16248
         ]
        },
        "yaxis24": {
         "anchor": "x24",
         "domain": [
          0.5416666666666667,
          0.638888888888889
         ],
         "range": [
          0,
          16248
         ]
        },
        "yaxis25": {
         "anchor": "x25",
         "domain": [
          0.5416666666666667,
          0.638888888888889
         ],
         "range": [
          0,
          16248
         ]
        },
        "yaxis26": {
         "anchor": "x26",
         "domain": [
          0.5416666666666667,
          0.638888888888889
         ],
         "range": [
          0,
          16248
         ]
        },
        "yaxis27": {
         "anchor": "x27",
         "domain": [
          0.5416666666666667,
          0.638888888888889
         ],
         "range": [
          0,
          16248
         ]
        },
        "yaxis28": {
         "anchor": "x28",
         "domain": [
          0.5416666666666667,
          0.638888888888889
         ],
         "range": [
          0,
          16248
         ]
        },
        "yaxis29": {
         "anchor": "x29",
         "domain": [
          0.5416666666666667,
          0.638888888888889
         ],
         "range": [
          0,
          16248
         ]
        },
        "yaxis3": {
         "anchor": "x3",
         "domain": [
          0.9027777777777777,
          0.9999999999999999
         ],
         "range": [
          0,
          16248
         ]
        },
        "yaxis30": {
         "anchor": "x30",
         "domain": [
          0.5416666666666667,
          0.638888888888889
         ],
         "range": [
          0,
          16248
         ]
        },
        "yaxis31": {
         "anchor": "x31",
         "domain": [
          0.3611111111111111,
          0.4583333333333333
         ],
         "range": [
          0,
          16248
         ]
        },
        "yaxis32": {
         "anchor": "x32",
         "domain": [
          0.3611111111111111,
          0.4583333333333333
         ],
         "range": [
          0,
          16248
         ]
        },
        "yaxis33": {
         "anchor": "x33",
         "domain": [
          0.3611111111111111,
          0.4583333333333333
         ],
         "range": [
          0,
          16248
         ]
        },
        "yaxis34": {
         "anchor": "x34",
         "domain": [
          0.3611111111111111,
          0.4583333333333333
         ],
         "range": [
          0,
          16248
         ]
        },
        "yaxis35": {
         "anchor": "x35",
         "domain": [
          0.3611111111111111,
          0.4583333333333333
         ],
         "range": [
          0,
          16248
         ]
        },
        "yaxis36": {
         "anchor": "x36",
         "domain": [
          0.3611111111111111,
          0.4583333333333333
         ],
         "range": [
          0,
          16248
         ]
        },
        "yaxis37": {
         "anchor": "x37",
         "domain": [
          0.3611111111111111,
          0.4583333333333333
         ],
         "range": [
          0,
          16248
         ]
        },
        "yaxis38": {
         "anchor": "x38",
         "domain": [
          0.3611111111111111,
          0.4583333333333333
         ],
         "range": [
          0,
          16248
         ]
        },
        "yaxis39": {
         "anchor": "x39",
         "domain": [
          0.3611111111111111,
          0.4583333333333333
         ],
         "range": [
          0,
          16248
         ]
        },
        "yaxis4": {
         "anchor": "x4",
         "domain": [
          0.9027777777777777,
          0.9999999999999999
         ],
         "range": [
          0,
          16248
         ]
        },
        "yaxis40": {
         "anchor": "x40",
         "domain": [
          0.3611111111111111,
          0.4583333333333333
         ],
         "range": [
          0,
          16248
         ]
        },
        "yaxis41": {
         "anchor": "x41",
         "domain": [
          0.18055555555555555,
          0.2777777777777778
         ],
         "range": [
          0,
          16248
         ]
        },
        "yaxis42": {
         "anchor": "x42",
         "domain": [
          0.18055555555555555,
          0.2777777777777778
         ],
         "range": [
          0,
          16248
         ]
        },
        "yaxis43": {
         "anchor": "x43",
         "domain": [
          0.18055555555555555,
          0.2777777777777778
         ],
         "range": [
          0,
          16248
         ]
        },
        "yaxis44": {
         "anchor": "x44",
         "domain": [
          0.18055555555555555,
          0.2777777777777778
         ],
         "range": [
          0,
          16248
         ]
        },
        "yaxis45": {
         "anchor": "x45",
         "domain": [
          0.18055555555555555,
          0.2777777777777778
         ],
         "range": [
          0,
          16248
         ]
        },
        "yaxis46": {
         "anchor": "x46",
         "domain": [
          0.18055555555555555,
          0.2777777777777778
         ],
         "range": [
          0,
          16248
         ]
        },
        "yaxis47": {
         "anchor": "x47",
         "domain": [
          0.18055555555555555,
          0.2777777777777778
         ],
         "range": [
          0,
          16248
         ]
        },
        "yaxis48": {
         "anchor": "x48",
         "domain": [
          0.18055555555555555,
          0.2777777777777778
         ],
         "range": [
          0,
          16248
         ]
        },
        "yaxis49": {
         "anchor": "x49",
         "domain": [
          0.18055555555555555,
          0.2777777777777778
         ],
         "range": [
          0,
          16248
         ]
        },
        "yaxis5": {
         "anchor": "x5",
         "domain": [
          0.9027777777777777,
          0.9999999999999999
         ],
         "range": [
          0,
          16248
         ]
        },
        "yaxis50": {
         "anchor": "x50",
         "domain": [
          0.18055555555555555,
          0.2777777777777778
         ],
         "range": [
          0,
          16248
         ]
        },
        "yaxis51": {
         "anchor": "x51",
         "domain": [
          0,
          0.09722222222222222
         ],
         "range": [
          0,
          16248
         ]
        },
        "yaxis52": {
         "anchor": "x52",
         "domain": [
          0,
          0.09722222222222222
         ],
         "range": [
          0,
          16248
         ]
        },
        "yaxis53": {
         "anchor": "x53",
         "domain": [
          0,
          0.09722222222222222
         ],
         "range": [
          0,
          16248
         ]
        },
        "yaxis54": {
         "anchor": "x54",
         "domain": [
          0,
          0.09722222222222222
         ],
         "range": [
          0,
          16248
         ]
        },
        "yaxis55": {
         "anchor": "x55",
         "domain": [
          0,
          0.09722222222222222
         ],
         "range": [
          0,
          16248
         ]
        },
        "yaxis56": {
         "anchor": "x56",
         "domain": [
          0,
          0.09722222222222222
         ],
         "range": [
          0,
          16248
         ]
        },
        "yaxis57": {
         "anchor": "x57",
         "domain": [
          0,
          0.09722222222222222
         ],
         "range": [
          0,
          16248
         ]
        },
        "yaxis58": {
         "anchor": "x58",
         "domain": [
          0,
          0.09722222222222222
         ],
         "range": [
          0,
          16248
         ]
        },
        "yaxis59": {
         "anchor": "x59",
         "domain": [
          0,
          0.09722222222222222
         ],
         "range": [
          0,
          16248
         ]
        },
        "yaxis6": {
         "anchor": "x6",
         "domain": [
          0.9027777777777777,
          0.9999999999999999
         ],
         "range": [
          0,
          16248
         ]
        },
        "yaxis60": {
         "anchor": "x60",
         "domain": [
          0,
          0.09722222222222222
         ],
         "range": [
          0,
          16248
         ]
        },
        "yaxis7": {
         "anchor": "x7",
         "domain": [
          0.9027777777777777,
          0.9999999999999999
         ],
         "range": [
          0,
          16248
         ]
        },
        "yaxis8": {
         "anchor": "x8",
         "domain": [
          0.9027777777777777,
          0.9999999999999999
         ],
         "range": [
          0,
          16248
         ]
        },
        "yaxis9": {
         "anchor": "x9",
         "domain": [
          0.9027777777777777,
          0.9999999999999999
         ],
         "range": [
          0,
          16248
         ]
        }
       }
      }
     },
     "metadata": {},
     "output_type": "display_data"
    },
    {
     "data": {
      "application/vnd.plotly.v1+json": {
       "config": {
        "plotlyServerURL": "https://plot.ly"
       },
       "data": [
        {
         "marker": {
          "color": "#3498db"
         },
         "mode": "markers",
         "name": "books",
         "showlegend": true,
         "type": "scatter",
         "x": [
          "!",
          "\"",
          "#",
          "$",
          "%",
          "&",
          "'",
          "(",
          ")",
          "*",
          "+",
          ",",
          "-",
          ".",
          "/",
          ":",
          ";",
          "<",
          "=",
          ">",
          "?",
          "@",
          "[",
          "\\",
          "]",
          "^",
          "_",
          "`",
          "{",
          "|",
          "}",
          "~"
         ],
         "xaxis": "x",
         "y": [
          679,
          2940,
          0,
          38,
          0,
          1,
          2473,
          188,
          187,
          168,
          0,
          11251,
          4810,
          8474,
          2,
          429,
          1662,
          0,
          0,
          0,
          592,
          0,
          46,
          0,
          47,
          0,
          144,
          0,
          2,
          3,
          2,
          0
         ],
         "yaxis": "y"
        },
        {
         "marker": {
          "color": "#3498db"
         },
         "mode": "markers",
         "name": "books",
         "showlegend": false,
         "type": "scatter",
         "x": [
          "!",
          "\"",
          "#",
          "$",
          "%",
          "&",
          "'",
          "(",
          ")",
          "*",
          "+",
          ",",
          "-",
          ".",
          "/",
          ":",
          ";",
          "<",
          "=",
          ">",
          "?",
          "@",
          "[",
          "\\",
          "]",
          "^",
          "_",
          "`",
          "{",
          "|",
          "}",
          "~"
         ],
         "xaxis": "x2",
         "y": [
          1148,
          6216,
          0,
          0,
          0,
          2,
          4944,
          3,
          3,
          47,
          0,
          11183,
          3520,
          13283,
          0,
          92,
          435,
          0,
          0,
          0,
          881,
          0,
          10,
          0,
          10,
          0,
          150,
          1,
          0,
          0,
          0,
          0
         ],
         "yaxis": "y2"
        },
        {
         "marker": {
          "color": "#3498db"
         },
         "mode": "markers",
         "name": "books",
         "showlegend": false,
         "type": "scatter",
         "x": [
          "!",
          "\"",
          "#",
          "$",
          "%",
          "&",
          "'",
          "(",
          ")",
          "*",
          "+",
          ",",
          "-",
          ".",
          "/",
          ":",
          ";",
          "<",
          "=",
          ">",
          "?",
          "@",
          "[",
          "\\",
          "]",
          "^",
          "_",
          "`",
          "{",
          "|",
          "}",
          "~"
         ],
         "xaxis": "x3",
         "y": [
          697,
          3919,
          0,
          0,
          0,
          2,
          2066,
          167,
          167,
          0,
          0,
          10617,
          3469,
          10339,
          0,
          264,
          863,
          0,
          0,
          0,
          825,
          0,
          0,
          0,
          0,
          0,
          204,
          14,
          0,
          0,
          0,
          0
         ],
         "yaxis": "y3"
        },
        {
         "marker": {
          "color": "#3498db"
         },
         "mode": "markers",
         "name": "books",
         "showlegend": false,
         "type": "scatter",
         "x": [
          "!",
          "\"",
          "#",
          "$",
          "%",
          "&",
          "'",
          "(",
          ")",
          "*",
          "+",
          ",",
          "-",
          ".",
          "/",
          ":",
          ";",
          "<",
          "=",
          ">",
          "?",
          "@",
          "[",
          "\\",
          "]",
          "^",
          "_",
          "`",
          "{",
          "|",
          "}",
          "~"
         ],
         "xaxis": "x4",
         "y": [
          1103,
          2882,
          0,
          0,
          0,
          3,
          5155,
          16,
          16,
          0,
          0,
          14469,
          1280,
          8184,
          0,
          229,
          2195,
          0,
          0,
          0,
          945,
          0,
          35,
          0,
          35,
          0,
          133,
          0,
          0,
          0,
          0,
          0
         ],
         "yaxis": "y4"
        },
        {
         "marker": {
          "color": "#3498db"
         },
         "mode": "markers",
         "name": "books",
         "showlegend": false,
         "type": "scatter",
         "x": [
          "!",
          "\"",
          "#",
          "$",
          "%",
          "&",
          "'",
          "(",
          ")",
          "*",
          "+",
          ",",
          "-",
          ".",
          "/",
          ":",
          ";",
          "<",
          "=",
          ">",
          "?",
          "@",
          "[",
          "\\",
          "]",
          "^",
          "_",
          "`",
          "{",
          "|",
          "}",
          "~"
         ],
         "xaxis": "x5",
         "y": [
          297,
          4056,
          0,
          0,
          0,
          0,
          3289,
          61,
          61,
          6,
          0,
          11685,
          3845,
          7074,
          0,
          409,
          1363,
          0,
          0,
          0,
          658,
          0,
          5,
          0,
          5,
          0,
          346,
          10,
          0,
          0,
          0,
          0
         ],
         "yaxis": "y5"
        },
        {
         "marker": {
          "color": "#3498db"
         },
         "mode": "markers",
         "name": "books",
         "showlegend": false,
         "type": "scatter",
         "x": [
          "!",
          "\"",
          "#",
          "$",
          "%",
          "&",
          "'",
          "(",
          ")",
          "*",
          "+",
          ",",
          "-",
          ".",
          "/",
          ":",
          ";",
          "<",
          "=",
          ">",
          "?",
          "@",
          "[",
          "\\",
          "]",
          "^",
          "_",
          "`",
          "{",
          "|",
          "}",
          "~"
         ],
         "xaxis": "x6",
         "y": [
          377,
          2818,
          0,
          0,
          0,
          5,
          1091,
          53,
          53,
          26,
          0,
          13836,
          3546,
          5743,
          0,
          234,
          1474,
          0,
          0,
          0,
          428,
          0,
          7,
          0,
          7,
          0,
          384,
          0,
          0,
          0,
          0,
          0
         ],
         "yaxis": "y6"
        },
        {
         "marker": {
          "color": "#3498db"
         },
         "mode": "markers",
         "name": "books",
         "showlegend": false,
         "type": "scatter",
         "x": [
          "!",
          "\"",
          "#",
          "$",
          "%",
          "&",
          "'",
          "(",
          ")",
          "*",
          "+",
          ",",
          "-",
          ".",
          "/",
          ":",
          ";",
          "<",
          "=",
          ">",
          "?",
          "@",
          "[",
          "\\",
          "]",
          "^",
          "_",
          "`",
          "{",
          "|",
          "}",
          "~"
         ],
         "xaxis": "x7",
         "y": [
          453,
          6727,
          0,
          0,
          0,
          1,
          5035,
          0,
          0,
          0,
          0,
          9870,
          3837,
          11967,
          0,
          25,
          558,
          0,
          0,
          0,
          786,
          0,
          1,
          0,
          1,
          0,
          88,
          0,
          0,
          0,
          0,
          0
         ],
         "yaxis": "y7"
        },
        {
         "marker": {
          "color": "#3498db"
         },
         "mode": "markers",
         "name": "books",
         "showlegend": false,
         "type": "scatter",
         "x": [
          "!",
          "\"",
          "#",
          "$",
          "%",
          "&",
          "'",
          "(",
          ")",
          "*",
          "+",
          ",",
          "-",
          ".",
          "/",
          ":",
          ";",
          "<",
          "=",
          ">",
          "?",
          "@",
          "[",
          "\\",
          "]",
          "^",
          "_",
          "`",
          "{",
          "|",
          "}",
          "~"
         ],
         "xaxis": "x8",
         "y": [
          765,
          5812,
          0,
          0,
          0,
          14,
          1266,
          44,
          44,
          40,
          0,
          13708,
          1934,
          6644,
          0,
          150,
          935,
          0,
          0,
          0,
          669,
          0,
          71,
          0,
          71,
          0,
          307,
          0,
          0,
          0,
          0,
          2
         ],
         "yaxis": "y8"
        },
        {
         "marker": {
          "color": "#3498db"
         },
         "mode": "markers",
         "name": "books",
         "showlegend": false,
         "type": "scatter",
         "x": [
          "!",
          "\"",
          "#",
          "$",
          "%",
          "&",
          "'",
          "(",
          ")",
          "*",
          "+",
          ",",
          "-",
          ".",
          "/",
          ":",
          ";",
          "<",
          "=",
          ">",
          "?",
          "@",
          "[",
          "\\",
          "]",
          "^",
          "_",
          "`",
          "{",
          "|",
          "}",
          "~"
         ],
         "xaxis": "x9",
         "y": [
          462,
          5942,
          0,
          0,
          0,
          1,
          2906,
          78,
          78,
          5,
          0,
          13421,
          3358,
          9493,
          0,
          134,
          1223,
          0,
          0,
          0,
          997,
          0,
          4,
          0,
          4,
          0,
          242,
          0,
          0,
          0,
          0,
          0
         ],
         "yaxis": "y9"
        },
        {
         "marker": {
          "color": "#3498db"
         },
         "mode": "markers",
         "name": "books",
         "showlegend": false,
         "type": "scatter",
         "x": [
          "!",
          "\"",
          "#",
          "$",
          "%",
          "&",
          "'",
          "(",
          ")",
          "*",
          "+",
          ",",
          "-",
          ".",
          "/",
          ":",
          ";",
          "<",
          "=",
          ">",
          "?",
          "@",
          "[",
          "\\",
          "]",
          "^",
          "_",
          "`",
          "{",
          "|",
          "}",
          "~"
         ],
         "xaxis": "x10",
         "y": [
          3146,
          4499,
          0,
          0,
          0,
          12,
          6576,
          335,
          335,
          230,
          0,
          13370,
          3567,
          7028,
          0,
          1241,
          482,
          0,
          0,
          0,
          1375,
          0,
          106,
          0,
          105,
          0,
          3269,
          0,
          0,
          0,
          0,
          0
         ],
         "yaxis": "y10"
        },
        {
         "marker": {
          "color": "#e74c3c"
         },
         "mode": "markers",
         "name": "gpt-3.5-turbo-0125",
         "showlegend": true,
         "type": "scatter",
         "x": [
          "!",
          "\"",
          "#",
          "$",
          "%",
          "&",
          "'",
          "(",
          ")",
          "*",
          "+",
          ",",
          "-",
          ".",
          "/",
          ":",
          ";",
          "<",
          "=",
          ">",
          "?",
          "@",
          "[",
          "\\",
          "]",
          "^",
          "_",
          "`",
          "{",
          "|",
          "}",
          "~"
         ],
         "xaxis": "x",
         "y": [
          100,
          314,
          0,
          0,
          0,
          0,
          1921,
          7,
          7,
          32,
          0,
          12832,
          807,
          8092,
          0,
          91,
          60,
          0,
          0,
          0,
          229,
          0,
          0,
          0,
          0,
          0,
          0,
          0,
          0,
          0,
          0,
          0
         ],
         "yaxis": "y"
        },
        {
         "marker": {
          "color": "#e74c3c"
         },
         "mode": "markers",
         "name": "gpt-3.5-turbo-0125",
         "showlegend": false,
         "type": "scatter",
         "x": [
          "!",
          "\"",
          "#",
          "$",
          "%",
          "&",
          "'",
          "(",
          ")",
          "*",
          "+",
          ",",
          "-",
          ".",
          "/",
          ":",
          ";",
          "<",
          "=",
          ">",
          "?",
          "@",
          "[",
          "\\",
          "]",
          "^",
          "_",
          "`",
          "{",
          "|",
          "}",
          "~"
         ],
         "xaxis": "x2",
         "y": [
          22,
          800,
          0,
          0,
          0,
          0,
          780,
          1,
          1,
          44,
          0,
          12666,
          774,
          7730,
          0,
          35,
          35,
          0,
          0,
          0,
          126,
          0,
          0,
          0,
          0,
          0,
          0,
          0,
          0,
          0,
          0,
          0
         ],
         "yaxis": "y2"
        },
        {
         "marker": {
          "color": "#e74c3c"
         },
         "mode": "markers",
         "name": "gpt-3.5-turbo-0125",
         "showlegend": false,
         "type": "scatter",
         "x": [
          "!",
          "\"",
          "#",
          "$",
          "%",
          "&",
          "'",
          "(",
          ")",
          "*",
          "+",
          ",",
          "-",
          ".",
          "/",
          ":",
          ";",
          "<",
          "=",
          ">",
          "?",
          "@",
          "[",
          "\\",
          "]",
          "^",
          "_",
          "`",
          "{",
          "|",
          "}",
          "~"
         ],
         "xaxis": "x3",
         "y": [
          9,
          536,
          0,
          0,
          0,
          0,
          475,
          2,
          2,
          96,
          0,
          12514,
          694,
          7583,
          0,
          55,
          82,
          0,
          0,
          0,
          116,
          0,
          0,
          0,
          0,
          0,
          0,
          0,
          0,
          0,
          0,
          0
         ],
         "yaxis": "y3"
        },
        {
         "marker": {
          "color": "#e74c3c"
         },
         "mode": "markers",
         "name": "gpt-3.5-turbo-0125",
         "showlegend": false,
         "type": "scatter",
         "x": [
          "!",
          "\"",
          "#",
          "$",
          "%",
          "&",
          "'",
          "(",
          ")",
          "*",
          "+",
          ",",
          "-",
          ".",
          "/",
          ":",
          ";",
          "<",
          "=",
          ">",
          "?",
          "@",
          "[",
          "\\",
          "]",
          "^",
          "_",
          "`",
          "{",
          "|",
          "}",
          "~"
         ],
         "xaxis": "x4",
         "y": [
          28,
          142,
          0,
          0,
          0,
          1,
          493,
          13,
          13,
          36,
          0,
          12701,
          889,
          7572,
          0,
          43,
          64,
          0,
          0,
          0,
          71,
          0,
          5,
          0,
          5,
          0,
          0,
          0,
          0,
          0,
          0,
          0
         ],
         "yaxis": "y4"
        },
        {
         "marker": {
          "color": "#e74c3c"
         },
         "mode": "markers",
         "name": "gpt-3.5-turbo-0125",
         "showlegend": false,
         "type": "scatter",
         "x": [
          "!",
          "\"",
          "#",
          "$",
          "%",
          "&",
          "'",
          "(",
          ")",
          "*",
          "+",
          ",",
          "-",
          ".",
          "/",
          ":",
          ";",
          "<",
          "=",
          ">",
          "?",
          "@",
          "[",
          "\\",
          "]",
          "^",
          "_",
          "`",
          "{",
          "|",
          "}",
          "~"
         ],
         "xaxis": "x5",
         "y": [
          28,
          400,
          0,
          0,
          0,
          0,
          598,
          4,
          4,
          44,
          0,
          12448,
          751,
          7495,
          0,
          32,
          59,
          0,
          0,
          0,
          98,
          0,
          3,
          0,
          3,
          0,
          0,
          0,
          0,
          0,
          0,
          0
         ],
         "yaxis": "y5"
        },
        {
         "marker": {
          "color": "#e74c3c"
         },
         "mode": "markers",
         "name": "gpt-3.5-turbo-0125",
         "showlegend": false,
         "type": "scatter",
         "x": [
          "!",
          "\"",
          "#",
          "$",
          "%",
          "&",
          "'",
          "(",
          ")",
          "*",
          "+",
          ",",
          "-",
          ".",
          "/",
          ":",
          ";",
          "<",
          "=",
          ">",
          "?",
          "@",
          "[",
          "\\",
          "]",
          "^",
          "_",
          "`",
          "{",
          "|",
          "}",
          "~"
         ],
         "xaxis": "x6",
         "y": [
          19,
          312,
          0,
          0,
          0,
          0,
          559,
          3,
          3,
          36,
          0,
          12244,
          777,
          7471,
          0,
          24,
          57,
          0,
          0,
          0,
          72,
          0,
          1,
          0,
          1,
          0,
          0,
          0,
          0,
          0,
          0,
          0
         ],
         "yaxis": "y6"
        },
        {
         "marker": {
          "color": "#e74c3c"
         },
         "mode": "markers",
         "name": "gpt-3.5-turbo-0125",
         "showlegend": false,
         "type": "scatter",
         "x": [
          "!",
          "\"",
          "#",
          "$",
          "%",
          "&",
          "'",
          "(",
          ")",
          "*",
          "+",
          ",",
          "-",
          ".",
          "/",
          ":",
          ";",
          "<",
          "=",
          ">",
          "?",
          "@",
          "[",
          "\\",
          "]",
          "^",
          "_",
          "`",
          "{",
          "|",
          "}",
          "~"
         ],
         "xaxis": "x7",
         "y": [
          45,
          973,
          0,
          0,
          0,
          0,
          768,
          8,
          8,
          32,
          0,
          12501,
          749,
          8125,
          0,
          22,
          37,
          0,
          0,
          0,
          145,
          0,
          0,
          0,
          0,
          0,
          0,
          0,
          0,
          0,
          0,
          0
         ],
         "yaxis": "y7"
        },
        {
         "marker": {
          "color": "#e74c3c"
         },
         "mode": "markers",
         "name": "gpt-3.5-turbo-0125",
         "showlegend": false,
         "type": "scatter",
         "x": [
          "!",
          "\"",
          "#",
          "$",
          "%",
          "&",
          "'",
          "(",
          ")",
          "*",
          "+",
          ",",
          "-",
          ".",
          "/",
          ":",
          ";",
          "<",
          "=",
          ">",
          "?",
          "@",
          "[",
          "\\",
          "]",
          "^",
          "_",
          "`",
          "{",
          "|",
          "}",
          "~"
         ],
         "xaxis": "x8",
         "y": [
          71,
          889,
          0,
          0,
          0,
          0,
          817,
          10,
          10,
          220,
          0,
          12621,
          733,
          7943,
          0,
          86,
          63,
          0,
          0,
          0,
          119,
          0,
          0,
          0,
          0,
          0,
          0,
          0,
          0,
          0,
          0,
          0
         ],
         "yaxis": "y8"
        },
        {
         "marker": {
          "color": "#e74c3c"
         },
         "mode": "markers",
         "name": "gpt-3.5-turbo-0125",
         "showlegend": false,
         "type": "scatter",
         "x": [
          "!",
          "\"",
          "#",
          "$",
          "%",
          "&",
          "'",
          "(",
          ")",
          "*",
          "+",
          ",",
          "-",
          ".",
          "/",
          ":",
          ";",
          "<",
          "=",
          ">",
          "?",
          "@",
          "[",
          "\\",
          "]",
          "^",
          "_",
          "`",
          "{",
          "|",
          "}",
          "~"
         ],
         "xaxis": "x9",
         "y": [
          8,
          244,
          0,
          0,
          0,
          0,
          507,
          7,
          7,
          0,
          0,
          12528,
          770,
          7550,
          0,
          27,
          98,
          0,
          0,
          0,
          115,
          0,
          0,
          0,
          0,
          0,
          0,
          0,
          0,
          0,
          0,
          0
         ],
         "yaxis": "y9"
        },
        {
         "marker": {
          "color": "#e74c3c"
         },
         "mode": "markers",
         "name": "gpt-3.5-turbo-0125",
         "showlegend": false,
         "type": "scatter",
         "x": [
          "!",
          "\"",
          "#",
          "$",
          "%",
          "&",
          "'",
          "(",
          ")",
          "*",
          "+",
          ",",
          "-",
          ".",
          "/",
          ":",
          ";",
          "<",
          "=",
          ">",
          "?",
          "@",
          "[",
          "\\",
          "]",
          "^",
          "_",
          "`",
          "{",
          "|",
          "}",
          "~"
         ],
         "xaxis": "x10",
         "y": [
          81,
          845,
          0,
          0,
          0,
          0,
          778,
          5,
          5,
          32,
          0,
          12779,
          654,
          7992,
          0,
          32,
          55,
          0,
          0,
          0,
          170,
          0,
          0,
          0,
          0,
          0,
          0,
          0,
          0,
          0,
          0,
          0
         ],
         "yaxis": "y10"
        },
        {
         "marker": {
          "color": "#2ecc71"
         },
         "mode": "markers",
         "name": "gpt-4o",
         "showlegend": true,
         "type": "scatter",
         "x": [
          "!",
          "\"",
          "#",
          "$",
          "%",
          "&",
          "'",
          "(",
          ")",
          "*",
          "+",
          ",",
          "-",
          ".",
          "/",
          ":",
          ";",
          "<",
          "=",
          ">",
          "?",
          "@",
          "[",
          "\\",
          "]",
          "^",
          "_",
          "`",
          "{",
          "|",
          "}",
          "~"
         ],
         "xaxis": "x",
         "y": [
          173,
          642,
          147,
          0,
          0,
          1,
          1765,
          103,
          103,
          846,
          0,
          14751,
          783,
          8774,
          0,
          310,
          133,
          0,
          0,
          0,
          325,
          0,
          0,
          0,
          0,
          0,
          0,
          0,
          0,
          0,
          0,
          0
         ],
         "yaxis": "y"
        },
        {
         "marker": {
          "color": "#2ecc71"
         },
         "mode": "markers",
         "name": "gpt-4o",
         "showlegend": false,
         "type": "scatter",
         "x": [
          "!",
          "\"",
          "#",
          "$",
          "%",
          "&",
          "'",
          "(",
          ")",
          "*",
          "+",
          ",",
          "-",
          ".",
          "/",
          ":",
          ";",
          "<",
          "=",
          ">",
          "?",
          "@",
          "[",
          "\\",
          "]",
          "^",
          "_",
          "`",
          "{",
          "|",
          "}",
          "~"
         ],
         "xaxis": "x2",
         "y": [
          60,
          1384,
          390,
          0,
          0,
          0,
          1011,
          100,
          100,
          368,
          0,
          15249,
          583,
          8758,
          0,
          155,
          105,
          0,
          0,
          0,
          248,
          0,
          0,
          0,
          0,
          0,
          0,
          0,
          0,
          0,
          0,
          0
         ],
         "yaxis": "y2"
        },
        {
         "marker": {
          "color": "#2ecc71"
         },
         "mode": "markers",
         "name": "gpt-4o",
         "showlegend": false,
         "type": "scatter",
         "x": [
          "!",
          "\"",
          "#",
          "$",
          "%",
          "&",
          "'",
          "(",
          ")",
          "*",
          "+",
          ",",
          "-",
          ".",
          "/",
          ":",
          ";",
          "<",
          "=",
          ">",
          "?",
          "@",
          "[",
          "\\",
          "]",
          "^",
          "_",
          "`",
          "{",
          "|",
          "}",
          "~"
         ],
         "xaxis": "x3",
         "y": [
          20,
          876,
          251,
          0,
          0,
          0,
          779,
          79,
          79,
          572,
          1,
          15865,
          508,
          8150,
          0,
          204,
          129,
          0,
          0,
          0,
          161,
          0,
          1,
          0,
          1,
          0,
          0,
          0,
          0,
          0,
          0,
          0
         ],
         "yaxis": "y3"
        },
        {
         "marker": {
          "color": "#2ecc71"
         },
         "mode": "markers",
         "name": "gpt-4o",
         "showlegend": false,
         "type": "scatter",
         "x": [
          "!",
          "\"",
          "#",
          "$",
          "%",
          "&",
          "'",
          "(",
          ")",
          "*",
          "+",
          ",",
          "-",
          ".",
          "/",
          ":",
          ";",
          "<",
          "=",
          ">",
          "?",
          "@",
          "[",
          "\\",
          "]",
          "^",
          "_",
          "`",
          "{",
          "|",
          "}",
          "~"
         ],
         "xaxis": "x4",
         "y": [
          32,
          522,
          35,
          0,
          0,
          0,
          652,
          85,
          85,
          608,
          1,
          15688,
          527,
          8048,
          3,
          221,
          101,
          0,
          0,
          0,
          104,
          0,
          11,
          0,
          11,
          0,
          0,
          0,
          0,
          0,
          0,
          0
         ],
         "yaxis": "y4"
        },
        {
         "marker": {
          "color": "#2ecc71"
         },
         "mode": "markers",
         "name": "gpt-4o",
         "showlegend": false,
         "type": "scatter",
         "x": [
          "!",
          "\"",
          "#",
          "$",
          "%",
          "&",
          "'",
          "(",
          ")",
          "*",
          "+",
          ",",
          "-",
          ".",
          "/",
          ":",
          ";",
          "<",
          "=",
          ">",
          "?",
          "@",
          "[",
          "\\",
          "]",
          "^",
          "_",
          "`",
          "{",
          "|",
          "}",
          "~"
         ],
         "xaxis": "x5",
         "y": [
          49,
          992,
          194,
          2,
          0,
          0,
          794,
          70,
          70,
          630,
          0,
          15531,
          618,
          8194,
          1,
          241,
          119,
          0,
          0,
          0,
          164,
          0,
          4,
          0,
          4,
          0,
          0,
          0,
          0,
          0,
          0,
          0
         ],
         "yaxis": "y5"
        },
        {
         "marker": {
          "color": "#2ecc71"
         },
         "mode": "markers",
         "name": "gpt-4o",
         "showlegend": false,
         "type": "scatter",
         "x": [
          "!",
          "\"",
          "#",
          "$",
          "%",
          "&",
          "'",
          "(",
          ")",
          "*",
          "+",
          ",",
          "-",
          ".",
          "/",
          ":",
          ";",
          "<",
          "=",
          ">",
          "?",
          "@",
          "[",
          "\\",
          "]",
          "^",
          "_",
          "`",
          "{",
          "|",
          "}",
          "~"
         ],
         "xaxis": "x6",
         "y": [
          52,
          804,
          65,
          0,
          0,
          0,
          801,
          81,
          81,
          760,
          3,
          15557,
          671,
          8349,
          1,
          242,
          107,
          0,
          0,
          0,
          163,
          0,
          1,
          0,
          1,
          0,
          1,
          0,
          0,
          0,
          0,
          0
         ],
         "yaxis": "y6"
        },
        {
         "marker": {
          "color": "#2ecc71"
         },
         "mode": "markers",
         "name": "gpt-4o",
         "showlegend": false,
         "type": "scatter",
         "x": [
          "!",
          "\"",
          "#",
          "$",
          "%",
          "&",
          "'",
          "(",
          ")",
          "*",
          "+",
          ",",
          "-",
          ".",
          "/",
          ":",
          ";",
          "<",
          "=",
          ">",
          "?",
          "@",
          "[",
          "\\",
          "]",
          "^",
          "_",
          "`",
          "{",
          "|",
          "}",
          "~"
         ],
         "xaxis": "x7",
         "y": [
          110,
          1578,
          65,
          1,
          0,
          0,
          974,
          75,
          75,
          657,
          1,
          14972,
          798,
          8584,
          0,
          208,
          87,
          0,
          0,
          0,
          255,
          0,
          4,
          0,
          4,
          0,
          0,
          0,
          0,
          0,
          0,
          0
         ],
         "yaxis": "y7"
        },
        {
         "marker": {
          "color": "#2ecc71"
         },
         "mode": "markers",
         "name": "gpt-4o",
         "showlegend": false,
         "type": "scatter",
         "x": [
          "!",
          "\"",
          "#",
          "$",
          "%",
          "&",
          "'",
          "(",
          ")",
          "*",
          "+",
          ",",
          "-",
          ".",
          "/",
          ":",
          ";",
          "<",
          "=",
          ">",
          "?",
          "@",
          "[",
          "\\",
          "]",
          "^",
          "_",
          "`",
          "{",
          "|",
          "}",
          "~"
         ],
         "xaxis": "x8",
         "y": [
          112,
          1110,
          372,
          1,
          1,
          0,
          897,
          29,
          29,
          664,
          1,
          15583,
          535,
          8269,
          0,
          180,
          81,
          0,
          0,
          0,
          195,
          0,
          0,
          0,
          0,
          0,
          1,
          0,
          0,
          0,
          0,
          0
         ],
         "yaxis": "y8"
        },
        {
         "marker": {
          "color": "#2ecc71"
         },
         "mode": "markers",
         "name": "gpt-4o",
         "showlegend": false,
         "type": "scatter",
         "x": [
          "!",
          "\"",
          "#",
          "$",
          "%",
          "&",
          "'",
          "(",
          ")",
          "*",
          "+",
          ",",
          "-",
          ".",
          "/",
          ":",
          ";",
          "<",
          "=",
          ">",
          "?",
          "@",
          "[",
          "\\",
          "]",
          "^",
          "_",
          "`",
          "{",
          "|",
          "}",
          "~"
         ],
         "xaxis": "x9",
         "y": [
          46,
          692,
          38,
          0,
          0,
          0,
          704,
          66,
          66,
          698,
          1,
          17254,
          651,
          8128,
          0,
          220,
          117,
          0,
          0,
          0,
          217,
          0,
          4,
          0,
          4,
          0,
          0,
          0,
          0,
          0,
          0,
          0
         ],
         "yaxis": "y9"
        },
        {
         "marker": {
          "color": "#2ecc71"
         },
         "mode": "markers",
         "name": "gpt-4o",
         "showlegend": false,
         "type": "scatter",
         "x": [
          "!",
          "\"",
          "#",
          "$",
          "%",
          "&",
          "'",
          "(",
          ")",
          "*",
          "+",
          ",",
          "-",
          ".",
          "/",
          ":",
          ";",
          "<",
          "=",
          ">",
          "?",
          "@",
          "[",
          "\\",
          "]",
          "^",
          "_",
          "`",
          "{",
          "|",
          "}",
          "~"
         ],
         "xaxis": "x10",
         "y": [
          257,
          2225,
          268,
          0,
          0,
          1,
          874,
          81,
          81,
          970,
          0,
          15396,
          688,
          8689,
          0,
          268,
          96,
          0,
          0,
          0,
          407,
          0,
          0,
          0,
          0,
          0,
          0,
          0,
          0,
          0,
          0,
          0
         ],
         "yaxis": "y10"
        },
        {
         "marker": {
          "color": "#f1c40f"
         },
         "mode": "markers",
         "name": "gemini-1.5-flash",
         "showlegend": true,
         "type": "scatter",
         "x": [
          "!",
          "\"",
          "#",
          "$",
          "%",
          "&",
          "'",
          "(",
          ")",
          "*",
          "+",
          ",",
          "-",
          ".",
          "/",
          ":",
          ";",
          "<",
          "=",
          ">",
          "?",
          "@",
          "[",
          "\\",
          "]",
          "^",
          "_",
          "`",
          "{",
          "|",
          "}",
          "~"
         ],
         "xaxis": "x",
         "y": [
          452,
          1371,
          30,
          0,
          0,
          0,
          6169,
          9,
          9,
          1054,
          0,
          18741,
          639,
          8940,
          0,
          255,
          18,
          0,
          0,
          0,
          576,
          0,
          2,
          0,
          2,
          0,
          0,
          0,
          0,
          0,
          0,
          0
         ],
         "yaxis": "y"
        },
        {
         "marker": {
          "color": "#f1c40f"
         },
         "mode": "markers",
         "name": "gemini-1.5-flash",
         "showlegend": false,
         "type": "scatter",
         "x": [
          "!",
          "\"",
          "#",
          "$",
          "%",
          "&",
          "'",
          "(",
          ")",
          "*",
          "+",
          ",",
          "-",
          ".",
          "/",
          ":",
          ";",
          "<",
          "=",
          ">",
          "?",
          "@",
          "[",
          "\\",
          "]",
          "^",
          "_",
          "`",
          "{",
          "|",
          "}",
          "~"
         ],
         "xaxis": "x2",
         "y": [
          65,
          1505,
          28,
          1,
          0,
          0,
          1097,
          1,
          1,
          979,
          0,
          18931,
          428,
          9120,
          0,
          161,
          24,
          0,
          0,
          0,
          296,
          0,
          5,
          0,
          5,
          0,
          0,
          0,
          0,
          0,
          0,
          0
         ],
         "yaxis": "y2"
        },
        {
         "marker": {
          "color": "#f1c40f"
         },
         "mode": "markers",
         "name": "gemini-1.5-flash",
         "showlegend": false,
         "type": "scatter",
         "x": [
          "!",
          "\"",
          "#",
          "$",
          "%",
          "&",
          "'",
          "(",
          ")",
          "*",
          "+",
          ",",
          "-",
          ".",
          "/",
          ":",
          ";",
          "<",
          "=",
          ">",
          "?",
          "@",
          "[",
          "\\",
          "]",
          "^",
          "_",
          "`",
          "{",
          "|",
          "}",
          "~"
         ],
         "xaxis": "x3",
         "y": [
          26,
          1480,
          26,
          0,
          0,
          0,
          525,
          1,
          1,
          658,
          0,
          20536,
          275,
          8032,
          2,
          103,
          16,
          0,
          0,
          0,
          263,
          0,
          3,
          0,
          3,
          0,
          0,
          0,
          0,
          0,
          0,
          0
         ],
         "yaxis": "y3"
        },
        {
         "marker": {
          "color": "#f1c40f"
         },
         "mode": "markers",
         "name": "gemini-1.5-flash",
         "showlegend": false,
         "type": "scatter",
         "x": [
          "!",
          "\"",
          "#",
          "$",
          "%",
          "&",
          "'",
          "(",
          ")",
          "*",
          "+",
          ",",
          "-",
          ".",
          "/",
          ":",
          ";",
          "<",
          "=",
          ">",
          "?",
          "@",
          "[",
          "\\",
          "]",
          "^",
          "_",
          "`",
          "{",
          "|",
          "}",
          "~"
         ],
         "xaxis": "x4",
         "y": [
          63,
          624,
          41,
          0,
          0,
          0,
          639,
          41,
          41,
          1071,
          0,
          19279,
          444,
          7884,
          0,
          204,
          45,
          0,
          0,
          0,
          221,
          0,
          3,
          0,
          3,
          0,
          0,
          0,
          0,
          0,
          0,
          0
         ],
         "yaxis": "y4"
        },
        {
         "marker": {
          "color": "#f1c40f"
         },
         "mode": "markers",
         "name": "gemini-1.5-flash",
         "showlegend": false,
         "type": "scatter",
         "x": [
          "!",
          "\"",
          "#",
          "$",
          "%",
          "&",
          "'",
          "(",
          ")",
          "*",
          "+",
          ",",
          "-",
          ".",
          "/",
          ":",
          ";",
          "<",
          "=",
          ">",
          "?",
          "@",
          "[",
          "\\",
          "]",
          "^",
          "_",
          "`",
          "{",
          "|",
          "}",
          "~"
         ],
         "xaxis": "x5",
         "y": [
          39,
          986,
          28,
          0,
          0,
          0,
          665,
          0,
          0,
          904,
          0,
          19020,
          404,
          7623,
          0,
          191,
          31,
          0,
          0,
          0,
          263,
          0,
          0,
          0,
          0,
          0,
          0,
          0,
          0,
          0,
          0,
          0
         ],
         "yaxis": "y5"
        },
        {
         "marker": {
          "color": "#f1c40f"
         },
         "mode": "markers",
         "name": "gemini-1.5-flash",
         "showlegend": false,
         "type": "scatter",
         "x": [
          "!",
          "\"",
          "#",
          "$",
          "%",
          "&",
          "'",
          "(",
          ")",
          "*",
          "+",
          ",",
          "-",
          ".",
          "/",
          ":",
          ";",
          "<",
          "=",
          ">",
          "?",
          "@",
          "[",
          "\\",
          "]",
          "^",
          "_",
          "`",
          "{",
          "|",
          "}",
          "~"
         ],
         "xaxis": "x6",
         "y": [
          31,
          552,
          36,
          0,
          0,
          0,
          605,
          3,
          3,
          1055,
          0,
          19062,
          385,
          7937,
          0,
          183,
          48,
          0,
          0,
          0,
          191,
          0,
          4,
          0,
          4,
          0,
          0,
          0,
          0,
          0,
          0,
          0
         ],
         "yaxis": "y6"
        },
        {
         "marker": {
          "color": "#f1c40f"
         },
         "mode": "markers",
         "name": "gemini-1.5-flash",
         "showlegend": false,
         "type": "scatter",
         "x": [
          "!",
          "\"",
          "#",
          "$",
          "%",
          "&",
          "'",
          "(",
          ")",
          "*",
          "+",
          ",",
          "-",
          ".",
          "/",
          ":",
          ";",
          "<",
          "=",
          ">",
          "?",
          "@",
          "[",
          "\\",
          "]",
          "^",
          "_",
          "`",
          "{",
          "|",
          "}",
          "~"
         ],
         "xaxis": "x7",
         "y": [
          252,
          2097,
          37,
          0,
          0,
          0,
          1376,
          1,
          1,
          1299,
          0,
          18425,
          443,
          8630,
          0,
          175,
          31,
          1,
          0,
          0,
          455,
          0,
          6,
          0,
          6,
          0,
          0,
          0,
          0,
          0,
          0,
          0
         ],
         "yaxis": "y7"
        },
        {
         "marker": {
          "color": "#f1c40f"
         },
         "mode": "markers",
         "name": "gemini-1.5-flash",
         "showlegend": false,
         "type": "scatter",
         "x": [
          "!",
          "\"",
          "#",
          "$",
          "%",
          "&",
          "'",
          "(",
          ")",
          "*",
          "+",
          ",",
          "-",
          ".",
          "/",
          ":",
          ";",
          "<",
          "=",
          ">",
          "?",
          "@",
          "[",
          "\\",
          "]",
          "^",
          "_",
          "`",
          "{",
          "|",
          "}",
          "~"
         ],
         "xaxis": "x8",
         "y": [
          191,
          1352,
          32,
          0,
          0,
          0,
          930,
          1,
          1,
          1390,
          0,
          18309,
          458,
          8477,
          0,
          212,
          19,
          0,
          0,
          0,
          307,
          0,
          0,
          0,
          0,
          0,
          0,
          0,
          0,
          0,
          0,
          0
         ],
         "yaxis": "y8"
        },
        {
         "marker": {
          "color": "#f1c40f"
         },
         "mode": "markers",
         "name": "gemini-1.5-flash",
         "showlegend": false,
         "type": "scatter",
         "x": [
          "!",
          "\"",
          "#",
          "$",
          "%",
          "&",
          "'",
          "(",
          ")",
          "*",
          "+",
          ",",
          "-",
          ".",
          "/",
          ":",
          ";",
          "<",
          "=",
          ">",
          "?",
          "@",
          "[",
          "\\",
          "]",
          "^",
          "_",
          "`",
          "{",
          "|",
          "}",
          "~"
         ],
         "xaxis": "x9",
         "y": [
          20,
          1124,
          32,
          0,
          0,
          0,
          589,
          0,
          0,
          665,
          0,
          20877,
          371,
          8113,
          1,
          113,
          25,
          0,
          0,
          0,
          288,
          0,
          3,
          0,
          3,
          0,
          0,
          0,
          0,
          0,
          0,
          0
         ],
         "yaxis": "y9"
        },
        {
         "marker": {
          "color": "#f1c40f"
         },
         "mode": "markers",
         "name": "gemini-1.5-flash",
         "showlegend": false,
         "type": "scatter",
         "x": [
          "!",
          "\"",
          "#",
          "$",
          "%",
          "&",
          "'",
          "(",
          ")",
          "*",
          "+",
          ",",
          "-",
          ".",
          "/",
          ":",
          ";",
          "<",
          "=",
          ">",
          "?",
          "@",
          "[",
          "\\",
          "]",
          "^",
          "_",
          "`",
          "{",
          "|",
          "}",
          "~"
         ],
         "xaxis": "x10",
         "y": [
          536,
          4194,
          29,
          0,
          0,
          0,
          1462,
          7,
          7,
          1282,
          2,
          20091,
          651,
          7964,
          0,
          215,
          22,
          0,
          0,
          0,
          784,
          0,
          1,
          0,
          1,
          0,
          0,
          0,
          0,
          0,
          0,
          0
         ],
         "yaxis": "y10"
        },
        {
         "marker": {
          "color": "#9b59b6"
         },
         "mode": "markers",
         "name": "open-mixtral-8x7b",
         "showlegend": true,
         "type": "scatter",
         "x": [
          "!",
          "\"",
          "#",
          "$",
          "%",
          "&",
          "'",
          "(",
          ")",
          "*",
          "+",
          ",",
          "-",
          ".",
          "/",
          ":",
          ";",
          "<",
          "=",
          ">",
          "?",
          "@",
          "[",
          "\\",
          "]",
          "^",
          "_",
          "`",
          "{",
          "|",
          "}",
          "~"
         ],
         "xaxis": "x",
         "y": [
          118,
          823,
          0,
          3,
          1,
          0,
          2039,
          103,
          103,
          57,
          0,
          16656,
          837,
          7303,
          2,
          265,
          47,
          0,
          0,
          0,
          343,
          0,
          4,
          0,
          4,
          0,
          0,
          0,
          0,
          0,
          0,
          0
         ],
         "yaxis": "y"
        },
        {
         "marker": {
          "color": "#9b59b6"
         },
         "mode": "markers",
         "name": "open-mixtral-8x7b",
         "showlegend": false,
         "type": "scatter",
         "x": [
          "!",
          "\"",
          "#",
          "$",
          "%",
          "&",
          "'",
          "(",
          ")",
          "*",
          "+",
          ",",
          "-",
          ".",
          "/",
          ":",
          ";",
          "<",
          "=",
          ">",
          "?",
          "@",
          "[",
          "\\",
          "]",
          "^",
          "_",
          "`",
          "{",
          "|",
          "}",
          "~"
         ],
         "xaxis": "x2",
         "y": [
          31,
          1111,
          0,
          1,
          1,
          0,
          922,
          19,
          19,
          5,
          0,
          15236,
          595,
          7594,
          0,
          101,
          24,
          0,
          0,
          0,
          229,
          0,
          2,
          0,
          2,
          0,
          0,
          3,
          0,
          0,
          0,
          0
         ],
         "yaxis": "y2"
        },
        {
         "marker": {
          "color": "#9b59b6"
         },
         "mode": "markers",
         "name": "open-mixtral-8x7b",
         "showlegend": false,
         "type": "scatter",
         "x": [
          "!",
          "\"",
          "#",
          "$",
          "%",
          "&",
          "'",
          "(",
          ")",
          "*",
          "+",
          ",",
          "-",
          ".",
          "/",
          ":",
          ";",
          "<",
          "=",
          ">",
          "?",
          "@",
          "[",
          "\\",
          "]",
          "^",
          "_",
          "`",
          "{",
          "|",
          "}",
          "~"
         ],
         "xaxis": "x3",
         "y": [
          6,
          589,
          0,
          0,
          1,
          1,
          621,
          2,
          2,
          0,
          0,
          16778,
          668,
          6072,
          0,
          127,
          30,
          0,
          0,
          0,
          126,
          0,
          0,
          0,
          0,
          0,
          0,
          0,
          0,
          0,
          0,
          0
         ],
         "yaxis": "y3"
        },
        {
         "marker": {
          "color": "#9b59b6"
         },
         "mode": "markers",
         "name": "open-mixtral-8x7b",
         "showlegend": false,
         "type": "scatter",
         "x": [
          "!",
          "\"",
          "#",
          "$",
          "%",
          "&",
          "'",
          "(",
          ")",
          "*",
          "+",
          ",",
          "-",
          ".",
          "/",
          ":",
          ";",
          "<",
          "=",
          ">",
          "?",
          "@",
          "[",
          "\\",
          "]",
          "^",
          "_",
          "`",
          "{",
          "|",
          "}",
          "~"
         ],
         "xaxis": "x4",
         "y": [
          34,
          549,
          0,
          1,
          4,
          0,
          778,
          39,
          39,
          20,
          0,
          16758,
          692,
          6353,
          0,
          173,
          70,
          0,
          0,
          0,
          212,
          0,
          1,
          0,
          1,
          0,
          0,
          0,
          0,
          0,
          0,
          0
         ],
         "yaxis": "y4"
        },
        {
         "marker": {
          "color": "#9b59b6"
         },
         "mode": "markers",
         "name": "open-mixtral-8x7b",
         "showlegend": false,
         "type": "scatter",
         "x": [
          "!",
          "\"",
          "#",
          "$",
          "%",
          "&",
          "'",
          "(",
          ")",
          "*",
          "+",
          ",",
          "-",
          ".",
          "/",
          ":",
          ";",
          "<",
          "=",
          ">",
          "?",
          "@",
          "[",
          "\\",
          "]",
          "^",
          "_",
          "`",
          "{",
          "|",
          "}",
          "~"
         ],
         "xaxis": "x5",
         "y": [
          34,
          681,
          0,
          0,
          0,
          0,
          726,
          2,
          2,
          0,
          0,
          16126,
          868,
          5915,
          3,
          106,
          63,
          0,
          0,
          0,
          129,
          0,
          1,
          0,
          1,
          0,
          0,
          3,
          0,
          0,
          0,
          0
         ],
         "yaxis": "y5"
        },
        {
         "marker": {
          "color": "#9b59b6"
         },
         "mode": "markers",
         "name": "open-mixtral-8x7b",
         "showlegend": false,
         "type": "scatter",
         "x": [
          "!",
          "\"",
          "#",
          "$",
          "%",
          "&",
          "'",
          "(",
          ")",
          "*",
          "+",
          ",",
          "-",
          ".",
          "/",
          ":",
          ";",
          "<",
          "=",
          ">",
          "?",
          "@",
          "[",
          "\\",
          "]",
          "^",
          "_",
          "`",
          "{",
          "|",
          "}",
          "~"
         ],
         "xaxis": "x6",
         "y": [
          35,
          672,
          0,
          0,
          1,
          0,
          707,
          6,
          6,
          5,
          0,
          16067,
          746,
          6414,
          3,
          169,
          58,
          0,
          0,
          0,
          166,
          0,
          0,
          0,
          0,
          0,
          0,
          0,
          0,
          0,
          0,
          0
         ],
         "yaxis": "y6"
        },
        {
         "marker": {
          "color": "#9b59b6"
         },
         "mode": "markers",
         "name": "open-mixtral-8x7b",
         "showlegend": false,
         "type": "scatter",
         "x": [
          "!",
          "\"",
          "#",
          "$",
          "%",
          "&",
          "'",
          "(",
          ")",
          "*",
          "+",
          ",",
          "-",
          ".",
          "/",
          ":",
          ";",
          "<",
          "=",
          ">",
          "?",
          "@",
          "[",
          "\\",
          "]",
          "^",
          "_",
          "`",
          "{",
          "|",
          "}",
          "~"
         ],
         "xaxis": "x7",
         "y": [
          55,
          1511,
          0,
          1,
          2,
          0,
          1061,
          19,
          19,
          8,
          0,
          15820,
          687,
          7248,
          0,
          131,
          33,
          0,
          0,
          0,
          222,
          0,
          2,
          0,
          2,
          0,
          0,
          0,
          0,
          0,
          0,
          0
         ],
         "yaxis": "y7"
        },
        {
         "marker": {
          "color": "#9b59b6"
         },
         "mode": "markers",
         "name": "open-mixtral-8x7b",
         "showlegend": false,
         "type": "scatter",
         "x": [
          "!",
          "\"",
          "#",
          "$",
          "%",
          "&",
          "'",
          "(",
          ")",
          "*",
          "+",
          ",",
          "-",
          ".",
          "/",
          ":",
          ";",
          "<",
          "=",
          ">",
          "?",
          "@",
          "[",
          "\\",
          "]",
          "^",
          "_",
          "`",
          "{",
          "|",
          "}",
          "~"
         ],
         "xaxis": "x8",
         "y": [
          63,
          1154,
          0,
          0,
          0,
          0,
          798,
          14,
          14,
          13,
          0,
          15616,
          635,
          6988,
          2,
          104,
          54,
          0,
          0,
          0,
          198,
          0,
          2,
          0,
          2,
          0,
          0,
          0,
          0,
          0,
          0,
          0
         ],
         "yaxis": "y8"
        },
        {
         "marker": {
          "color": "#9b59b6"
         },
         "mode": "markers",
         "name": "open-mixtral-8x7b",
         "showlegend": false,
         "type": "scatter",
         "x": [
          "!",
          "\"",
          "#",
          "$",
          "%",
          "&",
          "'",
          "(",
          ")",
          "*",
          "+",
          ",",
          "-",
          ".",
          "/",
          ":",
          ";",
          "<",
          "=",
          ">",
          "?",
          "@",
          "[",
          "\\",
          "]",
          "^",
          "_",
          "`",
          "{",
          "|",
          "}",
          "~"
         ],
         "xaxis": "x9",
         "y": [
          9,
          429,
          0,
          0,
          2,
          0,
          636,
          1,
          1,
          0,
          0,
          16954,
          546,
          6296,
          0,
          128,
          48,
          0,
          0,
          1,
          180,
          0,
          0,
          0,
          0,
          0,
          0,
          0,
          0,
          0,
          0,
          0
         ],
         "yaxis": "y9"
        },
        {
         "marker": {
          "color": "#9b59b6"
         },
         "mode": "markers",
         "name": "open-mixtral-8x7b",
         "showlegend": false,
         "type": "scatter",
         "x": [
          "!",
          "\"",
          "#",
          "$",
          "%",
          "&",
          "'",
          "(",
          ")",
          "*",
          "+",
          ",",
          "-",
          ".",
          "/",
          ":",
          ";",
          "<",
          "=",
          ">",
          "?",
          "@",
          "[",
          "\\",
          "]",
          "^",
          "_",
          "`",
          "{",
          "|",
          "}",
          "~"
         ],
         "xaxis": "x10",
         "y": [
          224,
          2039,
          0,
          0,
          1,
          0,
          1290,
          94,
          94,
          20,
          0,
          16437,
          843,
          7460,
          1,
          198,
          53,
          0,
          0,
          0,
          425,
          0,
          3,
          0,
          3,
          0,
          0,
          0,
          0,
          0,
          0,
          0
         ],
         "yaxis": "y10"
        },
        {
         "marker": {
          "color": "#e67e22"
         },
         "mode": "markers",
         "name": "claude-3-haiku-20240307",
         "showlegend": true,
         "type": "scatter",
         "x": [
          "!",
          "\"",
          "#",
          "$",
          "%",
          "&",
          "'",
          "(",
          ")",
          "*",
          "+",
          ",",
          "-",
          ".",
          "/",
          ":",
          ";",
          "<",
          "=",
          ">",
          "?",
          "@",
          "[",
          "\\",
          "]",
          "^",
          "_",
          "`",
          "{",
          "|",
          "}",
          "~"
         ],
         "xaxis": "x",
         "y": [
          444,
          2137,
          0,
          0,
          0,
          1,
          6021,
          30,
          30,
          16,
          0,
          15472,
          1386,
          7002,
          0,
          82,
          8,
          0,
          0,
          0,
          881,
          0,
          0,
          0,
          0,
          0,
          16,
          0,
          0,
          0,
          0,
          0
         ],
         "yaxis": "y"
        },
        {
         "marker": {
          "color": "#e67e22"
         },
         "mode": "markers",
         "name": "claude-3-haiku-20240307",
         "showlegend": false,
         "type": "scatter",
         "x": [
          "!",
          "\"",
          "#",
          "$",
          "%",
          "&",
          "'",
          "(",
          ")",
          "*",
          "+",
          ",",
          "-",
          ".",
          "/",
          ":",
          ";",
          "<",
          "=",
          ">",
          "?",
          "@",
          "[",
          "\\",
          "]",
          "^",
          "_",
          "`",
          "{",
          "|",
          "}",
          "~"
         ],
         "xaxis": "x2",
         "y": [
          189,
          1936,
          0,
          0,
          0,
          0,
          2499,
          1,
          1,
          4,
          0,
          14693,
          980,
          7398,
          0,
          117,
          10,
          0,
          0,
          0,
          404,
          0,
          1,
          0,
          1,
          0,
          0,
          0,
          0,
          0,
          0,
          0
         ],
         "yaxis": "y2"
        },
        {
         "marker": {
          "color": "#e67e22"
         },
         "mode": "markers",
         "name": "claude-3-haiku-20240307",
         "showlegend": false,
         "type": "scatter",
         "x": [
          "!",
          "\"",
          "#",
          "$",
          "%",
          "&",
          "'",
          "(",
          ")",
          "*",
          "+",
          ",",
          "-",
          ".",
          "/",
          ":",
          ";",
          "<",
          "=",
          ">",
          "?",
          "@",
          "[",
          "\\",
          "]",
          "^",
          "_",
          "`",
          "{",
          "|",
          "}",
          "~"
         ],
         "xaxis": "x3",
         "y": [
          47,
          818,
          0,
          0,
          0,
          0,
          773,
          3,
          3,
          2,
          0,
          15798,
          738,
          6148,
          0,
          49,
          31,
          0,
          0,
          0,
          361,
          0,
          4,
          0,
          4,
          0,
          2,
          0,
          0,
          0,
          0,
          0
         ],
         "yaxis": "y3"
        },
        {
         "marker": {
          "color": "#e67e22"
         },
         "mode": "markers",
         "name": "claude-3-haiku-20240307",
         "showlegend": false,
         "type": "scatter",
         "x": [
          "!",
          "\"",
          "#",
          "$",
          "%",
          "&",
          "'",
          "(",
          ")",
          "*",
          "+",
          ",",
          "-",
          ".",
          "/",
          ":",
          ";",
          "<",
          "=",
          ">",
          "?",
          "@",
          "[",
          "\\",
          "]",
          "^",
          "_",
          "`",
          "{",
          "|",
          "}",
          "~"
         ],
         "xaxis": "x4",
         "y": [
          149,
          620,
          0,
          0,
          0,
          0,
          612,
          8,
          8,
          4,
          0,
          15583,
          845,
          5968,
          0,
          25,
          21,
          0,
          0,
          0,
          458,
          0,
          0,
          0,
          0,
          0,
          0,
          0,
          0,
          0,
          0,
          0
         ],
         "yaxis": "y4"
        },
        {
         "marker": {
          "color": "#e67e22"
         },
         "mode": "markers",
         "name": "claude-3-haiku-20240307",
         "showlegend": false,
         "type": "scatter",
         "x": [
          "!",
          "\"",
          "#",
          "$",
          "%",
          "&",
          "'",
          "(",
          ")",
          "*",
          "+",
          ",",
          "-",
          ".",
          "/",
          ":",
          ";",
          "<",
          "=",
          ">",
          "?",
          "@",
          "[",
          "\\",
          "]",
          "^",
          "_",
          "`",
          "{",
          "|",
          "}",
          "~"
         ],
         "xaxis": "x5",
         "y": [
          97,
          1200,
          0,
          0,
          0,
          0,
          898,
          6,
          6,
          0,
          0,
          15050,
          884,
          6090,
          0,
          71,
          28,
          0,
          0,
          0,
          398,
          0,
          0,
          0,
          0,
          0,
          0,
          0,
          0,
          0,
          0,
          0
         ],
         "yaxis": "y5"
        },
        {
         "marker": {
          "color": "#e67e22"
         },
         "mode": "markers",
         "name": "claude-3-haiku-20240307",
         "showlegend": false,
         "type": "scatter",
         "x": [
          "!",
          "\"",
          "#",
          "$",
          "%",
          "&",
          "'",
          "(",
          ")",
          "*",
          "+",
          ",",
          "-",
          ".",
          "/",
          ":",
          ";",
          "<",
          "=",
          ">",
          "?",
          "@",
          "[",
          "\\",
          "]",
          "^",
          "_",
          "`",
          "{",
          "|",
          "}",
          "~"
         ],
         "xaxis": "x6",
         "y": [
          116,
          925,
          0,
          0,
          0,
          0,
          766,
          2,
          2,
          6,
          0,
          15187,
          959,
          6129,
          1,
          78,
          19,
          0,
          0,
          0,
          334,
          0,
          0,
          0,
          0,
          0,
          0,
          0,
          0,
          0,
          0,
          0
         ],
         "yaxis": "y6"
        },
        {
         "marker": {
          "color": "#e67e22"
         },
         "mode": "markers",
         "name": "claude-3-haiku-20240307",
         "showlegend": false,
         "type": "scatter",
         "x": [
          "!",
          "\"",
          "#",
          "$",
          "%",
          "&",
          "'",
          "(",
          ")",
          "*",
          "+",
          ",",
          "-",
          ".",
          "/",
          ":",
          ";",
          "<",
          "=",
          ">",
          "?",
          "@",
          "[",
          "\\",
          "]",
          "^",
          "_",
          "`",
          "{",
          "|",
          "}",
          "~"
         ],
         "xaxis": "x7",
         "y": [
          375,
          1786,
          0,
          0,
          0,
          0,
          1350,
          6,
          6,
          2,
          0,
          14864,
          1058,
          7172,
          0,
          94,
          20,
          0,
          0,
          0,
          489,
          0,
          0,
          0,
          0,
          0,
          46,
          0,
          0,
          0,
          0,
          0
         ],
         "yaxis": "y7"
        },
        {
         "marker": {
          "color": "#e67e22"
         },
         "mode": "markers",
         "name": "claude-3-haiku-20240307",
         "showlegend": false,
         "type": "scatter",
         "x": [
          "!",
          "\"",
          "#",
          "$",
          "%",
          "&",
          "'",
          "(",
          ")",
          "*",
          "+",
          ",",
          "-",
          ".",
          "/",
          ":",
          ";",
          "<",
          "=",
          ">",
          "?",
          "@",
          "[",
          "\\",
          "]",
          "^",
          "_",
          "`",
          "{",
          "|",
          "}",
          "~"
         ],
         "xaxis": "x8",
         "y": [
          230,
          1430,
          0,
          0,
          0,
          1,
          992,
          3,
          3,
          6,
          0,
          15140,
          853,
          6636,
          0,
          54,
          28,
          0,
          0,
          0,
          451,
          0,
          1,
          0,
          1,
          0,
          0,
          0,
          0,
          0,
          0,
          0
         ],
         "yaxis": "y8"
        },
        {
         "marker": {
          "color": "#e67e22"
         },
         "mode": "markers",
         "name": "claude-3-haiku-20240307",
         "showlegend": false,
         "type": "scatter",
         "x": [
          "!",
          "\"",
          "#",
          "$",
          "%",
          "&",
          "'",
          "(",
          ")",
          "*",
          "+",
          ",",
          "-",
          ".",
          "/",
          ":",
          ";",
          "<",
          "=",
          ">",
          "?",
          "@",
          "[",
          "\\",
          "]",
          "^",
          "_",
          "`",
          "{",
          "|",
          "}",
          "~"
         ],
         "xaxis": "x9",
         "y": [
          106,
          757,
          0,
          0,
          0,
          0,
          793,
          1,
          1,
          4,
          0,
          16584,
          822,
          6222,
          1,
          85,
          24,
          0,
          0,
          0,
          576,
          0,
          1,
          0,
          1,
          0,
          2,
          0,
          0,
          0,
          0,
          0
         ],
         "yaxis": "y9"
        },
        {
         "marker": {
          "color": "#e67e22"
         },
         "mode": "markers",
         "name": "claude-3-haiku-20240307",
         "showlegend": false,
         "type": "scatter",
         "x": [
          "!",
          "\"",
          "#",
          "$",
          "%",
          "&",
          "'",
          "(",
          ")",
          "*",
          "+",
          ",",
          "-",
          ".",
          "/",
          ":",
          ";",
          "<",
          "=",
          ">",
          "?",
          "@",
          "[",
          "\\",
          "]",
          "^",
          "_",
          "`",
          "{",
          "|",
          "}",
          "~"
         ],
         "xaxis": "x10",
         "y": [
          402,
          1619,
          0,
          0,
          0,
          0,
          913,
          16,
          16,
          18,
          0,
          16741,
          923,
          6103,
          1,
          48,
          30,
          0,
          0,
          0,
          543,
          0,
          0,
          0,
          0,
          0,
          26,
          0,
          0,
          0,
          0,
          0
         ],
         "yaxis": "y10"
        }
       ],
       "layout": {
        "annotations": [
         {
          "font": {
           "size": 16
          },
          "showarrow": false,
          "text": "Mark Twain",
          "x": 0.14444444444444446,
          "xanchor": "center",
          "xref": "paper",
          "y": 1,
          "yanchor": "bottom",
          "yref": "paper"
         },
         {
          "font": {
           "size": 16
          },
          "showarrow": false,
          "text": "Zane Grey",
          "x": 0.5,
          "xanchor": "center",
          "xref": "paper",
          "y": 1,
          "yanchor": "bottom",
          "yref": "paper"
         },
         {
          "font": {
           "size": 16
          },
          "showarrow": false,
          "text": "Joseph Conrad",
          "x": 0.8555555555555556,
          "xanchor": "center",
          "xref": "paper",
          "y": 1,
          "yanchor": "bottom",
          "yref": "paper"
         },
         {
          "font": {
           "size": 16
          },
          "showarrow": false,
          "text": "Benjamin Disraeli",
          "x": 0.14444444444444446,
          "xanchor": "center",
          "xref": "paper",
          "y": 0.71875,
          "yanchor": "bottom",
          "yref": "paper"
         },
         {
          "font": {
           "size": 16
          },
          "showarrow": false,
          "text": "George Eliot",
          "x": 0.5,
          "xanchor": "center",
          "xref": "paper",
          "y": 0.71875,
          "yanchor": "bottom",
          "yref": "paper"
         },
         {
          "font": {
           "size": 16
          },
          "showarrow": false,
          "text": "William Henry Hudson",
          "x": 0.8555555555555556,
          "xanchor": "center",
          "xref": "paper",
          "y": 0.71875,
          "yanchor": "bottom",
          "yref": "paper"
         },
         {
          "font": {
           "size": 16
          },
          "showarrow": false,
          "text": "Lucy Maud Montgomery",
          "x": 0.14444444444444446,
          "xanchor": "center",
          "xref": "paper",
          "y": 0.4375,
          "yanchor": "bottom",
          "yref": "paper"
         },
         {
          "font": {
           "size": 16
          },
          "showarrow": false,
          "text": "Howard Pyle",
          "x": 0.5,
          "xanchor": "center",
          "xref": "paper",
          "y": 0.4375,
          "yanchor": "bottom",
          "yref": "paper"
         },
         {
          "font": {
           "size": 16
          },
          "showarrow": false,
          "text": "Virginia Woolf",
          "x": 0.8555555555555556,
          "xanchor": "center",
          "xref": "paper",
          "y": 0.4375,
          "yanchor": "bottom",
          "yref": "paper"
         },
         {
          "font": {
           "size": 16
          },
          "showarrow": false,
          "text": "Lewis Carroll",
          "x": 0.14444444444444446,
          "xanchor": "center",
          "xref": "paper",
          "y": 0.15625,
          "yanchor": "bottom",
          "yref": "paper"
         }
        ],
        "height": 1500,
        "legend": {
         "title": {
          "text": "Collection"
         }
        },
        "template": {
         "data": {
          "bar": [
           {
            "error_x": {
             "color": "#2a3f5f"
            },
            "error_y": {
             "color": "#2a3f5f"
            },
            "marker": {
             "line": {
              "color": "#E5ECF6",
              "width": 0.5
             },
             "pattern": {
              "fillmode": "overlay",
              "size": 10,
              "solidity": 0.2
             }
            },
            "type": "bar"
           }
          ],
          "barpolar": [
           {
            "marker": {
             "line": {
              "color": "#E5ECF6",
              "width": 0.5
             },
             "pattern": {
              "fillmode": "overlay",
              "size": 10,
              "solidity": 0.2
             }
            },
            "type": "barpolar"
           }
          ],
          "carpet": [
           {
            "aaxis": {
             "endlinecolor": "#2a3f5f",
             "gridcolor": "white",
             "linecolor": "white",
             "minorgridcolor": "white",
             "startlinecolor": "#2a3f5f"
            },
            "baxis": {
             "endlinecolor": "#2a3f5f",
             "gridcolor": "white",
             "linecolor": "white",
             "minorgridcolor": "white",
             "startlinecolor": "#2a3f5f"
            },
            "type": "carpet"
           }
          ],
          "choropleth": [
           {
            "colorbar": {
             "outlinewidth": 0,
             "ticks": ""
            },
            "type": "choropleth"
           }
          ],
          "contour": [
           {
            "colorbar": {
             "outlinewidth": 0,
             "ticks": ""
            },
            "colorscale": [
             [
              0,
              "#0d0887"
             ],
             [
              0.1111111111111111,
              "#46039f"
             ],
             [
              0.2222222222222222,
              "#7201a8"
             ],
             [
              0.3333333333333333,
              "#9c179e"
             ],
             [
              0.4444444444444444,
              "#bd3786"
             ],
             [
              0.5555555555555556,
              "#d8576b"
             ],
             [
              0.6666666666666666,
              "#ed7953"
             ],
             [
              0.7777777777777778,
              "#fb9f3a"
             ],
             [
              0.8888888888888888,
              "#fdca26"
             ],
             [
              1,
              "#f0f921"
             ]
            ],
            "type": "contour"
           }
          ],
          "contourcarpet": [
           {
            "colorbar": {
             "outlinewidth": 0,
             "ticks": ""
            },
            "type": "contourcarpet"
           }
          ],
          "heatmap": [
           {
            "colorbar": {
             "outlinewidth": 0,
             "ticks": ""
            },
            "colorscale": [
             [
              0,
              "#0d0887"
             ],
             [
              0.1111111111111111,
              "#46039f"
             ],
             [
              0.2222222222222222,
              "#7201a8"
             ],
             [
              0.3333333333333333,
              "#9c179e"
             ],
             [
              0.4444444444444444,
              "#bd3786"
             ],
             [
              0.5555555555555556,
              "#d8576b"
             ],
             [
              0.6666666666666666,
              "#ed7953"
             ],
             [
              0.7777777777777778,
              "#fb9f3a"
             ],
             [
              0.8888888888888888,
              "#fdca26"
             ],
             [
              1,
              "#f0f921"
             ]
            ],
            "type": "heatmap"
           }
          ],
          "heatmapgl": [
           {
            "colorbar": {
             "outlinewidth": 0,
             "ticks": ""
            },
            "colorscale": [
             [
              0,
              "#0d0887"
             ],
             [
              0.1111111111111111,
              "#46039f"
             ],
             [
              0.2222222222222222,
              "#7201a8"
             ],
             [
              0.3333333333333333,
              "#9c179e"
             ],
             [
              0.4444444444444444,
              "#bd3786"
             ],
             [
              0.5555555555555556,
              "#d8576b"
             ],
             [
              0.6666666666666666,
              "#ed7953"
             ],
             [
              0.7777777777777778,
              "#fb9f3a"
             ],
             [
              0.8888888888888888,
              "#fdca26"
             ],
             [
              1,
              "#f0f921"
             ]
            ],
            "type": "heatmapgl"
           }
          ],
          "histogram": [
           {
            "marker": {
             "pattern": {
              "fillmode": "overlay",
              "size": 10,
              "solidity": 0.2
             }
            },
            "type": "histogram"
           }
          ],
          "histogram2d": [
           {
            "colorbar": {
             "outlinewidth": 0,
             "ticks": ""
            },
            "colorscale": [
             [
              0,
              "#0d0887"
             ],
             [
              0.1111111111111111,
              "#46039f"
             ],
             [
              0.2222222222222222,
              "#7201a8"
             ],
             [
              0.3333333333333333,
              "#9c179e"
             ],
             [
              0.4444444444444444,
              "#bd3786"
             ],
             [
              0.5555555555555556,
              "#d8576b"
             ],
             [
              0.6666666666666666,
              "#ed7953"
             ],
             [
              0.7777777777777778,
              "#fb9f3a"
             ],
             [
              0.8888888888888888,
              "#fdca26"
             ],
             [
              1,
              "#f0f921"
             ]
            ],
            "type": "histogram2d"
           }
          ],
          "histogram2dcontour": [
           {
            "colorbar": {
             "outlinewidth": 0,
             "ticks": ""
            },
            "colorscale": [
             [
              0,
              "#0d0887"
             ],
             [
              0.1111111111111111,
              "#46039f"
             ],
             [
              0.2222222222222222,
              "#7201a8"
             ],
             [
              0.3333333333333333,
              "#9c179e"
             ],
             [
              0.4444444444444444,
              "#bd3786"
             ],
             [
              0.5555555555555556,
              "#d8576b"
             ],
             [
              0.6666666666666666,
              "#ed7953"
             ],
             [
              0.7777777777777778,
              "#fb9f3a"
             ],
             [
              0.8888888888888888,
              "#fdca26"
             ],
             [
              1,
              "#f0f921"
             ]
            ],
            "type": "histogram2dcontour"
           }
          ],
          "mesh3d": [
           {
            "colorbar": {
             "outlinewidth": 0,
             "ticks": ""
            },
            "type": "mesh3d"
           }
          ],
          "parcoords": [
           {
            "line": {
             "colorbar": {
              "outlinewidth": 0,
              "ticks": ""
             }
            },
            "type": "parcoords"
           }
          ],
          "pie": [
           {
            "automargin": true,
            "type": "pie"
           }
          ],
          "scatter": [
           {
            "fillpattern": {
             "fillmode": "overlay",
             "size": 10,
             "solidity": 0.2
            },
            "type": "scatter"
           }
          ],
          "scatter3d": [
           {
            "line": {
             "colorbar": {
              "outlinewidth": 0,
              "ticks": ""
             }
            },
            "marker": {
             "colorbar": {
              "outlinewidth": 0,
              "ticks": ""
             }
            },
            "type": "scatter3d"
           }
          ],
          "scattercarpet": [
           {
            "marker": {
             "colorbar": {
              "outlinewidth": 0,
              "ticks": ""
             }
            },
            "type": "scattercarpet"
           }
          ],
          "scattergeo": [
           {
            "marker": {
             "colorbar": {
              "outlinewidth": 0,
              "ticks": ""
             }
            },
            "type": "scattergeo"
           }
          ],
          "scattergl": [
           {
            "marker": {
             "colorbar": {
              "outlinewidth": 0,
              "ticks": ""
             }
            },
            "type": "scattergl"
           }
          ],
          "scattermapbox": [
           {
            "marker": {
             "colorbar": {
              "outlinewidth": 0,
              "ticks": ""
             }
            },
            "type": "scattermapbox"
           }
          ],
          "scatterpolar": [
           {
            "marker": {
             "colorbar": {
              "outlinewidth": 0,
              "ticks": ""
             }
            },
            "type": "scatterpolar"
           }
          ],
          "scatterpolargl": [
           {
            "marker": {
             "colorbar": {
              "outlinewidth": 0,
              "ticks": ""
             }
            },
            "type": "scatterpolargl"
           }
          ],
          "scatterternary": [
           {
            "marker": {
             "colorbar": {
              "outlinewidth": 0,
              "ticks": ""
             }
            },
            "type": "scatterternary"
           }
          ],
          "surface": [
           {
            "colorbar": {
             "outlinewidth": 0,
             "ticks": ""
            },
            "colorscale": [
             [
              0,
              "#0d0887"
             ],
             [
              0.1111111111111111,
              "#46039f"
             ],
             [
              0.2222222222222222,
              "#7201a8"
             ],
             [
              0.3333333333333333,
              "#9c179e"
             ],
             [
              0.4444444444444444,
              "#bd3786"
             ],
             [
              0.5555555555555556,
              "#d8576b"
             ],
             [
              0.6666666666666666,
              "#ed7953"
             ],
             [
              0.7777777777777778,
              "#fb9f3a"
             ],
             [
              0.8888888888888888,
              "#fdca26"
             ],
             [
              1,
              "#f0f921"
             ]
            ],
            "type": "surface"
           }
          ],
          "table": [
           {
            "cells": {
             "fill": {
              "color": "#EBF0F8"
             },
             "line": {
              "color": "white"
             }
            },
            "header": {
             "fill": {
              "color": "#C8D4E3"
             },
             "line": {
              "color": "white"
             }
            },
            "type": "table"
           }
          ]
         },
         "layout": {
          "annotationdefaults": {
           "arrowcolor": "#2a3f5f",
           "arrowhead": 0,
           "arrowwidth": 1
          },
          "autotypenumbers": "strict",
          "coloraxis": {
           "colorbar": {
            "outlinewidth": 0,
            "ticks": ""
           }
          },
          "colorscale": {
           "diverging": [
            [
             0,
             "#8e0152"
            ],
            [
             0.1,
             "#c51b7d"
            ],
            [
             0.2,
             "#de77ae"
            ],
            [
             0.3,
             "#f1b6da"
            ],
            [
             0.4,
             "#fde0ef"
            ],
            [
             0.5,
             "#f7f7f7"
            ],
            [
             0.6,
             "#e6f5d0"
            ],
            [
             0.7,
             "#b8e186"
            ],
            [
             0.8,
             "#7fbc41"
            ],
            [
             0.9,
             "#4d9221"
            ],
            [
             1,
             "#276419"
            ]
           ],
           "sequential": [
            [
             0,
             "#0d0887"
            ],
            [
             0.1111111111111111,
             "#46039f"
            ],
            [
             0.2222222222222222,
             "#7201a8"
            ],
            [
             0.3333333333333333,
             "#9c179e"
            ],
            [
             0.4444444444444444,
             "#bd3786"
            ],
            [
             0.5555555555555556,
             "#d8576b"
            ],
            [
             0.6666666666666666,
             "#ed7953"
            ],
            [
             0.7777777777777778,
             "#fb9f3a"
            ],
            [
             0.8888888888888888,
             "#fdca26"
            ],
            [
             1,
             "#f0f921"
            ]
           ],
           "sequentialminus": [
            [
             0,
             "#0d0887"
            ],
            [
             0.1111111111111111,
             "#46039f"
            ],
            [
             0.2222222222222222,
             "#7201a8"
            ],
            [
             0.3333333333333333,
             "#9c179e"
            ],
            [
             0.4444444444444444,
             "#bd3786"
            ],
            [
             0.5555555555555556,
             "#d8576b"
            ],
            [
             0.6666666666666666,
             "#ed7953"
            ],
            [
             0.7777777777777778,
             "#fb9f3a"
            ],
            [
             0.8888888888888888,
             "#fdca26"
            ],
            [
             1,
             "#f0f921"
            ]
           ]
          },
          "colorway": [
           "#636efa",
           "#EF553B",
           "#00cc96",
           "#ab63fa",
           "#FFA15A",
           "#19d3f3",
           "#FF6692",
           "#B6E880",
           "#FF97FF",
           "#FECB52"
          ],
          "font": {
           "color": "#2a3f5f"
          },
          "geo": {
           "bgcolor": "white",
           "lakecolor": "white",
           "landcolor": "#E5ECF6",
           "showlakes": true,
           "showland": true,
           "subunitcolor": "white"
          },
          "hoverlabel": {
           "align": "left"
          },
          "hovermode": "closest",
          "mapbox": {
           "style": "light"
          },
          "paper_bgcolor": "white",
          "plot_bgcolor": "#E5ECF6",
          "polar": {
           "angularaxis": {
            "gridcolor": "white",
            "linecolor": "white",
            "ticks": ""
           },
           "bgcolor": "#E5ECF6",
           "radialaxis": {
            "gridcolor": "white",
            "linecolor": "white",
            "ticks": ""
           }
          },
          "scene": {
           "xaxis": {
            "backgroundcolor": "#E5ECF6",
            "gridcolor": "white",
            "gridwidth": 2,
            "linecolor": "white",
            "showbackground": true,
            "ticks": "",
            "zerolinecolor": "white"
           },
           "yaxis": {
            "backgroundcolor": "#E5ECF6",
            "gridcolor": "white",
            "gridwidth": 2,
            "linecolor": "white",
            "showbackground": true,
            "ticks": "",
            "zerolinecolor": "white"
           },
           "zaxis": {
            "backgroundcolor": "#E5ECF6",
            "gridcolor": "white",
            "gridwidth": 2,
            "linecolor": "white",
            "showbackground": true,
            "ticks": "",
            "zerolinecolor": "white"
           }
          },
          "shapedefaults": {
           "line": {
            "color": "#2a3f5f"
           }
          },
          "ternary": {
           "aaxis": {
            "gridcolor": "white",
            "linecolor": "white",
            "ticks": ""
           },
           "baxis": {
            "gridcolor": "white",
            "linecolor": "white",
            "ticks": ""
           },
           "bgcolor": "#E5ECF6",
           "caxis": {
            "gridcolor": "white",
            "linecolor": "white",
            "ticks": ""
           }
          },
          "title": {
           "x": 0.05
          },
          "xaxis": {
           "automargin": true,
           "gridcolor": "white",
           "linecolor": "white",
           "ticks": "",
           "title": {
            "standoff": 15
           },
           "zerolinecolor": "white",
           "zerolinewidth": 2
          },
          "yaxis": {
           "automargin": true,
           "gridcolor": "white",
           "linecolor": "white",
           "ticks": "",
           "title": {
            "standoff": 15
           },
           "zerolinecolor": "white",
           "zerolinewidth": 2
          }
         }
        },
        "title": {
         "text": "Punctuation frequency",
         "x": 0.5
        },
        "xaxis": {
         "anchor": "y",
         "domain": [
          0,
          0.2888888888888889
         ]
        },
        "xaxis10": {
         "anchor": "y10",
         "domain": [
          0,
          0.2888888888888889
         ]
        },
        "xaxis11": {
         "anchor": "y11",
         "domain": [
          0.35555555555555557,
          0.6444444444444445
         ]
        },
        "xaxis12": {
         "anchor": "y12",
         "domain": [
          0.7111111111111111,
          1
         ]
        },
        "xaxis2": {
         "anchor": "y2",
         "domain": [
          0.35555555555555557,
          0.6444444444444445
         ]
        },
        "xaxis3": {
         "anchor": "y3",
         "domain": [
          0.7111111111111111,
          1
         ]
        },
        "xaxis4": {
         "anchor": "y4",
         "domain": [
          0,
          0.2888888888888889
         ]
        },
        "xaxis5": {
         "anchor": "y5",
         "domain": [
          0.35555555555555557,
          0.6444444444444445
         ]
        },
        "xaxis6": {
         "anchor": "y6",
         "domain": [
          0.7111111111111111,
          1
         ]
        },
        "xaxis7": {
         "anchor": "y7",
         "domain": [
          0,
          0.2888888888888889
         ]
        },
        "xaxis8": {
         "anchor": "y8",
         "domain": [
          0.35555555555555557,
          0.6444444444444445
         ]
        },
        "xaxis9": {
         "anchor": "y9",
         "domain": [
          0.7111111111111111,
          1
         ]
        },
        "yaxis": {
         "anchor": "x",
         "domain": [
          0.84375,
          1
         ]
        },
        "yaxis10": {
         "anchor": "x10",
         "domain": [
          0,
          0.15625
         ]
        },
        "yaxis11": {
         "anchor": "x11",
         "domain": [
          0,
          0.15625
         ]
        },
        "yaxis12": {
         "anchor": "x12",
         "domain": [
          0,
          0.15625
         ]
        },
        "yaxis2": {
         "anchor": "x2",
         "domain": [
          0.84375,
          1
         ]
        },
        "yaxis3": {
         "anchor": "x3",
         "domain": [
          0.84375,
          1
         ]
        },
        "yaxis4": {
         "anchor": "x4",
         "domain": [
          0.5625,
          0.71875
         ]
        },
        "yaxis5": {
         "anchor": "x5",
         "domain": [
          0.5625,
          0.71875
         ]
        },
        "yaxis6": {
         "anchor": "x6",
         "domain": [
          0.5625,
          0.71875
         ]
        },
        "yaxis7": {
         "anchor": "x7",
         "domain": [
          0.28125,
          0.4375
         ]
        },
        "yaxis8": {
         "anchor": "x8",
         "domain": [
          0.28125,
          0.4375
         ]
        },
        "yaxis9": {
         "anchor": "x9",
         "domain": [
          0.28125,
          0.4375
         ]
        }
       }
      }
     },
     "metadata": {},
     "output_type": "display_data"
    },
    {
     "data": {
      "application/vnd.plotly.v1+json": {
       "config": {
        "plotlyServerURL": "https://plot.ly"
       },
       "data": [
        {
         "marker": {
          "color": "#3498db"
         },
         "mode": "markers",
         "name": "books",
         "type": "scatter",
         "visible": true,
         "x": [
          "Mark Twain",
          "Zane Grey",
          "Joseph Conrad",
          "Benjamin Disraeli",
          "George Eliot",
          "William Henry Hudson",
          "Lucy Maud Montgomery",
          "Howard Pyle",
          "Virginia Woolf",
          "Lewis Carroll"
         ],
         "y": [
          16356,
          13548,
          14750,
          14681,
          14519,
          13708,
          12159,
          11566,
          12896,
          12945
         ]
        },
        {
         "marker": {
          "color": "#3498db"
         },
         "mode": "markers",
         "name": "books",
         "type": "scatter",
         "visible": false,
         "x": [
          "Mark Twain",
          "Zane Grey",
          "Joseph Conrad",
          "Benjamin Disraeli",
          "George Eliot",
          "William Henry Hudson",
          "Lucy Maud Montgomery",
          "Howard Pyle",
          "Virginia Woolf",
          "Lewis Carroll"
         ],
         "y": [
          4.2375493153864,
          4.208034130269494,
          4.331144744758778,
          4.5046206428409805,
          4.338288552409202,
          4.285545199839899,
          4.11761539417099,
          4.1456328235280395,
          4.362501923919349,
          4.146199565233781
         ]
        },
        {
         "marker": {
          "color": "#3498db"
         },
         "mode": "markers",
         "name": "books",
         "type": "scatter",
         "visible": false,
         "x": [
          "Mark Twain",
          "Zane Grey",
          "Joseph Conrad",
          "Benjamin Disraeli",
          "George Eliot",
          "William Henry Hudson",
          "Lucy Maud Montgomery",
          "Howard Pyle",
          "Virginia Woolf",
          "Lewis Carroll"
         ],
         "y": [
          19.55969133000454,
          11.94363963963964,
          15.633881278538812,
          17.062074570760945,
          24.350223964165732,
          27.45956979117601,
          13.659583063994829,
          21.747811746796906,
          17.723848494386736,
          16.338123588585507
         ]
        },
        {
         "marker": {
          "color": "#3498db"
         },
         "mode": "markers",
         "name": "books",
         "type": "scatter",
         "visible": false,
         "x": [
          "Mark Twain",
          "Zane Grey",
          "Joseph Conrad",
          "Benjamin Disraeli",
          "George Eliot",
          "William Henry Hudson",
          "Lucy Maud Montgomery",
          "Howard Pyle",
          "Virginia Woolf",
          "Lewis Carroll"
         ],
         "y": [
          1.3717161754467393,
          1.319313532627717,
          1.3988060119982944,
          1.4498695978373486,
          1.403252509226365,
          1.372028131968666,
          1.3303973357152574,
          1.290536520491373,
          1.3869209002758605,
          1.32830504002111
         ]
        },
        {
         "marker": {
          "color": "#3498db"
         },
         "mode": "markers",
         "name": "books",
         "type": "scatter",
         "visible": false,
         "x": [
          "Mark Twain",
          "Zane Grey",
          "Joseph Conrad",
          "Benjamin Disraeli",
          "George Eliot",
          "William Henry Hudson",
          "Lucy Maud Montgomery",
          "Howard Pyle",
          "Virginia Woolf",
          "Lewis Carroll"
         ],
         "y": [
          70.93472485725125,
          83.09828090546094,
          72.62762188722742,
          66.85802633363798,
          63.404360395821314,
          62.88995669740723,
          80.4189085885345,
          75.581581443431,
          71.51178561485968,
          77.87719817179983
         ]
        },
        {
         "marker": {
          "color": "#3498db"
         },
         "mode": "markers",
         "name": "books",
         "type": "scatter",
         "visible": false,
         "x": [
          "Mark Twain",
          "Zane Grey",
          "Joseph Conrad",
          "Benjamin Disraeli",
          "George Eliot",
          "William Henry Hudson",
          "Lucy Maud Montgomery",
          "Howard Pyle",
          "Virginia Woolf",
          "Lewis Carroll"
         ],
         "y": [
          8.224530488973297,
          4.6359191444665235,
          7.0131246402100125,
          8.172670337077484,
          10.464966954895743,
          11.309164175788904,
          5.43592595639802,
          8.119977523048995,
          7.687967536065983,
          6.455867671797446
         ]
        },
        {
         "marker": {
          "color": "#3498db"
         },
         "mode": "markers",
         "name": "books",
         "type": "scatter",
         "visible": false,
         "x": [
          "Mark Twain",
          "Zane Grey",
          "Joseph Conrad",
          "Benjamin Disraeli",
          "George Eliot",
          "William Henry Hudson",
          "Lucy Maud Montgomery",
          "Howard Pyle",
          "Virginia Woolf",
          "Lewis Carroll"
         ],
         "y": [
          11.129051746668793,
          7.203022179369295,
          9.81588931650458,
          11.057481577122424,
          13.297959876196192,
          14.138267850142999,
          8.023534144255615,
          10.515291476212667,
          10.223456023969725,
          9.050359446366185
         ]
        },
        {
         "marker": {
          "color": "#3498db"
         },
         "mode": "markers",
         "name": "books",
         "type": "scatter",
         "visible": false,
         "x": [
          "Mark Twain",
          "Zane Grey",
          "Joseph Conrad",
          "Benjamin Disraeli",
          "George Eliot",
          "William Henry Hudson",
          "Lucy Maud Montgomery",
          "Howard Pyle",
          "Virginia Woolf",
          "Lewis Carroll"
         ],
         "y": [
          86.64398099628133,
          69.32214024091311,
          84.82595045022245,
          82.71811422588755,
          75.91806296336175,
          84.62569774946655,
          65.46304934036972,
          92.63510957383083,
          77.28852178742548,
          72.20360896298952
         ]
        },
        {
         "marker": {
          "color": "#3498db"
         },
         "mode": "markers",
         "name": "books",
         "type": "scatter",
         "visible": false,
         "x": [
          "Mark Twain",
          "Zane Grey",
          "Joseph Conrad",
          "Benjamin Disraeli",
          "George Eliot",
          "William Henry Hudson",
          "Lucy Maud Montgomery",
          "Howard Pyle",
          "Virginia Woolf",
          "Lewis Carroll"
         ],
         "y": [
          0.09489440705500116,
          0.08175334001134457,
          0.08616107155165867,
          0.08741708446963833,
          0.08346267489853873,
          0.07838069643776088,
          0.07192504037243198,
          0.06746462277908048,
          0.07634111978025881,
          0.08133018358192076
         ]
        },
        {
         "marker": {
          "color": "#3498db"
         },
         "mode": "markers",
         "name": "books",
         "type": "scatter",
         "visible": false,
         "x": [
          "Mark Twain",
          "Zane Grey",
          "Joseph Conrad",
          "Benjamin Disraeli",
          "George Eliot",
          "William Henry Hudson",
          "Lucy Maud Montgomery",
          "Howard Pyle",
          "Virginia Woolf",
          "Lewis Carroll"
         ],
         "y": [
          0.09765795750435005,
          0.10417871901268531,
          0.10171900146404161,
          0.10127956079274794,
          0.10290231296612554,
          0.10545874998085358,
          0.10932632037710775,
          0.1118551725365585,
          0.10685791288528587,
          0.10474621375955775
         ]
        },
        {
         "marker": {
          "color": "#3498db"
         },
         "mode": "markers",
         "name": "books",
         "type": "scatter",
         "visible": false,
         "x": [
          "Mark Twain",
          "Zane Grey",
          "Joseph Conrad",
          "Benjamin Disraeli",
          "George Eliot",
          "William Henry Hudson",
          "Lucy Maud Montgomery",
          "Howard Pyle",
          "Virginia Woolf",
          "Lewis Carroll"
         ],
         "y": [
          0.9912744622574274,
          0.9929939743431954,
          0.9914496083448082,
          0.9916600733264066,
          0.9923393184367721,
          0.9914644801229232,
          0.9933714514604034,
          0.9906500287279014,
          0.9921936043969398,
          0.9927023892002634
         ]
        },
        {
         "marker": {
          "color": "#e74c3c"
         },
         "mode": "markers",
         "name": "gpt-3.5-turbo-0125",
         "type": "scatter",
         "visible": true,
         "x": [
          "Mark Twain",
          "Zane Grey",
          "Joseph Conrad",
          "Benjamin Disraeli",
          "George Eliot",
          "William Henry Hudson",
          "Lucy Maud Montgomery",
          "Howard Pyle",
          "Virginia Woolf",
          "Lewis Carroll"
         ],
         "y": [
          12139,
          11762,
          11861,
          12414,
          12079,
          12080,
          11388,
          12068,
          11825,
          11635
         ]
        },
        {
         "marker": {
          "color": "#e74c3c"
         },
         "mode": "markers",
         "name": "gpt-3.5-turbo-0125",
         "type": "scatter",
         "visible": false,
         "x": [
          "Mark Twain",
          "Zane Grey",
          "Joseph Conrad",
          "Benjamin Disraeli",
          "George Eliot",
          "William Henry Hudson",
          "Lucy Maud Montgomery",
          "Howard Pyle",
          "Virginia Woolf",
          "Lewis Carroll"
         ],
         "y": [
          4.48124448739052,
          4.598071387772016,
          4.7149269543883126,
          4.7537606751956885,
          4.756330328292799,
          4.7938580186978115,
          4.639554957681744,
          4.656572063677392,
          4.709942028501262,
          4.636583314644539
         ]
        },
        {
         "marker": {
          "color": "#e74c3c"
         },
         "mode": "markers",
         "name": "gpt-3.5-turbo-0125",
         "type": "scatter",
         "visible": false,
         "x": [
          "Mark Twain",
          "Zane Grey",
          "Joseph Conrad",
          "Benjamin Disraeli",
          "George Eliot",
          "William Henry Hudson",
          "Lucy Maud Montgomery",
          "Howard Pyle",
          "Virginia Woolf",
          "Lewis Carroll"
         ],
         "y": [
          21.13524103538352,
          22.713558890867464,
          23.224553224553226,
          23.437108559498956,
          23.690250329380763,
          23.837455363047216,
          21.83186490455213,
          21.988151073808936,
          23.36946902654867,
          22.107089737233515
         ]
        },
        {
         "marker": {
          "color": "#e74c3c"
         },
         "mode": "markers",
         "name": "gpt-3.5-turbo-0125",
         "type": "scatter",
         "visible": false,
         "x": [
          "Mark Twain",
          "Zane Grey",
          "Joseph Conrad",
          "Benjamin Disraeli",
          "George Eliot",
          "William Henry Hudson",
          "Lucy Maud Montgomery",
          "Howard Pyle",
          "Virginia Woolf",
          "Lewis Carroll"
         ],
         "y": [
          1.4466098505064577,
          1.4798010908642916,
          1.5382959741273559,
          1.5608500072374207,
          1.551596416197187,
          1.5644908036729825,
          1.4893447676699736,
          1.4980241147809685,
          1.5394412238056256,
          1.4891006952231443
         ]
        },
        {
         "marker": {
          "color": "#e74c3c"
         },
         "mode": "markers",
         "name": "gpt-3.5-turbo-0125",
         "type": "scatter",
         "visible": false,
         "x": [
          "Mark Twain",
          "Zane Grey",
          "Joseph Conrad",
          "Benjamin Disraeli",
          "George Eliot",
          "William Henry Hudson",
          "Lucy Maud Montgomery",
          "Howard Pyle",
          "Virginia Woolf",
          "Lewis Carroll"
         ],
         "y": [
          62.999536996239414,
          58.58956543865048,
          53.12223906590418,
          50.99842419982278,
          51.524339105396535,
          50.28406081577276,
          58.677089776999836,
          57.784186549614006,
          52.878261404097174,
          58.41838510083001
         ]
        },
        {
         "marker": {
          "color": "#e74c3c"
         },
         "mode": "markers",
         "name": "gpt-3.5-turbo-0125",
         "type": "scatter",
         "visible": false,
         "x": [
          "Mark Twain",
          "Zane Grey",
          "Joseph Conrad",
          "Benjamin Disraeli",
          "George Eliot",
          "William Henry Hudson",
          "Lucy Maud Montgomery",
          "Howard Pyle",
          "Virginia Woolf",
          "Lewis Carroll"
         ],
         "y": [
          9.722740239775774,
          10.729940839636953,
          11.619468252278558,
          11.968502423606157,
          11.958035339585305,
          12.167599074929608,
          10.498695571281022,
          10.662063473200917,
          11.689499361260367,
          10.603153201154175
         ]
        },
        {
         "marker": {
          "color": "#e74c3c"
         },
         "mode": "markers",
         "name": "gpt-3.5-turbo-0125",
         "type": "scatter",
         "visible": false,
         "x": [
          "Mark Twain",
          "Zane Grey",
          "Joseph Conrad",
          "Benjamin Disraeli",
          "George Eliot",
          "William Henry Hudson",
          "Lucy Maud Montgomery",
          "Howard Pyle",
          "Virginia Woolf",
          "Lewis Carroll"
         ],
         "y": [
          12.523961190193994,
          13.50577590327319,
          14.624938943440117,
          15.043859468604786,
          14.988393732183875,
          15.247080239373743,
          13.29504628130967,
          13.491580343303127,
          14.698762990831197,
          13.451716809896773
         ]
        },
        {
         "marker": {
          "color": "#e74c3c"
         },
         "mode": "markers",
         "name": "gpt-3.5-turbo-0125",
         "type": "scatter",
         "visible": false,
         "x": [
          "Mark Twain",
          "Zane Grey",
          "Joseph Conrad",
          "Benjamin Disraeli",
          "George Eliot",
          "William Henry Hudson",
          "Lucy Maud Montgomery",
          "Howard Pyle",
          "Virginia Woolf",
          "Lewis Carroll"
         ],
         "y": [
          104.11323871749899,
          125.0106623242195,
          129.578063632599,
          119.12053146823696,
          126.06884280926273,
          127.7673587843467,
          111.0592939564645,
          117.81523593303007,
          134.54106738336543,
          119.05980541234626
         ]
        },
        {
         "marker": {
          "color": "#e74c3c"
         },
         "mode": "markers",
         "name": "gpt-3.5-turbo-0125",
         "type": "scatter",
         "visible": false,
         "x": [
          "Mark Twain",
          "Zane Grey",
          "Joseph Conrad",
          "Benjamin Disraeli",
          "George Eliot",
          "William Henry Hudson",
          "Lucy Maud Montgomery",
          "Howard Pyle",
          "Virginia Woolf",
          "Lewis Carroll"
         ],
         "y": [
          0.06819624608850512,
          0.06586625152597803,
          0.06613694658191145,
          0.06911180144971106,
          0.06717683764438932,
          0.06702360806724554,
          0.06383050277450815,
          0.0677414284752004,
          0.06585139025789243,
          0.0652332361516035
         ]
        },
        {
         "marker": {
          "color": "#e74c3c"
         },
         "mode": "markers",
         "name": "gpt-3.5-turbo-0125",
         "type": "scatter",
         "visible": false,
         "x": [
          "Mark Twain",
          "Zane Grey",
          "Joseph Conrad",
          "Benjamin Disraeli",
          "George Eliot",
          "William Henry Hudson",
          "Lucy Maud Montgomery",
          "Howard Pyle",
          "Virginia Woolf",
          "Lewis Carroll"
         ],
         "y": [
          0.11106149491646558,
          0.11246933925638747,
          0.1122600249668816,
          0.11042713965000923,
          0.11159110664958581,
          0.11166363423263047,
          0.11377607564513861,
          0.11133064399850595,
          0.11242690721589704,
          0.11287982486756461
         ]
        },
        {
         "marker": {
          "color": "#e74c3c"
         },
         "mode": "markers",
         "name": "gpt-3.5-turbo-0125",
         "type": "scatter",
         "visible": false,
         "x": [
          "Mark Twain",
          "Zane Grey",
          "Joseph Conrad",
          "Benjamin Disraeli",
          "George Eliot",
          "William Henry Hudson",
          "Lucy Maud Montgomery",
          "Howard Pyle",
          "Virginia Woolf",
          "Lewis Carroll"
         ],
         "y": [
          0.989506297019592,
          0.9874139142130806,
          0.9869578837134622,
          0.988007392640191,
          0.9873103274087831,
          0.9871404826646117,
          0.9888062588727062,
          0.9881356126347381,
          0.9864613266654689,
          0.9880080718867843
         ]
        },
        {
         "marker": {
          "color": "#2ecc71"
         },
         "mode": "markers",
         "name": "gpt-4o",
         "type": "scatter",
         "visible": true,
         "x": [
          "Mark Twain",
          "Zane Grey",
          "Joseph Conrad",
          "Benjamin Disraeli",
          "George Eliot",
          "William Henry Hudson",
          "Lucy Maud Montgomery",
          "Howard Pyle",
          "Virginia Woolf",
          "Lewis Carroll"
         ],
         "y": [
          14806,
          12358,
          13014,
          14126,
          13825,
          13286,
          12492,
          12851,
          12746,
          13373
         ]
        },
        {
         "marker": {
          "color": "#2ecc71"
         },
         "mode": "markers",
         "name": "gpt-4o",
         "type": "scatter",
         "visible": false,
         "x": [
          "Mark Twain",
          "Zane Grey",
          "Joseph Conrad",
          "Benjamin Disraeli",
          "George Eliot",
          "William Henry Hudson",
          "Lucy Maud Montgomery",
          "Howard Pyle",
          "Virginia Woolf",
          "Lewis Carroll"
         ],
         "y": [
          4.434274291956721,
          4.588808263813464,
          4.6734582227162,
          4.857720828414574,
          4.775211595003423,
          4.712567060394649,
          4.652181938796112,
          4.568240417616012,
          4.638613201698735,
          4.658824836555443
         ]
        },
        {
         "marker": {
          "color": "#2ecc71"
         },
         "mode": "markers",
         "name": "gpt-4o",
         "type": "scatter",
         "visible": false,
         "x": [
          "Mark Twain",
          "Zane Grey",
          "Joseph Conrad",
          "Benjamin Disraeli",
          "George Eliot",
          "William Henry Hudson",
          "Lucy Maud Montgomery",
          "Howard Pyle",
          "Virginia Woolf",
          "Lewis Carroll"
         ],
         "y": [
          18.865818899364175,
          19.230307743584046,
          20.87605193556143,
          21.345810397553517,
          20.995288717081422,
          20.440522414401695,
          19.98328530259366,
          20.417500883288188,
          20.787546669878356,
          18.597716150081567
         ]
        },
        {
         "marker": {
          "color": "#2ecc71"
         },
         "mode": "markers",
         "name": "gpt-4o",
         "type": "scatter",
         "visible": false,
         "x": [
          "Mark Twain",
          "Zane Grey",
          "Joseph Conrad",
          "Benjamin Disraeli",
          "George Eliot",
          "William Henry Hudson",
          "Lucy Maud Montgomery",
          "Howard Pyle",
          "Virginia Woolf",
          "Lewis Carroll"
         ],
         "y": [
          1.428190407567957,
          1.4651688119612691,
          1.5233260580372825,
          1.6026234656336318,
          1.5553714348183822,
          1.5290057792820797,
          1.489896455250786,
          1.450696507368846,
          1.507876638914478,
          1.4893687940774007
         ]
        },
        {
         "marker": {
          "color": "#2ecc71"
         },
         "mode": "markers",
         "name": "gpt-4o",
         "type": "scatter",
         "visible": false,
         "x": [
          "Mark Twain",
          "Zane Grey",
          "Joseph Conrad",
          "Benjamin Disraeli",
          "George Eliot",
          "William Henry Hudson",
          "Lucy Maud Montgomery",
          "Howard Pyle",
          "Virginia Woolf",
          "Lewis Carroll"
         ],
         "y": [
          66.86128533689623,
          63.36295614833885,
          56.772422775451076,
          49.58705725387796,
          53.94035856652724,
          56.733980822118355,
          60.50672530365095,
          63.38231208005813,
          58.16927647790865,
          61.95771812871914
         ]
        },
        {
         "marker": {
          "color": "#2ecc71"
         },
         "mode": "markers",
         "name": "gpt-4o",
         "type": "scatter",
         "visible": false,
         "x": [
          "Mark Twain",
          "Zane Grey",
          "Joseph Conrad",
          "Benjamin Disraeli",
          "George Eliot",
          "William Henry Hudson",
          "Lucy Maud Montgomery",
          "Howard Pyle",
          "Virginia Woolf",
          "Lewis Carroll"
         ],
         "y": [
          8.620316180053923,
          9.198812001140755,
          10.526907739708893,
          11.645822949522728,
          10.951545530518668,
          10.424071937145204,
          9.784259439970807,
          9.491044131434776,
          10.310087540443401,
          9.237661068645142
         ]
        },
        {
         "marker": {
          "color": "#2ecc71"
         },
         "mode": "markers",
         "name": "gpt-4o",
         "type": "scatter",
         "visible": false,
         "x": [
          "Mark Twain",
          "Zane Grey",
          "Joseph Conrad",
          "Benjamin Disraeli",
          "George Eliot",
          "William Henry Hudson",
          "Lucy Maud Montgomery",
          "Howard Pyle",
          "Virginia Woolf",
          "Lewis Carroll"
         ],
         "y": [
          11.35935997226441,
          11.897978942879972,
          13.464704349523888,
          14.79292296018128,
          13.941530581280754,
          13.326677525084662,
          12.574203048383085,
          12.170807350113938,
          13.165104705529778,
          12.064421243607473
         ]
        },
        {
         "marker": {
          "color": "#2ecc71"
         },
         "mode": "markers",
         "name": "gpt-4o",
         "type": "scatter",
         "visible": false,
         "x": [
          "Mark Twain",
          "Zane Grey",
          "Joseph Conrad",
          "Benjamin Disraeli",
          "George Eliot",
          "William Henry Hudson",
          "Lucy Maud Montgomery",
          "Howard Pyle",
          "Virginia Woolf",
          "Lewis Carroll"
         ],
         "y": [
          100.70733583113208,
          130.34279660857675,
          143.57653905318577,
          138.21164097438646,
          128.3816710579328,
          131.23577801754712,
          121.62595292246984,
          128.8447188596017,
          138.8838683151998,
          109.66952703999789
         ]
        },
        {
         "marker": {
          "color": "#2ecc71"
         },
         "mode": "markers",
         "name": "gpt-4o",
         "type": "scatter",
         "visible": false,
         "x": [
          "Mark Twain",
          "Zane Grey",
          "Joseph Conrad",
          "Benjamin Disraeli",
          "George Eliot",
          "William Henry Hudson",
          "Lucy Maud Montgomery",
          "Howard Pyle",
          "Virginia Woolf",
          "Lewis Carroll"
         ],
         "y": [
          0.08603437656164654,
          0.07139555843135442,
          0.07494514733914205,
          0.08095036160044011,
          0.0795459122319461,
          0.0764776311850982,
          0.0720602232413256,
          0.07412684221151905,
          0.07384747304445564,
          0.07820193443504907
         ]
        },
        {
         "marker": {
          "color": "#2ecc71"
         },
         "mode": "markers",
         "name": "gpt-4o",
         "type": "scatter",
         "visible": false,
         "x": [
          "Mark Twain",
          "Zane Grey",
          "Joseph Conrad",
          "Benjamin Disraeli",
          "George Eliot",
          "William Henry Hudson",
          "Lucy Maud Montgomery",
          "Howard Pyle",
          "Virginia Woolf",
          "Lewis Carroll"
         ],
         "y": [
          0.10173564280198429,
          0.1094184982983481,
          0.10737861977914236,
          0.10414181405062628,
          0.10490192893063302,
          0.10653582448766934,
          0.10902064041158978,
          0.10784814096738295,
          0.10804430878427645,
          0.10575005768262496
         ]
        },
        {
         "marker": {
          "color": "#2ecc71"
         },
         "mode": "markers",
         "name": "gpt-4o",
         "type": "scatter",
         "visible": false,
         "x": [
          "Mark Twain",
          "Zane Grey",
          "Joseph Conrad",
          "Benjamin Disraeli",
          "George Eliot",
          "William Henry Hudson",
          "Lucy Maud Montgomery",
          "Howard Pyle",
          "Virginia Woolf",
          "Lewis Carroll"
         ],
         "y": [
          0.9898617262304759,
          0.9868848010965464,
          0.9855655057688785,
          0.9861080444541683,
          0.9870895001636462,
          0.9868011549996905,
          0.9877573534749641,
          0.9870377131580053,
          0.9860331571822882,
          0.9889582697591722
         ]
        },
        {
         "marker": {
          "color": "#f1c40f"
         },
         "mode": "markers",
         "name": "gemini-1.5-flash",
         "type": "scatter",
         "visible": true,
         "x": [
          "Mark Twain",
          "Zane Grey",
          "Joseph Conrad",
          "Benjamin Disraeli",
          "George Eliot",
          "William Henry Hudson",
          "Lucy Maud Montgomery",
          "Howard Pyle",
          "Virginia Woolf",
          "Lewis Carroll"
         ],
         "y": [
          11133,
          10053,
          9821,
          11091,
          11088,
          10279,
          10810,
          10947,
          9790,
          10909
         ]
        },
        {
         "marker": {
          "color": "#f1c40f"
         },
         "mode": "markers",
         "name": "gemini-1.5-flash",
         "type": "scatter",
         "visible": false,
         "x": [
          "Mark Twain",
          "Zane Grey",
          "Joseph Conrad",
          "Benjamin Disraeli",
          "George Eliot",
          "William Henry Hudson",
          "Lucy Maud Montgomery",
          "Howard Pyle",
          "Virginia Woolf",
          "Lewis Carroll"
         ],
         "y": [
          4.235150277764588,
          4.433016534305429,
          4.530860988189698,
          4.64457052613108,
          4.66397833774904,
          4.521145513367048,
          4.505300729849235,
          4.448205683228535,
          4.536265920505434,
          4.555693922211073
         ]
        },
        {
         "marker": {
          "color": "#f1c40f"
         },
         "mode": "markers",
         "name": "gemini-1.5-flash",
         "type": "scatter",
         "visible": false,
         "x": [
          "Mark Twain",
          "Zane Grey",
          "Joseph Conrad",
          "Benjamin Disraeli",
          "George Eliot",
          "William Henry Hudson",
          "Lucy Maud Montgomery",
          "Howard Pyle",
          "Virginia Woolf",
          "Lewis Carroll"
         ],
         "y": [
          17.18563851489188,
          18.121394101876675,
          20.55860561156322,
          21.00565179997543,
          21.781873649421634,
          21.159273446188063,
          18.67554720318373,
          19.132230474904343,
          20.26165647848496,
          18.216275740557208
         ]
        },
        {
         "marker": {
          "color": "#f1c40f"
         },
         "mode": "markers",
         "name": "gemini-1.5-flash",
         "type": "scatter",
         "visible": false,
         "x": [
          "Mark Twain",
          "Zane Grey",
          "Joseph Conrad",
          "Benjamin Disraeli",
          "George Eliot",
          "William Henry Hudson",
          "Lucy Maud Montgomery",
          "Howard Pyle",
          "Virginia Woolf",
          "Lewis Carroll"
         ],
         "y": [
          1.3701213142775746,
          1.418884851641003,
          1.4695584872887113,
          1.53722106863978,
          1.5394904235576978,
          1.4714789596010325,
          1.4497126181639526,
          1.4336652765441829,
          1.4815816094129897,
          1.4743444040091402
         ]
        },
        {
         "marker": {
          "color": "#f1c40f"
         },
         "mode": "markers",
         "name": "gemini-1.5-flash",
         "type": "scatter",
         "visible": false,
         "x": [
          "Mark Twain",
          "Zane Grey",
          "Joseph Conrad",
          "Benjamin Disraeli",
          "George Eliot",
          "William Henry Hudson",
          "Lucy Maud Montgomery",
          "Howard Pyle",
          "Virginia Woolf",
          "Lewis Carroll"
         ],
         "y": [
          73.47931371950195,
          68.40412653776634,
          61.64336727963837,
          55.465361016099564,
          54.485508412855836,
          60.87121746987178,
          65.23363209209813,
          66.12770367233425,
          60.92761451799885,
          63.6159435441612
         ]
        },
        {
         "marker": {
          "color": "#f1c40f"
         },
         "mode": "markers",
         "name": "gemini-1.5-flash",
         "type": "scatter",
         "visible": false,
         "x": [
          "Mark Twain",
          "Zane Grey",
          "Joseph Conrad",
          "Benjamin Disraeli",
          "George Eliot",
          "William Henry Hudson",
          "Lucy Maud Montgomery",
          "Howard Pyle",
          "Virginia Woolf",
          "Lewis Carroll"
         ],
         "y": [
          7.279830529283213,
          8.220184949095742,
          9.76864633851645,
          10.741412811939824,
          11.070917721255274,
          10.025568367305528,
          8.800072303576297,
          8.788820148434052,
          9.794709017682415,
          8.911611506125169
         ]
        },
        {
         "marker": {
          "color": "#f1c40f"
         },
         "mode": "markers",
         "name": "gemini-1.5-flash",
         "type": "scatter",
         "visible": false,
         "x": [
          "Mark Twain",
          "Zane Grey",
          "Joseph Conrad",
          "Benjamin Disraeli",
          "George Eliot",
          "William Henry Hudson",
          "Lucy Maud Montgomery",
          "Howard Pyle",
          "Virginia Woolf",
          "Lewis Carroll"
         ],
         "y": [
          10.020117425803864,
          10.866694483728029,
          12.588350462208991,
          13.734814166602053,
          14.084894326071947,
          12.802831790033139,
          11.533697414945408,
          11.513158411161792,
          12.64977833117617,
          11.687617766813254
         ]
        },
        {
         "marker": {
          "color": "#f1c40f"
         },
         "mode": "markers",
         "name": "gemini-1.5-flash",
         "type": "scatter",
         "visible": false,
         "x": [
          "Mark Twain",
          "Zane Grey",
          "Joseph Conrad",
          "Benjamin Disraeli",
          "George Eliot",
          "William Henry Hudson",
          "Lucy Maud Montgomery",
          "Howard Pyle",
          "Virginia Woolf",
          "Lewis Carroll"
         ],
         "y": [
          110.57317436253973,
          140.22664263555333,
          158.68263102610288,
          154.700410241457,
          153.30468889761923,
          164.97020861210132,
          130.06076334627215,
          136.01344136925024,
          167.2748997964807,
          128.14658981691406
         ]
        },
        {
         "marker": {
          "color": "#f1c40f"
         },
         "mode": "markers",
         "name": "gemini-1.5-flash",
         "type": "scatter",
         "visible": false,
         "x": [
          "Mark Twain",
          "Zane Grey",
          "Joseph Conrad",
          "Benjamin Disraeli",
          "George Eliot",
          "William Henry Hudson",
          "Lucy Maud Montgomery",
          "Howard Pyle",
          "Virginia Woolf",
          "Lewis Carroll"
         ],
         "y": [
          0.06607592232087744,
          0.059491543478003575,
          0.05802350244300156,
          0.06487292720732314,
          0.06470663756579792,
          0.060026161806098974,
          0.06398759315492575,
          0.06439070872718503,
          0.05791425850227457,
          0.0659464883751859
         ]
        },
        {
         "marker": {
          "color": "#f1c40f"
         },
         "mode": "markers",
         "name": "gemini-1.5-flash",
         "type": "scatter",
         "visible": false,
         "x": [
          "Mark Twain",
          "Zane Grey",
          "Joseph Conrad",
          "Benjamin Disraeli",
          "George Eliot",
          "William Henry Hudson",
          "Lucy Maud Montgomery",
          "Howard Pyle",
          "Virginia Woolf",
          "Lewis Carroll"
         ],
         "y": [
          0.11288062701077146,
          0.11721329065537835,
          0.1182350403966155,
          0.11350636056655068,
          0.11359121986242064,
          0.11671287671249622,
          0.11418954724619762,
          0.11386896006689082,
          0.11832585734021665,
          0.11313473430859616
         ]
        },
        {
         "marker": {
          "color": "#f1c40f"
         },
         "mode": "markers",
         "name": "gemini-1.5-flash",
         "type": "scatter",
         "visible": false,
         "x": [
          "Mark Twain",
          "Zane Grey",
          "Joseph Conrad",
          "Benjamin Disraeli",
          "George Eliot",
          "William Henry Hudson",
          "Lucy Maud Montgomery",
          "Howard Pyle",
          "Virginia Woolf",
          "Lewis Carroll"
         ],
         "y": [
          0.9888528595151518,
          0.9858778629422539,
          0.9840299142724024,
          0.9844397957804707,
          0.9845793435200505,
          0.9834056934106062,
          0.9869014167273524,
          0.9863073066349759,
          0.9831703649743867,
          0.9870936735877467
         ]
        },
        {
         "marker": {
          "color": "#9b59b6"
         },
         "mode": "markers",
         "name": "open-mixtral-8x7b",
         "type": "scatter",
         "visible": true,
         "x": [
          "Mark Twain",
          "Zane Grey",
          "Joseph Conrad",
          "Benjamin Disraeli",
          "George Eliot",
          "William Henry Hudson",
          "Lucy Maud Montgomery",
          "Howard Pyle",
          "Virginia Woolf",
          "Lewis Carroll"
         ],
         "y": [
          12631,
          10895,
          10959,
          12295,
          11576,
          12088,
          11277,
          11890,
          10510,
          12428
         ]
        },
        {
         "marker": {
          "color": "#9b59b6"
         },
         "mode": "markers",
         "name": "open-mixtral-8x7b",
         "type": "scatter",
         "visible": false,
         "x": [
          "Mark Twain",
          "Zane Grey",
          "Joseph Conrad",
          "Benjamin Disraeli",
          "George Eliot",
          "William Henry Hudson",
          "Lucy Maud Montgomery",
          "Howard Pyle",
          "Virginia Woolf",
          "Lewis Carroll"
         ],
         "y": [
          4.381612386913196,
          4.466888358344702,
          4.531026408221673,
          4.6092346042717125,
          4.652563394256464,
          4.617259462697363,
          4.547938879069502,
          4.463816255618726,
          4.526018798121321,
          4.605824682814302
         ]
        },
        {
         "marker": {
          "color": "#9b59b6"
         },
         "mode": "markers",
         "name": "open-mixtral-8x7b",
         "type": "scatter",
         "visible": false,
         "x": [
          "Mark Twain",
          "Zane Grey",
          "Joseph Conrad",
          "Benjamin Disraeli",
          "George Eliot",
          "William Henry Hudson",
          "Lucy Maud Montgomery",
          "Howard Pyle",
          "Virginia Woolf",
          "Lewis Carroll"
         ],
         "y": [
          22.794952268863607,
          22.487536750607184,
          28.603947581297525,
          26.796720813724,
          29.34844473858372,
          27.032997250229148,
          23.675755939524837,
          24.458477748509637,
          27.25976833976834,
          21.677709713714215
         ]
        },
        {
         "marker": {
          "color": "#9b59b6"
         },
         "mode": "markers",
         "name": "open-mixtral-8x7b",
         "type": "scatter",
         "visible": false,
         "x": [
          "Mark Twain",
          "Zane Grey",
          "Joseph Conrad",
          "Benjamin Disraeli",
          "George Eliot",
          "William Henry Hudson",
          "Lucy Maud Montgomery",
          "Howard Pyle",
          "Virginia Woolf",
          "Lewis Carroll"
         ],
         "y": [
          1.4361292617303356,
          1.4460663938153706,
          1.500291287945204,
          1.5277321398221064,
          1.5415036474952362,
          1.5197334960838165,
          1.4646559096869833,
          1.4401169942013048,
          1.4983881659084342,
          1.4928200692041522
         ]
        },
        {
         "marker": {
          "color": "#9b59b6"
         },
         "mode": "markers",
         "name": "open-mixtral-8x7b",
         "type": "scatter",
         "visible": false,
         "x": [
          "Mark Twain",
          "Zane Grey",
          "Joseph Conrad",
          "Benjamin Disraeli",
          "George Eliot",
          "William Henry Hudson",
          "Lucy Maud Montgomery",
          "Howard Pyle",
          "Virginia Woolf",
          "Lewis Carroll"
         ],
         "y": [
          62.20158790471707,
          61.672933281353366,
          50.877350244818786,
          50.39018934511998,
          46.63512001224058,
          50.827054022326564,
          58.89421776186353,
          60.175747375832344,
          52.402696299281615,
          58.53954678590881
         ]
        },
        {
         "marker": {
          "color": "#9b59b6"
         },
         "mode": "markers",
         "name": "open-mixtral-8x7b",
         "type": "scatter",
         "visible": false,
         "x": [
          "Mark Twain",
          "Zane Grey",
          "Joseph Conrad",
          "Benjamin Disraeli",
          "George Eliot",
          "William Henry Hudson",
          "Lucy Maud Montgomery",
          "Howard Pyle",
          "Virginia Woolf",
          "Lewis Carroll"
         ],
         "y": [
          10.246356673274764,
          10.243722779758176,
          13.268976754459445,
          12.887960367253218,
          14.045636488491436,
          12.885724181378404,
          10.926484550721089,
          10.942186853494157,
          12.722290010229177,
          10.479583604957543
         ]
        },
        {
         "marker": {
          "color": "#9b59b6"
         },
         "mode": "markers",
         "name": "open-mixtral-8x7b",
         "type": "scatter",
         "visible": false,
         "x": [
          "Mark Twain",
          "Zane Grey",
          "Joseph Conrad",
          "Benjamin Disraeli",
          "George Eliot",
          "William Henry Hudson",
          "Lucy Maud Montgomery",
          "Howard Pyle",
          "Virginia Woolf",
          "Lewis Carroll"
         ],
         "y": [
          13.164265464635276,
          13.15417795626834,
          16.37888142334259,
          16.059575527347853,
          17.278158605990367,
          15.97487568215294,
          13.87648288781176,
          13.862770304591505,
          15.819066508064815,
          13.465316872798258
         ]
        },
        {
         "marker": {
          "color": "#9b59b6"
         },
         "mode": "markers",
         "name": "open-mixtral-8x7b",
         "type": "scatter",
         "visible": false,
         "x": [
          "Mark Twain",
          "Zane Grey",
          "Joseph Conrad",
          "Benjamin Disraeli",
          "George Eliot",
          "William Henry Hudson",
          "Lucy Maud Montgomery",
          "Howard Pyle",
          "Virginia Woolf",
          "Lewis Carroll"
         ],
         "y": [
          114.88912537039319,
          132.5834120172673,
          160.51859904396719,
          141.8077673678271,
          155.40063678393733,
          141.4417921613338,
          124.64306027892738,
          135.57477337724075,
          162.92450285387764,
          112.31475111397485
         ]
        },
        {
         "marker": {
          "color": "#9b59b6"
         },
         "mode": "markers",
         "name": "open-mixtral-8x7b",
         "type": "scatter",
         "visible": false,
         "x": [
          "Mark Twain",
          "Zane Grey",
          "Joseph Conrad",
          "Benjamin Disraeli",
          "George Eliot",
          "William Henry Hudson",
          "Lucy Maud Montgomery",
          "Howard Pyle",
          "Virginia Woolf",
          "Lewis Carroll"
         ],
         "y": [
          0.07246160642063415,
          0.06193155979990905,
          0.06198494352407509,
          0.0696561101354031,
          0.06526028571106425,
          0.06830999446196273,
          0.06429671018872228,
          0.06739636887183353,
          0.059544380676120494,
          0.0716724336793541
         ]
        },
        {
         "marker": {
          "color": "#9b59b6"
         },
         "mode": "markers",
         "name": "open-mixtral-8x7b",
         "type": "scatter",
         "visible": false,
         "x": [
          "Mark Twain",
          "Zane Grey",
          "Joseph Conrad",
          "Benjamin Disraeli",
          "George Eliot",
          "William Henry Hudson",
          "Lucy Maud Montgomery",
          "Howard Pyle",
          "Virginia Woolf",
          "Lewis Carroll"
         ],
         "y": [
          0.10874072903523044,
          0.11515875900118823,
          0.11507549380970308,
          0.11026221207931447,
          0.11291402704791105,
          0.11104654890346531,
          0.11363559786154276,
          0.11163188554757923,
          0.11675384103757594,
          0.10924194717472797
         ]
        },
        {
         "marker": {
          "color": "#9b59b6"
         },
         "mode": "markers",
         "name": "open-mixtral-8x7b",
         "type": "scatter",
         "visible": false,
         "x": [
          "Mark Twain",
          "Zane Grey",
          "Joseph Conrad",
          "Benjamin Disraeli",
          "George Eliot",
          "William Henry Hudson",
          "Lucy Maud Montgomery",
          "Howard Pyle",
          "Virginia Woolf",
          "Lewis Carroll"
         ],
         "y": [
          0.9884319171676554,
          0.9866498735756941,
          0.9838568908940338,
          0.9857378893876582,
          0.9843735506961744,
          0.9857730941127879,
          0.9874470179057776,
          0.9863584183729571,
          0.9836124022360204,
          0.9886880614190177
         ]
        },
        {
         "marker": {
          "color": "#e67e22"
         },
         "mode": "markers",
         "name": "claude-3-haiku-20240307",
         "type": "scatter",
         "visible": true,
         "x": [
          "Mark Twain",
          "Zane Grey",
          "Joseph Conrad",
          "Benjamin Disraeli",
          "George Eliot",
          "William Henry Hudson",
          "Lucy Maud Montgomery",
          "Howard Pyle",
          "Virginia Woolf",
          "Lewis Carroll"
         ],
         "y": [
          12773,
          12421,
          11231,
          11569,
          11947,
          11999,
          12389,
          11932,
          11433,
          12020
         ]
        },
        {
         "marker": {
          "color": "#e67e22"
         },
         "mode": "markers",
         "name": "claude-3-haiku-20240307",
         "type": "scatter",
         "visible": false,
         "x": [
          "Mark Twain",
          "Zane Grey",
          "Joseph Conrad",
          "Benjamin Disraeli",
          "George Eliot",
          "William Henry Hudson",
          "Lucy Maud Montgomery",
          "Howard Pyle",
          "Virginia Woolf",
          "Lewis Carroll"
         ],
         "y": [
          4.327546498237778,
          4.618747351179226,
          4.661258442702568,
          4.719309516966203,
          4.784872470423632,
          4.755488582619394,
          4.63042114030784,
          4.646254290065232,
          4.661116262664763,
          4.684920998397069
         ]
        },
        {
         "marker": {
          "color": "#e67e22"
         },
         "mode": "markers",
         "name": "claude-3-haiku-20240307",
         "type": "scatter",
         "visible": false,
         "x": [
          "Mark Twain",
          "Zane Grey",
          "Joseph Conrad",
          "Benjamin Disraeli",
          "George Eliot",
          "William Henry Hudson",
          "Lucy Maud Montgomery",
          "Howard Pyle",
          "Virginia Woolf",
          "Lewis Carroll"
         ],
         "y": [
          20.778489425981874,
          22.065714646783775,
          27.154730869498543,
          27.032449725776964,
          27.0202743902439,
          26.99360146252285,
          22.17967860306213,
          24.21408915795267,
          25.516475540717085,
          24.8125
         ]
        },
        {
         "marker": {
          "color": "#e67e22"
         },
         "mode": "markers",
         "name": "claude-3-haiku-20240307",
         "type": "scatter",
         "visible": false,
         "x": [
          "Mark Twain",
          "Zane Grey",
          "Joseph Conrad",
          "Benjamin Disraeli",
          "George Eliot",
          "William Henry Hudson",
          "Lucy Maud Montgomery",
          "Howard Pyle",
          "Virginia Woolf",
          "Lewis Carroll"
         ],
         "y": [
          1.4069221016389248,
          1.4846454302830372,
          1.533674806297861,
          1.5633816310773723,
          1.5687350848786763,
          1.5687187475308433,
          1.5059103408144403,
          1.5147453235447872,
          1.5279406996125906,
          1.5264311884588964
         ]
        },
        {
         "marker": {
          "color": "#e67e22"
         },
         "mode": "markers",
         "name": "claude-3-haiku-20240307",
         "type": "scatter",
         "visible": false,
         "x": [
          "Mark Twain",
          "Zane Grey",
          "Joseph Conrad",
          "Benjamin Disraeli",
          "George Eliot",
          "William Henry Hudson",
          "Lucy Maud Montgomery",
          "Howard Pyle",
          "Virginia Woolf",
          "Lewis Carroll"
         ],
         "y": [
          66.71922343397539,
          58.83729623156954,
          49.52405955465997,
          47.134977539190714,
          46.69443331316643,
          46.72288847442999,
          56.922611384990304,
          54.11024513278906,
          51.671994138947014,
          52.51423395637738
         ]
        },
        {
         "marker": {
          "color": "#e67e22"
         },
         "mode": "markers",
         "name": "claude-3-haiku-20240307",
         "type": "scatter",
         "visible": false,
         "x": [
          "Mark Twain",
          "Zane Grey",
          "Joseph Conrad",
          "Benjamin Disraeli",
          "George Eliot",
          "William Henry Hudson",
          "Lucy Maud Montgomery",
          "Howard Pyle",
          "Virginia Woolf",
          "Lewis Carroll"
         ],
         "y": [
          9.115291675472246,
          10.53444478958551,
          13.09770775341919,
          13.400558639766007,
          13.458981013763502,
          13.448385791247862,
          10.82981667680463,
          11.727489589430032,
          12.391125716308235,
          12.098763023814978
         ]
        },
        {
         "marker": {
          "color": "#e67e22"
         },
         "mode": "markers",
         "name": "claude-3-haiku-20240307",
         "type": "scatter",
         "visible": false,
         "x": [
          "Mark Twain",
          "Zane Grey",
          "Joseph Conrad",
          "Benjamin Disraeli",
          "George Eliot",
          "William Henry Hudson",
          "Lucy Maud Montgomery",
          "Howard Pyle",
          "Virginia Woolf",
          "Lewis Carroll"
         ],
         "y": [
          11.952158353124137,
          13.374812255286367,
          16.17780190075973,
          16.52507574188962,
          16.579521241375666,
          16.584805275221687,
          13.741170757770384,
          14.66665709646061,
          15.413692154471983,
          15.148494389741243
         ]
        },
        {
         "marker": {
          "color": "#e67e22"
         },
         "mode": "markers",
         "name": "claude-3-haiku-20240307",
         "type": "scatter",
         "visible": false,
         "x": [
          "Mark Twain",
          "Zane Grey",
          "Joseph Conrad",
          "Benjamin Disraeli",
          "George Eliot",
          "William Henry Hudson",
          "Lucy Maud Montgomery",
          "Howard Pyle",
          "Virginia Woolf",
          "Lewis Carroll"
         ],
         "y": [
          96.92648908463802,
          121.76384929142101,
          158.6804453620712,
          157.32998313487965,
          155.58280394757463,
          147.56325133165677,
          114.89925855256632,
          135.47365956424028,
          157.7523192928011,
          138.2971534045289
         ]
        },
        {
         "marker": {
          "color": "#e67e22"
         },
         "mode": "markers",
         "name": "claude-3-haiku-20240307",
         "type": "scatter",
         "visible": false,
         "x": [
          "Mark Twain",
          "Zane Grey",
          "Joseph Conrad",
          "Benjamin Disraeli",
          "George Eliot",
          "William Henry Hudson",
          "Lucy Maud Montgomery",
          "Howard Pyle",
          "Virginia Woolf",
          "Lewis Carroll"
         ],
         "y": [
          0.07428667806585942,
          0.07113730341454474,
          0.06342474417764124,
          0.06519913661442395,
          0.06740083383638076,
          0.06771979727517975,
          0.07067877639971247,
          0.06780007727799622,
          0.06504041915316043,
          0.06881154110373254
         ]
        },
        {
         "marker": {
          "color": "#e67e22"
         },
         "mode": "markers",
         "name": "claude-3-haiku-20240307",
         "type": "scatter",
         "visible": false,
         "x": [
          "Mark Twain",
          "Zane Grey",
          "Joseph Conrad",
          "Benjamin Disraeli",
          "George Eliot",
          "William Henry Hudson",
          "Lucy Maud Montgomery",
          "Howard Pyle",
          "Virginia Woolf",
          "Lewis Carroll"
         ],
         "y": [
          0.1078325390093076,
          0.10948966482210847,
          0.11411059719854551,
          0.11294970109117533,
          0.11158558093597648,
          0.11139373902682549,
          0.10972220122916865,
          0.11140726208533325,
          0.11313840818913268,
          0.11086272373786836
         ]
        },
        {
         "marker": {
          "color": "#e67e22"
         },
         "mode": "markers",
         "name": "claude-3-haiku-20240307",
         "type": "scatter",
         "visible": false,
         "x": [
          "Mark Twain",
          "Zane Grey",
          "Joseph Conrad",
          "Benjamin Disraeli",
          "George Eliot",
          "William Henry Hudson",
          "Lucy Maud Montgomery",
          "Howard Pyle",
          "Virginia Woolf",
          "Lewis Carroll"
         ],
         "y": [
          0.9902290609482652,
          0.9877431062551426,
          0.9840429161974764,
          0.9841805637921391,
          0.9843580165835635,
          0.9851603345884778,
          0.9884293573798713,
          0.9863688257968445,
          0.9841373019638363,
          0.9860870899840063
         ]
        }
       ],
       "layout": {
        "legend": {
         "title": {
          "text": "Collection"
         }
        },
        "template": {
         "data": {
          "bar": [
           {
            "error_x": {
             "color": "#2a3f5f"
            },
            "error_y": {
             "color": "#2a3f5f"
            },
            "marker": {
             "line": {
              "color": "#E5ECF6",
              "width": 0.5
             },
             "pattern": {
              "fillmode": "overlay",
              "size": 10,
              "solidity": 0.2
             }
            },
            "type": "bar"
           }
          ],
          "barpolar": [
           {
            "marker": {
             "line": {
              "color": "#E5ECF6",
              "width": 0.5
             },
             "pattern": {
              "fillmode": "overlay",
              "size": 10,
              "solidity": 0.2
             }
            },
            "type": "barpolar"
           }
          ],
          "carpet": [
           {
            "aaxis": {
             "endlinecolor": "#2a3f5f",
             "gridcolor": "white",
             "linecolor": "white",
             "minorgridcolor": "white",
             "startlinecolor": "#2a3f5f"
            },
            "baxis": {
             "endlinecolor": "#2a3f5f",
             "gridcolor": "white",
             "linecolor": "white",
             "minorgridcolor": "white",
             "startlinecolor": "#2a3f5f"
            },
            "type": "carpet"
           }
          ],
          "choropleth": [
           {
            "colorbar": {
             "outlinewidth": 0,
             "ticks": ""
            },
            "type": "choropleth"
           }
          ],
          "contour": [
           {
            "colorbar": {
             "outlinewidth": 0,
             "ticks": ""
            },
            "colorscale": [
             [
              0,
              "#0d0887"
             ],
             [
              0.1111111111111111,
              "#46039f"
             ],
             [
              0.2222222222222222,
              "#7201a8"
             ],
             [
              0.3333333333333333,
              "#9c179e"
             ],
             [
              0.4444444444444444,
              "#bd3786"
             ],
             [
              0.5555555555555556,
              "#d8576b"
             ],
             [
              0.6666666666666666,
              "#ed7953"
             ],
             [
              0.7777777777777778,
              "#fb9f3a"
             ],
             [
              0.8888888888888888,
              "#fdca26"
             ],
             [
              1,
              "#f0f921"
             ]
            ],
            "type": "contour"
           }
          ],
          "contourcarpet": [
           {
            "colorbar": {
             "outlinewidth": 0,
             "ticks": ""
            },
            "type": "contourcarpet"
           }
          ],
          "heatmap": [
           {
            "colorbar": {
             "outlinewidth": 0,
             "ticks": ""
            },
            "colorscale": [
             [
              0,
              "#0d0887"
             ],
             [
              0.1111111111111111,
              "#46039f"
             ],
             [
              0.2222222222222222,
              "#7201a8"
             ],
             [
              0.3333333333333333,
              "#9c179e"
             ],
             [
              0.4444444444444444,
              "#bd3786"
             ],
             [
              0.5555555555555556,
              "#d8576b"
             ],
             [
              0.6666666666666666,
              "#ed7953"
             ],
             [
              0.7777777777777778,
              "#fb9f3a"
             ],
             [
              0.8888888888888888,
              "#fdca26"
             ],
             [
              1,
              "#f0f921"
             ]
            ],
            "type": "heatmap"
           }
          ],
          "heatmapgl": [
           {
            "colorbar": {
             "outlinewidth": 0,
             "ticks": ""
            },
            "colorscale": [
             [
              0,
              "#0d0887"
             ],
             [
              0.1111111111111111,
              "#46039f"
             ],
             [
              0.2222222222222222,
              "#7201a8"
             ],
             [
              0.3333333333333333,
              "#9c179e"
             ],
             [
              0.4444444444444444,
              "#bd3786"
             ],
             [
              0.5555555555555556,
              "#d8576b"
             ],
             [
              0.6666666666666666,
              "#ed7953"
             ],
             [
              0.7777777777777778,
              "#fb9f3a"
             ],
             [
              0.8888888888888888,
              "#fdca26"
             ],
             [
              1,
              "#f0f921"
             ]
            ],
            "type": "heatmapgl"
           }
          ],
          "histogram": [
           {
            "marker": {
             "pattern": {
              "fillmode": "overlay",
              "size": 10,
              "solidity": 0.2
             }
            },
            "type": "histogram"
           }
          ],
          "histogram2d": [
           {
            "colorbar": {
             "outlinewidth": 0,
             "ticks": ""
            },
            "colorscale": [
             [
              0,
              "#0d0887"
             ],
             [
              0.1111111111111111,
              "#46039f"
             ],
             [
              0.2222222222222222,
              "#7201a8"
             ],
             [
              0.3333333333333333,
              "#9c179e"
             ],
             [
              0.4444444444444444,
              "#bd3786"
             ],
             [
              0.5555555555555556,
              "#d8576b"
             ],
             [
              0.6666666666666666,
              "#ed7953"
             ],
             [
              0.7777777777777778,
              "#fb9f3a"
             ],
             [
              0.8888888888888888,
              "#fdca26"
             ],
             [
              1,
              "#f0f921"
             ]
            ],
            "type": "histogram2d"
           }
          ],
          "histogram2dcontour": [
           {
            "colorbar": {
             "outlinewidth": 0,
             "ticks": ""
            },
            "colorscale": [
             [
              0,
              "#0d0887"
             ],
             [
              0.1111111111111111,
              "#46039f"
             ],
             [
              0.2222222222222222,
              "#7201a8"
             ],
             [
              0.3333333333333333,
              "#9c179e"
             ],
             [
              0.4444444444444444,
              "#bd3786"
             ],
             [
              0.5555555555555556,
              "#d8576b"
             ],
             [
              0.6666666666666666,
              "#ed7953"
             ],
             [
              0.7777777777777778,
              "#fb9f3a"
             ],
             [
              0.8888888888888888,
              "#fdca26"
             ],
             [
              1,
              "#f0f921"
             ]
            ],
            "type": "histogram2dcontour"
           }
          ],
          "mesh3d": [
           {
            "colorbar": {
             "outlinewidth": 0,
             "ticks": ""
            },
            "type": "mesh3d"
           }
          ],
          "parcoords": [
           {
            "line": {
             "colorbar": {
              "outlinewidth": 0,
              "ticks": ""
             }
            },
            "type": "parcoords"
           }
          ],
          "pie": [
           {
            "automargin": true,
            "type": "pie"
           }
          ],
          "scatter": [
           {
            "fillpattern": {
             "fillmode": "overlay",
             "size": 10,
             "solidity": 0.2
            },
            "type": "scatter"
           }
          ],
          "scatter3d": [
           {
            "line": {
             "colorbar": {
              "outlinewidth": 0,
              "ticks": ""
             }
            },
            "marker": {
             "colorbar": {
              "outlinewidth": 0,
              "ticks": ""
             }
            },
            "type": "scatter3d"
           }
          ],
          "scattercarpet": [
           {
            "marker": {
             "colorbar": {
              "outlinewidth": 0,
              "ticks": ""
             }
            },
            "type": "scattercarpet"
           }
          ],
          "scattergeo": [
           {
            "marker": {
             "colorbar": {
              "outlinewidth": 0,
              "ticks": ""
             }
            },
            "type": "scattergeo"
           }
          ],
          "scattergl": [
           {
            "marker": {
             "colorbar": {
              "outlinewidth": 0,
              "ticks": ""
             }
            },
            "type": "scattergl"
           }
          ],
          "scattermapbox": [
           {
            "marker": {
             "colorbar": {
              "outlinewidth": 0,
              "ticks": ""
             }
            },
            "type": "scattermapbox"
           }
          ],
          "scatterpolar": [
           {
            "marker": {
             "colorbar": {
              "outlinewidth": 0,
              "ticks": ""
             }
            },
            "type": "scatterpolar"
           }
          ],
          "scatterpolargl": [
           {
            "marker": {
             "colorbar": {
              "outlinewidth": 0,
              "ticks": ""
             }
            },
            "type": "scatterpolargl"
           }
          ],
          "scatterternary": [
           {
            "marker": {
             "colorbar": {
              "outlinewidth": 0,
              "ticks": ""
             }
            },
            "type": "scatterternary"
           }
          ],
          "surface": [
           {
            "colorbar": {
             "outlinewidth": 0,
             "ticks": ""
            },
            "colorscale": [
             [
              0,
              "#0d0887"
             ],
             [
              0.1111111111111111,
              "#46039f"
             ],
             [
              0.2222222222222222,
              "#7201a8"
             ],
             [
              0.3333333333333333,
              "#9c179e"
             ],
             [
              0.4444444444444444,
              "#bd3786"
             ],
             [
              0.5555555555555556,
              "#d8576b"
             ],
             [
              0.6666666666666666,
              "#ed7953"
             ],
             [
              0.7777777777777778,
              "#fb9f3a"
             ],
             [
              0.8888888888888888,
              "#fdca26"
             ],
             [
              1,
              "#f0f921"
             ]
            ],
            "type": "surface"
           }
          ],
          "table": [
           {
            "cells": {
             "fill": {
              "color": "#EBF0F8"
             },
             "line": {
              "color": "white"
             }
            },
            "header": {
             "fill": {
              "color": "#C8D4E3"
             },
             "line": {
              "color": "white"
             }
            },
            "type": "table"
           }
          ]
         },
         "layout": {
          "annotationdefaults": {
           "arrowcolor": "#2a3f5f",
           "arrowhead": 0,
           "arrowwidth": 1
          },
          "autotypenumbers": "strict",
          "coloraxis": {
           "colorbar": {
            "outlinewidth": 0,
            "ticks": ""
           }
          },
          "colorscale": {
           "diverging": [
            [
             0,
             "#8e0152"
            ],
            [
             0.1,
             "#c51b7d"
            ],
            [
             0.2,
             "#de77ae"
            ],
            [
             0.3,
             "#f1b6da"
            ],
            [
             0.4,
             "#fde0ef"
            ],
            [
             0.5,
             "#f7f7f7"
            ],
            [
             0.6,
             "#e6f5d0"
            ],
            [
             0.7,
             "#b8e186"
            ],
            [
             0.8,
             "#7fbc41"
            ],
            [
             0.9,
             "#4d9221"
            ],
            [
             1,
             "#276419"
            ]
           ],
           "sequential": [
            [
             0,
             "#0d0887"
            ],
            [
             0.1111111111111111,
             "#46039f"
            ],
            [
             0.2222222222222222,
             "#7201a8"
            ],
            [
             0.3333333333333333,
             "#9c179e"
            ],
            [
             0.4444444444444444,
             "#bd3786"
            ],
            [
             0.5555555555555556,
             "#d8576b"
            ],
            [
             0.6666666666666666,
             "#ed7953"
            ],
            [
             0.7777777777777778,
             "#fb9f3a"
            ],
            [
             0.8888888888888888,
             "#fdca26"
            ],
            [
             1,
             "#f0f921"
            ]
           ],
           "sequentialminus": [
            [
             0,
             "#0d0887"
            ],
            [
             0.1111111111111111,
             "#46039f"
            ],
            [
             0.2222222222222222,
             "#7201a8"
            ],
            [
             0.3333333333333333,
             "#9c179e"
            ],
            [
             0.4444444444444444,
             "#bd3786"
            ],
            [
             0.5555555555555556,
             "#d8576b"
            ],
            [
             0.6666666666666666,
             "#ed7953"
            ],
            [
             0.7777777777777778,
             "#fb9f3a"
            ],
            [
             0.8888888888888888,
             "#fdca26"
            ],
            [
             1,
             "#f0f921"
            ]
           ]
          },
          "colorway": [
           "#636efa",
           "#EF553B",
           "#00cc96",
           "#ab63fa",
           "#FFA15A",
           "#19d3f3",
           "#FF6692",
           "#B6E880",
           "#FF97FF",
           "#FECB52"
          ],
          "font": {
           "color": "#2a3f5f"
          },
          "geo": {
           "bgcolor": "white",
           "lakecolor": "white",
           "landcolor": "#E5ECF6",
           "showlakes": true,
           "showland": true,
           "subunitcolor": "white"
          },
          "hoverlabel": {
           "align": "left"
          },
          "hovermode": "closest",
          "mapbox": {
           "style": "light"
          },
          "paper_bgcolor": "white",
          "plot_bgcolor": "#E5ECF6",
          "polar": {
           "angularaxis": {
            "gridcolor": "white",
            "linecolor": "white",
            "ticks": ""
           },
           "bgcolor": "#E5ECF6",
           "radialaxis": {
            "gridcolor": "white",
            "linecolor": "white",
            "ticks": ""
           }
          },
          "scene": {
           "xaxis": {
            "backgroundcolor": "#E5ECF6",
            "gridcolor": "white",
            "gridwidth": 2,
            "linecolor": "white",
            "showbackground": true,
            "ticks": "",
            "zerolinecolor": "white"
           },
           "yaxis": {
            "backgroundcolor": "#E5ECF6",
            "gridcolor": "white",
            "gridwidth": 2,
            "linecolor": "white",
            "showbackground": true,
            "ticks": "",
            "zerolinecolor": "white"
           },
           "zaxis": {
            "backgroundcolor": "#E5ECF6",
            "gridcolor": "white",
            "gridwidth": 2,
            "linecolor": "white",
            "showbackground": true,
            "ticks": "",
            "zerolinecolor": "white"
           }
          },
          "shapedefaults": {
           "line": {
            "color": "#2a3f5f"
           }
          },
          "ternary": {
           "aaxis": {
            "gridcolor": "white",
            "linecolor": "white",
            "ticks": ""
           },
           "baxis": {
            "gridcolor": "white",
            "linecolor": "white",
            "ticks": ""
           },
           "bgcolor": "#E5ECF6",
           "caxis": {
            "gridcolor": "white",
            "linecolor": "white",
            "ticks": ""
           }
          },
          "title": {
           "x": 0.05
          },
          "xaxis": {
           "automargin": true,
           "gridcolor": "white",
           "linecolor": "white",
           "ticks": "",
           "title": {
            "standoff": 15
           },
           "zerolinecolor": "white",
           "zerolinewidth": 2
          },
          "yaxis": {
           "automargin": true,
           "gridcolor": "white",
           "linecolor": "white",
           "ticks": "",
           "title": {
            "standoff": 15
           },
           "zerolinecolor": "white",
           "zerolinewidth": 2
          }
         }
        },
        "title": {
         "text": "unique_word_count"
        },
        "updatemenus": [
         {
          "buttons": [
           {
            "args": [
             {
              "visible": [
               true,
               false,
               false,
               false,
               false,
               false,
               false,
               false,
               false,
               false,
               false
              ]
             },
             {
              "title": "unique_word_count"
             }
            ],
            "label": "unique_word_count",
            "method": "update"
           },
           {
            "args": [
             {
              "visible": [
               false,
               true,
               false,
               false,
               false,
               false,
               false,
               false,
               false,
               false,
               false
              ]
             },
             {
              "title": "average_word_length"
             }
            ],
            "label": "average_word_length",
            "method": "update"
           },
           {
            "args": [
             {
              "visible": [
               false,
               false,
               true,
               false,
               false,
               false,
               false,
               false,
               false,
               false,
               false
              ]
             },
             {
              "title": "average_sentence_length"
             }
            ],
            "label": "average_sentence_length",
            "method": "update"
           },
           {
            "args": [
             {
              "visible": [
               false,
               false,
               false,
               true,
               false,
               false,
               false,
               false,
               false,
               false,
               false
              ]
             },
             {
              "title": "average_syllables_per_word"
             }
            ],
            "label": "average_syllables_per_word",
            "method": "update"
           },
           {
            "args": [
             {
              "visible": [
               false,
               false,
               false,
               false,
               true,
               false,
               false,
               false,
               false,
               false,
               false
              ]
             },
             {
              "title": "flesch_reading_ease"
             }
            ],
            "label": "flesch_reading_ease",
            "method": "update"
           },
           {
            "args": [
             {
              "visible": [
               false,
               false,
               false,
               false,
               false,
               true,
               false,
               false,
               false,
               false,
               false
              ]
             },
             {
              "title": "flesch_kincaid_grade_level"
             }
            ],
            "label": "flesch_kincaid_grade_level",
            "method": "update"
           },
           {
            "args": [
             {
              "visible": [
               false,
               false,
               false,
               false,
               false,
               false,
               true,
               false,
               false,
               false,
               false
              ]
             },
             {
              "title": "gunning_fog_index"
             }
            ],
            "label": "gunning_fog_index",
            "method": "update"
           },
           {
            "args": [
             {
              "visible": [
               false,
               false,
               false,
               false,
               false,
               false,
               false,
               true,
               false,
               false,
               false
              ]
             },
             {
              "title": "yules_characteristic_k"
             }
            ],
            "label": "yules_characteristic_k",
            "method": "update"
           },
           {
            "args": [
             {
              "visible": [
               false,
               false,
               false,
               false,
               false,
               false,
               false,
               false,
               true,
               false,
               false
              ]
             },
             {
              "title": "herdans_c"
             }
            ],
            "label": "herdans_c",
            "method": "update"
           },
           {
            "args": [
             {
              "visible": [
               false,
               false,
               false,
               false,
               false,
               false,
               false,
               false,
               false,
               true,
               false
              ]
             },
             {
              "title": "maas"
             }
            ],
            "label": "maas",
            "method": "update"
           },
           {
            "args": [
             {
              "visible": [
               false,
               false,
               false,
               false,
               false,
               false,
               false,
               false,
               false,
               false,
               true
              ]
             },
             {
              "title": "simpsons_index"
             }
            ],
            "label": "simpsons_index",
            "method": "update"
           }
          ],
          "direction": "down",
          "type": "dropdown"
         }
        ]
       }
      }
     },
     "metadata": {},
     "output_type": "display_data"
    }
   ],
   "source": [
    "MetricsAnalysisVisualization(settings).visualize(\n",
    "    metrics_analysis_results=metrics_analysis_results\n",
    ")"
   ]
  },
  {
   "cell_type": "code",
   "execution_count": 10,
   "metadata": {},
   "outputs": [
    {
     "data": {
      "text/html": [
       "\n",
       "        <iframe\n",
       "            width=\"100%\"\n",
       "            height=\"800\"\n",
       "            src=\"http://127.0.0.1:8000/\"\n",
       "            frameborder=\"0\"\n",
       "            allowfullscreen\n",
       "            \n",
       "        ></iframe>\n",
       "        "
      ],
      "text/plain": [
       "<IPython.lib.display.IFrame at 0x2999d75af30>"
      ]
     },
     "metadata": {},
     "output_type": "display_data"
    }
   ],
   "source": [
    "PCAAnalysisVisualization(pca_analysis_results=pca_analysis_results).run(port=8000)"
   ]
  },
  {
   "cell_type": "markdown",
   "metadata": {},
   "source": [
    "# Classification"
   ]
  },
  {
   "cell_type": "code",
   "execution_count": 45,
   "metadata": {},
   "outputs": [
    {
     "name": "stdout",
     "output_type": "stream",
     "text": [
      "Performing logistic regression classification...\n",
      "Cross-validatin accuracy: 0.98375\n",
      "Accuracy on all training data: 0.9916666666666667\n",
      "Report:               precision    recall  f1-score   support\n",
      "\n",
      "       human       0.96      0.99      0.97        72\n",
      "         llm       1.00      0.99      1.00       408\n",
      "\n",
      "    accuracy                           0.99       480\n",
      "   macro avg       0.98      0.99      0.98       480\n",
      "weighted avg       0.99      0.99      0.99       480\n",
      "\n"
     ]
    }
   ],
   "source": [
    "print(\"Performing logistic regression classification...\")\n",
    "logistic_regression_results = LogisticRegressionClassification(settings).fit_and_predict_on_pca_for_two_classes(\n",
    "    pca_analysis_results=pca_analysis_results\n",
    ")\n",
    "print(f\"Cross-validatin accuracy: {logistic_regression_results.cross_validation_accuracy}\")\n",
    "print(f\"Accuracy on all training data: {logistic_regression_results.final_accuracy}\")\n",
    "print(f\"Report: {logistic_regression_results.report}\")"
   ]
  },
  {
   "cell_type": "code",
   "execution_count": 49,
   "metadata": {},
   "outputs": [
    {
     "name": "stderr",
     "output_type": "stream",
     "text": [
      "c:\\Projects\\Thesis\\.venv\\Lib\\site-packages\\sklearn\\base.py:493: UserWarning:\n",
      "\n",
      "X does not have valid feature names, but LogisticRegression was fitted with feature names\n",
      "\n"
     ]
    },
    {
     "data": {
      "application/vnd.plotly.v1+json": {
       "config": {
        "plotlyServerURL": "https://plot.ly"
       },
       "data": [
        {
         "marker": {
          "color": "#3498db"
         },
         "mode": "markers",
         "name": "human",
         "type": "scatter",
         "x": [
          -9.118555686147438,
          -8.987633911911978,
          -7.0162638732613285,
          -7.500637444530012,
          -7.2716572763445715,
          -9.552094161667174,
          -7.3465338158134665,
          -8.596761865851581,
          -6.993044216909963,
          -5.7593207246241676,
          -6.425280768192389,
          -6.308122282546931,
          -7.868180284094013,
          -6.551457528292808,
          -8.601965253141625,
          -8.605664839494802,
          -8.79029506352894,
          -8.447579498026252,
          -6.382211320695213,
          -9.97395891908858,
          -9.77781909613678,
          -8.775062294297772,
          -7.263082481685372,
          -8.84496349346666,
          -6.989324486142672,
          -4.328803662350906,
          -10.881217485572561,
          -7.765931096121245,
          -7.126386963286645,
          -8.053987655561471,
          -7.818650816919485,
          -6.604392513722445,
          -7.817659774362722,
          -6.256993970668556,
          -8.21846620681858,
          -7.83708674769969,
          -10.455675492811945,
          -7.579979702137909,
          -7.222120278356233,
          -8.41658222592748,
          -11.498524287729431,
          -5.982184829260867,
          -10.319666646940433,
          -11.183500504030599,
          -7.111794371169636,
          -11.046315022679831,
          -9.234616183817323,
          -9.41161474436391,
          -11.248522024742591,
          -9.679016221037035,
          -7.031369457092096,
          -13.786534601804972,
          -11.045932356086071,
          -12.251519349199832,
          -9.405959893250916,
          -9.702889523655672,
          -8.014730136644433,
          -8.427865143526308,
          -6.819612515453422,
          -9.118562763886938,
          -12.15303020589883,
          -8.191885449636631,
          -9.098223393585231,
          -8.937603702354878,
          -10.097070481006073,
          -10.512298909565812,
          -9.638640401546024,
          -9.26394662727775,
          -12.708747461071653,
          -11.48571200373694,
          -9.057092398013067,
          -10.329784589890178,
          -11.70088310382883,
          -9.403047899470078,
          -11.391811868408082,
          -11.378729364007652,
          -8.144805016280676,
          -8.219212176588167,
          -8.34149740877198,
          -12.119367932602522,
          -9.249672287049277,
          -7.598893991942714,
          -11.202468067331075,
          -9.064069189976253,
          -8.850580838869286,
          -5.783310111245976,
          -9.67697502434809,
          -8.455553981070699,
          -8.117670695271563,
          -11.067784341579232,
          -9.157771844879038,
          -11.047563314965128,
          -3.199626676080513,
          -5.5894921591194695,
          -7.784875630291575,
          -6.245034240741908,
          -8.460567637593421,
          -6.392258437362686,
          -6.897359097358846,
          -8.879919065917274,
          -7.467439360690261,
          -10.714256126410016,
          -8.022324939519192,
          -8.675120257168665,
          -8.68486502827035,
          -7.147977851128079,
          -6.005531206556795,
          -8.636206958516091,
          -9.226171083386282,
          -10.261103903873913,
          -10.081360304005768,
          -4.110880579256243,
          -6.026854143931732,
          -10.443047688046278,
          -5.18703031067623,
          -6.681495562691414,
          -2.4905489240647043,
          -5.58581227217975,
          -6.269932258504829,
          -3.829007764300357,
          -7.234264545247985,
          -4.008762665266957,
          -8.173910981801,
          -7.607323529743582,
          -6.81575214715503,
          -9.575262841039942,
          -7.238786306052066,
          -6.194570537128329,
          -8.075412431118641,
          -5.95426290963846,
          -8.39165953754805,
          -5.90994425143094,
          -7.419361498727604,
          -7.665996713652254,
          -6.936942535209815,
          -7.684547112893419,
          -7.397580308366807,
          -6.99750215644371,
          -6.477369890383122,
          -5.418580101450935,
          -4.973007578763192,
          -8.62840797390224,
          -6.230849677998362,
          -5.503423712405653,
          -0.9953292171288655,
          -8.70229218425863,
          -8.490105931885903,
          -8.120956701486024,
          -8.28589568446242,
          -11.168829048347227,
          -7.871475792520498,
          -5.737995621175486,
          -3.7101510950860868,
          -4.33296717868297,
          -6.7751652477822395,
          -8.966163524245623,
          -11.167280096311156,
          -7.539460141585777,
          -5.317827225936497,
          -6.416391836380164,
          -9.206463798670866,
          -7.073321769025151,
          -9.401631324962349,
          -2.611529105750839,
          -12.17604910759543,
          -5.989848663877905,
          -8.278399006667428,
          -7.90001447833926,
          -7.089734543844475,
          -6.356137639750278,
          -8.293693210274938,
          -10.455588942614956,
          -11.829656699363474,
          -7.222625348264516,
          -7.400598084004692,
          -10.186278996949772,
          -8.677287600338056,
          -2.213557053524651,
          -9.612804852838506,
          -4.8741235642298495,
          -7.476417094355914,
          -6.283610310611214,
          -7.339289200037373,
          -7.746723363968352,
          -9.04905703202951,
          -7.653464904626673,
          -6.242067030761334,
          -7.135675869144051,
          -7.120569530481891,
          -9.469140028975108,
          -9.47414952658512,
          -8.59350158984255,
          -10.620121750658637,
          -6.646487596323518,
          -8.769917468871247,
          -9.303864861340557,
          -4.50748705100912,
          -8.702961217917814,
          -8.91439894517702,
          -12.759096822522489,
          -4.078955595763469,
          -7.319722012681814,
          -4.374485596877267,
          -3.6859745270834128,
          -7.570952194605952,
          -9.301320013167302,
          -4.483018540468106,
          -7.667426615882283,
          -4.11057296367987,
          -6.660454113717107,
          -4.5422112833284025,
          -6.694494399417747,
          -6.052489709223181,
          -7.010814736939344,
          -8.040443863408045,
          -4.598817869278968,
          -7.842613875516834,
          -2.185681584719593,
          -7.036569646410509,
          -2.2910098238153758,
          -8.672877940568418,
          -5.465252450232344,
          -5.967783091530425,
          -7.584363270654749,
          -4.327881202031205,
          -6.95462153223004,
          -10.961756690986572,
          -10.098312451148761,
          -7.280504187334249,
          -8.324832372067021,
          -9.15530949567635,
          -8.28178456009641,
          -2.22192765938858,
          -1.0073248421013272,
          -2.4215825856407305,
          -3.746579777245515,
          -4.034767614533408,
          -7.702661700721893,
          -9.847528185260062,
          -6.793989796236363,
          -9.181353273516356,
          -10.79750989467294,
          -9.646755630296116,
          -10.558461306634756,
          -12.313485505578331,
          -10.093159853238264,
          -11.058233286899489,
          -9.714133163954989,
          -11.050574479119318,
          -9.677976291078103,
          -10.863170659247931,
          -9.286101251874372,
          -11.360185040867087,
          -9.987457321905808,
          -9.442106507589164,
          -9.389918709928661,
          -10.516236300101648,
          -10.531799766780928,
          -10.636648968835269,
          -10.448485010570963,
          -8.991893865644242,
          -10.755776996929812,
          -9.584019509498724,
          -10.3491966999066,
          -10.872792655665064,
          -10.315759457151133,
          -10.004106677159958,
          -11.571985021776884,
          -12.137516800804917,
          -10.764771580984263,
          -8.19413600910738,
          -10.00387799453023,
          -9.618115563355117,
          -9.525150631735547,
          -11.265227786797993,
          -10.526301420670071,
          -10.558940739639619,
          -10.863009816641137,
          -10.290717875480272,
          -9.563512874268715,
          -6.091893072368311,
          -7.874903532933496,
          -6.003639421625292,
          -8.697767391903366,
          -8.338423079056268,
          -7.962345900205625,
          -6.96429053461524,
          -6.8743872815692235,
          -5.739014369171896,
          -6.380534808694978,
          -6.83096910424793,
          -6.868519031961386,
          -7.731896705731002,
          -9.34303698483471,
          -9.09924570955295,
          -12.530918408923426,
          -10.090613382058907,
          -8.394962352592955,
          -5.753237100064121,
          -6.97368594937892,
          -7.538941968988489,
          -8.918761127018655,
          -7.858135017410578,
          -10.30290864368584,
          -9.461491526287395,
          -7.851489624600054,
          -8.808404532465337,
          -9.968071211216893,
          -9.285425956001028,
          -8.17633073692439,
          -9.719957258968297,
          -9.887313331605295,
          -7.071811560036999,
          -7.07772647825063,
          -10.561870301313709,
          -8.18907988262267,
          -11.442932478245696,
          -9.601558195997697,
          -7.140862764969039,
          -11.972508167525353,
          -8.88900158824932,
          -7.905904739891464,
          -9.444826526814998,
          -10.023799351417171,
          -9.07754465476609,
          -9.123958131266672,
          -10.191802407859246,
          -7.9432149383545205,
          -10.050965236060666,
          -9.399085907764142,
          -8.694600044160898,
          -7.385240946909488,
          -7.462206551942184,
          -9.28145093246355,
          -6.521134899687527,
          -10.166228598051893,
          -9.602896018805252,
          -7.33497938584584,
          -7.72533294097179,
          -10.993717497280464,
          -8.878980686374973,
          -9.135421829217751,
          -6.3111670541506,
          -8.370913865053929,
          -9.461276899805155,
          -9.238053294140208,
          -10.039798560345316,
          -9.001374777010987,
          -11.89557489303911,
          -7.307432728864232,
          -10.063364345074428,
          -6.856750204345951,
          -6.442423570206008,
          -10.452549649485855,
          -9.96059198331771,
          -10.101814090936722,
          -6.578797505182182,
          -7.7372330810572505,
          -7.3050308777528015,
          -7.554637427891543,
          -11.368097071653322,
          -13.140558960020117,
          -12.102114037470734,
          -9.499296646329213,
          -10.710554067771705,
          -13.15784701088007,
          -11.840897277529248,
          -10.755144009458682,
          -13.14991769827298,
          -9.767776738274836,
          -10.20296278105678,
          -10.44439374124246,
          -11.170720484241208,
          -9.384988832049144,
          -12.792295566996339,
          -10.929322661652735,
          -11.998412688169498,
          -11.544491062843068,
          -13.343716908977802,
          -10.316965018462641,
          -12.292518874663042,
          -12.501887916358193,
          -10.093981222258954,
          -11.8100441986969,
          -10.27412958226156,
          -14.177191098770562,
          -12.079462713283744,
          -10.480407851243756,
          -10.909656782598763,
          -10.377514049812312,
          -12.841458993479524,
          -11.216439555070176,
          -10.729883003543149,
          -10.127266787418867,
          -12.415046029335487,
          -11.543297850908784,
          -13.660809065421853,
          -12.457500585834907,
          -12.942858046327254,
          -12.47408732918424
         ],
         "y": [
          3.373448874160001,
          2.8908438742145144,
          5.117430007160643,
          6.334083645750188,
          2.280479968822704,
          1.8794817488906346,
          3.4296962409080702,
          4.527705675854621,
          3.453307872173319,
          6.5158549480190215,
          3.961532221884448,
          4.3046486864218885,
          3.248062732469929,
          4.394399743630317,
          3.3998356527995366,
          0.9837651856480155,
          2.8120912663589417,
          0.2991565483744776,
          1.4207270976013147,
          0.0030446750789696977,
          3.3957635693653114,
          1.8054516021943043,
          3.2291924084362393,
          4.067793717521642,
          1.5893995822794078,
          1.8588862069004013,
          -0.5799141991629773,
          2.304096857404252,
          2.56989124395189,
          1.734796751335182,
          5.563642068579306,
          3.755954753768368,
          3.6095655445484818,
          3.697888048281533,
          2.420293065319427,
          3.0109854136548497,
          -0.20011184469336446,
          -0.20191403460268026,
          1.6683737729994386,
          2.0297493454155986,
          -1.686601426982216,
          -1.7880143219579652,
          -3.5244476772197935,
          -2.409677249420059,
          -2.6506162493043557,
          -2.9210728087663695,
          -3.375397953144173,
          -5.6006033987220825,
          -4.38327161875224,
          -1.8050327601483465,
          2.2856223969819993,
          -5.4131416525403555,
          -3.9042651263583954,
          -4.866904925225893,
          -2.686167435102892,
          -1.9315371614281605,
          -3.243243402128288,
          -4.011362370460616,
          -1.9865547102730616,
          -3.2141345367025664,
          -2.4316729786515157,
          -1.6054445293394404,
          -1.2722466304163855,
          -2.981419600167265,
          -2.935560479209559,
          -3.03197610648468,
          -3.6451032166081916,
          -3.696627000601524,
          -1.8954736432762214,
          -0.9743281193880788,
          -1.7735005155218937,
          -3.0136975031250457,
          -2.6268575602070467,
          -1.806082162168948,
          -5.145899459698964,
          -3.7269576625077923,
          -0.7990507583839764,
          -4.011771853948927,
          -2.836487906883205,
          -1.3957906617470324,
          -3.2605477260116587,
          0.0807349248504301,
          -0.7008021032477636,
          -0.943505200014954,
          -0.49982079063056256,
          1.2448227919275903,
          -1.31136423562409,
          -1.1960973265088608,
          -0.3961211793954945,
          -0.8099850322817773,
          -0.1457960760279793,
          0.1758108328715782,
          -0.7592014730966656,
          0.1429823031258486,
          1.0332544843602698,
          1.7519254650112697,
          -0.708177947080263,
          -4.187175355585246,
          -0.7615495607904911,
          -1.4042663785048553,
          -2.665665662195104,
          -1.01560358107786,
          -1.6062270992389256,
          -3.3616923165559385,
          0.14771769925505995,
          -0.858605519103631,
          3.0093466796715687,
          -0.06943473109992365,
          -0.6148907951376612,
          -0.596950092867997,
          -0.34677971264574214,
          3.141712364203095,
          0.7906026608810384,
          -2.6518937804089964,
          -3.416874473266103,
          -1.2792694320135307,
          -0.6182227916374295,
          -0.4095621800270254,
          -2.3518119784110225,
          0.2023557659161276,
          0.42531103660695746,
          -0.23697106951297195,
          2.693241079514913,
          2.90759560292363,
          4.906494499938272,
          0.1605775855840986,
          4.238669554882942,
          2.823018413480598,
          -1.1280374652616638,
          0.757027141147048,
          1.4308030826016656,
          3.15143862708579,
          4.312723413047158,
          2.5518596690169795,
          3.199666977977291,
          3.563782984607762,
          3.691619071743471,
          1.939169556165478,
          2.2527134782279767,
          4.276175496896781,
          3.221899087354438,
          0.986310192985382,
          2.900614612190229,
          1.9426190565104267,
          1.1382151465525925,
          2.1852804290821144,
          -1.3043975938886154,
          2.451018890189289,
          4.6401727763480585,
          3.1399254650672566,
          3.1494516860933217,
          3.5573169927896524,
          2.944578349059098,
          0.7676490500578506,
          1.0192191804070196,
          1.406964571509259,
          -0.4183695509504591,
          2.4568915736718693,
          0.7262848496138783,
          3.9722694155646163,
          2.8512316425254953,
          3.8133245136697402,
          3.5212857377409588,
          6.163660050250683,
          3.2738658821769198,
          3.962005756580579,
          3.342579314748998,
          1.3381421396733846,
          1.7237949547654048,
          3.5146820078899306,
          3.7399203844938085,
          3.9572149975880473,
          4.8007946795351515,
          2.5639455665961637,
          -0.739550498153617,
          0.5427242420156203,
          4.842466829465045,
          7.465151303038917,
          4.562072754915907,
          4.515407093680775,
          3.572711615516155,
          3.5878938261763103,
          2.1229075652786324,
          2.9610968287663026,
          1.5971425365569099,
          4.201923841526625,
          4.492365891704934,
          3.063407359695314,
          4.1280579965097886,
          4.760825857041074,
          3.920195538106548,
          3.125227402024834,
          1.7779981845132113,
          4.066614122186,
          3.365234533451316,
          3.1932584146612086,
          5.205217242597511,
          3.663915096575763,
          6.820211315896236,
          0.9246078890985947,
          5.1619286246413365,
          4.131053450224624,
          5.726487395228228,
          5.517512984300394,
          4.102647149033704,
          4.767704653300356,
          3.5382552061267516,
          1.1243896436169414,
          5.274609227042765,
          1.649167283892759,
          2.592948035263241,
          5.52257735620556,
          3.791384800413344,
          1.8762647627512927,
          6.591434800047491,
          4.988934472240662,
          1.907582075797795,
          6.811877199789137,
          4.03982847587695,
          5.89408478569479,
          4.818441663255489,
          5.249738120255743,
          3.8977760020866516,
          1.3073041992607308,
          4.7981377015966595,
          4.482917404617787,
          4.841299424072819,
          2.507564978304495,
          1.816209515849529,
          4.975543566177385,
          4.103898531981397,
          3.491400514725023,
          7.530464031122278,
          9.090781230348872,
          5.164513251129205,
          3.586072921622904,
          5.072590070937557,
          4.936930352459698,
          2.4528991885724403,
          5.196491623042385,
          0.886866942350208,
          0.49577595517380996,
          -0.13106561472519868,
          0.03539233572677013,
          -0.4484614720148548,
          0.30535687763543323,
          1.9990435357705807,
          0.6550575057677042,
          -5.964194624886152,
          0.3775148137287809,
          0.5953385634636156,
          0.441657980477247,
          0.04137070847954412,
          2.504832858846481,
          1.7832462988536224,
          2.9386270972557926,
          -1.995700935337003,
          0.07622449210665815,
          2.250439370212218,
          0.7274108842122675,
          -0.2672332290075278,
          1.0870114751432363,
          -0.9268302229289583,
          0.7951554877940779,
          1.1950005190929134,
          0.9316980987728403,
          -0.1435402352834748,
          1.0987529956948177,
          0.3810592517442093,
          1.054530675789508,
          1.91369695220276,
          1.1233793692547522,
          0.9820968828676895,
          0.03697745514107529,
          -1.0198094510203848,
          0.6055898004324074,
          1.4650092407688116,
          -0.7600599791511773,
          -0.718545408585413,
          -0.8326247527227303,
          2.9638247946874414,
          2.9279462002795174,
          3.81260290477824,
          5.437480432102167,
          0.7227420713516507,
          1.4155409499643696,
          3.6784936546234173,
          3.230982215106676,
          -1.0421894931319178,
          2.6647135430723905,
          3.9276159335988714,
          1.0871360768255969,
          1.0991465578584945,
          -0.10621468545033637,
          2.8617271910974273,
          1.3378319814550768,
          2.182144904389325,
          0.6010292680140944,
          2.1936746526531588,
          1.7241475961374302,
          1.0213988476725635,
          1.5925962102363658,
          3.0337333399352033,
          3.0941264728215,
          3.816751224392759,
          2.8018836512399465,
          2.0447199785539745,
          1.651029862428601,
          2.3838921439112264,
          5.11814215707498,
          1.4174135933153178,
          3.6265797485414746,
          3.942281069729244,
          0.5428175727674674,
          2.7745567881706044,
          3.23646263653143,
          2.922353673803151,
          3.8964946053691563,
          0.18512106302050688,
          0.6471390333071896,
          -0.4315135626682195,
          -1.7229465899359024,
          0.10615238568744238,
          0.2850100178806036,
          1.29749465633138,
          1.2931577201700435,
          0.35931759907237226,
          1.236031403742425,
          0.10100864196337184,
          1.3383673669967047,
          2.4824751653359742,
          -0.30049481401324646,
          -1.0646481943020991,
          2.0128970625388436,
          1.291625756549251,
          0.9173396989948757,
          1.8040050368091172,
          2.5039237641428014,
          2.612284372480846,
          0.9019477056078887,
          -0.4225753829149883,
          -2.436102189210865,
          2.267847832892229,
          1.9262772007223556,
          2.895785072977797,
          2.2000791217405795,
          -0.09585771696803452,
          0.6979810559546218,
          0.00715714264245445,
          2.2007199600851117,
          1.8733750246332463,
          2.4742923528990355,
          0.1518336767727647,
          -0.7875037986832015,
          0.38389840350662935,
          3.3965243287294853,
          1.3661083268881518,
          0.1756052285942654,
          0.58606671882657,
          -0.11139545457386003,
          -1.202743104293321,
          -0.3183154554464196,
          -1.176907621160124,
          2.4421799279758254,
          -2.0865276609147965,
          -0.0991788886227426,
          -0.5865865420156815,
          0.954445922717427,
          -0.5826754370033493,
          -0.27058742834556854,
          0.033264304982865305,
          -1.2131034313713795,
          3.0770281033500733,
          0.19332947376210854,
          -0.15611387359929502,
          0.06990368914117655,
          -0.19107469206526836,
          -1.9133277274401919,
          -1.1323308444073186,
          -2.093168655493906,
          -0.186542825409151,
          -0.3597253169250943,
          -0.9630136749973459,
          0.5400429151278299,
          1.5599406358368224,
          -2.3485315121048034,
          0.23486719837721706,
          1.7387847030640176,
          -0.49291600015612647,
          0.5602581354996178,
          -0.17553218738875095,
          -2.3549131677250643,
          0.3137372032739338,
          -0.3671746254081355,
          0.06690904012595499,
          -0.14448599961735178,
          1.0267678583451751,
          -1.2635212663457158,
          0.009090481375151841,
          -0.9272386508218399
         ]
        },
        {
         "marker": {
          "color": "#e74c3c"
         },
         "mode": "markers",
         "name": "llm",
         "type": "scatter",
         "x": [
          -1.8794675323353716,
          -1.2388899410460545,
          -0.5671626645123699,
          -1.0320522362268425,
          -0.8917747440496891,
          0.2719879443633358,
          0.0065134513498490325,
          -0.7378022241235691,
          0.9283277261835662,
          -1.4462809478629104,
          0.9853639331839235,
          -0.06877365443261081,
          0.08019859762068812,
          -0.23814720855411647,
          0.8697972522881757,
          -1.2860426412955668,
          -0.18552135539245987,
          -1.7040703594373103,
          -0.037985556145821824,
          -0.07258383487119688,
          0.22564403133525338,
          -0.36706429258103224,
          0.2130408520802497,
          -0.3269249451571881,
          0.7835591662611375,
          -0.07479473522051863,
          0.5319302834072028,
          -1.2693768554743683,
          0.3823841936822799,
          0.4625412275883657,
          -0.371590403931549,
          0.48102643252742544,
          0.6645040999411859,
          1.372501832843124,
          1.285681546813545,
          0.8230905297507237,
          0.06261099606667002,
          -0.5666229331348994,
          -0.13906240919978663,
          -0.6397930188781082,
          -1.5750300576234915,
          -1.1313381319242186,
          -1.830795138124709,
          -1.2743161160895782,
          0.8349026978294393,
          -0.2204201233974005,
          -2.9514671594241166,
          -0.2629317637271364,
          -1.9675930620755344,
          -0.11370340215792729,
          -2.1277363485000684,
          -1.9717411881494418,
          -1.5398667542979976,
          -1.2136815406555248,
          -2.407809393167163,
          -1.8348627426703443,
          -3.0977938683290347,
          -1.0797319699713392,
          0.7508139062602827,
          0.3527014177140839,
          -3.0839635872793023,
          -2.724689070736622,
          -0.23664929990550806,
          -1.379243443283039,
          -0.5940832637329162,
          -1.6062371248671607,
          0.018371107663628688,
          -1.4944632133943332,
          -1.3612356800081042,
          -2.427689794346351,
          -2.2086581822681977,
          1.3517135409155903,
          -0.4738297349391041,
          -3.5654366830093713,
          0.4727735131911534,
          0.24567184212039747,
          -1.4544144771310938,
          -0.9667888633166835,
          -0.28512886461188125,
          0.9607856069304676,
          -4.46999585248571,
          -2.852155176693317,
          -0.8909777942676528,
          -2.771365921748303,
          -1.6345940410974904,
          -5.535564963672137,
          -5.796521400935159,
          -2.170489487585911,
          -3.1588575701195722,
          -4.834955068372921,
          -1.53944629770141,
          -3.313496074431906,
          -4.015639874409175,
          -3.526621126452218,
          -3.2279858171073132,
          -5.16367479207398,
          -5.456003755092413,
          -1.3687181382497733,
          -1.8166652648415853,
          -1.2114999850067982,
          -4.543578290686581,
          -1.9322666346116983,
          -2.5265277048522266,
          -1.53245407928985,
          -4.013360652671359,
          -1.9950798625671822,
          -1.8003440008643057,
          -2.655916874163358,
          -1.9578090665768528,
          -0.8361914096186676,
          -2.644440040487916,
          -2.9897588381658116,
          -1.291720958425991,
          -0.051119752327660195,
          -4.3942107343885715,
          -4.182398464408766,
          -1.2504358315136122,
          -1.9748668886536682,
          -3.1695008157933815,
          -1.8817925673198832,
          -3.118877013853804,
          -0.23529271554689685,
          -0.1456204718608015,
          1.0815922458589795,
          0.3238262973962816,
          -0.4371682997001914,
          -1.9968621083004114,
          0.9866508760279172,
          -0.6140375342297728,
          -0.10687247855721894,
          3.2699465567701966,
          2.820959687127288,
          -1.2192518471279816,
          0.3702302219853813,
          1.5129993390683276,
          -2.1873557797021146,
          -1.047363646951125,
          -0.7092084402338444,
          -1.4902478277004243,
          -1.0888350018809305,
          -0.8749459312877247,
          -0.09556651102327189,
          -2.2877516119731975,
          -0.2690988558395527,
          -0.031256688919977446,
          1.5495554092848467,
          2.2041102102712307,
          -2.394041410797938,
          1.3567726030902283,
          -0.4398661725924434,
          1.779727285562879,
          1.5827727618752587,
          0.43772044227982027,
          -0.5230371052493553,
          0.012313747502968297,
          -0.1451726537873789,
          -1.5024505679281686,
          -0.3764917753348057,
          0.7846479588628335,
          -1.7917621421189396,
          -3.4856937445053053,
          -4.688145276942181,
          -0.4125911102696896,
          -3.841273545028146,
          -4.524661736848628,
          0.6782415300632119,
          -0.20988764473042798,
          -0.28166978474415694,
          -2.6097455642373246,
          -6.079176821823133,
          -2.6677371323380266,
          -1.4796381258585187,
          -1.8016356828403168,
          -4.125445120739451,
          -6.818492873285136,
          -2.018067924865906,
          -0.30155921942806785,
          -4.113359441269951,
          0.24771383804432315,
          -4.465873882908557,
          -0.6045878242678112,
          -2.5369284044728913,
          -4.9805845103685655,
          -6.455264774533744,
          -4.729475263255885,
          -3.574432609317801,
          -1.2472878361305202,
          1.1983930425585254,
          -2.3717033817233246,
          -0.010028040726458387,
          -2.0684022513110887,
          -4.177518541404569,
          -4.1078885254088835,
          -4.725871975787369,
          -1.2441206659645294,
          1.465197718140653,
          -2.262174746600304,
          -5.400023030593079,
          -4.359471615542246,
          -2.993928877282332,
          -0.15660696202478783,
          -0.7888999570405494,
          -0.23960234069187833,
          0.8845644582761175,
          0.7256123547193338,
          2.6956635541592013,
          1.3698915938692884,
          1.336642307540759,
          0.4057003045610187,
          2.2202090447294465,
          -0.06770948428490231,
          0.41449606305198167,
          1.291312430752316,
          2.343814349671365,
          2.423707721278987,
          -0.07190987403350868,
          1.5604510667494973,
          1.3407158053099946,
          1.2031670957071428,
          2.060301987023628,
          1.0510660252114357,
          2.583578140042899,
          1.4755432605977383,
          2.813834023085168,
          0.37908389445333346,
          1.5680891203058858,
          0.6118726411181378,
          2.481227220640384,
          3.114172736655904,
          0.25031518334861597,
          0.6496439336968598,
          0.9031448424110405,
          1.726836627402583,
          2.541378223150985,
          1.1901282504957815,
          1.3473842894987997,
          1.328173197054217,
          2.446609289770701,
          2.125454493862205,
          2.8779635394576424,
          -1.0838575033144107,
          -1.468720361460069,
          0.2747785532863517,
          0.8006948561965016,
          1.4376773383366834,
          0.16624266094184034,
          1.4355134586358447,
          0.6731306061523891,
          1.1215924993303237,
          0.21513834248113106,
          1.263816016806922,
          0.18248414100805335,
          -1.5413997380396625,
          -0.411946613969727,
          1.8010172629271823,
          0.4069847306316692,
          -0.8136980162873755,
          0.3745199381470879,
          1.6072403174577832,
          3.2873887477907826,
          2.812094185075729,
          1.0722092632057196,
          -0.6043538824345278,
          -0.32489248925082187,
          1.3169405558656824,
          0.3241696916115418,
          -0.16137126433942456,
          1.95512850951689,
          1.382919861831392,
          0.7676110722628212,
          -0.05790876080625907,
          2.8536177913360308,
          0.7981504907532819,
          -1.4867386131217608,
          -0.4339699276606351,
          1.8952414782887248,
          1.8363502080559921,
          1.1397442394844393,
          -0.5386277392959992,
          -0.03950582054809699,
          -1.4156527683566524,
          0.15528121868393763,
          -0.22516998409527422,
          0.3069342345456758,
          -0.91587946402079,
          -0.39769739797107956,
          -0.9798449582114889,
          0.26725442668741195,
          -0.33292281823099196,
          1.4333689306179698,
          -0.027676561312951757,
          0.07053505174386018,
          -1.3643890658013957,
          -0.4353911520399683,
          -0.3634371533663241,
          -1.329409699942399,
          -0.6674190957289643,
          0.8353041313489532,
          -0.4725380747677626,
          -0.6667645923934055,
          -1.8529648354905335,
          -0.2520128331960854,
          0.9370466749425636,
          -1.685789727874542,
          -0.16379539766009676,
          1.3969042602310306,
          0.07299126084453655,
          0.28583265007199693,
          -0.39049565100642525,
          -0.4256739660793431,
          0.22606159392257116,
          1.501209256132217,
          0.8597294398515318,
          -0.23709608297019155,
          -1.249920127194867,
          0.3618379776924508,
          -0.6851992333410127,
          -1.0880984321817302,
          -1.624977890261644,
          -1.0405159180031656,
          -0.440282873083423,
          -0.4603121751464147,
          -2.5400254367727593,
          -0.5878801198903568,
          -0.0873430971095081,
          2.119650310791746,
          -1.14884577857383,
          1.7948267817492662,
          2.4901430891928698,
          0.004743709138058225,
          0.9327492250935496,
          0.03895670703004156,
          2.6422191578254033,
          0.9440611038789043,
          0.9513002052407102,
          -0.2617156054885478,
          -1.8408466211429988,
          -0.11566196635666419,
          -0.26798549808887095,
          1.309992599645683,
          -0.34203334042952566,
          0.4561042771908641,
          1.6104060388131034,
          0.9295516014424198,
          0.8901672689064,
          2.243857619347665,
          1.757580324078795,
          0.5978193495179417,
          3.6034950005058834,
          -1.1238818697605941,
          -0.305454477517792,
          0.2794802294158101,
          -0.650919066086813,
          2.103997446495091,
          -2.9546162910156655,
          -0.44923967818408034,
          -1.1562836964812868,
          -1.2792212664123213,
          1.3862128208078182,
          -0.3080490645328851,
          -1.897737537279602,
          -0.20865780789349136,
          0.748522244708325,
          1.5659549848151992,
          -0.4138104486400563,
          -1.1483807286831895,
          0.716221504183828,
          1.894353377980221,
          -1.9955039520011262,
          -0.36869002251938465,
          2.7777392897445448,
          -1.2230710766214847,
          0.11756633061497568,
          -1.3631046653170507,
          -1.5943996358094124,
          0.23856905135358716,
          -2.137363072981561,
          -0.08157138839450166,
          0.3061778380787565,
          -0.693025484575368,
          1.317464993291667,
          -1.9647498909848529,
          0.6439962018764067,
          3.187593758514096,
          1.7627770476819615,
          1.0707855599994276,
          1.3034759905123185,
          -1.0076289141951025,
          -0.06675040211593575,
          -9.420266873473386,
          1.7170315813387258,
          0.9241606154012079,
          0.1767871672654394,
          0.49360064459545944,
          -0.08916647600932988,
          1.437706242348774,
          1.7639140306064534,
          -0.754176066127232,
          -2.663084413424505,
          3.6919094690135283,
          2.857036728925182,
          1.7109097358834893,
          1.132182753060155,
          3.8833808300537975,
          1.4045961061243881,
          2.6969779352587064,
          2.4084169603235743,
          4.427140888307251,
          0.5156501655697173,
          1.9219490000290875,
          3.329355934514958,
          0.4777827962942965,
          1.330799860136436,
          3.660508557624889,
          2.8373792802316165,
          1.1298996842670228,
          2.3436147673485195,
          3.9471919532099857,
          1.5806186998124354,
          3.592717320680394,
          2.6503451509333464,
          2.4054820951399214,
          3.53467965794497,
          2.1528939033661776,
          3.2518058336533566,
          2.7529539548304447,
          2.6402318219761627,
          4.50048466734925,
          1.946797801727103,
          4.076090488420729,
          2.215968850238715,
          0.4583080703260808,
          3.439395322675582,
          3.033572733289485,
          2.5635916119082185,
          3.924823537604332,
          1.8404086087280098,
          4.066251304425176,
          2.3314170521261617,
          4.40192631646253,
          1.6868975938391295,
          2.948516264348423,
          0.6631810807385091,
          2.8285218501610903,
          4.873937859136946,
          2.2846277042896372,
          1.0909763300363282,
          3.4254287323450385,
          2.689490389256327,
          0.8836634560890005,
          4.896390542460576,
          1.626229291511657,
          3.3197892686481247,
          2.966884437174329,
          1.7401254263924941,
          2.2030455596038805,
          2.9502236459233404,
          2.764817430600604,
          4.766116192943314,
          3.228560509064234,
          3.69409659548556,
          0.8254106221062751,
          1.8632177175520046,
          2.338226372172244,
          1.7935304565730341,
          1.2541281036371297,
          2.5743766625694704,
          2.131340421491601,
          3.0081871634058386,
          2.680396736610871,
          3.3265153599160904,
          3.9992217661842098,
          3.325021428034102,
          2.22941465493114,
          3.8632449043351023,
          2.702943233966104,
          2.391677504231194,
          2.7377361339960027,
          3.8670814096911723,
          3.341010097443411,
          1.396793991081492,
          2.7310436644563625,
          0.5241556899650268,
          2.0926785762901443,
          3.6379099267535224,
          -2.0753768641056416,
          1.0422449953420294,
          -0.010880685708065704,
          3.1971924206089763,
          2.9814774728109295,
          2.1785169853602855,
          1.686885584521482,
          1.8666743382914495,
          0.511774764359882,
          4.091302836024315,
          1.4742252031596101,
          1.00529088217858,
          2.057099546563677,
          -0.8759604036462236,
          3.9337379324601645,
          4.1657868572648935,
          1.4874261908546378,
          1.7640504578421234,
          3.0139087076620363,
          -2.084937339198663,
          0.9378211932140741,
          3.711488131472663,
          2.2968739361160937,
          2.055218393260184,
          2.3121926072288654,
          3.4325565263047575,
          2.8620620462122446,
          2.360620344096067,
          2.7902508584511536,
          4.841867666658105,
          2.468643751017707,
          2.1578155719016956,
          2.413279385261184,
          2.0598288031879566,
          2.060327801892456,
          4.318397719443067,
          3.265471618472928,
          6.246081673030718,
          4.026688494072055,
          3.486980485737881,
          6.48980959250948,
          3.8710285269819895,
          2.003266543858326,
          4.594775613892705,
          3.7563572945819756,
          3.073235756935277,
          6.513282487212789,
          0.8641208803868868,
          3.0882419720855996,
          3.740469328664949,
          3.3581332485833517,
          2.870380071944186,
          1.584548656561765,
          4.358575423554103,
          2.2083320292704984,
          2.099737085958018,
          3.592611585342056,
          3.459553175300121,
          3.8507324615059075,
          3.53380318586287,
          3.5051341124688187,
          3.40360169833402,
          3.7273719779488177,
          2.546524530530401,
          3.5358693729807964,
          0.7593691860430137,
          6.677352247251099,
          3.5568176431278418,
          5.704920747991269,
          3.858956679026447,
          4.182381056575154,
          3.131327355520363,
          4.552720857555277,
          1.3888500335961522,
          3.419581187869344,
          2.744174334607293,
          5.620448758181411,
          3.5288161902676283,
          1.857514417966841,
          4.60593080468863,
          4.138509321488659,
          4.99914499692408,
          2.041836272254362,
          3.6742283570829897,
          4.216937770848976,
          4.798504067953144,
          2.9061052092369977,
          1.9605600562368655,
          3.2176344574180815,
          4.956906213088924,
          4.238721958638847,
          3.8554902886706826,
          3.685327223143697,
          4.000134506372629,
          3.132578105837789,
          0.8712944781266249,
          2.076607470964024,
          3.463515610587044,
          4.130316802683503,
          4.346067625813552,
          4.3013340610192055,
          4.789638082773428,
          3.8597141886980593,
          4.647287246376341,
          2.187428480354681,
          4.303873998956532,
          3.1815629538687356,
          4.713780037860269,
          0.31247005260475064,
          2.66902187767078,
          2.3415566449782586,
          5.686568798117203,
          3.8308117689879593,
          3.4335201594151408,
          2.055656734164932,
          2.0462870364088994,
          1.7489181680148327,
          1.5111953747344538,
          4.1546949784753595,
          1.75046130717616,
          1.4456107639995,
          3.624641756258925,
          2.201094887089658,
          2.2838150903560988,
          3.2764261049181735,
          0.9842693743802299,
          3.1934921475369342,
          3.992728308312286,
          3.956619344892459,
          1.29921721422903,
          2.9821509523474523,
          1.1041468228597395,
          2.66408393112075,
          4.297967955701115,
          2.7130156814113793,
          3.3293026358720184,
          3.4378570253786354,
          3.2060938643537433,
          2.5977647992470088,
          4.525540352289313,
          1.6018570390921945,
          2.8551758412500985,
          2.3584657826161513,
          1.60504406479526,
          4.402160898458637,
          1.2900894077200646,
          3.1385512887127724,
          2.2169654630571194,
          2.750900785903904,
          2.1901090305802904,
          1.809818999737756,
          3.331968538180572,
          0.9489719277002058,
          3.1015132724950516,
          0.30068297412090245,
          3.2239821155512898,
          3.987723603190101,
          2.3572885777801473,
          4.394236903194308,
          3.961249991617949,
          4.630652400786817,
          2.97198507878292,
          4.683915152484857,
          3.046893062391644,
          3.7139161878104927,
          4.2440743617219985,
          2.6737465947195775,
          4.89137303976363,
          3.8067791022549424,
          1.5017566881978868,
          2.6888251694576915,
          4.402561462627524,
          4.92905182948654,
          3.8932897401644593,
          4.950086454610428,
          1.8688714231767918,
          4.330247449055603,
          4.432593367220208,
          4.294957250569813,
          2.997251400695151,
          3.3450758449961375,
          3.7771637725567873,
          2.2960542010759637,
          3.917420381040333,
          4.845741383906744,
          4.607437915292275,
          4.3619720710165755,
          3.4227625960714474,
          4.666298833328022,
          5.5577577866292005,
          1.26438492004331,
          3.7465923194228625,
          3.7846214387453387,
          4.185788080072891,
          2.2110664602238788,
          4.2919791223445385,
          2.7219666382701075,
          3.0088319412745315,
          3.587486988882591,
          2.617781216961735,
          3.2379258179476724,
          4.283037691426767,
          2.940499298166168,
          4.55056194615633,
          4.7429457759619575,
          2.784615753095833,
          2.694572392719075,
          3.3236118715192093,
          3.0968072173677252,
          2.905444158175499,
          3.570082898576086,
          5.359313633401832,
          4.3644937650111935,
          3.552238267400881,
          2.8377921816682665,
          4.68047738831285,
          3.099382737638334,
          1.2771388296070822,
          3.8354030106978376,
          4.437233583266103,
          4.090660214124022,
          4.212186883590685,
          4.182601964850185,
          3.8445370752596952,
          4.968403744471955,
          4.729697032037833,
          2.650403030567459,
          4.256992163079517,
          3.064466606742322,
          2.8067456751731688,
          4.053242369823483,
          4.120920854516532,
          3.112162622256061,
          3.6081117369650575,
          4.668535624198169,
          3.6917236662148905,
          2.743650603190534,
          2.6445960289810406,
          2.5947545936046152,
          1.3435695733270085,
          4.034254771651299,
          2.00767473618862,
          3.0926899382382333,
          2.7448298261193615,
          3.2030438115957063,
          4.043742186827475,
          2.2493076147513005,
          3.461259089613544,
          4.071219293715865,
          4.2934552846882275,
          6.493337502475428,
          1.031507722956684,
          0.852213727430154,
          3.036783156285982,
          4.282034884757054,
          2.9268959564903128,
          2.1936356369572776,
          0.45866859101819896,
          0.995760220883595,
          2.1782000007187645,
          5.448134630641453,
          4.514460335403644,
          4.164414514532625,
          3.377757441735388,
          4.053460235702044,
          1.7806862181813763,
          1.7784592226129874,
          2.7087995548584285,
          4.9815063914703535,
          4.4414658769033535,
          2.165105868910035,
          4.222671342108265,
          2.2582476837329253,
          5.161162242907307,
          4.9043585012900195,
          2.5426618561825953,
          4.892079306581758,
          3.6056307813402246,
          2.7031918285824226,
          4.0288845627007825,
          4.602838345198829,
          6.015072138006848,
          5.460368864647325,
          3.259255367287119,
          2.4816398933536314,
          5.4246467096977975,
          4.349409309262642,
          4.003845019121075,
          6.148970829027175,
          5.862219266493023,
          4.279111544945382,
          3.270127857596436,
          4.684792182796873,
          3.758206378844576,
          3.613747845773574,
          3.693560378659581,
          2.074716854502664,
          3.0661048227466305,
          6.393333921385711,
          3.816887812799129,
          5.609318527191005,
          4.4673517326544205,
          3.3428752864862097,
          3.3382051849442225,
          3.437306984165831,
          5.487025504268211,
          2.837880895583202,
          3.5796873097141,
          4.776948001705051,
          5.43928972776067,
          4.600849305294182,
          3.8119756235147597,
          5.907746468647415,
          3.9246335415672524,
          3.724468630841289,
          1.688594139035696,
          1.8803628858047405,
          1.8943504829323883,
          2.015394743855975,
          2.5897348239091027,
          2.820743354159525,
          1.9085656920998015,
          2.497672818359935,
          2.0289659701219716,
          2.487129337093614,
          2.6228775498386177,
          2.3167572375705787,
          1.7025970603772231,
          3.6516717474810516,
          4.085834975896746,
          1.8425989909062617,
          2.5950031915259624,
          2.0382331937820553,
          2.1128709979985607,
          2.208984546660899,
          1.5666428480704229,
          3.4953628668656065,
          2.7494439426604624,
          3.528185993336029,
          4.383880686856298,
          0.6267134526122242,
          4.555773256924577,
          2.244322654405942,
          1.4510014637417936,
          3.3652241740358164,
          2.1931721942131963,
          2.390967753865456,
          4.0305820946355215,
          1.139442117820129,
          1.528813661024837,
          2.166778768191298,
          2.700967982111835,
          3.1294892668220347,
          2.2029796254008076,
          4.138627629184179,
          1.7785053420709047,
          2.7309283491327196,
          1.7406859123640808,
          2.6322980957739417,
          4.403741477247102,
          3.4307528851931917,
          1.5809038888479938,
          2.40744448533919,
          1.9555696989410831,
          2.510211514424546,
          3.905749672677971,
          1.3446231841587648,
          1.4688379254556028,
          0.12160695426183926,
          2.276642627214825,
          -0.32354902063652047,
          0.30402236077496275,
          1.5762760409621168,
          4.432387996729062,
          1.86371703706869,
          3.607186387237492,
          2.7187006848176263,
          1.5425624254394612,
          1.2620448889267892,
          3.8960797397050246,
          2.9874620426100096,
          1.5822625663601952,
          1.9482750359113092,
          2.1974324780087064,
          0.49992797368184644,
          3.1922870959378318,
          4.454824946161654,
          3.0014708419890472,
          4.4927868856027136,
          2.2134015615405387,
          2.1827426616084686,
          2.0756677991600045,
          4.461508169580068,
          2.8050420890512457,
          0.004590576152185001,
          1.2016739759209565,
          4.402628963393524,
          3.039341472632287,
          1.9455163697595832,
          4.587320535343105,
          1.6712317289544845,
          1.348804993331714,
          2.8194716408998013,
          4.9126904569627605,
          4.645680526537168,
          5.142232977192008,
          3.1389925475400764,
          2.2287846250743124,
          3.3816020893038727,
          3.663795373372956,
          2.0792440540345996,
          2.0947877128872254,
          3.961250897909617,
          4.611416241501999,
          3.5553370475057604,
          3.7739917051098146,
          2.3260661732206955,
          2.6667730968948082,
          1.9136551274478681,
          3.4721684161385693,
          2.855471097736966,
          3.789471373048409,
          6.3442775193984735,
          4.95009845827231,
          2.567605543561077,
          3.8053292894861093,
          3.916099159538267,
          4.9496019181280335,
          4.779864010850275,
          3.353368518102092,
          1.0289373029011735,
          3.2559599607171688,
          5.135326406965408,
          4.710805156570279,
          1.1861233887299607,
          4.419426843625241,
          3.5185692136917024,
          3.5698784031657196,
          4.006888503980149,
          3.0988169412453477,
          1.1095573494644047,
          5.6396672022429755,
          4.625780950881357,
          3.478600440968668,
          5.125775302332975,
          2.2649453687980197,
          4.82240220640167,
          2.329568108714818,
          4.789684840229582,
          2.76932846109535,
          5.9197324784928345,
          4.46536819243122,
          5.384279160264904,
          2.647134559707091,
          3.880896831234666,
          2.1444002137957785,
          4.148800323085735,
          0.784721835494949,
          2.1268648817163056,
          3.157678393389924,
          3.386655025941836,
          1.8402295272226248,
          3.6453328677753327,
          4.569869534134769,
          4.117308926416934,
          5.025897515355435,
          5.823844720141699,
          6.105618931621221,
          5.683979188064946,
          0.8134851372322374,
          2.0848918790608937,
          -0.7632247892503964,
          4.740553189372752,
          5.555351328166117,
          3.9243702311915936,
          1.7889698809394328,
          5.58299933235489,
          4.425104366513288,
          4.0164547997007,
          2.163952574461193,
          4.180363127030144,
          5.826545040556242,
          5.081468822039212,
          3.727394684129142,
          3.929080324880455,
          3.4182807642767683,
          3.0799023833995807,
          4.552259381499325,
          4.455290843585023,
          3.3491843155245973,
          3.796529727191865,
          4.170568465068041,
          2.892033323010761,
          3.1514993600114125,
          4.172436045983463,
          3.3105197200219165,
          3.93221475664551,
          3.549706321950376,
          5.593513155555886,
          4.846346995706799,
          6.457029715536906,
          3.0863314212151196,
          1.2704061199945877,
          0.22865319559531216,
          4.62563067322694,
          5.819560096533668,
          3.350370486063035,
          4.541317827874865,
          4.119764151470959,
          3.9056277371031882,
          2.411763337024845,
          2.5873856866280547,
          4.385017316498436,
          4.843477184774832,
          3.018171564277057,
          2.795522488260587,
          3.3438856996575725,
          0.11710962236038157,
          3.1834418423116047,
          3.4250123651425564,
          4.185366345658295,
          3.6542032215430553,
          3.197421369440545,
          2.2948227181382475,
          2.9469031677165214,
          1.8521090912839913,
          1.353157350327734,
          3.8665146111370663,
          4.464705059931394,
          2.56977829385591,
          2.095860614677485,
          2.2154766508566217,
          4.499281921481833,
          1.9939529818120132,
          3.9632223256497747,
          2.163900643294018,
          3.868895493478559,
          2.9626429526919154,
          3.986405334023713,
          2.497380323028699,
          4.102975125080413,
          1.1195155012778946,
          1.5323180693186358,
          3.678876182241811,
          3.0259102169787853,
          2.583474360400727,
          3.3621474887338,
          3.0625335487087555,
          1.6652519583867498,
          4.523338383346113,
          1.5752749271082302,
          3.5919152864521258,
          3.9077336524249056,
          1.9027059427118138,
          5.580458711952174,
          2.4801120186810897,
          2.2699749184025158,
          -0.2479159198044783,
          2.1788800091691236,
          2.9819979619832115,
          2.1510557298332915,
          1.4549383712925368,
          3.6611013279406244,
          2.761172210004481,
          1.909571637356874,
          4.4311829026638865,
          0.9160850587846053,
          1.6704214803880664,
          2.6819779226479907,
          1.779774066759747,
          1.0207214985693847,
          0.8243376536458268,
          3.1589071504328907,
          3.7870400933279305,
          4.580149690032278,
          3.512239573862909,
          2.8001426229080395,
          1.8445056660834047,
          2.2589165565010423,
          3.3961736608362183,
          2.398461064192267,
          1.6893260149783724,
          2.5951437265941246,
          1.8214749626949056,
          1.3679100166142395,
          2.0801614948960117,
          2.83922085397422,
          3.478707134681055,
          4.2094813529421,
          2.075676571265343,
          1.8120914978443343,
          2.8445555820055155,
          3.4159831985091142,
          1.1591188178841998,
          1.7516722916999046,
          2.611019412149051,
          3.751170865527035,
          0.8472989116647359,
          1.8548744946476943,
          5.291470856333468,
          3.2518294129340304,
          0.20141077248776232,
          3.0480219921538887,
          2.598348442656795,
          1.536759294025406,
          4.459169531902709,
          0.37947816124629447,
          2.3140213253569337,
          4.258259055938892,
          1.4274334414819938,
          3.111109967686777,
          2.165857023305371,
          3.675260364970545,
          4.492965069769669,
          5.155977313818569,
          4.246378796640225,
          2.728986751531978,
          2.47798707603199,
          3.775356289929042,
          2.744087319751394,
          2.37259386855459,
          2.228579459554944,
          3.19354416439154,
          3.2296005002886834,
          3.5547599996246038,
          1.5250073698944424,
          4.405017819070046,
          3.5091303212380893,
          3.7588329871870574,
          2.248954287611203,
          1.956436773666826,
          4.382259254267111,
          3.2429491006133846,
          3.6665827104147555,
          1.7059347904845992,
          0.17712864757330746,
          4.266336912286849,
          2.149529937101615,
          2.301853028858406,
          2.9728408012808383,
          3.2348834293473825,
          3.2396754022959993,
          2.217282099034421,
          2.254890611578031,
          1.3122176324184935,
          3.5812590294327626,
          4.037212154975256,
          3.002372927454211,
          4.7009092728280555,
          3.7207268247756926,
          3.5281330115133223,
          1.2712861206392811,
          0.6706346200531691,
          3.673392970618527,
          3.903134430488099,
          1.5436543425832476,
          2.438240567894954,
          -0.056804689857240034,
          2.1220478322736875,
          3.727551202143317,
          3.5952327838403706,
          4.141875272546717,
          4.6746665249897825,
          4.0232275637538075,
          2.5296565937845763,
          2.2071414359972112,
          2.3653648236687914,
          2.9155517792229437,
          4.561563974467373,
          1.9098679911214291,
          2.3591159666941754,
          4.644326953713147,
          3.3489466650264648,
          4.617515954215063,
          1.8542469320318755,
          4.934763263802018,
          4.770025582409882,
          4.291400236132488,
          4.3712569708716345,
          1.558616808352035,
          5.188510164037677,
          4.849160103549595,
          4.8568564468187505,
          3.6024380895106964,
          0.7852238175220717,
          1.100867306213358,
          4.68928809808947,
          3.698707870134709,
          4.613485664608171,
          3.7837077109444923,
          3.952097922557677,
          1.5308631352125666,
          3.0566871643203393,
          4.901187837592404,
          4.5310710683252005,
          3.1036411436719087,
          5.233950748774653,
          2.2992959234456274,
          3.9411224177226285,
          4.916132567848177,
          4.943915027445241,
          4.429373552044236,
          4.438959713625419,
          2.192643889487737,
          3.200261817339868,
          2.5486063587610848,
          5.696201079990526,
          4.346475126388625,
          2.820204461205351,
          4.25043199355063,
          0.48387212045517564,
          5.415519810425288,
          4.448125055244779,
          5.294769620761581,
          4.311408772348391,
          0.3798129790489215,
          -0.7314011186980133,
          -0.5218823842648924,
          -0.07327859837837933,
          -0.1600745963154816,
          -0.42143315248514246,
          0.6984375102073298,
          0.7728717442836945,
          0.9052137109082634,
          1.5598265774612525,
          -0.20375276658620334,
          -1.1927326421331605,
          -0.8322984217857932,
          1.2901622395147176,
          1.5109837485953896,
          -0.23547444087163025,
          0.6057221280255733,
          1.6938940828564784,
          -1.9343038584893744,
          0.23619579707424299,
          -0.09457088122771246,
          0.379372042741837,
          0.1825481028935799,
          0.7565906171410111,
          -0.545744223886599,
          0.35231523575929846,
          0.8962348337713375,
          0.8429501171700937,
          0.37000839978409594,
          -1.3130333499442066,
          0.9377354494277009,
          -0.6921597455520726,
          0.7915469057778902,
          0.7258397725654638,
          0.4339614909138226,
          1.6174327907729655,
          0.003170837143918716,
          2.4559509637627666,
          0.9568154468445617,
          0.6686096387361486,
          -0.02769988293733656,
          -0.27358486722075065,
          0.8628026495565025,
          -0.7039906912978011,
          2.354512312111313,
          -0.2637220587320464,
          -0.4145600746118794,
          0.865072211780394,
          1.8929632351561916,
          -1.4370693984540341,
          0.6893783867458049,
          0.0733404826177466,
          0.43633137044929265,
          0.45585466508945865,
          1.0264738014142825,
          -0.01817858015422712,
          0.1461311602471433,
          -1.424878829654971,
          0.7698520148990232,
          2.791615678303449,
          2.489327406342196,
          2.5032153864627626,
          0.3382897705146724,
          0.24791368656863272,
          -0.12931025718531217,
          1.3311799197468683,
          2.2236093890374415,
          0.9314676521736546,
          -0.5121670921517772,
          0.6113472314557272,
          -1.4846161010033403,
          2.3018188669261295,
          1.1552251317515088,
          0.3264259022222916,
          2.825700165278029,
          1.707007298778797,
          0.32088974856217667,
          1.444732342315835,
          2.026057097194639,
          0.3693415673361476,
          -1.0621038271258711,
          -0.8194920042607894,
          -1.7107888087627159,
          -0.6727729573421009,
          0.9496602450435309,
          -1.1979693627244714,
          -1.6386057509366854,
          -1.2240724063108641,
          0.7896259927303815,
          -1.7269139683242998,
          1.098087828705162,
          0.20709330741713972,
          -2.046014891080415,
          -0.4872752501873422,
          2.2682521709649826,
          0.01163649936137834,
          -2.05581937800045,
          0.7185196279384464,
          1.5323971562071868,
          1.1723870002422054,
          0.8449344237658412,
          1.8532435967866894,
          -0.6368312087040309,
          -1.8666998606243133,
          0.34047087202386317,
          0.06855052243584449,
          0.5619093325668328,
          2.367186268196466,
          1.7081993232966577,
          1.5675599823873214,
          0.2950801207725524,
          2.7764761379755263,
          3.665522608774751,
          2.5722051507192076,
          -0.33668394718761474,
          1.5275848601370758,
          -1.4917353072035089,
          2.0788997719253697,
          1.807484520648933,
          0.7621742674831441,
          -0.9689618125752362,
          0.4228985584160848,
          -2.207601489635606,
          0.010765025439905743,
          3.976744843322464,
          0.7377671377239361,
          0.8976326020075609,
          -0.0982176558694635,
          -0.2890475551978156,
          -0.37710174605547814,
          0.4303883869591474,
          -1.5241002883483272,
          2.5966972499108385,
          0.3833303370211332,
          0.25691446924209266,
          -0.20496057754071087,
          -0.4965086329034478,
          -0.020507135819349088,
          -0.0021861138330603784,
          1.8782495339507965,
          -0.5916612500990313,
          0.39441836405285513,
          1.5112064729414108,
          -0.7776219965932925,
          1.9184403853782679,
          3.352986281344565,
          -1.1437007298979902,
          2.058550315961872,
          1.2376424015026615,
          0.591912574575679,
          0.06052653564582932,
          0.7516823933192969,
          1.096815747706681,
          0.1656938653843893,
          -0.824546740952249,
          0.25942127825753025,
          -1.3567569233874168,
          2.345181363279763,
          -2.494272654872195,
          -0.6614992796608887,
          -0.5835620532649252,
          1.5572334377953063,
          2.590738287890238,
          0.4204170647267247,
          0.5243262251640174,
          1.7892861490726877,
          3.7450952601411953,
          2.0832861608377913,
          0.9928825745819047,
          -0.24165526277330693,
          0.06962584770109978,
          -0.3441109527653497,
          -2.753995594468581,
          1.9883306767907616,
          1.5620834239688273,
          0.3846912304201767,
          -0.2714079227670452,
          3.7570247189200474,
          1.6895849103248433,
          -4.789994018876796,
          -0.987888237004077,
          -2.304060128528661,
          1.364893009460087,
          3.8240316998834603,
          2.4380058485504272,
          3.676924378278807,
          -0.5835804690545208,
          -3.1634814965461486,
          0.8593342076189171,
          0.33811523288433426,
          -0.9105787765021737,
          1.0153283090603236,
          0.1668895949251385,
          1.132741503159773,
          0.04933769944370283,
          2.450156678444391,
          -2.9151689063719535,
          1.2441045156870854,
          2.3872930526340097,
          1.073941309995006,
          -0.9179507139874581,
          -0.7068695293362083,
          0.7969120505771417,
          1.3778444245873451,
          -0.001456044704989765,
          -0.3590517077346303,
          0.5155179345432377,
          4.3742067336454715,
          1.3733162617974428,
          0.1908407619166929,
          1.0169186227093525,
          0.04505933778960206,
          -1.598722529507005,
          2.1029172773866276,
          2.21717764252951,
          1.4363338457128392,
          -1.2991702468481268,
          -0.01969877543220392,
          0.5736831793169528,
          0.5033792564990909,
          -0.13217244025952682,
          0.11772878569590167,
          1.0027672862465273,
          2.2164887900254406,
          1.7211388012604936,
          -0.33114424174686996,
          2.2230651400652395,
          0.37087257542279656,
          -0.4635027116663479,
          1.2843205450129123,
          0.06823613248603311,
          0.3508428276360323,
          0.7742566676878344,
          3.498150976323552,
          0.7028847912766952,
          1.2494909754119519,
          1.115310256308855,
          2.5123758986302263,
          0.14218551599176169,
          2.4833035804519876,
          -0.735856120655859,
          2.7810448831074845,
          -1.2329475700256498,
          1.0039793509766246,
          2.7582431499084294,
          0.4529311278409608,
          0.4328260436333058,
          1.7008259410259348,
          0.38352853282424865,
          0.942528906567728,
          2.324919247283745,
          0.5571560658318654,
          0.1754779595086332,
          1.830064467617319,
          0.6478329502896993,
          -0.6940640091005386,
          -0.08291456043431093,
          2.753398759390886,
          0.4797813251195595,
          3.974567428734159,
          0.3218370581731176,
          0.22940129575788384,
          0.6091315212107175,
          1.9521770366124114,
          2.0672919908798852,
          0.6480630308490825,
          0.5754953472808578,
          0.4537103912188041,
          0.6319487087430499,
          0.26159921206845865,
          2.942889340563402,
          0.38516812264432726,
          2.4121284194551,
          1.9303894785060716,
          -0.3644145648409312,
          0.2741387581800323,
          3.3451815623824306,
          -0.2641156101757619,
          1.4306444172286894,
          -0.01394765504690339,
          -0.8238536099409552,
          0.9967238767534535,
          -1.5550399858056743,
          -0.34672898980250466,
          2.5373346386787734,
          0.1664966984572539,
          1.5831394003765744,
          0.5676904001817161,
          -0.6054353318861951,
          0.9552671607371132,
          1.4416654009977248,
          -0.5022485007659206,
          -0.8786543247911254,
          1.155406518625815,
          -1.5684551240512332,
          -0.018949216476178248,
          0.8905176090161342,
          4.211071441718419,
          4.135901595728624,
          3.3064487013429735,
          2.7612828818030564,
          -0.19728814357238353,
          0.5548235606446061,
          1.5533837707110694,
          2.1528826288136,
          1.8681136800216158,
          0.25120450133800726,
          0.3208558356806156,
          -0.2973756991219171,
          0.7282926968844731,
          0.27395974738977086,
          3.25315747620907,
          1.817721607732554,
          2.1655400125289908,
          1.9822832790267484,
          -1.6319267662963741,
          0.9167178719231522,
          2.8406198820058965,
          1.6746284765015702,
          -1.788446017809071,
          0.3788716407571964,
          -0.1233892599278157,
          -2.374132626154067,
          -2.0390725827713228,
          -0.8632930331371533,
          0.22797461736076535,
          -2.1116123891816776,
          -1.737199325637701,
          1.8018027711981184,
          -1.1031007948324147,
          0.5035993677728359,
          1.7564246747471233,
          1.7011627282850692,
          0.39046454247511103,
          1.7610769971545375,
          -0.061203550344163735,
          -0.6341018550290574,
          3.3701861322977864,
          -0.00034040539337243966,
          -0.45343195875648634,
          0.005128198306444251,
          5.236686680089796,
          0.48379941439513025,
          3.21136887304471,
          1.534795072158352,
          1.009961895177872,
          2.9754772704231662,
          2.9007443065917267,
          -0.6373225177809332,
          0.9083836743581796,
          1.4757368145319172,
          1.3046142054853422,
          -2.6875526752912107,
          -0.22613798233017923,
          -0.008906745343305031,
          1.219708084666813,
          1.3430207374665346,
          1.5926572233984113,
          1.4518961800411079,
          2.294883998871558,
          2.120308033988138,
          0.52610029958856,
          0.4875346005378365,
          0.4622938058020015,
          -0.11440412218178855,
          3.3433808993185536,
          4.822240494996808,
          1.7615362222117263,
          1.5129927665520972,
          2.996950156041412,
          4.157523132763235,
          1.856705576611314,
          0.05807656911245132,
          1.4052221297767775,
          1.6070123287485332,
          1.9584688730831816,
          3.950850108701495,
          4.27528170123168,
          1.4915251224637958,
          -1.1102754577221614,
          0.3682057810120991,
          3.526919009857553,
          2.9232267232317812,
          3.6967053970802093,
          2.3655919041853575,
          1.2578847311157393,
          2.075498070005651,
          2.5546507448953237,
          3.7005309138459013,
          2.747875734413567,
          1.1745981732279203,
          1.7823425338832766,
          -0.518444937755213,
          2.3693297078032343,
          -0.0038175828833462615,
          3.370202284649928,
          4.905522491226682,
          2.8821697061249854,
          4.537679969137581,
          4.461391454473092,
          2.703240199494183,
          3.346247911344522,
          0.8909949633188785,
          3.714092048375117,
          1.7828853034349559,
          3.4510293075475085,
          2.5345011866219416,
          3.8438426407070567,
          1.7393715524708002,
          3.8466865696124994,
          2.6145801162034674,
          1.959470131924474,
          2.537822803568719,
          3.7631067476122073,
          4.0110432470453645,
          2.0449981080806445,
          4.028624255890015,
          3.365451875439278,
          2.7849240301098512,
          3.5210825030265225,
          1.4791049841670647,
          3.628147233788745,
          2.360954762587066,
          3.567954052726153,
          2.7517552372073513,
          2.7333201079346336,
          2.624512178031344,
          1.889153385352312,
          3.6068432078676396,
          1.5120008024222074,
          2.344117454155187,
          2.8919711983825374,
          3.8885508118673617,
          4.743213709669545,
          2.0939451270506964,
          3.709870665781648,
          2.0971026339066228,
          3.1488260080555026,
          2.564312287682889,
          1.810808297628644,
          2.2401087853625175,
          2.2913533892982536,
          2.7251470644985862,
          2.886137432254364,
          3.2652027446671767,
          0.6794990972512253,
          3.7179710818810605,
          1.8948838281122817,
          2.6801057291623094,
          3.7026465908671162,
          -0.012286105876691107,
          1.5107051027308596,
          2.7263081728577014,
          2.5671568981110973,
          0.7155649789760173,
          0.8373628684837311,
          3.7385519892511594,
          3.227210673690679,
          2.9496541013042292,
          3.1078422670566,
          1.547242457926521,
          2.141146472829789,
          3.2990015798502377,
          3.6458865352321754,
          1.5835172599701228,
          2.6837060699993938,
          3.391768737261706,
          2.8588588662958414,
          3.496353526502683,
          2.8487795068495134,
          3.8104112191406276,
          2.659794483470003,
          2.8585192397110992,
          3.713769023431756,
          4.031656144681229,
          2.8327655349216836,
          1.153271963586273,
          2.4601803938027356,
          2.1680603371716414,
          1.3294389548041707,
          2.5588729048571053,
          2.7629045490932707,
          1.9855126729764099,
          2.529645382594384,
          4.9863773509053875,
          3.2544751142493165,
          2.487177276007329,
          2.7559410576846552,
          2.772187937722603,
          1.0437425494640251,
          2.265928496316761,
          1.5574080005805728,
          1.256365673928812,
          3.067664057966133,
          3.4524182418439446,
          2.18793717356124,
          1.93589058302594,
          3.045024450497677,
          3.0719131181626373,
          3.74285869569871,
          3.7477769612852803,
          1.9071769624467858,
          3.044119646669883,
          3.1190288233742733,
          1.8735524588585895,
          2.720679697717575,
          3.07110904659988,
          3.2047225867243774,
          3.1102859760181896,
          4.714496073202656,
          3.4714151229847947,
          4.142634130766315,
          3.722536339779064,
          0.3031969335958238,
          3.0407598026505505,
          4.955130012852762,
          2.2746226474616114,
          0.875112227912346,
          3.2326861139862704,
          2.5919206636982457,
          3.348202463211275,
          -0.056164766429771744,
          3.824900385686561,
          5.569291966157178,
          5.324472946907855,
          1.057667560521601,
          2.5082659075411278,
          2.0380494012694053,
          3.1284273632413626,
          4.6707344427321065,
          5.396162004812075,
          3.2355914050568013,
          2.972796532065689,
          3.200931739519554,
          2.6456713157686886,
          3.154057266160967,
          7.251891834501561,
          4.36100000986407,
          2.9070854788418257,
          3.0720798361152917,
          1.6420662716397385,
          4.924897241610875,
          5.074614849077316,
          4.498604812926727,
          7.462008467861495,
          0.5635696040233812,
          5.066052751710609,
          4.044240380220208,
          4.95959957274675,
          4.921784193359314,
          3.775480974008988,
          3.65297080700969,
          5.59686232374089,
          5.026125182064773,
          1.850906323036823,
          1.415983133038777,
          4.043892211745477,
          2.3901610846167243,
          7.549811216976478,
          5.073799843420681,
          1.7904105267889177,
          3.9821198963488627,
          4.105937404678634,
          3.134751218600234,
          2.8762926520289067,
          4.802479885259487,
          3.2380704872146295,
          3.7746080528250454,
          2.5836362409079148,
          4.788820942957789,
          2.0019428621833986,
          5.8579327019523015,
          3.5766971701406316,
          1.6051826679651784,
          4.3050234691364695,
          3.324566667905913,
          2.5790437653063454,
          3.048539712946187,
          1.2069531281343457,
          4.3120941677296845,
          4.847954301514264,
          4.896305469385744,
          5.680591549337359,
          2.3855868968396545,
          2.3355085151145962,
          0.06504570662262205,
          4.110198198512423,
          4.274397550469867,
          4.46683946796998,
          2.755756933385222,
          4.311187460580637,
          3.927572738999588,
          5.715980332526947,
          3.5984746797586866,
          4.630492032488487,
          4.76054564108168,
          4.775347578633426,
          3.9093667818219426,
          1.8634449351809836,
          5.662717204813522,
          0.28846493012091906,
          -0.7396686277357284,
          -1.0471572550826276,
          1.5579834931221752,
          1.0032713096135009,
          1.5190136211051972,
          -0.948690115749649,
          1.1594513111566298,
          0.660397322230125,
          2.083219303874274,
          0.9716335272216968,
          0.11378683395681742,
          -0.006991135212119776,
          0.924187950039569,
          2.7474385490757234,
          -0.3253543271428015,
          -0.9014202785166999,
          2.5500020901740337,
          0.7729028552283155,
          0.7949476345169274,
          1.1853430030447754,
          0.428364143768804,
          -0.5751252518298001,
          0.6913424787936892,
          1.0623969506023951,
          -0.324313725893839,
          1.9033697810083454,
          0.20407241699478476,
          1.3753678049524827,
          1.148350298944408,
          0.43201762979393643,
          1.281009538979095,
          0.7604448297977402,
          -0.4116194296032982,
          2.685306843912302,
          0.6478593034892162,
          1.0994150371496183,
          0.9550956184217855,
          1.8085232270244442,
          2.133012846259881,
          -0.9450171704219597,
          -0.5809691561305624,
          -1.3818510035276452,
          0.7996872843260072,
          1.440816066515345,
          -1.2029578817442501,
          -2.0693442080014144,
          1.4383830452909072,
          -0.4612724162974129,
          -1.2443740491895343,
          -0.0908635871248432,
          -0.8334030841003875,
          -1.4749742763135916,
          0.6075265165807551,
          -0.333469175569164,
          -1.3483431122910965,
          -0.7484328421430119,
          1.3690653133721933,
          1.113810103887352,
          1.6653025373425159,
          2.638035057527195,
          -0.9440238336513952,
          -0.002188419443425525,
          0.032915751407483,
          -0.13700511556281292,
          -0.28369386474248814,
          -1.0004139836557324,
          0.7994159605788659,
          0.6853836368819975,
          -1.3147020349525713,
          0.9842112228523248,
          0.9577893204823451,
          0.09575054367271517,
          1.262725002477505,
          0.699354038600586,
          0.2039036574865827,
          0.8576460182862375,
          1.669683905288756,
          1.7252289095959885,
          -0.8660868773861835,
          -1.5114485012695753,
          0.044491263000825766,
          -1.1399335361338259,
          2.3660532643764864,
          0.7630553965674072,
          1.1526381603276135,
          -0.02645289006545358,
          0.9257021471139332,
          -0.6013790708736291,
          2.07127324855058,
          0.16759796320249137,
          -0.45268627147428014,
          0.5761571313962227,
          1.9521491555774735,
          -1.8151738739540302,
          0.7008464155487713,
          -1.3914104490972243,
          3.5932839093693154,
          1.5866523499942908,
          3.1891768533662455,
          -0.9914658932609974,
          -1.3174897746317298,
          1.6065266821192843,
          0.33682792100393466,
          -0.7245965581057433,
          1.046105063583423,
          1.1152114951936105,
          -1.0851172658430495,
          -0.6553026781341997,
          3.504495116465922,
          -0.24099903106245502,
          0.2465244481207554,
          1.3311919826133771,
          -1.3894949026265044,
          0.9698876046255455,
          4.511002641839395,
          1.7351827173435677,
          -1.1194874499574756,
          -0.007598492482623185,
          -1.1072677189379643,
          -1.1305525213736551,
          0.6860234979193527,
          -1.3505305415319704,
          0.9925159472576682,
          0.366926637433526,
          1.4480719069505397,
          -0.9955957854875883,
          0.741466608408946,
          -1.3295160174771445,
          0.6859972644962685,
          -1.5942776214600183,
          5.3304163057703775,
          1.0549036446895295,
          -0.5419242164564831,
          -0.32197723005630746,
          -0.9421273030814117,
          1.9287232257101599,
          -2.0471887745501056,
          -1.0417931860619154,
          -2.0958957014597135,
          -0.036841442175357564,
          2.0379471057899226,
          2.306074817016148,
          2.732986511567136,
          -0.9533564717595344,
          -0.8715464702667982,
          -2.8891777668482863,
          -0.37496466449368326,
          0.9679489738716909,
          0.4576981805419776,
          0.21530815314974278,
          0.24375743982441558,
          1.448289386389655,
          0.6616738110040846,
          -2.051722330736847,
          3.021040593735473,
          3.7641579618546235,
          -0.27194120620987644,
          0.17372248593576992,
          2.2930618197925057,
          -0.1999658737012623,
          3.618362329207085,
          3.334997725768371,
          0.6111181698005173,
          2.599010734447115,
          1.7127325160101876,
          3.102171856057182,
          5.837935107917536,
          3.302098711222317,
          3.224826593442561,
          2.476021745832142,
          4.428515986146509,
          4.86471870163456,
          1.241891625964692,
          2.570940535641863,
          4.188543514520153,
          2.046417405589653,
          1.369611930253793,
          2.652657882591209,
          4.58405872513589,
          2.4661724852442917,
          -1.8196434860409152,
          2.159274251997312,
          0.21493681821173413,
          3.1775317262160145,
          4.707636074370088,
          2.9980208827026145,
          3.290955354713523,
          4.416290850608381,
          1.2942725368847292,
          4.000294954270032,
          1.425830919360936,
          0.20792126022944893,
          3.9467328458149997,
          3.258930839007913,
          0.30819834507768046,
          2.3675508678939337,
          3.2272169211603603,
          3.595262028641778,
          3.948609230189926
         ],
         "y": [
          -1.2279265208985313,
          -0.7692132478272246,
          -1.0113184143860015,
          -0.01519166805898622,
          -0.9924060079686924,
          0.6380233890438912,
          -0.3998648864727862,
          0.3146322554170893,
          -0.4623100565452185,
          -0.865894202040735,
          0.212440999253278,
          1.1723893967264212,
          -0.4609322694852202,
          0.056912129691485125,
          0.814092844681941,
          -0.2611701001346508,
          -0.7768983768462422,
          -1.5561647765242455,
          0.2212091250762035,
          0.41721391886039016,
          -0.23192993127947725,
          0.3286469765755692,
          0.5607042421167385,
          -0.5646161335144991,
          -1.2484786494844382,
          1.0846988919253284,
          0.4498928247783088,
          -0.37712495230765636,
          -0.31389460432876093,
          0.32390607594742116,
          -0.20931057359044783,
          1.047807666186439,
          0.6500931015320237,
          -0.22736736241664887,
          -0.12004256421681408,
          0.22685137482042325,
          -0.7689224789925134,
          -0.645203832753673,
          -0.4555846072443298,
          -0.6828122176833201,
          -2.32478849369371,
          -4.217049595672343,
          -2.490681224753466,
          -2.616817545010247,
          -4.624356604683548,
          -1.8491759136153885,
          -2.852691500405557,
          -2.748628235853226,
          -3.379343649708152,
          -3.0165406461002053,
          -2.6501864512359656,
          -1.8164635856434987,
          -2.3728741132725437,
          -3.437517407455844,
          -2.3224749130175604,
          -1.7901456306456462,
          -2.9267283029378097,
          -2.513015543414251,
          -1.4181945336990558,
          -3.873809676343182,
          -3.0837997212484973,
          -4.019338703743811,
          -3.087027028783511,
          -4.273765890742831,
          -2.2805221577567463,
          -2.5713640709210135,
          -2.7191903880736334,
          -3.7512288437067816,
          -5.18800585143876,
          -3.7923325258288774,
          -2.8198379572828025,
          -5.0676739033352245,
          -2.6065320602306308,
          -4.525545351614131,
          -1.8162946337776884,
          -4.637480723562117,
          -3.100397431551078,
          -1.853881928630691,
          -4.073220929986384,
          -2.105486718245061,
          -2.702963075926956,
          -4.506893115481251,
          -4.204219275302531,
          -3.6783606122393717,
          -4.475640455812417,
          -4.039118729952529,
          -4.940604823823393,
          -4.563097234014287,
          -4.407190926901228,
          -3.025393764589239,
          -4.3811791642175155,
          -3.8313354301209017,
          -2.95049911348125,
          -4.99862712790915,
          -2.1806324427441437,
          -2.779536505258861,
          -4.01789551555822,
          -3.6398248505716495,
          -4.375729107238999,
          -3.016567020943068,
          -3.57973661350581,
          -3.5802600095716137,
          -3.692028651954604,
          -4.153726213836253,
          -2.2899497957517374,
          -3.647324683314538,
          -5.661727029773468,
          -4.052819135885588,
          -5.459170802574012,
          -3.384790995676919,
          -5.561539359481804,
          -4.827814164970938,
          -4.057018013599952,
          -2.3002557327925155,
          -4.35627799555973,
          -3.3943148453972216,
          -4.461479294464906,
          -4.56582448682211,
          -4.594407662344913,
          -2.2856891166538973,
          1.9538706466610491,
          2.9097882241244157,
          1.545281361424733,
          2.634044203758245,
          1.2079046863899692,
          0.5389963040488183,
          1.4444863834755668,
          1.5225063744114795,
          1.309371343153658,
          2.530851834441718,
          3.597415421647255,
          3.606086786037909,
          1.3969092343623746,
          2.580623973458095,
          1.7114192386703704,
          1.4778036670806385,
          2.7541610994882006,
          3.319633097258164,
          0.08454279642891006,
          0.0936903636469203,
          0.5754811527598455,
          1.6214439183938083,
          -0.17535644580014578,
          1.72781556765321,
          0.4674151687541836,
          3.1224564156976213,
          2.266158472048754,
          0.837540879235123,
          1.3441853308262715,
          0.8127412512833528,
          1.8295456627550237,
          -0.12064772858105505,
          2.2534273960860816,
          1.0533326443444053,
          2.6287363983250063,
          2.998230731089009,
          -0.4914149471286742,
          3.7424184305991077,
          -0.045661469996017265,
          -0.8240678269069086,
          -0.017315688196407882,
          0.4586484066505953,
          2.527420251735059,
          -1.3283977300592853,
          0.6176620556699572,
          0.049425222979620015,
          0.008944037816846223,
          1.8718237681799743,
          0.7251370328401714,
          -1.7183523082869525,
          -0.21353373893442723,
          1.9667436819095707,
          0.3228279924011269,
          3.140005105688326,
          -2.621979338523945,
          0.8202300759798313,
          2.80774282152204,
          -0.010662066754729275,
          0.5320577938814766,
          0.6059199413574604,
          1.7890762934895281,
          0.5069135880000812,
          2.2056765345704976,
          -1.796784802416369,
          -0.2974490404375374,
          0.22208948892625816,
          0.972025913442029,
          1.2059337608068044,
          1.229063263378402,
          3.2890730664755656,
          -0.27337080274407155,
          -0.9701237981252693,
          -0.34665348031799176,
          0.4555107947416033,
          0.21479514568082478,
          0.8683615416755632,
          0.7899320801923582,
          -0.7746277708247536,
          -0.3579987169648587,
          -0.7055750142948413,
          -0.5770093163954437,
          -2.3000202771420994,
          -0.7431836078673767,
          -2.2491252126310837,
          -0.8702433920371727,
          -1.1350590310441209,
          -0.679621566083787,
          -0.515248943209551,
          -0.008120891009962071,
          -2.2218378120290248,
          -1.280900274695552,
          0.8119290659936983,
          -0.007813793434401518,
          -0.4040140364423267,
          -2.07772133950919,
          -1.1442917359133338,
          -0.9246301564834015,
          0.8395139287122283,
          -1.6104432961659028,
          -1.0160952869588142,
          0.5883892325323842,
          0.702718138992407,
          -0.7717337853063708,
          -2.313557165316473,
          -1.225322459392205,
          -1.1036844090130566,
          -0.8882963363741337,
          -1.2099748239018662,
          0.527315419025276,
          -0.514672253420669,
          -2.2513317969306317,
          -0.3762144256376416,
          0.7613431152786891,
          0.35989709322481445,
          0.8234180176096215,
          -0.6050362861595096,
          -0.4618196458499416,
          -1.3086944081763883,
          -0.3242161696382899,
          -0.8574811113863896,
          -3.42692290965739,
          -4.401353593593167,
          -2.5288456605301146,
          -1.9255939093779373,
          -4.32637578886501,
          -3.2338374877189398,
          -3.0923235528269344,
          -2.655579671121092,
          -4.270762397991746,
          -2.0544911237013106,
          -2.439026556928523,
          -3.7171515665535164,
          -3.5470548417114114,
          -2.241919461488957,
          -4.66365271828552,
          -2.078305670912475,
          -2.7884452023612565,
          -1.6864317895458478,
          -4.050879639975053,
          -3.248667334603874,
          -1.9126319704374874,
          -2.7361828072700027,
          -2.850293136746652,
          -2.833998162765175,
          -4.454477494615744,
          -3.29439829878033,
          -3.5925574051017737,
          -3.099719183150787,
          -5.23671873504914,
          -2.3220373911021683,
          -2.781389599361511,
          -3.842027118106481,
          -1.8438176537166229,
          -2.426376482363354,
          -2.0344811032403203,
          -4.736412418876358,
          -2.215222142895904,
          -3.2223482521104647,
          -2.9520333624647552,
          -3.342023198518157,
          -4.314873495444492,
          -5.429832659682637,
          -4.782076571566752,
          -4.037537729529121,
          -5.412772736247676,
          -4.415816947943074,
          -1.7771786860215797,
          -4.157001330729197,
          -3.9158261673167583,
          -5.268265974916328,
          -5.495918433511732,
          -4.938971439149635,
          -4.486877404455396,
          -2.8112335985500394,
          -5.810721381981631,
          -3.5547305612844076,
          -3.029873810399161,
          -3.760459146742627,
          -1.1187819859985193,
          -5.067834368711169,
          -2.894152323429306,
          -5.870114766634391,
          -2.272552402677663,
          -4.3395493567276535,
          -2.537566149835372,
          -4.166876445592129,
          -2.8928916080980267,
          -3.4761062590469685,
          -5.517784311182114,
          -3.874789512624635,
          -3.5393086219386305,
          -4.3322729033969845,
          -6.446773380680421,
          -3.8289544866785237,
          -2.862342857621965,
          -1.727673675363901,
          -3.2459536378326073,
          -3.5980149464509665,
          -4.160181121050945,
          -4.188847366313057,
          -0.7773306746087151,
          2.722946540489254,
          -0.46721570705783105,
          2.9689568053018536,
          -0.6959483414913913,
          -0.6088719010860074,
          -0.04417146328185552,
          0.9674633728709466,
          4.221207124109179,
          3.148766865180371,
          1.4644716981437256,
          -0.26350173312274605,
          2.6331042667771554,
          1.6120027036914235,
          3.2971005087796446,
          3.076259092674929,
          2.4766447800761253,
          -0.059684350965717406,
          2.629348010159925,
          3.1196904575312954,
          3.013086188142181,
          1.2434704066810687,
          5.405201550490094,
          1.290695654540052,
          2.178403573985773,
          4.126983781858429,
          2.138840007674108,
          1.2385014393812233,
          3.4630642975577364,
          1.996181958595254,
          4.45607058963925,
          1.3897701111755851,
          2.3331249445529165,
          3.7180772600558845,
          0.32927105319963035,
          1.4369085054410682,
          -0.3679700271897804,
          -0.7967273521705459,
          2.7542827473113887,
          3.3963094022409863,
          -1.748994266147064,
          0.37818816289314633,
          -1.1149803314372349,
          0.8953140610381504,
          0.08231272067577679,
          -3.4914260018402716,
          -0.08394999462570496,
          1.9739887303247259,
          -1.1802109230911277,
          0.6470139004997046,
          0.2586076252868404,
          -1.9897336936482475,
          -1.6962507432101477,
          -2.2731042829872368,
          -0.5547180900500134,
          0.45818511268033213,
          0.2922117380783288,
          -0.359494035938213,
          1.1752009841636026,
          1.2553124164334828,
          1.5426727404593257,
          -0.8178003971757449,
          1.4436592292045642,
          -0.6971257076335152,
          0.40758637628412714,
          -1.786594083657535,
          0.5599589140256698,
          -0.29757941723911,
          0.036844713370690604,
          -1.2213050179096132,
          -1.954415199037963,
          0.15964843052681124,
          -0.47339478863482126,
          -0.4356630153521086,
          -0.3866951819440697,
          -0.47752051053113037,
          0.6949412619860356,
          1.0907987305235949,
          -1.5117116264803991,
          0.40827533213645917,
          0.4404556468742376,
          -1.3541466072828368,
          -0.2008258078467614,
          -2.064857042163793,
          -0.3702323392743507,
          0.4044618147148922,
          -1.350061876604818,
          -0.21367528704195238,
          -0.19629525142125476,
          0.17438295782043686,
          -0.6359711723395217,
          -0.9036211643332455,
          -0.1997280299280688,
          0.701672016201496,
          0.5767937021591,
          0.1161642046420903,
          0.31136052734056435,
          -0.16476038792345518,
          0.824724171870286,
          0.9344848219229165,
          -0.4439942716436837,
          0.17525328585018096,
          -0.8732757023170195,
          -0.16984856215773508,
          -0.2320263844707488,
          -1.1118137005877797,
          0.25087352526464984,
          -0.5683025051525672,
          -2.046036638408872,
          0.43378028917945494,
          -0.4773734016980737,
          -0.5608561208818147,
          0.744433385186869,
          1.2383582910197926,
          -0.6945498717838141,
          1.2817659960139196,
          -0.11669329230079942,
          -1.5466820195745872,
          -0.05099126824924229,
          -0.05659644090429046,
          0.557156979776213,
          -2.8726928415990707,
          -2.7792321117805705,
          -1.902430872079967,
          -3.85365652503315,
          -2.249269957194511,
          -2.5762333101370625,
          -0.24992934807473402,
          -4.702565205740175,
          -1.097243772643716,
          -3.0381121175897325,
          -0.48229447335697945,
          -1.0559528428070264,
          -2.266227065559756,
          -1.1364234982179564,
          -3.225618111568933,
          -3.9359512538642365,
          -1.4415185024905155,
          -2.4306774337991652,
          -1.597361040569066,
          -3.2858107650567807,
          -2.073948741067506,
          -2.970653986248816,
          -3.2306730744814685,
          -1.8273337575803799,
          -3.6699690634545683,
          -0.16650378971339827,
          -4.017086202539805,
          -3.8260711286677576,
          -2.630309036470521,
          -1.443097815726965,
          -5.671287889680183,
          -1.4606718558684635,
          -3.227195551376905,
          -1.9319841646186002,
          -2.7982822457849776,
          -2.3641087160178524,
          -1.9901663866469754,
          -4.199403114862763,
          -3.0375119064142124,
          -3.7978692508461545,
          -2.46987904546039,
          -3.241744077995143,
          -2.3440542155153667,
          -5.033644636971822,
          -2.9270285792106594,
          -2.3845003755858385,
          -4.017802587234596,
          -1.8327712610073503,
          -3.0363086491307993,
          -3.3946687579811163,
          -2.9176239706171008,
          -3.948375901283122,
          -3.2015330462349283,
          -3.3502724103580714,
          -3.0852952992469436,
          -1.3116109003163383,
          -3.438939849276379,
          -3.81159044209206,
          -2.5331857443311105,
          -3.0893636404072793,
          -3.3659297708149802,
          -3.9907021102762323,
          -2.706929196403473,
          -2.5656970866425275,
          -2.521360531174295,
          -3.676515678092042,
          -2.6294543680029765,
          -2.559709390879843,
          -2.1556752412514255,
          -5.658084134430455,
          -1.9547806275564308,
          -3.0933857983690403,
          -4.322780481509911,
          0.7517870832434287,
          -1.9022585098283755,
          -3.3211321869751878,
          -1.9442039228814998,
          -3.88863662027095,
          -4.2714409876854385,
          3.991652614052239,
          6.460403820582839,
          7.625916666564919,
          2.1202557704247535,
          1.0819873268305882,
          6.725982811227438,
          3.1911039639846575,
          2.3673289725810815,
          2.2817077969221553,
          4.1302238973640435,
          2.842613174032105,
          4.393499021209885,
          1.5479954724892537,
          5.599684908253746,
          3.2213782606800514,
          8.209475998121585,
          4.1824801412417925,
          5.493498578148139,
          3.275536974993103,
          3.0182189820066476,
          2.919684627323831,
          3.4104108176112415,
          4.415144491366112,
          4.530849653808792,
          3.480559748014697,
          3.0169722423087224,
          6.5825733051437485,
          3.198485095153072,
          3.463345585158256,
          2.0243228352796523,
          2.111856530716218,
          5.049479930181616,
          2.232296802211295,
          5.38787394374094,
          5.2323601270232345,
          1.6408373480897729,
          2.9482044045717544,
          8.507523367578088,
          2.48170906689107,
          3.0563129277812364,
          0.9910060442445421,
          4.500825811899618,
          1.94103835169654,
          2.291074376583409,
          3.359279688739385,
          1.2846699473396639,
          2.47932168305958,
          3.6116168373595268,
          1.2415464825217604,
          2.1934671527167957,
          2.9041601990713244,
          0.6839837316055329,
          3.396447958727976,
          3.41110045221896,
          4.2280632879786975,
          3.0955847275371293,
          1.8690601422936979,
          3.668526510746058,
          5.7249016008743885,
          2.4297016398893225,
          1.4284550654468064,
          2.6675696924761803,
          2.598435857214416,
          4.408692308574902,
          3.8444525141408934,
          2.29581748969597,
          3.2254416274730624,
          3.6333383068911145,
          2.172436997003027,
          1.6473754045149303,
          4.235415740065424,
          3.013817452272552,
          0.7696051752905948,
          1.2467723919072422,
          3.5053641851015462,
          1.680897804506931,
          1.7006695595322414,
          0.991150718486277,
          3.2950372863089616,
          2.588941064045526,
          2.944590943001284,
          -0.4483631626198072,
          0.6273893236718787,
          -0.15968702640349589,
          0.7067539662773361,
          1.2330039686364163,
          1.8817057068921625,
          1.2268218780795008,
          -0.08187012889389142,
          1.2855168649987474,
          0.1278638932403085,
          0.46165414182704545,
          1.742052561006561,
          -0.08386495623914178,
          0.5589129349918771,
          -0.43135288999981003,
          0.2040510160929634,
          0.7749165142148817,
          0.17692518923456718,
          0.26218299893069835,
          0.06084713043736254,
          0.7212007923486584,
          -0.28482555529751163,
          -1.8532909891087164,
          0.35284542780728945,
          2.4878437728677607,
          0.47535777504757404,
          1.4017251876853876,
          0.43477051125767946,
          0.9898091446465813,
          1.2267032832610472,
          -0.6892118171501705,
          1.0481444739360435,
          0.8643394350372371,
          0.65183047624071,
          -1.4582790230816,
          1.0724454273847213,
          0.9599963287143645,
          -0.6895829104672563,
          -0.253151841057352,
          0.5008205401752687,
          -2.7697308536108602,
          -1.8292238106712426,
          -2.7213935596407186,
          -2.147093051495962,
          -1.4652096094855303,
          -2.1274473056668435,
          -3.463683822194925,
          -2.692141804309126,
          -2.458247236786763,
          -0.8802671645648021,
          -1.1520592453437617,
          -3.6961859269857835,
          -2.307754085567812,
          -2.444155603984307,
          -2.959486923094515,
          -1.4395802426426607,
          -1.1450910194295332,
          -0.3925164470101327,
          -1.140381793532674,
          -0.9302944924141813,
          -1.350060783406257,
          -2.767654780141822,
          -0.687659123956215,
          -1.0322587877153824,
          -3.6820176445934565,
          -2.37565258243078,
          -1.1768551865626613,
          -1.7214625617952657,
          -2.9895788261442524,
          -2.1279932243794866,
          -2.7696533413209488,
          -2.463119988645668,
          -1.0009716037881335,
          -1.906599863966217,
          -1.1118954137436392,
          -0.45088674093316694,
          -3.2395030330086763,
          -0.3232784674143994,
          -1.905714102929854,
          -1.352661822732945,
          -2.42612362505029,
          -0.07712747030557598,
          -2.1563137869876057,
          -2.6171224798919708,
          -0.24377744878576849,
          -1.3859188815069126,
          -1.981468583123324,
          -0.38336958951470357,
          -3.0686075177714374,
          -0.371285055421531,
          -2.7680076359648993,
          -1.4311512560139312,
          -0.8590345826891381,
          -2.6262448682542647,
          -1.6511654174066197,
          -1.0419678847025085,
          -0.9670025835811936,
          -3.1455320784660357,
          -2.3323848477240756,
          -1.9399717221598236,
          -2.365256780851213,
          -2.0669674234127577,
          0.5767200170433086,
          -3.1758676949669638,
          -1.4274088640001659,
          -0.6555260947022427,
          -2.5623815559727356,
          -2.231013761545168,
          -2.300639922459891,
          -1.1367196615855881,
          -1.6736374827479483,
          -1.4651126812715443,
          -1.1961177439780595,
          -3.546952291306942,
          -2.629600786280729,
          -0.28891059870608815,
          -2.2767118827132755,
          -0.9410843967334415,
          -3.2118398464191436,
          3.965094680140472,
          4.986940083239034,
          4.062218593408171,
          3.9067603069240207,
          1.7673932663585967,
          2.6512241801062295,
          2.534937254589684,
          4.060081904960815,
          2.834670466293045,
          7.545761251133531,
          4.241370971375674,
          2.775793550801229,
          3.556246816897311,
          4.043014855533427,
          2.6779789674125767,
          6.35199409393011,
          4.2613064390949305,
          2.8237538843402707,
          3.6792478858863333,
          1.3022193567309954,
          2.14192440275213,
          2.1538067223880266,
          3.774660851133385,
          3.3606368343581683,
          2.9232004931840017,
          3.679262713570613,
          3.3598356838564927,
          3.1675363799947696,
          1.7377186857781597,
          4.398304949498461,
          3.510073139296023,
          1.9134664654691886,
          6.546572580844032,
          7.932787708549059,
          2.5599196348148516,
          1.3753118908093172,
          5.766686077286769,
          2.2506013697243374,
          4.0721417786136636,
          4.155244943363859,
          3.395531151105984,
          4.63419404156344,
          4.008645685379096,
          2.373294645761208,
          4.2958886183307605,
          2.6425350139578607,
          2.4320105137110426,
          3.7639573190866757,
          1.734878260614505,
          2.1685484420105934,
          1.568445485978715,
          5.210368979043548,
          4.122562693371082,
          2.283001874171109,
          4.444593010916553,
          4.185040144799841,
          3.4596613071626847,
          5.6595860400707885,
          4.290001946146984,
          2.1766649696256515,
          2.4890155319697804,
          7.411584931070922,
          2.689965156014907,
          3.631414506485563,
          3.4705255765399854,
          2.628482480133218,
          3.803270821430225,
          2.2399570830674045,
          4.567477463948523,
          4.2074195332954565,
          3.658441305355097,
          2.021190083270008,
          6.662147825977052,
          2.6860075529249956,
          3.349501587289666,
          1.9711475882157419,
          3.540591713605217,
          3.5427948222567958,
          5.427704124781597,
          9.953390477537384,
          -0.5054059042371966,
          -0.2752421512295252,
          0.7409267997888035,
          -2.113054614078554,
          -1.0339690572273594,
          1.0945632523500872,
          -0.48846845734148536,
          -0.33258446860274005,
          0.9498065738868,
          0.11757126396556436,
          1.400074034526194,
          0.404958034503631,
          -0.8277238562828574,
          1.4517471321310143,
          0.731187386425511,
          0.9857612422795513,
          -0.20660961814367163,
          -0.7421626927799223,
          0.8179505408939282,
          -0.5950436295911724,
          1.5564963983994942,
          0.782986289498968,
          -0.056916010671595,
          1.9487835870054622,
          -1.0790106081527617,
          -1.1861821743285117,
          1.305360343659835,
          0.9533399417103195,
          0.7344455727895457,
          0.19292364349231098,
          -0.2456673865866707,
          -0.7234887041805637,
          1.0334851354883356,
          0.6316103721839993,
          0.27840583687028925,
          0.19708834325757973,
          0.1836293182265183,
          0.4519939144788221,
          -0.9289897406025384,
          -0.5891972151187035,
          -1.0647336486210908,
          -2.4833861550829885,
          -2.4028021387887613,
          -2.417112579830289,
          -3.4717890659102837,
          -0.8113683872808056,
          -3.190815288131222,
          -1.290225071450135,
          -3.3244032970339,
          0.847246793465937,
          -1.7946703825323835,
          -1.7036959513295813,
          -1.3969502059912178,
          -2.664524365581887,
          -4.689900832545703,
          -1.5947537756161516,
          -3.0934243393593426,
          -3.007728831217288,
          -3.427211786937421,
          -2.2424192067829134,
          -1.1988349439484374,
          -0.5962511927888824,
          -3.083150764991657,
          -1.2859468270477215,
          -3.139991208009475,
          -1.600550945023315,
          -0.9427731751288403,
          -4.759025327049154,
          -3.042224488296993,
          -2.3912691718218695,
          -1.19501588418183,
          -4.365218704250703,
          -0.9894961826982169,
          -1.957965614960536,
          -5.115349754815578,
          -1.990593437484627,
          -1.4316979638910463,
          -1.0377912660914324,
          -0.9572082205579413,
          -2.085519456253283,
          -2.1106301743094056,
          -1.1208588196160802,
          -2.2876919925508234,
          -2.596081967123511,
          -3.5938202522375384,
          -1.8984541827615107,
          -3.3620844679003383,
          -2.0455415828034145,
          -0.5272972437260711,
          -1.0534421578632174,
          -2.3489138765457236,
          -3.099353356659599,
          -2.192148417299129,
          -3.10761561484738,
          -1.070765097872215,
          -2.2419199485741292,
          -1.5166107840088194,
          -0.01716446627525294,
          -2.6870366419509715,
          -1.1314023181000663,
          -2.3920331250572873,
          -1.4148128276536316,
          -0.9662523499819595,
          -4.102834542773339,
          -0.23787040720191482,
          -1.5501353665634532,
          1.421870676382112,
          -0.8283778593780764,
          -0.7372705008546272,
          -1.8161579928581906,
          -1.3832502953462507,
          -2.147098355308624,
          0.4795461433605747,
          -3.104909744118229,
          -2.406676988758684,
          -2.374205280745761,
          -2.1884374164229086,
          -0.5024316770621798,
          -1.1581936944970037,
          -1.6511205015678303,
          2.0644659113161365,
          4.141935948703659,
          3.841083816726266,
          4.1558732346212786,
          3.205177095237612,
          6.315782630697742,
          2.2504777820448405,
          2.35390620920082,
          2.2462389875479465,
          5.548476554002291,
          1.9341384228944112,
          5.10748971747455,
          3.272942843356867,
          3.3638309243526283,
          3.8083417711105056,
          4.740694408489597,
          4.64496245972691,
          5.391275320108998,
          5.175456569024523,
          2.5310463932751226,
          3.6984147138199726,
          2.2244990884937437,
          2.4369856467842044,
          5.819839377003454,
          6.159023936294193,
          7.043392862900512,
          4.54854167825566,
          6.049304118760476,
          3.7056237588084486,
          3.4638673330649947,
          6.064291301632539,
          6.345258743718505,
          6.054830871474837,
          3.9429535986473323,
          -0.3347575305233746,
          5.303628617463632,
          2.9255230212144174,
          4.200406403586701,
          5.222006600521885,
          5.311522052258484,
          1.5814878583128702,
          4.419847517141971,
          1.945328852360827,
          3.1932653211885893,
          0.6182878886747657,
          2.522706895994962,
          2.329694869024937,
          3.3819932750527752,
          3.1314267199951917,
          2.1408726302679204,
          1.447542224648502,
          2.713865471686929,
          2.6814976888424877,
          3.2706640520876684,
          2.761726169693678,
          3.081223951895109,
          0.9895697560369203,
          3.8208055773437093,
          2.2338022719370887,
          1.9521218205535256,
          2.8238747028616893,
          4.516869839256133,
          0.9084319539283978,
          2.9778881789897627,
          2.0171633859984612,
          3.594127484129934,
          1.6330603235148253,
          0.10121952168769163,
          2.8053953889281433,
          2.963786847303921,
          3.383068067470454,
          1.3215710363767805,
          3.0008944191167806,
          1.6988058599960012,
          3.1149461202545923,
          2.434363623512103,
          3.0550999594907666,
          1.3394290976777097,
          2.2261493404397754,
          2.8838957780845904,
          1.9432986752500307,
          -0.22457353853316298,
          -0.7907433129646024,
          -1.0443874023743522,
          0.006587198304725471,
          -0.4574441002631276,
          -0.16724806005271364,
          0.5650135671545081,
          0.7067478328817475,
          -0.5263075736651326,
          -0.17439058892088263,
          -1.5373011487664878,
          0.5361777270764363,
          0.2171639841050748,
          1.2900102289621114,
          0.0021554397525526173,
          0.011999617717115609,
          0.4379422179692797,
          1.6611444786336655,
          -0.6505362680842167,
          0.36688995441326844,
          0.3033093930536564,
          0.09039344178349118,
          -0.9921610357622056,
          -0.7134621437425458,
          0.6240248883772265,
          0.5919713443138483,
          1.5562506589951555,
          1.6151393774281289,
          0.7055981426038961,
          0.35927999074623057,
          -0.3317090477137151,
          0.5397689750952941,
          0.6783281144550302,
          -0.5730847321089635,
          -0.7597079988637508,
          -0.6582895549016445,
          -0.02055350940639768,
          0.32958951923612156,
          0.6872353761225901,
          -0.35418091886833364,
          -3.2775384421946927,
          -1.5418418594475982,
          -1.6613474875008158,
          -4.004003670000728,
          -1.9288297384491337,
          -4.5809073631231225,
          -2.2715701278500133,
          -3.216753696125366,
          -1.6550202615201828,
          -2.9083771458011296,
          -2.2471282332936946,
          -1.4333906246907757,
          -4.3449604975006935,
          -3.0129242871415323,
          -3.6113552809452516,
          -3.5906526028829253,
          -2.623643753201503,
          -2.5843423473814244,
          -1.0428504511688133,
          -1.0479567491797848,
          -2.5262352637958423,
          -1.6007679071036744,
          -1.2349475847121303,
          -3.894778772397619,
          -1.5817824961091662,
          -2.3569310227308375,
          -3.0725839567165867,
          -3.9532277393750577,
          -1.70911374355118,
          -1.8162368788977719,
          -4.282456236532098,
          -1.8281854748715813,
          -3.9710373816796243,
          -3.919032402984372,
          -2.165501635682657,
          -1.7272720449214043,
          -2.0562717197318627,
          -0.629354044243572,
          -2.593081360630718,
          -3.1711492465138567,
          -1.5880677807577734,
          -2.577700448070006,
          -2.85601391274434,
          -4.650664004006758,
          -2.172364303669376,
          -4.20593759055376,
          -2.7328047779293123,
          -2.3391918921129142,
          -1.64420687971503,
          -3.662214414996193,
          -3.44914464644156,
          -3.196915933044153,
          -2.921746075047007,
          -2.5552366348230784,
          -2.382427600953461,
          -1.3359085581544539,
          -1.723724048921231,
          -1.4346363882873696,
          -1.6848024389936895,
          -0.8071456284335432,
          -2.3986831613063244,
          -3.0096817775746,
          -1.7573556047805359,
          -1.1292655430721081,
          -0.24386326396717645,
          -1.8282022850837907,
          -3.3254584956736037,
          -4.185175362149978,
          -4.1147754308320605,
          -2.274552304442133,
          -3.6951435621298403,
          -1.913321962071093,
          -3.005846195524381,
          -1.7852330329055883,
          -4.769815446412713,
          -1.9419022524246434,
          -3.9158449200729875,
          -2.289470938874011,
          -4.557345093695652,
          3.7033129828095843,
          4.699827081866828,
          3.4411682638134686,
          1.0346228222613332,
          3.729290298174149,
          3.217899792263263,
          1.374065080556257,
          3.304446979713555,
          3.2795175123839404,
          4.8298228513240575,
          4.338805453908182,
          2.8349217997616742,
          2.500650157446084,
          5.38698982428561,
          2.1469707189299623,
          3.9417483619769986,
          3.3088688403598208,
          1.4008134976276672,
          0.9415382537938302,
          4.969034002096846,
          2.2409123413068337,
          3.078918032141072,
          0.48373585517440565,
          5.204017527682414,
          1.033306483380534,
          3.25008036800234,
          4.614696385560964,
          3.3966388040819666,
          1.0263411103720625,
          2.978096010010002,
          7.596667020393731,
          6.909635920634135,
          2.6800586066973433,
          0.749731210429624,
          2.168200156169582,
          1.640529307057793,
          6.385538464776881,
          2.5157832058043392,
          4.771790189383114,
          4.206817193508574,
          0.021373975026127735,
          5.503422068734201,
          3.4185415884638224,
          3.273733598993163,
          1.9372096968671002,
          3.5674500163737886,
          1.8979210256694639,
          3.478412466331379,
          2.935208299650884,
          0.7918972974486863,
          5.359966003773253,
          2.016712517132878,
          3.3380479719003513,
          5.217604432366249,
          1.0979987623578813,
          3.6291069729802605,
          1.9249754283981286,
          1.8476129964705699,
          3.039365599830334,
          3.3511100089746457,
          2.2386572650712417,
          3.3485195251907163,
          0.012019998318959196,
          3.275267075609018,
          2.112203049582542,
          3.835132117929544,
          5.081914487125087,
          4.107306280975697,
          2.2207760756070996,
          1.171741975844067,
          5.48865987809769,
          2.2761181366270407,
          4.676200126104012,
          2.2715452114112336,
          3.0684573542536877,
          -3.414132925609358,
          1.530948585366929,
          2.581694925377952,
          3.5316784331966473,
          5.450794155933815,
          -0.06512800436410447,
          -1.3860002934552293,
          -1.3336614170243812,
          -2.0690354195482437,
          -0.5276991432140735,
          0.16518000971462304,
          -1.1355245323243932,
          -0.27476274727258804,
          -0.23335694510088253,
          -0.44166493872078527,
          -0.20539585796181234,
          -1.7323592718460206,
          -1.2043697822854598,
          0.00841693481424712,
          -0.8546797011631704,
          -1.3029438244501406,
          -1.4894422765339754,
          0.3725307142657682,
          0.2499538432537957,
          -2.2116523669953927,
          -0.6644807374111638,
          0.4787133445237898,
          0.4415752484504027,
          -0.8357158555878553,
          -2.3941623518278896,
          1.3544198374883007,
          -0.3396884207245674,
          -0.7886111540803679,
          -1.1103304573800263,
          -0.9324725113877536,
          -0.807157994705334,
          0.7090748206228206,
          0.21094356106189044,
          -0.1185417231827162,
          -1.0530304075122339,
          -1.0610587832567777,
          -0.32934786022467616,
          -2.476888385982678,
          -0.8238341224926828,
          -0.18845214590597634,
          -2.0695140133122574,
          -3.0347234205186653,
          -2.3959616071842182,
          -2.475389161937535,
          -3.0028286058667417,
          -3.450002649877793,
          -3.3721759298036442,
          -3.1348757832488987,
          -2.9263201486800314,
          -2.4920499763573356,
          -2.6467023588928713,
          -2.911511989972287,
          -2.2287609583403163,
          -2.1866485565189757,
          -2.624451365289411,
          -1.8883471676709207,
          -3.939239433924163,
          -3.829868349055767,
          -2.6064210311751945,
          -3.409909330425847,
          -1.7872705033805183,
          -1.8533298555427142,
          -1.9348350882899794,
          -2.6367489290123887,
          -2.1447648232625993,
          -3.68033331091068,
          -1.6443965912835765,
          -1.2187980144960489,
          -4.8600772663503875,
          -2.929282834869315,
          -3.642934178912229,
          -1.760902536678026,
          -5.393821776648022,
          -2.2961026724675446,
          -3.479932945389693,
          -3.429252611180608,
          -3.9217903934769556,
          -2.057600653400679,
          -2.9925335115968115,
          -2.318919994498157,
          -4.320097594813938,
          -4.182987355044746,
          -4.106811569721783,
          -3.968674522910017,
          -5.615984197837158,
          -2.6632215096558185,
          -3.6052782058077333,
          -4.687567951573909,
          -5.775338001446298,
          -3.3421464435106047,
          -4.220296365874945,
          -2.5900449736571782,
          -2.52264104634652,
          -3.0251439253568755,
          -3.663721285714207,
          -2.6545661864604324,
          -3.1152944662913344,
          -2.4383563114118956,
          -3.6776478085678486,
          -3.5455156622667228,
          -0.08998552678398808,
          -2.877114754801692,
          -3.974899470674121,
          -2.570199708316407,
          -3.932228695670821,
          -2.3220507393491236,
          -3.491051501418513,
          -1.62166528233529,
          -6.3012675318349975,
          -3.505644412516937,
          -3.8517228472218004,
          -3.6546918512677204,
          -4.6753399441562955,
          -4.711712129058489,
          -3.7160506604131034,
          -3.541270980439555,
          -4.2212898159898335,
          -3.1396553702273615,
          -3.909871193962808,
          -2.44166807995842,
          0.6740378158969934,
          2.1757062853015703,
          1.5075226430798037,
          0.18169994456951738,
          1.0421370720246668,
          0.06082479450257189,
          -0.6861128433600542,
          2.060438467031818,
          0.38841256451296224,
          1.891205006988329,
          -0.12323123813205401,
          1.8109247914549287,
          2.7914499331054627,
          2.2673097796800987,
          2.229239654030621,
          0.7275241895488033,
          0.6782651955678394,
          0.5675002999309864,
          0.4943507574484366,
          4.921997157034354,
          0.9048008521710513,
          0.42213167466628176,
          1.799446207117586,
          1.2301139079181787,
          2.7810656465040875,
          2.8474185118234985,
          1.1760036341723663,
          1.5378982346187864,
          1.942505375122972,
          3.4010025422061982,
          -0.09633152493005252,
          0.4247091850783479,
          1.1206887108460382,
          1.6329745203831478,
          4.159036660440816,
          1.219761223147018,
          -0.14375543863522974,
          2.062855846671771,
          5.187138928223832,
          2.254306776730112,
          1.3858320961318658,
          2.6578891027121796,
          2.329660066585869,
          0.15108955707565375,
          0.3794585236104691,
          1.4432676062052896,
          0.8910073839853252,
          1.4519348849551812,
          -0.43462344350651927,
          1.2671744432183678,
          0.2803874430318193,
          -0.32359068684025927,
          0.5601622691979318,
          1.5034972721895672,
          2.761520976658846,
          1.6670494091969017,
          2.4094100033123915,
          2.489952756899077,
          5.891547168778393,
          -1.6890416109059694,
          1.106354783332179,
          0.26529703642143126,
          2.882669578421992,
          0.1417835204984737,
          1.7937579409480127,
          1.6474606451945566,
          1.134781925489408,
          0.24427630750705176,
          1.3735456800410621,
          -0.0892404425508376,
          0.7749614197295751,
          1.8596566052061774,
          1.3038757229081446,
          1.2094795419727054,
          -0.3244093845029195,
          3.2689350963882893,
          -1.713865826480783,
          2.186305599841629,
          0.35976227194151045,
          2.150942099405026,
          -1.9742459371637724,
          -2.134015501763357,
          -0.09854608464465027,
          -3.8609888943355357,
          -1.130028920935126,
          0.5788386503250388,
          -0.5622179968787672,
          2.6160205052200025,
          0.5471640329226718,
          -1.2742331357283865,
          -2.168894668977058,
          0.028579613084022806,
          -0.2897910537907579,
          -1.5414372896847925,
          0.9217962073804096,
          -0.4486156800596549,
          -1.527822287978218,
          -1.5500408190757897,
          -0.8488102105413122,
          -0.5343137990495336,
          -2.875293201842296,
          -1.0078157096667673,
          0.41652329405894883,
          0.20477197255525165,
          -0.09366803443961583,
          -1.1137296345660073,
          0.2560016745879355,
          -0.27395229955018024,
          0.3737557352096873,
          -1.739571512992311,
          -0.034301740995945094,
          0.14878256314772967,
          0.7132912150514424,
          -0.17762548298960545,
          -0.5262463783881599,
          -1.3298882298731949,
          1.4074682786201498,
          0.19349842102410952,
          -0.5513153720385503,
          -0.8218123211815587,
          -1.79678740277334,
          -3.3476900642576477,
          -3.518790859753279,
          -0.8575169145386137,
          -3.638424739491871,
          -1.5717539420458324,
          -2.1488191188057204,
          -2.658830695503545,
          -3.0116509445232436,
          -2.23073268818496,
          -1.725372794029201,
          -1.3648747063526694,
          -2.1442160700438073,
          -4.319732051746671,
          -1.5841197432927365,
          -1.7244607767584716,
          -1.3295850205856203,
          -4.394194419855032,
          -1.088872135358771,
          -1.9496727203583442,
          -2.961431456706624,
          -2.608263708154994,
          -1.1524991300996323,
          -3.1347163725377873,
          -1.3911955911876137,
          -2.210375078594003,
          -4.086589090358604,
          -3.747652788658084,
          -2.2041286153436888,
          -2.00087725412383,
          -4.495689253411237,
          -2.4863764869182687,
          -4.483154426659925,
          -1.1338437700422423,
          -4.701032895806021,
          -1.494361185359741,
          -2.87779142962588,
          -1.004682509526958,
          -1.520242439897177,
          -4.80814390725097,
          -2.52280245811037,
          -3.3503074149717063,
          -2.5253380716617237,
          -1.823076303433771,
          -3.910442100681201,
          -3.4081358280969303,
          -2.8236841343966588,
          -1.8144483717886262,
          -4.156315173237389,
          -2.577407050678112,
          -2.486769104291898,
          -2.5903434204502758,
          -1.6140268550247863,
          -4.64917311667202,
          -2.3786030542385004,
          -1.9743941354651426,
          -1.3826331026287149,
          -1.0675921569843858,
          -2.262090279199131,
          -1.904988772843822,
          -3.310621542663533,
          -3.807357313515144,
          -3.088725885383532,
          -1.9603119778866653,
          -3.9540065007878944,
          -0.5251338755865919,
          -3.5084849701844236,
          -1.931170785672177,
          -4.877771545906593,
          -2.7258885392728005,
          -2.513768686884629,
          -2.312716164371006,
          -3.7229277183499656,
          -5.114717355105222,
          -2.0478075918130214,
          -4.0380835887505775,
          -1.0194948561112727,
          -2.8216768370405094,
          -2.236610296776108,
          -3.1469461303865276,
          5.017670301810381,
          2.347950684005289,
          0.3498733702255618,
          0.9516921282486314,
          1.9327535643623313,
          1.0031952769530725,
          1.196832256433122,
          0.6640483548016083,
          2.113047684515374,
          1.1011435998703965,
          1.7048528043612332,
          1.8649034867476861,
          0.6218817058235102,
          2.4141591281603216,
          3.669069656477542,
          2.138243727761444,
          1.9983343104535343,
          3.231006391448823,
          2.0625332721407728,
          1.984668773534543,
          2.6212071680746876,
          5.305527725791527,
          2.7660293804072738,
          3.3291212097216154,
          4.02308696683436,
          0.13381774093598897,
          3.9474584797542285,
          4.089808149244188,
          2.213857821360779,
          2.851252683359207,
          0.9185902991402741,
          2.545052663867991,
          2.3180343619360713,
          3.234839813699312,
          0.4384622129378931,
          2.4962213088576384,
          0.9184483905638674,
          1.4944488853316342,
          1.106775462247443,
          1.9015397563414735,
          3.262323229197455,
          2.4303408317814448,
          1.7594260790904441,
          2.062244091703541,
          0.40807598585326094,
          2.4839091349133104,
          3.131686178101059,
          3.2420522288989146,
          -0.3247612228518346,
          2.8385706215011277,
          1.338566034448401,
          1.3979688632146152,
          0.2815058242793695,
          2.373813753304309,
          0.45685350206964914,
          3.4821636960776328,
          2.0773787154961854,
          2.545936448125584,
          1.1675270439792762,
          1.0017440963045627,
          2.3920179882349153,
          1.4813487691819185,
          3.2598744658921226,
          2.692811982105016,
          0.6416759022489975,
          1.8168679016637168,
          2.4268996274107266,
          2.8734039207548956,
          0.49487531080358693,
          2.7298774979826415,
          1.414657896514758,
          1.2452534620726752,
          1.2436736337685121,
          3.160122972914725,
          4.388675234013224,
          2.719111632338992,
          1.742817602149595,
          4.317415510320627,
          1.5292928456971278,
          5.070052954847037,
          -0.2580497167516026,
          -0.5594476899189536,
          -1.33928352106,
          -0.5913978745882853,
          -0.6251311373289964,
          -1.0905840427360156,
          -0.6729448616494413,
          -0.5202049785660939,
          0.024086325230822568,
          -0.9154727060155673,
          -1.38741942149487,
          0.1945413726805453,
          0.005674205630642076,
          1.0207667870401238,
          -1.312636554703746,
          0.21790931577549458,
          -1.280616704916057,
          0.20276045843793206,
          -0.6503693019376393,
          -1.1790769979504072,
          1.4080031939580508,
          -0.33913211711409,
          0.6330072228750355,
          -0.6375136571749083,
          -0.5093193722048565,
          -0.8964986141070208,
          0.8104775737024628,
          -1.367324311774904,
          0.6918554516910814,
          0.669027320746204,
          -2.3140679315771098,
          0.5506335090924539,
          -0.03190952772732048,
          1.6685681646892927,
          1.6074229612149367,
          -0.40098546116736505,
          1.0325834341984688,
          -1.650710347339832,
          0.7136424035548249,
          -0.825265046332313,
          0.1716410377506142,
          -3.6739437372010695,
          -2.1675325057209904,
          -3.14173023205728,
          -2.7057656056426604,
          -3.0016022268671003,
          -1.6688220125588582,
          -4.649041661035692,
          -0.6905929528527851,
          -2.748705000786064,
          -2.942542202066402,
          -0.4592490519621078,
          -3.152144653417074,
          -2.4299002360458153,
          -1.2103479541853988,
          -2.7175546461214517,
          -1.6451797929255279,
          -3.325616489941318,
          -1.3473074640637526,
          -1.9709096141084195,
          -1.5068836586880188,
          -2.8994099770450354,
          -3.6046658152224045,
          -2.3216409731870264,
          -3.791561817837522,
          -2.136418072581615,
          -3.810135931319643,
          -3.2363614278350172,
          -1.7560508245208037,
          -3.7445398763204576,
          -1.6555307536943222,
          -3.0154896684496135,
          -2.998505839740498,
          -0.38416330765075923,
          -2.969675877644521,
          -0.6047592211651985,
          -1.6697103629147396,
          -4.196597130346535,
          -1.3972500825235283,
          -3.3839552007678724,
          -3.1004739318632444,
          -2.447646901611965,
          -3.859702446441509,
          -1.773683165490592,
          -4.825041183296371,
          -2.8112430438583007,
          -4.075828450084947,
          -3.4122012804557764,
          -0.8963701933093218,
          -3.227872150260159,
          -4.44491365114906,
          -4.294709620298597,
          -2.693597862220738,
          -2.094362334654905,
          -4.411034103393791,
          -4.509719163216117,
          -3.1066525215716343,
          -2.5461253919946696,
          -4.667153223046704,
          -2.756653633152036,
          -1.3408002038903966,
          -4.788850431753333,
          -1.7141779672705897,
          -2.4363076595722695,
          -3.195101119438191,
          -2.204395577086009,
          -5.5380213390274085,
          -3.7165355252591805,
          -3.830401492794239,
          -0.371888528221467,
          -3.1622810354420623,
          -3.8423377319950602,
          -4.170863074269957,
          -5.453397017653548,
          -4.485095947781718,
          -1.2856046054051,
          -3.6566264473364134,
          -4.172782905100345,
          -2.56367138614898,
          -1.5950388242696745,
          6.04190849428739,
          3.5114967320639123,
          4.796933083800547,
          3.3383679248956257,
          2.8066102446763566,
          2.283861585742263,
          5.269516225223367,
          4.047310621898164,
          2.600601900335031,
          1.9329795769896352,
          2.3508460140261547,
          4.0786320848043225,
          3.8152727583888604,
          2.6968401731039537,
          2.8135685167035334,
          5.10564523072573,
          6.32336827061579,
          4.522160353424076,
          3.695946589777573,
          3.0731108446462496,
          2.647582920122978,
          2.2669263261041905,
          0.5500040039287442,
          5.16816273790468,
          7.55469925978937,
          2.9100664917868797,
          3.167308334416576,
          1.8277542633472426,
          6.237290840829848,
          2.7158760229767585,
          2.9936967362045213,
          3.7919705854060015,
          5.16209947678791,
          2.276832618372087,
          3.8250179315075905,
          1.2975090718133886,
          6.1970005099578716,
          2.611710613606445,
          2.8437181114937893,
          3.4882351338878124,
          2.981612910027561,
          2.528605454587205,
          2.9625738081987167,
          1.5264012622267782,
          2.3658610451164757,
          2.6415965272332733,
          1.0000080638829247,
          -0.965925569095943,
          2.91759756238571,
          5.238699275485425,
          2.401534675540115,
          1.4518884497350266,
          2.0902879915302877,
          -0.017383556898779233,
          3.1597566340114382,
          2.7416630666247124,
          2.3900176918700216,
          3.615061848848174,
          3.8666040622203837,
          2.4557260035085995,
          2.282286541161081,
          3.6143003874343558,
          3.711412468453383,
          0.8600915402637072,
          1.473221061940957,
          -0.5747817541089271,
          0.730134131429175,
          1.815713182052117,
          2.2292608479190084,
          4.404889216291946,
          -0.03890577014798572,
          2.4497755739661824,
          2.604145271047221,
          2.4717487736216572,
          4.812881697124598,
          3.162437358343305,
          0.9221280186232973,
          3.579625511612383,
          0.8538142839261625,
          2.950145732596827,
          -0.4250463022004994,
          -0.5489135092575719,
          -1.626206338974023,
          -1.9038869876832238,
          0.325056233358666,
          -0.9830483323821243,
          -1.1488417725317333,
          -0.7359484643519449,
          0.3027835765164532,
          -0.10326571685752632,
          -1.281840346045716,
          -1.3054967808786058,
          0.25958238071912504,
          -0.5144289020964402,
          -0.08959335270462382,
          -2.4723732593969103,
          -0.38528551872368283,
          -2.7923385532544467,
          -0.07746953885658373,
          0.6773813761086334,
          -1.6105084705877404,
          0.6942638175842077,
          -2.3264695474809844,
          0.939513264422999,
          -1.7454438802412986,
          -1.2275663263705214,
          -0.5086127657745916,
          -0.2435501293561195,
          -0.6474728255337812,
          -0.7528528849609885,
          -0.7870404669909036,
          1.4301934918810937,
          0.35975929438539017,
          0.9592723138326704,
          0.11853373780907579,
          -0.33979858372949984,
          0.17848788687965159,
          -1.0995825773295662,
          -2.560311502439836,
          -1.6593090444584373,
          -3.1446603906820485,
          -5.564536789746397,
          -2.8462276302278116,
          -1.8190946286737566,
          -5.857801919722794,
          -4.542772809890989,
          -2.536092631649939,
          -2.098612264687983,
          -4.206348550905678,
          -1.4033258031364912,
          -4.584838811293153,
          -2.3381575041172056,
          -2.043809276500754,
          -4.763126122659406,
          -2.7592698921287413,
          -3.309575943506576,
          -3.8340543342458937,
          -3.3992603140772375,
          -3.671178468013127,
          -2.9710862687968875,
          -3.3469437929919934,
          -1.1630058889798314,
          -2.5159915958385293,
          -2.1928549183779737,
          -3.717614904202867,
          -2.9317805622382678,
          -2.5778553560332216,
          -5.906201376097067,
          -4.002729225512229,
          -2.32195137901641,
          -2.711311233767321,
          -3.3529482270993216,
          -3.8640367873494506,
          -5.126799904072098,
          -4.862808123142761,
          -3.3589274069941335,
          -3.85375249228818,
          -1.8280453024322794,
          -2.849738894938596,
          -1.908419440592908,
          -3.0853278181815793,
          -4.350613627367623,
          -3.071661515822173,
          -1.5163402434963638,
          -4.364911775959025,
          -3.360274954392873,
          -4.0740867406627554,
          -3.1305925822882115,
          -3.2696270740049753,
          -3.0340986740089613,
          -3.5534623467895936,
          -4.11976610361511,
          -2.687038227605918,
          -2.696019774676558,
          -3.4908092633537717,
          -4.947760678595875,
          -2.4459240180345883,
          -4.584478602347811,
          -1.906842887872024,
          -2.5474678529753705,
          -4.722992275465043,
          -2.1610165012402334,
          -4.319697119063089,
          -4.025263216366096,
          -3.9235653104777244,
          -1.499062542486771,
          -5.584150838977488,
          -4.137586040154669,
          -2.947341275719052,
          -3.903204261056296,
          -3.744262325540918,
          -3.5015656235206647,
          -4.723265612988274,
          -2.7226941551095414,
          -5.593616429722556,
          -5.74383853796363,
          -4.285951167741887,
          -3.9829956370877793,
          -3.547942008870732,
          -4.812261803700511,
          -0.3752012499568853,
          0.9823161177578515,
          -2.119996491567031,
          0.6280419084250989,
          2.6476292088076514,
          1.0730479581927437,
          -0.6794982175823744,
          0.2429375711080128,
          1.348035970358042,
          1.1429237446351574,
          0.22393776304157634,
          5.1151960707425275,
          -0.029248714526405678,
          0.9705709858454784,
          0.9469699113576121,
          1.828942511131124,
          1.458660347601569,
          2.602628911295448,
          0.1584767259068593,
          0.3490423013534268,
          2.3822736887378397,
          1.9894441788634993,
          -0.4523126436369431,
          0.3210358200225288,
          1.1861048697135763,
          0.8339414888173085,
          -0.9950467023690385,
          1.4429160117385458,
          0.6251017305987261,
          2.3504500458138464,
          -0.30043416508253173,
          0.6772824662964222,
          -2.096700326168984,
          1.6625166001562983,
          -0.8745103452888656,
          1.3981637295606968,
          0.6735481995627649,
          0.7370523390960255,
          -0.14365362693236627,
          -0.6224159637687094,
          1.3466405201665397,
          2.7320336540939243,
          1.528616492922842,
          1.2746027531865127,
          2.6808360935596536,
          2.3669342785048295,
          0.5757020717276103,
          2.594054687922969,
          3.099971770464849,
          0.05016603454307382,
          1.6008735740686935,
          2.071458893791792,
          0.5450789494827925,
          1.1458582997050148,
          2.8076297719043484,
          2.2130498845322184,
          2.8828479241605836,
          2.0339280998040214,
          3.1831980761773884,
          2.3503237844776943,
          2.008476676981771,
          -2.1098528468841757,
          1.8037050060152633,
          0.9944490385280346,
          4.613402404331701,
          1.408261308219321,
          0.8582330677893847,
          4.317948108447802,
          2.1212330430389015,
          1.8751733684924567,
          2.533874741043192,
          0.22868804713200366,
          2.132953109705688,
          1.6341898107860582,
          2.223358612800831,
          0.7988902441482252,
          2.74054413746142,
          2.5896434837535844,
          3.727156604744648,
          2.0399401923750564
         ]
        },
        {
         "line": {
          "color": "black"
         },
         "mode": "lines",
         "name": "Decision Boundary",
         "type": "scatter",
         "x": [
          -15.177191098770562,
          -15.157191098770562,
          -15.137191098770563,
          -15.117191098770563,
          -15.097191098770564,
          -15.077191098770564,
          -15.057191098770565,
          -15.037191098770565,
          -15.017191098770565,
          -14.997191098770566,
          -14.977191098770566,
          -14.957191098770567,
          -14.937191098770567,
          -14.917191098770568,
          -14.897191098770568,
          -14.877191098770568,
          -14.857191098770569,
          -14.83719109877057,
          -14.81719109877057,
          -14.79719109877057,
          -14.77719109877057,
          -14.757191098770571,
          -14.737191098770571,
          -14.717191098770572,
          -14.697191098770572,
          -14.677191098770573,
          -14.657191098770573,
          -14.637191098770574,
          -14.617191098770574,
          -14.597191098770574,
          -14.577191098770575,
          -14.557191098770575,
          -14.537191098770576,
          -14.517191098770576,
          -14.497191098770577,
          -14.477191098770577,
          -14.457191098770577,
          -14.437191098770578,
          -14.417191098770578,
          -14.397191098770579,
          -14.377191098770579,
          -14.35719109877058,
          -14.33719109877058,
          -14.31719109877058,
          -14.29719109877058,
          -14.277191098770581,
          -14.257191098770582,
          -14.237191098770582,
          -14.217191098770583,
          -14.197191098770583,
          -14.177191098770583,
          -14.157191098770584,
          -14.137191098770584,
          -14.117191098770585,
          -14.097191098770585,
          -14.077191098770585,
          -14.057191098770586,
          -14.037191098770586,
          -14.017191098770587,
          -13.997191098770587,
          -13.977191098770588,
          -13.957191098770588,
          -13.937191098770588,
          -13.917191098770589,
          -13.89719109877059,
          -13.87719109877059,
          -13.85719109877059,
          -13.83719109877059,
          -13.817191098770591,
          -13.797191098770591,
          -13.777191098770592,
          -13.757191098770592,
          -13.737191098770593,
          -13.717191098770593,
          -13.697191098770594,
          -13.677191098770594,
          -13.657191098770594,
          -13.637191098770595,
          -13.617191098770595,
          -13.597191098770596,
          -13.577191098770596,
          -13.557191098770597,
          -13.537191098770597,
          -13.517191098770597,
          -13.497191098770598,
          -13.477191098770598,
          -13.457191098770599,
          -13.4371910987706,
          -13.4171910987706,
          -13.3971910987706,
          -13.3771910987706,
          -13.3571910987706,
          -13.337191098770601,
          -13.317191098770602,
          -13.297191098770602,
          -13.277191098770603,
          -13.257191098770603,
          -13.237191098770603,
          -13.217191098770604,
          -13.197191098770604,
          -13.177191098770605,
          -13.157191098770605,
          -13.137191098770606,
          -13.117191098770606,
          -13.097191098770606,
          -13.077191098770607,
          -13.057191098770607,
          -13.037191098770608,
          -13.017191098770608,
          -12.997191098770609,
          -12.977191098770609,
          -12.95719109877061,
          -12.93719109877061,
          -12.91719109877061,
          -12.89719109877061,
          -12.877191098770611,
          -12.857191098770612,
          -12.837191098770612,
          -12.817191098770612,
          -12.797191098770613,
          -12.777191098770613,
          -12.757191098770614,
          -12.737191098770614,
          -12.717191098770614,
          -12.697191098770615,
          -12.677191098770615,
          -12.657191098770616,
          -12.637191098770616,
          -12.617191098770617,
          -12.597191098770617,
          -12.577191098770617,
          -12.557191098770618,
          -12.537191098770618,
          -12.517191098770619,
          -12.49719109877062,
          -12.47719109877062,
          -12.45719109877062,
          -12.43719109877062,
          -12.41719109877062,
          -12.397191098770621,
          -12.377191098770622,
          -12.357191098770622,
          -12.337191098770623,
          -12.317191098770623,
          -12.297191098770623,
          -12.277191098770624,
          -12.257191098770624,
          -12.237191098770625,
          -12.217191098770625,
          -12.197191098770626,
          -12.177191098770626,
          -12.157191098770626,
          -12.137191098770627,
          -12.117191098770627,
          -12.097191098770628,
          -12.077191098770628,
          -12.057191098770629,
          -12.037191098770629,
          -12.01719109877063,
          -11.99719109877063,
          -11.97719109877063,
          -11.95719109877063,
          -11.937191098770631,
          -11.917191098770632,
          -11.897191098770632,
          -11.877191098770632,
          -11.857191098770633,
          -11.837191098770633,
          -11.817191098770634,
          -11.797191098770634,
          -11.777191098770635,
          -11.757191098770635,
          -11.737191098770635,
          -11.717191098770636,
          -11.697191098770636,
          -11.677191098770637,
          -11.657191098770637,
          -11.637191098770638,
          -11.617191098770638,
          -11.597191098770638,
          -11.577191098770639,
          -11.55719109877064,
          -11.53719109877064,
          -11.51719109877064,
          -11.49719109877064,
          -11.477191098770641,
          -11.457191098770641,
          -11.437191098770642,
          -11.417191098770642,
          -11.397191098770643,
          -11.377191098770643,
          -11.357191098770643,
          -11.337191098770644,
          -11.317191098770644,
          -11.297191098770645,
          -11.277191098770645,
          -11.257191098770646,
          -11.237191098770646,
          -11.217191098770646,
          -11.197191098770647,
          -11.177191098770647,
          -11.157191098770648,
          -11.137191098770648,
          -11.117191098770649,
          -11.097191098770649,
          -11.07719109877065,
          -11.05719109877065,
          -11.03719109877065,
          -11.01719109877065,
          -10.997191098770651,
          -10.977191098770652,
          -10.957191098770652,
          -10.937191098770652,
          -10.917191098770653,
          -10.897191098770653,
          -10.877191098770654,
          -10.857191098770654,
          -10.837191098770655,
          -10.817191098770655,
          -10.797191098770655,
          -10.777191098770656,
          -10.757191098770656,
          -10.737191098770657,
          -10.717191098770657,
          -10.697191098770658,
          -10.677191098770658,
          -10.657191098770658,
          -10.637191098770659,
          -10.61719109877066,
          -10.59719109877066,
          -10.57719109877066,
          -10.55719109877066,
          -10.537191098770661,
          -10.517191098770661,
          -10.497191098770662,
          -10.477191098770662,
          -10.457191098770663,
          -10.437191098770663,
          -10.417191098770664,
          -10.397191098770664,
          -10.377191098770664,
          -10.357191098770665,
          -10.337191098770665,
          -10.317191098770666,
          -10.297191098770666,
          -10.277191098770666,
          -10.257191098770667,
          -10.237191098770667,
          -10.217191098770668,
          -10.197191098770668,
          -10.177191098770669,
          -10.157191098770669,
          -10.13719109877067,
          -10.11719109877067,
          -10.09719109877067,
          -10.07719109877067,
          -10.057191098770671,
          -10.037191098770672,
          -10.017191098770672,
          -9.997191098770672,
          -9.977191098770673,
          -9.957191098770673,
          -9.937191098770674,
          -9.917191098770674,
          -9.897191098770675,
          -9.877191098770675,
          -9.857191098770675,
          -9.837191098770676,
          -9.817191098770676,
          -9.797191098770677,
          -9.777191098770677,
          -9.757191098770678,
          -9.737191098770678,
          -9.717191098770678,
          -9.697191098770679,
          -9.67719109877068,
          -9.65719109877068,
          -9.63719109877068,
          -9.61719109877068,
          -9.597191098770681,
          -9.577191098770681,
          -9.557191098770682,
          -9.537191098770682,
          -9.517191098770683,
          -9.497191098770683,
          -9.477191098770684,
          -9.457191098770684,
          -9.437191098770684,
          -9.417191098770685,
          -9.397191098770685,
          -9.377191098770686,
          -9.357191098770686,
          -9.337191098770687,
          -9.317191098770687,
          -9.297191098770687,
          -9.277191098770688,
          -9.257191098770688,
          -9.237191098770689,
          -9.217191098770689,
          -9.19719109877069,
          -9.17719109877069,
          -9.15719109877069,
          -9.13719109877069,
          -9.117191098770691,
          -9.097191098770692,
          -9.077191098770692,
          -9.057191098770693,
          -9.037191098770693,
          -9.017191098770693,
          -8.997191098770694,
          -8.977191098770694,
          -8.957191098770695,
          -8.937191098770695,
          -8.917191098770695,
          -8.897191098770696,
          -8.877191098770696,
          -8.857191098770697,
          -8.837191098770697,
          -8.817191098770698,
          -8.797191098770698,
          -8.777191098770698,
          -8.757191098770699,
          -8.7371910987707,
          -8.7171910987707,
          -8.6971910987707,
          -8.6771910987707,
          -8.657191098770701,
          -8.637191098770701,
          -8.617191098770702,
          -8.597191098770702,
          -8.577191098770703,
          -8.557191098770703,
          -8.537191098770704,
          -8.517191098770704,
          -8.497191098770704,
          -8.477191098770705,
          -8.457191098770705,
          -8.437191098770706,
          -8.417191098770706,
          -8.397191098770707,
          -8.377191098770707,
          -8.357191098770707,
          -8.337191098770708,
          -8.317191098770708,
          -8.297191098770709,
          -8.27719109877071,
          -8.25719109877071,
          -8.23719109877071,
          -8.21719109877071,
          -8.19719109877071,
          -8.177191098770711,
          -8.157191098770712,
          -8.137191098770712,
          -8.117191098770713,
          -8.097191098770713,
          -8.077191098770713,
          -8.057191098770714,
          -8.037191098770714,
          -8.017191098770715,
          -7.997191098770715,
          -7.9771910987707155,
          -7.957191098770716,
          -7.937191098770716,
          -7.917191098770717,
          -7.897191098770717,
          -7.877191098770718,
          -7.857191098770718,
          -7.8371910987707185,
          -7.817191098770719,
          -7.797191098770719,
          -7.77719109877072,
          -7.75719109877072,
          -7.737191098770721,
          -7.717191098770721,
          -7.6971910987707215,
          -7.677191098770722,
          -7.657191098770722,
          -7.637191098770723,
          -7.617191098770723,
          -7.597191098770724,
          -7.577191098770724,
          -7.5571910987707245,
          -7.537191098770725,
          -7.517191098770725,
          -7.497191098770726,
          -7.477191098770726,
          -7.457191098770727,
          -7.437191098770727,
          -7.4171910987707275,
          -7.397191098770728,
          -7.377191098770728,
          -7.357191098770729,
          -7.337191098770729,
          -7.31719109877073,
          -7.29719109877073,
          -7.2771910987707304,
          -7.257191098770731,
          -7.237191098770731,
          -7.217191098770732,
          -7.197191098770732,
          -7.177191098770733,
          -7.157191098770733,
          -7.137191098770733,
          -7.117191098770734,
          -7.097191098770734,
          -7.077191098770735,
          -7.057191098770735,
          -7.037191098770736,
          -7.017191098770736,
          -6.997191098770736,
          -6.977191098770737,
          -6.957191098770737,
          -6.937191098770738,
          -6.917191098770738,
          -6.8971910987707385,
          -6.877191098770739,
          -6.857191098770739,
          -6.83719109877074,
          -6.81719109877074,
          -6.797191098770741,
          -6.777191098770741,
          -6.7571910987707415,
          -6.737191098770742,
          -6.717191098770742,
          -6.697191098770743,
          -6.677191098770743,
          -6.657191098770744,
          -6.637191098770744,
          -6.6171910987707445,
          -6.597191098770745,
          -6.577191098770745,
          -6.557191098770746,
          -6.537191098770746,
          -6.517191098770747,
          -6.497191098770747,
          -6.4771910987707475,
          -6.457191098770748,
          -6.437191098770748,
          -6.417191098770749,
          -6.397191098770749,
          -6.37719109877075,
          -6.35719109877075,
          -6.3371910987707505,
          -6.317191098770751,
          -6.297191098770751,
          -6.277191098770752,
          -6.257191098770752,
          -6.237191098770753,
          -6.217191098770753,
          -6.1971910987707535,
          -6.177191098770754,
          -6.157191098770754,
          -6.137191098770755,
          -6.117191098770755,
          -6.097191098770756,
          -6.077191098770756,
          -6.0571910987707565,
          -6.037191098770757,
          -6.017191098770757,
          -5.997191098770758,
          -5.977191098770758,
          -5.957191098770759,
          -5.937191098770759,
          -5.917191098770759,
          -5.89719109877076,
          -5.87719109877076,
          -5.857191098770761,
          -5.837191098770761,
          -5.817191098770762,
          -5.797191098770762,
          -5.777191098770762,
          -5.757191098770763,
          -5.737191098770763,
          -5.717191098770764,
          -5.697191098770764,
          -5.6771910987707646,
          -5.657191098770765,
          -5.637191098770765,
          -5.617191098770766,
          -5.597191098770766,
          -5.577191098770767,
          -5.557191098770767,
          -5.5371910987707675,
          -5.517191098770768,
          -5.497191098770768,
          -5.477191098770769,
          -5.457191098770769,
          -5.43719109877077,
          -5.41719109877077,
          -5.3971910987707705,
          -5.377191098770771,
          -5.357191098770771,
          -5.337191098770772,
          -5.317191098770772,
          -5.297191098770773,
          -5.277191098770773,
          -5.2571910987707735,
          -5.237191098770774,
          -5.217191098770774,
          -5.197191098770775,
          -5.177191098770775,
          -5.157191098770776,
          -5.137191098770776,
          -5.1171910987707765,
          -5.097191098770777,
          -5.077191098770777,
          -5.057191098770778,
          -5.037191098770778,
          -5.017191098770779,
          -4.997191098770779,
          -4.9771910987707795,
          -4.95719109877078,
          -4.93719109877078,
          -4.917191098770781,
          -4.897191098770781,
          -4.877191098770782,
          -4.857191098770782,
          -4.8371910987707825,
          -4.817191098770783,
          -4.797191098770783,
          -4.777191098770784,
          -4.757191098770784,
          -4.737191098770785,
          -4.717191098770785,
          -4.6971910987707854,
          -4.677191098770786,
          -4.657191098770786,
          -4.637191098770787,
          -4.617191098770787,
          -4.597191098770788,
          -4.577191098770788,
          -4.557191098770788,
          -4.537191098770789,
          -4.517191098770789,
          -4.49719109877079,
          -4.47719109877079,
          -4.457191098770791,
          -4.437191098770791,
          -4.417191098770791,
          -4.397191098770792,
          -4.377191098770792,
          -4.357191098770793,
          -4.337191098770793,
          -4.3171910987707935,
          -4.297191098770794,
          -4.277191098770794,
          -4.257191098770795,
          -4.237191098770795,
          -4.217191098770796,
          -4.197191098770796,
          -4.1771910987707965,
          -4.157191098770797,
          -4.137191098770797,
          -4.117191098770798,
          -4.097191098770798,
          -4.077191098770799,
          -4.057191098770799,
          -4.0371910987707995,
          -4.0171910987708,
          -3.9971910987708004,
          -3.977191098770801,
          -3.957191098770801,
          -3.9371910987708016,
          -3.917191098770802,
          -3.8971910987708025,
          -3.877191098770803,
          -3.8571910987708034,
          -3.8371910987708038,
          -3.817191098770804,
          -3.7971910987708046,
          -3.777191098770805,
          -3.7571910987708055,
          -3.737191098770806,
          -3.7171910987708063,
          -3.6971910987708068,
          -3.677191098770807,
          -3.6571910987708076,
          -3.637191098770808,
          -3.6171910987708085,
          -3.597191098770809,
          -3.5771910987708093,
          -3.5571910987708097,
          -3.53719109877081,
          -3.5171910987708106,
          -3.497191098770811,
          -3.4771910987708115,
          -3.457191098770812,
          -3.4371910987708123,
          -3.4171910987708127,
          -3.397191098770813,
          -3.3771910987708136,
          -3.357191098770814,
          -3.3371910987708144,
          -3.317191098770815,
          -3.2971910987708153,
          -3.2771910987708157,
          -3.257191098770816,
          -3.2371910987708166,
          -3.217191098770817,
          -3.1971910987708174,
          -3.177191098770818,
          -3.1571910987708183,
          -3.1371910987708187,
          -3.117191098770819,
          -3.0971910987708196,
          -3.07719109877082,
          -3.0571910987708204,
          -3.037191098770821,
          -3.0171910987708213,
          -2.9971910987708217,
          -2.977191098770822,
          -2.9571910987708225,
          -2.937191098770823,
          -2.9171910987708234,
          -2.897191098770824,
          -2.8771910987708242,
          -2.8571910987708247,
          -2.837191098770825,
          -2.8171910987708255,
          -2.797191098770826,
          -2.7771910987708264,
          -2.757191098770827,
          -2.7371910987708272,
          -2.7171910987708277,
          -2.697191098770828,
          -2.6771910987708285,
          -2.657191098770829,
          -2.6371910987708294,
          -2.61719109877083,
          -2.59719109877083,
          -2.5771910987708306,
          -2.557191098770831,
          -2.5371910987708315,
          -2.517191098770832,
          -2.4971910987708323,
          -2.4771910987708328,
          -2.457191098770833,
          -2.4371910987708336,
          -2.417191098770834,
          -2.3971910987708345,
          -2.377191098770835,
          -2.3571910987708353,
          -2.3371910987708358,
          -2.317191098770836,
          -2.2971910987708366,
          -2.277191098770837,
          -2.2571910987708375,
          -2.237191098770838,
          -2.2171910987708383,
          -2.1971910987708387,
          -2.177191098770839,
          -2.1571910987708396,
          -2.13719109877084,
          -2.1171910987708404,
          -2.097191098770841,
          -2.0771910987708413,
          -2.0571910987708417,
          -2.037191098770842,
          -2.0171910987708426,
          -1.997191098770843,
          -1.9771910987708434,
          -1.9571910987708439,
          -1.9371910987708443,
          -1.9171910987708447,
          -1.8971910987708451,
          -1.8771910987708456,
          -1.857191098770846,
          -1.8371910987708464,
          -1.8171910987708468,
          -1.7971910987708473,
          -1.7771910987708477,
          -1.7571910987708481,
          -1.7371910987708485,
          -1.717191098770849,
          -1.6971910987708494,
          -1.6771910987708498,
          -1.6571910987708502,
          -1.6371910987708507,
          -1.617191098770851,
          -1.5971910987708515,
          -1.577191098770852,
          -1.5571910987708524,
          -1.5371910987708528,
          -1.5171910987708532,
          -1.4971910987708537,
          -1.477191098770854,
          -1.4571910987708545,
          -1.437191098770855,
          -1.4171910987708554,
          -1.3971910987708558,
          -1.3771910987708562,
          -1.3571910987708566,
          -1.337191098770857,
          -1.3171910987708575,
          -1.297191098770858,
          -1.2771910987708583,
          -1.2571910987708588,
          -1.2371910987708592,
          -1.2171910987708596,
          -1.19719109877086,
          -1.1771910987708605,
          -1.157191098770861,
          -1.1371910987708613,
          -1.1171910987708618,
          -1.0971910987708622,
          -1.0771910987708626,
          -1.057191098770863,
          -1.0371910987708635,
          -1.0171910987708639,
          -0.9971910987708643,
          -0.9771910987708647,
          -0.9571910987708652,
          -0.9371910987708656,
          -0.917191098770866,
          -0.8971910987708664,
          -0.8771910987708669,
          -0.8571910987708673,
          -0.8371910987708677,
          -0.8171910987708682,
          -0.7971910987708686,
          -0.777191098770869,
          -0.7571910987708694,
          -0.7371910987708699,
          -0.7171910987708703,
          -0.6971910987708707,
          -0.6771910987708711,
          -0.6571910987708716,
          -0.637191098770872,
          -0.6171910987708724,
          -0.5971910987708728,
          -0.5771910987708733,
          -0.5571910987708737,
          -0.5371910987708741,
          -0.5171910987708745,
          -0.497191098770875,
          -0.4771910987708754,
          -0.4571910987708758,
          -0.43719109877087625,
          -0.4171910987708767,
          -0.3971910987708771,
          -0.37719109877087753,
          -0.35719109877087796,
          -0.3371910987708784,
          -0.3171910987708788,
          -0.29719109877087924,
          -0.27719109877087966,
          -0.2571910987708801,
          -0.23719109877088052,
          -0.21719109877088094,
          -0.19719109877088137,
          -0.1771910987708818,
          -0.15719109877088222,
          -0.13719109877088265,
          -0.11719109877088307,
          -0.0971910987708835,
          -0.07719109877088393,
          -0.05719109877088435,
          -0.03719109877088478,
          -0.017191098770885205,
          0.002808901229114369,
          0.022808901229113943,
          0.042808901229113516,
          0.06280890122911309,
          0.08280890122911266,
          0.10280890122911224,
          0.12280890122911181,
          0.14280890122911138,
          0.16280890122911096,
          0.18280890122911053,
          0.2028089012291101,
          0.22280890122910968,
          0.24280890122910925,
          0.2628089012291088,
          0.2828089012291084,
          0.302808901229108,
          0.32280890122910755,
          0.3428089012291071,
          0.3628089012291067,
          0.38280890122910627,
          0.40280890122910584,
          0.4228089012291054,
          0.442808901229105,
          0.46280890122910456,
          0.48280890122910414,
          0.5028089012291037,
          0.5228089012291033,
          0.5428089012291029,
          0.5628089012291024,
          0.582808901229102,
          0.6028089012291016,
          0.6228089012291012,
          0.6428089012291007,
          0.6628089012291003,
          0.6828089012290999,
          0.7028089012290994,
          0.722808901229099,
          0.7428089012290986,
          0.7628089012290982,
          0.7828089012290977,
          0.8028089012290973,
          0.8228089012290969,
          0.8428089012290965,
          0.862808901229096,
          0.8828089012290956,
          0.9028089012290952,
          0.9228089012290948,
          0.9428089012290943,
          0.9628089012290939,
          0.9828089012290935,
          1.002808901229093,
          1.0228089012290926,
          1.0428089012290922,
          1.0628089012290918,
          1.0828089012290913,
          1.102808901229091,
          1.1228089012290905,
          1.14280890122909,
          1.1628089012290896,
          1.1828089012290892,
          1.2028089012290888,
          1.2228089012290884,
          1.242808901229088,
          1.2628089012290875,
          1.282808901229087,
          1.3028089012290867,
          1.3228089012290862,
          1.3428089012290858,
          1.3628089012290854,
          1.382808901229085,
          1.4028089012290845,
          1.422808901229084,
          1.4428089012290837,
          1.4628089012290832,
          1.4828089012290828,
          1.5028089012290824,
          1.522808901229082,
          1.5428089012290815,
          1.5628089012290811,
          1.5828089012290807,
          1.6028089012290803,
          1.6228089012290798,
          1.6428089012290794,
          1.662808901229079,
          1.6828089012290786,
          1.7028089012290781,
          1.7228089012290777,
          1.7428089012290773,
          1.7628089012290769,
          1.7828089012290764,
          1.802808901229076,
          1.8228089012290756,
          1.8428089012290751,
          1.8628089012290747,
          1.8828089012290743,
          1.9028089012290739,
          1.9228089012290734,
          1.942808901229073,
          1.9628089012290726,
          1.9828089012290722,
          2.0028089012290717,
          2.0228089012290713,
          2.042808901229071,
          2.0628089012290705,
          2.08280890122907,
          2.1028089012290696,
          2.122808901229069,
          2.1428089012290688,
          2.1628089012290683,
          2.182808901229068,
          2.2028089012290675,
          2.222808901229067,
          2.2428089012290666,
          2.262808901229066,
          2.2828089012290658,
          2.3028089012290653,
          2.322808901229065,
          2.3428089012290645,
          2.362808901229064,
          2.3828089012290636,
          2.402808901229063,
          2.422808901229063,
          2.4428089012290624,
          2.462808901229062,
          2.4828089012290615,
          2.502808901229061,
          2.5228089012290607,
          2.5428089012290602,
          2.56280890122906,
          2.5828089012290594,
          2.602808901229059,
          2.6228089012290585,
          2.642808901229058,
          2.6628089012290577,
          2.6828089012290572,
          2.702808901229057,
          2.7228089012290564,
          2.742808901229056,
          2.7628089012290555,
          2.782808901229055,
          2.8028089012290547,
          2.8228089012290543,
          2.842808901229054,
          2.8628089012290534,
          2.882808901229053,
          2.9028089012290526,
          2.922808901229052,
          2.9428089012290517,
          2.9628089012290513,
          2.982808901229051,
          3.0028089012290504,
          3.02280890122905,
          3.0428089012290496,
          3.062808901229049,
          3.0828089012290487,
          3.1028089012290483,
          3.122808901229048,
          3.1428089012290474,
          3.162808901229047,
          3.1828089012290466,
          3.202808901229046,
          3.2228089012290457,
          3.2428089012290453,
          3.262808901229045,
          3.2828089012290445,
          3.302808901229044,
          3.3228089012290436,
          3.342808901229043,
          3.3628089012290427,
          3.3828089012290423,
          3.402808901229042,
          3.4228089012290415,
          3.442808901229041,
          3.4628089012290406,
          3.48280890122904,
          3.5028089012290398,
          3.5228089012290393,
          3.542808901229039,
          3.5628089012290385,
          3.582808901229038,
          3.6028089012290376,
          3.622808901229037,
          3.6428089012290368,
          3.6628089012290364,
          3.682808901229036,
          3.7028089012290355,
          3.722808901229035,
          3.7428089012290346,
          3.762808901229034,
          3.782808901229034,
          3.8028089012290334,
          3.822808901229033,
          3.8428089012290325,
          3.862808901229032,
          3.8828089012290317,
          3.9028089012290312,
          3.922808901229031,
          3.9428089012290304,
          3.96280890122903,
          3.9828089012290295,
          4.002808901229029,
          4.022808901229029,
          4.042808901229028,
          4.062808901229028,
          4.082808901229027,
          4.102808901229027,
          4.1228089012290265,
          4.142808901229026,
          4.162808901229026,
          4.182808901229025,
          4.202808901229025,
          4.222808901229024,
          4.242808901229024,
          4.262808901229024,
          4.282808901229023,
          4.302808901229023,
          4.322808901229022,
          4.342808901229022,
          4.362808901229021,
          4.382808901229021,
          4.402808901229021,
          4.42280890122902,
          4.44280890122902,
          4.462808901229019,
          4.482808901229019,
          4.5028089012290184,
          4.522808901229018,
          4.542808901229018,
          4.562808901229017,
          4.582808901229017,
          4.602808901229016,
          4.622808901229016,
          4.6428089012290155,
          4.662808901229015,
          4.682808901229015,
          4.702808901229014,
          4.722808901229014,
          4.742808901229013,
          4.762808901229013,
          4.7828089012290125,
          4.802808901229012,
          4.822808901229012,
          4.842808901229011,
          4.862808901229011,
          4.88280890122901,
          4.90280890122901,
          4.9228089012290095,
          4.942808901229009,
          4.962808901229009,
          4.982808901229008,
          5.002808901229008,
          5.022808901229007,
          5.042808901229007,
          5.0628089012290065,
          5.082808901229006,
          5.102808901229006,
          5.122808901229005,
          5.142808901229005,
          5.162808901229004,
          5.182808901229004,
          5.2028089012290035,
          5.222808901229003,
          5.242808901229003,
          5.262808901229002,
          5.282808901229002,
          5.302808901229001,
          5.322808901229001,
          5.3428089012290005,
          5.362808901229,
          5.382808901229,
          5.402808901228999,
          5.422808901228999,
          5.442808901228998,
          5.462808901228998,
          5.4828089012289976,
          5.502808901228997,
          5.522808901228997,
          5.542808901228996,
          5.562808901228996,
          5.582808901228995,
          5.602808901228995,
          5.622808901228995,
          5.642808901228994,
          5.662808901228994,
          5.682808901228993,
          5.702808901228993,
          5.722808901228992,
          5.742808901228992,
          5.762808901228992,
          5.782808901228991,
          5.802808901228991,
          5.82280890122899,
          5.84280890122899,
          5.8628089012289895,
          5.882808901228989,
          5.902808901228989,
          5.922808901228988,
          5.942808901228988,
          5.962808901228987,
          5.982808901228987,
          6.0028089012289865,
          6.022808901228986,
          6.042808901228986,
          6.062808901228985,
          6.082808901228985,
          6.102808901228984,
          6.122808901228984,
          6.1428089012289835,
          6.162808901228983,
          6.182808901228983,
          6.202808901228982,
          6.222808901228982,
          6.242808901228981,
          6.262808901228981,
          6.2828089012289805,
          6.30280890122898,
          6.32280890122898,
          6.342808901228979,
          6.362808901228979,
          6.382808901228978,
          6.402808901228978,
          6.4228089012289775,
          6.442808901228977,
          6.462808901228977,
          6.482808901228976,
          6.502808901228976,
          6.522808901228975,
          6.542808901228975,
          6.5628089012289745,
          6.582808901228974,
          6.602808901228974,
          6.622808901228973,
          6.642808901228973,
          6.662808901228972,
          6.682808901228972,
          6.7028089012289715,
          6.722808901228971,
          6.742808901228971,
          6.76280890122897,
          6.78280890122897,
          6.802808901228969,
          6.822808901228969,
          6.842808901228969,
          6.862808901228968,
          6.882808901228968,
          6.902808901228967,
          6.922808901228967,
          6.942808901228966,
          6.962808901228966,
          6.982808901228966,
          7.002808901228965,
          7.022808901228965,
          7.042808901228964,
          7.062808901228964,
          7.0828089012289634,
          7.102808901228963,
          7.122808901228963,
          7.142808901228962,
          7.162808901228962,
          7.182808901228961,
          7.202808901228961,
          7.2228089012289605,
          7.24280890122896,
          7.26280890122896,
          7.282808901228959,
          7.302808901228959,
          7.322808901228958,
          7.342808901228958,
          7.3628089012289575,
          7.382808901228957,
          7.402808901228957,
          7.422808901228956,
          7.442808901228956,
          7.462808901228955,
          7.482808901228955,
          7.5028089012289545,
          7.522808901228954,
          7.542808901228954,
          7.562808901228953,
          7.582808901228953,
          7.602808901228952,
          7.622808901228952,
          7.6428089012289515,
          7.662808901228951,
          7.682808901228951,
          7.70280890122895,
          7.72280890122895,
          7.742808901228949,
          7.762808901228949,
          7.7828089012289485,
          7.802808901228948,
          7.822808901228948,
          7.842808901228947,
          7.862808901228947,
          7.882808901228946,
          7.902808901228946,
          7.9228089012289455,
          7.942808901228945,
          7.962808901228945,
          7.982808901228944,
          8.002808901228944,
          8.022808901228943,
          8.042808901228943,
          8.062808901228943,
          8.082808901228942,
          8.102808901228942,
          8.122808901228941,
          8.14280890122894,
          8.16280890122894,
          8.18280890122894,
          8.20280890122894,
          8.22280890122894,
          8.242808901228939,
          8.262808901228938,
          8.282808901228938,
          8.302808901228937,
          8.322808901228937,
          8.342808901228937,
          8.362808901228936,
          8.382808901228936,
          8.402808901228935,
          8.422808901228935,
          8.442808901228934,
          8.462808901228934,
          8.482808901228934,
          8.502808901228933,
          8.522808901228933,
          8.542808901228932
         ],
         "y": [
          -7.446773380680421,
          -7.426773380680421,
          -7.406773380680422,
          -7.386773380680422,
          -7.3667733806804225,
          -7.346773380680423,
          -7.326773380680423,
          -7.306773380680424,
          -7.286773380680424,
          -7.266773380680425,
          -7.246773380680425,
          -7.2267733806804255,
          -7.206773380680426,
          -7.186773380680426,
          -7.166773380680427,
          -7.146773380680427,
          -7.126773380680428,
          -7.106773380680428,
          -7.0867733806804285,
          -7.066773380680429,
          -7.046773380680429,
          -7.02677338068043,
          -7.00677338068043,
          -6.986773380680431,
          -6.966773380680431,
          -6.9467733806804315,
          -6.926773380680432,
          -6.906773380680432,
          -6.886773380680433,
          -6.866773380680433,
          -6.846773380680434,
          -6.826773380680434,
          -6.8067733806804345,
          -6.786773380680435,
          -6.766773380680435,
          -6.746773380680436,
          -6.726773380680436,
          -6.706773380680437,
          -6.686773380680437,
          -6.6667733806804375,
          -6.646773380680438,
          -6.626773380680438,
          -6.606773380680439,
          -6.586773380680439,
          -6.56677338068044,
          -6.54677338068044,
          -6.52677338068044,
          -6.506773380680441,
          -6.486773380680441,
          -6.466773380680442,
          -6.446773380680442,
          -6.426773380680443,
          -6.406773380680443,
          -6.386773380680443,
          -6.366773380680444,
          -6.346773380680444,
          -6.326773380680445,
          -6.306773380680445,
          -6.2867733806804456,
          -6.266773380680446,
          -6.246773380680446,
          -6.226773380680447,
          -6.206773380680447,
          -6.186773380680448,
          -6.166773380680448,
          -6.1467733806804485,
          -6.126773380680449,
          -6.106773380680449,
          -6.08677338068045,
          -6.06677338068045,
          -6.046773380680451,
          -6.026773380680451,
          -6.0067733806804515,
          -5.986773380680452,
          -5.966773380680452,
          -5.946773380680453,
          -5.926773380680453,
          -5.906773380680454,
          -5.886773380680454,
          -5.8667733806804545,
          -5.846773380680455,
          -5.826773380680455,
          -5.806773380680456,
          -5.786773380680456,
          -5.766773380680457,
          -5.746773380680457,
          -5.7267733806804575,
          -5.706773380680458,
          -5.686773380680458,
          -5.666773380680459,
          -5.646773380680459,
          -5.62677338068046,
          -5.60677338068046,
          -5.5867733806804605,
          -5.566773380680461,
          -5.546773380680461,
          -5.526773380680462,
          -5.506773380680462,
          -5.486773380680463,
          -5.466773380680463,
          -5.4467733806804635,
          -5.426773380680464,
          -5.406773380680464,
          -5.386773380680465,
          -5.366773380680465,
          -5.346773380680466,
          -5.326773380680466,
          -5.3067733806804664,
          -5.286773380680467,
          -5.266773380680467,
          -5.246773380680468,
          -5.226773380680468,
          -5.206773380680469,
          -5.186773380680469,
          -5.166773380680469,
          -5.14677338068047,
          -5.12677338068047,
          -5.106773380680471,
          -5.086773380680471,
          -5.066773380680472,
          -5.046773380680472,
          -5.026773380680472,
          -5.006773380680473,
          -4.986773380680473,
          -4.966773380680474,
          -4.946773380680474,
          -4.9267733806804745,
          -4.906773380680475,
          -4.886773380680475,
          -4.866773380680476,
          -4.846773380680476,
          -4.826773380680477,
          -4.806773380680477,
          -4.7867733806804775,
          -4.766773380680478,
          -4.746773380680478,
          -4.726773380680479,
          -4.706773380680479,
          -4.68677338068048,
          -4.66677338068048,
          -4.6467733806804805,
          -4.626773380680481,
          -4.606773380680481,
          -4.586773380680482,
          -4.566773380680482,
          -4.546773380680483,
          -4.526773380680483,
          -4.5067733806804835,
          -4.486773380680484,
          -4.466773380680484,
          -4.446773380680485,
          -4.426773380680485,
          -4.406773380680486,
          -4.386773380680486,
          -4.3667733806804865,
          -4.346773380680487,
          -4.326773380680487,
          -4.306773380680488,
          -4.286773380680488,
          -4.266773380680489,
          -4.246773380680489,
          -4.2267733806804895,
          -4.20677338068049,
          -4.18677338068049,
          -4.166773380680491,
          -4.146773380680491,
          -4.126773380680492,
          -4.106773380680492,
          -4.0867733806804925,
          -4.066773380680493,
          -4.046773380680493,
          -4.026773380680494,
          -4.006773380680494,
          -3.9867733806804946,
          -3.966773380680495,
          -3.9467733806804954,
          -3.926773380680496,
          -3.9067733806804963,
          -3.8867733806804967,
          -3.866773380680497,
          -3.8467733806804976,
          -3.826773380680498,
          -3.8067733806804984,
          -3.786773380680499,
          -3.7667733806804993,
          -3.7467733806804997,
          -3.7267733806805,
          -3.7067733806805006,
          -3.686773380680501,
          -3.6667733806805014,
          -3.646773380680502,
          -3.6267733806805023,
          -3.6067733806805027,
          -3.586773380680503,
          -3.5667733806805035,
          -3.546773380680504,
          -3.5267733806805044,
          -3.506773380680505,
          -3.4867733806805052,
          -3.4667733806805057,
          -3.446773380680506,
          -3.4267733806805065,
          -3.406773380680507,
          -3.3867733806805074,
          -3.366773380680508,
          -3.3467733806805082,
          -3.3267733806805087,
          -3.306773380680509,
          -3.2867733806805095,
          -3.26677338068051,
          -3.2467733806805104,
          -3.226773380680511,
          -3.206773380680511,
          -3.1867733806805116,
          -3.166773380680512,
          -3.1467733806805125,
          -3.126773380680513,
          -3.1067733806805133,
          -3.0867733806805138,
          -3.066773380680514,
          -3.0467733806805146,
          -3.026773380680515,
          -3.0067733806805155,
          -2.986773380680516,
          -2.9667733806805163,
          -2.9467733806805168,
          -2.926773380680517,
          -2.9067733806805176,
          -2.886773380680518,
          -2.8667733806805185,
          -2.846773380680519,
          -2.8267733806805193,
          -2.8067733806805197,
          -2.78677338068052,
          -2.7667733806805206,
          -2.746773380680521,
          -2.7267733806805214,
          -2.706773380680522,
          -2.6867733806805223,
          -2.6667733806805227,
          -2.646773380680523,
          -2.6267733806805236,
          -2.606773380680524,
          -2.5867733806805244,
          -2.566773380680525,
          -2.5467733806805253,
          -2.5267733806805257,
          -2.506773380680526,
          -2.4867733806805266,
          -2.466773380680527,
          -2.4467733806805274,
          -2.426773380680528,
          -2.4067733806805283,
          -2.3867733806805287,
          -2.366773380680529,
          -2.3467733806805295,
          -2.32677338068053,
          -2.3067733806805304,
          -2.286773380680531,
          -2.2667733806805312,
          -2.2467733806805317,
          -2.226773380680532,
          -2.2067733806805325,
          -2.186773380680533,
          -2.1667733806805334,
          -2.146773380680534,
          -2.1267733806805342,
          -2.1067733806805347,
          -2.086773380680535,
          -2.0667733806805355,
          -2.046773380680536,
          -2.0267733806805364,
          -2.006773380680537,
          -1.9867733806805372,
          -1.9667733806805376,
          -1.946773380680538,
          -1.9267733806805385,
          -1.906773380680539,
          -1.8867733806805393,
          -1.8667733806805398,
          -1.8467733806805402,
          -1.8267733806805406,
          -1.806773380680541,
          -1.7867733806805415,
          -1.766773380680542,
          -1.7467733806805423,
          -1.7267733806805428,
          -1.7067733806805432,
          -1.6867733806805436,
          -1.666773380680544,
          -1.6467733806805445,
          -1.626773380680545,
          -1.6067733806805453,
          -1.5867733806805457,
          -1.5667733806805462,
          -1.5467733806805466,
          -1.526773380680547,
          -1.5067733806805474,
          -1.4867733806805479,
          -1.4667733806805483,
          -1.4467733806805487,
          -1.4267733806805492,
          -1.4067733806805496,
          -1.38677338068055,
          -1.3667733806805504,
          -1.3467733806805509,
          -1.3267733806805513,
          -1.3067733806805517,
          -1.2867733806805521,
          -1.2667733806805526,
          -1.246773380680553,
          -1.2267733806805534,
          -1.2067733806805538,
          -1.1867733806805543,
          -1.1667733806805547,
          -1.1467733806805551,
          -1.1267733806805555,
          -1.106773380680556,
          -1.0867733806805564,
          -1.0667733806805568,
          -1.0467733806805573,
          -1.0267733806805577,
          -1.006773380680558,
          -0.9867733806805585,
          -0.966773380680559,
          -0.9467733806805594,
          -0.9267733806805598,
          -0.9067733806805602,
          -0.8867733806805607,
          -0.8667733806805611,
          -0.8467733806805615,
          -0.8267733806805619,
          -0.8067733806805624,
          -0.7867733806805628,
          -0.7667733806805632,
          -0.7467733806805636,
          -0.7267733806805641,
          -0.7067733806805645,
          -0.6867733806805649,
          -0.6667733806805654,
          -0.6467733806805658,
          -0.6267733806805662,
          -0.6067733806805666,
          -0.5867733806805671,
          -0.5667733806805675,
          -0.5467733806805679,
          -0.5267733806805683,
          -0.5067733806805688,
          -0.4867733806805692,
          -0.4667733806805696,
          -0.44677338068057004,
          -0.42677338068057047,
          -0.4067733806805709,
          -0.3867733806805713,
          -0.36677338068057175,
          -0.3467733806805722,
          -0.3267733806805726,
          -0.306773380680573,
          -0.28677338068057345,
          -0.2667733806805739,
          -0.2467733806805743,
          -0.22677338068057473,
          -0.20677338068057516,
          -0.18677338068057558,
          -0.166773380680576,
          -0.14677338068057644,
          -0.12677338068057686,
          -0.10677338068057729,
          -0.08677338068057772,
          -0.06677338068057814,
          -0.04677338068057857,
          -0.026773380680578995,
          -0.006773380680579422,
          0.013226619319420152,
          0.033226619319419726,
          0.0532266193194193,
          0.07322661931941887,
          0.09322661931941845,
          0.11322661931941802,
          0.1332266193194176,
          0.15322661931941717,
          0.17322661931941674,
          0.19322661931941632,
          0.2132266193194159,
          0.23322661931941546,
          0.25322661931941504,
          0.2732266193194146,
          0.2932266193194142,
          0.31322661931941376,
          0.33322661931941333,
          0.3532266193194129,
          0.3732266193194125,
          0.39322661931941205,
          0.4132266193194116,
          0.4332266193194112,
          0.4532266193194108,
          0.47322661931941035,
          0.4932266193194099,
          0.5132266193194095,
          0.5332266193194091,
          0.5532266193194086,
          0.5732266193194082,
          0.5932266193194078,
          0.6132266193194074,
          0.6332266193194069,
          0.6532266193194065,
          0.6732266193194061,
          0.6932266193194057,
          0.7132266193194052,
          0.7332266193194048,
          0.7532266193194044,
          0.773226619319404,
          0.7932266193194035,
          0.8132266193194031,
          0.8332266193194027,
          0.8532266193194022,
          0.8732266193194018,
          0.8932266193194014,
          0.913226619319401,
          0.9332266193194005,
          0.9532266193194001,
          0.9732266193193997,
          0.9932266193193993,
          1.0132266193193988,
          1.0332266193193984,
          1.053226619319398,
          1.0732266193193976,
          1.0932266193193971,
          1.1132266193193967,
          1.1332266193193963,
          1.1532266193193959,
          1.1732266193193954,
          1.193226619319395,
          1.2132266193193946,
          1.2332266193193941,
          1.2532266193193937,
          1.2732266193193933,
          1.2932266193193929,
          1.3132266193193924,
          1.333226619319392,
          1.3532266193193916,
          1.3732266193193912,
          1.3932266193193907,
          1.4132266193193903,
          1.4332266193193899,
          1.4532266193193895,
          1.473226619319389,
          1.4932266193193886,
          1.5132266193193882,
          1.5332266193193878,
          1.5532266193193873,
          1.573226619319387,
          1.5932266193193865,
          1.613226619319386,
          1.6332266193193856,
          1.6532266193193852,
          1.6732266193193848,
          1.6932266193193843,
          1.713226619319384,
          1.7332266193193835,
          1.753226619319383,
          1.7732266193193826,
          1.7932266193193822,
          1.8132266193193818,
          1.8332266193193814,
          1.853226619319381,
          1.8732266193193805,
          1.89322661931938,
          1.9132266193193797,
          1.9332266193193792,
          1.9532266193193788,
          1.9732266193193784,
          1.993226619319378,
          2.0132266193193775,
          2.033226619319377,
          2.0532266193193767,
          2.0732266193193762,
          2.093226619319376,
          2.1132266193193754,
          2.133226619319375,
          2.1532266193193745,
          2.173226619319374,
          2.1932266193193737,
          2.2132266193193733,
          2.233226619319373,
          2.2532266193193724,
          2.273226619319372,
          2.2932266193193716,
          2.313226619319371,
          2.3332266193193707,
          2.3532266193193703,
          2.37322661931937,
          2.3932266193193694,
          2.413226619319369,
          2.4332266193193686,
          2.453226619319368,
          2.4732266193193677,
          2.4932266193193673,
          2.513226619319367,
          2.5332266193193664,
          2.553226619319366,
          2.5732266193193656,
          2.593226619319365,
          2.6132266193193647,
          2.6332266193193643,
          2.653226619319364,
          2.6732266193193635,
          2.693226619319363,
          2.7132266193193626,
          2.733226619319362,
          2.7532266193193617,
          2.7732266193193613,
          2.793226619319361,
          2.8132266193193605,
          2.83322661931936,
          2.8532266193193596,
          2.873226619319359,
          2.8932266193193588,
          2.9132266193193583,
          2.933226619319358,
          2.9532266193193575,
          2.973226619319357,
          2.9932266193193566,
          3.013226619319356,
          3.0332266193193558,
          3.0532266193193554,
          3.073226619319355,
          3.0932266193193545,
          3.113226619319354,
          3.1332266193193536,
          3.153226619319353,
          3.173226619319353,
          3.1932266193193524,
          3.213226619319352,
          3.2332266193193515,
          3.253226619319351,
          3.2732266193193507,
          3.2932266193193502,
          3.31322661931935,
          3.3332266193193494,
          3.353226619319349,
          3.3732266193193485,
          3.393226619319348,
          3.4132266193193477,
          3.4332266193193473,
          3.453226619319347,
          3.4732266193193464,
          3.493226619319346,
          3.5132266193193455,
          3.533226619319345,
          3.5532266193193447,
          3.5732266193193443,
          3.593226619319344,
          3.6132266193193434,
          3.633226619319343,
          3.6532266193193426,
          3.673226619319342,
          3.6932266193193417,
          3.7132266193193413,
          3.733226619319341,
          3.7532266193193404,
          3.77322661931934,
          3.7932266193193396,
          3.813226619319339,
          3.8332266193193387,
          3.8532266193193383,
          3.873226619319338,
          3.8932266193193374,
          3.913226619319337,
          3.9332266193193366,
          3.953226619319336,
          3.9732266193193357,
          3.9932266193193353,
          4.013226619319335,
          4.0332266193193345,
          4.053226619319334,
          4.073226619319334,
          4.093226619319333,
          4.113226619319333,
          4.133226619319332,
          4.153226619319332,
          4.1732266193193315,
          4.193226619319331,
          4.213226619319331,
          4.23322661931933,
          4.25322661931933,
          4.273226619319329,
          4.293226619319329,
          4.3132266193193285,
          4.333226619319328,
          4.353226619319328,
          4.373226619319327,
          4.393226619319327,
          4.413226619319326,
          4.433226619319326,
          4.4532266193193255,
          4.473226619319325,
          4.493226619319325,
          4.513226619319324,
          4.533226619319324,
          4.553226619319323,
          4.573226619319323,
          4.5932266193193225,
          4.613226619319322,
          4.633226619319322,
          4.653226619319321,
          4.673226619319321,
          4.69322661931932,
          4.71322661931932,
          4.7332266193193195,
          4.753226619319319,
          4.773226619319319,
          4.793226619319318,
          4.813226619319318,
          4.833226619319317,
          4.853226619319317,
          4.8732266193193166,
          4.893226619319316,
          4.913226619319316,
          4.933226619319315,
          4.953226619319315,
          4.973226619319314,
          4.993226619319314,
          5.013226619319314,
          5.033226619319313,
          5.053226619319313,
          5.073226619319312,
          5.093226619319312,
          5.113226619319311,
          5.133226619319311,
          5.153226619319311,
          5.17322661931931,
          5.19322661931931,
          5.213226619319309,
          5.233226619319309,
          5.2532266193193085,
          5.273226619319308,
          5.293226619319308,
          5.313226619319307,
          5.333226619319307,
          5.353226619319306,
          5.373226619319306,
          5.3932266193193055,
          5.413226619319305,
          5.433226619319305,
          5.453226619319304,
          5.473226619319304,
          5.493226619319303,
          5.513226619319303,
          5.5332266193193025,
          5.553226619319302,
          5.573226619319302,
          5.593226619319301,
          5.613226619319301,
          5.6332266193193,
          5.6532266193193,
          5.6732266193192995,
          5.693226619319299,
          5.713226619319299,
          5.733226619319298,
          5.753226619319298,
          5.773226619319297,
          5.793226619319297,
          5.8132266193192965,
          5.833226619319296,
          5.853226619319296,
          5.873226619319295,
          5.893226619319295,
          5.913226619319294,
          5.933226619319294,
          5.9532266193192935,
          5.973226619319293,
          5.993226619319293,
          6.013226619319292,
          6.033226619319292,
          6.053226619319291,
          6.073226619319291,
          6.0932266193192905,
          6.11322661931929,
          6.13322661931929,
          6.153226619319289,
          6.173226619319289,
          6.193226619319288,
          6.213226619319288,
          6.233226619319288,
          6.253226619319287,
          6.273226619319287,
          6.293226619319286,
          6.313226619319286,
          6.333226619319285,
          6.353226619319285,
          6.373226619319285,
          6.393226619319284,
          6.413226619319284,
          6.433226619319283,
          6.453226619319283,
          6.4732266193192824,
          6.493226619319282,
          6.513226619319282,
          6.533226619319281,
          6.553226619319281,
          6.57322661931928,
          6.59322661931928,
          6.6132266193192795,
          6.633226619319279,
          6.653226619319279,
          6.673226619319278,
          6.693226619319278,
          6.713226619319277,
          6.733226619319277,
          6.7532266193192765,
          6.773226619319276,
          6.793226619319276,
          6.813226619319275,
          6.833226619319275,
          6.853226619319274,
          6.873226619319274,
          6.8932266193192735,
          6.913226619319273,
          6.933226619319273,
          6.953226619319272,
          6.973226619319272,
          6.993226619319271,
          7.013226619319271,
          7.0332266193192705,
          7.05322661931927,
          7.07322661931927,
          7.093226619319269,
          7.113226619319269,
          7.133226619319268,
          7.153226619319268,
          7.1732266193192675,
          7.193226619319267,
          7.213226619319267,
          7.233226619319266,
          7.253226619319266,
          7.273226619319265,
          7.293226619319265,
          7.3132266193192645,
          7.333226619319264,
          7.353226619319264,
          7.373226619319263,
          7.393226619319263,
          7.413226619319262,
          7.433226619319262,
          7.453226619319262,
          7.473226619319261,
          7.493226619319261,
          7.51322661931926,
          7.53322661931926,
          7.553226619319259,
          7.573226619319259,
          7.593226619319259,
          7.613226619319258,
          7.633226619319258,
          7.653226619319257,
          7.673226619319257,
          7.693226619319256,
          7.713226619319256,
          7.733226619319256,
          7.753226619319255,
          7.773226619319255,
          7.793226619319254,
          7.813226619319254,
          7.8332266193192535,
          7.853226619319253,
          7.873226619319253,
          7.893226619319252,
          7.913226619319252,
          7.933226619319251,
          7.953226619319251,
          7.9732266193192505,
          7.99322661931925,
          8.01322661931925,
          8.03322661931925,
          8.053226619319249,
          8.073226619319248,
          8.093226619319248,
          8.113226619319247,
          8.133226619319247,
          8.153226619319247,
          8.173226619319246,
          8.193226619319246,
          8.213226619319245,
          8.233226619319245,
          8.253226619319245,
          8.273226619319244,
          8.293226619319244,
          8.313226619319243,
          8.333226619319243,
          8.353226619319242,
          8.373226619319242,
          8.393226619319242,
          8.413226619319241,
          8.43322661931924,
          8.45322661931924,
          8.47322661931924,
          8.49322661931924,
          8.513226619319239,
          8.533226619319239,
          8.553226619319238,
          8.573226619319238,
          8.593226619319237,
          8.613226619319237,
          8.633226619319236,
          8.653226619319236,
          8.673226619319236,
          8.693226619319235,
          8.713226619319235,
          8.733226619319234,
          8.753226619319234,
          8.773226619319233,
          8.793226619319233,
          8.813226619319233,
          8.833226619319232,
          8.853226619319232,
          8.873226619319231,
          8.89322661931923,
          8.91322661931923,
          8.93322661931923,
          8.95322661931923,
          8.97322661931923,
          8.993226619319229,
          9.013226619319228,
          9.033226619319228,
          9.053226619319227,
          9.073226619319227,
          9.093226619319227,
          9.113226619319226,
          9.133226619319226,
          9.153226619319225,
          9.173226619319225,
          9.193226619319224,
          9.213226619319224,
          9.233226619319224,
          9.253226619319223,
          9.273226619319223,
          9.293226619319222,
          9.313226619319222,
          9.333226619319221,
          9.353226619319221,
          9.37322661931922,
          9.39322661931922,
          9.41322661931922,
          9.43322661931922,
          9.453226619319219,
          9.473226619319218,
          9.493226619319218,
          9.513226619319218,
          9.533226619319217,
          9.553226619319217,
          9.573226619319216,
          9.593226619319216,
          9.613226619319216,
          9.633226619319215,
          9.653226619319215,
          9.673226619319214,
          9.693226619319214,
          9.713226619319213,
          9.733226619319213,
          9.753226619319213,
          9.773226619319212,
          9.793226619319212,
          9.813226619319211,
          9.83322661931921,
          9.85322661931921,
          9.87322661931921,
          9.89322661931921,
          9.91322661931921,
          9.933226619319209,
          9.953226619319208,
          9.973226619319208,
          9.993226619319207,
          10.013226619319207,
          10.033226619319207,
          10.053226619319206,
          10.073226619319206,
          10.093226619319205,
          10.113226619319205,
          10.133226619319204,
          10.153226619319204,
          10.173226619319204,
          10.193226619319203,
          10.213226619319203,
          10.233226619319202,
          10.253226619319202,
          10.273226619319201,
          10.293226619319201,
          10.3132266193192,
          10.3332266193192,
          10.3532266193192,
          10.3732266193192,
          10.393226619319199,
          10.413226619319198,
          10.433226619319198,
          10.453226619319198,
          10.473226619319197,
          10.493226619319197,
          10.513226619319196,
          10.533226619319196,
          10.553226619319195,
          10.573226619319195,
          10.593226619319195,
          10.613226619319194,
          10.633226619319194,
          10.653226619319193,
          10.673226619319193,
          10.693226619319192,
          10.713226619319192,
          10.733226619319192,
          10.753226619319191,
          10.77322661931919,
          10.79322661931919,
          10.81322661931919,
          10.83322661931919,
          10.853226619319189,
          10.873226619319189,
          10.893226619319188,
          10.913226619319188,
          10.933226619319187,
          10.953226619319187
         ]
        }
       ],
       "layout": {
        "template": {
         "data": {
          "bar": [
           {
            "error_x": {
             "color": "#2a3f5f"
            },
            "error_y": {
             "color": "#2a3f5f"
            },
            "marker": {
             "line": {
              "color": "#E5ECF6",
              "width": 0.5
             },
             "pattern": {
              "fillmode": "overlay",
              "size": 10,
              "solidity": 0.2
             }
            },
            "type": "bar"
           }
          ],
          "barpolar": [
           {
            "marker": {
             "line": {
              "color": "#E5ECF6",
              "width": 0.5
             },
             "pattern": {
              "fillmode": "overlay",
              "size": 10,
              "solidity": 0.2
             }
            },
            "type": "barpolar"
           }
          ],
          "carpet": [
           {
            "aaxis": {
             "endlinecolor": "#2a3f5f",
             "gridcolor": "white",
             "linecolor": "white",
             "minorgridcolor": "white",
             "startlinecolor": "#2a3f5f"
            },
            "baxis": {
             "endlinecolor": "#2a3f5f",
             "gridcolor": "white",
             "linecolor": "white",
             "minorgridcolor": "white",
             "startlinecolor": "#2a3f5f"
            },
            "type": "carpet"
           }
          ],
          "choropleth": [
           {
            "colorbar": {
             "outlinewidth": 0,
             "ticks": ""
            },
            "type": "choropleth"
           }
          ],
          "contour": [
           {
            "colorbar": {
             "outlinewidth": 0,
             "ticks": ""
            },
            "colorscale": [
             [
              0,
              "#0d0887"
             ],
             [
              0.1111111111111111,
              "#46039f"
             ],
             [
              0.2222222222222222,
              "#7201a8"
             ],
             [
              0.3333333333333333,
              "#9c179e"
             ],
             [
              0.4444444444444444,
              "#bd3786"
             ],
             [
              0.5555555555555556,
              "#d8576b"
             ],
             [
              0.6666666666666666,
              "#ed7953"
             ],
             [
              0.7777777777777778,
              "#fb9f3a"
             ],
             [
              0.8888888888888888,
              "#fdca26"
             ],
             [
              1,
              "#f0f921"
             ]
            ],
            "type": "contour"
           }
          ],
          "contourcarpet": [
           {
            "colorbar": {
             "outlinewidth": 0,
             "ticks": ""
            },
            "type": "contourcarpet"
           }
          ],
          "heatmap": [
           {
            "colorbar": {
             "outlinewidth": 0,
             "ticks": ""
            },
            "colorscale": [
             [
              0,
              "#0d0887"
             ],
             [
              0.1111111111111111,
              "#46039f"
             ],
             [
              0.2222222222222222,
              "#7201a8"
             ],
             [
              0.3333333333333333,
              "#9c179e"
             ],
             [
              0.4444444444444444,
              "#bd3786"
             ],
             [
              0.5555555555555556,
              "#d8576b"
             ],
             [
              0.6666666666666666,
              "#ed7953"
             ],
             [
              0.7777777777777778,
              "#fb9f3a"
             ],
             [
              0.8888888888888888,
              "#fdca26"
             ],
             [
              1,
              "#f0f921"
             ]
            ],
            "type": "heatmap"
           }
          ],
          "heatmapgl": [
           {
            "colorbar": {
             "outlinewidth": 0,
             "ticks": ""
            },
            "colorscale": [
             [
              0,
              "#0d0887"
             ],
             [
              0.1111111111111111,
              "#46039f"
             ],
             [
              0.2222222222222222,
              "#7201a8"
             ],
             [
              0.3333333333333333,
              "#9c179e"
             ],
             [
              0.4444444444444444,
              "#bd3786"
             ],
             [
              0.5555555555555556,
              "#d8576b"
             ],
             [
              0.6666666666666666,
              "#ed7953"
             ],
             [
              0.7777777777777778,
              "#fb9f3a"
             ],
             [
              0.8888888888888888,
              "#fdca26"
             ],
             [
              1,
              "#f0f921"
             ]
            ],
            "type": "heatmapgl"
           }
          ],
          "histogram": [
           {
            "marker": {
             "pattern": {
              "fillmode": "overlay",
              "size": 10,
              "solidity": 0.2
             }
            },
            "type": "histogram"
           }
          ],
          "histogram2d": [
           {
            "colorbar": {
             "outlinewidth": 0,
             "ticks": ""
            },
            "colorscale": [
             [
              0,
              "#0d0887"
             ],
             [
              0.1111111111111111,
              "#46039f"
             ],
             [
              0.2222222222222222,
              "#7201a8"
             ],
             [
              0.3333333333333333,
              "#9c179e"
             ],
             [
              0.4444444444444444,
              "#bd3786"
             ],
             [
              0.5555555555555556,
              "#d8576b"
             ],
             [
              0.6666666666666666,
              "#ed7953"
             ],
             [
              0.7777777777777778,
              "#fb9f3a"
             ],
             [
              0.8888888888888888,
              "#fdca26"
             ],
             [
              1,
              "#f0f921"
             ]
            ],
            "type": "histogram2d"
           }
          ],
          "histogram2dcontour": [
           {
            "colorbar": {
             "outlinewidth": 0,
             "ticks": ""
            },
            "colorscale": [
             [
              0,
              "#0d0887"
             ],
             [
              0.1111111111111111,
              "#46039f"
             ],
             [
              0.2222222222222222,
              "#7201a8"
             ],
             [
              0.3333333333333333,
              "#9c179e"
             ],
             [
              0.4444444444444444,
              "#bd3786"
             ],
             [
              0.5555555555555556,
              "#d8576b"
             ],
             [
              0.6666666666666666,
              "#ed7953"
             ],
             [
              0.7777777777777778,
              "#fb9f3a"
             ],
             [
              0.8888888888888888,
              "#fdca26"
             ],
             [
              1,
              "#f0f921"
             ]
            ],
            "type": "histogram2dcontour"
           }
          ],
          "mesh3d": [
           {
            "colorbar": {
             "outlinewidth": 0,
             "ticks": ""
            },
            "type": "mesh3d"
           }
          ],
          "parcoords": [
           {
            "line": {
             "colorbar": {
              "outlinewidth": 0,
              "ticks": ""
             }
            },
            "type": "parcoords"
           }
          ],
          "pie": [
           {
            "automargin": true,
            "type": "pie"
           }
          ],
          "scatter": [
           {
            "fillpattern": {
             "fillmode": "overlay",
             "size": 10,
             "solidity": 0.2
            },
            "type": "scatter"
           }
          ],
          "scatter3d": [
           {
            "line": {
             "colorbar": {
              "outlinewidth": 0,
              "ticks": ""
             }
            },
            "marker": {
             "colorbar": {
              "outlinewidth": 0,
              "ticks": ""
             }
            },
            "type": "scatter3d"
           }
          ],
          "scattercarpet": [
           {
            "marker": {
             "colorbar": {
              "outlinewidth": 0,
              "ticks": ""
             }
            },
            "type": "scattercarpet"
           }
          ],
          "scattergeo": [
           {
            "marker": {
             "colorbar": {
              "outlinewidth": 0,
              "ticks": ""
             }
            },
            "type": "scattergeo"
           }
          ],
          "scattergl": [
           {
            "marker": {
             "colorbar": {
              "outlinewidth": 0,
              "ticks": ""
             }
            },
            "type": "scattergl"
           }
          ],
          "scattermapbox": [
           {
            "marker": {
             "colorbar": {
              "outlinewidth": 0,
              "ticks": ""
             }
            },
            "type": "scattermapbox"
           }
          ],
          "scatterpolar": [
           {
            "marker": {
             "colorbar": {
              "outlinewidth": 0,
              "ticks": ""
             }
            },
            "type": "scatterpolar"
           }
          ],
          "scatterpolargl": [
           {
            "marker": {
             "colorbar": {
              "outlinewidth": 0,
              "ticks": ""
             }
            },
            "type": "scatterpolargl"
           }
          ],
          "scatterternary": [
           {
            "marker": {
             "colorbar": {
              "outlinewidth": 0,
              "ticks": ""
             }
            },
            "type": "scatterternary"
           }
          ],
          "surface": [
           {
            "colorbar": {
             "outlinewidth": 0,
             "ticks": ""
            },
            "colorscale": [
             [
              0,
              "#0d0887"
             ],
             [
              0.1111111111111111,
              "#46039f"
             ],
             [
              0.2222222222222222,
              "#7201a8"
             ],
             [
              0.3333333333333333,
              "#9c179e"
             ],
             [
              0.4444444444444444,
              "#bd3786"
             ],
             [
              0.5555555555555556,
              "#d8576b"
             ],
             [
              0.6666666666666666,
              "#ed7953"
             ],
             [
              0.7777777777777778,
              "#fb9f3a"
             ],
             [
              0.8888888888888888,
              "#fdca26"
             ],
             [
              1,
              "#f0f921"
             ]
            ],
            "type": "surface"
           }
          ],
          "table": [
           {
            "cells": {
             "fill": {
              "color": "#EBF0F8"
             },
             "line": {
              "color": "white"
             }
            },
            "header": {
             "fill": {
              "color": "#C8D4E3"
             },
             "line": {
              "color": "white"
             }
            },
            "type": "table"
           }
          ]
         },
         "layout": {
          "annotationdefaults": {
           "arrowcolor": "#2a3f5f",
           "arrowhead": 0,
           "arrowwidth": 1
          },
          "autotypenumbers": "strict",
          "coloraxis": {
           "colorbar": {
            "outlinewidth": 0,
            "ticks": ""
           }
          },
          "colorscale": {
           "diverging": [
            [
             0,
             "#8e0152"
            ],
            [
             0.1,
             "#c51b7d"
            ],
            [
             0.2,
             "#de77ae"
            ],
            [
             0.3,
             "#f1b6da"
            ],
            [
             0.4,
             "#fde0ef"
            ],
            [
             0.5,
             "#f7f7f7"
            ],
            [
             0.6,
             "#e6f5d0"
            ],
            [
             0.7,
             "#b8e186"
            ],
            [
             0.8,
             "#7fbc41"
            ],
            [
             0.9,
             "#4d9221"
            ],
            [
             1,
             "#276419"
            ]
           ],
           "sequential": [
            [
             0,
             "#0d0887"
            ],
            [
             0.1111111111111111,
             "#46039f"
            ],
            [
             0.2222222222222222,
             "#7201a8"
            ],
            [
             0.3333333333333333,
             "#9c179e"
            ],
            [
             0.4444444444444444,
             "#bd3786"
            ],
            [
             0.5555555555555556,
             "#d8576b"
            ],
            [
             0.6666666666666666,
             "#ed7953"
            ],
            [
             0.7777777777777778,
             "#fb9f3a"
            ],
            [
             0.8888888888888888,
             "#fdca26"
            ],
            [
             1,
             "#f0f921"
            ]
           ],
           "sequentialminus": [
            [
             0,
             "#0d0887"
            ],
            [
             0.1111111111111111,
             "#46039f"
            ],
            [
             0.2222222222222222,
             "#7201a8"
            ],
            [
             0.3333333333333333,
             "#9c179e"
            ],
            [
             0.4444444444444444,
             "#bd3786"
            ],
            [
             0.5555555555555556,
             "#d8576b"
            ],
            [
             0.6666666666666666,
             "#ed7953"
            ],
            [
             0.7777777777777778,
             "#fb9f3a"
            ],
            [
             0.8888888888888888,
             "#fdca26"
            ],
            [
             1,
             "#f0f921"
            ]
           ]
          },
          "colorway": [
           "#636efa",
           "#EF553B",
           "#00cc96",
           "#ab63fa",
           "#FFA15A",
           "#19d3f3",
           "#FF6692",
           "#B6E880",
           "#FF97FF",
           "#FECB52"
          ],
          "font": {
           "color": "#2a3f5f"
          },
          "geo": {
           "bgcolor": "white",
           "lakecolor": "white",
           "landcolor": "#E5ECF6",
           "showlakes": true,
           "showland": true,
           "subunitcolor": "white"
          },
          "hoverlabel": {
           "align": "left"
          },
          "hovermode": "closest",
          "mapbox": {
           "style": "light"
          },
          "paper_bgcolor": "white",
          "plot_bgcolor": "#E5ECF6",
          "polar": {
           "angularaxis": {
            "gridcolor": "white",
            "linecolor": "white",
            "ticks": ""
           },
           "bgcolor": "#E5ECF6",
           "radialaxis": {
            "gridcolor": "white",
            "linecolor": "white",
            "ticks": ""
           }
          },
          "scene": {
           "xaxis": {
            "backgroundcolor": "#E5ECF6",
            "gridcolor": "white",
            "gridwidth": 2,
            "linecolor": "white",
            "showbackground": true,
            "ticks": "",
            "zerolinecolor": "white"
           },
           "yaxis": {
            "backgroundcolor": "#E5ECF6",
            "gridcolor": "white",
            "gridwidth": 2,
            "linecolor": "white",
            "showbackground": true,
            "ticks": "",
            "zerolinecolor": "white"
           },
           "zaxis": {
            "backgroundcolor": "#E5ECF6",
            "gridcolor": "white",
            "gridwidth": 2,
            "linecolor": "white",
            "showbackground": true,
            "ticks": "",
            "zerolinecolor": "white"
           }
          },
          "shapedefaults": {
           "line": {
            "color": "#2a3f5f"
           }
          },
          "ternary": {
           "aaxis": {
            "gridcolor": "white",
            "linecolor": "white",
            "ticks": ""
           },
           "baxis": {
            "gridcolor": "white",
            "linecolor": "white",
            "ticks": ""
           },
           "bgcolor": "#E5ECF6",
           "caxis": {
            "gridcolor": "white",
            "linecolor": "white",
            "ticks": ""
           }
          },
          "title": {
           "x": 0.05
          },
          "xaxis": {
           "automargin": true,
           "gridcolor": "white",
           "linecolor": "white",
           "ticks": "",
           "title": {
            "standoff": 15
           },
           "zerolinecolor": "white",
           "zerolinewidth": 2
          },
          "yaxis": {
           "automargin": true,
           "gridcolor": "white",
           "linecolor": "white",
           "ticks": "",
           "title": {
            "standoff": 15
           },
           "zerolinecolor": "white",
           "zerolinewidth": 2
          }
         }
        },
        "title": {
         "text": "Logistic Regression Decision Boundary"
        },
        "xaxis": {
         "title": {
          "text": "PC1"
         }
        },
        "yaxis": {
         "title": {
          "text": "PC2"
         }
        }
       }
      }
     },
     "metadata": {},
     "output_type": "display_data"
    }
   ],
   "source": [
    "ClassificationVisualization.visualize(logistic_regression_results)"
   ]
  }
 ],
 "metadata": {
  "kernelspec": {
   "display_name": ".venv",
   "language": "python",
   "name": "python3"
  },
  "language_info": {
   "codemirror_mode": {
    "name": "ipython",
    "version": 3
   },
   "file_extension": ".py",
   "mimetype": "text/x-python",
   "name": "python",
   "nbconvert_exporter": "python",
   "pygments_lexer": "ipython3",
   "version": "3.12.1"
  }
 },
 "nbformat": 4,
 "nbformat_minor": 2
}
